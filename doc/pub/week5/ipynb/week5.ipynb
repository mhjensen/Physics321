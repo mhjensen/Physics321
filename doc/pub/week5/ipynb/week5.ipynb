{
 "cells": [
  {
   "cell_type": "markdown",
   "id": "be8c659f",
   "metadata": {},
   "source": [
    "<!-- HTML file automatically generated from DocOnce source (https://github.com/doconce/doconce/)\n",
    "doconce format html week5.do.txt --no_mako -->\n",
    "<!-- dom:TITLE: PHY321: Work and Energy  and Conservation Theorems -->"
   ]
  },
  {
   "cell_type": "markdown",
   "id": "993dcfa0",
   "metadata": {},
   "source": [
    "# PHY321: Work and Energy  and Conservation Theorems\n",
    "**[Morten Hjorth-Jensen](http://mhjgit.github.io/info/doc/web/)**, Department of Physics and Astronomy and Facility for Rare Isotope Beams (FRIB), Michigan State University, USA\n",
    "\n",
    "Date: **January 30-February 3**"
   ]
  },
  {
   "cell_type": "markdown",
   "id": "58b161f4",
   "metadata": {},
   "source": [
    "## Plans for the week January 30-February 3"
   ]
  },
  {
   "cell_type": "markdown",
   "id": "fb31d1ba",
   "metadata": {},
   "source": [
    "### Monday\n",
    "\n",
    "The work-energy theorem with examples. Discussion of momentum and angular momentum.\n",
    "Reading suggestion: Taylor sections 3.1-3.4 and 4.1-4.3\n",
    "\n",
    "Lecture via zoom only.\n",
    "\n",
    "[Video of lecture](https://youtu.be/H_TuYjM9csk)"
   ]
  },
  {
   "cell_type": "markdown",
   "id": "b749b54d",
   "metadata": {},
   "source": [
    "### Wednesday\n",
    "\n",
    "Examples and conservation of  angular momentum, Taylor sections 3.4 and 3.5. \n",
    "Discussion of exercises 5 and 6. This is also the assignment for Friday's session.\n",
    "\n",
    "Lecture via zoom only."
   ]
  },
  {
   "cell_type": "markdown",
   "id": "72114166",
   "metadata": {},
   "source": [
    "### Friday\n",
    "\n",
    "Solution of exercises and discussion of homework 3. We discuss   exercises 5 and 6 the first 15 min, see end of these slides.\n",
    "\n",
    "If you wish to read more about conservative forces or not, Feynman's lectures from 1963 are quite interesting.\n",
    "He states for example that **All fundamental forces in nature appear to be conservative**.\n",
    "This statement was made while developing his argument that *there are no nonconservative forces*.\n",
    "You may enjoy the link to [Feynman's lecture](http://www.feynmanlectures.caltech.edu/I_14.html)."
   ]
  },
  {
   "cell_type": "markdown",
   "id": "1672b8b6",
   "metadata": {},
   "source": [
    "## Work, Energy, Momentum and Conservation laws\n",
    "\n",
    "The systems we studied the first three weeks have shown us how to use Newton’s laws of\n",
    "motion to determine the motion of an object based on the forces acting\n",
    "on it. For some of the cases there is an underlying assumption that we can find an analytical solution to a continuous problem.\n",
    "With a continuous problem we mean a problem where the various variables can take any value within a finite or infinite interval. \n",
    "\n",
    "Unfortunately, in many cases we\n",
    "cannot find an exact solution to the equations of motion we get from\n",
    "Newton’s second law. The numerical approach, where we discretize the continuous problem, allows us however to study a much richer set of problems.\n",
    "For problems involving Newton's laws and the various equations of motion we encounter, solving the equations numerically, is the standard approach.\n",
    "\n",
    "It allows us to focus on the underlying forces. Often we end up using the same numerical algorithm for different problems.\n",
    "\n",
    "Here we introduce a commonly used technique that allows us to find the\n",
    "velocity as a function of position without finding the position as a\n",
    "function of time—an alternate form of Newton’s second law. The method\n",
    "is based on a simple principle: Instead of solving the equations of\n",
    "motion directly, we integrate the equations of motion. Such a method\n",
    "is called an integration method. \n",
    "\n",
    "This allows us also to introduce the **work-energy** theorem. This\n",
    "theorem allows us to find the velocity as a function of position for\n",
    "an object even in cases when we cannot solve the equations of\n",
    "motion. This introduces us to the concept of work and kinetic energy,\n",
    "an energy related to the motion of an object.\n",
    "\n",
    "And finally, we will link the work-energy theorem with the principle of conservation of energy."
   ]
  },
  {
   "cell_type": "markdown",
   "id": "8e45c999",
   "metadata": {},
   "source": [
    "## The Work-Energy Theorem\n",
    "\n",
    "Let us define the kinetic energy $K$ with a given velocity $\\boldsymbol{v}$"
   ]
  },
  {
   "cell_type": "markdown",
   "id": "e264900c",
   "metadata": {},
   "source": [
    "$$\n",
    "K=\\frac{1}{2}mv^2,\n",
    "$$"
   ]
  },
  {
   "cell_type": "markdown",
   "id": "28419f3b",
   "metadata": {},
   "source": [
    "where $m$ is the mass of the object we are considering.\n",
    "We assume also that there is a force $\\boldsymbol{F}$ acting on the given object"
   ]
  },
  {
   "cell_type": "markdown",
   "id": "31d760b4",
   "metadata": {},
   "source": [
    "$$\n",
    "\\boldsymbol{F}=\\boldsymbol{F}(\\boldsymbol{r},\\boldsymbol{v},t),\n",
    "$$"
   ]
  },
  {
   "cell_type": "markdown",
   "id": "d071ba98",
   "metadata": {},
   "source": [
    "with $\\boldsymbol{r}$ the position and $t$ the time.\n",
    "In general we assume the force is a function of all these variables.\n",
    "Many of the more central forces in Nature however, depende only on the\n",
    "position. Examples are the gravitational force and the force derived\n",
    "from the Coulomb potential in electromagnetism."
   ]
  },
  {
   "cell_type": "markdown",
   "id": "56f4b734",
   "metadata": {},
   "source": [
    "## Rewriting the Kinetic Energy\n",
    "\n",
    "Let us study the derivative of the kinetic energy with respect to time $t$. Its continuous form is"
   ]
  },
  {
   "cell_type": "markdown",
   "id": "584b5909",
   "metadata": {},
   "source": [
    "$$\n",
    "\\frac{dK}{dt}=\\frac{1}{2}m\\frac{d\\boldsymbol{v}\\cdot\\boldsymbol{v}}{dt}.\n",
    "$$"
   ]
  },
  {
   "cell_type": "markdown",
   "id": "8c2fc0e0",
   "metadata": {},
   "source": [
    "Using our results from exercise 3 of homework 1, we can write the derivative of a vector dot product as"
   ]
  },
  {
   "cell_type": "markdown",
   "id": "cd6a4b3c",
   "metadata": {},
   "source": [
    "$$\n",
    "\\frac{dK}{dt}=\\frac{1}{2}m\\frac{d\\boldsymbol{v}\\cdot\\boldsymbol{v}}{dt}= \\frac{1}{2}m\\left(\\frac{d\\boldsymbol{v}}{dt}\\cdot\\boldsymbol{v}+\\boldsymbol{v}\\cdot\\frac{d\\boldsymbol{v}}{dt}\\right)=m\\frac{d\\boldsymbol{v}}{dt}\\cdot\\boldsymbol{v}.\n",
    "$$"
   ]
  },
  {
   "cell_type": "markdown",
   "id": "dc61dc26",
   "metadata": {},
   "source": [
    "We know also that the acceleration is defined as"
   ]
  },
  {
   "cell_type": "markdown",
   "id": "af2c58bd",
   "metadata": {},
   "source": [
    "$$\n",
    "\\boldsymbol{a}=\\frac{\\boldsymbol{F}}{m}=\\frac{d\\boldsymbol{v}}{dt}.\n",
    "$$"
   ]
  },
  {
   "cell_type": "markdown",
   "id": "8b8b13cf",
   "metadata": {},
   "source": [
    "We can then rewrite the equation for the derivative of the kinetic energy as"
   ]
  },
  {
   "cell_type": "markdown",
   "id": "f47eb5f5",
   "metadata": {},
   "source": [
    "$$\n",
    "\\frac{dK}{dt}=m\\frac{d\\boldsymbol{v}}{dt}\\boldsymbol{v}=\\boldsymbol{F}\\frac{d\\boldsymbol{r}}{dt},\n",
    "$$"
   ]
  },
  {
   "cell_type": "markdown",
   "id": "e2bee78f",
   "metadata": {},
   "source": [
    "where we defined the velocity as the derivative of the position with respect to time."
   ]
  },
  {
   "cell_type": "markdown",
   "id": "a18432b0",
   "metadata": {},
   "source": [
    "## Discretizing\n",
    "\n",
    "Let us now discretize the above equation by letting the instantaneous terms be replaced by a discrete quantity, that is\n",
    "we let $dK\\rightarrow \\Delta K$, $dt\\rightarrow \\Delta t$, $d\\boldsymbol{r}\\rightarrow \\Delta \\boldsymbol{r}$ and $d\\boldsymbol{v}\\rightarrow \\Delta \\boldsymbol{v}$.\n",
    "\n",
    "We have then"
   ]
  },
  {
   "cell_type": "markdown",
   "id": "9c70d16c",
   "metadata": {},
   "source": [
    "$$\n",
    "\\frac{\\Delta K}{\\Delta t}=m\\frac{\\Delta \\boldsymbol{v}}{\\Delta t}\\boldsymbol{v}=\\boldsymbol{F}\\frac{\\Delta \\boldsymbol{r}}{\\Delta t},\n",
    "$$"
   ]
  },
  {
   "cell_type": "markdown",
   "id": "d412d183",
   "metadata": {},
   "source": [
    "or by multiplying out $\\Delta t$ we have"
   ]
  },
  {
   "cell_type": "markdown",
   "id": "bf461147",
   "metadata": {},
   "source": [
    "$$\n",
    "\\Delta K=\\boldsymbol{F}\\Delta \\boldsymbol{r}.\n",
    "$$"
   ]
  },
  {
   "cell_type": "markdown",
   "id": "05a9713c",
   "metadata": {},
   "source": [
    "We define this quantity as the **work** done by the force $\\boldsymbol{F}$\n",
    "during the displacement $\\Delta \\boldsymbol{r}$. If we study the dimensionality\n",
    "of this problem we have mass times length squared divided by time\n",
    "squared, or just dimension energy."
   ]
  },
  {
   "cell_type": "markdown",
   "id": "ef28ea18",
   "metadata": {},
   "source": [
    "## Difference in kinetic energy\n",
    "\n",
    "If we now define a series of such displacements $\\Delta\\boldsymbol{r}$ we have a difference in kinetic energy at a final position $\\boldsymbol{r}_n$ and an \n",
    "initial position $\\boldsymbol{r}_0$ given by"
   ]
  },
  {
   "cell_type": "markdown",
   "id": "5374a57d",
   "metadata": {},
   "source": [
    "$$\n",
    "\\Delta K=\\frac{1}{2}mv_n^2-\\frac{1}{2}mv_0^2=\\sum_{i=0}^n\\boldsymbol{F}_i\\Delta \\boldsymbol{r},\n",
    "$$"
   ]
  },
  {
   "cell_type": "markdown",
   "id": "cbdd3f84",
   "metadata": {},
   "source": [
    "where $\\boldsymbol{F}_i$ are the forces acting at every position $\\boldsymbol{r}_i$.\n",
    "\n",
    "The work done by acting with a force on a set of displacements can\n",
    "then be as expressed as the difference between the initial and final\n",
    "kinetic energies.\n",
    "\n",
    "This defines the **work-energy** theorem."
   ]
  },
  {
   "cell_type": "markdown",
   "id": "2c512b82",
   "metadata": {},
   "source": [
    "## From the discrete version to the continuous version\n",
    "\n",
    "If we take the limit $\\Delta \\boldsymbol{r}\\rightarrow 0$, we can rewrite the sum over the various displacements in terms of an integral, that is"
   ]
  },
  {
   "cell_type": "markdown",
   "id": "21eb73e1",
   "metadata": {},
   "source": [
    "$$\n",
    "\\Delta K=\\frac{1}{2}mv_n^2-\\frac{1}{2}mv_0^2=\\sum_{i=0}^n\\boldsymbol{F}_i\\Delta \\boldsymbol{r}\\rightarrow \\int_{\\boldsymbol{r}_0}^{\\boldsymbol{r}_n}\\boldsymbol{F}(\\boldsymbol{r},\\boldsymbol{v},t)d\\boldsymbol{r}.\n",
    "$$"
   ]
  },
  {
   "cell_type": "markdown",
   "id": "c6fd7e6f",
   "metadata": {},
   "source": [
    "This integral defines a path integral since it will depend on the given path we take between the two end points. We will replace the limits with the symbol $c$ in order to indicate that we take a specific countour in space when the force acts on the system. That is the work $W_{n0}$ between two points $\\boldsymbol{r}_n$ and $\\boldsymbol{r}_0$ is labeled as"
   ]
  },
  {
   "cell_type": "markdown",
   "id": "faa29886",
   "metadata": {},
   "source": [
    "$$\n",
    "W_{n0}=\\frac{1}{2}mv_n^2-\\frac{1}{2}mv_0^2=\\int_{c}\\boldsymbol{F}(\\boldsymbol{r},\\boldsymbol{v},t)d\\boldsymbol{r}.\n",
    "$$"
   ]
  },
  {
   "cell_type": "markdown",
   "id": "621b350f",
   "metadata": {},
   "source": [
    "Note that if the force is perpendicular to the displacement, then the force does not affect the kinetic energy.\n",
    "\n",
    "Let us now study some examples of forces and how to find the velocity from the integration over a given path.\n",
    "\n",
    "Thereafter we study how to  evaluate an integral numerically."
   ]
  },
  {
   "cell_type": "markdown",
   "id": "f2361cd0",
   "metadata": {},
   "source": [
    "## Studying the Work-energy Theorem numerically\n",
    "\n",
    "In order to study the work- energy, we will normally need to perform\n",
    "a numerical integration, unless we can integrate analytically. Here we\n",
    "present some of the simpler  methods such as the **rectangle** rule, the **trapezoidal** rule and higher-order methods like the Simpson family of methods."
   ]
  },
  {
   "cell_type": "markdown",
   "id": "e7e76107",
   "metadata": {},
   "source": [
    "## Example of an Electron moving along a Surface\n",
    "\n",
    "As an example, let us consider the following case.\n",
    "We have  classical electron which moves in the $x$-direction along a surface. The force from the surface is"
   ]
  },
  {
   "cell_type": "markdown",
   "id": "ecf6ec41",
   "metadata": {},
   "source": [
    "$$\n",
    "\\boldsymbol{F}(x)=-F_0\\sin{(\\frac{2\\pi x}{b})}\\boldsymbol{e}_1.\n",
    "$$"
   ]
  },
  {
   "cell_type": "markdown",
   "id": "94d4a803",
   "metadata": {},
   "source": [
    "The constant $b$ represents the distance between atoms at the surface of the material, $F_0$ is a constant and $x$ is the position of the electron.\n",
    "\n",
    "Using the work-energy theorem we can find the work $W$ done when moving an electron from a position $x_0$ to a final position $x$ through the\n",
    " integral"
   ]
  },
  {
   "cell_type": "markdown",
   "id": "c3f9d138",
   "metadata": {},
   "source": [
    "$$\n",
    "W=\\int_{x_0}^x \\boldsymbol{F}(x')dx' =  -\\int_{x_0}^x F_0\\sin{(\\frac{2\\pi x'}{b})} dx',\n",
    "$$"
   ]
  },
  {
   "cell_type": "markdown",
   "id": "4c8d9b97",
   "metadata": {},
   "source": [
    "which results in"
   ]
  },
  {
   "cell_type": "markdown",
   "id": "66961507",
   "metadata": {},
   "source": [
    "$$\n",
    "W=\\frac{F_0b}{2\\pi}\\left[\\cos{(\\frac{2\\pi x}{b})}-\\cos{(\\frac{2\\pi x_0}{b})}\\right].\n",
    "$$"
   ]
  },
  {
   "cell_type": "markdown",
   "id": "539a3a22",
   "metadata": {},
   "source": [
    "## Finding the Velocity\n",
    "\n",
    "If we now use the work-energy theorem we can find the the velocity at a final position $x$ by setting up\n",
    "the differences in kinetic energies between the final position and the initial position $x_0$.\n",
    "\n",
    "We have that the work done by the force is given by the difference in kinetic energies as"
   ]
  },
  {
   "cell_type": "markdown",
   "id": "631a5dc1",
   "metadata": {},
   "source": [
    "$$\n",
    "W=\\frac{1}{2}m\\left(v^2(x)-v^2(x_0)\\right)=\\frac{F_0b}{2\\pi}\\left[\\cos{(\\frac{2\\pi x}{b})}-\\cos{(\\frac{2\\pi x_0}{b})}\\right],\n",
    "$$"
   ]
  },
  {
   "cell_type": "markdown",
   "id": "57b5a14f",
   "metadata": {},
   "source": [
    "and labeling $v(x_0)=v_0$ (and assuming we know the initial velocity) we have"
   ]
  },
  {
   "cell_type": "markdown",
   "id": "2ff17dea",
   "metadata": {},
   "source": [
    "$$\n",
    "v(x)=\\pm \\sqrt{v_0^2+\\frac{F_0b}{m\\pi}\\left[\\cos{(\\frac{2\\pi x}{b})}-\\cos{(\\frac{2\\pi x_0}{b})}\\right]},\n",
    "$$"
   ]
  },
  {
   "cell_type": "markdown",
   "id": "14b3a304",
   "metadata": {},
   "source": [
    "Choosing $x_0=0$m and $v_0=0$m/s we can simplify the above equation to"
   ]
  },
  {
   "cell_type": "markdown",
   "id": "8665e372",
   "metadata": {},
   "source": [
    "$$\n",
    "v(x)=\\pm \\sqrt{\\frac{F_0b}{m\\pi}\\left[\\cos{(\\frac{2\\pi x}{b})}-1\\right]},\n",
    "$$"
   ]
  },
  {
   "cell_type": "markdown",
   "id": "155bfd26",
   "metadata": {},
   "source": [
    "## Harmonic Oscillations\n",
    "\n",
    "Another well-known force (and we will derive when we come to Harmonic\n",
    "Oscillations) is the case of a sliding block attached to a wall\n",
    "through a spring. The block is attached to a spring with spring\n",
    "constant $k$. The other end of the spring is attached to the wall at\n",
    "the origin $x=0$.  We assume the spring has an equilibrium length\n",
    "$L_0$.\n",
    "\n",
    "The force $F_x$ from the spring on the block is then"
   ]
  },
  {
   "cell_type": "markdown",
   "id": "cf9b2bca",
   "metadata": {},
   "source": [
    "$$\n",
    "F_x=-k(x-L_0).\n",
    "$$"
   ]
  },
  {
   "cell_type": "markdown",
   "id": "1a4b4eef",
   "metadata": {},
   "source": [
    "The position $x$ where the spring force is zero is called the equilibrium position. In our case this is\n",
    "$x=L_0$.\n",
    "\n",
    "We can now compute the work done by this force when we move our block from an initial position $x_0$ to a final position $x$"
   ]
  },
  {
   "cell_type": "markdown",
   "id": "66868af6",
   "metadata": {},
   "source": [
    "$$\n",
    "W=\\int_{x_0}^{x}F_xdx'=-k\\int_{x_0}^{x}(x'-L_0)dx'=\\frac{1}{2}k(x_0-L_0)^2-\\frac{1}{2}k(x-L_0)^2.\n",
    "$$"
   ]
  },
  {
   "cell_type": "markdown",
   "id": "f5f4278c",
   "metadata": {},
   "source": [
    "If we now bring back the definition of the work-energy theorem in terms of the kinetic energy we have"
   ]
  },
  {
   "cell_type": "markdown",
   "id": "2d9bdca8",
   "metadata": {},
   "source": [
    "$$\n",
    "W=\\frac{1}{2}mv^2(x)-\\frac{1}{2}mv_0^2=\\frac{1}{2}k(x_0-L_0)^2-\\frac{1}{2}k(x-L_0)^2,\n",
    "$$"
   ]
  },
  {
   "cell_type": "markdown",
   "id": "dfa15897",
   "metadata": {},
   "source": [
    "which we rewrite as"
   ]
  },
  {
   "cell_type": "markdown",
   "id": "cd243309",
   "metadata": {},
   "source": [
    "$$\n",
    "\\frac{1}{2}mv^2(x)+\\frac{1}{2}k(x-L_0)^2=\\frac{1}{2}mv_0^2+\\frac{1}{2}k(x_0-L_0)^2.\n",
    "$$"
   ]
  },
  {
   "cell_type": "markdown",
   "id": "d611a0a7",
   "metadata": {},
   "source": [
    "What does this mean? The total energy, which is the sum of potential and kinetic energy, is conserved.\n",
    "Wow, this sounds interesting. We will analyze this next week in more detail when we study energy, momentum and angular momentum conservation."
   ]
  },
  {
   "cell_type": "markdown",
   "id": "bcb87084",
   "metadata": {},
   "source": [
    "## Work-Energy Theorem and Energy Conservation\n",
    "\n",
    "We have made the observation that energy was conserved for a force which\n",
    "depends only on the position.\n",
    "In particular we considered a force acting on a block \n",
    "attached to a spring with a so-called spring\n",
    "constant $k$. The other end of the spring was attached to the wall.  \n",
    "\n",
    "The force $F_x$ from the spring on the block was defined as"
   ]
  },
  {
   "cell_type": "markdown",
   "id": "2c598227",
   "metadata": {},
   "source": [
    "$$\n",
    "F_x=-kx.\n",
    "$$"
   ]
  },
  {
   "cell_type": "markdown",
   "id": "1249daf7",
   "metadata": {},
   "source": [
    "The work done on the block due to a displacement from a position $x_0$ to $x$"
   ]
  },
  {
   "cell_type": "markdown",
   "id": "73337543",
   "metadata": {},
   "source": [
    "$$\n",
    "W=\\int_{x_0}^{x}F_xdx'=\\frac{1}{2}kx_0^2-\\frac{1}{2}kx^2.\n",
    "$$"
   ]
  },
  {
   "cell_type": "markdown",
   "id": "5ab19bbf",
   "metadata": {},
   "source": [
    "## Conservation of energy\n",
    "With the definition of the work-energy theorem in terms of the kinetic energy we obtained"
   ]
  },
  {
   "cell_type": "markdown",
   "id": "ebe04644",
   "metadata": {},
   "source": [
    "$$\n",
    "W=\\frac{1}{2}mv^2(x)-\\frac{1}{2}mv_0^2=\\frac{1}{2}kx_0^2-\\frac{1}{2}kx^2,\n",
    "$$"
   ]
  },
  {
   "cell_type": "markdown",
   "id": "e1bc0811",
   "metadata": {},
   "source": [
    "which we rewrote as"
   ]
  },
  {
   "cell_type": "markdown",
   "id": "b7bad5a0",
   "metadata": {},
   "source": [
    "$$\n",
    "\\frac{1}{2}mv^2(x)+\\frac{1}{2}kx^2=\\frac{1}{2}mv_0^2+\\frac{1}{2}kx_0^2.\n",
    "$$"
   ]
  },
  {
   "cell_type": "markdown",
   "id": "fadcbf22",
   "metadata": {},
   "source": [
    "The total energy, which is the sum of potential and kinetic energy, is conserved.\n",
    "We will analyze this interesting result now in more detail when we study energy, momentum and angular momentum conservation.\n",
    "\n",
    "But before we start with energy conservation, conservative forces and potential energies, we need to revisit our definitions of momentum and angular momentum."
   ]
  },
  {
   "cell_type": "markdown",
   "id": "58614f15",
   "metadata": {},
   "source": [
    "## What is a Conservative Force?\n",
    "\n",
    "A conservative force is a force whose property is that the total work\n",
    "done in moving an object between two points is independent of the\n",
    "taken path. This means that the work on an object under the influence\n",
    "of a conservative force, is independent on the path of the object. It\n",
    "depends only on the spatial degrees of freedom and it is possible to\n",
    "assign a numerical value for the potential at any point. It leads to\n",
    "conservation of energy. The gravitational force is an example of a\n",
    "conservative force."
   ]
  },
  {
   "cell_type": "markdown",
   "id": "02511659",
   "metadata": {},
   "source": [
    "## Two important conditions\n",
    "\n",
    "First, a conservative force depends only on the spatial degrees of freedom. This is a necessary condition for obtaining a path integral which is independent of path.\n",
    "The  important condition for the final work to be independent of the path is that the **curl** of the force is zero, that"
   ]
  },
  {
   "cell_type": "markdown",
   "id": "7908837d",
   "metadata": {},
   "source": [
    "$$\n",
    "\\boldsymbol{\\nabla} \\times \\boldsymbol{F}=0\n",
    "$$"
   ]
  },
  {
   "cell_type": "markdown",
   "id": "b49e3f0c",
   "metadata": {},
   "source": [
    "## Work-energy theorem to show that energy is conserved with a conservative force\n",
    "\n",
    "The work-energy theorem states that the work done $W$ by a force $\\boldsymbol{F}$ that moves an object from a position $\\boldsymbol{r}_0$ to a new position $\\boldsymbol{r}_1$"
   ]
  },
  {
   "cell_type": "markdown",
   "id": "6b986e19",
   "metadata": {},
   "source": [
    "$$\n",
    "W=\\int_{\\boldsymbol{r}_0}^{\\boldsymbol{r}_1}\\boldsymbol{F}\\boldsymbol{dr}=\\frac{1}{2}mv_1^2-\\frac{1}{2}mv_0^2,\n",
    "$$"
   ]
  },
  {
   "cell_type": "markdown",
   "id": "768b7cc8",
   "metadata": {},
   "source": [
    "where $v_1^2$ is the velocity squared at a time $t_1$ and $v_0^2$ the corresponding quantity at a time $t_0$.\n",
    "The work done is thus the difference in kinetic energies. We can rewrite the above equation as"
   ]
  },
  {
   "cell_type": "markdown",
   "id": "137fbf17",
   "metadata": {},
   "source": [
    "$$\n",
    "\\frac{1}{2}mv_1^2=\\int_{\\boldsymbol{r}_0}^{\\boldsymbol{r}_1}\\boldsymbol{F}\\boldsymbol{dr}+\\frac{1}{2}mv_0^2,\n",
    "$$"
   ]
  },
  {
   "cell_type": "markdown",
   "id": "349fd30d",
   "metadata": {},
   "source": [
    "that is the final kinetic energy is equal to the initial kinetic energy plus the work done by the force over a given path from a  position $\\boldsymbol{r}_0$ at time $t_0$ to a final position position $\\boldsymbol{r}_1$ at a later time $t_1$."
   ]
  },
  {
   "cell_type": "markdown",
   "id": "12815feb",
   "metadata": {},
   "source": [
    "## Conservation of Momentum\n",
    "\n",
    "Before we move on however, we need to remind ourselves about important aspects like the linear momentum and angular momentum. After these considerations, we move back to more details about conservatives forces.\n",
    "\n",
    "Assume we have $N$ objects, each with velocity $\\boldsymbol{v}_i$ with\n",
    "$i=1,2,\\dots,N$ and mass $m_i$. The momentum of each object is\n",
    "$\\boldsymbol{p}_i=m\\boldsymbol{v}_i$ and the total linear (or mechanical) momentum is\n",
    "defined as"
   ]
  },
  {
   "cell_type": "markdown",
   "id": "c90ad3af",
   "metadata": {},
   "source": [
    "$$\n",
    "\\boldsymbol{P}=\\sum_{i=1}^N\\boldsymbol{p}_i=\\sum_{i=1}^Nm_i\\boldsymbol{v}_i,\n",
    "$$"
   ]
  },
  {
   "cell_type": "markdown",
   "id": "cdfcc87f",
   "metadata": {},
   "source": [
    "## Two objects first\n",
    "\n",
    "Let us assume we have two objects only that interact with each other and are influenced by an external force.\n",
    "\n",
    "We define also the total net force acting on object 1 as"
   ]
  },
  {
   "cell_type": "markdown",
   "id": "4f7ac428",
   "metadata": {},
   "source": [
    "$$\n",
    "\\boldsymbol{F}_1^{\\mathrm{net}}=\\boldsymbol{F}_1^{\\mathrm{ext}}+\\boldsymbol{F}_{12},\n",
    "$$"
   ]
  },
  {
   "cell_type": "markdown",
   "id": "dfb19131",
   "metadata": {},
   "source": [
    "where $\\boldsymbol{F}_1^{\\mathrm{ext}}$ is the external force\n",
    "(for example the force due to an electron moving in an electromagnetic field) and $\\boldsymbol{F}_{12}$ is the\n",
    "force between object one and two. Similarly for object 2 we have"
   ]
  },
  {
   "cell_type": "markdown",
   "id": "85f963bf",
   "metadata": {},
   "source": [
    "$$\n",
    "\\boldsymbol{F}_2^{\\mathrm{net}}=\\boldsymbol{F}_2^{\\mathrm{ext}}+\\boldsymbol{F}_{21}.\n",
    "$$"
   ]
  },
  {
   "cell_type": "markdown",
   "id": "212c3206",
   "metadata": {},
   "source": [
    "## Newton's Third Law\n",
    "\n",
    "Newton's third law which we met earlier states that **for every action there is an equal and opposite reaction**.\n",
    "It is more accurately stated as\n",
    "\n",
    "**if two bodies exert forces on each other, these forces are equal in magnitude and opposite in direction**.\n",
    "\n",
    "This means that for two bodies $i$ and $j$, if the force on $i$ due to $j$ is called $\\boldsymbol{F}_{ij}$, then"
   ]
  },
  {
   "cell_type": "markdown",
   "id": "669d9b40",
   "metadata": {},
   "source": [
    "<!-- Equation labels as ordinary links -->\n",
    "<div id=\"_auto1\"></div>\n",
    "\n",
    "$$\n",
    "\\begin{equation}\n",
    "\\boldsymbol{F}_{ij}=-\\boldsymbol{F}_{ji}. \n",
    "\\label{_auto1} \\tag{1}\n",
    "\\end{equation}\n",
    "$$"
   ]
  },
  {
   "cell_type": "markdown",
   "id": "e13cab16",
   "metadata": {},
   "source": [
    "For the abovementioned two objects we have thus $\\boldsymbol{F}_{12}=-\\boldsymbol{F}_{21}$."
   ]
  },
  {
   "cell_type": "markdown",
   "id": "9a1be6b7",
   "metadata": {},
   "source": [
    "## Newton's Second Law and Momentum\n",
    "\n",
    "With the net forces acting on each object we can now related the momentum to the forces via"
   ]
  },
  {
   "cell_type": "markdown",
   "id": "91aeed7d",
   "metadata": {},
   "source": [
    "$$\n",
    "\\boldsymbol{F}_1^{\\mathrm{net}}=m_1\\boldsymbol{a}_i=m_1\\frac{d\\boldsymbol{v}_1}{dt}=\\boldsymbol{F}_1^{\\mathrm{ext}}+\\boldsymbol{F}_{12},\n",
    "$$"
   ]
  },
  {
   "cell_type": "markdown",
   "id": "fb905ca9",
   "metadata": {},
   "source": [
    "and"
   ]
  },
  {
   "cell_type": "markdown",
   "id": "0108cef1",
   "metadata": {},
   "source": [
    "$$\n",
    "\\boldsymbol{F}_2^{\\mathrm{net}}=m_2\\boldsymbol{a}_2=m_2\\frac{d\\boldsymbol{v}_2}{dt}=\\boldsymbol{F}_2^{\\mathrm{ext}}+\\boldsymbol{F}_{21}.\n",
    "$$"
   ]
  },
  {
   "cell_type": "markdown",
   "id": "d5c3e990",
   "metadata": {},
   "source": [
    "Recalling our definition for the linear momentum we have then"
   ]
  },
  {
   "cell_type": "markdown",
   "id": "131947e2",
   "metadata": {},
   "source": [
    "$$\n",
    "\\frac{d\\boldsymbol{p}_1}{dt}=\\boldsymbol{F}_1^{\\mathrm{ext}}+\\boldsymbol{F}_{12},\n",
    "$$"
   ]
  },
  {
   "cell_type": "markdown",
   "id": "30f74c14",
   "metadata": {},
   "source": [
    "and"
   ]
  },
  {
   "cell_type": "markdown",
   "id": "0ffc71d8",
   "metadata": {},
   "source": [
    "$$\n",
    "\\frac{d\\boldsymbol{p}_2}{dt}=\\boldsymbol{F}_2^{\\mathrm{ext}}+\\boldsymbol{F}_{21}.\n",
    "$$"
   ]
  },
  {
   "cell_type": "markdown",
   "id": "1046b977",
   "metadata": {},
   "source": [
    "## The total Momentum\n",
    "\n",
    "The total momentum $\\boldsymbol{P}$ is defined as the sum of the individual momenta, meaning that we can rewrite"
   ]
  },
  {
   "cell_type": "markdown",
   "id": "dc9cf311",
   "metadata": {},
   "source": [
    "$$\n",
    "\\boldsymbol{F}_1^{\\mathrm{net}}+\\boldsymbol{F}_2^{\\mathrm{net}}=\\frac{d\\boldsymbol{p}_1}{dt}+\\frac{d\\boldsymbol{p}_2}{dt}=\\frac{d\\boldsymbol{P}}{dt},\n",
    "$$"
   ]
  },
  {
   "cell_type": "markdown",
   "id": "7fa20755",
   "metadata": {},
   "source": [
    "that is the derivate with respect to time of the total momentum. If we now\n",
    "write the net forces as sums of the external plus internal forces\n",
    "between the objects we have"
   ]
  },
  {
   "cell_type": "markdown",
   "id": "4017ea16",
   "metadata": {},
   "source": [
    "$$\n",
    "\\frac{d\\boldsymbol{P}}{dt}=\\boldsymbol{F}_1^{\\mathrm{ext}}+\\boldsymbol{F}_{12}+\\boldsymbol{F}_2^{\\mathrm{ext}}+\\boldsymbol{F}_{21}=\\boldsymbol{F}_1^{\\mathrm{ext}}+\\boldsymbol{F}_2^{\\mathrm{ext}}.\n",
    "$$"
   ]
  },
  {
   "cell_type": "markdown",
   "id": "c01f89e6",
   "metadata": {},
   "source": [
    "The derivative of the total momentum is just **the sum of the external\n",
    "forces**. If we assume that the external forces are zero and that only\n",
    "internal (here two-body forces) are at play, we obtain the important\n",
    "result that the derivative of the total momentum is zero. This means\n",
    "again that the total momentum is a constant of the motion and\n",
    "conserved quantity. This is a very important result that we will use\n",
    "in many applications to come."
   ]
  },
  {
   "cell_type": "markdown",
   "id": "8e19653b",
   "metadata": {},
   "source": [
    "## Newton's Second Law\n",
    "\n",
    "Let us now general to several objects $N$ and let us also assume that there are no external forces. We will label such a system as **an isolated system**. \n",
    "\n",
    "Newton's second law, $\\boldsymbol{F}=m\\boldsymbol{a}$, can be written for a particle $i$ as"
   ]
  },
  {
   "cell_type": "markdown",
   "id": "35255bfa",
   "metadata": {},
   "source": [
    "<!-- Equation labels as ordinary links -->\n",
    "<div id=\"_auto2\"></div>\n",
    "\n",
    "$$\n",
    "\\begin{equation}\n",
    "\\boldsymbol{F}_i=\\sum_{j\\ne i}^N \\boldsymbol{F}_{ij}=m_i\\boldsymbol{a}_i,\n",
    "\\label{_auto2} \\tag{2}\n",
    "\\end{equation}\n",
    "$$"
   ]
  },
  {
   "cell_type": "markdown",
   "id": "8edf5d6f",
   "metadata": {},
   "source": [
    "where $\\boldsymbol{F}_i$ (a single subscript) denotes the net force acting on $i$ from the other objects/particles.\n",
    "Because the mass of $i$ is fixed and we assume it does not change with time, one can see that"
   ]
  },
  {
   "cell_type": "markdown",
   "id": "addbd735",
   "metadata": {},
   "source": [
    "<!-- Equation labels as ordinary links -->\n",
    "<div id=\"_auto3\"></div>\n",
    "\n",
    "$$\n",
    "\\begin{equation}\n",
    "\\boldsymbol{F}_i=\\frac{d}{dt}m_i\\boldsymbol{v}_i=\\sum_{j\\ne i}^N\\boldsymbol{F}_{ij}.\n",
    "\\label{_auto3} \\tag{3}\n",
    "\\end{equation}\n",
    "$$"
   ]
  },
  {
   "cell_type": "markdown",
   "id": "70b14b41",
   "metadata": {},
   "source": [
    "## Summing over all Objects/Particles\n",
    "\n",
    "Now, one can sum over all the objects/particles and obtain"
   ]
  },
  {
   "cell_type": "markdown",
   "id": "cc21aee8",
   "metadata": {},
   "source": [
    "$$\n",
    "\\frac{d}{dt}\\sum_i m_iv_i=\\sum_{ij, i\\ne j}^N\\boldsymbol{F}_{ij}=0.\n",
    "$$"
   ]
  },
  {
   "cell_type": "markdown",
   "id": "1b2a6f92",
   "metadata": {},
   "source": [
    "How did we arrive at the last step?  We rewrote the double sum as"
   ]
  },
  {
   "cell_type": "markdown",
   "id": "2e38b967",
   "metadata": {},
   "source": [
    "$$\n",
    "\\sum_{ij, i\\ne j}^N\\boldsymbol{F}_{ij}=\\sum_i^N\\sum_{j>i}\\left(\\boldsymbol{F}_{ij}+\\boldsymbol{F}_{ji}\\right),\n",
    "$$"
   ]
  },
  {
   "cell_type": "markdown",
   "id": "93138dc9",
   "metadata": {},
   "source": [
    "and using Newton's third law which states that\n",
    "$\\boldsymbol{F}_{ij}=-\\boldsymbol{F}_{ji}$, we obtain that the net sum over all  the two-particle\n",
    "forces is zero when we only consider so-called **internal forces**.\n",
    "Stated differently, the last step made use of the fact that for every\n",
    "term $ij$, there is an equivalent term $ji$ with opposite\n",
    "force. Because the momentum is defined as $m\\boldsymbol{v}$, for a system of\n",
    "particles, we have thus"
   ]
  },
  {
   "cell_type": "markdown",
   "id": "72f39cff",
   "metadata": {},
   "source": [
    "<!-- Equation labels as ordinary links -->\n",
    "<div id=\"_auto4\"></div>\n",
    "\n",
    "$$\n",
    "\\begin{equation}\n",
    "\\frac{d}{dt}\\sum_im_i\\boldsymbol{v}_i=0,~~{\\rm for~isolated~particles}.\n",
    "\\label{_auto4} \\tag{4}\n",
    "\\end{equation}\n",
    "$$"
   ]
  },
  {
   "cell_type": "markdown",
   "id": "66f1be5a",
   "metadata": {},
   "source": [
    "## Conservation of total Momentum\n",
    "\n",
    "By \"isolated\" one means that the only force acting on any particle $i$\n",
    "are those originating from other particles in the sum, i.e. \"no\n",
    "external\" forces. Thus, Newton's third law leads to the conservation\n",
    "of total momentum,"
   ]
  },
  {
   "cell_type": "markdown",
   "id": "72e31d21",
   "metadata": {},
   "source": [
    "$$\n",
    "\\boldsymbol{P}=\\sum_i m_i\\boldsymbol{v}_i,\n",
    "$$"
   ]
  },
  {
   "cell_type": "markdown",
   "id": "c0a1b66b",
   "metadata": {},
   "source": [
    "and we have"
   ]
  },
  {
   "cell_type": "markdown",
   "id": "e66a9b93",
   "metadata": {},
   "source": [
    "$$\n",
    "\\frac{d}{dt}\\boldsymbol{P}=0.\n",
    "$$"
   ]
  },
  {
   "cell_type": "markdown",
   "id": "80bdab2b",
   "metadata": {},
   "source": [
    "## Example: Rocket Science\n",
    "\n",
    "Consider a rocket of mass $M$ moving with velocity $v$. After a\n",
    "brief instant, the velocity of the rocket is $v+\\Delta v$ and the mass\n",
    "is $M-\\Delta M$. Momentum conservation gives"
   ]
  },
  {
   "cell_type": "markdown",
   "id": "2fe283bb",
   "metadata": {},
   "source": [
    "$$\n",
    "\\begin{eqnarray*}\n",
    "Mv&=&(M-\\Delta M)(v+\\Delta v)+\\Delta M(v-v_e)\\\\\n",
    "0&=&-\\Delta Mv+M\\Delta v+\\Delta M(v-v_e),\\\\\n",
    "0&=&M\\Delta v-\\Delta Mv_e.\n",
    "\\end{eqnarray*}\n",
    "$$"
   ]
  },
  {
   "cell_type": "markdown",
   "id": "99e5c0d9",
   "metadata": {},
   "source": [
    "In the second step we ignored the term $\\Delta M\\Delta v$ because it is doubly small. The last equation gives"
   ]
  },
  {
   "cell_type": "markdown",
   "id": "8b740c78",
   "metadata": {},
   "source": [
    "$$\n",
    "\\begin{eqnarray}\n",
    "\\Delta v&=&\\frac{v_e}{M}\\Delta M,\\\\\n",
    "\\nonumber\n",
    "\\frac{dv}{dt}&=&\\frac{v_e}{M}\\frac{dM}{dt}.\n",
    "\\end{eqnarray}\n",
    "$$"
   ]
  },
  {
   "cell_type": "markdown",
   "id": "dc4df287",
   "metadata": {},
   "source": [
    "## Integrating the Equations\n",
    "\n",
    "Integrating the expression with lower limits $v_0=0$ and $M_0$, one finds"
   ]
  },
  {
   "cell_type": "markdown",
   "id": "23ece9b7",
   "metadata": {},
   "source": [
    "$$\n",
    "\\begin{eqnarray*}\n",
    "v&=&v_e\\int_{M_0}^M \\frac{dM'}{M'}\\\\\n",
    "v&=&v_e\\ln(M/M_0)\\\\\n",
    "&=&v_e\\ln[(M_0-\\alpha t)/M_0].\n",
    "\\end{eqnarray*}\n",
    "$$"
   ]
  },
  {
   "cell_type": "markdown",
   "id": "77de6392",
   "metadata": {},
   "source": [
    "Because the total momentum of an isolated system is constant, one can\n",
    "also quickly see that the center of mass of an isolated system is also\n",
    "constant. The center of mass is the average position of a set of\n",
    "masses weighted by the mass,"
   ]
  },
  {
   "cell_type": "markdown",
   "id": "03c4da12",
   "metadata": {},
   "source": [
    "<!-- Equation labels as ordinary links -->\n",
    "<div id=\"_auto5\"></div>\n",
    "\n",
    "$$\n",
    "\\begin{equation}\n",
    "\\bar{x}=\\frac{\\sum_im_ix_i}{\\sum_i m_i}.\n",
    "\\label{_auto5} \\tag{5}\n",
    "\\end{equation}\n",
    "$$"
   ]
  },
  {
   "cell_type": "markdown",
   "id": "4286e66f",
   "metadata": {},
   "source": [
    "## Rate of Change\n",
    "\n",
    "The rate of change of $\\bar{x}$ is"
   ]
  },
  {
   "cell_type": "markdown",
   "id": "bc36060a",
   "metadata": {},
   "source": [
    "$$\n",
    "\\dot{\\bar{x}}=\\frac{1}{M}\\sum_i m_i\\dot{x}_i=\\frac{1}{M}P_x.\n",
    "$$"
   ]
  },
  {
   "cell_type": "markdown",
   "id": "124becb0",
   "metadata": {},
   "source": [
    "Thus if the total momentum is constant the center of mass moves at a\n",
    "constant velocity, and if the total momentum is zero the center of\n",
    "mass is fixed."
   ]
  },
  {
   "cell_type": "markdown",
   "id": "51bf34d2",
   "metadata": {},
   "source": [
    "## Conservation of Angular Momentum\n",
    "\n",
    "The angular momentum is defined as"
   ]
  },
  {
   "cell_type": "markdown",
   "id": "b83ab5c4",
   "metadata": {},
   "source": [
    "<!-- Equation labels as ordinary links -->\n",
    "<div id=\"_auto6\"></div>\n",
    "\n",
    "$$\n",
    "\\begin{equation}\n",
    "\\boldsymbol{L}=\\boldsymbol{r}\\times\\boldsymbol{p}=m\\boldsymbol{r}\\times\\boldsymbol{v}.\n",
    "\\label{_auto6} \\tag{6}\n",
    "\\end{equation}\n",
    "$$"
   ]
  },
  {
   "cell_type": "markdown",
   "id": "c1ffc2b5",
   "metadata": {},
   "source": [
    "It means that the angular momentum is perpendicular to the plane defined by position $\\boldsymbol{r}$ and the momentum $\\boldsymbol{p}$ via $\\boldsymbol{r}\\times \\boldsymbol{p}$."
   ]
  },
  {
   "cell_type": "markdown",
   "id": "222368c0",
   "metadata": {},
   "source": [
    "## Rate of Change of Angular Momentum\n",
    "\n",
    "The rate of change of the angular momentum is"
   ]
  },
  {
   "cell_type": "markdown",
   "id": "00b5327f",
   "metadata": {},
   "source": [
    "$$\n",
    "\\frac{d\\boldsymbol{L}}{dt}=m\\boldsymbol{v}\\times\\boldsymbol{v}+m\\boldsymbol{r}\\times\\dot{\\boldsymbol{v}}=\\boldsymbol{r}\\times{\\boldsymbol{F}}\n",
    "$$"
   ]
  },
  {
   "cell_type": "markdown",
   "id": "d49a2ed2",
   "metadata": {},
   "source": [
    "The first term is zero because $\\boldsymbol{v}$ is parallel to itself, and the\n",
    "second term defines the so-called torque. If $\\boldsymbol{F}$ is parallel to $\\boldsymbol{r}$ then the torque is zero and we say that angular momentum is conserved.\n",
    "\n",
    "If the force is not radial, $\\boldsymbol{r}\\times\\boldsymbol{F}\\ne 0$ as above, and angular momentum is no longer conserved,"
   ]
  },
  {
   "cell_type": "markdown",
   "id": "c27f5a10",
   "metadata": {},
   "source": [
    "<!-- Equation labels as ordinary links -->\n",
    "<div id=\"_auto7\"></div>\n",
    "\n",
    "$$\n",
    "\\begin{equation}\n",
    "\\frac{d\\boldsymbol{L}}{dt}=\\boldsymbol{r}\\times\\boldsymbol{F}\\equiv\\boldsymbol{\\tau},\n",
    "\\label{_auto7} \\tag{7}\n",
    "\\end{equation}\n",
    "$$"
   ]
  },
  {
   "cell_type": "markdown",
   "id": "72e2c91c",
   "metadata": {},
   "source": [
    "where $\\boldsymbol{\\tau}$ is the torque."
   ]
  },
  {
   "cell_type": "markdown",
   "id": "ef9c34c3",
   "metadata": {},
   "source": [
    "## The Torque, Example 1 (hw 4, exercise 4)\n",
    "\n",
    "Let us assume we have an initial position $\\boldsymbol{r}_0=x_0\\boldsymbol{e}_1+y_0\\boldsymbol{e}_2$ at a time $t_0=0$.\n",
    "We add now a force in the positive $x$-direction"
   ]
  },
  {
   "cell_type": "markdown",
   "id": "ba476d60",
   "metadata": {},
   "source": [
    "$$\n",
    "\\boldsymbol{F}=F_x\\boldsymbol{e}_1=\\frac{d\\boldsymbol{p}}{dt},\n",
    "$$"
   ]
  },
  {
   "cell_type": "markdown",
   "id": "397d724d",
   "metadata": {},
   "source": [
    "where we used the force as defined by the time derivative of the momentum.\n",
    "\n",
    "We can use this force (and its pertinent acceleration) to find the velocity via the relation"
   ]
  },
  {
   "cell_type": "markdown",
   "id": "0e399721",
   "metadata": {},
   "source": [
    "$$\n",
    "\\boldsymbol{v}(t)=\\boldsymbol{v}_0+\\int_{t_0}^t\\boldsymbol{a}dt',\n",
    "$$"
   ]
  },
  {
   "cell_type": "markdown",
   "id": "e61e6b37",
   "metadata": {},
   "source": [
    "and with $\\boldsymbol{v}_0=0$ we have"
   ]
  },
  {
   "cell_type": "markdown",
   "id": "c45549c3",
   "metadata": {},
   "source": [
    "$$\n",
    "\\boldsymbol{v}(t)=\\int_{t_0}^t\\frac{\\boldsymbol{F}}{m}dt',\n",
    "$$"
   ]
  },
  {
   "cell_type": "markdown",
   "id": "3d176201",
   "metadata": {},
   "source": [
    "where $m$ is the mass of the object."
   ]
  },
  {
   "cell_type": "markdown",
   "id": "3b4ff866",
   "metadata": {},
   "source": [
    "## The Torque, Example 1 (hw 4, exercise 4)\n",
    "\n",
    "Since the force acts only in the $x$-direction, we have after integration"
   ]
  },
  {
   "cell_type": "markdown",
   "id": "2395b964",
   "metadata": {},
   "source": [
    "$$\n",
    "\\boldsymbol{v}(t)=\\frac{\\boldsymbol{F}}{m}t=\\frac{F_x}{m}t\\boldsymbol{e}_1=v_x(t)\\boldsymbol{e}_1.\n",
    "$$"
   ]
  },
  {
   "cell_type": "markdown",
   "id": "900a3116",
   "metadata": {},
   "source": [
    "The momentum is in turn given by $\\boldsymbol{p}=p_x\\boldsymbol{e}_1=mv_x\\boldsymbol{e}_1=F_xt\\boldsymbol{e}_1$.\n",
    "\n",
    "Integrating over time again we find the final position as (note the force depends only on the $x$-direction)"
   ]
  },
  {
   "cell_type": "markdown",
   "id": "ee13a60b",
   "metadata": {},
   "source": [
    "$$\n",
    "\\boldsymbol{r}(t)=(x_0+\\frac{1}{2}\\frac{F_x}{m}t^2) \\boldsymbol{e}_1+y_0\\boldsymbol{e}_2.\n",
    "$$"
   ]
  },
  {
   "cell_type": "markdown",
   "id": "6ded4ac1",
   "metadata": {},
   "source": [
    "There is no change in the position in the $y$-direction since the force acts only in the $x$-direction."
   ]
  },
  {
   "cell_type": "markdown",
   "id": "8c9b55c8",
   "metadata": {},
   "source": [
    "## The Torque, Example 1 (hw 4, exercise 4)\n",
    "\n",
    "We can now compute the angular momentum given by"
   ]
  },
  {
   "cell_type": "markdown",
   "id": "396627ad",
   "metadata": {},
   "source": [
    "$$\n",
    "\\boldsymbol{l}=\\boldsymbol{r}\\times\\boldsymbol{p}=\\left[(x_0+\\frac{1}{2}\\frac{F_x}{m}t^2) \\boldsymbol{e}_1+y_0\\boldsymbol{e}_2\\right]\\times F_xt\\boldsymbol{e}_1.\n",
    "$$"
   ]
  },
  {
   "cell_type": "markdown",
   "id": "f36f6235",
   "metadata": {},
   "source": [
    "Computing the cross product we find"
   ]
  },
  {
   "cell_type": "markdown",
   "id": "130f31f2",
   "metadata": {},
   "source": [
    "$$\n",
    "\\boldsymbol{l}=-y_0F_xt\\boldsymbol{e}_3=-y_0F_xt\\boldsymbol{e}_z.\n",
    "$$"
   ]
  },
  {
   "cell_type": "markdown",
   "id": "81d7d8a3",
   "metadata": {},
   "source": [
    "The torque is the time derivative of the angular momentum and we have"
   ]
  },
  {
   "cell_type": "markdown",
   "id": "36ec2b97",
   "metadata": {},
   "source": [
    "$$\n",
    "\\boldsymbol{\\tau}=-y_0F_x\\boldsymbol{e}_3=-y_0F_x\\boldsymbol{e}_z.\n",
    "$$"
   ]
  },
  {
   "cell_type": "markdown",
   "id": "892d2450",
   "metadata": {},
   "source": [
    "The torque is non-zero and angular momentum is not conserved."
   ]
  },
  {
   "cell_type": "markdown",
   "id": "f9d8459a",
   "metadata": {},
   "source": [
    "## The Torque, Example 2\n",
    "\n",
    "One can write the torque about a given axis, which we will denote as $\\hat{z}$, in polar coordinates, where"
   ]
  },
  {
   "cell_type": "markdown",
   "id": "516d82bb",
   "metadata": {},
   "source": [
    "$$\n",
    "\\begin{eqnarray}\n",
    "x&=&r\\sin\\theta\\cos\\phi,~~y=r\\sin\\theta\\cos\\phi,~~z=r\\cos\\theta,\n",
    "\\end{eqnarray}\n",
    "$$"
   ]
  },
  {
   "cell_type": "markdown",
   "id": "06914ba0",
   "metadata": {},
   "source": [
    "to find the $z$ component of the torque,"
   ]
  },
  {
   "cell_type": "markdown",
   "id": "b80a3f63",
   "metadata": {},
   "source": [
    "$$\n",
    "\\begin{eqnarray}\n",
    "\\tau_z&=&xF_y-yF_x\\\\\n",
    "\\nonumber\n",
    "&=&-r\\sin\\theta\\left\\{\\cos\\phi \\partial_y-\\sin\\phi \\partial_x\\right\\}V(x,y,z).\n",
    "\\end{eqnarray}\n",
    "$$"
   ]
  },
  {
   "cell_type": "markdown",
   "id": "fa22cc5e",
   "metadata": {},
   "source": [
    "## Chain Rule and Partial Derivatives\n",
    "\n",
    "One can use the chain rule to write the partial derivative w.r.t. $\\phi$ (keeping $r$ and $\\theta$ fixed),"
   ]
  },
  {
   "cell_type": "markdown",
   "id": "86471b6f",
   "metadata": {},
   "source": [
    "$$\n",
    "\\begin{eqnarray}\n",
    "\\partial_\\phi&=&\\frac{\\partial x}{\\partial\\phi}\\partial_x+\\frac{\\partial_y}{\\partial\\phi}\\partial_y\n",
    "+\\frac{\\partial z}{\\partial\\phi}\\partial_z\\\\\n",
    "\\nonumber\n",
    "&=&-r\\sin\\theta\\sin\\phi\\partial_x+\\sin\\theta\\cos\\phi\\partial_y.\n",
    "\\end{eqnarray}\n",
    "$$"
   ]
  },
  {
   "cell_type": "markdown",
   "id": "164e0b62",
   "metadata": {},
   "source": [
    "Combining the two equations,"
   ]
  },
  {
   "cell_type": "markdown",
   "id": "4b620ba9",
   "metadata": {},
   "source": [
    "$$\n",
    "\\begin{eqnarray}\n",
    "\\tau_z&=&-\\partial_\\phi V(r,\\theta,\\phi).\n",
    "\\end{eqnarray}\n",
    "$$"
   ]
  },
  {
   "cell_type": "markdown",
   "id": "1bd15449",
   "metadata": {},
   "source": [
    "Thus, if the potential is independent of the azimuthal angle $\\phi$,\n",
    "there is no torque about the $z$ axis and $L_z$ is conserved."
   ]
  },
  {
   "cell_type": "markdown",
   "id": "dba6bc37",
   "metadata": {},
   "source": [
    "## System of Isolated Particles\n",
    "\n",
    "For a system of isolated particles, one can write"
   ]
  },
  {
   "cell_type": "markdown",
   "id": "f07b0bc4",
   "metadata": {},
   "source": [
    "$$\n",
    "\\begin{eqnarray}\n",
    "\\frac{d}{dt}\\sum_i\\boldsymbol{L}_i&=&\\sum_{i\\ne j}\\boldsymbol{r}_i\\times \\boldsymbol{F}_{ij}\\\\\n",
    "\\nonumber\n",
    "&=&\\frac{1}{2}\\sum_{ij, i\\ne j} \\boldsymbol{r}_i\\times \\boldsymbol{F}_{ij}+\\boldsymbol{r}_j\\times\\boldsymbol{F}_{ji}\\\\\n",
    "\\nonumber\n",
    "&=&\\frac{1}{2}\\sum_{ij, i\\ne j} (\\boldsymbol{r}_i-\\boldsymbol{r}_j)\\times\\boldsymbol{F}_{ij}=0,\n",
    "\\end{eqnarray}\n",
    "$$"
   ]
  },
  {
   "cell_type": "markdown",
   "id": "60e7ad1b",
   "metadata": {},
   "source": [
    "where the last step used Newton's third law,\n",
    "$\\boldsymbol{F}_{ij}=-\\boldsymbol{F}_{ji}$. If the forces between the particles are\n",
    "radial, i.e. $\\boldsymbol{F}_{ij} ~||~ (\\boldsymbol{r}_i-\\boldsymbol{r}_j)$, then each term in\n",
    "the sum is zero and the net angular momentum is fixed. Otherwise, you\n",
    "could imagine an isolated system that would start spinning\n",
    "spontaneously."
   ]
  },
  {
   "cell_type": "markdown",
   "id": "b9d9a441",
   "metadata": {},
   "source": [
    "## Homework 3, exercises 5 and 6, numerical solution"
   ]
  },
  {
   "cell_type": "code",
   "execution_count": 5,
   "id": "ceb5bf2b",
   "metadata": {},
   "outputs": [],
   "source": [
    "%matplotlib inline\n",
    "\n",
    "# let's start by importing useful packages we are familiar with\n",
    "import numpy as np\n",
    "import matplotlib.pyplot as plt\n",
    "%matplotlib inline"
   ]
  },
  {
   "cell_type": "markdown",
   "id": "95c94ec2",
   "metadata": {},
   "source": [
    "We will choose the following values\n",
    "1. mass $m=0,2$ kg\n",
    "\n",
    "2. accelleration (gravity) $g=9.81$ m/s$^{2}$.\n",
    "\n",
    "3. initial position is the height $h=2$ m\n",
    "\n",
    "4. initial velocities $v_{x,0}=v_{y,0}=10$ m/s\n",
    "\n",
    "You need also to define an initial time and \n",
    "the step size $\\Delta t$. We can define the step size $\\Delta t$ as the difference between any\n",
    "two neighboring values in time (time steps) that we analyze within\n",
    "some range. It can be determined by dividing the interval we are\n",
    "analyzing, which in our case is time $t_{\\mathrm{final}}-t_0$, by the number of steps we\n",
    "are taking $(N)$. This gives us a step size $\\Delta t = \\dfrac{t_{\\mathrm{final}}-t_0}{N}$.\n",
    "\n",
    "With these preliminaries we are now ready to plot our results from exercise 5.\n",
    "\n",
    "In setting up our code we need to\n",
    "\n",
    "1. Define and obtain all initial values, constants, and time to be analyzed with step sizes as done above (you can use the same values)\n",
    "\n",
    "2. Calculate the velocity using $v_{i+1} = v_{i} + (\\Delta t)*a_{i}$\n",
    "\n",
    "3. Calculate the position using $pos_{i+1} = r_{i} + (\\Delta t)*v_{i}$\n",
    "\n",
    "4. Calculate the new acceleration $a_{i+1}$.\n",
    "\n",
    "5. Repeat steps 2-4 for all time steps within a loop."
   ]
  },
  {
   "cell_type": "code",
   "execution_count": 2,
   "id": "771c73cd",
   "metadata": {},
   "outputs": [
    {
     "data": {
      "text/html": [
       "<div>\n",
       "<style scoped>\n",
       "    .dataframe tbody tr th:only-of-type {\n",
       "        vertical-align: middle;\n",
       "    }\n",
       "\n",
       "    .dataframe tbody tr th {\n",
       "        vertical-align: top;\n",
       "    }\n",
       "\n",
       "    .dataframe thead th {\n",
       "        text-align: right;\n",
       "    }\n",
       "</style>\n",
       "<table border=\"1\" class=\"dataframe\">\n",
       "  <thead>\n",
       "    <tr style=\"text-align: right;\">\n",
       "      <th></th>\n",
       "      <th>t[s]</th>\n",
       "      <th>Relative error in y</th>\n",
       "      <th>vy[m/s]</th>\n",
       "      <th>x[m]</th>\n",
       "      <th>vx[m/s]</th>\n",
       "    </tr>\n",
       "  </thead>\n",
       "  <tbody>\n",
       "    <tr>\n",
       "      <th>0</th>\n",
       "      <td>0.000</td>\n",
       "      <td>0.000000e+00</td>\n",
       "      <td>0.000000</td>\n",
       "      <td>0.0</td>\n",
       "      <td>0.0</td>\n",
       "    </tr>\n",
       "    <tr>\n",
       "      <th>1</th>\n",
       "      <td>0.001</td>\n",
       "      <td>4.903277e-07</td>\n",
       "      <td>-0.009807</td>\n",
       "      <td>0.0</td>\n",
       "      <td>0.0</td>\n",
       "    </tr>\n",
       "    <tr>\n",
       "      <th>2</th>\n",
       "      <td>0.002</td>\n",
       "      <td>9.806568e-07</td>\n",
       "      <td>-0.019613</td>\n",
       "      <td>0.0</td>\n",
       "      <td>0.0</td>\n",
       "    </tr>\n",
       "    <tr>\n",
       "      <th>3</th>\n",
       "      <td>0.003</td>\n",
       "      <td>1.470988e-06</td>\n",
       "      <td>-0.029420</td>\n",
       "      <td>0.0</td>\n",
       "      <td>0.0</td>\n",
       "    </tr>\n",
       "    <tr>\n",
       "      <th>4</th>\n",
       "      <td>0.004</td>\n",
       "      <td>1.961324e-06</td>\n",
       "      <td>-0.039226</td>\n",
       "      <td>0.0</td>\n",
       "      <td>0.0</td>\n",
       "    </tr>\n",
       "    <tr>\n",
       "      <th>...</th>\n",
       "      <td>...</td>\n",
       "      <td>...</td>\n",
       "      <td>...</td>\n",
       "      <td>...</td>\n",
       "      <td>...</td>\n",
       "    </tr>\n",
       "    <tr>\n",
       "      <th>1395</th>\n",
       "      <td>1.395</td>\n",
       "      <td>7.296969e-03</td>\n",
       "      <td>-12.706056</td>\n",
       "      <td>0.0</td>\n",
       "      <td>0.0</td>\n",
       "    </tr>\n",
       "    <tr>\n",
       "      <th>1396</th>\n",
       "      <td>1.396</td>\n",
       "      <td>7.417356e-03</td>\n",
       "      <td>-12.713885</td>\n",
       "      <td>0.0</td>\n",
       "      <td>0.0</td>\n",
       "    </tr>\n",
       "    <tr>\n",
       "      <th>1397</th>\n",
       "      <td>1.397</td>\n",
       "      <td>7.541724e-03</td>\n",
       "      <td>-12.721712</td>\n",
       "      <td>0.0</td>\n",
       "      <td>0.0</td>\n",
       "    </tr>\n",
       "    <tr>\n",
       "      <th>1398</th>\n",
       "      <td>1.398</td>\n",
       "      <td>7.670274e-03</td>\n",
       "      <td>-12.729536</td>\n",
       "      <td>0.0</td>\n",
       "      <td>0.0</td>\n",
       "    </tr>\n",
       "    <tr>\n",
       "      <th>1399</th>\n",
       "      <td>1.399</td>\n",
       "      <td>7.803222e-03</td>\n",
       "      <td>-12.737357</td>\n",
       "      <td>0.0</td>\n",
       "      <td>0.0</td>\n",
       "    </tr>\n",
       "  </tbody>\n",
       "</table>\n",
       "<p>1400 rows × 5 columns</p>\n",
       "</div>"
      ],
      "text/plain": [
       "       t[s]  Relative error in y    vy[m/s]  x[m]  vx[m/s]\n",
       "0     0.000         0.000000e+00   0.000000   0.0      0.0\n",
       "1     0.001         4.903277e-07  -0.009807   0.0      0.0\n",
       "2     0.002         9.806568e-07  -0.019613   0.0      0.0\n",
       "3     0.003         1.470988e-06  -0.029420   0.0      0.0\n",
       "4     0.004         1.961324e-06  -0.039226   0.0      0.0\n",
       "...     ...                  ...        ...   ...      ...\n",
       "1395  1.395         7.296969e-03 -12.706056   0.0      0.0\n",
       "1396  1.396         7.417356e-03 -12.713885   0.0      0.0\n",
       "1397  1.397         7.541724e-03 -12.721712   0.0      0.0\n",
       "1398  1.398         7.670274e-03 -12.729536   0.0      0.0\n",
       "1399  1.399         7.803222e-03 -12.737357   0.0      0.0\n",
       "\n",
       "[1400 rows x 5 columns]"
      ]
     },
     "metadata": {},
     "output_type": "display_data"
    },
    {
     "data": {
      "image/png": "[encoded data removed]",
      "text/plain": [
       "<Figure size 800x550 with 4 Axes>"
      ]
     },
     "metadata": {},
     "output_type": "display_data"
    }
   ],
   "source": [
    "# Exercise 6, hw3, brute force way with declaration of vx, vy, x and y\n",
    "# Common imports\n",
    "import numpy as np\n",
    "import pandas as pd\n",
    "from math import *\n",
    "import matplotlib.pyplot as plt\n",
    "import os\n",
    "\n",
    "# Where to save the figures and data files\n",
    "PROJECT_ROOT_DIR = \"Results\"\n",
    "FIGURE_ID = \"Results/FigureFiles\"\n",
    "DATA_ID = \"DataFiles/\"\n",
    "\n",
    "if not os.path.exists(PROJECT_ROOT_DIR):\n",
    "    os.mkdir(PROJECT_ROOT_DIR)\n",
    "\n",
    "if not os.path.exists(FIGURE_ID):\n",
    "    os.makedirs(FIGURE_ID)\n",
    "\n",
    "if not os.path.exists(DATA_ID):\n",
    "    os.makedirs(DATA_ID)\n",
    "\n",
    "def image_path(fig_id):\n",
    "    return os.path.join(FIGURE_ID, fig_id)\n",
    "\n",
    "def data_path(dat_id):\n",
    "    return os.path.join(DATA_ID, dat_id)\n",
    "\n",
    "def save_fig(fig_id):\n",
    "    plt.savefig(image_path(fig_id) + \".png\", format='png')\n",
    "\n",
    "# Output file\n",
    "outfile = open(data_path(\"Eulerresults.dat\"),'w')\n",
    "\n",
    "from pylab import plt, mpl\n",
    "plt.style.use('seaborn')\n",
    "mpl.rcParams['font.family'] = 'serif'\n",
    "\n",
    "\n",
    "g = 9.80655 #m/s^2\n",
    "# The mass and the drag constant D\n",
    "D = 0.00245 #mass/length   kg/m\n",
    "m = 0.2 #kg, mass of falling object\n",
    "DeltaT = 0.001\n",
    "#set up arrays \n",
    "tfinal = 1.4\n",
    "# set up number of points for all variables\n",
    "n = ceil(tfinal/DeltaT)\n",
    "# define scaling constant vT used in analytical solution\n",
    "vT = sqrt(m*g/D)\n",
    "# set up arrays for t, a, v, and y and arrays for analytical results\n",
    "#brute force setting up of arrays for x and y, vx, vy, ax and ay\n",
    "t = np.zeros(n)\n",
    "vy = np.zeros(n)\n",
    "y = np.zeros(n)\n",
    "vx = np.zeros(n)\n",
    "x = np.zeros(n)\n",
    "yanalytic = np.zeros(n)\n",
    "# Initial conditions, note that these correspond to an object falling in the y-direction only.\n",
    "vx[0] = 0.0 #m/s\n",
    "vy[0] = 0.0  #m/s\n",
    "y[0] = 10.0 #m\n",
    "x[0] = 0.0 #m\n",
    "yanalytic[0] = y[0]\n",
    "# Start integrating using Euler's method\n",
    "for i in range(n-1):\n",
    "    # expression for acceleration, note the absolute value and division by mass\n",
    "# Note: you need to think of the sign for the drag force as function of the velocity vector \n",
    "    ax = -D*vx[i]*sqrt(vx[i]**2+vy[i]**2)/m\n",
    "    ay = -g - D*vy[i]*sqrt(vx[i]**2+vy[i]**2)/m\n",
    "    # update velocity and position\n",
    "    vx[i+1] = vx[i] + DeltaT*ax\n",
    "    x[i+1] = x[i] + DeltaT*vx[i]\n",
    "    vy[i+1] = vy[i] + DeltaT*ay\n",
    "    y[i+1] = y[i] + DeltaT*vy[i]\n",
    "    # update time to next time step and compute analytical answer\n",
    "    t[i+1] = t[i] + DeltaT\n",
    "    yanalytic[i+1] = y[0]-(vT*vT/g)*log(cosh(g*t[i+1]/vT))+vy[0]*t[i+1]\n",
    "    if ( y[i+1] < 0.0):\n",
    "        break\n",
    "data = {'t[s]': t,\n",
    "        'Relative error in y': abs((y-yanalytic)/yanalytic),\n",
    "        'vy[m/s]': vy,\n",
    "        'x[m]': x,\n",
    "        'vx[m/s]': vx\n",
    "}\n",
    "NewData = pd.DataFrame(data)\n",
    "display(NewData)\n",
    "# save to file\n",
    "NewData.to_csv(outfile, index=False)\n",
    "#then plot\n",
    "fig, axs = plt.subplots(4, 1)\n",
    "axs[0].plot(t, y)\n",
    "axs[0].set_xlim(0, tfinal)\n",
    "axs[0].set_ylabel('y')\n",
    "axs[1].plot(t, vy)\n",
    "axs[1].set_ylabel('vy[m/s]')\n",
    "axs[1].set_xlabel('time[s]')\n",
    "axs[2].plot(t, x)\n",
    "axs[2].set_xlim(0, tfinal)\n",
    "axs[2].set_ylabel('x')\n",
    "axs[3].plot(t, vx)\n",
    "axs[3].set_ylabel('vx[m/s]')\n",
    "axs[3].set_xlabel('time[s]')\n",
    "fig.tight_layout()\n",
    "save_fig(\"EulerIntegration\")\n",
    "plt.show()"
   ]
  },
  {
   "cell_type": "markdown",
   "id": "59ff7e8d",
   "metadata": {},
   "source": [
    "## A more compact version of the code"
   ]
  },
  {
   "cell_type": "code",
   "execution_count": 4,
   "id": "0f3f0d54",
   "metadata": {},
   "outputs": [
    {
     "data": {
      "image/png": "[encoded data removed]",
      "text/plain": [
       "<Figure size 800x550 with 4 Axes>"
      ]
     },
     "metadata": {},
     "output_type": "display_data"
    }
   ],
   "source": [
    "# Exercise 6, hw3, smarter way with declaration of vx, vy, x and y\n",
    "# Common imports\n",
    "import numpy as np\n",
    "import pandas as pd\n",
    "from math import *\n",
    "import matplotlib.pyplot as plt\n",
    "import os\n",
    "\n",
    "# Where to save the figures and data files\n",
    "PROJECT_ROOT_DIR = \"Results\"\n",
    "FIGURE_ID = \"Results/FigureFiles\"\n",
    "DATA_ID = \"DataFiles/\"\n",
    "\n",
    "if not os.path.exists(PROJECT_ROOT_DIR):\n",
    "    os.mkdir(PROJECT_ROOT_DIR)\n",
    "\n",
    "if not os.path.exists(FIGURE_ID):\n",
    "    os.makedirs(FIGURE_ID)\n",
    "\n",
    "if not os.path.exists(DATA_ID):\n",
    "    os.makedirs(DATA_ID)\n",
    "\n",
    "def image_path(fig_id):\n",
    "    return os.path.join(FIGURE_ID, fig_id)\n",
    "\n",
    "def data_path(dat_id):\n",
    "    return os.path.join(DATA_ID, dat_id)\n",
    "\n",
    "def save_fig(fig_id):\n",
    "    plt.savefig(image_path(fig_id) + \".png\", format='png')\n",
    "\n",
    "\n",
    "from pylab import plt, mpl\n",
    "plt.style.use('seaborn')\n",
    "mpl.rcParams['font.family'] = 'serif'\n",
    "\n",
    "g = 9.80655 #m/s^2 g to 6 leading digits after decimal point\n",
    "D = 0.00245 #m/s\n",
    "m = 0.2 # kg\n",
    "# Define Gravitational force as a vector in x and y. It is a constant\n",
    "G = -m*g*np.array([0.0,1])\n",
    "DeltaT = 0.01\n",
    "#set up arrays \n",
    "tfinal = 1.3\n",
    "n = ceil(tfinal/DeltaT)\n",
    "# set up arrays for t, a, v, and x\n",
    "t = np.zeros(n)\n",
    "v = np.zeros((n,2))\n",
    "r = np.zeros((n,2))\n",
    "# Initial conditions as compact 2-dimensional arrays\n",
    "r0 = np.array([0.0,10.0])\n",
    "v0 = np.array([10.0,0.0])\n",
    "r[0] = r0\n",
    "v[0] = v0\n",
    "# Start integrating using Euler's method\n",
    "for i in range(n-1):\n",
    "    # Set up forces, air resistance FD, note now that we need the norm of the vector\n",
    "    # Here you could have defined your own function for this\n",
    "    vabs = sqrt(sum(v[i]*v[i]))\n",
    "# Note: you need to think of the sign for the drag force \n",
    "    FD = -D*v[i]*vabs\n",
    "    # Final net forces acting on falling object\n",
    "    Fnet = FD+G\n",
    "    # The accelration at a given time t_i\n",
    "    a = Fnet/m\n",
    "    # update velocity, time and position using Euler's method\n",
    "    v[i+1] = v[i] + DeltaT*a\n",
    "    r[i+1] = r[i] + DeltaT*v[i]\n",
    "    t[i+1] = t[i] + DeltaT\n",
    "\n",
    "fig, axs = plt.subplots(4, 1)\n",
    "axs[0].plot(t, r[:,1])\n",
    "axs[0].set_xlim(0, tfinal)\n",
    "axs[0].set_ylabel('y')\n",
    "axs[1].plot(t, v[:,1])\n",
    "axs[1].set_ylabel('vy[m/s]')\n",
    "axs[1].set_xlabel('time[s]')\n",
    "axs[2].plot(t, r[:,0])\n",
    "axs[2].set_xlim(0, tfinal)\n",
    "axs[2].set_ylabel('x')\n",
    "axs[3].plot(t, v[:,0])\n",
    "axs[3].set_ylabel('vx[m/s]')\n",
    "axs[3].set_xlabel('time[s]')\n",
    "\n",
    "fig.tight_layout()\n",
    "save_fig(\"EulerIntegration\")\n",
    "plt.show()"
   ]
  },
  {
   "cell_type": "code",
   "execution_count": null,
   "id": "3525203f",
   "metadata": {},
   "outputs": [],
   "source": []
  }
 ],
 "metadata": {
  "kernelspec": {
   "display_name": "Python 3 (ipykernel)",
   "language": "python",
   "name": "python3"
  },
  "language_info": {
   "codemirror_mode": {
    "name": "ipython",
    "version": 3
   },
   "file_extension": ".py",
   "mimetype": "text/x-python",
   "name": "python",
   "nbconvert_exporter": "python",
   "pygments_lexer": "ipython3",
   "version": "3.9.10"
  }
 },
 "nbformat": 4,
 "nbformat_minor": 5
}
