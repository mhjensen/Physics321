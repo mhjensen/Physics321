{
 "cells": [
  {
   "cell_type": "markdown",
   "id": "a0e89feb",
   "metadata": {},
   "source": [
    "<!-- HTML file automatically generated from DocOnce source (https://github.com/doconce/doconce/)\n",
    "doconce format html week5.do.txt --no_mako -->\n",
    "<!-- dom:TITLE: PHY321: Work and Energy  and Conservation Theorems -->"
   ]
  },
  {
   "cell_type": "markdown",
   "id": "1d460015",
   "metadata": {},
   "source": [
    "# PHY321: Work and Energy  and Conservation Theorems\n",
    "**[Morten Hjorth-Jensen](http://mhjgit.github.io/info/doc/web/)**, Department of Physics and Astronomy and Facility for Rare Isotope Beams (FRIB), Michigan State University, USA\n",
    "\n",
    "Date: **January 30-February 3**"
   ]
  },
  {
   "cell_type": "markdown",
   "id": "cb8405f3",
   "metadata": {},
   "source": [
    "## Plans for the week January 30-February 3"
   ]
  },
  {
   "cell_type": "markdown",
   "id": "7d508d5d",
   "metadata": {},
   "source": [
    "### Monday\n",
    "\n",
    "The work-energy theorem with examples. Discussion of momentum and angular momentum.\n",
    "Reading suggestion: Taylor sections 3.1-3.4 and 4.1-4.3\n",
    "\n",
    "Lecture via zoom only.\n",
    "\n",
    "[Video of lecture](https://youtu.be/H_TuYjM9csk)"
   ]
  },
  {
   "cell_type": "markdown",
   "id": "53d5b3e3",
   "metadata": {},
   "source": [
    "### Wednesday\n",
    "\n",
    "Examples and conservation of  angular momentum, Taylor sections 3.4 and 3.5. \n",
    "Discussion of exercises 5 and 6. This is also the assignment for Friday's session.\n",
    "\n",
    "Lecture via zoom only.\n",
    "\n",
    "[Video of lecture](https://youtu.be/t_bStzWIVJY)"
   ]
  },
  {
   "cell_type": "markdown",
   "id": "66af74a4",
   "metadata": {},
   "source": [
    "### Friday\n",
    "\n",
    "Solution of exercises and discussion of homework 3. We discuss   exercises 5 and 6 the first 15 min, see end of these slides.\n",
    "\n",
    "If you wish to read more about conservative forces or not, Feynman's lectures from 1963 are quite interesting.\n",
    "He states for example that **All fundamental forces in nature appear to be conservative**.\n",
    "This statement was made while developing his argument that *there are no nonconservative forces*.\n",
    "You may enjoy the link to [Feynman's lecture](http://www.feynmanlectures.caltech.edu/I_14.html)."
   ]
  },
  {
   "cell_type": "markdown",
   "id": "aaf74309",
   "metadata": {},
   "source": [
    "## Work, Energy, Momentum and Conservation laws\n",
    "\n",
    "The systems we studied the first three weeks have shown us how to use Newton’s laws of\n",
    "motion to determine the motion of an object based on the forces acting\n",
    "on it. For some of the cases there is an underlying assumption that we can find an analytical solution to a continuous problem.\n",
    "With a continuous problem we mean a problem where the various variables can take any value within a finite or infinite interval. \n",
    "\n",
    "Unfortunately, in many cases we\n",
    "cannot find an exact solution to the equations of motion we get from\n",
    "Newton’s second law. The numerical approach, where we discretize the continuous problem, allows us however to study a much richer set of problems.\n",
    "For problems involving Newton's laws and the various equations of motion we encounter, solving the equations numerically, is the standard approach.\n",
    "\n",
    "It allows us to focus on the underlying forces. Often we end up using the same numerical algorithm for different problems.\n",
    "\n",
    "Here we introduce a commonly used technique that allows us to find the\n",
    "velocity as a function of position without finding the position as a\n",
    "function of time—an alternate form of Newton’s second law. The method\n",
    "is based on a simple principle: Instead of solving the equations of\n",
    "motion directly, we integrate the equations of motion. Such a method\n",
    "is called an integration method. \n",
    "\n",
    "This allows us also to introduce the **work-energy** theorem. This\n",
    "theorem allows us to find the velocity as a function of position for\n",
    "an object even in cases when we cannot solve the equations of\n",
    "motion. This introduces us to the concept of work and kinetic energy,\n",
    "an energy related to the motion of an object.\n",
    "\n",
    "And finally, we will link the work-energy theorem with the principle of conservation of energy."
   ]
  },
  {
   "cell_type": "markdown",
   "id": "c740e570",
   "metadata": {},
   "source": [
    "## The Work-Energy Theorem\n",
    "\n",
    "Let us define the kinetic energy $K$ with a given velocity $\\boldsymbol{v}$"
   ]
  },
  {
   "cell_type": "markdown",
   "id": "fb3e2632",
   "metadata": {},
   "source": [
    "$$\n",
    "K=\\frac{1}{2}mv^2,\n",
    "$$"
   ]
  },
  {
   "cell_type": "markdown",
   "id": "7e8bf173",
   "metadata": {},
   "source": [
    "where $m$ is the mass of the object we are considering.\n",
    "We assume also that there is a force $\\boldsymbol{F}$ acting on the given object"
   ]
  },
  {
   "cell_type": "markdown",
   "id": "7e34d317",
   "metadata": {},
   "source": [
    "$$\n",
    "\\boldsymbol{F}=\\boldsymbol{F}(\\boldsymbol{r},\\boldsymbol{v},t),\n",
    "$$"
   ]
  },
  {
   "cell_type": "markdown",
   "id": "8bc77c6c",
   "metadata": {},
   "source": [
    "with $\\boldsymbol{r}$ the position and $t$ the time.\n",
    "In general we assume the force is a function of all these variables.\n",
    "Many of the more central forces in Nature however, depende only on the\n",
    "position. Examples are the gravitational force and the force derived\n",
    "from the Coulomb potential in electromagnetism."
   ]
  },
  {
   "cell_type": "markdown",
   "id": "d388e3cb",
   "metadata": {},
   "source": [
    "## Rewriting the Kinetic Energy\n",
    "\n",
    "Let us study the derivative of the kinetic energy with respect to time $t$. Its continuous form is"
   ]
  },
  {
   "cell_type": "markdown",
   "id": "b86a8d13",
   "metadata": {},
   "source": [
    "$$\n",
    "\\frac{dK}{dt}=\\frac{1}{2}m\\frac{d\\boldsymbol{v}\\cdot\\boldsymbol{v}}{dt}.\n",
    "$$"
   ]
  },
  {
   "cell_type": "markdown",
   "id": "517e0f2b",
   "metadata": {},
   "source": [
    "Using our results from exercise 3 of homework 1, we can write the derivative of a vector dot product as"
   ]
  },
  {
   "cell_type": "markdown",
   "id": "0df97473",
   "metadata": {},
   "source": [
    "$$\n",
    "\\frac{dK}{dt}=\\frac{1}{2}m\\frac{d\\boldsymbol{v}\\cdot\\boldsymbol{v}}{dt}= \\frac{1}{2}m\\left(\\frac{d\\boldsymbol{v}}{dt}\\cdot\\boldsymbol{v}+\\boldsymbol{v}\\cdot\\frac{d\\boldsymbol{v}}{dt}\\right)=m\\frac{d\\boldsymbol{v}}{dt}\\cdot\\boldsymbol{v}.\n",
    "$$"
   ]
  },
  {
   "cell_type": "markdown",
   "id": "d6c4c683",
   "metadata": {},
   "source": [
    "We know also that the acceleration is defined as"
   ]
  },
  {
   "cell_type": "markdown",
   "id": "21ab4be5",
   "metadata": {},
   "source": [
    "$$\n",
    "\\boldsymbol{a}=\\frac{\\boldsymbol{F}}{m}=\\frac{d\\boldsymbol{v}}{dt}.\n",
    "$$"
   ]
  },
  {
   "cell_type": "markdown",
   "id": "a957e3be",
   "metadata": {},
   "source": [
    "We can then rewrite the equation for the derivative of the kinetic energy as"
   ]
  },
  {
   "cell_type": "markdown",
   "id": "6e27f0b8",
   "metadata": {},
   "source": [
    "$$\n",
    "\\frac{dK}{dt}=m\\frac{d\\boldsymbol{v}}{dt}\\boldsymbol{v}=\\boldsymbol{F}\\frac{d\\boldsymbol{r}}{dt},\n",
    "$$"
   ]
  },
  {
   "cell_type": "markdown",
   "id": "2e99fcd6",
   "metadata": {},
   "source": [
    "where we defined the velocity as the derivative of the position with respect to time."
   ]
  },
  {
   "cell_type": "markdown",
   "id": "3ce08276",
   "metadata": {},
   "source": [
    "## Discretizing\n",
    "\n",
    "Let us now discretize the above equation by letting the instantaneous terms be replaced by a discrete quantity, that is\n",
    "we let $dK\\rightarrow \\Delta K$, $dt\\rightarrow \\Delta t$, $d\\boldsymbol{r}\\rightarrow \\Delta \\boldsymbol{r}$ and $d\\boldsymbol{v}\\rightarrow \\Delta \\boldsymbol{v}$.\n",
    "\n",
    "We have then"
   ]
  },
  {
   "cell_type": "markdown",
   "id": "55692079",
   "metadata": {},
   "source": [
    "$$\n",
    "\\frac{\\Delta K}{\\Delta t}=m\\frac{\\Delta \\boldsymbol{v}}{\\Delta t}\\boldsymbol{v}=\\boldsymbol{F}\\frac{\\Delta \\boldsymbol{r}}{\\Delta t},\n",
    "$$"
   ]
  },
  {
   "cell_type": "markdown",
   "id": "8076ce3c",
   "metadata": {},
   "source": [
    "or by multiplying out $\\Delta t$ we have"
   ]
  },
  {
   "cell_type": "markdown",
   "id": "98bfdcc9",
   "metadata": {},
   "source": [
    "$$\n",
    "\\Delta K=\\boldsymbol{F}\\Delta \\boldsymbol{r}.\n",
    "$$"
   ]
  },
  {
   "cell_type": "markdown",
   "id": "6e89fb37",
   "metadata": {},
   "source": [
    "We define this quantity as the **work** done by the force $\\boldsymbol{F}$\n",
    "during the displacement $\\Delta \\boldsymbol{r}$. If we study the dimensionality\n",
    "of this problem we have mass times length squared divided by time\n",
    "squared, or just dimension energy."
   ]
  },
  {
   "cell_type": "markdown",
   "id": "89b636b0",
   "metadata": {},
   "source": [
    "## Difference in kinetic energy\n",
    "\n",
    "If we now define a series of such displacements $\\Delta\\boldsymbol{r}$ we have a difference in kinetic energy at a final position $\\boldsymbol{r}_n$ and an \n",
    "initial position $\\boldsymbol{r}_0$ given by"
   ]
  },
  {
   "cell_type": "markdown",
   "id": "959ad477",
   "metadata": {},
   "source": [
    "$$\n",
    "\\Delta K=\\frac{1}{2}mv_n^2-\\frac{1}{2}mv_0^2=\\sum_{i=0}^n\\boldsymbol{F}_i\\Delta \\boldsymbol{r},\n",
    "$$"
   ]
  },
  {
   "cell_type": "markdown",
   "id": "09b2a723",
   "metadata": {},
   "source": [
    "where $\\boldsymbol{F}_i$ are the forces acting at every position $\\boldsymbol{r}_i$.\n",
    "\n",
    "The work done by acting with a force on a set of displacements can\n",
    "then be as expressed as the difference between the initial and final\n",
    "kinetic energies.\n",
    "\n",
    "This defines the **work-energy** theorem."
   ]
  },
  {
   "cell_type": "markdown",
   "id": "1b2b87b9",
   "metadata": {},
   "source": [
    "## From the discrete version to the continuous version\n",
    "\n",
    "If we take the limit $\\Delta \\boldsymbol{r}\\rightarrow 0$, we can rewrite the sum over the various displacements in terms of an integral, that is"
   ]
  },
  {
   "cell_type": "markdown",
   "id": "97459806",
   "metadata": {},
   "source": [
    "$$\n",
    "\\Delta K=\\frac{1}{2}mv_n^2-\\frac{1}{2}mv_0^2=\\sum_{i=0}^n\\boldsymbol{F}_i\\Delta \\boldsymbol{r}\\rightarrow \\int_{\\boldsymbol{r}_0}^{\\boldsymbol{r}_n}\\boldsymbol{F}(\\boldsymbol{r},\\boldsymbol{v},t)d\\boldsymbol{r}.\n",
    "$$"
   ]
  },
  {
   "cell_type": "markdown",
   "id": "e41958d4",
   "metadata": {},
   "source": [
    "This integral defines a path integral since it will depend on the given path we take between the two end points. We will replace the limits with the symbol $c$ in order to indicate that we take a specific countour in space when the force acts on the system. That is the work $W_{n0}$ between two points $\\boldsymbol{r}_n$ and $\\boldsymbol{r}_0$ is labeled as"
   ]
  },
  {
   "cell_type": "markdown",
   "id": "71191504",
   "metadata": {},
   "source": [
    "$$\n",
    "W_{n0}=\\frac{1}{2}mv_n^2-\\frac{1}{2}mv_0^2=\\int_{c}\\boldsymbol{F}(\\boldsymbol{r},\\boldsymbol{v},t)d\\boldsymbol{r}.\n",
    "$$"
   ]
  },
  {
   "cell_type": "markdown",
   "id": "c8501b67",
   "metadata": {},
   "source": [
    "Note that if the force is perpendicular to the displacement, then the force does not affect the kinetic energy.\n",
    "\n",
    "Let us now study some examples of forces and how to find the velocity from the integration over a given path.\n",
    "\n",
    "Thereafter we study how to  evaluate an integral numerically."
   ]
  },
  {
   "cell_type": "markdown",
   "id": "6bfeb3d8",
   "metadata": {},
   "source": [
    "## Studying the Work-energy Theorem numerically\n",
    "\n",
    "In order to study the work- energy, we will normally need to perform\n",
    "a numerical integration, unless we can integrate analytically. Here we\n",
    "present some of the simpler  methods such as the **rectangle** rule, the **trapezoidal** rule and higher-order methods like the Simpson family of methods."
   ]
  },
  {
   "cell_type": "markdown",
   "id": "158023c4",
   "metadata": {},
   "source": [
    "## Example of an Electron moving along a Surface\n",
    "\n",
    "As an example, let us consider the following case.\n",
    "We have  classical electron which moves in the $x$-direction along a surface. The force from the surface is"
   ]
  },
  {
   "cell_type": "markdown",
   "id": "1007a624",
   "metadata": {},
   "source": [
    "$$\n",
    "\\boldsymbol{F}(x)=-F_0\\sin{(\\frac{2\\pi x}{b})}\\boldsymbol{e}_1.\n",
    "$$"
   ]
  },
  {
   "cell_type": "markdown",
   "id": "8e156e6d",
   "metadata": {},
   "source": [
    "The constant $b$ represents the distance between atoms at the surface of the material, $F_0$ is a constant and $x$ is the position of the electron.\n",
    "\n",
    "Using the work-energy theorem we can find the work $W$ done when moving an electron from a position $x_0$ to a final position $x$ through the\n",
    " integral"
   ]
  },
  {
   "cell_type": "markdown",
   "id": "d4182eab",
   "metadata": {},
   "source": [
    "$$\n",
    "W=\\int_{x_0}^x \\boldsymbol{F}(x')dx' =  -\\int_{x_0}^x F_0\\sin{(\\frac{2\\pi x'}{b})} dx',\n",
    "$$"
   ]
  },
  {
   "cell_type": "markdown",
   "id": "51278175",
   "metadata": {},
   "source": [
    "which results in"
   ]
  },
  {
   "cell_type": "markdown",
   "id": "e75c53a7",
   "metadata": {},
   "source": [
    "$$\n",
    "W=\\frac{F_0b}{2\\pi}\\left[\\cos{(\\frac{2\\pi x}{b})}-\\cos{(\\frac{2\\pi x_0}{b})}\\right].\n",
    "$$"
   ]
  },
  {
   "cell_type": "markdown",
   "id": "a613c5e3",
   "metadata": {},
   "source": [
    "## Finding the Velocity\n",
    "\n",
    "If we now use the work-energy theorem we can find the the velocity at a final position $x$ by setting up\n",
    "the differences in kinetic energies between the final position and the initial position $x_0$.\n",
    "\n",
    "We have that the work done by the force is given by the difference in kinetic energies as"
   ]
  },
  {
   "cell_type": "markdown",
   "id": "4e3a7658",
   "metadata": {},
   "source": [
    "$$\n",
    "W=\\frac{1}{2}m\\left(v^2(x)-v^2(x_0)\\right)=\\frac{F_0b}{2\\pi}\\left[\\cos{(\\frac{2\\pi x}{b})}-\\cos{(\\frac{2\\pi x_0}{b})}\\right],\n",
    "$$"
   ]
  },
  {
   "cell_type": "markdown",
   "id": "260a4a96",
   "metadata": {},
   "source": [
    "and labeling $v(x_0)=v_0$ (and assuming we know the initial velocity) we have"
   ]
  },
  {
   "cell_type": "markdown",
   "id": "3f83cac0",
   "metadata": {},
   "source": [
    "$$\n",
    "v(x)=\\pm \\sqrt{v_0^2+\\frac{F_0b}{m\\pi}\\left[\\cos{(\\frac{2\\pi x}{b})}-\\cos{(\\frac{2\\pi x_0}{b})}\\right]},\n",
    "$$"
   ]
  },
  {
   "cell_type": "markdown",
   "id": "6fc53c5c",
   "metadata": {},
   "source": [
    "Choosing $x_0=0$m and $v_0=0$m/s we can simplify the above equation to"
   ]
  },
  {
   "cell_type": "markdown",
   "id": "b8092a9b",
   "metadata": {},
   "source": [
    "$$\n",
    "v(x)=\\pm \\sqrt{\\frac{F_0b}{m\\pi}\\left[\\cos{(\\frac{2\\pi x}{b})}-1\\right]},\n",
    "$$"
   ]
  },
  {
   "cell_type": "markdown",
   "id": "db2e2cd5",
   "metadata": {},
   "source": [
    "## Harmonic Oscillations\n",
    "\n",
    "Another well-known force (and we will derive when we come to Harmonic\n",
    "Oscillations) is the case of a sliding block attached to a wall\n",
    "through a spring. The block is attached to a spring with spring\n",
    "constant $k$. The other end of the spring is attached to the wall at\n",
    "the origin $x=0$.  We assume the spring has an equilibrium length\n",
    "$L_0$.\n",
    "\n",
    "The force $F_x$ from the spring on the block is then"
   ]
  },
  {
   "cell_type": "markdown",
   "id": "9bbb67b3",
   "metadata": {},
   "source": [
    "$$\n",
    "F_x=-k(x-L_0).\n",
    "$$"
   ]
  },
  {
   "cell_type": "markdown",
   "id": "e646cd86",
   "metadata": {},
   "source": [
    "The position $x$ where the spring force is zero is called the equilibrium position. In our case this is\n",
    "$x=L_0$.\n",
    "\n",
    "We can now compute the work done by this force when we move our block from an initial position $x_0$ to a final position $x$"
   ]
  },
  {
   "cell_type": "markdown",
   "id": "dbebb401",
   "metadata": {},
   "source": [
    "$$\n",
    "W=\\int_{x_0}^{x}F_xdx'=-k\\int_{x_0}^{x}(x'-L_0)dx'=\\frac{1}{2}k(x_0-L_0)^2-\\frac{1}{2}k(x-L_0)^2.\n",
    "$$"
   ]
  },
  {
   "cell_type": "markdown",
   "id": "d6683302",
   "metadata": {},
   "source": [
    "If we now bring back the definition of the work-energy theorem in terms of the kinetic energy we have"
   ]
  },
  {
   "cell_type": "markdown",
   "id": "25b5e51b",
   "metadata": {},
   "source": [
    "$$\n",
    "W=\\frac{1}{2}mv^2(x)-\\frac{1}{2}mv_0^2=\\frac{1}{2}k(x_0-L_0)^2-\\frac{1}{2}k(x-L_0)^2,\n",
    "$$"
   ]
  },
  {
   "cell_type": "markdown",
   "id": "3e4fb7b1",
   "metadata": {},
   "source": [
    "which we rewrite as"
   ]
  },
  {
   "cell_type": "markdown",
   "id": "ba59abbb",
   "metadata": {},
   "source": [
    "$$\n",
    "\\frac{1}{2}mv^2(x)+\\frac{1}{2}k(x-L_0)^2=\\frac{1}{2}mv_0^2+\\frac{1}{2}k(x_0-L_0)^2.\n",
    "$$"
   ]
  },
  {
   "cell_type": "markdown",
   "id": "6198ecfa",
   "metadata": {},
   "source": [
    "What does this mean? The total energy, which is the sum of potential and kinetic energy, is conserved.\n",
    "Wow, this sounds interesting. We will analyze this next week in more detail when we study energy, momentum and angular momentum conservation."
   ]
  },
  {
   "cell_type": "markdown",
   "id": "1fa072ba",
   "metadata": {},
   "source": [
    "## Work-Energy Theorem and Energy Conservation\n",
    "\n",
    "We have made the observation that energy was conserved for a force which\n",
    "depends only on the position.\n",
    "In particular we considered a force acting on a block \n",
    "attached to a spring with a so-called spring\n",
    "constant $k$. The other end of the spring was attached to the wall.  \n",
    "\n",
    "The force $F_x$ from the spring on the block was defined as"
   ]
  },
  {
   "cell_type": "markdown",
   "id": "e89d0e68",
   "metadata": {},
   "source": [
    "$$\n",
    "F_x=-kx.\n",
    "$$"
   ]
  },
  {
   "cell_type": "markdown",
   "id": "eacde372",
   "metadata": {},
   "source": [
    "The work done on the block due to a displacement from a position $x_0$ to $x$"
   ]
  },
  {
   "cell_type": "markdown",
   "id": "2a9e5ce7",
   "metadata": {},
   "source": [
    "$$\n",
    "W=\\int_{x_0}^{x}F_xdx'=\\frac{1}{2}kx_0^2-\\frac{1}{2}kx^2.\n",
    "$$"
   ]
  },
  {
   "cell_type": "markdown",
   "id": "f79f424e",
   "metadata": {},
   "source": [
    "## Conservation of energy\n",
    "With the definition of the work-energy theorem in terms of the kinetic energy we obtained"
   ]
  },
  {
   "cell_type": "markdown",
   "id": "b718ee03",
   "metadata": {},
   "source": [
    "$$\n",
    "W=\\frac{1}{2}mv^2(x)-\\frac{1}{2}mv_0^2=\\frac{1}{2}kx_0^2-\\frac{1}{2}kx^2,\n",
    "$$"
   ]
  },
  {
   "cell_type": "markdown",
   "id": "e5067ac2",
   "metadata": {},
   "source": [
    "which we rewrote as"
   ]
  },
  {
   "cell_type": "markdown",
   "id": "62f04ad9",
   "metadata": {},
   "source": [
    "$$\n",
    "\\frac{1}{2}mv^2(x)+\\frac{1}{2}kx^2=\\frac{1}{2}mv_0^2+\\frac{1}{2}kx_0^2.\n",
    "$$"
   ]
  },
  {
   "cell_type": "markdown",
   "id": "607a43d1",
   "metadata": {},
   "source": [
    "The total energy, which is the sum of potential and kinetic energy, is conserved.\n",
    "We will analyze this interesting result now in more detail when we study energy, momentum and angular momentum conservation.\n",
    "\n",
    "But before we start with energy conservation, conservative forces and potential energies, we need to revisit our definitions of momentum and angular momentum."
   ]
  },
  {
   "cell_type": "markdown",
   "id": "f17d8cdb",
   "metadata": {},
   "source": [
    "## What is a Conservative Force?\n",
    "\n",
    "A conservative force is a force whose property is that the total work\n",
    "done in moving an object between two points is independent of the\n",
    "taken path. This means that the work on an object under the influence\n",
    "of a conservative force, is independent on the path of the object. It\n",
    "depends only on the spatial degrees of freedom and it is possible to\n",
    "assign a numerical value for the potential at any point. It leads to\n",
    "conservation of energy. The gravitational force is an example of a\n",
    "conservative force."
   ]
  },
  {
   "cell_type": "markdown",
   "id": "98537591",
   "metadata": {},
   "source": [
    "## Two important conditions\n",
    "\n",
    "First, a conservative force depends only on the spatial degrees of freedom. This is a necessary condition for obtaining a path integral which is independent of path.\n",
    "The  important condition for the final work to be independent of the path is that the **curl** of the force is zero, that"
   ]
  },
  {
   "cell_type": "markdown",
   "id": "ab541eb7",
   "metadata": {},
   "source": [
    "$$\n",
    "\\boldsymbol{\\nabla} \\times \\boldsymbol{F}=0\n",
    "$$"
   ]
  },
  {
   "cell_type": "markdown",
   "id": "955df4b5",
   "metadata": {},
   "source": [
    "## Work-energy theorem to show that energy is conserved with a conservative force\n",
    "\n",
    "The work-energy theorem states that the work done $W$ by a force $\\boldsymbol{F}$ that moves an object from a position $\\boldsymbol{r}_0$ to a new position $\\boldsymbol{r}_1$"
   ]
  },
  {
   "cell_type": "markdown",
   "id": "9c0a1cb3",
   "metadata": {},
   "source": [
    "$$\n",
    "W=\\int_{\\boldsymbol{r}_0}^{\\boldsymbol{r}_1}\\boldsymbol{F}\\boldsymbol{dr}=\\frac{1}{2}mv_1^2-\\frac{1}{2}mv_0^2,\n",
    "$$"
   ]
  },
  {
   "cell_type": "markdown",
   "id": "073e22bd",
   "metadata": {},
   "source": [
    "where $v_1^2$ is the velocity squared at a time $t_1$ and $v_0^2$ the corresponding quantity at a time $t_0$.\n",
    "The work done is thus the difference in kinetic energies. We can rewrite the above equation as"
   ]
  },
  {
   "cell_type": "markdown",
   "id": "68320d16",
   "metadata": {},
   "source": [
    "$$\n",
    "\\frac{1}{2}mv_1^2=\\int_{\\boldsymbol{r}_0}^{\\boldsymbol{r}_1}\\boldsymbol{F}\\boldsymbol{dr}+\\frac{1}{2}mv_0^2,\n",
    "$$"
   ]
  },
  {
   "cell_type": "markdown",
   "id": "bf6048ce",
   "metadata": {},
   "source": [
    "that is the final kinetic energy is equal to the initial kinetic energy plus the work done by the force over a given path from a  position $\\boldsymbol{r}_0$ at time $t_0$ to a final position position $\\boldsymbol{r}_1$ at a later time $t_1$."
   ]
  },
  {
   "cell_type": "markdown",
   "id": "afe2ff27",
   "metadata": {},
   "source": [
    "## Conservation of Momentum\n",
    "\n",
    "Before we move on however, we need to remind ourselves about important aspects like the linear momentum and angular momentum. After these considerations, we move back to more details about conservatives forces.\n",
    "\n",
    "Assume we have $N$ objects, each with velocity $\\boldsymbol{v}_i$ with\n",
    "$i=1,2,\\dots,N$ and mass $m_i$. The momentum of each object is\n",
    "$\\boldsymbol{p}_i=m\\boldsymbol{v}_i$ and the total linear (or mechanical) momentum is\n",
    "defined as"
   ]
  },
  {
   "cell_type": "markdown",
   "id": "0ae4aabf",
   "metadata": {},
   "source": [
    "$$\n",
    "\\boldsymbol{P}=\\sum_{i=1}^N\\boldsymbol{p}_i=\\sum_{i=1}^Nm_i\\boldsymbol{v}_i,\n",
    "$$"
   ]
  },
  {
   "cell_type": "markdown",
   "id": "5a93b6c4",
   "metadata": {},
   "source": [
    "## Two objects first\n",
    "\n",
    "Let us assume we have two objects only that interact with each other and are influenced by an external force.\n",
    "\n",
    "We define also the total net force acting on object 1 as"
   ]
  },
  {
   "cell_type": "markdown",
   "id": "dfe089e6",
   "metadata": {},
   "source": [
    "$$\n",
    "\\boldsymbol{F}_1^{\\mathrm{net}}=\\boldsymbol{F}_1^{\\mathrm{ext}}+\\boldsymbol{F}_{12},\n",
    "$$"
   ]
  },
  {
   "cell_type": "markdown",
   "id": "73c454f0",
   "metadata": {},
   "source": [
    "where $\\boldsymbol{F}_1^{\\mathrm{ext}}$ is the external force\n",
    "(for example the force due to an electron moving in an electromagnetic field) and $\\boldsymbol{F}_{12}$ is the\n",
    "force between object one and two. Similarly for object 2 we have"
   ]
  },
  {
   "cell_type": "markdown",
   "id": "0e03023e",
   "metadata": {},
   "source": [
    "$$\n",
    "\\boldsymbol{F}_2^{\\mathrm{net}}=\\boldsymbol{F}_2^{\\mathrm{ext}}+\\boldsymbol{F}_{21}.\n",
    "$$"
   ]
  },
  {
   "cell_type": "markdown",
   "id": "2511b244",
   "metadata": {},
   "source": [
    "## Newton's Third Law\n",
    "\n",
    "Newton's third law which we met earlier states that **for every action there is an equal and opposite reaction**.\n",
    "It is more accurately stated as\n",
    "\n",
    "**if two bodies exert forces on each other, these forces are equal in magnitude and opposite in direction**.\n",
    "\n",
    "This means that for two bodies $i$ and $j$, if the force on $i$ due to $j$ is called $\\boldsymbol{F}_{ij}$, then"
   ]
  },
  {
   "cell_type": "markdown",
   "id": "fba499e5",
   "metadata": {},
   "source": [
    "<!-- Equation labels as ordinary links -->\n",
    "<div id=\"_auto1\"></div>\n",
    "\n",
    "$$\n",
    "\\begin{equation}\n",
    "\\boldsymbol{F}_{ij}=-\\boldsymbol{F}_{ji}. \n",
    "\\label{_auto1} \\tag{1}\n",
    "\\end{equation}\n",
    "$$"
   ]
  },
  {
   "cell_type": "markdown",
   "id": "b42c5a9a",
   "metadata": {},
   "source": [
    "For the abovementioned two objects we have thus $\\boldsymbol{F}_{12}=-\\boldsymbol{F}_{21}$."
   ]
  },
  {
   "cell_type": "markdown",
   "id": "d5cd2574",
   "metadata": {},
   "source": [
    "## Newton's Second Law and Momentum\n",
    "\n",
    "With the net forces acting on each object we can now related the momentum to the forces via"
   ]
  },
  {
   "cell_type": "markdown",
   "id": "f21eb482",
   "metadata": {},
   "source": [
    "$$\n",
    "\\boldsymbol{F}_1^{\\mathrm{net}}=m_1\\boldsymbol{a}_i=m_1\\frac{d\\boldsymbol{v}_1}{dt}=\\boldsymbol{F}_1^{\\mathrm{ext}}+\\boldsymbol{F}_{12},\n",
    "$$"
   ]
  },
  {
   "cell_type": "markdown",
   "id": "b2ccdf1b",
   "metadata": {},
   "source": [
    "and"
   ]
  },
  {
   "cell_type": "markdown",
   "id": "5860951e",
   "metadata": {},
   "source": [
    "$$\n",
    "\\boldsymbol{F}_2^{\\mathrm{net}}=m_2\\boldsymbol{a}_2=m_2\\frac{d\\boldsymbol{v}_2}{dt}=\\boldsymbol{F}_2^{\\mathrm{ext}}+\\boldsymbol{F}_{21}.\n",
    "$$"
   ]
  },
  {
   "cell_type": "markdown",
   "id": "3be37dc9",
   "metadata": {},
   "source": [
    "Recalling our definition for the linear momentum we have then"
   ]
  },
  {
   "cell_type": "markdown",
   "id": "55416463",
   "metadata": {},
   "source": [
    "$$\n",
    "\\frac{d\\boldsymbol{p}_1}{dt}=\\boldsymbol{F}_1^{\\mathrm{ext}}+\\boldsymbol{F}_{12},\n",
    "$$"
   ]
  },
  {
   "cell_type": "markdown",
   "id": "afe553da",
   "metadata": {},
   "source": [
    "and"
   ]
  },
  {
   "cell_type": "markdown",
   "id": "9d294029",
   "metadata": {},
   "source": [
    "$$\n",
    "\\frac{d\\boldsymbol{p}_2}{dt}=\\boldsymbol{F}_2^{\\mathrm{ext}}+\\boldsymbol{F}_{21}.\n",
    "$$"
   ]
  },
  {
   "cell_type": "markdown",
   "id": "f39ec268",
   "metadata": {},
   "source": [
    "## The total Momentum\n",
    "\n",
    "The total momentum $\\boldsymbol{P}$ is defined as the sum of the individual momenta, meaning that we can rewrite"
   ]
  },
  {
   "cell_type": "markdown",
   "id": "6cdc5790",
   "metadata": {},
   "source": [
    "$$\n",
    "\\boldsymbol{F}_1^{\\mathrm{net}}+\\boldsymbol{F}_2^{\\mathrm{net}}=\\frac{d\\boldsymbol{p}_1}{dt}+\\frac{d\\boldsymbol{p}_2}{dt}=\\frac{d\\boldsymbol{P}}{dt},\n",
    "$$"
   ]
  },
  {
   "cell_type": "markdown",
   "id": "ba72f2a5",
   "metadata": {},
   "source": [
    "that is the derivate with respect to time of the total momentum. If we now\n",
    "write the net forces as sums of the external plus internal forces\n",
    "between the objects we have"
   ]
  },
  {
   "cell_type": "markdown",
   "id": "a9ead9e0",
   "metadata": {},
   "source": [
    "$$\n",
    "\\frac{d\\boldsymbol{P}}{dt}=\\boldsymbol{F}_1^{\\mathrm{ext}}+\\boldsymbol{F}_{12}+\\boldsymbol{F}_2^{\\mathrm{ext}}+\\boldsymbol{F}_{21}=\\boldsymbol{F}_1^{\\mathrm{ext}}+\\boldsymbol{F}_2^{\\mathrm{ext}}.\n",
    "$$"
   ]
  },
  {
   "cell_type": "markdown",
   "id": "bb78a761",
   "metadata": {},
   "source": [
    "The derivative of the total momentum is just **the sum of the external\n",
    "forces**. If we assume that the external forces are zero and that only\n",
    "internal (here two-body forces) are at play, we obtain the important\n",
    "result that the derivative of the total momentum is zero. This means\n",
    "again that the total momentum is a constant of the motion and\n",
    "conserved quantity. This is a very important result that we will use\n",
    "in many applications to come."
   ]
  },
  {
   "cell_type": "markdown",
   "id": "0edc63a5",
   "metadata": {},
   "source": [
    "## Newton's Second Law\n",
    "\n",
    "Let us now general to several objects $N$ and let us also assume that there are no external forces. We will label such a system as **an isolated system**. \n",
    "\n",
    "Newton's second law, $\\boldsymbol{F}=m\\boldsymbol{a}$, can be written for a particle $i$ as"
   ]
  },
  {
   "cell_type": "markdown",
   "id": "1c2e2e11",
   "metadata": {},
   "source": [
    "<!-- Equation labels as ordinary links -->\n",
    "<div id=\"_auto2\"></div>\n",
    "\n",
    "$$\n",
    "\\begin{equation}\n",
    "\\boldsymbol{F}_i=\\sum_{j\\ne i}^N \\boldsymbol{F}_{ij}=m_i\\boldsymbol{a}_i,\n",
    "\\label{_auto2} \\tag{2}\n",
    "\\end{equation}\n",
    "$$"
   ]
  },
  {
   "cell_type": "markdown",
   "id": "071e3d7b",
   "metadata": {},
   "source": [
    "where $\\boldsymbol{F}_i$ (a single subscript) denotes the net force acting on $i$ from the other objects/particles.\n",
    "Because the mass of $i$ is fixed and we assume it does not change with time, one can see that"
   ]
  },
  {
   "cell_type": "markdown",
   "id": "f4684b6d",
   "metadata": {},
   "source": [
    "<!-- Equation labels as ordinary links -->\n",
    "<div id=\"_auto3\"></div>\n",
    "\n",
    "$$\n",
    "\\begin{equation}\n",
    "\\boldsymbol{F}_i=\\frac{d}{dt}m_i\\boldsymbol{v}_i=\\sum_{j\\ne i}^N\\boldsymbol{F}_{ij}.\n",
    "\\label{_auto3} \\tag{3}\n",
    "\\end{equation}\n",
    "$$"
   ]
  },
  {
   "cell_type": "markdown",
   "id": "7ec914be",
   "metadata": {},
   "source": [
    "## Summing over all Objects/Particles\n",
    "\n",
    "Now, one can sum over all the objects/particles and obtain"
   ]
  },
  {
   "cell_type": "markdown",
   "id": "625a92f8",
   "metadata": {},
   "source": [
    "$$\n",
    "\\frac{d}{dt}\\sum_i m_iv_i=\\sum_{ij, i\\ne j}^N\\boldsymbol{F}_{ij}=0.\n",
    "$$"
   ]
  },
  {
   "cell_type": "markdown",
   "id": "18c9eeff",
   "metadata": {},
   "source": [
    "How did we arrive at the last step?  We rewrote the double sum as"
   ]
  },
  {
   "cell_type": "markdown",
   "id": "7e0549c4",
   "metadata": {},
   "source": [
    "$$\n",
    "\\sum_{ij, i\\ne j}^N\\boldsymbol{F}_{ij}=\\sum_i^N\\sum_{j>i}\\left(\\boldsymbol{F}_{ij}+\\boldsymbol{F}_{ji}\\right),\n",
    "$$"
   ]
  },
  {
   "cell_type": "markdown",
   "id": "1659e76c",
   "metadata": {},
   "source": [
    "and using Newton's third law which states that\n",
    "$\\boldsymbol{F}_{ij}=-\\boldsymbol{F}_{ji}$, we obtain that the net sum over all  the two-particle\n",
    "forces is zero when we only consider so-called **internal forces**.\n",
    "Stated differently, the last step made use of the fact that for every\n",
    "term $ij$, there is an equivalent term $ji$ with opposite\n",
    "force. Because the momentum is defined as $m\\boldsymbol{v}$, for a system of\n",
    "particles, we have thus"
   ]
  },
  {
   "cell_type": "markdown",
   "id": "134ba3cf",
   "metadata": {},
   "source": [
    "<!-- Equation labels as ordinary links -->\n",
    "<div id=\"_auto4\"></div>\n",
    "\n",
    "$$\n",
    "\\begin{equation}\n",
    "\\frac{d}{dt}\\sum_im_i\\boldsymbol{v}_i=0,~~{\\rm for~isolated~particles}.\n",
    "\\label{_auto4} \\tag{4}\n",
    "\\end{equation}\n",
    "$$"
   ]
  },
  {
   "cell_type": "markdown",
   "id": "acac98c2",
   "metadata": {},
   "source": [
    "## Conservation of total Momentum\n",
    "\n",
    "By \"isolated\" one means that the only force acting on any particle $i$\n",
    "are those originating from other particles in the sum, i.e. \"no\n",
    "external\" forces. Thus, Newton's third law leads to the conservation\n",
    "of total momentum,"
   ]
  },
  {
   "cell_type": "markdown",
   "id": "6de649de",
   "metadata": {},
   "source": [
    "$$\n",
    "\\boldsymbol{P}=\\sum_i m_i\\boldsymbol{v}_i,\n",
    "$$"
   ]
  },
  {
   "cell_type": "markdown",
   "id": "81bd46fa",
   "metadata": {},
   "source": [
    "and we have"
   ]
  },
  {
   "cell_type": "markdown",
   "id": "332d557c",
   "metadata": {},
   "source": [
    "$$\n",
    "\\frac{d}{dt}\\boldsymbol{P}=0.\n",
    "$$"
   ]
  },
  {
   "cell_type": "markdown",
   "id": "03b0e365",
   "metadata": {},
   "source": [
    "## Example: Rocket Science\n",
    "\n",
    "Consider a rocket of mass $M$ moving with velocity $v$. After a\n",
    "brief instant, the velocity of the rocket is $v+\\Delta v$ and the mass\n",
    "is $M-\\Delta M$. Momentum conservation gives"
   ]
  },
  {
   "cell_type": "markdown",
   "id": "5ddb9a93",
   "metadata": {},
   "source": [
    "$$\n",
    "\\begin{eqnarray*}\n",
    "Mv&=&(M-\\Delta M)(v+\\Delta v)+\\Delta M(v-v_e)\\\\\n",
    "0&=&-\\Delta Mv+M\\Delta v+\\Delta M(v-v_e),\\\\\n",
    "0&=&M\\Delta v-\\Delta Mv_e.\n",
    "\\end{eqnarray*}\n",
    "$$"
   ]
  },
  {
   "cell_type": "markdown",
   "id": "ed5e2192",
   "metadata": {},
   "source": [
    "In the second step we ignored the term $\\Delta M\\Delta v$ because it is doubly small. The last equation gives"
   ]
  },
  {
   "cell_type": "markdown",
   "id": "46235d70",
   "metadata": {},
   "source": [
    "$$\n",
    "\\begin{eqnarray}\n",
    "\\Delta v&=&\\frac{v_e}{M}\\Delta M,\\\\\n",
    "\\nonumber\n",
    "\\frac{dv}{dt}&=&\\frac{v_e}{M}\\frac{dM}{dt}.\n",
    "\\end{eqnarray}\n",
    "$$"
   ]
  },
  {
   "cell_type": "markdown",
   "id": "9867a487",
   "metadata": {},
   "source": [
    "## Integrating the Equations\n",
    "\n",
    "Integrating the expression with lower limits $v_0=0$ and $M_0$, one finds"
   ]
  },
  {
   "cell_type": "markdown",
   "id": "56a0ccd3",
   "metadata": {},
   "source": [
    "$$\n",
    "\\begin{eqnarray*}\n",
    "v&=&v_e\\int_{M_0}^M \\frac{dM'}{M'}\\\\\n",
    "v&=&v_e\\ln(M/M_0)\\\\\n",
    "&=&v_e\\ln[(M_0-\\alpha t)/M_0].\n",
    "\\end{eqnarray*}\n",
    "$$"
   ]
  },
  {
   "cell_type": "markdown",
   "id": "ec863cef",
   "metadata": {},
   "source": [
    "Because the total momentum of an isolated system is constant, one can\n",
    "also quickly see that the center of mass of an isolated system is also\n",
    "constant. The center of mass is the average position of a set of\n",
    "masses weighted by the mass,"
   ]
  },
  {
   "cell_type": "markdown",
   "id": "713b6949",
   "metadata": {},
   "source": [
    "<!-- Equation labels as ordinary links -->\n",
    "<div id=\"_auto5\"></div>\n",
    "\n",
    "$$\n",
    "\\begin{equation}\n",
    "\\bar{x}=\\frac{\\sum_im_ix_i}{\\sum_i m_i}.\n",
    "\\label{_auto5} \\tag{5}\n",
    "\\end{equation}\n",
    "$$"
   ]
  },
  {
   "cell_type": "markdown",
   "id": "2c5027db",
   "metadata": {},
   "source": [
    "## Rate of Change\n",
    "\n",
    "The rate of change of $\\bar{x}$ is"
   ]
  },
  {
   "cell_type": "markdown",
   "id": "8481eed3",
   "metadata": {},
   "source": [
    "$$\n",
    "\\dot{\\bar{x}}=\\frac{1}{M}\\sum_i m_i\\dot{x}_i=\\frac{1}{M}P_x.\n",
    "$$"
   ]
  },
  {
   "cell_type": "markdown",
   "id": "724f4410",
   "metadata": {},
   "source": [
    "Thus if the total momentum is constant the center of mass moves at a\n",
    "constant velocity, and if the total momentum is zero the center of\n",
    "mass is fixed."
   ]
  },
  {
   "cell_type": "markdown",
   "id": "42c7297c",
   "metadata": {},
   "source": [
    "## Conservation of Angular Momentum\n",
    "\n",
    "The angular momentum is defined as"
   ]
  },
  {
   "cell_type": "markdown",
   "id": "bc8891ae",
   "metadata": {},
   "source": [
    "<!-- Equation labels as ordinary links -->\n",
    "<div id=\"_auto6\"></div>\n",
    "\n",
    "$$\n",
    "\\begin{equation}\n",
    "\\boldsymbol{L}=\\boldsymbol{r}\\times\\boldsymbol{p}=m\\boldsymbol{r}\\times\\boldsymbol{v}.\n",
    "\\label{_auto6} \\tag{6}\n",
    "\\end{equation}\n",
    "$$"
   ]
  },
  {
   "cell_type": "markdown",
   "id": "ee4d8d02",
   "metadata": {},
   "source": [
    "It means that the angular momentum is perpendicular to the plane defined by position $\\boldsymbol{r}$ and the momentum $\\boldsymbol{p}$ via $\\boldsymbol{r}\\times \\boldsymbol{p}$."
   ]
  },
  {
   "cell_type": "markdown",
   "id": "5b8d31d1",
   "metadata": {},
   "source": [
    "## Rate of Change of Angular Momentum\n",
    "\n",
    "The rate of change of the angular momentum is"
   ]
  },
  {
   "cell_type": "markdown",
   "id": "f31d0e3c",
   "metadata": {},
   "source": [
    "$$\n",
    "\\frac{d\\boldsymbol{L}}{dt}=m\\boldsymbol{v}\\times\\boldsymbol{v}+m\\boldsymbol{r}\\times\\dot{\\boldsymbol{v}}=\\boldsymbol{r}\\times{\\boldsymbol{F}}\n",
    "$$"
   ]
  },
  {
   "cell_type": "markdown",
   "id": "269ca763",
   "metadata": {},
   "source": [
    "The first term is zero because $\\boldsymbol{v}$ is parallel to itself, and the\n",
    "second term defines the so-called torque. If $\\boldsymbol{F}$ is parallel to $\\boldsymbol{r}$ then the torque is zero and we say that angular momentum is conserved.\n",
    "\n",
    "If the force is not radial, $\\boldsymbol{r}\\times\\boldsymbol{F}\\ne 0$ as above, and angular momentum is no longer conserved,"
   ]
  },
  {
   "cell_type": "markdown",
   "id": "f750c690",
   "metadata": {},
   "source": [
    "<!-- Equation labels as ordinary links -->\n",
    "<div id=\"_auto7\"></div>\n",
    "\n",
    "$$\n",
    "\\begin{equation}\n",
    "\\frac{d\\boldsymbol{L}}{dt}=\\boldsymbol{r}\\times\\boldsymbol{F}\\equiv\\boldsymbol{\\tau},\n",
    "\\label{_auto7} \\tag{7}\n",
    "\\end{equation}\n",
    "$$"
   ]
  },
  {
   "cell_type": "markdown",
   "id": "2245317e",
   "metadata": {},
   "source": [
    "where $\\boldsymbol{\\tau}$ is the torque."
   ]
  },
  {
   "cell_type": "markdown",
   "id": "8adfc82e",
   "metadata": {},
   "source": [
    "## The Torque, Example 1 (hw 4, exercise 4)\n",
    "\n",
    "Let us assume we have an initial position $\\boldsymbol{r}_0=x_0\\boldsymbol{e}_1+y_0\\boldsymbol{e}_2$ at a time $t_0=0$.\n",
    "We add now a force in the positive $x$-direction"
   ]
  },
  {
   "cell_type": "markdown",
   "id": "49b0b353",
   "metadata": {},
   "source": [
    "$$\n",
    "\\boldsymbol{F}=F_x\\boldsymbol{e}_1=\\frac{d\\boldsymbol{p}}{dt},\n",
    "$$"
   ]
  },
  {
   "cell_type": "markdown",
   "id": "ca978e7f",
   "metadata": {},
   "source": [
    "where we used the force as defined by the time derivative of the momentum.\n",
    "\n",
    "We can use this force (and its pertinent acceleration) to find the velocity via the relation"
   ]
  },
  {
   "cell_type": "markdown",
   "id": "09174772",
   "metadata": {},
   "source": [
    "$$\n",
    "\\boldsymbol{v}(t)=\\boldsymbol{v}_0+\\int_{t_0}^t\\boldsymbol{a}dt',\n",
    "$$"
   ]
  },
  {
   "cell_type": "markdown",
   "id": "a2a75a17",
   "metadata": {},
   "source": [
    "and with $\\boldsymbol{v}_0=0$ we have"
   ]
  },
  {
   "cell_type": "markdown",
   "id": "e7151ca7",
   "metadata": {},
   "source": [
    "$$\n",
    "\\boldsymbol{v}(t)=\\int_{t_0}^t\\frac{\\boldsymbol{F}}{m}dt',\n",
    "$$"
   ]
  },
  {
   "cell_type": "markdown",
   "id": "66f9782b",
   "metadata": {},
   "source": [
    "where $m$ is the mass of the object."
   ]
  },
  {
   "cell_type": "markdown",
   "id": "69226517",
   "metadata": {},
   "source": [
    "## The Torque, Example 1 (hw 4, exercise 4)\n",
    "\n",
    "Since the force acts only in the $x$-direction, we have after integration"
   ]
  },
  {
   "cell_type": "markdown",
   "id": "00d65deb",
   "metadata": {},
   "source": [
    "$$\n",
    "\\boldsymbol{v}(t)=\\frac{\\boldsymbol{F}}{m}t=\\frac{F_x}{m}t\\boldsymbol{e}_1=v_x(t)\\boldsymbol{e}_1.\n",
    "$$"
   ]
  },
  {
   "cell_type": "markdown",
   "id": "6eeadbe4",
   "metadata": {},
   "source": [
    "The momentum is in turn given by $\\boldsymbol{p}=p_x\\boldsymbol{e}_1=mv_x\\boldsymbol{e}_1=F_xt\\boldsymbol{e}_1$.\n",
    "\n",
    "Integrating over time again we find the final position as (note the force depends only on the $x$-direction)"
   ]
  },
  {
   "cell_type": "markdown",
   "id": "8b781daf",
   "metadata": {},
   "source": [
    "$$\n",
    "\\boldsymbol{r}(t)=(x_0+\\frac{1}{2}\\frac{F_x}{m}t^2) \\boldsymbol{e}_1+y_0\\boldsymbol{e}_2.\n",
    "$$"
   ]
  },
  {
   "cell_type": "markdown",
   "id": "0079c3fa",
   "metadata": {},
   "source": [
    "There is no change in the position in the $y$-direction since the force acts only in the $x$-direction."
   ]
  },
  {
   "cell_type": "markdown",
   "id": "a7e2ccc5",
   "metadata": {},
   "source": [
    "## The Torque, Example 1 (hw 4, exercise 4)\n",
    "\n",
    "We can now compute the angular momentum given by"
   ]
  },
  {
   "cell_type": "markdown",
   "id": "de5be795",
   "metadata": {},
   "source": [
    "$$\n",
    "\\boldsymbol{l}=\\boldsymbol{r}\\times\\boldsymbol{p}=\\left[(x_0+\\frac{1}{2}\\frac{F_x}{m}t^2) \\boldsymbol{e}_1+y_0\\boldsymbol{e}_2\\right]\\times F_xt\\boldsymbol{e}_1.\n",
    "$$"
   ]
  },
  {
   "cell_type": "markdown",
   "id": "72a343a4",
   "metadata": {},
   "source": [
    "Computing the cross product we find"
   ]
  },
  {
   "cell_type": "markdown",
   "id": "8d3149fb",
   "metadata": {},
   "source": [
    "$$\n",
    "\\boldsymbol{l}=-y_0F_xt\\boldsymbol{e}_3=-y_0F_xt\\boldsymbol{e}_z.\n",
    "$$"
   ]
  },
  {
   "cell_type": "markdown",
   "id": "9acc3b97",
   "metadata": {},
   "source": [
    "The torque is the time derivative of the angular momentum and we have"
   ]
  },
  {
   "cell_type": "markdown",
   "id": "71f731a2",
   "metadata": {},
   "source": [
    "$$\n",
    "\\boldsymbol{\\tau}=-y_0F_x\\boldsymbol{e}_3=-y_0F_x\\boldsymbol{e}_z.\n",
    "$$"
   ]
  },
  {
   "cell_type": "markdown",
   "id": "4861636d",
   "metadata": {},
   "source": [
    "The torque is non-zero and angular momentum is not conserved."
   ]
  },
  {
   "cell_type": "markdown",
   "id": "bf1672a8",
   "metadata": {},
   "source": [
    "## The Torque, Example 2\n",
    "\n",
    "One can write the torque about a given axis, which we will denote as $\\hat{z}$, in polar coordinates, where"
   ]
  },
  {
   "cell_type": "markdown",
   "id": "2379762c",
   "metadata": {},
   "source": [
    "$$\n",
    "\\begin{eqnarray}\n",
    "x&=&r\\sin\\theta\\cos\\phi,~~y=r\\sin\\theta\\cos\\phi,~~z=r\\cos\\theta,\n",
    "\\end{eqnarray}\n",
    "$$"
   ]
  },
  {
   "cell_type": "markdown",
   "id": "df06dc9f",
   "metadata": {},
   "source": [
    "to find the $z$ component of the torque,"
   ]
  },
  {
   "cell_type": "markdown",
   "id": "a9bec8d5",
   "metadata": {},
   "source": [
    "$$\n",
    "\\begin{eqnarray}\n",
    "\\tau_z&=&xF_y-yF_x\\\\\n",
    "\\nonumber\n",
    "&=&-r\\sin\\theta\\left\\{\\cos\\phi \\partial_y-\\sin\\phi \\partial_x\\right\\}V(x,y,z).\n",
    "\\end{eqnarray}\n",
    "$$"
   ]
  },
  {
   "cell_type": "markdown",
   "id": "e3637642",
   "metadata": {},
   "source": [
    "## Chain Rule and Partial Derivatives\n",
    "\n",
    "One can use the chain rule to write the partial derivative w.r.t. $\\phi$ (keeping $r$ and $\\theta$ fixed),"
   ]
  },
  {
   "cell_type": "markdown",
   "id": "4e9738c0",
   "metadata": {},
   "source": [
    "$$\n",
    "\\begin{eqnarray}\n",
    "\\partial_\\phi&=&\\frac{\\partial x}{\\partial\\phi}\\partial_x+\\frac{\\partial_y}{\\partial\\phi}\\partial_y\n",
    "+\\frac{\\partial z}{\\partial\\phi}\\partial_z\\\\\n",
    "\\nonumber\n",
    "&=&-r\\sin\\theta\\sin\\phi\\partial_x+\\sin\\theta\\cos\\phi\\partial_y.\n",
    "\\end{eqnarray}\n",
    "$$"
   ]
  },
  {
   "cell_type": "markdown",
   "id": "d29ccdc3",
   "metadata": {},
   "source": [
    "Combining the two equations,"
   ]
  },
  {
   "cell_type": "markdown",
   "id": "b2e87322",
   "metadata": {},
   "source": [
    "$$\n",
    "\\begin{eqnarray}\n",
    "\\tau_z&=&-\\partial_\\phi V(r,\\theta,\\phi).\n",
    "\\end{eqnarray}\n",
    "$$"
   ]
  },
  {
   "cell_type": "markdown",
   "id": "d2eaf395",
   "metadata": {},
   "source": [
    "Thus, if the potential is independent of the azimuthal angle $\\phi$,\n",
    "there is no torque about the $z$ axis and $L_z$ is conserved."
   ]
  },
  {
   "cell_type": "markdown",
   "id": "5fa91717",
   "metadata": {},
   "source": [
    "## System of Isolated Particles\n",
    "\n",
    "For a system of isolated particles, one can write"
   ]
  },
  {
   "cell_type": "markdown",
   "id": "6860b429",
   "metadata": {},
   "source": [
    "$$\n",
    "\\begin{eqnarray}\n",
    "\\frac{d}{dt}\\sum_i\\boldsymbol{L}_i&=&\\sum_{i\\ne j}\\boldsymbol{r}_i\\times \\boldsymbol{F}_{ij}\\\\\n",
    "\\nonumber\n",
    "&=&\\frac{1}{2}\\sum_{ij, i\\ne j} \\boldsymbol{r}_i\\times \\boldsymbol{F}_{ij}+\\boldsymbol{r}_j\\times\\boldsymbol{F}_{ji}\\\\\n",
    "\\nonumber\n",
    "&=&\\frac{1}{2}\\sum_{ij, i\\ne j} (\\boldsymbol{r}_i-\\boldsymbol{r}_j)\\times\\boldsymbol{F}_{ij}=0,\n",
    "\\end{eqnarray}\n",
    "$$"
   ]
  },
  {
   "cell_type": "markdown",
   "id": "91d67663",
   "metadata": {},
   "source": [
    "where the last step used Newton's third law,\n",
    "$\\boldsymbol{F}_{ij}=-\\boldsymbol{F}_{ji}$. If the forces between the particles are\n",
    "radial, i.e. $\\boldsymbol{F}_{ij} ~||~ (\\boldsymbol{r}_i-\\boldsymbol{r}_j)$, then each term in\n",
    "the sum is zero and the net angular momentum is fixed. Otherwise, you\n",
    "could imagine an isolated system that would start spinning\n",
    "spontaneously."
   ]
  },
  {
   "cell_type": "markdown",
   "id": "ef3abbed",
   "metadata": {},
   "source": [
    "## Homework 3, exercises 5 and 6, numerical solution"
   ]
  },
  {
   "cell_type": "code",
   "execution_count": 1,
   "id": "def4a6a5",
   "metadata": {},
   "outputs": [],
   "source": [
    "%matplotlib inline\n",
    "\n",
    "# let's start by importing useful packages we are familiar with\n",
    "import numpy as np\n",
    "import matplotlib.pyplot as plt\n",
    "%matplotlib inline"
   ]
  },
  {
   "cell_type": "markdown",
   "id": "138a9cd7",
   "metadata": {},
   "source": [
    "We will choose the following values\n",
    "1. mass $m=0,2$ kg\n",
    "\n",
    "2. accelleration (gravity) $g=9.81$ m/s$^{2}$.\n",
    "\n",
    "3. initial position is the height $h=2$ m\n",
    "\n",
    "4. initial velocities $v_{x,0}=v_{y,0}=10$ m/s\n",
    "\n",
    "You need also to define an initial time and \n",
    "the step size $\\Delta t$. We can define the step size $\\Delta t$ as the difference between any\n",
    "two neighboring values in time (time steps) that we analyze within\n",
    "some range. It can be determined by dividing the interval we are\n",
    "analyzing, which in our case is time $t_{\\mathrm{final}}-t_0$, by the number of steps we\n",
    "are taking $(N)$. This gives us a step size $\\Delta t = \\dfrac{t_{\\mathrm{final}}-t_0}{N}$.\n",
    "\n",
    "With these preliminaries we are now ready to plot our results from exercise 5.\n",
    "\n",
    "In setting up our code we need to\n",
    "\n",
    "1. Define and obtain all initial values, constants, and time to be analyzed with step sizes as done above (you can use the same values)\n",
    "\n",
    "2. Calculate the velocity using $v_{i+1} = v_{i} + (\\Delta t)*a_{i}$\n",
    "\n",
    "3. Calculate the position using $pos_{i+1} = r_{i} + (\\Delta t)*v_{i}$\n",
    "\n",
    "4. Calculate the new acceleration $a_{i+1}$.\n",
    "\n",
    "5. Repeat steps 2-4 for all time steps within a loop."
   ]
  },
  {
   "cell_type": "code",
   "execution_count": 3,
   "id": "4b786643",
   "metadata": {},
   "outputs": [
    {
     "data": {
      "text/html": [
       "<div>\n",
       "<style scoped>\n",
       "    .dataframe tbody tr th:only-of-type {\n",
       "        vertical-align: middle;\n",
       "    }\n",
       "\n",
       "    .dataframe tbody tr th {\n",
       "        vertical-align: top;\n",
       "    }\n",
       "\n",
       "    .dataframe thead th {\n",
       "        text-align: right;\n",
       "    }\n",
       "</style>\n",
       "<table border=\"1\" class=\"dataframe\">\n",
       "  <thead>\n",
       "    <tr style=\"text-align: right;\">\n",
       "      <th></th>\n",
       "      <th>t[s]</th>\n",
       "      <th>Relative error in y</th>\n",
       "      <th>vy[m/s]</th>\n",
       "      <th>x[m]</th>\n",
       "      <th>vx[m/s]</th>\n",
       "    </tr>\n",
       "  </thead>\n",
       "  <tbody>\n",
       "    <tr>\n",
       "      <th>0</th>\n",
       "      <td>0.000</td>\n",
       "      <td>0.000000e+00</td>\n",
       "      <td>6.000000</td>\n",
       "      <td>2.000000</td>\n",
       "      <td>5.000000</td>\n",
       "    </tr>\n",
       "    <tr>\n",
       "      <th>1</th>\n",
       "      <td>0.001</td>\n",
       "      <td>4.900337e-07</td>\n",
       "      <td>5.989619</td>\n",
       "      <td>2.005000</td>\n",
       "      <td>4.999522</td>\n",
       "    </tr>\n",
       "    <tr>\n",
       "      <th>2</th>\n",
       "      <td>0.002</td>\n",
       "      <td>9.221447e-07</td>\n",
       "      <td>5.979240</td>\n",
       "      <td>2.010000</td>\n",
       "      <td>4.999044</td>\n",
       "    </tr>\n",
       "    <tr>\n",
       "      <th>3</th>\n",
       "      <td>0.003</td>\n",
       "      <td>1.296598e-06</td>\n",
       "      <td>5.968863</td>\n",
       "      <td>2.014999</td>\n",
       "      <td>4.998567</td>\n",
       "    </tr>\n",
       "    <tr>\n",
       "      <th>4</th>\n",
       "      <td>0.004</td>\n",
       "      <td>1.613655e-06</td>\n",
       "      <td>5.958487</td>\n",
       "      <td>2.019997</td>\n",
       "      <td>4.998090</td>\n",
       "    </tr>\n",
       "    <tr>\n",
       "      <th>...</th>\n",
       "      <td>...</td>\n",
       "      <td>...</td>\n",
       "      <td>...</td>\n",
       "      <td>...</td>\n",
       "      <td>...</td>\n",
       "    </tr>\n",
       "    <tr>\n",
       "      <th>1395</th>\n",
       "      <td>1.395</td>\n",
       "      <td>4.922056e-02</td>\n",
       "      <td>-7.558819</td>\n",
       "      <td>8.635122</td>\n",
       "      <td>4.502932</td>\n",
       "    </tr>\n",
       "    <tr>\n",
       "      <th>1396</th>\n",
       "      <td>1.396</td>\n",
       "      <td>4.934922e-02</td>\n",
       "      <td>-7.567811</td>\n",
       "      <td>8.639625</td>\n",
       "      <td>4.502447</td>\n",
       "    </tr>\n",
       "    <tr>\n",
       "      <th>1397</th>\n",
       "      <td>1.397</td>\n",
       "      <td>4.947823e-02</td>\n",
       "      <td>-7.576801</td>\n",
       "      <td>8.644128</td>\n",
       "      <td>4.501961</td>\n",
       "    </tr>\n",
       "    <tr>\n",
       "      <th>1398</th>\n",
       "      <td>1.398</td>\n",
       "      <td>4.960760e-02</td>\n",
       "      <td>-7.585789</td>\n",
       "      <td>8.648630</td>\n",
       "      <td>4.501475</td>\n",
       "    </tr>\n",
       "    <tr>\n",
       "      <th>1399</th>\n",
       "      <td>1.399</td>\n",
       "      <td>4.973733e-02</td>\n",
       "      <td>-7.594776</td>\n",
       "      <td>8.653131</td>\n",
       "      <td>4.500989</td>\n",
       "    </tr>\n",
       "  </tbody>\n",
       "</table>\n",
       "<p>1400 rows × 5 columns</p>\n",
       "</div>"
      ],
      "text/plain": [
       "       t[s]  Relative error in y   vy[m/s]      x[m]   vx[m/s]\n",
       "0     0.000         0.000000e+00  6.000000  2.000000  5.000000\n",
       "1     0.001         4.900337e-07  5.989619  2.005000  4.999522\n",
       "2     0.002         9.221447e-07  5.979240  2.010000  4.999044\n",
       "3     0.003         1.296598e-06  5.968863  2.014999  4.998567\n",
       "4     0.004         1.613655e-06  5.958487  2.019997  4.998090\n",
       "...     ...                  ...       ...       ...       ...\n",
       "1395  1.395         4.922056e-02 -7.558819  8.635122  4.502932\n",
       "1396  1.396         4.934922e-02 -7.567811  8.639625  4.502447\n",
       "1397  1.397         4.947823e-02 -7.576801  8.644128  4.501961\n",
       "1398  1.398         4.960760e-02 -7.585789  8.648630  4.501475\n",
       "1399  1.399         4.973733e-02 -7.594776  8.653131  4.500989\n",
       "\n",
       "[1400 rows x 5 columns]"
      ]
     },
     "metadata": {},
     "output_type": "display_data"
    },
    {
     "data": {
      "image/png": "[encoded data removed]",
      "text/plain": [
       "<Figure size 800x550 with 4 Axes>"
      ]
     },
     "metadata": {},
     "output_type": "display_data"
    }
   ],
   "source": [
    "# Exercise 6, hw3, brute force way with declaration of vx, vy, x and y\n",
    "# Common imports\n",
    "import numpy as np\n",
    "import pandas as pd\n",
    "from math import *\n",
    "import matplotlib.pyplot as plt\n",
    "import os\n",
    "\n",
    "# Where to save the figures and data files\n",
    "PROJECT_ROOT_DIR = \"Results\"\n",
    "FIGURE_ID = \"Results/FigureFiles\"\n",
    "DATA_ID = \"DataFiles/\"\n",
    "\n",
    "if not os.path.exists(PROJECT_ROOT_DIR):\n",
    "    os.mkdir(PROJECT_ROOT_DIR)\n",
    "\n",
    "if not os.path.exists(FIGURE_ID):\n",
    "    os.makedirs(FIGURE_ID)\n",
    "\n",
    "if not os.path.exists(DATA_ID):\n",
    "    os.makedirs(DATA_ID)\n",
    "\n",
    "def image_path(fig_id):\n",
    "    return os.path.join(FIGURE_ID, fig_id)\n",
    "\n",
    "def data_path(dat_id):\n",
    "    return os.path.join(DATA_ID, dat_id)\n",
    "\n",
    "def save_fig(fig_id):\n",
    "    plt.savefig(image_path(fig_id) + \".png\", format='png')\n",
    "\n",
    "# Output file\n",
    "outfile = open(data_path(\"Eulerresults.dat\"),'w')\n",
    "\n",
    "from pylab import plt, mpl\n",
    "plt.style.use('seaborn')\n",
    "mpl.rcParams['font.family'] = 'serif'\n",
    "\n",
    "\n",
    "g = 9.80655 #m/s^2\n",
    "# The mass and the drag constant D\n",
    "D = 0.00245 #mass/length   kg/m\n",
    "m = 0.2 #kg, mass of falling object\n",
    "DeltaT = 0.001\n",
    "#set up arrays \n",
    "tfinal = 1.4\n",
    "# set up number of points for all variables\n",
    "n = ceil(tfinal/DeltaT)\n",
    "# define scaling constant vT used in analytical solution\n",
    "vT = sqrt(m*g/D)\n",
    "# set up arrays for t, a, v, and y and arrays for analytical results\n",
    "#brute force setting up of arrays for x and y, vx, vy, ax and ay\n",
    "t = np.zeros(n)\n",
    "vy = np.zeros(n)\n",
    "y = np.zeros(n)\n",
    "vx = np.zeros(n)\n",
    "x = np.zeros(n)\n",
    "yanalytic = np.zeros(n)\n",
    "# Initial conditions, note that these correspond to an object falling in the y-direction only.\n",
    "vx[0] = 5.0 #m/s\n",
    "vy[0] = 6.0  #m/s\n",
    "y[0] = 10.0 #m\n",
    "x[0] = 2.0 #m\n",
    "yanalytic[0] = y[0]\n",
    "# Start integrating using Euler's method\n",
    "for i in range(n-1):\n",
    "    # expression for acceleration, note the absolute value and division by mass\n",
    "# Note: you need to think of the sign for the drag force as function of the velocity vector \n",
    "    ax = -D*vx[i]*sqrt(vx[i]**2+vy[i]**2)/m\n",
    "    ay = -g - D*vy[i]*sqrt(vx[i]**2+vy[i]**2)/m\n",
    "    # update velocity and position\n",
    "    vx[i+1] = vx[i] + DeltaT*ax\n",
    "    x[i+1] = x[i] + DeltaT*vx[i]\n",
    "    vy[i+1] = vy[i] + DeltaT*ay\n",
    "    y[i+1] = y[i] + DeltaT*vy[i]\n",
    "    # update time to next time step and compute analytical answer\n",
    "    t[i+1] = t[i] + DeltaT\n",
    "    yanalytic[i+1] = y[0]-(vT*vT/g)*log(cosh(g*t[i+1]/vT))+vy[0]*t[i+1]\n",
    "    if ( y[i+1] < 0.0):\n",
    "        break\n",
    "data = {'t[s]': t,\n",
    "        'Relative error in y': abs((y-yanalytic)/yanalytic),\n",
    "        'vy[m/s]': vy,\n",
    "        'x[m]': x,\n",
    "        'vx[m/s]': vx\n",
    "}\n",
    "NewData = pd.DataFrame(data)\n",
    "display(NewData)\n",
    "# save to file\n",
    "NewData.to_csv(outfile, index=False)\n",
    "#then plot\n",
    "fig, axs = plt.subplots(4, 1)\n",
    "axs[0].plot(t, y)\n",
    "axs[0].set_xlim(0, tfinal)\n",
    "axs[0].set_ylabel('y')\n",
    "axs[1].plot(t, vy)\n",
    "axs[1].set_ylabel('vy[m/s]')\n",
    "axs[1].set_xlabel('time[s]')\n",
    "axs[2].plot(t, x)\n",
    "axs[2].set_xlim(0, tfinal)\n",
    "axs[2].set_ylabel('x')\n",
    "axs[3].plot(t, vx)\n",
    "axs[3].set_ylabel('vx[m/s]')\n",
    "axs[3].set_xlabel('time[s]')\n",
    "fig.tight_layout()\n",
    "save_fig(\"EulerIntegration\")\n",
    "plt.show()"
   ]
  },
  {
   "cell_type": "markdown",
   "id": "b6967c61",
   "metadata": {},
   "source": [
    "## A more compact version of the code"
   ]
  },
  {
   "cell_type": "code",
   "execution_count": 3,
   "id": "c21e9d65",
   "metadata": {},
   "outputs": [],
   "source": [
    "# Exercise 6, hw3, smarter way with declaration of vx, vy, x and y\n",
    "# Common imports\n",
    "import numpy as np\n",
    "import pandas as pd\n",
    "from math import *\n",
    "import matplotlib.pyplot as plt\n",
    "import os\n",
    "\n",
    "# Where to save the figures and data files\n",
    "PROJECT_ROOT_DIR = \"Results\"\n",
    "FIGURE_ID = \"Results/FigureFiles\"\n",
    "DATA_ID = \"DataFiles/\"\n",
    "\n",
    "if not os.path.exists(PROJECT_ROOT_DIR):\n",
    "    os.mkdir(PROJECT_ROOT_DIR)\n",
    "\n",
    "if not os.path.exists(FIGURE_ID):\n",
    "    os.makedirs(FIGURE_ID)\n",
    "\n",
    "if not os.path.exists(DATA_ID):\n",
    "    os.makedirs(DATA_ID)\n",
    "\n",
    "def image_path(fig_id):\n",
    "    return os.path.join(FIGURE_ID, fig_id)\n",
    "\n",
    "def data_path(dat_id):\n",
    "    return os.path.join(DATA_ID, dat_id)\n",
    "\n",
    "def save_fig(fig_id):\n",
    "    plt.savefig(image_path(fig_id) + \".png\", format='png')\n",
    "\n",
    "\n",
    "from pylab import plt, mpl\n",
    "plt.style.use('seaborn')\n",
    "mpl.rcParams['font.family'] = 'serif'\n",
    "\n",
    "g = 9.80655 #m/s^2 g to 6 leading digits after decimal point\n",
    "D = 0.00245 #m/s\n",
    "m = 0.2 # kg\n",
    "# Define Gravitational force as a vector in x and y. It is a constant\n",
    "G = -m*g*np.array([0.0,1])\n",
    "DeltaT = 0.01\n",
    "#set up arrays \n",
    "tfinal = 1.3\n",
    "n = ceil(tfinal/DeltaT)\n",
    "# set up arrays for t, a, v, and x\n",
    "t = np.zeros(n)\n",
    "v = np.zeros((n,2))\n",
    "r = np.zeros((n,2))\n",
    "# Initial conditions as compact 2-dimensional arrays\n",
    "r0 = np.array([0.0,10.0])\n",
    "v0 = np.array([10.0,0.0])\n",
    "r[0] = r0\n",
    "v[0] = v0\n",
    "# Start integrating using Euler's method\n",
    "for i in range(n-1):\n",
    "    # Set up forces, air resistance FD, note now that we need the norm of the vector\n",
    "    # Here you could have defined your own function for this\n",
    "    vabs = sqrt(sum(v[i]*v[i]))\n",
    "# Note: you need to think of the sign for the drag force \n",
    "    FD = -D*v[i]*vabs\n",
    "    # Final net forces acting on falling object\n",
    "    Fnet = FD+G\n",
    "    # The accelration at a given time t_i\n",
    "    a = Fnet/m\n",
    "    # update velocity, time and position using Euler's method\n",
    "    v[i+1] = v[i] + DeltaT*a\n",
    "    r[i+1] = r[i] + DeltaT*v[i]\n",
    "    t[i+1] = t[i] + DeltaT\n",
    "\n",
    "fig, axs = plt.subplots(4, 1)\n",
    "axs[0].plot(t, r[:,1])\n",
    "axs[0].set_xlim(0, tfinal)\n",
    "axs[0].set_ylabel('y')\n",
    "axs[1].plot(t, v[:,1])\n",
    "axs[1].set_ylabel('vy[m/s]')\n",
    "axs[1].set_xlabel('time[s]')\n",
    "axs[2].plot(t, r[:,0])\n",
    "axs[2].set_xlim(0, tfinal)\n",
    "axs[2].set_ylabel('x')\n",
    "axs[3].plot(t, v[:,0])\n",
    "axs[3].set_ylabel('vx[m/s]')\n",
    "axs[3].set_xlabel('time[s]')\n",
    "\n",
    "fig.tight_layout()\n",
    "save_fig(\"EulerIntegration\")\n",
    "plt.show()"
   ]
  }
 ],
 "metadata": {
  "kernelspec": {
   "display_name": "Python 3 (ipykernel)",
   "language": "python",
   "name": "python3"
  },
  "language_info": {
   "codemirror_mode": {
    "name": "ipython",
    "version": 3
   },
   "file_extension": ".py",
   "mimetype": "text/x-python",
   "name": "python",
   "nbconvert_exporter": "python",
   "pygments_lexer": "ipython3",
   "version": "3.9.10"
  }
 },
 "nbformat": 4,
 "nbformat_minor": 5
}
