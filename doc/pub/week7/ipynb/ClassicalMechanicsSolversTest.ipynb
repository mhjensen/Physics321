{
 "cells": [
  {
   "cell_type": "code",
   "execution_count": 1,
   "id": "e5de9ff0",
   "metadata": {},
   "outputs": [],
   "source": [
    "from ClassicalMechanicsSolvers import *"
   ]
  },
  {
   "cell_type": "code",
   "execution_count": 1,
   "id": "fbf140da",
   "metadata": {},
   "outputs": [
    {
     "ename": "NameError",
     "evalue": "name 'ClassicalMechanicsSolvers' is not defined",
     "output_type": "error",
     "traceback": [
      "\u001b[0;31m---------------------------------------------------------------------------\u001b[0m",
      "\u001b[0;31mNameError\u001b[0m                                 Traceback (most recent call last)",
      "\u001b[0;32m/var/folders/td/3yk470mj5p931p9dtkk0y6jw0000gn/T/ipykernel_62689/3298101555.py\u001b[0m in \u001b[0;36m<module>\u001b[0;34m\u001b[0m\n\u001b[1;32m      5\u001b[0m \u001b[0mv_0\u001b[0m \u001b[0;34m=\u001b[0m \u001b[0;36m10\u001b[0m\u001b[0;34m\u001b[0m\u001b[0;34m\u001b[0m\u001b[0m\n\u001b[1;32m      6\u001b[0m \u001b[0my_0\u001b[0m \u001b[0;34m=\u001b[0m \u001b[0;36m0\u001b[0m\u001b[0;34m\u001b[0m\u001b[0;34m\u001b[0m\u001b[0m\n\u001b[0;32m----> 7\u001b[0;31m \u001b[0mcm\u001b[0m \u001b[0;34m=\u001b[0m \u001b[0mClassicalMechanicsSolvers\u001b[0m\u001b[0;34m(\u001b[0m\u001b[0mg\u001b[0m\u001b[0;34m,\u001b[0m \u001b[0mD\u001b[0m\u001b[0;34m,\u001b[0m \u001b[0mDeltaT\u001b[0m\u001b[0;34m,\u001b[0m \u001b[0mtfinal\u001b[0m\u001b[0;34m,\u001b[0m \u001b[0mv_0\u001b[0m\u001b[0;34m,\u001b[0m \u001b[0my_0\u001b[0m\u001b[0;34m)\u001b[0m\u001b[0;34m\u001b[0m\u001b[0;34m\u001b[0m\u001b[0m\n\u001b[0m\u001b[1;32m      8\u001b[0m \u001b[0mcm\u001b[0m\u001b[0;34m.\u001b[0m\u001b[0meuler\u001b[0m \u001b[0;34m(\u001b[0m\u001b[0mmin_position\u001b[0m\u001b[0;34m=\u001b[0m\u001b[0;36m0.0\u001b[0m\u001b[0;34m,\u001b[0m \u001b[0macceleration_eq\u001b[0m\u001b[0;34m=\u001b[0m\u001b[0mfreefall_no_drag_acceleration\u001b[0m\u001b[0;34m,\u001b[0m \u001b[0myanalytic_eq\u001b[0m\u001b[0;34m=\u001b[0m\u001b[0mfreefall_no_drag_yanalytic\u001b[0m\u001b[0;34m)\u001b[0m\u001b[0;34m\u001b[0m\u001b[0;34m\u001b[0m\u001b[0m\n\u001b[1;32m      9\u001b[0m \u001b[0mcm\u001b[0m\u001b[0;34m.\u001b[0m\u001b[0mdisplay_data\u001b[0m\u001b[0;34m(\u001b[0m\u001b[0;34m)\u001b[0m\u001b[0;34m\u001b[0m\u001b[0;34m\u001b[0m\u001b[0m\n",
      "\u001b[0;31mNameError\u001b[0m: name 'ClassicalMechanicsSolvers' is not defined"
     ]
    }
   ],
   "source": [
    "g = 9.80655 #m/s^2\n",
    "D = 0.00245 #m/s\n",
    "DeltaT = 0.01\n",
    "tfinal = 100\n",
    "v_0 = 10\n",
    "y_0 = 0\n",
    "cm = ClassicalMechanicsSolvers(g, D, DeltaT, tfinal, v_0, y_0)\n",
    "cm.euler (min_position=0.0, acceleration_eq=freefall_no_drag_acceleration, yanalytic_eq=freefall_no_drag_yanalytic)\n",
    "cm.display_data()\n",
    "cm.graph_data()"
   ]
  },
  {
   "cell_type": "code",
   "execution_count": null,
   "id": "a0463811",
   "metadata": {},
   "outputs": [],
   "source": []
  }
 ],
 "metadata": {
  "kernelspec": {
   "display_name": "Python 3 (ipykernel)",
   "language": "python",
   "name": "python3"
  },
  "language_info": {
   "codemirror_mode": {
    "name": "ipython",
    "version": 3
   },
   "file_extension": ".py",
   "mimetype": "text/x-python",
   "name": "python",
   "nbconvert_exporter": "python",
   "pygments_lexer": "ipython3",
   "version": "3.9.10"
  }
 },
 "nbformat": 4,
 "nbformat_minor": 5
}
