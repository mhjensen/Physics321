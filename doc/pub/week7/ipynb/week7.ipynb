{
 "cells": [
  {
   "cell_type": "markdown",
   "id": "23ba9ffb",
   "metadata": {
    "editable": true
   },
   "source": [
    "<!-- HTML file automatically generated from DocOnce source (https://github.com/doconce/doconce/)\n",
    "doconce format html week7.do.txt --no_mako -->\n",
    "<!-- dom:TITLE: PHY321: Conservative Forces, Examples and Theory and start Harmonic Oscillations -->"
   ]
  },
  {
   "cell_type": "markdown",
   "id": "f108bf4f",
   "metadata": {
    "editable": true
   },
   "source": [
    "# PHY321: Conservative Forces, Examples and Theory and start Harmonic Oscillations\n",
    "**[Morten Hjorth-Jensen](http://mhjgit.github.io/info/doc/web/)**, Department of Physics and Astronomy and Facility for Rare Ion Beams (FRIB), Michigan State University, USA and Department of Physics, University of Oslo, Norway\n",
    "\n",
    "Date: **Feb 13, 2022**\n",
    "\n",
    "Copyright 1999-2022, [Morten Hjorth-Jensen](http://mhjgit.github.io/info/doc/web/). Released under CC Attribution-NonCommercial 4.0 license"
   ]
  },
  {
   "cell_type": "markdown",
   "id": "c3231b85",
   "metadata": {
    "editable": true
   },
   "source": [
    "## Aims and Overarching Motivation"
   ]
  },
  {
   "cell_type": "markdown",
   "id": "ad3e2ccf",
   "metadata": {
    "editable": true
   },
   "source": [
    "### Monday\n",
    "\n",
    "Discussion of conditions for conservative forces and summing up our\n",
    "discussion on conservative forces. Discussion of potential surfaces\n",
    "and their interpretations.  Start discussion of hamronic oscillations.\n",
    "\n",
    "and the Earth-Sun gravitional\n",
    "force example.  **Reading suggestion**: Taylor sections 4.3, 4.4 and 4.8."
   ]
  },
  {
   "cell_type": "markdown",
   "id": "196912c8",
   "metadata": {
    "editable": true
   },
   "source": [
    "### Wednesday\n",
    "\n",
    "The Earth sun problem and energy-conserving algorithms and how to encode in more efficient ways\n",
    "\n",
    "**Reading suggestions**: Taylor section 4.6, 4.8 and 4.9."
   ]
  },
  {
   "cell_type": "markdown",
   "id": "613c1b2c",
   "metadata": {
    "editable": true
   },
   "source": [
    "### Friday\n",
    "\n",
    "Working on the Earth-Sun,  conservative forces and potential energy and solution of hw 5."
   ]
  },
  {
   "cell_type": "markdown",
   "id": "b319d432",
   "metadata": {
    "editable": true
   },
   "source": [
    "## Additional Material: Link between Line Integrals and Conservative forces\n",
    "\n",
    "The concept of line integrals plays an important role in our discussion of energy conservation,\n",
    "our definition of potentials and conservative forces.\n",
    "\n",
    "Let us remind ourselves of some the basic elements (most of you may\n",
    "have seen this in a calculus course under the general topic of vector\n",
    "fields).\n",
    "\n",
    "We define a path integration $C$, that is we integrate\n",
    "from a point $\\boldsymbol{r}_1$ to a point $\\boldsymbol{r}_2$. \n",
    "Let us assume that the path $C$ is represented by an arc length $s$. In three dimension we have the following representation of $C$"
   ]
  },
  {
   "cell_type": "markdown",
   "id": "d6a9ceb9",
   "metadata": {
    "editable": true
   },
   "source": [
    "$$\n",
    "\\boldsymbol{r}(s)=x(s)\\boldsymbol{e}_1+y(s)\\boldsymbol{e}_2+z(s)\\boldsymbol{e}_3,\n",
    "$$"
   ]
  },
  {
   "cell_type": "markdown",
   "id": "0c5d1dd2",
   "metadata": {
    "editable": true
   },
   "source": [
    "then our integral of a function $f(x,y,z)$ along the path $C$ is defined as"
   ]
  },
  {
   "cell_type": "markdown",
   "id": "48815524",
   "metadata": {
    "editable": true
   },
   "source": [
    "$$\n",
    "\\int_Cf(x,y,z)ds=\\int_a^bf\\left(x(s),y(s),z(s)\\right)ds,\n",
    "$$"
   ]
  },
  {
   "cell_type": "markdown",
   "id": "6d03820f",
   "metadata": {
    "editable": true
   },
   "source": [
    "where the initial and final points are $a$ and $b$, respectively."
   ]
  },
  {
   "cell_type": "markdown",
   "id": "77d21c91",
   "metadata": {
    "editable": true
   },
   "source": [
    "## Exactness and Independence of Path\n",
    "\n",
    "With the definition of a line integral, we can in tunrn set up the\n",
    "theorem of independence of integration path.\n",
    "\n",
    "Let us define\n",
    "$f(x,y,z)$, $g(x,y,z)$ and $h(x,y,z)$ to be functions which are\n",
    "defined and continuous in a domain $D$ in space. Then a line integral\n",
    "like the above is said to be independent of path in $D$, if for every\n",
    "pair of endpoints $a$ and $b$ in $D$ the value of the integral is the\n",
    "same for all paths $C$ in $D$ starting from a point $a$ and ending in\n",
    "a point $b$. The integral depends thus only on the integration limits\n",
    "and not on the path."
   ]
  },
  {
   "cell_type": "markdown",
   "id": "df359234",
   "metadata": {
    "editable": true
   },
   "source": [
    "## Differential Forms\n",
    "\n",
    "An expression of the form"
   ]
  },
  {
   "cell_type": "markdown",
   "id": "f4162006",
   "metadata": {
    "editable": true
   },
   "source": [
    "$$\n",
    "fdx+gdy+hdz,\n",
    "$$"
   ]
  },
  {
   "cell_type": "markdown",
   "id": "d71ff26a",
   "metadata": {
    "editable": true
   },
   "source": [
    "where $f$, $g$ and $h$ are functions defined in $D$, is a called a first-order differential form\n",
    "in three variables.\n",
    "The form is said to be exact if it is the differential"
   ]
  },
  {
   "cell_type": "markdown",
   "id": "6f3deec4",
   "metadata": {
    "editable": true
   },
   "source": [
    "$$\n",
    "du= \\frac{\\partial u}{\\partial x}dx+\\frac{\\partial u}{\\partial y}dy+\\frac{\\partial u}{\\partial z}dz,\n",
    "$$"
   ]
  },
  {
   "cell_type": "markdown",
   "id": "a7271c0b",
   "metadata": {
    "editable": true
   },
   "source": [
    "of a differentiable function $u(x,y,z)$ everywhere in $D$, that is"
   ]
  },
  {
   "cell_type": "markdown",
   "id": "7d6d19f3",
   "metadata": {
    "editable": true
   },
   "source": [
    "$$\n",
    "du=fdx+gdy+hdz.\n",
    "$$"
   ]
  },
  {
   "cell_type": "markdown",
   "id": "262e956b",
   "metadata": {
    "editable": true
   },
   "source": [
    "It is said to be exact if and only if we can then set"
   ]
  },
  {
   "cell_type": "markdown",
   "id": "15c5e7e4",
   "metadata": {
    "editable": true
   },
   "source": [
    "$$\n",
    "f=\\frac{\\partial u}{\\partial x},\n",
    "$$"
   ]
  },
  {
   "cell_type": "markdown",
   "id": "49da2db8",
   "metadata": {
    "editable": true
   },
   "source": [
    "and"
   ]
  },
  {
   "cell_type": "markdown",
   "id": "5cae0e0b",
   "metadata": {
    "editable": true
   },
   "source": [
    "$$\n",
    "g=\\frac{\\partial u}{\\partial y},\n",
    "$$"
   ]
  },
  {
   "cell_type": "markdown",
   "id": "b24a9b93",
   "metadata": {
    "editable": true
   },
   "source": [
    "and"
   ]
  },
  {
   "cell_type": "markdown",
   "id": "16885641",
   "metadata": {
    "editable": true
   },
   "source": [
    "$$\n",
    "h=\\frac{\\partial u}{\\partial z},\n",
    "$$"
   ]
  },
  {
   "cell_type": "markdown",
   "id": "d55f5049",
   "metadata": {
    "editable": true
   },
   "source": [
    "everywhere in the domain $D$."
   ]
  },
  {
   "cell_type": "markdown",
   "id": "65cf4254",
   "metadata": {
    "editable": true
   },
   "source": [
    "## In Vector Language\n",
    "\n",
    "In vector language the above means that the differential form"
   ]
  },
  {
   "cell_type": "markdown",
   "id": "ad1127f1",
   "metadata": {
    "editable": true
   },
   "source": [
    "$$\n",
    "fdx+gdy+hdz,\n",
    "$$"
   ]
  },
  {
   "cell_type": "markdown",
   "id": "3f13f7f4",
   "metadata": {
    "editable": true
   },
   "source": [
    "is exact in $D$ if and only if the vector function (it could be a force, or velocity, acceleration or other vectors we encounter in this course)"
   ]
  },
  {
   "cell_type": "markdown",
   "id": "3042b0b7",
   "metadata": {
    "editable": true
   },
   "source": [
    "$$\n",
    "\\boldsymbol{F}=f\\boldsymbol{e}_1+g\\boldsymbol{e}_2+h\\boldsymbol{e}_3,\n",
    "$$"
   ]
  },
  {
   "cell_type": "markdown",
   "id": "0ad83ca4",
   "metadata": {
    "editable": true
   },
   "source": [
    "is the gradient of a function $u(x,y,z)$"
   ]
  },
  {
   "cell_type": "markdown",
   "id": "880c431c",
   "metadata": {
    "editable": true
   },
   "source": [
    "$$\n",
    "\\boldsymbol{v}=\\boldsymbol{\\nabla}u=\\frac{\\partial u}{\\partial x}\\boldsymbol{e}_1+\\frac{\\partial u}{\\partial y}\\boldsymbol{e}_2+\\frac{\\partial u}{\\partial z}\\boldsymbol{e}_3.\n",
    "$$"
   ]
  },
  {
   "cell_type": "markdown",
   "id": "cf997b0f",
   "metadata": {
    "editable": true
   },
   "source": [
    "## Path Independence Theorem\n",
    "\n",
    "If this is the case, we can state the path independence theorem which\n",
    "states that with functions $f(x,y,z)$, $g(x,y,z)$ and $h(x,y,z)$ that fulfill the above\n",
    "exactness conditions,  the line integral"
   ]
  },
  {
   "cell_type": "markdown",
   "id": "d7275040",
   "metadata": {
    "editable": true
   },
   "source": [
    "$$\n",
    "\\int_C\\left(fdx+gdy+hdz\\right),\n",
    "$$"
   ]
  },
  {
   "cell_type": "markdown",
   "id": "f9fb0578",
   "metadata": {
    "editable": true
   },
   "source": [
    "is independent of path in $D$ if and only if the differential form under the integral sign is exact in $D$.\n",
    "\n",
    "This is the path independence theorem. \n",
    "\n",
    "We will not give a proof of the theorem. You can find this in any vector analysis chapter in a mathematics textbook.\n",
    "\n",
    "We note however that the path integral from a point $p$ to a final point $q$ is given by"
   ]
  },
  {
   "cell_type": "markdown",
   "id": "a80bb2d5",
   "metadata": {
    "editable": true
   },
   "source": [
    "$$\n",
    "\\int_p^q\\left(fdx+gdy+hdz\\right)=\\int_p^q\\left(\\frac{\\partial u}{\\partial x}dx+\\frac{\\partial u}{\\partial y}dy+\\frac{\\partial u}{\\partial z}dz\\right)=\\int_p^qdu.\n",
    "$$"
   ]
  },
  {
   "cell_type": "markdown",
   "id": "aa9ba7cb",
   "metadata": {
    "editable": true
   },
   "source": [
    "Assume now that we have a dependence on a variable $s$ for $x$, $y$ and $z$. We have then"
   ]
  },
  {
   "cell_type": "markdown",
   "id": "92da077e",
   "metadata": {
    "editable": true
   },
   "source": [
    "$$\n",
    "\\int_p^qdu=\\int_{s_1}^{s_2}\\frac{du}{ds}ds = u(x(s),y(s),z(s))\\vert_{s=s_1}^{s=s_2}=u(q)-u(p).\n",
    "$$"
   ]
  },
  {
   "cell_type": "markdown",
   "id": "a27da6b3",
   "metadata": {
    "editable": true
   },
   "source": [
    "This last equation"
   ]
  },
  {
   "cell_type": "markdown",
   "id": "b37f24a5",
   "metadata": {
    "editable": true
   },
   "source": [
    "$$\n",
    "\\int_p^q\\left(fdx+gdy+hdz\\right)=u(q)-u(p),\n",
    "$$"
   ]
  },
  {
   "cell_type": "markdown",
   "id": "60c8eed0",
   "metadata": {
    "editable": true
   },
   "source": [
    "is the analogue of the usual formula"
   ]
  },
  {
   "cell_type": "markdown",
   "id": "9dcd639f",
   "metadata": {
    "editable": true
   },
   "source": [
    "$$\n",
    "\\int_a^bf(x)dx=F(x)\\vert_a^b=F(b)-F(a),\n",
    "$$"
   ]
  },
  {
   "cell_type": "markdown",
   "id": "b15a0356",
   "metadata": {
    "editable": true
   },
   "source": [
    "with $F'(x)=f(x)$."
   ]
  },
  {
   "cell_type": "markdown",
   "id": "86222c8e",
   "metadata": {
    "editable": true
   },
   "source": [
    "## Work-Energy Theorem again\n",
    "\n",
    "We remember that a the work done by a force\n",
    "$\\boldsymbol{F}=f\\boldsymbol{e}_1+g\\boldsymbol{e}_2+h\\boldsymbol{e}_3$ on a displacemnt $d\\boldsymbol{r}$"
   ]
  },
  {
   "cell_type": "markdown",
   "id": "6bc368d4",
   "metadata": {
    "editable": true
   },
   "source": [
    "$$\n",
    "W=\\int_C\\boldsymbol{F}d\\boldsymbol{r}=\\int_C(fdx+gdy+hdz).\n",
    "$$"
   ]
  },
  {
   "cell_type": "markdown",
   "id": "d5dd24c8",
   "metadata": {
    "editable": true
   },
   "source": [
    "From the path independence theorem, we know that this has to result in\n",
    "the difference between the two endpoints only. This is exact if and\n",
    "only if the force is the force $\\boldsymbol{F}$ is the gradient of a scalar\n",
    "function $u$. We call this scalar function, which depends only the\n",
    "positions $x,y,z$ for the potential energy $V(x,y,z)=V(\\boldsymbol{r})$.\n",
    "\n",
    "We have thus"
   ]
  },
  {
   "cell_type": "markdown",
   "id": "5c7e1d7e",
   "metadata": {
    "editable": true
   },
   "source": [
    "$$\n",
    "\\boldsymbol{F}(\\boldsymbol{r})\\propto \\boldsymbol{\\nabla}V(\\boldsymbol{r}),\n",
    "$$"
   ]
  },
  {
   "cell_type": "markdown",
   "id": "f7fecfe1",
   "metadata": {
    "editable": true
   },
   "source": [
    "and we define  this as"
   ]
  },
  {
   "cell_type": "markdown",
   "id": "aee14e30",
   "metadata": {
    "editable": true
   },
   "source": [
    "$$\n",
    "\\boldsymbol{F}(\\boldsymbol{r})= -\\boldsymbol{\\nabla}V(\\boldsymbol{r}).\n",
    "$$"
   ]
  },
  {
   "cell_type": "markdown",
   "id": "49edfc43",
   "metadata": {
    "editable": true
   },
   "source": [
    "Such a force is called **a conservative force**. The above expression can be used to demonstrate\n",
    "energy conservation."
   ]
  },
  {
   "cell_type": "markdown",
   "id": "0167e445",
   "metadata": {
    "editable": true
   },
   "source": [
    "## Additional Theorem\n",
    "\n",
    "Finally we can define the criterion for exactness and independence of\n",
    "path. This theorem states that if $f(x,y,z)$, $g(x,y,z)$ and\n",
    "$h(x,y,z)$ are continuous functions with continuous first partial derivatives in the domain $D$,\n",
    "then the line integral"
   ]
  },
  {
   "cell_type": "markdown",
   "id": "bf175e38",
   "metadata": {
    "editable": true
   },
   "source": [
    "$$\n",
    "\\int_C\\left(fdx+gdy+hdz\\right),\n",
    "$$"
   ]
  },
  {
   "cell_type": "markdown",
   "id": "fa3187c3",
   "metadata": {
    "editable": true
   },
   "source": [
    "is independent of path in $D$ when"
   ]
  },
  {
   "cell_type": "markdown",
   "id": "29f1213b",
   "metadata": {
    "editable": true
   },
   "source": [
    "$$\n",
    "\\frac{\\partial h}{\\partial y}=\\frac{\\partial g}{\\partial z},\n",
    "$$"
   ]
  },
  {
   "cell_type": "markdown",
   "id": "7e0c90a1",
   "metadata": {
    "editable": true
   },
   "source": [
    "and"
   ]
  },
  {
   "cell_type": "markdown",
   "id": "6b31050b",
   "metadata": {
    "editable": true
   },
   "source": [
    "$$\n",
    "\\frac{\\partial f}{\\partial z}=\\frac{\\partial h}{\\partial x},\n",
    "$$"
   ]
  },
  {
   "cell_type": "markdown",
   "id": "35fa3719",
   "metadata": {
    "editable": true
   },
   "source": [
    "and"
   ]
  },
  {
   "cell_type": "markdown",
   "id": "b63c1642",
   "metadata": {
    "editable": true
   },
   "source": [
    "$$\n",
    "\\frac{\\partial g}{\\partial x}=\\frac{\\partial f}{\\partial y}.\n",
    "$$"
   ]
  },
  {
   "cell_type": "markdown",
   "id": "51fdd7ea",
   "metadata": {
    "editable": true
   },
   "source": [
    "This leads to the **curl** of $\\boldsymbol{F}$ being zero"
   ]
  },
  {
   "cell_type": "markdown",
   "id": "975af1b9",
   "metadata": {
    "editable": true
   },
   "source": [
    "$$\n",
    "\\boldsymbol{\\nabla}\\times\\boldsymbol{F}=\\boldsymbol{\\nabla}\\times\\left(-\\boldsymbol{\\nabla}V(\\boldsymbol{r})\\right)=0!\n",
    "$$"
   ]
  },
  {
   "cell_type": "markdown",
   "id": "2e8ea440",
   "metadata": {
    "editable": true
   },
   "source": [
    "## Summarizing\n",
    "\n",
    "A conservative force $\\boldsymbol{F}$ is a defined as the partial derivative of a scalar potential which depends only on the position,"
   ]
  },
  {
   "cell_type": "markdown",
   "id": "8aed4a93",
   "metadata": {
    "editable": true
   },
   "source": [
    "$$\n",
    "\\boldsymbol{F}(\\boldsymbol{r})= -\\boldsymbol{\\nabla}V(\\boldsymbol{r}).\n",
    "$$"
   ]
  },
  {
   "cell_type": "markdown",
   "id": "730454d0",
   "metadata": {
    "editable": true
   },
   "source": [
    "This leads to conservation of energy and a path independent line integral as long as the curl of the force is zero, that is"
   ]
  },
  {
   "cell_type": "markdown",
   "id": "98e40792",
   "metadata": {
    "editable": true
   },
   "source": [
    "$$\n",
    "\\boldsymbol{\\nabla}\\times\\boldsymbol{F}=\\boldsymbol{\\nabla}\\times\\left(-\\boldsymbol{\\nabla}V(\\boldsymbol{r})\\right)=0.\n",
    "$$"
   ]
  },
  {
   "cell_type": "markdown",
   "id": "b7447678",
   "metadata": {
    "editable": true
   },
   "source": [
    "## The Earth-Sun system\n",
    "\n",
    "We will now venture into a study of a system which is energy\n",
    "conserving. The aim is to see if we (since it is not possible to solve\n",
    "the general equations analytically) we can develop stable numerical\n",
    "algorithms whose results we can trust!\n",
    "\n",
    "We solve the equations of motion numerically. We will also compute\n",
    "quantities like the energy numerically.\n",
    "\n",
    "We start with a simpler case first, the Earth-Sun system  in two dimensions only.  The gravitational force $F_G$ on the earth from the sun is"
   ]
  },
  {
   "cell_type": "markdown",
   "id": "db80cdd4",
   "metadata": {
    "editable": true
   },
   "source": [
    "$$\n",
    "\\boldsymbol{F}_G=-\\frac{GM_{\\odot}M_E}{r^3}\\boldsymbol{r},\n",
    "$$"
   ]
  },
  {
   "cell_type": "markdown",
   "id": "b43ed04f",
   "metadata": {
    "editable": true
   },
   "source": [
    "where $G$ is the gravitational constant,"
   ]
  },
  {
   "cell_type": "markdown",
   "id": "a7ead325",
   "metadata": {
    "editable": true
   },
   "source": [
    "$$\n",
    "M_E=6\\times 10^{24}\\mathrm{Kg},\n",
    "$$"
   ]
  },
  {
   "cell_type": "markdown",
   "id": "bf637a1e",
   "metadata": {
    "editable": true
   },
   "source": [
    "the mass of Earth,"
   ]
  },
  {
   "cell_type": "markdown",
   "id": "c485bf25",
   "metadata": {
    "editable": true
   },
   "source": [
    "$$\n",
    "M_{\\odot}=2\\times 10^{30}\\mathrm{Kg},\n",
    "$$"
   ]
  },
  {
   "cell_type": "markdown",
   "id": "efe502bb",
   "metadata": {
    "editable": true
   },
   "source": [
    "the mass of the Sun and"
   ]
  },
  {
   "cell_type": "markdown",
   "id": "0ef70f14",
   "metadata": {
    "editable": true
   },
   "source": [
    "$$\n",
    "r=1.5\\times 10^{11}\\mathrm{m},\n",
    "$$"
   ]
  },
  {
   "cell_type": "markdown",
   "id": "a5f05981",
   "metadata": {
    "editable": true
   },
   "source": [
    "is the distance between Earth and the Sun. The latter defines what we call an astronomical unit **AU**."
   ]
  },
  {
   "cell_type": "markdown",
   "id": "c15ed3b6",
   "metadata": {
    "editable": true
   },
   "source": [
    "## The Earth-Sun system, Newton's Laws\n",
    "\n",
    "From Newton's second law we have then for the $x$ direction"
   ]
  },
  {
   "cell_type": "markdown",
   "id": "aeb99fc8",
   "metadata": {
    "editable": true
   },
   "source": [
    "$$\n",
    "\\frac{d^2x}{dt^2}=-\\frac{F_{x}}{M_E},\n",
    "$$"
   ]
  },
  {
   "cell_type": "markdown",
   "id": "aa3ccc21",
   "metadata": {
    "editable": true
   },
   "source": [
    "and"
   ]
  },
  {
   "cell_type": "markdown",
   "id": "40d37ec0",
   "metadata": {
    "editable": true
   },
   "source": [
    "$$\n",
    "\\frac{d^2y}{dt^2}=-\\frac{F_{y}}{M_E},\n",
    "$$"
   ]
  },
  {
   "cell_type": "markdown",
   "id": "9fcac2c9",
   "metadata": {
    "editable": true
   },
   "source": [
    "for the $y$ direction.\n",
    "\n",
    "Here we will use  that  $x=r\\cos{(\\theta)}$, $y=r\\sin{(\\theta)}$ and"
   ]
  },
  {
   "cell_type": "markdown",
   "id": "d42efd35",
   "metadata": {
    "editable": true
   },
   "source": [
    "$$\n",
    "r = \\sqrt{x^2+y^2}.\n",
    "$$"
   ]
  },
  {
   "cell_type": "markdown",
   "id": "9c9041f9",
   "metadata": {
    "editable": true
   },
   "source": [
    "We can rewrite"
   ]
  },
  {
   "cell_type": "markdown",
   "id": "038519dc",
   "metadata": {
    "editable": true
   },
   "source": [
    "$$\n",
    "F_{x}=-\\frac{GM_{\\odot}M_E}{r^2}\\cos{(\\theta)}=-\\frac{GM_{\\odot}M_E}{r^3}x,\n",
    "$$"
   ]
  },
  {
   "cell_type": "markdown",
   "id": "981fc553",
   "metadata": {
    "editable": true
   },
   "source": [
    "and"
   ]
  },
  {
   "cell_type": "markdown",
   "id": "6649a27d",
   "metadata": {
    "editable": true
   },
   "source": [
    "$$\n",
    "F_{y}=-\\frac{GM_{\\odot}M_E}{r^2}\\sin{(\\theta)}=-\\frac{GM_{\\odot}M_E}{r^3}y,\n",
    "$$"
   ]
  },
  {
   "cell_type": "markdown",
   "id": "c70de0fa",
   "metadata": {
    "editable": true
   },
   "source": [
    "for the $y$ direction."
   ]
  },
  {
   "cell_type": "markdown",
   "id": "1596c4a5",
   "metadata": {
    "editable": true
   },
   "source": [
    "## The Earth-Sun system, rewriting the Equations\n",
    "\n",
    "We can rewrite these two equations"
   ]
  },
  {
   "cell_type": "markdown",
   "id": "c1ce3787",
   "metadata": {
    "editable": true
   },
   "source": [
    "$$\n",
    "F_{x}=-\\frac{GM_{\\odot}M_E}{r^2}\\cos{(\\theta)}=-\\frac{GM_{\\odot}M_E}{r^3}x,\n",
    "$$"
   ]
  },
  {
   "cell_type": "markdown",
   "id": "16e46408",
   "metadata": {
    "editable": true
   },
   "source": [
    "and"
   ]
  },
  {
   "cell_type": "markdown",
   "id": "e6a13d67",
   "metadata": {
    "editable": true
   },
   "source": [
    "$$\n",
    "F_{y}=-\\frac{GM_{\\odot}M_E}{r^2}\\sin{(\\theta)}=-\\frac{GM_{\\odot}M_E}{r^3}y,\n",
    "$$"
   ]
  },
  {
   "cell_type": "markdown",
   "id": "e1d10e5e",
   "metadata": {
    "editable": true
   },
   "source": [
    "as four first-order coupled differential equations"
   ]
  },
  {
   "cell_type": "markdown",
   "id": "6ed12e8b",
   "metadata": {
    "editable": true
   },
   "source": [
    "$$\n",
    "\\frac{dv_x}{dt}=-\\frac{GM_{\\odot}}{r^3}x,\n",
    "$$"
   ]
  },
  {
   "cell_type": "markdown",
   "id": "196abbe0",
   "metadata": {
    "editable": true
   },
   "source": [
    "$$\n",
    "\\frac{dx}{dt}=v_x,\n",
    "$$"
   ]
  },
  {
   "cell_type": "markdown",
   "id": "886ac8ac",
   "metadata": {
    "editable": true
   },
   "source": [
    "$$\n",
    "\\frac{dv_y}{dt}=-\\frac{GM_{\\odot}}{r^3}y,\n",
    "$$"
   ]
  },
  {
   "cell_type": "markdown",
   "id": "86ec5a46",
   "metadata": {
    "editable": true
   },
   "source": [
    "$$\n",
    "\\frac{dy}{dt}=v_y.\n",
    "$$"
   ]
  },
  {
   "cell_type": "markdown",
   "id": "72d9a519",
   "metadata": {
    "editable": true
   },
   "source": [
    "## Building a code for the solar system, final coupled equations\n",
    "\n",
    "The four coupled differential equations"
   ]
  },
  {
   "cell_type": "markdown",
   "id": "80deb19c",
   "metadata": {
    "editable": true
   },
   "source": [
    "$$\n",
    "\\frac{dv_x}{dt}=-\\frac{GM_{\\odot}}{r^3}x,\n",
    "$$"
   ]
  },
  {
   "cell_type": "markdown",
   "id": "a3e36fbd",
   "metadata": {
    "editable": true
   },
   "source": [
    "$$\n",
    "\\frac{dx}{dt}=v_x,\n",
    "$$"
   ]
  },
  {
   "cell_type": "markdown",
   "id": "0fc7435e",
   "metadata": {
    "editable": true
   },
   "source": [
    "$$\n",
    "\\frac{dv_y}{dt}=-\\frac{GM_{\\odot}}{r^3}y,\n",
    "$$"
   ]
  },
  {
   "cell_type": "markdown",
   "id": "d49c0d27",
   "metadata": {
    "editable": true
   },
   "source": [
    "$$\n",
    "\\frac{dy}{dt}=v_y,\n",
    "$$"
   ]
  },
  {
   "cell_type": "markdown",
   "id": "b05ed97e",
   "metadata": {
    "editable": true
   },
   "source": [
    "can be turned into dimensionless equations or we can introduce astronomical units with $1$ AU = $1.5\\times 10^{11}$. \n",
    "\n",
    "Using the equations from circular motion (with $r =1\\mathrm{AU}$)"
   ]
  },
  {
   "cell_type": "markdown",
   "id": "2d196e05",
   "metadata": {
    "editable": true
   },
   "source": [
    "$$\n",
    "\\frac{M_E v^2}{r} = F = \\frac{GM_{\\odot}M_E}{r^2},\n",
    "$$"
   ]
  },
  {
   "cell_type": "markdown",
   "id": "92bf4bac",
   "metadata": {
    "editable": true
   },
   "source": [
    "we have"
   ]
  },
  {
   "cell_type": "markdown",
   "id": "322c3b16",
   "metadata": {
    "editable": true
   },
   "source": [
    "$$\n",
    "GM_{\\odot}=v^2r,\n",
    "$$"
   ]
  },
  {
   "cell_type": "markdown",
   "id": "4f639552",
   "metadata": {
    "editable": true
   },
   "source": [
    "and using that the velocity of Earth (assuming circular motion) is\n",
    "$v = 2\\pi r/\\mathrm{yr}=2\\pi\\mathrm{AU}/\\mathrm{yr}$, we have"
   ]
  },
  {
   "cell_type": "markdown",
   "id": "cbe1a9a4",
   "metadata": {
    "editable": true
   },
   "source": [
    "$$\n",
    "GM_{\\odot}= v^2r = 4\\pi^2 \\frac{(\\mathrm{AU})^3}{\\mathrm{yr}^2}.\n",
    "$$"
   ]
  },
  {
   "cell_type": "markdown",
   "id": "ae0789b6",
   "metadata": {
    "editable": true
   },
   "source": [
    "## Building a code for the solar system, discretized equations\n",
    "\n",
    "The four coupled differential equations can then be discretized using Euler's method as (with step length $h$)"
   ]
  },
  {
   "cell_type": "markdown",
   "id": "bf895a4e",
   "metadata": {
    "editable": true
   },
   "source": [
    "$$\n",
    "v_{x,i+1}=v_{x,i}-h\\frac{4\\pi^2}{r_i^3}x_i,\n",
    "$$"
   ]
  },
  {
   "cell_type": "markdown",
   "id": "c54ce06c",
   "metadata": {
    "editable": true
   },
   "source": [
    "$$\n",
    "x_{i+1}=x_i+hv_{x,i},\n",
    "$$"
   ]
  },
  {
   "cell_type": "markdown",
   "id": "052d2bc5",
   "metadata": {
    "editable": true
   },
   "source": [
    "$$\n",
    "v_{y,i+1}=v_{y,i}-h\\frac{4\\pi^2}{r_i^3}y_i,\n",
    "$$"
   ]
  },
  {
   "cell_type": "markdown",
   "id": "fcd86929",
   "metadata": {
    "editable": true
   },
   "source": [
    "$$\n",
    "y_{i+1}=y_i+hv_{y,i},\n",
    "$$"
   ]
  },
  {
   "cell_type": "markdown",
   "id": "a6868ee2",
   "metadata": {
    "editable": true
   },
   "source": [
    "## Code Example with Euler's Method\n",
    "\n",
    "The code here implements Euler's method for the Earth-Sun system using a more compact way of representing the vectors. Alternatively, you could have spelled out all the variables $v_x$, $v_y$, $x$ and $y$ as one-dimensional arrays."
   ]
  },
  {
   "cell_type": "code",
   "execution_count": 1,
   "id": "bbc294e1",
   "metadata": {
    "collapsed": false,
    "editable": true
   },
   "outputs": [],
   "source": [
    "%matplotlib inline\n",
    "\n",
    "# Common imports\n",
    "import numpy as np\n",
    "import pandas as pd\n",
    "from math import *\n",
    "import matplotlib.pyplot as plt\n",
    "import os\n",
    "\n",
    "# Where to save the figures and data files\n",
    "PROJECT_ROOT_DIR = \"Results\"\n",
    "FIGURE_ID = \"Results/FigureFiles\"\n",
    "DATA_ID = \"DataFiles/\"\n",
    "\n",
    "if not os.path.exists(PROJECT_ROOT_DIR):\n",
    "    os.mkdir(PROJECT_ROOT_DIR)\n",
    "\n",
    "if not os.path.exists(FIGURE_ID):\n",
    "    os.makedirs(FIGURE_ID)\n",
    "\n",
    "if not os.path.exists(DATA_ID):\n",
    "    os.makedirs(DATA_ID)\n",
    "\n",
    "def image_path(fig_id):\n",
    "    return os.path.join(FIGURE_ID, fig_id)\n",
    "\n",
    "def data_path(dat_id):\n",
    "    return os.path.join(DATA_ID, dat_id)\n",
    "\n",
    "def save_fig(fig_id):\n",
    "    plt.savefig(image_path(fig_id) + \".png\", format='png')\n",
    "\n",
    "\n",
    "DeltaT = 0.001\n",
    "#set up arrays \n",
    "tfinal = 10 # in years\n",
    "n = ceil(tfinal/DeltaT)\n",
    "# set up arrays for t, a, v, and x\n",
    "t = np.zeros(n)\n",
    "v = np.zeros((n,2))\n",
    "r = np.zeros((n,2))\n",
    "# Initial conditions as compact 2-dimensional arrays\n",
    "r0 = np.array([1.0,0.0])\n",
    "v0 = np.array([0.0,2*pi])\n",
    "r[0] = r0\n",
    "v[0] = v0\n",
    "Fourpi2 = 4*pi*pi\n",
    "# Start integrating using Euler's method\n",
    "for i in range(n-1):\n",
    "    # Set up the acceleration\n",
    "    # Here you could have defined your own function for this\n",
    "    rabs = sqrt(sum(r[i]*r[i]))\n",
    "    a =  -Fourpi2*r[i]/(rabs**3)\n",
    "    # update velocity, time and position using Euler's forward method\n",
    "    v[i+1] = v[i] + DeltaT*a\n",
    "    r[i+1] = r[i] + DeltaT*v[i]\n",
    "    t[i+1] = t[i] + DeltaT\n",
    "# Plot position as function of time    \n",
    "fig, ax = plt.subplots()\n",
    "#ax.set_xlim(0, tfinal)\n",
    "ax.set_ylabel('y[AU]')\n",
    "ax.set_xlabel('x[AU]')\n",
    "ax.plot(r[:,0], r[:,1])\n",
    "fig.tight_layout()\n",
    "save_fig(\"EarthSunEuler\")\n",
    "plt.show()"
   ]
  },
  {
   "cell_type": "markdown",
   "id": "49d3de60",
   "metadata": {
    "editable": true
   },
   "source": [
    "## Problems with Euler's Method\n",
    "\n",
    "We notice here that Euler's method doesn't give a stable orbit. It\n",
    "means that we cannot trust Euler's method. In a deeper way, as we will\n",
    "see in homework 5, Euler's method does not conserve energy. It is an\n",
    "example of an integrator which is not\n",
    "[symplectic](https://en.wikipedia.org/wiki/Symplectic_integrator).\n",
    "\n",
    "Here we present thus two methods, which with simple changes allow us to avoid these pitfalls. The simplest possible extension is the so-called Euler-Cromer method.\n",
    "The changes we need to make to our code are indeed marginal here.\n",
    "We need simply to replace"
   ]
  },
  {
   "cell_type": "code",
   "execution_count": 2,
   "id": "bfd673de",
   "metadata": {
    "collapsed": false,
    "editable": true
   },
   "outputs": [],
   "source": [
    "    r[i+1] = r[i] + DeltaT*v[i]"
   ]
  },
  {
   "cell_type": "markdown",
   "id": "19f6beb2",
   "metadata": {
    "editable": true
   },
   "source": [
    "in the above code with the velocity at the new time $t_{i+1}$"
   ]
  },
  {
   "cell_type": "code",
   "execution_count": 3,
   "id": "d9bf636c",
   "metadata": {
    "collapsed": false,
    "editable": true
   },
   "outputs": [],
   "source": [
    "    r[i+1] = r[i] + DeltaT*v[i+1]"
   ]
  },
  {
   "cell_type": "markdown",
   "id": "0f1704b7",
   "metadata": {
    "editable": true
   },
   "source": [
    "By this simple caveat we get stable orbits.\n",
    "Below we derive the Euler-Cromer method as well as one of the most utlized algorithms for sovling the above type of problems, the so-called Velocity-Verlet method."
   ]
  },
  {
   "cell_type": "markdown",
   "id": "3f59eb10",
   "metadata": {
    "editable": true
   },
   "source": [
    "## Deriving the Euler-Cromer Method\n",
    "\n",
    "Let us repeat Euler's method.\n",
    "We have a differential equation"
   ]
  },
  {
   "cell_type": "markdown",
   "id": "7a5459b6",
   "metadata": {
    "editable": true
   },
   "source": [
    "<!-- Equation labels as ordinary links -->\n",
    "<div id=\"_auto1\"></div>\n",
    "\n",
    "$$\n",
    "\\begin{equation}\n",
    "y'(t_i)=f(t_i,y_i)   \n",
    "\\label{_auto1} \\tag{1}\n",
    "\\end{equation}\n",
    "$$"
   ]
  },
  {
   "cell_type": "markdown",
   "id": "c6275609",
   "metadata": {
    "editable": true
   },
   "source": [
    "and if we truncate at the first derivative, we have from the Taylor expansion"
   ]
  },
  {
   "cell_type": "markdown",
   "id": "1b78e9b0",
   "metadata": {
    "editable": true
   },
   "source": [
    "<!-- Equation labels as ordinary links -->\n",
    "<div id=\"eq:euler\"></div>\n",
    "\n",
    "$$\n",
    "\\begin{equation}\n",
    "y_{i+1}=y(t_i) + (\\Delta t) f(t_i,y_i) + O(\\Delta t^2), \\label{eq:euler} \\tag{2}\n",
    "\\end{equation}\n",
    "$$"
   ]
  },
  {
   "cell_type": "markdown",
   "id": "f6010b4a",
   "metadata": {
    "editable": true
   },
   "source": [
    "which when complemented with $t_{i+1}=t_i+\\Delta t$ forms\n",
    "the algorithm for the well-known Euler method. \n",
    "Note that at every step we make an approximation error\n",
    "of the order of $O(\\Delta t^2)$, however the total error is the sum over all\n",
    "steps $N=(b-a)/(\\Delta t)$ for $t\\in [a,b]$, yielding thus a global error which goes like\n",
    "$NO(\\Delta t^2)\\approx O(\\Delta t)$. \n",
    "\n",
    "To make Euler's method more precise we can obviously\n",
    "decrease $\\Delta t$ (increase $N$), but this can lead to loss of numerical precision.\n",
    "Euler's method is not recommended for precision calculation,\n",
    "although it is handy to use in order to get a first\n",
    "view on how a solution may look like.\n",
    "\n",
    "Euler's method is asymmetric in time, since it uses information about the derivative at the beginning\n",
    "of the time interval. This means that we evaluate the position at $y_1$ using the velocity\n",
    "at $v_0$. A simple variation is to determine $x_{n+1}$ using the velocity at\n",
    "$v_{n+1}$, that is (in a slightly more generalized form)"
   ]
  },
  {
   "cell_type": "markdown",
   "id": "2f7abd3b",
   "metadata": {
    "editable": true
   },
   "source": [
    "<!-- Equation labels as ordinary links -->\n",
    "<div id=\"_auto2\"></div>\n",
    "\n",
    "$$\n",
    "\\begin{equation} \n",
    "y_{n+1}=y_{n}+ v_{n+1}+O(\\Delta t^2)\n",
    "\\label{_auto2} \\tag{3}\n",
    "\\end{equation}\n",
    "$$"
   ]
  },
  {
   "cell_type": "markdown",
   "id": "fe15ea01",
   "metadata": {
    "editable": true
   },
   "source": [
    "and"
   ]
  },
  {
   "cell_type": "markdown",
   "id": "7d4e4fc2",
   "metadata": {
    "editable": true
   },
   "source": [
    "<!-- Equation labels as ordinary links -->\n",
    "<div id=\"_auto3\"></div>\n",
    "\n",
    "$$\n",
    "\\begin{equation}\n",
    "v_{n+1}=v_{n}+(\\Delta t) a_{n}+O(\\Delta t^2).\n",
    "\\label{_auto3} \\tag{4}\n",
    "\\end{equation}\n",
    "$$"
   ]
  },
  {
   "cell_type": "markdown",
   "id": "a9de5ad0",
   "metadata": {
    "editable": true
   },
   "source": [
    "The acceleration $a_n$ is a function of $a_n(y_n, v_n, t_n)$ and needs to be evaluated\n",
    "as well. This is the Euler-Cromer method.\n",
    "\n",
    "**Exercise**: go back to the above code with Euler's method and add the Euler-Cromer method."
   ]
  },
  {
   "cell_type": "markdown",
   "id": "e02f9e66",
   "metadata": {
    "editable": true
   },
   "source": [
    "## Deriving the Velocity-Verlet Method\n",
    "\n",
    "Let us stay with $x$ (position) and $v$ (velocity) as the quantities we are interested in.\n",
    "\n",
    "We have the Taylor expansion for the position given by"
   ]
  },
  {
   "cell_type": "markdown",
   "id": "c7412b33",
   "metadata": {
    "editable": true
   },
   "source": [
    "$$\n",
    "x_{i+1} = x_i+(\\Delta t)v_i+\\frac{(\\Delta t)^2}{2}a_i+O((\\Delta t)^3).\n",
    "$$"
   ]
  },
  {
   "cell_type": "markdown",
   "id": "b6d59995",
   "metadata": {
    "editable": true
   },
   "source": [
    "The corresponding expansion for the velocity is"
   ]
  },
  {
   "cell_type": "markdown",
   "id": "b5e5c24f",
   "metadata": {
    "editable": true
   },
   "source": [
    "$$\n",
    "v_{i+1} = v_i+(\\Delta t)a_i+\\frac{(\\Delta t)^2}{2}v^{(2)}_i+O((\\Delta t)^3).\n",
    "$$"
   ]
  },
  {
   "cell_type": "markdown",
   "id": "457cafc6",
   "metadata": {
    "editable": true
   },
   "source": [
    "Via Newton's second law we have normally an analytical expression for the derivative of the velocity, namely"
   ]
  },
  {
   "cell_type": "markdown",
   "id": "e37ba0a9",
   "metadata": {
    "editable": true
   },
   "source": [
    "$$\n",
    "a_i= \\frac{d^2 x}{dt^2}\\vert_{i}=\\frac{d v}{dt}\\vert_{i}= \\frac{F(x_i,v_i,t_i)}{m}.\n",
    "$$"
   ]
  },
  {
   "cell_type": "markdown",
   "id": "b1c95456",
   "metadata": {
    "editable": true
   },
   "source": [
    "If we add to this the corresponding expansion for the derivative of the velocity"
   ]
  },
  {
   "cell_type": "markdown",
   "id": "543667fd",
   "metadata": {
    "editable": true
   },
   "source": [
    "$$\n",
    "v^{(1)}_{i+1} = a_{i+1}= a_i+(\\Delta t)v^{(2)}_i+O((\\Delta t)^2)=a_i+(\\Delta t)v^{(2)}_i+O((\\Delta t)^2),\n",
    "$$"
   ]
  },
  {
   "cell_type": "markdown",
   "id": "a9ca6ec0",
   "metadata": {
    "editable": true
   },
   "source": [
    "and retain only terms up to the second derivative of the velocity since our error goes as $O(h^3)$, we have"
   ]
  },
  {
   "cell_type": "markdown",
   "id": "c60362c5",
   "metadata": {
    "editable": true
   },
   "source": [
    "$$\n",
    "(\\Delta t)v^{(2)}_i\\approx a_{i+1}-a_i.\n",
    "$$"
   ]
  },
  {
   "cell_type": "markdown",
   "id": "02bbb32b",
   "metadata": {
    "editable": true
   },
   "source": [
    "We can then rewrite the Taylor expansion for the velocity as"
   ]
  },
  {
   "cell_type": "markdown",
   "id": "e251108f",
   "metadata": {
    "editable": true
   },
   "source": [
    "$$\n",
    "v_{i+1} = v_i+\\frac{(\\Delta t)}{2}\\left( a_{i+1}+a_{i}\\right)+O((\\Delta t)^3).\n",
    "$$"
   ]
  },
  {
   "cell_type": "markdown",
   "id": "d97c8eee",
   "metadata": {
    "editable": true
   },
   "source": [
    "## The velocity Verlet method\n",
    "\n",
    "Our final equations for the position and the velocity become then"
   ]
  },
  {
   "cell_type": "markdown",
   "id": "460b2f2a",
   "metadata": {
    "editable": true
   },
   "source": [
    "$$\n",
    "x_{i+1} = x_i+(\\Delta t)v_i+\\frac{(\\Delta t)^2}{2}a_{i}+O((\\Delta t)^3),\n",
    "$$"
   ]
  },
  {
   "cell_type": "markdown",
   "id": "ad8bb5e6",
   "metadata": {
    "editable": true
   },
   "source": [
    "and"
   ]
  },
  {
   "cell_type": "markdown",
   "id": "239db871",
   "metadata": {
    "editable": true
   },
   "source": [
    "$$\n",
    "v_{i+1} = v_i+\\frac{(\\Delta t)}{2}\\left(a_{i+1}+a_{i}\\right)+O((\\Delta t)^3).\n",
    "$$"
   ]
  },
  {
   "cell_type": "markdown",
   "id": "d1374265",
   "metadata": {
    "editable": true
   },
   "source": [
    "Note well that the term $a_{i+1}$ depends on the position at $x_{i+1}$. This means that you need to calculate \n",
    "the position at the updated time $t_{i+1}$ before the computing the next velocity.  Note also that the derivative of the velocity at the time\n",
    "$t_i$ used in the updating of the position can be reused in the calculation of the velocity update as well."
   ]
  },
  {
   "cell_type": "markdown",
   "id": "8ad57e73",
   "metadata": {
    "editable": true
   },
   "source": [
    "## Adding the Velocity-Verlet Method\n",
    "\n",
    "We can now easily add the Verlet method to our original code as"
   ]
  },
  {
   "cell_type": "code",
   "execution_count": 4,
   "id": "eb56d8ec",
   "metadata": {
    "collapsed": false,
    "editable": true
   },
   "outputs": [],
   "source": [
    "DeltaT = 0.01\n",
    "#set up arrays \n",
    "tfinal = 10 # in years\n",
    "n = ceil(tfinal/DeltaT)\n",
    "# set up arrays for t, a, v, and x\n",
    "t = np.zeros(n)\n",
    "v = np.zeros((n,2))\n",
    "r = np.zeros((n,2))\n",
    "# Initial conditions as compact 2-dimensional arrays\n",
    "r0 = np.array([1.0,0.0])\n",
    "v0 = np.array([0.0,2*pi])\n",
    "r[0] = r0\n",
    "v[0] = v0\n",
    "Fourpi2 = 4*pi*pi\n",
    "# Start integrating using the Velocity-Verlet  method\n",
    "for i in range(n-1):\n",
    "    # Set up forces, air resistance FD, note now that we need the norm of the vecto\n",
    "    # Here you could have defined your own function for this\n",
    "    rabs = sqrt(sum(r[i]*r[i]))\n",
    "    a =  -Fourpi2*r[i]/(rabs**3)\n",
    "    # update velocity, time and position using the Velocity-Verlet method\n",
    "    r[i+1] = r[i] + DeltaT*v[i]+0.5*(DeltaT**2)*a\n",
    "    rabs = sqrt(sum(r[i+1]*r[i+1]))\n",
    "    anew = -4*(pi**2)*r[i+1]/(rabs**3)\n",
    "    v[i+1] = v[i] + 0.5*DeltaT*(a+anew)\n",
    "    t[i+1] = t[i] + DeltaT\n",
    "# Plot position as function of time    \n",
    "fig, ax = plt.subplots()\n",
    "ax.set_ylabel('y[AU]')\n",
    "ax.set_xlabel('x[AU]')\n",
    "ax.plot(r[:,0], r[:,1])\n",
    "fig.tight_layout()\n",
    "save_fig(\"EarthSunVV\")\n",
    "plt.show()"
   ]
  },
  {
   "cell_type": "markdown",
   "id": "f79ded7b",
   "metadata": {
    "editable": true
   },
   "source": [
    "You can easily generalize the calculation of the forces by defining a function\n",
    "which takes in as input the various variables. We leave this as a challenge to you."
   ]
  }
 ],
 "metadata": {},
 "nbformat": 4,
 "nbformat_minor": 5
}
