{
 "cells": [
  {
   "cell_type": "markdown",
   "id": "af6b943e",
   "metadata": {},
   "source": [
    "<!-- HTML file automatically generated from DocOnce source (https://github.com/doconce/doconce/)\n",
    "doconce format html week7.do.txt --no_mako -->\n",
    "<!-- dom:TITLE: PHY321: Conservative forces, examples and theory -->"
   ]
  },
  {
   "cell_type": "markdown",
   "id": "2214e746",
   "metadata": {},
   "source": [
    "# PHY321: Conservative forces, examples and theory\n",
    "**[Morten Hjorth-Jensen](http://mhjgit.github.io/info/doc/web/)**, Department of Physics and Astronomy and Facility for Rare Ion Beams (FRIB), Michigan State University, USA and Department of Physics, University of Oslo, Norway\n",
    "\n",
    "Date: **February 13-17**"
   ]
  },
  {
   "cell_type": "markdown",
   "id": "fb010724",
   "metadata": {},
   "source": [
    "## Aims and Overarching Motivation"
   ]
  },
  {
   "cell_type": "markdown",
   "id": "cb4a7d80",
   "metadata": {},
   "source": [
    "### Monday February 13\n",
    "\n",
    "Discussion of conditions for conservative forces and summing up our\n",
    "discussion on conservative forces. Discussion of potential surfaces\n",
    "and their interpretations.  \n",
    "\n",
    "**Reading suggestion**: Taylor sections 4.6, 4.9, 4.10 and 5.1 and 5.2 on harmonic oscillations."
   ]
  },
  {
   "cell_type": "markdown",
   "id": "35f3e534",
   "metadata": {},
   "source": [
    "### Wednesday February 15\n",
    "\n",
    "The Earth-Sun problem and energy-conserving algorithms and how to encode in more efficient ways various algorithms for solving the equations of motion (Euler, Euler-Cromer and Velocity Verlet).\n",
    "\n",
    "* [Links to Julie's material on code reusability](https://github.com/mhjensen/Physics321/tree/master/doc/pub/week7/ipynb)\n",
    "\n",
    "**Reading suggestions**: Taylor section 4.8 and these notes"
   ]
  },
  {
   "cell_type": "markdown",
   "id": "95e689e9",
   "metadata": {},
   "source": [
    "### Friday February 17\n",
    "\n",
    "Working on the Earth-Sun problem and hw 5. Hints on various exercises.\n",
    "\n",
    "**Reading suggestions:** Taylor chapters 3 and 4 and these notes."
   ]
  },
  {
   "cell_type": "markdown",
   "id": "20bad270",
   "metadata": {},
   "source": [
    "## The curl of a force and link between Line Integrals and conservative forces\n",
    "\n",
    "The concept of line integrals plays an important role in our discussion of energy conservation,\n",
    "our definition of potentials and conservative forces.\n",
    "\n",
    "Let us remind ourselves of some the basic elements (most of you may\n",
    "have seen this in a calculus course under the general topic of vector\n",
    "fields).\n",
    "\n",
    "We define a path integration $C$, that is we integrate\n",
    "from a point $\\boldsymbol{r}_1$ to a point $\\boldsymbol{r}_2$. \n",
    "Let us assume that the path $C$ is represented by an arc length $s$. In three dimension we have the following representation of $C$"
   ]
  },
  {
   "cell_type": "markdown",
   "id": "f019dc83",
   "metadata": {},
   "source": [
    "$$\n",
    "\\boldsymbol{r}(s)=x(s)\\boldsymbol{e}_1+y(s)\\boldsymbol{e}_2+z(s)\\boldsymbol{e}_3,\n",
    "$$"
   ]
  },
  {
   "cell_type": "markdown",
   "id": "3361fb9c",
   "metadata": {},
   "source": [
    "then our integral of a function $f(x,y,z)$ along the path $C$ is defined as"
   ]
  },
  {
   "cell_type": "markdown",
   "id": "ccf0a35a",
   "metadata": {},
   "source": [
    "$$\n",
    "\\int_Cf(x,y,z)ds=\\int_a^bf\\left(x(s),y(s),z(s)\\right)ds,\n",
    "$$"
   ]
  },
  {
   "cell_type": "markdown",
   "id": "6dcf8106",
   "metadata": {},
   "source": [
    "where the initial and final points are $a$ and $b$, respectively."
   ]
  },
  {
   "cell_type": "markdown",
   "id": "8614e742",
   "metadata": {},
   "source": [
    "## Exactness and Independence of Path\n",
    "\n",
    "With the definition of a line integral, we can in turn set up the\n",
    "theorem of independence of integration path.\n",
    "\n",
    "Let us define\n",
    "$f(x,y,z)$, $g(x,y,z)$ and $h(x,y,z)$ to be functions which are\n",
    "defined and continuous in a domain $D$ in space. Then a line integral\n",
    "like the above is said to be independent of path in $D$, if for every\n",
    "pair of endpoints $a$ and $b$ in $D$ the value of the integral is the\n",
    "same for all paths $C$ in $D$ starting from a point $a$ and ending in\n",
    "a point $b$. The integral depends thus only on the integration limits\n",
    "and not on the path."
   ]
  },
  {
   "cell_type": "markdown",
   "id": "ba130148",
   "metadata": {},
   "source": [
    "## Differential Forms\n",
    "\n",
    "An expression of the form"
   ]
  },
  {
   "cell_type": "markdown",
   "id": "f79e1b5d",
   "metadata": {},
   "source": [
    "$$\n",
    "fdx+gdy+hdz,\n",
    "$$"
   ]
  },
  {
   "cell_type": "markdown",
   "id": "6cbcf304",
   "metadata": {},
   "source": [
    "where $f$, $g$ and $h$ are functions defined in $D$, is a called a first-order differential form\n",
    "in three variables.\n",
    "The form is said to be exact if it is the differential"
   ]
  },
  {
   "cell_type": "markdown",
   "id": "4de76781",
   "metadata": {},
   "source": [
    "$$\n",
    "du= \\frac{\\partial u}{\\partial x}dx+\\frac{\\partial u}{\\partial y}dy+\\frac{\\partial u}{\\partial z}dz,\n",
    "$$"
   ]
  },
  {
   "cell_type": "markdown",
   "id": "926f91d6",
   "metadata": {},
   "source": [
    "of a differentiable function $u(x,y,z)$ everywhere in $D$, that is"
   ]
  },
  {
   "cell_type": "markdown",
   "id": "75088547",
   "metadata": {},
   "source": [
    "$$\n",
    "du=fdx+gdy+hdz.\n",
    "$$"
   ]
  },
  {
   "cell_type": "markdown",
   "id": "c02fc1f4",
   "metadata": {},
   "source": [
    "It is said to be exact if and only if we can then set"
   ]
  },
  {
   "cell_type": "markdown",
   "id": "6831d28f",
   "metadata": {},
   "source": [
    "$$\n",
    "f=\\frac{\\partial u}{\\partial x},\n",
    "$$"
   ]
  },
  {
   "cell_type": "markdown",
   "id": "5c566f4e",
   "metadata": {},
   "source": [
    "and"
   ]
  },
  {
   "cell_type": "markdown",
   "id": "9d9148ba",
   "metadata": {},
   "source": [
    "$$\n",
    "g=\\frac{\\partial u}{\\partial y},\n",
    "$$"
   ]
  },
  {
   "cell_type": "markdown",
   "id": "fcd73747",
   "metadata": {},
   "source": [
    "and"
   ]
  },
  {
   "cell_type": "markdown",
   "id": "40bb9fc1",
   "metadata": {},
   "source": [
    "$$\n",
    "h=\\frac{\\partial u}{\\partial z},\n",
    "$$"
   ]
  },
  {
   "cell_type": "markdown",
   "id": "18af4bbf",
   "metadata": {},
   "source": [
    "everywhere in the domain $D$."
   ]
  },
  {
   "cell_type": "markdown",
   "id": "0c728008",
   "metadata": {},
   "source": [
    "## In Vector Language\n",
    "\n",
    "In vector language the above means that the differential form"
   ]
  },
  {
   "cell_type": "markdown",
   "id": "43218990",
   "metadata": {},
   "source": [
    "$$\n",
    "fdx+gdy+hdz,\n",
    "$$"
   ]
  },
  {
   "cell_type": "markdown",
   "id": "76be7c0e",
   "metadata": {},
   "source": [
    "is exact in $D$ if and only if the vector function (it could be a force, or velocity, acceleration or other vectors we encounter in this course)"
   ]
  },
  {
   "cell_type": "markdown",
   "id": "0a336b77",
   "metadata": {},
   "source": [
    "$$\n",
    "\\boldsymbol{F}=f\\boldsymbol{e}_1+g\\boldsymbol{e}_2+h\\boldsymbol{e}_3,\n",
    "$$"
   ]
  },
  {
   "cell_type": "markdown",
   "id": "9d90cddf",
   "metadata": {},
   "source": [
    "is the gradient of a function $u(x,y,z)$"
   ]
  },
  {
   "cell_type": "markdown",
   "id": "0490c9f0",
   "metadata": {},
   "source": [
    "$$\n",
    "\\boldsymbol{v}=\\boldsymbol{\\nabla}u=\\frac{\\partial u}{\\partial x}\\boldsymbol{e}_1+\\frac{\\partial u}{\\partial y}\\boldsymbol{e}_2+\\frac{\\partial u}{\\partial z}\\boldsymbol{e}_3.\n",
    "$$"
   ]
  },
  {
   "cell_type": "markdown",
   "id": "01c23905",
   "metadata": {},
   "source": [
    "## Path Independence Theorem\n",
    "\n",
    "If this is the case, we can state the path independence theorem which\n",
    "states that with functions $f(x,y,z)$, $g(x,y,z)$ and $h(x,y,z)$ that fulfill the above\n",
    "exactness conditions,  the line integral"
   ]
  },
  {
   "cell_type": "markdown",
   "id": "5f6560f6",
   "metadata": {},
   "source": [
    "$$\n",
    "\\int_C\\left(fdx+gdy+hdz\\right),\n",
    "$$"
   ]
  },
  {
   "cell_type": "markdown",
   "id": "e7142d09",
   "metadata": {},
   "source": [
    "is independent of path in $D$ if and only if the differential form under the integral sign is exact in $D$.\n",
    "\n",
    "This is the path independence theorem. \n",
    "\n",
    "We will not give a proof of the theorem. You can find this in any vector analysis chapter in a mathematics textbook.\n",
    "\n",
    "We note however that the path integral from a point $p$ to a final point $q$ is given by"
   ]
  },
  {
   "cell_type": "markdown",
   "id": "5917d08b",
   "metadata": {},
   "source": [
    "$$\n",
    "\\int_p^q\\left(fdx+gdy+hdz\\right)=\\int_p^q\\left(\\frac{\\partial u}{\\partial x}dx+\\frac{\\partial u}{\\partial y}dy+\\frac{\\partial u}{\\partial z}dz\\right)=\\int_p^qdu.\n",
    "$$"
   ]
  },
  {
   "cell_type": "markdown",
   "id": "93b60f93",
   "metadata": {},
   "source": [
    "Assume now that we have a dependence on a variable $s$ for $x$, $y$ and $z$. We have then"
   ]
  },
  {
   "cell_type": "markdown",
   "id": "808d3d23",
   "metadata": {},
   "source": [
    "$$\n",
    "\\int_p^qdu=\\int_{s_1}^{s_2}\\frac{du}{ds}ds = u(x(s),y(s),z(s))\\vert_{s=s_1}^{s=s_2}=u(q)-u(p).\n",
    "$$"
   ]
  },
  {
   "cell_type": "markdown",
   "id": "1d0b0d1a",
   "metadata": {},
   "source": [
    "This last equation"
   ]
  },
  {
   "cell_type": "markdown",
   "id": "ff141f2e",
   "metadata": {},
   "source": [
    "$$\n",
    "\\int_p^q\\left(fdx+gdy+hdz\\right)=u(q)-u(p),\n",
    "$$"
   ]
  },
  {
   "cell_type": "markdown",
   "id": "7ed1b63d",
   "metadata": {},
   "source": [
    "is the analogue of the usual formula"
   ]
  },
  {
   "cell_type": "markdown",
   "id": "4b28a1cf",
   "metadata": {},
   "source": [
    "$$\n",
    "\\int_a^bf(x)dx=F(x)\\vert_a^b=F(b)-F(a),\n",
    "$$"
   ]
  },
  {
   "cell_type": "markdown",
   "id": "9a0c84aa",
   "metadata": {},
   "source": [
    "with $F'(x)=f(x)$."
   ]
  },
  {
   "cell_type": "markdown",
   "id": "7861f74d",
   "metadata": {},
   "source": [
    "## Work-Energy Theorem again\n",
    "\n",
    "We remember that a the work done by a force\n",
    "$\\boldsymbol{F}=f\\boldsymbol{e}_1+g\\boldsymbol{e}_2+h\\boldsymbol{e}_3$ on a displacemnt $d\\boldsymbol{r}$"
   ]
  },
  {
   "cell_type": "markdown",
   "id": "999ccf2f",
   "metadata": {},
   "source": [
    "$$\n",
    "W=\\int_C\\boldsymbol{F}d\\boldsymbol{r}=\\int_C(fdx+gdy+hdz).\n",
    "$$"
   ]
  },
  {
   "cell_type": "markdown",
   "id": "563d9946",
   "metadata": {},
   "source": [
    "From the path independence theorem, we know that this has to result in\n",
    "the difference between the two endpoints only. This is exact if and\n",
    "only if the force is the force $\\boldsymbol{F}$ is the gradient of a scalar\n",
    "function $u$. We call this scalar function, which depends only the\n",
    "positions $x,y,z$ for the potential energy $V(x,y,z)=V(\\boldsymbol{r})$.\n",
    "\n",
    "We have thus"
   ]
  },
  {
   "cell_type": "markdown",
   "id": "3f8f57e6",
   "metadata": {},
   "source": [
    "$$\n",
    "\\boldsymbol{F}(\\boldsymbol{r})\\propto \\boldsymbol{\\nabla}V(\\boldsymbol{r}),\n",
    "$$"
   ]
  },
  {
   "cell_type": "markdown",
   "id": "ae541ef3",
   "metadata": {},
   "source": [
    "and we define  this as"
   ]
  },
  {
   "cell_type": "markdown",
   "id": "b1861daf",
   "metadata": {},
   "source": [
    "$$\n",
    "\\boldsymbol{F}(\\boldsymbol{r})= -\\boldsymbol{\\nabla}V(\\boldsymbol{r}).\n",
    "$$"
   ]
  },
  {
   "cell_type": "markdown",
   "id": "7e0b59cf",
   "metadata": {},
   "source": [
    "Such a force is called **a conservative force**. The above expression can be used to demonstrate\n",
    "energy conservation."
   ]
  },
  {
   "cell_type": "markdown",
   "id": "4ed85c1d",
   "metadata": {},
   "source": [
    "## Additional Theorem\n",
    "\n",
    "Finally we can define the criterion for exactness and independence of\n",
    "path. This theorem states that if $f(x,y,z)$, $g(x,y,z)$ and\n",
    "$h(x,y,z)$ are continuous functions with continuous first partial derivatives in the domain $D$,\n",
    "then the line integral"
   ]
  },
  {
   "cell_type": "markdown",
   "id": "409e598c",
   "metadata": {},
   "source": [
    "$$\n",
    "\\int_C\\left(fdx+gdy+hdz\\right),\n",
    "$$"
   ]
  },
  {
   "cell_type": "markdown",
   "id": "c935e09d",
   "metadata": {},
   "source": [
    "is independent of path in $D$ when"
   ]
  },
  {
   "cell_type": "markdown",
   "id": "6843bfef",
   "metadata": {},
   "source": [
    "$$\n",
    "\\frac{\\partial h}{\\partial y}=\\frac{\\partial g}{\\partial z},\n",
    "$$"
   ]
  },
  {
   "cell_type": "markdown",
   "id": "4bb995f9",
   "metadata": {},
   "source": [
    "and"
   ]
  },
  {
   "cell_type": "markdown",
   "id": "27d73362",
   "metadata": {},
   "source": [
    "$$\n",
    "\\frac{\\partial f}{\\partial z}=\\frac{\\partial h}{\\partial x},\n",
    "$$"
   ]
  },
  {
   "cell_type": "markdown",
   "id": "fb50f388",
   "metadata": {},
   "source": [
    "and"
   ]
  },
  {
   "cell_type": "markdown",
   "id": "6a36f1d9",
   "metadata": {},
   "source": [
    "$$\n",
    "\\frac{\\partial g}{\\partial x}=\\frac{\\partial f}{\\partial y}.\n",
    "$$"
   ]
  },
  {
   "cell_type": "markdown",
   "id": "86b7eade",
   "metadata": {},
   "source": [
    "This leads to the **curl** of $\\boldsymbol{F}$ being zero"
   ]
  },
  {
   "cell_type": "markdown",
   "id": "20fd8d12",
   "metadata": {},
   "source": [
    "$$\n",
    "\\boldsymbol{\\nabla}\\times\\boldsymbol{F}=\\boldsymbol{\\nabla}\\times\\left(-\\boldsymbol{\\nabla}V(\\boldsymbol{r})\\right)=0!\n",
    "$$"
   ]
  },
  {
   "cell_type": "markdown",
   "id": "4d81bf4d",
   "metadata": {},
   "source": [
    "## Summarizing\n",
    "\n",
    "A conservative force $\\boldsymbol{F}$ is a defined as the partial derivative of a scalar potential which depends only on the position,"
   ]
  },
  {
   "cell_type": "markdown",
   "id": "52a65c64",
   "metadata": {},
   "source": [
    "$$\n",
    "\\boldsymbol{F}(\\boldsymbol{r})= -\\boldsymbol{\\nabla}V(\\boldsymbol{r}).\n",
    "$$"
   ]
  },
  {
   "cell_type": "markdown",
   "id": "46366b66",
   "metadata": {},
   "source": [
    "This leads to conservation of energy and a path independent line integral as long as the curl of the force is zero, that is"
   ]
  },
  {
   "cell_type": "markdown",
   "id": "752aa431",
   "metadata": {},
   "source": [
    "$$\n",
    "\\boldsymbol{\\nabla}\\times\\boldsymbol{F}=\\boldsymbol{\\nabla}\\times\\left(-\\boldsymbol{\\nabla}V(\\boldsymbol{r})\\right)=0.\n",
    "$$"
   ]
  },
  {
   "cell_type": "markdown",
   "id": "2faecf27",
   "metadata": {},
   "source": [
    "## Graphing the potential energy and what we can learn from that\n",
    "\n",
    "This is taken from homework 4, exercises 5.\n",
    "\n",
    "A particle is under the influence of a force $F=-kx+kx^3/\\alpha^2$, where $k$ and $\\alpha$ are constants and $k$ is positive.\n",
    "\n",
    "Determine $V(x)$ and discuss the motion. It can be convenient here to\n",
    "make a sketch/plot of the potential as function of $x$.\n",
    "\n",
    "We assume that the potential is zero at say $x=0$. Integrating the force from zero to $x$ gives"
   ]
  },
  {
   "cell_type": "markdown",
   "id": "80101e6f",
   "metadata": {},
   "source": [
    "$$\n",
    "V(x) = -\\int_0^x F(x')dx'=\\frac{kx^2}{2}-\\frac{kx^4}{4\\alpha^2}.\n",
    "$$"
   ]
  },
  {
   "cell_type": "markdown",
   "id": "f5c2f5d9",
   "metadata": {},
   "source": [
    "## Making the plot\n",
    "\n",
    "The following code plots the potential. We have chosen values of $\\alpha=k=1.0$. Feel free to experiment with other values. We plot $V(x)$ for a domain of $x\\in [-2,2]$."
   ]
  },
  {
   "cell_type": "code",
   "execution_count": 1,
   "id": "b8ac8ffd",
   "metadata": {},
   "outputs": [
    {
     "data": {
      "image/png": "[encoded data removed]",
      "text/plain": [
       "<Figure size 640x480 with 1 Axes>"
      ]
     },
     "metadata": {},
     "output_type": "display_data"
    }
   ],
   "source": [
    "%matplotlib inline\n",
    "\n",
    "import numpy as np\n",
    "import matplotlib.pyplot as plt\n",
    "import math\n",
    "\n",
    "x0= -2.0\n",
    "xn = 2.1\n",
    "Deltax = 0.1\n",
    "alpha = 1.0\n",
    "k = 1.0\n",
    "#set up arrays\n",
    "x = np.arange(x0,xn,Deltax)\n",
    "n = np.size(x)\n",
    "V = np.zeros(n)\n",
    "V = 0.5*k*x*x-0.25*k*(x**4)/(alpha*alpha)\n",
    "plt.plot(x, V)\n",
    "plt.xlabel(\"x\")\n",
    "plt.ylabel(\"V\")\n",
    "plt.show()"
   ]
  },
  {
   "cell_type": "markdown",
   "id": "b5fadbbd",
   "metadata": {},
   "source": [
    "## Interpreting the results\n",
    "\n",
    "From the plot here (with the chosen parameters) \n",
    "1. we see that with a given initial velocity we can overcome the potential energy barrier\n",
    "\n",
    "and leave the potential well for good.\n",
    "1. If the initial velocity is smaller (see Final interpretations following next) than a certain value, it will remain trapped in the potential well and oscillate back and forth around $x=0$. This is where the potential has its minimum value. \n",
    "\n",
    "2. If the kinetic energy at $x=0$ equals the maximum potential energy, the object will oscillate back and forth between the minimum potential energy at $x=0$ and the turning points where the kinetic energy turns zero. These are the so-called non-equilibrium points."
   ]
  },
  {
   "cell_type": "markdown",
   "id": "2eca8433",
   "metadata": {},
   "source": [
    "## Final interpretations\n",
    "\n",
    "What happens when the energy of the particle is $E=(1/4)k\\alpha^2$? Hint: what is the maximum value of the potential energy?\n",
    "\n",
    "From the figure we see that\n",
    "the potential has a minimum at at $x=0$ then rises until $x=\\alpha$ before falling off again. The maximum\n",
    "potential, $V(x\\pm \\alpha) = k\\alpha^2/4$. If the energy is higher, the particle cannot be contained in the\n",
    "well. The turning points are thus defined by $x=\\pm \\alpha$. And from the previous plot you can easily see that this is the case ($\\alpha=1$ in the abovementioned Python code)."
   ]
  },
  {
   "cell_type": "markdown",
   "id": "2498f555",
   "metadata": {},
   "source": [
    "## The Earth-Sun system\n",
    "\n",
    "We will now venture into a study of a system which is energy\n",
    "conserving. The aim is to see if we (since it is not possible to solve\n",
    "the general equations analytically) we can develop stable numerical\n",
    "algorithms whose results we can trust!\n",
    "\n",
    "We solve the equations of motion numerically. We will also compute\n",
    "quantities like the energy numerically.\n",
    "\n",
    "We start with a simpler case first, the Earth-Sun system  in two dimensions only.  The gravitational force $F_G$ on the earth from the sun is"
   ]
  },
  {
   "cell_type": "markdown",
   "id": "c46ed525",
   "metadata": {},
   "source": [
    "$$\n",
    "\\boldsymbol{F}_G=-\\frac{GM_{\\odot}M_E}{r^3}\\boldsymbol{r},\n",
    "$$"
   ]
  },
  {
   "cell_type": "markdown",
   "id": "66f39bbf",
   "metadata": {},
   "source": [
    "where $G$ is the gravitational constant,"
   ]
  },
  {
   "cell_type": "markdown",
   "id": "666c5bf9",
   "metadata": {},
   "source": [
    "$$\n",
    "M_E=6\\times 10^{24}\\mathrm{Kg},\n",
    "$$"
   ]
  },
  {
   "cell_type": "markdown",
   "id": "abaac41d",
   "metadata": {},
   "source": [
    "the mass of Earth,"
   ]
  },
  {
   "cell_type": "markdown",
   "id": "a54cc889",
   "metadata": {},
   "source": [
    "$$\n",
    "M_{\\odot}=2\\times 10^{30}\\mathrm{Kg},\n",
    "$$"
   ]
  },
  {
   "cell_type": "markdown",
   "id": "bc1fd31c",
   "metadata": {},
   "source": [
    "the mass of the Sun and"
   ]
  },
  {
   "cell_type": "markdown",
   "id": "7dbe9900",
   "metadata": {},
   "source": [
    "$$\n",
    "r=1.5\\times 10^{11}\\mathrm{m},\n",
    "$$"
   ]
  },
  {
   "cell_type": "markdown",
   "id": "00645663",
   "metadata": {},
   "source": [
    "is the distance between Earth and the Sun. The latter defines what we call an astronomical unit **AU**."
   ]
  },
  {
   "cell_type": "markdown",
   "id": "17f16a04",
   "metadata": {},
   "source": [
    "## The Earth-Sun system, Newton's Laws\n",
    "\n",
    "From Newton's second law we have then for the $x$ direction"
   ]
  },
  {
   "cell_type": "markdown",
   "id": "56f61fc8",
   "metadata": {},
   "source": [
    "$$\n",
    "\\frac{d^2x}{dt^2}=-\\frac{F_{x}}{M_E},\n",
    "$$"
   ]
  },
  {
   "cell_type": "markdown",
   "id": "0d9e4a99",
   "metadata": {},
   "source": [
    "and"
   ]
  },
  {
   "cell_type": "markdown",
   "id": "4b891fbe",
   "metadata": {},
   "source": [
    "$$\n",
    "\\frac{d^2y}{dt^2}=-\\frac{F_{y}}{M_E},\n",
    "$$"
   ]
  },
  {
   "cell_type": "markdown",
   "id": "c9a8d3c7",
   "metadata": {},
   "source": [
    "for the $y$ direction.\n",
    "\n",
    "Here we will use  that  $x=r\\cos{(\\theta)}$, $y=r\\sin{(\\theta)}$ and"
   ]
  },
  {
   "cell_type": "markdown",
   "id": "11ff369c",
   "metadata": {},
   "source": [
    "$$\n",
    "r = \\sqrt{x^2+y^2}.\n",
    "$$"
   ]
  },
  {
   "cell_type": "markdown",
   "id": "d6ed5d20",
   "metadata": {},
   "source": [
    "We can rewrite"
   ]
  },
  {
   "cell_type": "markdown",
   "id": "48f24950",
   "metadata": {},
   "source": [
    "$$\n",
    "F_{x}=-\\frac{GM_{\\odot}M_E}{r^2}\\cos{(\\theta)}=-\\frac{GM_{\\odot}M_E}{r^3}x,\n",
    "$$"
   ]
  },
  {
   "cell_type": "markdown",
   "id": "a0d66cf4",
   "metadata": {},
   "source": [
    "and"
   ]
  },
  {
   "cell_type": "markdown",
   "id": "019c1c88",
   "metadata": {},
   "source": [
    "$$\n",
    "F_{y}=-\\frac{GM_{\\odot}M_E}{r^2}\\sin{(\\theta)}=-\\frac{GM_{\\odot}M_E}{r^3}y,\n",
    "$$"
   ]
  },
  {
   "cell_type": "markdown",
   "id": "659ba5e2",
   "metadata": {},
   "source": [
    "for the $y$ direction."
   ]
  },
  {
   "cell_type": "markdown",
   "id": "a132b25e",
   "metadata": {},
   "source": [
    "## The Earth-Sun system, rewriting the Equations\n",
    "\n",
    "We can rewrite these two equations"
   ]
  },
  {
   "cell_type": "markdown",
   "id": "8f84ba50",
   "metadata": {},
   "source": [
    "$$\n",
    "F_{x}=-\\frac{GM_{\\odot}M_E}{r^2}\\cos{(\\theta)}=-\\frac{GM_{\\odot}M_E}{r^3}x,\n",
    "$$"
   ]
  },
  {
   "cell_type": "markdown",
   "id": "8b2142a3",
   "metadata": {},
   "source": [
    "and"
   ]
  },
  {
   "cell_type": "markdown",
   "id": "1ebbad4a",
   "metadata": {},
   "source": [
    "$$\n",
    "F_{y}=-\\frac{GM_{\\odot}M_E}{r^2}\\sin{(\\theta)}=-\\frac{GM_{\\odot}M_E}{r^3}y,\n",
    "$$"
   ]
  },
  {
   "cell_type": "markdown",
   "id": "79b61957",
   "metadata": {},
   "source": [
    "as four first-order coupled differential equations"
   ]
  },
  {
   "cell_type": "markdown",
   "id": "5b018170",
   "metadata": {},
   "source": [
    "$$\n",
    "\\frac{dv_x}{dt}=-\\frac{GM_{\\odot}}{r^3}x,\n",
    "$$"
   ]
  },
  {
   "cell_type": "markdown",
   "id": "e03ce1ab",
   "metadata": {},
   "source": [
    "$$\n",
    "\\frac{dx}{dt}=v_x,\n",
    "$$"
   ]
  },
  {
   "cell_type": "markdown",
   "id": "19e45fec",
   "metadata": {},
   "source": [
    "$$\n",
    "\\frac{dv_y}{dt}=-\\frac{GM_{\\odot}}{r^3}y,\n",
    "$$"
   ]
  },
  {
   "cell_type": "markdown",
   "id": "9e40637a",
   "metadata": {},
   "source": [
    "$$\n",
    "\\frac{dy}{dt}=v_y.\n",
    "$$"
   ]
  },
  {
   "cell_type": "markdown",
   "id": "8afa7c1f",
   "metadata": {},
   "source": [
    "## Building a code for the solar system, final coupled equations\n",
    "\n",
    "The four coupled differential equations"
   ]
  },
  {
   "cell_type": "markdown",
   "id": "36e7a250",
   "metadata": {},
   "source": [
    "$$\n",
    "\\frac{dv_x}{dt}=-\\frac{GM_{\\odot}}{r^3}x,\n",
    "$$"
   ]
  },
  {
   "cell_type": "markdown",
   "id": "8d89142f",
   "metadata": {},
   "source": [
    "$$\n",
    "\\frac{dx}{dt}=v_x,\n",
    "$$"
   ]
  },
  {
   "cell_type": "markdown",
   "id": "b6a5c931",
   "metadata": {},
   "source": [
    "$$\n",
    "\\frac{dv_y}{dt}=-\\frac{GM_{\\odot}}{r^3}y,\n",
    "$$"
   ]
  },
  {
   "cell_type": "markdown",
   "id": "df59bbce",
   "metadata": {},
   "source": [
    "$$\n",
    "\\frac{dy}{dt}=v_y,\n",
    "$$"
   ]
  },
  {
   "cell_type": "markdown",
   "id": "eee2b4b2",
   "metadata": {},
   "source": [
    "can be turned into dimensionless equations or we can introduce astronomical units with $1$ AU = $1.5\\times 10^{11}$. \n",
    "\n",
    "Using the equations from circular motion (with $r =1\\mathrm{AU}$)"
   ]
  },
  {
   "cell_type": "markdown",
   "id": "f2c0c6a3",
   "metadata": {},
   "source": [
    "$$\n",
    "\\frac{M_E v^2}{r} = F = \\frac{GM_{\\odot}M_E}{r^2},\n",
    "$$"
   ]
  },
  {
   "cell_type": "markdown",
   "id": "42bec214",
   "metadata": {},
   "source": [
    "we have"
   ]
  },
  {
   "cell_type": "markdown",
   "id": "ccaa4d98",
   "metadata": {},
   "source": [
    "$$\n",
    "GM_{\\odot}=v^2r,\n",
    "$$"
   ]
  },
  {
   "cell_type": "markdown",
   "id": "6874b803",
   "metadata": {},
   "source": [
    "and using that the velocity of Earth (assuming circular motion) is\n",
    "$v = 2\\pi r/\\mathrm{yr}=2\\pi\\mathrm{AU}/\\mathrm{yr}$, we have"
   ]
  },
  {
   "cell_type": "markdown",
   "id": "4ae46e81",
   "metadata": {},
   "source": [
    "$$\n",
    "GM_{\\odot}= v^2r = 4\\pi^2 \\frac{(\\mathrm{AU})^3}{\\mathrm{yr}^2}.\n",
    "$$"
   ]
  },
  {
   "cell_type": "markdown",
   "id": "d031afca",
   "metadata": {},
   "source": [
    "## Building a code for the solar system, discretized equations\n",
    "\n",
    "The four coupled differential equations can then be discretized using Euler's method as (with step length $h$)"
   ]
  },
  {
   "cell_type": "markdown",
   "id": "d8b88ae9",
   "metadata": {},
   "source": [
    "$$\n",
    "v_{x,i+1}=v_{x,i}-h\\frac{4\\pi^2}{r_i^3}x_i,\n",
    "$$"
   ]
  },
  {
   "cell_type": "markdown",
   "id": "2db9552a",
   "metadata": {},
   "source": [
    "$$\n",
    "x_{i+1}=x_i+hv_{x,i},\n",
    "$$"
   ]
  },
  {
   "cell_type": "markdown",
   "id": "0c380401",
   "metadata": {},
   "source": [
    "$$\n",
    "v_{y,i+1}=v_{y,i}-h\\frac{4\\pi^2}{r_i^3}y_i,\n",
    "$$"
   ]
  },
  {
   "cell_type": "markdown",
   "id": "b716b916",
   "metadata": {},
   "source": [
    "$$\n",
    "y_{i+1}=y_i+hv_{y,i},\n",
    "$$"
   ]
  },
  {
   "cell_type": "markdown",
   "id": "d8370dd5",
   "metadata": {},
   "source": [
    "## Code Example with Euler's Method\n",
    "\n",
    "The code here implements Euler's method for the Earth-Sun system using a more compact way of representing the vectors. Alternatively, you could have spelled out all the variables $v_x$, $v_y$, $x$ and $y$ as one-dimensional arrays."
   ]
  },
  {
   "cell_type": "code",
   "execution_count": 2,
   "id": "e7df85f7",
   "metadata": {},
   "outputs": [],
   "source": [
    "# Common imports\n",
    "import numpy as np\n",
    "import pandas as pd\n",
    "from math import *\n",
    "import matplotlib.pyplot as plt\n",
    "import os\n",
    "\n",
    "# Where to save the figures and data files\n",
    "PROJECT_ROOT_DIR = \"Results\"\n",
    "FIGURE_ID = \"Results/FigureFiles\"\n",
    "DATA_ID = \"DataFiles/\"\n",
    "\n",
    "if not os.path.exists(PROJECT_ROOT_DIR):\n",
    "    os.mkdir(PROJECT_ROOT_DIR)\n",
    "\n",
    "if not os.path.exists(FIGURE_ID):\n",
    "    os.makedirs(FIGURE_ID)\n",
    "\n",
    "if not os.path.exists(DATA_ID):\n",
    "    os.makedirs(DATA_ID)\n",
    "\n",
    "def image_path(fig_id):\n",
    "    return os.path.join(FIGURE_ID, fig_id)\n",
    "\n",
    "def data_path(dat_id):\n",
    "    return os.path.join(DATA_ID, dat_id)\n",
    "\n",
    "def save_fig(fig_id):\n",
    "    plt.savefig(image_path(fig_id) + \".png\", format='png')\n",
    "\n",
    "\n",
    "DeltaT = 0.001\n",
    "#set up arrays \n",
    "tfinal = 10 # in years\n",
    "n = ceil(tfinal/DeltaT)\n",
    "# set up arrays for t, a, v, and x\n",
    "t = np.zeros(n)\n",
    "v = np.zeros((n,2))\n",
    "r = np.zeros((n,2))\n",
    "# Initial conditions as compact 2-dimensional arrays\n",
    "r0 = np.array([1.0,0.0])\n",
    "v0 = np.array([0.0,2*pi])\n",
    "r[0] = r0\n",
    "v[0] = v0\n",
    "Fourpi2 = 4*pi*pi\n",
    "# Start integrating using Euler's method\n",
    "for i in range(n-1):\n",
    "    # Set up the acceleration\n",
    "    # Here you could have defined your own function for this\n",
    "    rabs = sqrt(sum(r[i]*r[i]))\n",
    "    a =  -Fourpi2*r[i]/(rabs**3)\n",
    "    # update velocity, time and position using Euler's forward method\n",
    "    v[i+1] = v[i] + DeltaT*a\n",
    "    r[i+1] = r[i] + DeltaT*v[i]\n",
    "    t[i+1] = t[i] + DeltaT\n",
    "# Plot position as function of time    \n",
    "fig, ax = plt.subplots()\n",
    "#ax.set_xlim(0, tfinal)\n",
    "ax.set_ylabel('y[AU]')\n",
    "ax.set_xlabel('x[AU]')\n",
    "ax.plot(r[:,0], r[:,1])\n",
    "fig.tight_layout()\n",
    "save_fig(\"EarthSunEuler\")\n",
    "plt.show()"
   ]
  },
  {
   "cell_type": "markdown",
   "id": "deeba904",
   "metadata": {},
   "source": [
    "## Problems with Euler's Method\n",
    "\n",
    "We notice here that Euler's method doesn't give a stable orbit. It\n",
    "means that we cannot trust Euler's method. In a deeper way, as we will\n",
    "see in homework 5, Euler's method does not conserve energy. It is an\n",
    "example of an integrator which is not\n",
    "[symplectic](https://en.wikipedia.org/wiki/Symplectic_integrator).\n",
    "\n",
    "Here we present thus two methods, which with simple changes allow us to avoid these pitfalls. The simplest possible extension is the so-called Euler-Cromer method.\n",
    "The changes we need to make to our code are indeed marginal here.\n",
    "We need simply to replace"
   ]
  },
  {
   "cell_type": "code",
   "execution_count": 3,
   "id": "1f8ce4ef",
   "metadata": {},
   "outputs": [],
   "source": [
    "    r[i+1] = r[i] + DeltaT*v[i]"
   ]
  },
  {
   "cell_type": "markdown",
   "id": "9e60be93",
   "metadata": {},
   "source": [
    "in the above code with the velocity at the new time $t_{i+1}$"
   ]
  },
  {
   "cell_type": "code",
   "execution_count": 4,
   "id": "2f272489",
   "metadata": {},
   "outputs": [],
   "source": [
    "    r[i+1] = r[i] + DeltaT*v[i+1]"
   ]
  },
  {
   "cell_type": "markdown",
   "id": "7cb7d8e5",
   "metadata": {},
   "source": [
    "By this simple caveat we get stable orbits.\n",
    "Below we derive the Euler-Cromer method as well as one of the most utlized algorithms for sovling the above type of problems, the so-called Velocity-Verlet method."
   ]
  },
  {
   "cell_type": "markdown",
   "id": "29b3dd7f",
   "metadata": {},
   "source": [
    "## Deriving the Euler-Cromer Method\n",
    "\n",
    "Let us repeat Euler's method.\n",
    "We have a differential equation"
   ]
  },
  {
   "cell_type": "markdown",
   "id": "381611ab",
   "metadata": {},
   "source": [
    "<!-- Equation labels as ordinary links -->\n",
    "<div id=\"_auto1\"></div>\n",
    "\n",
    "$$\n",
    "\\begin{equation}\n",
    "y'(t_i)=f(t_i,y_i)   \n",
    "\\label{_auto1} \\tag{1}\n",
    "\\end{equation}\n",
    "$$"
   ]
  },
  {
   "cell_type": "markdown",
   "id": "dd8bc05a",
   "metadata": {},
   "source": [
    "and if we truncate at the first derivative, we have from the Taylor expansion"
   ]
  },
  {
   "cell_type": "markdown",
   "id": "cff6021b",
   "metadata": {},
   "source": [
    "<!-- Equation labels as ordinary links -->\n",
    "<div id=\"eq:euler\"></div>\n",
    "\n",
    "$$\n",
    "\\begin{equation}\n",
    "y_{i+1}=y(t_i) + (\\Delta t) f(t_i,y_i) + O(\\Delta t^2), \\label{eq:euler} \\tag{2}\n",
    "\\end{equation}\n",
    "$$"
   ]
  },
  {
   "cell_type": "markdown",
   "id": "92510a7e",
   "metadata": {},
   "source": [
    "which when complemented with $t_{i+1}=t_i+\\Delta t$ forms\n",
    "the algorithm for the well-known Euler method. \n",
    "Note that at every step we make an approximation error\n",
    "of the order of $O(\\Delta t^2)$, however the total error is the sum over all\n",
    "steps $N=(b-a)/(\\Delta t)$ for $t\\in [a,b]$, yielding thus a global error which goes like\n",
    "$NO(\\Delta t^2)\\approx O(\\Delta t)$. \n",
    "\n",
    "To make Euler's method more precise we can obviously\n",
    "decrease $\\Delta t$ (increase $N$), but this can lead to loss of numerical precision.\n",
    "Euler's method is not recommended for precision calculation,\n",
    "although it is handy to use in order to get a first\n",
    "view on how a solution may look like.\n",
    "\n",
    "Euler's method is asymmetric in time, since it uses information about the derivative at the beginning\n",
    "of the time interval. This means that we evaluate the position at $y_1$ using the velocity\n",
    "at $v_0$. A simple variation is to determine $x_{n+1}$ using the velocity at\n",
    "$v_{n+1}$, that is (in a slightly more generalized form)"
   ]
  },
  {
   "cell_type": "markdown",
   "id": "28d9cf87",
   "metadata": {},
   "source": [
    "<!-- Equation labels as ordinary links -->\n",
    "<div id=\"_auto2\"></div>\n",
    "\n",
    "$$\n",
    "\\begin{equation} \n",
    "y_{n+1}=y_{n}+ v_{n+1}+O(\\Delta t^2)\n",
    "\\label{_auto2} \\tag{3}\n",
    "\\end{equation}\n",
    "$$"
   ]
  },
  {
   "cell_type": "markdown",
   "id": "ca59eadd",
   "metadata": {},
   "source": [
    "and"
   ]
  },
  {
   "cell_type": "markdown",
   "id": "5810c6bf",
   "metadata": {},
   "source": [
    "<!-- Equation labels as ordinary links -->\n",
    "<div id=\"_auto3\"></div>\n",
    "\n",
    "$$\n",
    "\\begin{equation}\n",
    "v_{n+1}=v_{n}+(\\Delta t) a_{n}+O(\\Delta t^2).\n",
    "\\label{_auto3} \\tag{4}\n",
    "\\end{equation}\n",
    "$$"
   ]
  },
  {
   "cell_type": "markdown",
   "id": "d4b82c93",
   "metadata": {},
   "source": [
    "The acceleration $a_n$ is a function of $a_n(y_n, v_n, t_n)$ and needs to be evaluated\n",
    "as well. This is the Euler-Cromer method.\n",
    "\n",
    "**Exercise**: go back to the above code with Euler's method and add the Euler-Cromer method."
   ]
  },
  {
   "cell_type": "markdown",
   "id": "95e933c3",
   "metadata": {},
   "source": [
    "## Deriving the Velocity-Verlet Method\n",
    "\n",
    "Let us stay with $x$ (position) and $v$ (velocity) as the quantities we are interested in.\n",
    "\n",
    "We have the Taylor expansion for the position given by"
   ]
  },
  {
   "cell_type": "markdown",
   "id": "8d7c8d06",
   "metadata": {},
   "source": [
    "$$\n",
    "x_{i+1} = x_i+(\\Delta t)v_i+\\frac{(\\Delta t)^2}{2}a_i+O((\\Delta t)^3).\n",
    "$$"
   ]
  },
  {
   "cell_type": "markdown",
   "id": "3b395d65",
   "metadata": {},
   "source": [
    "The corresponding expansion for the velocity is"
   ]
  },
  {
   "cell_type": "markdown",
   "id": "308a70a6",
   "metadata": {},
   "source": [
    "$$\n",
    "v_{i+1} = v_i+(\\Delta t)a_i+\\frac{(\\Delta t)^2}{2}v^{(2)}_i+O((\\Delta t)^3).\n",
    "$$"
   ]
  },
  {
   "cell_type": "markdown",
   "id": "3d2f8c6b",
   "metadata": {},
   "source": [
    "Via Newton's second law we have normally an analytical expression for the derivative of the velocity, namely"
   ]
  },
  {
   "cell_type": "markdown",
   "id": "357dea13",
   "metadata": {},
   "source": [
    "$$\n",
    "a_i= \\frac{d^2 x}{dt^2}\\vert_{i}=\\frac{d v}{dt}\\vert_{i}= \\frac{F(x_i,v_i,t_i)}{m}.\n",
    "$$"
   ]
  },
  {
   "cell_type": "markdown",
   "id": "f9ec6f38",
   "metadata": {},
   "source": [
    "If we add to this the corresponding expansion for the derivative of the velocity"
   ]
  },
  {
   "cell_type": "markdown",
   "id": "1359d86d",
   "metadata": {},
   "source": [
    "$$\n",
    "v^{(1)}_{i+1} = a_{i+1}= a_i+(\\Delta t)v^{(2)}_i+O((\\Delta t)^2)=a_i+(\\Delta t)v^{(2)}_i+O((\\Delta t)^2),\n",
    "$$"
   ]
  },
  {
   "cell_type": "markdown",
   "id": "0b59d504",
   "metadata": {},
   "source": [
    "and retain only terms up to the second derivative of the velocity since our error goes as $O(h^3)$, we have"
   ]
  },
  {
   "cell_type": "markdown",
   "id": "4239cced",
   "metadata": {},
   "source": [
    "$$\n",
    "(\\Delta t)v^{(2)}_i\\approx a_{i+1}-a_i.\n",
    "$$"
   ]
  },
  {
   "cell_type": "markdown",
   "id": "93636009",
   "metadata": {},
   "source": [
    "We can then rewrite the Taylor expansion for the velocity as"
   ]
  },
  {
   "cell_type": "markdown",
   "id": "a0d4b007",
   "metadata": {},
   "source": [
    "$$\n",
    "v_{i+1} = v_i+\\frac{(\\Delta t)}{2}\\left( a_{i+1}+a_{i}\\right)+O((\\Delta t)^3).\n",
    "$$"
   ]
  },
  {
   "cell_type": "markdown",
   "id": "4e26d599",
   "metadata": {},
   "source": [
    "## The velocity Verlet method\n",
    "\n",
    "Our final equations for the position and the velocity become then"
   ]
  },
  {
   "cell_type": "markdown",
   "id": "85545612",
   "metadata": {},
   "source": [
    "$$\n",
    "x_{i+1} = x_i+(\\Delta t)v_i+\\frac{(\\Delta t)^2}{2}a_{i}+O((\\Delta t)^3),\n",
    "$$"
   ]
  },
  {
   "cell_type": "markdown",
   "id": "4e841f8d",
   "metadata": {},
   "source": [
    "and"
   ]
  },
  {
   "cell_type": "markdown",
   "id": "4572e95a",
   "metadata": {},
   "source": [
    "$$\n",
    "v_{i+1} = v_i+\\frac{(\\Delta t)}{2}\\left(a_{i+1}+a_{i}\\right)+O((\\Delta t)^3).\n",
    "$$"
   ]
  },
  {
   "cell_type": "markdown",
   "id": "0751c8f0",
   "metadata": {},
   "source": [
    "Note well that the term $a_{i+1}$ depends on the position at $x_{i+1}$. This means that you need to calculate \n",
    "the position at the updated time $t_{i+1}$ before the computing the next velocity.  Note also that the derivative of the velocity at the time\n",
    "$t_i$ used in the updating of the position can be reused in the calculation of the velocity update as well."
   ]
  },
  {
   "cell_type": "markdown",
   "id": "37552eb7",
   "metadata": {},
   "source": [
    "## Adding the Velocity-Verlet Method\n",
    "\n",
    "We can now easily add the Verlet method to our original code as"
   ]
  },
  {
   "cell_type": "code",
   "execution_count": 5,
   "id": "9b11d925",
   "metadata": {},
   "outputs": [],
   "source": [
    "DeltaT = 0.01\n",
    "#set up arrays \n",
    "tfinal = 10 # in years\n",
    "n = ceil(tfinal/DeltaT)\n",
    "# set up arrays for t, a, v, and x\n",
    "t = np.zeros(n)\n",
    "v = np.zeros((n,2))\n",
    "r = np.zeros((n,2))\n",
    "# Initial conditions as compact 2-dimensional arrays\n",
    "r0 = np.array([1.0,0.0])\n",
    "v0 = np.array([0.0,2*pi])\n",
    "r[0] = r0\n",
    "v[0] = v0\n",
    "Fourpi2 = 4*pi*pi\n",
    "# Start integrating using the Velocity-Verlet  method\n",
    "for i in range(n-1):\n",
    "    # Set up forces, air resistance FD, note now that we need the norm of the vecto\n",
    "    # Here you could have defined your own function for this\n",
    "    rabs = sqrt(sum(r[i]*r[i]))\n",
    "    a =  -Fourpi2*r[i]/(rabs**3)\n",
    "    # update velocity, time and position using the Velocity-Verlet method\n",
    "    r[i+1] = r[i] + DeltaT*v[i]+0.5*(DeltaT**2)*a\n",
    "    rabs = sqrt(sum(r[i+1]*r[i+1]))\n",
    "    anew = -4*(pi**2)*r[i+1]/(rabs**3)\n",
    "    v[i+1] = v[i] + 0.5*DeltaT*(a+anew)\n",
    "    t[i+1] = t[i] + DeltaT\n",
    "# Plot position as function of time    \n",
    "fig, ax = plt.subplots()\n",
    "ax.set_ylabel('y[AU]')\n",
    "ax.set_xlabel('x[AU]')\n",
    "ax.plot(r[:,0], r[:,1])\n",
    "fig.tight_layout()\n",
    "save_fig(\"EarthSunVV\")\n",
    "plt.show()"
   ]
  },
  {
   "cell_type": "markdown",
   "id": "8203c9c1",
   "metadata": {},
   "source": [
    "You can easily generalize the calculation of the forces by defining a function\n",
    "which takes in as input the various variables. We leave this as a challenge to you."
   ]
  },
  {
   "cell_type": "markdown",
   "id": "c8b9c754",
   "metadata": {},
   "source": [
    "## Hints for exercises 2 and 3\n",
    "\n",
    "**Taylor exercise 3.11:**\n",
    "\n",
    "This exercise is discussed in Taylor's chapter 3.2.\n",
    "\n",
    "Consider the rocket of mass $M$ moving with velocity $v$. After a\n",
    "brief instant, the velocity of the rocket is $v+\\Delta v$ and the mass\n",
    "is $M-\\Delta M$. Momentum conservation gives"
   ]
  },
  {
   "cell_type": "markdown",
   "id": "b2075dd5",
   "metadata": {},
   "source": [
    "$$\n",
    "\\begin{eqnarray*}\n",
    "Mv&=&(M-\\Delta M)(v+\\Delta v)+\\Delta M(v-v_e)\\\\\n",
    "0&=&-\\Delta Mv+M\\Delta v+\\Delta M(v-v_e),\\\\\n",
    "0&=&M\\Delta v-\\Delta Mv_e.\n",
    "\\end{eqnarray*}\n",
    "$$"
   ]
  },
  {
   "cell_type": "markdown",
   "id": "b469ce1a",
   "metadata": {},
   "source": [
    "## Exercise 2\n",
    "\n",
    "In the second step we ignored the term $\\Delta M\\Delta v$ since we\n",
    "can assume it is small. The last equation gives"
   ]
  },
  {
   "cell_type": "markdown",
   "id": "0608d76b",
   "metadata": {},
   "source": [
    "$$\n",
    "\\begin{eqnarray}\n",
    "\\Delta v&=&\\frac{v_e}{M}\\Delta M,\\\\\n",
    "\\nonumber\n",
    "\\frac{dv}{dt}dt&=&\\frac{v_e}{M}dM.\n",
    "\\end{eqnarray}\n",
    "$$"
   ]
  },
  {
   "cell_type": "markdown",
   "id": "e26929f0",
   "metadata": {},
   "source": [
    "Here we let $\\Delta v\\rightarrow dv$ and $\\Delta M\\rightarrow dM$.\n",
    "We have also assumed that $M(t) = M_0-kt$. \n",
    "Integrating the expression with lower limits $v_0=0$ and $M_0$, one finds"
   ]
  },
  {
   "cell_type": "markdown",
   "id": "73ee1b95",
   "metadata": {},
   "source": [
    "$$\n",
    "\\begin{eqnarray*}\n",
    "v&=&v_e\\int_{M_0}^M \\frac{dM'}{M'}\\\\\n",
    "v&=&v_e\\ln(M/M_0)\\\\\n",
    "&=&v_e\\ln[(M_0-k t)/M_0].\n",
    "\\end{eqnarray*}\n",
    "$$"
   ]
  },
  {
   "cell_type": "markdown",
   "id": "3b6cffc5",
   "metadata": {},
   "source": [
    "We have ignored gravity here. If we add gravity as the external force, we get when integrating an additional terms $-gt$, that is"
   ]
  },
  {
   "cell_type": "markdown",
   "id": "d58b20d2",
   "metadata": {},
   "source": [
    "$$\n",
    "v(t)=v_e\\ln[(M_0-k t)/M_0]-gt.\n",
    "$$"
   ]
  },
  {
   "cell_type": "markdown",
   "id": "ea6f7bee",
   "metadata": {},
   "source": [
    "## Exercise 3, more rockets\n",
    "\n",
    "This is a continuation of the previous exercise and most of the relevant background material can be found in Taylor chapter 3.2. \n",
    "\n",
    "Taking the velocity from the previous exercise and integrating over time we find the height"
   ]
  },
  {
   "cell_type": "markdown",
   "id": "08a914e1",
   "metadata": {},
   "source": [
    "$$\n",
    "y(t) = y(t_0=0)+\\int_0^tv(t')dt'.\n",
    "$$"
   ]
  },
  {
   "cell_type": "markdown",
   "id": "bd2db4cb",
   "metadata": {},
   "source": [
    "You need to insert $v(t)$ from the previous exercise\n",
    "\n",
    "To do the integral over time we recall that $M(t)=M_0-\\Delta M t$. We assumed that $\\Delta M=k$ is a constant.\n",
    "We use that $M_0-M=kt$ and assume that mass decreases by a constant $k$ times time $t$."
   ]
  },
  {
   "cell_type": "markdown",
   "id": "fcbd12b8",
   "metadata": {},
   "source": [
    "## Some more manipulations which have to be done\n",
    "\n",
    "We will need  to compute an integral which goes like"
   ]
  },
  {
   "cell_type": "markdown",
   "id": "c717706e",
   "metadata": {},
   "source": [
    "$$\n",
    "\\int_0^t \\ln{M(t')}dt' = \\int_0^t \\ln{(M_0-kt')}dt'.\n",
    "$$"
   ]
  },
  {
   "cell_type": "markdown",
   "id": "839fcca1",
   "metadata": {},
   "source": [
    "and defining the variable $u=M_0-kt'$, with $du=-kdt'$ and the new limits $M_0$ when $t=0$ and $M_0-kt$ when time is equal to $t$, we have"
   ]
  },
  {
   "cell_type": "markdown",
   "id": "ccd017c8",
   "metadata": {},
   "source": [
    "$$\n",
    "\\int_0^t \\ln{M(t')}dt' = \\int_0^t \\ln{(M_0-kt')}dt'=-\\frac{1}{k}\\int_{M_0}^{M_0-kt} \\ln{(u)}du=-\\frac{1}{k}\\left[u\\ln{(u)}-u\\right]_{M_0}^{M_0-kt}.\n",
    "$$"
   ]
  }
 ],
 "metadata": {
  "kernelspec": {
   "display_name": "Python 3 (ipykernel)",
   "language": "python",
   "name": "python3"
  },
  "language_info": {
   "codemirror_mode": {
    "name": "ipython",
    "version": 3
   },
   "file_extension": ".py",
   "mimetype": "text/x-python",
   "name": "python",
   "nbconvert_exporter": "python",
   "pygments_lexer": "ipython3",
   "version": "3.9.10"
  }
 },
 "nbformat": 4,
 "nbformat_minor": 5
}
