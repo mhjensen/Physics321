{
 "cells": [
  {
   "cell_type": "markdown",
   "metadata": {},
   "source": [
    "<!-- dom:TITLE: PHY321: Harmonic Oscillations, Damping, Resonances and time-dependent Forces -->\n",
    "# PHY321: Harmonic Oscillations, Damping, Resonances and time-dependent Forces\n",
    "<!-- dom:AUTHOR: [Morten Hjorth-Jensen](http://mhjgit.github.io/info/doc/web/) at Department of Physics and Astronomy and Facility for Rare Ion Beams (FRIB), Michigan State University, USA & Department of Physics, University of Oslo, Norway -->\n",
    "<!-- Author: -->  \n",
    "**[Morten Hjorth-Jensen](http://mhjgit.github.io/info/doc/web/)**, Department of Physics and Astronomy and Facility for Rare Ion Beams (FRIB), Michigan State University, USA and Department of Physics, University of Oslo, Norway\n",
    "\n",
    "Date: **Mar 3, 2021**\n",
    "\n",
    "Copyright 1999-2021, [Morten Hjorth-Jensen](http://mhjgit.github.io/info/doc/web/). Released under CC Attribution-NonCommercial 4.0 license\n",
    "\n",
    "\n",
    "\n",
    "\n",
    "## Aims and Overarching Motivation\n",
    "\n",
    "### Monday\n",
    "\n",
    "Damped oscillations. Analytical and numerical solutions\n",
    "**Reading suggestion**: Taylor sections 5.4-5.5. \n",
    "\n",
    "\n",
    "### Wednesday\n",
    "\n",
    "No lecture, study day\n",
    "\n",
    "### Friday\n",
    "\n",
    "Driven oscillations and resonances with examples.\n",
    "**Reading suggestion**: Taylor sections 5.5-5.6. \n",
    "\n",
    "\n",
    "## Damped Oscillators\n",
    "\n",
    "We consider only the case where the damping force is proportional to\n",
    "the velocity. This is counter to dragging friction, where the force is\n",
    "proportional in strength to the normal force and independent of\n",
    "velocity, and is also inconsistent with wind resistance, where the\n",
    "magnitude of the drag force is proportional the square of the\n",
    "velocity. Rolling resistance does seem to be mainly proportional to\n",
    "the velocity. However, the main motivation for considering damping\n",
    "forces proportional to the velocity is that the math is more\n",
    "friendly. This is because the differential equation is linear,\n",
    "i.e. each term is of order $x$, $\\dot{x}$, $\\ddot{x}\\cdots$, or even\n",
    "terms with no mention of $x$, and there are no terms such as $x^2$ or\n",
    "$x\\ddot{x}$. The equations of motion for a spring with damping force\n",
    "$-b\\dot{x}$ are"
   ]
  },
  {
   "cell_type": "markdown",
   "metadata": {},
   "source": [
    "<!-- Equation labels as ordinary links -->\n",
    "<div id=\"_auto1\"></div>\n",
    "\n",
    "$$\n",
    "\\begin{equation}\n",
    "m\\ddot{x}+b\\dot{x}+kx=0.\n",
    "\\label{_auto1} \\tag{1}\n",
    "\\end{equation}\n",
    "$$"
   ]
  },
  {
   "cell_type": "markdown",
   "metadata": {},
   "source": [
    "## Harmonic Oscillator,  Damping\n",
    "\n",
    "Just to make the solution a bit less messy, we rewrite this equation as"
   ]
  },
  {
   "cell_type": "markdown",
   "metadata": {},
   "source": [
    "<!-- Equation labels as ordinary links -->\n",
    "<div id=\"eq:dampeddiffyq\"></div>\n",
    "\n",
    "$$\n",
    "\\begin{equation}\n",
    "\\label{eq:dampeddiffyq} \\tag{2}\n",
    "\\ddot{x}+2\\beta\\dot{x}+\\omega_0^2x=0,~~~~\\beta\\equiv b/2m,~\\omega_0\\equiv\\sqrt{k/m}.\n",
    "\\end{equation}\n",
    "$$"
   ]
  },
  {
   "cell_type": "markdown",
   "metadata": {},
   "source": [
    "Both $\\beta$ and $\\omega$ have dimensions of inverse time. To find solutions (see appendix C in the text) you must make an educated guess at the form of the solution. To do this, first realize that the solution will need an arbitrary normalization $A$ because the equation is linear. Secondly, realize that if the form is"
   ]
  },
  {
   "cell_type": "markdown",
   "metadata": {},
   "source": [
    "<!-- Equation labels as ordinary links -->\n",
    "<div id=\"_auto2\"></div>\n",
    "\n",
    "$$\n",
    "\\begin{equation}\n",
    "x=Ae^{rt}\n",
    "\\label{_auto2} \\tag{3}\n",
    "\\end{equation}\n",
    "$$"
   ]
  },
  {
   "cell_type": "markdown",
   "metadata": {},
   "source": [
    "that each derivative simply brings out an extra power of $r$. This\n",
    "means that the $Ae^{rt}$ factors out and one can simply solve for an\n",
    "equation for $r$. Plugging this form into Eq. ([2](#eq:dampeddiffyq)),"
   ]
  },
  {
   "cell_type": "markdown",
   "metadata": {},
   "source": [
    "<!-- Equation labels as ordinary links -->\n",
    "<div id=\"_auto3\"></div>\n",
    "\n",
    "$$\n",
    "\\begin{equation}\n",
    "r^2+2\\beta r+\\omega_0^2=0.\n",
    "\\label{_auto3} \\tag{4}\n",
    "\\end{equation}\n",
    "$$"
   ]
  },
  {
   "cell_type": "markdown",
   "metadata": {},
   "source": [
    "## Harmonic Oscillator,  Solutions of Damped Motion\n",
    "\n",
    "Because this is a quadratic equation there will be two solutions,"
   ]
  },
  {
   "cell_type": "markdown",
   "metadata": {},
   "source": [
    "<!-- Equation labels as ordinary links -->\n",
    "<div id=\"_auto4\"></div>\n",
    "\n",
    "$$\n",
    "\\begin{equation}\n",
    "r=-\\beta\\pm\\sqrt{\\beta^2-\\omega_0^2}.\n",
    "\\label{_auto4} \\tag{5}\n",
    "\\end{equation}\n",
    "$$"
   ]
  },
  {
   "cell_type": "markdown",
   "metadata": {},
   "source": [
    "We refer to the two solutions as $r_1$ and $r_2$ corresponding to the\n",
    "$+$ and $-$ roots. As expected, there should be two arbitrary\n",
    "constants involved in the solution,"
   ]
  },
  {
   "cell_type": "markdown",
   "metadata": {},
   "source": [
    "<!-- Equation labels as ordinary links -->\n",
    "<div id=\"_auto5\"></div>\n",
    "\n",
    "$$\n",
    "\\begin{equation}\n",
    "x=A_1e^{r_1t}+A_2e^{r_2t},\n",
    "\\label{_auto5} \\tag{6}\n",
    "\\end{equation}\n",
    "$$"
   ]
  },
  {
   "cell_type": "markdown",
   "metadata": {},
   "source": [
    "where the coefficients $A_1$ and $A_2$ are determined by initial\n",
    "conditions.\n",
    "\n",
    "The roots listed above, $\\sqrt{\\omega_0^2-\\beta_0^2}$, will be\n",
    "imaginary if the damping is small and $\\beta<\\omega_0$. In that case,\n",
    "$r$ is complex and the factor $\\exp{(rt)}$ will have some oscillatory\n",
    "behavior. If the roots are real, there will only be exponentially\n",
    "decaying solutions. There are three cases:\n",
    "\n",
    "\n",
    "## Underdamped: $\\beta<\\omega_0$"
   ]
  },
  {
   "cell_type": "markdown",
   "metadata": {},
   "source": [
    "$$\n",
    "\\begin{eqnarray}\n",
    "x&=&A_1e^{-\\beta t}e^{i\\omega't}+A_2e^{-\\beta t}e^{-i\\omega't},~~\\omega'\\equiv\\sqrt{\\omega_0^2-\\beta^2}\\\\\n",
    "\\nonumber\n",
    "&=&(A_1+A_2)e^{-\\beta t}\\cos\\omega't+i(A_1-A_2)e^{-\\beta t}\\sin\\omega't.\n",
    "\\end{eqnarray}\n",
    "$$"
   ]
  },
  {
   "cell_type": "markdown",
   "metadata": {},
   "source": [
    "Here we have made use of the identity\n",
    "$e^{i\\omega't}=\\cos\\omega't+i\\sin\\omega't$. Because the constants are\n",
    "arbitrary, and because the real and imaginary parts are both solutions\n",
    "individually, we can simply consider the real part of the solution\n",
    "alone:"
   ]
  },
  {
   "cell_type": "markdown",
   "metadata": {},
   "source": [
    "<!-- Equation labels as ordinary links -->\n",
    "<div id=\"eq:homogsolution\"></div>\n",
    "\n",
    "$$\n",
    "\\begin{eqnarray}\n",
    "\\label{eq:homogsolution} \\tag{7}\n",
    "x&=&B_1e^{-\\beta t}\\cos\\omega't+B_2e^{-\\beta t}\\sin\\omega't,\\\\\n",
    "\\nonumber \n",
    "\\omega'&\\equiv&\\sqrt{\\omega_0^2-\\beta^2}.\n",
    "\\end{eqnarray}\n",
    "$$"
   ]
  },
  {
   "cell_type": "markdown",
   "metadata": {},
   "source": [
    "## Critical dampling: $\\beta=\\omega_0$\n",
    "\n",
    "In this case the two terms involving $r_1$ and $r_2$ are identical\n",
    "because $\\omega'=0$. Because we need to arbitrary constants, there\n",
    "needs to be another solution. This is found by simply guessing, or by\n",
    "taking the limit of $\\omega'\\rightarrow 0$ from the underdamped\n",
    "solution. The solution is then"
   ]
  },
  {
   "cell_type": "markdown",
   "metadata": {},
   "source": [
    "<!-- Equation labels as ordinary links -->\n",
    "<div id=\"eq:criticallydamped\"></div>\n",
    "\n",
    "$$\n",
    "\\begin{equation}\n",
    "\\label{eq:criticallydamped} \\tag{8}\n",
    "x=Ae^{-\\beta t}+Bte^{-\\beta t}.\n",
    "\\end{equation}\n",
    "$$"
   ]
  },
  {
   "cell_type": "markdown",
   "metadata": {},
   "source": [
    "The critically damped solution is interesting because the solution\n",
    "approaches zero quickly, but does not oscillate. For a problem with\n",
    "zero initial velocity, the solution never crosses zero. This is a good\n",
    "choice for designing shock absorbers or swinging doors.\n",
    "\n",
    "## Overdamped: $\\beta>\\omega_0$"
   ]
  },
  {
   "cell_type": "markdown",
   "metadata": {},
   "source": [
    "$$\n",
    "\\begin{eqnarray}\n",
    "x&=&A_1\\exp{-(\\beta+\\sqrt{\\beta^2-\\omega_0^2})t}+A_2\\exp{-(\\beta-\\sqrt{\\beta^2-\\omega_0^2})t}\n",
    "\\end{eqnarray}\n",
    "$$"
   ]
  },
  {
   "cell_type": "markdown",
   "metadata": {},
   "source": [
    "This solution will also never pass the origin more than once, and then\n",
    "only if the initial velocity is strong and initially toward zero.\n",
    "\n",
    "\n",
    "\n",
    "\n",
    "Given $b$, $m$ and $\\omega_0$, find $x(t)$ for a particle whose\n",
    "initial position is $x=0$ and has initial velocity $v_0$ (assuming an\n",
    "underdamped solution).\n",
    "\n",
    "The solution is of the form,"
   ]
  },
  {
   "cell_type": "markdown",
   "metadata": {},
   "source": [
    "$$\n",
    "\\begin{eqnarray*}\n",
    "x&=&e^{-\\beta t}\\left[A_1\\cos(\\omega' t)+A_2\\sin\\omega't\\right],\\\\\n",
    "\\dot{x}&=&-\\beta x+\\omega'e^{-\\beta t}\\left[-A_1\\sin\\omega't+A_2\\cos\\omega't\\right].\\\\\n",
    "\\omega'&\\equiv&\\sqrt{\\omega_0^2-\\beta^2},~~~\\beta\\equiv b/2m.\n",
    "\\end{eqnarray*}\n",
    "$$"
   ]
  },
  {
   "cell_type": "markdown",
   "metadata": {},
   "source": [
    "From the initial conditions, $A_1=0$ because $x(0)=0$ and $\\omega'A_2=v_0$. So"
   ]
  },
  {
   "cell_type": "markdown",
   "metadata": {},
   "source": [
    "$$\n",
    "x=\\frac{v_0}{\\omega'}e^{-\\beta t}\\sin\\omega't.\n",
    "$$"
   ]
  },
  {
   "cell_type": "markdown",
   "metadata": {},
   "source": [
    "## Harmonic Oscillator,  Solutions\n",
    "\n",
    "Consider a single solution with no arbitrary constants, which we will\n",
    "call a **particular solution**, $x_p(t)$. It should be emphasized\n",
    "that this is **A** particular solution, because there exists an\n",
    "infinite number of such solutions because the general solution should\n",
    "have two arbitrary constants. Now consider solutions to the same\n",
    "equation without the driving term, which include two arbitrary\n",
    "constants. These are called either **homogenous solutions** or \n",
    "**complementary solutions**, and were given in the previous section,\n",
    "e.g. Eq. ([7](#eq:homogsolution)) for the underdamped case. The\n",
    "homogenous solution already incorporates the two arbitrary constants,\n",
    "so any sum of a homogenous solution and a particular solution will\n",
    "represent the **general solution** of the equation. The general\n",
    "solution incorporates the two arbitrary constants $A$ and $B$ to\n",
    "accommodate the two initial conditions. One could have picked a\n",
    "different particular solution, i.e. the original particular solution\n",
    "plus any homogenous solution with the arbitrary constants $A_p$ and\n",
    "$B_p$ chosen at will. When one adds in the homogenous solution, which\n",
    "has adjustable constants with arbitrary constants $A'$ and $B'$, to\n",
    "the new particular solution, one can get the same general solution by\n",
    "simply adjusting the new constants such that $A'+A_p=A$ and\n",
    "$B'+B_p=B$. Thus, the choice of $A_p$ and $B_p$ are irrelevant, and\n",
    "when choosing the particular solution it is best to make the simplest\n",
    "choice possible.\n",
    "\n",
    "## Harmonic Oscillator,  Particular Solution\n",
    "\n",
    "To find a particular solution, one first guesses at the form,"
   ]
  },
  {
   "cell_type": "markdown",
   "metadata": {},
   "source": [
    "<!-- Equation labels as ordinary links -->\n",
    "<div id=\"eq:partform\"></div>\n",
    "\n",
    "$$\n",
    "\\begin{equation}\n",
    "\\label{eq:partform} \\tag{9}\n",
    "x_p(t)=D\\cos(\\omega t-\\delta),\n",
    "\\end{equation}\n",
    "$$"
   ]
  },
  {
   "cell_type": "markdown",
   "metadata": {},
   "source": [
    "and rewrite the differential equation as"
   ]
  },
  {
   "cell_type": "markdown",
   "metadata": {},
   "source": [
    "<!-- Equation labels as ordinary links -->\n",
    "<div id=\"_auto6\"></div>\n",
    "\n",
    "$$\n",
    "\\begin{equation}\n",
    "D\\left\\{-\\omega^2\\cos(\\omega t-\\delta)-2\\beta\\omega\\sin(\\omega t-\\delta)+\\omega_0^2\\cos(\\omega t-\\delta)\\right\\}=\\frac{F_0}{m}\\cos(\\omega t).\n",
    "\\label{_auto6} \\tag{10}\n",
    "\\end{equation}\n",
    "$$"
   ]
  },
  {
   "cell_type": "markdown",
   "metadata": {},
   "source": [
    "One can now use angle addition formulas to get"
   ]
  },
  {
   "cell_type": "markdown",
   "metadata": {},
   "source": [
    "$$\n",
    "\\begin{eqnarray}\n",
    "D\\left\\{(-\\omega^2\\cos\\delta+2\\beta\\omega\\sin\\delta+\\omega_0^2\\cos\\delta)\\cos(\\omega t)\\right.&&\\\\\n",
    "\\nonumber\n",
    "\\left.+(-\\omega^2\\sin\\delta-2\\beta\\omega\\cos\\delta+\\omega_0^2\\sin\\delta)\\sin(\\omega t)\\right\\}\n",
    "&=&\\frac{F_0}{m}\\cos(\\omega t).\n",
    "\\end{eqnarray}\n",
    "$$"
   ]
  },
  {
   "cell_type": "markdown",
   "metadata": {},
   "source": [
    "Both the $\\cos$ and $\\sin$ terms need to equate if the expression is to hold at all times. Thus, this becomes two equations"
   ]
  },
  {
   "cell_type": "markdown",
   "metadata": {},
   "source": [
    "$$\n",
    "\\begin{eqnarray}\n",
    "D\\left\\{-\\omega^2\\cos\\delta+2\\beta\\omega\\sin\\delta+\\omega_0^2\\cos\\delta\\right\\}&=&\\frac{F_0}{m}\\\\\n",
    "\\nonumber\n",
    "-\\omega^2\\sin\\delta-2\\beta\\omega\\cos\\delta+\\omega_0^2\\sin\\delta&=&0.\n",
    "\\end{eqnarray}\n",
    "$$"
   ]
  },
  {
   "cell_type": "markdown",
   "metadata": {},
   "source": [
    "After dividing by $\\cos\\delta$, the lower expression leads to"
   ]
  },
  {
   "cell_type": "markdown",
   "metadata": {},
   "source": [
    "<!-- Equation labels as ordinary links -->\n",
    "<div id=\"_auto7\"></div>\n",
    "\n",
    "$$\n",
    "\\begin{equation}\n",
    "\\tan\\delta=\\frac{2\\beta\\omega}{\\omega_0^2-\\omega^2}.\n",
    "\\label{_auto7} \\tag{11}\n",
    "\\end{equation}\n",
    "$$"
   ]
  },
  {
   "cell_type": "markdown",
   "metadata": {},
   "source": [
    "## Solving with Driven Oscillations\n",
    "\n",
    "\n",
    "Using the identities $\\tan^2+1=\\csc^2$ and $\\sin^2+\\cos^2=1$, one can also express $\\sin\\delta$ and $\\cos\\delta$,"
   ]
  },
  {
   "cell_type": "markdown",
   "metadata": {},
   "source": [
    "$$\n",
    "\\begin{eqnarray}\n",
    "\\sin\\delta&=&\\frac{2\\beta\\omega}{\\sqrt{(\\omega_0^2-\\omega^2)^2+4\\omega^2\\beta^2}},\\\\\n",
    "\\nonumber\n",
    "\\cos\\delta&=&\\frac{(\\omega_0^2-\\omega^2)}{\\sqrt{(\\omega_0^2-\\omega^2)^2+4\\omega^2\\beta^2}}\n",
    "\\end{eqnarray}\n",
    "$$"
   ]
  },
  {
   "cell_type": "markdown",
   "metadata": {},
   "source": [
    "Inserting the expressions for $\\cos\\delta$ and $\\sin\\delta$ into the expression for $D$,"
   ]
  },
  {
   "cell_type": "markdown",
   "metadata": {},
   "source": [
    "<!-- Equation labels as ordinary links -->\n",
    "<div id=\"eq:Ddrive\"></div>\n",
    "\n",
    "$$\n",
    "\\begin{equation}\n",
    "\\label{eq:Ddrive} \\tag{12}\n",
    "D=\\frac{F_0/m}{\\sqrt{(\\omega_0^2-\\omega^2)^2+4\\omega^2\\beta^2}}.\n",
    "\\end{equation}\n",
    "$$"
   ]
  },
  {
   "cell_type": "markdown",
   "metadata": {},
   "source": [
    "For a given initial condition, e.g. initial displacement and velocity,\n",
    "one must add the homogenous solution then solve for the two arbitrary\n",
    "constants. However, because the homogenous solutions decay with time\n",
    "as $e^{-\\beta t}$, the particular solution is all that remains at\n",
    "large times, and is therefore the steady state solution. Because the\n",
    "arbitrary constants are all in the homogenous solution, all memory of\n",
    "the initial conditions are lost at large times, $t>>1/\\beta$.\n",
    "\n",
    "The amplitude of the motion, $D$, is linearly proportional to the\n",
    "driving force ($F_0/m$), but also depends on the driving frequency\n",
    "$\\omega$. For small $\\beta$ the maximum will occur at\n",
    "$\\omega=\\omega_0$. This is referred to as a resonance. In the limit\n",
    "$\\beta\\rightarrow 0$ the amplitude at resonance approaches infinity.\n",
    "\n",
    "## Alternative Derivation for Driven Oscillators\n",
    "\n",
    "Here, we derive the same expressions as in Equations ([9](#eq:partform)) and ([12](#eq:Ddrive)) but express the driving forces as"
   ]
  },
  {
   "cell_type": "markdown",
   "metadata": {},
   "source": [
    "$$\n",
    "\\begin{eqnarray}\n",
    "F(t)&=&F_0e^{i\\omega t},\n",
    "\\end{eqnarray}\n",
    "$$"
   ]
  },
  {
   "cell_type": "markdown",
   "metadata": {},
   "source": [
    "rather than as $F_0\\cos\\omega t$. The real part of $F$ is the same as before. For the differential equation,"
   ]
  },
  {
   "cell_type": "markdown",
   "metadata": {},
   "source": [
    "<!-- Equation labels as ordinary links -->\n",
    "<div id=\"eq:compdrive\"></div>\n",
    "\n",
    "$$\n",
    "\\begin{eqnarray}\n",
    "\\label{eq:compdrive} \\tag{13}\n",
    "\\ddot{x}+2\\beta\\dot{x}+\\omega_0^2x&=&\\frac{F_0}{m}e^{i\\omega t},\n",
    "\\end{eqnarray}\n",
    "$$"
   ]
  },
  {
   "cell_type": "markdown",
   "metadata": {},
   "source": [
    "one can treat $x(t)$ as an imaginary function. Because the operations\n",
    "$d^2/dt^2$ and $d/dt$ are real and thus do not mix the real and\n",
    "imaginary parts of $x(t)$, Eq. ([13](#eq:compdrive)) is effectively 2\n",
    "equations. Because $e^{\\omega t}=\\cos\\omega t+i\\sin\\omega t$, the real\n",
    "part of the solution for $x(t)$ gives the solution for a driving force\n",
    "$F_0\\cos\\omega t$, and the imaginary part of $x$ corresponds to the\n",
    "case where the driving force is $F_0\\sin\\omega t$. It is rather easy\n",
    "to solve for the complex $x$ in this case, and by taking the real part\n",
    "of the solution, one finds the answer for the $\\cos\\omega t$ driving\n",
    "force.\n",
    "\n",
    "We assume a simple form for the particular solution"
   ]
  },
  {
   "cell_type": "markdown",
   "metadata": {},
   "source": [
    "<!-- Equation labels as ordinary links -->\n",
    "<div id=\"_auto8\"></div>\n",
    "\n",
    "$$\n",
    "\\begin{equation}\n",
    "x_p=De^{i\\omega t},\n",
    "\\label{_auto8} \\tag{14}\n",
    "\\end{equation}\n",
    "$$"
   ]
  },
  {
   "cell_type": "markdown",
   "metadata": {},
   "source": [
    "where $D$ is a complex constant.\n",
    "\n",
    "From Eq. ([13](#eq:compdrive)) one inserts the form for $x_p$ above to get"
   ]
  },
  {
   "cell_type": "markdown",
   "metadata": {},
   "source": [
    "$$\n",
    "\\begin{eqnarray}\n",
    "D\\left\\{-\\omega^2+2i\\beta\\omega+\\omega_0^2\\right\\}e^{i\\omega t}=(F_0/m)e^{i\\omega t},\\\\\n",
    "\\nonumber\n",
    "D=\\frac{F_0/m}{(\\omega_0^2-\\omega^2)+2i\\beta\\omega}.\n",
    "\\end{eqnarray}\n",
    "$$"
   ]
  },
  {
   "cell_type": "markdown",
   "metadata": {},
   "source": [
    "The norm and phase for $D=|D|e^{-i\\delta}$ can be read by inspection,"
   ]
  },
  {
   "cell_type": "markdown",
   "metadata": {},
   "source": [
    "<!-- Equation labels as ordinary links -->\n",
    "<div id=\"_auto9\"></div>\n",
    "\n",
    "$$\n",
    "\\begin{equation}\n",
    "|D|=\\frac{F_0/m}{\\sqrt{(\\omega_0^2-\\omega^2)^2+4\\beta^2\\omega^2}},~~~~\\tan\\delta=\\frac{2\\beta\\omega}{\\omega_0^2-\\omega^2}.\n",
    "\\label{_auto9} \\tag{15}\n",
    "\\end{equation}\n",
    "$$"
   ]
  },
  {
   "cell_type": "markdown",
   "metadata": {},
   "source": [
    "This is the same expression for $\\delta$ as before. One then finds $x_p(t)$,"
   ]
  },
  {
   "cell_type": "markdown",
   "metadata": {},
   "source": [
    "<!-- Equation labels as ordinary links -->\n",
    "<div id=\"eq:fastdriven1\"></div>\n",
    "\n",
    "$$\n",
    "\\begin{eqnarray}\n",
    "\\label{eq:fastdriven1} \\tag{16}\n",
    "x_p(t)&=&\\Re\\frac{(F_0/m)e^{i\\omega t-i\\delta}}{\\sqrt{(\\omega_0^2-\\omega^2)^2+4\\beta^2\\omega^2}}\\\\\n",
    "\\nonumber\n",
    "&=&\\frac{(F_0/m)\\cos(\\omega t-\\delta)}{\\sqrt{(\\omega_0^2-\\omega^2)^2+4\\beta^2\\omega^2}}.\n",
    "\\end{eqnarray}\n",
    "$$"
   ]
  },
  {
   "cell_type": "markdown",
   "metadata": {},
   "source": [
    "This is the same answer as before.\n",
    "If one wished to solve for the case where $F(t)= F_0\\sin\\omega t$, the imaginary part of the solution would work"
   ]
  },
  {
   "cell_type": "markdown",
   "metadata": {},
   "source": [
    "<!-- Equation labels as ordinary links -->\n",
    "<div id=\"eq:fastdriven2\"></div>\n",
    "\n",
    "$$\n",
    "\\begin{eqnarray}\n",
    "\\label{eq:fastdriven2} \\tag{17}\n",
    "x_p(t)&=&\\Im\\frac{(F_0/m)e^{i\\omega t-i\\delta}}{\\sqrt{(\\omega_0^2-\\omega^2)^2+4\\beta^2\\omega^2}}\\\\\n",
    "\\nonumber\n",
    "&=&\\frac{(F_0/m)\\sin(\\omega t-\\delta)}{\\sqrt{(\\omega_0^2-\\omega^2)^2+4\\beta^2\\omega^2}}.\n",
    "\\end{eqnarray}\n",
    "$$"
   ]
  },
  {
   "cell_type": "markdown",
   "metadata": {},
   "source": [
    "## Damped and Driven Oscillator\n",
    "\n",
    "Consider the damped and driven harmonic oscillator worked out above. Given $F_0, m,\\beta$ and $\\omega_0$, solve for the complete solution $x(t)$ for the case where $F=F_0\\sin\\omega t$ with initial conditions $x(t=0)=0$ and $v(t=0)=0$. Assume the underdamped case.\n",
    "\n",
    "The general solution including the arbitrary constants includes both the homogenous and particular solutions,"
   ]
  },
  {
   "cell_type": "markdown",
   "metadata": {},
   "source": [
    "$$\n",
    "\\begin{eqnarray*}\n",
    "x(t)&=&\\frac{F_0}{m}\\frac{\\sin(\\omega t-\\delta)}{\\sqrt{(\\omega_0^2-\\omega^2)^2+4\\beta^2\\omega^2}}\n",
    "+A\\cos\\omega't e^{-\\beta t}+B\\sin\\omega't e^{-\\beta t}.\n",
    "\\end{eqnarray*}\n",
    "$$"
   ]
  },
  {
   "cell_type": "markdown",
   "metadata": {},
   "source": [
    "The quantities $\\delta$ and $\\omega'$ are given earlier in the\n",
    "section, $\\omega'=\\sqrt{\\omega_0^2-\\beta^2},\n",
    "\\delta=\\tan^{-1}(2\\beta\\omega/(\\omega_0^2-\\omega^2)$. Here, solving\n",
    "the problem means finding the arbitrary constants $A$ and\n",
    "$B$. Satisfying the initial conditions for the initial position and\n",
    "velocity:"
   ]
  },
  {
   "cell_type": "markdown",
   "metadata": {},
   "source": [
    "$$\n",
    "\\begin{eqnarray*}\n",
    "x(t=0)=0&=&-\\eta\\sin\\delta+A,\\\\\n",
    "v(t=0)=0&=&\\omega\\eta\\cos\\delta-\\beta A+\\omega'B,\\\\\n",
    "\\eta&\\equiv&\\frac{F_0}{m}\\frac{1}{\\sqrt{(\\omega_0^2-\\omega^2)^2+4\\beta^2\\omega^2}}.\n",
    "\\end{eqnarray*}\n",
    "$$"
   ]
  },
  {
   "cell_type": "markdown",
   "metadata": {},
   "source": [
    "The problem is now reduced to 2 equations and 2 unknowns, $A$ and $B$. The solution is"
   ]
  },
  {
   "cell_type": "markdown",
   "metadata": {},
   "source": [
    "$$\n",
    "\\begin{eqnarray}\n",
    "A&=& \\eta\\sin\\delta ,~~~B=\\frac{-\\omega\\eta\\cos\\delta+\\beta\\eta\\sin\\delta}{\\omega'}.\n",
    "\\end{eqnarray}\n",
    "$$"
   ]
  },
  {
   "cell_type": "markdown",
   "metadata": {},
   "source": [
    "## Resonance Widths; the $Q$ factor\n",
    "\n",
    "From the previous two sections, the particular solution for a driving force, $F=F_0\\cos\\omega t$, is"
   ]
  },
  {
   "cell_type": "markdown",
   "metadata": {},
   "source": [
    "$$\n",
    "\\begin{eqnarray}\n",
    "x_p(t)&=&\\frac{F_0/m}{\\sqrt{(\\omega_0^2-\\omega^2)^2+4\\omega^2\\beta^2}}\\cos(\\omega_t-\\delta),\\\\\n",
    "\\nonumber\n",
    "\\delta&=&\\tan^{-1}\\left(\\frac{2\\beta\\omega}{\\omega_0^2-\\omega^2}\\right).\n",
    "\\end{eqnarray}\n",
    "$$"
   ]
  },
  {
   "cell_type": "markdown",
   "metadata": {},
   "source": [
    "If one fixes the driving frequency $\\omega$ and adjusts the\n",
    "fundamental frequency $\\omega_0=\\sqrt{k/m}$, the maximum amplitude\n",
    "occurs when $\\omega_0=\\omega$ because that is when the term from the\n",
    "denominator $(\\omega_0^2-\\omega^2)^2+4\\omega^2\\beta^2$ is at a\n",
    "minimum. This is akin to dialing into a radio station. However, if one\n",
    "fixes $\\omega_0$ and adjusts the driving frequency one minimize with\n",
    "respect to $\\omega$, e.g. set"
   ]
  },
  {
   "cell_type": "markdown",
   "metadata": {},
   "source": [
    "<!-- Equation labels as ordinary links -->\n",
    "<div id=\"_auto10\"></div>\n",
    "\n",
    "$$\n",
    "\\begin{equation}\n",
    "\\frac{d}{d\\omega}\\left[(\\omega_0^2-\\omega^2)^2+4\\omega^2\\beta^2\\right]=0,\n",
    "\\label{_auto10} \\tag{18}\n",
    "\\end{equation}\n",
    "$$"
   ]
  },
  {
   "cell_type": "markdown",
   "metadata": {},
   "source": [
    "and one finds that the maximum amplitude occurs when\n",
    "$\\omega=\\sqrt{\\omega_0^2-2\\beta^2}$. If $\\beta$ is small relative to\n",
    "$\\omega_0$, one can simply state that the maximum amplitude is"
   ]
  },
  {
   "cell_type": "markdown",
   "metadata": {},
   "source": [
    "<!-- Equation labels as ordinary links -->\n",
    "<div id=\"_auto11\"></div>\n",
    "\n",
    "$$\n",
    "\\begin{equation}\n",
    "x_{\\rm max}\\approx\\frac{F_0}{2m\\beta \\omega_0}.\n",
    "\\label{_auto11} \\tag{19}\n",
    "\\end{equation}\n",
    "$$"
   ]
  },
  {
   "cell_type": "markdown",
   "metadata": {},
   "source": [
    "$$\n",
    "\\begin{eqnarray}\n",
    "\\frac{4\\omega^2\\beta^2}{(\\omega_0^2-\\omega^2)^2+4\\omega^2\\beta^2}=\\frac{1}{2}.\n",
    "\\end{eqnarray}\n",
    "$$"
   ]
  },
  {
   "cell_type": "markdown",
   "metadata": {},
   "source": [
    "For small damping this occurs when $\\omega=\\omega_0\\pm \\beta$, so the $FWHM\\approx 2\\beta$. For the purposes of tuning to a specific frequency, one wants the width to be as small as possible. The ratio of $\\omega_0$ to $FWHM$ is known as the _quality_factor, or $Q$ factor,"
   ]
  },
  {
   "cell_type": "markdown",
   "metadata": {},
   "source": [
    "<!-- Equation labels as ordinary links -->\n",
    "<div id=\"_auto12\"></div>\n",
    "\n",
    "$$\n",
    "\\begin{equation}\n",
    "Q\\equiv \\frac{\\omega_0}{2\\beta}.\n",
    "\\label{_auto12} \\tag{20}\n",
    "\\end{equation}\n",
    "$$"
   ]
  },
  {
   "cell_type": "markdown",
   "metadata": {},
   "source": [
    "## Numerical Studies of Driven Oscillations\n",
    "\n",
    "Solving the problem of driven oscillations numerically gives us much\n",
    "more flexibility to study different types of driving forces. We can\n",
    "reuse our earlier code by simply adding a driving force. If we stay in\n",
    "the $x$-direction only this can be easily done by adding a term\n",
    "$F_{\\mathrm{ext}}(x,t)$. Note that we have kept it rather general\n",
    "here, allowing for both a spatial and a temporal dependence.\n",
    "\n",
    "Before we dive into the code, we need to briefly remind ourselves\n",
    "about the equations we started with for the case with damping, namely"
   ]
  },
  {
   "cell_type": "markdown",
   "metadata": {},
   "source": [
    "$$\n",
    "m\\frac{d^2x}{dt^2} + b\\frac{dx}{dt}+kx(t) =0,\n",
    "$$"
   ]
  },
  {
   "cell_type": "markdown",
   "metadata": {},
   "source": [
    "with no external force applied to the system.\n",
    "\n",
    "Let us now for simplicty assume that our external force is given by"
   ]
  },
  {
   "cell_type": "markdown",
   "metadata": {},
   "source": [
    "$$\n",
    "F_{\\mathrm{ext}}(t) = F_0\\cos{(\\omega t)},\n",
    "$$"
   ]
  },
  {
   "cell_type": "markdown",
   "metadata": {},
   "source": [
    "where $F_0$ is a constant (what is its dimension?) and $\\omega$ is the frequency of the applied external driving force.\n",
    "**Small question:** would you expect energy to be conserved now?\n",
    "\n",
    "\n",
    "Introducing the external force into our lovely differential equation\n",
    "and dividing by $m$ and introducing $\\omega_0^2=\\sqrt{k/m}$ we have"
   ]
  },
  {
   "cell_type": "markdown",
   "metadata": {},
   "source": [
    "$$\n",
    "\\frac{d^2x}{dt^2} + \\frac{b}{m}\\frac{dx}{dt}+\\omega_0^2x(t) =\\frac{F_0}{m}\\cos{(\\omega t)},\n",
    "$$"
   ]
  },
  {
   "cell_type": "markdown",
   "metadata": {},
   "source": [
    "Thereafter we introduce a dimensionless time $\\tau = t\\omega_0$\n",
    "and a dimensionless frequency $\\tilde{\\omega}=\\omega/\\omega_0$. We have then"
   ]
  },
  {
   "cell_type": "markdown",
   "metadata": {},
   "source": [
    "$$\n",
    "\\frac{d^2x}{d\\tau^2} + \\frac{b}{m\\omega_0}\\frac{dx}{d\\tau}+x(\\tau) =\\frac{F_0}{m\\omega_0^2}\\cos{(\\tilde{\\omega}\\tau)},\n",
    "$$"
   ]
  },
  {
   "cell_type": "markdown",
   "metadata": {},
   "source": [
    "Introducing a new amplitude $\\tilde{F} =F_0/(m\\omega_0^2)$ (check dimensionality again) we have"
   ]
  },
  {
   "cell_type": "markdown",
   "metadata": {},
   "source": [
    "$$\n",
    "\\frac{d^2x}{d\\tau^2} + \\frac{b}{m\\omega_0}\\frac{dx}{d\\tau}+x(\\tau) =\\tilde{F}\\cos{(\\tilde{\\omega}\\tau)}.\n",
    "$$"
   ]
  },
  {
   "cell_type": "markdown",
   "metadata": {},
   "source": [
    "Our final step, as we did in the case of various types of damping, is\n",
    "to define $\\gamma = b/(2m\\omega_0)$ and rewrite our equations as"
   ]
  },
  {
   "cell_type": "markdown",
   "metadata": {},
   "source": [
    "$$\n",
    "\\frac{d^2x}{d\\tau^2} + 2\\gamma\\frac{dx}{d\\tau}+x(\\tau) =\\tilde{F}\\cos{(\\tilde{\\omega}\\tau)}.\n",
    "$$"
   ]
  },
  {
   "cell_type": "markdown",
   "metadata": {},
   "source": [
    "This is the equation we will code below using the Euler-Cromer method."
   ]
  },
  {
   "cell_type": "code",
   "execution_count": 6,
   "metadata": {},
   "outputs": [
    {
     "data": {
      "image/png": "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\n",
      "text/plain": [
       "<Figure size 576x396 with 1 Axes>"
      ]
     },
     "metadata": {},
     "output_type": "display_data"
    }
   ],
   "source": [
    "%matplotlib inline\n",
    "\n",
    "# Common imports\n",
    "import numpy as np\n",
    "import pandas as pd\n",
    "from math import *\n",
    "import matplotlib.pyplot as plt\n",
    "import plotly.express as px\n",
    "import os\n",
    "\n",
    "# Where to save the figures and data files\n",
    "PROJECT_ROOT_DIR = \"Results\"\n",
    "FIGURE_ID = \"Results/FigureFiles\"\n",
    "DATA_ID = \"DataFiles/\"\n",
    "\n",
    "if not os.path.exists(PROJECT_ROOT_DIR):\n",
    "    os.mkdir(PROJECT_ROOT_DIR)\n",
    "\n",
    "if not os.path.exists(FIGURE_ID):\n",
    "    os.makedirs(FIGURE_ID)\n",
    "\n",
    "if not os.path.exists(DATA_ID):\n",
    "    os.makedirs(DATA_ID)\n",
    "\n",
    "def image_path(fig_id):\n",
    "    return os.path.join(FIGURE_ID, fig_id)\n",
    "\n",
    "def data_path(dat_id):\n",
    "    return os.path.join(DATA_ID, dat_id)\n",
    "\n",
    "def save_fig(fig_id):\n",
    "    plt.savefig(image_path(fig_id) + \".png\", format='png')\n",
    "\n",
    "\n",
    "from pylab import plt, mpl\n",
    "plt.style.use('seaborn')\n",
    "mpl.rcParams['font.family'] = 'serif'\n",
    "\n",
    "DeltaT = 0.001\n",
    "#set up arrays \n",
<<<<<<< HEAD
    "tfinal = 20 # in dimensionless time\n",
=======
    "tfinal =40 # in dimless time\n",
>>>>>>> 98f6cd5e8d71d5dce3d697a2661076172d4e9ff4
    "n = ceil(tfinal/DeltaT)\n",
    "# set up arrays for t, v, and x\n",
    "t = np.zeros(n)\n",
    "v = np.zeros(n)\n",
    "x = np.zeros(n)\n",
    "# Initial conditions as one-dimensional arrays of time\n",
    "x0 =  1.0 \n",
    "v0 = 0.0\n",
    "x[0] = x0\n",
    "v[0] = v0\n",
    "gamma = 0.2\n",
    "Omegatilde = 0.5\n",
    "Ftilde = 0.0\n",
    "# Start integrating using Euler-Cromer's method\n",
    "for i in range(n-1):\n",
    "    # Set up the acceleration\n",
    "    # Here you could have defined your own function for this\n",
    "    a =  -2*gamma*v[i]-x[i]+Ftilde*cos(t[i]*Omegatilde)\n",
    "    # update velocity, time and position\n",
    "    v[i+1] = v[i] + DeltaT*a\n",
    "    x[i+1] = x[i] + DeltaT*v[i+1]\n",
    "    t[i+1] = t[i] + DeltaT\n",
    "# Plot position as function of time    \n",
    "fig, ax = plt.subplots()\n",
    "ax.set_ylabel('x[m]')\n",
    "ax.set_xlabel('t[s]')\n",
    "ax.plot(t, x)\n",
    "fig.tight_layout()\n",
    "save_fig(\"ForcedBlockEulerCromer\")\n",
    "plt.show()"
   ]
  },
  {
   "cell_type": "markdown",
   "metadata": {},
   "source": [
    "In the above example we have focused on the Euler-Cromer method. This\n",
    "method has a local truncation error which is proportional to $\\Delta t^2$\n",
    "and thereby a global error which is proportional to $\\Delta t$.\n",
    "We can improve this by using the Runge-Kutta family of\n",
    "methods. The widely popular Runge-Kutta to fourth order or just **RK4**\n",
    "has indeed a much better truncation error. The RK4 method has a global\n",
    "error which is proportional to $\\Delta t$.\n",
    "\n",
    "Let us revisit this method and see how we can implement it for the above example.\n",
    "\n",
    "\n",
    "## Differential Equations, Runge-Kutta methods\n",
    "\n",
    "Runge-Kutta (RK) methods are based on Taylor expansion formulae, but yield\n",
    "in general better algorithms for solutions of an ordinary differential equation.\n",
    "The basic philosophy is that it provides an intermediate step in the computation of $y_{i+1}$.\n",
    "\n",
    "To see this, consider first the following definitions"
   ]
  },
  {
   "cell_type": "markdown",
   "metadata": {},
   "source": [
    "<!-- Equation labels as ordinary links -->\n",
    "<div id=\"_auto13\"></div>\n",
    "\n",
    "$$\n",
    "\\begin{equation}\n",
    "\\frac{dy}{dt}=f(t,y),  \n",
    "\\label{_auto13} \\tag{21}\n",
    "\\end{equation}\n",
    "$$"
   ]
  },
  {
   "cell_type": "markdown",
   "metadata": {},
   "source": [
    "and"
   ]
  },
  {
   "cell_type": "markdown",
   "metadata": {},
   "source": [
    "<!-- Equation labels as ordinary links -->\n",
    "<div id=\"_auto14\"></div>\n",
    "\n",
    "$$\n",
    "\\begin{equation}\n",
    "y(t)=\\int f(t,y) dt,  \n",
    "\\label{_auto14} \\tag{22}\n",
    "\\end{equation}\n",
    "$$"
   ]
  },
  {
   "cell_type": "markdown",
   "metadata": {},
   "source": [
    "and"
   ]
  },
  {
   "cell_type": "markdown",
   "metadata": {},
   "source": [
    "<!-- Equation labels as ordinary links -->\n",
    "<div id=\"_auto15\"></div>\n",
    "\n",
    "$$\n",
    "\\begin{equation}\n",
    "y_{i+1}=y_i+ \\int_{t_i}^{t_{i+1}} f(t,y) dt.\n",
    "\\label{_auto15} \\tag{23}\n",
    "\\end{equation}\n",
    "$$"
   ]
  },
  {
   "cell_type": "markdown",
   "metadata": {},
   "source": [
    "To demonstrate the philosophy behind RK methods, let us consider\n",
    "the second-order RK method, RK2.\n",
    "The first approximation consists in Taylor expanding $f(t,y)$\n",
    "around the center of the integration interval $t_i$ to $t_{i+1}$,\n",
    "that is, at $t_i+h/2$, $h$ being the step.\n",
    "Using the midpoint formula for an integral, \n",
    "defining $y(t_i+h/2) = y_{i+1/2}$ and   \n",
    "$t_i+h/2 = t_{i+1/2}$, we obtain"
   ]
  },
  {
   "cell_type": "markdown",
   "metadata": {},
   "source": [
    "<!-- Equation labels as ordinary links -->\n",
    "<div id=\"_auto16\"></div>\n",
    "\n",
    "$$\n",
    "\\begin{equation}\n",
    "\\int_{t_i}^{t_{i+1}} f(t,y) dt \\approx hf(t_{i+1/2},y_{i+1/2}) +O(h^3).\n",
    "\\label{_auto16} \\tag{24}\n",
    "\\end{equation}\n",
    "$$"
   ]
  },
  {
   "cell_type": "markdown",
   "metadata": {},
   "source": [
    "This means in turn that we have"
   ]
  },
  {
   "cell_type": "markdown",
   "metadata": {},
   "source": [
    "<!-- Equation labels as ordinary links -->\n",
    "<div id=\"_auto17\"></div>\n",
    "\n",
    "$$\n",
    "\\begin{equation}\n",
    "y_{i+1}=y_i + hf(t_{i+1/2},y_{i+1/2}) +O(h^3).\n",
    "\\label{_auto17} \\tag{25}\n",
    "\\end{equation}\n",
    "$$"
   ]
  },
  {
   "cell_type": "markdown",
   "metadata": {},
   "source": [
    "However, we do not know the value of   $y_{i+1/2}$. Here comes thus the next approximation, namely, we use Euler's\n",
    "method to approximate $y_{i+1/2}$. We have then"
   ]
  },
  {
   "cell_type": "markdown",
   "metadata": {},
   "source": [
    "<!-- Equation labels as ordinary links -->\n",
    "<div id=\"_auto18\"></div>\n",
    "\n",
    "$$\n",
    "\\begin{equation}\n",
    "y_{(i+1/2)}=y_i + \\frac{h}{2}\\frac{dy}{dt}=y(t_i) + \\frac{h}{2}f(t_i,y_i).\n",
    "\\label{_auto18} \\tag{26}\n",
    "\\end{equation}\n",
    "$$"
   ]
  },
  {
   "cell_type": "markdown",
   "metadata": {},
   "source": [
    "This means that we can define the following algorithm for \n",
    "the second-order Runge-Kutta method, RK2."
   ]
  },
  {
   "cell_type": "markdown",
   "metadata": {},
   "source": [
    "4\n",
    "6\n",
    " \n",
    "<\n",
    "<\n",
    "<\n",
    "!\n",
    "!\n",
    "M\n",
    "A\n",
    "T\n",
    "H\n",
    "_\n",
    "B\n",
    "L\n",
    "O\n",
    "C\n",
    "K"
   ]
  },
  {
   "cell_type": "markdown",
   "metadata": {},
   "source": [
    "<!-- Equation labels as ordinary links -->\n",
    "<div id=\"_auto20\"></div>\n",
    "\n",
    "$$\n",
    "\\begin{equation}\n",
    "k_2=hf(t_{i+1/2},y_i+k_1/2),\n",
    "\\label{_auto20} \\tag{28}\n",
    "\\end{equation}\n",
    "$$"
   ]
  },
  {
   "cell_type": "markdown",
   "metadata": {},
   "source": [
    "with the final value"
   ]
  },
  {
   "cell_type": "markdown",
   "metadata": {},
   "source": [
    "<!-- Equation labels as ordinary links -->\n",
    "<div id=\"_auto21\"></div>\n",
    "\n",
    "$$\n",
    "\\begin{equation} \n",
    "y_{i+i}\\approx y_i + k_2 +O(h^3). \n",
    "\\label{_auto21} \\tag{29}\n",
    "\\end{equation}\n",
    "$$"
   ]
  },
  {
   "cell_type": "markdown",
   "metadata": {},
   "source": [
    "The difference between the previous one-step methods \n",
    "is that we now need an intermediate step in our evaluation,\n",
    "namely $t_i+h/2 = t_{(i+1/2)}$ where we evaluate the derivative $f$. \n",
    "This involves more operations, but the gain is a better stability\n",
    "in the solution.\n",
    "\n",
    "The fourth-order Runge-Kutta, RK4, has the following algorithm"
   ]
  },
  {
   "cell_type": "markdown",
   "metadata": {},
   "source": [
    "4\n",
    "9\n",
    " \n",
    "<\n",
    "<\n",
    "<\n",
    "!\n",
    "!\n",
    "M\n",
    "A\n",
    "T\n",
    "H\n",
    "_\n",
    "B\n",
    "L\n",
    "O\n",
    "C\n",
    "K"
   ]
  },
  {
   "cell_type": "markdown",
   "metadata": {},
   "source": [
    "$$\n",
    "k_3=hf(t_i+h/2,y_i+k_2/2)\\hspace{0.5cm}   k_4=hf(t_i+h,y_i+k_3)\n",
    "$$"
   ]
  },
  {
   "cell_type": "markdown",
   "metadata": {},
   "source": [
    "with the final result"
   ]
  },
  {
   "cell_type": "markdown",
   "metadata": {},
   "source": [
    "$$\n",
    "y_{i+1}=y_i +\\frac{1}{6}\\left( k_1 +2k_2+2k_3+k_4\\right).\n",
    "$$"
   ]
  },
  {
   "cell_type": "markdown",
   "metadata": {},
   "source": [
    "Thus, the algorithm consists in first calculating $k_1$ \n",
    "with $t_i$, $y_1$ and $f$ as inputs. Thereafter, we increase the step\n",
    "size by $h/2$ and calculate $k_2$, then $k_3$ and finally $k_4$. The global error goes as $O(h^4)$.\n",
    "\n",
    "\n",
    "However, at this stage, if we keep adding different methods in our\n",
    "main program, the code will quickly become messy and ugly. Before we\n",
    "proceed thus, we will now introduce functions that enbody the various\n",
    "methods for solving differential equations. This means that we can\n",
    "separate out these methods in own functions and files (and later as classes and more\n",
    "generic functions) and simply call them when needed. Similarly, we\n",
    "could easily encapsulate various forces or other quantities of\n",
    "interest in terms of functions. To see this, let us bring up the code\n",
    "we developed above for the simple sliding block, but now only with the simple forward Euler method. We introduce\n",
    "two functions, one for the simple Euler method and one for the\n",
    "force.\n",
    "\n",
    "Note that here the forward Euler method does not know the specific force function to be called.\n",
    "It receives just an input the name. We can easily change the force by adding another function."
   ]
  },
  {
   "cell_type": "code",
   "execution_count": 7,
   "metadata": {},
   "outputs": [],
   "source": [
    "def ForwardEuler(v,x,t,n,Force):\n",
    "    for i in range(n-1):\n",
    "        v[i+1] = v[i] + DeltaT*Force(v[i],x[i],t[i])\n",
    "        x[i+1] = x[i] + DeltaT*v[i]\n",
    "        t[i+1] = t[i] + DeltaT"
   ]
  },
  {
   "cell_type": "code",
   "execution_count": 8,
   "metadata": {},
   "outputs": [],
   "source": [
    "def SpringForce(v,x,t):\n",
    "#   note here that we have divided by mass and we return the acceleration\n",
    "    return  -2*gamma*v-x+Ftilde*cos(t*Omegatilde)"
   ]
  },
  {
   "cell_type": "markdown",
   "metadata": {},
   "source": [
    "It is easy to add a new method like the Euler-Cromer"
   ]
  },
  {
   "cell_type": "code",
   "execution_count": 9,
   "metadata": {},
   "outputs": [],
   "source": [
    "def ForwardEulerCromer(v,x,t,n,Force):\n",
    "    for i in range(n-1):\n",
    "        a = Force(v[i],x[i],t[i])\n",
    "        v[i+1] = v[i] + DeltaT*a\n",
    "        x[i+1] = x[i] + DeltaT*v[i+1]\n",
    "        t[i+1] = t[i] + DeltaT"
   ]
  },
  {
   "cell_type": "markdown",
   "metadata": {},
   "source": [
    "and the Velocity Verlet method (be careful with time-dependence here, it is not an ideal method for non-conservative forces))"
   ]
  },
  {
   "cell_type": "code",
   "execution_count": 10,
   "metadata": {},
   "outputs": [],
   "source": [
    "def VelocityVerlet(v,x,t,n,Force):\n",
    "    for i in range(n-1):\n",
    "        a = Force(v[i],x[i],t[i])\n",
    "        x[i+1] = x[i] + DeltaT*v[i]+0.5*a\n",
    "        anew = Force(v[i],x[i+1],t[i+1])\n",
    "        v[i+1] = v[i] + 0.5*DeltaT*(a+anew)\n",
    "        t[i+1] = t[i] + DeltaT"
   ]
  },
  {
   "cell_type": "markdown",
   "metadata": {},
   "source": [
    "Finally, we can now add the Runge-Kutta2 method via a new function"
   ]
  },
  {
   "cell_type": "code",
   "execution_count": 11,
   "metadata": {},
   "outputs": [
    {
     "ename": "TabError",
     "evalue": "inconsistent use of tabs and spaces in indentation (<ipython-input-11-ffedbda27704>, line 14)",
     "output_type": "error",
     "traceback": [
      "\u001b[0;36m  File \u001b[0;32m\"<ipython-input-11-ffedbda27704>\"\u001b[0;36m, line \u001b[0;32m14\u001b[0m\n\u001b[0;31m    t[i+1] = t[i]+DeltaT\u001b[0m\n\u001b[0m                        ^\u001b[0m\n\u001b[0;31mTabError\u001b[0m\u001b[0;31m:\u001b[0m inconsistent use of tabs and spaces in indentation\n"
     ]
    }
   ],
   "source": [
    "def RK2(v,x,t,n,Force):\n",
    "    for i in range(n-1):\n",
    "# Setting up k1\n",
    "        k1x = DeltaT*v[i]\n",
    "        k1v = DeltaT*Force(v[i],x[i],t[i])\n",
    "# Setting up k2\n",
    "        vv = v[i]+k1v*0.5\n",
    "        xx = x[i]+k1x*0.5\n",
    "        k2x = DeltaT*vv\n",
    "        k2v = DeltaT*Force(vv,xx,t[i]+DeltaT*0.5)\n",
    "# Final result\n",
    "        x[i+1] = x[i]+k2x\n",
    "        v[i+1] = v[i]+k2v\n",
    "\tt[i+1] = t[i]+DeltaT"
   ]
  },
  {
   "cell_type": "markdown",
   "metadata": {},
   "source": [
    "Finally, we can now add the Runge-Kutta2 method via a new function"
   ]
  },
  {
   "cell_type": "code",
   "execution_count": 12,
   "metadata": {},
   "outputs": [],
   "source": [
    "def RK4(v,x,t,n,Force):\n",
    "    for i in range(n-1):\n",
    "# Setting up k1\n",
    "        k1x = DeltaT*v[i]\n",
    "        k1v = DeltaT*Force(v[i],x[i],t[i])\n",
    "# Setting up k2\n",
    "        vv = v[i]+k1v*0.5\n",
    "        xx = x[i]+k1x*0.5\n",
    "        k2x = DeltaT*vv\n",
    "        k2v = DeltaT*Force(vv,xx,t[i]+DeltaT*0.5)\n",
    "# Setting up k3\n",
    "        vv = v[i]+k2v*0.5\n",
    "        xx = x[i]+k2x*0.5\n",
    "        k3x = DeltaT*vv\n",
    "        k3v = DeltaT*Force(vv,xx,t[i]+DeltaT*0.5)\n",
    "# Setting up k4\n",
    "        vv = v[i]+k3v\n",
    "        xx = x[i]+k3x\n",
    "        k4x = DeltaT*vv\n",
    "        k4v = DeltaT*Force(vv,xx,t[i]+DeltaT)\n",
    "# Final result\n",
    "        x[i+1] = x[i]+(k1x+2*k2x+2*k3x+k4x)/6.\n",
    "        v[i+1] = v[i]+(k1v+2*k2v+2*k3v+k4v)/6.\n",
    "        t[i+1] = t[i] + DeltaT"
   ]
  },
  {
   "cell_type": "markdown",
   "metadata": {},
   "source": [
    "The Runge-Kutta family of methods are particularly useful when we have a time-dependent acceleration.\n",
    "If we have forces which depend only the spatial degrees of freedom (no velocity and/or time-dependence), then energy conserving methods like the Velocity Verlet or the Euler-Cromer method are preferred. As soon as we introduce an explicit time-dependence and/or add dissipitave forces like friction or air resistance, then methods like the family of Runge-Kutta methods are well suited for this. \n",
    "The code below uses the Runge-Kutta4 methods."
   ]
  },
  {
   "cell_type": "code",
   "execution_count": 13,
   "metadata": {},
   "outputs": [
    {
     "data": {
      "image/png": "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\n",
      "text/plain": [
       "<Figure size 576x396 with 1 Axes>"
      ]
     },
     "metadata": {},
     "output_type": "display_data"
    }
   ],
   "source": [
    "DeltaT = 0.001\n",
    "#set up arrays \n",
    "tfinal = 20 # in dimensionless time\n",
    "n = ceil(tfinal/DeltaT)\n",
    "# set up arrays for t, v, and x\n",
    "t = np.zeros(n)\n",
    "v = np.zeros(n)\n",
    "x = np.zeros(n)\n",
    "# Initial conditions (can change to more than one dim)\n",
    "x0 =  1.0 \n",
    "v0 = 0.0\n",
    "x[0] = x0\n",
    "v[0] = v0\n",
    "gamma = 0.2\n",
    "Omegatilde = 0.5\n",
    "Ftilde = 1.0\n",
    "# Start integrating using Euler's method\n",
    "# Note that we define the force function as a SpringForce\n",
    "RK4(v,x,t,n,SpringForce)\n",
    "\n",
    "# Plot position as function of time    \n",
    "fig, ax = plt.subplots()\n",
    "ax.set_ylabel('x[m]')\n",
    "ax.set_xlabel('t[s]')\n",
    "ax.plot(t, x)\n",
    "fig.tight_layout()\n",
    "save_fig(\"ForcedBlockRK4\")\n",
    "plt.show()"
   ]
  },
  {
   "cell_type": "markdown",
   "metadata": {},
   "source": [
    "<!-- !split  -->\n",
    "## Principle of Superposition and Periodic Forces (Fourier Transforms)\n",
    "\n",
    "If one has several driving forces, $F(t)=\\sum_n F_n(t)$, one can find\n",
    "the particular solution to each $F_n$, $x_{pn}(t)$, and the particular\n",
    "solution for the entire driving force is"
   ]
  },
  {
   "cell_type": "markdown",
   "metadata": {},
   "source": [
    "<!-- Equation labels as ordinary links -->\n",
    "<div id=\"_auto22\"></div>\n",
    "\n",
    "$$\n",
    "\\begin{equation}\n",
    "x_p(t)=\\sum_nx_{pn}(t).\n",
    "\\label{_auto22} \\tag{30}\n",
    "\\end{equation}\n",
    "$$"
   ]
  },
  {
   "cell_type": "markdown",
   "metadata": {},
   "source": [
    "This is known as the principal of superposition. It only applies when\n",
    "the homogenous equation is linear. If there were an anharmonic term\n",
    "such as $x^3$ in the homogenous equation, then when one summed various\n",
    "solutions, $x=(\\sum_n x_n)^2$, one would get cross\n",
    "terms. Superposition is especially useful when $F(t)$ can be written\n",
    "as a sum of sinusoidal terms, because the solutions for each\n",
    "sinusoidal (sine or cosine)  term is analytic, as we saw above.\n",
    "\n",
    "Driving forces are often periodic, even when they are not\n",
    "sinusoidal. Periodicity implies that for some time $\\tau$"
   ]
  },
  {
   "cell_type": "markdown",
   "metadata": {},
   "source": [
    "$$\n",
    "\\begin{eqnarray}\n",
    "F(t+\\tau)=F(t). \n",
    "\\end{eqnarray}\n",
    "$$"
   ]
  },
  {
   "cell_type": "markdown",
   "metadata": {},
   "source": [
    "One example of a non-sinusoidal periodic force is a square wave. Many\n",
    "components in electric circuits are non-linear, e.g. diodes, which\n",
    "makes many wave forms non-sinusoidal even when the circuits are being\n",
    "driven by purely sinusoidal sources.\n",
    "\n",
    "The code here shows a typical example of such a square wave generated using the functionality included in the **scipy** Python package. We have used a period of $\\tau=0.2$."
   ]
  },
  {
   "cell_type": "code",
   "execution_count": null,
   "metadata": {},
   "outputs": [],
   "source": [
    "import numpy as np\n",
    "import math\n",
    "from scipy import signal\n",
    "import matplotlib.pyplot as plt\n",
    "\n",
    "# number of points                                                                                       \n",
    "n = 500\n",
    "# start and final times                                                                                  \n",
    "t0 = 0.0\n",
    "tn = 1.0\n",
    "# Period                                                                                                 \n",
    "t = np.linspace(t0, tn, n, endpoint=False)\n",
    "SqrSignal = np.zeros(n)\n",
    "SqrSignal = 1.0+signal.square(2*np.pi*5*t)\n",
    "plt.plot(t, SqrSignal)\n",
    "plt.ylim(-0.5, 2.5)\n",
    "plt.show()"
   ]
  },
  {
   "cell_type": "markdown",
   "metadata": {},
   "source": [
    "For the sinusoidal example studied in the previous subsections the\n",
    "period is $\\tau=2\\pi/\\omega$. However, higher harmonics can also\n",
    "satisfy the periodicity requirement. In general, any force that\n",
    "satisfies the periodicity requirement can be expressed as a sum over\n",
    "harmonics,"
   ]
  },
  {
   "cell_type": "markdown",
   "metadata": {},
   "source": [
    "<!-- Equation labels as ordinary links -->\n",
    "<div id=\"_auto23\"></div>\n",
    "\n",
    "$$\n",
    "\\begin{equation}\n",
    "F(t)=\\frac{f_0}{2}+\\sum_{n>0} f_n\\cos(2n\\pi t/\\tau)+g_n\\sin(2n\\pi t/\\tau).\n",
    "\\label{_auto23} \\tag{31}\n",
    "\\end{equation}\n",
    "$$"
   ]
  },
  {
   "cell_type": "markdown",
   "metadata": {},
   "source": [
    "From the previous subsection, one can write down the answer for\n",
    "$x_{pn}(t)$, by substituting $f_n/m$ or $g_n/m$ for $F_0/m$ into Eq.s\n",
    "([16](#eq:fastdriven1)) or ([17](#eq:fastdriven2)) respectively. By\n",
    "writing each factor $2n\\pi t/\\tau$ as $n\\omega t$, with $\\omega\\equiv\n",
    "2\\pi/\\tau$,"
   ]
  },
  {
   "cell_type": "markdown",
   "metadata": {},
   "source": [
    "<!-- Equation labels as ordinary links -->\n",
    "<div id=\"eq:fourierdef1\"></div>\n",
    "\n",
    "$$\n",
    "\\begin{equation}\n",
    "\\label{eq:fourierdef1} \\tag{32}\n",
    "F(t)=\\frac{f_0}{2}+\\sum_{n>0}f_n\\cos(n\\omega t)+g_n\\sin(n\\omega t).\n",
    "\\end{equation}\n",
    "$$"
   ]
  },
  {
   "cell_type": "markdown",
   "metadata": {},
   "source": [
    "The solutions for $x(t)$ then come from replacing $\\omega$ with\n",
    "$n\\omega$ for each term in the particular solution in Equations\n",
    "([9](#eq:partform)) and ([12](#eq:Ddrive)),"
   ]
  },
  {
   "cell_type": "markdown",
   "metadata": {},
   "source": [
    "$$\n",
    "\\begin{eqnarray}\n",
    "x_p(t)&=&\\frac{f_0}{2k}+\\sum_{n>0} \\alpha_n\\cos(n\\omega t-\\delta_n)+\\beta_n\\sin(n\\omega t-\\delta_n),\\\\\n",
    "\\nonumber\n",
    "\\alpha_n&=&\\frac{f_n/m}{\\sqrt{((n\\omega)^2-\\omega_0^2)+4\\beta^2n^2\\omega^2}},\\\\\n",
    "\\nonumber\n",
    "\\beta_n&=&\\frac{g_n/m}{\\sqrt{((n\\omega)^2-\\omega_0^2)+4\\beta^2n^2\\omega^2}},\\\\\n",
    "\\nonumber\n",
    "\\delta_n&=&\\tan^{-1}\\left(\\frac{2\\beta n\\omega}{\\omega_0^2-n^2\\omega^2}\\right).\n",
    "\\end{eqnarray}\n",
    "$$"
   ]
  },
  {
   "cell_type": "markdown",
   "metadata": {},
   "source": [
    "Because the forces have been applied for a long time, any non-zero\n",
    "damping eliminates the homogenous parts of the solution, so one need\n",
    "only consider the particular solution for each $n$.\n",
    "\n",
    "The problem will considered solved if one can find expressions for the\n",
    "coefficients $f_n$ and $g_n$, even though the solutions are expressed\n",
    "as an infinite sum. The coefficients can be extracted from the\n",
    "function $F(t)$ by"
   ]
  },
  {
   "cell_type": "markdown",
   "metadata": {},
   "source": [
    "<!-- Equation labels as ordinary links -->\n",
    "<div id=\"eq:fourierdef2\"></div>\n",
    "\n",
    "$$\n",
    "\\begin{eqnarray}\n",
    "\\label{eq:fourierdef2} \\tag{33}\n",
    "f_n&=&\\frac{2}{\\tau}\\int_{-\\tau/2}^{\\tau/2} dt~F(t)\\cos(2n\\pi t/\\tau),\\\\\n",
    "\\nonumber\n",
    "g_n&=&\\frac{2}{\\tau}\\int_{-\\tau/2}^{\\tau/2} dt~F(t)\\sin(2n\\pi t/\\tau).\n",
    "\\end{eqnarray}\n",
    "$$"
   ]
  },
  {
   "cell_type": "markdown",
   "metadata": {},
   "source": [
    "To check the consistency of these expressions and to verify\n",
    "Eq. ([33](#eq:fourierdef2)), one can insert the expansion of $F(t)$ in\n",
    "Eq. ([32](#eq:fourierdef1)) into the expression for the coefficients in\n",
    "Eq. ([33](#eq:fourierdef2)) and see whether"
   ]
  },
  {
   "cell_type": "markdown",
   "metadata": {},
   "source": [
    "$$\n",
    "\\begin{eqnarray}\n",
    "f_n&=?&\\frac{2}{\\tau}\\int_{-\\tau/2}^{\\tau/2} dt~\\left\\{\n",
    "\\frac{f_0}{2}+\\sum_{m>0}f_m\\cos(m\\omega t)+g_m\\sin(m\\omega t)\n",
    "\\right\\}\\cos(n\\omega t).\n",
    "\\end{eqnarray}\n",
    "$$"
   ]
  },
  {
   "cell_type": "markdown",
   "metadata": {},
   "source": [
    "Immediately, one can throw away all the terms with $g_m$ because they\n",
    "convolute an even and an odd function. The term with $f_0/2$\n",
    "disappears because $\\cos(n\\omega t)$ is equally positive and negative\n",
    "over the interval and will integrate to zero. For all the terms\n",
    "$f_m\\cos(m\\omega t)$ appearing in the sum, one can use angle addition\n",
    "formulas to see that $\\cos(m\\omega t)\\cos(n\\omega\n",
    "t)=(1/2)(\\cos[(m+n)\\omega t]+\\cos[(m-n)\\omega t]$. This will integrate\n",
    "to zero unless $m=n$. In that case the $m=n$ term gives"
   ]
  },
  {
   "cell_type": "markdown",
   "metadata": {},
   "source": [
    "<!-- Equation labels as ordinary links -->\n",
    "<div id=\"_auto24\"></div>\n",
    "\n",
    "$$\n",
    "\\begin{equation}\n",
    "\\int_{-\\tau/2}^{\\tau/2}dt~\\cos^2(m\\omega t)=\\frac{\\tau}{2},\n",
    "\\label{_auto24} \\tag{34}\n",
    "\\end{equation}\n",
    "$$"
   ]
  },
  {
   "cell_type": "markdown",
   "metadata": {},
   "source": [
    "and"
   ]
  },
  {
   "cell_type": "markdown",
   "metadata": {},
   "source": [
    "$$\n",
    "\\begin{eqnarray}\n",
    "f_n&=?&\\frac{2}{\\tau}\\int_{-\\tau/2}^{\\tau/2} dt~f_n/2\\\\\n",
    "\\nonumber\n",
    "&=&f_n~\\checkmark.\n",
    "\\end{eqnarray}\n",
    "$$"
   ]
  },
  {
   "cell_type": "markdown",
   "metadata": {},
   "source": [
    "The same method can be used to check for the consistency of $g_n$.\n",
    "\n",
    "\n",
    "Consider the driving force:"
   ]
  },
  {
   "cell_type": "markdown",
   "metadata": {},
   "source": [
    "<!-- Equation labels as ordinary links -->\n",
    "<div id=\"_auto25\"></div>\n",
    "\n",
    "$$\n",
    "\\begin{equation}\n",
    "F(t)=At/\\tau,~~-\\tau/2<t<\\tau/2,~~~F(t+\\tau)=F(t).\n",
    "\\label{_auto25} \\tag{35}\n",
    "\\end{equation}\n",
    "$$"
   ]
  },
  {
   "cell_type": "markdown",
   "metadata": {},
   "source": [
    "Find the Fourier coefficients $f_n$ and $g_n$ for all $n$ using Eq. ([33](#eq:fourierdef2)).\n",
    "\n",
    "Only the odd coefficients enter by symmetry, i.e. $f_n=0$. One can find $g_n$ integrating by parts,"
   ]
  },
  {
   "cell_type": "markdown",
   "metadata": {},
   "source": [
    "<!-- Equation labels as ordinary links -->\n",
    "<div id=\"eq:fouriersolution\"></div>\n",
    "\n",
    "$$\n",
    "\\begin{eqnarray}\n",
    "\\label{eq:fouriersolution} \\tag{36}\n",
    "g_n&=&\\frac{2}{\\tau}\\int_{-\\tau/2}^{\\tau/2}dt~\\sin(n\\omega t) \\frac{At}{\\tau}\\\\\n",
    "\\nonumber\n",
    "u&=&t,~dv=\\sin(n\\omega t)dt,~v=-\\cos(n\\omega t)/(n\\omega),\\\\\n",
    "\\nonumber\n",
    "g_n&=&\\frac{-2A}{n\\omega \\tau^2}\\int_{-\\tau/2}^{\\tau/2}dt~\\cos(n\\omega t)\n",
    "+\\left.2A\\frac{-t\\cos(n\\omega t)}{n\\omega\\tau^2}\\right|_{-\\tau/2}^{\\tau/2}.\n",
    "\\end{eqnarray}\n",
    "$$"
   ]
  },
  {
   "cell_type": "markdown",
   "metadata": {},
   "source": [
    "The first term is zero because $\\cos(n\\omega t)$ will be equally\n",
    "positive and negative over the interval. Using the fact that\n",
    "$\\omega\\tau=2\\pi$,"
   ]
  },
  {
   "cell_type": "markdown",
   "metadata": {},
   "source": [
    "$$\n",
    "\\begin{eqnarray}\n",
    "g_n&=&-\\frac{2A}{2n\\pi}\\cos(n\\omega\\tau/2)\\\\\n",
    "\\nonumber\n",
    "&=&-\\frac{A}{n\\pi}\\cos(n\\pi)\\\\\n",
    "\\nonumber\n",
    "&=&\\frac{A}{n\\pi}(-1)^{n+1}.\n",
    "\\end{eqnarray}\n",
    "$$"
   ]
  },
  {
   "cell_type": "markdown",
   "metadata": {},
   "source": [
    "## Fourier Series\n",
    "\n",
    "More text will come here, chpater 5.7-5.8 of Taylor are discussed\n",
    "during the lectures. The code here uses the Fourier series discussed\n",
    "in chapter 5.7 for a square wave signal. The equations for the\n",
    "coefficients are are discussed in Taylor section 5.7, see Example\n",
    "5.4. The code here visualizes the various approximations given by\n",
    "Fourier series compared with a square wave with period $T=0.2$, witth\n",
    "$0.1$ and max value $F=2$. We see that when we increase the number of\n",
    "components in the Fourier series, the Fourier series approximation gets closes and closes to the square wave signal."
   ]
  },
  {
   "cell_type": "code",
   "execution_count": null,
   "metadata": {},
   "outputs": [],
   "source": [
    "import numpy as np\n",
    "import math\n",
    "from scipy import signal\n",
    "import matplotlib.pyplot as plt\n",
    "\n",
    "# number of points                                                                                       \n",
    "n = 500\n",
    "# start and final times                                                                                  \n",
    "t0 = 0.0\n",
    "tn = 1.0\n",
    "# Period                                                                                                 \n",
    "T =0.2\n",
    "# Max value of square signal                                                                             \n",
    "Fmax= 2.0\n",
    "# Width of signal                                                                                        \n",
    "Width = 0.1\n",
    "t = np.linspace(t0, tn, n, endpoint=False)\n",
    "SqrSignal = np.zeros(n)\n",
    "FourierSeriesSignal = np.zeros(n)\n",
    "SqrSignal = 1.0+signal.square(2*np.pi*5*t+np.pi*Width/T)\n",
    "a0 = Fmax*Width/T\n",
    "FourierSeriesSignal = a0\n",
    "Factor = 2.0*Fmax/np.pi\n",
    "for i in range(1,500):\n",
    "    FourierSeriesSignal += Factor/(i)*np.sin(np.pi*i*Width/T)*np.cos(i*t*2*np.pi/T)\n",
    "plt.plot(t, SqrSignal)\n",
    "plt.plot(t, FourierSeriesSignal)\n",
    "plt.ylim(-0.5, 2.5)\n",
    "plt.show()"
   ]
  }
 ],
 "metadata": {
  "kernelspec": {
   "display_name": "Python 3",
   "language": "python",
   "name": "python3"
  },
  "language_info": {
   "codemirror_mode": {
    "name": "ipython",
    "version": 3
   },
   "file_extension": ".py",
   "mimetype": "text/x-python",
   "name": "python",
   "nbconvert_exporter": "python",
   "pygments_lexer": "ipython3",
   "version": "3.6.8"
  }
 },
 "nbformat": 4,
 "nbformat_minor": 4
}
