{
 "cells": [
  {
   "cell_type": "markdown",
   "metadata": {},
   "source": [
    "<!-- Equation labels as ordinary links -->\n",
    "<div id=\"_auto1\"></div>\n",
    "\n",
    "$$\n",
    "\\begin{equation}\n",
    "m\\ddot{x}+b\\dot{x}+kx=0.\n",
    "\\label{_auto1} \\tag{1}\n",
    "\\end{equation}\n",
    "$$"
   ]
  },
  {
   "cell_type": "markdown",
   "metadata": {},
   "source": [
    "## Harmonic Oscillator,  Damping\n",
    "\n",
    "Just to make the solution a bit less messy, we rewrite this equation as"
   ]
  },
  {
   "cell_type": "markdown",
   "metadata": {},
   "source": [
    "<!-- Equation labels as ordinary links -->\n",
    "<div id=\"eq:dampeddiffyq\"></div>\n",
    "\n",
    "$$\n",
    "\\begin{equation}\n",
    "\\label{eq:dampeddiffyq} \\tag{2}\n",
    "\\ddot{x}+2\\beta\\dot{x}+\\omega_0^2x=0,~~~~\\beta\\equiv b/2m,~\\omega_0\\equiv\\sqrt{k/m}.\n",
    "\\end{equation}\n",
    "$$"
   ]
  },
  {
   "cell_type": "markdown",
   "metadata": {},
   "source": [
    "Both $\\beta$ and $\\omega$ have dimensions of inverse time. To find solutions (see appendix C in the text) you must make an educated guess at the form of the solution. To do this, first realize that the solution will need an arbitrary normalization $A$ because the equation is linear. Secondly, realize that if the form is"
   ]
  },
  {
   "cell_type": "markdown",
   "metadata": {},
   "source": [
    "<!-- Equation labels as ordinary links -->\n",
    "<div id=\"_auto2\"></div>\n",
    "\n",
    "$$\n",
    "\\begin{equation}\n",
    "x=Ae^{rt}\n",
    "\\label{_auto2} \\tag{3}\n",
    "\\end{equation}\n",
    "$$"
   ]
  },
  {
   "cell_type": "markdown",
   "metadata": {},
   "source": [
    "that each derivative simply brings out an extra power of $r$. This\n",
    "means that the $Ae^{rt}$ factors out and one can simply solve for an\n",
    "equation for $r$. Plugging this form into Eq. ([2](#eq:dampeddiffyq)),"
   ]
  },
  {
   "cell_type": "markdown",
   "metadata": {},
   "source": [
    "<!-- Equation labels as ordinary links -->\n",
    "<div id=\"_auto3\"></div>\n",
    "\n",
    "$$\n",
    "\\begin{equation}\n",
    "r^2+2\\beta r+\\omega_0^2=0.\n",
    "\\label{_auto3} \\tag{4}\n",
    "\\end{equation}\n",
    "$$"
   ]
  },
  {
   "cell_type": "markdown",
   "metadata": {},
   "source": [
    "## Harmonic Oscillator,  Solutions of Damped Motion\n",
    "\n",
    "Because this is a quadratic equation there will be two solutions,"
   ]
  },
  {
   "cell_type": "markdown",
   "metadata": {},
   "source": [
    "<!-- Equation labels as ordinary links -->\n",
    "<div id=\"_auto4\"></div>\n",
    "\n",
    "$$\n",
    "\\begin{equation}\n",
    "r=-\\beta\\pm\\sqrt{\\beta^2-\\omega_0^2}.\n",
    "\\label{_auto4} \\tag{5}\n",
    "\\end{equation}\n",
    "$$"
   ]
  },
  {
   "cell_type": "markdown",
   "metadata": {},
   "source": [
    "We refer to the two solutions as $r_1$ and $r_2$ corresponding to the\n",
    "$+$ and $-$ roots. As expected, there should be two arbitrary\n",
    "constants involved in the solution,"
   ]
  },
  {
   "cell_type": "markdown",
   "metadata": {},
   "source": [
    "<!-- Equation labels as ordinary links -->\n",
    "<div id=\"_auto5\"></div>\n",
    "\n",
    "$$\n",
    "\\begin{equation}\n",
    "x=A_1e^{r_1t}+A_2e^{r_2t},\n",
    "\\label{_auto5} \\tag{6}\n",
    "\\end{equation}\n",
    "$$"
   ]
  },
  {
   "cell_type": "markdown",
   "metadata": {},
   "source": [
    "where the coefficients $A_1$ and $A_2$ are determined by initial\n",
    "conditions.\n",
    "\n",
    "The roots listed above, $\\sqrt{\\omega_0^2-\\beta_0^2}$, will be\n",
    "imaginary if the damping is small and $\\beta<\\omega_0$. In that case,\n",
    "$r$ is complex and the factor $\\exp{(rt)}$ will have some oscillatory\n",
    "behavior. If the roots are real, there will only be exponentially\n",
    "decaying solutions. There are three cases:\n",
    "\n",
    "\n",
    "## Underdamped: $\\beta<\\omega_0$"
   ]
  },
  {
   "cell_type": "markdown",
   "metadata": {},
   "source": [
    "$$\n",
    "\\begin{eqnarray}\n",
    "x&=&A_1e^{-\\beta t}e^{i\\omega't}+A_2e^{-\\beta t}e^{-i\\omega't},~~\\omega'\\equiv\\sqrt{\\omega_0^2-\\beta^2}\\\\\n",
    "\\nonumber\n",
    "&=&(A_1+A_2)e^{-\\beta t}\\cos\\omega't+i(A_1-A_2)e^{-\\beta t}\\sin\\omega't.\n",
    "\\end{eqnarray}\n",
    "$$"
   ]
  },
  {
   "cell_type": "markdown",
   "metadata": {},
   "source": [
    "Here we have made use of the identity\n",
    "$e^{i\\omega't}=\\cos\\omega't+i\\sin\\omega't$. Because the constants are\n",
    "arbitrary, and because the real and imaginary parts are both solutions\n",
    "individually, we can simply consider the real part of the solution\n",
    "alone:"
   ]
  },
  {
   "cell_type": "markdown",
   "metadata": {},
   "source": [
    "<!-- Equation labels as ordinary links -->\n",
    "<div id=\"eq:homogsolution\"></div>\n",
    "\n",
    "$$\n",
    "\\begin{eqnarray}\n",
    "\\label{eq:homogsolution} \\tag{7}\n",
    "x&=&B_1e^{-\\beta t}\\cos\\omega't+B_2e^{-\\beta t}\\sin\\omega't,\\\\\n",
    "\\nonumber \n",
    "\\omega'&\\equiv&\\sqrt{\\omega_0^2-\\beta^2}.\n",
    "\\end{eqnarray}\n",
    "$$"
   ]
  },
  {
   "cell_type": "markdown",
   "metadata": {},
   "source": [
    "## Critical dampling: $\\beta=\\omega_0$\n",
    "\n",
    "In this case the two terms involving $r_1$ and $r_2$ are identical\n",
    "because $\\omega'=0$. Because we need to arbitrary constants, there\n",
    "needs to be another solution. This is found by simply guessing, or by\n",
    "taking the limit of $\\omega'\\rightarrow 0$ from the underdamped\n",
    "solution. The solution is then"
   ]
  },
  {
   "cell_type": "markdown",
   "metadata": {},
   "source": [
    "<!-- Equation labels as ordinary links -->\n",
    "<div id=\"eq:criticallydamped\"></div>\n",
    "\n",
    "$$\n",
    "\\begin{equation}\n",
    "\\label{eq:criticallydamped} \\tag{8}\n",
    "x=Ae^{-\\beta t}+Bte^{-\\beta t}.\n",
    "\\end{equation}\n",
    "$$"
   ]
  },
  {
   "cell_type": "markdown",
   "metadata": {},
   "source": [
    "The critically damped solution is interesting because the solution\n",
    "approaches zero quickly, but does not oscillate. For a problem with\n",
    "zero initial velocity, the solution never crosses zero. This is a good\n",
    "choice for designing shock absorbers or swinging doors.\n",
    "\n",
    "## Overdamped: $\\beta>\\omega_0$"
   ]
  },
  {
   "cell_type": "markdown",
   "metadata": {},
   "source": [
    "$$\n",
    "\\begin{eqnarray}\n",
    "x&=&A_1\\exp{-(\\beta+\\sqrt{\\beta^2-\\omega_0^2})t}+A_2\\exp{-(\\beta-\\sqrt{\\beta^2-\\omega_0^2})t}\n",
    "\\end{eqnarray}\n",
    "$$"
   ]
  },
  {
   "cell_type": "markdown",
   "metadata": {},
   "source": [
    "This solution will also never pass the origin more than once, and then\n",
    "only if the initial velocity is strong and initially toward zero.\n",
    "\n",
    "\n",
    "\n",
    "\n",
    "Given $b$, $m$ and $\\omega_0$, find $x(t)$ for a particle whose\n",
    "initial position is $x=0$ and has initial velocity $v_0$ (assuming an\n",
    "underdamped solution).\n",
    "\n",
    "The solution is of the form,"
   ]
  },
  {
   "cell_type": "markdown",
   "metadata": {},
   "source": [
    "$$\n",
    "\\begin{eqnarray*}\n",
    "x&=&e^{-\\beta t}\\left[A_1\\cos(\\omega' t)+A_2\\sin\\omega't\\right],\\\\\n",
    "\\dot{x}&=&-\\beta x+\\omega'e^{-\\beta t}\\left[-A_1\\sin\\omega't+A_2\\cos\\omega't\\right].\\\\\n",
    "\\omega'&\\equiv&\\sqrt{\\omega_0^2-\\beta^2},~~~\\beta\\equiv b/2m.\n",
    "\\end{eqnarray*}\n",
    "$$"
   ]
  },
  {
   "cell_type": "markdown",
   "metadata": {},
   "source": [
    "From the initial conditions, $A_1=0$ because $x(0)=0$ and $\\omega'A_2=v_0$. So"
   ]
  },
  {
   "cell_type": "markdown",
   "metadata": {},
   "source": [
    "$$\n",
    "x=\\frac{v_0}{\\omega'}e^{-\\beta t}\\sin\\omega't.\n",
    "$$"
   ]
  },
  {
   "cell_type": "markdown",
   "metadata": {},
   "source": [
    "## Harmonic Oscillator,  Solutions\n",
    "\n",
    "Consider a single solution with no arbitrary constants, which we will\n",
    "call a **particular solution**, $x_p(t)$. It should be emphasized\n",
    "that this is **A** particular solution, because there exists an\n",
    "infinite number of such solutions because the general solution should\n",
    "have two arbitrary constants. Now consider solutions to the same\n",
    "equation without the driving term, which include two arbitrary\n",
    "constants. These are called either **homogenous solutions** or \n",
    "**complementary solutions**, and were given above, \n",
    "e.g. Eq. ([7](#eq:homogsolution)) for the underdamped case. The\n",
    "homogenous solution already incorporates the two arbitrary constants,\n",
    "so any sum of a homogenous solution and a particular solution will\n",
    "represent the **general solution** of the equation. The general\n",
    "solution incorporates the two arbitrary constants $A$ and $B$ to\n",
    "accommodate the two initial conditions. One could have picked a\n",
    "different particular solution, i.e. the original particular solution\n",
    "plus any homogenous solution with the arbitrary constants $A_p$ and\n",
    "$B_p$ chosen at will. When one adds in the homogenous solution, which\n",
    "has adjustable constants with arbitrary constants $A'$ and $B'$, to\n",
    "the new particular solution, one can get the same general solution by\n",
    "simply adjusting the new constants such that $A'+A_p=A$ and\n",
    "$B'+B_p=B$. Thus, the choice of $A_p$ and $B_p$ are irrelevant, and\n",
    "when choosing the particular solution it is best to make the simplest\n",
    "choice possible.\n",
    "\n",
    "## Harmonic Oscillator,  Particular Solution\n",
    "\n",
    "To find a particular solution, one first guesses at the form,"
   ]
  },
  {
   "cell_type": "markdown",
   "metadata": {},
   "source": [
    "<!-- Equation labels as ordinary links -->\n",
    "<div id=\"eq:partform\"></div>\n",
    "\n",
    "$$\n",
    "\\begin{equation}\n",
    "\\label{eq:partform} \\tag{9}\n",
    "x_p(t)=D\\cos(\\omega t-\\delta),\n",
    "\\end{equation}\n",
    "$$"
   ]
  },
  {
   "cell_type": "markdown",
   "metadata": {},
   "source": [
    "and rewrite the differential equation as"
   ]
  },
  {
   "cell_type": "markdown",
   "metadata": {},
   "source": [
    "<!-- Equation labels as ordinary links -->\n",
    "<div id=\"_auto6\"></div>\n",
    "\n",
    "$$\n",
    "\\begin{equation}\n",
    "D\\left\\{-\\omega^2\\cos(\\omega t-\\delta)-2\\beta\\omega\\sin(\\omega t-\\delta)+\\omega_0^2\\cos(\\omega t-\\delta)\\right\\}=\\frac{F_0}{m}\\cos(\\omega t).\n",
    "\\label{_auto6} \\tag{10}\n",
    "\\end{equation}\n",
    "$$"
   ]
  },
  {
   "cell_type": "markdown",
   "metadata": {},
   "source": [
    "One can now use angle addition formulas to get"
   ]
  },
  {
   "cell_type": "markdown",
   "metadata": {},
   "source": [
    "$$\n",
    "\\begin{eqnarray}\n",
    "D\\left\\{(-\\omega^2\\cos\\delta+2\\beta\\omega\\sin\\delta+\\omega_0^2\\cos\\delta)\\cos(\\omega t)\\right.&&\\\\\n",
    "\\nonumber\n",
    "\\left.+(-\\omega^2\\sin\\delta-2\\beta\\omega\\cos\\delta+\\omega_0^2\\sin\\delta)\\sin(\\omega t)\\right\\}\n",
    "&=&\\frac{F_0}{m}\\cos(\\omega t).\n",
    "\\end{eqnarray}\n",
    "$$"
   ]
  },
  {
   "cell_type": "markdown",
   "metadata": {},
   "source": [
    "Both the $\\cos$ and $\\sin$ terms need to equate if the expression is to hold at all times. Thus, this becomes two equations"
   ]
  },
  {
   "cell_type": "markdown",
   "metadata": {},
   "source": [
    "$$\n",
    "\\begin{eqnarray}\n",
    "D\\left\\{-\\omega^2\\cos\\delta+2\\beta\\omega\\sin\\delta+\\omega_0^2\\cos\\delta\\right\\}&=&\\frac{F_0}{m}\\\\\n",
    "\\nonumber\n",
    "-\\omega^2\\sin\\delta-2\\beta\\omega\\cos\\delta+\\omega_0^2\\sin\\delta&=&0.\n",
    "\\end{eqnarray}\n",
    "$$"
   ]
  },
  {
   "cell_type": "markdown",
   "metadata": {},
   "source": [
    "After dividing by $\\cos\\delta$, the lower expression leads to"
   ]
  },
  {
   "cell_type": "markdown",
   "metadata": {},
   "source": [
    "<!-- Equation labels as ordinary links -->\n",
    "<div id=\"_auto7\"></div>\n",
    "\n",
    "$$\n",
    "\\begin{equation}\n",
    "\\tan\\delta=\\frac{2\\beta\\omega}{\\omega_0^2-\\omega^2}.\n",
    "\\label{_auto7} \\tag{11}\n",
    "\\end{equation}\n",
    "$$"
   ]
  },
  {
   "cell_type": "markdown",
   "metadata": {},
   "source": [
    "## Solving with Driven Oscillations\n",
    "\n",
    "\n",
    "Using the identities $\\tan^2+1=\\csc^2$ and $\\sin^2+\\cos^2=1$, one can also express $\\sin\\delta$ and $\\cos\\delta$,"
   ]
  },
  {
   "cell_type": "markdown",
   "metadata": {},
   "source": [
    "$$\n",
    "\\begin{eqnarray}\n",
    "\\sin\\delta&=&\\frac{2\\beta\\omega}{\\sqrt{(\\omega_0^2-\\omega^2)^2+4\\omega^2\\beta^2}},\\\\\n",
    "\\nonumber\n",
    "\\cos\\delta&=&\\frac{(\\omega_0^2-\\omega^2)}{\\sqrt{(\\omega_0^2-\\omega^2)^2+4\\omega^2\\beta^2}}\n",
    "\\end{eqnarray}\n",
    "$$"
   ]
  },
  {
   "cell_type": "markdown",
   "metadata": {},
   "source": [
    "Inserting the expressions for $\\cos\\delta$ and $\\sin\\delta$ into the expression for $D$,"
   ]
  },
  {
   "cell_type": "markdown",
   "metadata": {},
   "source": [
    "<!-- Equation labels as ordinary links -->\n",
    "<div id=\"eq:Ddrive\"></div>\n",
    "\n",
    "$$\n",
    "\\begin{equation}\n",
    "\\label{eq:Ddrive} \\tag{12}\n",
    "D=\\frac{F_0/m}{\\sqrt{(\\omega_0^2-\\omega^2)^2+4\\omega^2\\beta^2}}.\n",
    "\\end{equation}\n",
    "$$"
   ]
  },
  {
   "cell_type": "markdown",
   "metadata": {},
   "source": [
    "For a given initial condition, e.g. initial displacement and velocity,\n",
    "one must add the homogenous solution then solve for the two arbitrary\n",
    "constants. However, because the homogenous solutions decay with time\n",
    "as $e^{-\\beta t}$, the particular solution is all that remains at\n",
    "large times, and is therefore the steady state solution. Because the\n",
    "arbitrary constants are all in the homogenous solution, all memory of\n",
    "the initial conditions are lost at large times, $t>>1/\\beta$.\n",
    "\n",
    "The amplitude of the motion, $D$, is linearly proportional to the\n",
    "driving force ($F_0/m$), but also depends on the driving frequency\n",
    "$\\omega$. For small $\\beta$ the maximum will occur at\n",
    "$\\omega=\\omega_0$. This is referred to as a resonance. In the limit\n",
    "$\\beta\\rightarrow 0$ the amplitude at resonance approaches infinity.\n",
    "\n",
    "## Alternative Derivation for Driven Oscillators\n",
    "\n",
    "Here, we derive the same expressions as in Equations ([9](#eq:partform)) and ([12](#eq:Ddrive)) but express the driving forces as"
   ]
  },
  {
   "cell_type": "markdown",
   "metadata": {},
   "source": [
    "$$\n",
    "\\begin{eqnarray}\n",
    "F(t)&=&F_0e^{i\\omega t},\n",
    "\\end{eqnarray}\n",
    "$$"
   ]
  },
  {
   "cell_type": "markdown",
   "metadata": {},
   "source": [
    "rather than as $F_0\\cos\\omega t$. The real part of $F$ is the same as before. For the differential equation,"
   ]
  },
  {
   "cell_type": "markdown",
   "metadata": {},
   "source": [
    "<!-- Equation labels as ordinary links -->\n",
    "<div id=\"eq:compdrive\"></div>\n",
    "\n",
    "$$\n",
    "\\begin{eqnarray}\n",
    "\\label{eq:compdrive} \\tag{13}\n",
    "\\ddot{x}+2\\beta\\dot{x}+\\omega_0^2x&=&\\frac{F_0}{m}e^{i\\omega t},\n",
    "\\end{eqnarray}\n",
    "$$"
   ]
  },
  {
   "cell_type": "markdown",
   "metadata": {},
   "source": [
    "one can treat $x(t)$ as an imaginary function. Because the operations\n",
    "$d^2/dt^2$ and $d/dt$ are real and thus do not mix the real and\n",
    "imaginary parts of $x(t)$, Eq. ([13](#eq:compdrive)) is effectively 2\n",
    "equations. Because $e^{\\omega t}=\\cos\\omega t+i\\sin\\omega t$, the real\n",
    "part of the solution for $x(t)$ gives the solution for a driving force\n",
    "$F_0\\cos\\omega t$, and the imaginary part of $x$ corresponds to the\n",
    "case where the driving force is $F_0\\sin\\omega t$. It is rather easy\n",
    "to solve for the complex $x$ in this case, and by taking the real part\n",
    "of the solution, one finds the answer for the $\\cos\\omega t$ driving\n",
    "force.\n",
    "\n",
    "We assume a simple form for the particular solution"
   ]
  },
  {
   "cell_type": "markdown",
   "metadata": {},
   "source": [
    "<!-- Equation labels as ordinary links -->\n",
    "<div id=\"_auto8\"></div>\n",
    "\n",
    "$$\n",
    "\\begin{equation}\n",
    "x_p=De^{i\\omega t},\n",
    "\\label{_auto8} \\tag{14}\n",
    "\\end{equation}\n",
    "$$"
   ]
  },
  {
   "cell_type": "markdown",
   "metadata": {},
   "source": [
    "where $D$ is a complex constant.\n",
    "\n",
    "From Eq. ([13](#eq:compdrive)) one inserts the form for $x_p$ above to get"
   ]
  },
  {
   "cell_type": "markdown",
   "metadata": {},
   "source": [
    "$$\n",
    "\\begin{eqnarray}\n",
    "D\\left\\{-\\omega^2+2i\\beta\\omega+\\omega_0^2\\right\\}e^{i\\omega t}=(F_0/m)e^{i\\omega t},\\\\\n",
    "\\nonumber\n",
    "D=\\frac{F_0/m}{(\\omega_0^2-\\omega^2)+2i\\beta\\omega}.\n",
    "\\end{eqnarray}\n",
    "$$"
   ]
  },
  {
   "cell_type": "markdown",
   "metadata": {},
   "source": [
    "The norm and phase for $D=|D|e^{-i\\delta}$ can be read by inspection,"
   ]
  },
  {
   "cell_type": "markdown",
   "metadata": {},
   "source": [
    "<!-- Equation labels as ordinary links -->\n",
    "<div id=\"_auto9\"></div>\n",
    "\n",
    "$$\n",
    "\\begin{equation}\n",
    "|D|=\\frac{F_0/m}{\\sqrt{(\\omega_0^2-\\omega^2)^2+4\\beta^2\\omega^2}},~~~~\\tan\\delta=\\frac{2\\beta\\omega}{\\omega_0^2-\\omega^2}.\n",
    "\\label{_auto9} \\tag{15}\n",
    "\\end{equation}\n",
    "$$"
   ]
  },
  {
   "cell_type": "markdown",
   "metadata": {},
   "source": [
    "This is the same expression for $\\delta$ as before. One then finds $x_p(t)$,"
   ]
  },
  {
   "cell_type": "markdown",
   "metadata": {},
   "source": [
    "<!-- Equation labels as ordinary links -->\n",
    "<div id=\"eq:fastdriven1\"></div>\n",
    "\n",
    "$$\n",
    "\\begin{eqnarray}\n",
    "\\label{eq:fastdriven1} \\tag{16}\n",
    "x_p(t)&=&\\Re\\frac{(F_0/m)e^{i\\omega t-i\\delta}}{\\sqrt{(\\omega_0^2-\\omega^2)^2+4\\beta^2\\omega^2}}\\\\\n",
    "\\nonumber\n",
    "&=&\\frac{(F_0/m)\\cos(\\omega t-\\delta)}{\\sqrt{(\\omega_0^2-\\omega^2)^2+4\\beta^2\\omega^2}}.\n",
    "\\end{eqnarray}\n",
    "$$"
   ]
  },
  {
   "cell_type": "markdown",
   "metadata": {},
   "source": [
    "This is the same answer as before.\n",
    "If one wished to solve for the case where $F(t)= F_0\\sin\\omega t$, the imaginary part of the solution would work"
   ]
  },
  {
   "cell_type": "markdown",
   "metadata": {},
   "source": [
    "<!-- Equation labels as ordinary links -->\n",
    "<div id=\"eq:fastdriven2\"></div>\n",
    "\n",
    "$$\n",
    "\\begin{eqnarray}\n",
    "\\label{eq:fastdriven2} \\tag{17}\n",
    "x_p(t)&=&\\Im\\frac{(F_0/m)e^{i\\omega t-i\\delta}}{\\sqrt{(\\omega_0^2-\\omega^2)^2+4\\beta^2\\omega^2}}\\\\\n",
    "\\nonumber\n",
    "&=&\\frac{(F_0/m)\\sin(\\omega t-\\delta)}{\\sqrt{(\\omega_0^2-\\omega^2)^2+4\\beta^2\\omega^2}}.\n",
    "\\end{eqnarray}\n",
    "$$"
   ]
  },
  {
   "cell_type": "markdown",
   "metadata": {},
   "source": [
    "## Damped and Driven Oscillator\n",
    "\n",
    "Consider the damped and driven harmonic oscillator worked out above. Given $F_0, m,\\beta$ and $\\omega_0$, solve for the complete solution $x(t)$ for the case where $F=F_0\\sin\\omega t$ with initial conditions $x(t=0)=0$ and $v(t=0)=0$. Assume the underdamped case.\n",
    "\n",
    "The general solution including the arbitrary constants includes both the homogenous and particular solutions,"
   ]
  },
  {
   "cell_type": "markdown",
   "metadata": {},
   "source": [
    "$$\n",
    "\\begin{eqnarray*}\n",
    "x(t)&=&\\frac{F_0}{m}\\frac{\\sin(\\omega t-\\delta)}{\\sqrt{(\\omega_0^2-\\omega^2)^2+4\\beta^2\\omega^2}}\n",
    "+A\\cos\\omega't e^{-\\beta t}+B\\sin\\omega't e^{-\\beta t}.\n",
    "\\end{eqnarray*}\n",
    "$$"
   ]
  },
  {
   "cell_type": "markdown",
   "metadata": {},
   "source": [
    "The quantities $\\delta$ and $\\omega'$ are given earlier, $\\omega'=\\sqrt{\\omega_0^2-\\beta^2},\n",
    "\\delta=\\tan^{-1}(2\\beta\\omega/(\\omega_0^2-\\omega^2)$. Here, solving\n",
    "the problem means finding the arbitrary constants $A$ and\n",
    "$B$. Satisfying the initial conditions for the initial position and\n",
    "velocity:"
   ]
  },
  {
   "cell_type": "markdown",
   "metadata": {},
   "source": [
    "$$\n",
    "\\begin{eqnarray*}\n",
    "x(t=0)=0&=&-\\eta\\sin\\delta+A,\\\\\n",
    "v(t=0)=0&=&\\omega\\eta\\cos\\delta-\\beta A+\\omega'B,\\\\\n",
    "\\eta&\\equiv&\\frac{F_0}{m}\\frac{1}{\\sqrt{(\\omega_0^2-\\omega^2)^2+4\\beta^2\\omega^2}}.\n",
    "\\end{eqnarray*}\n",
    "$$"
   ]
  },
  {
   "cell_type": "markdown",
   "metadata": {},
   "source": [
    "The problem is now reduced to 2 equations and 2 unknowns, $A$ and $B$. The solution is"
   ]
  },
  {
   "cell_type": "markdown",
   "metadata": {},
   "source": [
    "$$\n",
    "\\begin{eqnarray}\n",
    "A&=& \\eta\\sin\\delta ,~~~B=\\frac{-\\omega\\eta\\cos\\delta+\\beta\\eta\\sin\\delta}{\\omega'}.\n",
    "\\end{eqnarray}\n",
    "$$"
   ]
  },
  {
   "cell_type": "markdown",
   "metadata": {},
   "source": [
    "## Resonance Widths; the $Q$ factor\n",
    "\n",
    "From above, the particular solution for a driving force, $F=F_0\\cos\\omega t$, is"
   ]
  },
  {
   "cell_type": "markdown",
   "metadata": {},
   "source": [
    "$$\n",
    "\\begin{eqnarray}\n",
    "x_p(t)&=&\\frac{F_0/m}{\\sqrt{(\\omega_0^2-\\omega^2)^2+4\\omega^2\\beta^2}}\\cos(\\omega_t-\\delta),\\\\\n",
    "\\nonumber\n",
    "\\delta&=&\\tan^{-1}\\left(\\frac{2\\beta\\omega}{\\omega_0^2-\\omega^2}\\right).\n",
    "\\end{eqnarray}\n",
    "$$"
   ]
  },
  {
   "cell_type": "markdown",
   "metadata": {},
   "source": [
    "If one fixes the driving frequency $\\omega$ and adjusts the\n",
    "fundamental frequency $\\omega_0=\\sqrt{k/m}$, the maximum amplitude\n",
    "occurs when $\\omega_0=\\omega$ because that is when the term from the\n",
    "denominator $(\\omega_0^2-\\omega^2)^2+4\\omega^2\\beta^2$ is at a\n",
    "minimum. This is akin to dialing into a radio station. However, if one\n",
    "fixes $\\omega_0$ and adjusts the driving frequency one minimize with\n",
    "respect to $\\omega$, e.g. set"
   ]
  },
  {
   "cell_type": "markdown",
   "metadata": {},
   "source": [
    "<!-- Equation labels as ordinary links -->\n",
    "<div id=\"_auto10\"></div>\n",
    "\n",
    "$$\n",
    "\\begin{equation}\n",
    "\\frac{d}{d\\omega}\\left[(\\omega_0^2-\\omega^2)^2+4\\omega^2\\beta^2\\right]=0,\n",
    "\\label{_auto10} \\tag{18}\n",
    "\\end{equation}\n",
    "$$"
   ]
  },
  {
   "cell_type": "markdown",
   "metadata": {},
   "source": [
    "and one finds that the maximum amplitude occurs when\n",
    "$\\omega=\\sqrt{\\omega_0^2-2\\beta^2}$. If $\\beta$ is small relative to\n",
    "$\\omega_0$, one can simply state that the maximum amplitude is"
   ]
  },
  {
   "cell_type": "markdown",
   "metadata": {},
   "source": [
    "<!-- Equation labels as ordinary links -->\n",
    "<div id=\"_auto11\"></div>\n",
    "\n",
    "$$\n",
    "\\begin{equation}\n",
    "x_{\\rm max}\\approx\\frac{F_0}{2m\\beta \\omega_0}.\n",
    "\\label{_auto11} \\tag{19}\n",
    "\\end{equation}\n",
    "$$"
   ]
  },
  {
   "cell_type": "markdown",
   "metadata": {},
   "source": [
    "$$\n",
    "\\begin{eqnarray}\n",
    "\\frac{4\\omega^2\\beta^2}{(\\omega_0^2-\\omega^2)^2+4\\omega^2\\beta^2}=\\frac{1}{2}.\n",
    "\\end{eqnarray}\n",
    "$$"
   ]
  },
  {
   "cell_type": "markdown",
   "metadata": {},
   "source": [
    "For small damping this occurs when $\\omega=\\omega_0\\pm \\beta$, so the $FWHM\\approx 2\\beta$. For the purposes of tuning to a specific frequency, one wants the width to be as small as possible. The ratio of $\\omega_0$ to $FWHM$ is known as the _quality_factor, or $Q$ factor,"
   ]
  },
  {
   "cell_type": "markdown",
   "metadata": {},
   "source": [
    "<!-- Equation labels as ordinary links -->\n",
    "<div id=\"_auto12\"></div>\n",
    "\n",
    "$$\n",
    "\\begin{equation}\n",
    "Q\\equiv \\frac{\\omega_0}{2\\beta}.\n",
    "\\label{_auto12} \\tag{20}\n",
    "\\end{equation}\n",
    "$$"
   ]
  },
  {
   "cell_type": "markdown",
   "metadata": {},
   "source": [
    "## Numerical Studies of Driven Oscillations\n",
    "\n",
    "Solving the problem of driven oscillations numerically gives us much\n",
    "more flexibility to study different types of driving forces. We can\n",
    "reuse our earlier code by simply adding a driving force. If we stay in\n",
    "the $x$-direction only this can be easily done by adding a term\n",
    "$F_{\\mathrm{ext}}(x,t)$. Note that we have kept it rather general\n",
    "here, allowing for both a spatial and a temporal dependence.\n",
    "\n",
    "Before we dive into the code, we need to briefly remind ourselves\n",
    "about the equations we started with for the case with damping, namely"
   ]
  },
  {
   "cell_type": "markdown",
   "metadata": {},
   "source": [
    "$$\n",
    "m\\frac{d^2x}{dt^2} + b\\frac{dx}{dt}+kx(t) =0,\n",
    "$$"
   ]
  },
  {
   "cell_type": "markdown",
   "metadata": {},
   "source": [
    "with no external force applied to the system.\n",
    "\n",
    "Let us now for simplicty assume that our external force is given by"
   ]
  },
  {
   "cell_type": "markdown",
   "metadata": {},
   "source": [
    "$$\n",
    "F_{\\mathrm{ext}}(t) = F_0\\cos{(\\omega t)},\n",
    "$$"
   ]
  },
  {
   "cell_type": "markdown",
   "metadata": {},
   "source": [
    "where $F_0$ is a constant (what is its dimension?) and $\\omega$ is the frequency of the applied external driving force.\n",
    "**Small question:** would you expect energy to be conserved now?\n",
    "\n",
    "\n",
    "Introducing the external force into our lovely differential equation\n",
    "and dividing by $m$ and introducing $\\omega_0^2=\\sqrt{k/m}$ we have"
   ]
  },
  {
   "cell_type": "markdown",
   "metadata": {},
   "source": [
    "$$\n",
    "\\frac{d^2x}{dt^2} + \\frac{b}{m}\\frac{dx}{dt}+\\omega_0^2x(t) =\\frac{F_0}{m}\\cos{(\\omega t)},\n",
    "$$"
   ]
  },
  {
   "cell_type": "markdown",
   "metadata": {},
   "source": [
    "Thereafter we introduce a dimensionless time $\\tau = t\\omega_0$\n",
    "and a dimensionless frequency $\\tilde{\\omega}=\\omega/\\omega_0$. We have then"
   ]
  },
  {
   "cell_type": "markdown",
   "metadata": {},
   "source": [
    "$$\n",
    "\\frac{d^2x}{d\\tau^2} + \\frac{b}{m\\omega_0}\\frac{dx}{d\\tau}+x(\\tau) =\\frac{F_0}{m\\omega_0^2}\\cos{(\\tilde{\\omega}\\tau)},\n",
    "$$"
   ]
  },
  {
   "cell_type": "markdown",
   "metadata": {},
   "source": [
    "Introducing a new amplitude $\\tilde{F} =F_0/(m\\omega_0^2)$ (check dimensionality again) we have"
   ]
  },
  {
   "cell_type": "markdown",
   "metadata": {},
   "source": [
    "$$\n",
    "\\frac{d^2x}{d\\tau^2} + \\frac{b}{m\\omega_0}\\frac{dx}{d\\tau}+x(\\tau) =\\tilde{F}\\cos{(\\tilde{\\omega}\\tau)}.\n",
    "$$"
   ]
  },
  {
   "cell_type": "markdown",
   "metadata": {},
   "source": [
    "Our final step, as we did in the case of various types of damping, is\n",
    "to define $\\gamma = b/(2m\\omega_0)$ and rewrite our equations as"
   ]
  },
  {
   "cell_type": "markdown",
   "metadata": {},
   "source": [
    "$$\n",
    "\\frac{d^2x}{d\\tau^2} + 2\\gamma\\frac{dx}{d\\tau}+x(\\tau) =\\tilde{F}\\cos{(\\tilde{\\omega}\\tau)}.\n",
    "$$"
   ]
  },
  {
   "cell_type": "markdown",
   "metadata": {},
   "source": [
    "This is the equation we will code below using the Euler-Cromer method."
   ]
  },
  {
   "cell_type": "code",
<<<<<<< HEAD
   "execution_count": 2,
=======
   "execution_count": 7,
>>>>>>> 67d09b76755c8e096134b16305778fa87b777bb8
   "metadata": {},
   "outputs": [
    {
     "data": {
<<<<<<< HEAD
      "image/png": "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\n",
=======
      "image/png": "iVBORw0KGgoAAAANSUhEUgAAAjgAAAGECAYAAAA7lVplAAAABHNCSVQICAgIfAhkiAAAAAlwSFlzAAALEgAACxIB0t1+/AAAADh0RVh0U29mdHdhcmUAbWF0cGxvdGxpYiB2ZXJzaW9uMy4yLjEsIGh0dHA6Ly9tYXRwbG90bGliLm9yZy+j8jraAAAgAElEQVR4nOzdeXijd3kv/O+j1bIWS5blfV/GHs+amZBkOifJQFKgPZSWnoZz3reFwkWZQJrQQrnSJrx9J+01HEhyBXooDTQXvXIgJe85UMpJU0IJoR0gzGSbfcb7bsubLFuSJVn78/4hS7N6vEl6Fn0//5CxhXQ/9uPnuZ/f7/7dP0EURRFEREREKqKROgAiIiKiXGOCQ0RERKrDBIeIiIhUhwkOERERqQ4THCIiIlIdndQB5JrHs5zX93c4SrG0FM7rZ0itGI4R4HGqDY9TXXic6pHvY3S5rDf9OkdwNkmn00odQt4VwzECPE614XGqC49TPaQ6RiY4REREpDpMcIiIiEh1mOAQERGR6jDBISIiItVhgkNERESqwwSHiIiIVIcJDhEREakOExwiIiJSHSY4REREpDpMcIiIiEh1mOAQERGR6ki62abH48Hf/M3foK+vDz/4wQ9u+H40GsWTTz6JqqoqjI2N4ejRo2hpaZEgUiIiIlISSUdwTp8+jfvuuw+iKN70+9/+9rdRU1ODBx98EB/72MfwhS98ocAREhERkRJJOoLz/ve/H2+++eaa3z9x4gQ+97nPAQA6OzvR19eHYDAIi8VSqBCzAuEYvvHDS4glU0ilRGgEAVqNAI0AaDQCNBoBWo0GZpMOtlIDyswGVDpKUV9phstugkYQCh4zERFRsZI0wVmP1+uF2WzO/ttiscDr9d4ywXE4SvOzNfvSCgLhOPyhKFIpEcmUmP3f9ZSW6LCvw4WDXZU4vK8OFpM+9/HlmMtllTqEguBxqguPU114nOohxTHKOsFxOp0IhULZfweDQTidzlv+f5aWwnmL54ufvBMulxUez/I1X0+Jq8lOUkRwJY5AOAZfMIpZbxhTniCG3H6cujiDUxdn8NwPL+JdXZX4zUNNqHGa1/gkad3sGNWIx6kuPE514XGqR76Pca3kSXYJjs/ng06ng8ViwZEjR3D27Fncfvvt6O/vR1dXlyTTU+vRCAI0WgE6LWA0aOEsK0l/o+PKa+aWwninbx6/vDCDX12axcnLszi8pwYPHGmDtdQgTeBEREQqJWmR8VtvvYWXXnoJHo8Hzz77LCKRCJ577jm8+OKLAICPfvSjmJ6exrPPPovnn38eX/ziF6UMd1uqHKX4z4ea8d+P3oU//tAe1DrNeP3CDP7yW2/idL9H6vCIiIhURRDXWsKkUPke6svVUFsqJeLVtyfxw1+OIJ5I4TfvasLv3tMKjUb6YuRiGDIFeJxqw+NUFx6nekg1RcVGfxLRaAS8/85G/L8fexcqHSa88sY4nv0/lxBPpKQOjYiISPGY4EisrsKMv/zD29HVaMeZAQ/+7ocXEU8kpQ6LiIhI0ZjgyIC5RI8/fWAfdreU48KwF8+93IOUumYOiYiICooJjkwY9Fo88l/2oKvRjtP9HvzTfwxLHRIREZFiMcGREb1Oiz/+3T2ocZbi396awMlLM1KHREREpEhMcGTGXKLHn/zeXpiMWrzwkwHMeEPr/5+IiIjoGkxwZKjSUYo/fH8XovEkvvF/LnNlFRER0SYxwZGpO3ZW4Z59tZjyBPHKG+NSh0NERKQoTHBk7L++px0OqxH/enIMbk9Q6nCIiIgUgwmOjJmMOnzkfZ1IpkT8z3/rg8qaThMREeUNExyZ299egYOdLgy7A3ird17qcIiIiBSBCY4CPPDudui0Av7pxBBicXY5JiIiWg8THAWotJtw/+0N8Aai+Ok7k1KHQ0REJHtMcBTiA4eaYTHp8eM3JhCOxKUOh4iISNaY4ChEaYkO77ujAeFoAq+9MyV1OERERLLGBEdB3nOgHhaTHq++PYlwJCF1OERERLLFBEdBTMYrozg/O81aHCIiorUwwVGY9xyoh7lEh9dOTyGe4IoqIiKim2GCozAmow737K/FcjiONy7PSR0OERGRLDHBUaD7DtRDIwj46TuT7G5MRER0E0xwFKjcVoLbu1yY8oTQM74kdThERESywwRHod77rkYAwGtvs9iYiIjoekxwFKq11obmaisujHixGIhIHQ4REZGsMMFRsHv310IUgdcvzkgdChERkawwwVGwO3ZWwajX4pfnZ5BisTEREVEWExwFMxl1uLO7Et5ABD2ji1KHQ0REJBtMcBTunn11AICfn5+WOBIiIiL5YIKjcC01VtS5zDg/tIAQdxknIiICwARH8QRBwF3dVUgkRZzu90gdDhERkSwwwVGBO7urAABvXJ6VOBIiIiJ5YIKjAhVlJuyoL0P/hI89cYiIiMAERzXu3FUNEcCbvdyAk4iIiAmOSryrqxJajcAdxomIiMAERzUsJj12t5Rjcj6I2cWw1OEQERFJSiflh588eRKvvvoqnE4nBEHAww8/fM33Jycn8dRTT2HPnj3o7e3FBz7wAdx3330SRSt/BzsrcX7YizMDHvzmXU1Sh0NERCQZyUZwVlZWcOzYMTz++ON45JFH0N/fj1OnTl3zmm9961s4ePAgjh49ik9+8pN48sknJYpWGfZ3VEAjCFwuTkRERU+yBOfcuXOora2FwWAAABw4cAAnTpy45jUVFRVYXExvQbC4uIhdu3YVOkxFsZj06GqyY3QmwNVURERU1CSbovJ6vTCbzdl/WywWeL3ea17z8Y9/HH/8x3+ML33pS7hw4QIeeuihdd/X4SiFTqfNebxXc7mseX3/7bj3YAN6xpYwML2M32pzbfl95HyMucTjVBcep7rwONVDimOULMFxOp0IhULZfweDQTidzmte8xd/8Rd44IEH8IEPfACLi4t473vfi9deew12u33N911aym+BrctlhceznNfP2I6OGisEAL84M4m7uraW4Mj9GHOFx6kuPE514XGqR76Pca3kSbIpqv3792N6ehqxWAwAcObMGRw5cgQ+nw/BYBAAMDMzA5crfZO22WzQaDRIpVJShawIdosRbXVl6J/0IRCOSR0OERGRJCQbwTGZTHjiiSdw/PhxOBwOdHZ24tChQ3jqqadgt9tx9OhRPPbYY/jOd76Ds2fPYmpqCp/97GdRXl4uVciKcWCHC0NuP84PLeDuvbVSh0NERFRwki4TP3z4MA4fPnzN1x599NHsf99+++24/fbbCx2W4u1rd+J7/zGEC8NeJjhERFSU2OhPharLS1FpN+Hy6CISSU7pERFR8WGCo0KCIGBPmxORWBKDkz6pwyEiIio4Jjgqta8tvSLtwoh3nVcSERGpDxMclepstMOg1+DCMBMcIiIqPkxwVEqv06K7qRwz3jDmfStSh0NERFRQTHBUbG9mmmpoQeJIiIiICosJjortZR0OEREVKSY4KlZuK0FthRkDEz7EE1wuTkRExYMJjsp1NzkQS6Qw7PZLHQoREVHBMMFRue6W9NYWPeOLEkdCRERUOExwVK6zwQ6tRsDl0SWpQyEiIioYJjgqZzLq0Fprw9hsAKFIXOpwiIiICoIJThHobi6HKAJ94xzFISKi4sAEpwjsal6twxljgkNERMWBCU4RaK6xosSgxeUxFhoTEVFxYIJTBHRaDboaHZhfWsECt20gIqIiwASnSHQ3OwAAvazDISKiIsAEp0h0NqYTnP5Jn8SREBER5R8TnCJR5zLDXKJD/wQTHCIiUj8mOEVCIwjY0WCHNxDBgp91OEREpG5McIpIZ4MdADiKQ0REqscEp4iwDoeIiIoFE5wi0lBpgcmowwBHcIiISOWY4BQRjUbAjvoyzPtWsLQclTocIiKivGGCU2Sy01QT7IdDRETqxQSnyHQ2rhYasw6HiIhUjAlOkWmssqDEoOVKKiIiUjUmOEVGq9Ggvb4Ms4th+EMxqcMhIiLKCyY4RaijrgwAMOz2SxwJERFRfjDBKULt9ek6nKEpJjhERKROTHCKUGuNDRpBwBBHcIiISKWY4BQho0GLhioLxmYDiCeSUodDRESUc0xwilR7XRkSSRHjs0GpQyEiIso5JjhFqn210HjQzeXiRESkPjopP/zkyZN49dVX4XQ6IQgCHn744Wu+L4oiXnjhBQCA2+1GIBDAl770JSlCVZ2O+nSCMzTlB+6UOBgiIqIckyzBWVlZwbFjx/CjH/0IBoMBjzzyCE6dOoVDhw5lX/PSSy/BZrPhd37ndwAAfX19UoWrOuW2EjisRgy5/RBFEYIgSB0SERFRzkg2RXXu3DnU1tbCYDAAAA4cOIATJ05c85qXX34ZPp8P3/nOd/CVr3wFZrNZgkjVq6O+DMvhOOZ9K1KHQkRElFOSjeB4vd5rEhaLxQKv13vNa6anpxEMBvHwww9jdHQUf/RHf4RXXnkFWq12zfd1OEqh0639/Vxwuax5ff9C2ddZibd65zHnj2L3jqprvqeWY1wPj1NdeJzqwuNUDymOUbIEx+l0IhQKZf8dDAbhdDqveY3FYsG+ffsAAC0tLQgGg5iZmUF9ff2a77u0FM5PwKtcLis8nuW8fkah1NhLAABn++awt9mR/bqajvFWeJzqwuNUFx6neuT7GNdKniSbotq/fz+mp6cRi6X3Qzpz5gyOHDkCn8+HYDC9dPnQoUOYnJwEkE6AkskkXC6XVCGrTr3LAoNew4Z/RESkOpKN4JhMJjzxxBM4fvw4HA4HOjs7cejQITz11FOw2+04evQoPvnJT+Lpp5/GN7/5TUxMTODJJ5+E0WiUKmTV0Wk1aK2xoX/Ch3AkjtISvdQhERER5YSky8QPHz6Mw4cPX/O1Rx99NPvfVqsVf/3Xf13osIpKa20Z+iZ8GJ1dxq7mcqnDISIiygk2+ityrbU2AMDIdEDiSIiIiHKHCU6RyyQ4o0xwiIhIRZjgFDm7xQiH1YiRmQBEUZQ6HCIiopxggkNorbUhEIrBG4hIHQoREVFOMMEhtNasTlPNqLsXAxERFQ8mOHRVoTH74RARkTowwSE0VVshCFxJRURE6sEEh1Bi0KGuwozx2WUkUympwyEiIto2JjgEID1NFUuk4PaE1n8xERGRzDHBIQDpjsYAMDLDaSoiIlI+JjgEAGipYUdjIiJSDyY4BACoqzDDqNeyozEREakCExwCAGg0ApqqrZheCCEciUsdDhER0bYwwaGs1lobRABDUz6pQyEiItoWndQBkHxkOhoPTPhQs6da4mgon8Znl/HLC9MYnQkgGk/BaSvB7tZy/Kc9NTAZeVmgjYnEEugb98HjW4FBr0FztQ2NVRYIgiB1aERMcOiK5morgPQIzr1McFQpFInjxZ8O4tTlWQCATivAqNdieiGEiyNevPyrMfzBe3fgjp1VEkdKchaJJfDyyTH8+2k3ovHkNd9rrLTggXe3Y1dLuUTREaUxwaEsZ1kJzCU6DHOKSpXmfSv4H98/jxlvGE1VVnzonhZ0N5dDp9XAF4ziF+em8cob4/jmS5cx5QniQ3e38kmcbjC3GMbf/NMFzC2G4bAa8evvqkdDpRUr0QQujnhxZsCDZ/73ObzvjgY88O52aHgOkUSY4FCWIAhorrHh8ugigitxWEx6qUOiHFlajuLpF8/CG4ikbzxH2qHRXLnx2C1GfPA/teBdOyvxP/7pAv715DiSSREPvLtdwqhJbtyeIL783TMIRRJ477sa8KF7WmHUa7Pfv2dfLcZnl/Hcy5fxk7cm4Q/F8Ecf6GaSQ5JgkTFdIzNNNT7HncXVIhJL4KvfOw9vIILfubsF//U9HdckN1ercZrx+B8cRFV5KX785gT+46y7wNGSXHn9ETzzv88hFEngo+/vxH+7r+Oa5CajqdqKxz9yEG11NrxxeQ7f+/chCaIlYoJD18kmOLNMcNTiWy9dwpQniHv31+K3fq153dfbzAZ89sP7YDHp8f+9NoAJJrtFL5FM4RsvXYIvGMOH392OI/vrbvl6c4kef/rAPtQ4S/Hq25M4dWm2QJESXcEEh67RtJrgjHHLBlU43T+Pn7wxjsZKC/7v+zs2XFNTaTfhE/95JxJJEX//L5cRTyTX/z+Rav3wlyMYmQ7grl1VeN8dDRv6/5hL9PiT39uLEoMWL7zaj3nfSp6jJLoWExy6htNWAmupAWMcwVG8lWgC3/3pAPQ6DR787V3Q626cTriVfe0VuO9APWa8Yfz4jYk8RUlyNzYbwL+9OYFKuwkfeW/npgrPKx2l+IP37kAklsT/fKUXoijmMVKiazHBoWsIgoCOBjsW/BEEV9jRWMleen0UvmAMD7ynAzVO85be43fvbUWZxYB/PTWO+aVwjiMkuUulRLzwk36IIvDR93duqUfSoV3V2NfmRN+ED2/3zechSqKbY4JDN2irT+8szjoc5ZpdDOO1d6ZQaTfhv7ynY8vvYzLq8N/e04FEMoXvnxjOYYSkBK9fnMHozDLu7K5Cd/PW+toIgoD/69d3QKfV4H/9bBCRWCLHUZKcJVMpnB/0SDJ6xwSHbtDRYAeQHpomZXrp9VGkRBG/d6QNhpusdNmMO3ZWoqXGhtP9Hia9RSSeSOKl10dh0Gnw4W22C6i0m/D+OxvhC8bws9NTOYqQlOCl18fw/3zzJAan/AX/bCY4dIO2+kyCw5uZEk15gnirZw6NVRYc7HRt+/0EQcDv3tsKAPjnX4xs+/1IGf7j7DSWlqN4z8F6OKzGbb/f++9ohLlEhx+/McENfYvEcjiGn74zCYfVmF3AUkhMcOgGLrsJ1lI9n9YV6qXXRyECOe1E3N3kQFejHRdHvBieLvyTGBVWNJbEK6fGUGLQ4jfvasrJe5aW6PAbdzUhHE3g1bcnc/KeJG//9uYEorEkfm+Nnkn5xgSHbiAIApqqrSw0VqC5xTDO9HvQUmPF3jZnzt5XEIRsD52fvMWbk9q9fnEGgXAc99/ekNOO5vcdqIe1VI/X3pliLY7KhSMJ/MdZN8osBrz/rmZJYmCCQzeVafjHOhxl+ek7kxABvO+OxpzvI9XV5EBjpQWn++fZ00TFUikRr749AZ1Wg/sP1uf0vY0GLd5zoB7haAK/usjmf2r2i/PTiMSSuP9g/bbrALeKCQ7dVHO1DQAwNsNpKqUIReJ4/eIMnDZjTmpvricIAt53ZyNEEfgppxhU6+zgAjy+CH5tdzVsZkPO3//dt9VBp9Xg1bcnkEqxL44aJVMpvHZ6Ega9Bveu0/U6n5jg0E1xywbl+fm5acTiKdx3sAFaTX7+tN/VVQmH1YjXL8xgJcopBjV69e10U8dff9fGOhZvls1swK/trobHF8HZQU9ePoOkdbrfg8VAFHfvqZV002YmOHRTDqsRtlI9p6gUIiWKOHHWDYNeg3v21eTtc3RaDe7dX4toPIk3e+fy9jkkjYm5ZQxO+bG7tRx1FVtrDrkRmeSJm7mq07+vtgK4/125neLcLCY4dFPpQmMbvIEolsMxqcOhdfSOL2HBH8EdO6tQWpLfJ6a799ZCENIjRqQuvzw/AwB4d56nFeoqzOioL0PP2BLruVRmxhvCwJQf3c0OVDlKJY2FCQ6tqYnTVIrxy/PpZOOevbV5/yyH1Yh9bRUYn13muaEisXgSpy7PosxswJ4crsBbyz370udq5twldfjlhXSSnPn9SknSBOfkyZN44okn8Ld/+7f4+te/vubr/uVf/gWdnZ0IhUIFjI6aqiwAgPE53sTkLLgSx5kBD2qcpWirsxXkM+/dn754/fwcpxjU4vSAB+FoAof31ECnzf+t4fauSpiMOrx+cQbJVCrvn0f5l0im8KuLM7CY9LitI/cLHTZLsgRnZWUFx44dw+OPP45HHnkE/f39OHXq1A2vGx4exvAw98CRQmNVegRnYi4ocSR0K6cuzyKRFFenjnK7NHwte1qdcFiNeKt3HvEEb05qkBlJuXtv/mq4rmbUa3FoVxX8wRguDHsL8pmUX+cGF7AcjuPXdldDr5N+gmjzW8PmyLlz51BbWwuDIb0M8cCBAzhx4gQOHTqUfc3Kygq+9a1v4a/+6q/wzW9+c0Pv63CUQqfL75p7l6vwLacLzeWyoqLCArNJD/dCSLXHrIbjerN3HlqNgN+6tx32NVrq5+M4jxxswA9PDGF8IYRDe6QfjgbU8fvciFwf56w3hL4JH3a3ObG7syqn730rv3VvO/79jBtnhrx476+13vB9/j6V5e1/uQwA+OCR9huOSYpjlCzB8Xq9MJuvVOlbLBZ4vddm8V/96lfx0EMPZZOgjVhaCucsxptxuazweNQ9ZXP1MTa4zOib8GFiagkmo2SnS16o4Xc54w1hxO3HvjYn4pEYPJEbC8LzdZz7Whz44QngJ6fG0C7BPjPXU8PvcyPycZz/dmoMAHD7DldBf4Y2gwbV5aV46/LsDdcY/j6VJbgSx5m+eTRWWlCqFa45pnwf41rJk2RjSE6n85qammAwCKfzSmHbzMwMAoEAfvzjH+O5554DADz//PO4ePFiwWMtZplpqsl5TlPJ0Vu98wCAO7oL99Sd0VBpQW2FGeeHvAhH2BNHyd7sSY8C5qNB5K0IgoC7dlUhnkjhzAB74ijZ6f55JFMi7pTgWrQWyRKc/fv3Y3p6GrFY+onzzJkzOHLkCHw+H4LBIGpqavDlL38ZR48exdGjRwEAH//4x7Fnzx6pQi5KjauFxhMsNJYdURTxZs8c9DoN9rdXFPzzBUHAnd1VSCRTON0/X/DPp9xwL4Qw5QliT6sT5jy3GLiZzA3xjR72VVKyN1d/f3fsZIIDk8mEJ554AsePH8dXv/pVdHZ24tChQ3juuefw4osvZl+3uLiIZ599FgDwrW99C3Nz/CMoJBYay9fkfBCzi2Hsa6+QbPrwLt6cFC9zY5LqybvKUYqWGht6xhbhD7HnlhItLUfRP+FDe30ZnGUlUoeTJWlRxeHDh3H48OFrvvboo49e8+/y8nI89NBDeOihhwoZGq2qcZZCr9NwBEeGMp2E79xZKVkMLrsJrbU29E/4sByOwVqa+72LKH9EUcRbvXMw6KUZBcy4q7sKozMBvNM3j/tyvMEn5d/bffMQAdwpo9EbgI3+aB1ajQb1LjPcCyEkklwOLBeiKOKtnnmUGLTY05r/pmy3cnCHCylRxLmhBUnjoM0bn1vG/NIKbutwwWiQZsdnIN0TBwDrcBTq7d45CEJ6rzo5YYJD62qssiKZEuH2sNGiXEzMBeENRLC/vQIGvXQ3JgA4sCNdmHqmnzcnpckkFLcXuLj4eg6rMTsSGFyJSxoLbc7SchTD0wF0Ntjzsvv8djDBoXVdqcPhNJVcZHZhziQXUqoqL0W9y4zLY4vcYVxhzg4sQK/TYHeLtKOAQPpcTokizg1yJFBJMiO3t8ngWnQ9Jji0risrqVhoLBdnBhag0wrY1VIudSgA0jenRFLExRF2pFWKuaUw3Ash7Goul3R6KiM7EshpKkU5u/r7uq1DuhqutTDBoXXVuywQBGB8niM4cuDxrWDKE8TOpnLZNF882MkaCqU5O7D65C2TG1N1eSnqKsy4NLqISIwjgUoQjiTQO76ExioLKspMUodzAyY4tC6jXosapxmT80GkRFHqcIre2cHMkLA8bkwAUO8yw2UvwflhL/emUoizgx4IArBPJgkOkJ7mSCRTuDSyKHUotAGXRr1IpkRZbKx5M0xwaEMaqyyIxpKYX1qROpSid261/kbKZb3XEwQBt3W4EI0lMTDpkzocWkcgFMOQ24/2ujLYZLS0/yCnqRTljIynpwAmOLRBjZUsNJaD4EocA5N+tNbaYLfcfGNNqexpSxeqnh9mkajcnR9agChCdk/ejVUWOKxGXBxJjwyQfMUTKVwY9qKirAQNlRapw7kpJji0IU2rhcbjTHAkdWF4ASlRlOUT0456O4wGLS4Os9BY7q6sfJHXeSQIAva0OhGKJDA4sSR1OHQLA5M+RGJJ7O+ogCAIUodzU0xwaEMauGWDLFxcrU3YJ6PpqQy9ToPuJgfmllYwtxiWOhxaQyKZQs/4EqrKS1HlKJU6nBvsXR0JfKeX23/IWWbF5L42+V2LMpjg0IZYTHo4bSWYmFuGyEJjSaRSIi6PLsJhNaKuwix1ODeVSbwucBRHtgan/IjGktgjkxYD19vZ5IBWI+CdPiY4cnZxxAuDToMdDWVSh7ImJji0YY1VFiyH4/AFuSGeFEZnAwiuxLGntVy2Q8KZbSMusB+ObF1a/d1kaqbkxmTUYUeDHcNTfviCUanDoZtY8K9gxhtGV5MDep30PZTWwgSHNqxpdZqKdTjSyCydlUPX2bU4rEY0VlrQP7HEXiYydXFkEXqdBp0NdqlDWdO+1eSLjSPl6dJo+lok9T5462GCQxvGLRukdWnEC40goLvZIXUot7SnzYlEUkTvGItE5WZpOYopTxCdDXbJ9zC7lczoEgvW5Snze9ndKs9pzgwmOLRh3LJBOsGVOEZmAmirs6G0RC91OLeUKRK9NMZmbXKTnZ6S+ZN3dXkpqp2luDy2iESSjSPlJJFMoXd8CZV2kyyL1K/GBIc2zGE1wmLScwRHAj1jixBFYLfMb0wA0FJjQ4lBi55RJjhyc3H1dyL3J29BEHCgsxIr0SRGZwJSh0NXGXb7EYklZZ8kA8AtN7J57LHH1n2DxsZGfPrTn85ZQCRfgiCgqcqCy2NLCEfish9JUJNMLcJeJVxUtBp0NTpwbmgBC/4VWe5RU4ySqRR6RhdRUVaC6nJ5P3kDwP4dlXjl5Bh6xpbQUS/feqFik1lAIPckGVgnwXG73fjQhz50yzc4efJkTgMieWussuLy2BIm5oLoapJ3LYhaiKKISyOLsJXq0VAlz46h1+tuTic4PWNLuGcfExw5GJkOIBxN4M7uKtmuwrvanvYKCEJ69PK3/1OL1OHQqksji9BpBXQ1yv/6f8sE54477lg3wfF4uGdIMbm60JgJTmFMeULwh2I4tKsKGgXcmACguzn9dNcztoh79tVKHA0BQM9q0fcumfa/uZ7FpEdLjQ0j0wGsRBMwGW95u6ICCIRimJwPYmeTA0aDfIvUM25Zg/Pwww+v+wZHjx7NWTAkf9lC43kWGhdK73j6xpRJGhftHQwAACAASURBVJSgxlkKh9WInrEl7kAvE71jixAEoKtROdM93c3lSKZEbuAqE30TmWuRMh5ut1xk/LWvfS2XcZBCVDlKYdBrWGhcQL2rq5F2KmjETBAEdDc5EFyJY4rJsOSisSSGpwNorrYqqnZu1+qN9DJX5MlC5mFLKaP3G0pwvv/97+Oee+5Bd3c3du7cia6uLnzjG9/Id2wkQxqNgIZKC2a8YcQTSanDUb1kKoX+SR+qHCaU20qkDmdTMiNOvDlJb3DKh2RKVMyNKaO1tgwGvYY9lWSid3wJJqMWzdVWqUPZkA0lOM8//zxeeOEF9PT0oLe3F319fXjooYfyHRvJVGOlFcmUCPdCSOpQVG9sdhmRWBI7FTQ9lZEZxu7hzUlymSdvJY0CAukNXHc02OFeCHHbBol5/RHML62gs8EBrUYZHWY2FGVnZyeampqu+dq9996bl4BI/tjwr3AyT65KuzEBQJnFiDqXGQOTPo72Sax3fAlajaDI5dbdTenknqM40lLa9BSwziqqjE984hM4evQodu7cCb0+PX/7i1/8At/73vfyGhzJE7dsKJzMRaVTQYWhV+tuKofbM4khd0CRSZoahCJxjM8uo6PBDqOMt2dYy5WRwEUc2l0tcTTFS4mjgBsawTl+/Djsdjt0uiv5kMiVEUWrrsIMjSBwJVWexRNJDLn9qHdZYCs1SB3OlnQ1pROz/gk+fUulf8IHEcq6MV2tvtICa6kePeNLvO9IRBRF9I4vwlqqR53LLHU4G7ahEZySkhI89dRT13ztnnvuyUtAJH8GvRY1zlJMzgeREkXF9GZRmmF3APFESjFLMm9mR4MdAtI3WZKGEp+8r6YRBHQ22PFOvwcefwSVdjaOLLTZxTB8wRje1VWpqOv9hkZwfuM3fgNvv/024vF49mu/+MUv8hYUyV9jlQXRWBLzSytSh6JaPQqc876euUSPhkoLhqcDrMORSO/4Egx6DVprbVKHsmWdq11zORIojb5Mkqywh60NjeAcO3Ys+9+CIEAURQiCsKFGgKROjVVWnLo8h4m5ZUXsa6NEfeNL2adXJetsdGBiPoiR6UD2RkWF4Q9GMb0Qwu6Wcui0ylj5cjOZGrT+CR/u3svO2IXWo9BRwA2d8ffddx/6+vrQ19eXXSb+qU99Kt+xkYw1VnIlVT6tRBMYnQmgucaq+Bb1V9+cqLB6J5T55H292gozLCY9zyEJpEQRfeNLKLcZFTc9uKEE5+/+7u9u+Nqf/Mmf5DwYUo6GzEqqea6kyofBKT+SKVFxT0w3k6nD6eP0QsENrCYEStgY8VY0goAdDXZ4AxEs+DgtXkjTCyGEIgl0NjgUsUnr1W6Z4Hz3u99d9w24VLw4WUx6OG1GjuDkyeBU+sa0Q+HTU0D6XKlzZepwUlKHU1T6J30w6rXZ3lVKlh0J5L5UBZXZB0yJrSpuOfb9q1/9Cjt27LjlG5w/fx4f/vCHcxoUKUNjlRVnBxfgD0ZRZjFKHY6qDE35IQBoqy2TOpSc6Gq0Y8oTxOhMQBVJmxIEwjHMeMPY1VKumM6zt5KpReuf8OHwnhqJoykemQRHiX+3t0xwlpeX8bWvfS1bWHy1SCSCkpISdHR0bPnDT548iVdffRVOp/OmRcvPPfccFhYWUFFRgcuXL+Mzn/kM2tratvx5lFsNlRacHVzA+FwQe5ng5EwimcLoTAB1LjNKS5Rdf5PR2WjHa6en0D+xpMgLpRINTvoBADvq1ZEk11daYC7RcaqzgEQxvZO7zWxAlUNZ9TfAOgnOCy+8AAD4+7//ezz44IPXfO/P/uzP8Mwzz2z5g1dWVnDs2DH86Ec/gsFgwCOPPIJTp07h0KFD2deEw2E89thjEAQBr7zyCp5++ml885vf3PJnUm41XdXReG+bU+Jo1GNiLohYIqXItvprySQ1fRM+/NZhiYMpEmqa5gSu1OGcHVzAYiCiuM1nlcjjW4EvGMPtnS7F1d8AGywy/ud//udssrO4uIhPf/rT+MlPfrKtDz537hxqa2thMKQ7tB44cAAnTpy45jV/+qd/mv2hplIplJZyObKcNGT2pGJH45waWr0xtavkyRsArKUG1LvMGHb7kUiyDqcQ+id90GkFRfe/ud7V01SUf/0Knp4CNtgH5+mnn0YkEsEnP/lJDAwM4Pd///fxwQ9+cFsf7PV6YTZfaflssVjg9Xpv+tpYLIYf/vCH1/TjWYvDUQqdLr/7rbhcytgqfjs2cowVFRZYTHq4F0KK/ZnIMe6J1V3a79xbB1eOegzJ4Tj376jEv/5qFEsrCXS35GfETw7HWQjrHWc4Esfk3DK6mstRW6PMmxNw43Heta8O/+vfhzA2H8QHVfS7lut5O+kJA1i9Fm0zRimOcUMJzjvvvIOenh7Mzc3h7rvvRnt7O+z27f3ROJ1OhEKh7L+DwSCczhsverFYDE888QQ++9nPorGxcd33XVoKbyuu9bhcVng86l4avZljbKi0oHd8CRNTS4rr1yLH36Uoirg87IXdYoCQSOQkPrkcZ+PqHjZvX5qBy5L7vbXkcpz5tpHjvDTiRUoEWqqV+zO52XFa9BqYjDqcH/Ao9riuJ+fz9sKgByajDmadsK0Y832MayVPG5qieuaZZ1BbW4sf/OAHOH78OJaXl/HYY49tK6D9+/djenoasVgMAHDmzBkcOXIEPp8PwWB6yiMSieDYsWP4+Mc/jt27d297Woxyr2G14d8kp6lywuOPwB+Kob3ersg571vJTLkNcplv3il9amEtGo2AjvoyzPtW4AtGpQ5H1ZaWo5j3raCjvgwajTKvRRt65D569Og1jf1++7d/G36/f1sfbDKZ8MQTT+D48eNwOBzo7OzEoUOH8NRTT8Fut+Po0aP4/Oc/j8HBQUxNTQFIFx2/733v29bnUm5lCo0n54Oqu5hKIVN/01GnnvqbDLvFCJe9BENuPzdpzbPBSR8EAWhX4XnUUV+GC8NeDE35cXtXpdThqJYaitQ3lODcrGvxRz/60W1/+OHDh3H48LVLKh599NHsf3/961/f9mdQfmUKjcfn5DnEqjSDU+kHBzUVGF+to96Ok5dmMbMQQp1L+c3n5CieSGJkJoDGSuVv83EzmdWFg0xw8koNo4DK7/5EkqpxlkKn1WCSHY1zYmjKD4Nek536U5uOzDTV1PZGgGltI9MBJJKiom9Mt9JSY4VOK2RHGCg/Bid9MOg0aK6WZwH0RjDBoW3RajSod5nhXghy+e82hSJxuBdCaK2xKXrn51tpv+rpm/JjYPVnq9YER6/Tornahom5ICKxhNThqFJwJY4pTwittcq+Fik3cpKNxiorEkkR0wuh9V9Maxp2Z6an1HljAtIjfuYSHZ++8yjTWr+jQZ3TnEB6CjclihidDkgdiiqpof4GYIJDOZDZyI8rqbYnM6rRodL6GyDdjbaj3o4FfwRLy1wFk2vJVApDbj9qnKWwleZ+Kb5ccKozv7LbfDDBoWLXuLqSioXG26O2DTbXcuXmxFGcXJucDyIaSyr+xrSezOqwQTcTnHwYnPJBIwiKvxYxwaFta3BZIAAsNN4GNW6wuZZ2Pn3nzVBmFZ4Kl4dfzVpqQI2zFENuP5Ip1v7lUjyRxNjsMhqrLDAa8rsrQL4xwaFtMxq0qCovxcR88IZd52ljMhtsqrn+JqO5Ol24OMQEJ+eG3OpuM3C1jvoyRGNJTM2z9i+XxmaXkUyJqkiSmeBQTjRWWbASTWDBH5E6FEVSc4O/6+l1GrTUWDExv4yVKFfB5NKw2w9rqR6VdpPUoeRde136YWCI01Q5paYkmQkO5USmDmeCdThbMqiii8pGdNTbIYrpni2UG0vLUXgDUbTVlqlum4+byawSYy1XbqlpmpMJDuVEY7ajMetwNksURQxN+VFmMaCirETqcAqChca5N1xkSXKl3QRbqR6DU35OjeeIKIoYdvvhsBpRblP+tYgJDuVEY+XqnlQcwdm0zAabHXXF8eQNAG11LDTOtezUggqevDdCWG05kB654tR4Lnh8KwiE46o5h5jgUE7YzAbYLQZMsBfOpmXqb4qhwDjDYtKjrsKM4Wk/O2DnyJDbD61GUHRr/c3iirzcUluSzASHcqaxyoql5SgC4ZjUoSjKUBE0+LuZ9voyxOIpNojMgVg8ifHZZTRWWWHQK3tp72ZkNt7kirzcGHKna+LUMs3JBIdyJtvRmHU4mzLoVvcGm2vJPCUOcxXMtqlpae9mNFZZYNBpWMuVI8NuPww69VyLmOBQzmTqcCbmWYezUeFIHNMedW+wuZZMHc4wV1JtW7EVGGfotBo019jg9oTYcmCbVqIJTHmCaK62quZapI6jIFnIjOBMcARnw4bcAYgovhsTAFQ5TLCY9BzByYFM7URbrU3iSAqvva4MIoCRGSbK2zEyE4AoAm0quhYxwaGcqbCbYDJq2QtnE4bcqw3+iqjAOEMQBLTW2rDgj8AX5MabWyWKIobcfpTb1LG0d7Pa6tJJ3TDrcLZlWEX9bzKY4FDOaAQBDS4LZr1hRGNJqcNRhGLZYHMtbazD2TaPbwXLKlrau1mZv52haZ5D25EdBVTRecQEh3KqscoKEcCUh9NU60kkUxiZLo4NNtdypdCY0wtbpcYb02bYzAZU2k0YcQeQYsO/LUmJIoan/ahymGArNUgdTs4wwaGcasjU4XDp77qKaYPNtbTUWCEIfPrejuzS3iJNcID0NFU4msCsNyx1KIo0vRDCSjSpunOICQ7lVBP3pNqwYtpgcy0lBh0aXBaMzSyz4d8WDU2pa2nvVnCqc3uyo4AqKjAGmOBQjtVWmKHVCFxJtQHFtsHmWtrqypBIpnjObMFKNAG3J4iWImwzcLXMyAN3Ft8aNRYYA0xwKMd0Wg3qKsyY8gSRTPGJfC3FuMHmWnhz2rqR6eJtM3C1OpcZRr2WPZW2aGg6AJNRi9oKs9Sh5BQTHMq5xior4okUZhdXpA5Ftopxg821ZJf5MsHZtGIvMM7QajRoqbFieiGEcCQudTiKshyOYW4xjLbaMmhUdi1igkM5ly00Zh3Omopxg821uOwmWEv1GGah8aYVc4O/62WSvBGO4mzKsIqL1JngUM6x0Hh9xbrB5s0IgoC22jIsBqJYWmbDv41KiSJGpv2oKi+FVUVLe7eqjVOdW6LmUUAmOJRzmdUcLBpdW7FusLkWTlNt3pWlvRy9Aa6MYrEOZ3OG3Olmo60qHAVkgkM5ZzLqUGk3YWJuGSIbb92gmDfYXAsLjTcv87NS49TCVlhLDagqL8XItJ8N/zYokUxhdCaAOpcFJqP6mo3y6kp50VBlQSiS4JTDTRTzBptraa6xQasROIKzCWpd2rsd7bU2rESTmF4ISR2KIkzOBxFPpFR7LWKCQ3nRuFqHM846nBtkNthsr2OBcYZRr0V9pQXjc8uIJ9heYCOG3H6YjDrUqGxp73aw4d/mDGWTZPVNTwFMcChPGldrSyZZh3ODzAabar2obFV7bRkSSZFJ8QYEwjHMLa2grc6muqW929HGvc02Re3TnExwKC84gnNzmQ02a11mlJbopQ5HVtrqWWi8UcMqvzFtVV2FGSUGLVsObNDwtB+2Uj1cdpPUoeQFExzKC7vFAFupniuprjM5n95gs5j3n1pLey0LjTcqM0KhxqW926HRCGittWHGG0ZwhQ3/bmUxEMFiIIo2FTcbZYJDeSEIAhqqrPAGIgixs2jW4BT3n1qLs6wEZWYDht1+rr5bR3Zpbw2nOa/XVptp+MdE+VYyy+nVnCRLui7s5MmTePXVV+F0OiEIAh5++OFrvh+NRvHkk0+iqqoKY2NjOHr0KFpaWiSKljarscqCy6OLmJgLYmeTQ+pwZIEdjNcmCALa6spwZsCDxUAUziLfo2stiWQKYzMB1LnMqlzau11XGv4FsLetQuJo5KsYpjklG8FZWVnBsWPH8Pjjj+ORRx5Bf38/Tp06dc1rvv3tb6OmpgYPPvggPvaxj+ELX/iCRNHSVjRWputwJlmHAyC9weag248yswEu3rxvKnOxZQ3F2samA4glUqp+8t4ONo3cmCG3H1qNgOZqq9Sh5I1kCc65c+dQW1sLgyHdYvzAgQM4ceLENa85ceIEbrvtNgBAZ2cn+vr6EAyypkMpGlf3pBpnHQ6A1Q02gzG016t3znu7Mjcn1uGsrW98EcCVqRi6lrlEjxpnKUZmAkilONV5M/FEEuOzy2iotMCg10odTt5INr7p9XphNl/p32CxWOD1ejf0Gotl7fb2DkcpdLr8/sJcLvVmvBm5OMZypwVGgxYzi2HZ/swKGdfF8fT01P7OqoL/POT6879emb0UOu1ZjM8FtxSzUo5zO/p+MgAAuGNvLVwudW/1sdXf5+62Cvz0rQmEkyJaquRfp1To87Z3dBHJlIjd7RUF+2wp/jYlS3CcTidCoSvdJoPBIJxO56Zfc72lpXBuA72Oy2WFx6PuKZdcHmO9y4zR6WVMz/igz3PiuVmF/l2e7Z0FANQ6Sgr6uUo7ZxsqrRhx++Ge9m3q6VJpx7lVveOLsJj00IspVR/vdn6fdc5SAMDbl2Zg0ct7LY0U5+07l2cAALXlpoJ8dr6Pca3kSbLf/P79+zE9PY1YLAYAOHPmDI4cOQKfz5edhjpy5AjOnj0LAOjv70dXV9ctR29IfhorrUiJItxsnc4NNjeova4MyZSIsVn13ry3yh+MYn4xjNZaG6c5byG78SanOm8qU+PWrvJpTskSHJPJhCeeeALHjx/HV7/6VXR2duLQoUN47rnn8OKLLwIAPvrRj2J6ehrPPvssnn/+eXzxi1+UKlzaokwdTrH3w+EGmxuXWULPm9ONhtj/ZkNqKtIrzHgO3UgURQy7/SizGFS/UlHSNYaHDx/G4cOHr/nao48+mv3vkpISHDt2rNBhUQ6xo3EaN9jcuMzTNwuNb3TlyVv+dSVS0ggC2mptuDS6iEA4BlupQeqQZGMxEIUvGMPBHS7VjwLyUZLyqt5lhkYQin5PKm6wuXHlthKU24wYYsO/Gwy7/dAIQAsTnHVlRrlGuC/VNTIPDsUwCsgEh/JKr9OipqIUk/PBol6yyQ02N6e9rgzL4Tg8vhWpQ5GNRDKFsdllNNeUocTABn/raa/j1h83M5xNcNR/LWKCQ3nXWGlBNJ7EfJHerLjB5ua1cV+qG0zMBRFPpNDZzK7gG9Faa4MA1nJdb3ha/Q3+MpjgUN5l63CKdFUMN9jcvEyt0hCnF7IyN+qupnKJI1EGk1GHOpcFozMBJJIpqcORhVg8iYm5IBqrrLJr25EPTHAo7zJPCmOzxXmz4gabm9dQaYFBp+HT91UyBcZdHMHZsPb6MsQSKUzOF3cNYMbY7DKSKVHV+09djQkO5V1jlRUCgNGZ4hzB4Qabm6fTatBcY8OUJ4iVaELqcGRh2O2HxaRHjdO8/osJwJWaN051pmWS5GKovwGY4FABmIw61FSYMT63XHSFxtxgc+va6mwQRWBkpjhH/q62tByFNxBFex33MduM7OatTHAAAMOrU74cwSHKoeZqK6KxJGYW87uVhtwscIPNLcvenKZ4cyqmlS+55LKbYCvVcwQH6YetIbcfDqsR5bbieNhigkMF0VKTvjCPFdnT+NDqzZkFxpuX6dMxNM2bU+YGXSxP3rkiCALa6sqwGIhiMRCROhxJLfgjCIRi2UaaxYAJDhVEc81qoXGR1eEMZm5MrL/ZNFupAZUOE4bdAaSKvOHf8LQfGkFAc3Xx3Jxyhf1w0oaLMElmgkMF0VhpgVYjYLTIVlINTflg0Gmye3LR5rTXlWElmsBMEW/WGk+kMD67jIZKC4wG9S/tzbW2bB1OcV17rjdchPuYMcGhgtDrtKhzmTExFyyanhThSBxuTwgt3GBzy7J1ONPFe3OamFtGIimy/maLmqut0GqEoh/BGZr2Q6cVsn3JigGvulQwLTU2JJIpuD3F8TSe2WCzo4HTU1uVrcMp4kLjYto7KB8Mei2aqq2YmFtGLJ6UOhxJRGNJTM4F0VRthV5XPLf94jlSklym0LhYpqkGV/vf7GCDvy2rqzCjxKAt6qfvYqydyLX2ujIkUyLGirSb+thsuo4tswVKsWCCQwWT7WhcJCupBqf8EAQ+eW+HRiOgrdaG2cUwgitxqcORxPB0ADazARXso7RlxV5oXKyr8JjgUMHUVpih12mKoqNxPJHC6EwADS4LTEbu/LwdbUXcrG0xEMHSchRttTb2UdqGYp/qLMYCY4AJDhWQTpteTeT2hFQ/Fz4+t4x4IoUOLg/ftmJ++i7WJ+9cc1iNcNqMGHL7IRZZywFRFDE87YfTZoTDapQ6nIJigkMF1VJtQ0oUMaHyze8y9TcdDbwxbVdrrQ0CinMEp1ifvPOhra4MwZU45pdWpA6loDy+FSyH40V5DjHBoYLKFhqrvA5ncJJP3rlSWqJHbYUZIzMBJFPF0WIgY8jtg1YjZOvXaOuKdSRwcKp4V+ExwaGCutLRWL0JTmp1zxenraRo9nzJt7a6MsTiKUzNF0eLASC9tHd8NojmaisMejb42672+uKs5cokODuKcLqcCQ4VVFV5KUxGraqXa8560yt+OD2VO8X49D0y7UdKFFnHlSP1LgsMek1RnUNA+m/GaNCivtIsdSgFxwSHCkojCGiqsmLWG0Y4kpA6nLzIXEB5Y8qdYnz6HsyeR0yUc0Gn1aC1xga3J6Taa8/1gitxTC+E0FZrg1ZTfLf74jtiklxbXRlEqLcOZ3BytcCYN6acqXKYYDHpi+rpO1s7wfMoZzLXnpGZ4jiPMsvii/VhiwkOFVxrbbrQWK1P44NTfpQadaitKL4h4XwRhHTDvwV/ui+M2qVSIobdflSXl8JWapA6HNVoL7J+OIPu9MNWe5EmyUxwqOAy7cLVuIGiLxjFvG8F7fVl0LAxW04V0zTVlCeISCzJUcAcK7amkYNTfmgEAa01xblRKxMcKjib2YBKuylbRKkmV4aEeWPKtSuJsfpvTpnpqWJ98s4Xi0mP6vJSDE8HkEqp69pzvXgiibGZABqqirebOhMckkRrnQ2hSAJzi2GpQ8mpgUyDvyKd886nlhobNIJQFNMLVzZq5XmUa+11ZYjEknAvqLvlwNjsMhJJER1F2P8mgwkOSSL7NO5W1zTV4JQfOq2Alho2Zss1o0GLpmoLxmaXEVXxVh+iKGJwyg9rqR6VDpPU4ahOZlRsaDWJVKvMKGBHQ/EmyUxwSBKZYj81TTesRBOYnAuiucYGvY6N2fJhR4MdyZSIERXXUHhXN9jsqLdzg8082LF6w++fVHeCkxnpLOZu6kxwSBL1lWYYdBpVFfsNTqVrijqL+Ikp3zJTNgMqnqZiHVd+VTlMsJkNGJj0qXbjzZQoYnDKh4qykqLbYPNqTHBIElqNBs2rTbdWoupoutU/sQQA6Gp0SByJemWG2wdU/PTNAuP8EgQBO+rL4AvG4PFHpA4nL2a9YYQiiaKvBWSCQ5Jpq7OpquFf/2R6Y8RiHhLON4tJj7oKM4an/Ugk1bnx5uCUDwadBk1VrOPKl8w01cCEOhPlwSk2GwWY4JCE2mvV05NiJZrA2MwymmusMBpYf5NPOxrsiMVTGJ9T335m4Ugcbk8ILTU26LS8POfLDpWPBA5ymhMAExySUGudehr+Dbsz9Tecnsq3zCamarw5DbkDEAFu1Jpn9a50b5gBla6kGpryw1yiQ02Rd1OXpPuPz+fDM888g4aGBoyNjeFzn/scKioqrnnNhQsX8O1vfxvd3d0YHR3F3r178eEPf1iKcClPyswGVJSVYNjthyiKil4x0rc61N3VWNxz3oWQKTQenPTjN+6UOJgcy0wttNfxPMonjUZAR30ZLgx7sbQcVVUhbqab+t42Z9F3U5dkBOcrX/kKDh06hKNHj+L+++/Hk08+ecNrPB4P/vAP/xCf+MQncOzYMTz99NNYXFyUIFrKp/a6MoQiCcwqvOFf/+QSNIKQbQVP+VNuK0FFWQkGp3yq64TdP+GDIHBqoRAy01SDKhvF6V992Orkw5Y0Cc7Pf/5z3HbbbQCAAwcO4Oc///kNr7nvvvuwd+/e7L+1Wi30en3BYqTCyKwUGVTwst9I7Er9TbG2RC+0HQ12hCIJTHvU0402GktidCaA5mqeR4Wg1jqczGpOTpfncYrqE5/4BBYWFm74+mc+8xl4vV6Yzem5QYvFAr/fj0QiAZ3u5uF897vfxac+9SlYreuvKnA4SqHLc5M1l0v9qxsKdYx37a3DP746gAlPSJKfay4+80z/PJIpEbd1Vsr23JBrXFt1sLsaJy/NYtoXwW27arJfV/JxnhtIn0f7O6vWPQ4lH+dm5PM47Q4zDPpzGJlZlvznmcvPH5oOwGTU4vbdNdDKqFBdip9x3hKcf/iHf1jze06nE6FQCDabDcFgEGVlZWsmNy+//DLC4TAeeuihDX3u0lJ+pzpcLis8HvWt3rhaIY+xRAuYS3S4MOgp+M81V8f51sVpAEBDhVmW54Yaz9kaewkA4EzvLO7Yka7fU/pxvnlxBgDQWFF6y+NQ+nFuVCGOs7XGir4JH0YnFmExSTNDkMvj9IdimJoPYndrORYX5TO6me/f5VrJkyTp3b333ouzZ88CAM6cOYN7770XAJBKpTA9PZ193fe//314vV489NBD6O/vx+joqBThUh5pBAEd9XYs+CNYDCiz6RbrJgpPjd1oByaWVs8j1k4USmaaSi0buF6ZnuI5BEiU4Hzuc5/DyZMn8eyzz+KnP/0p/vzP/xwA0N/fjwcffBAA8Nprr+HLX/4yfvazn+EjH/kIPv/5z2N+fl6KcCnPsnPhCiz2i8ZZNyGFa7rR+lakDmfbYvEkRmYCaKy0orSE51GhqK0OJ7O/Vie7qQOQaJm43W7H8ePHb/j6zp078fLLLwMA7r//fpw+fbrQoZEErlxk/Liru1riaDZncMqHZErkBUUCOxrseKffg/5JUX2gEQAAHgRJREFUHyodpVKHsy3D0wEkkiJXvhRYW20ZtBpBNRtvDkz4YNBr0FxdHDVa65FPBRIVrcYqC4x6LQYVeJHpGUsPCXc3M8EpNDW1289OLTDBKSijQYvmaivGZ5cVvydeIByDeyGEjroydsFexZ8CSU6n1aCtzgb3QgjBlbjU4WxKz+gidFqBdRMSqK+0wGLSo3diSfF1OP0TPgi4krRR4XQ2OlZ331Z2HU4m0d/B0eQsJjgkC9mmWwoaxQmEY5iYD6Kj3g6jnvtPFZpGENDVaMdiIN25VaniiSSGpwNoqLTAXMJeX4W2c3X0tW98SeJItidbf8MkOYsJDslCpv2+kubCMxdETk9JZ2dT+mffq+Cb08h0AIlkCjs4PSWJ9roy6LSCos8hID3NadBp0FJjkzoU2WCCQ7LQWmuDViMoajXD5dH01iHdzeUSR1K8dq7+7JX89J1trc/Os5Iw6rVoqy3DxNyy4qbIM4IrcUx5QmirK4Nex9t6Bn8SJAsGvRYttTaMzy0jHJF/sZ8oiugZW4S5RIemKq5YkEqVwwSH1YjeceXW4fSOL0EAC4yltLPZARFXir2VJpPg8xy6FhMcko3uJgdEMb1xpdzN+1bgDUTR1eSARlPcO/ZKSRAEdDU6sByOY2JWed19o7Ekhtx+NFZbJeukS8qf6uzJTpdzNPlqTHBINrIXmTH5X2SuLA/nBUVqmfPm/KBH4kg2b2C1jxLruKTVUmODUa9VboIztgiTUYuWGo4mX40JDslGW10ZDHpN9mlEznqy9Te8MUmtqyk9LH9h6MbNfeWuZ4x1XHKg02qwo8GOGW8YS8tRqcPZlAXfCuaXVtDV6IBWw1v61fjTINnIXGSmF0KyvsgkUyn0ji/BaStBpd0kdThFr6LMhEq7CReHF5BMpaQOZ1N6xpag02rQUcd9zKSWGQnsU1gdDqen1sYEh2Slu0n+q2KG3QGEownsaXNCEFh/IwddTQ6EIwlMzAWlDmXDAqEYJueD6Kgvg4F9lCSn1DqcK6OAHE2+HhMckpXMH2nmj1aOLo54AQB7W50SR0IZSjhvrtfLPkqy0lBlgblEh94x5azIS4kiesaW4LAaUV2u7P3Y8oEJDslKpv1+j4yX/V4Y9kKn1WSf+Eh6XY2ZBEc5T9+sv5EXzeqKPG8gopjO2FPzQQRX4uhudnA0+SaY4JCsaAQBO5scWFqOYnYxLHU4N1hajmJyPoiuRjuMBk4ryIXNbEB7fRkGJn2IxNhHibZmV2s62bw0ooyRQK7mvDUmOCQ7O5vl+zSemZ7a08bpKbk50FWFZEpE37j8u2HPL6X7KO1kHyVZ2dOS/rvO/J3LXXYUkKPJN8UEh2Rn9+rTiBwvMheGV+tvmODIzoHOSgDAxVH5nTfXu8RtPmTJWVaC2goz+iaWEE8kpQ7nlmLxJAYmfahzmVFmMUodjiwxwSHZqbCb0heZ8SXE4vK5yCSSKVweW0SVw4QqBwv65KaryQGTUYeLw17Z1m9lZJL33a1McORmd0s5YvEUBib9UodyS/2TPsQSKezhYoc1McEhWdrb5kQskULfhHymGwYmfYjGktjbViF1KHQTWq0G3c0OLPgjmF+Sb5FoLJ5E7/gS6irMqChjHyW5ySQMchxBvlp2NJkJzpqY4JAs7VudArowLJ/utGcH07HsbecFRa6UcHPqm/AhnkixjkumdjSkO6pnphHlSBRFXBheQIlBi/Z6NolcCxMckqW2ujKYjDpckMl0gyiKODPggblEh84G7tgrV7tbVlfByPjmdJFP3rKm12nR1ejA9EIIXn9E6nBuam5pBR5fBLtayqHT8ja+Fv5kSJZ0Wg12tZRjwR/BjFf65eJjs8tYWo5iX3sFLygyVm4rQZ0rXb8lxyJRURRxYWQBJiOfvOUsOxIo04J1Tk9tDK/UJFtXpqmkv8icGUjvVH1gh0viSGg9e1rS9Vv9MqrfyphdDKefvJv55C1ne1aLvy/K4NpzM5mp+91McG6Jf2EkW5mnqPMy2CX6dL8HBl16VInkLbOE/6wMzpvrZW6YrL+Rt0pHKarKS9EzJq+VnAAQiSXQP+FDY5UFDiuXh98KExySLZvZgPa6MgxM+RAIxSSLY3ohhNnFMPa0OmHkpoiy19FQBnOJDucGF2RRv3W185kEh0/esndbRwWi8WR2t2656B1bQjIlshfXBjDBIVm7vdMFUQTODHoki+E0p6cURavRYF97BZaWoxibXZY6nKxQJI6BSR+aq62wszGb7B3oSP+9nx2Q7tpzM5lr4T62q1gXExyStQOd6YvM6b55yWJ4u3cOOq2AfVwerhi3ZW5OEibG1zs/tIBkSsTBTibKStBaa4PNbMD5oQWkUvIYCUymUjg3uAC7xYCWWpvU4cgeExyStYoyE1pqrOgd9yG4Ei/450/NBzHlCWFPqxOlJfqCfz5tze6Wcuh1mmzvIjk4M5COhSOByqDRCNjfXoFAOI7haXl0NR6Y8CEUSeC2HS5ouHv4upjgkOzd3lmJlChK8jT+Rs8cAOCuXdUF/2zaOqNBi+4mB9yeEOaXpG8zEI0ncWnEixpnKWqcZqnDoQ26rSM9DXR2QB6JMpPkzWGCQ7KXGdJ/p6+wCU5KFPFmzxxKDNrsknVSjtt2ZKappL85XRpZRCyR4o1JYbqbHTDqtTgz4JG8YD0lijgzyGajm8EEh2Sv0lGKpioresYWEQgXbjXV0JQf3kAEB3e4YODqKcXZ314BAVeKxKXEPkrKpNdpsae1HPO+FbgXQpLGMjbDZqObxZ8SKcKh3dVIptIjKoWSmZ66c1dVwT6TcsdmNqCz0Z5OVCVsuZ9IpnB+aAHlNiOaq62SxUFbc7CzEgDwVm/hrj03c3ogvdDiIJPkDWOCQ4pwZ3cVNIKAk5dmC/J50VgSb/bMwm4xYGeToyCfSbl3R3c6OX2rT7qb06WRRYSjCRzcUQmBhaGKs7+9Aga9Bm/1zEs2TZUSRbzVMw+jQctmo5vABIcUocxswJ7WcozPLsPtCeb9897um8dKNIm799ZCq+GfiVLd3lkJrUbAWz3StRl4oyedlN/FkUBFMhq0uK3DhXnfimR9lYbdnC7fCl65STEO76kBgIKM4vz8vBsCgLv31eT9syh/LCY9drWUY3xuGbOLhV9NFYklcG5wAVUOE6enFOzOnenktJBT5FfLrubsZpK8GZIkOD6fD3/5l3+J5557Do8//jgWFtZe5eD1enH33XfjH//xHwsYIcnRvnYnzCU6/OrSLBLJVN4+x+0JYtgdwK6WclSUmfL2OVQYUt6czg4uIJZI4c7uKk5PKdiulnKU/v/t3XlYVOe9B/DvDMM2IKug7BqVRQUEJS6oULRW45IYYpqY9dYrJqk2T6NNrWluzXK9cp+rMcGnedTHtqaxJjcutV6jQlAQRRQdcGULDTsogqCDbDPz3j+Mk46gEZn18P38BXPec87v5Tcz58d73nOOowJniq6a/aZ/Gq0O+UXX4Ka0R8Qwni7vC4sUOBs3bsTkyZORkpKCmTNnIjU1tdd2Op0OH330EcaOHWvmCMka2SvsEB/ph5ttXThbYrpTDscKagEA06P9TbYPMp9xowbDXiHH6StXzT6HIu/y9xPV+Z+3TbNXyDE+zAct6i6UVpv3KfVXKpqhbu9GXMQQni7vI4UldpqdnY3XX38dABAbG4vVq1f32m7btm1YtGgRdu3a9dDb9vRUQqEw7TlKHx/pDzVbax+TZ4Yi42w1ci40YH7CqH5v795+3rrdhZOXGuDj6YxZU4bDTiKXY1prPo3tfv2cNNYPOYW1aL6tQfgw80zSvHGrA5crmjEy0B1R4ca9UeRAz6clzI4fjpwL9Thbdh3TJgQbddsP6qfqSIl+/9b09+grS8RusgJnyZIlvZ56+tWvfoWmpia4uNy5m6erqytaW1uh0WigUPwQTl5eHpycnBAdHd2nAueGie9a6uMzCI2N1vMAP1Ow5j7a486TmC+UN+HsxTqE9GNeQ2/9PHiqAp1dWiRNDUBzs2Xve2Es1pxPY3pQPx8P90FOYS32Z38Lb5cIs8TzdV4ldDqBiRFDjPr3Zz4tY4ibI3w8nHCisBZPTx0OpZNxDp8P6qe6vRu5F+ox1EsJL2eFVf09+sLUubxf8WSyAmf79u33Xebt7Y22tja4ublBrVbD3d3doLgBgMzMTPj4+GDr1q0oLS1Fa2srnJ2dkZycbKqQyUYkxQbiQnkT0vOrsXT+aKNtV6PV4ZtzNXB2tOPpKYmJCPHEYHcnnCm6iudnjIKzo2kHr4UQOH6+DvYKOa+ekgi5TIbp0f7Yk/1PnC66ip/EBJh8n6e+n284Pdqfc7gegUXG3xMSElBQUAAAUKlUSEhIAHBnzk1dXR0A4J133kFKSgpSUlIQGhqK+Ph4FjcEABj7mBcCBrvg9JWrRn3O0ImL9WhVd2F6tL/JD4BkXnKZDNOi/NDVrTPLDduKq1pw7UY74sJ94cKHtErGlLF+kMtkOF5YZ/J93S2S7eQyTInks/AehUUKnLfeegu5ubn44x//iIyMDPz2t78FAJSUlGDZsmUGbXfv3o2SkhKcOHEC2dnZlgiXrIxcJsO8KcOgEwIHT1UaZZvdGi0OnKyAg0KO2Y8b9/w6WYf4SD/IZMDx86Y/OGUXcqK6FHkOckTUCG9UXr2FShPfE6e87iZqr7chNtQHbkoHk+5Lqizyb6qHhwc+/PDDHq9HRETgwIEDBq8988wzeOaZZ8wVGtmIuHBf7D/xHXIvNWDelGHw8ejf5dxZBXW4casTcyYGw93V0UhRkjXxcnNC1GPeOF/ehPLaVowIcDfJflrVnVCVNsLPW4lRgabZB1nO9HH+KPz2OjLP1eAXc003n+uoqka/P3o00rhEhAYcuVyGBfHDoNUJfJVV3q9tqdu7cSC3Ao4Odpg9kaM3UjYrLggAkJ5fbbJ9ZKpqoNEK/HRCEOdNSFDUCG8M8XRG3pUGtKo7TbKP5psdyC+6Bv/BLhjNR8U8MhY4ZLMeHz0EI/zdcLb4GkqqbjzydvYd/yfU7d1YED8MgzgULGnhIZ4I8nXF2ZJruN7abvTtd3ZrcUxVC1dne0wey3kTUiSXyTArLggarcBRVa1J9pF5rgZancCsOBbJ/cECh2yWXCbD8zNDAQCfZ5SiW9P3uxuX17Uiq6AWft5K/HRCkLFDJCsj+/7gJATwzdkao28/91ID2jo0SIwJgCOfGSRZU8b6wcVJgWMFtejs1hp12x1dGmQV1sFNaY/JvAKvX1jgkE17zN8NieP8UdvYhn05/+zTurc7urHtH1cAAC/NCoNCIjf1owebOHoIPFwdkF1Yh5ttXUbbrkarw9enKqGwk2NGrOkvISbLcXSww09iA6Bu70a2ka+oyjxXg/ZODZLGB8LexDetlTp+o5PNezZpJHw9nXHkdBUulDc91Do6IbD5q/O41tKO2ZOCEc7z3AOGwk6OuZOHobNbi6/zjHMVHgDknK9D080OJMb4c6L6ADArLhhODnY4eKoCHV0ao2zzdocGh09XwcVJgZnjOaLcXyxwyOY5OSiwbMEYKBRyfLr/0o9evimEwJ7scuQU1mJkgDsWTnvMTJGStZge7Q9vNyccVdXixq3+TxTt6tbiQG4FHOzlmDspxAgRkrVzdbbHrLgg3LrdbbTTnRlnq9HWocHsicFGu1PyQMYChyRhuJ8bls4bja4uLf57VwGKKnufdKzR6vC3jDIcyquC/2AXrEiO5KmpAcheIceC+GHQaHXYe7x/V+EBwJH8arSouzAjNpCjNwPIrLhguDgpcOh0Vb9Pd9641YnDZ6owSGmPGeMDjRThwMZvdpKMCeG+WLpgNLq6tfifXQX4PL0EV5tvQwiBbo0Ohd9ex4efnUWmqgYBPi5Y90Y8r5oawKZEDkWwrytOXmzo1xOir7e042BuBdxcHDB38jDjBUhWT+mkwJNTh6O9U4P/PfZtv7b15dEydHZpkZwwAk4OHL0xBv4VSVImjR4Kbzcn/OlgEY6qanFUVQtHBztoNDpodQIAMDXSD8/NGAVvd2ebfXgd9Z+dXI4XfxaGdX89h8/TS/Afr8b1eTRPCIGdGaXo0ujwyuyRPK0wAP0kNgAnLtYj91IDpkb6PdJ8vsvfNeNM0TUM93PD1Cg/E0Q5MHEEhyRnVKAH3l8yEUvnjcb4MB/4ejhj2NBBmDk+EGv/LQ6/mBvBAxEBAEYGuGN6tD9qGtuwN7tvV+EBQHZhHc6XNyEixJMP1Ryg7ORyvPyzcMhkwPaDV9DW0d2n9W+2dWH7wSuwk8vw8s/CIOd9b4yG3/IkSfYKOSaPHcqbrdGPem7GSJRU3cDhM1UIDfbAuJGDH2q9yoZb+CKzDC5OCiyZG8Ebsg1gj/m7Yf6UYfjHyQr86WARfvl05EMVKjqdwEe7VGhRdyE54TGEDB1khmgHDo7gENGA5uSgwGtPjoXCTo4t+y+jvK71R9e53tqOTbvPo1ujwy+eiICXm5MZIiVrtiB+OMKCPFBQdh1fZJZBCPHA9kII/O2bUpwtuooxwzwxZyKvvjM2FjhENOCFDB2E158cgy6NFhu/PI/LFc33bVvbqMZ/fa5Cq7oLP08aiZhQHzNGStZKLpfhl09Hwn+wC745W4O/ZZRBq+v97upanQ5/PVKCo6raO++9pyIhl3ME0NhY4BARAYgJ9cHSeaPRrdHioy/P44vMMoOHKbZ3anDwVAXe33EWN251YlHiCMx6nA9npR+4Ottj5c/HIcDHBZmqGqz/XIVva1v1ozlCCJRWt+A/PzuHrMI6BPu64oNlUzgn0ET4VyUi+t6kMUPh7e6E7f9XhPT8anxztgZ+g5Wwk8lQ19QGjVbA1dkeKfNHY3yYr6XDJSvkOcgRa14cjx2Hi3Gm6BrW/fUcvN2c4OXmiKabHWi+eadonjJ2KF74aSg83ZzQ2Ni3icn0cFjgEBH9i1GBHvjg3x/H8fP1OH3lKqob1RBCIGCwK2LDfJAUGwAXJ3tLh0lWzNnxzryuxHE3cLSgFqVVN1BW04pBSnvEhftixvhAhAZ5WDpMyWOBQ0R0D3uFHWaMD+QdZalfwkM89ffFEULwSjsz4xwcIiIiE2NxY34scIiIiEhyWOAQERGR5LDAISIiIslhgUNERESSwwKHiIiIJIcFDhEREUkOCxwiIiKSHBY4REREJDkscIiIiEhyWOAQERGR5LDAISIiIslhgUNERESSwwKHiIiIJEcmhBCWDoKIiIjImDiCQ0RERJLDAoeIiIgkhwUOERERSQ4LHCIiIpIcFjhEREQkOSxwiIiISHJY4BAREZHkKCwdgDXKzc1Feno6vL29IZPJsHz5coPlnZ2dSE1NxZAhQ1BRUYGUlBQMHz7cQtE+mqqqKmzatAmjR49GQ0MDPDw8evRz7969+OKLL+Do6AgASE5OxlNPPWWJcPvl2Wef1fdBLpdjx44dBsulkM+amhq8+uqr8PPzAwCo1WqEhYVh/fr1+ja2ms/GxkZs2rQJxcXF2LNnDwCgpaUFGzZsQFBQECoqKvDWW29h8ODBPdbdv38/ioqKIJfLERwcjOeee87c4T+03vq5bt06ODs7Q6lUori4GGvWrIGPj0+PdZOSkhAQEAAA8PX1xYYNG8wae1/01s+0tDScOXNG3+a1115DfHx8j3VtPZ8pKSlob2/XtykpKUFOTo7+M3mXreTzfscRq/l8CjJw+/ZtMXPmTNHZ2SmEEGL58uUiNzfXoM2WLVvE1q1bhRBCFBcXi+eff97scfbX+fPnRUZGhv73OXPmiIsXLxq02bNnj6iurjZ3aEb3ySefPHC5FPLZ3NwsTp48qf/9448/Fvn5+QZtbDWfhw4dEpmZmWLhwoX61959911x8OBBIYQQmZmZYtWqVT3Wq6+vFwsWLBA6nU4IIcTTTz8tvvvuO7PE/Ch66+fGjRv1P2/ZskW8//77va77Y+9xa9JbPx8mfink8+57VgghqqqqxLvvvtvruraSz/sdR6zl88lTVPcoLCyEv78/HBwcAACxsbHIysoyaJOVlYWYmBgAQFhYGIqLi6FWq80dar9ERUVh5syZ+t91Oh2cnZ17tNu5cye2b9+OzZs3o6WlxZwhGk1paSm2bt2KtLS0HrkEpJFPT09PTJkyBQDQ1dWFS5cuYcKECT3a2WI+Z8+eDRcXF4PXsrOz9TmLjY1FdnZ2j/VycnIwZswYyGQyAEBMTAyOHz9u+oAfUW/9/PWvf63/WQgBpVLZ67r5+fnYtm0bNm3aBJVKZdI4+6u3fgLAp59+iu3bt2Pr1q0Goxx3SSGfTzzxhP7nzz77DC+++GKv69pKPu93HLGWzydPUd2jqanJ4E3p6uqKpqamh2rj6upqtjiNKSMjA1OnTsWIESMMXo+Li0NiYiK8vLyQnZ2NN998s8fpHVuwdOlSREVFQavV4oUXXoCLiwvi4uL0y6WWzwMHDmDu3Lk9XpdKPgHDnLm6uqK1tRUajQYKxQ9fac3NzQZ5dXFx6fFZthU3b97EiRMnkJaW1uvyVatWISoqCu3t7Vi4cCG2bNmCkJAQM0f56GbPno2AgAAolUrs3LkTH3zwAdatW2fQRkr5VKvVqK+vR2hoaK/LbTGf/3ocsZbPJ0dw7uHt7Y22tjb972q1Gt7e3n1uYyvy8vJw+vRprFmzpseyoKAgeHl5AQAmTZqE/Px8aLVac4fYb1FRUQAAOzs7TJgwAadPnzZYLqV8AsDhw4cN/lO8Syr5BAxzplar4e7ubvDlCQBeXl4GeW1ra7PJvN66dQvvvfce1q1bBw8Pj17b3H2POzs7IyIiwqr/6+/NqFGj9KNTkyZNQl5eXo82UsknAOzevRvJycn3XW5r+bz3OGItn08WOPcYN24c6urq0NXVBQBQqVRITExES0uL/rRFYmIiCgoKANyZJBYeHm6T/+1nZWXhxIkTeOedd9DY2IiCggKDfm7YsAEajQYAUFFRgcDAQNjZ2Vky5D4rLy/HV199pf+9srISwcHBkswncOeLJiYmBvb29gAguXzelZCQoM+ZSqVCQkICgDtD5HV1dQCAadOm4fLlyxDfP0+4oKAA06dPt0zAj6i5uRnvvfce3n77bQQFBeHIkSMADPt56tQpg6H9yspKBAUFWSTeR5Wamqr/ubKyUj9aIbV8Anf6lJOTg8TERIPXbDWfvR1HrOXzabd27dq1Rt2ijbO3t8eIESPw5z//GYWFhfD19UVycjI++eQTlJWVYfz48RgzZgwOHz6MK1euIDs7G2+//TY8PT0tHXqfXLp0CcuWLYMQAvv27cPf//53BAUFISMjQ9/PsrIy7N27F6WlpUhPT8eqVaswdOhQS4feJ93d3dixYwcqKipw7NgxKJVKLFmyBGlpaZLK510bN27EG2+8oZ9P9a/vW1vN55kzZ/RXW3R0dCAyMhJxcXH48ssvUVxcjIKCAvzmN7/RX2n05ptvYvHixXB1dYVSqcSePXuQm5uL+Ph4TJ061dLdua/e+vnyyy+jsbERx48fx759+1BeXo558+YZ9PP27dv4y1/+gqqqKnz99deIjo7GggULLN2d++qtn+fOncPRo0dx+fJlnDp1Sv8ZlFo+FQoFMjMz4ePjg+joaH1bW83n/Y4jixcvtorPp0zcLZ+IiIiIJIKnqIiIiEhyWOAQERGR5LDAISIiIslhgUNERESSwwKHiIiIJIcFDhHZhKSkJNTU1AAAVq9ejZdeeum+d/a968CBA1i5ciWSkpLMESIRWREWOERkkxYuXIgVK1Y8sM38+fMNnudERAMHn0VFRFZvx44daGlpQVpaGgYNGtRjeXl5OT7++GOEhISgrq4O06dPx5NPPmmBSInIWnAEh4is3iuvvAIPDw+sWLECv//973ss37VrFyIjI7Fy5UqsXbvW5p4GT0TGxxEcIrJ506ZNw+rVq1FdXY05c+Zg8eLFlg6JiCyMIzhEZPMSEhKQnp6OyMhIrF+/Hn/4wx8sHRIRWRgLHCKyCQ4ODtDpdMjNzUVDQ4PBss2bN0MIgUWLFiE1NRUXLlywUJREZC14ioqIbMK8efOQmpoKIQTc3NwMlg0ZMgS/+93vEBwcjPr6eqxcudJCURKRtWCBQ0Q2Yfny5fqfV69ebbBs0aJFWLRokblDIiIrxgKHiGxOUFAQTp48icbGRixbtuy+7Q4dOoS8vDxERESYMToisgYyIYSwdBBERERExsRJxkRERCQ5LHCIiIhIcljgEBERkeSwwCEiIiLJYYFDREREkvP/VZmK+A+mPQIAAAAASUVORK5CYII=\n",
>>>>>>> 67d09b76755c8e096134b16305778fa87b777bb8
      "text/plain": [
       "<Figure size 576x396 with 1 Axes>"
      ]
     },
     "metadata": {},
     "output_type": "display_data"
    }
   ],
   "source": [
    "%matplotlib inline\n",
    "\n",
    "# Common imports\n",
    "import numpy as np\n",
    "import pandas as pd\n",
    "from math import *\n",
    "import matplotlib.pyplot as plt\n",
    "import os\n",
    "\n",
    "# Where to save the figures and data files\n",
    "PROJECT_ROOT_DIR = \"Results\"\n",
    "FIGURE_ID = \"Results/FigureFiles\"\n",
    "DATA_ID = \"DataFiles/\"\n",
    "\n",
    "if not os.path.exists(PROJECT_ROOT_DIR):\n",
    "    os.mkdir(PROJECT_ROOT_DIR)\n",
    "\n",
    "if not os.path.exists(FIGURE_ID):\n",
    "    os.makedirs(FIGURE_ID)\n",
    "\n",
    "if not os.path.exists(DATA_ID):\n",
    "    os.makedirs(DATA_ID)\n",
    "\n",
    "def image_path(fig_id):\n",
    "    return os.path.join(FIGURE_ID, fig_id)\n",
    "\n",
    "def data_path(dat_id):\n",
    "    return os.path.join(DATA_ID, dat_id)\n",
    "\n",
    "def save_fig(fig_id):\n",
    "    plt.savefig(image_path(fig_id) + \".png\", format='png')\n",
    "\n",
    "\n",
    "from pylab import plt, mpl\n",
    "plt.style.use('seaborn')\n",
    "mpl.rcParams['font.family'] = 'serif'\n",
    "\n",
    "DeltaT = 0.001\n",
    "#set up arrays \n",
    "tfinal = 20 # in dimensionless time\n",
    "n = ceil(tfinal/DeltaT)\n",
    "# set up arrays for t, v, and x\n",
    "t = np.zeros(n)\n",
    "v = np.zeros(n)\n",
    "x = np.zeros(n)\n",
    "# Initial conditions as one-dimensional arrays of time\n",
    "x0 =  1.0 \n",
    "v0 = 0.0\n",
    "x[0] = x0\n",
    "v[0] = v0\n",
<<<<<<< HEAD
    "gamma = 0.2\n",
    "Omegatilde = 0.5\n",
    "Ftilde = 0.0\n",
=======
    "# underdamping gamma < w_0, scaled parameters gamma < 1\n",
    "gamma = 1.0\n",
    "Omegatilde = 1.0\n",
    "Ftilde = 1.0\n",
>>>>>>> 67d09b76755c8e096134b16305778fa87b777bb8
    "# Start integrating using Euler-Cromer's method\n",
    "for i in range(n-1):\n",
    "    # Set up the acceleration\n",
    "    # Here you could have defined your own function for this\n",
    "    a =  -2*gamma*v[i]-x[i]+Ftilde*cos(t[i]*Omegatilde)\n",
    "    # update velocity, time and position\n",
    "    v[i+1] = v[i] + DeltaT*a\n",
    "    x[i+1] = x[i] + DeltaT*v[i+1]\n",
    "    t[i+1] = t[i] + DeltaT\n",
    "# Plot position as function of time    \n",
    "fig, ax = plt.subplots()\n",
    "ax.set_ylabel('x[m]')\n",
    "ax.set_xlabel('t[s]')\n",
    "ax.plot(t, x)\n",
    "fig.tight_layout()\n",
    "save_fig(\"ForcedBlockEulerCromer\")\n",
    "plt.show()"
   ]
  },
  {
   "cell_type": "markdown",
   "metadata": {},
   "source": [
    "In the above example we have focused on the Euler-Cromer method. This\n",
    "method has a local truncation error which is proportional to $\\Delta t^2$\n",
    "and thereby a global error which is proportional to $\\Delta t$.\n",
    "We can improve this by using the Runge-Kutta family of\n",
    "methods. The widely popular Runge-Kutta to fourth order or just **RK4**\n",
    "has indeed a much better truncation error. The RK4 method has a global\n",
    "error which is proportional to $\\Delta t$.\n",
    "\n",
    "Let us revisit this method and see how we can implement it for the above example.\n",
    "\n",
    "\n",
    "## Differential Equations, Runge-Kutta methods\n",
    "\n",
    "Runge-Kutta (RK) methods are based on Taylor expansion formulae, but yield\n",
    "in general better algorithms for solutions of an ordinary differential equation.\n",
    "The basic philosophy is that it provides an intermediate step in the computation of $y_{i+1}$.\n",
    "\n",
    "To see this, consider first the following definitions"
   ]
  },
  {
   "cell_type": "markdown",
   "metadata": {},
   "source": [
    "<!-- Equation labels as ordinary links -->\n",
    "<div id=\"_auto13\"></div>\n",
    "\n",
    "$$\n",
    "\\begin{equation}\n",
    "\\frac{dy}{dt}=f(t,y),  \n",
    "\\label{_auto13} \\tag{21}\n",
    "\\end{equation}\n",
    "$$"
   ]
  },
  {
   "cell_type": "markdown",
   "metadata": {},
   "source": [
    "and"
   ]
  },
  {
   "cell_type": "markdown",
   "metadata": {},
   "source": [
    "<!-- Equation labels as ordinary links -->\n",
    "<div id=\"_auto14\"></div>\n",
    "\n",
    "$$\n",
    "\\begin{equation}\n",
    "y(t)=\\int f(t,y) dt,  \n",
    "\\label{_auto14} \\tag{22}\n",
    "\\end{equation}\n",
    "$$"
   ]
  },
  {
   "cell_type": "markdown",
   "metadata": {},
   "source": [
    "and"
   ]
  },
  {
   "cell_type": "markdown",
   "metadata": {},
   "source": [
    "<!-- Equation labels as ordinary links -->\n",
    "<div id=\"_auto15\"></div>\n",
    "\n",
    "$$\n",
    "\\begin{equation}\n",
    "y_{i+1}=y_i+ \\int_{t_i}^{t_{i+1}} f(t,y) dt.\n",
    "\\label{_auto15} \\tag{23}\n",
    "\\end{equation}\n",
    "$$"
   ]
  },
  {
   "cell_type": "markdown",
   "metadata": {},
   "source": [
    "To demonstrate the philosophy behind RK methods, let us consider\n",
    "the second-order RK method, RK2.\n",
    "The first approximation consists in Taylor expanding $f(t,y)$\n",
    "around the center of the integration interval $t_i$ to $t_{i+1}$,\n",
    "that is, at $t_i+h/2$, $h$ being the step.\n",
    "Using the midpoint formula for an integral, \n",
    "defining $y(t_i+h/2) = y_{i+1/2}$ and   \n",
    "$t_i+h/2 = t_{i+1/2}$, we obtain"
   ]
  },
  {
   "cell_type": "markdown",
   "metadata": {},
   "source": [
    "<!-- Equation labels as ordinary links -->\n",
    "<div id=\"_auto16\"></div>\n",
    "\n",
    "$$\n",
    "\\begin{equation}\n",
    "\\int_{t_i}^{t_{i+1}} f(t,y) dt \\approx hf(t_{i+1/2},y_{i+1/2}) +O(h^3).\n",
    "\\label{_auto16} \\tag{24}\n",
    "\\end{equation}\n",
    "$$"
   ]
  },
  {
   "cell_type": "markdown",
   "metadata": {},
   "source": [
    "This means in turn that we have"
   ]
  },
  {
   "cell_type": "markdown",
   "metadata": {},
   "source": [
    "<!-- Equation labels as ordinary links -->\n",
    "<div id=\"_auto17\"></div>\n",
    "\n",
    "$$\n",
    "\\begin{equation}\n",
    "y_{i+1}=y_i + hf(t_{i+1/2},y_{i+1/2}) +O(h^3).\n",
    "\\label{_auto17} \\tag{25}\n",
    "\\end{equation}\n",
    "$$"
   ]
  },
  {
   "cell_type": "markdown",
   "metadata": {},
   "source": [
    "However, we do not know the value of   $y_{i+1/2}$. Here comes thus the next approximation, namely, we use Euler's\n",
    "method to approximate $y_{i+1/2}$. We have then"
   ]
  },
  {
   "cell_type": "markdown",
   "metadata": {},
   "source": [
    "<!-- Equation labels as ordinary links -->\n",
    "<div id=\"_auto18\"></div>\n",
    "\n",
    "$$\n",
    "\\begin{equation}\n",
    "y_{(i+1/2)}=y_i + \\frac{h}{2}\\frac{dy}{dt}=y(t_i) + \\frac{h}{2}f(t_i,y_i).\n",
    "\\label{_auto18} \\tag{26}\n",
    "\\end{equation}\n",
    "$$"
   ]
  },
  {
   "cell_type": "markdown",
   "metadata": {},
   "source": [
    "This means that we can define the following algorithm for \n",
    "the second-order Runge-Kutta method, RK2."
   ]
  },
  {
   "cell_type": "markdown",
   "metadata": {},
   "source": [
    "4\n",
    "6\n",
    " \n",
    "<\n",
    "<\n",
    "<\n",
    "!\n",
    "!\n",
    "M\n",
    "A\n",
    "T\n",
    "H\n",
    "_\n",
    "B\n",
    "L\n",
    "O\n",
    "C\n",
    "K"
   ]
  },
  {
   "cell_type": "markdown",
   "metadata": {},
   "source": [
    "<!-- Equation labels as ordinary links -->\n",
    "<div id=\"_auto20\"></div>\n",
    "\n",
    "$$\n",
    "\\begin{equation}\n",
    "k_2=hf(t_{i+1/2},y_i+k_1/2),\n",
    "\\label{_auto20} \\tag{28}\n",
    "\\end{equation}\n",
    "$$"
   ]
  },
  {
   "cell_type": "markdown",
   "metadata": {},
   "source": [
    "with the final value"
   ]
  },
  {
   "cell_type": "markdown",
   "metadata": {},
   "source": [
    "<!-- Equation labels as ordinary links -->\n",
    "<div id=\"_auto21\"></div>\n",
    "\n",
    "$$\n",
    "\\begin{equation} \n",
    "y_{i+i}\\approx y_i + k_2 +O(h^3). \n",
    "\\label{_auto21} \\tag{29}\n",
    "\\end{equation}\n",
    "$$"
   ]
  },
  {
   "cell_type": "markdown",
   "metadata": {},
   "source": [
    "The difference between the previous one-step methods \n",
    "is that we now need an intermediate step in our evaluation,\n",
    "namely $t_i+h/2 = t_{(i+1/2)}$ where we evaluate the derivative $f$. \n",
    "This involves more operations, but the gain is a better stability\n",
    "in the solution.\n",
    "\n",
    "The fourth-order Runge-Kutta, RK4, has the following algorithm"
   ]
  },
  {
   "cell_type": "markdown",
   "metadata": {},
   "source": [
    "4\n",
    "9\n",
    " \n",
    "<\n",
    "<\n",
    "<\n",
    "!\n",
    "!\n",
    "M\n",
    "A\n",
    "T\n",
    "H\n",
    "_\n",
    "B\n",
    "L\n",
    "O\n",
    "C\n",
    "K"
   ]
  },
  {
   "cell_type": "markdown",
   "metadata": {},
   "source": [
    "$$\n",
    "k_3=hf(t_i+h/2,y_i+k_2/2)\\hspace{0.5cm}   k_4=hf(t_i+h,y_i+k_3)\n",
    "$$"
   ]
  },
  {
   "cell_type": "markdown",
   "metadata": {},
   "source": [
    "with the final result"
   ]
  },
  {
   "cell_type": "markdown",
   "metadata": {},
   "source": [
    "$$\n",
    "y_{i+1}=y_i +\\frac{1}{6}\\left( k_1 +2k_2+2k_3+k_4\\right).\n",
    "$$"
   ]
  },
  {
   "cell_type": "markdown",
   "metadata": {},
   "source": [
    "Thus, the algorithm consists in first calculating $k_1$ \n",
    "with $t_i$, $y_1$ and $f$ as inputs. Thereafter, we increase the step\n",
    "size by $h/2$ and calculate $k_2$, then $k_3$ and finally $k_4$. The global error goes as $O(h^4)$.\n",
    "\n",
    "\n",
    "However, at this stage, if we keep adding different methods in our\n",
    "main program, the code will quickly become messy and ugly. Before we\n",
    "proceed thus, we will now introduce functions that enbody the various\n",
    "methods for solving differential equations. This means that we can\n",
    "separate out these methods in own functions and files (and later as classes and more\n",
    "generic functions) and simply call them when needed. Similarly, we\n",
    "could easily encapsulate various forces or other quantities of\n",
    "interest in terms of functions. To see this, let us bring up the code\n",
    "we developed above for the simple sliding block, but now only with the simple forward Euler method. We introduce\n",
    "two functions, one for the simple Euler method and one for the\n",
    "force.\n",
    "\n",
    "Note that here the forward Euler method does not know the specific force function to be called.\n",
    "It receives just an input the name. We can easily change the force by adding another function."
   ]
  },
  {
   "cell_type": "code",
   "execution_count": null,
   "metadata": {},
   "outputs": [],
   "source": [
    "def ForwardEuler(v,x,t,n,Force):\n",
    "    for i in range(n-1):\n",
    "        v[i+1] = v[i] + DeltaT*Force(v[i],x[i],t[i])\n",
    "        x[i+1] = x[i] + DeltaT*v[i]\n",
    "        t[i+1] = t[i] + DeltaT"
   ]
  },
  {
   "cell_type": "code",
   "execution_count": null,
   "metadata": {},
   "outputs": [],
   "source": [
    "def SpringForce(v,x,t):\n",
    "#   note here that we have divided by mass and we return the acceleration\n",
    "    return  -2*gamma*v-x+Ftilde*cos(t*Omegatilde)"
   ]
  },
  {
   "cell_type": "markdown",
   "metadata": {},
   "source": [
    "It is easy to add a new method like the Euler-Cromer"
   ]
  },
  {
   "cell_type": "code",
   "execution_count": null,
   "metadata": {},
   "outputs": [],
   "source": [
    "def ForwardEulerCromer(v,x,t,n,Force):\n",
    "    for i in range(n-1):\n",
    "        a = Force(v[i],x[i],t[i])\n",
    "        v[i+1] = v[i] + DeltaT*a\n",
    "        x[i+1] = x[i] + DeltaT*v[i+1]\n",
    "        t[i+1] = t[i] + DeltaT"
   ]
  },
  {
   "cell_type": "markdown",
   "metadata": {},
   "source": [
    "and the Velocity Verlet method (be careful with time-dependence here, it is not an ideal method for non-conservative forces))"
   ]
  },
  {
   "cell_type": "code",
   "execution_count": null,
   "metadata": {},
   "outputs": [],
   "source": [
    "def VelocityVerlet(v,x,t,n,Force):\n",
    "    for i in range(n-1):\n",
    "        a = Force(v[i],x[i],t[i])\n",
    "        x[i+1] = x[i] + DeltaT*v[i]+0.5*a\n",
    "        anew = Force(v[i],x[i+1],t[i+1])\n",
    "        v[i+1] = v[i] + 0.5*DeltaT*(a+anew)\n",
    "        t[i+1] = t[i] + DeltaT"
   ]
  },
  {
   "cell_type": "markdown",
   "metadata": {},
   "source": [
    "Finally, we can now add the Runge-Kutta2 method via a new function"
   ]
  },
  {
   "cell_type": "code",
   "execution_count": null,
   "metadata": {},
   "outputs": [],
   "source": [
    "def RK2(v,x,t,n,Force):\n",
    "    for i in range(n-1):\n",
    "# Setting up k1\n",
    "        k1x = DeltaT*v[i]\n",
    "        k1v = DeltaT*Force(v[i],x[i],t[i])\n",
    "# Setting up k2\n",
    "        vv = v[i]+k1v*0.5\n",
    "        xx = x[i]+k1x*0.5\n",
    "        k2x = DeltaT*vv\n",
    "        k2v = DeltaT*Force(vv,xx,t[i]+DeltaT*0.5)\n",
    "# Final result\n",
    "        x[i+1] = x[i]+k2x\n",
    "        v[i+1] = v[i]+k2v\n",
    "\tt[i+1] = t[i]+DeltaT"
   ]
  },
  {
   "cell_type": "markdown",
   "metadata": {},
   "source": [
    "Finally, we can now add the Runge-Kutta2 method via a new function"
   ]
  },
  {
   "cell_type": "code",
   "execution_count": null,
   "metadata": {},
   "outputs": [],
   "source": [
    "def RK4(v,x,t,n,Force):\n",
    "    for i in range(n-1):\n",
    "# Setting up k1\n",
    "        k1x = DeltaT*v[i]\n",
    "        k1v = DeltaT*Force(v[i],x[i],t[i])\n",
    "# Setting up k2\n",
    "        vv = v[i]+k1v*0.5\n",
    "        xx = x[i]+k1x*0.5\n",
    "        k2x = DeltaT*vv\n",
    "        k2v = DeltaT*Force(vv,xx,t[i]+DeltaT*0.5)\n",
    "# Setting up k3\n",
    "        vv = v[i]+k2v*0.5\n",
    "        xx = x[i]+k2x*0.5\n",
    "        k3x = DeltaT*vv\n",
    "        k3v = DeltaT*Force(vv,xx,t[i]+DeltaT*0.5)\n",
    "# Setting up k4\n",
    "        vv = v[i]+k3v\n",
    "        xx = x[i]+k3x\n",
    "        k4x = DeltaT*vv\n",
    "        k4v = DeltaT*Force(vv,xx,t[i]+DeltaT)\n",
    "# Final result\n",
    "        x[i+1] = x[i]+(k1x+2*k2x+2*k3x+k4x)/6.\n",
    "        v[i+1] = v[i]+(k1v+2*k2v+2*k3v+k4v)/6.\n",
    "        t[i+1] = t[i] + DeltaT"
   ]
  },
  {
   "cell_type": "markdown",
   "metadata": {},
   "source": [
    "The Runge-Kutta family of methods are particularly useful when we have a time-dependent acceleration.\n",
    "If we have forces which depend only the spatial degrees of freedom (no velocity and/or time-dependence), then energy conserving methods like the Velocity Verlet or the Euler-Cromer method are preferred. As soon as we introduce an explicit time-dependence and/or add dissipitave forces like friction or air resistance, then methods like the family of Runge-Kutta methods are well suited for this. \n",
    "The code below uses the Runge-Kutta4 methods."
   ]
  },
  {
   "cell_type": "code",
   "execution_count": null,
   "metadata": {},
   "outputs": [],
   "source": [
    "DeltaT = 0.001\n",
    "#set up arrays \n",
    "tfinal = 20 # in dimensionless time\n",
    "n = ceil(tfinal/DeltaT)\n",
    "# set up arrays for t, v, and x\n",
    "t = np.zeros(n)\n",
    "v = np.zeros(n)\n",
    "x = np.zeros(n)\n",
    "# Initial conditions (can change to more than one dim)\n",
    "x0 =  1.0 \n",
    "v0 = 0.0\n",
    "x[0] = x0\n",
    "v[0] = v0\n",
    "gamma = 0.2\n",
    "Omegatilde = 0.5\n",
    "Ftilde = 1.0\n",
    "# Start integrating using Euler's method\n",
    "# Note that we define the force function as a SpringForce\n",
    "RK4(v,x,t,n,SpringForce)\n",
    "\n",
    "# Plot position as function of time    \n",
    "fig, ax = plt.subplots()\n",
    "ax.set_ylabel('x[m]')\n",
    "ax.set_xlabel('t[s]')\n",
    "ax.plot(t, x)\n",
    "fig.tight_layout()\n",
    "save_fig(\"ForcedBlockRK4\")\n",
    "plt.show()"
   ]
  },
  {
   "cell_type": "markdown",
   "metadata": {},
   "source": [
    "<!-- !split  -->\n",
    "## Principle of Superposition and Periodic Forces (Fourier Transforms)\n",
    "\n",
    "If one has several driving forces, $F(t)=\\sum_n F_n(t)$, one can find\n",
    "the particular solution to each $F_n$, $x_{pn}(t)$, and the particular\n",
    "solution for the entire driving force is"
   ]
  },
  {
   "cell_type": "markdown",
   "metadata": {},
   "source": [
    "<!-- Equation labels as ordinary links -->\n",
    "<div id=\"_auto22\"></div>\n",
    "\n",
    "$$\n",
    "\\begin{equation}\n",
    "x_p(t)=\\sum_nx_{pn}(t).\n",
    "\\label{_auto22} \\tag{30}\n",
    "\\end{equation}\n",
    "$$"
   ]
  },
  {
   "cell_type": "markdown",
   "metadata": {},
   "source": [
    "This is known as the principal of superposition. It only applies when\n",
    "the homogenous equation is linear. If there were an anharmonic term\n",
    "such as $x^3$ in the homogenous equation, then when one summed various\n",
    "solutions, $x=(\\sum_n x_n)^2$, one would get cross\n",
    "terms. Superposition is especially useful when $F(t)$ can be written\n",
    "as a sum of sinusoidal terms, because the solutions for each\n",
    "sinusoidal (sine or cosine)  term is analytic, as we saw above.\n",
    "\n",
    "Driving forces are often periodic, even when they are not\n",
    "sinusoidal. Periodicity implies that for some time $\\tau$"
   ]
  },
  {
   "cell_type": "markdown",
   "metadata": {},
   "source": [
    "$$\n",
    "\\begin{eqnarray}\n",
    "F(t+\\tau)=F(t). \n",
    "\\end{eqnarray}\n",
    "$$"
   ]
  },
  {
   "cell_type": "markdown",
   "metadata": {},
   "source": [
    "One example of a non-sinusoidal periodic force is a square wave. Many\n",
    "components in electric circuits are non-linear, e.g. diodes, which\n",
    "makes many wave forms non-sinusoidal even when the circuits are being\n",
    "driven by purely sinusoidal sources.\n",
    "\n",
    "The code here shows a typical example of such a square wave generated using the functionality included in the **scipy** Python package. We have used a period of $\\tau=0.2$."
   ]
  },
  {
   "cell_type": "code",
   "execution_count": null,
   "metadata": {},
   "outputs": [],
   "source": [
    "import numpy as np\n",
    "import math\n",
    "from scipy import signal\n",
    "import matplotlib.pyplot as plt\n",
    "\n",
    "# number of points                                                                                       \n",
    "n = 500\n",
    "# start and final times                                                                                  \n",
    "t0 = 0.0\n",
    "tn = 1.0\n",
    "# Period                                                                                                 \n",
    "t = np.linspace(t0, tn, n, endpoint=False)\n",
    "SqrSignal = np.zeros(n)\n",
    "SqrSignal = 1.0+signal.square(2*np.pi*5*t)\n",
    "plt.plot(t, SqrSignal)\n",
    "plt.ylim(-0.5, 2.5)\n",
    "plt.show()"
   ]
  },
  {
   "cell_type": "markdown",
   "metadata": {},
   "source": [
    "For the sinusoidal example studied above the\n",
    "period is $\\tau=2\\pi/\\omega$. However, higher harmonics can also\n",
    "satisfy the periodicity requirement. In general, any force that\n",
    "satisfies the periodicity requirement can be expressed as a sum over\n",
    "harmonics,"
   ]
  },
  {
   "cell_type": "markdown",
   "metadata": {},
   "source": [
    "<!-- Equation labels as ordinary links -->\n",
    "<div id=\"_auto23\"></div>\n",
    "\n",
    "$$\n",
    "\\begin{equation}\n",
    "F(t)=\\frac{f_0}{2}+\\sum_{n>0} f_n\\cos(2n\\pi t/\\tau)+g_n\\sin(2n\\pi t/\\tau).\n",
    "\\label{_auto23} \\tag{31}\n",
    "\\end{equation}\n",
    "$$"
   ]
  },
  {
   "cell_type": "markdown",
   "metadata": {},
   "source": [
    "One can write down the answer for\n",
    "$x_{pn}(t)$, by substituting $f_n/m$ or $g_n/m$ for $F_0/m$ into Eq.s\n",
    "([16](#eq:fastdriven1)) or ([17](#eq:fastdriven2)) respectively. By\n",
    "writing each factor $2n\\pi t/\\tau$ as $n\\omega t$, with $\\omega\\equiv\n",
    "2\\pi/\\tau$,"
   ]
  },
  {
   "cell_type": "markdown",
   "metadata": {},
   "source": [
    "<!-- Equation labels as ordinary links -->\n",
    "<div id=\"eq:fourierdef1\"></div>\n",
    "\n",
    "$$\n",
    "\\begin{equation}\n",
    "\\label{eq:fourierdef1} \\tag{32}\n",
    "F(t)=\\frac{f_0}{2}+\\sum_{n>0}f_n\\cos(n\\omega t)+g_n\\sin(n\\omega t).\n",
    "\\end{equation}\n",
    "$$"
   ]
  },
  {
   "cell_type": "markdown",
   "metadata": {},
   "source": [
    "The solutions for $x(t)$ then come from replacing $\\omega$ with\n",
    "$n\\omega$ for each term in the particular solution in Equations\n",
    "([9](#eq:partform)) and ([12](#eq:Ddrive)),"
   ]
  },
  {
   "cell_type": "markdown",
   "metadata": {},
   "source": [
    "$$\n",
    "\\begin{eqnarray}\n",
    "x_p(t)&=&\\frac{f_0}{2k}+\\sum_{n>0} \\alpha_n\\cos(n\\omega t-\\delta_n)+\\beta_n\\sin(n\\omega t-\\delta_n),\\\\\n",
    "\\nonumber\n",
    "\\alpha_n&=&\\frac{f_n/m}{\\sqrt{((n\\omega)^2-\\omega_0^2)+4\\beta^2n^2\\omega^2}},\\\\\n",
    "\\nonumber\n",
    "\\beta_n&=&\\frac{g_n/m}{\\sqrt{((n\\omega)^2-\\omega_0^2)+4\\beta^2n^2\\omega^2}},\\\\\n",
    "\\nonumber\n",
    "\\delta_n&=&\\tan^{-1}\\left(\\frac{2\\beta n\\omega}{\\omega_0^2-n^2\\omega^2}\\right).\n",
    "\\end{eqnarray}\n",
    "$$"
   ]
  },
  {
   "cell_type": "markdown",
   "metadata": {},
   "source": [
    "Because the forces have been applied for a long time, any non-zero\n",
    "damping eliminates the homogenous parts of the solution, so one need\n",
    "only consider the particular solution for each $n$.\n",
    "\n",
    "The problem will considered solved if one can find expressions for the\n",
    "coefficients $f_n$ and $g_n$, even though the solutions are expressed\n",
    "as an infinite sum. The coefficients can be extracted from the\n",
    "function $F(t)$ by"
   ]
  },
  {
   "cell_type": "markdown",
   "metadata": {},
   "source": [
    "<!-- Equation labels as ordinary links -->\n",
    "<div id=\"eq:fourierdef2\"></div>\n",
    "\n",
    "$$\n",
    "\\begin{eqnarray}\n",
    "\\label{eq:fourierdef2} \\tag{33}\n",
    "f_n&=&\\frac{2}{\\tau}\\int_{-\\tau/2}^{\\tau/2} dt~F(t)\\cos(2n\\pi t/\\tau),\\\\\n",
    "\\nonumber\n",
    "g_n&=&\\frac{2}{\\tau}\\int_{-\\tau/2}^{\\tau/2} dt~F(t)\\sin(2n\\pi t/\\tau).\n",
    "\\end{eqnarray}\n",
    "$$"
   ]
  },
  {
   "cell_type": "markdown",
   "metadata": {},
   "source": [
    "To check the consistency of these expressions and to verify\n",
    "Eq. ([33](#eq:fourierdef2)), one can insert the expansion of $F(t)$ in\n",
    "Eq. ([32](#eq:fourierdef1)) into the expression for the coefficients in\n",
    "Eq. ([33](#eq:fourierdef2)) and see whether"
   ]
  },
  {
   "cell_type": "markdown",
   "metadata": {},
   "source": [
    "$$\n",
    "\\begin{eqnarray}\n",
    "f_n&=?&\\frac{2}{\\tau}\\int_{-\\tau/2}^{\\tau/2} dt~\\left\\{\n",
    "\\frac{f_0}{2}+\\sum_{m>0}f_m\\cos(m\\omega t)+g_m\\sin(m\\omega t)\n",
    "\\right\\}\\cos(n\\omega t).\n",
    "\\end{eqnarray}\n",
    "$$"
   ]
  },
  {
   "cell_type": "markdown",
   "metadata": {},
   "source": [
    "Immediately, one can throw away all the terms with $g_m$ because they\n",
    "convolute an even and an odd function. The term with $f_0/2$\n",
    "disappears because $\\cos(n\\omega t)$ is equally positive and negative\n",
    "over the interval and will integrate to zero. For all the terms\n",
    "$f_m\\cos(m\\omega t)$ appearing in the sum, one can use angle addition\n",
    "formulas to see that $\\cos(m\\omega t)\\cos(n\\omega\n",
    "t)=(1/2)(\\cos[(m+n)\\omega t]+\\cos[(m-n)\\omega t]$. This will integrate\n",
    "to zero unless $m=n$. In that case the $m=n$ term gives"
   ]
  },
  {
   "cell_type": "markdown",
   "metadata": {},
   "source": [
    "<!-- Equation labels as ordinary links -->\n",
    "<div id=\"_auto24\"></div>\n",
    "\n",
    "$$\n",
    "\\begin{equation}\n",
    "\\int_{-\\tau/2}^{\\tau/2}dt~\\cos^2(m\\omega t)=\\frac{\\tau}{2},\n",
    "\\label{_auto24} \\tag{34}\n",
    "\\end{equation}\n",
    "$$"
   ]
  },
  {
   "cell_type": "markdown",
   "metadata": {},
   "source": [
    "and"
   ]
  },
  {
   "cell_type": "markdown",
   "metadata": {},
   "source": [
    "$$\n",
    "\\begin{eqnarray}\n",
    "f_n&=?&\\frac{2}{\\tau}\\int_{-\\tau/2}^{\\tau/2} dt~f_n/2\\\\\n",
    "\\nonumber\n",
    "&=&f_n~\\checkmark.\n",
    "\\end{eqnarray}\n",
    "$$"
   ]
  },
  {
   "cell_type": "markdown",
   "metadata": {},
   "source": [
    "The same method can be used to check for the consistency of $g_n$.\n",
    "\n",
    "\n",
    "Consider the driving force:"
   ]
  },
  {
   "cell_type": "markdown",
   "metadata": {},
   "source": [
    "<!-- Equation labels as ordinary links -->\n",
    "<div id=\"_auto25\"></div>\n",
    "\n",
    "$$\n",
    "\\begin{equation}\n",
    "F(t)=At/\\tau,~~-\\tau/2<t<\\tau/2,~~~F(t+\\tau)=F(t).\n",
    "\\label{_auto25} \\tag{35}\n",
    "\\end{equation}\n",
    "$$"
   ]
  },
  {
   "cell_type": "markdown",
   "metadata": {},
   "source": [
    "Find the Fourier coefficients $f_n$ and $g_n$ for all $n$ using Eq. ([33](#eq:fourierdef2)).\n",
    "\n",
    "Only the odd coefficients enter by symmetry, i.e. $f_n=0$. One can find $g_n$ integrating by parts,"
   ]
  },
  {
   "cell_type": "markdown",
   "metadata": {},
   "source": [
    "<!-- Equation labels as ordinary links -->\n",
    "<div id=\"eq:fouriersolution\"></div>\n",
    "\n",
    "$$\n",
    "\\begin{eqnarray}\n",
    "\\label{eq:fouriersolution} \\tag{36}\n",
    "g_n&=&\\frac{2}{\\tau}\\int_{-\\tau/2}^{\\tau/2}dt~\\sin(n\\omega t) \\frac{At}{\\tau}\\\\\n",
    "\\nonumber\n",
    "u&=&t,~dv=\\sin(n\\omega t)dt,~v=-\\cos(n\\omega t)/(n\\omega),\\\\\n",
    "\\nonumber\n",
    "g_n&=&\\frac{-2A}{n\\omega \\tau^2}\\int_{-\\tau/2}^{\\tau/2}dt~\\cos(n\\omega t)\n",
    "+\\left.2A\\frac{-t\\cos(n\\omega t)}{n\\omega\\tau^2}\\right|_{-\\tau/2}^{\\tau/2}.\n",
    "\\end{eqnarray}\n",
    "$$"
   ]
  },
  {
   "cell_type": "markdown",
   "metadata": {},
   "source": [
    "The first term is zero because $\\cos(n\\omega t)$ will be equally\n",
    "positive and negative over the interval. Using the fact that\n",
    "$\\omega\\tau=2\\pi$,"
   ]
  },
  {
   "cell_type": "markdown",
   "metadata": {},
   "source": [
    "$$\n",
    "\\begin{eqnarray}\n",
    "g_n&=&-\\frac{2A}{2n\\pi}\\cos(n\\omega\\tau/2)\\\\\n",
    "\\nonumber\n",
    "&=&-\\frac{A}{n\\pi}\\cos(n\\pi)\\\\\n",
    "\\nonumber\n",
    "&=&\\frac{A}{n\\pi}(-1)^{n+1}.\n",
    "\\end{eqnarray}\n",
    "$$"
   ]
  },
  {
   "cell_type": "markdown",
   "metadata": {},
   "source": [
    "## Fourier Series\n",
    "\n",
    "More text will come here, chpater 5.7-5.8 of Taylor are discussed\n",
    "during the lectures. The code here uses the Fourier series discussed\n",
    "in chapter 5.7 for a square wave signal. The equations for the\n",
    "coefficients are are discussed in Taylor section 5.7, see Example\n",
    "5.4. The code here visualizes the various approximations given by\n",
    "Fourier series compared with a square wave with period $T=0.2$, witth\n",
    "$0.1$ and max value $F=2$. We see that when we increase the number of\n",
    "components in the Fourier series, the Fourier series approximation gets closes and closes to the square wave signal."
   ]
  },
  {
   "cell_type": "code",
   "execution_count": null,
   "metadata": {},
   "outputs": [],
   "source": [
    "import numpy as np\n",
    "import math\n",
    "from scipy import signal\n",
    "import matplotlib.pyplot as plt\n",
    "\n",
    "# number of points                                                                                       \n",
    "n = 500\n",
    "# start and final times                                                                                  \n",
    "t0 = 0.0\n",
    "tn = 1.0\n",
    "# Period                                                                                                 \n",
    "T =0.2\n",
    "# Max value of square signal                                                                             \n",
    "Fmax= 2.0\n",
    "# Width of signal                                                                                        \n",
    "Width = 0.1\n",
    "t = np.linspace(t0, tn, n, endpoint=False)\n",
    "SqrSignal = np.zeros(n)\n",
    "FourierSeriesSignal = np.zeros(n)\n",
    "SqrSignal = 1.0+signal.square(2*np.pi*5*t+np.pi*Width/T)\n",
    "a0 = Fmax*Width/T\n",
    "FourierSeriesSignal = a0\n",
    "Factor = 2.0*Fmax/np.pi\n",
    "for i in range(1,500):\n",
    "    FourierSeriesSignal += Factor/(i)*np.sin(np.pi*i*Width/T)*np.cos(i*t*2*np.pi/T)\n",
    "plt.plot(t, SqrSignal)\n",
    "plt.plot(t, FourierSeriesSignal)\n",
    "plt.ylim(-0.5, 2.5)\n",
    "plt.show()"
   ]
  }
 ],
 "metadata": {
  "kernelspec": {
   "display_name": "Python 3",
   "language": "python",
   "name": "python3"
  },
  "language_info": {
   "codemirror_mode": {
    "name": "ipython",
    "version": 3
   },
   "file_extension": ".py",
   "mimetype": "text/x-python",
   "name": "python",
   "nbconvert_exporter": "python",
   "pygments_lexer": "ipython3",
<<<<<<< HEAD
   "version": "3.8.5"
=======
   "version": "3.6.8"
>>>>>>> 67d09b76755c8e096134b16305778fa87b777bb8
  }
 },
 "nbformat": 4,
 "nbformat_minor": 4
}
