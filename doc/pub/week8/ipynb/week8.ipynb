{
 "cells": [
  {
   "cell_type": "markdown",
   "id": "0d187466",
   "metadata": {},
   "source": [
    "<!-- HTML file automatically generated from DocOnce source (https://github.com/doconce/doconce/)\n",
    "doconce format html week8.do.txt --no_mako -->\n",
    "<!-- dom:TITLE: PHY321: Harmonic Oscillations -->"
   ]
  },
  {
   "cell_type": "markdown",
   "id": "38995399",
   "metadata": {},
   "source": [
    "# PHY321: Harmonic Oscillations\n",
    "**Morten Hjorth-Jensen**, Department of Physics and Astronomy and Facility for Rare Ion Beams (FRIB), Michigan State University, USA and Department of Physics, University of Oslo, Norway\n",
    "\n",
    "Date: **Feb 25, 2022**\n",
    "\n",
    "Copyright 1999-2022, Morten Hjorth-Jensen. Released under CC Attribution-NonCommercial 4.0 license"
   ]
  },
  {
   "cell_type": "markdown",
   "id": "7271968b",
   "metadata": {},
   "source": [
    "## Aims and Overarching Motivation"
   ]
  },
  {
   "cell_type": "markdown",
   "id": "610d1bd5",
   "metadata": {},
   "source": [
    "### Monday February 21\n",
    "\n",
    "1. Harmonic oscillations, basic equations and formalism. [Video of Lecture](https://youtu.be/hdDXRG6quaY)\n",
    "\n",
    "2. [Handwritten notes](https://github.com/mhjensen/Physics321/blob/master/doc/HandWrittenNotes/Spring2022/NotesFebruary21.pdf)\n",
    "\n",
    "3. **Reading suggestions**: Taylor sections 5.1-5.2"
   ]
  },
  {
   "cell_type": "markdown",
   "id": "af8905f7",
   "metadata": {},
   "source": [
    "### Wednesday February 23\n",
    "\n",
    "1. Mathematical pendulum and harmonic oscillations, damped motion.\n",
    "\n",
    "2. **Reading suggestion**: Taylor sections 5.3-5.4."
   ]
  },
  {
   "cell_type": "markdown",
   "id": "48338433",
   "metadata": {},
   "source": [
    "### Friday February 25\n",
    "\n",
    "1. Discussion and work on first midterm, deadline for midterm Friday March 4.\n",
    "\n",
    "2. Next week we will use both Wednesday and Friday to discuss the midterm."
   ]
  },
  {
   "cell_type": "markdown",
   "id": "e65f4595",
   "metadata": {},
   "source": [
    "## Harmonic Oscillator\n",
    "\n",
    "The harmonic oscillator is omnipresent in physics. Although you may think \n",
    "of this as being related to springs, it, or an equivalent\n",
    "mathematical representation, appears in just about any problem where a\n",
    "mode is sitting near its potential energy minimum. At that point,\n",
    "$\\partial_x V(x)=0$, and the first non-zero term (aside from a\n",
    "constant) in the potential energy is that of a harmonic oscillator. In\n",
    "a solid, sound modes (phonons) are built on a picture of coupled\n",
    "harmonic oscillators, and in relativistic field theory the fundamental\n",
    "interactions are also built on coupled oscillators positioned\n",
    "infinitesimally close to one another in space. The phenomena of a\n",
    "resonance of an oscillator driven at a fixed frequency plays out\n",
    "repeatedly in atomic, nuclear and high-energy physics, when quantum\n",
    "mechanically the evolution of a state oscillates according to\n",
    "$e^{-iEt}$ and exciting discrete quantum states has very similar\n",
    "mathematics as exciting discrete states of an oscillator."
   ]
  },
  {
   "cell_type": "markdown",
   "id": "0593ac83",
   "metadata": {},
   "source": [
    "## Harmonic Oscillator, deriving the Equations\n",
    "\n",
    "The potential energy for a single particle as a function of its\n",
    "position $x$ can be written as a Taylor expansion about some point\n",
    "$b$ (we are considering a one-dimensional problem here)"
   ]
  },
  {
   "cell_type": "markdown",
   "id": "9051209c",
   "metadata": {},
   "source": [
    "<!-- Equation labels as ordinary links -->\n",
    "<div id=\"_auto1\"></div>\n",
    "\n",
    "$$\n",
    "\\begin{equation}\n",
    "V(x)=V(b)+(x-b)\\frac{dV(x)}{dx}\\vert_{b}+\\frac{1}{2!}(x-b)^2\\frac{d^2V(x)}{dx^2}\\vert_{b}\n",
    "+\\frac{1}{3!}(x-b)^3V(x)^{(3)}\\vert_{b}+\\cdots\n",
    "\\label{_auto1} \\tag{1}\n",
    "\\end{equation}\n",
    "$$"
   ]
  },
  {
   "cell_type": "markdown",
   "id": "2ab4ab3f",
   "metadata": {},
   "source": [
    "If the position $b$ is at the minimum of the resonance, the first two non-zero terms of the potential are"
   ]
  },
  {
   "cell_type": "markdown",
   "id": "30a050a2",
   "metadata": {},
   "source": [
    "<!-- Equation labels as ordinary links -->\n",
    "<div id=\"_auto2\"></div>\n",
    "\n",
    "$$\n",
    "\\begin{equation}\n",
    "V(x)\\approx V(b)+\\frac{1}{2!}(x-b)^2\\frac{d^2V(x)}{dx^2}\\vert_{b},\n",
    "\\label{_auto2} \\tag{2}\n",
    "\\end{equation}\n",
    "$$"
   ]
  },
  {
   "cell_type": "markdown",
   "id": "3d311ca3",
   "metadata": {},
   "source": [
    "$$\n",
    "\\nonumber\n",
    "=V(b)+\\frac{1}{2}k(x-b)^2,~~~~k\\equiv \\frac{d^2V(x)}{dx^2}\\vert_{b},\n",
    "$$"
   ]
  },
  {
   "cell_type": "markdown",
   "id": "75f1d71f",
   "metadata": {},
   "source": [
    "$$\n",
    "\\nonumber\n",
    "F=-\\frac{dV(x)}{dx}=-k(x-b).\n",
    "$$"
   ]
  },
  {
   "cell_type": "markdown",
   "id": "65318195",
   "metadata": {},
   "source": [
    "## Analyzing the equations\n",
    "\n",
    "Our equation of motion is, with the only force given by the one-dimensional spring force,"
   ]
  },
  {
   "cell_type": "markdown",
   "id": "a891a934",
   "metadata": {},
   "source": [
    "$$\n",
    "m\\frac{d^2x}{dt^2}=-kx.\n",
    "$$"
   ]
  },
  {
   "cell_type": "markdown",
   "id": "149732bc",
   "metadata": {},
   "source": [
    "Defining the natural frequency $\\omega_0^2=k/m$ we can rewrite this equation as"
   ]
  },
  {
   "cell_type": "markdown",
   "id": "6591100b",
   "metadata": {},
   "source": [
    "$$\n",
    "\\frac{d^2x}{dt^2}=-\\omega_0^2x.\n",
    "$$"
   ]
  },
  {
   "cell_type": "markdown",
   "id": "e13160ed",
   "metadata": {},
   "source": [
    "We call this a natural frequency since it is defined by the constants that describe our system, the spring constant $k$ and the mass $m$ of the object.\n",
    "\n",
    "We can as usual split this equation of motion into one equation for the derivative of the velocity and"
   ]
  },
  {
   "cell_type": "markdown",
   "id": "829fc5eb",
   "metadata": {},
   "source": [
    "$$\n",
    "\\frac{dv}{dt}=-\\omega_0^2x,\n",
    "$$"
   ]
  },
  {
   "cell_type": "markdown",
   "id": "703c8984",
   "metadata": {},
   "source": [
    "and"
   ]
  },
  {
   "cell_type": "markdown",
   "id": "c3ead96d",
   "metadata": {},
   "source": [
    "$$\n",
    "\\frac{dx}{dt}=v.\n",
    "$$"
   ]
  },
  {
   "cell_type": "markdown",
   "id": "f4231d58",
   "metadata": {},
   "source": [
    "The solution to the equations of motion is given by"
   ]
  },
  {
   "cell_type": "markdown",
   "id": "f6618b7f",
   "metadata": {},
   "source": [
    "$$\n",
    "x(t) = A\\cos{(\\omega_0 t)}+B\\sin{(\\omega_0 t)},\n",
    "$$"
   ]
  },
  {
   "cell_type": "markdown",
   "id": "dbf2fd1e",
   "metadata": {},
   "source": [
    "where $A$ and $B$ are in general complex constants to be determined by the initial conditions."
   ]
  },
  {
   "cell_type": "markdown",
   "id": "719674a8",
   "metadata": {},
   "source": [
    "## Checking the Solution\n",
    "\n",
    "Inserting the solution into the equation of motion we have"
   ]
  },
  {
   "cell_type": "markdown",
   "id": "247b05b2",
   "metadata": {},
   "source": [
    "$$\n",
    "\\frac{d^2x}{dt^2}=-\\omega_0^2x,\n",
    "$$"
   ]
  },
  {
   "cell_type": "markdown",
   "id": "3f308ee9",
   "metadata": {},
   "source": [
    "we have"
   ]
  },
  {
   "cell_type": "markdown",
   "id": "1d174530",
   "metadata": {},
   "source": [
    "$$\n",
    "\\frac{d^2x}{dt^2} = -A\\omega_0^2\\cos{(\\omega_0 t)}-B\\omega_0^2\\sin{(\\omega_0 t)},\n",
    "$$"
   ]
  },
  {
   "cell_type": "markdown",
   "id": "c73f4465",
   "metadata": {},
   "source": [
    "and the right-hand side is just $-\\omega_0^2 x(t)$. Thus, inserting the solution into the differential equation shows that we obtain the same original differential equation."
   ]
  },
  {
   "cell_type": "markdown",
   "id": "41cf65a5",
   "metadata": {},
   "source": [
    "## Initial condition example\n",
    "\n",
    "Let us assume that our initial time $t_0=0$s and that the initial position $x(t_0)=x_0$ and that $v_0=0$ (we skip units here).\n",
    "This gives us"
   ]
  },
  {
   "cell_type": "markdown",
   "id": "6bdaec7b",
   "metadata": {},
   "source": [
    "$$\n",
    "x(t=0) = x_0 =A,\n",
    "$$"
   ]
  },
  {
   "cell_type": "markdown",
   "id": "3672b0ba",
   "metadata": {},
   "source": [
    "and it leaves $B$ undetermined. Taking the derivative of $x$ we obtain the velocity"
   ]
  },
  {
   "cell_type": "markdown",
   "id": "8e437be4",
   "metadata": {},
   "source": [
    "$$\n",
    "v(t) = -A\\omega_0\\sin{(\\omega_0 t)}+B\\omega_0\\cos{(\\omega_0 t)},\n",
    "$$"
   ]
  },
  {
   "cell_type": "markdown",
   "id": "588ed866",
   "metadata": {},
   "source": [
    "and with"
   ]
  },
  {
   "cell_type": "markdown",
   "id": "9c5807d1",
   "metadata": {},
   "source": [
    "$$\n",
    "v(t=0) = 0=B,\n",
    "$$"
   ]
  },
  {
   "cell_type": "markdown",
   "id": "01c14f13",
   "metadata": {},
   "source": [
    "we see that our solution with these initial conditions becomes"
   ]
  },
  {
   "cell_type": "markdown",
   "id": "1b4f0c83",
   "metadata": {},
   "source": [
    "$$\n",
    "x(t) = x_0\\cos{(\\omega_0 t)}.\n",
    "$$"
   ]
  },
  {
   "cell_type": "markdown",
   "id": "918adb07",
   "metadata": {},
   "source": [
    "## Math Digression\n",
    "\n",
    "From our first homework (exercise 1) we have that (we switch to $\\omega$ instead of $\\omega_0$)"
   ]
  },
  {
   "cell_type": "markdown",
   "id": "c565e8de",
   "metadata": {},
   "source": [
    "$$\n",
    "\\cos{(\\omega t)} = \\sum_{n=0}^{\\infty}\\left(-1\\right)^n \\frac{(\\omega t)^{2n}}{(2n)!},\n",
    "$$"
   ]
  },
  {
   "cell_type": "markdown",
   "id": "2e7b0c97",
   "metadata": {},
   "source": [
    "and"
   ]
  },
  {
   "cell_type": "markdown",
   "id": "f43b6ae6",
   "metadata": {},
   "source": [
    "$$\n",
    "\\sin{(\\omega t)} = \\sum_{n=0}^{\\infty}\\left(-1\\right)^n \\frac{(\\omega t)^{2n+1}}{(2n+1)!},\n",
    "$$"
   ]
  },
  {
   "cell_type": "markdown",
   "id": "fe611249",
   "metadata": {},
   "source": [
    "and that we could  write"
   ]
  },
  {
   "cell_type": "markdown",
   "id": "6f5fc919",
   "metadata": {},
   "source": [
    "$$\n",
    "\\exp{(\\pm\\imath\\omega t)} = \\cos{(\\omega t)}+\\pm\\imath\\sin{(\\omega t)}.\n",
    "$$"
   ]
  },
  {
   "cell_type": "markdown",
   "id": "0deaad52",
   "metadata": {},
   "source": [
    "This means (show this) that we can write our solution in terms of new constant $C$ and $D$ as"
   ]
  },
  {
   "cell_type": "markdown",
   "id": "38938c29",
   "metadata": {},
   "source": [
    "$$\n",
    "x(t)=C\\exp{(\\imath\\omega t)}+D\\exp{(-\\imath\\omega t)}.\n",
    "$$"
   ]
  },
  {
   "cell_type": "markdown",
   "id": "c8a84b29",
   "metadata": {},
   "source": [
    "To see the relation between these two forms we note that we can write our original\n",
    "solution $x(t) = A\\cos{(\\omega t)}+B\\sin{(\\omega t)}$ as"
   ]
  },
  {
   "cell_type": "markdown",
   "id": "d9afcf13",
   "metadata": {},
   "source": [
    "$$\n",
    "x(t) = (C+D)\\cos{(\\omega t)}+\\imath(C-D)\\sin{(\\omega t)},\n",
    "$$"
   ]
  },
  {
   "cell_type": "markdown",
   "id": "1b7fa12d",
   "metadata": {},
   "source": [
    "meaning that we have $A=C+D$ and $B=\\imath(C-D)$."
   ]
  },
  {
   "cell_type": "markdown",
   "id": "53ad82b6",
   "metadata": {},
   "source": [
    "## More Math Manipulations\n",
    "\n",
    "We can also rewrite the solution in a simpler way.  We define a new\n",
    "constant $A=\\sqrt{B_1^2+B_2^2}$ which can be thought as the hypotenuse\n",
    "of a right-angle triangle with sides $B_1$ and $B_2$ and\n",
    "$B_1=A\\cos{(\\delta)}$ and $B_2=A\\sin{(\\delta)}$.\n",
    "\n",
    "We have then"
   ]
  },
  {
   "cell_type": "markdown",
   "id": "84d04914",
   "metadata": {},
   "source": [
    "$$\n",
    "x(t) = A\\left[\\frac{B_1}{A}\\cos{(\\omega t)}+\\frac{B_2}{A}\\sin{(\\omega t)}\\right],\n",
    "$$"
   ]
  },
  {
   "cell_type": "markdown",
   "id": "863d299c",
   "metadata": {},
   "source": [
    "which becomes"
   ]
  },
  {
   "cell_type": "markdown",
   "id": "794b3afb",
   "metadata": {},
   "source": [
    "$$\n",
    "x(t) = A\\left[\\cos{(\\delta)}\\cos{(\\omega t)}+\\sin{(\\delta)}\\sin{(\\omega t)}\\right],\n",
    "$$"
   ]
  },
  {
   "cell_type": "markdown",
   "id": "03057a51",
   "metadata": {},
   "source": [
    "and using the trigonometric relations for addition of angles we have"
   ]
  },
  {
   "cell_type": "markdown",
   "id": "85af3efd",
   "metadata": {},
   "source": [
    "$$\n",
    "x(t) = A\\cos{(\\omega t-\\delta)},\n",
    "$$"
   ]
  },
  {
   "cell_type": "markdown",
   "id": "7339376c",
   "metadata": {},
   "source": [
    "where $\\delta$ is a so-called phase shift."
   ]
  },
  {
   "cell_type": "markdown",
   "id": "3092f60d",
   "metadata": {},
   "source": [
    "## Energy Conservation\n",
    "\n",
    "Our energy is given by the kinetic energy and the harmonic oscillator potential energy, that is we have (for a one-dimensional harmonic oscillator potential)"
   ]
  },
  {
   "cell_type": "markdown",
   "id": "2ae3a442",
   "metadata": {},
   "source": [
    "$$\n",
    "E=\\frac{1}{2}mv^2+\\frac{1}{2}kx^2.\n",
    "$$"
   ]
  },
  {
   "cell_type": "markdown",
   "id": "62cf52d7",
   "metadata": {},
   "source": [
    "We assume that we have initial conditions $v_0=0$ (no kinetic energy) and $x(t=0)=x_0$.\n",
    "With these initial conditions we have"
   ]
  },
  {
   "cell_type": "markdown",
   "id": "84569005",
   "metadata": {},
   "source": [
    "$$\n",
    "x(t) = x_0\\cos{(\\omega_0 t)},\n",
    "$$"
   ]
  },
  {
   "cell_type": "markdown",
   "id": "58edf196",
   "metadata": {},
   "source": [
    "and the velocity is given by"
   ]
  },
  {
   "cell_type": "markdown",
   "id": "7a992257",
   "metadata": {},
   "source": [
    "$$\n",
    "v(t) = -x_0\\omega_0\\sin{(\\omega_0 t)},\n",
    "$$"
   ]
  },
  {
   "cell_type": "markdown",
   "id": "41c2932c",
   "metadata": {},
   "source": [
    "The energy is conserved (as we have discussed before) and at $t=t_0=0$ we have thus"
   ]
  },
  {
   "cell_type": "markdown",
   "id": "0290af55",
   "metadata": {},
   "source": [
    "$$\n",
    "E_0=\\frac{1}{2}kx_0^2.\n",
    "$$"
   ]
  },
  {
   "cell_type": "markdown",
   "id": "667ca747",
   "metadata": {},
   "source": [
    "At a time $t\\ne 0$ we have"
   ]
  },
  {
   "cell_type": "markdown",
   "id": "836684fe",
   "metadata": {},
   "source": [
    "$$\n",
    "E(t)=\\frac{1}{2}mv^2+\\frac{1}{2}kx^2=\\frac{1}{2}mx_0^2\\omega_0^2\\sin^2{(\\omega_0 t)}+\\frac{1}{2}kx_0^2\\cos^2{(\\omega_0 t)},\n",
    "$$"
   ]
  },
  {
   "cell_type": "markdown",
   "id": "7eba70eb",
   "metadata": {},
   "source": [
    "Recalling that $\\omega_0^2=k/m$ we get"
   ]
  },
  {
   "cell_type": "markdown",
   "id": "55f50552",
   "metadata": {},
   "source": [
    "$$\n",
    "E(t)=\\frac{1}{2}kx_0^2\\sin^2{(\\omega_0 t)}+\\frac{1}{2}kx_0^2\\cos^2{(\\omega_0 t)}=\\frac{1}{2}kx_0^2=E_0.\n",
    "$$"
   ]
  },
  {
   "cell_type": "markdown",
   "id": "81bb276d",
   "metadata": {},
   "source": [
    "Energy is thus conserved"
   ]
  },
  {
   "cell_type": "markdown",
   "id": "217abe85",
   "metadata": {},
   "source": [
    "## The mathematical pendulum\n",
    "\n",
    "**Note**: Figure to be inserted.\n",
    "\n",
    "We consider a pendulum of length $l$ attached to the roof.\n",
    "\n",
    "The pendulum consists of a rod and a small object attached to the rod. The mass of this object is $m$ and it is the motion of this object we are concerned with. The distance from the object to the roof is $\\boldsymbol{r}$ and we have $\\vert \\boldsymbol{r}\\vert =l$.\n",
    "\n",
    "The angle between the $y$-axis and the rod is $\\phi$. The forces at play are the gravitational force and a tension force from the rod to the object. The net for is"
   ]
  },
  {
   "cell_type": "markdown",
   "id": "1a3f25af",
   "metadata": {},
   "source": [
    "$$\n",
    "\\boldsymbol{F}^{\\mathrm{net}}=\\boldsymbol{T}+\\boldsymbol{G}=T\\sin{(\\phi)}\\boldsymbol{e}_1+T\\cos{(\\phi)}\\boldsymbol{e}_2-mg\\boldsymbol{e}_2,\n",
    "$$"
   ]
  },
  {
   "cell_type": "markdown",
   "id": "4fa3d2d7",
   "metadata": {},
   "source": [
    "and with"
   ]
  },
  {
   "cell_type": "markdown",
   "id": "77b1c5ae",
   "metadata": {},
   "source": [
    "$$\n",
    "\\boldsymbol{r}=l\\sin{(\\phi)}\\boldsymbol{e}_1+l\\cos{(\\phi)}\\boldsymbol{e}_2,\n",
    "$$"
   ]
  },
  {
   "cell_type": "markdown",
   "id": "29265915",
   "metadata": {},
   "source": [
    "the equation of motion becomes"
   ]
  },
  {
   "cell_type": "markdown",
   "id": "7c4518ba",
   "metadata": {},
   "source": [
    "$$\n",
    "m\\frac{d^2\\boldsymbol{r}}{dt^2}=\\boldsymbol{T}+\\boldsymbol{G}=T\\sin{(\\phi)}\\boldsymbol{e}_1+T\\cos{(\\phi)}\\boldsymbol{e}_2-mg\\boldsymbol{e}_2.\n",
    "$$"
   ]
  },
  {
   "cell_type": "markdown",
   "id": "b57e213e",
   "metadata": {},
   "source": [
    "## Finding the equations for the $x$- and $y$-directions\n",
    "\n",
    "Using the chain rule we can find the first derivative of $\\boldsymbol{r}$"
   ]
  },
  {
   "cell_type": "markdown",
   "id": "e061e3f0",
   "metadata": {},
   "source": [
    "$$\n",
    "\\frac{d\\boldsymbol{r}}{dt}=l\\frac{d\\phi}{dt}\\cos{(\\phi)}\\boldsymbol{e}_1-l\\frac{d\\phi}{dt}\\sin{(\\phi)}\\boldsymbol{e}_2,\n",
    "$$"
   ]
  },
  {
   "cell_type": "markdown",
   "id": "cb687cce",
   "metadata": {},
   "source": [
    "and thereafter the second derivative in the $x$-direction as"
   ]
  },
  {
   "cell_type": "markdown",
   "id": "cc5d926c",
   "metadata": {},
   "source": [
    "$$\n",
    "\\frac{d^2\\boldsymbol{r}}{dt^2}\\boldsymbol{e}_1=l\\frac{d^2\\phi}{dt^2}\\cos{(\\phi)}-l(\\frac{d\\phi}{dt})^2\\sin{(\\phi)},\n",
    "$$"
   ]
  },
  {
   "cell_type": "markdown",
   "id": "298d6e3f",
   "metadata": {},
   "source": [
    "and in the $y$ direction"
   ]
  },
  {
   "cell_type": "markdown",
   "id": "030605a5",
   "metadata": {},
   "source": [
    "$$\n",
    "\\frac{d^2\\boldsymbol{r}}{dt^2}\\boldsymbol{e}_2=-l\\frac{d^2\\phi}{dt^2}\\sin{(\\phi)}-l(\\frac{d\\phi}{dt})^2\\cos{(\\phi)}.\n",
    "$$"
   ]
  },
  {
   "cell_type": "markdown",
   "id": "4025e837",
   "metadata": {},
   "source": [
    "## Collecting terms\n",
    "\n",
    "We can now set up the equations of motion in the $x$ and $y$ directions and get for the $x$-direction"
   ]
  },
  {
   "cell_type": "markdown",
   "id": "5e6ac4d4",
   "metadata": {},
   "source": [
    "$$\n",
    "ml\\frac{d^2\\phi}{dt^2}\\cos{(\\phi)}-ml(\\frac{d\\phi}{dt})^2\\sin{(\\phi)}=T\\sin{(\\phi)},\n",
    "$$"
   ]
  },
  {
   "cell_type": "markdown",
   "id": "0995bfe8",
   "metadata": {},
   "source": [
    "and for the $y$-direction"
   ]
  },
  {
   "cell_type": "markdown",
   "id": "26b6f406",
   "metadata": {},
   "source": [
    "$$\n",
    "-ml\\frac{d^2\\phi}{dt^2}\\sin{(\\phi)}-ml(\\frac{d\\phi}{dt})^2\\cos{(\\phi)}=T\\cos{(\\phi)}-mg.\n",
    "$$"
   ]
  },
  {
   "cell_type": "markdown",
   "id": "137ab786",
   "metadata": {},
   "source": [
    "This looks ugly!\n",
    "\n",
    "Let us rewrite"
   ]
  },
  {
   "cell_type": "markdown",
   "id": "bd24b04b",
   "metadata": {},
   "source": [
    "$$\n",
    "ml\\frac{d^2\\phi}{dt^2}\\cos{(\\phi)}=\\left[ml(\\frac{d\\phi}{dt})^2+T\\right]\\sin{(\\phi)},\n",
    "$$"
   ]
  },
  {
   "cell_type": "markdown",
   "id": "29f6f494",
   "metadata": {},
   "source": [
    "and"
   ]
  },
  {
   "cell_type": "markdown",
   "id": "e9fa3912",
   "metadata": {},
   "source": [
    "$$\n",
    "-ml\\frac{d^2\\phi}{dt^2}\\sin{(\\phi)}+mg=\\left[ml(\\frac{d\\phi}{dt})^2+T\\cos{(\\phi)}\\right].\n",
    "$$"
   ]
  },
  {
   "cell_type": "markdown",
   "id": "a5e8a2b2",
   "metadata": {},
   "source": [
    "Still not so nice."
   ]
  },
  {
   "cell_type": "markdown",
   "id": "a87552ea",
   "metadata": {},
   "source": [
    "## Simple trick\n",
    "\n",
    "How can we simplify the above equations, rewritten here"
   ]
  },
  {
   "cell_type": "markdown",
   "id": "762c53f3",
   "metadata": {},
   "source": [
    "$$\n",
    "ml\\frac{d^2\\phi}{dt^2}\\cos{(\\phi)}=\\left[ml(\\frac{d\\phi}{dt})^2+T\\right]\\sin{(\\phi)},\n",
    "$$"
   ]
  },
  {
   "cell_type": "markdown",
   "id": "beff8ee7",
   "metadata": {},
   "source": [
    "and"
   ]
  },
  {
   "cell_type": "markdown",
   "id": "3e16cc64",
   "metadata": {},
   "source": [
    "$$\n",
    "-ml\\frac{d^2\\phi}{dt^2}\\sin{(\\phi)}+mg=\\left[ml(\\frac{d\\phi}{dt})^2+T\\right]\\cos{(\\phi)}.\n",
    "$$"
   ]
  },
  {
   "cell_type": "markdown",
   "id": "4f2610d5",
   "metadata": {},
   "source": [
    "We multiply the first equation with $\\cos\\phi$ and the second one with $\\sin\\phi$ and then subtract the two equations.\n",
    "We get then"
   ]
  },
  {
   "cell_type": "markdown",
   "id": "ff4b588c",
   "metadata": {},
   "source": [
    "$$\n",
    "-ml\\frac{d^2\\phi}{dt^2}(\\cos{(\\phi)})^2-ml\\frac{d^2\\phi}{dt^2}(\\sin{(\\phi)})^2+mg\\sin{(\\phi)}=0,\n",
    "$$"
   ]
  },
  {
   "cell_type": "markdown",
   "id": "c61977b8",
   "metadata": {},
   "source": [
    "leading to"
   ]
  },
  {
   "cell_type": "markdown",
   "id": "904dd81c",
   "metadata": {},
   "source": [
    "$$\n",
    "ml\\frac{d^2\\phi}{dt^2}=-mg\\sin{(\\phi)}.\n",
    "$$"
   ]
  },
  {
   "cell_type": "markdown",
   "id": "78e9c529",
   "metadata": {},
   "source": [
    "We are almost there."
   ]
  },
  {
   "cell_type": "markdown",
   "id": "0cda02b0",
   "metadata": {},
   "source": [
    "## Last step\n",
    "\n",
    "We divide by $m$ and $l$ and we have the famous non-linear in $\\phi$ (due to the sine function) equation for the pendulumn"
   ]
  },
  {
   "cell_type": "markdown",
   "id": "893dce74",
   "metadata": {},
   "source": [
    "$$\n",
    "\\frac{d^2\\phi}{dt^2}=-\\frac{g}{l}\\sin{(\\phi)}.\n",
    "$$"
   ]
  },
  {
   "cell_type": "markdown",
   "id": "a8f19c82",
   "metadata": {},
   "source": [
    "Introducing the natural frequency $\\omega_0^2=g/l$ we can rewrite the equation as"
   ]
  },
  {
   "cell_type": "markdown",
   "id": "22929031",
   "metadata": {},
   "source": [
    "$$\n",
    "\\frac{d^2\\phi}{dt^2}=-\\omega_0^2\\sin{(\\phi)}.\n",
    "$$"
   ]
  },
  {
   "cell_type": "markdown",
   "id": "a20ec6d2",
   "metadata": {},
   "source": [
    "If we now assume that the angle is very small, we can approximate $\\sin{(\\phi)}\\approx \\phi$ and we have essentially the same equation as we had for harmonic oscillations, that is"
   ]
  },
  {
   "cell_type": "markdown",
   "id": "913564a8",
   "metadata": {},
   "source": [
    "$$\n",
    "\\frac{d^2\\phi}{dt^2}=-\\omega_0^2\\phi.\n",
    "$$"
   ]
  },
  {
   "cell_type": "markdown",
   "id": "ebb613f5",
   "metadata": {},
   "source": [
    "The solution to this equation is again given by"
   ]
  },
  {
   "cell_type": "markdown",
   "id": "cfee1ad9",
   "metadata": {},
   "source": [
    "$$\n",
    "\\phi(t) = A\\cos{(\\omega_0 t)}+B\\sin{(\\omega_0 t)}.\n",
    "$$"
   ]
  },
  {
   "cell_type": "markdown",
   "id": "35b24d5a",
   "metadata": {},
   "source": [
    "For the general case, we have to resort to numerical solutions."
   ]
  },
  {
   "cell_type": "markdown",
   "id": "fab46de5",
   "metadata": {},
   "source": [
    "## Damped Oscillators\n",
    "\n",
    "We consider only the case where the damping force is proportional to\n",
    "the velocity. This is counter to dragging friction, where the force is\n",
    "proportional in strength to the normal force and independent of\n",
    "velocity, and is also inconsistent with wind resistance, where the\n",
    "magnitude of the drag force is proportional the square of the\n",
    "velocity. Rolling resistance does seem to be mainly proportional to\n",
    "the velocity. However, the main motivation for considering damping\n",
    "forces proportional to the velocity is that the math is more\n",
    "friendly. This is because the differential equation is linear,\n",
    "i.e. each term is of order $x$, $\\dot{x}$, $\\ddot{x}\\cdots$, or even\n",
    "terms with no mention of $x$, and there are no terms such as $x^2$ or\n",
    "$x\\ddot{x}$. The equations of motion for a spring with damping force\n",
    "$-b\\dot{x}$ are"
   ]
  },
  {
   "cell_type": "markdown",
   "id": "ae13b3bc",
   "metadata": {},
   "source": [
    "<!-- Equation labels as ordinary links -->\n",
    "<div id=\"_auto3\"></div>\n",
    "\n",
    "$$\n",
    "\\begin{equation}\n",
    "m\\ddot{x}+b\\dot{x}+kx=0.\n",
    "\\label{_auto3} \\tag{3}\n",
    "\\end{equation}\n",
    "$$"
   ]
  },
  {
   "cell_type": "markdown",
   "id": "067f4e6b",
   "metadata": {},
   "source": [
    "## Our Sliding Block Code\n",
    "Let us first study the numerical solution, thereafter we switch to the analytical analysis.\n",
    "\n",
    "We study first the case without additional friction term and scale our equation\n",
    "in terms of a dimensionless time $\\tau$.\n",
    "\n",
    "Let us remind ourselves about the differential equation we want to solve (the general case with damping due to friction)"
   ]
  },
  {
   "cell_type": "markdown",
   "id": "cf6619c1",
   "metadata": {},
   "source": [
    "$$\n",
    "m\\frac{d^2x}{dt^2} + b\\frac{dx}{dt}+kx(t) =0.\n",
    "$$"
   ]
  },
  {
   "cell_type": "markdown",
   "id": "1d096ef6",
   "metadata": {},
   "source": [
    "We divide by $m$ and introduce $\\omega_0^2=\\sqrt{k/m}$ and obtain"
   ]
  },
  {
   "cell_type": "markdown",
   "id": "ed760e1d",
   "metadata": {},
   "source": [
    "$$\n",
    "\\frac{d^2x}{dt^2} + \\frac{b}{m}\\frac{dx}{dt}+\\omega_0^2x(t) =0.\n",
    "$$"
   ]
  },
  {
   "cell_type": "markdown",
   "id": "5cdd4b29",
   "metadata": {},
   "source": [
    "## Harmonic Oscillator, Sliding Block\n",
    "\n",
    "Thereafter we introduce a dimensionless time $\\tau = t\\omega_0$ (check\n",
    "that the dimensionality is correct) and rewrite our equation as"
   ]
  },
  {
   "cell_type": "markdown",
   "id": "f8f216eb",
   "metadata": {},
   "source": [
    "$$\n",
    "\\frac{d^2x}{d\\tau^2} + \\frac{b}{m\\omega_0}\\frac{dx}{d\\tau}+x(\\tau) =0,\n",
    "$$"
   ]
  },
  {
   "cell_type": "markdown",
   "id": "b5a19a18",
   "metadata": {},
   "source": [
    "which gives us"
   ]
  },
  {
   "cell_type": "markdown",
   "id": "921c36ef",
   "metadata": {},
   "source": [
    "$$\n",
    "\\frac{d^2x}{d\\tau^2} + \\frac{b}{m\\omega_0}\\frac{dx}{d\\tau}+x(\\tau) =0.\n",
    "$$"
   ]
  },
  {
   "cell_type": "markdown",
   "id": "cc6157de",
   "metadata": {},
   "source": [
    "## Harmonic Oscillator, Sliding Block, Numerical Aspects\n",
    "\n",
    "We then define $\\gamma = b/(2m\\omega_0)$ and rewrite our equations as"
   ]
  },
  {
   "cell_type": "markdown",
   "id": "6f394cb4",
   "metadata": {},
   "source": [
    "$$\n",
    "\\frac{d^2x}{d\\tau^2} + 2\\gamma\\frac{dx}{d\\tau}+x(\\tau) =0.\n",
    "$$"
   ]
  },
  {
   "cell_type": "markdown",
   "id": "a60e09c8",
   "metadata": {},
   "source": [
    "This is the equation we will code below. The first version employs the Euler-Cromer method."
   ]
  },
  {
   "cell_type": "code",
   "execution_count": 4,
   "id": "8cd5bc5c",
   "metadata": {},
   "outputs": [
    {
     "data": {
      "image/png": "[encoded data removed]",
      "text/plain": [
       "<Figure size 576x396 with 1 Axes>"
      ]
     },
     "metadata": {},
     "output_type": "display_data"
    }
   ],
   "source": [
    "%matplotlib inline\n",
    "\n",
    "# Common imports\n",
    "import numpy as np\n",
    "import pandas as pd\n",
    "from math import *\n",
    "import matplotlib.pyplot as plt\n",
    "import os\n",
    "\n",
    "# Where to save the figures and data files\n",
    "PROJECT_ROOT_DIR = \"Results\"\n",
    "FIGURE_ID = \"Results/FigureFiles\"\n",
    "DATA_ID = \"DataFiles/\"\n",
    "\n",
    "if not os.path.exists(PROJECT_ROOT_DIR):\n",
    "    os.mkdir(PROJECT_ROOT_DIR)\n",
    "\n",
    "if not os.path.exists(FIGURE_ID):\n",
    "    os.makedirs(FIGURE_ID)\n",
    "\n",
    "if not os.path.exists(DATA_ID):\n",
    "    os.makedirs(DATA_ID)\n",
    "\n",
    "def image_path(fig_id):\n",
    "    return os.path.join(FIGURE_ID, fig_id)\n",
    "\n",
    "def data_path(dat_id):\n",
    "    return os.path.join(DATA_ID, dat_id)\n",
    "\n",
    "def save_fig(fig_id):\n",
    "    plt.savefig(image_path(fig_id) + \".png\", format='png')\n",
    "\n",
    "\n",
    "from pylab import plt, mpl\n",
    "plt.style.use('seaborn')\n",
    "mpl.rcParams['font.family'] = 'serif'\n",
    "\n",
    "DeltaT = 0.001\n",
    "#set up arrays \n",
    "tfinal = 30.0 # in dimensionless time\n",
    "n = ceil(tfinal/DeltaT)\n",
    "# set up arrays for t, v, and x\n",
    "t = np.zeros(n)\n",
    "v = np.zeros(n)\n",
    "x = np.zeros(n)\n",
    "# Initial conditions as simple one-dimensional arrays of time\n",
    "x0 =  0.1\n",
    "v0 = 0.5\n",
    "x[0] = x0\n",
    "v[0] = 0.5\n",
    "gamma = 0.0\n",
    "d = 0.1\n",
    "# Start integrating using Euler-Cromer's method\n",
    "for i in range(n-1):\n",
    "    # Set up the acceleration\n",
    "    # Here you could have defined your own function for this\n",
    "    a =  -4*x[i]*d*d*1.0\n",
    "#    a =  (4.0*x[i]**3-4*x[i]*d*d)*4\n",
    "    # update velocity, time and position\n",
    "    x[i+1] = x[i] + DeltaT*v[i]+DeltaT*DeltaT*0.5*a\n",
    "#    anew =  (1.0*x[i+1]**3-4*x[i+1]*d*d)*4\n",
    "    anew =  -4*x[i+1]*d*d*1.0\n",
    "    v[i+1] = v[i] + DeltaT*0.5*(a+anew)\n",
    "    t[i+1] = t[i] + DeltaT\n",
    "# Plot position as function of time    \n",
    "fig, ax = plt.subplots()\n",
    "#ax.set_xlim(0, tfinal)\n",
    "ax.set_ylabel('x[m]')\n",
    "ax.set_xlabel('t[s]')\n",
    "ax.plot(t, x)\n",
    "fig.tight_layout()\n",
    "save_fig(\"BlockEulerCromer\")\n",
    "plt.show()"
   ]
  },
  {
   "cell_type": "markdown",
   "id": "5ec6c58a",
   "metadata": {},
   "source": [
    "When setting up the value of $\\gamma$ we see that for $\\gamma=0$ we get the simple oscillatory motion with no damping.\n",
    "Choosing $\\gamma < 1$ leads to the classical underdamped case with oscillatory motion, but where the motion comes to an end.\n",
    "\n",
    "Choosing $\\gamma =1$ leads to what normally is called critical damping and $\\gamma> 1$ leads to critical overdamping.\n",
    "Try it out and try also to change the initial position and velocity. Setting $\\gamma=1$\n",
    "yields a situation, as discussed below in connection with the analytical solution, where the solution approaches quickly zero and does not oscillate. With zero initial velocity it will never cross zero."
   ]
  },
  {
   "cell_type": "markdown",
   "id": "c818d7d8",
   "metadata": {},
   "source": [
    "## Harmonic Oscillator,  Damping\n",
    "\n",
    "Let us now focus on the analytical solution.\n",
    "\n",
    "Just to make the solution a bit less messy, we rewrite this equation as"
   ]
  },
  {
   "cell_type": "markdown",
   "id": "78b6d62a",
   "metadata": {},
   "source": [
    "<!-- Equation labels as ordinary links -->\n",
    "<div id=\"eq:dampeddiffyq\"></div>\n",
    "\n",
    "$$\n",
    "\\begin{equation}\n",
    "\\label{eq:dampeddiffyq} \\tag{4}\n",
    "\\ddot{x}+2\\beta\\dot{x}+\\omega_0^2x=0,~~~~\\beta\\equiv b/2m,~\\omega_0\\equiv\\sqrt{k/m}.\n",
    "\\end{equation}\n",
    "$$"
   ]
  },
  {
   "cell_type": "markdown",
   "id": "9a32da56",
   "metadata": {},
   "source": [
    "Both $\\beta$ and $\\omega$ have dimensions of inverse time. To find solutions (see appendix C in the text) you must make an educated guess at the form of the solution. To do this, first realize that the solution will need an arbitrary normalization $A$ because the equation is linear. Secondly, realize that if the form is"
   ]
  },
  {
   "cell_type": "markdown",
   "id": "71dbaf3b",
   "metadata": {},
   "source": [
    "<!-- Equation labels as ordinary links -->\n",
    "<div id=\"_auto4\"></div>\n",
    "\n",
    "$$\n",
    "\\begin{equation}\n",
    "x=Ae^{rt}\n",
    "\\label{_auto4} \\tag{5}\n",
    "\\end{equation}\n",
    "$$"
   ]
  },
  {
   "cell_type": "markdown",
   "id": "267b01e1",
   "metadata": {},
   "source": [
    "that each derivative simply brings out an extra power of $r$. This\n",
    "means that the $Ae^{rt}$ factors out and one can simply solve for an\n",
    "equation for $r$. Plugging this form into Eq. ([4](#eq:dampeddiffyq)),"
   ]
  },
  {
   "cell_type": "markdown",
   "id": "7fe86199",
   "metadata": {},
   "source": [
    "<!-- Equation labels as ordinary links -->\n",
    "<div id=\"_auto5\"></div>\n",
    "\n",
    "$$\n",
    "\\begin{equation}\n",
    "r^2+2\\beta r+\\omega_0^2=0.\n",
    "\\label{_auto5} \\tag{6}\n",
    "\\end{equation}\n",
    "$$"
   ]
  },
  {
   "cell_type": "markdown",
   "id": "80907d65",
   "metadata": {},
   "source": [
    "## Harmonic Oscillator,  Solutions of Damped Motion\n",
    "\n",
    "Because this is a quadratic equation there will be two solutions,"
   ]
  },
  {
   "cell_type": "markdown",
   "id": "7380c7c5",
   "metadata": {},
   "source": [
    "<!-- Equation labels as ordinary links -->\n",
    "<div id=\"_auto6\"></div>\n",
    "\n",
    "$$\n",
    "\\begin{equation}\n",
    "r=-\\beta\\pm\\sqrt{\\beta^2-\\omega_0^2}.\n",
    "\\label{_auto6} \\tag{7}\n",
    "\\end{equation}\n",
    "$$"
   ]
  },
  {
   "cell_type": "markdown",
   "id": "6c1f0685",
   "metadata": {},
   "source": [
    "We refer to the two solutions as $r_1$ and $r_2$ corresponding to the\n",
    "$+$ and $-$ roots. As expected, there should be two arbitrary\n",
    "constants involved in the solution,"
   ]
  },
  {
   "cell_type": "markdown",
   "id": "7a51b3fb",
   "metadata": {},
   "source": [
    "<!-- Equation labels as ordinary links -->\n",
    "<div id=\"_auto7\"></div>\n",
    "\n",
    "$$\n",
    "\\begin{equation}\n",
    "x=A_1e^{r_1t}+A_2e^{r_2t},\n",
    "\\label{_auto7} \\tag{8}\n",
    "\\end{equation}\n",
    "$$"
   ]
  },
  {
   "cell_type": "markdown",
   "id": "d0f9a7fc",
   "metadata": {},
   "source": [
    "where the coefficients $A_1$ and $A_2$ are determined by initial\n",
    "conditions.\n",
    "\n",
    "The roots listed above, $\\sqrt{\\omega_0^2-\\beta_0^2}$, will be\n",
    "imaginary if the damping is small and $\\beta<\\omega_0$. In that case,\n",
    "$r$ is complex and the factor $e{rt}$ will have some oscillatory\n",
    "behavior. If the roots are real, there will only be exponentially\n",
    "decaying solutions. There are three cases:"
   ]
  },
  {
   "cell_type": "markdown",
   "id": "5d35cb92",
   "metadata": {},
   "source": [
    "## Underdamped: $\\beta<\\omega_0$"
   ]
  },
  {
   "cell_type": "markdown",
   "id": "8089a6b6",
   "metadata": {},
   "source": [
    "$$\n",
    "\\begin{eqnarray}\n",
    "x&=&A_1e^{-\\beta t}e^{i\\omega't}+A_2e^{-\\beta t}e^{-i\\omega't},~~\\omega'\\equiv\\sqrt{\\omega_0^2-\\beta^2}\\\\\n",
    "\\nonumber\n",
    "&=&(A_1+A_2)e^{-\\beta t}\\cos\\omega't+i(A_1-A_2)e^{-\\beta t}\\sin\\omega't.\n",
    "\\end{eqnarray}\n",
    "$$"
   ]
  },
  {
   "cell_type": "markdown",
   "id": "a6f0d20a",
   "metadata": {},
   "source": [
    "Here we have made use of the identity\n",
    "$e^{i\\omega't}=\\cos\\omega't+i\\sin\\omega't$. Because the constants are\n",
    "arbitrary, and because the real and imaginary parts are both solutions\n",
    "individually, we can simply consider the real part of the solution\n",
    "alone:"
   ]
  },
  {
   "cell_type": "markdown",
   "id": "bfec52f2",
   "metadata": {},
   "source": [
    "<!-- Equation labels as ordinary links -->\n",
    "<div id=\"eq:homogsolution\"></div>\n",
    "\n",
    "$$\n",
    "\\begin{eqnarray}\n",
    "\\label{eq:homogsolution} \\tag{9}\n",
    "x&=&B_1e^{-\\beta t}\\cos\\omega't+B_2e^{-\\beta t}\\sin\\omega't,\\\\\n",
    "\\nonumber \n",
    "\\omega'&\\equiv&\\sqrt{\\omega_0^2-\\beta^2}.\n",
    "\\end{eqnarray}\n",
    "$$"
   ]
  },
  {
   "cell_type": "markdown",
   "id": "5b8f870e",
   "metadata": {},
   "source": [
    "## Critical dampling: $\\beta=\\omega_0$\n",
    "\n",
    "In this case the two terms involving $r_1$ and $r_2$ are identical\n",
    "because $\\omega'=0$. Because we need to arbitrary constants, there\n",
    "needs to be another solution. This is found by simply guessing, or by\n",
    "taking the limit of $\\omega'\\rightarrow 0$ from the underdamped\n",
    "solution. The solution is then"
   ]
  },
  {
   "cell_type": "markdown",
   "id": "b5f25989",
   "metadata": {},
   "source": [
    "<!-- Equation labels as ordinary links -->\n",
    "<div id=\"eq:criticallydamped\"></div>\n",
    "\n",
    "$$\n",
    "\\begin{equation}\n",
    "\\label{eq:criticallydamped} \\tag{10}\n",
    "x=Ae^{-\\beta t}+Bte^{-\\beta t}.\n",
    "\\end{equation}\n",
    "$$"
   ]
  },
  {
   "cell_type": "markdown",
   "id": "94b153c9",
   "metadata": {},
   "source": [
    "The critically damped solution is interesting because the solution\n",
    "approaches zero quickly, but does not oscillate. For a problem with\n",
    "zero initial velocity, the solution never crosses zero. This is a good\n",
    "choice for designing shock absorbers or swinging doors."
   ]
  },
  {
   "cell_type": "markdown",
   "id": "7d5047f0",
   "metadata": {},
   "source": [
    "## Overdamped: $\\beta>\\omega_0$"
   ]
  },
  {
   "cell_type": "markdown",
   "id": "4dd763d1",
   "metadata": {},
   "source": [
    "$$\n",
    "\\begin{eqnarray}\n",
    "x&=&A_1\\exp{-(\\beta+\\sqrt{\\beta^2-\\omega_0^2})t}+A_2\\exp{-(\\beta-\\sqrt{\\beta^2-\\omega_0^2})t}\n",
    "\\end{eqnarray}\n",
    "$$"
   ]
  },
  {
   "cell_type": "markdown",
   "id": "a5c9167c",
   "metadata": {},
   "source": [
    "This solution will also never pass the origin more than once, and then\n",
    "only if the initial velocity is strong and initially toward zero.\n",
    "\n",
    "Given $b$, $m$ and $\\omega_0$, find $x(t)$ for a particle whose\n",
    "initial position is $x=0$ and has initial velocity $v_0$ (assuming an\n",
    "underdamped solution).\n",
    "\n",
    "The solution is of the form,"
   ]
  },
  {
   "cell_type": "markdown",
   "id": "62d98b14",
   "metadata": {},
   "source": [
    "$$\n",
    "\\begin{eqnarray*}\n",
    "x&=&e^{-\\beta t}\\left[A_1\\cos(\\omega' t)+A_2\\sin\\omega't\\right],\\\\\n",
    "\\dot{x}&=&-\\beta x+\\omega'e^{-\\beta t}\\left[-A_1\\sin\\omega't+A_2\\cos\\omega't\\right].\\\\\n",
    "\\omega'&\\equiv&\\sqrt{\\omega_0^2-\\beta^2},~~~\\beta\\equiv b/2m.\n",
    "\\end{eqnarray*}\n",
    "$$"
   ]
  },
  {
   "cell_type": "markdown",
   "id": "373a1420",
   "metadata": {},
   "source": [
    "From the initial conditions, $A_1=0$ because $x(0)=0$ and $\\omega'A_2=v_0$. So"
   ]
  },
  {
   "cell_type": "markdown",
   "id": "b310b364",
   "metadata": {},
   "source": [
    "$$\n",
    "x=\\frac{v_0}{\\omega'}e^{-\\beta t}\\sin\\omega't.\n",
    "$$"
   ]
  },
  {
   "cell_type": "markdown",
   "id": "4770ebad",
   "metadata": {},
   "source": [
    "## Sinusoidally Driven Oscillators\n",
    "\n",
    "Here, we consider the force"
   ]
  },
  {
   "cell_type": "markdown",
   "id": "95d147d7",
   "metadata": {},
   "source": [
    "<!-- Equation labels as ordinary links -->\n",
    "<div id=\"_auto8\"></div>\n",
    "\n",
    "$$\n",
    "\\begin{equation}\n",
    "F=-kx-b\\dot{x}+F_0\\cos\\omega t,\n",
    "\\label{_auto8} \\tag{11}\n",
    "\\end{equation}\n",
    "$$"
   ]
  },
  {
   "cell_type": "markdown",
   "id": "d4fe3246",
   "metadata": {},
   "source": [
    "which leads to the differential equation"
   ]
  },
  {
   "cell_type": "markdown",
   "id": "522a52da",
   "metadata": {},
   "source": [
    "<!-- Equation labels as ordinary links -->\n",
    "<div id=\"eq:drivenosc\"></div>\n",
    "\n",
    "$$\n",
    "\\begin{equation}\n",
    "\\label{eq:drivenosc} \\tag{12}\n",
    "\\ddot{x}+2\\beta\\dot{x}+\\omega_0^2x=(F_0/m)\\cos\\omega t.\n",
    "\\end{equation}\n",
    "$$"
   ]
  },
  {
   "cell_type": "markdown",
   "id": "c46b4347",
   "metadata": {},
   "source": [
    "## Harmonic Oscillator,  Solutions\n",
    "\n",
    "Consider a single solution with no arbitrary constants, which we will\n",
    "call a {\\it particular solution}, $x_p(t)$. It should be emphasized\n",
    "that this is {\\bf A} particular solution, because there exists an\n",
    "infinite number of such solutions because the general solution should\n",
    "have two arbitrary constants. Now consider solutions to the same\n",
    "equation without the driving term, which include two arbitrary\n",
    "constants. These are called either {\\it homogenous solutions} or {\\it\n",
    "complementary solutions}, and were given in the previous section,\n",
    "e.g. Eq. ([9](#eq:homogsolution)) for the underdamped case. The\n",
    "homogenous solution already incorporates the two arbitrary constants,\n",
    "so any sum of a homogenous solution and a particular solution will\n",
    "represent the {\\it general solution} of the equation. The general\n",
    "solution incorporates the two arbitrary constants $A$ and $B$ to\n",
    "accommodate the two initial conditions. One could have picked a\n",
    "different particular solution, i.e. the original particular solution\n",
    "plus any homogenous solution with the arbitrary constants $A_p$ and\n",
    "$B_p$ chosen at will. When one adds in the homogenous solution, which\n",
    "has adjustable constants with arbitrary constants $A'$ and $B'$, to\n",
    "the new particular solution, one can get the same general solution by\n",
    "simply adjusting the new constants such that $A'+A_p=A$ and\n",
    "$B'+B_p=B$. Thus, the choice of $A_p$ and $B_p$ are irrelevant, and\n",
    "when choosing the particular solution it is best to make the simplest\n",
    "choice possible."
   ]
  },
  {
   "cell_type": "markdown",
   "id": "ced05a5a",
   "metadata": {},
   "source": [
    "## Harmonic Oscillator,  Particular Solution\n",
    "\n",
    "To find a particular solution, one first guesses at the form,"
   ]
  },
  {
   "cell_type": "markdown",
   "id": "91d70a47",
   "metadata": {},
   "source": [
    "<!-- Equation labels as ordinary links -->\n",
    "<div id=\"eq:partform\"></div>\n",
    "\n",
    "$$\n",
    "\\begin{equation}\n",
    "\\label{eq:partform} \\tag{13}\n",
    "x_p(t)=D\\cos(\\omega t-\\delta),\n",
    "\\end{equation}\n",
    "$$"
   ]
  },
  {
   "cell_type": "markdown",
   "id": "59e2e105",
   "metadata": {},
   "source": [
    "and rewrite the differential equation as"
   ]
  },
  {
   "cell_type": "markdown",
   "id": "01e4a583",
   "metadata": {},
   "source": [
    "<!-- Equation labels as ordinary links -->\n",
    "<div id=\"_auto9\"></div>\n",
    "\n",
    "$$\n",
    "\\begin{equation}\n",
    "D\\left\\{-\\omega^2\\cos(\\omega t-\\delta)-2\\beta\\omega\\sin(\\omega t-\\delta)+\\omega_0^2\\cos(\\omega t-\\delta)\\right\\}=\\frac{F_0}{m}\\cos(\\omega t).\n",
    "\\label{_auto9} \\tag{14}\n",
    "\\end{equation}\n",
    "$$"
   ]
  },
  {
   "cell_type": "markdown",
   "id": "b1b68116",
   "metadata": {},
   "source": [
    "One can now use angle addition formulas to get"
   ]
  },
  {
   "cell_type": "markdown",
   "id": "bbdb7ae6",
   "metadata": {},
   "source": [
    "$$\n",
    "\\begin{eqnarray}\n",
    "D\\left\\{(-\\omega^2\\cos\\delta+2\\beta\\omega\\sin\\delta+\\omega_0^2\\cos\\delta)\\cos(\\omega t)\\right.&&\\\\\n",
    "\\nonumber\n",
    "\\left.+(-\\omega^2\\sin\\delta-2\\beta\\omega\\cos\\delta+\\omega_0^2\\sin\\delta)\\sin(\\omega t)\\right\\}\n",
    "&=&\\frac{F_0}{m}\\cos(\\omega t).\n",
    "\\end{eqnarray}\n",
    "$$"
   ]
  },
  {
   "cell_type": "markdown",
   "id": "8fa85a30",
   "metadata": {},
   "source": [
    "Both the $\\cos$ and $\\sin$ terms need to equate if the expression is to hold at all times. Thus, this becomes two equations"
   ]
  },
  {
   "cell_type": "markdown",
   "id": "e3ca9de8",
   "metadata": {},
   "source": [
    "$$\n",
    "\\begin{eqnarray}\n",
    "D\\left\\{-\\omega^2\\cos\\delta+2\\beta\\omega\\sin\\delta+\\omega_0^2\\cos\\delta\\right\\}&=&\\frac{F_0}{m}\\\\\n",
    "\\nonumber\n",
    "-\\omega^2\\sin\\delta-2\\beta\\omega\\cos\\delta+\\omega_0^2\\sin\\delta&=&0.\n",
    "\\end{eqnarray}\n",
    "$$"
   ]
  },
  {
   "cell_type": "markdown",
   "id": "ed2e1070",
   "metadata": {},
   "source": [
    "After dividing by $\\cos\\delta$, the lower expression leads to"
   ]
  },
  {
   "cell_type": "markdown",
   "id": "7e03d586",
   "metadata": {},
   "source": [
    "<!-- Equation labels as ordinary links -->\n",
    "<div id=\"_auto10\"></div>\n",
    "\n",
    "$$\n",
    "\\begin{equation}\n",
    "\\tan\\delta=\\frac{2\\beta\\omega}{\\omega_0^2-\\omega^2}.\n",
    "\\label{_auto10} \\tag{15}\n",
    "\\end{equation}\n",
    "$$"
   ]
  },
  {
   "cell_type": "markdown",
   "id": "0747ef2d",
   "metadata": {},
   "source": [
    "## Solving with Driven Oscillations\n",
    "\n",
    "Using the identities $\\tan^2+1=\\csc^2$ and $\\sin^2+\\cos^2=1$, one can also express $\\sin\\delta$ and $\\cos\\delta$,"
   ]
  },
  {
   "cell_type": "markdown",
   "id": "f23304a3",
   "metadata": {},
   "source": [
    "$$\n",
    "\\begin{eqnarray}\n",
    "\\sin\\delta&=&\\frac{2\\beta\\omega}{\\sqrt{(\\omega_0^2-\\omega^2)^2+4\\omega^2\\beta^2}},\\\\\n",
    "\\nonumber\n",
    "\\cos\\delta&=&\\frac{(\\omega_0^2-\\omega^2)}{\\sqrt{(\\omega_0^2-\\omega^2)^2+4\\omega^2\\beta^2}}\n",
    "\\end{eqnarray}\n",
    "$$"
   ]
  },
  {
   "cell_type": "markdown",
   "id": "f13b5bbe",
   "metadata": {},
   "source": [
    "Inserting the expressions for $\\cos\\delta$ and $\\sin\\delta$ into the expression for $D$,"
   ]
  },
  {
   "cell_type": "markdown",
   "id": "19cd0b09",
   "metadata": {},
   "source": [
    "<!-- Equation labels as ordinary links -->\n",
    "<div id=\"eq:Ddrive\"></div>\n",
    "\n",
    "$$\n",
    "\\begin{equation}\n",
    "\\label{eq:Ddrive} \\tag{16}\n",
    "D=\\frac{F_0/m}{\\sqrt{(\\omega_0^2-\\omega^2)^2+4\\omega^2\\beta^2}}.\n",
    "\\end{equation}\n",
    "$$"
   ]
  },
  {
   "cell_type": "markdown",
   "id": "842c54db",
   "metadata": {},
   "source": [
    "For a given initial condition, e.g. initial displacement and velocity,\n",
    "one must add the homogenous solution then solve for the two arbitrary\n",
    "constants. However, because the homogenous solutions decay with time\n",
    "as $e^{-\\beta t}$, the particular solution is all that remains at\n",
    "large times, and is therefore the steady state solution. Because the\n",
    "arbitrary constants are all in the homogenous solution, all memory of\n",
    "the initial conditions are lost at large times, $t>>1/\\beta$.\n",
    "\n",
    "The amplitude of the motion, $D$, is linearly proportional to the\n",
    "driving force ($F_0/m$), but also depends on the driving frequency\n",
    "$\\omega$. For small $\\beta$ the maximum will occur at\n",
    "$\\omega=\\omega_0$. This is referred to as a resonance. In the limit\n",
    "$\\beta\\rightarrow 0$ the amplitude at resonance approaches infinity."
   ]
  },
  {
   "cell_type": "markdown",
   "id": "1de8d650",
   "metadata": {},
   "source": [
    "## Alternative Derivation for Driven Oscillators\n",
    "\n",
    "Here, we derive the same expressions as in Equations ([13](#eq:partform)) and ([16](#eq:Ddrive)) but express the driving forces as"
   ]
  },
  {
   "cell_type": "markdown",
   "id": "8f42159d",
   "metadata": {},
   "source": [
    "$$\n",
    "\\begin{eqnarray}\n",
    "F(t)&=&F_0e^{i\\omega t},\n",
    "\\end{eqnarray}\n",
    "$$"
   ]
  },
  {
   "cell_type": "markdown",
   "id": "284b69bc",
   "metadata": {},
   "source": [
    "rather than as $F_0\\cos\\omega t$. The real part of $F$ is the same as before. For the differential equation,"
   ]
  },
  {
   "cell_type": "markdown",
   "id": "b2764714",
   "metadata": {},
   "source": [
    "<!-- Equation labels as ordinary links -->\n",
    "<div id=\"eq:compdrive\"></div>\n",
    "\n",
    "$$\n",
    "\\begin{eqnarray}\n",
    "\\label{eq:compdrive} \\tag{17}\n",
    "\\ddot{x}+2\\beta\\dot{x}+\\omega_0^2x&=&\\frac{F_0}{m}e^{i\\omega t},\n",
    "\\end{eqnarray}\n",
    "$$"
   ]
  },
  {
   "cell_type": "markdown",
   "id": "41b9f52e",
   "metadata": {},
   "source": [
    "one can treat $x(t)$ as an imaginary function. Because the operations\n",
    "$d^2/dt^2$ and $d/dt$ are real and thus do not mix the real and\n",
    "imaginary parts of $x(t)$, Eq. ([17](#eq:compdrive)) is effectively 2\n",
    "equations. Because $e^{\\omega t}=\\cos\\omega t+i\\sin\\omega t$, the real\n",
    "part of the solution for $x(t)$ gives the solution for a driving force\n",
    "$F_0\\cos\\omega t$, and the imaginary part of $x$ corresponds to the\n",
    "case where the driving force is $F_0\\sin\\omega t$. It is rather easy\n",
    "to solve for the complex $x$ in this case, and by taking the real part\n",
    "of the solution, one finds the answer for the $\\cos\\omega t$ driving\n",
    "force.\n",
    "\n",
    "We assume a simple form for the particular solution"
   ]
  },
  {
   "cell_type": "markdown",
   "id": "575e4ff0",
   "metadata": {},
   "source": [
    "<!-- Equation labels as ordinary links -->\n",
    "<div id=\"_auto11\"></div>\n",
    "\n",
    "$$\n",
    "\\begin{equation}\n",
    "x_p=De^{i\\omega t},\n",
    "\\label{_auto11} \\tag{18}\n",
    "\\end{equation}\n",
    "$$"
   ]
  },
  {
   "cell_type": "markdown",
   "id": "d9a0956c",
   "metadata": {},
   "source": [
    "where $D$ is a complex constant.\n",
    "\n",
    "From Eq. ([17](#eq:compdrive)) one inserts the form for $x_p$ above to get"
   ]
  },
  {
   "cell_type": "markdown",
   "id": "6cc26276",
   "metadata": {},
   "source": [
    "$$\n",
    "\\begin{eqnarray}\n",
    "D\\left\\{-\\omega^2+2i\\beta\\omega+\\omega_0^2\\right\\}e^{i\\omega t}=(F_0/m)e^{i\\omega t},\\\\\n",
    "\\nonumber\n",
    "D=\\frac{F_0/m}{(\\omega_0^2-\\omega^2)+2i\\beta\\omega}.\n",
    "\\end{eqnarray}\n",
    "$$"
   ]
  },
  {
   "cell_type": "markdown",
   "id": "c2e60806",
   "metadata": {},
   "source": [
    "The norm and phase for $D=|D|e^{-i\\delta}$ can be read by inspection,"
   ]
  },
  {
   "cell_type": "markdown",
   "id": "e92fbcf5",
   "metadata": {},
   "source": [
    "<!-- Equation labels as ordinary links -->\n",
    "<div id=\"_auto12\"></div>\n",
    "\n",
    "$$\n",
    "\\begin{equation}\n",
    "|D|=\\frac{F_0/m}{\\sqrt{(\\omega_0^2-\\omega^2)^2+4\\beta^2\\omega^2}},~~~~\\tan\\delta=\\frac{2\\beta\\omega}{\\omega_0^2-\\omega^2}.\n",
    "\\label{_auto12} \\tag{19}\n",
    "\\end{equation}\n",
    "$$"
   ]
  },
  {
   "cell_type": "markdown",
   "id": "174e0810",
   "metadata": {},
   "source": [
    "This is the same expression for $\\delta$ as before. One then finds $x_p(t)$,"
   ]
  },
  {
   "cell_type": "markdown",
   "id": "eca19423",
   "metadata": {},
   "source": [
    "<!-- Equation labels as ordinary links -->\n",
    "<div id=\"eq:fastdriven1\"></div>\n",
    "\n",
    "$$\n",
    "\\begin{eqnarray}\n",
    "\\label{eq:fastdriven1} \\tag{20}\n",
    "x_p(t)&=&\\Re\\frac{(F_0/m)e^{i\\omega t-i\\delta}}{\\sqrt{(\\omega_0^2-\\omega^2)^2+4\\beta^2\\omega^2}}\\\\\n",
    "\\nonumber\n",
    "&=&\\frac{(F_0/m)\\cos(\\omega t-\\delta)}{\\sqrt{(\\omega_0^2-\\omega^2)^2+4\\beta^2\\omega^2}}.\n",
    "\\end{eqnarray}\n",
    "$$"
   ]
  },
  {
   "cell_type": "markdown",
   "id": "6747b57e",
   "metadata": {},
   "source": [
    "This is the same answer as before.\n",
    "If one wished to solve for the case where $F(t)= F_0\\sin\\omega t$, the imaginary part of the solution would work"
   ]
  },
  {
   "cell_type": "markdown",
   "id": "5a4bf713",
   "metadata": {},
   "source": [
    "<!-- Equation labels as ordinary links -->\n",
    "<div id=\"eq:fastdriven2\"></div>\n",
    "\n",
    "$$\n",
    "\\begin{eqnarray}\n",
    "\\label{eq:fastdriven2} \\tag{21}\n",
    "x_p(t)&=&\\Im\\frac{(F_0/m)e^{i\\omega t-i\\delta}}{\\sqrt{(\\omega_0^2-\\omega^2)^2+4\\beta^2\\omega^2}}\\\\\n",
    "\\nonumber\n",
    "&=&\\frac{(F_0/m)\\sin(\\omega t-\\delta)}{\\sqrt{(\\omega_0^2-\\omega^2)^2+4\\beta^2\\omega^2}}.\n",
    "\\end{eqnarray}\n",
    "$$"
   ]
  },
  {
   "cell_type": "markdown",
   "id": "d87df595",
   "metadata": {},
   "source": [
    "## Damped and Driven Oscillator\n",
    "\n",
    "Consider the damped and driven harmonic oscillator worked out above. Given $F_0, m,\\beta$ and $\\omega_0$, solve for the complete solution $x(t)$ for the case where $F=F_0\\sin\\omega t$ with initial conditions $x(t=0)=0$ and $v(t=0)=0$. Assume the underdamped case.\n",
    "\n",
    "The general solution including the arbitrary constants includes both the homogenous and particular solutions,"
   ]
  },
  {
   "cell_type": "markdown",
   "id": "72458464",
   "metadata": {},
   "source": [
    "$$\n",
    "\\begin{eqnarray*}\n",
    "x(t)&=&\\frac{F_0}{m}\\frac{\\sin(\\omega t-\\delta)}{\\sqrt{(\\omega_0^2-\\omega^2)^2+4\\beta^2\\omega^2}}\n",
    "+A\\cos\\omega't e^{-\\beta t}+B\\sin\\omega't e^{-\\beta t}.\n",
    "\\end{eqnarray*}\n",
    "$$"
   ]
  },
  {
   "cell_type": "markdown",
   "id": "7821f3c4",
   "metadata": {},
   "source": [
    "The quantities $\\delta$ and $\\omega'$ are given earlier in the\n",
    "section, $\\omega'=\\sqrt{\\omega_0^2-\\beta^2},\n",
    "\\delta=\\tan^{-1}(2\\beta\\omega/(\\omega_0^2-\\omega^2)$. Here, solving\n",
    "the problem means finding the arbitrary constants $A$ and\n",
    "$B$. Satisfying the initial conditions for the initial position and\n",
    "velocity:"
   ]
  },
  {
   "cell_type": "markdown",
   "id": "a68b147d",
   "metadata": {},
   "source": [
    "$$\n",
    "\\begin{eqnarray*}\n",
    "x(t=0)=0&=&-\\eta\\sin\\delta+A,\\\\\n",
    "v(t=0)=0&=&\\omega\\eta\\cos\\delta-\\beta A+\\omega'B,\\\\\n",
    "\\eta&\\equiv&\\frac{F_0}{m}\\frac{1}{\\sqrt{(\\omega_0^2-\\omega^2)^2+4\\beta^2\\omega^2}}.\n",
    "\\end{eqnarray*}\n",
    "$$"
   ]
  },
  {
   "cell_type": "markdown",
   "id": "a50a1219",
   "metadata": {},
   "source": [
    "The problem is now reduced to 2 equations and 2 unknowns, $A$ and $B$. The solution is"
   ]
  },
  {
   "cell_type": "markdown",
   "id": "3d32fde3",
   "metadata": {},
   "source": [
    "$$\n",
    "\\begin{eqnarray}\n",
    "A&=& \\eta\\sin\\delta ,~~~B=\\frac{-\\omega\\eta\\cos\\delta+\\beta\\eta\\sin\\delta}{\\omega'}.\n",
    "\\end{eqnarray}\n",
    "$$"
   ]
  },
  {
   "cell_type": "markdown",
   "id": "bc07f7e4",
   "metadata": {},
   "source": [
    "## Resonance Widths; the $Q$ factor\n",
    "\n",
    "From the previous two sections, the particular solution for a driving force, $F=F_0\\cos\\omega t$, is"
   ]
  },
  {
   "cell_type": "markdown",
   "id": "6e30f4c8",
   "metadata": {},
   "source": [
    "$$\n",
    "\\begin{eqnarray}\n",
    "x_p(t)&=&\\frac{F_0/m}{\\sqrt{(\\omega_0^2-\\omega^2)^2+4\\omega^2\\beta^2}}\\cos(\\omega_t-\\delta),\\\\\n",
    "\\nonumber\n",
    "\\delta&=&\\tan^{-1}\\left(\\frac{2\\beta\\omega}{\\omega_0^2-\\omega^2}\\right).\n",
    "\\end{eqnarray}\n",
    "$$"
   ]
  },
  {
   "cell_type": "markdown",
   "id": "3410310f",
   "metadata": {},
   "source": [
    "If one fixes the driving frequency $\\omega$ and adjusts the\n",
    "fundamental frequency $\\omega_0=\\sqrt{k/m}$, the maximum amplitude\n",
    "occurs when $\\omega_0=\\omega$ because that is when the term from the\n",
    "denominator $(\\omega_0^2-\\omega^2)^2+4\\omega^2\\beta^2$ is at a\n",
    "minimum. This is akin to dialing into a radio station. However, if one\n",
    "fixes $\\omega_0$ and adjusts the driving frequency one minimize with\n",
    "respect to $\\omega$, e.g. set"
   ]
  },
  {
   "cell_type": "markdown",
   "id": "260581fa",
   "metadata": {},
   "source": [
    "<!-- Equation labels as ordinary links -->\n",
    "<div id=\"_auto13\"></div>\n",
    "\n",
    "$$\n",
    "\\begin{equation}\n",
    "\\frac{d}{d\\omega}\\left[(\\omega_0^2-\\omega^2)^2+4\\omega^2\\beta^2\\right]=0,\n",
    "\\label{_auto13} \\tag{22}\n",
    "\\end{equation}\n",
    "$$"
   ]
  },
  {
   "cell_type": "markdown",
   "id": "d3a2c69a",
   "metadata": {},
   "source": [
    "and one finds that the maximum amplitude occurs when\n",
    "$\\omega=\\sqrt{\\omega_0^2-2\\beta^2}$. If $\\beta$ is small relative to\n",
    "$\\omega_0$, one can simply state that the maximum amplitude is"
   ]
  },
  {
   "cell_type": "markdown",
   "id": "38ffccd2",
   "metadata": {},
   "source": [
    "<!-- Equation labels as ordinary links -->\n",
    "<div id=\"_auto14\"></div>\n",
    "\n",
    "$$\n",
    "\\begin{equation}\n",
    "x_{\\rm max}\\approx\\frac{F_0}{2m\\beta \\omega_0}.\n",
    "\\label{_auto14} \\tag{23}\n",
    "\\end{equation}\n",
    "$$"
   ]
  },
  {
   "cell_type": "markdown",
   "id": "231d17cd",
   "metadata": {},
   "source": [
    "$$\n",
    "\\begin{eqnarray}\n",
    "\\frac{4\\omega^2\\beta^2}{(\\omega_0^2-\\omega^2)^2+4\\omega^2\\beta^2}=\\frac{1}{2}.\n",
    "\\end{eqnarray}\n",
    "$$"
   ]
  },
  {
   "cell_type": "markdown",
   "id": "11db43d5",
   "metadata": {},
   "source": [
    "For small damping this occurs when $\\omega=\\omega_0\\pm \\beta$, so the $FWHM\\approx 2\\beta$. For the purposes of tuning to a specific frequency, one wants the width to be as small as possible. The ratio of $\\omega_0$ to $FWHM$ is known as the {\\it quality} factor, or $Q$ factor,"
   ]
  },
  {
   "cell_type": "markdown",
   "id": "f1c53b97",
   "metadata": {},
   "source": [
    "<!-- Equation labels as ordinary links -->\n",
    "<div id=\"_auto15\"></div>\n",
    "\n",
    "$$\n",
    "\\begin{equation}\n",
    "Q\\equiv \\frac{\\omega_0}{2\\beta}.\n",
    "\\label{_auto15} \\tag{24}\n",
    "\\end{equation}\n",
    "$$"
   ]
  }
 ],
 "metadata": {
  "kernelspec": {
   "display_name": "Python 3 (ipykernel)",
   "language": "python",
   "name": "python3"
  },
  "language_info": {
   "codemirror_mode": {
    "name": "ipython",
    "version": 3
   },
   "file_extension": ".py",
   "mimetype": "text/x-python",
   "name": "python",
   "nbconvert_exporter": "python",
   "pygments_lexer": "ipython3",
   "version": "3.9.10"
  }
 },
 "nbformat": 4,
 "nbformat_minor": 5
}
