{
 "cells": [
  {
   "cell_type": "markdown",
   "id": "5aa15f66",
   "metadata": {
    "editable": true
   },
   "source": [
    "<!-- HTML file automatically generated from DocOnce source (https://github.com/doconce/doconce/)\n",
    "doconce format html week8.do.txt --no_mako -->\n",
    "<!-- dom:TITLE: PHY321: Harmonic Oscillations -->"
   ]
  },
  {
   "cell_type": "markdown",
   "id": "7187508d",
   "metadata": {
    "editable": true
   },
   "source": [
    "# PHY321: Harmonic Oscillations\n",
    "**Morten Hjorth-Jensen**, Department of Physics and Astronomy and Facility for Rare Isotope Beams (FRIB), Michigan State University, USA and Department of Physics, University of Oslo, Norway\n",
    "\n",
    "Date: **February 20-24**"
   ]
  },
  {
   "cell_type": "markdown",
   "id": "e2f9a765",
   "metadata": {
    "editable": true
   },
   "source": [
    "## Aims and Overarching Motivation"
   ]
  },
  {
   "cell_type": "markdown",
   "id": "411fd453",
   "metadata": {
    "editable": true
   },
   "source": [
    "### Monday February 20\n",
    "\n",
    "1. The Earth-Sun system from homework 5 (optional homework), see slides from last week.\n",
    "\n",
    "2. Harmonic oscillations, basic equations and formalism.\n",
    "\n",
    "3. **Reading suggestions**: Taylor sections 5.1-5.2\n",
    "\n",
    "* [Video of lecture](https://youtu.be/3otwJIm796s)"
   ]
  },
  {
   "cell_type": "markdown",
   "id": "c0f1d187",
   "metadata": {
    "editable": true
   },
   "source": [
    "### Wednesday February 22\n",
    "\n",
    "1. Mathematical pendulum and harmonic oscillations, damped motion.\n",
    "\n",
    "2. **Reading suggestion**: Taylor sections 5.3-5.4."
   ]
  },
  {
   "cell_type": "markdown",
   "id": "5e030425",
   "metadata": {
    "editable": true
   },
   "source": [
    "### Friday February 24\n",
    "\n",
    "1. Discussion and work on first midterm, deadline for midterm Friday March 3.\n",
    "\n",
    "2. Next week we will use both Wednesday and Friday to discuss the midterm."
   ]
  },
  {
   "cell_type": "markdown",
   "id": "7066dd5f",
   "metadata": {
    "editable": true
   },
   "source": [
    "## Harmonic Oscillator\n",
    "\n",
    "The harmonic oscillator is omnipresent in physics. Although you may think \n",
    "of this as being related to springs, it, or an equivalent\n",
    "mathematical representation, appears in just about any problem where a\n",
    "mode is sitting near its potential energy minimum. At that point,\n",
    "$\\partial_x V(x)=0$, and the first non-zero term (aside from a\n",
    "constant) in the potential energy is that of a harmonic oscillator. In\n",
    "a solid, sound modes (phonons) are built on a picture of coupled\n",
    "harmonic oscillators, and in relativistic field theory the fundamental\n",
    "interactions are also built on coupled oscillators positioned\n",
    "infinitesimally close to one another in space. The phenomena of a\n",
    "resonance of an oscillator driven at a fixed frequency plays out\n",
    "repeatedly in atomic, nuclear and high-energy physics, when quantum\n",
    "mechanically the evolution of a state oscillates according to\n",
    "$e^{-iEt}$ and exciting discrete quantum states has very similar\n",
    "mathematics as exciting discrete states of an oscillator."
   ]
  },
  {
   "cell_type": "markdown",
   "id": "24174be8",
   "metadata": {
    "editable": true
   },
   "source": [
    "## Harmonic Oscillator, deriving the Equations\n",
    "\n",
    "The potential energy for a single particle as a function of its\n",
    "position $x$ can be written as a Taylor expansion about some point\n",
    "$b$ (we are considering a one-dimensional problem here)"
   ]
  },
  {
   "cell_type": "markdown",
   "id": "187a05e2",
   "metadata": {
    "editable": true
   },
   "source": [
    "<!-- Equation labels as ordinary links -->\n",
    "<div id=\"_auto1\"></div>\n",
    "\n",
    "$$\n",
    "\\begin{equation}\n",
    "V(x)=V(b)+(x-b)\\frac{dV(x)}{dx}\\vert_{b}+\\frac{1}{2!}(x-b)^2\\frac{d^2V(x)}{dx^2}\\vert_{b}\n",
    "+\\frac{1}{3!}(x-b)^3V(x)^{(3)}\\vert_{b}+\\cdots\n",
    "\\label{_auto1} \\tag{1}\n",
    "\\end{equation}\n",
    "$$"
   ]
  },
  {
   "cell_type": "markdown",
   "id": "8cd720e7",
   "metadata": {
    "editable": true
   },
   "source": [
    "If the position $b$ is at the minimum of the resonance, the first two non-zero terms of the potential are"
   ]
  },
  {
   "cell_type": "markdown",
   "id": "9b191457",
   "metadata": {
    "editable": true
   },
   "source": [
    "<!-- Equation labels as ordinary links -->\n",
    "<div id=\"_auto2\"></div>\n",
    "\n",
    "$$\n",
    "\\begin{equation}\n",
    "V(x)\\approx V(b)+\\frac{1}{2!}(x-b)^2\\frac{d^2V(x)}{dx^2}\\vert_{b},\n",
    "\\label{_auto2} \\tag{2}\n",
    "\\end{equation}\n",
    "$$"
   ]
  },
  {
   "cell_type": "markdown",
   "id": "8c77cf06",
   "metadata": {
    "editable": true
   },
   "source": [
    "$$\n",
    "\\nonumber\n",
    "=V(b)+\\frac{1}{2}k(x-b)^2,~~~~k\\equiv \\frac{d^2V(x)}{dx^2}\\vert_{b},\n",
    "$$"
   ]
  },
  {
   "cell_type": "markdown",
   "id": "b95bfc1a",
   "metadata": {
    "editable": true
   },
   "source": [
    "$$\n",
    "\\nonumber\n",
    "F=-\\frac{dV(x)}{dx}=-k(x-b).\n",
    "$$"
   ]
  },
  {
   "cell_type": "markdown",
   "id": "d4f7f5e7",
   "metadata": {
    "editable": true
   },
   "source": [
    "## Analyzing the equations\n",
    "\n",
    "Our equation of motion is, with the only force given by the one-dimensional spring force,"
   ]
  },
  {
   "cell_type": "markdown",
   "id": "8590b4a1",
   "metadata": {
    "editable": true
   },
   "source": [
    "$$\n",
    "m\\frac{d^2x}{dt^2}=-kx.\n",
    "$$"
   ]
  },
  {
   "cell_type": "markdown",
   "id": "ee2cdadf",
   "metadata": {
    "editable": true
   },
   "source": [
    "Defining the natural frequency $\\omega_0^2=k/m$ we can rewrite this equation as"
   ]
  },
  {
   "cell_type": "markdown",
   "id": "aa52bca1",
   "metadata": {
    "editable": true
   },
   "source": [
    "$$\n",
    "\\frac{d^2x}{dt^2}=-\\omega_0^2x.\n",
    "$$"
   ]
  },
  {
   "cell_type": "markdown",
   "id": "a7877db4",
   "metadata": {
    "editable": true
   },
   "source": [
    "We call this a natural frequency since it is defined by the constants that describe our system, the spring constant $k$ and the mass $m$ of the object.\n",
    "\n",
    "We can as usual split this equation of motion into one equation for the derivative of the velocity and"
   ]
  },
  {
   "cell_type": "markdown",
   "id": "76943a13",
   "metadata": {
    "editable": true
   },
   "source": [
    "$$\n",
    "\\frac{dv}{dt}=-\\omega_0^2x,\n",
    "$$"
   ]
  },
  {
   "cell_type": "markdown",
   "id": "4b21b66f",
   "metadata": {
    "editable": true
   },
   "source": [
    "and"
   ]
  },
  {
   "cell_type": "markdown",
   "id": "3060441a",
   "metadata": {
    "editable": true
   },
   "source": [
    "$$\n",
    "\\frac{dx}{dt}=v.\n",
    "$$"
   ]
  },
  {
   "cell_type": "markdown",
   "id": "648562fa",
   "metadata": {
    "editable": true
   },
   "source": [
    "The solution to the equations of motion is given by"
   ]
  },
  {
   "cell_type": "markdown",
   "id": "e96b0b0a",
   "metadata": {
    "editable": true
   },
   "source": [
    "$$\n",
    "x(t) = A\\cos{(\\omega_0 t)}+B\\sin{(\\omega_0 t)},\n",
    "$$"
   ]
  },
  {
   "cell_type": "markdown",
   "id": "a50beaa4",
   "metadata": {
    "editable": true
   },
   "source": [
    "where $A$ and $B$ are in general complex constants to be determined by the initial conditions."
   ]
  },
  {
   "cell_type": "markdown",
   "id": "267d2013",
   "metadata": {
    "editable": true
   },
   "source": [
    "## Checking the Solution\n",
    "\n",
    "Inserting the solution into the equation of motion we have"
   ]
  },
  {
   "cell_type": "markdown",
   "id": "72f90531",
   "metadata": {
    "editable": true
   },
   "source": [
    "$$\n",
    "\\frac{d^2x}{dt^2}=-\\omega_0^2x,\n",
    "$$"
   ]
  },
  {
   "cell_type": "markdown",
   "id": "50a08cf2",
   "metadata": {
    "editable": true
   },
   "source": [
    "we have"
   ]
  },
  {
   "cell_type": "markdown",
   "id": "03a3d5b4",
   "metadata": {
    "editable": true
   },
   "source": [
    "$$\n",
    "\\frac{d^2x}{dt^2} = -A\\omega_0^2\\cos{(\\omega_0 t)}-B\\omega_0^2\\sin{(\\omega_0 t)},\n",
    "$$"
   ]
  },
  {
   "cell_type": "markdown",
   "id": "4c267509",
   "metadata": {
    "editable": true
   },
   "source": [
    "and the right-hand side is just $-\\omega_0^2 x(t)$. Thus, inserting the solution into the differential equation shows that we obtain the same original differential equation."
   ]
  },
  {
   "cell_type": "markdown",
   "id": "0c1a9d4c",
   "metadata": {
    "editable": true
   },
   "source": [
    "## Initial condition example\n",
    "\n",
    "Let us assume that our initial time $t_0=0$s and that the initial position $x(t_0)=x_0$ and that $v_0=0$ (we skip units here).\n",
    "This gives us"
   ]
  },
  {
   "cell_type": "markdown",
   "id": "5aafca57",
   "metadata": {
    "editable": true
   },
   "source": [
    "$$\n",
    "x(t=0) = x_0 =A,\n",
    "$$"
   ]
  },
  {
   "cell_type": "markdown",
   "id": "2fb7e11f",
   "metadata": {
    "editable": true
   },
   "source": [
    "and it leaves $B$ undetermined. Taking the derivative of $x$ we obtain the velocity"
   ]
  },
  {
   "cell_type": "markdown",
   "id": "9ba97813",
   "metadata": {
    "editable": true
   },
   "source": [
    "$$\n",
    "v(t) = -A\\omega_0\\sin{(\\omega_0 t)}+B\\omega_0\\cos{(\\omega_0 t)},\n",
    "$$"
   ]
  },
  {
   "cell_type": "markdown",
   "id": "7f60029e",
   "metadata": {
    "editable": true
   },
   "source": [
    "and with"
   ]
  },
  {
   "cell_type": "markdown",
   "id": "a8cc8bc4",
   "metadata": {
    "editable": true
   },
   "source": [
    "$$\n",
    "v(t=0) = 0=B,\n",
    "$$"
   ]
  },
  {
   "cell_type": "markdown",
   "id": "a86201c9",
   "metadata": {
    "editable": true
   },
   "source": [
    "we see that our solution with these initial conditions becomes"
   ]
  },
  {
   "cell_type": "markdown",
   "id": "632b9e68",
   "metadata": {
    "editable": true
   },
   "source": [
    "$$\n",
    "x(t) = x_0\\cos{(\\omega_0 t)}.\n",
    "$$"
   ]
  },
  {
   "cell_type": "markdown",
   "id": "061ae355",
   "metadata": {
    "editable": true
   },
   "source": [
    "## Math Digression\n",
    "\n",
    "From our first homework (exercise 1) we have that (we switch to $\\omega$ instead of $\\omega_0$)"
   ]
  },
  {
   "cell_type": "markdown",
   "id": "c43a358b",
   "metadata": {
    "editable": true
   },
   "source": [
    "$$\n",
    "\\cos{(\\omega t)} = \\sum_{n=0}^{\\infty}\\left(-1\\right)^n \\frac{(\\omega t)^{2n}}{(2n)!},\n",
    "$$"
   ]
  },
  {
   "cell_type": "markdown",
   "id": "d4ed0af1",
   "metadata": {
    "editable": true
   },
   "source": [
    "and"
   ]
  },
  {
   "cell_type": "markdown",
   "id": "4423f4f1",
   "metadata": {
    "editable": true
   },
   "source": [
    "$$\n",
    "\\sin{(\\omega t)} = \\sum_{n=0}^{\\infty}\\left(-1\\right)^n \\frac{(\\omega t)^{2n+1}}{(2n+1)!},\n",
    "$$"
   ]
  },
  {
   "cell_type": "markdown",
   "id": "0f2db290",
   "metadata": {
    "editable": true
   },
   "source": [
    "and that we could  write"
   ]
  },
  {
   "cell_type": "markdown",
   "id": "7042d037",
   "metadata": {
    "editable": true
   },
   "source": [
    "$$\n",
    "\\exp{(\\pm\\imath\\omega t)} = \\cos{(\\omega t)}+\\pm\\imath\\sin{(\\omega t)}.\n",
    "$$"
   ]
  },
  {
   "cell_type": "markdown",
   "id": "b711d214",
   "metadata": {
    "editable": true
   },
   "source": [
    "This means (show this) that we can write our solution in terms of new constant $C$ and $D$ as"
   ]
  },
  {
   "cell_type": "markdown",
   "id": "b92e0305",
   "metadata": {
    "editable": true
   },
   "source": [
    "$$\n",
    "x(t)=C\\exp{(\\imath\\omega t)}+D\\exp{(-\\imath\\omega t)}.\n",
    "$$"
   ]
  },
  {
   "cell_type": "markdown",
   "id": "18ca490e",
   "metadata": {
    "editable": true
   },
   "source": [
    "To see the relation between these two forms we note that we can write our original\n",
    "solution $x(t) = A\\cos{(\\omega t)}+B\\sin{(\\omega t)}$ as"
   ]
  },
  {
   "cell_type": "markdown",
   "id": "d965ca8d",
   "metadata": {
    "editable": true
   },
   "source": [
    "$$\n",
    "x(t) = (C+D)\\cos{(\\omega t)}+\\imath(C-D)\\sin{(\\omega t)},\n",
    "$$"
   ]
  },
  {
   "cell_type": "markdown",
   "id": "472b2c52",
   "metadata": {
    "editable": true
   },
   "source": [
    "meaning that we have $A=C+D$ and $B=\\imath(C-D)$."
   ]
  },
  {
   "cell_type": "markdown",
   "id": "507029c0",
   "metadata": {
    "editable": true
   },
   "source": [
    "## More Math Manipulations\n",
    "\n",
    "We can also rewrite the solution in a simpler way.  We define a new\n",
    "constant $A=\\sqrt{B_1^2+B_2^2}$ which can be thought as the hypotenuse\n",
    "of a right-angle triangle with sides $B_1$ and $B_2$ and\n",
    "$B_1=A\\cos{(\\delta)}$ and $B_2=A\\sin{(\\delta)}$.\n",
    "\n",
    "We have then"
   ]
  },
  {
   "cell_type": "markdown",
   "id": "dcb92c03",
   "metadata": {
    "editable": true
   },
   "source": [
    "$$\n",
    "x(t) = A\\left[\\frac{B_1}{A}\\cos{(\\omega t)}+\\frac{B_2}{A}\\sin{(\\omega t)}\\right],\n",
    "$$"
   ]
  },
  {
   "cell_type": "markdown",
   "id": "af2d9b89",
   "metadata": {
    "editable": true
   },
   "source": [
    "which becomes"
   ]
  },
  {
   "cell_type": "markdown",
   "id": "3a29b622",
   "metadata": {
    "editable": true
   },
   "source": [
    "$$\n",
    "x(t) = A\\left[\\cos{(\\delta)}\\cos{(\\omega t)}+\\sin{(\\delta)}\\sin{(\\omega t)}\\right],\n",
    "$$"
   ]
  },
  {
   "cell_type": "markdown",
   "id": "501d8f6a",
   "metadata": {
    "editable": true
   },
   "source": [
    "and using the trigonometric relations for addition of angles we have"
   ]
  },
  {
   "cell_type": "markdown",
   "id": "094acd98",
   "metadata": {
    "editable": true
   },
   "source": [
    "$$\n",
    "x(t) = A\\cos{(\\omega t-\\delta)},\n",
    "$$"
   ]
  },
  {
   "cell_type": "markdown",
   "id": "a131e68d",
   "metadata": {
    "editable": true
   },
   "source": [
    "where $\\delta$ is a so-called phase shift."
   ]
  },
  {
   "cell_type": "markdown",
   "id": "63d08923",
   "metadata": {
    "editable": true
   },
   "source": [
    "## Energy Conservation\n",
    "\n",
    "Our energy is given by the kinetic energy and the harmonic oscillator potential energy, that is we have (for a one-dimensional harmonic oscillator potential)"
   ]
  },
  {
   "cell_type": "markdown",
   "id": "6338cb92",
   "metadata": {
    "editable": true
   },
   "source": [
    "$$\n",
    "E=\\frac{1}{2}mv^2+\\frac{1}{2}kx^2.\n",
    "$$"
   ]
  },
  {
   "cell_type": "markdown",
   "id": "1e1fdb62",
   "metadata": {
    "editable": true
   },
   "source": [
    "We assume that we have initial conditions $v_0=0$ (no kinetic energy) and $x(t=0)=x_0$.\n",
    "With these initial conditions we have"
   ]
  },
  {
   "cell_type": "markdown",
   "id": "bceb541d",
   "metadata": {
    "editable": true
   },
   "source": [
    "$$\n",
    "x(t) = x_0\\cos{(\\omega_0 t)},\n",
    "$$"
   ]
  },
  {
   "cell_type": "markdown",
   "id": "a243b54a",
   "metadata": {
    "editable": true
   },
   "source": [
    "and the velocity is given by"
   ]
  },
  {
   "cell_type": "markdown",
   "id": "817e1bbe",
   "metadata": {
    "editable": true
   },
   "source": [
    "$$\n",
    "v(t) = -x_0\\omega_0\\sin{(\\omega_0 t)},\n",
    "$$"
   ]
  },
  {
   "cell_type": "markdown",
   "id": "bd0e0caa",
   "metadata": {
    "editable": true
   },
   "source": [
    "The energy is conserved (as we have discussed before) and at $t=t_0=0$ we have thus"
   ]
  },
  {
   "cell_type": "markdown",
   "id": "4f3cd9a1",
   "metadata": {
    "editable": true
   },
   "source": [
    "$$\n",
    "E_0=\\frac{1}{2}kx_0^2.\n",
    "$$"
   ]
  },
  {
   "cell_type": "markdown",
   "id": "e64c6057",
   "metadata": {
    "editable": true
   },
   "source": [
    "At a time $t\\ne 0$ we have"
   ]
  },
  {
   "cell_type": "markdown",
   "id": "a104182a",
   "metadata": {
    "editable": true
   },
   "source": [
    "$$\n",
    "E(t)=\\frac{1}{2}mv^2+\\frac{1}{2}kx^2=\\frac{1}{2}mx_0^2\\omega_0^2\\sin^2{(\\omega_0 t)}+\\frac{1}{2}kx_0^2\\cos^2{(\\omega_0 t)},\n",
    "$$"
   ]
  },
  {
   "cell_type": "markdown",
   "id": "c752f477",
   "metadata": {
    "editable": true
   },
   "source": [
    "Recalling that $\\omega_0^2=k/m$ we get"
   ]
  },
  {
   "cell_type": "markdown",
   "id": "b5b45bfd",
   "metadata": {
    "editable": true
   },
   "source": [
    "$$\n",
    "E(t)=\\frac{1}{2}kx_0^2\\sin^2{(\\omega_0 t)}+\\frac{1}{2}kx_0^2\\cos^2{(\\omega_0 t)}=\\frac{1}{2}kx_0^2=E_0.\n",
    "$$"
   ]
  },
  {
   "cell_type": "markdown",
   "id": "ee599372",
   "metadata": {
    "editable": true
   },
   "source": [
    "Energy is thus conserved"
   ]
  },
  {
   "cell_type": "markdown",
   "id": "a733e221",
   "metadata": {
    "editable": true
   },
   "source": [
    "## The mathematical pendulum\n",
    "\n",
    "**Note**: Figure to be inserted.\n",
    "\n",
    "We consider a pendulum of length $l$ attached to the roof.\n",
    "\n",
    "The pendulum consists of a rod and a small object attached to the rod. The mass of this object is $m$ and it is the motion of this object we are concerned with. The distance from the object to the roof is $\\boldsymbol{r}$ and we have $\\vert \\boldsymbol{r}\\vert =l$.\n",
    "\n",
    "The angle between the $y$-axis and the rod is $\\phi$. The forces at play are the gravitational force and a tension force from the rod to the object. The net for is"
   ]
  },
  {
   "cell_type": "markdown",
   "id": "598fbfaf",
   "metadata": {
    "editable": true
   },
   "source": [
    "$$\n",
    "\\boldsymbol{F}^{\\mathrm{net}}=\\boldsymbol{T}+\\boldsymbol{G}=T\\sin{(\\phi)}\\boldsymbol{e}_1+T\\cos{(\\phi)}\\boldsymbol{e}_2-mg\\boldsymbol{e}_2,\n",
    "$$"
   ]
  },
  {
   "cell_type": "markdown",
   "id": "67a30d4c",
   "metadata": {
    "editable": true
   },
   "source": [
    "and with"
   ]
  },
  {
   "cell_type": "markdown",
   "id": "de413e61",
   "metadata": {
    "editable": true
   },
   "source": [
    "$$\n",
    "\\boldsymbol{r}=l\\sin{(\\phi)}\\boldsymbol{e}_1+l\\cos{(\\phi)}\\boldsymbol{e}_2,\n",
    "$$"
   ]
  },
  {
   "cell_type": "markdown",
   "id": "6050a6d9",
   "metadata": {
    "editable": true
   },
   "source": [
    "the equation of motion becomes"
   ]
  },
  {
   "cell_type": "markdown",
   "id": "bac5bad0",
   "metadata": {
    "editable": true
   },
   "source": [
    "$$\n",
    "m\\frac{d^2\\boldsymbol{r}}{dt^2}=\\boldsymbol{T}+\\boldsymbol{G}=T\\sin{(\\phi)}\\boldsymbol{e}_1+T\\cos{(\\phi)}\\boldsymbol{e}_2-mg\\boldsymbol{e}_2.\n",
    "$$"
   ]
  },
  {
   "cell_type": "markdown",
   "id": "bf2526f6",
   "metadata": {
    "editable": true
   },
   "source": [
    "## Finding the equations for the $x$- and $y$-directions\n",
    "\n",
    "Using the chain rule we can find the first derivative of $\\boldsymbol{r}$"
   ]
  },
  {
   "cell_type": "markdown",
   "id": "cae88421",
   "metadata": {
    "editable": true
   },
   "source": [
    "$$\n",
    "\\frac{d\\boldsymbol{r}}{dt}=l\\frac{d\\phi}{dt}\\cos{(\\phi)}\\boldsymbol{e}_1-l\\frac{d\\phi}{dt}\\sin{(\\phi)}\\boldsymbol{e}_2,\n",
    "$$"
   ]
  },
  {
   "cell_type": "markdown",
   "id": "1b4400a4",
   "metadata": {
    "editable": true
   },
   "source": [
    "and thereafter the second derivative in the $x$-direction as"
   ]
  },
  {
   "cell_type": "markdown",
   "id": "e90ef998",
   "metadata": {
    "editable": true
   },
   "source": [
    "$$\n",
    "\\frac{d^2\\boldsymbol{r}}{dt^2}\\boldsymbol{e}_1=l\\frac{d^2\\phi}{dt^2}\\cos{(\\phi)}-l(\\frac{d\\phi}{dt})^2\\sin{(\\phi)},\n",
    "$$"
   ]
  },
  {
   "cell_type": "markdown",
   "id": "5d72bfbd",
   "metadata": {
    "editable": true
   },
   "source": [
    "and in the $y$ direction"
   ]
  },
  {
   "cell_type": "markdown",
   "id": "973362b1",
   "metadata": {
    "editable": true
   },
   "source": [
    "$$\n",
    "\\frac{d^2\\boldsymbol{r}}{dt^2}\\boldsymbol{e}_2=-l\\frac{d^2\\phi}{dt^2}\\sin{(\\phi)}-l(\\frac{d\\phi}{dt})^2\\cos{(\\phi)}.\n",
    "$$"
   ]
  },
  {
   "cell_type": "markdown",
   "id": "ebd414e0",
   "metadata": {
    "editable": true
   },
   "source": [
    "## Collecting terms\n",
    "\n",
    "We can now set up the equations of motion in the $x$ and $y$ directions and get for the $x$-direction"
   ]
  },
  {
   "cell_type": "markdown",
   "id": "93ccc22d",
   "metadata": {
    "editable": true
   },
   "source": [
    "$$\n",
    "ml\\frac{d^2\\phi}{dt^2}\\cos{(\\phi)}-ml(\\frac{d\\phi}{dt})^2\\sin{(\\phi)}=T\\sin{(\\phi)},\n",
    "$$"
   ]
  },
  {
   "cell_type": "markdown",
   "id": "f0f09545",
   "metadata": {
    "editable": true
   },
   "source": [
    "and for the $y$-direction"
   ]
  },
  {
   "cell_type": "markdown",
   "id": "79b7dc10",
   "metadata": {
    "editable": true
   },
   "source": [
    "$$\n",
    "-ml\\frac{d^2\\phi}{dt^2}\\sin{(\\phi)}-ml(\\frac{d\\phi}{dt})^2\\cos{(\\phi)}=T\\cos{(\\phi)}-mg.\n",
    "$$"
   ]
  },
  {
   "cell_type": "markdown",
   "id": "d01cee63",
   "metadata": {
    "editable": true
   },
   "source": [
    "This looks ugly!\n",
    "\n",
    "Let us rewrite"
   ]
  },
  {
   "cell_type": "markdown",
   "id": "6c35b37a",
   "metadata": {
    "editable": true
   },
   "source": [
    "$$\n",
    "ml\\frac{d^2\\phi}{dt^2}\\cos{(\\phi)}=\\left[ml(\\frac{d\\phi}{dt})^2+T\\right]\\sin{(\\phi)},\n",
    "$$"
   ]
  },
  {
   "cell_type": "markdown",
   "id": "d5b31f42",
   "metadata": {
    "editable": true
   },
   "source": [
    "and"
   ]
  },
  {
   "cell_type": "markdown",
   "id": "42ab387c",
   "metadata": {
    "editable": true
   },
   "source": [
    "$$\n",
    "-ml\\frac{d^2\\phi}{dt^2}\\sin{(\\phi)}+mg=\\left[ml(\\frac{d\\phi}{dt})^2+T\\cos{(\\phi)}\\right].\n",
    "$$"
   ]
  },
  {
   "cell_type": "markdown",
   "id": "5cf47162",
   "metadata": {
    "editable": true
   },
   "source": [
    "Still not so nice."
   ]
  },
  {
   "cell_type": "markdown",
   "id": "2c0a5114",
   "metadata": {
    "editable": true
   },
   "source": [
    "## Simple trick\n",
    "\n",
    "How can we simplify the above equations, rewritten here"
   ]
  },
  {
   "cell_type": "markdown",
   "id": "0dc8c7a2",
   "metadata": {
    "editable": true
   },
   "source": [
    "$$\n",
    "ml\\frac{d^2\\phi}{dt^2}\\cos{(\\phi)}=\\left[ml(\\frac{d\\phi}{dt})^2+T\\right]\\sin{(\\phi)},\n",
    "$$"
   ]
  },
  {
   "cell_type": "markdown",
   "id": "c54fc266",
   "metadata": {
    "editable": true
   },
   "source": [
    "and"
   ]
  },
  {
   "cell_type": "markdown",
   "id": "af2fc8ec",
   "metadata": {
    "editable": true
   },
   "source": [
    "$$\n",
    "-ml\\frac{d^2\\phi}{dt^2}\\sin{(\\phi)}+mg=\\left[ml(\\frac{d\\phi}{dt})^2+T\\right]\\cos{(\\phi)}.\n",
    "$$"
   ]
  },
  {
   "cell_type": "markdown",
   "id": "19137590",
   "metadata": {
    "editable": true
   },
   "source": [
    "We multiply the first equation with $\\cos\\phi$ and the second one with $\\sin\\phi$ and then subtract the two equations.\n",
    "We get then"
   ]
  },
  {
   "cell_type": "markdown",
   "id": "fea1e602",
   "metadata": {
    "editable": true
   },
   "source": [
    "$$\n",
    "-ml\\frac{d^2\\phi}{dt^2}(\\cos{(\\phi)})^2-ml\\frac{d^2\\phi}{dt^2}(\\sin{(\\phi)})^2+mg\\sin{(\\phi)}=0,\n",
    "$$"
   ]
  },
  {
   "cell_type": "markdown",
   "id": "0dd6367e",
   "metadata": {
    "editable": true
   },
   "source": [
    "leading to"
   ]
  },
  {
   "cell_type": "markdown",
   "id": "5f03c557",
   "metadata": {
    "editable": true
   },
   "source": [
    "$$\n",
    "ml\\frac{d^2\\phi}{dt^2}=-mg\\sin{(\\phi)}.\n",
    "$$"
   ]
  },
  {
   "cell_type": "markdown",
   "id": "03cad6ef",
   "metadata": {
    "editable": true
   },
   "source": [
    "We are almost there."
   ]
  },
  {
   "cell_type": "markdown",
   "id": "4bc2a82b",
   "metadata": {
    "editable": true
   },
   "source": [
    "## Last step\n",
    "\n",
    "We divide by $m$ and $l$ and we have the famous non-linear in $\\phi$ (due to the sine function) equation for the pendulumn"
   ]
  },
  {
   "cell_type": "markdown",
   "id": "1470f807",
   "metadata": {
    "editable": true
   },
   "source": [
    "$$\n",
    "\\frac{d^2\\phi}{dt^2}=-\\frac{g}{l}\\sin{(\\phi)}.\n",
    "$$"
   ]
  },
  {
   "cell_type": "markdown",
   "id": "b87b06dc",
   "metadata": {
    "editable": true
   },
   "source": [
    "Introducing the natural frequency $\\omega_0^2=g/l$ we can rewrite the equation as"
   ]
  },
  {
   "cell_type": "markdown",
   "id": "dd147c64",
   "metadata": {
    "editable": true
   },
   "source": [
    "$$\n",
    "\\frac{d^2\\phi}{dt^2}=-\\omega_0^2\\sin{(\\phi)}.\n",
    "$$"
   ]
  },
  {
   "cell_type": "markdown",
   "id": "0b4ec75a",
   "metadata": {
    "editable": true
   },
   "source": [
    "If we now assume that the angle is very small, we can approximate $\\sin{(\\phi)}\\approx \\phi$ and we have essentially the same equation as we had for harmonic oscillations, that is"
   ]
  },
  {
   "cell_type": "markdown",
   "id": "b4e5f985",
   "metadata": {
    "editable": true
   },
   "source": [
    "$$\n",
    "\\frac{d^2\\phi}{dt^2}=-\\omega_0^2\\phi.\n",
    "$$"
   ]
  },
  {
   "cell_type": "markdown",
   "id": "0513a90f",
   "metadata": {
    "editable": true
   },
   "source": [
    "The solution to this equation is again given by"
   ]
  },
  {
   "cell_type": "markdown",
   "id": "cf73876c",
   "metadata": {
    "editable": true
   },
   "source": [
    "$$\n",
    "\\phi(t) = A\\cos{(\\omega_0 t)}+B\\sin{(\\omega_0 t)}.\n",
    "$$"
   ]
  },
  {
   "cell_type": "markdown",
   "id": "d5c4dc9e",
   "metadata": {
    "editable": true
   },
   "source": [
    "For the general case, we have to resort to numerical solutions."
   ]
  },
  {
   "cell_type": "markdown",
   "id": "7d9ab230",
   "metadata": {
    "editable": true
   },
   "source": [
    "## Damped Oscillators\n",
    "\n",
    "We consider only the case where the damping force is proportional to\n",
    "the velocity. This is counter to dragging friction, where the force is\n",
    "proportional in strength to the normal force and independent of\n",
    "velocity, and is also inconsistent with wind resistance, where the\n",
    "magnitude of the drag force is proportional the square of the\n",
    "velocity. Rolling resistance does seem to be mainly proportional to\n",
    "the velocity. However, the main motivation for considering damping\n",
    "forces proportional to the velocity is that the math is more\n",
    "friendly. This is because the differential equation is linear,\n",
    "i.e. each term is of order $x$, $\\dot{x}$, $\\ddot{x}\\cdots$, or even\n",
    "terms with no mention of $x$, and there are no terms such as $x^2$ or\n",
    "$x\\ddot{x}$. The equations of motion for a spring with damping force\n",
    "$-b\\dot{x}$ are"
   ]
  },
  {
   "cell_type": "markdown",
   "id": "3789b05d",
   "metadata": {
    "editable": true
   },
   "source": [
    "<!-- Equation labels as ordinary links -->\n",
    "<div id=\"_auto3\"></div>\n",
    "\n",
    "$$\n",
    "\\begin{equation}\n",
    "m\\ddot{x}+b\\dot{x}+kx=0.\n",
    "\\label{_auto3} \\tag{3}\n",
    "\\end{equation}\n",
    "$$"
   ]
  },
  {
   "cell_type": "markdown",
   "id": "3133e860",
   "metadata": {
    "editable": true
   },
   "source": [
    "## Our Sliding Block Code\n",
    "Let us first study the numerical solution, thereafter we switch to the analytical analysis.\n",
    "\n",
    "We study first the case without additional friction term and scale our equation\n",
    "in terms of a dimensionless time $\\tau$.\n",
    "\n",
    "Let us remind ourselves about the differential equation we want to solve (the general case with damping due to friction)"
   ]
  },
  {
   "cell_type": "markdown",
   "id": "2d2f2a2a",
   "metadata": {
    "editable": true
   },
   "source": [
    "$$\n",
    "m\\frac{d^2x}{dt^2} + b\\frac{dx}{dt}+kx(t) =0.\n",
    "$$"
   ]
  },
  {
   "cell_type": "markdown",
   "id": "eaa3c6ff",
   "metadata": {
    "editable": true
   },
   "source": [
    "We divide by $m$ and introduce $\\omega_0^2=\\sqrt{k/m}$ and obtain"
   ]
  },
  {
   "cell_type": "markdown",
   "id": "d8fff819",
   "metadata": {
    "editable": true
   },
   "source": [
    "$$\n",
    "\\frac{d^2x}{dt^2} + \\frac{b}{m}\\frac{dx}{dt}+\\omega_0^2x(t) =0.\n",
    "$$"
   ]
  },
  {
   "cell_type": "markdown",
   "id": "5359b921",
   "metadata": {
    "editable": true
   },
   "source": [
    "## Harmonic Oscillator, Sliding Block\n",
    "\n",
    "Thereafter we introduce a dimensionless time $\\tau = t\\omega_0$ (check\n",
    "that the dimensionality is correct) and rewrite our equation as"
   ]
  },
  {
   "cell_type": "markdown",
   "id": "01eb59f9",
   "metadata": {
    "editable": true
   },
   "source": [
    "$$\n",
    "\\frac{d^2x}{d\\tau^2} + \\frac{b}{m\\omega_0}\\frac{dx}{d\\tau}+x(\\tau) =0,\n",
    "$$"
   ]
  },
  {
   "cell_type": "markdown",
   "id": "93f21963",
   "metadata": {
    "editable": true
   },
   "source": [
    "which gives us"
   ]
  },
  {
   "cell_type": "markdown",
   "id": "8fadcca4",
   "metadata": {
    "editable": true
   },
   "source": [
    "$$\n",
    "\\frac{d^2x}{d\\tau^2} + \\frac{b}{m\\omega_0}\\frac{dx}{d\\tau}+x(\\tau) =0.\n",
    "$$"
   ]
  },
  {
   "cell_type": "markdown",
   "id": "87cef1b9",
   "metadata": {
    "editable": true
   },
   "source": [
    "## Harmonic Oscillator, Sliding Block, Numerical Aspects\n",
    "\n",
    "We then define $\\gamma = b/(2m\\omega_0)$ and rewrite our equations as"
   ]
  },
  {
   "cell_type": "markdown",
   "id": "0c651a72",
   "metadata": {
    "editable": true
   },
   "source": [
    "$$\n",
    "\\frac{d^2x}{d\\tau^2} + 2\\gamma\\frac{dx}{d\\tau}+x(\\tau) =0.\n",
    "$$"
   ]
  },
  {
   "cell_type": "markdown",
   "id": "8c492859",
   "metadata": {
    "editable": true
   },
   "source": [
    "This is the equation we will code below. The first version employs the Euler-Cromer method."
   ]
  },
  {
   "cell_type": "code",
   "execution_count": 1,
   "id": "d94a4680",
   "metadata": {
    "collapsed": false,
    "editable": true
   },
   "outputs": [],
   "source": [
    "%matplotlib inline\n",
    "\n",
    "# Common imports\n",
    "import numpy as np\n",
    "import pandas as pd\n",
    "from math import *\n",
    "import matplotlib.pyplot as plt\n",
    "import os\n",
    "\n",
    "# Where to save the figures and data files\n",
    "PROJECT_ROOT_DIR = \"Results\"\n",
    "FIGURE_ID = \"Results/FigureFiles\"\n",
    "DATA_ID = \"DataFiles/\"\n",
    "\n",
    "if not os.path.exists(PROJECT_ROOT_DIR):\n",
    "    os.mkdir(PROJECT_ROOT_DIR)\n",
    "\n",
    "if not os.path.exists(FIGURE_ID):\n",
    "    os.makedirs(FIGURE_ID)\n",
    "\n",
    "if not os.path.exists(DATA_ID):\n",
    "    os.makedirs(DATA_ID)\n",
    "\n",
    "def image_path(fig_id):\n",
    "    return os.path.join(FIGURE_ID, fig_id)\n",
    "\n",
    "def data_path(dat_id):\n",
    "    return os.path.join(DATA_ID, dat_id)\n",
    "\n",
    "def save_fig(fig_id):\n",
    "    plt.savefig(image_path(fig_id) + \".png\", format='png')\n",
    "\n",
    "\n",
    "from pylab import plt, mpl\n",
    "plt.style.use('seaborn')\n",
    "mpl.rcParams['font.family'] = 'serif'\n",
    "\n",
    "DeltaT = 0.001\n",
    "#set up arrays \n",
    "tfinal = 20 # in dimensionless time\n",
    "n = ceil(tfinal/DeltaT)\n",
    "# set up arrays for t, v, and x\n",
    "t = np.zeros(n)\n",
    "v = np.zeros(n)\n",
    "x = np.zeros(n)\n",
    "# Initial conditions as simple one-dimensional arrays of time\n",
    "x0 =  1.0 \n",
    "v0 = 0.0\n",
    "x[0] = x0\n",
    "v[0] = v0\n",
    "gamma = 0.0\n",
    "# Start integrating using Euler-Cromer's method\n",
    "for i in range(n-1):\n",
    "    # Set up the acceleration\n",
    "    # Here you could have defined your own function for this\n",
    "    a =  -2*gamma*v[i]-x[i]\n",
    "    # update velocity, time and position\n",
    "    v[i+1] = v[i] + DeltaT*a\n",
    "    x[i+1] = x[i] + DeltaT*v[i+1]\n",
    "    t[i+1] = t[i] + DeltaT\n",
    "# Plot position as function of time    \n",
    "fig, ax = plt.subplots()\n",
    "#ax.set_xlim(0, tfinal)\n",
    "ax.set_ylabel('x[m]')\n",
    "ax.set_xlabel('t[s]')\n",
    "ax.plot(t, x)\n",
    "fig.tight_layout()\n",
    "save_fig(\"BlockEulerCromer\")\n",
    "plt.show()"
   ]
  },
  {
   "cell_type": "markdown",
   "id": "7370ed46",
   "metadata": {
    "editable": true
   },
   "source": [
    "When setting up the value of $\\gamma$ we see that for $\\gamma=0$ we get the simple oscillatory motion with no damping.\n",
    "Choosing $\\gamma < 1$ leads to the classical underdamped case with oscillatory motion, but where the motion comes to an end.\n",
    "\n",
    "Choosing $\\gamma =1$ leads to what normally is called critical damping and $\\gamma> 1$ leads to critical overdamping.\n",
    "Try it out and try also to change the initial position and velocity. Setting $\\gamma=1$\n",
    "yields a situation, as discussed below in connection with the analytical solution, where the solution approaches quickly zero and does not oscillate. With zero initial velocity it will never cross zero."
   ]
  },
  {
   "cell_type": "markdown",
   "id": "25013a80",
   "metadata": {
    "editable": true
   },
   "source": [
    "## Harmonic Oscillator,  Damping\n",
    "\n",
    "Let us now focus on the analytical solution.\n",
    "\n",
    "Just to make the solution a bit less messy, we rewrite this equation as"
   ]
  },
  {
   "cell_type": "markdown",
   "id": "4503a72b",
   "metadata": {
    "editable": true
   },
   "source": [
    "<!-- Equation labels as ordinary links -->\n",
    "<div id=\"eq:dampeddiffyq\"></div>\n",
    "\n",
    "$$\n",
    "\\begin{equation}\n",
    "\\label{eq:dampeddiffyq} \\tag{4}\n",
    "\\ddot{x}+2\\beta\\dot{x}+\\omega_0^2x=0,~~~~\\beta\\equiv b/2m,~\\omega_0\\equiv\\sqrt{k/m}.\n",
    "\\end{equation}\n",
    "$$"
   ]
  },
  {
   "cell_type": "markdown",
   "id": "920b0785",
   "metadata": {
    "editable": true
   },
   "source": [
    "Both $\\beta$ and $\\omega$ have dimensions of inverse time. To find solutions (see appendix C in the text) you must make an educated guess at the form of the solution. To do this, first realize that the solution will need an arbitrary normalization $A$ because the equation is linear. Secondly, realize that if the form is"
   ]
  },
  {
   "cell_type": "markdown",
   "id": "8a1bd394",
   "metadata": {
    "editable": true
   },
   "source": [
    "<!-- Equation labels as ordinary links -->\n",
    "<div id=\"_auto4\"></div>\n",
    "\n",
    "$$\n",
    "\\begin{equation}\n",
    "x=Ae^{rt}\n",
    "\\label{_auto4} \\tag{5}\n",
    "\\end{equation}\n",
    "$$"
   ]
  },
  {
   "cell_type": "markdown",
   "id": "8478b9be",
   "metadata": {
    "editable": true
   },
   "source": [
    "that each derivative simply brings out an extra power of $r$. This\n",
    "means that the $Ae^{rt}$ factors out and one can simply solve for an\n",
    "equation for $r$. Plugging this form into Eq. ([4](#eq:dampeddiffyq)),"
   ]
  },
  {
   "cell_type": "markdown",
   "id": "d895ec91",
   "metadata": {
    "editable": true
   },
   "source": [
    "<!-- Equation labels as ordinary links -->\n",
    "<div id=\"_auto5\"></div>\n",
    "\n",
    "$$\n",
    "\\begin{equation}\n",
    "r^2+2\\beta r+\\omega_0^2=0.\n",
    "\\label{_auto5} \\tag{6}\n",
    "\\end{equation}\n",
    "$$"
   ]
  },
  {
   "cell_type": "markdown",
   "id": "1d55347d",
   "metadata": {
    "editable": true
   },
   "source": [
    "## Harmonic Oscillator,  Solutions of Damped Motion\n",
    "\n",
    "Because this is a quadratic equation there will be two solutions,"
   ]
  },
  {
   "cell_type": "markdown",
   "id": "e9653121",
   "metadata": {
    "editable": true
   },
   "source": [
    "<!-- Equation labels as ordinary links -->\n",
    "<div id=\"_auto6\"></div>\n",
    "\n",
    "$$\n",
    "\\begin{equation}\n",
    "r=-\\beta\\pm\\sqrt{\\beta^2-\\omega_0^2}.\n",
    "\\label{_auto6} \\tag{7}\n",
    "\\end{equation}\n",
    "$$"
   ]
  },
  {
   "cell_type": "markdown",
   "id": "4d73b121",
   "metadata": {
    "editable": true
   },
   "source": [
    "We refer to the two solutions as $r_1$ and $r_2$ corresponding to the\n",
    "$+$ and $-$ roots. As expected, there should be two arbitrary\n",
    "constants involved in the solution,"
   ]
  },
  {
   "cell_type": "markdown",
   "id": "c4e9c79c",
   "metadata": {
    "editable": true
   },
   "source": [
    "<!-- Equation labels as ordinary links -->\n",
    "<div id=\"_auto7\"></div>\n",
    "\n",
    "$$\n",
    "\\begin{equation}\n",
    "x=A_1e^{r_1t}+A_2e^{r_2t},\n",
    "\\label{_auto7} \\tag{8}\n",
    "\\end{equation}\n",
    "$$"
   ]
  },
  {
   "cell_type": "markdown",
   "id": "28ea0a67",
   "metadata": {
    "editable": true
   },
   "source": [
    "where the coefficients $A_1$ and $A_2$ are determined by initial\n",
    "conditions.\n",
    "\n",
    "The roots listed above, $\\sqrt{\\omega_0^2-\\beta_0^2}$, will be\n",
    "imaginary if the damping is small and $\\beta<\\omega_0$. In that case,\n",
    "$r$ is complex and the factor $e{rt}$ will have some oscillatory\n",
    "behavior. If the roots are real, there will only be exponentially\n",
    "decaying solutions. There are three cases:"
   ]
  },
  {
   "cell_type": "markdown",
   "id": "ac4fe1d8",
   "metadata": {
    "editable": true
   },
   "source": [
    "## Underdamped: $\\beta<\\omega_0$"
   ]
  },
  {
   "cell_type": "markdown",
   "id": "a6172eb7",
   "metadata": {
    "editable": true
   },
   "source": [
    "$$\n",
    "\\begin{eqnarray}\n",
    "x&=&A_1e^{-\\beta t}e^{i\\omega't}+A_2e^{-\\beta t}e^{-i\\omega't},~~\\omega'\\equiv\\sqrt{\\omega_0^2-\\beta^2}\\\\\n",
    "\\nonumber\n",
    "&=&(A_1+A_2)e^{-\\beta t}\\cos\\omega't+i(A_1-A_2)e^{-\\beta t}\\sin\\omega't.\n",
    "\\end{eqnarray}\n",
    "$$"
   ]
  },
  {
   "cell_type": "markdown",
   "id": "6c3d5779",
   "metadata": {
    "editable": true
   },
   "source": [
    "Here we have made use of the identity\n",
    "$e^{i\\omega't}=\\cos\\omega't+i\\sin\\omega't$. Because the constants are\n",
    "arbitrary, and because the real and imaginary parts are both solutions\n",
    "individually, we can simply consider the real part of the solution\n",
    "alone:"
   ]
  },
  {
   "cell_type": "markdown",
   "id": "248ec9f0",
   "metadata": {
    "editable": true
   },
   "source": [
    "<!-- Equation labels as ordinary links -->\n",
    "<div id=\"eq:homogsolution\"></div>\n",
    "\n",
    "$$\n",
    "\\begin{eqnarray}\n",
    "\\label{eq:homogsolution} \\tag{9}\n",
    "x&=&B_1e^{-\\beta t}\\cos\\omega't+B_2e^{-\\beta t}\\sin\\omega't,\\\\\n",
    "\\nonumber \n",
    "\\omega'&\\equiv&\\sqrt{\\omega_0^2-\\beta^2}.\n",
    "\\end{eqnarray}\n",
    "$$"
   ]
  },
  {
   "cell_type": "markdown",
   "id": "0f9583e9",
   "metadata": {
    "editable": true
   },
   "source": [
    "## Critical dampling: $\\beta=\\omega_0$\n",
    "\n",
    "In this case the two terms involving $r_1$ and $r_2$ are identical\n",
    "because $\\omega'=0$. Because we need to arbitrary constants, there\n",
    "needs to be another solution. This is found by simply guessing, or by\n",
    "taking the limit of $\\omega'\\rightarrow 0$ from the underdamped\n",
    "solution. The solution is then"
   ]
  },
  {
   "cell_type": "markdown",
   "id": "de8ad06a",
   "metadata": {
    "editable": true
   },
   "source": [
    "<!-- Equation labels as ordinary links -->\n",
    "<div id=\"eq:criticallydamped\"></div>\n",
    "\n",
    "$$\n",
    "\\begin{equation}\n",
    "\\label{eq:criticallydamped} \\tag{10}\n",
    "x=Ae^{-\\beta t}+Bte^{-\\beta t}.\n",
    "\\end{equation}\n",
    "$$"
   ]
  },
  {
   "cell_type": "markdown",
   "id": "ca1ca37c",
   "metadata": {
    "editable": true
   },
   "source": [
    "The critically damped solution is interesting because the solution\n",
    "approaches zero quickly, but does not oscillate. For a problem with\n",
    "zero initial velocity, the solution never crosses zero. This is a good\n",
    "choice for designing shock absorbers or swinging doors."
   ]
  },
  {
   "cell_type": "markdown",
   "id": "4742a750",
   "metadata": {
    "editable": true
   },
   "source": [
    "## Overdamped: $\\beta>\\omega_0$"
   ]
  },
  {
   "cell_type": "markdown",
   "id": "ebbc7022",
   "metadata": {
    "editable": true
   },
   "source": [
    "$$\n",
    "\\begin{eqnarray}\n",
    "x&=&A_1\\exp{-(\\beta+\\sqrt{\\beta^2-\\omega_0^2})t}+A_2\\exp{-(\\beta-\\sqrt{\\beta^2-\\omega_0^2})t}\n",
    "\\end{eqnarray}\n",
    "$$"
   ]
  },
  {
   "cell_type": "markdown",
   "id": "55d4252d",
   "metadata": {
    "editable": true
   },
   "source": [
    "This solution will also never pass the origin more than once, and then\n",
    "only if the initial velocity is strong and initially toward zero.\n",
    "\n",
    "Given $b$, $m$ and $\\omega_0$, find $x(t)$ for a particle whose\n",
    "initial position is $x=0$ and has initial velocity $v_0$ (assuming an\n",
    "underdamped solution).\n",
    "\n",
    "The solution is of the form,"
   ]
  },
  {
   "cell_type": "markdown",
   "id": "15737f5f",
   "metadata": {
    "editable": true
   },
   "source": [
    "$$\n",
    "\\begin{eqnarray*}\n",
    "x&=&e^{-\\beta t}\\left[A_1\\cos(\\omega' t)+A_2\\sin\\omega't\\right],\\\\\n",
    "\\dot{x}&=&-\\beta x+\\omega'e^{-\\beta t}\\left[-A_1\\sin\\omega't+A_2\\cos\\omega't\\right].\\\\\n",
    "\\omega'&\\equiv&\\sqrt{\\omega_0^2-\\beta^2},~~~\\beta\\equiv b/2m.\n",
    "\\end{eqnarray*}\n",
    "$$"
   ]
  },
  {
   "cell_type": "markdown",
   "id": "80a10f43",
   "metadata": {
    "editable": true
   },
   "source": [
    "From the initial conditions, $A_1=0$ because $x(0)=0$ and $\\omega'A_2=v_0$. So"
   ]
  },
  {
   "cell_type": "markdown",
   "id": "32dbebf6",
   "metadata": {
    "editable": true
   },
   "source": [
    "$$\n",
    "x=\\frac{v_0}{\\omega'}e^{-\\beta t}\\sin\\omega't.\n",
    "$$"
   ]
  },
  {
   "cell_type": "markdown",
   "id": "30044ac8",
   "metadata": {
    "editable": true
   },
   "source": [
    "## Sinusoidally Driven Oscillators\n",
    "\n",
    "Here, we consider the force"
   ]
  },
  {
   "cell_type": "markdown",
   "id": "d8b2ce25",
   "metadata": {
    "editable": true
   },
   "source": [
    "<!-- Equation labels as ordinary links -->\n",
    "<div id=\"_auto8\"></div>\n",
    "\n",
    "$$\n",
    "\\begin{equation}\n",
    "F=-kx-b\\dot{x}+F_0\\cos\\omega t,\n",
    "\\label{_auto8} \\tag{11}\n",
    "\\end{equation}\n",
    "$$"
   ]
  },
  {
   "cell_type": "markdown",
   "id": "92724099",
   "metadata": {
    "editable": true
   },
   "source": [
    "which leads to the differential equation"
   ]
  },
  {
   "cell_type": "markdown",
   "id": "cf771dc6",
   "metadata": {
    "editable": true
   },
   "source": [
    "<!-- Equation labels as ordinary links -->\n",
    "<div id=\"eq:drivenosc\"></div>\n",
    "\n",
    "$$\n",
    "\\begin{equation}\n",
    "\\label{eq:drivenosc} \\tag{12}\n",
    "\\ddot{x}+2\\beta\\dot{x}+\\omega_0^2x=(F_0/m)\\cos\\omega t.\n",
    "\\end{equation}\n",
    "$$"
   ]
  },
  {
   "cell_type": "markdown",
   "id": "dddada8d",
   "metadata": {
    "editable": true
   },
   "source": [
    "## Harmonic Oscillator,  Solutions\n",
    "\n",
    "Consider a single solution with no arbitrary constants, which we will\n",
    "call a {\\it particular solution}, $x_p(t)$. It should be emphasized\n",
    "that this is {\\bf A} particular solution, because there exists an\n",
    "infinite number of such solutions because the general solution should\n",
    "have two arbitrary constants. Now consider solutions to the same\n",
    "equation without the driving term, which include two arbitrary\n",
    "constants. These are called either {\\it homogenous solutions} or {\\it\n",
    "complementary solutions}, and were given in the previous section,\n",
    "e.g. Eq. ([9](#eq:homogsolution)) for the underdamped case. The\n",
    "homogenous solution already incorporates the two arbitrary constants,\n",
    "so any sum of a homogenous solution and a particular solution will\n",
    "represent the {\\it general solution} of the equation. The general\n",
    "solution incorporates the two arbitrary constants $A$ and $B$ to\n",
    "accommodate the two initial conditions. One could have picked a\n",
    "different particular solution, i.e. the original particular solution\n",
    "plus any homogenous solution with the arbitrary constants $A_p$ and\n",
    "$B_p$ chosen at will. When one adds in the homogenous solution, which\n",
    "has adjustable constants with arbitrary constants $A'$ and $B'$, to\n",
    "the new particular solution, one can get the same general solution by\n",
    "simply adjusting the new constants such that $A'+A_p=A$ and\n",
    "$B'+B_p=B$. Thus, the choice of $A_p$ and $B_p$ are irrelevant, and\n",
    "when choosing the particular solution it is best to make the simplest\n",
    "choice possible."
   ]
  },
  {
   "cell_type": "markdown",
   "id": "5ef09f33",
   "metadata": {
    "editable": true
   },
   "source": [
    "## Harmonic Oscillator,  Particular Solution\n",
    "\n",
    "To find a particular solution, one first guesses at the form,"
   ]
  },
  {
   "cell_type": "markdown",
   "id": "df0dcba9",
   "metadata": {
    "editable": true
   },
   "source": [
    "<!-- Equation labels as ordinary links -->\n",
    "<div id=\"eq:partform\"></div>\n",
    "\n",
    "$$\n",
    "\\begin{equation}\n",
    "\\label{eq:partform} \\tag{13}\n",
    "x_p(t)=D\\cos(\\omega t-\\delta),\n",
    "\\end{equation}\n",
    "$$"
   ]
  },
  {
   "cell_type": "markdown",
   "id": "04c6e3ac",
   "metadata": {
    "editable": true
   },
   "source": [
    "and rewrite the differential equation as"
   ]
  },
  {
   "cell_type": "markdown",
   "id": "0b2633c6",
   "metadata": {
    "editable": true
   },
   "source": [
    "<!-- Equation labels as ordinary links -->\n",
    "<div id=\"_auto9\"></div>\n",
    "\n",
    "$$\n",
    "\\begin{equation}\n",
    "D\\left\\{-\\omega^2\\cos(\\omega t-\\delta)-2\\beta\\omega\\sin(\\omega t-\\delta)+\\omega_0^2\\cos(\\omega t-\\delta)\\right\\}=\\frac{F_0}{m}\\cos(\\omega t).\n",
    "\\label{_auto9} \\tag{14}\n",
    "\\end{equation}\n",
    "$$"
   ]
  },
  {
   "cell_type": "markdown",
   "id": "c7a98a50",
   "metadata": {
    "editable": true
   },
   "source": [
    "One can now use angle addition formulas to get"
   ]
  },
  {
   "cell_type": "markdown",
   "id": "9091d970",
   "metadata": {
    "editable": true
   },
   "source": [
    "$$\n",
    "\\begin{eqnarray}\n",
    "D\\left\\{(-\\omega^2\\cos\\delta+2\\beta\\omega\\sin\\delta+\\omega_0^2\\cos\\delta)\\cos(\\omega t)\\right.&&\\\\\n",
    "\\nonumber\n",
    "\\left.+(-\\omega^2\\sin\\delta-2\\beta\\omega\\cos\\delta+\\omega_0^2\\sin\\delta)\\sin(\\omega t)\\right\\}\n",
    "&=&\\frac{F_0}{m}\\cos(\\omega t).\n",
    "\\end{eqnarray}\n",
    "$$"
   ]
  },
  {
   "cell_type": "markdown",
   "id": "e04219dc",
   "metadata": {
    "editable": true
   },
   "source": [
    "Both the $\\cos$ and $\\sin$ terms need to equate if the expression is to hold at all times. Thus, this becomes two equations"
   ]
  },
  {
   "cell_type": "markdown",
   "id": "e0c5b7d9",
   "metadata": {
    "editable": true
   },
   "source": [
    "$$\n",
    "\\begin{eqnarray}\n",
    "D\\left\\{-\\omega^2\\cos\\delta+2\\beta\\omega\\sin\\delta+\\omega_0^2\\cos\\delta\\right\\}&=&\\frac{F_0}{m}\\\\\n",
    "\\nonumber\n",
    "-\\omega^2\\sin\\delta-2\\beta\\omega\\cos\\delta+\\omega_0^2\\sin\\delta&=&0.\n",
    "\\end{eqnarray}\n",
    "$$"
   ]
  },
  {
   "cell_type": "markdown",
   "id": "6b71bcbe",
   "metadata": {
    "editable": true
   },
   "source": [
    "After dividing by $\\cos\\delta$, the lower expression leads to"
   ]
  },
  {
   "cell_type": "markdown",
   "id": "4e42c765",
   "metadata": {
    "editable": true
   },
   "source": [
    "<!-- Equation labels as ordinary links -->\n",
    "<div id=\"_auto10\"></div>\n",
    "\n",
    "$$\n",
    "\\begin{equation}\n",
    "\\tan\\delta=\\frac{2\\beta\\omega}{\\omega_0^2-\\omega^2}.\n",
    "\\label{_auto10} \\tag{15}\n",
    "\\end{equation}\n",
    "$$"
   ]
  },
  {
   "cell_type": "markdown",
   "id": "5d1cff06",
   "metadata": {
    "editable": true
   },
   "source": [
    "## Solving with Driven Oscillations\n",
    "\n",
    "Using the identities $\\tan^2+1=\\csc^2$ and $\\sin^2+\\cos^2=1$, one can also express $\\sin\\delta$ and $\\cos\\delta$,"
   ]
  },
  {
   "cell_type": "markdown",
   "id": "078eab02",
   "metadata": {
    "editable": true
   },
   "source": [
    "$$\n",
    "\\begin{eqnarray}\n",
    "\\sin\\delta&=&\\frac{2\\beta\\omega}{\\sqrt{(\\omega_0^2-\\omega^2)^2+4\\omega^2\\beta^2}},\\\\\n",
    "\\nonumber\n",
    "\\cos\\delta&=&\\frac{(\\omega_0^2-\\omega^2)}{\\sqrt{(\\omega_0^2-\\omega^2)^2+4\\omega^2\\beta^2}}\n",
    "\\end{eqnarray}\n",
    "$$"
   ]
  },
  {
   "cell_type": "markdown",
   "id": "f8740855",
   "metadata": {
    "editable": true
   },
   "source": [
    "Inserting the expressions for $\\cos\\delta$ and $\\sin\\delta$ into the expression for $D$,"
   ]
  },
  {
   "cell_type": "markdown",
   "id": "97c24472",
   "metadata": {
    "editable": true
   },
   "source": [
    "<!-- Equation labels as ordinary links -->\n",
    "<div id=\"eq:Ddrive\"></div>\n",
    "\n",
    "$$\n",
    "\\begin{equation}\n",
    "\\label{eq:Ddrive} \\tag{16}\n",
    "D=\\frac{F_0/m}{\\sqrt{(\\omega_0^2-\\omega^2)^2+4\\omega^2\\beta^2}}.\n",
    "\\end{equation}\n",
    "$$"
   ]
  },
  {
   "cell_type": "markdown",
   "id": "597fbb47",
   "metadata": {
    "editable": true
   },
   "source": [
    "For a given initial condition, e.g. initial displacement and velocity,\n",
    "one must add the homogenous solution then solve for the two arbitrary\n",
    "constants. However, because the homogenous solutions decay with time\n",
    "as $e^{-\\beta t}$, the particular solution is all that remains at\n",
    "large times, and is therefore the steady state solution. Because the\n",
    "arbitrary constants are all in the homogenous solution, all memory of\n",
    "the initial conditions are lost at large times, $t>>1/\\beta$.\n",
    "\n",
    "The amplitude of the motion, $D$, is linearly proportional to the\n",
    "driving force ($F_0/m$), but also depends on the driving frequency\n",
    "$\\omega$. For small $\\beta$ the maximum will occur at\n",
    "$\\omega=\\omega_0$. This is referred to as a resonance. In the limit\n",
    "$\\beta\\rightarrow 0$ the amplitude at resonance approaches infinity."
   ]
  },
  {
   "cell_type": "markdown",
   "id": "22a389b0",
   "metadata": {
    "editable": true
   },
   "source": [
    "## Alternative Derivation for Driven Oscillators\n",
    "\n",
    "Here, we derive the same expressions as in Equations ([13](#eq:partform)) and ([16](#eq:Ddrive)) but express the driving forces as"
   ]
  },
  {
   "cell_type": "markdown",
   "id": "cbf533ac",
   "metadata": {
    "editable": true
   },
   "source": [
    "$$\n",
    "\\begin{eqnarray}\n",
    "F(t)&=&F_0e^{i\\omega t},\n",
    "\\end{eqnarray}\n",
    "$$"
   ]
  },
  {
   "cell_type": "markdown",
   "id": "0e93409e",
   "metadata": {
    "editable": true
   },
   "source": [
    "rather than as $F_0\\cos\\omega t$. The real part of $F$ is the same as before. For the differential equation,"
   ]
  },
  {
   "cell_type": "markdown",
   "id": "39b0d3e9",
   "metadata": {
    "editable": true
   },
   "source": [
    "<!-- Equation labels as ordinary links -->\n",
    "<div id=\"eq:compdrive\"></div>\n",
    "\n",
    "$$\n",
    "\\begin{eqnarray}\n",
    "\\label{eq:compdrive} \\tag{17}\n",
    "\\ddot{x}+2\\beta\\dot{x}+\\omega_0^2x&=&\\frac{F_0}{m}e^{i\\omega t},\n",
    "\\end{eqnarray}\n",
    "$$"
   ]
  },
  {
   "cell_type": "markdown",
   "id": "7416a23e",
   "metadata": {
    "editable": true
   },
   "source": [
    "one can treat $x(t)$ as an imaginary function. Because the operations\n",
    "$d^2/dt^2$ and $d/dt$ are real and thus do not mix the real and\n",
    "imaginary parts of $x(t)$, Eq. ([17](#eq:compdrive)) is effectively 2\n",
    "equations. Because $e^{\\omega t}=\\cos\\omega t+i\\sin\\omega t$, the real\n",
    "part of the solution for $x(t)$ gives the solution for a driving force\n",
    "$F_0\\cos\\omega t$, and the imaginary part of $x$ corresponds to the\n",
    "case where the driving force is $F_0\\sin\\omega t$. It is rather easy\n",
    "to solve for the complex $x$ in this case, and by taking the real part\n",
    "of the solution, one finds the answer for the $\\cos\\omega t$ driving\n",
    "force.\n",
    "\n",
    "We assume a simple form for the particular solution"
   ]
  },
  {
   "cell_type": "markdown",
   "id": "a9f18340",
   "metadata": {
    "editable": true
   },
   "source": [
    "<!-- Equation labels as ordinary links -->\n",
    "<div id=\"_auto11\"></div>\n",
    "\n",
    "$$\n",
    "\\begin{equation}\n",
    "x_p=De^{i\\omega t},\n",
    "\\label{_auto11} \\tag{18}\n",
    "\\end{equation}\n",
    "$$"
   ]
  },
  {
   "cell_type": "markdown",
   "id": "400f5ebe",
   "metadata": {
    "editable": true
   },
   "source": [
    "where $D$ is a complex constant.\n",
    "\n",
    "From Eq. ([17](#eq:compdrive)) one inserts the form for $x_p$ above to get"
   ]
  },
  {
   "cell_type": "markdown",
   "id": "53b0530a",
   "metadata": {
    "editable": true
   },
   "source": [
    "$$\n",
    "\\begin{eqnarray}\n",
    "D\\left\\{-\\omega^2+2i\\beta\\omega+\\omega_0^2\\right\\}e^{i\\omega t}=(F_0/m)e^{i\\omega t},\\\\\n",
    "\\nonumber\n",
    "D=\\frac{F_0/m}{(\\omega_0^2-\\omega^2)+2i\\beta\\omega}.\n",
    "\\end{eqnarray}\n",
    "$$"
   ]
  },
  {
   "cell_type": "markdown",
   "id": "89771729",
   "metadata": {
    "editable": true
   },
   "source": [
    "The norm and phase for $D=|D|e^{-i\\delta}$ can be read by inspection,"
   ]
  },
  {
   "cell_type": "markdown",
   "id": "10fcb440",
   "metadata": {
    "editable": true
   },
   "source": [
    "<!-- Equation labels as ordinary links -->\n",
    "<div id=\"_auto12\"></div>\n",
    "\n",
    "$$\n",
    "\\begin{equation}\n",
    "|D|=\\frac{F_0/m}{\\sqrt{(\\omega_0^2-\\omega^2)^2+4\\beta^2\\omega^2}},~~~~\\tan\\delta=\\frac{2\\beta\\omega}{\\omega_0^2-\\omega^2}.\n",
    "\\label{_auto12} \\tag{19}\n",
    "\\end{equation}\n",
    "$$"
   ]
  },
  {
   "cell_type": "markdown",
   "id": "fe47af80",
   "metadata": {
    "editable": true
   },
   "source": [
    "This is the same expression for $\\delta$ as before. One then finds $x_p(t)$,"
   ]
  },
  {
   "cell_type": "markdown",
   "id": "feca8922",
   "metadata": {
    "editable": true
   },
   "source": [
    "<!-- Equation labels as ordinary links -->\n",
    "<div id=\"eq:fastdriven1\"></div>\n",
    "\n",
    "$$\n",
    "\\begin{eqnarray}\n",
    "\\label{eq:fastdriven1} \\tag{20}\n",
    "x_p(t)&=&\\Re\\frac{(F_0/m)e^{i\\omega t-i\\delta}}{\\sqrt{(\\omega_0^2-\\omega^2)^2+4\\beta^2\\omega^2}}\\\\\n",
    "\\nonumber\n",
    "&=&\\frac{(F_0/m)\\cos(\\omega t-\\delta)}{\\sqrt{(\\omega_0^2-\\omega^2)^2+4\\beta^2\\omega^2}}.\n",
    "\\end{eqnarray}\n",
    "$$"
   ]
  },
  {
   "cell_type": "markdown",
   "id": "94dfba01",
   "metadata": {
    "editable": true
   },
   "source": [
    "This is the same answer as before.\n",
    "If one wished to solve for the case where $F(t)= F_0\\sin\\omega t$, the imaginary part of the solution would work"
   ]
  },
  {
   "cell_type": "markdown",
   "id": "d198b8d4",
   "metadata": {
    "editable": true
   },
   "source": [
    "<!-- Equation labels as ordinary links -->\n",
    "<div id=\"eq:fastdriven2\"></div>\n",
    "\n",
    "$$\n",
    "\\begin{eqnarray}\n",
    "\\label{eq:fastdriven2} \\tag{21}\n",
    "x_p(t)&=&\\Im\\frac{(F_0/m)e^{i\\omega t-i\\delta}}{\\sqrt{(\\omega_0^2-\\omega^2)^2+4\\beta^2\\omega^2}}\\\\\n",
    "\\nonumber\n",
    "&=&\\frac{(F_0/m)\\sin(\\omega t-\\delta)}{\\sqrt{(\\omega_0^2-\\omega^2)^2+4\\beta^2\\omega^2}}.\n",
    "\\end{eqnarray}\n",
    "$$"
   ]
  },
  {
   "cell_type": "markdown",
   "id": "04bbc8eb",
   "metadata": {
    "editable": true
   },
   "source": [
    "## Damped and Driven Oscillator\n",
    "\n",
    "Consider the damped and driven harmonic oscillator worked out above. Given $F_0, m,\\beta$ and $\\omega_0$, solve for the complete solution $x(t)$ for the case where $F=F_0\\sin\\omega t$ with initial conditions $x(t=0)=0$ and $v(t=0)=0$. Assume the underdamped case.\n",
    "\n",
    "The general solution including the arbitrary constants includes both the homogenous and particular solutions,"
   ]
  },
  {
   "cell_type": "markdown",
   "id": "71282680",
   "metadata": {
    "editable": true
   },
   "source": [
    "$$\n",
    "\\begin{eqnarray*}\n",
    "x(t)&=&\\frac{F_0}{m}\\frac{\\sin(\\omega t-\\delta)}{\\sqrt{(\\omega_0^2-\\omega^2)^2+4\\beta^2\\omega^2}}\n",
    "+A\\cos\\omega't e^{-\\beta t}+B\\sin\\omega't e^{-\\beta t}.\n",
    "\\end{eqnarray*}\n",
    "$$"
   ]
  },
  {
   "cell_type": "markdown",
   "id": "f81f536e",
   "metadata": {
    "editable": true
   },
   "source": [
    "The quantities $\\delta$ and $\\omega'$ are given earlier in the\n",
    "section, $\\omega'=\\sqrt{\\omega_0^2-\\beta^2},\n",
    "\\delta=\\tan^{-1}(2\\beta\\omega/(\\omega_0^2-\\omega^2)$. Here, solving\n",
    "the problem means finding the arbitrary constants $A$ and\n",
    "$B$. Satisfying the initial conditions for the initial position and\n",
    "velocity:"
   ]
  },
  {
   "cell_type": "markdown",
   "id": "066c7e17",
   "metadata": {
    "editable": true
   },
   "source": [
    "$$\n",
    "\\begin{eqnarray*}\n",
    "x(t=0)=0&=&-\\eta\\sin\\delta+A,\\\\\n",
    "v(t=0)=0&=&\\omega\\eta\\cos\\delta-\\beta A+\\omega'B,\\\\\n",
    "\\eta&\\equiv&\\frac{F_0}{m}\\frac{1}{\\sqrt{(\\omega_0^2-\\omega^2)^2+4\\beta^2\\omega^2}}.\n",
    "\\end{eqnarray*}\n",
    "$$"
   ]
  },
  {
   "cell_type": "markdown",
   "id": "d80aa25c",
   "metadata": {
    "editable": true
   },
   "source": [
    "The problem is now reduced to 2 equations and 2 unknowns, $A$ and $B$. The solution is"
   ]
  },
  {
   "cell_type": "markdown",
   "id": "32112950",
   "metadata": {
    "editable": true
   },
   "source": [
    "$$\n",
    "\\begin{eqnarray}\n",
    "A&=& \\eta\\sin\\delta ,~~~B=\\frac{-\\omega\\eta\\cos\\delta+\\beta\\eta\\sin\\delta}{\\omega'}.\n",
    "\\end{eqnarray}\n",
    "$$"
   ]
  },
  {
   "cell_type": "markdown",
   "id": "359bd3c8",
   "metadata": {
    "editable": true
   },
   "source": [
    "## Resonance Widths; the $Q$ factor\n",
    "\n",
    "From the previous two sections, the particular solution for a driving force, $F=F_0\\cos\\omega t$, is"
   ]
  },
  {
   "cell_type": "markdown",
   "id": "bb9416d9",
   "metadata": {
    "editable": true
   },
   "source": [
    "$$\n",
    "\\begin{eqnarray}\n",
    "x_p(t)&=&\\frac{F_0/m}{\\sqrt{(\\omega_0^2-\\omega^2)^2+4\\omega^2\\beta^2}}\\cos(\\omega_t-\\delta),\\\\\n",
    "\\nonumber\n",
    "\\delta&=&\\tan^{-1}\\left(\\frac{2\\beta\\omega}{\\omega_0^2-\\omega^2}\\right).\n",
    "\\end{eqnarray}\n",
    "$$"
   ]
  },
  {
   "cell_type": "markdown",
   "id": "722da1b9",
   "metadata": {
    "editable": true
   },
   "source": [
    "If one fixes the driving frequency $\\omega$ and adjusts the\n",
    "fundamental frequency $\\omega_0=\\sqrt{k/m}$, the maximum amplitude\n",
    "occurs when $\\omega_0=\\omega$ because that is when the term from the\n",
    "denominator $(\\omega_0^2-\\omega^2)^2+4\\omega^2\\beta^2$ is at a\n",
    "minimum. This is akin to dialing into a radio station. However, if one\n",
    "fixes $\\omega_0$ and adjusts the driving frequency one minimize with\n",
    "respect to $\\omega$, e.g. set"
   ]
  },
  {
   "cell_type": "markdown",
   "id": "5a5f5420",
   "metadata": {
    "editable": true
   },
   "source": [
    "<!-- Equation labels as ordinary links -->\n",
    "<div id=\"_auto13\"></div>\n",
    "\n",
    "$$\n",
    "\\begin{equation}\n",
    "\\frac{d}{d\\omega}\\left[(\\omega_0^2-\\omega^2)^2+4\\omega^2\\beta^2\\right]=0,\n",
    "\\label{_auto13} \\tag{22}\n",
    "\\end{equation}\n",
    "$$"
   ]
  },
  {
   "cell_type": "markdown",
   "id": "1714dc17",
   "metadata": {
    "editable": true
   },
   "source": [
    "and one finds that the maximum amplitude occurs when\n",
    "$\\omega=\\sqrt{\\omega_0^2-2\\beta^2}$. If $\\beta$ is small relative to\n",
    "$\\omega_0$, one can simply state that the maximum amplitude is"
   ]
  },
  {
   "cell_type": "markdown",
   "id": "f2f01480",
   "metadata": {
    "editable": true
   },
   "source": [
    "<!-- Equation labels as ordinary links -->\n",
    "<div id=\"_auto14\"></div>\n",
    "\n",
    "$$\n",
    "\\begin{equation}\n",
    "x_{\\rm max}\\approx\\frac{F_0}{2m\\beta \\omega_0}.\n",
    "\\label{_auto14} \\tag{23}\n",
    "\\end{equation}\n",
    "$$"
   ]
  },
  {
   "cell_type": "markdown",
   "id": "d1eb1054",
   "metadata": {
    "editable": true
   },
   "source": [
    "$$\n",
    "\\begin{eqnarray}\n",
    "\\frac{4\\omega^2\\beta^2}{(\\omega_0^2-\\omega^2)^2+4\\omega^2\\beta^2}=\\frac{1}{2}.\n",
    "\\end{eqnarray}\n",
    "$$"
   ]
  },
  {
   "cell_type": "markdown",
   "id": "c8f951fc",
   "metadata": {
    "editable": true
   },
   "source": [
    "For small damping this occurs when $\\omega=\\omega_0\\pm \\beta$, so the $FWHM\\approx 2\\beta$. For the purposes of tuning to a specific frequency, one wants the width to be as small as possible. The ratio of $\\omega_0$ to $FWHM$ is known as the {\\it quality} factor, or $Q$ factor,"
   ]
  },
  {
   "cell_type": "markdown",
   "id": "ba1c99c2",
   "metadata": {
    "editable": true
   },
   "source": [
    "<!-- Equation labels as ordinary links -->\n",
    "<div id=\"_auto15\"></div>\n",
    "\n",
    "$$\n",
    "\\begin{equation}\n",
    "Q\\equiv \\frac{\\omega_0}{2\\beta}.\n",
    "\\label{_auto15} \\tag{24}\n",
    "\\end{equation}\n",
    "$$"
   ]
  }
 ],
 "metadata": {},
 "nbformat": 4,
 "nbformat_minor": 5
}
