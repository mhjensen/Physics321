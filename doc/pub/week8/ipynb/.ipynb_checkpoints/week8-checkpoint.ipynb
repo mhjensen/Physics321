{
 "cells": [
  {
   "cell_type": "markdown",
   "metadata": {},
   "source": [
    "<!-- dom:TITLE: PHY321: Harmonic Oscillations -->\n",
    "# PHY321: Harmonic Oscillations\n",
    "<!-- dom:AUTHOR: [Morten Hjorth-Jensen](http://mhjgit.github.io/info/doc/web/) at Department of Physics and Astronomy and Facility for Rare Ion Beams (FRIB), Michigan State University, USA & Department of Physics, University of Oslo, Norway -->\n",
    "<!-- Author: -->  \n",
    "**[Morten Hjorth-Jensen](http://mhjgit.github.io/info/doc/web/)**, Department of Physics and Astronomy and Facility for Rare Ion Beams (FRIB), Michigan State University, USA and Department of Physics, University of Oslo, Norway\n",
    "\n",
<<<<<<< HEAD
    "Date: **Feb 22, 2021**\n",
=======
    "Date: **Feb 26, 2021**\n",
>>>>>>> a7d322089a002bb9f510bda4c4e2da5e6e7849e4
    "\n",
    "Copyright 1999-2021, [Morten Hjorth-Jensen](http://mhjgit.github.io/info/doc/web/). Released under CC Attribution-NonCommercial 4.0 license\n",
    "\n",
    "\n",
    "\n",
    "\n",
    "## Aims and Overarching Motivation\n",
    "\n",
    "### Monday\n",
    "\n",
    "Summary on forces and conservation laws, with additional examples.\n",
    "Begin harmonic oscillations.\n",
    "\n",
    "**Reading suggestion**: Taylor chapters 3 and 4 for the summary on forces and conservation laws. Taylor section 5.1 for start harmonic oscillations.\n",
    "\n",
    "### Wednesday\n",
    "\n",
    "Harmonic oscillations, basic equations and formalism\n",
    "**Reading suggestions**: Taylor sections 5.1-5.2\n",
    "\n",
    "### Friday\n",
    "\n",
    "Harmonic oscillations, damped motion.\n",
    "**Reading suggestion**: Taylor sections 5.3-5.4. \n",
    "\n",
    "## Harmonic Oscillator\n",
    "\n",
    "The harmonic oscillator is omnipresent in physics. Although you may think \n",
    "of this as being related to springs, it, or an equivalent\n",
    "mathematical representation, appears in just about any problem where a\n",
    "mode is sitting near its potential energy minimum. At that point,\n",
    "$\\partial_x V(x)=0$, and the first non-zero term (aside from a\n",
    "constant) in the potential energy is that of a harmonic oscillator. In\n",
    "a solid, sound modes (phonons) are built on a picture of coupled\n",
    "harmonic oscillators, and in relativistic field theory the fundamental\n",
    "interactions are also built on coupled oscillators positioned\n",
    "infinitesimally close to one another in space. The phenomena of a\n",
    "resonance of an oscillator driven at a fixed frequency plays out\n",
    "repeatedly in atomic, nuclear and high-energy physics, when quantum\n",
    "mechanically the evolution of a state oscillates according to\n",
    "$e^{-iEt}$ and exciting discrete quantum states has very similar\n",
    "mathematics as exciting discrete states of an oscillator.\n",
    "\n",
    "\n",
    "## Harmonic Oscillator, deriving the Equations\n",
    "\n",
    "The potential energy for a single particle as a function of its\n",
    "position $x$ can be written as a Taylor expansion about some point\n",
<<<<<<< HEAD
    "$x_0$"
=======
    "$b$ (we are considering a one-dimensional problem here)"
>>>>>>> a7d322089a002bb9f510bda4c4e2da5e6e7849e4
   ]
  },
  {
   "cell_type": "markdown",
   "metadata": {},
   "source": [
    "<!-- Equation labels as ordinary links -->\n",
    "<div id=\"_auto1\"></div>\n",
    "\n",
    "$$\n",
    "\\begin{equation}\n",
<<<<<<< HEAD
    "V(x)=V(x_0)+(x-x_0)\\left.\\partial_xV(x)\\right|_{x_0}+\\frac{1}{2}(x-x_0)^2\\left.\\partial_x^2V(x)\\right|_{x_0}\n",
    "+\\frac{1}{3!}\\left.\\partial_x^3V(x)\\right|_{x_0}+\\cdots\n",
=======
    "V(x)=V(b)+(x-b)\\frac{dV(x)}{dx}\\vert_{b}+\\frac{1}{2!}(x-b)^2\\frac{d^2V(x)}{dx^2}\\vert_{b}\n",
    "+\\frac{1}{3!}(x-b)^3V(x)^{(3)}\\vert_{b}+\\cdots\n",
>>>>>>> a7d322089a002bb9f510bda4c4e2da5e6e7849e4
    "\\label{_auto1} \\tag{1}\n",
    "\\end{equation}\n",
    "$$"
   ]
  },
  {
   "cell_type": "markdown",
   "metadata": {},
   "source": [
<<<<<<< HEAD
    "If the position $x_0$ is at the minimum of the resonance, the first two non-zero terms of the potential are"
=======
    "If the position $b$ is at the minimum of the resonance, the first two non-zero terms of the potential are"
   ]
  },
  {
   "cell_type": "markdown",
   "metadata": {},
   "source": [
    "<!-- Equation labels as ordinary links -->\n",
    "<div id=\"_auto2\"></div>\n",
    "\n",
    "$$\n",
    "\\begin{equation}\n",
    "V(x)\\approx V(b)+\\frac{1}{2!}(x-b)^2\\frac{d^2V(x)}{dx^2}\\vert_{b},\n",
    "\\label{_auto2} \\tag{2}\n",
    "\\end{equation}\n",
    "$$"
>>>>>>> a7d322089a002bb9f510bda4c4e2da5e6e7849e4
   ]
  },
  {
   "cell_type": "markdown",
   "metadata": {},
   "source": [
    "$$\n",
<<<<<<< HEAD
    "\\begin{eqnarray}\n",
    "V(x)&\\approx& V(x_0)+\\frac{1}{2}(x-x_0)^2\\left.\\partial_x^2V(x)\\right|_{x_0},\\\\\n",
    "\\nonumber\n",
    "&=&V(x_0)+\\frac{1}{2}k(x-x_0)^2,~~~~k\\equiv \\left.\\partial_x^2V(x)\\right|_{x_0},\\\\\n",
    "\\nonumber\n",
    "F&=&-\\partial_xV(x)=-k(x-x_0).\n",
    "\\end{eqnarray}\n",
=======
    "\\nonumber\n",
    "=V(b)+\\frac{1}{2}k(x-b)^2,~~~~k\\equiv \\frac{d^2V(x)}{dx^2}\\vert_{b},\n",
    "$$"
   ]
  },
  {
   "cell_type": "markdown",
   "metadata": {},
   "source": [
    "$$\n",
    "\\nonumber\n",
    "F=-\\frac{dV(x)}{dx}=-k(x-b).\n",
>>>>>>> a7d322089a002bb9f510bda4c4e2da5e6e7849e4
    "$$"
   ]
  },
  {
   "cell_type": "markdown",
   "metadata": {},
   "source": [
<<<<<<< HEAD
    "Put into Newton's 2nd law (assuming $x_0=0$),"
=======
    "## Analyzing the equations\n",
    "\n",
    "Our equation of motion is, with the only force given by the one-dimensional spring force,"
>>>>>>> a7d322089a002bb9f510bda4c4e2da5e6e7849e4
   ]
  },
  {
   "cell_type": "markdown",
   "metadata": {},
   "source": [
    "$$\n",
<<<<<<< HEAD
    "\\begin{eqnarray}\n",
    "m\\ddot{x}&=&-kx,\\\\\n",
    "x&=&A\\cos(\\omega_0 t-\\phi),~~~\\omega_0=\\sqrt{k/m}.\n",
    "\\end{eqnarray}\n",
=======
    "m\\frac{d^2x}{dt^2}=-kx.\n",
>>>>>>> a7d322089a002bb9f510bda4c4e2da5e6e7849e4
    "$$"
   ]
  },
  {
   "cell_type": "markdown",
   "metadata": {},
   "source": [
<<<<<<< HEAD
    "## Harmonic Oscillator, Technicalities\n",
    "\n",
    "Here $A$ and $\\phi$ are arbitrary. Equivalently, one could have\n",
    "written this as $A\\cos(\\omega_0 t)+B\\sin(\\omega_0 t)$, or as the real\n",
    "part of $Ae^{i\\omega_0 t}$. In this last case $A$ could be an\n",
    "arbitrary complex constant. Thus, there are 2 arbitrary constants\n",
    "(either $A$ and $B$ or $A$ and $\\phi$, or the real and imaginary part\n",
    "of one complex constant. This is the expectation for a second order\n",
    "differential equation, and also agrees with the physical expectation\n",
    "that if you know a particle's initial velocity and position you should\n",
    "be able to define its future motion, and that those two arbitrary\n",
    "conditions should translate to two arbitrary constants.\n",
    "\n",
    "A key feature of harmonic motion is that the system repeats itself\n",
    "after a time $T=1/f$, where $f$ is the frequency, and $\\omega=2\\pi f$\n",
    "is the angular frequency. The period of the motion is independent of\n",
    "the amplitude. However, this independence is only exact when one can\n",
    "neglect higher terms of the potential, $x^3, x^4\\cdots$. Once can\n",
    "neglect these terms for sufficiently small amplitudes, and for larger\n",
    "amplitudes the motion is no longer purely sinusoidal, and even though\n",
    "the motion repeats itself, the time for repeating the motion is no\n",
    "longer independent of the amplitude.\n",
    "\n",
    "\n",
    "## Harmonic Oscillator, Velocity and Kineti Energy\n",
    "\n",
    "One can also calculate the velocity and the kinetic energy as a function of time,"
=======
    "Defining the natural frequency $\\omega_0^2=k/m$ we can rewrite this equation as"
   ]
  },
  {
   "cell_type": "markdown",
   "metadata": {},
   "source": [
    "$$\n",
    "\\frac{d^2x}{dt^2}=-\\omega_0^2x.\n",
    "$$"
   ]
  },
  {
   "cell_type": "markdown",
   "metadata": {},
   "source": [
    "We call this a natural frequency since it is defined by the constants that describe our system, the spring constant $k$ and the mass $m$ of the object.\n",
    "\n",
    "\n",
    "We can as usual split this equation of motion into one equation for the derivative of the velocity and"
>>>>>>> a7d322089a002bb9f510bda4c4e2da5e6e7849e4
   ]
  },
  {
   "cell_type": "markdown",
   "metadata": {},
   "source": [
    "$$\n",
<<<<<<< HEAD
    "\\begin{eqnarray}\n",
    "\\dot{x}&=&-\\omega_0A\\sin(\\omega_0 t-\\phi),\\\\\n",
    "\\nonumber\n",
    "K&=&\\frac{1}{2}m\\dot{x}^2=\\frac{m\\omega_0^2A^2}{2}\\sin^2(\\omega_0t-\\phi),\\\\\n",
    "\\nonumber\n",
    "&=&\\frac{k}{2}A^2\\sin^2(\\omega_0t-\\phi).\n",
    "\\end{eqnarray}\n",
=======
    "\\frac{dv}{dt}=-\\omega_0^2x,\n",
>>>>>>> a7d322089a002bb9f510bda4c4e2da5e6e7849e4
    "$$"
   ]
  },
  {
   "cell_type": "markdown",
   "metadata": {},
   "source": [
<<<<<<< HEAD
    "## Harmonic Oscillator, Total Energy\n",
    "\n",
    "The total energy is then"
=======
    "and"
>>>>>>> a7d322089a002bb9f510bda4c4e2da5e6e7849e4
   ]
  },
  {
   "cell_type": "markdown",
   "metadata": {},
   "source": [
<<<<<<< HEAD
    "<!-- Equation labels as ordinary links -->\n",
    "<div id=\"_auto2\"></div>\n",
    "\n",
    "$$\n",
    "\\begin{equation}\n",
    "E=K+V=\\frac{1}{2}m\\dot{x}^2+\\frac{1}{2}kx^2=\\frac{1}{2}kA^2.\n",
    "\\label{_auto2} \\tag{2}\n",
    "\\end{equation}\n",
=======
    "$$\n",
    "\\frac{dx}{dt}=v.\n",
    "$$"
   ]
  },
  {
   "cell_type": "markdown",
   "metadata": {},
   "source": [
    "The solution to the equations of motion is given by"
   ]
  },
  {
   "cell_type": "markdown",
   "metadata": {},
   "source": [
    "$$\n",
    "x(t) = A\\cos{(\\omega_0 t)}+B\\sin{(\\omega_0 t)},\n",
>>>>>>> a7d322089a002bb9f510bda4c4e2da5e6e7849e4
    "$$"
   ]
  },
  {
   "cell_type": "markdown",
   "metadata": {},
   "source": [
<<<<<<< HEAD
    "The total energy then goes as the square of the amplitude.\n",
    "\n",
    "\n",
    "A pendulum is an example of a harmonic oscillator. By expanding the\n",
    "kinetic and potential energies for small angles find the frequency for\n",
    "a pendulum of length $L$ with all the mass $m$ centered at the end by\n",
    "writing the eq.s of motion in the form of a harmonic oscillator.\n",
    "\n",
    "The potential energy and kinetic energies are (for $x$ being the displacement)"
=======
    "where $A$ and $B$ are in general complex constants to be determined by the initial conditions.\n",
    "\n",
    "\n",
    "## Checking the Solution\n",
    "\n",
    "Inserting the solution into the equation of motion we have"
>>>>>>> a7d322089a002bb9f510bda4c4e2da5e6e7849e4
   ]
  },
  {
   "cell_type": "markdown",
   "metadata": {},
   "source": [
    "$$\n",
<<<<<<< HEAD
    "\\begin{eqnarray*}\n",
    "V&=&mgL(1-\\cos\\theta)\\approx mgL\\frac{x^2}{2L^2},\\\\\n",
    "K&=&\\frac{1}{2}mL^2\\dot{\\theta}^2\\approx \\frac{m}{2}\\dot{x}^2.\n",
    "\\end{eqnarray*}\n",
=======
    "\\frac{d^2x}{dt^2}=-\\omega_0^2x,\n",
>>>>>>> a7d322089a002bb9f510bda4c4e2da5e6e7849e4
    "$$"
   ]
  },
  {
   "cell_type": "markdown",
   "metadata": {},
   "source": [
<<<<<<< HEAD
    "For small $x$ Newton's 2nd law becomes"
=======
    "we have"
>>>>>>> a7d322089a002bb9f510bda4c4e2da5e6e7849e4
   ]
  },
  {
   "cell_type": "markdown",
   "metadata": {},
   "source": [
    "$$\n",
<<<<<<< HEAD
    "m\\ddot{x}=-\\frac{mg}{L}x,\n",
=======
    "\\frac{d^2x}{dt^2} = -A\\omega_0^2\\cos{(\\omega_0 t)}-B\\omega_0^2\\sin{(\\omega_0 t)},\n",
>>>>>>> a7d322089a002bb9f510bda4c4e2da5e6e7849e4
    "$$"
   ]
  },
  {
   "cell_type": "markdown",
   "metadata": {},
   "source": [
<<<<<<< HEAD
    "and the spring constant would appear to be $k=mg/L$, which makes the\n",
    "frequency equal to $\\omega_0=\\sqrt{g/L}$. Note that the frequency is\n",
    "independent of the mass.\n",
    "\n",
    "## Damped Oscillators\n",
    "\n",
    "We consider only the case where the damping force is proportional to\n",
    "the velocity. This is counter to dragging friction, where the force is\n",
    "proportional in strength to the normal force and independent of\n",
    "velocity, and is also inconsistent with wind resistance, where the\n",
    "magnitude of the drag force is proportional the square of the\n",
    "velocity. Rolling resistance does seem to be mainly proportional to\n",
    "the velocity. However, the main motivation for considering damping\n",
    "forces proportional to the velocity is that the math is more\n",
    "friendly. This is because the differential equation is linear,\n",
    "i.e. each term is of order $x$, $\\dot{x}$, $\\ddot{x}\\cdots$, or even\n",
    "terms with no mention of $x$, and there are no terms such as $x^2$ or\n",
    "$x\\ddot{x}$. The equations of motion for a spring with damping force\n",
    "$-b\\dot{x}$ are"
=======
    "and the right-hand side is just $-\\omega_0^2 x(t)$. Thus, inserting the solution into the differential equation shows that we obtain the same original differential equation.\n",
    "\n",
    "## Initial condition example\n",
    "\n",
    "Let us assume that our initial time $t_0=0$s and that the initial position $x(t_0)=x_0$ and that $v_0=0$ (we skip units here).\n",
    "This gives us"
>>>>>>> a7d322089a002bb9f510bda4c4e2da5e6e7849e4
   ]
  },
  {
   "cell_type": "markdown",
   "metadata": {},
   "source": [
<<<<<<< HEAD
    "<!-- Equation labels as ordinary links -->\n",
    "<div id=\"_auto3\"></div>\n",
    "\n",
    "$$\n",
    "\\begin{equation}\n",
    "m\\ddot{x}+b\\dot{x}+kx=0.\n",
    "\\label{_auto3} \\tag{3}\n",
    "\\end{equation}\n",
=======
    "$$\n",
    "x(t=0) = x_0 =A,\n",
>>>>>>> a7d322089a002bb9f510bda4c4e2da5e6e7849e4
    "$$"
   ]
  },
  {
   "cell_type": "markdown",
   "metadata": {},
   "source": [
<<<<<<< HEAD
    "## Harmonic Oscillator,  Damping\n",
    "\n",
    "Just to make the solution a bit less messy, we rewrite this equation as"
=======
    "and it leaves $B$ undetermined. Taking the derivative of $x$ we obtain the velocity"
>>>>>>> a7d322089a002bb9f510bda4c4e2da5e6e7849e4
   ]
  },
  {
   "cell_type": "markdown",
   "metadata": {},
   "source": [
<<<<<<< HEAD
    "<!-- Equation labels as ordinary links -->\n",
    "<div id=\"eq:dampeddiffyq\"></div>\n",
    "\n",
    "$$\n",
    "\\begin{equation}\n",
    "\\label{eq:dampeddiffyq} \\tag{4}\n",
    "\\ddot{x}+2\\beta\\dot{x}+\\omega_0^2x=0,~~~~\\beta\\equiv b/2m,~\\omega_0\\equiv\\sqrt{k/m}.\n",
    "\\end{equation}\n",
=======
    "$$\n",
    "v(t) = -A\\omega_0\\sin{(\\omega_0 t)}+B\\omega_0\\cos{(\\omega_0 t)},\n",
>>>>>>> a7d322089a002bb9f510bda4c4e2da5e6e7849e4
    "$$"
   ]
  },
  {
   "cell_type": "markdown",
   "metadata": {},
   "source": [
<<<<<<< HEAD
    "Both $\\beta$ and $\\omega$ have dimensions of inverse time. To find solutions (see appendix C in the text) you must make an educated guess at the form of the solution. To do this, first realize that the solution will need an arbitrary normalization $A$ because the equation is linear. Secondly, realize that if the form is"
=======
    "and with"
>>>>>>> a7d322089a002bb9f510bda4c4e2da5e6e7849e4
   ]
  },
  {
   "cell_type": "markdown",
   "metadata": {},
   "source": [
<<<<<<< HEAD
    "<!-- Equation labels as ordinary links -->\n",
    "<div id=\"_auto4\"></div>\n",
    "\n",
    "$$\n",
    "\\begin{equation}\n",
    "x=Ae^{rt}\n",
    "\\label{_auto4} \\tag{5}\n",
    "\\end{equation}\n",
=======
    "$$\n",
    "v(t=0) = 0=B,\n",
>>>>>>> a7d322089a002bb9f510bda4c4e2da5e6e7849e4
    "$$"
   ]
  },
  {
   "cell_type": "markdown",
   "metadata": {},
   "source": [
<<<<<<< HEAD
    "that each derivative simply brings out an extra power of $r$. This\n",
    "means that the $Ae^{rt}$ factors out and one can simply solve for an\n",
    "equation for $r$. Plugging this form into Eq. ([4](#eq:dampeddiffyq)),"
=======
    "we see that our solution with these initial conditions becomes"
>>>>>>> a7d322089a002bb9f510bda4c4e2da5e6e7849e4
   ]
  },
  {
   "cell_type": "markdown",
   "metadata": {},
   "source": [
<<<<<<< HEAD
    "<!-- Equation labels as ordinary links -->\n",
    "<div id=\"_auto5\"></div>\n",
    "\n",
    "$$\n",
    "\\begin{equation}\n",
    "r^2+2\\beta r+\\omega_0^2=0.\n",
    "\\label{_auto5} \\tag{6}\n",
    "\\end{equation}\n",
=======
    "$$\n",
    "x(t) = x_0\\cos{(\\omega_0 t)}.\n",
>>>>>>> a7d322089a002bb9f510bda4c4e2da5e6e7849e4
    "$$"
   ]
  },
  {
   "cell_type": "markdown",
   "metadata": {},
   "source": [
<<<<<<< HEAD
    "## Harmonic Oscillator,  Solutions of Damped Motion\n",
    "\n",
    "Because this is a quadratic equation there will be two solutions,"
=======
    "## Math Digression\n",
    "\n",
    "From our first homework (exercise 1) we have that (we switch to $\\omega$ instead of $\\omega_0$)"
>>>>>>> a7d322089a002bb9f510bda4c4e2da5e6e7849e4
   ]
  },
  {
   "cell_type": "markdown",
   "metadata": {},
   "source": [
<<<<<<< HEAD
    "<!-- Equation labels as ordinary links -->\n",
    "<div id=\"_auto6\"></div>\n",
    "\n",
    "$$\n",
    "\\begin{equation}\n",
    "r=-\\beta\\pm\\sqrt{\\beta^2-\\omega_0^2}.\n",
    "\\label{_auto6} \\tag{7}\n",
    "\\end{equation}\n",
=======
    "$$\n",
    "\\cos{(\\omega t)} = \\sum_{n=0}^{\\infty}\\left(-1\\right)^n \\frac{(\\omega t)^{2n}}{(2n)!},\n",
>>>>>>> a7d322089a002bb9f510bda4c4e2da5e6e7849e4
    "$$"
   ]
  },
  {
   "cell_type": "markdown",
   "metadata": {},
   "source": [
<<<<<<< HEAD
    "We refer to the two solutions as $r_1$ and $r_2$ corresponding to the\n",
    "$+$ and $-$ roots. As expected, there should be two arbitrary\n",
    "constants involved in the solution,"
=======
    "and"
>>>>>>> a7d322089a002bb9f510bda4c4e2da5e6e7849e4
   ]
  },
  {
   "cell_type": "markdown",
   "metadata": {},
   "source": [
<<<<<<< HEAD
    "<!-- Equation labels as ordinary links -->\n",
    "<div id=\"_auto7\"></div>\n",
    "\n",
    "$$\n",
    "\\begin{equation}\n",
    "x=A_1e^{r_1t}+A_2e^{r_2t},\n",
    "\\label{_auto7} \\tag{8}\n",
    "\\end{equation}\n",
=======
    "$$\n",
    "\\sin{(\\omega t)} = \\sum_{n=0}^{\\infty}\\left(-1\\right)^n \\frac{(\\omega t)^{2n+1}}{(2n+1)!},\n",
>>>>>>> a7d322089a002bb9f510bda4c4e2da5e6e7849e4
    "$$"
   ]
  },
  {
   "cell_type": "markdown",
   "metadata": {},
   "source": [
<<<<<<< HEAD
    "where the coefficients $A_1$ and $A_2$ are determined by initial\n",
    "conditions.\n",
    "\n",
    "The roots listed above, $\\sqrt{\\omega_0^2-\\beta_0^2}$, will be\n",
    "imaginary if the damping is small and $\\beta<\\omega_0$. In that case,\n",
    "$r$ is complex and the factor $e{rt}$ will have some oscillatory\n",
    "behavior. If the roots are real, there will only be exponentially\n",
    "decaying solutions. There are three cases:\n",
    "\n",
    "\n",
    "## Underdamped: $\\beta<\\omega_0$"
=======
    "and that we could  write"
>>>>>>> a7d322089a002bb9f510bda4c4e2da5e6e7849e4
   ]
  },
  {
   "cell_type": "markdown",
   "metadata": {},
   "source": [
    "$$\n",
<<<<<<< HEAD
    "\\begin{eqnarray}\n",
    "x&=&A_1e^{-\\beta t}e^{i\\omega't}+A_2e^{-\\beta t}e^{-i\\omega't},~~\\omega'\\equiv\\sqrt{\\omega_0^2-\\beta^2}\\\\\n",
    "\\nonumber\n",
    "&=&(A_1+A_2)e^{-\\beta t}\\cos\\omega't+i(A_1-A_2)e^{-\\beta t}\\sin\\omega't.\n",
    "\\end{eqnarray}\n",
=======
    "\\exp{(\\pm\\imath\\omega t)} = \\cos{(\\omega t)}+\\pm\\imath\\sin{(\\omega t)}.\n",
>>>>>>> a7d322089a002bb9f510bda4c4e2da5e6e7849e4
    "$$"
   ]
  },
  {
   "cell_type": "markdown",
   "metadata": {},
   "source": [
<<<<<<< HEAD
    "Here we have made use of the identity\n",
    "$e^{i\\omega't}=\\cos\\omega't+i\\sin\\omega't$. Because the constants are\n",
    "arbitrary, and because the real and imaginary parts are both solutions\n",
    "individually, we can simply consider the real part of the solution\n",
    "alone:"
=======
    "This means (show this) that we can write our solution in terms of new constant $C$ and $D$ as"
>>>>>>> a7d322089a002bb9f510bda4c4e2da5e6e7849e4
   ]
  },
  {
   "cell_type": "markdown",
   "metadata": {},
   "source": [
<<<<<<< HEAD
    "<!-- Equation labels as ordinary links -->\n",
    "<div id=\"eq:homogsolution\"></div>\n",
    "\n",
    "$$\n",
    "\\begin{eqnarray}\n",
    "\\label{eq:homogsolution} \\tag{9}\n",
    "x&=&B_1e^{-\\beta t}\\cos\\omega't+B_2e^{-\\beta t}\\sin\\omega't,\\\\\n",
    "\\nonumber \n",
    "\\omega'&\\equiv&\\sqrt{\\omega_0^2-\\beta^2}.\n",
    "\\end{eqnarray}\n",
=======
    "$$\n",
    "x(t)=C\\exp{(\\imath\\omega t)}+D\\exp{(-\\imath\\omega t)}.\n",
>>>>>>> a7d322089a002bb9f510bda4c4e2da5e6e7849e4
    "$$"
   ]
  },
  {
   "cell_type": "markdown",
   "metadata": {},
   "source": [
<<<<<<< HEAD
    "## Critical dampling: $\\beta=\\omega_0$\n",
    "\n",
    "In this case the two terms involving $r_1$ and $r_2$ are identical\n",
    "because $\\omega'=0$. Because we need to arbitrary constants, there\n",
    "needs to be another solution. This is found by simply guessing, or by\n",
    "taking the limit of $\\omega'\\rightarrow 0$ from the underdamped\n",
    "solution. The solution is then"
=======
    "To see the relation between these two forms we note that we can write our original\n",
    "solution $x(t) = A\\cos{(\\omega t)}+B\\sin{(\\omega t)}$ as"
>>>>>>> a7d322089a002bb9f510bda4c4e2da5e6e7849e4
   ]
  },
  {
   "cell_type": "markdown",
   "metadata": {},
   "source": [
<<<<<<< HEAD
    "<!-- Equation labels as ordinary links -->\n",
    "<div id=\"eq:criticallydamped\"></div>\n",
    "\n",
    "$$\n",
    "\\begin{equation}\n",
    "\\label{eq:criticallydamped} \\tag{10}\n",
    "x=Ae^{-\\beta t}+Bte^{-\\beta t}.\n",
    "\\end{equation}\n",
=======
    "$$\n",
    "x(t) = (C+D)\\cos{(\\omega t)}+\\imath(C-D)\\sin{(\\omega t)},\n",
>>>>>>> a7d322089a002bb9f510bda4c4e2da5e6e7849e4
    "$$"
   ]
  },
  {
   "cell_type": "markdown",
   "metadata": {},
   "source": [
<<<<<<< HEAD
    "The critically damped solution is interesting because the solution\n",
    "approaches zero quickly, but does not oscillate. For a problem with\n",
    "zero initial velocity, the solution never crosses zero. This is a good\n",
    "choice for designing shock absorbers or swinging doors.\n",
    "\n",
    "## Overdamped: $\\beta>\\omega_0$"
=======
    "meaning that we have $A=C+D$ and $B=\\imath(C-D)$.\n",
    "\n",
    "## More Math Manipulations\n",
    "\n",
    "We can also rewrite the solution in a simpler way.  We define a new\n",
    "constant $A=\\sqrt{B_1^2+B_2^2}$ which can be thought as the hypotenuse\n",
    "of a right-angle triangle with sides $B_1$ and $B_2$ and\n",
    "$B_1=A\\cos{(\\delta)}$ and $B_2=A\\sin{(\\delta)}$.\n",
    "\n",
    "We have then"
>>>>>>> a7d322089a002bb9f510bda4c4e2da5e6e7849e4
   ]
  },
  {
   "cell_type": "markdown",
   "metadata": {},
   "source": [
    "$$\n",
<<<<<<< HEAD
    "\\begin{eqnarray}\n",
    "x&=&A_1\\exp{-(\\beta+\\sqrt{\\beta^2-\\omega_0^2})t}+A_2\\exp{-(\\beta-\\sqrt{\\beta^2-\\omega_0^2})t}\n",
    "\\end{eqnarray}\n",
=======
    "x(t) = A\\left[\\frac{B_1}{A}\\cos{(\\omega t)}+\\frac{B_2}{A}\\sin{(\\omega t)}\\right],\n",
>>>>>>> a7d322089a002bb9f510bda4c4e2da5e6e7849e4
    "$$"
   ]
  },
  {
   "cell_type": "markdown",
   "metadata": {},
   "source": [
<<<<<<< HEAD
    "This solution will also never pass the origin more than once, and then\n",
    "only if the initial velocity is strong and initially toward zero.\n",
    "\n",
    "\n",
    "\n",
    "\n",
    "Given $b$, $m$ and $\\omega_0$, find $x(t)$ for a particle whose\n",
    "initial position is $x=0$ and has initial velocity $v_0$ (assuming an\n",
    "underdamped solution).\n",
    "\n",
    "The solution is of the form,"
=======
    "which becomes"
>>>>>>> a7d322089a002bb9f510bda4c4e2da5e6e7849e4
   ]
  },
  {
   "cell_type": "markdown",
   "metadata": {},
   "source": [
    "$$\n",
<<<<<<< HEAD
    "\\begin{eqnarray*}\n",
    "x&=&e^{-\\beta t}\\left[A_1\\cos(\\omega' t)+A_2\\sin\\omega't\\right],\\\\\n",
    "\\dot{x}&=&-\\beta x+\\omega'e^{-\\beta t}\\left[-A_1\\sin\\omega't+A_2\\cos\\omega't\\right].\\\\\n",
    "\\omega'&\\equiv&\\sqrt{\\omega_0^2-\\beta^2},~~~\\beta\\equiv b/2m.\n",
    "\\end{eqnarray*}\n",
=======
    "x(t) = A\\left[\\cos{(\\delta)}\\cos{(\\omega t)}+\\sin{(\\delta)}\\sin{(\\omega t)}\\right],\n",
>>>>>>> a7d322089a002bb9f510bda4c4e2da5e6e7849e4
    "$$"
   ]
  },
  {
   "cell_type": "markdown",
   "metadata": {},
   "source": [
<<<<<<< HEAD
    "From the initial conditions, $A_1=0$ because $x(0)=0$ and $\\omega'A_2=v_0$. So"
=======
    "and using the trigonometric relations for addition of angles we have"
>>>>>>> a7d322089a002bb9f510bda4c4e2da5e6e7849e4
   ]
  },
  {
   "cell_type": "markdown",
   "metadata": {},
   "source": [
    "$$\n",
<<<<<<< HEAD
    "x=\\frac{v_0}{\\omega'}e^{-\\beta t}\\sin\\omega't.\n",
=======
    "x(t) = A\\cos{(\\omega t-\\delta)},\n",
>>>>>>> a7d322089a002bb9f510bda4c4e2da5e6e7849e4
    "$$"
   ]
  },
  {
   "cell_type": "markdown",
   "metadata": {},
   "source": [
<<<<<<< HEAD
    "## Our Sliding Block Code\n",
    "Here we study first the case without additional friction term and scale our equation\n",
    "in terms of a dimensionless time $\\tau$.\n",
    "\n",
    "Let us remind ourselves about the differential equation we want to solve (the general case with damping due to friction)"
=======
    "where $\\delta$ is a so-called phase shift.\n",
    "\n",
    "## Energy Conservation\n",
    "\n",
    "Our energy is given by the kinetic energy and the harmonic oscillator potential energy, that is we have (for a one-dimensional harmonic oscillator potential)"
>>>>>>> a7d322089a002bb9f510bda4c4e2da5e6e7849e4
   ]
  },
  {
   "cell_type": "markdown",
   "metadata": {},
   "source": [
    "$$\n",
<<<<<<< HEAD
    "m\\frac{d^2x}{dt^2} + b\\frac{dx}{dt}+kx(t) =0.\n",
=======
    "E=\\frac{1}{2}mv^2+\\frac{1}{2}kx^2.\n",
>>>>>>> a7d322089a002bb9f510bda4c4e2da5e6e7849e4
    "$$"
   ]
  },
  {
   "cell_type": "markdown",
   "metadata": {},
   "source": [
<<<<<<< HEAD
    "We divide by $m$ and introduce $\\omega_0^2=\\sqrt{k/m}$ and obtain"
=======
    "We assume that we have initial conditions $v_0=0$ (no kinetic energy) and $x(t=0)=x_0$.\n",
    "With these initial conditions we have"
>>>>>>> a7d322089a002bb9f510bda4c4e2da5e6e7849e4
   ]
  },
  {
   "cell_type": "markdown",
   "metadata": {},
   "source": [
    "$$\n",
<<<<<<< HEAD
    "\\frac{d^2x}{dt^2} + \\frac{b}{m}\\frac{dx}{dt}+\\omega_0^2x(t) =0.\n",
=======
    "x(t) = x_0\\cos{(\\omega_0 t)},\n",
>>>>>>> a7d322089a002bb9f510bda4c4e2da5e6e7849e4
    "$$"
   ]
  },
  {
   "cell_type": "markdown",
   "metadata": {},
   "source": [
<<<<<<< HEAD
    "## Harmonic Oscillator, Sliding Block\n",
    "\n",
    "Thereafter we introduce a dimensionless time $\\tau = t\\omega_0$ (check\n",
    "that the dimensionality is correct) and rewrite our equation as"
=======
    "and the velocity is given by"
>>>>>>> a7d322089a002bb9f510bda4c4e2da5e6e7849e4
   ]
  },
  {
   "cell_type": "markdown",
   "metadata": {},
   "source": [
    "$$\n",
<<<<<<< HEAD
    "\\frac{d^2x}{d\\tau^2} + \\frac{b}{m\\omega_0}\\frac{dx}{d\\tau}+x(\\tau) =0,\n",
=======
    "v(t) = -x_0\\omega_0\\sin{(\\omega_0 t)},\n",
>>>>>>> a7d322089a002bb9f510bda4c4e2da5e6e7849e4
    "$$"
   ]
  },
  {
   "cell_type": "markdown",
   "metadata": {},
   "source": [
<<<<<<< HEAD
    "which gives us"
=======
    "The energy is conserved (as we have discussed before) and at $t=t_0=0$ we have thus"
>>>>>>> a7d322089a002bb9f510bda4c4e2da5e6e7849e4
   ]
  },
  {
   "cell_type": "markdown",
   "metadata": {},
   "source": [
    "$$\n",
<<<<<<< HEAD
    "\\frac{d^2x}{d\\tau^2} + \\frac{b}{m\\omega_0}\\frac{dx}{d\\tau}+x(\\tau) =0.\n",
=======
    "E_0=\\frac{1}{2}kx_0^2.\n",
>>>>>>> a7d322089a002bb9f510bda4c4e2da5e6e7849e4
    "$$"
   ]
  },
  {
   "cell_type": "markdown",
   "metadata": {},
   "source": [
<<<<<<< HEAD
    "## Harmonic Oscillator, Sliding Block, Numerical Aspects\n",
    "\n",
    "\n",
    "We then define $\\gamma = b/(2m\\omega_0)$ and rewrite our equations as"
=======
    "At a time $t\\ne 0$ we have"
>>>>>>> a7d322089a002bb9f510bda4c4e2da5e6e7849e4
   ]
  },
  {
   "cell_type": "markdown",
   "metadata": {},
   "source": [
    "$$\n",
<<<<<<< HEAD
    "\\frac{d^2x}{d\\tau^2} + 2\\gamma\\frac{dx}{d\\tau}+x(\\tau) =0.\n",
=======
    "E(t)=\\frac{1}{2}mv^2+\\frac{1}{2}kx^2=\\frac{1}{2}mx_0^2\\omega_0^2\\sin^2{(\\omega_0 t)}+\\frac{1}{2}kx_0^2\\cos^2{(\\omega_0 t)},\n",
>>>>>>> a7d322089a002bb9f510bda4c4e2da5e6e7849e4
    "$$"
   ]
  },
  {
   "cell_type": "markdown",
   "metadata": {},
   "source": [
<<<<<<< HEAD
    "This is the equation we will code below. The first version employs the Euler-Cromer method."
   ]
  },
  {
   "cell_type": "code",
   "execution_count": 1,
   "metadata": {},
   "outputs": [
    {
     "data": {
      "image/png": "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\n",
      "text/plain": [
       "<Figure size 576x396 with 1 Axes>"
      ]
     },
     "metadata": {},
     "output_type": "display_data"
    }
   ],
   "source": [
    "%matplotlib inline\n",
    "\n",
    "# Common imports\n",
    "import numpy as np\n",
    "import pandas as pd\n",
    "from math import *\n",
    "import matplotlib.pyplot as plt\n",
    "import os\n",
    "\n",
    "# Where to save the figures and data files\n",
    "PROJECT_ROOT_DIR = \"Results\"\n",
    "FIGURE_ID = \"Results/FigureFiles\"\n",
    "DATA_ID = \"DataFiles/\"\n",
    "\n",
    "if not os.path.exists(PROJECT_ROOT_DIR):\n",
    "    os.mkdir(PROJECT_ROOT_DIR)\n",
    "\n",
    "if not os.path.exists(FIGURE_ID):\n",
    "    os.makedirs(FIGURE_ID)\n",
    "\n",
    "if not os.path.exists(DATA_ID):\n",
    "    os.makedirs(DATA_ID)\n",
    "\n",
    "def image_path(fig_id):\n",
    "    return os.path.join(FIGURE_ID, fig_id)\n",
    "\n",
    "def data_path(dat_id):\n",
    "    return os.path.join(DATA_ID, dat_id)\n",
    "\n",
    "def save_fig(fig_id):\n",
    "    plt.savefig(image_path(fig_id) + \".png\", format='png')\n",
    "\n",
    "\n",
    "from pylab import plt, mpl\n",
    "plt.style.use('seaborn')\n",
    "mpl.rcParams['font.family'] = 'serif'\n",
    "\n",
    "DeltaT = 0.001\n",
    "#set up arrays \n",
    "tfinal = 20 # in years\n",
    "n = ceil(tfinal/DeltaT)\n",
    "# set up arrays for t, v, and x\n",
    "t = np.zeros(n)\n",
    "v = np.zeros(n)\n",
    "x = np.zeros(n)\n",
    "# Initial conditions as simple one-dimensional arrays of time\n",
    "x0 =  1.0 \n",
    "v0 = 0.0\n",
    "x[0] = x0\n",
    "v[0] = v0\n",
    "gamma = 0.0\n",
    "# Start integrating using Euler-Cromer's method\n",
    "for i in range(n-1):\n",
    "    # Set up the acceleration\n",
    "    # Here you could have defined your own function for this\n",
    "    a =  -2*gamma*v[i]-x[i]\n",
    "    # update velocity, time and position\n",
    "    v[i+1] = v[i] + DeltaT*a\n",
    "    x[i+1] = x[i] + DeltaT*v[i+1]\n",
    "    t[i+1] = t[i] + DeltaT\n",
    "# Plot position as function of time    \n",
    "fig, ax = plt.subplots()\n",
    "#ax.set_xlim(0, tfinal)\n",
    "ax.set_ylabel('x[m]')\n",
    "ax.set_xlabel('t[s]')\n",
    "ax.plot(t, x)\n",
    "fig.tight_layout()\n",
    "save_fig(\"BlockEulerCromer\")\n",
    "plt.show()"
=======
    "Recalling that $\\omega_0^2=k/m$ we get"
   ]
  },
  {
   "cell_type": "markdown",
   "metadata": {},
   "source": [
    "$$\n",
    "E(t)=\\frac{1}{2}kx_0^2\\sin^2{(\\omega_0 t)}+\\frac{1}{2}kx_0^2\\cos^2{(\\omega_0 t)}=\\frac{1}{2}kx_0^2=E_0.\n",
    "$$"
   ]
  },
  {
   "cell_type": "markdown",
   "metadata": {},
   "source": [
    "Energy is thus conserved\n",
    "\n",
    "## The mathematical pendulum\n",
    "\n",
    "**Note**: Figure to be inserted.\n",
    "\n",
    "We consider a pendulum of length $l$ attached to the roof as illustrated in the figure (see [handwritten notes from Wednesday Feb 24](https://github.com/mhjensen/Physics321/blob/master/doc/HandWrittenNotes/Spring2021/NotesFeb24.pdf)).\n",
    "\n",
    "The pendulum consists of a rod and a small object attached to the rod. The mass of this object is $m$ and it is the motion of this object we are concerned with. The distance from the object to the roof is $\\boldsymbol{r}$ and we have $\\vert \\boldsymbol{r}\\vert =l$.\n",
    "\n",
    "The angle between the $y$-axis and the rod is $\\phi$. The forces at play are the gravitational force and a tension force from the rod to the object. The net for is"
   ]
  },
  {
   "cell_type": "markdown",
   "metadata": {},
   "source": [
    "$$\n",
    "\\boldsymbol{F}^{\\mathrm{net}}=\\boldsymbol{T}+\\boldsymbol{G}=T\\sin{(\\phi)}\\boldsymbol{e}_1+T\\cos{(\\phi)}\\boldsymbol{e}_2-mg\\boldsymbol{e}_2,\n",
    "$$"
   ]
  },
  {
   "cell_type": "markdown",
   "metadata": {},
   "source": [
    "and with"
   ]
  },
  {
   "cell_type": "markdown",
   "metadata": {},
   "source": [
    "$$\n",
    "\\boldsymbol{r}=l\\sin{(\\phi)}\\boldsymbol{e}_1+l\\cos{(\\phi)}\\boldsymbol{e}_2,\n",
    "$$"
   ]
  },
  {
   "cell_type": "markdown",
   "metadata": {},
   "source": [
    "the equation of motion becomes"
   ]
  },
  {
   "cell_type": "markdown",
   "metadata": {},
   "source": [
    "$$\n",
    "m\\frac{d^2\\boldsymbol{r}}{dt^2}=\\boldsymbol{T}+\\boldsymbol{G}=T\\sin{(\\phi)}\\boldsymbol{e}_1+T\\cos{(\\phi)}\\boldsymbol{e}_2-mg\\boldsymbol{e}_2.\n",
    "$$"
   ]
  },
  {
   "cell_type": "markdown",
   "metadata": {},
   "source": [
    "## Finding the equations for the $x$- and $y$-directions\n",
    "\n",
    "Using the chain rule we can find the first derivative of $\\boldsymbol{r}$"
   ]
  },
  {
   "cell_type": "markdown",
   "metadata": {},
   "source": [
    "$$\n",
    "\\frac{d\\boldsymbol{r}}{dt}=l\\frac{d\\phi}{dt}\\cos{(\\phi)}\\boldsymbol{e}_1-l\\frac{d\\phi}{dt}\\sin{(\\phi)}\\boldsymbol{e}_2,\n",
    "$$"
   ]
  },
  {
   "cell_type": "markdown",
   "metadata": {},
   "source": [
    "and thereafter the second derivative in the $x$-direction as"
   ]
  },
  {
   "cell_type": "markdown",
   "metadata": {},
   "source": [
    "$$\n",
    "\\frac{d^2\\boldsymbol{r}}{dt^2}\\boldsymbol{e}_1=l\\frac{d^2\\phi}{dt^2}\\cos{(\\phi)}-l(\\frac{d\\phi}{dt})^2\\sin{(\\phi)},\n",
    "$$"
   ]
  },
  {
   "cell_type": "markdown",
   "metadata": {},
   "source": [
    "and in the $y$ direction"
   ]
  },
  {
   "cell_type": "markdown",
   "metadata": {},
   "source": [
    "$$\n",
    "\\frac{d^2\\boldsymbol{r}}{dt^2}\\boldsymbol{e}_2=-l\\frac{d^2\\phi}{dt^2}\\sin{(\\phi)}-l(\\frac{d\\phi}{dt})^2\\cos{(\\phi)}.\n",
    "$$"
   ]
  },
  {
   "cell_type": "markdown",
   "metadata": {},
   "source": [
    "## Collecting terms\n",
    "\n",
    "We can now set up the equations of motion in the $x$ and $y$ directions and get for the $x$-direction"
   ]
  },
  {
   "cell_type": "markdown",
   "metadata": {},
   "source": [
    "$$\n",
    "ml\\frac{d^2\\phi}{dt^2}\\cos{(\\phi)}-ml(\\frac{d\\phi}{dt})^2\\sin{(\\phi)}=T\\sin{(\\phi)},\n",
    "$$"
   ]
  },
  {
   "cell_type": "markdown",
   "metadata": {},
   "source": [
    "and for the $y$-direction"
   ]
  },
  {
   "cell_type": "markdown",
   "metadata": {},
   "source": [
    "$$\n",
    "-ml\\frac{d^2\\phi}{dt^2}\\sin{(\\phi)}-ml(\\frac{d\\phi}{dt})^2\\cos{(\\phi)}=T\\cos{(\\phi)}-mg.\n",
    "$$"
   ]
  },
  {
   "cell_type": "markdown",
   "metadata": {},
   "source": [
    "This looks ugly!\n",
    "\n",
    "Let us rewrite"
   ]
  },
  {
   "cell_type": "markdown",
   "metadata": {},
   "source": [
    "$$\n",
    "ml\\frac{d^2\\phi}{dt^2}\\cos{(\\phi)}=\\left[ml(\\frac{d\\phi}{dt})^2+T\\right]\\sin{(\\phi)},\n",
    "$$"
   ]
  },
  {
   "cell_type": "markdown",
   "metadata": {},
   "source": [
    "and"
   ]
  },
  {
   "cell_type": "markdown",
   "metadata": {},
   "source": [
    "$$\n",
    "-ml\\frac{d^2\\phi}{dt^2}\\sin{(\\phi)}+mg=\\left[ml(\\frac{d\\phi}{dt})^2+T\\cos{(\\phi)}\\right].\n",
    "$$"
   ]
  },
  {
   "cell_type": "markdown",
   "metadata": {},
   "source": [
    "Still not so nice.\n",
    "\n",
    "## Simple trick\n",
    "\n",
    "How can we simplify the above equations, rewritten here"
   ]
  },
  {
   "cell_type": "markdown",
   "metadata": {},
   "source": [
    "$$\n",
    "ml\\frac{d^2\\phi}{dt^2}\\cos{(\\phi)}=\\left[ml(\\frac{d\\phi}{dt})^2+T\\right]\\sin{(\\phi)},\n",
    "$$"
   ]
  },
  {
   "cell_type": "markdown",
   "metadata": {},
   "source": [
    "and"
   ]
  },
  {
   "cell_type": "markdown",
   "metadata": {},
   "source": [
    "$$\n",
    "-ml\\frac{d^2\\phi}{dt^2}\\sin{(\\phi)}+mg=\\left[ml(\\frac{d\\phi}{dt})^2+T\\right]\\cos{(\\phi)}.\n",
    "$$"
   ]
  },
  {
   "cell_type": "markdown",
   "metadata": {},
   "source": [
    "We multiply the first equation with $\\cos\\phi$ and the second one with $\\sin\\phi$ and then subtract the two equations.\n",
    "We get then"
   ]
  },
  {
   "cell_type": "markdown",
   "metadata": {},
   "source": [
    "$$\n",
    "-ml\\frac{d^2\\phi}{dt^2}(\\cos{(\\phi)})^2-ml\\frac{d^2\\phi}{dt^2}(\\sin{(\\phi)})^2+mg\\sin{(\\phi)}=0,\n",
    "$$"
   ]
  },
  {
   "cell_type": "markdown",
   "metadata": {},
   "source": [
    "leading to"
   ]
  },
  {
   "cell_type": "markdown",
   "metadata": {},
   "source": [
    "$$\n",
    "ml\\frac{d^2\\phi}{dt^2}=-mg\\sin{(\\phi)}.\n",
    "$$"
   ]
  },
  {
   "cell_type": "markdown",
   "metadata": {},
   "source": [
    "We are almost there.\n",
    "\n",
    "## Last step\n",
    "\n",
    "We divide by $m$ and $l$ and we have the famous non-linear in $\\phi$ (due to the sine function) equation for the pendulumn"
   ]
  },
  {
   "cell_type": "markdown",
   "metadata": {},
   "source": [
    "$$\n",
    "\\frac{d^2\\phi}{dt^2}=-\\frac{g}{l}\\sin{(\\phi)}.\n",
    "$$"
   ]
  },
  {
   "cell_type": "markdown",
   "metadata": {},
   "source": [
    "Introducing the natural frequency $\\omega_0^2=g/l$ we can rewrite the equation as"
   ]
  },
  {
   "cell_type": "markdown",
   "metadata": {},
   "source": [
    "$$\n",
    "\\frac{d^2\\phi}{dt^2}=-\\omega_0^2\\sin{(\\phi)}.\n",
    "$$"
   ]
  },
  {
   "cell_type": "markdown",
   "metadata": {},
   "source": [
    "If we now assume that the angle is very small, we can approximate $\\sin{(\\phi)}\\approx \\phi$ and we have essentially the same equation as we had for harmonic oscillations, that is"
   ]
  },
  {
   "cell_type": "markdown",
   "metadata": {},
   "source": [
    "$$\n",
    "\\frac{d^2\\phi}{dt^2}=-\\omega_0^2\\phi.\n",
    "$$"
   ]
  },
  {
   "cell_type": "markdown",
   "metadata": {},
   "source": [
    "The solution to this equation is again given by"
   ]
  },
  {
   "cell_type": "markdown",
   "metadata": {},
   "source": [
    "$$\n",
    "\\phi(t) = A\\cos{(\\omega_0 t)}+B\\sin{(\\omega_0 t)}.\n",
    "$$"
   ]
  },
  {
   "cell_type": "markdown",
   "metadata": {},
   "source": [
    "For the general case, we have to resort to numerical solutions.\n",
    "\n",
    "## Damped Oscillators\n",
    "\n",
    "We consider only the case where the damping force is proportional to\n",
    "the velocity. This is counter to dragging friction, where the force is\n",
    "proportional in strength to the normal force and independent of\n",
    "velocity, and is also inconsistent with wind resistance, where the\n",
    "magnitude of the drag force is proportional the square of the\n",
    "velocity. Rolling resistance does seem to be mainly proportional to\n",
    "the velocity. However, the main motivation for considering damping\n",
    "forces proportional to the velocity is that the math is more\n",
    "friendly. This is because the differential equation is linear,\n",
    "i.e. each term is of order $x$, $\\dot{x}$, $\\ddot{x}\\cdots$, or even\n",
    "terms with no mention of $x$, and there are no terms such as $x^2$ or\n",
    "$x\\ddot{x}$. The equations of motion for a spring with damping force\n",
    "$-b\\dot{x}$ are"
   ]
  },
  {
   "cell_type": "markdown",
   "metadata": {},
   "source": [
    "<!-- Equation labels as ordinary links -->\n",
    "<div id=\"_auto3\"></div>\n",
    "\n",
    "$$\n",
    "\\begin{equation}\n",
    "m\\ddot{x}+b\\dot{x}+kx=0.\n",
    "\\label{_auto3} \\tag{3}\n",
    "\\end{equation}\n",
    "$$"
   ]
  },
  {
   "cell_type": "markdown",
   "metadata": {},
   "source": [
    "## Harmonic Oscillator,  Damping\n",
    "\n",
    "Just to make the solution a bit less messy, we rewrite this equation as"
   ]
  },
  {
   "cell_type": "markdown",
   "metadata": {},
   "source": [
    "<!-- Equation labels as ordinary links -->\n",
    "<div id=\"eq:dampeddiffyq\"></div>\n",
    "\n",
    "$$\n",
    "\\begin{equation}\n",
    "\\label{eq:dampeddiffyq} \\tag{4}\n",
    "\\ddot{x}+2\\beta\\dot{x}+\\omega_0^2x=0,~~~~\\beta\\equiv b/2m,~\\omega_0\\equiv\\sqrt{k/m}.\n",
    "\\end{equation}\n",
    "$$"
   ]
  },
  {
   "cell_type": "markdown",
   "metadata": {},
   "source": [
    "Both $\\beta$ and $\\omega$ have dimensions of inverse time. To find solutions (see appendix C in the text) you must make an educated guess at the form of the solution. To do this, first realize that the solution will need an arbitrary normalization $A$ because the equation is linear. Secondly, realize that if the form is"
   ]
  },
  {
   "cell_type": "markdown",
   "metadata": {},
   "source": [
    "<!-- Equation labels as ordinary links -->\n",
    "<div id=\"_auto4\"></div>\n",
    "\n",
    "$$\n",
    "\\begin{equation}\n",
    "x=Ae^{rt}\n",
    "\\label{_auto4} \\tag{5}\n",
    "\\end{equation}\n",
    "$$"
   ]
  },
  {
   "cell_type": "markdown",
   "metadata": {},
   "source": [
    "that each derivative simply brings out an extra power of $r$. This\n",
    "means that the $Ae^{rt}$ factors out and one can simply solve for an\n",
    "equation for $r$. Plugging this form into Eq. ([4](#eq:dampeddiffyq)),"
   ]
  },
  {
   "cell_type": "markdown",
   "metadata": {},
   "source": [
    "<!-- Equation labels as ordinary links -->\n",
    "<div id=\"_auto5\"></div>\n",
    "\n",
    "$$\n",
    "\\begin{equation}\n",
    "r^2+2\\beta r+\\omega_0^2=0.\n",
    "\\label{_auto5} \\tag{6}\n",
    "\\end{equation}\n",
    "$$"
   ]
  },
  {
   "cell_type": "markdown",
   "metadata": {},
   "source": [
    "## Harmonic Oscillator,  Solutions of Damped Motion\n",
    "\n",
    "Because this is a quadratic equation there will be two solutions,"
   ]
  },
  {
   "cell_type": "markdown",
   "metadata": {},
   "source": [
    "<!-- Equation labels as ordinary links -->\n",
    "<div id=\"_auto6\"></div>\n",
    "\n",
    "$$\n",
    "\\begin{equation}\n",
    "r=-\\beta\\pm\\sqrt{\\beta^2-\\omega_0^2}.\n",
    "\\label{_auto6} \\tag{7}\n",
    "\\end{equation}\n",
    "$$"
   ]
  },
  {
   "cell_type": "markdown",
   "metadata": {},
   "source": [
    "We refer to the two solutions as $r_1$ and $r_2$ corresponding to the\n",
    "$+$ and $-$ roots. As expected, there should be two arbitrary\n",
    "constants involved in the solution,"
   ]
  },
  {
   "cell_type": "markdown",
   "metadata": {},
   "source": [
    "<!-- Equation labels as ordinary links -->\n",
    "<div id=\"_auto7\"></div>\n",
    "\n",
    "$$\n",
    "\\begin{equation}\n",
    "x=A_1e^{r_1t}+A_2e^{r_2t},\n",
    "\\label{_auto7} \\tag{8}\n",
    "\\end{equation}\n",
    "$$"
   ]
  },
  {
   "cell_type": "markdown",
   "metadata": {},
   "source": [
    "where the coefficients $A_1$ and $A_2$ are determined by initial\n",
    "conditions.\n",
    "\n",
    "The roots listed above, $\\sqrt{\\omega_0^2-\\beta_0^2}$, will be\n",
    "imaginary if the damping is small and $\\beta<\\omega_0$. In that case,\n",
    "$r$ is complex and the factor $e{rt}$ will have some oscillatory\n",
    "behavior. If the roots are real, there will only be exponentially\n",
    "decaying solutions. There are three cases:\n",
    "\n",
    "\n",
    "## Underdamped: $\\beta<\\omega_0$"
   ]
  },
  {
   "cell_type": "markdown",
   "metadata": {},
   "source": [
    "$$\n",
    "\\begin{eqnarray}\n",
    "x&=&A_1e^{-\\beta t}e^{i\\omega't}+A_2e^{-\\beta t}e^{-i\\omega't},~~\\omega'\\equiv\\sqrt{\\omega_0^2-\\beta^2}\\\\\n",
    "\\nonumber\n",
    "&=&(A_1+A_2)e^{-\\beta t}\\cos\\omega't+i(A_1-A_2)e^{-\\beta t}\\sin\\omega't.\n",
    "\\end{eqnarray}\n",
    "$$"
   ]
  },
  {
   "cell_type": "markdown",
   "metadata": {},
   "source": [
    "Here we have made use of the identity\n",
    "$e^{i\\omega't}=\\cos\\omega't+i\\sin\\omega't$. Because the constants are\n",
    "arbitrary, and because the real and imaginary parts are both solutions\n",
    "individually, we can simply consider the real part of the solution\n",
    "alone:"
   ]
  },
  {
   "cell_type": "markdown",
   "metadata": {},
   "source": [
    "<!-- Equation labels as ordinary links -->\n",
    "<div id=\"eq:homogsolution\"></div>\n",
    "\n",
    "$$\n",
    "\\begin{eqnarray}\n",
    "\\label{eq:homogsolution} \\tag{9}\n",
    "x&=&B_1e^{-\\beta t}\\cos\\omega't+B_2e^{-\\beta t}\\sin\\omega't,\\\\\n",
    "\\nonumber \n",
    "\\omega'&\\equiv&\\sqrt{\\omega_0^2-\\beta^2}.\n",
    "\\end{eqnarray}\n",
    "$$"
   ]
  },
  {
   "cell_type": "markdown",
   "metadata": {},
   "source": [
    "## Critical dampling: $\\beta=\\omega_0$\n",
    "\n",
    "In this case the two terms involving $r_1$ and $r_2$ are identical\n",
    "because $\\omega'=0$. Because we need to arbitrary constants, there\n",
    "needs to be another solution. This is found by simply guessing, or by\n",
    "taking the limit of $\\omega'\\rightarrow 0$ from the underdamped\n",
    "solution. The solution is then"
   ]
  },
  {
   "cell_type": "markdown",
   "metadata": {},
   "source": [
    "<!-- Equation labels as ordinary links -->\n",
    "<div id=\"eq:criticallydamped\"></div>\n",
    "\n",
    "$$\n",
    "\\begin{equation}\n",
    "\\label{eq:criticallydamped} \\tag{10}\n",
    "x=Ae^{-\\beta t}+Bte^{-\\beta t}.\n",
    "\\end{equation}\n",
    "$$"
   ]
  },
  {
   "cell_type": "markdown",
   "metadata": {},
   "source": [
    "The critically damped solution is interesting because the solution\n",
    "approaches zero quickly, but does not oscillate. For a problem with\n",
    "zero initial velocity, the solution never crosses zero. This is a good\n",
    "choice for designing shock absorbers or swinging doors.\n",
    "\n",
    "## Overdamped: $\\beta>\\omega_0$"
>>>>>>> a7d322089a002bb9f510bda4c4e2da5e6e7849e4
   ]
  },
  {
   "cell_type": "markdown",
   "metadata": {},
   "source": [
<<<<<<< HEAD
    "When setting up the value of $\\gamma$ we see that for $\\gamma=0$ we get the simple oscillatory motion with no damping.\n",
    "Choosing $\\gamma < 1$ leads to the classical underdamped case with oscillatory motion, but where the motion comes to an end.\n",
    "\n",
    "Choosing $\\gamma =1$ leads to what normally is called critical damping and $\\gamma> 1$ leads to critical overdamping.\n",
    "Try it out and try also to change the initial position and velocity. Setting $\\gamma=1$\n",
    "yields a situation, as discussed above, where the solution approaches quickly zero and does not oscillate. With zero initial velocity it will never cross zero. \n",
    "\n",
=======
    "$$\n",
    "\\begin{eqnarray}\n",
    "x&=&A_1\\exp{-(\\beta+\\sqrt{\\beta^2-\\omega_0^2})t}+A_2\\exp{-(\\beta-\\sqrt{\\beta^2-\\omega_0^2})t}\n",
    "\\end{eqnarray}\n",
    "$$"
   ]
  },
  {
   "cell_type": "markdown",
   "metadata": {},
   "source": [
    "This solution will also never pass the origin more than once, and then\n",
    "only if the initial velocity is strong and initially toward zero.\n",
    "\n",
    "\n",
    "\n",
    "\n",
    "Given $b$, $m$ and $\\omega_0$, find $x(t)$ for a particle whose\n",
    "initial position is $x=0$ and has initial velocity $v_0$ (assuming an\n",
    "underdamped solution).\n",
    "\n",
    "The solution is of the form,"
   ]
  },
  {
   "cell_type": "markdown",
   "metadata": {},
   "source": [
    "$$\n",
    "\\begin{eqnarray*}\n",
    "x&=&e^{-\\beta t}\\left[A_1\\cos(\\omega' t)+A_2\\sin\\omega't\\right],\\\\\n",
    "\\dot{x}&=&-\\beta x+\\omega'e^{-\\beta t}\\left[-A_1\\sin\\omega't+A_2\\cos\\omega't\\right].\\\\\n",
    "\\omega'&\\equiv&\\sqrt{\\omega_0^2-\\beta^2},~~~\\beta\\equiv b/2m.\n",
    "\\end{eqnarray*}\n",
    "$$"
   ]
  },
  {
   "cell_type": "markdown",
   "metadata": {},
   "source": [
    "From the initial conditions, $A_1=0$ because $x(0)=0$ and $\\omega'A_2=v_0$. So"
   ]
  },
  {
   "cell_type": "markdown",
   "metadata": {},
   "source": [
    "$$\n",
    "x=\\frac{v_0}{\\omega'}e^{-\\beta t}\\sin\\omega't.\n",
    "$$"
   ]
  },
  {
   "cell_type": "markdown",
   "metadata": {},
   "source": [
>>>>>>> a7d322089a002bb9f510bda4c4e2da5e6e7849e4
    "## Sinusoidally Driven Oscillators\n",
    "\n",
    "Here, we consider the force"
   ]
  },
  {
   "cell_type": "markdown",
   "metadata": {},
   "source": [
    "<!-- Equation labels as ordinary links -->\n",
    "<div id=\"_auto8\"></div>\n",
    "\n",
    "$$\n",
    "\\begin{equation}\n",
    "F=-kx-b\\dot{x}+F_0\\cos\\omega t,\n",
    "\\label{_auto8} \\tag{11}\n",
    "\\end{equation}\n",
    "$$"
   ]
  },
  {
   "cell_type": "markdown",
   "metadata": {},
   "source": [
    "which leads to the differential equation"
   ]
  },
  {
   "cell_type": "markdown",
   "metadata": {},
   "source": [
    "<!-- Equation labels as ordinary links -->\n",
    "<div id=\"eq:drivenosc\"></div>\n",
    "\n",
    "$$\n",
    "\\begin{equation}\n",
    "\\label{eq:drivenosc} \\tag{12}\n",
    "\\ddot{x}+2\\beta\\dot{x}+\\omega_0^2x=(F_0/m)\\cos\\omega t.\n",
    "\\end{equation}\n",
    "$$"
   ]
  },
  {
   "cell_type": "markdown",
   "metadata": {},
   "source": [
    "## Harmonic Oscillator,  Solutions\n",
    "\n",
    "Consider a single solution with no arbitrary constants, which we will\n",
    "call a {\\it particular solution}, $x_p(t)$. It should be emphasized\n",
    "that this is {\\bf A} particular solution, because there exists an\n",
    "infinite number of such solutions because the general solution should\n",
    "have two arbitrary constants. Now consider solutions to the same\n",
    "equation without the driving term, which include two arbitrary\n",
    "constants. These are called either {\\it homogenous solutions} or {\\it\n",
    "complementary solutions}, and were given in the previous section,\n",
    "e.g. Eq. ([9](#eq:homogsolution)) for the underdamped case. The\n",
    "homogenous solution already incorporates the two arbitrary constants,\n",
    "so any sum of a homogenous solution and a particular solution will\n",
    "represent the {\\it general solution} of the equation. The general\n",
    "solution incorporates the two arbitrary constants $A$ and $B$ to\n",
    "accommodate the two initial conditions. One could have picked a\n",
    "different particular solution, i.e. the original particular solution\n",
    "plus any homogenous solution with the arbitrary constants $A_p$ and\n",
    "$B_p$ chosen at will. When one adds in the homogenous solution, which\n",
    "has adjustable constants with arbitrary constants $A'$ and $B'$, to\n",
    "the new particular solution, one can get the same general solution by\n",
    "simply adjusting the new constants such that $A'+A_p=A$ and\n",
    "$B'+B_p=B$. Thus, the choice of $A_p$ and $B_p$ are irrelevant, and\n",
    "when choosing the particular solution it is best to make the simplest\n",
    "choice possible.\n",
    "\n",
    "## Harmonic Oscillator,  Particular Solution\n",
    "\n",
    "To find a particular solution, one first guesses at the form,"
   ]
  },
  {
   "cell_type": "markdown",
   "metadata": {},
   "source": [
    "<!-- Equation labels as ordinary links -->\n",
    "<div id=\"eq:partform\"></div>\n",
    "\n",
    "$$\n",
    "\\begin{equation}\n",
    "\\label{eq:partform} \\tag{13}\n",
    "x_p(t)=D\\cos(\\omega t-\\delta),\n",
    "\\end{equation}\n",
    "$$"
   ]
  },
  {
   "cell_type": "markdown",
   "metadata": {},
   "source": [
    "and rewrite the differential equation as"
   ]
  },
  {
   "cell_type": "markdown",
   "metadata": {},
   "source": [
    "<!-- Equation labels as ordinary links -->\n",
    "<div id=\"_auto9\"></div>\n",
    "\n",
    "$$\n",
    "\\begin{equation}\n",
    "D\\left\\{-\\omega^2\\cos(\\omega t-\\delta)-2\\beta\\omega\\sin(\\omega t-\\delta)+\\omega_0^2\\cos(\\omega t-\\delta)\\right\\}=\\frac{F_0}{m}\\cos(\\omega t).\n",
    "\\label{_auto9} \\tag{14}\n",
    "\\end{equation}\n",
    "$$"
   ]
  },
  {
   "cell_type": "markdown",
   "metadata": {},
   "source": [
    "One can now use angle addition formulas to get"
   ]
  },
  {
   "cell_type": "markdown",
   "metadata": {},
   "source": [
    "$$\n",
    "\\begin{eqnarray}\n",
    "D\\left\\{(-\\omega^2\\cos\\delta+2\\beta\\omega\\sin\\delta+\\omega_0^2\\cos\\delta)\\cos(\\omega t)\\right.&&\\\\\n",
    "\\nonumber\n",
    "\\left.+(-\\omega^2\\sin\\delta-2\\beta\\omega\\cos\\delta+\\omega_0^2\\sin\\delta)\\sin(\\omega t)\\right\\}\n",
    "&=&\\frac{F_0}{m}\\cos(\\omega t).\n",
    "\\end{eqnarray}\n",
    "$$"
   ]
  },
  {
   "cell_type": "markdown",
   "metadata": {},
   "source": [
    "Both the $\\cos$ and $\\sin$ terms need to equate if the expression is to hold at all times. Thus, this becomes two equations"
   ]
  },
  {
   "cell_type": "markdown",
   "metadata": {},
   "source": [
    "$$\n",
    "\\begin{eqnarray}\n",
    "D\\left\\{-\\omega^2\\cos\\delta+2\\beta\\omega\\sin\\delta+\\omega_0^2\\cos\\delta\\right\\}&=&\\frac{F_0}{m}\\\\\n",
    "\\nonumber\n",
    "-\\omega^2\\sin\\delta-2\\beta\\omega\\cos\\delta+\\omega_0^2\\sin\\delta&=&0.\n",
    "\\end{eqnarray}\n",
    "$$"
   ]
  },
  {
   "cell_type": "markdown",
   "metadata": {},
   "source": [
    "After dividing by $\\cos\\delta$, the lower expression leads to"
   ]
  },
  {
   "cell_type": "markdown",
   "metadata": {},
   "source": [
    "<!-- Equation labels as ordinary links -->\n",
    "<div id=\"_auto10\"></div>\n",
    "\n",
    "$$\n",
    "\\begin{equation}\n",
    "\\tan\\delta=\\frac{2\\beta\\omega}{\\omega_0^2-\\omega^2}.\n",
    "\\label{_auto10} \\tag{15}\n",
    "\\end{equation}\n",
    "$$"
   ]
  },
  {
   "cell_type": "markdown",
   "metadata": {},
   "source": [
    "## Solving with Driven Oscillations\n",
    "\n",
    "\n",
    "Using the identities $\\tan^2+1=\\csc^2$ and $\\sin^2+\\cos^2=1$, one can also express $\\sin\\delta$ and $\\cos\\delta$,"
   ]
  },
  {
   "cell_type": "markdown",
   "metadata": {},
   "source": [
    "$$\n",
    "\\begin{eqnarray}\n",
    "\\sin\\delta&=&\\frac{2\\beta\\omega}{\\sqrt{(\\omega_0^2-\\omega^2)^2+4\\omega^2\\beta^2}},\\\\\n",
    "\\nonumber\n",
    "\\cos\\delta&=&\\frac{(\\omega_0^2-\\omega^2)}{\\sqrt{(\\omega_0^2-\\omega^2)^2+4\\omega^2\\beta^2}}\n",
    "\\end{eqnarray}\n",
    "$$"
   ]
  },
  {
   "cell_type": "markdown",
   "metadata": {},
   "source": [
    "Inserting the expressions for $\\cos\\delta$ and $\\sin\\delta$ into the expression for $D$,"
   ]
  },
  {
   "cell_type": "markdown",
   "metadata": {},
   "source": [
    "<!-- Equation labels as ordinary links -->\n",
    "<div id=\"eq:Ddrive\"></div>\n",
    "\n",
    "$$\n",
    "\\begin{equation}\n",
    "\\label{eq:Ddrive} \\tag{16}\n",
    "D=\\frac{F_0/m}{\\sqrt{(\\omega_0^2-\\omega^2)^2+4\\omega^2\\beta^2}}.\n",
    "\\end{equation}\n",
    "$$"
   ]
  },
  {
   "cell_type": "markdown",
   "metadata": {},
   "source": [
    "For a given initial condition, e.g. initial displacement and velocity,\n",
    "one must add the homogenous solution then solve for the two arbitrary\n",
    "constants. However, because the homogenous solutions decay with time\n",
    "as $e^{-\\beta t}$, the particular solution is all that remains at\n",
    "large times, and is therefore the steady state solution. Because the\n",
    "arbitrary constants are all in the homogenous solution, all memory of\n",
    "the initial conditions are lost at large times, $t>>1/\\beta$.\n",
    "\n",
    "The amplitude of the motion, $D$, is linearly proportional to the\n",
    "driving force ($F_0/m$), but also depends on the driving frequency\n",
    "$\\omega$. For small $\\beta$ the maximum will occur at\n",
    "$\\omega=\\omega_0$. This is referred to as a resonance. In the limit\n",
    "$\\beta\\rightarrow 0$ the amplitude at resonance approaches infinity.\n",
    "\n",
    "## Alternative Derivation for Driven Oscillators\n",
    "\n",
    "Here, we derive the same expressions as in Equations ([13](#eq:partform)) and ([16](#eq:Ddrive)) but express the driving forces as"
   ]
  },
  {
   "cell_type": "markdown",
   "metadata": {},
   "source": [
    "$$\n",
    "\\begin{eqnarray}\n",
    "F(t)&=&F_0e^{i\\omega t},\n",
    "\\end{eqnarray}\n",
    "$$"
   ]
  },
  {
   "cell_type": "markdown",
   "metadata": {},
   "source": [
    "rather than as $F_0\\cos\\omega t$. The real part of $F$ is the same as before. For the differential equation,"
   ]
  },
  {
   "cell_type": "markdown",
   "metadata": {},
   "source": [
    "<!-- Equation labels as ordinary links -->\n",
    "<div id=\"eq:compdrive\"></div>\n",
    "\n",
    "$$\n",
    "\\begin{eqnarray}\n",
    "\\label{eq:compdrive} \\tag{17}\n",
    "\\ddot{x}+2\\beta\\dot{x}+\\omega_0^2x&=&\\frac{F_0}{m}e^{i\\omega t},\n",
    "\\end{eqnarray}\n",
    "$$"
   ]
  },
  {
   "cell_type": "markdown",
   "metadata": {},
   "source": [
    "one can treat $x(t)$ as an imaginary function. Because the operations\n",
    "$d^2/dt^2$ and $d/dt$ are real and thus do not mix the real and\n",
    "imaginary parts of $x(t)$, Eq. ([17](#eq:compdrive)) is effectively 2\n",
    "equations. Because $e^{\\omega t}=\\cos\\omega t+i\\sin\\omega t$, the real\n",
    "part of the solution for $x(t)$ gives the solution for a driving force\n",
    "$F_0\\cos\\omega t$, and the imaginary part of $x$ corresponds to the\n",
    "case where the driving force is $F_0\\sin\\omega t$. It is rather easy\n",
    "to solve for the complex $x$ in this case, and by taking the real part\n",
    "of the solution, one finds the answer for the $\\cos\\omega t$ driving\n",
    "force.\n",
    "\n",
    "We assume a simple form for the particular solution"
   ]
  },
  {
   "cell_type": "markdown",
   "metadata": {},
   "source": [
    "<!-- Equation labels as ordinary links -->\n",
    "<div id=\"_auto11\"></div>\n",
    "\n",
    "$$\n",
    "\\begin{equation}\n",
    "x_p=De^{i\\omega t},\n",
    "\\label{_auto11} \\tag{18}\n",
    "\\end{equation}\n",
    "$$"
   ]
  },
  {
   "cell_type": "markdown",
   "metadata": {},
   "source": [
    "where $D$ is a complex constant.\n",
    "\n",
    "From Eq. ([17](#eq:compdrive)) one inserts the form for $x_p$ above to get"
   ]
  },
  {
   "cell_type": "markdown",
   "metadata": {},
   "source": [
    "$$\n",
    "\\begin{eqnarray}\n",
    "D\\left\\{-\\omega^2+2i\\beta\\omega+\\omega_0^2\\right\\}e^{i\\omega t}=(F_0/m)e^{i\\omega t},\\\\\n",
    "\\nonumber\n",
    "D=\\frac{F_0/m}{(\\omega_0^2-\\omega^2)+2i\\beta\\omega}.\n",
    "\\end{eqnarray}\n",
    "$$"
   ]
  },
  {
   "cell_type": "markdown",
   "metadata": {},
   "source": [
    "The norm and phase for $D=|D|e^{-i\\delta}$ can be read by inspection,"
   ]
  },
  {
   "cell_type": "markdown",
   "metadata": {},
   "source": [
    "<!-- Equation labels as ordinary links -->\n",
    "<div id=\"_auto12\"></div>\n",
    "\n",
    "$$\n",
    "\\begin{equation}\n",
    "|D|=\\frac{F_0/m}{\\sqrt{(\\omega_0^2-\\omega^2)^2+4\\beta^2\\omega^2}},~~~~\\tan\\delta=\\frac{2\\beta\\omega}{\\omega_0^2-\\omega^2}.\n",
    "\\label{_auto12} \\tag{19}\n",
    "\\end{equation}\n",
    "$$"
   ]
  },
  {
   "cell_type": "markdown",
   "metadata": {},
   "source": [
    "This is the same expression for $\\delta$ as before. One then finds $x_p(t)$,"
   ]
  },
  {
   "cell_type": "markdown",
   "metadata": {},
   "source": [
    "<!-- Equation labels as ordinary links -->\n",
    "<div id=\"eq:fastdriven1\"></div>\n",
    "\n",
    "$$\n",
    "\\begin{eqnarray}\n",
    "\\label{eq:fastdriven1} \\tag{20}\n",
    "x_p(t)&=&\\Re\\frac{(F_0/m)e^{i\\omega t-i\\delta}}{\\sqrt{(\\omega_0^2-\\omega^2)^2+4\\beta^2\\omega^2}}\\\\\n",
    "\\nonumber\n",
    "&=&\\frac{(F_0/m)\\cos(\\omega t-\\delta)}{\\sqrt{(\\omega_0^2-\\omega^2)^2+4\\beta^2\\omega^2}}.\n",
    "\\end{eqnarray}\n",
    "$$"
   ]
  },
  {
   "cell_type": "markdown",
   "metadata": {},
   "source": [
    "This is the same answer as before.\n",
    "If one wished to solve for the case where $F(t)= F_0\\sin\\omega t$, the imaginary part of the solution would work"
   ]
  },
  {
   "cell_type": "markdown",
   "metadata": {},
   "source": [
    "<!-- Equation labels as ordinary links -->\n",
    "<div id=\"eq:fastdriven2\"></div>\n",
    "\n",
    "$$\n",
    "\\begin{eqnarray}\n",
    "\\label{eq:fastdriven2} \\tag{21}\n",
    "x_p(t)&=&\\Im\\frac{(F_0/m)e^{i\\omega t-i\\delta}}{\\sqrt{(\\omega_0^2-\\omega^2)^2+4\\beta^2\\omega^2}}\\\\\n",
    "\\nonumber\n",
    "&=&\\frac{(F_0/m)\\sin(\\omega t-\\delta)}{\\sqrt{(\\omega_0^2-\\omega^2)^2+4\\beta^2\\omega^2}}.\n",
    "\\end{eqnarray}\n",
    "$$"
   ]
  },
  {
   "cell_type": "markdown",
   "metadata": {},
   "source": [
    "## Damped and Driven Oscillator\n",
    "\n",
    "Consider the damped and driven harmonic oscillator worked out above. Given $F_0, m,\\beta$ and $\\omega_0$, solve for the complete solution $x(t)$ for the case where $F=F_0\\sin\\omega t$ with initial conditions $x(t=0)=0$ and $v(t=0)=0$. Assume the underdamped case.\n",
    "\n",
    "The general solution including the arbitrary constants includes both the homogenous and particular solutions,"
   ]
  },
  {
   "cell_type": "markdown",
   "metadata": {},
   "source": [
    "$$\n",
    "\\begin{eqnarray*}\n",
    "x(t)&=&\\frac{F_0}{m}\\frac{\\sin(\\omega t-\\delta)}{\\sqrt{(\\omega_0^2-\\omega^2)^2+4\\beta^2\\omega^2}}\n",
    "+A\\cos\\omega't e^{-\\beta t}+B\\sin\\omega't e^{-\\beta t}.\n",
    "\\end{eqnarray*}\n",
    "$$"
   ]
  },
  {
   "cell_type": "markdown",
   "metadata": {},
   "source": [
    "The quantities $\\delta$ and $\\omega'$ are given earlier in the\n",
    "section, $\\omega'=\\sqrt{\\omega_0^2-\\beta^2},\n",
    "\\delta=\\tan^{-1}(2\\beta\\omega/(\\omega_0^2-\\omega^2)$. Here, solving\n",
    "the problem means finding the arbitrary constants $A$ and\n",
    "$B$. Satisfying the initial conditions for the initial position and\n",
    "velocity:"
   ]
  },
  {
   "cell_type": "markdown",
   "metadata": {},
   "source": [
    "$$\n",
    "\\begin{eqnarray*}\n",
    "x(t=0)=0&=&-\\eta\\sin\\delta+A,\\\\\n",
    "v(t=0)=0&=&\\omega\\eta\\cos\\delta-\\beta A+\\omega'B,\\\\\n",
    "\\eta&\\equiv&\\frac{F_0}{m}\\frac{1}{\\sqrt{(\\omega_0^2-\\omega^2)^2+4\\beta^2\\omega^2}}.\n",
    "\\end{eqnarray*}\n",
    "$$"
   ]
  },
  {
   "cell_type": "markdown",
   "metadata": {},
   "source": [
    "The problem is now reduced to 2 equations and 2 unknowns, $A$ and $B$. The solution is"
   ]
  },
  {
   "cell_type": "markdown",
   "metadata": {},
   "source": [
    "$$\n",
    "\\begin{eqnarray}\n",
    "A&=& \\eta\\sin\\delta ,~~~B=\\frac{-\\omega\\eta\\cos\\delta+\\beta\\eta\\sin\\delta}{\\omega'}.\n",
    "\\end{eqnarray}\n",
    "$$"
   ]
  },
  {
   "cell_type": "markdown",
   "metadata": {},
   "source": [
    "## Resonance Widths; the $Q$ factor\n",
    "\n",
    "From the previous two sections, the particular solution for a driving force, $F=F_0\\cos\\omega t$, is"
   ]
  },
  {
   "cell_type": "markdown",
   "metadata": {},
   "source": [
    "$$\n",
    "\\begin{eqnarray}\n",
    "x_p(t)&=&\\frac{F_0/m}{\\sqrt{(\\omega_0^2-\\omega^2)^2+4\\omega^2\\beta^2}}\\cos(\\omega_t-\\delta),\\\\\n",
    "\\nonumber\n",
    "\\delta&=&\\tan^{-1}\\left(\\frac{2\\beta\\omega}{\\omega_0^2-\\omega^2}\\right).\n",
    "\\end{eqnarray}\n",
    "$$"
   ]
  },
  {
   "cell_type": "markdown",
   "metadata": {},
   "source": [
    "If one fixes the driving frequency $\\omega$ and adjusts the\n",
    "fundamental frequency $\\omega_0=\\sqrt{k/m}$, the maximum amplitude\n",
    "occurs when $\\omega_0=\\omega$ because that is when the term from the\n",
    "denominator $(\\omega_0^2-\\omega^2)^2+4\\omega^2\\beta^2$ is at a\n",
    "minimum. This is akin to dialing into a radio station. However, if one\n",
    "fixes $\\omega_0$ and adjusts the driving frequency one minimize with\n",
    "respect to $\\omega$, e.g. set"
   ]
  },
  {
   "cell_type": "markdown",
   "metadata": {},
   "source": [
    "<!-- Equation labels as ordinary links -->\n",
    "<div id=\"_auto13\"></div>\n",
    "\n",
    "$$\n",
    "\\begin{equation}\n",
    "\\frac{d}{d\\omega}\\left[(\\omega_0^2-\\omega^2)^2+4\\omega^2\\beta^2\\right]=0,\n",
    "\\label{_auto13} \\tag{22}\n",
    "\\end{equation}\n",
    "$$"
   ]
  },
  {
   "cell_type": "markdown",
   "metadata": {},
   "source": [
    "and one finds that the maximum amplitude occurs when\n",
    "$\\omega=\\sqrt{\\omega_0^2-2\\beta^2}$. If $\\beta$ is small relative to\n",
    "$\\omega_0$, one can simply state that the maximum amplitude is"
   ]
  },
  {
   "cell_type": "markdown",
   "metadata": {},
   "source": [
    "<!-- Equation labels as ordinary links -->\n",
    "<div id=\"_auto14\"></div>\n",
    "\n",
    "$$\n",
    "\\begin{equation}\n",
    "x_{\\rm max}\\approx\\frac{F_0}{2m\\beta \\omega_0}.\n",
    "\\label{_auto14} \\tag{23}\n",
    "\\end{equation}\n",
    "$$"
   ]
  },
  {
   "cell_type": "markdown",
   "metadata": {},
   "source": [
    "$$\n",
    "\\begin{eqnarray}\n",
    "\\frac{4\\omega^2\\beta^2}{(\\omega_0^2-\\omega^2)^2+4\\omega^2\\beta^2}=\\frac{1}{2}.\n",
    "\\end{eqnarray}\n",
    "$$"
   ]
  },
  {
   "cell_type": "markdown",
   "metadata": {},
   "source": [
    "For small damping this occurs when $\\omega=\\omega_0\\pm \\beta$, so the $FWHM\\approx 2\\beta$. For the purposes of tuning to a specific frequency, one wants the width to be as small as possible. The ratio of $\\omega_0$ to $FWHM$ is known as the {\\it quality} factor, or $Q$ factor,"
   ]
  },
  {
   "cell_type": "markdown",
   "metadata": {},
   "source": [
    "<!-- Equation labels as ordinary links -->\n",
    "<div id=\"_auto15\"></div>\n",
    "\n",
    "$$\n",
    "\\begin{equation}\n",
    "Q\\equiv \\frac{\\omega_0}{2\\beta}.\n",
    "\\label{_auto15} \\tag{24}\n",
    "\\end{equation}\n",
    "$$"
   ]
<<<<<<< HEAD
=======
  },
  {
   "cell_type": "markdown",
   "metadata": {},
   "source": [
    "## Our Sliding Block Code\n",
    "Here we study first the case without additional friction term and scale our equation\n",
    "in terms of a dimensionless time $\\tau$.\n",
    "\n",
    "Let us remind ourselves about the differential equation we want to solve (the general case with damping due to friction)"
   ]
  },
  {
   "cell_type": "markdown",
   "metadata": {},
   "source": [
    "$$\n",
    "m\\frac{d^2x}{dt^2} + b\\frac{dx}{dt}+kx(t) =0.\n",
    "$$"
   ]
  },
  {
   "cell_type": "markdown",
   "metadata": {},
   "source": [
    "We divide by $m$ and introduce $\\omega_0^2=\\sqrt{k/m}$ and obtain"
   ]
  },
  {
   "cell_type": "markdown",
   "metadata": {},
   "source": [
    "$$\n",
    "\\frac{d^2x}{dt^2} + \\frac{b}{m}\\frac{dx}{dt}+\\omega_0^2x(t) =0.\n",
    "$$"
   ]
  },
  {
   "cell_type": "markdown",
   "metadata": {},
   "source": [
    "## Harmonic Oscillator, Sliding Block\n",
    "\n",
    "Thereafter we introduce a dimensionless time $\\tau = t\\omega_0$ (check\n",
    "that the dimensionality is correct) and rewrite our equation as"
   ]
  },
  {
   "cell_type": "markdown",
   "metadata": {},
   "source": [
    "$$\n",
    "\\frac{d^2x}{d\\tau^2} + \\frac{b}{m\\omega_0}\\frac{dx}{d\\tau}+x(\\tau) =0,\n",
    "$$"
   ]
  },
  {
   "cell_type": "markdown",
   "metadata": {},
   "source": [
    "which gives us"
   ]
  },
  {
   "cell_type": "markdown",
   "metadata": {},
   "source": [
    "$$\n",
    "\\frac{d^2x}{d\\tau^2} + \\frac{b}{m\\omega_0}\\frac{dx}{d\\tau}+x(\\tau) =0.\n",
    "$$"
   ]
  },
  {
   "cell_type": "markdown",
   "metadata": {},
   "source": [
    "## Harmonic Oscillator, Sliding Block, Numerical Aspects\n",
    "\n",
    "\n",
    "We then define $\\gamma = b/(2m\\omega_0)$ and rewrite our equations as"
   ]
  },
  {
   "cell_type": "markdown",
   "metadata": {},
   "source": [
    "$$\n",
    "\\frac{d^2x}{d\\tau^2} + 2\\gamma\\frac{dx}{d\\tau}+x(\\tau) =0.\n",
    "$$"
   ]
  },
  {
   "cell_type": "markdown",
   "metadata": {},
   "source": [
    "This is the equation we will code below. The first version employs the Euler-Cromer method."
   ]
  },
  {
   "cell_type": "code",
   "execution_count": 4,
   "metadata": {},
   "outputs": [
    {
     "data": {
      "image/png": "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\n",
      "text/plain": [
       "<Figure size 576x396 with 1 Axes>"
      ]
     },
     "metadata": {},
     "output_type": "display_data"
    }
   ],
   "source": [
    "%matplotlib inline\n",
    "\n",
    "# Common imports\n",
    "import numpy as np\n",
    "import pandas as pd\n",
    "from math import *\n",
    "import matplotlib.pyplot as plt\n",
    "import os\n",
    "\n",
    "# Where to save the figures and data files\n",
    "PROJECT_ROOT_DIR = \"Results\"\n",
    "FIGURE_ID = \"Results/FigureFiles\"\n",
    "DATA_ID = \"DataFiles/\"\n",
    "\n",
    "if not os.path.exists(PROJECT_ROOT_DIR):\n",
    "    os.mkdir(PROJECT_ROOT_DIR)\n",
    "\n",
    "if not os.path.exists(FIGURE_ID):\n",
    "    os.makedirs(FIGURE_ID)\n",
    "\n",
    "if not os.path.exists(DATA_ID):\n",
    "    os.makedirs(DATA_ID)\n",
    "\n",
    "def image_path(fig_id):\n",
    "    return os.path.join(FIGURE_ID, fig_id)\n",
    "\n",
    "def data_path(dat_id):\n",
    "    return os.path.join(DATA_ID, dat_id)\n",
    "\n",
    "def save_fig(fig_id):\n",
    "    plt.savefig(image_path(fig_id) + \".png\", format='png')\n",
    "\n",
    "\n",
    "from pylab import plt, mpl\n",
    "plt.style.use('seaborn')\n",
    "mpl.rcParams['font.family'] = 'serif'\n",
    "\n",
    "DeltaT = 0.001\n",
    "#set up arrays \n",
    "tfinal = 20 # in years\n",
    "n = ceil(tfinal/DeltaT)\n",
    "# set up arrays for t, v, and x\n",
    "t = np.zeros(n)\n",
    "v = np.zeros(n)\n",
    "x = np.zeros(n)\n",
    "# Initial conditions as simple one-dimensional arrays of time\n",
    "x0 =  1.0 \n",
    "v0 = 0.0\n",
    "x[0] = x0\n",
    "v[0] = v0\n",
    "gamma =1.2\n",
    "# Start integrating using Euler-Cromer's method\n",
    "for i in range(n-1):\n",
    "    # Set up the acceleration\n",
    "    # Here you could have defined your own function for this\n",
    "    a =  -2*gamma*v[i]-x[i]\n",
    "    # update velocity, time and position\n",
    "    v[i+1] = v[i] + DeltaT*a\n",
    "    x[i+1] = x[i] + DeltaT*v[i+1]\n",
    "    t[i+1] = t[i] + DeltaT\n",
    "# Plot position as function of time    \n",
    "fig, ax = plt.subplots()\n",
    "#ax.set_xlim(0, tfinal)\n",
    "ax.set_ylabel('x[m]')\n",
    "ax.set_xlabel('t[s]')\n",
    "ax.plot(t, x)\n",
    "fig.tight_layout()\n",
    "save_fig(\"BlockEulerCromer\")\n",
    "plt.show()"
   ]
  },
  {
   "cell_type": "markdown",
   "metadata": {},
   "source": [
    "When setting up the value of $\\gamma$ we see that for $\\gamma=0$ we get the simple oscillatory motion with no damping.\n",
    "Choosing $\\gamma < 1$ leads to the classical underdamped case with oscillatory motion, but where the motion comes to an end.\n",
    "\n",
    "Choosing $\\gamma =1$ leads to what normally is called critical damping and $\\gamma> 1$ leads to critical overdamping.\n",
    "Try it out and try also to change the initial position and velocity. Setting $\\gamma=1$\n",
    "yields a situation, as discussed above, where the solution approaches quickly zero and does not oscillate. With zero initial velocity it will never cross zero."
   ]
>>>>>>> a7d322089a002bb9f510bda4c4e2da5e6e7849e4
  }
 ],
 "metadata": {
  "kernelspec": {
   "display_name": "Python 3",
   "language": "python",
   "name": "python3"
  },
  "language_info": {
   "codemirror_mode": {
    "name": "ipython",
    "version": 3
   },
   "file_extension": ".py",
   "mimetype": "text/x-python",
   "name": "python",
   "nbconvert_exporter": "python",
   "pygments_lexer": "ipython3",
<<<<<<< HEAD
   "version": "3.6.8"
=======
   "version": "3.8.5"
>>>>>>> a7d322089a002bb9f510bda4c4e2da5e6e7849e4
  }
 },
 "nbformat": 4,
 "nbformat_minor": 4
}
