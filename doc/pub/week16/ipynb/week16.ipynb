{
 "cells": [
  {
   "cell_type": "markdown",
   "id": "e1b878e7",
   "metadata": {
    "editable": true
   },
   "source": [
    "<!-- HTML file automatically generated from DocOnce source (https://github.com/doconce/doconce/)\n",
    "doconce format html week16.do.txt --no_mako -->\n",
    "<!-- dom:TITLE: PHY321: Variational calculus and Summary of Course -->"
   ]
  },
  {
   "cell_type": "markdown",
   "id": "a08bfa18",
   "metadata": {
    "editable": true
   },
   "source": [
    "# PHY321: Variational calculus and Summary of Course\n",
    "**[Morten Hjorth-Jensen](http://mhjgit.github.io/info/doc/web/)**, Department of Physics and Astronomy and Facility for Rare Ion Beams (FRIB), Michigan State University, USA and Department of Physics, University of Oslo, Norway\n",
    "\n",
    "Date: **April 24-28, 2023**"
   ]
  },
  {
   "cell_type": "markdown",
   "id": "8a6d833d",
   "metadata": {
    "editable": true
   },
   "source": [
    "## Aims and Overarching Motivation"
   ]
  },
  {
   "cell_type": "markdown",
   "id": "e18b0c34",
   "metadata": {
    "editable": true
   },
   "source": [
    "### Monday April 24\n",
    "\n",
    "* Variational Calculus, constrained motion and Lagrange multiplier, and Lagrangians with examples\n",
    "\n",
    "* Discussion of problems from exam from 2022, see the included material here. See the solution at <https://github.com/mhjensen/Physics321/blob/master/doc/Homeworks/Solutions/Final2022.ipynb>\n",
    "\n",
    "  * [Video of lecture](https://youtu.be/)\n",
    "\n",
    "  * [Handwritten notes](https://github.com/mhjensen/Physics321/blob/master/doc/HandWrittenNotes/Spring2023/NotesApril24.pdf)\n",
    "\n",
    "**Reading suggestion**: Taylor chapter 7 (except 7.8 and 7.9)"
   ]
  },
  {
   "cell_type": "markdown",
   "id": "7a4c9baa",
   "metadata": {
    "editable": true
   },
   "source": [
    "### Wednesday April 26\n",
    "\n",
    "* Summary of course and discussion of final exam project\n",
    "\n",
    "  * [Video of lecture](https://youtu.be/)\n",
    "\n",
    "  * [Handwritten notes](https://github.com/mhjensen/Physics321/blob/master/doc/HandWrittenNotes/Spring2022/NotesApril26.pdf)\n",
    "\n",
    "**Reading suggestion**: Taylor chapter 7 (except 7.8 and 7.9)"
   ]
  },
  {
   "cell_type": "markdown",
   "id": "18318204",
   "metadata": {
    "editable": true
   },
   "source": [
    "### Friday April 28\n",
    "\n",
    "* Discussion and work on exam project\n",
    "\n",
    "  * [Video of Lecture](https://youtu.be/)\n",
    "\n",
    "The final exam will be available on Wednesday the 26th at 8am. We will discuss it on Wednesday and Friday this week. The deadline is Friday May 5 at midnight (1159pm)."
   ]
  },
  {
   "cell_type": "markdown",
   "id": "b7f8ee1b",
   "metadata": {
    "editable": true
   },
   "source": [
    "## Activities during Finals Week\n",
    "\n",
    "We will keep our in person and zoom sessions MWF 3pm-5pm open for discussions and more, feel free to swing by or just schedule a separate zoom session if these hours don't fit."
   ]
  },
  {
   "cell_type": "markdown",
   "id": "4430b316",
   "metadata": {
    "editable": true
   },
   "source": [
    "## Examples of Lagrangian theory: Small Vibrations and Normal Modes\n",
    "\n",
    "Two examples are provided for solving for normal modes. These are\n",
    "solutions with multiple generalized coordinates, where the motion is\n",
    "that of simple harmonic motion. However, the motion is only simple for\n",
    "a particular set of coordinates $q_1$ and $q_2$,"
   ]
  },
  {
   "cell_type": "markdown",
   "id": "992ba8b7",
   "metadata": {
    "editable": true
   },
   "source": [
    "$$\n",
    "\\begin{eqnarray}\n",
    "q_1&=&A\\cos(\\omega_1 t),\\\\\n",
    "\\nonumber\n",
    "q_2&=&B\\cos(\\omega_2 t),\n",
    "\\end{eqnarray}\n",
    "$$"
   ]
  },
  {
   "cell_type": "markdown",
   "id": "a5c7efca",
   "metadata": {
    "editable": true
   },
   "source": [
    "while it is not necessarily simple in other coordinates. For example\n",
    "if $x=q_1+q_2$, and $y=q_1-q_2$, the $x$ and $y$ motions will contain\n",
    "mixtures of multiple frequencies. For many problems, or in the limit\n",
    "of small vibrations about a minimum, there is some coordinate system\n",
    "where the motion is simple. These are normal modes. Characterizing the\n",
    "normal modes involves finding the frequencies, $\\omega_i$, and the\n",
    "coordinate system where the motion is simple for each coordinate. This\n",
    "involves finding the direction, or the linear combination of $x_i$\n",
    "that form the coordinates $q_i$ in which the motion is that of a\n",
    "single oscillator in each coordinate."
   ]
  },
  {
   "cell_type": "markdown",
   "id": "3bd229dd",
   "metadata": {
    "editable": true
   },
   "source": [
    "## Coupled Springs\n",
    "\n",
    "For a first example, we consider a system of springs, where we write\n",
    "the Lagrangian, then find the normal modes. For the second example, a\n",
    "double pendulum is considered. In this case, one must first make a\n",
    "small angle expansion before finding the modes. In principle, problems\n",
    "could have the same number of normal modes a degrees of freedom. For\n",
    "example, a system of 7 particles moving in three dimensions has 21\n",
    "degrees of freedom. However, some of the degrees of freedom do not\n",
    "have oscillatory behavior. For example, for a rigid body in free\n",
    "space, the angles describing the orientation evolve, but do not\n",
    "oscillate. Also, the center-of-mass coordinates of a system of\n",
    "particles isolated from outside particles moves at constant\n",
    "velocity. One can also describe these as normal modes, but acknowledge\n",
    "that their characteristic frequency is zero, as there are no restoring\n",
    "forces."
   ]
  },
  {
   "cell_type": "markdown",
   "id": "3417280d",
   "metadata": {
    "editable": true
   },
   "source": [
    "## Coupled Springs, Part 1\n",
    "\n",
    "Consider two springs, whose relaxed lengths are $\\ell$, connected to three masses as depicted in the figure here. Describe the two normal modes of the motion. We can write the Lagrangian as"
   ]
  },
  {
   "cell_type": "markdown",
   "id": "2c55da3d",
   "metadata": {
    "editable": true
   },
   "source": [
    "$$\n",
    "\\begin{eqnarray*}\n",
    "\\mathcal{L}&=&\\frac{m}{2}\\dot{x}_1^2+m\\dot{x}_2^2+\\frac{m}{2}\\dot{x}_3^2\n",
    "-\\frac{k}{2}(x_2-x_1-\\ell)^2-\\frac{k}{2}(x_3-x_2-\\ell)^2.\n",
    "\\end{eqnarray*}\n",
    "$$"
   ]
  },
  {
   "cell_type": "markdown",
   "id": "86199ba1",
   "metadata": {
    "editable": true
   },
   "source": [
    "There are three coordinates, thus there are three equations of motion,"
   ]
  },
  {
   "cell_type": "markdown",
   "id": "fd611523",
   "metadata": {
    "editable": true
   },
   "source": [
    "$$\n",
    "\\begin{eqnarray*}\n",
    "m\\ddot{x}_1&=&-k(x_1-x_2+\\ell)\\\\\n",
    "2m\\ddot{x}_2&=&-k(x_2-x_1-\\ell)-k(x_2-x_3+\\ell)\\\\\n",
    "&=&-k(2x_2-x_1-x_3)\\\\\n",
    "m\\ddot{x}_3&=&-k(x_3-x_2+\\ell).\n",
    "\\end{eqnarray*}\n",
    "$$"
   ]
  },
  {
   "cell_type": "markdown",
   "id": "bc21cbbb",
   "metadata": {
    "editable": true
   },
   "source": [
    "## Coupled Springs, Part 2\n",
    "\n",
    "This is a bit complicated because the center-of-mass motion does not easily separate from the three equations. Instead, choose the following coordinates,"
   ]
  },
  {
   "cell_type": "markdown",
   "id": "f573e7da",
   "metadata": {
    "editable": true
   },
   "source": [
    "$$\n",
    "\\begin{eqnarray*}\n",
    "X&=&\\frac{x_1+2x_2+x_3}{4},\\\\\n",
    "q_1&=&x_1-x_2+\\ell,\\\\\n",
    "q_3&=&x_3-x_2-\\ell.\n",
    "\\end{eqnarray*}\n",
    "$$"
   ]
  },
  {
   "cell_type": "markdown",
   "id": "b9d140f9",
   "metadata": {
    "editable": true
   },
   "source": [
    "## Coupled Springs, Part 3\n",
    "\n",
    "In these coordinates the potential energy only involves two coordinates,"
   ]
  },
  {
   "cell_type": "markdown",
   "id": "34424f8b",
   "metadata": {
    "editable": true
   },
   "source": [
    "$$\n",
    "\\begin{eqnarray*}\n",
    "U&=&\\frac{k}{2}(q_1^2+q_3^2).\n",
    "\\end{eqnarray*}\n",
    "$$"
   ]
  },
  {
   "cell_type": "markdown",
   "id": "52948ca3",
   "metadata": {
    "editable": true
   },
   "source": [
    "To express the kinetic energy express $x_1, x_2$ and $x_3$ in terms of\n",
    "$X$, $q_1$ and $q_3$,"
   ]
  },
  {
   "cell_type": "markdown",
   "id": "b56db08f",
   "metadata": {
    "editable": true
   },
   "source": [
    "$$\n",
    "\\begin{eqnarray*}\n",
    "x_1&=&(3q_1-q_3-4\\ell+4X)/4,\\\\\n",
    "x_2&=&(4X-q_1-q_3)/4,\\\\\n",
    "x_3&=&(3q_3-q_1+4\\ell+4X)/4.\n",
    "\\end{eqnarray*}\n",
    "$$"
   ]
  },
  {
   "cell_type": "markdown",
   "id": "9262b988",
   "metadata": {
    "editable": true
   },
   "source": [
    "## Coupled Springs, Part 4\n",
    "\n",
    "The kinetic energy and Lagrangian are them"
   ]
  },
  {
   "cell_type": "markdown",
   "id": "731ffa23",
   "metadata": {
    "editable": true
   },
   "source": [
    "$$\n",
    "\\begin{eqnarray*}\n",
    "T&=&\\frac{m}{2}\\frac{1}{16}(3\\dot{q}_1-\\dot{q}_3+4\\dot{X})^2\n",
    "+m\\frac{1}{16}(4\\dot{X}-\\dot{q}_1-\\dot{q}_3)^2\n",
    "+\\frac{m}{2}\\frac{1}{16}(3\\dot{q}_3-\\dot{q}_1+4\\dot{X})^2\\\\\n",
    "&=&\\frac{3m}{8}(\\dot{q}_1^2+\\dot{q}_3^2)-\\frac{m}{4}\\dot{q}_1\\dot{q}_3\n",
    "+2m\\dot{X}^2,\\\\\n",
    "\\mathcal{L}&=&\\frac{3m}{8}(\\dot{q}_1^2+\\dot{q}_3^2)-\\frac{m}{4}\\dot{q}_1\\dot{q}_3\n",
    "+2m\\dot{X}^2-\\frac{k}{2}q_1^2-\\frac{k}{2}q_3^2.\n",
    "\\end{eqnarray*}\n",
    "$$"
   ]
  },
  {
   "cell_type": "markdown",
   "id": "17b522b2",
   "metadata": {
    "editable": true
   },
   "source": [
    "The three equations of motion are then,"
   ]
  },
  {
   "cell_type": "markdown",
   "id": "e8057cc6",
   "metadata": {
    "editable": true
   },
   "source": [
    "$$\n",
    "\\begin{eqnarray*}\n",
    "\\frac{3}{4}m\\ddot{q}_1-\\frac{1}{4}m\\ddot{q}_3&=&-kq_1,\\\\\n",
    "\\frac{3}{4}m\\ddot{q}_3-\\frac{1}{4}m\\ddot{q}_1&=&-kq_3,\\\\\n",
    "4M\\ddot{X}&=&0.\n",
    "\\end{eqnarray*}\n",
    "$$"
   ]
  },
  {
   "cell_type": "markdown",
   "id": "bea9a80d",
   "metadata": {
    "editable": true
   },
   "source": [
    "## Coupled Springs, Part 5\n",
    "\n",
    "The last equation simply states that the center-of-mass velocity is\n",
    "fixed. One could obtain the same result by summing the equations of\n",
    "motion for $x_1$, $2x_2$ and $x_3$ above. The second two equations are\n",
    "more complicated. To solve them, we assume a form"
   ]
  },
  {
   "cell_type": "markdown",
   "id": "08f49baf",
   "metadata": {
    "editable": true
   },
   "source": [
    "$$\n",
    "\\begin{eqnarray*}\n",
    "q_1&=&Ae^{i\\omega t},\\\\\n",
    "q_3&=&Be^{i\\omega t},\n",
    "\\end{eqnarray*}\n",
    "$$"
   ]
  },
  {
   "cell_type": "markdown",
   "id": "019e993f",
   "metadata": {
    "editable": true
   },
   "source": [
    "Because this is a linear equation, we can multiply the solution by a\n",
    "constant and it will still be a solution. Thus, we can set $B=1$, then\n",
    "solve for $A$, effectively solving for $A/B$. Putting this guess into\n",
    "the equations of motion,"
   ]
  },
  {
   "cell_type": "markdown",
   "id": "ed5d40c7",
   "metadata": {
    "editable": true
   },
   "source": [
    "$$\n",
    "\\begin{eqnarray*}\n",
    "-\\frac{3}{4}\\frac{A}{B}\\omega^2+\\frac{1}{4}\\omega^2&=&-\\omega_0^2\\frac{A}{B},\\\\\n",
    "-\\frac{3}{4}\\omega^2+\\frac{1}{4}\\frac{A}{B}\\omega^2&=&-\\omega_0^2.\n",
    "\\end{eqnarray*}\n",
    "$$"
   ]
  },
  {
   "cell_type": "markdown",
   "id": "c5ebc642",
   "metadata": {
    "editable": true
   },
   "source": [
    "## Coupled Springs, Part 6\n",
    "\n",
    "This is two equations and two unknowns, $\\omega^2$ and\n",
    "$A/B$. Substituting for $A/B$ gives a quadratic equation,"
   ]
  },
  {
   "cell_type": "markdown",
   "id": "bf71b7ec",
   "metadata": {
    "editable": true
   },
   "source": [
    "$$\n",
    "\\begin{eqnarray*}\n",
    "\\omega^4-3\\omega_0^2\\omega^2+2\\omega_0^4&=&0,\\\\\n",
    "\\omega_0^2&\\equiv&k/m.\n",
    "\\end{eqnarray*}\n",
    "$$"
   ]
  },
  {
   "cell_type": "markdown",
   "id": "b4b9f7ab",
   "metadata": {
    "editable": true
   },
   "source": [
    "The two solutions are"
   ]
  },
  {
   "cell_type": "markdown",
   "id": "aa45f885",
   "metadata": {
    "editable": true
   },
   "source": [
    "$$\n",
    "\\begin{eqnarray*}\n",
    "(1)~~\\omega&=&\\omega_0,~~~A=-B,\\\\\n",
    "(2)~~\\omega&=&\\omega_0\\sqrt{2},~~~A=B.\n",
    "\\end{eqnarray*}\n",
    "$$"
   ]
  },
  {
   "cell_type": "markdown",
   "id": "20b1589d",
   "metadata": {
    "editable": true
   },
   "source": [
    "## Coupled Springs, Part 7\n",
    "\n",
    "The first solution corresponds to the two outer masses moving in\n",
    "opposite directions, in sync, with the middle mass fixed. The second\n",
    "solution has both outer masses moving in the same direction, but with\n",
    "the center mass moving opposite. These two solutions are referred to\n",
    "as normal modes, and are characterized by their frequency and by the\n",
    "linear combinations of coordinates that oscillate together. In\n",
    "general, the solution is a linear combination of normal modes, which\n",
    "usually results in a chaotic looking motion. However, once the\n",
    "solution is expressed in terms of the normal modes, each of which\n",
    "oscillates independently in a simple manner, one can better understand\n",
    "the motion. Further, the frequencies of these modes represent the\n",
    "natural resonant frequencies of the system. This is important in the\n",
    "construction of many structures, such as bridges or vehicles."
   ]
  },
  {
   "cell_type": "markdown",
   "id": "8c61bccb",
   "metadata": {
    "editable": true
   },
   "source": [
    "## Double Pendulum, Part 1\n",
    "\n",
    "Consider a double pendulum confined to the $x-y$ plane, where $y$ is\n",
    "vertical. A mass $m$ is connected to the ceiling with a massless\n",
    "string of length $\\ell$. A second mass $m$ hangs from the first mass\n",
    "with an identical massless string of the same length. Using $\\theta_1$\n",
    "and $\\theta_2$ to describe the orientations of the strings relative to\n",
    "the vertical axis, find the Lagrangian and derive the equations of\n",
    "motion, both for arbitrary angles and in the small-angle\n",
    "approximation. Finally, express the equations of motion in the limit\n",
    "of small oscillations."
   ]
  },
  {
   "cell_type": "markdown",
   "id": "3118a95e",
   "metadata": {
    "editable": true
   },
   "source": [
    "## Double Pendulum, Part 2\n",
    "\n",
    "The kinetic and potential energies are:"
   ]
  },
  {
   "cell_type": "markdown",
   "id": "38636a82",
   "metadata": {
    "editable": true
   },
   "source": [
    "$$\n",
    "\\begin{eqnarray*}\n",
    "T&=&\\frac{1}{2}m\\ell^2\\dot{\\theta}_1^2\n",
    "+\\frac{1}{2}m\\left\\{(\\ell\\dot{\\theta}_1\\cos\\theta_1+\\ell\\dot{\\theta}_2\\cos\\theta_2)^2\n",
    "+(\\ell\\dot{\\theta}_1\\sin\\theta_1+\\ell\\dot{\\theta}_2\\sin\\theta_2)^2\\right\\}\\\\\n",
    "&=&\\frac{1}{2}m\\ell^2\\left\\{2\\dot{\\theta}_1^2+\\dot{\\theta}_2^2+2\\dot{\\theta}_1\\dot{\\theta}_2\\cos(\\theta_1-\\theta_2)\n",
    "\\right\\},\\\\\n",
    "U&=&mg\\ell(1-\\cos\\theta_1)+mg\\left[\\ell(1-\\cos\\theta_1)+\\ell(1-\\cos\\theta_2)\\right]\\\\\n",
    "&=&mg\\ell(3-2\\cos\\theta_1-\\cos\\theta_2)\n",
    "\\end{eqnarray*}\n",
    "$$"
   ]
  },
  {
   "cell_type": "markdown",
   "id": "47f7c15d",
   "metadata": {
    "editable": true
   },
   "source": [
    "## Double Pendulum, Part 3\n",
    "\n",
    "Lagrange's equations for $\\theta_1$ lead to"
   ]
  },
  {
   "cell_type": "markdown",
   "id": "d7c460f8",
   "metadata": {
    "editable": true
   },
   "source": [
    "$$\n",
    "\\begin{eqnarray*}\n",
    "m\\ell^2\\frac{d}{dt}\\left\\{2\\dot{\\theta}_1+\\dot{\\theta}_2\\cos(\\theta_1-\\theta_2)\\right\\}&=&\n",
    "-m\\ell^2\\dot{\\theta}_1\\dot{\\theta}_2\\sin(\\theta_1-\\theta_2)\n",
    "-2mg\\ell\\sin\\theta_1,\\\\\n",
    "2\\ddot{\\theta}_1+\\ddot{\\theta}_2\\cos(\\theta_1-\\theta_2)+\\dot{\\theta}_2^2\\sin(\\theta_1-\\theta_2)\n",
    "&=&-2\\omega_0^2\\sin\\theta_1,\\\\\n",
    "\\omega_0^2&\\equiv& g/\\ell,\n",
    "\\end{eqnarray*}\n",
    "$$"
   ]
  },
  {
   "cell_type": "markdown",
   "id": "d6b75da6",
   "metadata": {
    "editable": true
   },
   "source": [
    "and the equations for $\\theta_2$ are"
   ]
  },
  {
   "cell_type": "markdown",
   "id": "fadae6d7",
   "metadata": {
    "editable": true
   },
   "source": [
    "$$\n",
    "\\begin{eqnarray*}\n",
    "m\\ell^2\\frac{d}{dt}\\left\\{\\dot{\\theta}_2+\\dot{\\theta}_1\\cos(\\theta_1-\\theta_2)\\right\\}&=&\n",
    "m\\ell^2\\dot{\\theta}_1\\dot{\\theta}_2\\sin(\\theta_1-\\theta_2)-mg\\ell\\sin\\theta_2,\\\\\n",
    "\\ddot{\\theta}_2+\\ddot{\\theta_1}\\cos(\\theta_1-\\theta_2)&=&\n",
    "-\\omega_0^2\\sin\\theta_2.\n",
    "\\end{eqnarray*}\n",
    "$$"
   ]
  },
  {
   "cell_type": "markdown",
   "id": "a2a51036",
   "metadata": {
    "editable": true
   },
   "source": [
    "## Double Pendulum, Part 4\n",
    "\n",
    "For small oscillations, one can only consider terms linear in $\\theta_1$ and $\\theta_2$ or their derivatives,"
   ]
  },
  {
   "cell_type": "markdown",
   "id": "d8111994",
   "metadata": {
    "editable": true
   },
   "source": [
    "$$\n",
    "\\begin{eqnarray}\n",
    "2\\ddot{\\theta}_1+\\ddot{\\theta}_2&=&-2\\omega_0^2\\theta_1,\\\\\n",
    "\\nonumber\n",
    "\\ddot{\\theta}_1+\\ddot{\\theta}_2&=&-\\omega_0^2\\theta_2.\n",
    "\\end{eqnarray}\n",
    "$$"
   ]
  },
  {
   "cell_type": "markdown",
   "id": "3bad7bbf",
   "metadata": {
    "editable": true
   },
   "source": [
    "To find the solutions, assume they are of the form\n",
    "$\\theta_1=Ae^{i\\omega t}, \\theta_2=Be^{i\\omega t}$. Solve for $\\omega$\n",
    "and $A/B$, noting that $B$ is arbitrary."
   ]
  },
  {
   "cell_type": "markdown",
   "id": "54d9028a",
   "metadata": {
    "editable": true
   },
   "source": [
    "## Double Pendulum, Part 5\n",
    "\n",
    "Plug in the desired form and find"
   ]
  },
  {
   "cell_type": "markdown",
   "id": "706dd88b",
   "metadata": {
    "editable": true
   },
   "source": [
    "$$\n",
    "\\begin{eqnarray*}\n",
    "e^{i\\omega t}(-2\\omega^2A-\\omega^2B)&=&e^{i\\omega t}(-2\\omega_0^2A),\\\\\n",
    "e^{i\\omega t}(-\\omega^2A-\\omega^2B)&=&e^{i\\omega t}(-\\omega_0^2B).\n",
    "\\end{eqnarray*}\n",
    "$$"
   ]
  },
  {
   "cell_type": "markdown",
   "id": "9c2f983e",
   "metadata": {
    "editable": true
   },
   "source": [
    "We can treat $B$ as arbitrary and set it to unity. When we find $A$,\n",
    "it is the same as $A/B$ for arbitrary $B$. This gives the equations"
   ]
  },
  {
   "cell_type": "markdown",
   "id": "5d052ea1",
   "metadata": {
    "editable": true
   },
   "source": [
    "$$\n",
    "\\begin{eqnarray*}\n",
    "2\\omega^2A+\\omega^2&=&2\\omega_0^2A,\\\\\n",
    "\\omega^2A+\\omega^2&=&\\omega_0^2.\n",
    "\\end{eqnarray*}\n",
    "$$"
   ]
  },
  {
   "cell_type": "markdown",
   "id": "9fe0846a",
   "metadata": {
    "editable": true
   },
   "source": [
    "## Double Pendulum, Part 6\n",
    "\n",
    "This is two equations and two unknowns. Solving them leads to a\n",
    "quadratic equation with solutions"
   ]
  },
  {
   "cell_type": "markdown",
   "id": "071482d9",
   "metadata": {
    "editable": true
   },
   "source": [
    "$$\n",
    "\\begin{eqnarray*}\n",
    "A/B&=&\\pm\\frac{1}{\\sqrt{2}},\\\\\n",
    "\\omega^2&=&\\frac{\\omega_0^2}{1\\pm 1/\\sqrt{2}}.\n",
    "\\end{eqnarray*}\n",
    "$$"
   ]
  },
  {
   "cell_type": "markdown",
   "id": "e2e29217",
   "metadata": {
    "editable": true
   },
   "source": [
    "Again, these two solutions are the normal modes, and the general\n",
    "solution is a sum of the two solutions, with two arbitrary\n",
    "constants. For the angles $\\theta_1$ and $\\theta_2$ are:"
   ]
  },
  {
   "cell_type": "markdown",
   "id": "d4026d2c",
   "metadata": {
    "editable": true
   },
   "source": [
    "$$\n",
    "\\begin{eqnarray*}\n",
    "\\theta_1&=&\\frac{A_+}{\\sqrt{2}}e^{i\\omega_+t}, ~\\theta_2=A_+e^{i\\omega_+t},\\\\\n",
    "\\theta_1&=&\\frac{-A_-}{\\sqrt{2}}e^{i\\omega_-t}, ~\\theta_2=A_-e^{i\\omega_-t},\\\\\n",
    "\\omega_{\\pm}&=&\\omega_0\\sqrt{\\frac{1}{1\\pm 1/\\sqrt{2}}}.\n",
    "\\end{eqnarray*}\n",
    "$$"
   ]
  },
  {
   "cell_type": "markdown",
   "id": "bb1af945",
   "metadata": {
    "editable": true
   },
   "source": [
    "## Double Pendulum, Part 7\n",
    "\n",
    "One can also express the solution in vector notation, with the vectors\n",
    "having arbitrary amplitudes $A_+$ and $A_-$,"
   ]
  },
  {
   "cell_type": "markdown",
   "id": "bc6d7a1a",
   "metadata": {
    "editable": true
   },
   "source": [
    "$$\n",
    "\\begin{eqnarray*}\n",
    "\\theta_+&=&\\left(\\begin{array}{c}\n",
    "\\frac{1}{\\sqrt{2}}\\\\ 1\\end{array}\\right)A_+e^{i\\omega_+t},\\\\\n",
    "\\theta_-&=&\\left(\\begin{array}{c}\n",
    "\\frac{-1}{\\sqrt{2}}\\\\ 1\\end{array}\\right)A_-e^{i\\omega_-t}.\n",
    "\\end{eqnarray*}\n",
    "$$"
   ]
  },
  {
   "cell_type": "markdown",
   "id": "1cf835ca",
   "metadata": {
    "editable": true
   },
   "source": [
    "Here, the upper/lower components of the vector describe\n",
    "$\\theta_1/\\theta_2$ respectively."
   ]
  },
  {
   "cell_type": "markdown",
   "id": "0847d310",
   "metadata": {
    "editable": true
   },
   "source": [
    "## Double Pendulum, Part 8\n",
    "\n",
    "These problems can be treated as linear algebra exercises. Linear\n",
    "algebra is not used in this course, but nonetheless we describe how\n",
    "this works for the curious student. In the limit of small vibrations,\n",
    "the equations of motion can be expressed in the form,"
   ]
  },
  {
   "cell_type": "markdown",
   "id": "2e7a52bd",
   "metadata": {
    "editable": true
   },
   "source": [
    "$$\n",
    "\\begin{eqnarray*}\n",
    "M\\ddot{q}&=&-Kq,\n",
    "\\end{eqnarray*}\n",
    "$$"
   ]
  },
  {
   "cell_type": "markdown",
   "id": "3d4ef762",
   "metadata": {
    "editable": true
   },
   "source": [
    "a form that looks like the spring equation. However, $q$ is an\n",
    "$n-$dimensional vector and $M$ and $k$ are $n\\times n$ matrices. In\n",
    "the double pendulum example, the dimensionality is 2 and the $q$\n",
    "refers to the $\\theta_1$ and $\\theta_2$, and the matrices for $M$ and\n",
    "$K$ can be read off as"
   ]
  },
  {
   "cell_type": "markdown",
   "id": "83132fcd",
   "metadata": {
    "editable": true
   },
   "source": [
    "$$\n",
    "M=\\begin{bmatrix} 2&1\\\\ 1&1\\end{bmatrix},\n",
    "$$"
   ]
  },
  {
   "cell_type": "markdown",
   "id": "5bbc5430",
   "metadata": {
    "editable": true
   },
   "source": [
    "and"
   ]
  },
  {
   "cell_type": "markdown",
   "id": "29db3cbb",
   "metadata": {
    "editable": true
   },
   "source": [
    "$$\n",
    "K=\\begin{bmatrix} 2\\omega_0^2&0\\\\ 0&\\omega_0^2\\end{bmatrix}.\n",
    "$$"
   ]
  },
  {
   "cell_type": "markdown",
   "id": "bc88d412",
   "metadata": {
    "editable": true
   },
   "source": [
    "## Double Pendulum, Part 9\n",
    "\n",
    "Multiplying both sides of the equation by the inverse matrix $M^{-1}$,"
   ]
  },
  {
   "cell_type": "markdown",
   "id": "967f3ec8",
   "metadata": {
    "editable": true
   },
   "source": [
    "$$\n",
    "\\begin{eqnarray*}\n",
    "\\ddot{q}&=&-\\left(M^{-1}K\\right)q.\n",
    "\\end{eqnarray*}\n",
    "$$"
   ]
  },
  {
   "cell_type": "markdown",
   "id": "2da1ef28",
   "metadata": {
    "editable": true
   },
   "source": [
    "Here,"
   ]
  },
  {
   "cell_type": "markdown",
   "id": "4066d8a5",
   "metadata": {
    "editable": true
   },
   "source": [
    "$$\n",
    "\\begin{eqnarray*}\n",
    "M^{-1}&=&\\left(\\begin{array}{cc}\n",
    "1&-1\\\\\n",
    "-1&2\\end{array}\\right),\\\\\n",
    "M^{-1}K&=&\\left(\\begin{array}{cc}\n",
    "2&-1\\\\\n",
    "-2&2\\end{array}\\right)\\omega_0^2.\n",
    "\\end{eqnarray*}\n",
    "$$"
   ]
  },
  {
   "cell_type": "markdown",
   "id": "eee5517a",
   "metadata": {
    "editable": true
   },
   "source": [
    "## Double Pendulum, Part 10\n",
    "\n",
    "One can find a transformation, basically a rotation, that transforms\n",
    "to a frame where $M^{-1}K$ is diagonal. In this coordinate system the\n",
    "diagonal components of $M^{-1}K$ represent the squared frequencies of\n",
    "the normal modes,"
   ]
  },
  {
   "cell_type": "markdown",
   "id": "127c58bf",
   "metadata": {
    "editable": true
   },
   "source": [
    "$$\n",
    "M^{-1}K\\rightarrow -\\left(\\begin{array}{cc}\n",
    "\\omega_+^2&0\\\\\n",
    "0&\\omega_-^2\\end{array}\\right)~,\n",
    "$$"
   ]
  },
  {
   "cell_type": "markdown",
   "id": "ddd63f38",
   "metadata": {
    "editable": true
   },
   "source": [
    "and are known as \"eigen\" frequencies. The corresponding unit vectors,"
   ]
  },
  {
   "cell_type": "markdown",
   "id": "c7278fc8",
   "metadata": {
    "editable": true
   },
   "source": [
    "$$\n",
    "\\left(\\begin{array}{c}\n",
    "1\\\\0\\end{array}\\right)~{\\rm and}~\\left(\\begin{array}{c}\n",
    "0\\\\1\\end{array}\\right)~{\\rm in~the~new~coordinate~system},\n",
    "$$"
   ]
  },
  {
   "cell_type": "markdown",
   "id": "a1c1979b",
   "metadata": {
    "editable": true
   },
   "source": [
    "can be rotated back into the original frame, and become the solutions\n",
    "for the normal modes. These are then called \"eigenvectors\", which\n",
    "are the same as the normal modes. Finding the eigenfrequencies is\n",
    "performed by realizing that the determinant of a matrix is unchanged\n",
    "by the rotation between coordinate systems. Writing the equations of\n",
    "motion as an eigenvalue problem,"
   ]
  },
  {
   "cell_type": "markdown",
   "id": "97ae47c4",
   "metadata": {
    "editable": true
   },
   "source": [
    "$$\n",
    "\\begin{eqnarray}\n",
    "\\left[A-\\lambda_i\\mathbb{1}\\right]u_i&=&0,~~~A\\equiv M^{-1}K,~\\lambda_i\\equiv \\omega^2_i.\n",
    "\\end{eqnarray}\n",
    "$$"
   ]
  },
  {
   "cell_type": "markdown",
   "id": "9f344433",
   "metadata": {
    "editable": true
   },
   "source": [
    "## Double Pendulum, Part 11\n",
    "\n",
    "In the coordinate system where $M^{-1}K$ is diagonal, and the forms\n",
    "for $u_i$ are simple this requires that in that system, the diagonal\n",
    "elements of $M^{-1}K$ are the eigenvalues, $\\omega_i^2$. For each\n",
    "$\\omega^2_i$, the determinant $|A-\\lambda_i\\mathbb{1}|$ must\n",
    "vanish. This is then true in any coordinate system,"
   ]
  },
  {
   "cell_type": "markdown",
   "id": "a2ea475a",
   "metadata": {
    "editable": true
   },
   "source": [
    "$$\n",
    "\\begin{eqnarray}\n",
    "{\\rm det}\\left[A-\\lambda\\mathbb{1}\\right]&=&0,\n",
    "\\end{eqnarray}\n",
    "$$"
   ]
  },
  {
   "cell_type": "markdown",
   "id": "5fc41d03",
   "metadata": {
    "editable": true
   },
   "source": [
    "which for a $2\\times 2$ matrix becomes"
   ]
  },
  {
   "cell_type": "markdown",
   "id": "87e641d7",
   "metadata": {
    "editable": true
   },
   "source": [
    "$$\n",
    "\\begin{eqnarray}\n",
    "\\left|\n",
    "\\begin{array}{cc}\n",
    "A_{11}-\\lambda&A_{12}\\\\\n",
    "A_{21}&A_{22}-\\lambda\n",
    "\\end{array}\n",
    "\\right|&=&0,\\\\\n",
    "A_{11}A_{22}-\\lambda A_{11}-\\lambda A_{22}+\\lambda^2-A_{21}A_{12}&=&0.\n",
    "\\end{eqnarray}\n",
    "$$"
   ]
  },
  {
   "cell_type": "markdown",
   "id": "f86c21cf",
   "metadata": {
    "editable": true
   },
   "source": [
    "## Double Pendulum, Part 12\n",
    "\n",
    "One can solve a quadratic equation for $\\lambda$, which gives two\n",
    "eigenvalues corresponding to $\\omega_+^2$ and $\\omega_-^2$ found\n",
    "above. Choosing one of the eigenvalues, one can insert one of the\n",
    "eigenvalues $\\lambda_i$ into the eigenvalue problem  and solve for $u_i$,\n",
    "then choose the other eigenvalue and solve for the other corresponding\n",
    "vector.\n",
    "\n",
    "If this were a 3-dimensional set of equations, the determinant would\n",
    "include terms like $\\lambda^3$ and would become a cubic equation with\n",
    "three eigenvalues. One would then solve for three eigenvectors. If one\n",
    "has a system with dimensionality $n>2$, one usually resorts to solving\n",
    "the problem numerically due to the messiness of the algebra. The main\n",
    "programming languages all have packages which readily diagonalize\n",
    "matrices and find eigenvectors and eigenvalues."
   ]
  },
  {
   "cell_type": "markdown",
   "id": "697baaf5",
   "metadata": {
    "editable": true
   },
   "source": [
    "## Conservation Laws\n",
    "\n",
    "Energy is conserved only when the Lagrangian has no explicit\n",
    "dependence on time, i.e. $L(q,\\dot{q})$, not $L(q,\\dot{q},t)$. To show\n",
    "this, we first define the Hamiltonian,"
   ]
  },
  {
   "cell_type": "markdown",
   "id": "b4229f08",
   "metadata": {
    "editable": true
   },
   "source": [
    "$$\n",
    "\\begin{eqnarray}\n",
    "H&=&\\sum_i\\left(\\dot{q}_i\\frac{\\partial L}{\\partial\\dot{q}_i}\\right)-L.\n",
    "\\end{eqnarray}\n",
    "$$"
   ]
  },
  {
   "cell_type": "markdown",
   "id": "03e331e2",
   "metadata": {
    "editable": true
   },
   "source": [
    "After showing that $H$ is conserved, i.e. $(d/dt)H=0$, we then show\n",
    "that $H$ can be identified with the total energy, $H=T+V$.\n",
    "\n",
    "One can see that $H$ is conserved by applying first using the chain\n",
    "rule for $(d/dt)H$, then applying Lagrange's\n",
    "equations,"
   ]
  },
  {
   "cell_type": "markdown",
   "id": "120913b5",
   "metadata": {
    "editable": true
   },
   "source": [
    "$$\n",
    "\\begin{eqnarray}\n",
    "\\frac{d}{dt}H&=&\\sum_i\\left\\{\\ddot{q}_i\\frac{\\partial L}{\\partial\\dot{q}_i}+\\dot{q}_i\\frac{d}{dt}\\left(\\frac{\\partial L}{\\partial\\dot{q}_i}\\right)-\\frac{\\partial L}{\\partial\\dot{q}_i}\\ddot{q}_i-\\frac{\\partial L}{\\partial q_i}\\dot{q}_i\\right\\}\\\\\n",
    "\\nonumber\n",
    "&=&\\sum_i\\left\\{\\ddot{q}_i\\frac{\\partial L}{\\partial\\dot{q}_i}+\\dot{q}_i\\frac{\\partial L}{\\partial q_i}-\\frac{\\partial L}{\\partial\\dot{q}_i}\\ddot{q}_i-\\frac{\\partial L}{\\partial q_i}\\dot{q}_i\\right\\}\\\\\n",
    "\\nonumber\n",
    "&=&0.\n",
    "\\end{eqnarray}\n",
    "$$"
   ]
  },
  {
   "cell_type": "markdown",
   "id": "63f11ea9",
   "metadata": {
    "editable": true
   },
   "source": [
    "## Convervation Laws, part 2\n",
    "\n",
    "These steps assumed that $L$ had no explicit time dependence, i.e. $L$\n",
    "is a function of $q$ and $\\dot{q}$, but not of $t$.\n",
    "\n",
    "Next, we show that $L$ can be identified with the energy. Because $V$ does not depend on $\\dot{q}$,"
   ]
  },
  {
   "cell_type": "markdown",
   "id": "ce3c9ee7",
   "metadata": {
    "editable": true
   },
   "source": [
    "<!-- Equation labels as ordinary links -->\n",
    "<div id=\"_auto1\"></div>\n",
    "\n",
    "$$\n",
    "\\begin{equation}\n",
    "H=\\sum_i\\frac{\\partial T}{\\partial\\dot{q}_i}\\dot{q}_i-T+V.\n",
    "\\label{_auto1} \\tag{1}\n",
    "\\end{equation}\n",
    "$$"
   ]
  },
  {
   "cell_type": "markdown",
   "id": "ed2b73b7",
   "metadata": {
    "editable": true
   },
   "source": [
    "If the kinetic energy has a purely quadratic form in terms of $\\dot{q}$,"
   ]
  },
  {
   "cell_type": "markdown",
   "id": "8f3067f6",
   "metadata": {
    "editable": true
   },
   "source": [
    "<!-- Equation labels as ordinary links -->\n",
    "<div id=\"_auto2\"></div>\n",
    "\n",
    "$$\n",
    "\\begin{equation}\n",
    "T=\\sum_{ij}A_{ij}(q)\\dot{q}_i\\dot{q}_j,\n",
    "\\label{_auto2} \\tag{2}\n",
    "\\end{equation}\n",
    "$$"
   ]
  },
  {
   "cell_type": "markdown",
   "id": "fe884756",
   "metadata": {
    "editable": true
   },
   "source": [
    "the expression for the energy  becomes"
   ]
  },
  {
   "cell_type": "markdown",
   "id": "0fe3ff77",
   "metadata": {
    "editable": true
   },
   "source": [
    "$$\n",
    "\\begin{eqnarray}\n",
    "H&=&\\sum_{ij}2A_{ij}(q)\\dot{q}_i\\dot{q}_j-\\sum_{ij}A_{ij}(q)\\dot{q}_i\\dot{q}_j+V\\\\\n",
    "\\nonumber\n",
    "&=&T+V.\n",
    "\\end{eqnarray}\n",
    "$$"
   ]
  },
  {
   "cell_type": "markdown",
   "id": "6c3f942c",
   "metadata": {
    "editable": true
   },
   "source": [
    "## Convervation Laws, part 3\n",
    "\n",
    "The proof that $H$ equals the energy hinged on the fact that the\n",
    "kinetic energy was quadratic in $\\dot{q}$. This can be attributed to\n",
    "time-reversal symmetry. Because the Cartesian coordinates $x_i$ do not\n",
    "depend on $\\dot{q}_i$ or on time, $\\dot{x}_i=(\\partial x_i/\\partial\n",
    "q_j)\\dot{q}_j$. Thus, the kinetic energy, $T=m\\dot{x}_i^2/2$, should\n",
    "be proportional to two powers of $\\dot{q}$, which validates the\n",
    "assumption above."
   ]
  },
  {
   "cell_type": "markdown",
   "id": "95388126",
   "metadata": {
    "editable": true
   },
   "source": [
    "## Convervation Laws, part 4\n",
    "\n",
    "Here, energy conservation is predicated on the Lagrangian not having\n",
    "an explicit time dependence. Without an explicit time dependence the\n",
    "equations of motion are unchanged if one translates a fixed amount in\n",
    "time because the physics does not depend on when the clock starts. In\n",
    "contrast, the absolute time becomes relevant if there is an explicit\n",
    "time dependence. In fact, conservation laws can usually be associated\n",
    "with symmetries. In this case the translation symmetry in time leads\n",
    "to energy conservation.\n",
    "\n",
    "For another example of how symmetry leads to conservation laws,\n",
    "consider a Lagrangian for a particle of mass $m$ moving in a\n",
    "two-dimensional plane where the generalized coordinates are the radius\n",
    "$r$ and the angle $\\theta$. The kinetic energy would be"
   ]
  },
  {
   "cell_type": "markdown",
   "id": "35250cbf",
   "metadata": {
    "editable": true
   },
   "source": [
    "<!-- Equation labels as ordinary links -->\n",
    "<div id=\"_auto3\"></div>\n",
    "\n",
    "$$\n",
    "\\begin{equation}\n",
    "T=\\frac{1}{2}m\\left\\{\\dot{r}^2+r^2\\dot{\\theta}^2\\right\\},\n",
    "\\label{_auto3} \\tag{3}\n",
    "\\end{equation}\n",
    "$$"
   ]
  },
  {
   "cell_type": "markdown",
   "id": "bcd0f2c0",
   "metadata": {
    "editable": true
   },
   "source": [
    "and if the potential energy $V(r)$ depends only on the radius $r$ and\n",
    "not on the angle, Lagrange's equations become"
   ]
  },
  {
   "cell_type": "markdown",
   "id": "1833a965",
   "metadata": {
    "editable": true
   },
   "source": [
    "$$\n",
    "\\begin{eqnarray}\n",
    "\\frac{d}{dt}(m\\dot{r})&=&-\\frac{\\partial V}{\\partial r}+m\\dot{\\theta}^2r,\\\\\n",
    "\\nonumber\n",
    "\\frac{d}{dt}(mr^2\\dot{\\theta})&=&0.\n",
    "\\end{eqnarray}\n",
    "$$"
   ]
  },
  {
   "cell_type": "markdown",
   "id": "b4dad391",
   "metadata": {
    "editable": true
   },
   "source": [
    "## Convervation Laws, part 4\n",
    "\n",
    "The second equation implies that $mr^2\\dot{\\theta}$ is a\n",
    "constant. Indeed, it is the angular momentum which is conserved for a\n",
    "radial force. Here, the conservation of angular momentum is associated\n",
    "with the independence of the physics to changes in $\\theta$, or in\n",
    "other words, rotational invariance. Once one knows the fact that\n",
    "$L=mr^2\\dot{\\theta}$ is conserved, it can be inserted into the\n",
    "equations of motion for $\\dot{r}$,"
   ]
  },
  {
   "cell_type": "markdown",
   "id": "5dc282c2",
   "metadata": {
    "editable": true
   },
   "source": [
    "<!-- Equation labels as ordinary links -->\n",
    "<div id=\"_auto4\"></div>\n",
    "\n",
    "$$\n",
    "\\begin{equation}\n",
    "m\\ddot{r}=-\\frac{\\partial V}{\\partial r}+\\frac{L^2}{mr^3}.\n",
    "\\label{_auto4} \\tag{4}\n",
    "\\end{equation}\n",
    "$$"
   ]
  },
  {
   "cell_type": "markdown",
   "id": "b7eca1fb",
   "metadata": {
    "editable": true
   },
   "source": [
    "This is related to [Emmy Noether's theorem](http://en.wikipedia.org/wiki/Noether's_theorem)\n",
    "\n",
    "Simply stated, if the Lagrangian $L$ is independent of $q_i$, one can\n",
    "see that the quantity $\\partial L/\\partial\\dot{q}_i$ is conserved,"
   ]
  },
  {
   "cell_type": "markdown",
   "id": "f8c0601f",
   "metadata": {
    "editable": true
   },
   "source": [
    "<!-- Equation labels as ordinary links -->\n",
    "<div id=\"_auto5\"></div>\n",
    "\n",
    "$$\n",
    "\\begin{equation}\n",
    "\\frac{d}{dt}\\frac{\\partial L}{\\partial\\dot{q}_i}=0.\n",
    "\\label{_auto5} \\tag{5}\n",
    "\\end{equation}\n",
    "$$"
   ]
  },
  {
   "cell_type": "markdown",
   "id": "add3f147",
   "metadata": {
    "editable": true
   },
   "source": [
    "## Convervation Laws, Another Example\n",
    "\n",
    "Another easy example is in Cartesian coordinates where the potential\n",
    "depends only on $x$ and $y$ but not on $z$. In that case, there is a\n",
    "translational symmetry. From the last equation, this translates\n",
    "into conservation of the momentum in the $z$ direction.\n",
    "\n",
    "Consider a pair of particles of mass $m_1$ and $m_2$ where the potential is of the form"
   ]
  },
  {
   "cell_type": "markdown",
   "id": "1162283d",
   "metadata": {
    "editable": true
   },
   "source": [
    "$$\n",
    "U(\\boldsymbol{r}_1,\\boldsymbol{r}_2)=V_a(|m_1\\boldsymbol{r}_1+m_2\\boldsymbol{r}_2|/(m_1+m_2))+V_b(|\\boldsymbol{r}_1-\\boldsymbol{r}_2|).\n",
    "$$"
   ]
  },
  {
   "cell_type": "markdown",
   "id": "4251ecdc",
   "metadata": {
    "editable": true
   },
   "source": [
    "Using symmetry arguments alone, are there any conserved components of\n",
    "the momentum? or the angular momentum??\n",
    "\n",
    "There is no translational invariance, hence there are no conserved\n",
    "components of the momentum. However, there is rotational invariance\n",
    "about any axis that goes through the origin. Hence, there is angular\n",
    "momentum conservation in all three directions. Symmetry arguments are\n",
    "great ways to recognize the existence of conserved quantities, but\n",
    "actually expressing them in terms of coordinates can be tricky. For\n",
    "instance, you may need to write the Lagrangian in terms of angles.\n",
    "\n",
    "<!-- more examples to be added, in particular develop better pendulum model with constraints -->\n",
    "<!-- Add material about angular momentum conservation and linear momentum. -->\n",
    "<!-- Add material about non-inertial frames -->\n",
    "<!-- Double pendulum and Foucalt's pendulum -->\n",
    "<!-- Revisit oscillations and example on earthquake models -->"
   ]
  },
  {
   "cell_type": "markdown",
   "id": "f529c351",
   "metadata": {
    "editable": true
   },
   "source": [
    "## Final exam from spring semester 2022"
   ]
  },
  {
   "cell_type": "markdown",
   "id": "21930c85",
   "metadata": {
    "editable": true
   },
   "source": [
    "### Exercise 1, Two-body Problems and Conservative Forces (total 35pt)\n",
    "\n",
    "The relevant material can be found in Taylor chapters 4 and 8. Homework sets 5, 6-9 and the chapters on [forces](https://mhjensen.github.io/Physics321/doc/LectureNotes/_build/html/chapter4.html) and [two-body problems](https://mhjensen.github.io/Physics321/doc/LectureNotes/_build/html/chapter6.html) from the lecture notes may also be of use. \n",
    "\n",
    "This exercise and the next are  follow-ups of homework 6. There we studied the so-called\n",
    "[Lennard-Jones potential](https://en.wikipedia.org/wiki/Lennard-Jones_potential) which is widely used in molecular dynamics\n",
    "calculations and in the simulations of [quantum liquids](https://journals.aps.org/prb/abstract/10.1103/PhysRevB.40.11070). This potential is based on parametrizations from\n",
    "experiments. In [molecular dynamics calculations](https://en.wikipedia.org/wiki/Molecular_dynamics) the assumption is\n",
    "that atoms move according to the laws of Newton, given the correct\n",
    "model for interactions. We can say then that quantum-mechanical\n",
    "degrees of freedom stemming from complicated interactions between electrons\n",
    "and protons in an atom, are parametrized in terms of an effective\n",
    "potential.\n",
    "\n",
    "We will limit ourselves to a two-body problem.\n",
    "\n",
    "The goal of this exercise is to model a gas of argon atoms (here two\n",
    "atoms only interacting), where the atoms interact according to the\n",
    "famous Lennard-Jones potential,"
   ]
  },
  {
   "cell_type": "markdown",
   "id": "4db5911c",
   "metadata": {
    "editable": true
   },
   "source": [
    "<!-- Equation labels as ordinary links -->\n",
    "<div id=\"eq:lj\"></div>\n",
    "\n",
    "$$\n",
    "\\begin{equation}\n",
    "    V(r) = 4\\varepsilon\\left((\\frac{\\sigma}{r})^{12} - (\\frac{\\sigma}{r})^6\\right), \\label{eq:lj} \\tag{6}\n",
    "\\end{equation}\n",
    "$$"
   ]
  },
  {
   "cell_type": "markdown",
   "id": "b01122aa",
   "metadata": {
    "editable": true
   },
   "source": [
    "where $r$ is the distance between two atoms,\n",
    "$r=\\vert\\boldsymbol{r}_i-\\boldsymbol{r}_j\\vert$, that is the norm of the relative\n",
    "distance vector $\\boldsymbol{r}$. The quantities $\\sigma$ and $\\varepsilon$ are\n",
    "parameters which determine which chemical compound is modelled. This\n",
    "potential is a good approximation for noble gases like helium, neon, argon and other.\n",
    "\n",
    "We start first with a basic study of the potential\n",
    "\n",
    "* **1a (5pt):** Plot the potential as a function of $r$ with $\\varepsilon=1$ and $\\sigma=1$, for example for $r \\in [0.9,3]$.\n",
    "\n",
    "* **1b (5pt):** The behaviour of $V(r)$ is vastly different for $r < \\sigma$ and $r > \\sigma$. Which term in the potential, ([6](#eq:lj)), dominates in each case and what is the effect?\n",
    "\n",
    "* **1c (5pt):** Find and characterize the equilibrium points of the potential.\n",
    "\n",
    "* **1d (5pt):** Describe qualitatively the motion of two atoms which start at rest separated by a distance of ${1.5}\\sigma$. What if they start with a separation of ${0.95}\\sigma$?  (Hint: use the graph of the potential.)\n",
    "\n",
    "Then we switch our attention to the equations of motion.\n",
    "\n",
    "* **1e (5pt):** Find the force on atom $i$ at position $\\boldsymbol{r}_i$ from atom $j$ at position $\\boldsymbol{r}_j$. Is this a conservative force?\n",
    "\n",
    "* **1f (5pt):**  Are linear and angular momentum conserved? You need to show this by calculating the relevant quantities. Hint: see homework set 4 and exercise 2.\n",
    "\n",
    "* **1g (5pt):** Show that the equation of motion for atom $i$ is"
   ]
  },
  {
   "cell_type": "markdown",
   "id": "199bc84d",
   "metadata": {
    "editable": true
   },
   "source": [
    "$$\n",
    "\\frac{d^2\\boldsymbol{r}_i}{dt^2} = \\frac{24\\varepsilon}{m} \\sum_{j \\neq i} \\left(2(\\frac{\\sigma}{\\vert\\boldsymbol{r}_i-\\boldsymbol{r}_j}\\vert)^{12}-(\\frac{\\sigma}{\\vert\\boldsymbol{r}_i-\\boldsymbol{r}_j}\\vert)^6\\right)\\frac{\\boldsymbol{r}_i-\\boldsymbol{r}_j}{\\vert\\boldsymbol{r}_i-\\boldsymbol{r}_j\\vert^2}.\n",
    "$$"
   ]
  },
  {
   "cell_type": "markdown",
   "id": "80625f16",
   "metadata": {
    "editable": true
   },
   "source": [
    "### Exercise 2, Two-body Problems and Conservative Forces, Numerical Studies (50pt)\n",
    "\n",
    "In this exercise we will solve the previous equations of motion numerically and study the solutions.\n",
    "Here you can use the same codes you developed in homework sets 5-9 and the second midterm.\n",
    "\n",
    "Numerical accuracy is reduced when computing with values which are\n",
    "many orders of magnitude apart. This is often an issue in physics, and\n",
    "molecular dynamics is no exception. For example, the mass of argon is\n",
    "smaller than 10E-25kg, while typical length scales are\n",
    "on the order of nanometers, 10E-9m.\n",
    "\n",
    "The remedy is to change units so that most quantities are close to\n",
    "$1$. From ([6](#eq:lj)) it is clear that $\\sigma$ and $\\varepsilon$\n",
    "are the typical scales for length and energy.\n",
    "\n",
    "* **2a (5pt):** Introduce the scaled coordinates $\\boldsymbol{r}_i\\,'=\\boldsymbol{r}_i/\\sigma$ and show that the equation of motion can be rewritten in terms of these coordinates as (where $t'=t/\\tau$ for a suitable choice of $\\tau$.)"
   ]
  },
  {
   "cell_type": "markdown",
   "id": "bed51017",
   "metadata": {
    "editable": true
   },
   "source": [
    "<!-- Equation labels as ordinary links -->\n",
    "<div id=\"eq:undim\"></div>\n",
    "\n",
    "$$\n",
    "\\begin{equation}\n",
    "\\frac{d^2\\boldsymbol{r}_i\\,'}{{dt'^2}} = 24 \\sum_{j \\neq i} \\left(2\\vert\\boldsymbol{r}_i\\,'-\\boldsymbol{r}_j\\,'\\vert^{-12}-\\vert\\boldsymbol{r}_i\\,'-\\boldsymbol{r}_j\\,'\\vert^{-6}\\right)\\frac{\\boldsymbol{r}_i\\,'-\\boldsymbol{r}_j\\,'}{\\vert\\boldsymbol{r}_i\\,'-\\boldsymbol{r}_j\\,'\\vert^2}, \\label{eq:undim} \\tag{7}\n",
    "\\end{equation}\n",
    "$$"
   ]
  },
  {
   "cell_type": "markdown",
   "id": "a79f7004",
   "metadata": {
    "editable": true
   },
   "source": [
    "* **2b (5pt):** What is the characteristic time scale $\\tau$, and what is its value for argon, which has $\\sigma=3.405$Å (1Å=1E-10m), $m = 39.95u$ (with 1u=1.66E-27kg) and $\\varepsilon=1.0318$ E-2eV (1eV=1.602E-19J)?\n",
    "\n",
    "We switch now to a numerical procedure and study the simulation of two interacting atoms.\n",
    "* **2c (10pt):** Write a function which solves ([7](#eq:undim)) for two atoms and find the positions and velocities of the atoms as a function of time. Implement either the Euler-Cromer or the Velocity-Verlet methods to solve the equations of motion (you can reuse your codes from homework sets 5-9 or the second midterm).\n",
    "\n",
    "* **2d (5pt):** Simulate the motion of two atoms which start at rest separated by a distance of ${1.5}\\sigma$. Use $\\Delta t'={0.01}$, simulate until $t'=5$ and integrate with one of the above methods. Plot the distance between the atoms as a function of time. How does the motion fit with your expectations? What type of motion do you expect?\n",
    "\n",
    "* **2e (5pt):** Repeat the previous tasks, but now with an initial separation of $0.95\\sigma$. Explain your results. \n",
    "\n",
    "* **2f (10pt):** Compute and plot the kinetic, potential and total energy as a function of time for the time interval from exercise  2d and the initial conditions from 2d and 2e. Should the total energy be conserved? Why, or why not? Here you can use your codes from the second midterm for computing the energies.\n",
    "\n",
    "* **2g (10pt):** Is angular momentum conserved (see your answers to 1f). How would you show this numerically? Hint: see your answers to the second midterm, exercise 1c."
   ]
  },
  {
   "cell_type": "markdown",
   "id": "1b29d936",
   "metadata": {
    "editable": true
   },
   "source": [
    "### Exercise 3, Lagrangian formalism and the Lennard-Jones potential (35pt)\n",
    "\n",
    "The relevant chapters from Taylor are chapters 6-7 and 8. In addition he lectures\n",
    "notes on the [Lagrangian Formalism and Calculus of\n",
    "Variations](https://mhjensen.github.io/Physics321/doc/LectureNotes/_build/html/chapter8.html) can be of use. You\n",
    "need also results from the two-body problem of chapter 8 of Taylor and\n",
    "the lecture notes [two-body\n",
    "problems](https://mhjensen.github.io/Physics321/doc/LectureNotes/_build/html/chapter6.html).\n",
    "\n",
    "We will stay with a two-body problem only with particles $1$ and $2$, as in the two previous exercises.  \n",
    "We introduce the relative mass $\\mu=m_1m_2/M$ where the total mass $M=m_1+m_2$, the sum of the masses $m_1$ and $m_2$.\n",
    "\n",
    "* **3a (5pt):** Define the center-of-mass position $\\boldsymbol{R}$ and the relative position $\\boldsymbol{r}$ in terms of the masses and the positions of particles one and two $\\boldsymbol{r}_1$ and $\\boldsymbol{r}_2$, respectively. Define then the center-of-mass frame by setting $\\boldsymbol{R}=0$. Show then that you can write the total angular momentum as $\\boldsymbol{L}=\\mu(\\boldsymbol{r}\\times \\dot{\\boldsymbol{r}})$. Hint: See Taylor section 8.3. How do you interpret the angular momentum?  Why can we reduce the motion of two particles to a problem in two dimensions only?\n",
    "\n",
    "* **3b (10pt):** We introduce polar coordinates with $r\\in [0,\\infty)$ and $\\phi\\in[0,2\\pi]$. The quantity $r$ is the absolute value (magnitude) of the relative distance. Show that you can write the kinetic energy as $K=1/2\\mu(\\dot{r}^2+r^2\\dot{\\phi}^2)$.\n",
    "\n",
    "* **3c (5pt):** Include the potential energy for the Lennard-Jones potential and write out the Lagrangian using the coordinates $r$ and $\\phi$. Does the potential energy depend on $\\phi$?\n",
    "\n",
    "* **3d (10pt):** Use the Euler-Lagrange equations to find the equations of motion for $r$ and $\\phi$. Does the equation of motion for $r$ agree with what you derived in exercise 1? Comment your results.\n",
    "\n",
    "* **3e (5pt):** Use the equation of motion for $\\phi$ to show that angular momentum is conserved. Comment your results. Can you infer this from the form of the potential? Hint: see your answer to 3c."
   ]
  },
  {
   "cell_type": "markdown",
   "id": "f1fa4b7c",
   "metadata": {
    "editable": true
   },
   "source": [
    "## What? Me worry? No final traditional exam in this course!\n",
    "<!-- dom:FIGURE: [figures/exam1.jpeg, width=500 frac=0.6] -->\n",
    "<!-- begin figure -->\n",
    "\n",
    "<img src=\"figures/exam1.jpeg\" width=\"500\"><p style=\"font-size: 0.9em\"><i>Figure 1: </i></p>\n",
    "<!-- end figure -->"
   ]
  },
  {
   "cell_type": "markdown",
   "id": "2ba32c09",
   "metadata": {
    "editable": true
   },
   "source": [
    "## What did I learn in school this year?\n",
    "\n",
    "Does this figure that match the experiences you have made this semester?\n",
    "<!-- dom:FIGURE: [figures/exam2.jpg, width=500 frac=0.7] -->\n",
    "<!-- begin figure -->\n",
    "\n",
    "<img src=\"figures/exam2.jpg\" width=\"500\"><p style=\"font-size: 0.9em\"><i>Figure 1: </i></p>\n",
    "<!-- end figure -->"
   ]
  },
  {
   "cell_type": "markdown",
   "id": "da9fe52d",
   "metadata": {
    "editable": true
   },
   "source": [
    "## Topics we have covered this year\n",
    "\n",
    "* How to derive equations of motion based on forces\n",
    "\n",
    "* Forces, work, energy, angular momentum, linear momentum and conservation laws\n",
    "\n",
    "* Various types of motions, falling objects, objects moving in various fields\n",
    "\n",
    "* Analysing energy diagrams and defining effective potential\n",
    "\n",
    "* Small oscillations, Harmonic oscillator potential and equations of motion\n",
    "\n",
    "* Transformation of variables that allow for analytical solutions, example two-body problems\n",
    "\n",
    "* Central forces and two-body problems, center-of-mass and relative coordinates as reference frame\n",
    "\n",
    "* Two-body scattering problems, classical scattering cross section\n",
    "\n",
    "* Variational calculus and Lagrangian formalism\n",
    "\n",
    "* Deriving equations of motion from Lagrangian formalism only\n",
    "\n",
    "* Lagrangian formalism with constraints"
   ]
  },
  {
   "cell_type": "markdown",
   "id": "00bbad02",
   "metadata": {
    "editable": true
   },
   "source": [
    "## And how to solve these problems\n",
    "\n",
    "We have studied many systems numerically, from falling objects with and without friction/air resistance, small oscillations (harmonic oscillator), gravitational problems and other central force problems, rotations and the classical pendulum.\n",
    "* Euler-Cromer and Velocity-Verlet as energy conserving algorithms (time-independent forces)\n",
    "\n",
    "* Runge-Kutta family of algorithms for time-dependent forces\n",
    "\n",
    "* Numerical integration using the Trapezoidal, midpoint and Simpson's rule."
   ]
  },
  {
   "cell_type": "markdown",
   "id": "0060b111",
   "metadata": {
    "editable": true
   },
   "source": [
    "## One program to rule them all?"
   ]
  },
  {
   "cell_type": "code",
   "execution_count": 1,
   "id": "ebbc75fc",
   "metadata": {
    "collapsed": false,
    "editable": true
   },
   "outputs": [],
   "source": [
    "DeltaT = 0.001\n",
    "#set up arrays \n",
    "tfinal = 10 # in years\n",
    "n = ceil(tfinal/DeltaT)\n",
    "# set up arrays for t, a, v, and x\n",
    "t = np.zeros(n)\n",
    "v = np.zeros((n,3))\n",
    "r = np.zeros((n,3))\n",
    "# Initial conditions as compact 3-dimensional arrays\n",
    "r0 = np.array([1.0,0.0,0.0])\n",
    "v0 = np.array([0.0,2*pi,0.0])\n",
    "r[0] = r0\n",
    "v[0] = v0\n",
    "# Start integrating using Euler's method\n",
    "for i in range(n-1):\n",
    "    # Set up the acceleration for force that depends only on position\n",
    "    a =  Force(r)/mass\n",
    "    # update velocity, time and position using the Euler-Cromer forward\n",
    "    v[i+1] = v[i] + DeltaT*a\n",
    "    r[i+1] = r[i] + DeltaT*v[i]\n",
    "    t[i+1] = t[i] + DeltaT"
   ]
  },
  {
   "cell_type": "markdown",
   "id": "08df4baf",
   "metadata": {
    "editable": true
   },
   "source": [
    "The overarching idea is that as soon as we have analyzed the forces at play, we can reuse our programs (algorithms) with new forces, without having to recur to the few analytical cases we can solve."
   ]
  },
  {
   "cell_type": "markdown",
   "id": "95c2591e",
   "metadata": {
    "editable": true
   },
   "source": [
    "## Learning outcomes\n",
    "\n",
    "After the course you should:\n",
    "\n",
    "1. be able to analyze forces that act on objects, apply Newton’s laws to determine the equations of motion, and solve these analytically and numerically,\n",
    "\n",
    "2. Know about  inertial frames and their relation to accelerating and rotating frames (non-inertial frames)\n",
    "\n",
    "3. Know about forces, work, energy, angular momentum, linear momentum and conservation laws\n",
    "\n",
    "4. Know about  various types of motions, falling objects, objects moving in various fields\n",
    "\n",
    "5. Know how to analyze energy diagrams and defining effective potential\n",
    "\n",
    "6. Have knowledge about small oscillations, Harmonic oscillator potential and equations of motion\n",
    "\n",
    "7. Have knowledge about transformation of variables that allow for analytical solutions, example two-body problems\n",
    "\n",
    "8. Have knowledge about central forces and two-body problems, center-of-mass and relative coordinates as reference frame\n",
    "\n",
    "9. Have knowledge about two-body scattering problems, classical scattering cross section\n",
    "\n",
    "10. Have knowledge about Variational calculus and Lagrangian formalism\n",
    "\n",
    "11. Know how to derive the equations of motion from the Lagrangian formalism with and without constraints (Lagrangian multipliers)"
   ]
  },
  {
   "cell_type": "markdown",
   "id": "e06efaf6",
   "metadata": {
    "editable": true
   },
   "source": [
    "## Competences and Skills\n",
    "\n",
    "To solve many of these problems, we have through different midterms and weekly exercises studied many systems numerically, from falling objects with and without friction/air resistance, small oscillations (harmonic oscillator), gravitational problems and other central force problems, rotations and the classical pendulum. To solve these systems, we have applied different algorithms for solving differential equations. These are\n",
    "1. Euler-Cromer and Velocity-Verlet as energy conserving algorithms (time-independent forces)\n",
    "\n",
    "2. Runge-Kutta family of algorithms for time-dependent forces\n",
    "\n",
    "We have also, in connection with for example the work-energy theorem studied methods for evaluating integrals. These are (although we never wrote codes in exercises/midterms)\n",
    "1. Numerical integration using the Trapezoidal, midpoint and Simpson's rule."
   ]
  },
  {
   "cell_type": "markdown",
   "id": "e48ea7ef",
   "metadata": {
    "editable": true
   },
   "source": [
    "## Computations? Why?\n",
    "\n",
    "You should also have acquired skills in structuring a numerical project, as well as having developed a critical understanding of the pros and cons of the methods and an understanding of their limits and what can go wrong.  Computing means solving scientific problems using computers. It covers numerical as well as symbolic computing. Computing is also about developing an understanding of the scientific process by enhancing algorithmic thinking when solving problems.  Computing competence has\n",
    "always been a central part of the science and engineering education.\n",
    "In particular, some of the competences that are important in the development of your own understanding of\n",
    "computations, we would like to emphasize\n",
    "1. derivation, verification, and implementation of algorithms\n",
    "\n",
    "2. understanding what can go wrong with algorithms\n",
    "\n",
    "3. overview of important, known algorithms for solving mechanics problems (To a extent large differential equations and integration)\n",
    "\n",
    "4. understanding how algorithms are used to solve mathematical problems\n",
    "\n",
    "5. Making science (your results) reproducible\n",
    "\n",
    "6. algorithmic thinking for gaining deeper insights about scientific problems"
   ]
  },
  {
   "cell_type": "markdown",
   "id": "50e4b457",
   "metadata": {
    "editable": true
   },
   "source": [
    "## Procrastination... the curse of all?\n",
    "<!-- dom:FIGURE: [figures/procrast.jpg, width=700 frac=0.9] -->\n",
    "<!-- begin figure -->\n",
    "\n",
    "<img src=\"figures/procrast.jpg\" width=\"700\"><p style=\"font-size: 0.9em\"><i>Figure 1: </i></p>\n",
    "<!-- end figure -->\n",
    "\n",
    "[Enjoy this video](https://www.youtube.com/watch?v=arj7oStGLkU)\n",
    "\n",
    "[And research shows that procrastinating enhances creativity!!](http://www.nytimes.com/2016/01/17/opinion/sunday/why-i-taught-myself-to-procrastinate.html?_r=0)"
   ]
  },
  {
   "cell_type": "markdown",
   "id": "bf5cb770",
   "metadata": {
    "editable": true
   },
   "source": [
    "## However ...\n",
    "\n",
    "Since grades are due on May 10, we need to have a hard deadline for the final exam, May 6 at midnight."
   ]
  },
  {
   "cell_type": "markdown",
   "id": "ba0f5f62",
   "metadata": {
    "editable": true
   },
   "source": [
    "## Best wishes to you all and thanks so much for your heroic efforts this semester\n",
    "\n",
    "<!-- dom:FIGURE: [figures/Nebbdyr2.png, width=500 frac=0.6] -->\n",
    "<!-- begin figure -->\n",
    "\n",
    "<img src=\"figures/Nebbdyr2.png\" width=\"500\"><p style=\"font-size: 0.9em\"><i>Figure 1: </i></p>\n",
    "<!-- end figure -->"
   ]
  }
 ],
 "metadata": {},
 "nbformat": 4,
 "nbformat_minor": 5
}
