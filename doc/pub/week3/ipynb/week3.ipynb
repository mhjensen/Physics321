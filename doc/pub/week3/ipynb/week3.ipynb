{
 "cells": [
  {
   "cell_type": "markdown",
   "id": "7f7f6127",
   "metadata": {},
   "source": [
    "<!-- HTML file automatically generated from DocOnce source (https://github.com/doconce/doconce/)\n",
    "doconce format html week3.do.txt --no_mako -->\n",
    "<!-- dom:TITLE: PHY321: Forces, Newton's Laws and Motion Examples -->"
   ]
  },
  {
   "cell_type": "markdown",
   "id": "d300317d",
   "metadata": {},
   "source": [
    "# PHY321: Forces, Newton's Laws and Motion Examples\n",
    "**[Morten Hjorth-Jensen](http://mhjgit.github.io/info/doc/web/)**, Department of Physics and Astronomy and Facility for Rare Ion Beams (FRIB), Michigan State University, USA and Department of Physics, University of Oslo, Norway\n",
    "\n",
    "Date: **Jan 19, 2022**\n",
    "\n",
    "Copyright 1999-2022, [Morten Hjorth-Jensen](http://mhjgit.github.io/info/doc/web/). Released under CC Attribution-NonCommercial 4.0 license"
   ]
  },
  {
   "cell_type": "markdown",
   "id": "818423ad",
   "metadata": {},
   "source": [
    "## Aims and Overarching Motivation"
   ]
  },
  {
   "cell_type": "markdown",
   "id": "fb437eda",
   "metadata": {},
   "source": [
    "### Monday, January 17\n",
    "\n",
    "MLK day, no lecture"
   ]
  },
  {
   "cell_type": "markdown",
   "id": "2f645900",
   "metadata": {},
   "source": [
    "### Wednesday, January 19\n",
    "\n",
    "* We revisit Newton's laws and discuss how to analyze a problem. We continue this discussion next week as well. You can view this is a reminder from previous classes.\n",
    "\n",
    "* As an example of the application Newton's laws, we will also try to finalize the discussion on falling objects and numerical aspects thereof, this is a follow up from last week. We will use this material when we solve hw3 (next week)\n",
    "\n",
    "**Recommended reading: Taylor 1.3, 1.4 and 1.5**\n",
    "\n",
    "On Wednesday we will have a regular lecture. As we did last week, we will run it in a hybrid mode. The lecture will be recorded and posted online."
   ]
  },
  {
   "cell_type": "markdown",
   "id": "243686ab",
   "metadata": {},
   "source": [
    "### Friday, January 21\n",
    "\n",
    "We discuss several examples and try to wrap up the discussions on Newton's laws the first 15-20 minutes and then discuss exercises in homework sets  1 (due this Friday) and 2 (due next Friday).\n",
    "\n",
    "**Recommended reading: Taylor 1.4-1.6 and 2.1-2.2 as examples of motion problems.**\n",
    "\n",
    "**New: Videos of lectures from last week now with subtitles**"
   ]
  },
  {
   "cell_type": "markdown",
   "id": "632c1bcb",
   "metadata": {},
   "source": [
    "## Basic Steps of Scientific Investigations\n",
    "\n",
    "An overarching aim in this course is to give you a deeper\n",
    "understanding of the scientific method. The problems we study will all\n",
    "involve cases where we can apply classical mechanics. In our previous\n",
    "material we already assumed that we had a model for the motion of an\n",
    "object.  Alternatively we could have data from experiment (like Usain\n",
    "Bolt's 100m world record run in 2008).  Or we could have performed\n",
    "ourselves an experiment and we want to understand which forces are at\n",
    "play and whether these forces can be understood in terms of\n",
    "fundamental forces.\n",
    "\n",
    "Our first step consists in identifying the problem. What we sketch\n",
    "here may include a mix of experiment and theoretical simulations, or\n",
    "just experiment or only theory."
   ]
  },
  {
   "cell_type": "markdown",
   "id": "a1926d0a",
   "metadata": {},
   "source": [
    "## Identifying our System\n",
    "\n",
    "Here we can ask questions like\n",
    "1. What kind of object is moving\n",
    "\n",
    "2. What kind of data do we have\n",
    "\n",
    "3. How do we measure position, velocity, acceleration etc\n",
    "\n",
    "4. Which initial conditions influence our system\n",
    "\n",
    "5. Other aspects which allow us to identify the system"
   ]
  },
  {
   "cell_type": "markdown",
   "id": "6f73eb67",
   "metadata": {},
   "source": [
    "## Defining a Model\n",
    "\n",
    "With our eventual data and observations we would now like to develop a\n",
    "model for the system. In the end we want obviously to be able to\n",
    "understand which forces are at play and how they influence our\n",
    "specific system. That is, can we extract some deeper insights about a\n",
    "system?\n",
    "\n",
    "We need then to\n",
    "1. Find the forces that act on our system\n",
    "\n",
    "2. Introduce models for the forces\n",
    "\n",
    "3. Identify the equations which can govern the system (Newton's second law for example)\n",
    "\n",
    "4. More elements we deem important for defining our model"
   ]
  },
  {
   "cell_type": "markdown",
   "id": "f3254cdb",
   "metadata": {},
   "source": [
    "## Solving the Equations\n",
    "\n",
    "With the model at hand, we can then solve the equations. In classical mechanics we normally end up  with solving sets of coupled ordinary differential equations or partial differential equations.\n",
    "1. Using Newton's second law we have equations of the type $\\boldsymbol{F}=m\\boldsymbol{a}=md\\boldsymbol{v}/dt$\n",
    "\n",
    "2. We need to  define the initial conditions (typically the initial velocity and position as functions of time) and/or initial conditions and boundary conditions\n",
    "\n",
    "3. The solution of the equations give us then the position, the velocity and other time-dependent quantities which may specify the motion of a given object.\n",
    "\n",
    "We are not yet done. With our lovely solvers, we need to start thinking."
   ]
  },
  {
   "cell_type": "markdown",
   "id": "2884602e",
   "metadata": {},
   "source": [
    "## Analyze\n",
    "\n",
    "Now it is time to ask the big questions. What do our results mean? Can we give a simple interpretation in terms of fundamental laws?  What do our results mean? Are they correct?\n",
    "Thus, typical questions we may ask are\n",
    "1. Are our results for say $\\boldsymbol{r}(t)$ valid?  Do we trust what we did?  Can you validate and verify the correctness of your results?\n",
    "\n",
    "2. Evaluate the answers and their implications\n",
    "\n",
    "3. Compare with experimental data if possible. Does our model make sense?\n",
    "\n",
    "4. and obviously many other questions.\n",
    "\n",
    "The analysis stage feeds back to the first stage. It may happen that\n",
    "the data we had were not good enough, there could be large statistical\n",
    "uncertainties. We may need to collect more data or perhaps we did a\n",
    "sloppy job in identifying the degrees of freedom.\n",
    "\n",
    "All these steps are essential elements in a scientific\n",
    "enquiry. Hopefully, through a mix of numerical simulations, analytical\n",
    "calculations and experiments we may gain a deeper insight about the\n",
    "physics of a specific system."
   ]
  },
  {
   "cell_type": "markdown",
   "id": "bd48a2e6",
   "metadata": {},
   "source": [
    "## Newton's Laws\n",
    "\n",
    "Let us now remind ourselves of Newton's laws, since these are the laws of motion we will study in this course.\n",
    "\n",
    "When analyzing a physical system we normally start with distinguishing between the object we are studying (we will label this in more general terms as our **system**) and how this system interacts with the environment (which often means everything else!)\n",
    "\n",
    "In our investigations we will thus analyze a specific physics problem in terms of the system and the environment.\n",
    "In doing so we need to identify the forces that act on the system and assume that the\n",
    "forces acting on the system must have a source, an identifiable cause in\n",
    "the environment.\n",
    "\n",
    "A force acting on for example a falling object must be related to an interaction with something in the environment.\n",
    "This also means that we do not consider internal forces. The latter are forces between\n",
    "one part of the object and another part. In this course we will mainly focus on external forces.\n",
    "\n",
    "Forces are either contact forces or long-range forces.\n",
    "\n",
    "Contact forces, as evident from the name, are forces that occur at the contact between\n",
    "the system and the environment. Well-known long-range forces are the gravitional force and the electromagnetic force."
   ]
  },
  {
   "cell_type": "markdown",
   "id": "83b9ebaa",
   "metadata": {},
   "source": [
    "## Setting up a model for forces acting on an object\n",
    "\n",
    "In order to set up the forces which act on an object, the following steps may be useful\n",
    "1. Divide the problem into system and environment.\n",
    "\n",
    "2. Draw a figure of the object and everything in contact with the object.\n",
    "\n",
    "3. Draw a closed curve around the system.\n",
    "\n",
    "4. Find contact points—these are the points where contact forces may act.\n",
    "\n",
    "5. Give names and symbols to all the contact forces.\n",
    "\n",
    "6. Identify the long-range forces.\n",
    "\n",
    "7. Make a drawing of the object. Draw the forces as arrows, vectors, starting from where the force is acting. The direction of the vector(s) indicates the (positive) direction of the force. Try to make the length of the arrow indicate the relative magnitude of the forces.\n",
    "\n",
    "8. Draw in the axes of the coordinate system. It is often convenient to make one axis parallel to the direction of motion. When you choose the direction of the axis you also choose the positive direction for the axis."
   ]
  },
  {
   "cell_type": "markdown",
   "id": "91ec744b",
   "metadata": {},
   "source": [
    "## Newton's Laws, the Second one first\n",
    "\n",
    "Newton’s second law of motion: The force $\\boldsymbol{F}$ on an object of inertial mass $m$\n",
    "is related to the acceleration a of the object through"
   ]
  },
  {
   "cell_type": "markdown",
   "id": "1f995b42",
   "metadata": {},
   "source": [
    "$$\n",
    "\\boldsymbol{F} = m\\boldsymbol{a},\n",
    "$$"
   ]
  },
  {
   "cell_type": "markdown",
   "id": "6fba8a19",
   "metadata": {},
   "source": [
    "where $\\boldsymbol{a}$ is the acceleration.\n",
    "\n",
    "Newton’s laws of motion are laws of nature that have been found by experimental\n",
    "investigations and have been shown to hold up to continued experimental investigations.\n",
    "Newton’s laws are valid over a wide range of length- and time-scales. We\n",
    "use Newton’s laws of motion to describe everything from the motion of atoms to the\n",
    "motion of galaxies.\n",
    "\n",
    "The second law is a vector equation with the acceleration having the same\n",
    "direction as the force. The acceleration is proportional to the force via the mass $m$ of the system under study.\n",
    "\n",
    "Newton’s second law introduces a new property of an object, the so-called \n",
    "inertial mass $m$. We determine the inertial mass of an object by measuring the\n",
    "acceleration for a given applied force."
   ]
  },
  {
   "cell_type": "markdown",
   "id": "9402d329",
   "metadata": {},
   "source": [
    "## Then the First Law\n",
    "\n",
    "What happens if the net external force on a body is zero? Applying Newton’s second\n",
    "law, we find:"
   ]
  },
  {
   "cell_type": "markdown",
   "id": "21c471d8",
   "metadata": {},
   "source": [
    "$$\n",
    "\\boldsymbol{F} = 0 = m\\boldsymbol{a},\n",
    "$$"
   ]
  },
  {
   "cell_type": "markdown",
   "id": "0b7596cf",
   "metadata": {},
   "source": [
    "which gives using the definition of the acceleration"
   ]
  },
  {
   "cell_type": "markdown",
   "id": "3fc34412",
   "metadata": {},
   "source": [
    "$$\n",
    "\\boldsymbol{a} = \\frac{d\\boldsymbol{v}}{dt}=0.\n",
    "$$"
   ]
  },
  {
   "cell_type": "markdown",
   "id": "128a7581",
   "metadata": {},
   "source": [
    "The acceleration is zero, which means that the velocity of the object is constant. This\n",
    "is often referred to as Newton’s first law. An object in a state of uniform motion tends to remain in\n",
    "that state unless an external force changes its state of motion.\n",
    "Why do we need a separate law for this? Is it not simply a special case of Newton’s\n",
    "second law? Yes, Newton’s first law can be deduced from the second law as we have\n",
    "illustrated. However, the first law is often used for a different purpose: Newton’s\n",
    "First Law tells us about the limit of applicability of Newton’s Second law. Newton’s\n",
    "Second law can only be used in reference systems where the First law is obeyed. But\n",
    "is not the First law always valid? No! The First law is only valid in reference systems\n",
    "that are not accelerated. If you observe the motion of a ball from an accelerating\n",
    "car, the ball will appear to accelerate even if there are no forces acting on it. We call\n",
    "systems that are not accelerating inertial systems, and Newton’s first law is often\n",
    "called the law of inertia. Newton’s first and second laws of motion are only valid in\n",
    "inertial systems. \n",
    "\n",
    "A system is an inertial system if it is not accelerated. It means that the reference system\n",
    "must not be accelerating linearly or rotating. Unfortunately, this means that most\n",
    "systems we know are not really inertial systems. For example, the surface of the\n",
    "Earth is clearly not an inertial system, because the Earth is rotating. The Earth is also\n",
    "not an inertial system, because it ismoving in a curved path around the Sun. However,\n",
    "even if the surface of the Earth is not strictly an inertial system, it may be considered\n",
    "to be approximately an inertial system for many laboratory-size experiments."
   ]
  },
  {
   "cell_type": "markdown",
   "id": "9360243a",
   "metadata": {},
   "source": [
    "## And finally the Third Law\n",
    "\n",
    "If there is a force from object A on object B, there is also a force from object B on object A.\n",
    "This fundamental principle of interactions is called Newton’s third law. We do not\n",
    "know of any force that do not obey this law: All forces appear in pairs. Newton’s\n",
    "third law is usually formulated as: For every action there is an equal and opposite\n",
    "reaction."
   ]
  },
  {
   "cell_type": "markdown",
   "id": "31149c98",
   "metadata": {},
   "source": [
    "## Falling baseball in one dimension\n",
    "\n",
    "We anticipate the mathematical model to come and assume that we have a\n",
    "model for the motion of a falling baseball without air resistance.\n",
    "Our system (the baseball) is at an initial height $y_0$ (which we will\n",
    "specify in the program below) at the initial time $t_0=0$. In our program example here we will plot the position in steps of $\\Delta t$ up to a final time $t_f$. \n",
    "The mathematical formula for the position $y(t)$ as function of time $t$ is"
   ]
  },
  {
   "cell_type": "markdown",
   "id": "f7b95771",
   "metadata": {},
   "source": [
    "$$\n",
    "y(t) = y_0-\\frac{1}{2}gt^2,\n",
    "$$"
   ]
  },
  {
   "cell_type": "markdown",
   "id": "387ecefc",
   "metadata": {},
   "source": [
    "where $g=9.80665=0.980655\\times 10^1$m/s${}^2$ is a constant representing the standard acceleration due to gravity.\n",
    "We have here adopted the conventional standard value. This does not take into account other effects, such as buoyancy or drag.\n",
    "Furthermore, we stop when the ball hits the ground, which takes place at"
   ]
  },
  {
   "cell_type": "markdown",
   "id": "e8328163",
   "metadata": {},
   "source": [
    "$$\n",
    "y(t) = 0= y_0-\\frac{1}{2}gt^2,\n",
    "$$"
   ]
  },
  {
   "cell_type": "markdown",
   "id": "55e0c0d0",
   "metadata": {},
   "source": [
    "which gives us a final time $t_f=\\sqrt{2y_0/g}$. \n",
    "\n",
    "As of now we simply assume that   we know the formula for the falling object. Afterwards, we will derive it."
   ]
  },
  {
   "cell_type": "markdown",
   "id": "510d7a98",
   "metadata": {},
   "source": [
    "## Our Python Encounter\n",
    "\n",
    "We start with preparing folders for storing our calculations, figures and if needed, specific data files we use as input or output files."
   ]
  },
  {
   "cell_type": "code",
   "execution_count": 1,
   "id": "85f6a2d1",
   "metadata": {},
   "outputs": [],
   "source": [
    "%matplotlib inline\n",
    "\n",
    "# Common imports\n",
    "import numpy as np\n",
    "import pandas as pd\n",
    "import matplotlib.pyplot as plt\n",
    "import os\n",
    "\n",
    "# Where to save the figures and data files\n",
    "PROJECT_ROOT_DIR = \"Results\"\n",
    "FIGURE_ID = \"Results/FigureFiles\"\n",
    "DATA_ID = \"DataFiles/\"\n",
    "\n",
    "if not os.path.exists(PROJECT_ROOT_DIR):\n",
    "    os.mkdir(PROJECT_ROOT_DIR)\n",
    "\n",
    "if not os.path.exists(FIGURE_ID):\n",
    "    os.makedirs(FIGURE_ID)\n",
    "\n",
    "if not os.path.exists(DATA_ID):\n",
    "    os.makedirs(DATA_ID)\n",
    "\n",
    "def image_path(fig_id):\n",
    "    return os.path.join(FIGURE_ID, fig_id)\n",
    "\n",
    "def data_path(dat_id):\n",
    "    return os.path.join(DATA_ID, dat_id)\n",
    "\n",
    "def save_fig(fig_id):\n",
    "    plt.savefig(image_path(fig_id) + \".png\", format='png')\n",
    "\n",
    "#in case we have an input file we wish to read in\n",
    "#infile = open(data_path(\"MassEval2016.dat\"),'r')"
   ]
  },
  {
   "cell_type": "markdown",
   "id": "6339d778",
   "metadata": {},
   "source": [
    "You could also define a function for making our plots. You\n",
    "can obviously avoid this and simply set up various **matplotlib**\n",
    "commands every time you need them. You may however find it convenient\n",
    "to collect all such commands in one function and simply call this\n",
    "function."
   ]
  },
  {
   "cell_type": "code",
   "execution_count": 2,
   "id": "a535dea2",
   "metadata": {},
   "outputs": [],
   "source": [
    "from pylab import plt, mpl\n",
    "plt.style.use('seaborn')\n",
    "mpl.rcParams['font.family'] = 'serif'\n",
    "\n",
    "def MakePlot(x,y, styles, labels, axlabels):\n",
    "    plt.figure(figsize=(10,6))\n",
    "    for i in range(len(x)):\n",
    "        plt.plot(x[i], y[i], styles[i], label = labels[i])\n",
    "        plt.xlabel(axlabels[0])\n",
    "        plt.ylabel(axlabels[1])\n",
    "    plt.legend(loc=0)"
   ]
  },
  {
   "cell_type": "markdown",
   "id": "95430fe2",
   "metadata": {},
   "source": [
    "Thereafter we start setting up the code for the falling object."
   ]
  },
  {
   "cell_type": "code",
   "execution_count": 3,
   "id": "99c76692",
   "metadata": {},
   "outputs": [
    {
     "data": {
      "text/html": [
       "<div>\n",
       "<style scoped>\n",
       "    .dataframe tbody tr th:only-of-type {\n",
       "        vertical-align: middle;\n",
       "    }\n",
       "\n",
       "    .dataframe tbody tr th {\n",
       "        vertical-align: top;\n",
       "    }\n",
       "\n",
       "    .dataframe thead th {\n",
       "        text-align: right;\n",
       "    }\n",
       "</style>\n",
       "<table border=\"1\" class=\"dataframe\">\n",
       "  <thead>\n",
       "    <tr style=\"text-align: right;\">\n",
       "      <th></th>\n",
       "      <th>t[s]</th>\n",
       "      <th>y[m]</th>\n",
       "    </tr>\n",
       "  </thead>\n",
       "  <tbody>\n",
       "    <tr>\n",
       "      <th>0</th>\n",
       "      <td>0.0</td>\n",
       "      <td>10.000000</td>\n",
       "    </tr>\n",
       "    <tr>\n",
       "      <th>1</th>\n",
       "      <td>0.1</td>\n",
       "      <td>9.950967</td>\n",
       "    </tr>\n",
       "    <tr>\n",
       "      <th>2</th>\n",
       "      <td>0.2</td>\n",
       "      <td>9.803869</td>\n",
       "    </tr>\n",
       "    <tr>\n",
       "      <th>3</th>\n",
       "      <td>0.3</td>\n",
       "      <td>9.558705</td>\n",
       "    </tr>\n",
       "    <tr>\n",
       "      <th>4</th>\n",
       "      <td>0.4</td>\n",
       "      <td>9.215476</td>\n",
       "    </tr>\n",
       "    <tr>\n",
       "      <th>5</th>\n",
       "      <td>0.5</td>\n",
       "      <td>8.774181</td>\n",
       "    </tr>\n",
       "    <tr>\n",
       "      <th>6</th>\n",
       "      <td>0.6</td>\n",
       "      <td>8.234821</td>\n",
       "    </tr>\n",
       "    <tr>\n",
       "      <th>7</th>\n",
       "      <td>0.7</td>\n",
       "      <td>7.597395</td>\n",
       "    </tr>\n",
       "    <tr>\n",
       "      <th>8</th>\n",
       "      <td>0.8</td>\n",
       "      <td>6.861904</td>\n",
       "    </tr>\n",
       "    <tr>\n",
       "      <th>9</th>\n",
       "      <td>0.9</td>\n",
       "      <td>6.028347</td>\n",
       "    </tr>\n",
       "    <tr>\n",
       "      <th>10</th>\n",
       "      <td>1.0</td>\n",
       "      <td>5.096725</td>\n",
       "    </tr>\n",
       "    <tr>\n",
       "      <th>11</th>\n",
       "      <td>1.1</td>\n",
       "      <td>4.067037</td>\n",
       "    </tr>\n",
       "    <tr>\n",
       "      <th>12</th>\n",
       "      <td>1.2</td>\n",
       "      <td>2.939284</td>\n",
       "    </tr>\n",
       "    <tr>\n",
       "      <th>13</th>\n",
       "      <td>1.3</td>\n",
       "      <td>1.713465</td>\n",
       "    </tr>\n",
       "    <tr>\n",
       "      <th>14</th>\n",
       "      <td>1.4</td>\n",
       "      <td>0.389581</td>\n",
       "    </tr>\n",
       "  </tbody>\n",
       "</table>\n",
       "</div>"
      ],
      "text/plain": [
       "    t[s]       y[m]\n",
       "0    0.0  10.000000\n",
       "1    0.1   9.950967\n",
       "2    0.2   9.803869\n",
       "3    0.3   9.558705\n",
       "4    0.4   9.215476\n",
       "5    0.5   8.774181\n",
       "6    0.6   8.234821\n",
       "7    0.7   7.597395\n",
       "8    0.8   6.861904\n",
       "9    0.9   6.028347\n",
       "10   1.0   5.096725\n",
       "11   1.1   4.067037\n",
       "12   1.2   2.939284\n",
       "13   1.3   1.713465\n",
       "14   1.4   0.389581"
      ]
     },
     "metadata": {},
     "output_type": "display_data"
    },
    {
     "data": {
      "image/png": "[encoded data removed]",
      "text/plain": [
       "<Figure size 576x576 with 1 Axes>"
      ]
     },
     "metadata": {},
     "output_type": "display_data"
    }
   ],
   "source": [
    "%matplotlib inline\n",
    "import matplotlib.patches as mpatches\n",
    "\n",
    "g = 9.80655 #m/s^2\n",
    "y_0 = 10.0 # initial position in meters\n",
    "DeltaT = 0.1  # time step\n",
    "# final time when y = 0, t = sqrt(2*10/g)\n",
    "tfinal = np.sqrt(2.0*y_0/g)\n",
    "#set up arrays \n",
    "t = np.arange(0,tfinal,DeltaT)\n",
    "y =y_0 -g*.5*t**2\n",
    "# Then make a nice printout in table form using Pandas\n",
    "import pandas as pd\n",
    "from IPython.display import display\n",
    "data = {'t[s]': t,\n",
    "        'y[m]': y\n",
    "        }\n",
    "RawData = pd.DataFrame(data)\n",
    "display(RawData)\n",
    "plt.style.use('ggplot')\n",
    "plt.figure(figsize=(8,8))\n",
    "plt.scatter(t, y, color = 'b')\n",
    "blue_patch = mpatches.Patch(color = 'b', label = 'Height y as function of  time t')\n",
    "plt.legend(handles=[blue_patch])\n",
    "plt.xlabel(\"t[s]\")\n",
    "plt.ylabel(\"y[m]\")\n",
    "save_fig(\"FallingBaseball\")\n",
    "plt.show()"
   ]
  },
  {
   "cell_type": "markdown",
   "id": "18ad3f53",
   "metadata": {},
   "source": [
    "Here we used **pandas** (see below) to systemize the output of the position as function of time."
   ]
  },
  {
   "cell_type": "markdown",
   "id": "db5d2d39",
   "metadata": {},
   "source": [
    "## Average quantities\n",
    "We define now the average velocity as"
   ]
  },
  {
   "cell_type": "markdown",
   "id": "21d0a491",
   "metadata": {},
   "source": [
    "$$\n",
    "\\overline{v}(t) = \\frac{y(t+\\Delta t)-y(t)}{\\Delta t}.\n",
    "$$"
   ]
  },
  {
   "cell_type": "markdown",
   "id": "a3691efe",
   "metadata": {},
   "source": [
    "In the code we have set the time step $\\Delta t$ to a given value. We could define it in terms of the number of points $n$ as"
   ]
  },
  {
   "cell_type": "markdown",
   "id": "0f70230d",
   "metadata": {},
   "source": [
    "$$\n",
    "\\Delta t = \\frac{t_{\\mathrm{final}-}t_{\\mathrm{initial}}}{n}.\n",
    "$$"
   ]
  },
  {
   "cell_type": "markdown",
   "id": "4a6daa9f",
   "metadata": {},
   "source": [
    "Since we have discretized the variables, we introduce the counter $i$ and let $y(t)\\rightarrow y(t_i)=y_i$ and $t\\rightarrow t_i$\n",
    "with $i=0,1,\\dots, n$. This gives us the following shorthand notations that we will use for the rest of this course. We define"
   ]
  },
  {
   "cell_type": "markdown",
   "id": "14184104",
   "metadata": {},
   "source": [
    "$$\n",
    "y_i = y(t_i),\\hspace{0.2cm} i=0,1,2,\\dots,n.\n",
    "$$"
   ]
  },
  {
   "cell_type": "markdown",
   "id": "c9fce02e",
   "metadata": {},
   "source": [
    "This applies to other variables which depend on say time. Examples are the velocities, accelerations, momenta etc.\n",
    "Furthermore we use the shorthand"
   ]
  },
  {
   "cell_type": "markdown",
   "id": "b92c6da9",
   "metadata": {},
   "source": [
    "$$\n",
    "y_{i\\pm 1} = y(t_i\\pm \\Delta t),\\hspace{0.12cm} i=0,1,2,\\dots,n.\n",
    "$$"
   ]
  },
  {
   "cell_type": "markdown",
   "id": "ccc345cc",
   "metadata": {},
   "source": [
    "## Compact equations\n",
    "We can then rewrite in a more compact form the average velocity as"
   ]
  },
  {
   "cell_type": "markdown",
   "id": "c33de624",
   "metadata": {},
   "source": [
    "$$\n",
    "\\overline{v}_i = \\frac{y_{i+1}-y_{i}}{\\Delta t}.\n",
    "$$"
   ]
  },
  {
   "cell_type": "markdown",
   "id": "c264cc0d",
   "metadata": {},
   "source": [
    "The velocity is defined as the change in position per unit time.\n",
    "In the limit $\\Delta t \\rightarrow 0$ this defines the instantaneous velocity, which is nothing but the slope of the position at a time $t$.\n",
    "We have thus"
   ]
  },
  {
   "cell_type": "markdown",
   "id": "728746a1",
   "metadata": {},
   "source": [
    "$$\n",
    "v(t) = \\frac{dy}{dt}=\\lim_{\\Delta t \\rightarrow 0}\\frac{y(t+\\Delta t)-y(t)}{\\Delta t}.\n",
    "$$"
   ]
  },
  {
   "cell_type": "markdown",
   "id": "158f5ba4",
   "metadata": {},
   "source": [
    "Similarly, we can define the average acceleration as the change in velocity per unit time as"
   ]
  },
  {
   "cell_type": "markdown",
   "id": "f81bd001",
   "metadata": {},
   "source": [
    "$$\n",
    "\\overline{a}_i = \\frac{v_{i+1}-v_{i}}{\\Delta t},\n",
    "$$"
   ]
  },
  {
   "cell_type": "markdown",
   "id": "6daa07e9",
   "metadata": {},
   "source": [
    "resulting in the instantaneous acceleration"
   ]
  },
  {
   "cell_type": "markdown",
   "id": "70e8c941",
   "metadata": {},
   "source": [
    "$$\n",
    "a(t) = \\frac{dv}{dt}=\\lim_{\\Delta t\\rightarrow 0}\\frac{v(t+\\Delta t)-v(t)}{\\Delta t}.\n",
    "$$"
   ]
  },
  {
   "cell_type": "markdown",
   "id": "67663e71",
   "metadata": {},
   "source": [
    "**A note on notations**: When writing for example the velocity as $v(t)$ we are then referring to the continuous and instantaneous value. A subscript like\n",
    "$v_i$ refers always to the discretized values."
   ]
  },
  {
   "cell_type": "markdown",
   "id": "95cc8606",
   "metadata": {},
   "source": [
    "## A differential equation\n",
    "We can rewrite the instantaneous acceleration as"
   ]
  },
  {
   "cell_type": "markdown",
   "id": "bffab7e6",
   "metadata": {},
   "source": [
    "$$\n",
    "a(t) = \\frac{dv}{dt}=\\frac{d}{dt}\\frac{dy}{dt}=\\frac{d^2y}{dt^2}.\n",
    "$$"
   ]
  },
  {
   "cell_type": "markdown",
   "id": "2d95f5c8",
   "metadata": {},
   "source": [
    "This forms the starting point for our definition of forces later. It is a famous second-order differential equation. If the acceleration is constant we can now recover the formula for the falling ball we started with.\n",
    "The acceleration can depend on the position and the velocity. To be more formal we should then write the above differential equation as"
   ]
  },
  {
   "cell_type": "markdown",
   "id": "0c7b1046",
   "metadata": {},
   "source": [
    "$$\n",
    "\\frac{d^2y}{dt^2}=a(t,y(t),\\frac{dy}{dt}).\n",
    "$$"
   ]
  },
  {
   "cell_type": "markdown",
   "id": "8b74260e",
   "metadata": {},
   "source": [
    "With given initial conditions for $y(t_0)$ and $v(t_0)$ we can then\n",
    "integrate the above equation and find the velocities and positions at\n",
    "a given time $t$.\n",
    "\n",
    "If we multiply with mass, we have one of the famous expressions for Newton's second law,"
   ]
  },
  {
   "cell_type": "markdown",
   "id": "3bfab37e",
   "metadata": {},
   "source": [
    "$$\n",
    "F(y,v,t)=m\\frac{d^2y}{dt^2}=ma(t,y(t),\\frac{dy}{dt}),\n",
    "$$"
   ]
  },
  {
   "cell_type": "markdown",
   "id": "ea582238",
   "metadata": {},
   "source": [
    "where $F$ is the force acting on an object with mass $m$. We see that it also has the right dimension, mass times length divided by time squared.\n",
    "We will come back to this soon."
   ]
  },
  {
   "cell_type": "markdown",
   "id": "9aa757c5",
   "metadata": {},
   "source": [
    "## Integrating our equations\n",
    "\n",
    "Formally we can then, starting with the acceleration (suppose we have measured it, how could we do that?)\n",
    "compute say the height of a building.  To see this we perform the following integrations from an initial time $t_0$  to a given time $t$"
   ]
  },
  {
   "cell_type": "markdown",
   "id": "2e2580bc",
   "metadata": {},
   "source": [
    "$$\n",
    "\\int_{t_0}^t dt a(t) = \\int_{t_0}^t dt \\frac{dv}{dt} = v(t)-v(t_0),\n",
    "$$"
   ]
  },
  {
   "cell_type": "markdown",
   "id": "50c2ab5e",
   "metadata": {},
   "source": [
    "or as"
   ]
  },
  {
   "cell_type": "markdown",
   "id": "8820f243",
   "metadata": {},
   "source": [
    "$$\n",
    "v(t)=v(t_0)+\\int_{t_0}^t dt a(t).\n",
    "$$"
   ]
  },
  {
   "cell_type": "markdown",
   "id": "0baebfa6",
   "metadata": {},
   "source": [
    "When we know the velocity as function of time, we can find the position as function of time starting from the defintion of velocity as the derivative with respect to time, that is we have"
   ]
  },
  {
   "cell_type": "markdown",
   "id": "d90fc0ea",
   "metadata": {},
   "source": [
    "$$\n",
    "\\int_{t_0}^t dt v(t) = \\int_{t_0}^t dt \\frac{dy}{dt} = y(t)-y(t_0),\n",
    "$$"
   ]
  },
  {
   "cell_type": "markdown",
   "id": "b51d4006",
   "metadata": {},
   "source": [
    "or as"
   ]
  },
  {
   "cell_type": "markdown",
   "id": "388d04ef",
   "metadata": {},
   "source": [
    "$$\n",
    "y(t)=y(t_0)+\\int_{t_0}^t dt v(t).\n",
    "$$"
   ]
  },
  {
   "cell_type": "markdown",
   "id": "de34c48b",
   "metadata": {},
   "source": [
    "These equations define what is called the integration method for\n",
    "finding the position and the velocity as functions of time. There is\n",
    "no loss of generality if we extend these equations to more than one\n",
    "spatial dimension."
   ]
  },
  {
   "cell_type": "markdown",
   "id": "36d3452b",
   "metadata": {},
   "source": [
    "## Constant acceleration case, the velocity\n",
    "\n",
    "Let us compute the velocity using the constant value for the acceleration given by $-g$. We have"
   ]
  },
  {
   "cell_type": "markdown",
   "id": "2aa2feb1",
   "metadata": {},
   "source": [
    "$$\n",
    "v(t)=v(t_0)+\\int_{t_0}^t dt a(t)=v(t_0)+\\int_{t_0}^t dt (-g).\n",
    "$$"
   ]
  },
  {
   "cell_type": "markdown",
   "id": "f08df342",
   "metadata": {},
   "source": [
    "Using our initial time as $t_0=0$s and setting the initial velocity $v(t_0)=v_0=0$m/s we get when integrating"
   ]
  },
  {
   "cell_type": "markdown",
   "id": "9b83caa9",
   "metadata": {},
   "source": [
    "$$\n",
    "v(t)=-gt.\n",
    "$$"
   ]
  },
  {
   "cell_type": "markdown",
   "id": "b870ed74",
   "metadata": {},
   "source": [
    "The more general case is"
   ]
  },
  {
   "cell_type": "markdown",
   "id": "d122c984",
   "metadata": {},
   "source": [
    "$$\n",
    "v(t)=v_0-g(t-t_0).\n",
    "$$"
   ]
  },
  {
   "cell_type": "markdown",
   "id": "221c5715",
   "metadata": {},
   "source": [
    "We can then integrate the velocity and obtain the final formula for the position as function of time through"
   ]
  },
  {
   "cell_type": "markdown",
   "id": "d1164310",
   "metadata": {},
   "source": [
    "$$\n",
    "y(t)=y(t_0)+\\int_{t_0}^t dt v(t)=y_0+\\int_{t_0}^t dt v(t)=y_0+\\int_{t_0}^t dt (-gt),\n",
    "$$"
   ]
  },
  {
   "cell_type": "markdown",
   "id": "fbe2ba81",
   "metadata": {},
   "source": [
    "With $y_0=10$m and $t_0=0$s, we obtain the equation we started with"
   ]
  },
  {
   "cell_type": "markdown",
   "id": "903f87a6",
   "metadata": {},
   "source": [
    "$$\n",
    "y(t)=10-\\frac{1}{2}gt^2.\n",
    "$$"
   ]
  },
  {
   "cell_type": "markdown",
   "id": "f5158e84",
   "metadata": {},
   "source": [
    "## Computing the averages\n",
    "After this mathematical background we are now ready to compute the mean velocity using our data."
   ]
  },
  {
   "cell_type": "code",
   "execution_count": 4,
   "id": "ef1a3ada",
   "metadata": {},
   "outputs": [],
   "source": [
    "# Now we can compute the mean velocity using our data\n",
    "# We define first an array Vaverage\n",
    "n = np.size(t)\n",
    "Vaverage = np.zeros(n)\n",
    "for i in range(1,n):\n",
    "    Vaverage[i] = (y[i]-y[i-1])/DeltaT\n",
    "# Now we can compute the mean accelearatio using our data\n",
    "# We define first an array Aaverage\n",
    "n = np.size(t)\n",
    "Aaverage = np.zeros(n)\n",
    "Aaverage[0] = -g\n",
    "for i in range(1,n):\n",
    "    Aaverage[i] = (Vaverage[i]-Vaverage[i-1])/DeltaT\n",
    "data = {'t[s]': t,\n",
    "        'y[m]': y,\n",
    "        'v[m/s]': Vaverage,\n",
    "        'a[m/s^2]': Aaverage\n",
    "        }\n",
    "NewData = pd.DataFrame(data)\n",
    "display(NewData[0:n])"
   ]
  },
  {
   "cell_type": "markdown",
   "id": "107fa9a6",
   "metadata": {},
   "source": [
    "Note that we used the previous value in the computation of the average velocities and accelerations. We did this since we wanted to compute the value for $i=1$ as well."
   ]
  },
  {
   "cell_type": "markdown",
   "id": "fe89de6c",
   "metadata": {},
   "source": [
    "## Including Air Resistance in our model\n",
    "\n",
    "In our discussions till now of the falling baseball, we have ignored\n",
    "air resistance and simply assumed that our system is only influenced\n",
    "by the gravitational force.  We will postpone the derivation of air\n",
    "resistance till later, after our discussion of Newton's laws and\n",
    "forces.\n",
    "\n",
    "For our discussions here it suffices to state that the accelerations is now modified to"
   ]
  },
  {
   "cell_type": "markdown",
   "id": "221415ae",
   "metadata": {},
   "source": [
    "$$\n",
    "\\boldsymbol{a}(t) = -g +D\\boldsymbol{v}(t)\\vert v(t)\\vert,\n",
    "$$"
   ]
  },
  {
   "cell_type": "markdown",
   "id": "e6aca14d",
   "metadata": {},
   "source": [
    "where $\\vert v(t)\\vert$ is the absolute value of the velocity and $D$ is a constant which pertains to the specific object we are studying.\n",
    "Since we are dealing with motion in one dimension, we can simplify the above to"
   ]
  },
  {
   "cell_type": "markdown",
   "id": "dd867c09",
   "metadata": {},
   "source": [
    "$$\n",
    "a(t) = -g +Dv^2(t).\n",
    "$$"
   ]
  },
  {
   "cell_type": "markdown",
   "id": "fffd68f9",
   "metadata": {},
   "source": [
    "We can rewrite this as a differential equation"
   ]
  },
  {
   "cell_type": "markdown",
   "id": "06daae23",
   "metadata": {},
   "source": [
    "$$\n",
    "a(t) = \\frac{dv}{dt}=\\frac{d^2y}{dt^2}= -g +Dv^2(t).\n",
    "$$"
   ]
  },
  {
   "cell_type": "markdown",
   "id": "c56d9fb9",
   "metadata": {},
   "source": [
    "Using the integral equations discussed above we can integrate twice\n",
    "and obtain first the velocity as function of time and thereafter the\n",
    "position as function of time.\n",
    "\n",
    "For this particular case, we can actually obtain an analytical\n",
    "solution for the velocity and for the position. Here we will first\n",
    "compute the solutions analytically, thereafter we will derive Euler's\n",
    "method for solving these differential equations numerically."
   ]
  },
  {
   "cell_type": "markdown",
   "id": "77c16a67",
   "metadata": {},
   "source": [
    "## Analytical solutions\n",
    "\n",
    "For simplicity let us just write $v(t)$ as $v$. We have"
   ]
  },
  {
   "cell_type": "markdown",
   "id": "7c69b384",
   "metadata": {},
   "source": [
    "$$\n",
    "\\frac{dv}{dt}= -g +Dv^2(t).\n",
    "$$"
   ]
  },
  {
   "cell_type": "markdown",
   "id": "516023f1",
   "metadata": {},
   "source": [
    "We can solve this using the technique of separation of variables. We\n",
    "isolate on the left all terms that involve $v$ and on the right all\n",
    "terms that involve time. We get then"
   ]
  },
  {
   "cell_type": "markdown",
   "id": "3f2c93f0",
   "metadata": {},
   "source": [
    "$$\n",
    "\\frac{dv}{g -Dv^2(t) }= -dt,\n",
    "$$"
   ]
  },
  {
   "cell_type": "markdown",
   "id": "653f929d",
   "metadata": {},
   "source": [
    "We scale now the equation to the left by introducing a constant\n",
    "$v_T=\\sqrt{g/D}$. This constant has dimension length/time. Can you\n",
    "show this?\n",
    "\n",
    "Next we integrate the left-hand side (lhs) from $v_0=0$ m/s to $v$ and\n",
    "the right-hand side (rhs) from $t_0=0$ to $t$ and obtain"
   ]
  },
  {
   "cell_type": "markdown",
   "id": "a0ba2df3",
   "metadata": {},
   "source": [
    "$$\n",
    "\\int_{0}^v\\frac{dv}{g -Dv^2(t) }= \\frac{v_T}{g}\\mathrm{arctanh}(\\frac{v}{v_T})  =-\\int_0^tdt = -t.\n",
    "$$"
   ]
  },
  {
   "cell_type": "markdown",
   "id": "2d02f683",
   "metadata": {},
   "source": [
    "We can reorganize these equations as"
   ]
  },
  {
   "cell_type": "markdown",
   "id": "4cfa59e4",
   "metadata": {},
   "source": [
    "$$\n",
    "v_T\\mathrm{arctanh}(\\frac{v}{v_T})  =-gt,\n",
    "$$"
   ]
  },
  {
   "cell_type": "markdown",
   "id": "3e4f87a0",
   "metadata": {},
   "source": [
    "which gives us $v$ as function of time"
   ]
  },
  {
   "cell_type": "markdown",
   "id": "ba5f0473",
   "metadata": {},
   "source": [
    "$$\n",
    "v(t)=v_T\\tanh{-(\\frac{gt}{v_T})}.\n",
    "$$"
   ]
  },
  {
   "cell_type": "markdown",
   "id": "acb69ee4",
   "metadata": {},
   "source": [
    "## Finding the final height\n",
    "With the velocity we can then find the height $y(t)$ by integrating yet another time, that is"
   ]
  },
  {
   "cell_type": "markdown",
   "id": "9692eb6c",
   "metadata": {},
   "source": [
    "$$\n",
    "y(t)=y(t_0)+\\int_{t_0}^t dt v(t)=\\int_{0}^t dt[v_T\\tanh{-(\\frac{gt}{v_T})}].\n",
    "$$"
   ]
  },
  {
   "cell_type": "markdown",
   "id": "2404619e",
   "metadata": {},
   "source": [
    "This integral is a little bit trickier but we can look it up in a table over \n",
    "known integrals and we get"
   ]
  },
  {
   "cell_type": "markdown",
   "id": "9ee3ff21",
   "metadata": {},
   "source": [
    "$$\n",
    "y(t)=y(t_0)-\\frac{v_T^2}{g}\\log{[\\cosh{(\\frac{gt}{v_T})}]}.\n",
    "$$"
   ]
  },
  {
   "cell_type": "markdown",
   "id": "9da02dbc",
   "metadata": {},
   "source": [
    "Alternatively we could have used the symbolic Python package **Sympy**.\n",
    "\n",
    "In most cases however, we need to revert to numerical solutions."
   ]
  },
  {
   "cell_type": "markdown",
   "id": "ae4f80a4",
   "metadata": {},
   "source": [
    "## Our first attempt at solving differential equations\n",
    "\n",
    "Here we will try the simplest possible approach to solving the second-order differential \n",
    "equation"
   ]
  },
  {
   "cell_type": "markdown",
   "id": "63ae7f6e",
   "metadata": {},
   "source": [
    "$$\n",
    "a(t) =\\frac{d^2y}{dt^2}= -g +Dv^2(t).\n",
    "$$"
   ]
  },
  {
   "cell_type": "markdown",
   "id": "76c6563f",
   "metadata": {},
   "source": [
    "We rewrite it as two coupled first-order equations (this is a standard approach)"
   ]
  },
  {
   "cell_type": "markdown",
   "id": "4802f493",
   "metadata": {},
   "source": [
    "$$\n",
    "\\frac{dy}{dt} = v(t),\n",
    "$$"
   ]
  },
  {
   "cell_type": "markdown",
   "id": "4b2458f0",
   "metadata": {},
   "source": [
    "with initial condition $y(t_0)=y_0$ and"
   ]
  },
  {
   "cell_type": "markdown",
   "id": "4ecb9fdd",
   "metadata": {},
   "source": [
    "$$\n",
    "a(t) =\\frac{dv}{dt}= -g +Dv^2(t),\n",
    "$$"
   ]
  },
  {
   "cell_type": "markdown",
   "id": "d3949c4a",
   "metadata": {},
   "source": [
    "with initial condition $v(t_0)=v_0$.\n",
    "\n",
    "Many of the algorithms for solving differential equations start with simple Taylor equations.\n",
    "If we now Taylor expand $y$ and $v$ around a value $t+\\Delta t$ we have"
   ]
  },
  {
   "cell_type": "markdown",
   "id": "9b2e9d0c",
   "metadata": {},
   "source": [
    "$$\n",
    "y(t+\\Delta t) = y(t)+\\Delta t \\frac{dy}{dt}+\\frac{\\Delta t^2}{2!} \\frac{d^2y}{dt^2}+O(\\Delta t^3),\n",
    "$$"
   ]
  },
  {
   "cell_type": "markdown",
   "id": "55a9318b",
   "metadata": {},
   "source": [
    "and"
   ]
  },
  {
   "cell_type": "markdown",
   "id": "d45084a7",
   "metadata": {},
   "source": [
    "$$\n",
    "v(t+\\Delta t) = v(t)+\\Delta t \\frac{dv}{dt}+\\frac{\\Delta t^2}{2!} \\frac{d^2v}{dt^2}+O(\\Delta t^3).\n",
    "$$"
   ]
  },
  {
   "cell_type": "markdown",
   "id": "5b4eb73d",
   "metadata": {},
   "source": [
    "Using the fact that $dy/dt = v$ and $dv/dt=a$ and keeping only terms up to $\\Delta t$ we have"
   ]
  },
  {
   "cell_type": "markdown",
   "id": "32abc284",
   "metadata": {},
   "source": [
    "$$\n",
    "y(t+\\Delta t) = y(t)+\\Delta t v(t)+O(\\Delta t^2),\n",
    "$$"
   ]
  },
  {
   "cell_type": "markdown",
   "id": "0987a64e",
   "metadata": {},
   "source": [
    "and"
   ]
  },
  {
   "cell_type": "markdown",
   "id": "e8ac7409",
   "metadata": {},
   "source": [
    "$$\n",
    "v(t+\\Delta t) = v(t)+\\Delta t a(t)+O(\\Delta t^2).\n",
    "$$"
   ]
  },
  {
   "cell_type": "markdown",
   "id": "020e97d7",
   "metadata": {},
   "source": [
    "## Discretizing our equations\n",
    "\n",
    "Using our discretized versions of the equations with for example\n",
    "$y_{i}=y(t_i)$ and $y_{i\\pm 1}=y(t_i+\\Delta t)$, we can rewrite the\n",
    "above equations as (and truncating at $\\Delta t$)"
   ]
  },
  {
   "cell_type": "markdown",
   "id": "10f5ea37",
   "metadata": {},
   "source": [
    "$$\n",
    "y_{i+1} = y_i+\\Delta t v_i,\n",
    "$$"
   ]
  },
  {
   "cell_type": "markdown",
   "id": "c9cb28c8",
   "metadata": {},
   "source": [
    "and"
   ]
  },
  {
   "cell_type": "markdown",
   "id": "e397a62e",
   "metadata": {},
   "source": [
    "$$\n",
    "v_{i+1} = v_i+\\Delta t a_i.\n",
    "$$"
   ]
  },
  {
   "cell_type": "markdown",
   "id": "b2239372",
   "metadata": {},
   "source": [
    "These are the famous Euler equations (forward Euler).\n",
    "\n",
    "To solve these equations numerically we start at a time $t_0$ and simply integrate up these equations to a final time $t_f$,\n",
    "The step size $\\Delta t$ is an input  parameter in our code.\n",
    "You can define it directly in the code below as"
   ]
  },
  {
   "cell_type": "code",
   "execution_count": 5,
   "id": "efe647bd",
   "metadata": {},
   "outputs": [],
   "source": [
    "DeltaT = 0.1"
   ]
  },
  {
   "cell_type": "markdown",
   "id": "c4a2ebd0",
   "metadata": {},
   "source": [
    "With a given final time **tfinal**  we can then find the number of integration points via the **ceil** function included in the **math** package of Python\n",
    "as"
   ]
  },
  {
   "cell_type": "code",
   "execution_count": 6,
   "id": "af5f3a4f",
   "metadata": {},
   "outputs": [],
   "source": [
    "#define final time, assuming that initial time is zero\n",
    "from math import ceil\n",
    "tfinal = 0.5\n",
    "n = ceil(tfinal/DeltaT)\n",
    "print(n)"
   ]
  },
  {
   "cell_type": "markdown",
   "id": "233d6ab7",
   "metadata": {},
   "source": [
    "The **ceil** function returns the smallest integer not less than the input in say"
   ]
  },
  {
   "cell_type": "code",
   "execution_count": 7,
   "id": "1d1f28d5",
   "metadata": {},
   "outputs": [],
   "source": [
    "x = 21.15\n",
    "print(ceil(x))"
   ]
  },
  {
   "cell_type": "markdown",
   "id": "92edad4b",
   "metadata": {},
   "source": [
    "which in the case here is 22."
   ]
  },
  {
   "cell_type": "code",
   "execution_count": 8,
   "id": "55114215",
   "metadata": {},
   "outputs": [],
   "source": [
    "x = 21.75\n",
    "print(ceil(x))"
   ]
  },
  {
   "cell_type": "markdown",
   "id": "c5709f72",
   "metadata": {},
   "source": [
    "which also yields 22. The  **floor** function in the **math** package\n",
    "is used to return the closest integer value which is less than or equal to the specified expression or value.\n",
    "Compare the previous result to the usage of **floor**"
   ]
  },
  {
   "cell_type": "code",
   "execution_count": 9,
   "id": "d88314b2",
   "metadata": {},
   "outputs": [],
   "source": [
    "from math import floor\n",
    "x = 21.75\n",
    "print(floor(x))"
   ]
  },
  {
   "cell_type": "markdown",
   "id": "b79e9ad7",
   "metadata": {},
   "source": [
    "Alternatively, we can define ourselves the number of integration(mesh) points. In this case we could have"
   ]
  },
  {
   "cell_type": "code",
   "execution_count": 10,
   "id": "18c9c88c",
   "metadata": {},
   "outputs": [],
   "source": [
    "n = 10\n",
    "tinitial = 0.0\n",
    "tfinal = 0.5\n",
    "DeltaT = (tfinal-tinitial)/(n)\n",
    "print(DeltaT)"
   ]
  },
  {
   "cell_type": "markdown",
   "id": "58301bd3",
   "metadata": {},
   "source": [
    "Since we will set up one-dimensional arrays that contain the values of\n",
    "various variables like time, position, velocity, acceleration etc, we\n",
    "need to know the value of $n$, the number of data points (or\n",
    "integration or mesh points).  With $n$ we can initialize a given array\n",
    "by setting all elelements to zero, as done here"
   ]
  },
  {
   "cell_type": "code",
   "execution_count": 11,
   "id": "97e2b8ba",
   "metadata": {},
   "outputs": [],
   "source": [
    "# define array a\n",
    "a = np.zeros(n)\n",
    "print(a)"
   ]
  },
  {
   "cell_type": "markdown",
   "id": "6ad5c9fa",
   "metadata": {},
   "source": [
    "## Code for implementing Euler's method\n",
    "In the code here we implement this simple Eurler scheme choosing a value for $D=0.0245$ m/s."
   ]
  },
  {
   "cell_type": "code",
   "execution_count": 12,
   "id": "6e2f751e",
   "metadata": {},
   "outputs": [],
   "source": [
    "# Common imports\n",
    "import numpy as np\n",
    "import pandas as pd\n",
    "from math import *\n",
    "import matplotlib.pyplot as plt\n",
    "import os\n",
    "\n",
    "# Where to save the figures and data files\n",
    "PROJECT_ROOT_DIR = \"Results\"\n",
    "FIGURE_ID = \"Results/FigureFiles\"\n",
    "DATA_ID = \"DataFiles/\"\n",
    "\n",
    "if not os.path.exists(PROJECT_ROOT_DIR):\n",
    "    os.mkdir(PROJECT_ROOT_DIR)\n",
    "\n",
    "if not os.path.exists(FIGURE_ID):\n",
    "    os.makedirs(FIGURE_ID)\n",
    "\n",
    "if not os.path.exists(DATA_ID):\n",
    "    os.makedirs(DATA_ID)\n",
    "\n",
    "def image_path(fig_id):\n",
    "    return os.path.join(FIGURE_ID, fig_id)\n",
    "\n",
    "def data_path(dat_id):\n",
    "    return os.path.join(DATA_ID, dat_id)\n",
    "\n",
    "def save_fig(fig_id):\n",
    "    plt.savefig(image_path(fig_id) + \".png\", format='png')\n",
    "\n",
    "\n",
    "g = 9.80655 #m/s^2\n",
    "D = 0.00245 #m/s\n",
    "DeltaT = 0.1\n",
    "#set up arrays \n",
    "tfinal = 0.5\n",
    "n = ceil(tfinal/DeltaT)\n",
    "# define scaling constant vT\n",
    "vT = sqrt(g/D)\n",
    "# set up arrays for t, a, v, and y and we can compare our results with analytical ones\n",
    "t = np.zeros(n)\n",
    "a = np.zeros(n)\n",
    "v = np.zeros(n)\n",
    "y = np.zeros(n)\n",
    "yanalytic = np.zeros(n)\n",
    "# Initial conditions\n",
    "v[0] = 0.0  #m/s\n",
    "y[0] = 10.0 #m\n",
    "yanalytic[0] = y[0]\n",
    "# Start integrating using Euler's method\n",
    "for i in range(n-1):\n",
    "    # expression for acceleration\n",
    "    a[i] = -g + D*v[i]*v[i]\n",
    "    # update velocity and position\n",
    "    y[i+1] = y[i] + DeltaT*v[i]\n",
    "    v[i+1] = v[i] + DeltaT*a[i]\n",
    "    # update time to next time step and compute analytical answer\n",
    "    t[i+1] = t[i] + DeltaT\n",
    "    yanalytic[i+1] = y[0]-(vT*vT/g)*log(cosh(g*t[i+1]/vT))\n",
    "    if ( y[i+1] < 0.0):\n",
    "        break\n",
    "a[n-1] = -g + D*v[n-1]*v[n-1]\n",
    "data = {'t[s]': t,\n",
    "        'y[m]': y-yanalytic,\n",
    "        'v[m/s]': v,\n",
    "        'a[m/s^2]': a\n",
    "        }\n",
    "NewData = pd.DataFrame(data)\n",
    "display(NewData)\n",
    "#finally we plot the data\n",
    "fig, axs = plt.subplots(3, 1)\n",
    "axs[0].plot(t, y, t, yanalytic)\n",
    "axs[0].set_xlim(0, tfinal)\n",
    "axs[0].set_ylabel('y and exact')\n",
    "axs[1].plot(t, v)\n",
    "axs[1].set_ylabel('v[m/s]')\n",
    "axs[2].plot(t, a)\n",
    "axs[2].set_xlabel('time[s]')\n",
    "axs[2].set_ylabel('a[m/s^2]')\n",
    "fig.tight_layout()\n",
    "save_fig(\"EulerIntegration\")\n",
    "plt.show()"
   ]
  },
  {
   "cell_type": "markdown",
   "id": "8f401241",
   "metadata": {},
   "source": [
    "Try different values for $\\Delta t$ and study the difference between the exact solution and the numerical solution."
   ]
  },
  {
   "cell_type": "markdown",
   "id": "399fc84a",
   "metadata": {},
   "source": [
    "## Simple extension, the Euler-Cromer method\n",
    "\n",
    "The Euler-Cromer method is a simple variant of the standard Euler\n",
    "method. We use the newly updated velocity $v_{i+1}$ as an input to the\n",
    "new position, that is, instead of"
   ]
  },
  {
   "cell_type": "markdown",
   "id": "29e242e2",
   "metadata": {},
   "source": [
    "$$\n",
    "y_{i+1} = y_i+\\Delta t v_i,\n",
    "$$"
   ]
  },
  {
   "cell_type": "markdown",
   "id": "b7db7e50",
   "metadata": {},
   "source": [
    "and"
   ]
  },
  {
   "cell_type": "markdown",
   "id": "a7949939",
   "metadata": {},
   "source": [
    "$$\n",
    "v_{i+1} = v_i+\\Delta t a_i,\n",
    "$$"
   ]
  },
  {
   "cell_type": "markdown",
   "id": "513a5ec0",
   "metadata": {},
   "source": [
    "we use now the newly calculate for $v_{i+1}$ as input to $y_{i+1}$, that is \n",
    "we compute first"
   ]
  },
  {
   "cell_type": "markdown",
   "id": "717f7509",
   "metadata": {},
   "source": [
    "$$\n",
    "v_{i+1} = v_i+\\Delta t a_i,\n",
    "$$"
   ]
  },
  {
   "cell_type": "markdown",
   "id": "3a2a6822",
   "metadata": {},
   "source": [
    "and then"
   ]
  },
  {
   "cell_type": "markdown",
   "id": "9f6b5e29",
   "metadata": {},
   "source": [
    "$$\n",
    "y_{i+1} = y_i+\\Delta t v_{i+1},\n",
    "$$"
   ]
  },
  {
   "cell_type": "markdown",
   "id": "7bce5592",
   "metadata": {},
   "source": [
    "Implementing the Euler-Cromer method yields a simple change to the previous code. We only need to change the following line in the loop over time\n",
    "steps"
   ]
  },
  {
   "cell_type": "code",
   "execution_count": 13,
   "id": "06cdb5f1",
   "metadata": {},
   "outputs": [],
   "source": [
    "for i in range(n-1):\n",
    "    # more codes in between here\n",
    "    v[i+1] = v[i] + DeltaT*a[i]\n",
    "    y[i+1] = y[i] + DeltaT*v[i+1]\n",
    "    # more code"
   ]
  }
 ],
 "metadata": {
  "kernelspec": {
   "display_name": "Python 3 (ipykernel)",
   "language": "python",
   "name": "python3"
  },
  "language_info": {
   "codemirror_mode": {
    "name": "ipython",
    "version": 3
   },
   "file_extension": ".py",
   "mimetype": "text/x-python",
   "name": "python",
   "nbconvert_exporter": "python",
   "pygments_lexer": "ipython3",
   "version": "3.9.10"
  }
 },
 "nbformat": 4,
 "nbformat_minor": 5
}
