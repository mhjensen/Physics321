{
 "cells": [
  {
   "cell_type": "markdown",
   "metadata": {},
   "source": [
    "<!-- dom:TITLE: PHY321: Two-body problems and Gravitational Forces -->\n",
    "# PHY321: Two-body problems and Gravitational Forces\n",
    "<!-- dom:AUTHOR: [Morten Hjorth-Jensen](http://mhjgit.github.io/info/doc/web/) at Department of Physics and Astronomy and Facility for Rare Ion Beams (FRIB), Michigan State University, USA & Department of Physics, University of Oslo, Norway -->\n",
    "<!-- Author: -->  \n",
    "**[Morten Hjorth-Jensen](http://mhjgit.github.io/info/doc/web/)**, Department of Physics and Astronomy and Facility for Rare Ion Beams (FRIB), Michigan State University, USA and Department of Physics, University of Oslo, Norway\n",
    "\n",
    "Date: **Mar 22, 2021**\n",
    "\n",
    "Copyright 1999-2021, [Morten Hjorth-Jensen](http://mhjgit.github.io/info/doc/web/). Released under CC Attribution-NonCommercial 4.0 license\n",
    "\n",
    "\n",
    "\n",
    "\n",
    "## Aims and Overarching Motivation\n",
    "\n",
    "\n",
    "### Monday\n",
    "\n",
    "1. Computational topics: functions and classes (continuation of Julie's lecture from last Friday).\n",
    "\n",
    "2. From the harmonic oscillator to the gravitational force and Kepler's laws\n",
    "\n",
    "**Reading suggestion**: Taylor section 8.4 and Lecture notes\n",
    "\n",
    "\n",
    "### Wednesday\n",
    "\n",
    "1. Discussion of elliptical orbits and Kepler's laws\n",
    "\n",
    "**Reading suggestion**: Taylor sections  8.5-8.8\n",
    "\n",
    "### Friday\n",
    "\n",
    "1. Physical interpretation of various orbit types and start discussion two-body scattering\n",
    "\n",
    "**Reading suggestion**: Taylor section 8.5-8.8 and sections 14.1-14.2 \n",
    "\n",
    "\n",
    "\n",
    "\n",
    "## Deriving Elliptical Orbits\n",
    "\n",
    "Kepler's laws state that a gravitational orbit should be an ellipse\n",
    "with the source of the gravitational field at one focus. Deriving this\n",
    "is surprisingly messy. To do this, we first use angular momentum\n",
    "conservation to transform the equations of motion so that it is in\n",
    "terms of $r$ and $\\theta$ instead of $r$ and $t$. The overall strategy\n",
    "is to\n",
    "\n",
    "\n",
    "1. Find equations of motion for $r$ and $t$ with no angle ($\\theta$) mentioned, i.e. $d^2r/dt^2=\\cdots$. Angular momentum conservation will be used, and the equation will involve the angular momentum $L$.\n",
    "\n",
    "2. Use angular momentum conservation to find an expression for $\\dot{\\theta}$ in terms of $r$.\n",
    "\n",
    "3. Use the chain rule to convert the equations of motions for $r$, an expression involving $r,\\dot{r}$ and $\\ddot{r}$, to one involving $r,dr/d\\theta$ and $d^2r/d\\theta^2$. This is quitecomplicated because the expressions will also involve a substitution $u=1/r$ so that one finds an expression in terms of $u$ and $\\theta$.\n",
    "\n",
    "4. Once $u(\\theta)$ is found, you need to show that this can be converted to the familiar form for an ellipse.\n",
    "\n",
    "The equations of motion give"
   ]
  },
  {
   "cell_type": "markdown",
   "metadata": {},
   "source": [
    "<!-- Equation labels as ordinary links -->\n",
    "<div id=\"eq:radialeqofmotion\"></div>\n",
    "\n",
    "$$\n",
    "\\begin{eqnarray}\n",
    "\\label{eq:radialeqofmotion} \\tag{1}\n",
    "\\frac{d}{dt}r^2&=&\\frac{d}{dt}(x^2+y^2)=2x\\dot{x}+2y\\dot{y}=2r\\dot{r},\\\\\n",
    "\\nonumber\n",
    "\\dot{r}&=&\\frac{x}{r}\\dot{x}+\\frac{y}{r}\\dot{y},\\\\\n",
    "\\nonumber\n",
    "\\ddot{r}&=&\\frac{x}{r}\\ddot{x}+\\frac{y}{r}\\ddot{y}\n",
    "+\\frac{\\dot{x}^2+\\dot{y}^2}{r}\n",
    "-\\frac{\\dot{r}^2}{r}.\n",
    "\\end{eqnarray}\n",
    "$$"
   ]
  },
  {
   "cell_type": "markdown",
   "metadata": {},
   "source": [
    "Recognizing that the numerator of the third term is the velocity squared, and that it can be written in polar coordinates,"
   ]
  },
  {
   "cell_type": "markdown",
   "metadata": {},
   "source": [
    "<!-- Equation labels as ordinary links -->\n",
    "<div id=\"_auto1\"></div>\n",
    "\n",
    "$$\n",
    "\\begin{equation}\n",
    "v^2=\\dot{x}^2+\\dot{y}^2=\\dot{r}^2+r^2\\dot{\\theta}^2,\n",
    "\\label{_auto1} \\tag{2}\n",
    "\\end{equation}\n",
    "$$"
   ]
  },
  {
   "cell_type": "markdown",
   "metadata": {},
   "source": [
    "one can write $\\ddot{r}$ as"
   ]
  },
  {
   "cell_type": "markdown",
   "metadata": {},
   "source": [
    "<!-- Equation labels as ordinary links -->\n",
    "<div id=\"eq:radialeqofmotion2\"></div>\n",
    "\n",
    "$$\n",
    "\\begin{eqnarray}\n",
    "\\label{eq:radialeqofmotion2} \\tag{3}\n",
    "\\ddot{r}&=&\\frac{F_x\\cos\\theta+F_y\\sin\\theta}{m}+\\frac{\\dot{r}^2+r^2\\dot{\\theta}^2}{r}-\\frac{\\dot{r}^2}{r}\\\\\n",
    "\\nonumber\n",
    "&=&\\frac{F}{m}+\\frac{r^2\\dot{\\theta}^2}{r}\\\\\n",
    "\\nonumber\n",
    "m\\ddot{r}&=&F+\\frac{L^2}{mr^3}.\n",
    "\\end{eqnarray}\n",
    "$$"
   ]
  },
  {
   "cell_type": "markdown",
   "metadata": {},
   "source": [
    "This derivation used the fact that the force was radial,\n",
    "$F=F_r=F_x\\cos\\theta+F_y\\sin\\theta$, and that angular momentum is\n",
    "$L=mrv_{\\theta}=mr^2\\dot{\\theta}$. The term $L^2/mr^3=mv^2/r$ behaves\n",
    "like an additional force. Sometimes this is referred to as a\n",
    "centrifugal force, but it is not a force. Instead, it is the\n",
    "consequence of considering the motion in a rotating (and therefore\n",
    "accelerating) frame.\n",
    "\n",
    "Now, we switch to the particular case of an attractive inverse square\n",
    "force, $F=-\\alpha/r^2$, and show that the trajectory, $r(\\theta)$, is\n",
    "an ellipse. To do this we transform derivatives w.r.t. time to\n",
    "derivatives w.r.t. $\\theta$ using the chain rule combined with angular\n",
    "momentum conservation, $\\dot{\\theta}=L/mr^2$."
   ]
  },
  {
   "cell_type": "markdown",
   "metadata": {},
   "source": [
    "<!-- Equation labels as ordinary links -->\n",
    "<div id=\"eq:rtotheta\"></div>\n",
    "\n",
    "$$\n",
    "\\begin{eqnarray}\n",
    "\\label{eq:rtotheta} \\tag{4}\n",
    "\\dot{r}&=&\\frac{dr}{d\\theta}\\dot{\\theta}=\\frac{dr}{d\\theta}\\frac{L}{mr^2},\\\\\n",
    "\\nonumber\n",
    "\\ddot{r}&=&\\frac{d^2r}{d\\theta^2}\\dot{\\theta}^2\n",
    "+\\frac{dr}{d\\theta}\\left(\\frac{d}{dr}\\frac{L}{mr^2}\\right)\\dot{r}\\\\\n",
    "\\nonumber\n",
    "&=&\\frac{d^2r}{d\\theta^2}\\left(\\frac{L}{mr^2}\\right)^2\n",
    "-2\\frac{dr}{d\\theta}\\frac{L}{mr^3}\\dot{r}\\\\\n",
    "\\nonumber\n",
    "&=&\\frac{d^2r}{d\\theta^2}\\left(\\frac{L}{mr^2}\\right)^2\n",
    "-\\frac{2}{r}\\left(\\frac{dr}{d\\theta}\\right)^2\\left(\\frac{L}{mr^2}\\right)^2\n",
    "\\end{eqnarray}\n",
    "$$"
   ]
  },
  {
   "cell_type": "markdown",
   "metadata": {},
   "source": [
    "Equating the two expressions for $\\ddot{r}$ in Eq.s ([3](#eq:radialeqofmotion2)) and ([4](#eq:rtotheta)) eliminates all the derivatives w.r.t. time, and provides a differential equation with only derivatives w.r.t. $\\theta$,"
   ]
  },
  {
   "cell_type": "markdown",
   "metadata": {},
   "source": [
    "<!-- Equation labels as ordinary links -->\n",
    "<div id=\"eq:rdotdot\"></div>\n",
    "\n",
    "$$\n",
    "\\begin{equation}\n",
    "\\label{eq:rdotdot} \\tag{5}\n",
    "\\frac{d^2r}{d\\theta^2}\\left(\\frac{L}{mr^2}\\right)^2\n",
    "-\\frac{2}{r}\\left(\\frac{dr}{d\\theta}\\right)^2\\left(\\frac{L}{mr^2}\\right)^2\n",
    "=\\frac{F}{m}+\\frac{L^2}{m^2r^3},\n",
    "\\end{equation}\n",
    "$$"
   ]
  },
  {
   "cell_type": "markdown",
   "metadata": {},
   "source": [
    "that when solved yields the trajectory, i.e. $r(\\theta)$. Up to this\n",
    "point the expressions work for any radial force, not just forces that\n",
    "fall as $1/r^2$.\n",
    "\n",
    "The trick to simplifying this differential equation for the inverse\n",
    "square problems is to make a substitution, $u\\equiv 1/r$, and rewrite\n",
    "the differential equation for $u(\\theta)$."
   ]
  },
  {
   "cell_type": "markdown",
   "metadata": {},
   "source": [
    "$$\n",
    "\\begin{eqnarray}\n",
    "r&=&1/u,\\\\\n",
    "\\nonumber\n",
    "\\frac{dr}{d\\theta}&=&-\\frac{1}{u^2}\\frac{du}{d\\theta},\\\\\n",
    "\\nonumber\n",
    "\\frac{d^2r}{d\\theta^2}&=&\\frac{2}{u^3}\\left(\\frac{du}{d\\theta}\\right)^2-\\frac{1}{u^2}\\frac{d^2u}{d\\theta^2}.\n",
    "\\end{eqnarray}\n",
    "$$"
   ]
  },
  {
   "cell_type": "markdown",
   "metadata": {},
   "source": [
    "Plugging these expressions into Eq. ([5](#eq:rdotdot)) gives an\n",
    "expression in terms of $u$, $du/d\\theta$, and $d^2u/d\\theta^2$. After\n",
    "some tedious algebra,"
   ]
  },
  {
   "cell_type": "markdown",
   "metadata": {},
   "source": [
    "<!-- Equation labels as ordinary links -->\n",
    "<div id=\"_auto2\"></div>\n",
    "\n",
    "$$\n",
    "\\begin{equation}\n",
    "\\frac{d^2u}{d\\theta^2}=-u-\\frac{F m}{L^2u^2}.\n",
    "\\label{_auto2} \\tag{6}\n",
    "\\end{equation}\n",
    "$$"
   ]
  },
  {
   "cell_type": "markdown",
   "metadata": {},
   "source": [
    "For the attractive inverse square law force, $F=-\\alpha u^2$,"
   ]
  },
  {
   "cell_type": "markdown",
   "metadata": {},
   "source": [
    "<!-- Equation labels as ordinary links -->\n",
    "<div id=\"_auto3\"></div>\n",
    "\n",
    "$$\n",
    "\\begin{equation}\n",
    "\\frac{d^2u}{d\\theta^2}=-u+\\frac{m\\alpha}{L^2}.\n",
    "\\label{_auto3} \\tag{7}\n",
    "\\end{equation}\n",
    "$$"
   ]
  },
  {
   "cell_type": "markdown",
   "metadata": {},
   "source": [
    "The solution has two arbitrary constants, $A$ and $\\theta_0$,"
   ]
  },
  {
   "cell_type": "markdown",
   "metadata": {},
   "source": [
    "<!-- Equation labels as ordinary links -->\n",
    "<div id=\"eq:Ctrajectory\"></div>\n",
    "\n",
    "$$\n",
    "\\begin{eqnarray}\n",
    "\\label{eq:Ctrajectory} \\tag{8}\n",
    "u&=&\\frac{m\\alpha}{L^2}+A\\cos(\\theta-\\theta_0),\\\\\n",
    "\\nonumber\n",
    "r&=&\\frac{1}{(m\\alpha/L^2)+A\\cos(\\theta-\\theta_0)}.\n",
    "\\end{eqnarray}\n",
    "$$"
   ]
  },
  {
   "cell_type": "markdown",
   "metadata": {},
   "source": [
    "The radius will be at a minimum when $\\theta=\\theta_0$ and at a\n",
    "maximum when $\\theta=\\theta_0+\\pi$. The constant $A$ is related to the\n",
    "eccentricity of the orbit. When $A=0$ the radius is a constant\n",
    "$r=L^2/(m\\alpha)$, and the motion is circular. If one solved the\n",
    "expression $mv^2/r=-\\alpha/r^2$ for a circular orbit, using the\n",
    "substitution $v=L/(mr)$, one would reproduce the expression\n",
    "$r=L^2/(m\\alpha)$.\n",
    "\n",
    "The form describing the elliptical trajectory in\n",
    "Eq. ([8](#eq:Ctrajectory)) can be identified as an ellipse with one\n",
    "focus being the center of the ellipse by considering the definition of\n",
    "an ellipse as being the points such that the sum of the two distances\n",
    "between the two foci are a constant. Making that distance $2D$, the\n",
    "distance between the two foci as $2a$, and putting one focus at the\n",
    "origin,"
   ]
  },
  {
   "cell_type": "markdown",
   "metadata": {},
   "source": [
    "$$\n",
    "\\begin{eqnarray}\n",
    "2D&=&r+\\sqrt{(r\\cos\\theta-2a)^2+r^2\\sin^2\\theta},\\\\\n",
    "\\nonumber\n",
    "4D^2+r^2-4Dr&=&r^2+4a^2-4ar\\cos\\theta,\\\\\n",
    "\\nonumber\n",
    "r&=&\\frac{D^2-a^2}{D+a\\cos\\theta}=\\frac{1}{D/(D^2-a^2)-a\\cos\\theta/(D^2-a^2)}.\n",
    "\\end{eqnarray}\n",
    "$$"
   ]
  },
  {
   "cell_type": "markdown",
   "metadata": {},
   "source": [
    "By inspection, this is the same form as Eq. ([8](#eq:Ctrajectory)) with $D/(D^2-a^2)=m\\alpha/L^2$ and $a/(D^2-a^2)=A$.\n",
    "\n",
    "\n",
    "Let us remind ourselves about what an ellipse is before we proceed."
   ]
  },
  {
   "cell_type": "code",
   "execution_count": 1,
   "metadata": {},
   "outputs": [
    {
     "data": {
      "image/png": "[encoded data removed]",
      "text/plain": [
       "<Figure size 432x288 with 1 Axes>"
      ]
     },
     "metadata": {
      "needs_background": "light"
     },
     "output_type": "display_data"
    }
   ],
   "source": [
    "%matplotlib inline\n",
    "\n",
    "import numpy as np\n",
    "from matplotlib import pyplot as plt\n",
    "from math import pi\n",
    "\n",
    "u=1.     #x-position of the center\n",
    "v=0.5    #y-position of the center\n",
    "a=2.     #radius on the x-axis\n",
    "b=1.5    #radius on the y-axis\n",
    "\n",
    "t = np.linspace(0, 2*pi, 100)\n",
    "plt.plot( u+a*np.cos(t) , v+b*np.sin(t) )\n",
    "plt.grid(color='lightgray',linestyle='--')\n",
    "plt.show()"
   ]
  },
  {
   "cell_type": "markdown",
   "metadata": {},
   "source": [
    "## Effective or Centrifugal Potential\n",
    "\n",
    "The total energy of a particle is"
   ]
  },
  {
   "cell_type": "markdown",
   "metadata": {},
   "source": [
    "$$\n",
    "\\begin{eqnarray}\n",
    "E&=&V(r)+\\frac{1}{2}mv_\\theta^2+\\frac{1}{2}m\\dot{r}^2\\\\\n",
    "\\nonumber\n",
    "&=&V(r)+\\frac{1}{2}mr^2\\dot{\\theta}^2+\\frac{1}{2}m\\dot{r}^2\\\\\n",
    "\\nonumber\n",
    "&=&V(r)+\\frac{L^2}{2mr^2}+\\frac{1}{2}m\\dot{r}^2.\n",
    "\\end{eqnarray}\n",
    "$$"
   ]
  },
  {
   "cell_type": "markdown",
   "metadata": {},
   "source": [
    "The second term then contributes to the energy like an additional\n",
    "repulsive potential. The term is sometimes referred to as the\n",
    "\"centrifugal\" potential, even though it is actually the kinetic energy\n",
    "of the angular motion. Combined with $V(r)$, it is sometimes referred\n",
    "to as the \"effective\" potential,"
   ]
  },
  {
   "cell_type": "markdown",
   "metadata": {},
   "source": [
    "$$\n",
    "\\begin{eqnarray}\n",
    "V_{\\rm eff}(r)&=&V(r)+\\frac{L^2}{2mr^2}.\n",
    "\\end{eqnarray}\n",
    "$$"
   ]
  },
  {
   "cell_type": "markdown",
   "metadata": {},
   "source": [
    "Note that if one treats the effective potential like a real potential, one would expect to be able to generate an effective force,"
   ]
  },
  {
   "cell_type": "markdown",
   "metadata": {},
   "source": [
    "$$\n",
    "\\begin{eqnarray}\n",
    "F_{\\rm eff}&=&-\\frac{d}{dr}V(r) -\\frac{d}{dr}\\frac{L^2}{2mr^2}\\\\\n",
    "\\nonumber\n",
    "&=&F(r)+\\frac{L^2}{mr^3}=F(r)+m\\frac{v_\\perp^2}{r},\n",
    "\\end{eqnarray}\n",
    "$$"
   ]
  },
  {
   "cell_type": "markdown",
   "metadata": {},
   "source": [
    "which is indeed matches the form for $m\\ddot{r}$ in Eq. ([3](#eq:radialeqofmotion2)), which included the **centrifugal** force.\n",
    "\n",
    "The following code plots this effective potential for a simple choice of parameters, with a standard gravitational potential $-\\alpha/r$. Here we have chosen $L=m=\\alpha=1$."
   ]
  },
  {
   "cell_type": "code",
   "execution_count": 2,
   "metadata": {},
   "outputs": [
    {
     "data": {
      "image/png": "[encoded data removed]",
      "text/plain": [
       "<Figure size 432x288 with 1 Axes>"
      ]
     },
     "metadata": {
      "needs_background": "light"
     },
     "output_type": "display_data"
    }
   ],
   "source": [
    "# Common imports\n",
    "import numpy as np\n",
    "from math import *\n",
    "import matplotlib.pyplot as plt\n",
    "\n",
    "Deltax = 0.01\n",
    "#set up arrays\n",
    "xinitial = 0.3\n",
    "xfinal = 5.0\n",
    "alpha = 1.0   # spring constant\n",
    "m = 1.0   # mass, you can change these\n",
    "AngMom = 1.0  #  The angular momentum\n",
    "n = ceil((xfinal-xinitial)/Deltax)\n",
    "x = np.zeros(n)\n",
    "for i in range(n):\n",
    "    x[i] = xinitial+i*Deltax\n",
    "V = np.zeros(n)\n",
    "V = -alpha/x+0.5*AngMom*AngMom/(m*x*x)\n",
    "# Plot potential\n",
    "fig, ax = plt.subplots()\n",
    "ax.set_xlabel('r[m]')\n",
    "ax.set_ylabel('V[J]')\n",
    "ax.plot(x, V)\n",
    "fig.tight_layout()\n",
    "plt.show()"
   ]
  },
  {
   "cell_type": "markdown",
   "metadata": {},
   "source": [
    "### Gravitational force example\n",
    "\n",
    "Using the above parameters, we can now study the evolution of the system using for example the velocity Verlet method.\n",
    "This is done in the code here for an initial radius equal to the minimum of the potential well.  We seen then that the radius is always the same and corresponds to a circle (the radius is always constant)."
   ]
  },
  {
   "cell_type": "code",
   "execution_count": 9,
   "metadata": {},
   "outputs": [
    {
     "data": {
      "image/png": "[encoded data removed]",
      "text/plain": [
       "<Figure size 432x288 with 2 Axes>"
      ]
     },
     "metadata": {
      "needs_background": "light"
     },
     "output_type": "display_data"
    }
   ],
   "source": [
    "# Common imports\n",
    "import numpy as np\n",
    "import pandas as pd\n",
    "from math import *\n",
    "import matplotlib.pyplot as plt\n",
    "import os\n",
    "\n",
    "# Where to save the figures and data files\n",
    "PROJECT_ROOT_DIR = \"Results\"\n",
    "FIGURE_ID = \"Results/FigureFiles\"\n",
    "DATA_ID = \"DataFiles/\"\n",
    "\n",
    "if not os.path.exists(PROJECT_ROOT_DIR):\n",
    "    os.mkdir(PROJECT_ROOT_DIR)\n",
    "\n",
    "if not os.path.exists(FIGURE_ID):\n",
    "    os.makedirs(FIGURE_ID)\n",
    "\n",
    "if not os.path.exists(DATA_ID):\n",
    "    os.makedirs(DATA_ID)\n",
    "\n",
    "def image_path(fig_id):\n",
    "    return os.path.join(FIGURE_ID, fig_id)\n",
    "\n",
    "def data_path(dat_id):\n",
    "    return os.path.join(DATA_ID, dat_id)\n",
    "\n",
    "def save_fig(fig_id):\n",
    "    plt.savefig(image_path(fig_id) + \".png\", format='png')\n",
    "\n",
    "\n",
    "# Simple Gravitational Force   -alpha/r\n",
    "    \n",
    "DeltaT = 0.01\n",
    "#set up arrays \n",
    "tfinal = 100.0\n",
    "n = ceil(tfinal/DeltaT)\n",
    "# set up arrays for t, v and r\n",
    "t = np.zeros(n)\n",
    "v = np.zeros(n)\n",
    "r = np.zeros(n)\n",
    "# Constants of the model, setting all variables to one for simplicity\n",
    "alpha = 1.0\n",
    "AngMom = 1.0  #  The angular momentum\n",
    "m = 1.0  # scale mass to one\n",
    "c1 = AngMom*AngMom/(m*m)\n",
    "c2 = AngMom*AngMom/m\n",
    "rmin = (AngMom*AngMom/m/alpha)\n",
    "# Initial conditions\n",
    "r0 = rmin\n",
    "v0 = 0.0\n",
    "r[0] = r0\n",
    "v[0] = v0\n",
    "# Start integrating using the Velocity-Verlet  method\n",
    "for i in range(n-1):\n",
    "    # Set up acceleration\n",
    "    a = -alpha/(r[i]**2)+c1/(r[i]**3)\n",
    "    # update velocity, time and position using the Velocity-Verlet method\n",
    "    r[i+1] = r[i] + DeltaT*v[i]+0.5*(DeltaT**2)*a\n",
    "    anew = -alpha/(r[i+1]**2)+c1/(r[i+1]**3)\n",
    "    v[i+1] = v[i] + 0.5*DeltaT*(a+anew)\n",
    "    t[i+1] = t[i] + DeltaT\n",
    "    # Plot position as function of time\n",
    "fig, ax = plt.subplots(2,1)\n",
    "ax[0].set_xlabel('time')\n",
    "ax[0].set_ylabel('radius')\n",
    "ax[0].plot(t,r)\n",
    "ax[1].set_xlabel('time')\n",
    "ax[1].set_ylabel('Velocity')\n",
    "ax[1].plot(t,v)\n",
    "save_fig(\"RadialGVV\")\n",
    "plt.show()"
   ]
  },
  {
   "cell_type": "markdown",
   "metadata": {},
   "source": [
    "Changing the value of the initial position to a value where the energy is positive, leads to an increasing radius with time, a so-called unbound orbit. Choosing on the other hand an initial radius that corresponds to a negative energy and different from the minimum value leads to a radius that oscillates back and forth between two values. \n",
    "\n",
    "### Harmonic Oscillator in two dimensions\n",
    "\n",
    "Consider a particle of mass $m$ in a 2-dimensional harmonic oscillator with potential"
   ]
  },
  {
   "cell_type": "markdown",
   "metadata": {},
   "source": [
    "$$\n",
    "V=\\frac{1}{2}kr^2=\\frac{1}{2}k(x^2+y^2).\n",
    "$$"
   ]
  },
  {
   "cell_type": "markdown",
   "metadata": {},
   "source": [
    "If the orbit has angular momentum $L$, we can find the radius and angular velocity of the circular orbit as well as the b) the angular frequency of small radial perturbations.\n",
    "\n",
    "We consider the effective potential. The radius of a circular orbit is at the minimum of the potential (where the effective force is zero).\n",
    "The potential is plotted here with the parameters $k=m=0.1$ and $L=1.0$."
   ]
  },
  {
   "cell_type": "code",
   "execution_count": 10,
   "metadata": {},
   "outputs": [
    {
     "data": {
      "image/png": "[encoded data removed]",
      "text/plain": [
       "<Figure size 432x288 with 1 Axes>"
      ]
     },
     "metadata": {
      "needs_background": "light"
     },
     "output_type": "display_data"
    }
   ],
   "source": [
    "# Common imports\n",
    "import numpy as np\n",
    "from math import *\n",
    "import matplotlib.pyplot as plt\n",
    "\n",
    "Deltax = 0.01\n",
    "#set up arrays\n",
    "xinitial = 0.5\n",
    "xfinal = 3.0\n",
    "k = 1.0   # spring constant\n",
    "m = 1.0   # mass, you can change these\n",
    "AngMom = 1.0  #  The angular momentum\n",
    "n = ceil((xfinal-xinitial)/Deltax)\n",
    "x = np.zeros(n)\n",
    "for i in range(n):\n",
    "    x[i] = xinitial+i*Deltax\n",
    "V = np.zeros(n)\n",
    "V = 0.5*k*x*x+0.5*AngMom*AngMom/(m*x*x)\n",
    "# Plot potential\n",
    "fig, ax = plt.subplots()\n",
    "ax.set_xlabel('r[m]')\n",
    "ax.set_ylabel('V[J]')\n",
    "ax.plot(x, V)\n",
    "fig.tight_layout()\n",
    "plt.show()"
   ]
  },
  {
   "cell_type": "markdown",
   "metadata": {},
   "source": [
    "$$\n",
    "\\begin{eqnarray*}\n",
    "V_{\\rm eff}&=&\\frac{1}{2}kr^2+\\frac{L^2}{2mr^2}\n",
    "\\end{eqnarray*}\n",
    "$$"
   ]
  },
  {
   "cell_type": "markdown",
   "metadata": {},
   "source": [
    "The effective potential looks like that of a harmonic oscillator for\n",
    "large $r$, but for small $r$, the centrifugal potential repels the\n",
    "particle from the origin. The combination of the two potentials has a\n",
    "minimum for at some radius $r_{\\rm min}$."
   ]
  },
  {
   "cell_type": "markdown",
   "metadata": {},
   "source": [
    "$$\n",
    "\\begin{eqnarray*}\n",
    "0&=&kr_{\\rm min}-\\frac{L^2}{mr_{\\rm min}^3},\\\\\n",
    "r_{\\rm min}&=&\\left(\\frac{L^2}{mk}\\right)^{1/4},\\\\\n",
    "\\dot{\\theta}&=&\\frac{L}{mr_{\\rm min}^2}=\\sqrt{k/m}.\n",
    "\\end{eqnarray*}\n",
    "$$"
   ]
  },
  {
   "cell_type": "markdown",
   "metadata": {},
   "source": [
    "For particles at $r_{\\rm min}$ with $\\dot{r}=0$, the particle does not\n",
    "accelerate and $r$ stays constant, i.e. a circular orbit. The radius\n",
    "of the circular orbit can be adjusted by changing the angular momentum\n",
    "$L$.\n",
    "\n",
    "For the above parameters this minimum is at $r_{\\rm min}=1$.\n",
    "\n",
    " Now consider small vibrations about $r_{\\rm min}$. The effective spring constant is the curvature of the effective potential."
   ]
  },
  {
   "cell_type": "markdown",
   "metadata": {},
   "source": [
    "$$\n",
    "\\begin{eqnarray*}\n",
    "k_{\\rm eff}&=&\\left.\\frac{d^2}{dr^2}V_{\\rm eff}(r)\\right|_{r=r_{\\rm min}}=k+\\frac{3L^2}{mr_{\\rm min}^4}\\\\\n",
    "&=&4k,\\\\\n",
    "\\omega&=&\\sqrt{k_{\\rm eff}/m}=2\\sqrt{k/m}=2\\dot{\\theta}.\n",
    "\\end{eqnarray*}\n",
    "$$"
   ]
  },
  {
   "cell_type": "markdown",
   "metadata": {},
   "source": [
    "Because the radius oscillates with twice the angular frequency,\n",
    "the orbit has two places where $r$ reaches a minimum in one\n",
    "cycle. This differs from the inverse-square force where there is one\n",
    "minimum in an orbit. One can show that the orbit for the harmonic\n",
    "oscillator is also elliptical, but in this case the center of the\n",
    "potential is at the center of the ellipse, not at one of the foci.\n",
    "\n",
    "The solution is also simple to write down exactly in Cartesian coordinates. The $x$ and $y$ equations of motion separate,"
   ]
  },
  {
   "cell_type": "markdown",
   "metadata": {},
   "source": [
    "$$\n",
    "\\begin{eqnarray*}\n",
    "\\ddot{x}&=&-kx,\\\\\n",
    "\\ddot{y}&=&-ky.\n",
    "\\end{eqnarray*}\n",
    "$$"
   ]
  },
  {
   "cell_type": "markdown",
   "metadata": {},
   "source": [
    "The general solution can be expressed as"
   ]
  },
  {
   "cell_type": "markdown",
   "metadata": {},
   "source": [
    "$$\n",
    "\\begin{eqnarray*}\n",
    "x&=&A\\cos\\omega_0 t+B\\sin\\omega_0 t,\\\\\n",
    "y&=&C\\cos\\omega_0 t+D\\sin\\omega_0 t.\n",
    "\\end{eqnarray*}\n",
    "$$"
   ]
  },
  {
   "cell_type": "markdown",
   "metadata": {},
   "source": [
    "The code here finds the solution for $x$ and $y$ using the code we\n",
    "developed in homework 5 and 6 and the midterm.  Note that this code is\n",
    "tailored to run in Cartesian coordinates. There is thus no angular\n",
    "momentum dependent term.\n",
    "\n",
    "Here we have chose initial conditions that\n",
    "correspond to the minimum of the effective potential\n",
    "$r_{\\mathrm{min}}$. We have chosen $x_0=r_{\\mathrm{min}}$ and\n",
    "$y_0=0$. Similarly, we use the centripetal acceleration to determine\n",
    "the initial velocity so that we have a circular motion (see back to the\n",
    "last question of the midterm). This means that we set the centripetal\n",
    "acceleration $v^2/r$ equal to the force from the harmonic oscillator $-k\\boldsymbol{r}$. Taking the\n",
    "magnitude of $\\boldsymbol{r}$ we have then\n",
    "$v^2/r=k/mr$, which gives $v=\\pm\\omega_0r$. \n",
    "\n",
    "Since the code here solves the equations of motion in cartesian\n",
    "coordinates and the harmonic oscillator potential leads to forces in\n",
    "the $x$- and $y$-directions that are decoupled, we have to select the initial velocities and positions so that we don't get that for example $y(t)=0$.\n",
    "\n",
    "We set $x_0$ to be different from zero and $v_{y0}$ to be different from zero."
   ]
  },
  {
   "cell_type": "code",
   "execution_count": 13,
   "metadata": {},
   "outputs": [
    {
     "data": {
      "image/png": "[encoded data removed]",
      "text/plain": [
       "<Figure size 432x288 with 3 Axes>"
      ]
     },
     "metadata": {
      "needs_background": "light"
     },
     "output_type": "display_data"
    }
   ],
   "source": [
    "\n",
    "DeltaT = 0.00001\n",
    "#set up arrays \n",
    "tfinal = 10.0\n",
    "n = ceil(tfinal/DeltaT)\n",
    "# set up arrays\n",
    "t = np.zeros(n)\n",
    "v = np.zeros((n,2))\n",
    "r = np.zeros((n,2))\n",
    "radius = np.zeros(n)\n",
    "# Constants of the model\n",
    "k = 1.0   # spring constant\n",
    "m = 1.0   # mass, you can change these\n",
    "omega02 = k/m  # Frequency\n",
    "AngMom = 1.0  #  The angular momentum\n",
    "# Potential minimum\n",
    "rmin = (AngMom*AngMom/k/m)**0.25\n",
    "# Initial conditions as compact 2-dimensional arrays, x0=rmin and y0 = 0\n",
    "x0 = rmin; y0= 0.0\n",
    "r0 = np.array([x0,y0])\n",
    "#vy0 = 2.0 ; vx0 = 0.0 \n",
    "vy0 = sqrt(omega02)*rmin; vx0 = 0.0\n",
    "v0 = np.array([vx0,vy0])\n",
    "r[0] = r0\n",
    "v[0] = v0\n",
    "# Start integrating using the Velocity-Verlet  method\n",
    "for i in range(n-1):\n",
    "    # Set up the acceleration\n",
    "    a =  -r[i]*omega02  \n",
    "    # update velocity, time and position using the Velocity-Verlet method\n",
    "    r[i+1] = r[i] + DeltaT*v[i]+0.5*(DeltaT**2)*a\n",
    "    anew = -r[i+1]*omega02  \n",
    "    v[i+1] = v[i] + 0.5*DeltaT*(a+anew)\n",
    "    t[i+1] = t[i] + DeltaT\n",
    "# Plot position as function of time\n",
    "radius = np.sqrt(r[:,0]**2+r[:,1]**2)\n",
    "fig, ax = plt.subplots(3,1)\n",
    "ax[0].set_xlabel('time')\n",
    "ax[0].set_ylabel('radius squared')\n",
    "ax[0].plot(t,r[:,0]**2+r[:,1]**2)\n",
    "ax[1].set_xlabel('time')\n",
    "ax[1].set_ylabel('x position')\n",
    "ax[1].plot(t,r[:,0])\n",
    "ax[2].set_xlabel('time')\n",
    "ax[2].set_ylabel('y position')\n",
    "ax[2].plot(t,r[:,1])\n",
    "\n",
    "fig.tight_layout()\n",
    "save_fig(\"2DimHOVV\")\n",
    "plt.show()"
   ]
  },
  {
   "cell_type": "markdown",
   "metadata": {},
   "source": [
    "We see that the radius (to within a given error), we obtain a constant radius.\n",
    "\n",
    "\n",
    "The following code shows first how we can solve this problem using the radial degrees of freedom only.\n",
    "Here we need to add the explicit centrifugal barrier.  Note that the variable $r$ depends only on time. There is no $x$ and $y$ directions\n",
    "since we have transformed the equations to polar coordinates."
   ]
  },
  {
   "cell_type": "code",
   "execution_count": 3,
   "metadata": {},
   "outputs": [
    {
     "data": {
      "image/png": "[encoded data removed]",
      "text/plain": [
       "<Figure size 432x288 with 2 Axes>"
      ]
     },
     "metadata": {
      "needs_background": "light"
     },
     "output_type": "display_data"
    }
   ],
   "source": [
    "DeltaT = 0.01\n",
    "#set up arrays \n",
    "tfinal = 10.0\n",
    "n = ceil(tfinal/DeltaT)\n",
    "# set up arrays for t, v and r\n",
    "t = np.zeros(n)\n",
    "v = np.zeros(n)\n",
    "r = np.zeros(n)\n",
    "E = np.zeros(n)\n",
    "# Constants of the model\n",
    "AngMom = 1.0  #  The angular momentum\n",
    "m = 1.0\n",
    "k = 1.0\n",
    "omega02 = k/m\n",
    "c1 = AngMom*AngMom/(m*m)\n",
    "c2 = AngMom*AngMom/m\n",
    "rmin = (AngMom*AngMom/k/m)**0.25\n",
    "# Initial conditions\n",
    "r0 = rmin\n",
    "v0 = 0.0\n",
    "r[0] = r0\n",
    "v[0] = v0\n",
    "E[0] = 0.5*m*v0*v0+0.5*k*r0*r0+0.5*c2/(r0*r0)\n",
    "# Start integrating using the Velocity-Verlet  method\n",
    "for i in range(n-1):\n",
    "    # Set up acceleration\n",
    "    a = -r[i]*omega02+c1/(r[i]**3)    \n",
    "    # update velocity, time and position using the Velocity-Verlet method\n",
    "    r[i+1] = r[i] + DeltaT*v[i]+0.5*(DeltaT**2)*a\n",
    "    anew = -r[i+1]*omega02+c1/(r[i+1]**3)\n",
    "    v[i+1] = v[i] + 0.5*DeltaT*(a+anew)\n",
    "    t[i+1] = t[i] + DeltaT\n",
    "    E[i+1] = 0.5*m*v[i+1]*v[i+1]+0.5*k*r[i+1]*r[i+1]+0.5*c2/(r[i+1]*r[i+1])\n",
    "    # Plot position as function of time\n",
    "fig, ax = plt.subplots(2,1)\n",
    "ax[0].set_xlabel('time')\n",
    "ax[0].set_ylabel('radius')\n",
    "ax[0].plot(t,r)\n",
    "ax[1].set_xlabel('time')\n",
    "ax[1].set_ylabel('Energy')\n",
    "ax[1].plot(t,E)\n",
    "save_fig(\"RadialHOVV\")\n",
    "plt.show()"
   ]
  },
  {
   "cell_type": "markdown",
   "metadata": {},
   "source": [
    "With some work using double angle formulas, one can calculate"
   ]
  },
  {
   "cell_type": "markdown",
   "metadata": {},
   "source": [
    "$$\n",
    "\\begin{eqnarray*}\n",
    "r^2&=&x^2+y^2\\\\\n",
    "\\nonumber\n",
    "&=&(A^2+C^2)\\cos^2(\\omega_0t)+(B^2+D^2)\\sin^2\\omega_0t+(AB+CD)\\cos(\\omega_0t)\\sin(\\omega_0t)\\\\\n",
    "\\nonumber\n",
    "&=&\\alpha+\\beta\\cos 2\\omega_0 t+\\gamma\\sin 2\\omega_0 t,\\\\\n",
    "\\alpha&=&\\frac{A^2+B^2+C^2+D^2}{2},~~\\beta=\\frac{A^2-B^2+C^2-D^2}{2},~~\\gamma=AB+CD,\\\\\n",
    "r^2&=&\\alpha+(\\beta^2+\\gamma^2)^{1/2}\\cos(2\\omega_0 t-\\delta),~~~\\delta=\\arctan(\\gamma/\\beta),\n",
    "\\end{eqnarray*}\n",
    "$$"
   ]
  },
  {
   "cell_type": "markdown",
   "metadata": {},
   "source": [
    "and see that radius oscillates with frequency $2\\omega_0$. The\n",
    "factor of two comes because the oscillation $x=A\\cos\\omega_0t$ has two\n",
    "maxima for $x^2$, one at $t=0$ and one a half period later.\n",
    "\n",
    "\n",
    "\n",
    "\n",
    "## Stability of Orbits\n",
    "\n",
    "The effective force can be extracted from the effective potential, $V_{\\rm eff}$. Beginning from the equations of motion, Eq. ([1](#eq:radialeqofmotion)), for $r$,"
   ]
  },
  {
   "cell_type": "markdown",
   "metadata": {},
   "source": [
    "$$\n",
    "\\begin{eqnarray}\n",
    "m\\ddot{r}&=&F+\\frac{L^2}{mr^3}\\\\\n",
    "\\nonumber\n",
    "&=&F_{\\rm eff}\\\\\n",
    "\\nonumber\n",
    "&=&-\\partial_rV_{\\rm eff},\\\\\n",
    "\\nonumber\n",
    "F_{\\rm eff}&=&-\\partial_r\\left[V(r)+(L^2/2mr^2)\\right].\n",
    "\\end{eqnarray}\n",
    "$$"
   ]
  },
  {
   "cell_type": "markdown",
   "metadata": {},
   "source": [
    "For a circular orbit, the radius must be fixed as a function of time,\n",
    "so one must be at a maximum or a minimum of the effective\n",
    "potential. However, if one is at a maximum of the effective potential\n",
    "the radius will be unstable. For the attractive Coulomb force the\n",
    "effective potential will be dominated by the $-\\alpha/r$ term for\n",
    "large $r$ because the centrifugal part falls off more quickly, $\\sim\n",
    "1/r^2$. At low $r$ the centrifugal piece wins and the effective\n",
    "potential is repulsive. Thus, the potential must have a minimum\n",
    "somewhere with negative potential. The circular orbits are then stable\n",
    "to perturbation.\n",
    "\n",
    "\n",
    "The effective potential is sketched for two cases, a $1/r$ attractive\n",
    "potential and a $1/r^3$ attractive potential. The $1/r$ case has a\n",
    "stable minimum, whereas the circular orbit in the $1/r^3$ case is\n",
    "unstable.\n",
    "\n",
    "\n",
    "If one considers a potential that falls as $1/r^3$, the situation is\n",
    "reversed and the point where $\\partial_rV$ disappears will be a local\n",
    "maximum rather than a local minimum. **Fig to come here with code**\n",
    "\n",
    "The repulsive centrifugal piece dominates at large $r$ and the attractive\n",
    "Coulomb piece wins out at small $r$. The circular orbit is then at a\n",
    "maximum of the effective potential and the orbits are unstable. It is\n",
    "the clear that for potentials that fall as $r^n$, that one must have\n",
    "$n>-2$ for the orbits to be stable.\n",
    "\n",
    "\n",
    "Consider a potential $V(r)=\\beta r$. For a particle of mass $m$ with\n",
    "angular momentum $L$, find the angular frequency of a circular\n",
    "orbit. Then find the angular frequency for small radial perturbations.\n",
    "\n",
    "\n",
    "For the circular orbit you search for the position $r_{\\rm min}$ where the effective potential is minimized,"
   ]
  },
  {
   "cell_type": "markdown",
   "metadata": {},
   "source": [
    "$$\n",
    "\\begin{eqnarray*}\n",
    "\\partial_r\\left\\{\\beta r+\\frac{L^2}{2mr^2}\\right\\}&=&0,\\\\\n",
    "\\beta&=&\\frac{L^2}{mr_{\\rm min}^3},\\\\\n",
    "r_{\\rm min}&=&\\left(\\frac{L^2}{\\beta m}\\right)^{1/3},\\\\\n",
    "\\dot{\\theta}&=&\\frac{L}{mr_{\\rm min}^2}=\\frac{\\beta^{2/3}}{(mL)^{1/3}}\n",
    "\\end{eqnarray*}\n",
    "$$"
   ]
  },
  {
   "cell_type": "markdown",
   "metadata": {},
   "source": [
    "Now, we can find the angular frequency of small perturbations about the circular orbit. To do this we find the effective spring constant for the effective potential,"
   ]
  },
  {
   "cell_type": "markdown",
   "metadata": {},
   "source": [
    "$$\n",
    "\\begin{eqnarray*}\n",
    "k_{\\rm eff}&=&\\partial_r^2 \\left.V_{\\rm eff}\\right|_{r_{\\rm min}}\\\\\n",
    "&=&\\frac{3L^2}{mr_{\\rm min}^4},\\\\\n",
    "\\omega&=&\\sqrt{\\frac{k_{\\rm eff}}{m}}\\\\\n",
    "&=&\\frac{\\beta^{2/3}}{(mL)^{1/3}}\\sqrt{3}.\n",
    "\\end{eqnarray*}\n",
    "$$"
   ]
  },
  {
   "cell_type": "markdown",
   "metadata": {},
   "source": [
    "If the two frequencies, $\\dot{\\theta}$ and $\\omega$, differ by an\n",
    "integer factor, the orbit's trajectory will repeat itself each time\n",
    "around. This is the case for the inverse-square force,\n",
    "$\\omega=\\dot{\\theta}$, and for the harmonic oscillator,\n",
    "$\\omega=2\\dot{\\theta}$. In this case, $\\omega=\\sqrt{3}\\dot{\\theta}$,\n",
    "and the angles at which the maxima and minima occur change with each\n",
    "orbit.\n",
    "\n",
    "\n",
    "### Code example with gravitional force\n",
    "\n",
    "The code example here is meant to illustrate how we can make a plot of the final orbit. We solve the equations in polar coordinates (the example here uses the minimum of the potential as initial value) and then we transform back to cartesian coordinates and plot $x$ versus $y$. We see that we get a perfect circle when we place ourselves at the minimum of the potential energy, as expected."
   ]
  },
  {
   "cell_type": "code",
   "execution_count": 4,
   "metadata": {},
   "outputs": [
    {
     "data": {
      "image/png": "[encoded data removed]",
      "text/plain": [
       "<Figure size 432x288 with 3 Axes>"
      ]
     },
     "metadata": {
      "needs_background": "light"
     },
     "output_type": "display_data"
    }
   ],
   "source": [
    "\n",
    "# Simple Gravitational Force   -alpha/r\n",
    "    \n",
    "DeltaT = 0.001\n",
    "#set up arrays \n",
    "tfinal = 10.0\n",
    "n = ceil(tfinal/DeltaT)\n",
    "# set up arrays for t, v and r\n",
    "t = np.zeros(n)\n",
    "v = np.zeros(n)\n",
    "r = np.zeros(n)\n",
    "phi = np.zeros(n)\n",
    "x = np.zeros(n)\n",
    "y = np.zeros(n)\n",
    "# Constants of the model, setting all variables to one for simplicity\n",
    "alpha = 1.0\n",
    "AngMom = 1.0  #  The angular momentum\n",
    "m = 1.0  # scale mass to one\n",
    "c1 = AngMom*AngMom/(m*m)\n",
    "c2 = AngMom*AngMom/m\n",
    "rmin = (AngMom*AngMom/m/alpha)\n",
    "# Initial conditions, place yourself at the potential min\n",
    "r0 = rmin\n",
    "v0 = 0.0  # starts at rest\n",
    "r[0] = r0\n",
    "v[0] = v0\n",
    "phi[0] = 0.0\n",
    "# Start integrating using the Velocity-Verlet  method\n",
    "for i in range(n-1):\n",
    "    # Set up acceleration\n",
    "    a = -alpha/(r[i]**2)+c1/(r[i]**3)\n",
    "    # update velocity, time and position using the Velocity-Verlet method\n",
    "    r[i+1] = r[i] + DeltaT*v[i]+0.5*(DeltaT**2)*a\n",
    "    anew = -alpha/(r[i+1]**2)+c1/(r[i+1]**3)\n",
    "    v[i+1] = v[i] + 0.5*DeltaT*(a+anew)\n",
    "    t[i+1] = t[i] + DeltaT\n",
    "    phi[i+1] = t[i+1]*c2/(r0**2)\n",
    "# Find cartesian coordinates for easy plot    \n",
    "x = r*np.cos(phi)\n",
    "y = r*np.sin(phi)\n",
    "fig, ax = plt.subplots(3,1)\n",
    "ax[0].set_xlabel('time')\n",
    "ax[0].set_ylabel('radius')\n",
    "ax[0].plot(t,r)\n",
    "ax[1].set_xlabel('time')\n",
    "ax[1].set_ylabel('Angle $\\cos{\\phi}$')\n",
    "ax[1].plot(t,np.cos(phi))\n",
    "ax[2].set_ylabel('y')\n",
    "ax[2].set_xlabel('x')\n",
    "ax[2].plot(x,y)\n",
    "\n",
    "save_fig(\"Phasespace\")\n",
    "plt.show()"
   ]
  },
  {
   "cell_type": "markdown",
   "metadata": {},
   "source": [
    "Try to change the initial value for $r$ and see what kind of orbits you get.\n",
    "In order to test different energies, it can be useful to look at the plot of the effective potential discussed above.\n",
    "\n",
    "However, for orbits different from a circle the above code would need modifications in order to allow us to display say an ellipse. For the latter, it is much easier to run our code in cartesian coordinates, as done here. In this code we test also energy conservation and see that it is conserved to numerical precision. The code here is a simple extension of the code we developed for homework 4."
   ]
  },
  {
   "cell_type": "code",
   "execution_count": 6,
   "metadata": {},
   "outputs": [
    {
     "data": {
      "image/png": "[encoded data removed]",
      "text/plain": [
       "<Figure size 432x288 with 3 Axes>"
      ]
     },
     "metadata": {
      "needs_background": "light"
     },
     "output_type": "display_data"
    },
    {
     "name": "stdout",
     "output_type": "stream",
     "text": [
      "[-1.5        -1.49999996 -1.49999984 -1.49999964 -1.49999935 -1.49999898\n",
      " -1.49999853 -1.49999798 -1.49999734 -1.49999659 -1.49999574 -1.49999478\n",
      " -1.49999369 -1.49999247 -1.49999112 -1.49998961 -1.49998794 -1.49998609\n",
      " -1.49998404 -1.49998178 -1.49997929 -1.49997654 -1.49997351 -1.49997017\n",
      " -1.49996649 -1.49996243 -1.49995796 -1.49995304 -1.49994762 -1.49994165\n",
      " -1.49993508 -1.49992786 -1.49991994 -1.49991127 -1.4999018  -1.49989151\n",
      " -1.49988041 -1.49986852 -1.49985595 -1.49984292 -1.49982978 -1.49981712\n",
      " -1.49980588 -1.49979754 -1.49979431 -1.49979958 -1.4998184  -1.4998583\n",
      " -1.49993028 -1.50005034 -1.50024115 -1.500534   -1.50097003 -1.50159939\n",
      " -1.50247522 -1.50363822 -1.5050881  -1.50674417 -1.50841251 -1.50979454\n",
      " -1.51056842 -1.5105255  -1.50967788 -1.5082518  -1.50657253 -1.50493047\n",
      " -1.50350752 -1.50237442 -1.50152565 -1.50091821 -1.50049876 -1.50021789\n",
      " -1.50003547 -1.49992116 -1.49985304 -1.4998157  -1.49979853 -1.49979431\n",
      " -1.49979819 -1.49980692 -1.49981835 -1.49983109 -1.49984425 -1.49985725\n",
      " -1.49986975 -1.49988156 -1.49989259 -1.49990279 -1.49991218 -1.49992077\n",
      " -1.49992862 -1.49993577 -1.49994227 -1.49994819 -1.49995356 -1.49995843\n",
      " -1.49996286 -1.49996688 -1.49997052 -1.49997383 -1.49997683 -1.49997955\n",
      " -1.49998202 -1.49998426 -1.49998628 -1.49998812 -1.49998977 -1.49999126\n",
      " -1.4999926  -1.49999381 -1.49999488 -1.49999583 -1.49999667 -1.49999741\n",
      " -1.49999804 -1.49999858 -1.49999903 -1.49999939 -1.49999966 -1.49999986\n",
      " -1.49999997 -1.5        -1.49999995 -1.49999982 -1.49999961 -1.49999932\n",
      " -1.49999894 -1.49999848 -1.49999792 -1.49999727 -1.49999651 -1.49999565\n",
      " -1.49999467 -1.49999357 -1.49999234 -1.49999097 -1.49998945 -1.49998776\n",
      " -1.49998589 -1.49998382 -1.49998154 -1.49997902 -1.49997625 -1.49997319\n",
      " -1.49996981 -1.4999661  -1.499962   -1.49995749 -1.49995252 -1.49994704\n",
      " -1.49994101 -1.49993438 -1.49992709 -1.4999191  -1.49991035 -1.4999008\n",
      " -1.49989043 -1.49987924 -1.49986728 -1.49985466 -1.49984159 -1.49982847\n",
      " -1.4998159  -1.49980488 -1.49979693 -1.49979438 -1.49980076 -1.49982132\n",
      " -1.49986388 -1.49993989 -1.50006592 -1.50026544 -1.50057068 -1.5010238\n",
      " -1.50167564 -1.50257898 -1.50377191 -1.50524791 -1.50691602 -1.50857033\n",
      " -1.50990493 -1.51060284 -1.51047421 -1.50955526 -1.50808857 -1.50640137\n",
      " -1.50477517 -1.50337982 -1.50227653 -1.50145437 -1.5008683  -1.50046492\n",
      " -1.50019563 -1.50002129 -1.49991251 -1.49984809 -1.4998132  -1.49979762\n",
      " -1.4997944  -1.49979889 -1.49980797 -1.49981959 -1.49983241 -1.49984557\n",
      " -1.49985853 -1.49987097 -1.49988271 -1.49989365 -1.49990377 -1.49991308\n",
      " -1.49992159 -1.49992937 -1.49993645 -1.4999429  -1.49994875 -1.49995407\n",
      " -1.4999589  -1.49996328 -1.49996726 -1.49997087 -1.49997414 -1.49997712\n",
      " -1.49997981 -1.49998226 -1.49998447 -1.49998648 -1.49998829 -1.49998993\n",
      " -1.4999914  -1.49999273 -1.49999392 -1.49999498 -1.49999592 -1.49999675\n",
      " -1.49999747 -1.4999981  -1.49999863 -1.49999907 -1.49999942 -1.49999969\n",
      " -1.49999987 -1.49999997 -1.5        -1.49999994 -1.49999981 -1.49999959\n",
      " -1.49999929 -1.4999989  -1.49999842 -1.49999786 -1.49999719 -1.49999643\n",
      " -1.49999556 -1.49999457 -1.49999346 -1.49999221 -1.49999083 -1.49998929\n",
      " -1.49998758 -1.49998569 -1.4999836  -1.4999813  -1.49997876 -1.49997595\n",
      " -1.49997286 -1.49996946 -1.4999657  -1.49996157 -1.49995701 -1.49995199\n",
      " -1.49994646 -1.49994037 -1.49993368 -1.49992632 -1.49991825 -1.49990942\n",
      " -1.49989979 -1.49988934 -1.49987807 -1.49986604 -1.49985336 -1.49984027\n",
      " -1.49982716 -1.4998147  -1.49980391 -1.49979638 -1.49979455 -1.49980208\n",
      " -1.49982445 -1.49986979 -1.49994999 -1.50008223 -1.50029079 -1.50060886\n",
      " -1.50107959 -1.50175446 -1.50268571 -1.50390854 -1.50540978 -1.50708783\n",
      " -1.50872493 -1.51000875 -1.51062866 -1.51041471 -1.509427   -1.50792313\n",
      " -1.50623094 -1.50462231 -1.50325515 -1.50218152 -1.5013855  -1.50082025\n",
      " -1.50043244 -1.50017432 -1.50000777 -1.4999043  -1.49984344 -1.49981089\n",
      " -1.49979682 -1.49979457 -1.49979964 -1.49980906 -1.49982085 -1.49983373\n",
      " -1.49984689 -1.49985981 -1.49987219 -1.49988385 -1.49989471 -1.49990475\n",
      " -1.49991397 -1.49992241 -1.49993011 -1.49993713 -1.49994351 -1.49994931\n",
      " -1.49995458 -1.49995936 -1.4999637  -1.49996764 -1.49997121 -1.49997446\n",
      " -1.4999774  -1.49998007 -1.49998249 -1.49998468 -1.49998667 -1.49998846\n",
      " -1.49999008 -1.49999154 -1.49999286 -1.49999403 -1.49999508 -1.49999601\n",
      " -1.49999683 -1.49999754 -1.49999816 -1.49999868 -1.49999911 -1.49999945\n",
      " -1.49999971 -1.49999988 -1.49999998 -1.5        -1.49999993 -1.49999979\n",
      " -1.49999956 -1.49999925 -1.49999886 -1.49999837 -1.4999978  -1.49999712\n",
      " -1.49999635 -1.49999546 -1.49999446 -1.49999334 -1.49999208 -1.49999068\n",
      " -1.49998912 -1.4999874  -1.49998549 -1.49998338 -1.49998105 -1.49997849\n",
      " -1.49997566 -1.49997253 -1.49996909 -1.4999653  -1.49996113 -1.49995652\n",
      " -1.49995145 -1.49994587 -1.49993973 -1.49993297 -1.49992554 -1.4999174\n",
      " -1.49990849 -1.49989878 -1.49988824 -1.49987689 -1.49986478 -1.49985205\n",
      " -1.49983894 -1.49982587 -1.49981352 -1.49980297 -1.49979589 -1.49979481\n",
      " -1.49980355 -1.49982782 -1.49987606 -1.49996062 -1.50009932 -1.50031724\n",
      " -1.50064858 -1.50113745 -1.50183589 -1.50279545 -1.50404807 -1.50557355\n",
      " -1.50725931 -1.50887594 -1.51010569 -1.51064581 -1.51034718 -1.50929344\n",
      " -1.50775585 -1.50606146 -1.504472   -1.50313352 -1.50208936 -1.50131897\n",
      " -1.50077398 -1.50040126 -1.50015393 -1.49999488 -1.49989651 -1.49983907\n",
      " -1.49980877 -1.49979615 -1.49979481 -1.49980043 -1.49981016 -1.49982211\n",
      " -1.49983506 -1.49984821 -1.49986109 -1.4998734  -1.49988498 -1.49989576\n",
      " -1.49990571 -1.49991486 -1.49992322 -1.49993085 -1.4999378  -1.49994412\n",
      " -1.49994987 -1.49995508 -1.49995982 -1.49996411 -1.49996802 -1.49997156\n",
      " -1.49997477 -1.49997768 -1.49998032 -1.49998272 -1.49998489 -1.49998686\n",
      " -1.49998863 -1.49999024 -1.49999168 -1.49999298 -1.49999414 -1.49999518\n",
      " -1.4999961  -1.4999969  -1.49999761 -1.49999821 -1.49999872 -1.49999914\n",
      " -1.49999948 -1.49999973 -1.4999999  -1.49999999 -1.49999999 -1.49999992\n",
      " -1.49999977 -1.49999953 -1.49999922 -1.49999881 -1.49999832 -1.49999773\n",
      " -1.49999705 -1.49999626 -1.49999537 -1.49999435 -1.49999322 -1.49999195\n",
      " -1.49999053 -1.49998896 -1.49998722 -1.49998529 -1.49998316 -1.49998081\n",
      " -1.49997821 -1.49997535 -1.4999722  -1.49996873 -1.4999649  -1.49996068\n",
      " -1.49995603 -1.49995092 -1.49994528 -1.49993907 -1.49993225 -1.49992475\n",
      " -1.49991654 -1.49990755 -1.49989775 -1.49988713 -1.4998757  -1.49986353\n",
      " -1.49985074 -1.49983761 -1.49982457 -1.49981235 -1.49980207 -1.49979546\n",
      " -1.49979517 -1.49980518 -1.49983142 -1.49988269 -1.49997179 -1.5001172\n",
      " -1.50034484 -1.50068989 -1.50119744 -1.50191999 -1.5029082  -1.50419046\n",
      " -1.50573905 -1.50743018 -1.50902301 -1.5101955  -1.51065423 -1.51027181\n",
      " -1.50915493 -1.50758703 -1.50589314 -1.50432432 -1.50301493 -1.502\n",
      " -1.50125473 -1.50072947 -1.50037135 -1.50013443 -1.4999826  -1.49988914\n",
      " -1.49983497 -1.49980682 -1.49979559 -1.49979512 -1.49980126 -1.49981129\n",
      " -1.49982339 -1.49983638 -1.49984953 -1.49986236 -1.4998746  -1.49988611\n",
      " -1.4998968  -1.49990667 -1.49991573 -1.49992402 -1.49993158 -1.49993847\n",
      " -1.49994473 -1.49995041 -1.49995558 -1.49996027 -1.49996453 -1.49996839\n",
      " -1.49997189 -1.49997507 -1.49997796 -1.49998058 -1.49998295 -1.4999851\n",
      " -1.49998704 -1.4999888  -1.49999039 -1.49999182 -1.4999931  -1.49999425\n",
      " -1.49999528 -1.49999618 -1.49999698 -1.49999767 -1.49999827 -1.49999877\n",
      " -1.49999918 -1.49999951 -1.49999975 -1.49999991 -1.49999999 -1.49999999\n",
      " -1.49999991 -1.49999975 -1.49999951 -1.49999918 -1.49999877 -1.49999826\n",
      " -1.49999767 -1.49999697 -1.49999618 -1.49999527 -1.49999424 -1.49999309\n",
      " -1.49999181 -1.49999038 -1.49998879 -1.49998703 -1.49998508 -1.49998293\n",
      " -1.49998056 -1.49997794 -1.49997505 -1.49997187 -1.49996836 -1.49996449\n",
      " -1.49996023 -1.49995554 -1.49995037 -1.49994468 -1.49993841 -1.49993153\n",
      " -1.49992396 -1.49991567 -1.4999066  -1.49989672 -1.49988602 -1.49987451\n",
      " -1.49986226 -1.49984943 -1.49983628 -1.49982329 -1.4998112  -1.4998012\n",
      " -1.49979509 -1.49979563 -1.49980697 -1.49983528 -1.49988969 -1.49998353\n",
      " -1.50013591 -1.50037362 -1.50073284 -1.50125961 -1.5020068  -1.50302398\n",
      " -1.50433563 -1.5059061  -1.50760012 -1.50916579 -1.5102779  -1.51065389\n",
      " -1.51018882 -1.5090118  -1.50741701 -1.5057262  -1.50417936 -1.50289938\n",
      " -1.5019134  -1.50119273 -1.50068664 -1.50034266 -1.50011579 -1.49997091\n",
      " -1.49988216 -1.49983114 -1.49980505 -1.49979514 -1.49979549 -1.49980214\n",
      " -1.49981244 -1.49982467 -1.49983771 -1.49985084 -1.49986362 -1.4998758\n",
      " -1.49988722 -1.49989783 -1.49990762 -1.4999166  -1.49992482 -1.49993231\n",
      " -1.49993912 -1.49994532 -1.49995096 -1.49995607 -1.49996072 -1.49996493\n",
      " -1.49996876 -1.49997223 -1.49997538 -1.49997824 -1.49998083 -1.49998318\n",
      " -1.4999853  -1.49998723 -1.49998897 -1.49999054 -1.49999196 -1.49999323\n",
      " -1.49999436 -1.49999537 -1.49999627 -1.49999705 -1.49999774 -1.49999832\n",
      " -1.49999881 -1.49999922 -1.49999954 -1.49999977 -1.49999992 -1.49999999\n",
      " -1.49999999 -1.4999999  -1.49999973 -1.49999948 -1.49999914 -1.49999872\n",
      " -1.49999821 -1.4999976  -1.4999969  -1.49999609 -1.49999517 -1.49999413\n",
      " -1.49999297 -1.49999167 -1.49999023 -1.49998862 -1.49998684 -1.49998488\n",
      " -1.4999827  -1.4999803  -1.49997766 -1.49997474 -1.49997153 -1.49996799\n",
      " -1.49996408 -1.49995978 -1.49995504 -1.49994982 -1.49994408 -1.49993775\n",
      " -1.49993079 -1.49992316 -1.49991479 -1.49990564 -1.49989568 -1.49988489\n",
      " -1.49987331 -1.49986099 -1.49984811 -1.49983496 -1.49982202 -1.49981008\n",
      " -1.49980037 -1.49979479 -1.4997962  -1.49980893 -1.4998394  -1.4998971\n",
      " -1.49999586 -1.50015547 -1.50040363 -1.5007775  -1.50132402 -1.50209638\n",
      " -1.50314281 -1.50448352 -1.50607451 -1.50776883 -1.50930394 -1.51035268\n",
      " -1.5106448  -1.51009845 -1.50886441 -1.50724608 -1.50556083 -1.50403719\n",
      " -1.50278686 -1.50182951 -1.50113291 -1.50064545 -1.50031516 -1.50009797\n",
      " -1.49995978 -1.49987556 -1.49982755 -1.49980343 -1.49979479 -1.49979593\n",
      " -1.49980304 -1.49981361 -1.49982597 -1.49983904 -1.49985215 -1.49986488\n",
      " -1.49987698 -1.49988833 -1.49989886 -1.49990856 -1.49991746 -1.4999256\n",
      " -1.49993302 -1.49993978 -1.49994592 -1.4999515  -1.49995656 -1.49996116\n",
      " -1.49996533 -1.49996912 -1.49997256 -1.49997568 -1.49997851 -1.49998107\n",
      " -1.4999834  -1.49998551 -1.49998741 -1.49998914 -1.49999069 -1.49999209\n",
      " -1.49999335 -1.49999447 -1.49999547 -1.49999635 -1.49999713 -1.4999978\n",
      " -1.49999838 -1.49999886 -1.49999925 -1.49999956 -1.49999979 -1.49999993\n",
      " -1.5        -1.49999998 -1.49999988 -1.49999971 -1.49999945 -1.4999991\n",
      " -1.49999867 -1.49999815 -1.49999754 -1.49999682 -1.499996   -1.49999507\n",
      " -1.49999402 -1.49999285 -1.49999153 -1.49999007 -1.49998845 -1.49998665\n",
      " -1.49998467 -1.49998247 -1.49998005 -1.49997738 -1.49997443 -1.49997119\n",
      " -1.49996761 -1.49996367 -1.49995932 -1.49995454 -1.49994927 -1.49994346\n",
      " -1.49993708 -1.49993006 -1.49992235 -1.4999139  -1.49990467 -1.49989463\n",
      " -1.49988376 -1.4998721  -1.49985972 -1.49984679 -1.49983363 -1.49982075\n",
      " -1.49980897 -1.49979958 -1.49979455 -1.49979688 -1.49981106 -1.49984379\n",
      " -1.49990491 -1.50000879 -1.50017593 -1.5004349  -1.50082389 -1.50139073\n",
      " -1.50218876 -1.50326468 -1.50463403 -1.50624407 -1.50793598 -1.5094371\n",
      " -1.5104196  -1.51062698 -1.51000097 -1.50871311 -1.50707457 -1.50539721\n",
      " -1.50389788 -1.50267736 -1.50174828 -1.50107521 -1.50060585 -1.50028879\n",
      " -1.50008095 -1.49994919 -1.49986932 -1.4998242  -1.49980197 -1.49979453\n",
      " -1.49979642 -1.49980398 -1.49981479 -1.49982726 -1.49984037 -1.49985346\n",
      " -1.49986613 -1.49987816 -1.49988943 -1.49989987 -1.49990949 -1.49991832\n",
      " -1.49992638 -1.49993373 -1.49994042 -1.4999465  -1.49995203 -1.49995705\n",
      " -1.4999616  -1.49996573 -1.49996948 -1.49997289 -1.49997598 -1.49997878\n",
      " -1.49998132 -1.49998362 -1.49998571 -1.4999876  -1.4999893  -1.49999084\n",
      " -1.49999222 -1.49999347 -1.49999458 -1.49999556 -1.49999644 -1.4999972\n",
      " -1.49999786 -1.49999843 -1.4999989  -1.49999929 -1.49999959 -1.49999981\n",
      " -1.49999994 -1.5        -1.49999997 -1.49999987 -1.49999968 -1.49999942\n",
      " -1.49999906 -1.49999862 -1.49999809 -1.49999747 -1.49999674 -1.49999591\n",
      " -1.49999497 -1.49999391 -1.49999272 -1.49999139 -1.49998992 -1.49998828\n",
      " -1.49998646 -1.49998446 -1.49998224 -1.49997979 -1.49997709 -1.49997412\n",
      " -1.49997084 -1.49996723 -1.49996325 -1.49995886 -1.49995403 -1.49994871\n",
      " -1.49994285 -1.4999364  -1.49992931 -1.49992153]\n"
     ]
    }
   ],
   "source": [
    "# Common imports\n",
    "import numpy as np\n",
    "import pandas as pd\n",
    "from math import *\n",
    "import matplotlib.pyplot as plt\n",
    "\n",
    "DeltaT = 0.01\n",
    "#set up arrays \n",
    "tfinal = 10.0\n",
    "n = ceil(tfinal/DeltaT)\n",
    "# set up arrays\n",
    "t = np.zeros(n)\n",
    "v = np.zeros((n,2))\n",
    "r = np.zeros((n,2))\n",
    "E = np.zeros(n)\n",
    "# Constants of the model\n",
    "m = 1.0   # mass, you can change these\n",
    "alpha = 1.0\n",
    "# Initial conditions as compact 2-dimensional arrays\n",
    "x0 = 0.5; y0= 0.0\n",
    "r0 = np.array([x0,y0]) \n",
    "v0 = np.array([0.0,1.0])\n",
    "r[0] = r0\n",
    "v[0] = v0\n",
    "rabs = sqrt(sum(r[0]*r[0]))\n",
    "E[0] = 0.5*m*(v[0,0]**2+v[0,1]**2)-alpha/rabs\n",
    "# Start integrating using the Velocity-Verlet  method\n",
    "for i in range(n-1):\n",
    "    # Set up the acceleration\n",
    "    rabs = sqrt(sum(r[i]*r[i]))\n",
    "    a =  -alpha*r[i]/(rabs**3)\n",
    "    # update velocity, time and position using the Velocity-Verlet method\n",
    "    r[i+1] = r[i] + DeltaT*v[i]+0.5*(DeltaT**2)*a\n",
    "    rabs = sqrt(sum(r[i+1]*r[i+1]))\n",
    "    anew = -alpha*r[i+1]/(rabs**3)\n",
    "    v[i+1] = v[i] + 0.5*DeltaT*(a+anew)\n",
    "    E[i+1] = 0.5*m*(v[i+1,0]**2+v[i+1,1]**2)-alpha/rabs\n",
    "    t[i+1] = t[i] + DeltaT\n",
    "# Plot position as function of time\n",
    "fig, ax = plt.subplots(3,1)\n",
    "ax[0].set_ylabel('y')\n",
    "ax[0].set_xlabel('x')\n",
    "ax[0].plot(r[:,0],r[:,1])\n",
    "ax[1].set_xlabel('time')\n",
    "ax[1].set_ylabel('y position')\n",
    "ax[1].plot(t,r[:,0])\n",
    "ax[2].set_xlabel('time')\n",
    "ax[2].set_ylabel('y position')\n",
    "ax[2].plot(t,r[:,1])\n",
    "\n",
    "fig.tight_layout()\n",
    "save_fig(\"2DimGravity\")\n",
    "plt.show()\n",
    "print(E)"
   ]
  },
  {
   "cell_type": "markdown",
   "metadata": {},
   "source": [
    "## Scattering and Cross Sections\n",
    "\n",
    "Scattering experiments don't measure entire trajectories. For elastic\n",
    "collisions, they measure the distribution of final scattering angles\n",
    "at best. Most experiments use targets thin enough so that the number\n",
    "of scatterings is typically zero or one. The cross section, $\\sigma$,\n",
    "describes the cross-sectional area for particles to scatter with an\n",
    "individual target atom or nucleus. Cross section measurements form the\n",
    "basis for MANY fields of physics. BThe cross section, and the\n",
    "differential cross section, encapsulates everything measurable for a\n",
    "collision where all that is measured is the final state, e.g. the\n",
    "outgoing particle had momentum $\\boldsymbol{p}_f$. y studying cross sections,\n",
    "one can infer information about the potential interaction between the\n",
    "two particles. Inferring, or constraining, the potential from the\n",
    "cross section is a classic {\\it inverse} problem. Collisions are\n",
    "either elastic or inelastic. Elastic collisions are those for which\n",
    "the two bodies are in the same internal state before and after the\n",
    "collision. If the collision excites one of the participants into a\n",
    "higher state, or transforms the particles into different species, or\n",
    "creates additional particles, the collision is inelastic. Here, we\n",
    "consider only elastic collisions.\n",
    "\n",
    "For Coulomb forces, the cross section is infinite because the range of\n",
    "the Coulomb force is infinite, but for interactions such as the strong\n",
    "interaction in nuclear or particle physics, there is no long-range\n",
    "force and cross-sections are finite. Even for Coulomb forces, the part\n",
    "of the cross section that corresponds to a specific scattering angle,\n",
    "$d\\sigma/d\\Omega$, which is a function of the scattering angle\n",
    "$\\theta_s$ is still finite.\n",
    "\n",
    "If a particle travels through a thin target, the chance the particle\n",
    "scatters is $P_{\\rm scatt}=\\sigma dN/dA$, where $dN/dA$ is the number\n",
    "of scattering centers per area the particle encounters. If the density\n",
    "of the target is $\\rho$ particles per volume, and if the thickness of\n",
    "the target is $t$, the areal density (number of target scatterers per\n",
    "area) is $dN/dA=\\rho t$. Because one wishes to quantify the collisions\n",
    "independently of the target, experimentalists measure scattering\n",
    "probabilities, then divide by the areal density to obtain\n",
    "cross-sections,"
   ]
  },
  {
   "cell_type": "markdown",
   "metadata": {},
   "source": [
    "$$\n",
    "\\begin{eqnarray}\n",
    "\\sigma=\\frac{P_{\\rm scatt}}{dN/dA}.\n",
    "\\end{eqnarray}\n",
    "$$"
   ]
  },
  {
   "cell_type": "markdown",
   "metadata": {},
   "source": [
    "Instead of merely stating that a particle collided, one can measure\n",
    "the probability the particle scattered by a given angle. The\n",
    "scattering angle $\\theta_s$ is defined so that at zero the particle is\n",
    "unscattered and at $\\theta_s=\\pi$ the particle is scattered directly\n",
    "backward. Scattering angles are often described in the center-of-mass\n",
    "frame, but that is a detail we will neglect for this first discussion,\n",
    "where we will consider the scattering of particles moving classically\n",
    "under the influence of fixed potentials $U(\\boldsymbol{r})$. Because the\n",
    "distribution of scattering angles can be measured, one expresses the\n",
    "differential cross section,"
   ]
  },
  {
   "cell_type": "markdown",
   "metadata": {},
   "source": [
    "<!-- Equation labels as ordinary links -->\n",
    "<div id=\"_auto4\"></div>\n",
    "\n",
    "$$\n",
    "\\begin{equation}\n",
    "\\frac{d^2\\sigma}{d\\cos\\theta_s~d\\phi}.\n",
    "\\label{_auto4} \\tag{9}\n",
    "\\end{equation}\n",
    "$$"
   ]
  },
  {
   "cell_type": "markdown",
   "metadata": {},
   "source": [
    "Usually, the literature expresses differential cross sections as"
   ]
  },
  {
   "cell_type": "markdown",
   "metadata": {},
   "source": [
    "<!-- Equation labels as ordinary links -->\n",
    "<div id=\"_auto5\"></div>\n",
    "\n",
    "$$\n",
    "\\begin{equation}\n",
    "d\\sigma/d\\Omega=\\frac{d\\sigma}{d\\cos\\theta d\\phi}=\\frac{1}{2\\pi}\\frac{d\\sigma}{d\\cos\\theta},\n",
    "\\label{_auto5} \\tag{10}\n",
    "\\end{equation}\n",
    "$$"
   ]
  },
  {
   "cell_type": "markdown",
   "metadata": {},
   "source": [
    "where the last equivalency is true when the scattering does not depend\n",
    "on the azimuthal angle $\\phi$, as is the case for spherically\n",
    "symmetric potentials.\n",
    "\n",
    "The differential solid angle $d\\Omega$ can be thought of as the area\n",
    "subtended by a measurement, $dA_d$, divided by $r^2$, where $r$ is the\n",
    "distance to the detector,"
   ]
  },
  {
   "cell_type": "markdown",
   "metadata": {},
   "source": [
    "$$\n",
    "\\begin{eqnarray}\n",
    "dA_d=r^2 d\\Omega.\n",
    "\\end{eqnarray}\n",
    "$$"
   ]
  },
  {
   "cell_type": "markdown",
   "metadata": {},
   "source": [
    "With this definition $d\\sigma/d\\Omega$ is independent of the distance\n",
    "from which one places the detector, or the size of the detector (as\n",
    "long as it is small).\n",
    "\n",
    "Differential scattering cross sections are calculated by assuming a\n",
    "random distribution of impact parameters $b$. These represent the\n",
    "distance in the $xy$ plane for particles moving in the $z$ direction\n",
    "relative to the scattering center. An impact parameter $b=0$ refers to\n",
    "being aimed directly at the target's center. The impact parameter\n",
    "describes the transverse distance from the $z=0$ axis for the\n",
    "trajectory when it is still far away from the scattering center and\n",
    "has not yet passed it. The differential cross section can be expressed\n",
    "in terms of the impact parameter,"
   ]
  },
  {
   "cell_type": "markdown",
   "metadata": {},
   "source": [
    "<!-- Equation labels as ordinary links -->\n",
    "<div id=\"_auto6\"></div>\n",
    "\n",
    "$$\n",
    "\\begin{equation}\n",
    "d\\sigma=2\\pi bdb,\n",
    "\\label{_auto6} \\tag{11}\n",
    "\\end{equation}\n",
    "$$"
   ]
  },
  {
   "cell_type": "markdown",
   "metadata": {},
   "source": [
    "which is the area of a thin ring of radius $b$ and thickness $db$. In\n",
    "classical physics, one can calculate the trajectory given the incoming\n",
    "kinetic energy $E$ and the impact parameter if one knows the mass and\n",
    "potential. From the trajectory, one then finds the scattering angle\n",
    "$\\theta_s(b)$. The differential cross section is then"
   ]
  },
  {
   "cell_type": "markdown",
   "metadata": {},
   "source": [
    "<!-- Equation labels as ordinary links -->\n",
    "<div id=\"_auto7\"></div>\n",
    "\n",
    "$$\n",
    "\\begin{equation}\n",
    "\\frac{d\\sigma}{d\\Omega}=\\frac{1}{2\\pi}\\frac{d\\sigma}{d\\cos\\theta_s}=b\\frac{db}{d\\cos\\theta_s}=\\frac{b}{(d/db)\\cos\\theta_s(b)}.\n",
    "\\label{_auto7} \\tag{12}\n",
    "\\end{equation}\n",
    "$$"
   ]
  },
  {
   "cell_type": "markdown",
   "metadata": {},
   "source": [
    "Typically, one would calculate $\\cos\\theta_s$ and $(d/db)\\cos\\theta_s$\n",
    "as functions of $b$. This is sufficient to plot the differential cross\n",
    "section as a function of $\\theta_s$.\n",
    "\n",
    "The total cross section is"
   ]
  },
  {
   "cell_type": "markdown",
   "metadata": {},
   "source": [
    "<!-- Equation labels as ordinary links -->\n",
    "<div id=\"_auto8\"></div>\n",
    "\n",
    "$$\n",
    "\\begin{equation}\n",
    "\\sigma_{\\rm tot}=\\int d\\Omega\\frac{d\\sigma}{d\\Omega}=2\\pi\\int d\\cos\\theta_s~\\frac{d\\sigma}{d\\Omega}. \n",
    "\\label{_auto8} \\tag{13}\n",
    "\\end{equation}\n",
    "$$"
   ]
  },
  {
   "cell_type": "markdown",
   "metadata": {},
   "source": [
    "Even if the total cross section is infinite, e.g. Coulomb forces, one\n",
    "can still have a finite differential cross section as we will see\n",
    "later on.\n",
    "\n",
    "\n",
    "An asteroid of mass $m$ and kinetic energy $E$ approaches a planet of\n",
    "radius $R$ and mass $M$. What is the cross section for the asteroid to\n",
    "impact the planet?\n",
    "\n",
    "### Solution\n",
    "\n",
    "Calculate the maximum impact parameter, $b_{\\rm max}$, for which the asteroid will hit the planet. The total cross  section for impact is $\\sigma_{\\rm impact}=\\pi b_{\\rm max}^2$. The maximum cross-section can be found with the help of angular momentum conservation. The asteroid's incoming momentum is $p_0=\\sqrt{2mE}$ and the angular momentum is $L=p_0b$. If the asteroid just grazes the planet, it is moving with zero radial kinetic energy at impact. Combining energy and angular momentum conservation and having $p_f$ refer to the momentum of the asteroid at a distance $R$,"
   ]
  },
  {
   "cell_type": "markdown",
   "metadata": {},
   "source": [
    "$$\n",
    "\\begin{eqnarray*}\n",
    "\\frac{p_f^2}{2m}-\\frac{GMm}{R}&=&E,\\\\\n",
    "p_fR&=&p_0b_{\\rm max},\n",
    "\\end{eqnarray*}\n",
    "$$"
   ]
  },
  {
   "cell_type": "markdown",
   "metadata": {},
   "source": [
    "allows one to solve for $b_{\\rm max}$,"
   ]
  },
  {
   "cell_type": "markdown",
   "metadata": {},
   "source": [
    "$$\n",
    "\\begin{eqnarray*}\n",
    "b_{\\rm max}&=&R\\frac{p_f}{p_0}\\\\\n",
    "&=&R\\frac{\\sqrt{2m(E+GMm/R)}}{\\sqrt{2mE}}\\\\\n",
    "\\sigma_{\\rm impact}&=&\\pi R^2\\frac{E+GMm/R}{E}.\n",
    "\\end{eqnarray*}\n",
    "$$"
   ]
  },
  {
   "cell_type": "markdown",
   "metadata": {},
   "source": [
    "## Rutherford Scattering\n",
    "\n",
    "This refers to the calculation of $d\\sigma/d\\Omega$ due to an inverse\n",
    "square force, $F_{12}=\\pm\\alpha/r^2$ for repulsive/attractive\n",
    "interaction. Rutherford compared the scattering of $\\alpha$ particles\n",
    "($^4$He nuclei) off of a nucleus and found the scattering angle at\n",
    "which the formula began to fail. This corresponded to the impact\n",
    "parameter for which the trajectories would strike the nucleus. This\n",
    "provided the first measure of the size of the atomic nucleus. At the\n",
    "time, the distribution of the positive charge (the protons) was\n",
    "considered to be just as spread out amongst the atomic volume as the\n",
    "electrons. After Rutherford's experiment, it was clear that the radius\n",
    "of the nucleus tended to be roughly 4 orders of magnitude smaller than\n",
    "that of the atom, which is less than the size of a football relative\n",
    "to Spartan Stadium.\n",
    "\n",
    "\n",
    "\n",
    "The incoming and outgoing angles of the trajectory are at\n",
    "$\\pm\\theta'$. They are related to the scattering angle by\n",
    "$2\\theta'=\\pi+\\theta_s$.\n",
    "\n",
    "In order to calculate differential cross section, we must find how the\n",
    "impact parameter is related to the scattering angle. This requires\n",
    "analysis of the trajectory. We consider our previous expression for\n",
    "the trajectory where we derived the elliptic form for the trajectory,\n",
    "Eq. ([8](#eq:Ctrajectory)). For that case we considered an attractive\n",
    "force with the particle's energy being negative, i.e. it was\n",
    "bound. However, the same form will work for positive energy, and\n",
    "repulsive forces can be considered by simple flipping the sign of\n",
    "$\\alpha$. For positive energies, the trajectories will be hyperbolas,\n",
    "rather than ellipses, with the asymptotes of the trajectories\n",
    "representing the directions of the incoming and outgoing\n",
    "tracks. Rewriting Eq. ([8](#eq:Ctrajectory)),"
   ]
  },
  {
   "cell_type": "markdown",
   "metadata": {},
   "source": [
    "<!-- Equation labels as ordinary links -->\n",
    "<div id=\"eq:ruthtraj\"></div>\n",
    "\n",
    "$$\n",
    "\\begin{equation}\\label{eq:ruthtraj} \\tag{14}\n",
    "r=\\frac{1}{\\frac{m\\alpha}{L^2}+A\\cos\\theta}.\n",
    "\\end{equation}\n",
    "$$"
   ]
  },
  {
   "cell_type": "markdown",
   "metadata": {},
   "source": [
    "Once $A$ is large enough, which will happen when the energy is\n",
    "positive, the denominator will become negative for a range of\n",
    "$\\theta$. This is because the scattered particle will never reach\n",
    "certain angles. The asymptotic angles $\\theta'$ are those for which\n",
    "the denominator goes to zero,"
   ]
  },
  {
   "cell_type": "markdown",
   "metadata": {},
   "source": [
    "<!-- Equation labels as ordinary links -->\n",
    "<div id=\"_auto9\"></div>\n",
    "\n",
    "$$\n",
    "\\begin{equation}\n",
    "\\cos\\theta'=-\\frac{m\\alpha}{AL^2}.\n",
    "\\label{_auto9} \\tag{15}\n",
    "\\end{equation}\n",
    "$$"
   ]
  },
  {
   "cell_type": "markdown",
   "metadata": {},
   "source": [
    "The trajectory's point of closest approach is at $\\theta=0$ and the\n",
    "two angles $\\theta'$, which have this value of $\\cos\\theta'$, are the\n",
    "angles of the incoming and outgoing particles. From\n",
    "Fig (**to come**), one can see that the scattering angle\n",
    "$\\theta_s$ is given by,"
   ]
  },
  {
   "cell_type": "markdown",
   "metadata": {},
   "source": [
    "<!-- Equation labels as ordinary links -->\n",
    "<div id=\"eq:sthetover2\"></div>\n",
    "\n",
    "$$\n",
    "\\begin{eqnarray}\n",
    "\\label{eq:sthetover2} \\tag{16}\n",
    "2\\theta'-\\pi&=&\\theta_s,~~~\\theta'=\\frac{\\pi}{2}+\\frac{\\theta_s}{2},\\\\\n",
    "\\nonumber\n",
    "\\sin(\\theta_s/2)&=&-\\cos\\theta'\\\\\n",
    "\\nonumber\n",
    "&=&\\frac{m\\alpha}{AL^2}.\n",
    "\\end{eqnarray}\n",
    "$$"
   ]
  },
  {
   "cell_type": "markdown",
   "metadata": {},
   "source": [
    "Now that we have $\\theta_s$ in terms of $m,\\alpha,L$ and $A$, we wish\n",
    "to re-express $L$ and $A$ in terms of the impact parameter $b$ and the\n",
    "energy $E$. This will set us up to calculate the differential cross\n",
    "section, which requires knowing $db/d\\theta_s$. It is easy to write\n",
    "the angular momentum as"
   ]
  },
  {
   "cell_type": "markdown",
   "metadata": {},
   "source": [
    "<!-- Equation labels as ordinary links -->\n",
    "<div id=\"_auto10\"></div>\n",
    "\n",
    "$$\n",
    "\\begin{equation}\n",
    "L^2=p_0^2b^2=2mEb^2.\n",
    "\\label{_auto10} \\tag{17}\n",
    "\\end{equation}\n",
    "$$"
   ]
  },
  {
   "cell_type": "markdown",
   "metadata": {},
   "source": [
    "Finding $A$ is more complicated. To accomplish this we realize that\n",
    "the point of closest approach occurs at $\\theta=0$, so from\n",
    "Eq. ([14](#eq:ruthtraj))"
   ]
  },
  {
   "cell_type": "markdown",
   "metadata": {},
   "source": [
    "<!-- Equation labels as ordinary links -->\n",
    "<div id=\"eq:rminofA\"></div>\n",
    "\n",
    "$$\n",
    "\\begin{eqnarray}\n",
    "\\label{eq:rminofA} \\tag{18}\n",
    "\\frac{1}{r_{\\rm min}}&=&\\frac{m\\alpha}{L^2}+A,\\\\\n",
    "\\nonumber\n",
    "A&=&\\frac{1}{r_{\\rm min}}-\\frac{m\\alpha}{L^2}.\n",
    "\\end{eqnarray}\n",
    "$$"
   ]
  },
  {
   "cell_type": "markdown",
   "metadata": {},
   "source": [
    "Next, $r_{\\rm min}$ can be found in terms of the energy because at the\n",
    "point of closest approach the kinetic energy is due purely to the\n",
    "motion perpendicular to $\\hat{r}$ and"
   ]
  },
  {
   "cell_type": "markdown",
   "metadata": {},
   "source": [
    "<!-- Equation labels as ordinary links -->\n",
    "<div id=\"_auto11\"></div>\n",
    "\n",
    "$$\n",
    "\\begin{equation}\n",
    "E=-\\frac{\\alpha}{r_{\\rm min}}+\\frac{L^2}{2mr_{\\rm min}^2}.\n",
    "\\label{_auto11} \\tag{19}\n",
    "\\end{equation}\n",
    "$$"
   ]
  },
  {
   "cell_type": "markdown",
   "metadata": {},
   "source": [
    "One can solve the quadratic equation for $1/r_{\\rm min}$,"
   ]
  },
  {
   "cell_type": "markdown",
   "metadata": {},
   "source": [
    "<!-- Equation labels as ordinary links -->\n",
    "<div id=\"_auto12\"></div>\n",
    "\n",
    "$$\n",
    "\\begin{equation}\n",
    "\\frac{1}{r_{\\rm min}}=\\frac{m\\alpha}{L^2}+\\sqrt{(m\\alpha/L^2)^2+2mE/L^2}.\n",
    "\\label{_auto12} \\tag{20}\n",
    "\\end{equation}\n",
    "$$"
   ]
  },
  {
   "cell_type": "markdown",
   "metadata": {},
   "source": [
    "We can plug the expression for $r_{\\rm min}$ into the expression for $A$, Eq. ([18](#eq:rminofA)),"
   ]
  },
  {
   "cell_type": "markdown",
   "metadata": {},
   "source": [
    "<!-- Equation labels as ordinary links -->\n",
    "<div id=\"_auto13\"></div>\n",
    "\n",
    "$$\n",
    "\\begin{equation}\n",
    "A=\\sqrt{(m\\alpha/L^2)^2+2mE/L^2}=\\sqrt{(\\alpha^2/(4E^2b^4)+1/b^2}\n",
    "\\label{_auto13} \\tag{21}\n",
    "\\end{equation}\n",
    "$$"
   ]
  },
  {
   "cell_type": "markdown",
   "metadata": {},
   "source": [
    "Finally, we insert the expression for $A$ into that for the scattering angle, Eq. ([16](#eq:sthetover2)),"
   ]
  },
  {
   "cell_type": "markdown",
   "metadata": {},
   "source": [
    "<!-- Equation labels as ordinary links -->\n",
    "<div id=\"eq:scattangle\"></div>\n",
    "\n",
    "$$\n",
    "\\begin{eqnarray}\n",
    "\\label{eq:scattangle} \\tag{22}\n",
    "\\sin(\\theta_s/2)&=&\\frac{m\\alpha}{AL^2}\\\\\n",
    "\\nonumber\n",
    "&=&\\frac{a}{\\sqrt{a^2+b^2}}, ~~a\\equiv \\frac{\\alpha}{2E}\n",
    "\\end{eqnarray}\n",
    "$$"
   ]
  },
  {
   "cell_type": "markdown",
   "metadata": {},
   "source": [
    "The differential cross section can now be found by differentiating the\n",
    "expression for $\\theta_s$ with $b$,"
   ]
  },
  {
   "cell_type": "markdown",
   "metadata": {},
   "source": [
    "<!-- Equation labels as ordinary links -->\n",
    "<div id=\"eq:rutherford\"></div>\n",
    "\n",
    "$$\n",
    "\\begin{eqnarray}\n",
    "\\label{eq:rutherford} \\tag{23}\n",
    "\\frac{1}{2}\\cos(\\theta_s/2)d\\theta_s&=&\\frac{ab~db}{(a^2+b^2)^{3/2}}=\\frac{bdb}{a^2}\\sin^3(\\theta_s/2),\\\\\n",
    "\\nonumber\n",
    "d\\sigma&=&2\\pi bdb=\\frac{\\pi a^2}{\\sin^3(\\theta_s/2)}\\cos(\\theta_s/2)d\\theta_s\\\\\n",
    "\\nonumber\n",
    "&=&\\frac{\\pi a^2}{2\\sin^4(\\theta_s/2)}\\sin\\theta_s d\\theta_s\\\\\n",
    "\\nonumber\n",
    "\\frac{d\\sigma}{d\\cos\\theta_s}&=&\\frac{\\pi a^2}{2\\sin^4(\\theta_s/2)},\\\\\n",
    "\\nonumber\n",
    "\\frac{d\\sigma}{d\\Omega}&=&\\frac{a^2}{4\\sin^4(\\theta_s/2)}.\n",
    "\\end{eqnarray}\n",
    "$$"
   ]
  },
  {
   "cell_type": "markdown",
   "metadata": {},
   "source": [
    "where $a= \\alpha/2E$. This the Rutherford formula for the differential\n",
    "cross section. It diverges as $\\theta_s\\rightarrow 0$ because\n",
    "scatterings with arbitrarily large impact parameters still scatter to\n",
    "arbitrarily small scattering angles. The expression for\n",
    "$d\\sigma/d\\Omega$ is the same whether the interaction is positive or\n",
    "negative.\n",
    "\n",
    "\n",
    "Consider a particle of mass $m$ and charge $z$ with kinetic energy $E$\n",
    "(Let it be the center-of-mass energy) incident on a heavy nucleus of\n",
    "mass $M$ and charge $Z$ and radius $R$. Find the angle at which the\n",
    "Rutherford scattering formula breaks down.\n",
    "\n",
    "### Solution\n",
    "\n",
    "Let $\\alpha=Zze^2/(4\\pi\\epsilon_0)$. The scattering angle in Eq. ([22](#eq:scattangle)) is"
   ]
  },
  {
   "cell_type": "markdown",
   "metadata": {},
   "source": [
    "$$\n",
    "\\sin(\\theta_s/2)=\\frac{a}{\\sqrt{a^2+b^2}}, ~~a\\equiv \\frac{\\alpha}{2E}.\n",
    "$$"
   ]
  },
  {
   "cell_type": "markdown",
   "metadata": {},
   "source": [
    "The impact parameter $b$ for which the point of closest approach\n",
    "equals $R$ can be found by using angular momentum conservation,"
   ]
  },
  {
   "cell_type": "markdown",
   "metadata": {},
   "source": [
    "$$\n",
    "\\begin{eqnarray*}\n",
    "p_0b&=&b\\sqrt{2mE}=Rp_f=R\\sqrt{2m(E-\\alpha/R)},\\\\\n",
    "b&=&R\\frac{\\sqrt{2m(E-\\alpha/R)}}{\\sqrt{2mE}}\\\\\n",
    "&=&R\\sqrt{1-\\frac{\\alpha}{ER}}.\n",
    "\\end{eqnarray*}\n",
    "$$"
   ]
  },
  {
   "cell_type": "markdown",
   "metadata": {},
   "source": [
    "Putting these together"
   ]
  },
  {
   "cell_type": "markdown",
   "metadata": {},
   "source": [
    "$$\n",
    "\\theta_s=2\\sin^{-1}\\left\\{\n",
    "\\frac{a}{\\sqrt{a^2+R^2(1-\\alpha/(RE))}}\n",
    "\\right\\},~~~a=\\frac{\\alpha}{2E}.\n",
    "$$"
   ]
  },
  {
   "cell_type": "markdown",
   "metadata": {},
   "source": [
    "It was from this departure of the experimentally measured\n",
    "$d\\sigma/d\\Omega$ from the Rutherford formula that allowed Rutherford\n",
    "to infer the radius of the gold nucleus, $R$.\n",
    "\n",
    "\n",
    "\n",
    "Just like electrodynamics, one can define \"fields\", which for a small\n",
    "additional mass $m$ are the force per mass and the additional\n",
    "potential energy per mass. The {\\it gravitational field} related to\n",
    "the force has dimensions of force per mass, or acceleration, and can\n",
    "be labeled $\\boldsymbol{g}(\\boldsymbol{r})$. The potential energy per mass has\n",
    "dimensions of energy per mass. This is analogous to the\n",
    "electromagnetic potential, which is the potential energy per charge,\n",
    "and the electric field which is the force per charge.\n",
    "\n",
    "Because the field $\\boldsymbol{g}$ obeys the same inverse square law for a\n",
    "point mass as the electric field does for a point charge, the\n",
    "gravitational field also satisfies a version of Gauss's law,"
   ]
  },
  {
   "cell_type": "markdown",
   "metadata": {},
   "source": [
    "<!-- Equation labels as ordinary links -->\n",
    "<div id=\"eq:GravGauss\"></div>\n",
    "\n",
    "$$\n",
    "\\begin{equation}\n",
    "\\label{eq:GravGauss} \\tag{24}\n",
    "\\oint d\\boldsymbol{A}\\cdot\\boldsymbol{g}=-4\\pi GM_{\\rm inside}.\n",
    "\\end{equation}\n",
    "$$"
   ]
  },
  {
   "cell_type": "markdown",
   "metadata": {},
   "source": [
    "Here, $M_{\\rm inside}$ is the net mass inside a closed area.\n",
    "\n",
    "Gauss's law can be understood by considering a nozzle that sprays\n",
    "paint in all directions uniformly from a point source. Let $B$ be the\n",
    "number of gallons per minute of paint leaving the nozzle. If the\n",
    "nozzle is at the center of a sphere of radius $r$, the paint per\n",
    "square meter per minute that is deposited on some part of the sphere\n",
    "is"
   ]
  },
  {
   "cell_type": "markdown",
   "metadata": {},
   "source": [
    "$$\n",
    "\\begin{eqnarray}\n",
    "F(r)&=&\\frac{B}{4\\pi r^2}.\n",
    "\\end{eqnarray}\n",
    "$$"
   ]
  },
  {
   "cell_type": "markdown",
   "metadata": {},
   "source": [
    "Now, let $F$ also be assigned a direction, so that it becomes a vector\n",
    "pointing along the direction of the flying paint. For any surface that\n",
    "surrounds the nozzle, not necessarily a sphere, one can state that"
   ]
  },
  {
   "cell_type": "markdown",
   "metadata": {},
   "source": [
    "<!-- Equation labels as ordinary links -->\n",
    "<div id=\"eq:paint\"></div>\n",
    "\n",
    "$$\n",
    "\\begin{eqnarray}\n",
    "\\label{eq:paint} \\tag{25}\n",
    "\\oint \\boldsymbol{dA}\\cdot\\boldsymbol{F}&=&B,\n",
    "\\end{eqnarray}\n",
    "$$"
   ]
  },
  {
   "cell_type": "markdown",
   "metadata": {},
   "source": [
    "regardless of the shape of the surface. This follows because the rate\n",
    "at which paint is deposited on the surface should equal the rate at\n",
    "which it leaves the nozzle. The dot product ensures that only the\n",
    "component of $\\boldsymbol{F}$ into the surface contributes to the deposition\n",
    "of paint. Similarly, if $\\boldsymbol{F}$ is any radial inverse-square forces,\n",
    "that falls as $B/(4\\pi r^2)$, then one can apply\n",
    "Eq. ([25](#eq:paint)). For gravitational fields, $B/(4\\pi)$ is replaced\n",
    "by $GM$, and one quickly \"derives\" Gauss's law for gravity,\n",
    "Eq. ([24](#eq:GravGauss)).\n",
    "\n",
    "\n",
    "Consider Earth to have its mass $M$ uniformly distributed in a sphere\n",
    "of radius $R$. Find the magnitude of the gravitational acceleration as\n",
    "a function of the radius $r$ in terms of the acceleration of gravity\n",
    "at the surface $g(R)$. Assume $r<R$, i.e. you are inside the surface.\n",
    "\n",
    "{\\bf Solution}: Take the ratio of Eq. ([24](#eq:GravGauss)) for two radii, $R$ and $r<R$,"
   ]
  },
  {
   "cell_type": "markdown",
   "metadata": {},
   "source": [
    "$$\n",
    "\\begin{eqnarray*}\n",
    "\\frac{4\\pi r^2 g(r)}{4\\pi R^2 g(R)}&=&\\frac{4\\pi GM_{\\rm inside~r}}{4\\pi GM_{\\rm inside~R}}\\\\\n",
    "\\nonumber\n",
    "&=&\\frac{r^3}{R^3}\\\\\n",
    "\\nonumber\n",
    "g(r)&=&g(R)\\frac{r}{R}~.\n",
    "\\end{eqnarray*}\n",
    "$$"
   ]
  },
  {
   "cell_type": "markdown",
   "metadata": {},
   "source": [
    "The potential energy per mass is similar conceptually to the voltage, or electric potential energy per charge, that was studied in electromagnetism, if $V\\equiv U/m$, $\\boldsymbol{g}=-\\nabla V$.\n",
    "\n",
    "## Tidal Forces\n",
    "\n",
    "\n",
    "Consider a spherical planet of radius $r$ a distance $D$ from another\n",
    "body of mass $M$. The magnitude of the force due to $M$ on an small\n",
    "object of mass $\\delta m$ on surface of the planet can be calculated\n",
    "by performing a Taylor expansion about the center of the spherical\n",
    "planet."
   ]
  },
  {
   "cell_type": "markdown",
   "metadata": {},
   "source": [
    "<!-- Equation labels as ordinary links -->\n",
    "<div id=\"_auto14\"></div>\n",
    "\n",
    "$$\n",
    "\\begin{equation}\n",
    "F=-\\frac{GM\\delta m}{D^2}+2\\frac{GM\\delta m}{D^3}\\Delta D+\\cdots\n",
    "\\label{_auto14} \\tag{26}\n",
    "\\end{equation}\n",
    "$$"
   ]
  },
  {
   "cell_type": "markdown",
   "metadata": {},
   "source": [
    "If the $z$ direction points toward the large object, $\\Delta D$ can be\n",
    "referred to as $z$. In the accelerating frame of an observer at the\n",
    "center of the planet,"
   ]
  },
  {
   "cell_type": "markdown",
   "metadata": {},
   "source": [
    "<!-- Equation labels as ordinary links -->\n",
    "<div id=\"_auto15\"></div>\n",
    "\n",
    "$$\n",
    "\\begin{equation}\n",
    "\\delta m\\frac{d^2 z}{dt^2}=F-\\delta ma'+{\\rm other~forces~acting~on~} \\delta m,\n",
    "\\label{_auto15} \\tag{27}\n",
    "\\end{equation}\n",
    "$$"
   ]
  },
  {
   "cell_type": "markdown",
   "metadata": {},
   "source": [
    "where $a'$ is the acceleration of the observer. Because $\\delta ma'$\n",
    "equals the gravitational force on $\\delta m$ if it were located at the\n",
    "planet's center, one can write"
   ]
  },
  {
   "cell_type": "markdown",
   "metadata": {},
   "source": [
    "<!-- Equation labels as ordinary links -->\n",
    "<div id=\"_auto16\"></div>\n",
    "\n",
    "$$\n",
    "\\begin{equation}\n",
    "m\\frac{d^2z}{dt^2}=2\\frac{GM\\delta m}{D^3}z+{\\rm other~forces~acting~on~}\\delta m.\n",
    "\\label{_auto16} \\tag{28}\n",
    "\\end{equation}\n",
    "$$"
   ]
  },
  {
   "cell_type": "markdown",
   "metadata": {},
   "source": [
    "Here the other forces could represent the forces acting on $\\delta m$\n",
    "from the spherical planet such as the gravitational force or the\n",
    "contact force with the surface. If $\\theta$ is the angle w.r.t. the\n",
    "$z$ axis, the effective force acting on $\\delta m$ is"
   ]
  },
  {
   "cell_type": "markdown",
   "metadata": {},
   "source": [
    "<!-- Equation labels as ordinary links -->\n",
    "<div id=\"_auto17\"></div>\n",
    "\n",
    "$$\n",
    "\\begin{equation}\n",
    "F_{\\rm eff}\\approx 2\\frac{GM\\delta m}{D^3}r\\cos\\theta\\hat{z}+{\\rm other~forces~acting~on~}\\delta m.\n",
    "\\label{_auto17} \\tag{29}\n",
    "\\end{equation}\n",
    "$$"
   ]
  },
  {
   "cell_type": "markdown",
   "metadata": {},
   "source": [
    "This first force is the \"tidal\" force. It pulls objects outward from the center of the object. If the object were covered with water, it would distort the objects shape so that the shape would be elliptical, stretched out along the axis pointing toward the large mass $M$. The force is always along (either parallel or antiparallel to) the $\\hat{z}$ direction.\n",
    "\n",
    "\n",
    "Consider the Earth to be a sphere of radius $R$ covered with water,\n",
    "with the gravitational acceleration at the surface noted by $g$. Now\n",
    "assume that a distant body provides an additional constant\n",
    "gravitational acceleration $\\boldsymbol{a}$ pointed along the $z$ axis. Find\n",
    "the distortion of the radius as a function of $\\theta$. Ignore\n",
    "planetary rotation and assume $a<<g$.\n",
    "\n",
    "{\\bf Solution}: Because Earth would then accelerate with $a$, the\n",
    "field $a$ would seem invisible in the accelerating frame. A tidal\n",
    "force would only appear if $a$ depended on position, i.e. $\\nabla\n",
    "\\boldsymbol{a}\\ne 0$.\n",
    "\n",
    "\n",
    "\n",
    "Now consider that the field is no longer constant, but that instead $a=-kz$ with $|kR|<<g$.\n",
    "\n",
    "{\\bf Solution}: The surface of the planet needs to be at constant\n",
    "potential (if the planet is not accelerating). The force per mass,\n",
    "$-kz$ is like a spring, and the potential per mass is\n",
    "$kz^2/2$. Otherwise water would move to a point of lower\n",
    "potential. Thus, the potential energy for a sample mass $\\delta m$ is"
   ]
  },
  {
   "cell_type": "markdown",
   "metadata": {},
   "source": [
    "$$\n",
    "\\begin{eqnarray*}\n",
    "V(R)+\\delta m gh(\\theta)-\\frac{\\delta m}{2}kr^2\\cos^2\\theta={\\rm Constant}\\\\\n",
    "V(R)+\\delta mgh(\\theta)-\\frac{\\delta m}{2}kR^2\\cos^2\\theta-\\delta m kRh(\\theta)\\cos^2\\theta-\\frac{\\delta m}{2}kh^2(\\theta)\\cos^2\\theta={\\rm Constant}.\n",
    "\\end{eqnarray*}\n",
    "$$"
   ]
  },
  {
   "cell_type": "markdown",
   "metadata": {},
   "source": [
    "Here, the potential due to the external field is $(1/2)kz^2$ so that $-\\nabla U=-kz$. One now needs to solve for $h(\\theta)$. Absorbing all the constant terms from both sides of the equation into one constant $C$, and because both $h$ and $kR$ are small, we can through away terms of order $h^2$ or $kRh$. This gives"
   ]
  },
  {
   "cell_type": "markdown",
   "metadata": {},
   "source": [
    "$$\n",
    "\\begin{eqnarray*}\n",
    "gh(\\theta)-\\frac{1}{2}kR^2\\cos^2\\theta&=&C,\\\\\n",
    "h(\\theta)&=&\\frac{C}{g}+\\frac{1}{2g}kR^2\\cos^2\\theta,\\\\\n",
    "h(\\theta)&=&\\frac{1}{2g}kR^2(\\cos^2\\theta-1/3).\n",
    "\\end{eqnarray*}\n",
    "$$"
   ]
  },
  {
   "cell_type": "markdown",
   "metadata": {},
   "source": [
    "The term with the factor of $1/3$ replaced the constant and was chosen so that the average height of the water would be zero.\n",
    "\n",
    "The Sun's mass is $27\\times 10^6$ the Moon's mass, but the Sun is 390 times further away from Earth as the Sun. What is ratio of the tidal force of the Sun to that of the Moon.\n",
    "\n",
    "{\\bf Solution}: The gravitational force due to an object $M$ a distance $D$ away goes as $M/D^2$, but the tidal force is only the difference of that force over a distance $R$,"
   ]
  },
  {
   "cell_type": "markdown",
   "metadata": {},
   "source": [
    "$$\n",
    "F_{\\rm tidal}\\propto \\frac{M}{D^3}R.\n",
    "$$"
   ]
  },
  {
   "cell_type": "markdown",
   "metadata": {},
   "source": [
    "Therefore the ratio of force is"
   ]
  },
  {
   "cell_type": "markdown",
   "metadata": {},
   "source": [
    "$$\n",
    "\\begin{eqnarray*}\n",
    "\\frac{F_{\\rm Sun's~tidal~force}}{F_{\\rm Moon's~tidal~force}}\n",
    "&=&\\frac{M_{\\rm sun}/D_{\\rm sun}^3}{M_{\\rm moon}/D_{\\rm moon}^3}\\\\\n",
    "&=&\\frac{27\\times 10^6}{390^3}=0.46.\n",
    "\\end{eqnarray*}\n",
    "$$"
   ]
  },
  {
   "cell_type": "markdown",
   "metadata": {},
   "source": [
    "The Moon more strongly affects tides than the Sun."
   ]
  }
 ],
 "metadata": {
  "kernelspec": {
   "display_name": "Python 3",
   "language": "python",
   "name": "python3"
  },
  "language_info": {
   "codemirror_mode": {
    "name": "ipython",
    "version": 3
   },
   "file_extension": ".py",
   "mimetype": "text/x-python",
   "name": "python",
   "nbconvert_exporter": "python",
   "pygments_lexer": "ipython3",
   "version": "3.6.8"
  }
 },
 "nbformat": 4,
 "nbformat_minor": 4
}
