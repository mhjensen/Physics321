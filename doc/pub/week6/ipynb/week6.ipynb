{
 "cells": [
  {
   "cell_type": "markdown",
   "id": "ac515c4d",
   "metadata": {
    "editable": true
   },
   "source": [
    "<!-- HTML file automatically generated from DocOnce source (https://github.com/doconce/doconce/)\n",
    "doconce format html week6.do.txt --no_mako -->\n",
    "<!-- dom:TITLE: PHY321: Conservative Forces, Momentum and Angular Momentum conservation -->"
   ]
  },
  {
   "cell_type": "markdown",
   "id": "3bcb7a68",
   "metadata": {
    "editable": true
   },
   "source": [
    "# PHY321: Conservative Forces, Momentum and Angular Momentum conservation\n",
    "**[Morten Hjorth-Jensen](http://mhjgit.github.io/info/doc/web/)**, Department of Physics and Astronomy and Facility for Rare Ion Beams (FRIB), Michigan State University, USA and Department of Physics, University of Oslo, Norway\n",
    "\n",
    "Date: **Dec 23, 2022**\n",
    "\n",
    "Copyright 1999-2022, [Morten Hjorth-Jensen](http://mhjgit.github.io/info/doc/web/). Released under CC Attribution-NonCommercial 4.0 license"
   ]
  },
  {
   "cell_type": "markdown",
   "id": "eda2866a",
   "metadata": {
    "editable": true
   },
   "source": [
    "## Aims and Overarching Motivation"
   ]
  },
  {
   "cell_type": "markdown",
   "id": "4172d43b",
   "metadata": {
    "editable": true
   },
   "source": [
    "### Monday 2/6\n",
    "\n",
    "Short repetition from last week. Discussion of momentum and angular momentum conservation.\n",
    "Reading suggestion: Taylor sections 3.4 and 3.5 and chapter 4."
   ]
  },
  {
   "cell_type": "markdown",
   "id": "9cf3ae00",
   "metadata": {
    "editable": true
   },
   "source": [
    "### Wednesday 2/8\n",
    "\n",
    "Examples of application of conservations laws (see chapter 4 of Taylor) and exercises (see next slide)."
   ]
  },
  {
   "cell_type": "markdown",
   "id": "1e003ce9",
   "metadata": {
    "editable": true
   },
   "source": [
    "### Friday 2/10\n",
    "\n",
    "Conservative forces and discussion of homework exercises. Problem solving. Deadline fourth homework.\n",
    "\n",
    "**Reading suggestions.**\n",
    "\n",
    "Taylor chapter 4 is the essential reading.\n",
    "See also chapter 7 of Malthe-Sørenssen (in particular section 7.5) for exercise 6 in homework 4"
   ]
  },
  {
   "cell_type": "markdown",
   "id": "02ed72c7",
   "metadata": {
    "editable": true
   },
   "source": [
    "## Exercises for Wednesday after lecture part\n",
    "\n",
    "**Example 1.**\n",
    "\n",
    "We study a classical electron which moves in the $x$-direction along a surface. The force from the surface is"
   ]
  },
  {
   "cell_type": "markdown",
   "id": "f1c53c4f",
   "metadata": {
    "editable": true
   },
   "source": [
    "$$\n",
    "\\boldsymbol{F}(x)=-F_0\\sin{(\\frac{2\\pi x}{b})}\\boldsymbol{i}.\n",
    "$$"
   ]
  },
  {
   "cell_type": "markdown",
   "id": "e2fc90fb",
   "metadata": {
    "editable": true
   },
   "source": [
    "Show that the force is conservative.\n",
    "\n",
    "**Example 2.**\n",
    "\n",
    "Show that the force"
   ]
  },
  {
   "cell_type": "markdown",
   "id": "f850a6d9",
   "metadata": {
    "editable": true
   },
   "source": [
    "$$\n",
    "\\boldsymbol{F}(\\boldsymbol{r})=\\gamma \\frac{\\boldsymbol{r}}{r^3},\n",
    "$$"
   ]
  },
  {
   "cell_type": "markdown",
   "id": "cfaaea04",
   "metadata": {
    "editable": true
   },
   "source": [
    "is a conservative force. Here $\\gamma$ is a constant and $r=\\sqrt{x^2+y^2+z^2}$ and $\\boldsymbol{r}=x\\boldsymbol{i}+y\\boldsymbol{j}+z\\boldsymbol{k}$."
   ]
  },
  {
   "cell_type": "markdown",
   "id": "ef8d5c6e",
   "metadata": {
    "editable": true
   },
   "source": [
    "## One Figure to Rule All Forces (thx to Julie)\n",
    "\n",
    "<!-- dom:FIGURE: [figslides/ClassicalMechanicsJulie.png, width=600 frac=0.8]   -->\n",
    "<!-- begin figure -->\n",
    "\n",
    "<img src=\"figslides/ClassicalMechanicsJulie.png\" width=\"600\"><p style=\"font-size: 0.9em\"><i>Figure 1: </i></p>\n",
    "<!-- end figure -->"
   ]
  },
  {
   "cell_type": "markdown",
   "id": "a81ab2d6",
   "metadata": {
    "editable": true
   },
   "source": [
    "## What is a Conservative Force?\n",
    "\n",
    "A conservative force is a force whose property is that the total work\n",
    "done in moving an object between two points is independent of the\n",
    "taken path. This means that the work on an object under the influence\n",
    "of a conservative force, is independent on the path of the object. It\n",
    "depends only on the spatial degrees of freedom and it is possible to\n",
    "assign a numerical value for the potential at any point. It leads to\n",
    "conservation of energy. The gravitational force is an example of a\n",
    "conservative force."
   ]
  },
  {
   "cell_type": "markdown",
   "id": "7f6d672b",
   "metadata": {
    "editable": true
   },
   "source": [
    "## Two important conditions\n",
    "\n",
    "First, a conservative force depends only on the spatial degrees of freedom. This is a necessary condition for obtaining a path integral which is independent of path.\n",
    "The  important condition for the final work to be independent of the path is that the **curl** of the force is zero, that"
   ]
  },
  {
   "cell_type": "markdown",
   "id": "73a93196",
   "metadata": {
    "editable": true
   },
   "source": [
    "$$\n",
    "\\boldsymbol{\\nabla} \\times \\boldsymbol{F}=0\n",
    "$$"
   ]
  },
  {
   "cell_type": "markdown",
   "id": "b8546e2f",
   "metadata": {
    "editable": true
   },
   "source": [
    "## The total Momentum\n",
    "\n",
    "The total momentum $\\boldsymbol{P}$ is defined as the sum of the individual momenta, meaning that we can rewrite"
   ]
  },
  {
   "cell_type": "markdown",
   "id": "535e3ea8",
   "metadata": {
    "editable": true
   },
   "source": [
    "$$\n",
    "\\boldsymbol{F}_1^{\\mathrm{net}}+\\boldsymbol{F}_2^{\\mathrm{net}}=\\frac{d\\boldsymbol{p}_1}{dt}+\\frac{d\\boldsymbol{p}_2}{dt}=\\frac{d\\boldsymbol{P}}{dt},\n",
    "$$"
   ]
  },
  {
   "cell_type": "markdown",
   "id": "df6e126c",
   "metadata": {
    "editable": true
   },
   "source": [
    "that is the derivate with respect to time of the total momentum. If we now\n",
    "write the net forces as sums of the external plus internal forces\n",
    "between the objects we have"
   ]
  },
  {
   "cell_type": "markdown",
   "id": "b8d0f445",
   "metadata": {
    "editable": true
   },
   "source": [
    "$$\n",
    "\\frac{d\\boldsymbol{P}}{dt}=\\boldsymbol{F}_1^{\\mathrm{ext}}+\\boldsymbol{F}_{12}+\\boldsymbol{F}_2^{\\mathrm{ext}}+\\boldsymbol{F}_{21}=\\boldsymbol{F}_1^{\\mathrm{ext}}+\\boldsymbol{F}_2^{\\mathrm{ext}}.\n",
    "$$"
   ]
  },
  {
   "cell_type": "markdown",
   "id": "edf08eeb",
   "metadata": {
    "editable": true
   },
   "source": [
    "The derivative of the total momentum is just **the sum of the external\n",
    "forces**. If we assume that the external forces are zero and that only\n",
    "internal (here two-body forces) are at play, we obtain the important\n",
    "result that the derivative of the total momentum is zero. This means\n",
    "again that the total momentum is a constant of the motion and\n",
    "conserved quantity. This is a very important result that we will use\n",
    "in many applications to come."
   ]
  },
  {
   "cell_type": "markdown",
   "id": "00d05040",
   "metadata": {
    "editable": true
   },
   "source": [
    "## Newton's Second Law\n",
    "\n",
    "Let us now general to several objects $N$ and let us also assume that there are no external forces. We will label such a system as **an isolated system**. \n",
    "\n",
    "Newton's second law, $\\boldsymbol{F}=m\\boldsymbol{a}$, can be written for a particle $i$ as"
   ]
  },
  {
   "cell_type": "markdown",
   "id": "351ca1c7",
   "metadata": {
    "editable": true
   },
   "source": [
    "<!-- Equation labels as ordinary links -->\n",
    "<div id=\"_auto1\"></div>\n",
    "\n",
    "$$\n",
    "\\begin{equation}\n",
    "\\boldsymbol{F}_i=\\sum_{j\\ne i}^N \\boldsymbol{F}_{ij}=m_i\\boldsymbol{a}_i,\n",
    "\\label{_auto1} \\tag{1}\n",
    "\\end{equation}\n",
    "$$"
   ]
  },
  {
   "cell_type": "markdown",
   "id": "65267001",
   "metadata": {
    "editable": true
   },
   "source": [
    "where $\\boldsymbol{F}_i$ (a single subscript) denotes the net force acting on $i$ from the other objects/particles.\n",
    "Because the mass of $i$ is fixed and we assume it does not change with time, one can see that"
   ]
  },
  {
   "cell_type": "markdown",
   "id": "35619556",
   "metadata": {
    "editable": true
   },
   "source": [
    "<!-- Equation labels as ordinary links -->\n",
    "<div id=\"_auto2\"></div>\n",
    "\n",
    "$$\n",
    "\\begin{equation}\n",
    "\\boldsymbol{F}_i=\\frac{d}{dt}m_i\\boldsymbol{v}_i=\\sum_{j\\ne i}^N\\boldsymbol{F}_{ij}.\n",
    "\\label{_auto2} \\tag{2}\n",
    "\\end{equation}\n",
    "$$"
   ]
  },
  {
   "cell_type": "markdown",
   "id": "6bc4170e",
   "metadata": {
    "editable": true
   },
   "source": [
    "## Summing over all Objects/Particles\n",
    "\n",
    "Now, one can sum over all the objects/particles and obtain"
   ]
  },
  {
   "cell_type": "markdown",
   "id": "03863477",
   "metadata": {
    "editable": true
   },
   "source": [
    "$$\n",
    "\\frac{d}{dt}\\sum_i m_iv_i=\\sum_{ij, i\\ne j}^N\\boldsymbol{F}_{ij}=0.\n",
    "$$"
   ]
  },
  {
   "cell_type": "markdown",
   "id": "cb458761",
   "metadata": {
    "editable": true
   },
   "source": [
    "How did we arrive at the last step?  We rewrote the double sum as"
   ]
  },
  {
   "cell_type": "markdown",
   "id": "636dc4f0",
   "metadata": {
    "editable": true
   },
   "source": [
    "$$\n",
    "\\sum_{ij, i\\ne j}^N\\boldsymbol{F}_{ij}=\\sum_i^N\\sum_{j>i}\\left(\\boldsymbol{F}_{ij}+\\boldsymbol{F}_{ji}\\right),\n",
    "$$"
   ]
  },
  {
   "cell_type": "markdown",
   "id": "fbadbf19",
   "metadata": {
    "editable": true
   },
   "source": [
    "and using Newton's third law which states that\n",
    "$\\boldsymbol{F}_{ij}=-\\boldsymbol{F}_{ji}$, we obtain that the net sum over all  the two-particle\n",
    "forces is zero when we only consider so-called **internal forces**.\n",
    "Stated differently, the last step made use of the fact that for every\n",
    "term $ij$, there is an equivalent term $ji$ with opposite\n",
    "force. Because the momentum is defined as $m\\boldsymbol{v}$, for a system of\n",
    "particles, we have thus"
   ]
  },
  {
   "cell_type": "markdown",
   "id": "1a16fb09",
   "metadata": {
    "editable": true
   },
   "source": [
    "<!-- Equation labels as ordinary links -->\n",
    "<div id=\"_auto3\"></div>\n",
    "\n",
    "$$\n",
    "\\begin{equation}\n",
    "\\frac{d}{dt}\\sum_im_i\\boldsymbol{v}_i=0,~~{\\rm for~isolated~particles}.\n",
    "\\label{_auto3} \\tag{3}\n",
    "\\end{equation}\n",
    "$$"
   ]
  },
  {
   "cell_type": "markdown",
   "id": "b66167fd",
   "metadata": {
    "editable": true
   },
   "source": [
    "## Conservation of total Momentum\n",
    "\n",
    "By \"isolated\" one means that the only force acting on any particle $i$\n",
    "are those originating from other particles in the sum, i.e. \"no\n",
    "external\" forces. Thus, Newton's third law leads to the conservation\n",
    "of total momentum,"
   ]
  },
  {
   "cell_type": "markdown",
   "id": "05dbf716",
   "metadata": {
    "editable": true
   },
   "source": [
    "$$\n",
    "\\boldsymbol{P}=\\sum_i m_i\\boldsymbol{v}_i,\n",
    "$$"
   ]
  },
  {
   "cell_type": "markdown",
   "id": "866032da",
   "metadata": {
    "editable": true
   },
   "source": [
    "and we have"
   ]
  },
  {
   "cell_type": "markdown",
   "id": "f662c912",
   "metadata": {
    "editable": true
   },
   "source": [
    "$$\n",
    "\\frac{d}{dt}\\boldsymbol{P}=0.\n",
    "$$"
   ]
  },
  {
   "cell_type": "markdown",
   "id": "a8126168",
   "metadata": {
    "editable": true
   },
   "source": [
    "## Conservation of Angular Momentum\n",
    "\n",
    "The angular momentum is defined as"
   ]
  },
  {
   "cell_type": "markdown",
   "id": "4bf0e872",
   "metadata": {
    "editable": true
   },
   "source": [
    "<!-- Equation labels as ordinary links -->\n",
    "<div id=\"_auto4\"></div>\n",
    "\n",
    "$$\n",
    "\\begin{equation}\n",
    "\\boldsymbol{L}=\\boldsymbol{r}\\times\\boldsymbol{p}=m\\boldsymbol{r}\\times\\boldsymbol{v}.\n",
    "\\label{_auto4} \\tag{4}\n",
    "\\end{equation}\n",
    "$$"
   ]
  },
  {
   "cell_type": "markdown",
   "id": "a5cb116c",
   "metadata": {
    "editable": true
   },
   "source": [
    "It means that the angular momentum is perpendicular to the plane defined by position $\\boldsymbol{r}$ and the momentum $\\boldsymbol{p}$ via $\\boldsymbol{r}\\times \\boldsymbol{p}$."
   ]
  },
  {
   "cell_type": "markdown",
   "id": "d109055a",
   "metadata": {
    "editable": true
   },
   "source": [
    "## Rate of Change of Angular Momentum\n",
    "\n",
    "The rate of change of the angular momentum is"
   ]
  },
  {
   "cell_type": "markdown",
   "id": "1e1f585e",
   "metadata": {
    "editable": true
   },
   "source": [
    "$$\n",
    "\\frac{d\\boldsymbol{L}}{dt}=m\\boldsymbol{v}\\times\\boldsymbol{v}+m\\boldsymbol{r}\\times\\dot{\\boldsymbol{v}}=\\boldsymbol{r}\\times{\\boldsymbol{F}}\n",
    "$$"
   ]
  },
  {
   "cell_type": "markdown",
   "id": "4a52fe16",
   "metadata": {
    "editable": true
   },
   "source": [
    "The first term is zero because $\\boldsymbol{v}$ is parallel to itself, and the\n",
    "second term defines the so-called torque. If $\\boldsymbol{F}$ is parallel to $\\boldsymbol{r}$ then the torque is zero and we say that angular momentum is conserved.\n",
    "\n",
    "If the force is not radial, $\\boldsymbol{r}\\times\\boldsymbol{F}\\ne 0$ as above, and angular momentum is no longer conserved,"
   ]
  },
  {
   "cell_type": "markdown",
   "id": "56ac702e",
   "metadata": {
    "editable": true
   },
   "source": [
    "<!-- Equation labels as ordinary links -->\n",
    "<div id=\"_auto5\"></div>\n",
    "\n",
    "$$\n",
    "\\begin{equation}\n",
    "\\frac{d\\boldsymbol{L}}{dt}=\\boldsymbol{r}\\times\\boldsymbol{F}\\equiv\\boldsymbol{\\tau},\n",
    "\\label{_auto5} \\tag{5}\n",
    "\\end{equation}\n",
    "$$"
   ]
  },
  {
   "cell_type": "markdown",
   "id": "fb9e0932",
   "metadata": {
    "editable": true
   },
   "source": [
    "where $\\boldsymbol{\\tau}$ is the torque."
   ]
  },
  {
   "cell_type": "markdown",
   "id": "f5bb1793",
   "metadata": {
    "editable": true
   },
   "source": [
    "## The Torque, Example 1 (hw 4, exercise 4)\n",
    "\n",
    "Let us assume we have an initial position $\\boldsymbol{r}_0=x_0\\boldsymbol{e}_1+y_0\\boldsymbol{e}_2$ at a time $t_0=0$.\n",
    "We add now a force in the positive $x$-direction"
   ]
  },
  {
   "cell_type": "markdown",
   "id": "f760b28f",
   "metadata": {
    "editable": true
   },
   "source": [
    "$$\n",
    "\\boldsymbol{F}=F_x\\boldsymbol{e}_1=\\frac{d\\boldsymbol{p}}{dt},\n",
    "$$"
   ]
  },
  {
   "cell_type": "markdown",
   "id": "9b044a38",
   "metadata": {
    "editable": true
   },
   "source": [
    "where we used the force as defined by the time derivative of the momentum.\n",
    "\n",
    "We can use this force (and its pertinent acceleration) to find the velocity via the relation"
   ]
  },
  {
   "cell_type": "markdown",
   "id": "27394e65",
   "metadata": {
    "editable": true
   },
   "source": [
    "$$\n",
    "\\boldsymbol{v}(t)=\\boldsymbol{v}_0+\\int_{t_0}^t\\boldsymbol{a}dt',\n",
    "$$"
   ]
  },
  {
   "cell_type": "markdown",
   "id": "44362f4c",
   "metadata": {
    "editable": true
   },
   "source": [
    "and with $\\boldsymbol{v}_0=0$ we have"
   ]
  },
  {
   "cell_type": "markdown",
   "id": "1906537f",
   "metadata": {
    "editable": true
   },
   "source": [
    "$$\n",
    "\\boldsymbol{v}(t)=\\int_{t_0}^t\\frac{\\boldsymbol{F}}{m}dt',\n",
    "$$"
   ]
  },
  {
   "cell_type": "markdown",
   "id": "ef49eec5",
   "metadata": {
    "editable": true
   },
   "source": [
    "where $m$ is the mass of the object."
   ]
  },
  {
   "cell_type": "markdown",
   "id": "7507dcba",
   "metadata": {
    "editable": true
   },
   "source": [
    "## The Torque, Example 1 (hw 4, exercise 4)\n",
    "\n",
    "Since the force acts only in the $x$-direction, we have after integration"
   ]
  },
  {
   "cell_type": "markdown",
   "id": "0b4613ea",
   "metadata": {
    "editable": true
   },
   "source": [
    "$$\n",
    "\\boldsymbol{v}(t)=\\frac{\\boldsymbol{F}}{m}t=\\frac{F_x}{m}t\\boldsymbol{e}_1=v_x(t)\\boldsymbol{e}_1.\n",
    "$$"
   ]
  },
  {
   "cell_type": "markdown",
   "id": "cc3b86f6",
   "metadata": {
    "editable": true
   },
   "source": [
    "The momentum is in turn given by $\\boldsymbol{p}=p_x\\boldsymbol{e}_1=mv_x\\boldsymbol{e}_1=F_xt\\boldsymbol{e}_1$.\n",
    "\n",
    "Integrating over time again we find the final position as (note the force depends only on the $x$-direction)"
   ]
  },
  {
   "cell_type": "markdown",
   "id": "d8292375",
   "metadata": {
    "editable": true
   },
   "source": [
    "$$\n",
    "\\boldsymbol{r}(t)=(x_0+\\frac{1}{2}\\frac{F_x}{m}t^2) \\boldsymbol{e}_1+y_0\\boldsymbol{e}_2.\n",
    "$$"
   ]
  },
  {
   "cell_type": "markdown",
   "id": "cf437cae",
   "metadata": {
    "editable": true
   },
   "source": [
    "There is no change in the position in the $y$-direction since the force acts only in the $x$-direction."
   ]
  },
  {
   "cell_type": "markdown",
   "id": "12bb22aa",
   "metadata": {
    "editable": true
   },
   "source": [
    "## The Torque, Example 1 (hw 4, exercise 4)\n",
    "\n",
    "We can now compute the angular momentum given by"
   ]
  },
  {
   "cell_type": "markdown",
   "id": "b58d57a1",
   "metadata": {
    "editable": true
   },
   "source": [
    "$$\n",
    "\\boldsymbol{l}=\\boldsymbol{r}\\times\\boldsymbol{p}=\\left[(x_0+\\frac{1}{2}\\frac{F_x}{m}t^2) \\boldsymbol{e}_1+y_0\\boldsymbol{e}_2\\right]\\times F_xt\\boldsymbol{e}_1.\n",
    "$$"
   ]
  },
  {
   "cell_type": "markdown",
   "id": "18793b40",
   "metadata": {
    "editable": true
   },
   "source": [
    "Computing the cross product we find"
   ]
  },
  {
   "cell_type": "markdown",
   "id": "59417f61",
   "metadata": {
    "editable": true
   },
   "source": [
    "$$\n",
    "\\boldsymbol{l}=-y_0F_xt\\boldsymbol{e}_3=-y_0F_xt\\boldsymbol{e}_z.\n",
    "$$"
   ]
  },
  {
   "cell_type": "markdown",
   "id": "3e15f5f1",
   "metadata": {
    "editable": true
   },
   "source": [
    "The torque is the time derivative of the angular momentum and we have"
   ]
  },
  {
   "cell_type": "markdown",
   "id": "407b6f85",
   "metadata": {
    "editable": true
   },
   "source": [
    "$$\n",
    "\\boldsymbol{\\tau}=-y_0F_x\\boldsymbol{e}_3=-y_0F_x\\boldsymbol{e}_z.\n",
    "$$"
   ]
  },
  {
   "cell_type": "markdown",
   "id": "ce3f331b",
   "metadata": {
    "editable": true
   },
   "source": [
    "The torque is non-zero and angular momentum is not conserved."
   ]
  },
  {
   "cell_type": "markdown",
   "id": "2737a352",
   "metadata": {
    "editable": true
   },
   "source": [
    "## System of Isolated Particles\n",
    "\n",
    "For a system of isolated particles, one can write"
   ]
  },
  {
   "cell_type": "markdown",
   "id": "cdafc1cb",
   "metadata": {
    "editable": true
   },
   "source": [
    "$$\n",
    "\\begin{eqnarray}\n",
    "\\frac{d}{dt}\\sum_i\\boldsymbol{L}_i&=&\\sum_{i\\ne j}\\boldsymbol{r}_i\\times \\boldsymbol{F}_{ij}\\\\\n",
    "\\nonumber\n",
    "&=&\\frac{1}{2}\\sum_{i\\ne j} \\boldsymbol{r}_i\\times \\boldsymbol{F}_{ij}+\\boldsymbol{r}_j\\times\\boldsymbol{F}_{ji}\\\\\n",
    "\\nonumber\n",
    "&=&\\frac{1}{2}\\sum_{i\\ne j} (\\boldsymbol{r}_i-\\boldsymbol{r}_j)\\times\\boldsymbol{F}_{ij}=0,\n",
    "\\end{eqnarray}\n",
    "$$"
   ]
  },
  {
   "cell_type": "markdown",
   "id": "e8c99413",
   "metadata": {
    "editable": true
   },
   "source": [
    "where the last step used Newton's third law,\n",
    "$\\boldsymbol{F}_{ij}=-\\boldsymbol{F}_{ji}$. If the forces between the particles are\n",
    "radial, i.e. $\\boldsymbol{F}_{ij} ~||~ (\\boldsymbol{r}_i-\\boldsymbol{r}_j)$, then each term in\n",
    "the sum is zero and the net angular momentum is fixed. Otherwise, you\n",
    "could imagine an isolated system that would start spinning\n",
    "spontaneously."
   ]
  },
  {
   "cell_type": "markdown",
   "id": "32359a8d",
   "metadata": {
    "editable": true
   },
   "source": [
    "## Work, Energy, Momentum and Conservation laws\n",
    "\n",
    "Energy conservation is most convenient as a strategy for addressing\n",
    "problems where time does not appear. For example, a particle goes\n",
    "from position $x_0$ with speed $v_0$, to position $x_f$; what is its\n",
    "new speed? However, it can also be applied to problems where time\n",
    "does appear, such as in solving for the trajectory $x(t)$, or\n",
    "equivalently $t(x)$."
   ]
  },
  {
   "cell_type": "markdown",
   "id": "bca36a58",
   "metadata": {
    "editable": true
   },
   "source": [
    "## Energy Conservation\n",
    "Energy is conserved in the case where the potential energy, $V(\\boldsymbol{r})$, depends only on position, and not on time. The force is determined by $V$,"
   ]
  },
  {
   "cell_type": "markdown",
   "id": "1c153cae",
   "metadata": {
    "editable": true
   },
   "source": [
    "<!-- Equation labels as ordinary links -->\n",
    "<div id=\"_auto6\"></div>\n",
    "\n",
    "$$\n",
    "\\begin{equation}\n",
    "\\boldsymbol{F}(\\boldsymbol{r})=-\\boldsymbol{\\nabla} V(\\boldsymbol{r}).\n",
    "\\label{_auto6} \\tag{6}\n",
    "\\end{equation}\n",
    "$$"
   ]
  },
  {
   "cell_type": "markdown",
   "id": "75f77750",
   "metadata": {
    "editable": true
   },
   "source": [
    "## Conservative forces\n",
    "\n",
    "We say a force is conservative if it satisfies the following conditions:\n",
    "1. The force $\\boldsymbol{F}$ acting on an object only depends on the position $\\boldsymbol{r}$, that is $\\boldsymbol{F}=\\boldsymbol{F}(\\boldsymbol{r})$.\n",
    "\n",
    "2. For any two points $\\boldsymbol{r}_1$ and $\\boldsymbol{r}_2$, the work done by the force $\\boldsymbol{F}$ on the displacement between these two points is independent of the path taken.\n",
    "\n",
    "3. Finally, the **curl** of the force is zero $\\boldsymbol{\\nabla}\\times\\boldsymbol{F}=0$."
   ]
  },
  {
   "cell_type": "markdown",
   "id": "6e375e9a",
   "metadata": {
    "editable": true
   },
   "source": [
    "## Forces and Potentials\n",
    "\n",
    "The energy $E$ of a given system is defined as the sum of kinetic and potential energies,"
   ]
  },
  {
   "cell_type": "markdown",
   "id": "d4f5e4f4",
   "metadata": {
    "editable": true
   },
   "source": [
    "$$\n",
    "E=K+V(\\boldsymbol{r}).\n",
    "$$"
   ]
  },
  {
   "cell_type": "markdown",
   "id": "045777fa",
   "metadata": {
    "editable": true
   },
   "source": [
    "We define the potential energy at a point $\\boldsymbol{r}$ as the negative work done from a starting point $\\boldsymbol{r}_0$ to a final point $\\boldsymbol{r}$"
   ]
  },
  {
   "cell_type": "markdown",
   "id": "dd22c53a",
   "metadata": {
    "editable": true
   },
   "source": [
    "$$\n",
    "V(\\boldsymbol{r})=-W(\\boldsymbol{r}_0\\rightarrow\\boldsymbol{r})= -\\int_{\\boldsymbol{r}_0}^{\\boldsymbol{r}}d\\boldsymbol{r}'\\boldsymbol{F}(\\boldsymbol{r}').\n",
    "$$"
   ]
  },
  {
   "cell_type": "markdown",
   "id": "e30b4c86",
   "metadata": {
    "editable": true
   },
   "source": [
    "If the potential depends on the path taken between these two points there is no unique potential."
   ]
  },
  {
   "cell_type": "markdown",
   "id": "5694059a",
   "metadata": {
    "editable": true
   },
   "source": [
    "## Example (relevant for homework 5)\n",
    "\n",
    "We study a classical electron which moves in the $x$-direction along a surface. The force from the surface is"
   ]
  },
  {
   "cell_type": "markdown",
   "id": "4ad67142",
   "metadata": {
    "editable": true
   },
   "source": [
    "$$\n",
    "\\boldsymbol{F}(x)=-F_0\\sin{(\\frac{2\\pi x}{b})}\\boldsymbol{e}_1.\n",
    "$$"
   ]
  },
  {
   "cell_type": "markdown",
   "id": "4affdf87",
   "metadata": {
    "editable": true
   },
   "source": [
    "The constant $b$ represents the distance between atoms at the surface of the material, $F_0$ is a constant and $x$ is the position of the electron.\n",
    "\n",
    "This is indeed a conservative force since it depends only on position\n",
    "and its **curl** is zero, that is $-\\boldsymbol{\\nabla}\\times \\boldsymbol{F}=0$. This means that energy is conserved and the\n",
    "integral over the work done by the force is independent of the path\n",
    "taken. We will come back to this in more detail next week."
   ]
  },
  {
   "cell_type": "markdown",
   "id": "749ce75c",
   "metadata": {
    "editable": true
   },
   "source": [
    "## Example Continues\n",
    "\n",
    "Using the work-energy theorem we can find the work $W$ done when\n",
    "moving an electron from a position $x_0$ to a final position $x$\n",
    "through the integral"
   ]
  },
  {
   "cell_type": "markdown",
   "id": "494738ea",
   "metadata": {
    "editable": true
   },
   "source": [
    "$$\n",
    "W=-\\int_{x_0}^x \\boldsymbol{F}(x')dx' =  \\int_{x_0}^x F_0\\sin{(\\frac{2\\pi x'}{b})} dx',\n",
    "$$"
   ]
  },
  {
   "cell_type": "markdown",
   "id": "3de29e5b",
   "metadata": {
    "editable": true
   },
   "source": [
    "which results in"
   ]
  },
  {
   "cell_type": "markdown",
   "id": "d477349c",
   "metadata": {
    "editable": true
   },
   "source": [
    "$$\n",
    "W=\\frac{F_0b}{2\\pi}\\left[\\cos{(\\frac{2\\pi x}{b})}-\\cos{(\\frac{2\\pi x_0}{b})}\\right].\n",
    "$$"
   ]
  },
  {
   "cell_type": "markdown",
   "id": "41e36ab3",
   "metadata": {
    "editable": true
   },
   "source": [
    "Since this is related to the change in kinetic energy we have, with $v_0$ being the initial velocity at a  time $t_0$,"
   ]
  },
  {
   "cell_type": "markdown",
   "id": "ec90438d",
   "metadata": {
    "editable": true
   },
   "source": [
    "$$\n",
    "v  = \\pm\\sqrt{\\frac{2}{m}\\frac{F_0b}{2\\pi}\\left[\\cos{(\\frac{2\\pi x}{b})}-\\cos{(\\frac{2\\pi x_0}{b})}\\right]+v_0^2}.\n",
    "$$"
   ]
  },
  {
   "cell_type": "markdown",
   "id": "7e01cf1d",
   "metadata": {
    "editable": true
   },
   "source": [
    "## The potential energy from this example\n",
    "\n",
    "The potential energy, due to energy conservation is"
   ]
  },
  {
   "cell_type": "markdown",
   "id": "78655ed9",
   "metadata": {
    "editable": true
   },
   "source": [
    "$$\n",
    "V(x)=V(x_0)+\\frac{1}{2}mv_0^2-\\frac{1}{2}mv^2,\n",
    "$$"
   ]
  },
  {
   "cell_type": "markdown",
   "id": "71cee18c",
   "metadata": {
    "editable": true
   },
   "source": [
    "with $v$ given by the velocity from above.\n",
    "\n",
    "We can now, in order to find a more explicit expression for the\n",
    "potential energy at a given value $x$, define a zero level value for\n",
    "the potential. The potential is defined, using the work-energy\n",
    "theorem, as"
   ]
  },
  {
   "cell_type": "markdown",
   "id": "616d328a",
   "metadata": {
    "editable": true
   },
   "source": [
    "$$\n",
    "V(x)=V(x_0)+\\int_{x_0}^x (-F(x'))dx',\n",
    "$$"
   ]
  },
  {
   "cell_type": "markdown",
   "id": "3a2b2c81",
   "metadata": {
    "editable": true
   },
   "source": [
    "and if you recall the definition of the indefinite integral, we can rewrite this as"
   ]
  },
  {
   "cell_type": "markdown",
   "id": "6737a1d9",
   "metadata": {
    "editable": true
   },
   "source": [
    "$$\n",
    "V(x)=\\int (-F(x'))dx'+C,\n",
    "$$"
   ]
  },
  {
   "cell_type": "markdown",
   "id": "a29d02f0",
   "metadata": {
    "editable": true
   },
   "source": [
    "where $C$ is an undefined constant. The force is defined as the\n",
    "gradient of the potential, and in that case the undefined constant\n",
    "vanishes. The constant does not affect the force we derive from the\n",
    "potential.\n",
    "\n",
    "We have then"
   ]
  },
  {
   "cell_type": "markdown",
   "id": "114eefb1",
   "metadata": {
    "editable": true
   },
   "source": [
    "$$\n",
    "V(x)=V(x_0)-\\int_{x_0}^x \\boldsymbol{F}(x')dx',\n",
    "$$"
   ]
  },
  {
   "cell_type": "markdown",
   "id": "1ce2d164",
   "metadata": {
    "editable": true
   },
   "source": [
    "which results in"
   ]
  },
  {
   "cell_type": "markdown",
   "id": "baf6a045",
   "metadata": {
    "editable": true
   },
   "source": [
    "$$\n",
    "V(x)=\\frac{F_0b}{2\\pi}\\left[\\cos{(\\frac{2\\pi x}{b})}-\\cos{(\\frac{2\\pi x_0}{b})}\\right]+V(x_0).\n",
    "$$"
   ]
  },
  {
   "cell_type": "markdown",
   "id": "84cfb11c",
   "metadata": {
    "editable": true
   },
   "source": [
    "We can now define"
   ]
  },
  {
   "cell_type": "markdown",
   "id": "05e45b22",
   "metadata": {
    "editable": true
   },
   "source": [
    "$$\n",
    "\\frac{F_0b}{2\\pi}\\cos{(\\frac{2\\pi x_0}{b})}=V(x_0),\n",
    "$$"
   ]
  },
  {
   "cell_type": "markdown",
   "id": "af83276a",
   "metadata": {
    "editable": true
   },
   "source": [
    "which gives"
   ]
  },
  {
   "cell_type": "markdown",
   "id": "2d2078ad",
   "metadata": {
    "editable": true
   },
   "source": [
    "$$\n",
    "V(x)=\\frac{F_0b}{2\\pi}\\left[\\cos{(\\frac{2\\pi x}{b})}\\right].\n",
    "$$"
   ]
  },
  {
   "cell_type": "markdown",
   "id": "f04395a9",
   "metadata": {
    "editable": true
   },
   "source": [
    "## Force and Potential\n",
    "\n",
    "We have defined work as the energy resulting from a net force acting\n",
    "on an object (or sseveral objects), that is"
   ]
  },
  {
   "cell_type": "markdown",
   "id": "2f96f326",
   "metadata": {
    "editable": true
   },
   "source": [
    "$$\n",
    "W(\\boldsymbol{r}\\rightarrow \\boldsymbol{r}+d\\boldsymbol{r})= \\boldsymbol{F}(\\boldsymbol{r})d\\boldsymbol{r}.\n",
    "$$"
   ]
  },
  {
   "cell_type": "markdown",
   "id": "0f663f71",
   "metadata": {
    "editable": true
   },
   "source": [
    "If we write out this for each component we have"
   ]
  },
  {
   "cell_type": "markdown",
   "id": "f2560621",
   "metadata": {
    "editable": true
   },
   "source": [
    "$$\n",
    "W(\\boldsymbol{r}\\rightarrow \\boldsymbol{r}+d\\boldsymbol{r})=\\boldsymbol{F}(\\boldsymbol{r})d\\boldsymbol{r}=F_xdx+F_ydy+F_zdz.\n",
    "$$"
   ]
  },
  {
   "cell_type": "markdown",
   "id": "06da58cf",
   "metadata": {
    "editable": true
   },
   "source": [
    "The work done from an initial position to a final one defines also the difference in potential energies"
   ]
  },
  {
   "cell_type": "markdown",
   "id": "8b18525d",
   "metadata": {
    "editable": true
   },
   "source": [
    "$$\n",
    "W(\\boldsymbol{r}\\rightarrow \\boldsymbol{r}+d\\boldsymbol{r})=-\\left[V(\\boldsymbol{r}+d\\boldsymbol{r})-V(\\boldsymbol{r})\\right].\n",
    "$$"
   ]
  },
  {
   "cell_type": "markdown",
   "id": "68373ef5",
   "metadata": {
    "editable": true
   },
   "source": [
    "## Getting to $\\boldsymbol{F}(\\boldsymbol{r})=-\\boldsymbol{\\nabla} V(\\boldsymbol{r})$\n",
    "\n",
    "We can write out the differences in potential energies as"
   ]
  },
  {
   "cell_type": "markdown",
   "id": "f34b4e73",
   "metadata": {
    "editable": true
   },
   "source": [
    "$$\n",
    "V(\\boldsymbol{r}+d\\boldsymbol{r})-V(\\boldsymbol{r})=V(x+dx,y+dy,z+dz)-V(x,y,z)=dV,\n",
    "$$"
   ]
  },
  {
   "cell_type": "markdown",
   "id": "a3d7a371",
   "metadata": {
    "editable": true
   },
   "source": [
    "and using the expression the differential of a multi-variable function $f(x,y,z)$"
   ]
  },
  {
   "cell_type": "markdown",
   "id": "94c4c939",
   "metadata": {
    "editable": true
   },
   "source": [
    "$$\n",
    "df=\\frac{\\partial f}{\\partial x}dx+\\frac{\\partial f}{\\partial y}dy+\\frac{\\partial f}{\\partial z}dz,\n",
    "$$"
   ]
  },
  {
   "cell_type": "markdown",
   "id": "c8eb8e10",
   "metadata": {
    "editable": true
   },
   "source": [
    "we can write the expression for the work done as"
   ]
  },
  {
   "cell_type": "markdown",
   "id": "8b71538c",
   "metadata": {
    "editable": true
   },
   "source": [
    "$$\n",
    "W(\\boldsymbol{r}\\rightarrow \\boldsymbol{r}+d\\boldsymbol{r})=-dV=-\\left[\\frac{\\partial V}{\\partial x}dx+\\frac{\\partial V}{\\partial y}dy+\\frac{\\partial V}{\\partial z}dz \\right].\n",
    "$$"
   ]
  },
  {
   "cell_type": "markdown",
   "id": "57057d0a",
   "metadata": {
    "editable": true
   },
   "source": [
    "## Final expression\n",
    "\n",
    "Comparing the last equation with"
   ]
  },
  {
   "cell_type": "markdown",
   "id": "d1bfb900",
   "metadata": {
    "editable": true
   },
   "source": [
    "$$\n",
    "W(\\boldsymbol{r}\\rightarrow \\boldsymbol{r}+d\\boldsymbol{r})=F_xdx+F_ydy+F_zdz,\n",
    "$$"
   ]
  },
  {
   "cell_type": "markdown",
   "id": "13d596b1",
   "metadata": {
    "editable": true
   },
   "source": [
    "we have"
   ]
  },
  {
   "cell_type": "markdown",
   "id": "f724f94a",
   "metadata": {
    "editable": true
   },
   "source": [
    "$$\n",
    "F_xdx+F_ydy+F_zdz=-\\left[\\frac{\\partial V}{\\partial x}dx+\\frac{\\partial V}{\\partial y}dy+\\frac{\\partial V}{\\partial z}dz \\right],\n",
    "$$"
   ]
  },
  {
   "cell_type": "markdown",
   "id": "042b4aa9",
   "metadata": {
    "editable": true
   },
   "source": [
    "leading to"
   ]
  },
  {
   "cell_type": "markdown",
   "id": "81905909",
   "metadata": {
    "editable": true
   },
   "source": [
    "$$\n",
    "F_x=-\\frac{\\partial V}{\\partial x},\n",
    "$$"
   ]
  },
  {
   "cell_type": "markdown",
   "id": "5567720f",
   "metadata": {
    "editable": true
   },
   "source": [
    "and"
   ]
  },
  {
   "cell_type": "markdown",
   "id": "4a82e6c1",
   "metadata": {
    "editable": true
   },
   "source": [
    "$$\n",
    "F_y=-\\frac{\\partial V}{\\partial y},\n",
    "$$"
   ]
  },
  {
   "cell_type": "markdown",
   "id": "e2d2002c",
   "metadata": {
    "editable": true
   },
   "source": [
    "and"
   ]
  },
  {
   "cell_type": "markdown",
   "id": "75117680",
   "metadata": {
    "editable": true
   },
   "source": [
    "$$\n",
    "F_z=-\\frac{\\partial V}{\\partial z},\n",
    "$$"
   ]
  },
  {
   "cell_type": "markdown",
   "id": "66bb6602",
   "metadata": {
    "editable": true
   },
   "source": [
    "or just"
   ]
  },
  {
   "cell_type": "markdown",
   "id": "462980c1",
   "metadata": {
    "editable": true
   },
   "source": [
    "$$\n",
    "\\boldsymbol{F}=-\\frac{\\partial V}{\\partial x}\\boldsymbol{e}_1-\\frac{\\partial V}{\\partial y}\\boldsymbol{e}_2-\\frac{\\partial V}{\\partial z}\\boldsymbol{e}_3=-\\boldsymbol{\\nabla}V(\\boldsymbol{r}).\n",
    "$$"
   ]
  },
  {
   "cell_type": "markdown",
   "id": "7aeda944",
   "metadata": {
    "editable": true
   },
   "source": [
    "And this connection is the one we wanted to show."
   ]
  },
  {
   "cell_type": "markdown",
   "id": "b16f3a69",
   "metadata": {
    "editable": true
   },
   "source": [
    "## Net Energy\n",
    "\n",
    "The net energy, $E=V+K$ where $K$ is the kinetic energy, is then conserved,"
   ]
  },
  {
   "cell_type": "markdown",
   "id": "cd9a8e33",
   "metadata": {
    "editable": true
   },
   "source": [
    "$$\n",
    "\\begin{eqnarray}\n",
    "\\frac{d}{dt}(K+V)&=&\\frac{d}{dt}\\left(\\frac{m}{2}(v_x^2+v_y^2+v_z^2)+V(\\boldsymbol{r})\\right)\\\\\n",
    "\\nonumber\n",
    "&=&m\\left(v_x\\frac{dv_x}{dt}+v_y\\frac{dv_y}{dt}+v_z\\frac{dv_z}{dt}\\right)\n",
    "+\\partial_xV\\frac{dx}{dt}+\\partial_yV\\frac{dy}{dt}+\\partial_zV\\frac{dz}{dt}\\\\\n",
    "\\nonumber\n",
    "&=&v_xF_x+v_yF_y+v_zF_z-F_xv_x-F_yv_y-F_zv_z=0.\n",
    "\\end{eqnarray}\n",
    "$$"
   ]
  },
  {
   "cell_type": "markdown",
   "id": "dc0f569f",
   "metadata": {
    "editable": true
   },
   "source": [
    "## In Vector Notation\n",
    "\n",
    "The same proof can be written more compactly with vector notation,"
   ]
  },
  {
   "cell_type": "markdown",
   "id": "0d57a622",
   "metadata": {
    "editable": true
   },
   "source": [
    "$$\n",
    "\\begin{eqnarray}\n",
    "\\frac{d}{dt}\\left(\\frac{m}{2}v^2+V(\\boldsymbol{r})\\right)\n",
    "&=&m\\boldsymbol{v}\\cdot\\dot{\\boldsymbol{v}}+\\boldsymbol{\\nabla} V(\\boldsymbol{r})\\cdot\\dot{\\boldsymbol{r}}\\\\\n",
    "\\nonumber\n",
    "&=&\\boldsymbol{v}\\cdot\\boldsymbol{F}-\\boldsymbol{F}\\cdot\\boldsymbol{v}=0.\n",
    "\\end{eqnarray}\n",
    "$$"
   ]
  },
  {
   "cell_type": "markdown",
   "id": "545f8464",
   "metadata": {
    "editable": true
   },
   "source": [
    "Inverting the expression for kinetic energy,"
   ]
  },
  {
   "cell_type": "markdown",
   "id": "79965f9b",
   "metadata": {
    "editable": true
   },
   "source": [
    "<!-- Equation labels as ordinary links -->\n",
    "<div id=\"_auto7\"></div>\n",
    "\n",
    "$$\n",
    "\\begin{equation}\n",
    "v=\\sqrt{2K/m}=\\sqrt{2(E-V)/m},\n",
    "\\label{_auto7} \\tag{7}\n",
    "\\end{equation}\n",
    "$$"
   ]
  },
  {
   "cell_type": "markdown",
   "id": "a4302dd4",
   "metadata": {
    "editable": true
   },
   "source": [
    "allows one to solve for the one-dimensional trajectory $x(t)$, by finding $t(x)$,"
   ]
  },
  {
   "cell_type": "markdown",
   "id": "f118d0f9",
   "metadata": {
    "editable": true
   },
   "source": [
    "<!-- Equation labels as ordinary links -->\n",
    "<div id=\"_auto8\"></div>\n",
    "\n",
    "$$\n",
    "\\begin{equation}\n",
    "t=\\int_{x_0}^x \\frac{dx'}{v(x')}=\\int_{x_0}^x\\frac{dx'}{\\sqrt{2(E-V(x'))/m}}.\n",
    "\\label{_auto8} \\tag{8}\n",
    "\\end{equation}\n",
    "$$"
   ]
  },
  {
   "cell_type": "markdown",
   "id": "81405721",
   "metadata": {
    "editable": true
   },
   "source": [
    "Note this would be much more difficult in higher dimensions, because\n",
    "you would have to determine which points, $x,y,z$, the particles might\n",
    "reach in the trajectory, whereas in one dimension you can typically\n",
    "tell by simply seeing whether the kinetic energy is positive at every\n",
    "point between the old position and the new position."
   ]
  },
  {
   "cell_type": "markdown",
   "id": "8cd60219",
   "metadata": {
    "editable": true
   },
   "source": [
    "## The Torque, Example 2\n",
    "\n",
    "One can write the torque about a given axis, which we will denote as $\\hat{z}$, in polar coordinates, where"
   ]
  },
  {
   "cell_type": "markdown",
   "id": "6f650e8a",
   "metadata": {
    "editable": true
   },
   "source": [
    "$$\n",
    "\\begin{eqnarray}\n",
    "x&=&r\\sin\\theta\\cos\\phi,~~y=r\\sin\\theta\\sin\\phi,~~z=r\\cos\\theta,\n",
    "\\end{eqnarray}\n",
    "$$"
   ]
  },
  {
   "cell_type": "markdown",
   "id": "a2fb3a52",
   "metadata": {
    "editable": true
   },
   "source": [
    "to find the $z$ component of the torque,"
   ]
  },
  {
   "cell_type": "markdown",
   "id": "c5847ec3",
   "metadata": {
    "editable": true
   },
   "source": [
    "$$\n",
    "\\begin{eqnarray}\n",
    "\\tau_z&=&xF_y-yF_x\\\\\n",
    "\\nonumber\n",
    "&=&-r\\sin\\theta\\left\\{\\cos\\phi \\partial_y-\\sin\\phi \\partial_x\\right\\}V(x,y,z).\n",
    "\\end{eqnarray}\n",
    "$$"
   ]
  },
  {
   "cell_type": "markdown",
   "id": "bab04fab",
   "metadata": {
    "editable": true
   },
   "source": [
    "## Chain Rule and Partial Derivatives\n",
    "\n",
    "One can use the chain rule to write the partial derivative w.r.t. $\\phi$ (keeping $r$ and $\\theta$ fixed),"
   ]
  },
  {
   "cell_type": "markdown",
   "id": "c7d48d8f",
   "metadata": {
    "editable": true
   },
   "source": [
    "$$\n",
    "\\begin{eqnarray}\n",
    "\\partial_\\phi&=&\\frac{\\partial x}{\\partial\\phi}\\partial_x+\\frac{\\partial_y}{\\partial\\phi}\\partial_y\n",
    "+\\frac{\\partial z}{\\partial\\phi}\\partial_z\\\\\n",
    "\\nonumber\n",
    "&=&-r\\sin\\theta\\sin\\phi\\partial_x+\\sin\\theta\\cos\\phi\\partial_y.\n",
    "\\end{eqnarray}\n",
    "$$"
   ]
  },
  {
   "cell_type": "markdown",
   "id": "3d58d776",
   "metadata": {
    "editable": true
   },
   "source": [
    "Combining the two equations,"
   ]
  },
  {
   "cell_type": "markdown",
   "id": "538129e3",
   "metadata": {
    "editable": true
   },
   "source": [
    "$$\n",
    "\\begin{eqnarray}\n",
    "\\tau_z&=&-\\partial_\\phi V(r,\\theta,\\phi).\n",
    "\\end{eqnarray}\n",
    "$$"
   ]
  },
  {
   "cell_type": "markdown",
   "id": "739e70ae",
   "metadata": {
    "editable": true
   },
   "source": [
    "Thus, if the potential is independent of the azimuthal angle $\\phi$,\n",
    "there is no torque about the $z$ axis and $L_z$ is conserved."
   ]
  },
  {
   "cell_type": "markdown",
   "id": "d9496fd5",
   "metadata": {
    "editable": true
   },
   "source": [
    "## The Earth-Sun system\n",
    "\n",
    "We will now venture into a study of a system which is energy\n",
    "conserving. The aim is to see if we (since it is not possible to solve\n",
    "the general equations analytically) we can develop stable numerical\n",
    "algorithms whose results we can trust!\n",
    "\n",
    "We solve the equations of motion numerically. We will also compute\n",
    "quantities like the energy numerically.\n",
    "\n",
    "We start with a simpler case first, the Earth-Sun system  in two dimensions only.  The gravitational force $F_G$ on the earth from the sun is"
   ]
  },
  {
   "cell_type": "markdown",
   "id": "1fa5e02b",
   "metadata": {
    "editable": true
   },
   "source": [
    "$$\n",
    "\\boldsymbol{F}_G=-\\frac{GM_{\\odot}M_E}{r^3}\\boldsymbol{r},\n",
    "$$"
   ]
  },
  {
   "cell_type": "markdown",
   "id": "0286df6a",
   "metadata": {
    "editable": true
   },
   "source": [
    "where $G$ is the gravitational constant,"
   ]
  },
  {
   "cell_type": "markdown",
   "id": "b32d2932",
   "metadata": {
    "editable": true
   },
   "source": [
    "$$\n",
    "M_E=6\\times 10^{24}\\mathrm{Kg},\n",
    "$$"
   ]
  },
  {
   "cell_type": "markdown",
   "id": "859de4e4",
   "metadata": {
    "editable": true
   },
   "source": [
    "the mass of Earth,"
   ]
  },
  {
   "cell_type": "markdown",
   "id": "cd1a5dff",
   "metadata": {
    "editable": true
   },
   "source": [
    "$$\n",
    "M_{\\odot}=2\\times 10^{30}\\mathrm{Kg},\n",
    "$$"
   ]
  },
  {
   "cell_type": "markdown",
   "id": "e9c4447a",
   "metadata": {
    "editable": true
   },
   "source": [
    "the mass of the Sun and"
   ]
  },
  {
   "cell_type": "markdown",
   "id": "0075d48e",
   "metadata": {
    "editable": true
   },
   "source": [
    "$$\n",
    "r=1.5\\times 10^{11}\\mathrm{m},\n",
    "$$"
   ]
  },
  {
   "cell_type": "markdown",
   "id": "fd11de7f",
   "metadata": {
    "editable": true
   },
   "source": [
    "is the distance between Earth and the Sun. The latter defines what we call an astronomical unit **AU**."
   ]
  },
  {
   "cell_type": "markdown",
   "id": "229ebfb5",
   "metadata": {
    "editable": true
   },
   "source": [
    "## The Earth-Sun system, Newton's Laws\n",
    "\n",
    "From Newton's second law we have then for the $x$ direction"
   ]
  },
  {
   "cell_type": "markdown",
   "id": "73d433cc",
   "metadata": {
    "editable": true
   },
   "source": [
    "$$\n",
    "\\frac{d^2x}{dt^2}=-\\frac{F_{x}}{M_E},\n",
    "$$"
   ]
  },
  {
   "cell_type": "markdown",
   "id": "5c4eeca2",
   "metadata": {
    "editable": true
   },
   "source": [
    "and"
   ]
  },
  {
   "cell_type": "markdown",
   "id": "0045bb20",
   "metadata": {
    "editable": true
   },
   "source": [
    "$$\n",
    "\\frac{d^2y}{dt^2}=-\\frac{F_{y}}{M_E},\n",
    "$$"
   ]
  },
  {
   "cell_type": "markdown",
   "id": "5e6e0f77",
   "metadata": {
    "editable": true
   },
   "source": [
    "for the $y$ direction.\n",
    "\n",
    "Here we will use  that  $x=r\\cos{(\\theta)}$, $y=r\\sin{(\\theta)}$ and"
   ]
  },
  {
   "cell_type": "markdown",
   "id": "dfffd1d8",
   "metadata": {
    "editable": true
   },
   "source": [
    "$$\n",
    "r = \\sqrt{x^2+y^2}.\n",
    "$$"
   ]
  },
  {
   "cell_type": "markdown",
   "id": "6e898e69",
   "metadata": {
    "editable": true
   },
   "source": [
    "We can rewrite"
   ]
  },
  {
   "cell_type": "markdown",
   "id": "01256881",
   "metadata": {
    "editable": true
   },
   "source": [
    "$$\n",
    "F_{x}=-\\frac{GM_{\\odot}M_E}{r^2}\\cos{(\\theta)}=-\\frac{GM_{\\odot}M_E}{r^3}x,\n",
    "$$"
   ]
  },
  {
   "cell_type": "markdown",
   "id": "10748253",
   "metadata": {
    "editable": true
   },
   "source": [
    "and"
   ]
  },
  {
   "cell_type": "markdown",
   "id": "a8fc3757",
   "metadata": {
    "editable": true
   },
   "source": [
    "$$\n",
    "F_{y}=-\\frac{GM_{\\odot}M_E}{r^2}\\sin{(\\theta)}=-\\frac{GM_{\\odot}M_E}{r^3}y,\n",
    "$$"
   ]
  },
  {
   "cell_type": "markdown",
   "id": "768e4851",
   "metadata": {
    "editable": true
   },
   "source": [
    "for the $y$ direction."
   ]
  },
  {
   "cell_type": "markdown",
   "id": "8fd0d3f3",
   "metadata": {
    "editable": true
   },
   "source": [
    "## The Earth-Sun system, rewriting the Equations\n",
    "\n",
    "We can rewrite these two equations"
   ]
  },
  {
   "cell_type": "markdown",
   "id": "236d141c",
   "metadata": {
    "editable": true
   },
   "source": [
    "$$\n",
    "F_{x}=-\\frac{GM_{\\odot}M_E}{r^2}\\cos{(\\theta)}=-\\frac{GM_{\\odot}M_E}{r^3}x,\n",
    "$$"
   ]
  },
  {
   "cell_type": "markdown",
   "id": "6a286217",
   "metadata": {
    "editable": true
   },
   "source": [
    "and"
   ]
  },
  {
   "cell_type": "markdown",
   "id": "627dfdac",
   "metadata": {
    "editable": true
   },
   "source": [
    "$$\n",
    "F_{y}=-\\frac{GM_{\\odot}M_E}{r^2}\\sin{(\\theta)}=-\\frac{GM_{\\odot}M_E}{r^3}y,\n",
    "$$"
   ]
  },
  {
   "cell_type": "markdown",
   "id": "5d5729ab",
   "metadata": {
    "editable": true
   },
   "source": [
    "as four first-order coupled differential equations"
   ]
  },
  {
   "cell_type": "markdown",
   "id": "ffe082f6",
   "metadata": {
    "editable": true
   },
   "source": [
    "$$\n",
    "\\frac{dv_x}{dt}=-\\frac{GM_{\\odot}}{r^3}x,\n",
    "$$"
   ]
  },
  {
   "cell_type": "markdown",
   "id": "e05d3a60",
   "metadata": {
    "editable": true
   },
   "source": [
    "$$\n",
    "\\frac{dx}{dt}=v_x,\n",
    "$$"
   ]
  },
  {
   "cell_type": "markdown",
   "id": "11171f6c",
   "metadata": {
    "editable": true
   },
   "source": [
    "$$\n",
    "\\frac{dv_y}{dt}=-\\frac{GM_{\\odot}}{r^3}y,\n",
    "$$"
   ]
  },
  {
   "cell_type": "markdown",
   "id": "fdbdf88e",
   "metadata": {
    "editable": true
   },
   "source": [
    "$$\n",
    "\\frac{dy}{dt}=v_y.\n",
    "$$"
   ]
  },
  {
   "cell_type": "markdown",
   "id": "7219017a",
   "metadata": {
    "editable": true
   },
   "source": [
    "## Building a code for the solar system, final coupled equations\n",
    "\n",
    "The four coupled differential equations"
   ]
  },
  {
   "cell_type": "markdown",
   "id": "e96f0a4c",
   "metadata": {
    "editable": true
   },
   "source": [
    "$$\n",
    "\\frac{dv_x}{dt}=-\\frac{GM_{\\odot}}{r^3}x,\n",
    "$$"
   ]
  },
  {
   "cell_type": "markdown",
   "id": "2b8f0d17",
   "metadata": {
    "editable": true
   },
   "source": [
    "$$\n",
    "\\frac{dx}{dt}=v_x,\n",
    "$$"
   ]
  },
  {
   "cell_type": "markdown",
   "id": "79c5d7c8",
   "metadata": {
    "editable": true
   },
   "source": [
    "$$\n",
    "\\frac{dv_y}{dt}=-\\frac{GM_{\\odot}}{r^3}y,\n",
    "$$"
   ]
  },
  {
   "cell_type": "markdown",
   "id": "f5bc4635",
   "metadata": {
    "editable": true
   },
   "source": [
    "$$\n",
    "\\frac{dy}{dt}=v_y,\n",
    "$$"
   ]
  },
  {
   "cell_type": "markdown",
   "id": "c83395c3",
   "metadata": {
    "editable": true
   },
   "source": [
    "can be turned into dimensionless equations or we can introduce astronomical units with $1$ AU = $1.5\\times 10^{11}$. \n",
    "\n",
    "Using the equations from circular motion (with $r =1\\mathrm{AU}$)"
   ]
  },
  {
   "cell_type": "markdown",
   "id": "c93adccc",
   "metadata": {
    "editable": true
   },
   "source": [
    "$$\n",
    "\\frac{M_E v^2}{r} = F = \\frac{GM_{\\odot}M_E}{r^2},\n",
    "$$"
   ]
  },
  {
   "cell_type": "markdown",
   "id": "0cf6668b",
   "metadata": {
    "editable": true
   },
   "source": [
    "we have"
   ]
  },
  {
   "cell_type": "markdown",
   "id": "d7ab951b",
   "metadata": {
    "editable": true
   },
   "source": [
    "$$\n",
    "GM_{\\odot}=v^2r,\n",
    "$$"
   ]
  },
  {
   "cell_type": "markdown",
   "id": "44d5ea49",
   "metadata": {
    "editable": true
   },
   "source": [
    "and using that the velocity of Earth (assuming circular motion) is\n",
    "$v = 2\\pi r/\\mathrm{yr}=2\\pi\\mathrm{AU}/\\mathrm{yr}$, we have"
   ]
  },
  {
   "cell_type": "markdown",
   "id": "d018bffb",
   "metadata": {
    "editable": true
   },
   "source": [
    "$$\n",
    "GM_{\\odot}= v^2r = 4\\pi^2 \\frac{(\\mathrm{AU})^3}{\\mathrm{yr}^2}.\n",
    "$$"
   ]
  },
  {
   "cell_type": "markdown",
   "id": "62b3f3ae",
   "metadata": {
    "editable": true
   },
   "source": [
    "## Building a code for the solar system, discretized equations\n",
    "\n",
    "The four coupled differential equations can then be discretized using Euler's method as (with step length $h$)"
   ]
  },
  {
   "cell_type": "markdown",
   "id": "ef4b9486",
   "metadata": {
    "editable": true
   },
   "source": [
    "$$\n",
    "v_{x,i+1}=v_{x,i}-h\\frac{4\\pi^2}{r_i^3}x_i,\n",
    "$$"
   ]
  },
  {
   "cell_type": "markdown",
   "id": "7330019e",
   "metadata": {
    "editable": true
   },
   "source": [
    "$$\n",
    "x_{i+1}=x_i+hv_{x,i},\n",
    "$$"
   ]
  },
  {
   "cell_type": "markdown",
   "id": "4415a438",
   "metadata": {
    "editable": true
   },
   "source": [
    "$$\n",
    "v_{y,i+1}=v_{y,i}-h\\frac{4\\pi^2}{r_i^3}y_i,\n",
    "$$"
   ]
  },
  {
   "cell_type": "markdown",
   "id": "ccf8850f",
   "metadata": {
    "editable": true
   },
   "source": [
    "$$\n",
    "y_{i+1}=y_i+hv_{y,i},\n",
    "$$"
   ]
  },
  {
   "cell_type": "markdown",
   "id": "df422f50",
   "metadata": {
    "editable": true
   },
   "source": [
    "## Code Example with Euler's Method\n",
    "\n",
    "The code here implements Euler's method for the Earth-Sun system using a more compact way of representing the vectors. Alternatively, you could have spelled out all the variables $v_x$, $v_y$, $x$ and $y$ as one-dimensional arrays."
   ]
  },
  {
   "cell_type": "code",
   "execution_count": 1,
   "id": "3a7f8009",
   "metadata": {
    "collapsed": false,
    "editable": true
   },
   "outputs": [],
   "source": [
    "%matplotlib inline\n",
    "\n",
    "# Common imports\n",
    "import numpy as np\n",
    "import pandas as pd\n",
    "from math import *\n",
    "import matplotlib.pyplot as plt\n",
    "import os\n",
    "\n",
    "# Where to save the figures and data files\n",
    "PROJECT_ROOT_DIR = \"Results\"\n",
    "FIGURE_ID = \"Results/FigureFiles\"\n",
    "DATA_ID = \"DataFiles/\"\n",
    "\n",
    "if not os.path.exists(PROJECT_ROOT_DIR):\n",
    "    os.mkdir(PROJECT_ROOT_DIR)\n",
    "\n",
    "if not os.path.exists(FIGURE_ID):\n",
    "    os.makedirs(FIGURE_ID)\n",
    "\n",
    "if not os.path.exists(DATA_ID):\n",
    "    os.makedirs(DATA_ID)\n",
    "\n",
    "def image_path(fig_id):\n",
    "    return os.path.join(FIGURE_ID, fig_id)\n",
    "\n",
    "def data_path(dat_id):\n",
    "    return os.path.join(DATA_ID, dat_id)\n",
    "\n",
    "def save_fig(fig_id):\n",
    "    plt.savefig(image_path(fig_id) + \".png\", format='png')\n",
    "\n",
    "\n",
    "DeltaT = 0.001\n",
    "#set up arrays \n",
    "tfinal = 10 # in years\n",
    "n = ceil(tfinal/DeltaT)\n",
    "# set up arrays for t, a, v, and x\n",
    "t = np.zeros(n)\n",
    "v = np.zeros((n,2))\n",
    "r = np.zeros((n,2))\n",
    "# Initial conditions as compact 2-dimensional arrays\n",
    "r0 = np.array([1.0,0.0])\n",
    "v0 = np.array([0.0,2*pi])\n",
    "r[0] = r0\n",
    "v[0] = v0\n",
    "Fourpi2 = 4*pi*pi\n",
    "# Start integrating using Euler's method\n",
    "for i in range(n-1):\n",
    "    # Set up the acceleration\n",
    "    # Here you could have defined your own function for this\n",
    "    rabs = sqrt(sum(r[i]*r[i]))\n",
    "    a =  -Fourpi2*r[i]/(rabs**3)\n",
    "    # update velocity, time and position using Euler's forward method\n",
    "    v[i+1] = v[i] + DeltaT*a\n",
    "    r[i+1] = r[i] + DeltaT*v[i]\n",
    "    t[i+1] = t[i] + DeltaT\n",
    "# Plot position as function of time    \n",
    "fig, ax = plt.subplots()\n",
    "#ax.set_xlim(0, tfinal)\n",
    "ax.set_ylabel('y[AU]')\n",
    "ax.set_xlabel('x[AU]')\n",
    "ax.plot(r[:,0], r[:,1])\n",
    "fig.tight_layout()\n",
    "save_fig(\"EarthSunEuler\")\n",
    "plt.show()"
   ]
  },
  {
   "cell_type": "markdown",
   "id": "60d2c21b",
   "metadata": {
    "editable": true
   },
   "source": [
    "## Problems with Euler's Method\n",
    "\n",
    "We notice here that Euler's method doesn't give a stable orbit. It\n",
    "means that we cannot trust Euler's method. In a deeper way, as we will\n",
    "see in homework 5, Euler's method does not conserve energy. It is an\n",
    "example of an integrator which is not\n",
    "[symplectic](https://en.wikipedia.org/wiki/Symplectic_integrator).\n",
    "\n",
    "Here we present thus two methods, which with simple changes allow us to avoid these pitfalls. The simplest possible extension is the so-called Euler-Cromer method.\n",
    "The changes we need to make to our code are indeed marginal here.\n",
    "We need simply to replace"
   ]
  },
  {
   "cell_type": "code",
   "execution_count": 2,
   "id": "6263b12b",
   "metadata": {
    "collapsed": false,
    "editable": true
   },
   "outputs": [],
   "source": [
    "    r[i+1] = r[i] + DeltaT*v[i]"
   ]
  },
  {
   "cell_type": "markdown",
   "id": "1160361c",
   "metadata": {
    "editable": true
   },
   "source": [
    "in the above code with the velocity at the new time $t_{i+1}$"
   ]
  },
  {
   "cell_type": "code",
   "execution_count": 3,
   "id": "61a441a6",
   "metadata": {
    "collapsed": false,
    "editable": true
   },
   "outputs": [],
   "source": [
    "    r[i+1] = r[i] + DeltaT*v[i+1]"
   ]
  },
  {
   "cell_type": "markdown",
   "id": "dc3350ff",
   "metadata": {
    "editable": true
   },
   "source": [
    "By this simple caveat we get stable orbits.\n",
    "Below we derive the Euler-Cromer method as well as one of the most utlized algorithms for sovling the above type of problems, the so-called Velocity-Verlet method."
   ]
  },
  {
   "cell_type": "markdown",
   "id": "c59f0b69",
   "metadata": {
    "editable": true
   },
   "source": [
    "## Deriving the Euler-Cromer Method\n",
    "\n",
    "Let us repeat Euler's method.\n",
    "We have a differential equation"
   ]
  },
  {
   "cell_type": "markdown",
   "id": "8713ea4c",
   "metadata": {
    "editable": true
   },
   "source": [
    "<!-- Equation labels as ordinary links -->\n",
    "<div id=\"_auto9\"></div>\n",
    "\n",
    "$$\n",
    "\\begin{equation}\n",
    "y'(t_i)=f(t_i,y_i)   \n",
    "\\label{_auto9} \\tag{9}\n",
    "\\end{equation}\n",
    "$$"
   ]
  },
  {
   "cell_type": "markdown",
   "id": "c24228c5",
   "metadata": {
    "editable": true
   },
   "source": [
    "and if we truncate at the first derivative, we have from the Taylor expansion"
   ]
  },
  {
   "cell_type": "markdown",
   "id": "ed7968b1",
   "metadata": {
    "editable": true
   },
   "source": [
    "<!-- Equation labels as ordinary links -->\n",
    "<div id=\"eq:euler\"></div>\n",
    "\n",
    "$$\n",
    "\\begin{equation}\n",
    "y_{i+1}=y(t_i) + (\\Delta t) f(t_i,y_i) + O(\\Delta t^2), \\label{eq:euler} \\tag{10}\n",
    "\\end{equation}\n",
    "$$"
   ]
  },
  {
   "cell_type": "markdown",
   "id": "ad7462c3",
   "metadata": {
    "editable": true
   },
   "source": [
    "which when complemented with $t_{i+1}=t_i+\\Delta t$ forms\n",
    "the algorithm for the well-known Euler method. \n",
    "Note that at every step we make an approximation error\n",
    "of the order of $O(\\Delta t^2)$, however the total error is the sum over all\n",
    "steps $N=(b-a)/(\\Delta t)$ for $t\\in [a,b]$, yielding thus a global error which goes like\n",
    "$NO(\\Delta t^2)\\approx O(\\Delta t)$. \n",
    "\n",
    "To make Euler's method more precise we can obviously\n",
    "decrease $\\Delta t$ (increase $N$), but this can lead to loss of numerical precision.\n",
    "Euler's method is not recommended for precision calculation,\n",
    "although it is handy to use in order to get a first\n",
    "view on how a solution may look like.\n",
    "\n",
    "Euler's method is asymmetric in time, since it uses information about the derivative at the beginning\n",
    "of the time interval. This means that we evaluate the position at $y_1$ using the velocity\n",
    "at $v_0$. A simple variation is to determine $x_{n+1}$ using the velocity at\n",
    "$v_{n+1}$, that is (in a slightly more generalized form)"
   ]
  },
  {
   "cell_type": "markdown",
   "id": "e2b56ceb",
   "metadata": {
    "editable": true
   },
   "source": [
    "<!-- Equation labels as ordinary links -->\n",
    "<div id=\"_auto10\"></div>\n",
    "\n",
    "$$\n",
    "\\begin{equation} \n",
    "y_{n+1}=y_{n}+ v_{n+1}+O(\\Delta t^2)\n",
    "\\label{_auto10} \\tag{11}\n",
    "\\end{equation}\n",
    "$$"
   ]
  },
  {
   "cell_type": "markdown",
   "id": "f03c3530",
   "metadata": {
    "editable": true
   },
   "source": [
    "and"
   ]
  },
  {
   "cell_type": "markdown",
   "id": "c5dfc8e2",
   "metadata": {
    "editable": true
   },
   "source": [
    "<!-- Equation labels as ordinary links -->\n",
    "<div id=\"_auto11\"></div>\n",
    "\n",
    "$$\n",
    "\\begin{equation}\n",
    "v_{n+1}=v_{n}+(\\Delta t) a_{n}+O(\\Delta t^2).\n",
    "\\label{_auto11} \\tag{12}\n",
    "\\end{equation}\n",
    "$$"
   ]
  },
  {
   "cell_type": "markdown",
   "id": "0d9cf6a2",
   "metadata": {
    "editable": true
   },
   "source": [
    "The acceleration $a_n$ is a function of $a_n(y_n, v_n, t_n)$ and needs to be evaluated\n",
    "as well. This is the Euler-Cromer method.\n",
    "\n",
    "**Exercise**: go back to the above code with Euler's method and add the Euler-Cromer method."
   ]
  },
  {
   "cell_type": "markdown",
   "id": "483c0b02",
   "metadata": {
    "editable": true
   },
   "source": [
    "## Deriving the Velocity-Verlet Method\n",
    "\n",
    "Let us stay with $x$ (position) and $v$ (velocity) as the quantities we are interested in.\n",
    "\n",
    "We have the Taylor expansion for the position given by"
   ]
  },
  {
   "cell_type": "markdown",
   "id": "a76792a6",
   "metadata": {
    "editable": true
   },
   "source": [
    "$$\n",
    "x_{i+1} = x_i+(\\Delta t)v_i+\\frac{(\\Delta t)^2}{2}a_i+O((\\Delta t)^3).\n",
    "$$"
   ]
  },
  {
   "cell_type": "markdown",
   "id": "06fbcc3c",
   "metadata": {
    "editable": true
   },
   "source": [
    "The corresponding expansion for the velocity is"
   ]
  },
  {
   "cell_type": "markdown",
   "id": "e33b8e84",
   "metadata": {
    "editable": true
   },
   "source": [
    "$$\n",
    "v_{i+1} = v_i+(\\Delta t)a_i+\\frac{(\\Delta t)^2}{2}v^{(2)}_i+O((\\Delta t)^3).\n",
    "$$"
   ]
  },
  {
   "cell_type": "markdown",
   "id": "0b6096e4",
   "metadata": {
    "editable": true
   },
   "source": [
    "Via Newton's second law we have normally an analytical expression for the derivative of the velocity, namely"
   ]
  },
  {
   "cell_type": "markdown",
   "id": "67c514f1",
   "metadata": {
    "editable": true
   },
   "source": [
    "$$\n",
    "a_i= \\frac{d^2 x}{dt^2}\\vert_{i}=\\frac{d v}{dt}\\vert_{i}= \\frac{F(x_i,v_i,t_i)}{m}.\n",
    "$$"
   ]
  },
  {
   "cell_type": "markdown",
   "id": "1ebce3ae",
   "metadata": {
    "editable": true
   },
   "source": [
    "If we add to this the corresponding expansion for the derivative of the velocity"
   ]
  },
  {
   "cell_type": "markdown",
   "id": "d5e56c65",
   "metadata": {
    "editable": true
   },
   "source": [
    "$$\n",
    "v^{(1)}_{i+1} = a_{i+1}= a_i+(\\Delta t)v^{(2)}_i+O((\\Delta t)^2)=a_i+(\\Delta t)v^{(2)}_i+O((\\Delta t)^2),\n",
    "$$"
   ]
  },
  {
   "cell_type": "markdown",
   "id": "70442957",
   "metadata": {
    "editable": true
   },
   "source": [
    "and retain only terms up to the second derivative of the velocity since our error goes as $O(h^3)$, we have"
   ]
  },
  {
   "cell_type": "markdown",
   "id": "66f68ffb",
   "metadata": {
    "editable": true
   },
   "source": [
    "$$\n",
    "(\\Delta t)v^{(2)}_i\\approx a_{i+1}-a_i.\n",
    "$$"
   ]
  },
  {
   "cell_type": "markdown",
   "id": "67c70380",
   "metadata": {
    "editable": true
   },
   "source": [
    "We can then rewrite the Taylor expansion for the velocity as"
   ]
  },
  {
   "cell_type": "markdown",
   "id": "5de82873",
   "metadata": {
    "editable": true
   },
   "source": [
    "$$\n",
    "v_{i+1} = v_i+\\frac{(\\Delta t)}{2}\\left( a_{i+1}+a_{i}\\right)+O((\\Delta t)^3).\n",
    "$$"
   ]
  },
  {
   "cell_type": "markdown",
   "id": "e35d67b3",
   "metadata": {
    "editable": true
   },
   "source": [
    "## The velocity Verlet method\n",
    "\n",
    "Our final equations for the position and the velocity become then"
   ]
  },
  {
   "cell_type": "markdown",
   "id": "e9e33e9e",
   "metadata": {
    "editable": true
   },
   "source": [
    "$$\n",
    "x_{i+1} = x_i+(\\Delta t)v_i+\\frac{(\\Delta t)^2}{2}a_{i}+O((\\Delta t)^3),\n",
    "$$"
   ]
  },
  {
   "cell_type": "markdown",
   "id": "e8d6d45d",
   "metadata": {
    "editable": true
   },
   "source": [
    "and"
   ]
  },
  {
   "cell_type": "markdown",
   "id": "451efda0",
   "metadata": {
    "editable": true
   },
   "source": [
    "$$\n",
    "v_{i+1} = v_i+\\frac{(\\Delta t)}{2}\\left(a_{i+1}+a_{i}\\right)+O((\\Delta t)^3).\n",
    "$$"
   ]
  },
  {
   "cell_type": "markdown",
   "id": "43991f3b",
   "metadata": {
    "editable": true
   },
   "source": [
    "Note well that the term $a_{i+1}$ depends on the position at $x_{i+1}$. This means that you need to calculate \n",
    "the position at the updated time $t_{i+1}$ before the computing the next velocity.  Note also that the derivative of the velocity at the time\n",
    "$t_i$ used in the updating of the position can be reused in the calculation of the velocity update as well."
   ]
  },
  {
   "cell_type": "markdown",
   "id": "9c18aa8d",
   "metadata": {
    "editable": true
   },
   "source": [
    "## Adding the Velocity-Verlet Method\n",
    "\n",
    "We can now easily add the Verlet method to our original code as"
   ]
  },
  {
   "cell_type": "code",
   "execution_count": 4,
   "id": "d836afaf",
   "metadata": {
    "collapsed": false,
    "editable": true
   },
   "outputs": [],
   "source": [
    "DeltaT = 0.01\n",
    "#set up arrays \n",
    "tfinal = 10 # in years\n",
    "n = ceil(tfinal/DeltaT)\n",
    "# set up arrays for t, a, v, and x\n",
    "t = np.zeros(n)\n",
    "v = np.zeros((n,2))\n",
    "r = np.zeros((n,2))\n",
    "# Initial conditions as compact 2-dimensional arrays\n",
    "r0 = np.array([1.0,0.0])\n",
    "v0 = np.array([0.0,2*pi])\n",
    "r[0] = r0\n",
    "v[0] = v0\n",
    "Fourpi2 = 4*pi*pi\n",
    "# Start integrating using the Velocity-Verlet  method\n",
    "for i in range(n-1):\n",
    "    # Set up forces, air resistance FD, note now that we need the norm of the vecto\n",
    "    # Here you could have defined your own function for this\n",
    "    rabs = sqrt(sum(r[i]*r[i]))\n",
    "    a =  -Fourpi2*r[i]/(rabs**3)\n",
    "    # update velocity, time and position using the Velocity-Verlet method\n",
    "    r[i+1] = r[i] + DeltaT*v[i]+0.5*(DeltaT**2)*a\n",
    "    rabs = sqrt(sum(r[i+1]*r[i+1]))\n",
    "    anew = -4*(pi**2)*r[i+1]/(rabs**3)\n",
    "    v[i+1] = v[i] + 0.5*DeltaT*(a+anew)\n",
    "    t[i+1] = t[i] + DeltaT\n",
    "# Plot position as function of time    \n",
    "fig, ax = plt.subplots()\n",
    "ax.set_ylabel('y[AU]')\n",
    "ax.set_xlabel('x[AU]')\n",
    "ax.plot(r[:,0], r[:,1])\n",
    "fig.tight_layout()\n",
    "save_fig(\"EarthSunVV\")\n",
    "plt.show()"
   ]
  },
  {
   "cell_type": "markdown",
   "id": "4c2d76d0",
   "metadata": {
    "editable": true
   },
   "source": [
    "You can easily generalize the calculation of the forces by defining a function\n",
    "which takes in as input the various variables. We leave this as a challenge to you."
   ]
  },
  {
   "cell_type": "markdown",
   "id": "d93c13e9",
   "metadata": {
    "editable": true
   },
   "source": [
    "## Additional Material: Link between Line Integrals and Conservative forces\n",
    "\n",
    "The concept of line integrals plays an important role in our discussion of energy conservation,\n",
    "our definition of potentials and conservative forces.\n",
    "\n",
    "Let us remind ourselves of some the basic elements (most of you may\n",
    "have seen this in a calculus course under the general topic of vector\n",
    "fields).\n",
    "\n",
    "We define a path integration $C$, that is we integrate\n",
    "from a point $\\boldsymbol{r}_1$ to a point $\\boldsymbol{r}_2$. \n",
    "Let us assume that the path $C$ is represented by an arc length $s$. In three dimension we have the following representation of $C$"
   ]
  },
  {
   "cell_type": "markdown",
   "id": "9248cd83",
   "metadata": {
    "editable": true
   },
   "source": [
    "$$\n",
    "\\boldsymbol{r}(s)=x(s)\\boldsymbol{e}_1+y(s)\\boldsymbol{e}_2+z(s)\\boldsymbol{e}_3,\n",
    "$$"
   ]
  },
  {
   "cell_type": "markdown",
   "id": "6078c977",
   "metadata": {
    "editable": true
   },
   "source": [
    "then our integral of a function $f(x,y,z)$ along the path $C$ is defined as"
   ]
  },
  {
   "cell_type": "markdown",
   "id": "b2bed7f9",
   "metadata": {
    "editable": true
   },
   "source": [
    "$$\n",
    "\\int_Cf(x,y,z)ds=\\int_a^bf\\left(x(s),y(s),z(s)\\right)ds,\n",
    "$$"
   ]
  },
  {
   "cell_type": "markdown",
   "id": "d624c2a8",
   "metadata": {
    "editable": true
   },
   "source": [
    "where the initial and final points are $a$ and $b$, respectively."
   ]
  },
  {
   "cell_type": "markdown",
   "id": "d49df46b",
   "metadata": {
    "editable": true
   },
   "source": [
    "## Exactness and Independence of Path\n",
    "\n",
    "With the definition of a line integral, we can in tunrn set up the\n",
    "theorem of independence of integration path.\n",
    "\n",
    "Let us define\n",
    "$f(x,y,z)$, $g(x,y,z)$ and $h(x,y,z)$ to be functions which are\n",
    "defined and continuous in a domain $D$ in space. Then a line integral\n",
    "like the above is said to be independent of path in $D$, if for every\n",
    "pair of endpoints $a$ and $b$ in $D$ the value of the integral is the\n",
    "same for all paths $C$ in $D$ starting from a point $a$ and ending in\n",
    "a point $b$. The integral depends thus only on the integration limits\n",
    "and not on the path."
   ]
  },
  {
   "cell_type": "markdown",
   "id": "83ed9515",
   "metadata": {
    "editable": true
   },
   "source": [
    "## Differential Forms\n",
    "\n",
    "An expression of the form"
   ]
  },
  {
   "cell_type": "markdown",
   "id": "c38f4bfd",
   "metadata": {
    "editable": true
   },
   "source": [
    "$$\n",
    "fdx+gdy+hdz,\n",
    "$$"
   ]
  },
  {
   "cell_type": "markdown",
   "id": "9237c06a",
   "metadata": {
    "editable": true
   },
   "source": [
    "where $f$, $g$ and $h$ are functions defined in $D$, is a called a first-order differential form\n",
    "in three variables.\n",
    "The form is said to be exact if it is the differential"
   ]
  },
  {
   "cell_type": "markdown",
   "id": "304670bb",
   "metadata": {
    "editable": true
   },
   "source": [
    "$$\n",
    "du= \\frac{\\partial u}{\\partial x}dx+\\frac{\\partial u}{\\partial y}dy+\\frac{\\partial u}{\\partial z}dz,\n",
    "$$"
   ]
  },
  {
   "cell_type": "markdown",
   "id": "06f82133",
   "metadata": {
    "editable": true
   },
   "source": [
    "of a differentiable function $u(x,y,z)$ everywhere in $D$, that is"
   ]
  },
  {
   "cell_type": "markdown",
   "id": "07e58c79",
   "metadata": {
    "editable": true
   },
   "source": [
    "$$\n",
    "du=fdx+gdy+hdz.\n",
    "$$"
   ]
  },
  {
   "cell_type": "markdown",
   "id": "f50e1530",
   "metadata": {
    "editable": true
   },
   "source": [
    "It is said to be exact if and only if we can then set"
   ]
  },
  {
   "cell_type": "markdown",
   "id": "24661827",
   "metadata": {
    "editable": true
   },
   "source": [
    "$$\n",
    "f=\\frac{\\partial u}{\\partial x},\n",
    "$$"
   ]
  },
  {
   "cell_type": "markdown",
   "id": "21c09f60",
   "metadata": {
    "editable": true
   },
   "source": [
    "and"
   ]
  },
  {
   "cell_type": "markdown",
   "id": "fe918d57",
   "metadata": {
    "editable": true
   },
   "source": [
    "$$\n",
    "g=\\frac{\\partial u}{\\partial y},\n",
    "$$"
   ]
  },
  {
   "cell_type": "markdown",
   "id": "07e0448d",
   "metadata": {
    "editable": true
   },
   "source": [
    "and"
   ]
  },
  {
   "cell_type": "markdown",
   "id": "5f1b3bb4",
   "metadata": {
    "editable": true
   },
   "source": [
    "$$\n",
    "h=\\frac{\\partial u}{\\partial z},\n",
    "$$"
   ]
  },
  {
   "cell_type": "markdown",
   "id": "76bc0b8a",
   "metadata": {
    "editable": true
   },
   "source": [
    "everywhere in the domain $D$."
   ]
  },
  {
   "cell_type": "markdown",
   "id": "e6c05e87",
   "metadata": {
    "editable": true
   },
   "source": [
    "## In Vector Language\n",
    "\n",
    "In vector language the above means that the differential form"
   ]
  },
  {
   "cell_type": "markdown",
   "id": "58c73d63",
   "metadata": {
    "editable": true
   },
   "source": [
    "$$\n",
    "fdx+gdy+hdz,\n",
    "$$"
   ]
  },
  {
   "cell_type": "markdown",
   "id": "1dc208d1",
   "metadata": {
    "editable": true
   },
   "source": [
    "is exact in $D$ if and only if the vector function (it could be a force, or velocity, acceleration or other vectors we encounter in this course)"
   ]
  },
  {
   "cell_type": "markdown",
   "id": "adf8fdaf",
   "metadata": {
    "editable": true
   },
   "source": [
    "$$\n",
    "\\boldsymbol{F}=f\\boldsymbol{e}_1+g\\boldsymbol{e}_2+h\\boldsymbol{e}_3,\n",
    "$$"
   ]
  },
  {
   "cell_type": "markdown",
   "id": "84f14abe",
   "metadata": {
    "editable": true
   },
   "source": [
    "is the gradient of a function $u(x,y,z)$"
   ]
  },
  {
   "cell_type": "markdown",
   "id": "1223978e",
   "metadata": {
    "editable": true
   },
   "source": [
    "$$\n",
    "\\boldsymbol{v}=\\boldsymbol{\\nabla}u=\\frac{\\partial u}{\\partial x}\\boldsymbol{e}_1+\\frac{\\partial u}{\\partial y}\\boldsymbol{e}_2+\\frac{\\partial u}{\\partial z}\\boldsymbol{e}_3.\n",
    "$$"
   ]
  },
  {
   "cell_type": "markdown",
   "id": "b484e402",
   "metadata": {
    "editable": true
   },
   "source": [
    "## Path Independence Theorem\n",
    "\n",
    "If this is the case, we can state the path independence theorem which\n",
    "states that with functions $f(x,y,z)$, $g(x,y,z)$ and $h(x,y,z)$ that fulfill the above\n",
    "exactness conditions,  the line integral"
   ]
  },
  {
   "cell_type": "markdown",
   "id": "070b3551",
   "metadata": {
    "editable": true
   },
   "source": [
    "$$\n",
    "\\int_C\\left(fdx+gdy+hdz\\right),\n",
    "$$"
   ]
  },
  {
   "cell_type": "markdown",
   "id": "ecff8a1d",
   "metadata": {
    "editable": true
   },
   "source": [
    "is independent of path in $D$ if and only if the differential form under the integral sign is exact in $D$.\n",
    "\n",
    "This is the path independence theorem. \n",
    "\n",
    "We will not give a proof of the theorem. You can find this in any vector analysis chapter in a mathematics textbook.\n",
    "\n",
    "We note however that the path integral from a point $p$ to a final point $q$ is given by"
   ]
  },
  {
   "cell_type": "markdown",
   "id": "96f7c4c3",
   "metadata": {
    "editable": true
   },
   "source": [
    "$$\n",
    "\\int_p^q\\left(fdx+gdy+hdz\\right)=\\int_p^q\\left(\\frac{\\partial u}{\\partial x}dx+\\frac{\\partial u}{\\partial y}dy+\\frac{\\partial u}{\\partial z}dz\\right)=\\int_p^qdu.\n",
    "$$"
   ]
  },
  {
   "cell_type": "markdown",
   "id": "8521190b",
   "metadata": {
    "editable": true
   },
   "source": [
    "Assume now that we have a dependence on a variable $s$ for $x$, $y$ and $z$. We have then"
   ]
  },
  {
   "cell_type": "markdown",
   "id": "7fcf83b3",
   "metadata": {
    "editable": true
   },
   "source": [
    "$$\n",
    "\\int_p^qdu=\\int_{s_1}^{s_2}\\frac{du}{ds}ds = u(x(s),y(s),z(s))\\vert_{s=s_1}^{s=s_2}=u(q)-u(p).\n",
    "$$"
   ]
  },
  {
   "cell_type": "markdown",
   "id": "9f8f0f74",
   "metadata": {
    "editable": true
   },
   "source": [
    "This last equation"
   ]
  },
  {
   "cell_type": "markdown",
   "id": "ddf527ff",
   "metadata": {
    "editable": true
   },
   "source": [
    "$$\n",
    "\\int_p^q\\left(fdx+gdy+hdz\\right)=u(q)-u(p),\n",
    "$$"
   ]
  },
  {
   "cell_type": "markdown",
   "id": "dc1e77c1",
   "metadata": {
    "editable": true
   },
   "source": [
    "is the analogue of the usual formula"
   ]
  },
  {
   "cell_type": "markdown",
   "id": "e2f883bf",
   "metadata": {
    "editable": true
   },
   "source": [
    "$$\n",
    "\\int_a^bf(x)dx=F(x)\\vert_a^b=F(b)-F(a),\n",
    "$$"
   ]
  },
  {
   "cell_type": "markdown",
   "id": "454ef4e9",
   "metadata": {
    "editable": true
   },
   "source": [
    "with $F'(x)=f(x)$."
   ]
  },
  {
   "cell_type": "markdown",
   "id": "4f9552b5",
   "metadata": {
    "editable": true
   },
   "source": [
    "## Work-Energy Theorem again\n",
    "\n",
    "We remember that a the work done by a force\n",
    "$\\boldsymbol{F}=f\\boldsymbol{e}_1+g\\boldsymbol{e}_2+h\\boldsymbol{e}_3$ on a displacemnt $d\\boldsymbol{r}$"
   ]
  },
  {
   "cell_type": "markdown",
   "id": "6067baae",
   "metadata": {
    "editable": true
   },
   "source": [
    "$$\n",
    "W=\\int_C\\boldsymbol{F}d\\boldsymbol{r}=\\int_C(fdx+gdy+hdz).\n",
    "$$"
   ]
  },
  {
   "cell_type": "markdown",
   "id": "3f5abafd",
   "metadata": {
    "editable": true
   },
   "source": [
    "From the path independence theorem, we know that this has to result in\n",
    "the difference between the two endpoints only. This is exact if and\n",
    "only if the force is the force $\\boldsymbol{F}$ is the gradient of a scalar\n",
    "function $u$. We call this scalar function, which depends only the\n",
    "positions $x,y,z$ for the potential energy $V(x,y,z)=V(\\boldsymbol{r})$.\n",
    "\n",
    "We have thus"
   ]
  },
  {
   "cell_type": "markdown",
   "id": "c9399f83",
   "metadata": {
    "editable": true
   },
   "source": [
    "$$\n",
    "\\boldsymbol{F}(\\boldsymbol{r})\\propto \\boldsymbol{\\nabla}V(\\boldsymbol{r}),\n",
    "$$"
   ]
  },
  {
   "cell_type": "markdown",
   "id": "ba7b943b",
   "metadata": {
    "editable": true
   },
   "source": [
    "and we define  this as"
   ]
  },
  {
   "cell_type": "markdown",
   "id": "df059e59",
   "metadata": {
    "editable": true
   },
   "source": [
    "$$\n",
    "\\boldsymbol{F}(\\boldsymbol{r})= -\\boldsymbol{\\nabla}V(\\boldsymbol{r}).\n",
    "$$"
   ]
  },
  {
   "cell_type": "markdown",
   "id": "85471625",
   "metadata": {
    "editable": true
   },
   "source": [
    "Such a force is called **a conservative force**. The above expression can be used to demonstrate\n",
    "energy conservation."
   ]
  },
  {
   "cell_type": "markdown",
   "id": "f9eb608c",
   "metadata": {
    "editable": true
   },
   "source": [
    "## Additional Theorem\n",
    "\n",
    "Finally we can define the criterion for exactness and independence of\n",
    "path. This theorem states that if $f(x,y,z)$, $g(x,y,z)$ and\n",
    "$h(x,y,z)$ are continuous functions with continuous first partial derivatives in the domain $D$,\n",
    "then the line integral"
   ]
  },
  {
   "cell_type": "markdown",
   "id": "a860410a",
   "metadata": {
    "editable": true
   },
   "source": [
    "$$\n",
    "\\int_C\\left(fdx+gdy+hdz\\right),\n",
    "$$"
   ]
  },
  {
   "cell_type": "markdown",
   "id": "fdf53d42",
   "metadata": {
    "editable": true
   },
   "source": [
    "is independent of path in $D$ when"
   ]
  },
  {
   "cell_type": "markdown",
   "id": "bde5b2d0",
   "metadata": {
    "editable": true
   },
   "source": [
    "$$\n",
    "\\frac{\\partial h}{\\partial y}=\\frac{\\partial g}{\\partial z},\n",
    "$$"
   ]
  },
  {
   "cell_type": "markdown",
   "id": "acb9109d",
   "metadata": {
    "editable": true
   },
   "source": [
    "and"
   ]
  },
  {
   "cell_type": "markdown",
   "id": "e6f36ee6",
   "metadata": {
    "editable": true
   },
   "source": [
    "$$\n",
    "\\frac{\\partial f}{\\partial z}=\\frac{\\partial h}{\\partial x},\n",
    "$$"
   ]
  },
  {
   "cell_type": "markdown",
   "id": "acd54ccb",
   "metadata": {
    "editable": true
   },
   "source": [
    "and"
   ]
  },
  {
   "cell_type": "markdown",
   "id": "5b0dc174",
   "metadata": {
    "editable": true
   },
   "source": [
    "$$\n",
    "\\frac{\\partial g}{\\partial x}=\\frac{\\partial f}{\\partial y}.\n",
    "$$"
   ]
  },
  {
   "cell_type": "markdown",
   "id": "7e3ce4e1",
   "metadata": {
    "editable": true
   },
   "source": [
    "This leads to the **curl** of $\\boldsymbol{F}$ being zero"
   ]
  },
  {
   "cell_type": "markdown",
   "id": "663ddcd6",
   "metadata": {
    "editable": true
   },
   "source": [
    "$$\n",
    "\\boldsymbol{\\nabla}\\times\\boldsymbol{F}=\\boldsymbol{\\nabla}\\times\\left(-\\boldsymbol{\\nabla}V(\\boldsymbol{r})\\right)=0!\n",
    "$$"
   ]
  },
  {
   "cell_type": "markdown",
   "id": "bf617a9b",
   "metadata": {
    "editable": true
   },
   "source": [
    "## Summarizing\n",
    "\n",
    "A conservative force $\\boldsymbol{F}$ is a defined as the partial derivative of a scalar potential which depends only on the position,"
   ]
  },
  {
   "cell_type": "markdown",
   "id": "8aad415e",
   "metadata": {
    "editable": true
   },
   "source": [
    "$$\n",
    "\\boldsymbol{F}(\\boldsymbol{r})= -\\boldsymbol{\\nabla}V(\\boldsymbol{r}).\n",
    "$$"
   ]
  },
  {
   "cell_type": "markdown",
   "id": "6c573716",
   "metadata": {
    "editable": true
   },
   "source": [
    "This leads to conservation of energy and a path independent line integral as long as the curl of the force is zero, that is"
   ]
  },
  {
   "cell_type": "markdown",
   "id": "33d7d782",
   "metadata": {
    "editable": true
   },
   "source": [
    "$$\n",
    "\\boldsymbol{\\nabla}\\times\\boldsymbol{F}=\\boldsymbol{\\nabla}\\times\\left(-\\boldsymbol{\\nabla}V(\\boldsymbol{r})\\right)=0.\n",
    "$$"
   ]
  }
 ],
 "metadata": {},
 "nbformat": 4,
 "nbformat_minor": 5
}
