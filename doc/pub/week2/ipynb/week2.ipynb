{
 "cells": [
  {
   "cell_type": "markdown",
   "id": "3d703014",
   "metadata": {},
   "source": [
    "<!-- HTML file automatically generated from DocOnce source (https://github.com/doconce/doconce/)\n",
    "doconce format html week2.do.txt --no_mako -->\n",
    "<!-- dom:TITLE: PHY321: Introduction to Classical Mechanics and plans for Spring 2022 -->"
   ]
  },
  {
   "cell_type": "markdown",
   "id": "57d820cf",
   "metadata": {},
   "source": [
    "# PHY321: Introduction to Classical Mechanics and plans for Spring 2022\n",
    "**[Morten Hjorth-Jensen](http://mhjgit.github.io/info/doc/web/)**, Department of Physics and Astronomy and Facility for Rare Ion Beams (FRIB), Michigan State University, USA and Department of Physics, University of Oslo, Norway  \n",
    "**Scott Pratt**, Department of Physics and Astronomy and Facility for Rare Ion Beams (FRIB), Michigan State University, USA\n",
    "\n",
    "Date: **Jan 12, 2022**\n",
    "\n",
    "Copyright 1999-2022, [Morten Hjorth-Jensen](http://mhjgit.github.io/info/doc/web/). Released under CC Attribution-NonCommercial 4.0 license"
   ]
  },
  {
   "cell_type": "markdown",
   "id": "3b79c528",
   "metadata": {},
   "source": [
    "## Aims and Overview of week 2: January 10-14\n",
    "\n",
    "The first week starts on Monday January 10. This week is dedicated to a\n",
    "review of learning material and reminder on programming aspects,\n",
    "useful tools, where to find information and much more. \n",
    "\n",
    "* Introduction to the course and reminder  on vectors, space, time and motion.\n",
    "\n",
    "* Python programming reminder, elements from [CMSE 201 INTRODUCTION TO COMPUTATIONAL MODELING](https://cmse.msu.edu/academics/undergraduate-program/undergraduate-courses/cmse-201-introduction-to-computational-modeling/) and how they are used in this course. Installing software (anaconda). . \n",
    "\n",
    "* Introduction to Git and GitHub. [Overview video on Git and GitHub](https://mediaspace.msu.edu/media/t/1_8mgx3cyf).\n",
    "\n",
    "**Recommended reading**: John R. Taylor, Classical Mechanics (Univ. Sci. Books 2005), <https://www.uscibooks.com/taylor2.htm>, see also <https://github.com/mhjensen/Physics321/tree/master/doc/Literature>. Chapters 1.2 and 1.3 of Taylor."
   ]
  },
  {
   "cell_type": "markdown",
   "id": "e97fc364",
   "metadata": {},
   "source": [
    "## Classical mechanics\n",
    "\n",
    "Classical mechanics is a topic which has been taught intensively over\n",
    "several centuries. It is, with its many variants and ways of\n",
    "presenting the educational material, normally the first **real** physics\n",
    "course many of us meet and it lays the foundation for further physics\n",
    "studies. Many of the equations and ways of reasoning about the\n",
    "underlying laws of motion and pertinent forces, shape our approaches and understanding\n",
    "of the scientific method and discourse, as well as the way we develop our insights\n",
    "and deeper understanding about physical systems."
   ]
  },
  {
   "cell_type": "markdown",
   "id": "f70152cc",
   "metadata": {},
   "source": [
    "## From Continuous to Discretized Approaches\n",
    "\n",
    "There is a wealth of\n",
    "well-tested (from both a physics point of view and a pedagogical\n",
    "standpoint) exercises and problems which can be solved\n",
    "analytically. However, many of these problems represent idealized and\n",
    "less realistic situations.  The large majority of these problems are\n",
    "solved by paper and pencil and are traditionally aimed\n",
    "at what we normally refer to as continuous models from which we may find an analytical solution.  As a consequence,\n",
    "when teaching mechanics, it implies that we can seldomly venture beyond an idealized case\n",
    "in order to develop our understandings and insights about the\n",
    "underlying forces and laws of motion.\n",
    "\n",
    "We aim at changing this here by introducing throughout the course what\n",
    "we will call a **computational path**, where with computations we mean\n",
    "solving scientific problems with all possible tools and means, from\n",
    "plain paper an pencil exercises, via symbolic calculations to writing\n",
    "a code and running a program to solve a specific\n",
    "problem. Mathematically this normally means that we move from a\n",
    "continuous problem to a discretized one. This appproach enables us to\n",
    "solve a much broader class of problems.\n",
    "In mechanics this means, since we often rephrase the physical problems in terms of differential equations, that we can in most settings reuse the same program with some minimal changes."
   ]
  },
  {
   "cell_type": "markdown",
   "id": "e7507698",
   "metadata": {},
   "source": [
    "## Space, Time, Motion, Reference Frames  and Reminder on vectors and other mathematical quantities\n",
    "\n",
    "Our studies will start with the motion of different types of objects\n",
    "such as a falling ball, a runner, a bicycle etc etc. It means that an\n",
    "object's position in space varies with time.\n",
    "In order to study such systems we need to define\n",
    "\n",
    "* choice of origin\n",
    "\n",
    "* choice of the direction of the axes\n",
    "\n",
    "* choice of positive direction (left-handed or right-handed system of reference)\n",
    "\n",
    "* choice of units and dimensions\n",
    "\n",
    "These choices lead to some important questions such as\n",
    "\n",
    "* is the  physics of a system independent of the origin of the axes?\n",
    "\n",
    "* is the  physics independent of the directions of the axes, that is are there privileged axes?\n",
    "\n",
    "* is the physics independent of the orientation of system?\n",
    "\n",
    "* is the physics independent of the scale of the length?"
   ]
  },
  {
   "cell_type": "markdown",
   "id": "5d7debb1",
   "metadata": {},
   "source": [
    "## Dimension, units and labels\n",
    "\n",
    "Throughout this course we will use the standardized SI units. The standard unit for length is thus one meter 1m, for mass\n",
    "one kilogram 1kg, for time one second 1s, for force one Newton 1kgm/s$^2$ and for energy 1 Joule 1kgm$^2$s$^{-2}$.\n",
    "\n",
    "We will use the following notations for various variables (vectors are always boldfaced in these lecture notes):\n",
    "* position $\\boldsymbol{r}$, in one dimention we will normally just use $x$,\n",
    "\n",
    "* mass $m$,\n",
    "\n",
    "* time $t$,\n",
    "\n",
    "* velocity $\\boldsymbol{v}$ or just $v$ in one dimension,\n",
    "\n",
    "* acceleration $\\boldsymbol{a}$ or just $a$ in one dimension,\n",
    "\n",
    "* momentum $\\boldsymbol{p}$ or just $p$ in one dimension,\n",
    "\n",
    "* kinetic energy $K$,\n",
    "\n",
    "* potential energy $V$ and\n",
    "\n",
    "* frequency $\\omega$.\n",
    "\n",
    "More variables will be defined as we need them."
   ]
  },
  {
   "cell_type": "markdown",
   "id": "72e61500",
   "metadata": {},
   "source": [
    "## Dimensions and Units\n",
    "\n",
    "It is also important to keep track of dimensionalities. Don't mix this\n",
    "up with a chosen unit for a given variable. We mark the dimensionality\n",
    "in these lectures as $[a]$, where $a$ is the quantity we are\n",
    "interested in. Thus\n",
    "\n",
    "* $[\\boldsymbol{r}]=$ length\n",
    "\n",
    "* $[m]=$ mass\n",
    "\n",
    "* $[K]=$ energy\n",
    "\n",
    "* $[t]=$ time\n",
    "\n",
    "* $[\\boldsymbol{v}]=$ length over time\n",
    "\n",
    "* $[\\boldsymbol{a}]=$ length over time squared\n",
    "\n",
    "* $[\\boldsymbol{p}]=$ mass times length over time\n",
    "\n",
    "* $[\\omega]=$ 1/time"
   ]
  },
  {
   "cell_type": "markdown",
   "id": "53b0b5af",
   "metadata": {},
   "source": [
    "## Scalars, Vectors and Matrices\n",
    "\n",
    "A scalar is something with a value that is independent of coordinate\n",
    "system. Examples are mass, or the relative time between events. A\n",
    "vector has magnitude and direction. Under rotation, the magnitude\n",
    "stays the same but the direction changes. Scalars have no spatial\n",
    "index, whereas a three-dimensional vector has 3 indices, e.g. the\n",
    "position $\\boldsymbol{r}$ has components $r_1,r_2,r_3$, which are often\n",
    "referred to as $x,y,z$.\n",
    "\n",
    "There are several categories of changes of coordinate system. The\n",
    "observer can translate the origin, might move with a different\n",
    "velocity, or might rotate her/his coordinate axes. For instance, a\n",
    "particle's position vector changes when the origin is translated, but\n",
    "its velocity does not. When you study relativity you will find that\n",
    "quantities you thought of as scalars, such as time or an electric\n",
    "potential, are actually parts of four-dimensional vectors and that\n",
    "changes of the velocity of the reference frame act in a similar way to\n",
    "rotations.\n",
    "\n",
    "In addition to vectors and scalars, there are matrices, which have two\n",
    "indices. One also has objects with 3 or four indices. These are called\n",
    "tensors of rank $n$, where $n$ is the number of indices. A matrix is a\n",
    "rank-two tensor. The Levi-Civita symbol, $\\epsilon_{ijk}$ used for\n",
    "cross products of vectors, is a tensor of rank three."
   ]
  },
  {
   "cell_type": "markdown",
   "id": "25ba40f1",
   "metadata": {},
   "source": [
    "## Definitions  of Vectors\n",
    "\n",
    "In these lectures we will use boldfaced lower-case letters to label a\n",
    "vector. A vector $\\boldsymbol{a}$ in three dimensions is thus defined as"
   ]
  },
  {
   "cell_type": "markdown",
   "id": "22d34057",
   "metadata": {},
   "source": [
    "$$\n",
    "\\boldsymbol{a} =(a_x,a_y, a_z),\n",
    "$$"
   ]
  },
  {
   "cell_type": "markdown",
   "id": "b8c24fa6",
   "metadata": {},
   "source": [
    "and using the unit vectors (see below) in a cartesian system we have"
   ]
  },
  {
   "cell_type": "markdown",
   "id": "38c6524a",
   "metadata": {},
   "source": [
    "$$\n",
    "\\boldsymbol{a} = a_x\\boldsymbol{e}_1+a_y\\boldsymbol{e}_2+a_z\\boldsymbol{e}_3,\n",
    "$$"
   ]
  },
  {
   "cell_type": "markdown",
   "id": "db79a91f",
   "metadata": {},
   "source": [
    "where the unit vectors have magnitude $\\vert\\boldsymbol{e}_i\\vert = 1$ with\n",
    "$i=1=x$, $i=2=y$ and $i=3=z$. Some authors use letters\n",
    "$\\boldsymbol{i}=\\boldsymbol{e}_1$, $\\boldsymbol{j}=\\boldsymbol{e}_2$ and $\\boldsymbol{k}=\\boldsymbol{e}_3$."
   ]
  },
  {
   "cell_type": "markdown",
   "id": "f2ca636a",
   "metadata": {},
   "source": [
    "## Other ways to define a Vector\n",
    "\n",
    "Alternatively, you may also encounter the above vector as"
   ]
  },
  {
   "cell_type": "markdown",
   "id": "adf72cdc",
   "metadata": {},
   "source": [
    "$$\n",
    "\\boldsymbol{a} = a_1\\boldsymbol{e}_1+a_2\\boldsymbol{e}_2+a_3\\boldsymbol{e}_3.\n",
    "$$"
   ]
  },
  {
   "cell_type": "markdown",
   "id": "6b02b336",
   "metadata": {},
   "source": [
    "Here we have used that $a_1=a_x$, $a_2=a_y$ and $a_3=a_z$. Such a\n",
    "notation is sometimes more convenient if we wish to represent vector\n",
    "operations in a mathematically more compact way, see below here. We may also find this useful if  we want the different\n",
    "components to represent other coordinate systems that the Cartesian one. A typical example would be going from a Cartesian representation to a spherical basis. We will encounter such cases many times in this course. \n",
    "\n",
    "We use lower-case letters for vectors and upper-case letters for matrices. Vectors and matrices are always boldfaced."
   ]
  },
  {
   "cell_type": "markdown",
   "id": "ae4de1cf",
   "metadata": {},
   "source": [
    "## Polar Coordinates\n",
    "\n",
    "As an example, consider a two-dimensional Cartesian system with a vector $\\boldsymbol{r}=(x,y)$.\n",
    "Our vector is then written as"
   ]
  },
  {
   "cell_type": "markdown",
   "id": "48874175",
   "metadata": {},
   "source": [
    "$$\n",
    "\\boldsymbol{r} = x\\boldsymbol{e}_1+y\\boldsymbol{e}_2.\n",
    "$$"
   ]
  },
  {
   "cell_type": "markdown",
   "id": "8cb3a76b",
   "metadata": {},
   "source": [
    "Transforming to polar coordinates with the radius $\\rho\\in [0,\\infty)$\n",
    "and the angle $\\phi \\in [0,2\\pi]$ we have the familiar transformations"
   ]
  },
  {
   "cell_type": "markdown",
   "id": "73db71d5",
   "metadata": {},
   "source": [
    "$$\n",
    "x = \\rho \\cos{\\phi} \\hspace{0.5cm}   y = \\rho \\sin{\\phi},\n",
    "$$"
   ]
  },
  {
   "cell_type": "markdown",
   "id": "9a71e05e",
   "metadata": {},
   "source": [
    "and the inverse relations"
   ]
  },
  {
   "cell_type": "markdown",
   "id": "1f20b2a7",
   "metadata": {},
   "source": [
    "$$\n",
    "\\rho =\\sqrt{x^2+y^2} \\hspace{0.5cm}   \\phi = \\mathrm{arctan}(\\frac{y}{x}).\n",
    "$$"
   ]
  },
  {
   "cell_type": "markdown",
   "id": "a847c4d8",
   "metadata": {},
   "source": [
    "We can rewrite the vector $\\boldsymbol{a}$ in terms of $\\rho$ and $\\phi$ as"
   ]
  },
  {
   "cell_type": "markdown",
   "id": "2436fb30",
   "metadata": {},
   "source": [
    "$$\n",
    "\\boldsymbol{a} = \\rho \\cos{\\phi}\\boldsymbol{e}_1+\\rho \\sin{\\phi}\\boldsymbol{e}_2,\n",
    "$$"
   ]
  },
  {
   "cell_type": "markdown",
   "id": "caef902a",
   "metadata": {},
   "source": [
    "and we define the new unit vectors as $\\boldsymbol{e}'_1=\\cos{\\phi}\\boldsymbol{e}_1$ and $\\boldsymbol{e}'_2=\\sin{\\phi}\\boldsymbol{e}_2$, we have"
   ]
  },
  {
   "cell_type": "markdown",
   "id": "7cbde6c6",
   "metadata": {},
   "source": [
    "$$\n",
    "\\boldsymbol{a}' = \\rho\\boldsymbol{e}'_1+\\rho \\boldsymbol{e}'_2.\n",
    "$$"
   ]
  },
  {
   "cell_type": "markdown",
   "id": "6560655e",
   "metadata": {},
   "source": [
    "Below we will show that the norms of this vector in a Cartesian basis and a Polar basis are equal."
   ]
  },
  {
   "cell_type": "markdown",
   "id": "c1d3370e",
   "metadata": {},
   "source": [
    "## Unit Vectors\n",
    "\n",
    "Also known as basis vectors, unit vectors point in the direction of\n",
    "the coordinate axes, have unit norm, and are orthogonal to one\n",
    "another. Sometimes this is referred to as an orthonormal basis,"
   ]
  },
  {
   "cell_type": "markdown",
   "id": "26e97a52",
   "metadata": {},
   "source": [
    "<!-- Equation labels as ordinary links -->\n",
    "<div id=\"_auto1\"></div>\n",
    "\n",
    "$$\n",
    "\\begin{equation}\n",
    "\\boldsymbol{e}_i\\cdot\\boldsymbol{e}_j=\\delta_{ij}=\\begin{bmatrix}\n",
    "1 & 0 & 0\\\\\n",
    "0& 1 & 0\\\\\n",
    "0 & 0 & 1\n",
    "\\end{bmatrix}.\n",
    "\\label{_auto1} \\tag{1}\n",
    "\\end{equation}\n",
    "$$"
   ]
  },
  {
   "cell_type": "markdown",
   "id": "5736cc36",
   "metadata": {},
   "source": [
    "Here, $\\delta_{ij}$ is unity when $i=j$ and is zero otherwise. This is\n",
    "called the unit matrix, because you can multiply it with any other\n",
    "matrix and not change the matrix. The **dot** denotes the dot product,\n",
    "$\\boldsymbol{a}\\cdot\\boldsymbol{b}=a_1b_1+a_2b_2+a_3b_3=|a||b|\\cos\\theta_{ab}$. Sometimes\n",
    "the unit vectors are called $\\hat{x}$, $\\hat{y}$ and\n",
    "$\\hat{z}$."
   ]
  },
  {
   "cell_type": "markdown",
   "id": "7639782c",
   "metadata": {},
   "source": [
    "## Our definition of unit vectors\n",
    "\n",
    "Vectors can be decomposed in terms of unit vectors,"
   ]
  },
  {
   "cell_type": "markdown",
   "id": "2b0de7bd",
   "metadata": {},
   "source": [
    "<!-- Equation labels as ordinary links -->\n",
    "<div id=\"_auto2\"></div>\n",
    "\n",
    "$$\n",
    "\\begin{equation}\n",
    "\\boldsymbol{r}=r_1\\hat{e}_1+r_2\\hat{e}_2+r_3\\hat{e}_3.\n",
    "\\label{_auto2} \\tag{2}\n",
    "\\end{equation}\n",
    "$$"
   ]
  },
  {
   "cell_type": "markdown",
   "id": "19ed4b45",
   "metadata": {},
   "source": [
    "The vector components $r_1$, $r_2$ and $r_3$ might be\n",
    "called $x$, $y$ and $z$ for a displacement. Another way to write this is to define the vector $\\boldsymbol{r}=(x,y,z)$.\n",
    "\n",
    "Similarly, for the velocity we will use in this course the components  $\\boldsymbol{v}=(v_x, v_y,v_z$. The accelaration is then given by $\\boldsymbol{a}=(a_x,a_y,a_z)$."
   ]
  },
  {
   "cell_type": "markdown",
   "id": "8cf8a8b2",
   "metadata": {},
   "source": [
    "## More definitions, repeated indices\n",
    "\n",
    "As mentioned above, repeated indices infer sums.\n",
    "This means that when you encounter an expression like the one on the left-hand side here, it stands actually for a sum (right-hand side)"
   ]
  },
  {
   "cell_type": "markdown",
   "id": "b2321c23",
   "metadata": {},
   "source": [
    "$$\n",
    "x_iy_i=\\sum_i x_iy_i=\\boldsymbol{x}\\cdot\\boldsymbol{y}.\n",
    "$$"
   ]
  },
  {
   "cell_type": "markdown",
   "id": "ab0ee04a",
   "metadata": {},
   "source": [
    "We will in our lectures seldom use this notation and rather spell out the summations.  This inferred summation over indices is normally called [Einstein summation convention](https://en.wikipedia.org/wiki/Einstein_notation)."
   ]
  },
  {
   "cell_type": "markdown",
   "id": "4d3e85bb",
   "metadata": {},
   "source": [
    "## Vector Operations, Scalar Product (or dot product)\n",
    "\n",
    "For two vectors $\\boldsymbol{a}$ and $\\boldsymbol{b}$ we have"
   ]
  },
  {
   "cell_type": "markdown",
   "id": "3d1b4996",
   "metadata": {},
   "source": [
    "$$\n",
    "\\begin{eqnarray*}\n",
    "\\boldsymbol{a}\\cdot\\boldsymbol{b}&=&\\sum_ia_ib_i=|a||b|\\cos\\theta_{ab},\\\\\n",
    "|a|&\\equiv& \\sqrt{\\boldsymbol{a}\\cdot\\boldsymbol{a}},\n",
    "\\end{eqnarray*}\n",
    "$$"
   ]
  },
  {
   "cell_type": "markdown",
   "id": "f6d0d812",
   "metadata": {},
   "source": [
    "or with a norm-2 notation"
   ]
  },
  {
   "cell_type": "markdown",
   "id": "6b39ffd5",
   "metadata": {},
   "source": [
    "$$\n",
    "|a|\\equiv \\vert\\vert \\boldsymbol{a}\\vert\\vert_2=\\sqrt{\\sum_i a_i^2}.\n",
    "$$"
   ]
  },
  {
   "cell_type": "markdown",
   "id": "5dd51cb5",
   "metadata": {},
   "source": [
    "Not of all of you are familiar with linear algebra. Numerically we will always deal with arrays and the dot product vector is given by the product of the transposed vector multiplied with the other vector, that is we have"
   ]
  },
  {
   "cell_type": "markdown",
   "id": "8509af5b",
   "metadata": {},
   "source": [
    "$$\n",
    "\\boldsymbol{a}^T\\boldsymbol{b}=\\sum_i a_ib_i=|a||b|\\cos\\theta_{ab}.\n",
    "$$"
   ]
  },
  {
   "cell_type": "markdown",
   "id": "ac7e8a63",
   "metadata": {},
   "source": [
    "The superscript $T$ represents the transposition operations."
   ]
  },
  {
   "cell_type": "markdown",
   "id": "74c88538",
   "metadata": {},
   "source": [
    "## Digression, Linear Algebra Notation for Vectors\n",
    "\n",
    "As an example, consider a three-dimensional velocity defined by a vector $\\boldsymbol{v}=(v_x,v_y,v_z)$. For those of you familiar with linear algebra, we would write this quantity as"
   ]
  },
  {
   "cell_type": "markdown",
   "id": "07e88e37",
   "metadata": {},
   "source": [
    "$$\n",
    "\\boldsymbol{v}=\\begin{bmatrix} v_x\\\\ v_y \\\\ v_z \\end{bmatrix},\n",
    "$$"
   ]
  },
  {
   "cell_type": "markdown",
   "id": "d62a2406",
   "metadata": {},
   "source": [
    "and the transpose as"
   ]
  },
  {
   "cell_type": "markdown",
   "id": "fd738246",
   "metadata": {},
   "source": [
    "$$\n",
    "\\boldsymbol{v}^T=\\begin{bmatrix} v_x & v_y &v_z \\end{bmatrix}.\n",
    "$$"
   ]
  },
  {
   "cell_type": "markdown",
   "id": "a2a7eed7",
   "metadata": {},
   "source": [
    "The norm is"
   ]
  },
  {
   "cell_type": "markdown",
   "id": "67da1a5d",
   "metadata": {},
   "source": [
    "$$\n",
    "\\boldsymbol{v}^T\\boldsymbol{v}=v_x^2+v_y^2+v_z^2,\n",
    "$$"
   ]
  },
  {
   "cell_type": "markdown",
   "id": "4d810c6d",
   "metadata": {},
   "source": [
    "as it should.\n",
    "\n",
    "Since we will use Python as a programming language throughout this course, the above vector, using the package **numpy** (see discussions below), can be written as"
   ]
  },
  {
   "cell_type": "code",
   "execution_count": 1,
   "id": "59720d29",
   "metadata": {},
   "outputs": [],
   "source": [
    "import numpy as np\n",
    "# Define the values of vx, vy and vz\n",
    "vx = 0.0\n",
    "vy = 1.0\n",
    "vz = 0.0\n",
    "v = np.array([vx, vy, vz])\n",
    "print(v)\n",
    "# The print the transpose of v\n",
    "print(v.T)"
   ]
  },
  {
   "cell_type": "markdown",
   "id": "a44c916e",
   "metadata": {},
   "source": [
    "Try to figure out how to calculate the norm with **numpy**.\n",
    "We will come back to **numpy** in the examples below."
   ]
  },
  {
   "cell_type": "markdown",
   "id": "ec4c41f4",
   "metadata": {},
   "source": [
    "## Norm of a transformed Vector\n",
    "\n",
    "As an example, consider our transformation of a two-dimensional Cartesian vector $\\boldsymbol{r}$ to polar coordinates.\n",
    "We had"
   ]
  },
  {
   "cell_type": "markdown",
   "id": "d2c7ed3b",
   "metadata": {},
   "source": [
    "$$\n",
    "\\boldsymbol{r} = x\\boldsymbol{e}_1+y\\boldsymbol{e}_2.\n",
    "$$"
   ]
  },
  {
   "cell_type": "markdown",
   "id": "71a62864",
   "metadata": {},
   "source": [
    "Transforming to polar coordinates with the radius $\\rho\\in [0,\\infty)$\n",
    "and the angle $\\phi \\in [0,2\\pi]$ we have"
   ]
  },
  {
   "cell_type": "markdown",
   "id": "665a6404",
   "metadata": {},
   "source": [
    "$$\n",
    "x = \\rho \\cos{\\phi} \\hspace{0.5cm}   y = \\rho \\sin{\\phi}.\n",
    "$$"
   ]
  },
  {
   "cell_type": "markdown",
   "id": "8c5e2482",
   "metadata": {},
   "source": [
    "We can write this"
   ]
  },
  {
   "cell_type": "markdown",
   "id": "adc0507f",
   "metadata": {},
   "source": [
    "$$\n",
    "\\boldsymbol{r} = \\begin{bmatrix} x \\\\ y \\end{bmatrix}= \\begin{bmatrix} \\rho \\cos{\\phi}  \\\\ \\rho \\sin{\\phi}  \\end{bmatrix}.\n",
    "$$"
   ]
  },
  {
   "cell_type": "markdown",
   "id": "90f7f8e1",
   "metadata": {},
   "source": [
    "The norm in Cartesian coordinates is $\\boldsymbol{r}\\cdot\\boldsymbol{r}=x^2+y^2$ and\n",
    "using Polar coordinates we have\n",
    "$\\rho^2(\\cos{\\phi})^2+\\rho^2(\\cos{\\phi})^2=\\rho^2$, which shows that\n",
    "the norm is conserved since we have $\\rho = \\sqrt{x^2+y^2}$. A\n",
    "transformation to a new basis should not change the norm."
   ]
  },
  {
   "cell_type": "markdown",
   "id": "4f614c4d",
   "metadata": {},
   "source": [
    "## Vector Product (or cross product) of vectors $\\boldsymbol{a}$ and $\\boldsymbol{b}$"
   ]
  },
  {
   "cell_type": "markdown",
   "id": "48e0a839",
   "metadata": {},
   "source": [
    "$$\n",
    "\\begin{eqnarray*}\n",
    "\\boldsymbol{c}&=&\\boldsymbol{a}\\times\\boldsymbol{b},\\\\\n",
    "c_i&=&\\epsilon_{ijk}a_jb_k.\n",
    "\\end{eqnarray*}\n",
    "$$"
   ]
  },
  {
   "cell_type": "markdown",
   "id": "e18ff189",
   "metadata": {},
   "source": [
    "Here $\\epsilon$ is the third-rank anti-symmetric tensor, also known as\n",
    "the Levi-Civita symbol. It is $\\pm 1$ only if all three indices are\n",
    "different, and is zero otherwise. The choice of $\\pm 1$ depends on\n",
    "whether the indices are an even or odd permutation of the original\n",
    "symbols. The permutation $xyz$ or $123$ is considered to be $+1$. Its elements are"
   ]
  },
  {
   "cell_type": "markdown",
   "id": "ee760e8a",
   "metadata": {},
   "source": [
    "$$\n",
    "\\begin{eqnarray}\n",
    "\\epsilon_{ijk}&=&-\\epsilon_{ikj}=-\\epsilon_{jik}=-\\epsilon_{kji}\\\\\n",
    "\\nonumber\n",
    "\\epsilon_{123}&=&\\epsilon_{231}=\\epsilon_{312}=1,\\\\\n",
    "\\nonumber\n",
    "\\epsilon_{213}&=&\\epsilon_{132}=\\epsilon_{321}=-1,\\\\\n",
    "\\nonumber\n",
    "\\epsilon_{iij}&=&\\epsilon_{iji}=\\epsilon_{jii}=0.\n",
    "\\end{eqnarray}\n",
    "$$"
   ]
  },
  {
   "cell_type": "markdown",
   "id": "826f536b",
   "metadata": {},
   "source": [
    "## More on cross-products\n",
    "\n",
    "You may have met cross-products when studying magnetic\n",
    "fields. Because the matrix is anti-symmetric, switching the $x$ and\n",
    "$y$ axes (or any two axes) flips the sign. If the coordinate system is\n",
    "right-handed, meaning the $xyz$ axes satisfy\n",
    "$\\hat{x}\\times\\hat{y}=\\hat{z}$, where you can point along the $x$ axis\n",
    "with your extended right index finger, the $y$ axis with your\n",
    "contracted middle finger and the $z$ axis with your extended\n",
    "thumb. Switching to a left-handed system flips the sign of the vector\n",
    "$\\boldsymbol{c}=\\boldsymbol{a}\\times\\boldsymbol{b}$.\n",
    "\n",
    "Note that\n",
    "$\\boldsymbol{a}\\times\\boldsymbol{b}=-\\boldsymbol{b}\\times\\boldsymbol{a}$. The vector $\\boldsymbol{c}$ is\n",
    "perpendicular to both $\\boldsymbol{a}$ and $\\boldsymbol{b}$ and the magnitude of\n",
    "$\\boldsymbol{c}$ is given by"
   ]
  },
  {
   "cell_type": "markdown",
   "id": "7dd933dd",
   "metadata": {},
   "source": [
    "$$\n",
    "|c|=|a||b|\\sin{\\theta_{ab}}.\n",
    "$$"
   ]
  },
  {
   "cell_type": "markdown",
   "id": "a5438996",
   "metadata": {},
   "source": [
    "## Pseudo-vectors\n",
    "\n",
    "Vectors obtained by the cross product of two real vectors are called\n",
    "pseudo-vectors because the assignment of their direction can be\n",
    "arbitrarily flipped by defining the Levi-Civita symbol to be based on\n",
    "left-handed rules. Examples are the magnetic field and angular\n",
    "momentum. If the direction of a real vector prefers the right-handed\n",
    "over the left-handed direction, that constitutes a violation of\n",
    "parity. For instance, one can polarize the spins (angular momentum) of\n",
    "nuclei with a magnetic field so that the spins preferentially point\n",
    "along the direction of the magnetic field. This does not violate\n",
    "parity because both are pseudo-vectors. Now assume these polarized\n",
    "nuclei decay and that electrons are one of the products. If these\n",
    "electrons prefer to exit the decay parallel vs. antiparallel to the\n",
    "polarizing magnetic field, this constitutes parity violation because\n",
    "the direction of the outgoing electron momenta are a real vector. This\n",
    "is precisely what is observed in weak decays."
   ]
  },
  {
   "cell_type": "markdown",
   "id": "2d98a9d5",
   "metadata": {},
   "source": [
    "## Differentiation of a vector with respect to a scalar\n",
    "\n",
    "For example, the\n",
    "acceleration $\\boldsymbol{a}$ is given by the change in velocity per unit time, $\\boldsymbol{a}=d\\boldsymbol{v}/dt$\n",
    "with components"
   ]
  },
  {
   "cell_type": "markdown",
   "id": "a666235e",
   "metadata": {},
   "source": [
    "$$\n",
    "a_i = (d\\boldsymbol{v}/dt)_i=\\frac{dv_i}{dt}.\n",
    "$$"
   ]
  },
  {
   "cell_type": "markdown",
   "id": "79580958",
   "metadata": {},
   "source": [
    "Here $i=x,y,z$ or $i=1,2,3$ if we are in three dimensions."
   ]
  },
  {
   "cell_type": "markdown",
   "id": "d6482dca",
   "metadata": {},
   "source": [
    "## Gradient operator $\\nabla$\n",
    "\n",
    "This represents  the derivatives $\\partial/\\partial\n",
    "x$, $\\partial/\\partial y$ and $\\partial/\\partial z$. An often used shorthand is  $\\partial_x=\\partial/\\partial_x$.\n",
    "\n",
    "The gradient of a scalar function of position and time\n",
    "$\\Phi(x,y,z)=\\Phi(\\boldsymbol{r},t)$ is given by"
   ]
  },
  {
   "cell_type": "markdown",
   "id": "bb9af967",
   "metadata": {},
   "source": [
    "$$\n",
    "\\boldsymbol{\\nabla}~\\Phi,\n",
    "$$"
   ]
  },
  {
   "cell_type": "markdown",
   "id": "6718c51e",
   "metadata": {},
   "source": [
    "with components $i$"
   ]
  },
  {
   "cell_type": "markdown",
   "id": "501b9859",
   "metadata": {},
   "source": [
    "$$\n",
    "(\\nabla\\Phi(x,y,z,t))_i=\\partial/\\partial r_i\\Phi(\\boldsymbol{r},t)=\\partial_i\\Phi(\\boldsymbol{r},t).\n",
    "$$"
   ]
  },
  {
   "cell_type": "markdown",
   "id": "f7f226f6",
   "metadata": {},
   "source": [
    "Note that the gradient is a vector.\n",
    "\n",
    "Taking the dot product of the gradient with a vector, normally called the divergence,\n",
    "we have"
   ]
  },
  {
   "cell_type": "markdown",
   "id": "1758a326",
   "metadata": {},
   "source": [
    "$$\n",
    "\\mathrm{div} \\boldsymbol{a}, \\nabla\\cdot\\boldsymbol{a}=\\sum_i \\partial_i a_i.\n",
    "$$"
   ]
  },
  {
   "cell_type": "markdown",
   "id": "648b0c3a",
   "metadata": {},
   "source": [
    "Note that the divergence is a scalar."
   ]
  },
  {
   "cell_type": "markdown",
   "id": "f0ff1bb9",
   "metadata": {},
   "source": [
    "## The curl\n",
    "\n",
    "The **curl** of a vector is defined as\n",
    "$\\nabla\\times\\boldsymbol{a}$,"
   ]
  },
  {
   "cell_type": "markdown",
   "id": "427fc9ca",
   "metadata": {},
   "source": [
    "$$\n",
    "{\\rm\\bf curl}~\\boldsymbol{a},\n",
    "$$"
   ]
  },
  {
   "cell_type": "markdown",
   "id": "b1bf8842",
   "metadata": {},
   "source": [
    "with components"
   ]
  },
  {
   "cell_type": "markdown",
   "id": "3c8d86b8",
   "metadata": {},
   "source": [
    "$$\n",
    "(\\boldsymbol{\\nabla}\\times\\boldsymbol{a})_i=\\epsilon_{ijk}\\partial_j a_k(\\boldsymbol{r},t).\n",
    "$$"
   ]
  },
  {
   "cell_type": "markdown",
   "id": "57972ef7",
   "metadata": {},
   "source": [
    "## The Laplacian\n",
    "\n",
    "The Laplacian is referred to as $\\nabla^2$ and is defined as"
   ]
  },
  {
   "cell_type": "markdown",
   "id": "24e3de10",
   "metadata": {},
   "source": [
    "$$\n",
    "\\boldsymbol{\\nabla}^2=\\boldsymbol{\\nabla}\\cdot\\boldsymbol{\\nabla}=\\frac{\\partial^2}{\\partial x^2}+\\frac{\\partial^2}{\\partial y^2}+\\frac{\\partial^2}{\\partial z^2}.\n",
    "$$"
   ]
  },
  {
   "cell_type": "markdown",
   "id": "f764f5ac",
   "metadata": {},
   "source": [
    "Question: is the Laplacian a scalar or a vector?"
   ]
  },
  {
   "cell_type": "markdown",
   "id": "80cad063",
   "metadata": {},
   "source": [
    "## Some identities\n",
    "\n",
    "Here we simply state these, but you may wish to prove a few. They are useful for this class and will be essential when you study electromagnetism."
   ]
  },
  {
   "cell_type": "markdown",
   "id": "1c7041af",
   "metadata": {},
   "source": [
    "$$\n",
    "\\begin{eqnarray}\n",
    "\\boldsymbol{a}\\cdot(\\boldsymbol{b}\\times\\boldsymbol{c})&=&\\boldsymbol{b}\\cdot(\\boldsymbol{c}\\times\\boldsymbol{a})=\\boldsymbol{c}\\cdot(\\boldsymbol{a}\\times\\boldsymbol{b})\\\\\n",
    "\\nonumber\n",
    "\\boldsymbol{a}\\times(\\boldsymbol{b}\\times\\boldsymbol{c})&=&(\\boldsymbol{a}\\cdot\\boldsymbol{c})\\boldsymbol{b}-(\\boldsymbol{a}\\cdot\\boldsymbol{b})\\boldsymbol{c}\\\\\n",
    "\\nonumber\n",
    "(\\boldsymbol{a}\\times\\boldsymbol{b})\\cdot(\\boldsymbol{c}\\times\\boldsymbol{d})&=&(\\boldsymbol{a}\\cdot\\boldsymbol{c})(\\boldsymbol{b}\\cdot\\boldsymbol{d})\n",
    "-(\\boldsymbol{a}\\cdot\\boldsymbol{d})(\\boldsymbol{b}\\cdot\\boldsymbol{c})\n",
    "\\end{eqnarray}\n",
    "$$"
   ]
  },
  {
   "cell_type": "markdown",
   "id": "7dadaaf9",
   "metadata": {},
   "source": [
    "## More useful relations\n",
    "\n",
    "Using the fact that multiplication of reals is distributive we can show that"
   ]
  },
  {
   "cell_type": "markdown",
   "id": "f522097b",
   "metadata": {},
   "source": [
    "$$\n",
    "\\boldsymbol{a}(\\boldsymbol{b}+\\boldsymbol{c})=\\boldsymbol{a}\\boldsymbol{b}+\\boldsymbol{a}\\boldsymbol{c},\n",
    "$$"
   ]
  },
  {
   "cell_type": "markdown",
   "id": "d3f69797",
   "metadata": {},
   "source": [
    "Similarly we can also show that (using product rule for differentiating reals)"
   ]
  },
  {
   "cell_type": "markdown",
   "id": "a16a39a7",
   "metadata": {},
   "source": [
    "$$\n",
    "\\frac{d}{dt}(\\boldsymbol{a}\\boldsymbol{b})=\\boldsymbol{a}\\frac{d\\boldsymbol{b}}{dt}+\\boldsymbol{b}\\frac{d\\boldsymbol{a}}{dt}.\n",
    "$$"
   ]
  },
  {
   "cell_type": "markdown",
   "id": "00e2540f",
   "metadata": {},
   "source": [
    "We can repeat these operations for the cross products and show that they are distribuitive"
   ]
  },
  {
   "cell_type": "markdown",
   "id": "bdcbf024",
   "metadata": {},
   "source": [
    "$$\n",
    "\\boldsymbol{a}\\times(\\boldsymbol{b}+\\boldsymbol{c})=\\boldsymbol{a}\\times\\boldsymbol{b}+\\boldsymbol{a}\\times\\boldsymbol{c}.\n",
    "$$"
   ]
  },
  {
   "cell_type": "markdown",
   "id": "822917e1",
   "metadata": {},
   "source": [
    "We have also that"
   ]
  },
  {
   "cell_type": "markdown",
   "id": "945c45d8",
   "metadata": {},
   "source": [
    "$$\n",
    "\\frac{d}{dt}(\\boldsymbol{a}\\times\\boldsymbol{b})=\\boldsymbol{a}\\times\\frac{d\\boldsymbol{b}}{dt}+\\boldsymbol{b}\\times\\frac{d\\boldsymbol{a}}{dt}.\n",
    "$$"
   ]
  },
  {
   "cell_type": "markdown",
   "id": "145e888a",
   "metadata": {},
   "source": [
    "## Gauss's Theorem\n",
    "\n",
    "For an integral over a volume $V$ confined by a surface $S$, Gauss's theorem gives"
   ]
  },
  {
   "cell_type": "markdown",
   "id": "a77d2b1c",
   "metadata": {},
   "source": [
    "$$\n",
    "\\int_V dv~\\nabla\\cdot\\boldsymbol{A}=\\int_Sd\\boldsymbol{S}\\cdot\\boldsymbol{A}.\n",
    "$$"
   ]
  },
  {
   "cell_type": "markdown",
   "id": "789a62bb",
   "metadata": {},
   "source": [
    "For a closed path $C$ which carves out some area $S$,"
   ]
  },
  {
   "cell_type": "markdown",
   "id": "e5ccd546",
   "metadata": {},
   "source": [
    "$$\n",
    "\\int_C d\\boldsymbol{\\ell}\\cdot\\boldsymbol{A}=\\int_Sd\\boldsymbol{s} \\cdot(\\nabla\\times\\boldsymbol{A})\n",
    "$$"
   ]
  },
  {
   "cell_type": "markdown",
   "id": "ee0303da",
   "metadata": {},
   "source": [
    "## and Stokes's Theorem\n",
    "\n",
    "Stoke's law can be understood by considering a small rectangle,\n",
    "$-\\Delta x<x<\\Delta x$, $-\\Delta y<y<\\Delta y$. The path integral\n",
    "around the edges is"
   ]
  },
  {
   "cell_type": "markdown",
   "id": "80ae0e65",
   "metadata": {},
   "source": [
    "$$\n",
    "\\begin{eqnarray}\n",
    "\\int_C d\\boldsymbol{\\ell}\\cdot\\boldsymbol{A}&=&2\\Delta y[A_y(\\Delta x,0)-A_y(-\\Delta x,0)]-2\\Delta x[A_x(0,\\Delta y)-A_x(0,-\\Delta y)]\\\\\n",
    "\\nonumber\n",
    "&=&4\\Delta x\\Delta y\\left\\{\n",
    "\\frac{A_y(\\Delta x,0)-A_y(-\\Delta x,0)}{2\\Delta x}-\\frac{A_x(0,\\Delta y)-A_x(0,-\\Delta y)}{2\\Delta y}\\right\\}\\\\\n",
    "\\nonumber\n",
    "&=&4\\Delta x\\Delta y\\left\\{\\frac{\\partial A_y}{\\partial x}-\\frac{\\partial A_x}{\\partial y}\\right\\}\\\\\n",
    "&=&\\Delta S \\cdot \\nabla\\times\\boldsymbol{A}.\n",
    "\\end{eqnarray}\n",
    "$$"
   ]
  },
  {
   "cell_type": "markdown",
   "id": "1986784b",
   "metadata": {},
   "source": [
    "Here $\\Delta S$ is the area of the surface element."
   ]
  },
  {
   "cell_type": "markdown",
   "id": "0ef6a96a",
   "metadata": {},
   "source": [
    "## Basic Matrix Features\n",
    "\n",
    "**Note**: The material on matrices is optional and will not be used much\n",
    "(except for illustrations at the very end on garmonic oscillations)\n",
    "since most of you have not yet taken a course on linear algebra. The\n",
    "material is however included here for the sake of completeness."
   ]
  },
  {
   "cell_type": "markdown",
   "id": "3afe4f13",
   "metadata": {},
   "source": [
    "$$\n",
    "\\mathbf{A} =\n",
    "      \\begin{bmatrix} a_{11} & a_{12} & a_{13} & a_{14} \\\\\n",
    "                                 a_{21} & a_{22} & a_{23} & a_{24} \\\\\n",
    "                                   a_{31} & a_{32} & a_{33} & a_{34} \\\\\n",
    "                                  a_{41} & a_{42} & a_{43} & a_{44}\n",
    "             \\end{bmatrix}\\qquad\n",
    "\\mathbf{I} =\n",
    "      \\begin{bmatrix} 1 & 0 & 0 & 0 \\\\\n",
    "                                 0 & 1 & 0 & 0 \\\\\n",
    "                                 0 & 0 & 1 & 0 \\\\\n",
    "                                 0 & 0 & 0 & 1\n",
    "             \\end{bmatrix}\n",
    "$$"
   ]
  },
  {
   "cell_type": "markdown",
   "id": "6feac985",
   "metadata": {},
   "source": [
    "## Inverse of a Matrix\n",
    "\n",
    "The inverse of a matrix is defined by"
   ]
  },
  {
   "cell_type": "markdown",
   "id": "7dd78bdd",
   "metadata": {},
   "source": [
    "$$\n",
    "\\mathbf{A}^{-1} \\cdot \\mathbf{A} = I\n",
    "$$"
   ]
  },
  {
   "cell_type": "markdown",
   "id": "5a9b6722",
   "metadata": {},
   "source": [
    "<table class=\"dotable\" border=\"1\">\n",
    "<thead>\n",
    "<tr><th align=\"center\">              Relations               </th> <th align=\"center\">      Name     </th> <th align=\"center\">                            matrix elements                            </th> </tr>\n",
    "</thead>\n",
    "<tbody>\n",
    "<tr><td align=\"center\">   $A = A^{T}$                               </td> <td align=\"center\">   symmetric          </td> <td align=\"center\">   $a_{ij} = a_{ji}$                                                          </td> </tr>\n",
    "<tr><td align=\"center\">   $A = \\left (A^{T} \\right )^{-1}$          </td> <td align=\"center\">   real orthogonal    </td> <td align=\"center\">   $\\sum_k a_{ik} a_{jk} = \\sum_k a_{ki} a_{kj} = \\delta_{ij}$                </td> </tr>\n",
    "<tr><td align=\"center\">   $A = A^{ * }$                             </td> <td align=\"center\">   real matrix        </td> <td align=\"center\">   $a_{ij} = a_{ij}^{ * }$                                                    </td> </tr>\n",
    "<tr><td align=\"center\">   $A = A^{\\dagger}$                         </td> <td align=\"center\">   hermitian          </td> <td align=\"center\">   $a_{ij} = a_{ji}^{ * }$                                                    </td> </tr>\n",
    "<tr><td align=\"center\">   $A = \\left (A^{\\dagger} \\right )^{-1}$    </td> <td align=\"center\">   unitary            </td> <td align=\"center\">   $\\sum_k a_{ik} a_{jk}^{ * } = \\sum_k a_{ki}^{ * } a_{kj} = \\delta_{ij}$    </td> </tr>\n",
    "</tbody>\n",
    "</table>"
   ]
  },
  {
   "cell_type": "markdown",
   "id": "df19215c",
   "metadata": {},
   "source": [
    "## Some famous Matrices\n",
    "\n",
    "  * Diagonal if $a_{ij}=0$ for $i\\ne j$\n",
    "\n",
    "  * Upper triangular if $a_{ij}=0$ for $i > j$\n",
    "\n",
    "  * Lower triangular if $a_{ij}=0$ for $i < j$\n",
    "\n",
    "  * Upper Hessenberg if $a_{ij}=0$ for $i > j+1$\n",
    "\n",
    "  * Lower Hessenberg if $a_{ij}=0$ for $i < j+1$\n",
    "\n",
    "  * Tridiagonal if $a_{ij}=0$ for $|i -j| > 1$\n",
    "\n",
    "  * Lower banded with bandwidth $p$: $a_{ij}=0$ for $i > j+p$\n",
    "\n",
    "  * Upper banded with bandwidth $p$: $a_{ij}=0$ for $i < j+p$\n",
    "\n",
    "  * Banded, block upper triangular, block lower triangular...."
   ]
  },
  {
   "cell_type": "markdown",
   "id": "7f1f0714",
   "metadata": {},
   "source": [
    "## More Basic Matrix Features\n",
    "\n",
    "**Some Equivalent Statements.**\n",
    "\n",
    "For an $N\\times N$ matrix  $\\mathbf{A}$ the following properties are all equivalent\n",
    "\n",
    "  * If the inverse of $\\mathbf{A}$ exists, $\\mathbf{A}$ is nonsingular.\n",
    "\n",
    "  * The equation $\\mathbf{Ax}=0$ implies $\\mathbf{x}=0$.\n",
    "\n",
    "  * The rows of $\\mathbf{A}$ form a basis of $R^N$.\n",
    "\n",
    "  * The columns of $\\mathbf{A}$ form a basis of $R^N$.\n",
    "\n",
    "  * $\\mathbf{A}$ is a product of elementary matrices.\n",
    "\n",
    "  * $0$ is not eigenvalue of $\\mathbf{A}$."
   ]
  },
  {
   "cell_type": "markdown",
   "id": "a4adb56e",
   "metadata": {},
   "source": [
    "## Rotations\n",
    "\n",
    "Here, we use rotations as an example of matrices and their operations. One can consider a different orthonormal basis $\\hat{e}'_1$, $\\hat{e}'_2$ and $\\hat{e}'_3$. The same vector $\\boldsymbol{r}$ mentioned above can also be expressed in the new basis,"
   ]
  },
  {
   "cell_type": "markdown",
   "id": "73f635c4",
   "metadata": {},
   "source": [
    "<!-- Equation labels as ordinary links -->\n",
    "<div id=\"_auto3\"></div>\n",
    "\n",
    "$$\n",
    "\\begin{equation}\n",
    "\\boldsymbol{r}=r'_1\\hat{e}'_1+r'_2\\hat{e}'_2+r'_3\\hat{e}'_3.\n",
    "\\label{_auto3} \\tag{3}\n",
    "\\end{equation}\n",
    "$$"
   ]
  },
  {
   "cell_type": "markdown",
   "id": "478063d1",
   "metadata": {},
   "source": [
    "Even though it is the same vector, the components have changed. Each\n",
    "new unit vector $\\hat{e}'_i$ can be expressed as a linear sum of the\n",
    "previous vectors,"
   ]
  },
  {
   "cell_type": "markdown",
   "id": "b8a67f96",
   "metadata": {},
   "source": [
    "<!-- Equation labels as ordinary links -->\n",
    "<div id=\"_auto4\"></div>\n",
    "\n",
    "$$\n",
    "\\begin{equation}\n",
    "\\hat{e}'_i=\\sum_j U_{ij}\\hat{e}_j,\n",
    "\\label{_auto4} \\tag{4}\n",
    "\\end{equation}\n",
    "$$"
   ]
  },
  {
   "cell_type": "markdown",
   "id": "de9be1f8",
   "metadata": {},
   "source": [
    "and the matrix $U$ can be found by taking the dot product of both sides with $\\hat{e}_k$,"
   ]
  },
  {
   "cell_type": "markdown",
   "id": "0859b1e2",
   "metadata": {},
   "source": [
    "<!-- Equation labels as ordinary links -->\n",
    "<div id=\"eq:lambda_angles\"></div>\n",
    "\n",
    "$$\n",
    "\\begin{eqnarray}\n",
    "\\nonumber\n",
    "\\hat{e}_k\\cdot\\hat{e}'_i&=&\\sum_jU_{ij}\\hat{e}_k\\cdot\\hat{e}_j\\\\\n",
    "\\label{eq:lambda_angles} \\tag{5}\n",
    "\\hat{e}_k\\cdot\\hat{e}'_i&=&\\sum_jU_{ij}\\delta_{jk}=U_{ik}.\n",
    "\\end{eqnarray}\n",
    "$$"
   ]
  },
  {
   "cell_type": "markdown",
   "id": "78ff3fdd",
   "metadata": {},
   "source": [
    "## More on the matrix $U$\n",
    "\n",
    "Thus, the matrix lambda has components $U_{ij}$ that are equal to the\n",
    "cosine of the angle between new unit vector $\\hat{e}'_i$ and the old\n",
    "unit vector $\\hat{e}_j$."
   ]
  },
  {
   "cell_type": "markdown",
   "id": "bcbb5bce",
   "metadata": {},
   "source": [
    "<!-- Equation labels as ordinary links -->\n",
    "<div id=\"_auto5\"></div>\n",
    "\n",
    "$$\n",
    "\\begin{equation}\n",
    "U = \\begin{bmatrix}\n",
    "\\hat{e}'_1\\cdot\\hat{e}_1& \\hat{e}'_1\\cdot\\hat{e}_2& \\hat{e}'_1\\cdot\\hat{e}_3\\\\\n",
    "\\hat{e}'_2\\cdot\\hat{e}_1& \\hat{e}'_2\\cdot\\hat{e}_2& \\hat{e}'_2\\cdot\\hat{e}_3\\\\\n",
    "\\hat{e}'_3\\cdot\\hat{e}_1& \\hat{e}'_3\\cdot\\hat{e}_2& \\hat{e}'_3\\cdot\\hat{e}_3\n",
    "\\end{bmatrix},~~~~~U_{ij}=\\hat{e}'_i\\cdot\\hat{e}_j=\\cos\\theta_{ij}.\n",
    "\\label{_auto5} \\tag{6}\n",
    "\\end{equation}\n",
    "$$"
   ]
  },
  {
   "cell_type": "markdown",
   "id": "d9be2589",
   "metadata": {},
   "source": [
    "## Properties of the matrix $U$\n",
    "\n",
    "Note that the matrix is not symmetric, $U_{ij}\\ne U_{ji}$. One can also look at the inverse transformation, by switching the primed and unprimed coordinates,"
   ]
  },
  {
   "cell_type": "markdown",
   "id": "83055a87",
   "metadata": {},
   "source": [
    "<!-- Equation labels as ordinary links -->\n",
    "<div id=\"eq:inverseU\"></div>\n",
    "\n",
    "$$\n",
    "\\begin{eqnarray}\n",
    "\\label{eq:inverseU} \\tag{7}\n",
    "\\hat{e}_i&=&\\sum_jU^{-1}_{ij}\\hat{e}'_j,\\\\\n",
    "\\nonumber\n",
    "U^{-1}_{ij}&=&\\hat{e}_i\\cdot\\hat{e}'_j=U_{ji}.\n",
    "\\end{eqnarray}\n",
    "$$"
   ]
  },
  {
   "cell_type": "markdown",
   "id": "af4bacc0",
   "metadata": {},
   "source": [
    "The definition of transpose of a matrix, $M^{t}_{ij}=M_{ji}$, allows one to state this as"
   ]
  },
  {
   "cell_type": "markdown",
   "id": "3699b1ee",
   "metadata": {},
   "source": [
    "<!-- Equation labels as ordinary links -->\n",
    "<div id=\"eq:transposedef\"></div>\n",
    "\n",
    "$$\n",
    "\\begin{eqnarray}\n",
    "\\label{eq:transposedef} \\tag{8}\n",
    "U^{-1}&=&U^{t}.\n",
    "\\end{eqnarray}\n",
    "$$"
   ]
  },
  {
   "cell_type": "markdown",
   "id": "e941370a",
   "metadata": {},
   "source": [
    "## Tensors\n",
    "\n",
    "A tensor obeying Eq. ([8](#eq:transposedef)) defines what is known as\n",
    "a unitary, or orthogonal, transformation.\n",
    "\n",
    "The matrix $U$ can be used to transform any vector to the new basis. Consider a vector"
   ]
  },
  {
   "cell_type": "markdown",
   "id": "e6202466",
   "metadata": {},
   "source": [
    "$$\n",
    "\\begin{eqnarray}\n",
    "\\boldsymbol{r}&=&r_1\\hat{e}_1+r_2\\hat{e}_2+r_3\\hat{e}_3\\\\\n",
    "\\nonumber\n",
    "&=&r'_1\\hat{e}'_1+r'_2\\hat{e}'_2+r'_3\\hat{e}'_3.\n",
    "\\end{eqnarray}\n",
    "$$"
   ]
  },
  {
   "cell_type": "markdown",
   "id": "51878fb0",
   "metadata": {},
   "source": [
    "This is the same vector expressed as a sum over two different sets of\n",
    "basis vectors. The coefficients $r_i$ and $r'_i$ represent components\n",
    "of the same vector. The relation between them can be found by taking\n",
    "the dot product of each side with one of the unit vectors,\n",
    "$\\hat{e}_i$, which gives"
   ]
  },
  {
   "cell_type": "markdown",
   "id": "736f9ac3",
   "metadata": {},
   "source": [
    "$$\n",
    "\\begin{eqnarray}\n",
    "r_i&=&\\sum_j \\hat{e}_i\\cdot\\hat{e}'_j~r'_j.\n",
    "\\end{eqnarray}\n",
    "$$"
   ]
  },
  {
   "cell_type": "markdown",
   "id": "518c383a",
   "metadata": {},
   "source": [
    "Using Eq. ([7](#eq:inverseU)) one can see that the transformation of $r$ can be also written in terms of $U$,"
   ]
  },
  {
   "cell_type": "markdown",
   "id": "8c5160e8",
   "metadata": {},
   "source": [
    "<!-- Equation labels as ordinary links -->\n",
    "<div id=\"eq:rotateR\"></div>\n",
    "\n",
    "$$\n",
    "\\begin{eqnarray}\n",
    "\\label{eq:rotateR} \\tag{9}\n",
    "r_i&=&\\sum_jU^{-1}_{ij}~r'_j.\n",
    "\\end{eqnarray}\n",
    "$$"
   ]
  },
  {
   "cell_type": "markdown",
   "id": "c8d56471",
   "metadata": {},
   "source": [
    "Thus, the matrix that transforms the coordinates of the unit vectors,\n",
    "Eq. ([7](#eq:inverseU)) is the same one that transforms the\n",
    "coordinates of a vector, Eq. ([9](#eq:rotateR))."
   ]
  },
  {
   "cell_type": "markdown",
   "id": "9c2a5525",
   "metadata": {},
   "source": [
    "## Rotation matrix\n",
    "\n",
    "As a small exercise, find the rotation matrix $U$ for finding the\n",
    "components in the primed coordinate system given from those in the\n",
    "unprimed system, given that the unit vectors in the new system are\n",
    "found by rotating the coordinate system by and angle $\\phi$ about the\n",
    "$z$ axis.\n",
    "\n",
    "In this case"
   ]
  },
  {
   "cell_type": "markdown",
   "id": "bfd72652",
   "metadata": {},
   "source": [
    "$$\n",
    "\\begin{eqnarray*}\n",
    "\\hat{e}'_1&=&\\cos\\phi \\hat{e}_1-\\sin\\phi\\hat{e}_2,\\\\\n",
    "\\hat{e}'_2&=&\\sin\\phi\\hat{e}_1+\\cos\\phi\\hat{e}_2,\\\\\n",
    "\\hat{e}'_3&=&\\hat{e}_3.\n",
    "\\end{eqnarray*}\n",
    "$$"
   ]
  },
  {
   "cell_type": "markdown",
   "id": "29006bf4",
   "metadata": {},
   "source": [
    "By inspecting Eq. ([5](#eq:lambda_angles)), we get"
   ]
  },
  {
   "cell_type": "markdown",
   "id": "9cd988b9",
   "metadata": {},
   "source": [
    "$$\n",
    "U=\\left(\\begin{array}{ccc}\n",
    "\\cos\\phi&-\\sin\\phi&0\\\\\n",
    "\\sin\\phi&\\cos\\phi&0\\\\\n",
    "0&0&1\\end{array}\\right).\n",
    "$$"
   ]
  },
  {
   "cell_type": "markdown",
   "id": "3cd2dda9",
   "metadata": {},
   "source": [
    "## Unitary Transformations\n",
    "\n",
    "Under a unitary transformation $U$ (or basis transformation) scalars\n",
    "are unchanged, whereas vectors $\\boldsymbol{r}$ and matrices $M$ change as"
   ]
  },
  {
   "cell_type": "markdown",
   "id": "f736a4c1",
   "metadata": {},
   "source": [
    "$$\n",
    "\\begin{eqnarray}\n",
    "r'_i&=&U_{ij}~ r_j, ~~({\\rm sum~inferred})\\\\\n",
    "\\nonumber\n",
    "M'_{ij}&=&U_{ik}M_{km}U^{-1}_{mj}.\n",
    "\\end{eqnarray}\n",
    "$$"
   ]
  },
  {
   "cell_type": "markdown",
   "id": "550a4030",
   "metadata": {},
   "source": [
    "Physical quantities with no spatial indices are scalars (or\n",
    "pseudoscalars if they depend on right-handed vs. left-handed\n",
    "coordinate systems), and are unchanged by unitary\n",
    "transformations. This includes quantities like the trace of a matrix,\n",
    "the matrix itself had indices but none remain after performing the\n",
    "trace."
   ]
  },
  {
   "cell_type": "markdown",
   "id": "df637f0b",
   "metadata": {},
   "source": [
    "$$\n",
    "\\begin{eqnarray}\n",
    "{\\rm Tr} M&\\equiv& M_{ii}.\n",
    "\\end{eqnarray}\n",
    "$$"
   ]
  },
  {
   "cell_type": "markdown",
   "id": "916beba5",
   "metadata": {},
   "source": [
    "Because there are no remaining indices, one expects it to be a scalar. Indeed one can see this,"
   ]
  },
  {
   "cell_type": "markdown",
   "id": "db19f6b7",
   "metadata": {},
   "source": [
    "$$\n",
    "\\begin{eqnarray}\n",
    "{\\rm Tr} M'&=&U_{ij}M_{jm}U^{-1}_{mi}\\\\\n",
    "\\nonumber\n",
    "&=&M_{jm}U^{-1}_{mi}U_{ij}\\\\\n",
    "\\nonumber\n",
    "&=&M_{jm}\\delta_{mj}\\\\\n",
    "\\nonumber\n",
    "&=&M_{jj}={\\rm Tr} M.\n",
    "\\end{eqnarray}\n",
    "$$"
   ]
  },
  {
   "cell_type": "markdown",
   "id": "075e83d2",
   "metadata": {},
   "source": [
    "A similar example is the determinant of a matrix, which is also a scalar."
   ]
  },
  {
   "cell_type": "markdown",
   "id": "63faf715",
   "metadata": {},
   "source": [
    "## Numerical Elements\n",
    "\n",
    "Numerical algorithms call for approximate discrete models and much of\n",
    "the development of methods for continuous models are nowadays being\n",
    "replaced by methods for discrete models in science and industry,\n",
    "simply because **much larger classes of problems can be addressed** with\n",
    "discrete models, often by simpler and more generic methodologies.\n",
    "\n",
    "As we will see throughout this course, when properly scaling the equations at hand,\n",
    "discrete models open up for more advanced abstractions and the possibility to\n",
    "study  real life systems, with the added bonus that we can explore and\n",
    "deepen our basic understanding of various physical systems\n",
    "\n",
    "Analytical solutions are as important as before. In addition, such\n",
    "solutions provide us with invaluable benchmarks and tests for our\n",
    "discrete models. Such benchmarks, as we will see below, allow us \n",
    "to discuss possible sources of errors and their behaviors.  And\n",
    "finally, since most of our models are based on various algorithms from\n",
    "numerical mathematics, we have a unique oppotunity to gain a deeper\n",
    "understanding of the mathematical approaches we are using.\n",
    "\n",
    "With computing and data science as important elements in essentially\n",
    "all aspects of a modern society, we could  then try to define Computing as\n",
    "**solving scientific problems using all possible tools, including\n",
    "symbolic computing, computers and numerical algorithms, and analytical\n",
    "paper and pencil solutions**. \n",
    "Computing provides us with the tools to develope our own understanding of the scientific method by enhancing algorithmic thinking."
   ]
  },
  {
   "cell_type": "markdown",
   "id": "239309fc",
   "metadata": {},
   "source": [
    "## Computations and the Scientific Method\n",
    "\n",
    "The way we will teach this course reflects this definition of\n",
    "computing. The course contains both classical paper and pencil\n",
    "exercises as well as computational projects and exercises. The hope is\n",
    "that this will allow you to explore the physics of systems governed by\n",
    "the degrees of freedom of classical mechanics at a deeper level, and\n",
    "that these insights about the scientific method will help you to\n",
    "develop a better understanding of how the underlying forces and\n",
    "equations of motion and how they impact a given system.\n",
    "\n",
    "Furthermore,\n",
    "by introducing various numerical methods via computational projects\n",
    "and exercises, we aim at developing your competences and skills about\n",
    "these topics."
   ]
  },
  {
   "cell_type": "markdown",
   "id": "2a001eb9",
   "metadata": {},
   "source": [
    "## Computational Competences\n",
    "\n",
    "These competences will enable you to\n",
    "\n",
    "* understand how algorithms are used to solve mathematical problems,\n",
    "\n",
    "* derive, verify, and implement algorithms,\n",
    "\n",
    "* understand what can go wrong with algorithms,\n",
    "\n",
    "* use these algorithms to construct reproducible scientific outcomes and to engage in science in ethical ways, and\n",
    "\n",
    "* think algorithmically for the purposes of gaining deeper insights about scientific problems.\n",
    "\n",
    "All these elements are central for maturing and gaining a better understanding of the modern scientific process *per se*.\n",
    "\n",
    "The power of the scientific method lies in identifying a given problem\n",
    "as a special case of an abstract class of problems, identifying\n",
    "general solution methods for this class of problems, and applying a\n",
    "general method to the specific problem (applying means, in the case of\n",
    "computing, calculations by pen and paper, symbolic computing, or\n",
    "numerical computing by ready-made and/or self-written software). This\n",
    "generic view on problems and methods is particularly important for\n",
    "understanding how to apply available, generic software to solve a\n",
    "particular problem.\n",
    "\n",
    "*However, verification of algorithms and understanding their limitations requires much of the classical knowledge about continuous models.*"
   ]
  },
  {
   "cell_type": "markdown",
   "id": "d673126a",
   "metadata": {},
   "source": [
    "## A well-known example to illustrate many of the above concepts\n",
    "\n",
    "Before we venture into a reminder on Python and mechanics relevant applications, let us briefly outline some of the\n",
    "abovementioned topics using an example many of you may have seen before in for example CMSE201. \n",
    "A simple algorithm for integration is the Trapezoidal rule. \n",
    "Integration of a function $f(x)$ by the Trapezoidal Rule is given by following algorithm for an interval $x \\in [a,b]$"
   ]
  },
  {
   "cell_type": "markdown",
   "id": "4360e0bb",
   "metadata": {},
   "source": [
    "$$\n",
    "\\int_a^b(f(x) dx = \\frac{1}{2}\\left [f(a)+2f(a+h)+\\dots+2f(b-h)+f(b)\\right] +O(h^2),\n",
    "$$"
   ]
  },
  {
   "cell_type": "markdown",
   "id": "ee601556",
   "metadata": {},
   "source": [
    "where $h$ is the so-called stepsize defined by the number of integration points $N$ as $h=(b-a)/(n)$.\n",
    "Python offers an  extremely versatile programming  environment, allowing for\n",
    "the inclusion of analytical studies in a numerical program. Here we show an\n",
    "example code with the **trapezoidal rule**. We use also **SymPy** to evaluate the exact value of the integral and compute the absolute error\n",
    "with respect to the numerically evaluated one of the integral\n",
    "$\\int_0^1 dx x^2 = 1/3$.\n",
    "The following code for  the trapezoidal rule allows you  to plot the relative error by comparing with the exact result. By increasing to $10^8$ points one arrives at a region where numerical errors start to accumulate."
   ]
  },
  {
   "cell_type": "code",
   "execution_count": 1,
   "id": "3853d8ff",
   "metadata": {},
   "outputs": [
    {
     "ename": "ModuleNotFoundError",
     "evalue": "No module named 'sympy'",
     "output_type": "error",
     "traceback": [
      "\u001b[0;31m---------------------------------------------------------------------------\u001b[0m",
      "\u001b[0;31mModuleNotFoundError\u001b[0m                       Traceback (most recent call last)",
      "\u001b[0;32m/var/folders/td/3yk470mj5p931p9dtkk0y6jw0000gn/T/ipykernel_23721/58726795.py\u001b[0m in \u001b[0;36m<module>\u001b[0;34m\u001b[0m\n\u001b[1;32m      3\u001b[0m \u001b[0;32mfrom\u001b[0m \u001b[0mmath\u001b[0m \u001b[0;32mimport\u001b[0m \u001b[0mlog10\u001b[0m\u001b[0;34m\u001b[0m\u001b[0;34m\u001b[0m\u001b[0m\n\u001b[1;32m      4\u001b[0m \u001b[0;32mimport\u001b[0m \u001b[0mnumpy\u001b[0m \u001b[0;32mas\u001b[0m \u001b[0mnp\u001b[0m\u001b[0;34m\u001b[0m\u001b[0;34m\u001b[0m\u001b[0m\n\u001b[0;32m----> 5\u001b[0;31m \u001b[0;32mfrom\u001b[0m \u001b[0msympy\u001b[0m \u001b[0;32mimport\u001b[0m \u001b[0mSymbol\u001b[0m\u001b[0;34m,\u001b[0m \u001b[0mintegrate\u001b[0m\u001b[0;34m\u001b[0m\u001b[0;34m\u001b[0m\u001b[0m\n\u001b[0m\u001b[1;32m      6\u001b[0m \u001b[0;32mimport\u001b[0m \u001b[0mmatplotlib\u001b[0m\u001b[0;34m.\u001b[0m\u001b[0mpyplot\u001b[0m \u001b[0;32mas\u001b[0m \u001b[0mplt\u001b[0m\u001b[0;34m\u001b[0m\u001b[0;34m\u001b[0m\u001b[0m\n\u001b[1;32m      7\u001b[0m \u001b[0;31m# function for the trapezoidal rule\u001b[0m\u001b[0;34m\u001b[0m\u001b[0;34m\u001b[0m\u001b[0m\n",
      "\u001b[0;31mModuleNotFoundError\u001b[0m: No module named 'sympy'"
     ]
    }
   ],
   "source": [
    "%matplotlib inline\n",
    "\n",
    "from math import log10\n",
    "import numpy as np\n",
    "from sympy import Symbol, integrate\n",
    "import matplotlib.pyplot as plt\n",
    "# function for the trapezoidal rule\n",
    "def Trapez(a,b,f,n):\n",
    "   h = (b-a)/float(n)\n",
    "   s = 0\n",
    "   x = a\n",
    "   for i in range(1,n,1):\n",
    "       x = x+h\n",
    "       s = s+ f(x)\n",
    "   s = 0.5*(f(a)+f(b)) +s\n",
    "   return h*s\n",
    "#  function to compute pi\n",
    "def function(x):\n",
    "    return x*x\n",
    "# define integration limits\n",
    "a = 0.0;  b = 1.0;\n",
    "# find result from sympy\n",
    "# define x as a symbol to be used by sympy\n",
    "x = Symbol('x')\n",
    "exact = integrate(function(x), (x, a, b))\n",
    "# set up the arrays for plotting the relative error\n",
    "n = np.zeros(9); y = np.zeros(9);\n",
    "# find the relative error as function of integration points\n",
    "for i in range(1, 8, 1):\n",
    "    npts = 10**i\n",
    "    result = Trapez(a,b,function,npts)\n",
    "    RelativeError = abs((exact-result)/exact)\n",
    "    n[i] = log10(npts); y[i] = log10(RelativeError);\n",
    "plt.plot(n,y, 'ro')\n",
    "plt.xlabel('n')\n",
    "plt.ylabel('Relative error')\n",
    "plt.show()"
   ]
  },
  {
   "cell_type": "markdown",
   "id": "b3d6c4fa",
   "metadata": {},
   "source": [
    "## Analyzing the above example\n",
    "\n",
    "This example shows the potential of combining numerical algorithms\n",
    "with symbolic calculations, allowing us to\n",
    "\n",
    "* Validate and verify  their  algorithms. \n",
    "\n",
    "* Including concepts like unit testing, one has the possibility to test and test several or all parts of the code.\n",
    "\n",
    "* Validation and verification are then included *naturally* and one can develop a better attitude to what is meant with an ethically sound scientific approach.\n",
    "\n",
    "* The above example allows the student to also test the mathematical error of the algorithm for the trapezoidal rule by changing the number of integration points. The students get **trained from day one to think error analysis**. \n",
    "\n",
    "* With a Jupyter notebook you can keep exploring similar examples and turn them in as your own notebooks."
   ]
  },
  {
   "cell_type": "markdown",
   "id": "9ab9b441",
   "metadata": {},
   "source": [
    "## Python practicalities, Software and needed installations\n",
    "\n",
    "We will make extensive use of Python as programming language and its\n",
    "myriad of available libraries.  You will find\n",
    "Jupyter notebooks invaluable in your work.  \n",
    "\n",
    "If you have Python installed (we strongly recommend Python3) and you feel\n",
    "pretty familiar with installing different packages, we recommend that\n",
    "you install the following Python packages via **pip** as \n",
    "\n",
    "1. pip install numpy scipy matplotlib ipython scikit-learn mglearn sympy pandas pillow \n",
    "\n",
    "For Python3, replace **pip** with **pip3**.\n",
    "\n",
    "For OSX users we recommend, after having installed Xcode, to\n",
    "install **brew**. Brew allows for a seamless installation of additional\n",
    "software via for example \n",
    "\n",
    "1. brew install python3\n",
    "\n",
    "For Linux users, with its variety of distributions like for example the widely popular Ubuntu distribution,\n",
    "you can use **pip** as well and simply install Python as \n",
    "\n",
    "1. sudo apt-get install python3  (or python for pyhton2.7)\n",
    "\n",
    "etc etc."
   ]
  },
  {
   "cell_type": "markdown",
   "id": "2e70f77d",
   "metadata": {},
   "source": [
    "## Python installers\n",
    "\n",
    "If you don't want to perform these operations separately and venture\n",
    "into the hassle of exploring how to set up dependencies and paths, we\n",
    "recommend two widely used distrubutions which set up all relevant\n",
    "dependencies for Python, namely \n",
    "\n",
    "* [Anaconda](https://docs.anaconda.com/), \n",
    "\n",
    "which is an open source\n",
    "distribution of the Python and R programming languages for large-scale\n",
    "data processing, predictive analytics, and scientific computing, that\n",
    "aims to simplify package management and deployment. Package versions\n",
    "are managed by the package management system **conda**. \n",
    "\n",
    "* [Enthought canopy](https://www.enthought.com/product/canopy/) \n",
    "\n",
    "is a Python\n",
    "distribution for scientific and analytic computing distribution and\n",
    "analysis environment, available for free and under a commercial\n",
    "license.\n",
    "\n",
    "Furthermore, [Google's Colab](https://colab.research.google.com/notebooks/welcome.ipynb) is a free Jupyter notebook environment that requires \n",
    "no setup and runs entirely in the cloud. Try it out!"
   ]
  },
  {
   "cell_type": "markdown",
   "id": "addcbd24",
   "metadata": {},
   "source": [
    "## Useful Python libraries\n",
    "Here we list several useful Python libraries we strongly recommend (if you use anaconda many of these are already there)\n",
    "\n",
    "* [NumPy](https://www.numpy.org/) is a highly popular library for large, multi-dimensional arrays and matrices, along with a large collection of high-level mathematical functions to operate on these arrays\n",
    "\n",
    "* [The pandas](https://pandas.pydata.org/) library provides high-performance, easy-to-use data structures and data analysis tools \n",
    "\n",
    "* [Xarray](http://xarray.pydata.org/en/stable/) is a Python package that makes working with labelled multi-dimensional arrays simple, efficient, and fun!\n",
    "\n",
    "* [Scipy](https://www.scipy.org/) (pronounced “Sigh Pie”) is a Python-based ecosystem of open-source software for mathematics, science, and engineering. \n",
    "\n",
    "* [Matplotlib](https://matplotlib.org/) is a Python 2D plotting library which produces publication quality figures in a variety of hardcopy formats and interactive environments across platforms.\n",
    "\n",
    "* [Autograd](https://github.com/HIPS/autograd) can automatically differentiate native Python and Numpy code. It can handle a large subset of Python's features, including loops, ifs, recursion and closures, and it can even take derivatives of derivatives of derivatives\n",
    "\n",
    "* [SymPy](https://www.sympy.org/en/index.html) is a Python library for symbolic mathematics. \n",
    "\n",
    "* [scikit-learn](https://scikit-learn.org/stable/) has simple and efficient tools for machine learning, data mining and data analysis\n",
    "\n",
    "* [TensorFlow](https://www.tensorflow.org/) is a Python library for fast numerical computing created and released by Google\n",
    "\n",
    "* [Keras](https://keras.io/) is a high-level neural networks API, written in Python and capable of running on top of TensorFlow, CNTK, or Theano\n",
    "\n",
    "* And many more such as [pytorch](https://pytorch.org/),  [Theano](https://pypi.org/project/Theano/) etc \n",
    "\n",
    "Your jupyter notebook can easily be\n",
    "converted into a nicely rendered **PDF** file or a Latex file for\n",
    "further processing. For example, convert to latex as"
   ]
  },
  {
   "cell_type": "markdown",
   "id": "5cab3239",
   "metadata": {},
   "source": [
    "        pycod jupyter nbconvert filename.ipynb --to latex \n"
   ]
  },
  {
   "cell_type": "markdown",
   "id": "0e1b3409",
   "metadata": {},
   "source": [
    "And to add more versatility, the Python package [SymPy](http://www.sympy.org/en/index.html) is a Python library for symbolic mathematics. It aims to become a full-featured computer algebra system (CAS)  and is entirely written in Python."
   ]
  },
  {
   "cell_type": "markdown",
   "id": "90514d5f",
   "metadata": {},
   "source": [
    "## Numpy examples and Important Matrix and vector handling packages\n",
    "\n",
    "There are several central software libraries for linear algebra and eigenvalue problems. Several of the more\n",
    "popular ones have been wrapped into ofter software packages like those from the widely used text **Numerical Recipes**. The original source codes in many of the available packages are often taken from the widely used\n",
    "software package LAPACK, which follows two other popular packages\n",
    "developed in the 1970s, namely EISPACK and LINPACK.  We describe them shortly here.\n",
    "\n",
    "  * LINPACK: package for linear equations and least square problems.\n",
    "\n",
    "  * LAPACK:package for solving symmetric, unsymmetric and generalized eigenvalue problems. From LAPACK's website <http://www.netlib.org> it is possible to download for free all source codes from this library. Both C/C++ and Fortran versions are available.\n",
    "\n",
    "  * BLAS (I, II and III): (Basic Linear Algebra Subprograms) are routines that provide standard building blocks for performing basic vector and matrix operations. Blas I is vector operations, II vector-matrix operations and III matrix-matrix operations. Highly parallelized and efficient codes, all available for download from <http://www.netlib.org>."
   ]
  },
  {
   "cell_type": "markdown",
   "id": "053df972",
   "metadata": {},
   "source": [
    "## Numpy and arrays\n",
    "\n",
    "[Numpy](http://www.numpy.org/) provides an easy way to handle arrays in Python. The standard way to import this library is as"
   ]
  },
  {
   "cell_type": "code",
   "execution_count": 3,
   "id": "ebbcb68d",
   "metadata": {},
   "outputs": [],
   "source": [
    "import numpy as np"
   ]
  },
  {
   "cell_type": "markdown",
   "id": "3d9aaa80",
   "metadata": {},
   "source": [
    "Here follows a simple example where we set up an array of ten elements, all determined by random numbers drawn according to the normal distribution,"
   ]
  },
  {
   "cell_type": "code",
   "execution_count": 4,
   "id": "ac84b1ea",
   "metadata": {},
   "outputs": [],
   "source": [
    "n = 10\n",
    "x = np.random.normal(size=n)\n",
    "print(x)"
   ]
  },
  {
   "cell_type": "markdown",
   "id": "75e17f60",
   "metadata": {},
   "source": [
    "We defined a vector $x$ with $n=10$ elements with its values given by the Normal distribution $N(0,1)$.\n",
    "Another alternative is to declare a vector as follows"
   ]
  },
  {
   "cell_type": "code",
   "execution_count": 5,
   "id": "71109942",
   "metadata": {},
   "outputs": [],
   "source": [
    "import numpy as np\n",
    "x = np.array([1, 2, 3])\n",
    "print(x)"
   ]
  },
  {
   "cell_type": "markdown",
   "id": "abb80df1",
   "metadata": {},
   "source": [
    "Here we have defined a vector with three elements, with $x_0=1$, $x_1=2$ and $x_2=3$. Note that both Python and C++\n",
    "start numbering array elements from $0$ and on. This means that a vector with $n$ elements has a sequence of entities $x_0, x_1, x_2, \\dots, x_{n-1}$. We could also let (recommended) Numpy to compute the logarithms of a specific array as"
   ]
  },
  {
   "cell_type": "code",
   "execution_count": 6,
   "id": "8475eef2",
   "metadata": {},
   "outputs": [],
   "source": [
    "import numpy as np\n",
    "x = np.log(np.array([4, 7, 8]))\n",
    "print(x)"
   ]
  },
  {
   "cell_type": "markdown",
   "id": "8ffb7b7d",
   "metadata": {},
   "source": [
    "In the last example we used Numpy's unary function $np.log$. This function is\n",
    "highly tuned to compute array elements since the code is vectorized\n",
    "and does not require looping. We normaly recommend that you use the\n",
    "Numpy intrinsic functions instead of the corresponding **log** function\n",
    "from Python's **math** module. The looping is done explicitely by the\n",
    "**np.log** function. The alternative, and slower way to compute the\n",
    "logarithms of a vector would be to write"
   ]
  },
  {
   "cell_type": "code",
   "execution_count": 7,
   "id": "d98b6917",
   "metadata": {},
   "outputs": [],
   "source": [
    "import numpy as np\n",
    "from math import log\n",
    "x = np.array([4, 7, 8])\n",
    "for i in range(0, len(x)):\n",
    "    x[i] = log(x[i])\n",
    "print(x)"
   ]
  },
  {
   "cell_type": "markdown",
   "id": "aefb1ede",
   "metadata": {},
   "source": [
    "We note that our code is much longer already and we need to import the **log** function from the **math** module. \n",
    "The attentive reader will also notice that the output is $[1, 1, 2]$. Python interprets automagically our numbers as integers (like the **automatic** keyword in C++). To change this we could define our array elements to be double precision numbers as"
   ]
  },
  {
   "cell_type": "code",
   "execution_count": 8,
   "id": "26fac166",
   "metadata": {},
   "outputs": [],
   "source": [
    "import numpy as np\n",
    "x = np.log(np.array([4, 7, 8], dtype = np.float64))\n",
    "print(x)"
   ]
  },
  {
   "cell_type": "markdown",
   "id": "6095522a",
   "metadata": {},
   "source": [
    "or simply write them as double precision numbers (Python uses 64 bits as default for floating point type variables), that is"
   ]
  },
  {
   "cell_type": "code",
   "execution_count": 9,
   "id": "32bcf1b9",
   "metadata": {},
   "outputs": [],
   "source": [
    "import numpy as np\n",
    "x = np.log(np.array([4.0, 7.0, 8.0])\n",
    "print(x)"
   ]
  },
  {
   "cell_type": "markdown",
   "id": "93082977",
   "metadata": {},
   "source": [
    "To check the number of bytes (remember that one byte contains eight bits for double precision variables), you can use simple use the **itemsize** functionality (the array $x$ is actually an object which inherits the functionalities defined in Numpy) as"
   ]
  },
  {
   "cell_type": "code",
   "execution_count": 10,
   "id": "cb0eed91",
   "metadata": {},
   "outputs": [],
   "source": [
    "import numpy as np\n",
    "x = np.log(np.array([4.0, 7.0, 8.0])\n",
    "print(x.itemsize)"
   ]
  },
  {
   "cell_type": "markdown",
   "id": "5f279dd3",
   "metadata": {},
   "source": [
    "## Matrices in Python\n",
    "\n",
    "Having defined vectors, we are now ready to try out matrices. We can\n",
    "define a $3 \\times 3 $ real matrix $\\hat{A}$ as (recall that we user\n",
    "lowercase letters for vectors and uppercase letters for matrices)"
   ]
  },
  {
   "cell_type": "code",
   "execution_count": 11,
   "id": "85d6119d",
   "metadata": {},
   "outputs": [],
   "source": [
    "import numpy as np\n",
    "A = np.log(np.array([ [4.0, 7.0, 8.0], [3.0, 10.0, 11.0], [4.0, 5.0, 7.0] ]))\n",
    "print(A)"
   ]
  },
  {
   "cell_type": "markdown",
   "id": "e8a79312",
   "metadata": {},
   "source": [
    "If we use the **shape** function we would get $(3, 3)$ as output, that is verifying that our matrix is a $3\\times 3$ matrix. We can slice the matrix and print for example the first column (Python organized matrix elements in a row-major order, see below) as"
   ]
  },
  {
   "cell_type": "code",
   "execution_count": 12,
   "id": "afd51bb9",
   "metadata": {},
   "outputs": [],
   "source": [
    "import numpy as np\n",
    "A = np.log(np.array([ [4.0, 7.0, 8.0], [3.0, 10.0, 11.0], [4.0, 5.0, 7.0] ]))\n",
    "# print the first column, row-major order and elements start with 0\n",
    "print(A[:,0])"
   ]
  },
  {
   "cell_type": "markdown",
   "id": "ffc10fbc",
   "metadata": {},
   "source": [
    "We can continue this was by printing out other columns or rows. The example here prints out the second column"
   ]
  },
  {
   "cell_type": "code",
   "execution_count": 13,
   "id": "8d35e780",
   "metadata": {},
   "outputs": [],
   "source": [
    "import numpy as np\n",
    "A = np.log(np.array([ [4.0, 7.0, 8.0], [3.0, 10.0, 11.0], [4.0, 5.0, 7.0] ]))\n",
    "# print the first column, row-major order and elements start with 0\n",
    "print(A[1,:])"
   ]
  },
  {
   "cell_type": "markdown",
   "id": "007542d8",
   "metadata": {},
   "source": [
    "Numpy contains many other functionalities that allow us to slice, subdivide etc etc arrays. We strongly recommend that you look up the [Numpy website for more details](http://www.numpy.org/). Useful functions when defining a matrix are the **np.zeros** function which declares a matrix of a given dimension and sets all elements to zero"
   ]
  },
  {
   "cell_type": "code",
   "execution_count": 14,
   "id": "b8f6603b",
   "metadata": {},
   "outputs": [],
   "source": [
    "import numpy as np\n",
    "n = 10\n",
    "# define a matrix of dimension 10 x 10 and set all elements to zero\n",
    "A = np.zeros( (n, n) )\n",
    "print(A)"
   ]
  },
  {
   "cell_type": "markdown",
   "id": "afdcf31f",
   "metadata": {},
   "source": [
    "or initializing all elements to"
   ]
  },
  {
   "cell_type": "code",
   "execution_count": 15,
   "id": "f6c6b1e2",
   "metadata": {},
   "outputs": [],
   "source": [
    "import numpy as np\n",
    "n = 10\n",
    "# define a matrix of dimension 10 x 10 and set all elements to one\n",
    "A = np.ones( (n, n) )\n",
    "print(A)"
   ]
  },
  {
   "cell_type": "markdown",
   "id": "ff02758e",
   "metadata": {},
   "source": [
    "or as unitarily distributed random numbers (see the material on random number generators in the statistics part)"
   ]
  },
  {
   "cell_type": "code",
   "execution_count": 16,
   "id": "e6410d71",
   "metadata": {},
   "outputs": [],
   "source": [
    "import numpy as np\n",
    "n = 10\n",
    "# define a matrix of dimension 10 x 10 and set all elements to random numbers with x \\in [0, 1]\n",
    "A = np.random.rand(n, n)\n",
    "print(A)"
   ]
  },
  {
   "cell_type": "markdown",
   "id": "e3b5cba0",
   "metadata": {},
   "source": [
    "## Meet the Pandas\n",
    "\n",
    "<!-- dom:FIGURE: [fig/pandas.jpg, width=600 frac=0.8] -->\n",
    "<!-- begin figure -->\n",
    "\n",
    "<img src=\"fig/pandas.jpg\" width=\"600\"><p style=\"font-size: 0.9em\"><i>Figure 1: </i></p>\n",
    "<!-- end figure -->\n",
    "\n",
    "Another useful Python package is\n",
    "[pandas](https://pandas.pydata.org/), which is an open source library\n",
    "providing high-performance, easy-to-use data structures and data\n",
    "analysis tools for Python. **pandas** stands for panel data, a term borrowed from econometrics and is an efficient library for data analysis with an emphasis on tabular data.\n",
    "\n",
    "**pandas** has two major classes, the **DataFrame** class with\n",
    "two-dimensional data objects and tabular data organized in columns and\n",
    "the class **Series** with a focus on one-dimensional data objects. Both\n",
    "classes allow you to index data easily as we will see in the examples\n",
    "below.  **pandas** allows you also to perform mathematical operations on\n",
    "the data, spanning from simple reshapings of vectors and matrices to\n",
    "statistical operations.\n",
    "\n",
    "The following simple example shows how we can, in an easy way make\n",
    "tables of our data. Here we define a data set which includes names,\n",
    "place of birth and date of birth, and displays the data in an easy to\n",
    "read way. We will see repeated use of **pandas**, in particular in\n",
    "connection with classification of data."
   ]
  },
  {
   "cell_type": "code",
   "execution_count": 17,
   "id": "aa3ef063",
   "metadata": {},
   "outputs": [],
   "source": [
    "import pandas as pd\n",
    "from IPython.display import display\n",
    "data = {'First Name': [\"Frodo\", \"Bilbo\", \"Aragorn II\", \"Samwise\"],\n",
    "        'Last Name': [\"Baggins\", \"Baggins\",\"Elessar\",\"Gamgee\"],\n",
    "        'Place of birth': [\"Shire\", \"Shire\", \"Eriador\", \"Shire\"],\n",
    "        'Date of Birth T.A.': [2968, 2890, 2931, 2980]\n",
    "        }\n",
    "data_pandas = pd.DataFrame(data)\n",
    "display(data_pandas)"
   ]
  },
  {
   "cell_type": "markdown",
   "id": "cde236bf",
   "metadata": {},
   "source": [
    "In the above we have imported **pandas** with the shorthand **pd**, the latter has become the standard way we import **pandas**. We make then a list of various variables\n",
    "and reorganize the above lists into a **DataFrame** and then print out  a neat table with specific column labels as *Name*, *place of birth* and *date of birth*.\n",
    "Displaying these results, we see that the indices are given by the default numbers from zero to three.\n",
    "**pandas** is extremely flexible and we can easily change the above indices by defining a new type of indexing as"
   ]
  },
  {
   "cell_type": "code",
   "execution_count": 18,
   "id": "7b62c24f",
   "metadata": {},
   "outputs": [],
   "source": [
    "data_pandas = pd.DataFrame(data,index=['Frodo','Bilbo','Aragorn','Sam'])\n",
    "display(data_pandas)"
   ]
  },
  {
   "cell_type": "markdown",
   "id": "48492178",
   "metadata": {},
   "source": [
    "Thereafter we display the content of the row which begins with the index **Aragorn**"
   ]
  },
  {
   "cell_type": "code",
   "execution_count": 19,
   "id": "d192ed39",
   "metadata": {},
   "outputs": [],
   "source": [
    "display(data_pandas.loc['Aragorn'])"
   ]
  },
  {
   "cell_type": "markdown",
   "id": "8703d940",
   "metadata": {},
   "source": [
    "We can easily append data to this, for example"
   ]
  },
  {
   "cell_type": "code",
   "execution_count": 20,
   "id": "a970d547",
   "metadata": {},
   "outputs": [],
   "source": [
    "new_hobbit = {'First Name': [\"Peregrin\"],\n",
    "              'Last Name': [\"Took\"],\n",
    "              'Place of birth': [\"Shire\"],\n",
    "              'Date of Birth T.A.': [2990]\n",
    "              }\n",
    "data_pandas=data_pandas.append(pd.DataFrame(new_hobbit, index=['Pippin']))\n",
    "display(data_pandas)"
   ]
  },
  {
   "cell_type": "markdown",
   "id": "0fda9fd4",
   "metadata": {},
   "source": [
    "Here are other examples where we use the **DataFrame** functionality to handle arrays, now with more interesting features for us, namely numbers. We set up a matrix \n",
    "of dimensionality $10\\times 5$ and compute the mean value and standard deviation of each column. Similarly, we can perform mathematial operations like squaring the matrix elements and many other operations."
   ]
  },
  {
   "cell_type": "code",
   "execution_count": 21,
   "id": "78a8d5b4",
   "metadata": {},
   "outputs": [],
   "source": [
    "import numpy as np\n",
    "import pandas as pd\n",
    "from IPython.display import display\n",
    "np.random.seed(100)\n",
    "# setting up a 10 x 5 matrix\n",
    "rows = 10\n",
    "cols = 5\n",
    "a = np.random.randn(rows,cols)\n",
    "df = pd.DataFrame(a)\n",
    "display(df)\n",
    "print(df.mean())\n",
    "print(df.std())\n",
    "display(df**2)"
   ]
  },
  {
   "cell_type": "markdown",
   "id": "050fd2ff",
   "metadata": {},
   "source": [
    "Thereafter we can select specific columns only and plot final results"
   ]
  },
  {
   "cell_type": "code",
   "execution_count": 22,
   "id": "57eb5f68",
   "metadata": {},
   "outputs": [],
   "source": [
    "df.columns = ['First', 'Second', 'Third', 'Fourth', 'Fifth']\n",
    "df.index = np.arange(10)\n",
    "\n",
    "display(df)\n",
    "print(df['Second'].mean() )\n",
    "print(df.info())\n",
    "print(df.describe())\n",
    "\n",
    "from pylab import plt, mpl\n",
    "plt.style.use('seaborn')\n",
    "mpl.rcParams['font.family'] = 'serif'\n",
    "\n",
    "df.cumsum().plot(lw=2.0, figsize=(10,6))\n",
    "plt.show()\n",
    "\n",
    "\n",
    "df.plot.bar(figsize=(10,6), rot=15)\n",
    "plt.show()"
   ]
  },
  {
   "cell_type": "markdown",
   "id": "3234b7dd",
   "metadata": {},
   "source": [
    "We can produce a $4\\times 4$ matrix"
   ]
  },
  {
   "cell_type": "code",
   "execution_count": 23,
   "id": "652d1e03",
   "metadata": {},
   "outputs": [],
   "source": [
    "b = np.arange(16).reshape((4,4))\n",
    "print(b)\n",
    "df1 = pd.DataFrame(b)\n",
    "print(df1)"
   ]
  },
  {
   "cell_type": "markdown",
   "id": "6fd05ef6",
   "metadata": {},
   "source": [
    "and many other operations. \n",
    "\n",
    "The **Series** class is another important class included in\n",
    "**pandas**. You can view it as a specialization of **DataFrame** but where\n",
    "we have just a single column of data. It shares many of the same\n",
    "features as **DataFrame**. As with **DataFrame**, most operations are\n",
    "vectorized, achieving thereby a high performance when dealing with\n",
    "computations of arrays, in particular labeled arrays.  As we will see\n",
    "below it leads also to a very concice code close to the mathematical\n",
    "operations we may be interested in.  For multidimensional arrays, we\n",
    "recommend strongly\n",
    "[xarray](http://xarray.pydata.org/en/stable/). **xarray** has much of\n",
    "the same flexibility as **pandas**, but allows for the extension to\n",
    "higher dimensions than two."
   ]
  },
  {
   "cell_type": "markdown",
   "id": "d1fadf90",
   "metadata": {},
   "source": [
    "## Introduction to Git and GitHub/GitLab and similar\n",
    "\n",
    "[Git](https://git-scm.com/) is a distributed version-control system\n",
    "for tracking changes in any set of files, originally designed for\n",
    "coordinating work among programmers cooperating on source code during\n",
    "software development.\n",
    "\n",
    "The [reference document and videos here](https://git-scm.com/doc)\n",
    "give you an excellent introduction to the **git**.\n",
    "\n",
    "We believe you will find version-control software very useful in your work."
   ]
  },
  {
   "cell_type": "markdown",
   "id": "2b3a0d5f",
   "metadata": {},
   "source": [
    "## GitHub, GitLab and many other\n",
    "\n",
    "[GitHub](https://github.com/), [GitLab](https://about.gitlab.com/), [Bitbucket](https://bitbucket.org/product?&aceid=&adposition=&adgroup=92266806717&campaign=1407243017&creative=414608923671&device=c&keyword=bitbucket&matchtype=e&network=g&placement=&ds_kids=p51241248597&ds_e=GOOGLE&ds_eid=700000001551985&ds_e1=GOOGLE&gclid=Cj0KCQiA6Or_BRC_ARIsAPzuer_yrxzs-R8KDVdF0-DduJR9hTBYcjdE8L9_CkA9eyz8XT7-3bFGOpQaAqe2EALw_wcB&gclsrc=aw.ds) and other are code hosting platforms for\n",
    "version control and collaboration. They let you and others work\n",
    "together on projects from anywhere.\n",
    "\n",
    "All teaching material related to this course is open and freely\n",
    "available via the GitHub site of the course. The video here gives a\n",
    "short intro to\n",
    "[GitHub](https://www.youtube.com/watch/w3jLJU7DT5E?reload=9).\n",
    "\n",
    "See also the [overview video on Git and GitHub](https://mediaspace.msu.edu/media/t/1_8mgx3cyf)."
   ]
  },
  {
   "cell_type": "markdown",
   "id": "7576866f",
   "metadata": {},
   "source": [
    "## Useful Git and GitHub links\n",
    "\n",
    "These are a couple references that we have found useful (git commands, markdown, GitPages):\n",
    "* <https://github.com/adam-p/markdown-here/wiki/Markdown-Cheatsheet>\n",
    "\n",
    "* <https://education.github.com/git-cheat-sheet-education.pdf>\n",
    "\n",
    "* <https://guides.github.com/features/pages/>"
   ]
  },
  {
   "cell_type": "markdown",
   "id": "a465ebd6",
   "metadata": {},
   "source": [
    "## Useful IDEs and text editors\n",
    "\n",
    "When dealing with homeworks, at some point you would need to use an\n",
    "editor, or an integrated development envinroment (IDE). As an IDE, we\n",
    "would like to recommend **anaconda** since we end up using\n",
    "jupyter-notebooks.  **anaconda** runs on all known operating systems.\n",
    "\n",
    "If you prefer editing **Python** codes, there are several excellent cross-platform editors.\n",
    "If you are in a Windows environment, **word** is the classical text editor.\n",
    "\n",
    "There is however a wealth of text editors and/ord IDEs that run on all operating\n",
    "systems and functions well with Python.  Some of the more popular ones  are\n",
    "\n",
    "* [Atom](https://atom.io/)\n",
    "\n",
    "* [Sublime](https://www.sublimetext.com/)"
   ]
  },
  {
   "cell_type": "markdown",
   "id": "4f1c9d4b",
   "metadata": {},
   "source": [
    "## Our first Physics encounter\n",
    "\n",
    "We start studying the problem of a  falling object and use this to introduce numerical aspects."
   ]
  },
  {
   "cell_type": "markdown",
   "id": "5c1a9470",
   "metadata": {},
   "source": [
    "## Falling baseball in one dimension\n",
    "\n",
    "We anticipate the mathematical model to come and assume that we have a\n",
    "model for the motion of a falling baseball without air resistance.\n",
    "Our system (the baseball) is at an initial height $y_0$ (which we will\n",
    "specify in the program below) at the initial time $t_0=0$. In our program example here we will plot the position in steps of $\\Delta t$ up to a final time $t_f$. \n",
    "The mathematical formula for the position $y(t)$ as function of time $t$ is"
   ]
  },
  {
   "cell_type": "markdown",
   "id": "d97b4da2",
   "metadata": {},
   "source": [
    "$$\n",
    "y(t) = y_0-\\frac{1}{2}gt^2,\n",
    "$$"
   ]
  },
  {
   "cell_type": "markdown",
   "id": "505a62e8",
   "metadata": {},
   "source": [
    "where $g=9.80665=0.980655\\times 10^1$m/s${}^2$ is a constant representing the standard acceleration due to gravity.\n",
    "We have here adopted the conventional standard value. This does not take into account other effects, such as buoyancy or drag.\n",
    "Furthermore, we stop when the ball hits the ground, which takes place at"
   ]
  },
  {
   "cell_type": "markdown",
   "id": "b6ec5a40",
   "metadata": {},
   "source": [
    "$$\n",
    "y(t) = 0= y_0-\\frac{1}{2}gt^2,\n",
    "$$"
   ]
  },
  {
   "cell_type": "markdown",
   "id": "a52ee185",
   "metadata": {},
   "source": [
    "which gives us a final time $t_f=\\sqrt{2y_0/g}$. \n",
    "\n",
    "As of now we simply assume that   we know the formula for the falling object. Afterwards, we will derive it."
   ]
  },
  {
   "cell_type": "markdown",
   "id": "75b6e5f9",
   "metadata": {},
   "source": [
    "## Our Python Encounter\n",
    "\n",
    "We start with preparing folders for storing our calculations, figures and if needed, specific data files we use as input or output files."
   ]
  },
  {
   "cell_type": "code",
   "execution_count": 2,
   "id": "46c2ac55",
   "metadata": {},
   "outputs": [],
   "source": [
    "# Common imports\n",
    "import numpy as np\n",
    "import pandas as pd\n",
    "import matplotlib.pyplot as plt\n",
    "import os\n",
    "\n",
    "# Where to save the figures and data files\n",
    "PROJECT_ROOT_DIR = \"Results\"\n",
    "FIGURE_ID = \"Results/FigureFiles\"\n",
    "DATA_ID = \"DataFiles/\"\n",
    "\n",
    "if not os.path.exists(PROJECT_ROOT_DIR):\n",
    "    os.mkdir(PROJECT_ROOT_DIR)\n",
    "\n",
    "if not os.path.exists(FIGURE_ID):\n",
    "    os.makedirs(FIGURE_ID)\n",
    "\n",
    "if not os.path.exists(DATA_ID):\n",
    "    os.makedirs(DATA_ID)\n",
    "\n",
    "def image_path(fig_id):\n",
    "    return os.path.join(FIGURE_ID, fig_id)\n",
    "\n",
    "def data_path(dat_id):\n",
    "    return os.path.join(DATA_ID, dat_id)\n",
    "\n",
    "def save_fig(fig_id):\n",
    "    plt.savefig(image_path(fig_id) + \".png\", format='png')\n",
    "\n",
    "#in case we have an input file we wish to read in\n",
    "#infile = open(data_path(\"MassEval2016.dat\"),'r')"
   ]
  },
  {
   "cell_type": "markdown",
   "id": "9a58dbc3",
   "metadata": {},
   "source": [
    "You could also define a function for making our plots. You\n",
    "can obviously avoid this and simply set up various **matplotlib**\n",
    "commands every time you need them. You may however find it convenient\n",
    "to collect all such commands in one function and simply call this\n",
    "function."
   ]
  },
  {
   "cell_type": "code",
   "execution_count": 3,
   "id": "338839a6",
   "metadata": {},
   "outputs": [],
   "source": [
    "from pylab import plt, mpl\n",
    "plt.style.use('seaborn')\n",
    "mpl.rcParams['font.family'] = 'serif'\n",
    "\n",
    "def MakePlot(x,y, styles, labels, axlabels):\n",
    "    plt.figure(figsize=(10,6))\n",
    "    for i in range(len(x)):\n",
    "        plt.plot(x[i], y[i], styles[i], label = labels[i])\n",
    "        plt.xlabel(axlabels[0])\n",
    "        plt.ylabel(axlabels[1])\n",
    "    plt.legend(loc=0)"
   ]
  },
  {
   "cell_type": "markdown",
   "id": "9b66055a",
   "metadata": {},
   "source": [
    "Thereafter we start setting up the code for the falling object."
   ]
  },
  {
   "cell_type": "code",
   "execution_count": 16,
   "id": "73dc3bf7",
   "metadata": {},
   "outputs": [
    {
     "data": {
      "text/html": [
       "<div>\n",
       "<style scoped>\n",
       "    .dataframe tbody tr th:only-of-type {\n",
       "        vertical-align: middle;\n",
       "    }\n",
       "\n",
       "    .dataframe tbody tr th {\n",
       "        vertical-align: top;\n",
       "    }\n",
       "\n",
       "    .dataframe thead th {\n",
       "        text-align: right;\n",
       "    }\n",
       "</style>\n",
       "<table border=\"1\" class=\"dataframe\">\n",
       "  <thead>\n",
       "    <tr style=\"text-align: right;\">\n",
       "      <th></th>\n",
       "      <th>t[s]</th>\n",
       "      <th>y[m]</th>\n",
       "    </tr>\n",
       "  </thead>\n",
       "  <tbody>\n",
       "    <tr>\n",
       "      <th>0</th>\n",
       "      <td>0.0</td>\n",
       "      <td>10.000000</td>\n",
       "    </tr>\n",
       "    <tr>\n",
       "      <th>1</th>\n",
       "      <td>0.1</td>\n",
       "      <td>9.950967</td>\n",
       "    </tr>\n",
       "    <tr>\n",
       "      <th>2</th>\n",
       "      <td>0.2</td>\n",
       "      <td>9.803869</td>\n",
       "    </tr>\n",
       "    <tr>\n",
       "      <th>3</th>\n",
       "      <td>0.3</td>\n",
       "      <td>9.558705</td>\n",
       "    </tr>\n",
       "    <tr>\n",
       "      <th>4</th>\n",
       "      <td>0.4</td>\n",
       "      <td>9.215476</td>\n",
       "    </tr>\n",
       "    <tr>\n",
       "      <th>5</th>\n",
       "      <td>0.5</td>\n",
       "      <td>8.774181</td>\n",
       "    </tr>\n",
       "    <tr>\n",
       "      <th>6</th>\n",
       "      <td>0.6</td>\n",
       "      <td>8.234821</td>\n",
       "    </tr>\n",
       "    <tr>\n",
       "      <th>7</th>\n",
       "      <td>0.7</td>\n",
       "      <td>7.597395</td>\n",
       "    </tr>\n",
       "    <tr>\n",
       "      <th>8</th>\n",
       "      <td>0.8</td>\n",
       "      <td>6.861904</td>\n",
       "    </tr>\n",
       "    <tr>\n",
       "      <th>9</th>\n",
       "      <td>0.9</td>\n",
       "      <td>6.028347</td>\n",
       "    </tr>\n",
       "    <tr>\n",
       "      <th>10</th>\n",
       "      <td>1.0</td>\n",
       "      <td>5.096725</td>\n",
       "    </tr>\n",
       "    <tr>\n",
       "      <th>11</th>\n",
       "      <td>1.1</td>\n",
       "      <td>4.067037</td>\n",
       "    </tr>\n",
       "    <tr>\n",
       "      <th>12</th>\n",
       "      <td>1.2</td>\n",
       "      <td>2.939284</td>\n",
       "    </tr>\n",
       "    <tr>\n",
       "      <th>13</th>\n",
       "      <td>1.3</td>\n",
       "      <td>1.713465</td>\n",
       "    </tr>\n",
       "    <tr>\n",
       "      <th>14</th>\n",
       "      <td>1.4</td>\n",
       "      <td>0.389581</td>\n",
       "    </tr>\n",
       "  </tbody>\n",
       "</table>\n",
       "</div>"
      ],
      "text/plain": [
       "    t[s]       y[m]\n",
       "0    0.0  10.000000\n",
       "1    0.1   9.950967\n",
       "2    0.2   9.803869\n",
       "3    0.3   9.558705\n",
       "4    0.4   9.215476\n",
       "5    0.5   8.774181\n",
       "6    0.6   8.234821\n",
       "7    0.7   7.597395\n",
       "8    0.8   6.861904\n",
       "9    0.9   6.028347\n",
       "10   1.0   5.096725\n",
       "11   1.1   4.067037\n",
       "12   1.2   2.939284\n",
       "13   1.3   1.713465\n",
       "14   1.4   0.389581"
      ]
     },
     "metadata": {},
     "output_type": "display_data"
    },
    {
     "data": {
      "image/png": "[encoded data removed]",
      "text/plain": [
       "<Figure size 576x576 with 1 Axes>"
      ]
     },
     "metadata": {},
     "output_type": "display_data"
    }
   ],
   "source": [
    "%matplotlib inline\n",
    "import matplotlib.patches as mpatches\n",
    "\n",
    "g = 9.80655 #m/s^2\n",
    "y_0 = 10.0 # initial position in meters\n",
    "DeltaT = 0.1  # time step\n",
    "# final time when y = 0, t = sqrt(2*10/g)\n",
    "tfinal = np.sqrt(2.0*y_0/g)\n",
    "#set up arrays \n",
    "t = np.arange(0,tfinal,DeltaT)\n",
    "y =y_0 -g*.5*t**2\n",
    "# Then make a nice printout in table form using Pandas\n",
    "import pandas as pd\n",
    "from IPython.display import display\n",
    "data = {'t[s]': t,\n",
    "        'y[m]': y\n",
    "        }\n",
    "RawData = pd.DataFrame(data)\n",
    "display(RawData)\n",
    "plt.style.use('ggplot')\n",
    "plt.figure(figsize=(8,8))\n",
    "plt.scatter(t, y, color = 'b')\n",
    "blue_patch = mpatches.Patch(color = 'b', label = 'Height y as function of  time t')\n",
    "plt.legend(handles=[blue_patch])\n",
    "plt.xlabel(\"t[s]\")\n",
    "plt.ylabel(\"y[m]\")\n",
    "save_fig(\"FallingBaseball\")\n",
    "plt.show()"
   ]
  },
  {
   "cell_type": "markdown",
   "id": "caac7f86",
   "metadata": {},
   "source": [
    "Here we used **pandas** (see below) to systemize the output of the position as function of time."
   ]
  },
  {
   "cell_type": "markdown",
   "id": "490b28ba",
   "metadata": {},
   "source": [
    "## Average quantities\n",
    "We define now the average velocity as"
   ]
  },
  {
   "cell_type": "markdown",
   "id": "1d986712",
   "metadata": {},
   "source": [
    "$$\n",
    "\\overline{v}(t) = \\frac{y(t+\\Delta t)-y(t)}{\\Delta t}.\n",
    "$$"
   ]
  },
  {
   "cell_type": "markdown",
   "id": "282bcfd7",
   "metadata": {},
   "source": [
    "In the code we have set the time step $\\Delta t$ to a given value. We could define it in terms of the number of points $n$ as"
   ]
  },
  {
   "cell_type": "markdown",
   "id": "1045b975",
   "metadata": {},
   "source": [
    "$$\n",
    "\\Delta t = \\frac{t_{\\mathrm{final}-}t_{\\mathrm{initial}}}{n}.\n",
    "$$"
   ]
  },
  {
   "cell_type": "markdown",
   "id": "e2b5b8ab",
   "metadata": {},
   "source": [
    "Since we have discretized the variables, we introduce the counter $i$ and let $y(t)\\rightarrow y(t_i)=y_i$ and $t\\rightarrow t_i$\n",
    "with $i=0,1,\\dots, n$. This gives us the following shorthand notations that we will use for the rest of this course. We define"
   ]
  },
  {
   "cell_type": "markdown",
   "id": "88dcb30c",
   "metadata": {},
   "source": [
    "$$\n",
    "y_i = y(t_i),\\hspace{0.2cm} i=0,1,2,\\dots,n.\n",
    "$$"
   ]
  },
  {
   "cell_type": "markdown",
   "id": "84901d03",
   "metadata": {},
   "source": [
    "This applies to other variables which depend on say time. Examples are the velocities, accelerations, momenta etc.\n",
    "Furthermore we use the shorthand"
   ]
  },
  {
   "cell_type": "markdown",
   "id": "c96bd90d",
   "metadata": {},
   "source": [
    "$$\n",
    "y_{i\\pm 1} = y(t_i\\pm \\Delta t),\\hspace{0.12cm} i=0,1,2,\\dots,n.\n",
    "$$"
   ]
  },
  {
   "cell_type": "markdown",
   "id": "27a545fa",
   "metadata": {},
   "source": [
    "## Compact equations\n",
    "We can then rewrite in a more compact form the average velocity as"
   ]
  },
  {
   "cell_type": "markdown",
   "id": "581c5f1e",
   "metadata": {},
   "source": [
    "$$\n",
    "\\overline{v}_i = \\frac{y_{i+1}-y_{i}}{\\Delta t}.\n",
    "$$"
   ]
  },
  {
   "cell_type": "markdown",
   "id": "a3313d6f",
   "metadata": {},
   "source": [
    "The velocity is defined as the change in position per unit time.\n",
    "In the limit $\\Delta t \\rightarrow 0$ this defines the instantaneous velocity, which is nothing but the slope of the position at a time $t$.\n",
    "We have thus"
   ]
  },
  {
   "cell_type": "markdown",
   "id": "063c3617",
   "metadata": {},
   "source": [
    "$$\n",
    "v(t) = \\frac{dy}{dt}=\\lim_{\\Delta t \\rightarrow 0}\\frac{y(t+\\Delta t)-y(t)}{\\Delta t}.\n",
    "$$"
   ]
  },
  {
   "cell_type": "markdown",
   "id": "ee9f8851",
   "metadata": {},
   "source": [
    "Similarly, we can define the average acceleration as the change in velocity per unit time as"
   ]
  },
  {
   "cell_type": "markdown",
   "id": "ddeb5fd4",
   "metadata": {},
   "source": [
    "$$\n",
    "\\overline{a}_i = \\frac{v_{i+1}-v_{i}}{\\Delta t},\n",
    "$$"
   ]
  },
  {
   "cell_type": "markdown",
   "id": "e9b253d0",
   "metadata": {},
   "source": [
    "resulting in the instantaneous acceleration"
   ]
  },
  {
   "cell_type": "markdown",
   "id": "7cf60fac",
   "metadata": {},
   "source": [
    "$$\n",
    "a(t) = \\frac{dv}{dt}=\\lim_{\\Delta t\\rightarrow 0}\\frac{v(t+\\Delta t)-v(t)}{\\Delta t}.\n",
    "$$"
   ]
  },
  {
   "cell_type": "markdown",
   "id": "0cd12232",
   "metadata": {},
   "source": [
    "**A note on notations**: When writing for example the velocity as $v(t)$ we are then referring to the continuous and instantaneous value. A subscript like\n",
    "$v_i$ refers always to the discretized values."
   ]
  },
  {
   "cell_type": "markdown",
   "id": "8390ea65",
   "metadata": {},
   "source": [
    "## A differential equation\n",
    "We can rewrite the instantaneous acceleration as"
   ]
  },
  {
   "cell_type": "markdown",
   "id": "fcb9665b",
   "metadata": {},
   "source": [
    "$$\n",
    "a(t) = \\frac{dv}{dt}=\\frac{d}{dt}\\frac{dy}{dt}=\\frac{d^2y}{dt^2}.\n",
    "$$"
   ]
  },
  {
   "cell_type": "markdown",
   "id": "8466f305",
   "metadata": {},
   "source": [
    "This forms the starting point for our definition of forces later. It is a famous second-order differential equation. If the acceleration is constant we can now recover the formula for the falling ball we started with.\n",
    "The acceleration can depend on the position and the velocity. To be more formal we should then write the above differential equation as"
   ]
  },
  {
   "cell_type": "markdown",
   "id": "559ea732",
   "metadata": {},
   "source": [
    "$$\n",
    "\\frac{d^2y}{dt^2}=a(t,y(t),\\frac{dy}{dt}).\n",
    "$$"
   ]
  },
  {
   "cell_type": "markdown",
   "id": "5365ef5a",
   "metadata": {},
   "source": [
    "With given initial conditions for $y(t_0)$ and $v(t_0)$ we can then\n",
    "integrate the above equation and find the velocities and positions at\n",
    "a given time $t$.\n",
    "\n",
    "If we multiply with mass, we have one of the famous expressions for Newton's second law,"
   ]
  },
  {
   "cell_type": "markdown",
   "id": "605c6da2",
   "metadata": {},
   "source": [
    "$$\n",
    "F(y,v,t)=m\\frac{d^2y}{dt^2}=ma(t,y(t),\\frac{dy}{dt}),\n",
    "$$"
   ]
  },
  {
   "cell_type": "markdown",
   "id": "2ec86942",
   "metadata": {},
   "source": [
    "where $F$ is the force acting on an object with mass $m$. We see that it also has the right dimension, mass times length divided by time squared.\n",
    "We will come back to this soon."
   ]
  },
  {
   "cell_type": "markdown",
   "id": "e9e4df56",
   "metadata": {},
   "source": [
    "## Integrating our equations\n",
    "\n",
    "Formally we can then, starting with the acceleration (suppose we have measured it, how could we do that?)\n",
    "compute say the height of a building.  To see this we perform the following integrations from an initial time $t_0$  to a given time $t$"
   ]
  },
  {
   "cell_type": "markdown",
   "id": "9342e71a",
   "metadata": {},
   "source": [
    "$$\n",
    "\\int_{t_0}^t dt' a(t') = \\int_{t_0}^t dt' \\frac{dv}{dt'} = v(t)-v(t_0),\n",
    "$$"
   ]
  },
  {
   "cell_type": "markdown",
   "id": "9260d2eb",
   "metadata": {},
   "source": [
    "or as"
   ]
  },
  {
   "cell_type": "markdown",
   "id": "21fdb986",
   "metadata": {},
   "source": [
    "$$\n",
    "v(t)=v(t_0)+\\int_{t_0}^t dt' a(t').\n",
    "$$"
   ]
  },
  {
   "cell_type": "markdown",
   "id": "6a9347c7",
   "metadata": {},
   "source": [
    "When we know the velocity as function of time, we can find the position as function of time starting from the defintion of velocity as the derivative with respect to time, that is we have"
   ]
  },
  {
   "cell_type": "markdown",
   "id": "1ec34418",
   "metadata": {},
   "source": [
    "$$\n",
    "\\int_{t_0}^t dt' v(t') = \\int_{t_0}^t dt' \\frac{dy}{dt'} = y(t)-y(t_0),\n",
    "$$"
   ]
  },
  {
   "cell_type": "markdown",
   "id": "c79c9223",
   "metadata": {},
   "source": [
    "or as"
   ]
  },
  {
   "cell_type": "markdown",
   "id": "7cc5d60d",
   "metadata": {},
   "source": [
    "$$\n",
    "y(t)=y(t_0)+\\int_{t_0}^t dt' v(t').\n",
    "$$"
   ]
  },
  {
   "cell_type": "markdown",
   "id": "c0469930",
   "metadata": {},
   "source": [
    "These equations define what is called the integration method for\n",
    "finding the position and the velocity as functions of time. There is\n",
    "no loss of generality if we extend these equations to more than one\n",
    "spatial dimension."
   ]
  },
  {
   "cell_type": "markdown",
   "id": "601dd9b0",
   "metadata": {},
   "source": [
    "## Constant acceleration case, the velocity\n",
    "Let us compute the velocity using the constant value for the acceleration given by $-g$. We have"
   ]
  },
  {
   "cell_type": "markdown",
   "id": "cc06230b",
   "metadata": {},
   "source": [
    "$$\n",
    "v(t)=v(t_0)+\\int_{t_0}^t dt' a(t')=v(t_0)+\\int_{t_0}^t dt' (-g).\n",
    "$$"
   ]
  },
  {
   "cell_type": "markdown",
   "id": "f5c236de",
   "metadata": {},
   "source": [
    "Using our initial time as $t_0=0$s and setting the initial velocity $v(t_0)=v_0=0$m/s we get when integrating"
   ]
  },
  {
   "cell_type": "markdown",
   "id": "105ccd87",
   "metadata": {},
   "source": [
    "$$\n",
    "v(t)=-gt.\n",
    "$$"
   ]
  },
  {
   "cell_type": "markdown",
   "id": "84c04087",
   "metadata": {},
   "source": [
    "The more general case is"
   ]
  },
  {
   "cell_type": "markdown",
   "id": "f9ee1e94",
   "metadata": {},
   "source": [
    "$$\n",
    "v(t)=v_0-g(t-t_0).\n",
    "$$"
   ]
  },
  {
   "cell_type": "markdown",
   "id": "40e5c3f6",
   "metadata": {},
   "source": [
    "We can then integrate the velocity and obtain the final formula for the position as function of time through"
   ]
  },
  {
   "cell_type": "markdown",
   "id": "91c5a63e",
   "metadata": {},
   "source": [
    "$$\n",
    "y(t)=y(t_0)+\\int_{t_0}^t dt' v(t')=y_0+\\int_{t_0}^t dt' v(t')=y_0+\\int_{t_0}^t dt' (-gt'),\n",
    "$$"
   ]
  },
  {
   "cell_type": "markdown",
   "id": "4cc155e6",
   "metadata": {},
   "source": [
    "With $y_0=10$m and $t_0=0$s, we obtain the equation we started with"
   ]
  },
  {
   "cell_type": "markdown",
   "id": "21fb6337",
   "metadata": {},
   "source": [
    "$$\n",
    "y(t)=10-\\frac{1}{2}gt^2.\n",
    "$$"
   ]
  },
  {
   "cell_type": "markdown",
   "id": "8d1a3292",
   "metadata": {},
   "source": [
    "## Computing the averages\n",
    "After this mathematical background we are now ready to compute the mean velocity using our data."
   ]
  },
  {
   "cell_type": "code",
   "execution_count": 6,
   "id": "f1ff20f1",
   "metadata": {},
   "outputs": [
    {
     "data": {
      "text/html": [
       "<div>\n",
       "<style scoped>\n",
       "    .dataframe tbody tr th:only-of-type {\n",
       "        vertical-align: middle;\n",
       "    }\n",
       "\n",
       "    .dataframe tbody tr th {\n",
       "        vertical-align: top;\n",
       "    }\n",
       "\n",
       "    .dataframe thead th {\n",
       "        text-align: right;\n",
       "    }\n",
       "</style>\n",
       "<table border=\"1\" class=\"dataframe\">\n",
       "  <thead>\n",
       "    <tr style=\"text-align: right;\">\n",
       "      <th></th>\n",
       "      <th>t[s]</th>\n",
       "      <th>y[m]</th>\n",
       "      <th>v[m/s]</th>\n",
       "      <th>a[m/s^2]</th>\n",
       "    </tr>\n",
       "  </thead>\n",
       "  <tbody>\n",
       "    <tr>\n",
       "      <th>0</th>\n",
       "      <td>0.0</td>\n",
       "      <td>10.000000</td>\n",
       "      <td>0.000000</td>\n",
       "      <td>-9.80655</td>\n",
       "    </tr>\n",
       "    <tr>\n",
       "      <th>1</th>\n",
       "      <td>0.1</td>\n",
       "      <td>9.950967</td>\n",
       "      <td>-1.470982</td>\n",
       "      <td>-9.80655</td>\n",
       "    </tr>\n",
       "    <tr>\n",
       "      <th>2</th>\n",
       "      <td>0.2</td>\n",
       "      <td>9.803869</td>\n",
       "      <td>-2.451638</td>\n",
       "      <td>-9.80655</td>\n",
       "    </tr>\n",
       "    <tr>\n",
       "      <th>3</th>\n",
       "      <td>0.3</td>\n",
       "      <td>9.558705</td>\n",
       "      <td>-3.432292</td>\n",
       "      <td>-9.80655</td>\n",
       "    </tr>\n",
       "    <tr>\n",
       "      <th>4</th>\n",
       "      <td>0.4</td>\n",
       "      <td>9.215476</td>\n",
       "      <td>-4.412948</td>\n",
       "      <td>-9.80655</td>\n",
       "    </tr>\n",
       "    <tr>\n",
       "      <th>5</th>\n",
       "      <td>0.5</td>\n",
       "      <td>8.774181</td>\n",
       "      <td>-5.393602</td>\n",
       "      <td>-9.80655</td>\n",
       "    </tr>\n",
       "    <tr>\n",
       "      <th>6</th>\n",
       "      <td>0.6</td>\n",
       "      <td>8.234821</td>\n",
       "      <td>-6.374258</td>\n",
       "      <td>-9.80655</td>\n",
       "    </tr>\n",
       "    <tr>\n",
       "      <th>7</th>\n",
       "      <td>0.7</td>\n",
       "      <td>7.597395</td>\n",
       "      <td>-7.354913</td>\n",
       "      <td>-9.80655</td>\n",
       "    </tr>\n",
       "    <tr>\n",
       "      <th>8</th>\n",
       "      <td>0.8</td>\n",
       "      <td>6.861904</td>\n",
       "      <td>-8.335567</td>\n",
       "      <td>-9.80655</td>\n",
       "    </tr>\n",
       "    <tr>\n",
       "      <th>9</th>\n",
       "      <td>0.9</td>\n",
       "      <td>6.028347</td>\n",
       "      <td>-9.316222</td>\n",
       "      <td>-9.80655</td>\n",
       "    </tr>\n",
       "    <tr>\n",
       "      <th>10</th>\n",
       "      <td>1.0</td>\n",
       "      <td>5.096725</td>\n",
       "      <td>-10.296878</td>\n",
       "      <td>-9.80655</td>\n",
       "    </tr>\n",
       "    <tr>\n",
       "      <th>11</th>\n",
       "      <td>1.1</td>\n",
       "      <td>4.067037</td>\n",
       "      <td>-11.277533</td>\n",
       "      <td>-9.80655</td>\n",
       "    </tr>\n",
       "    <tr>\n",
       "      <th>12</th>\n",
       "      <td>1.2</td>\n",
       "      <td>2.939284</td>\n",
       "      <td>-12.258187</td>\n",
       "      <td>-9.80655</td>\n",
       "    </tr>\n",
       "  </tbody>\n",
       "</table>\n",
       "</div>"
      ],
      "text/plain": [
       "    t[s]       y[m]     v[m/s]  a[m/s^2]\n",
       "0    0.0  10.000000   0.000000  -9.80655\n",
       "1    0.1   9.950967  -1.470982  -9.80655\n",
       "2    0.2   9.803869  -2.451638  -9.80655\n",
       "3    0.3   9.558705  -3.432292  -9.80655\n",
       "4    0.4   9.215476  -4.412948  -9.80655\n",
       "5    0.5   8.774181  -5.393602  -9.80655\n",
       "6    0.6   8.234821  -6.374258  -9.80655\n",
       "7    0.7   7.597395  -7.354913  -9.80655\n",
       "8    0.8   6.861904  -8.335567  -9.80655\n",
       "9    0.9   6.028347  -9.316222  -9.80655\n",
       "10   1.0   5.096725 -10.296878  -9.80655\n",
       "11   1.1   4.067037 -11.277533  -9.80655\n",
       "12   1.2   2.939284 -12.258187  -9.80655"
      ]
     },
     "metadata": {},
     "output_type": "display_data"
    }
   ],
   "source": [
    "# Now we can compute the mean velocity using our data\n",
    "# We define first an array Vaverage\n",
    "n = np.size(t)\n",
    "Vaverage = np.zeros(n)\n",
    "for i in range(1,n-1):\n",
    "    Vaverage[i] = (y[i+1]-y[i])/DeltaT\n",
    "# Now we can compute the mean accelearatio using our data\n",
    "# We define first an array Aaverage\n",
    "n = np.size(t)\n",
    "Aaverage = np.zeros(n)\n",
    "Aaverage[0] = -g\n",
    "for i in range(1,n-1):\n",
    "    Aaverage[i] = (Vaverage[i+1]-Vaverage[i])/DeltaT\n",
    "data = {'t[s]': t,\n",
    "        'y[m]': y,\n",
    "        'v[m/s]': Vaverage,\n",
    "        'a[m/s^2]': Aaverage\n",
    "        }\n",
    "NewData = pd.DataFrame(data)\n",
    "display(NewData[0:n-2])"
   ]
  },
  {
   "cell_type": "markdown",
   "id": "f4245239",
   "metadata": {},
   "source": [
    "Note that we don't print the last values!"
   ]
  },
  {
   "cell_type": "markdown",
   "id": "bd4357dd",
   "metadata": {},
   "source": [
    "## Including Air Resistance in our model\n",
    "\n",
    "In our discussions till now of the falling baseball, we have ignored\n",
    "air resistance and simply assumed that our system is only influenced\n",
    "by the gravitational force.  We will postpone the derivation of air\n",
    "resistance till later, after our discussion of Newton's laws and\n",
    "forces.\n",
    "\n",
    "For our discussions here it suffices to state that the accelerations is now modified to"
   ]
  },
  {
   "cell_type": "markdown",
   "id": "05a04ece",
   "metadata": {},
   "source": [
    "$$\n",
    "\\boldsymbol{a}(t) = -g +D\\boldsymbol{v}(t)\\vert v(t)\\vert,\n",
    "$$"
   ]
  },
  {
   "cell_type": "markdown",
   "id": "3b0d2380",
   "metadata": {},
   "source": [
    "where $\\vert v(t)\\vert$ is the absolute value of the velocity and $D$ is a constant which pertains to the specific object we are studying.\n",
    "Since we are dealing with motion in one dimension, we can simplify the above to"
   ]
  },
  {
   "cell_type": "markdown",
   "id": "ecb5ebf9",
   "metadata": {},
   "source": [
    "$$\n",
    "a(t) = -g +Dv^2(t).\n",
    "$$"
   ]
  },
  {
   "cell_type": "markdown",
   "id": "1b0649eb",
   "metadata": {},
   "source": [
    "We can rewrite this as a differential equation"
   ]
  },
  {
   "cell_type": "markdown",
   "id": "630ed1d5",
   "metadata": {},
   "source": [
    "$$\n",
    "a(t) = \\frac{dv}{dt}=\\frac{d^2y}{dt^2}= -g +Dv^2(t).\n",
    "$$"
   ]
  },
  {
   "cell_type": "markdown",
   "id": "4639913d",
   "metadata": {},
   "source": [
    "Using the integral equations discussed above we can integrate twice\n",
    "and obtain first the velocity as function of time and thereafter the\n",
    "position as function of time.\n",
    "\n",
    "For this particular case, we can actually obtain an analytical\n",
    "solution for the velocity and for the position. Here we will first\n",
    "compute the solutions analytically, thereafter we will derive Euler's\n",
    "method for solving these differential equations numerically."
   ]
  },
  {
   "cell_type": "markdown",
   "id": "bfe71527",
   "metadata": {},
   "source": [
    "## Analytical solutions\n",
    "\n",
    "For simplicity let us just write $v(t)$ as $v$. We have"
   ]
  },
  {
   "cell_type": "markdown",
   "id": "2b43c6d4",
   "metadata": {},
   "source": [
    "$$\n",
    "\\frac{dv}{dt}= -g +Dv^2(t).\n",
    "$$"
   ]
  },
  {
   "cell_type": "markdown",
   "id": "37a954fa",
   "metadata": {},
   "source": [
    "We can solve this using the technique of separation of variables. We\n",
    "isolate on the left all terms that involve $v$ and on the right all\n",
    "terms that involve time. We get then"
   ]
  },
  {
   "cell_type": "markdown",
   "id": "581a9309",
   "metadata": {},
   "source": [
    "$$\n",
    "\\frac{dv}{g -Dv^2(t) }= -dt,\n",
    "$$"
   ]
  },
  {
   "cell_type": "markdown",
   "id": "37b43864",
   "metadata": {},
   "source": [
    "We scale now the equation to the left by introducing a constant\n",
    "$v_T=\\sqrt{g/D}$. This constant has dimension length/time. Can you\n",
    "show this?\n",
    "\n",
    "Next we integrate the left-hand side (lhs) from $v_0=0$ m/s to $v$ and\n",
    "the right-hand side (rhs) from $t_0=0$ to $t$ and obtain"
   ]
  },
  {
   "cell_type": "markdown",
   "id": "b84f391a",
   "metadata": {},
   "source": [
    "$$\n",
    "\\int_{0}^v\\frac{dv'}{g -D(v')^2(t) }= \\frac{v_T}{g}\\mathrm{arctanh}(\\frac{v}{v_T})  =-\\int_0^tdt' = -t.\n",
    "$$"
   ]
  },
  {
   "cell_type": "markdown",
   "id": "4eb67cbf",
   "metadata": {},
   "source": [
    "We can reorganize these equations as"
   ]
  },
  {
   "cell_type": "markdown",
   "id": "551ce943",
   "metadata": {},
   "source": [
    "$$\n",
    "v_T\\mathrm{arctanh}(\\frac{v}{v_T})  =-gt,\n",
    "$$"
   ]
  },
  {
   "cell_type": "markdown",
   "id": "8bdbe3dd",
   "metadata": {},
   "source": [
    "which gives us $v$ as function of time"
   ]
  },
  {
   "cell_type": "markdown",
   "id": "daa18d0c",
   "metadata": {},
   "source": [
    "$$\n",
    "v(t)=v_T\\tanh{-(\\frac{gt}{v_T})}.\n",
    "$$"
   ]
  },
  {
   "cell_type": "markdown",
   "id": "f7bb6aba",
   "metadata": {},
   "source": [
    "## Finding the final height\n",
    "With the velocity we can then find the height $y(t)$ by integrating yet another time, that is"
   ]
  },
  {
   "cell_type": "markdown",
   "id": "d810c420",
   "metadata": {},
   "source": [
    "$$\n",
    "y(t)=y(t_0)+\\int_{t_0}^t dt' v(t')=\\int_{0}^t dt'[v_T\\tanh{-(\\frac{gt'}{v_T})}].\n",
    "$$"
   ]
  },
  {
   "cell_type": "markdown",
   "id": "0053ad10",
   "metadata": {},
   "source": [
    "This integral is trickier but we can look it up in a table over \n",
    "known integrals and we get"
   ]
  },
  {
   "cell_type": "markdown",
   "id": "127c1958",
   "metadata": {},
   "source": [
    "$$\n",
    "y(t)=y(t_0)-\\frac{v_T^2}{g}\\log{[\\cosh{(\\frac{gt}{v_T})}]}.\n",
    "$$"
   ]
  },
  {
   "cell_type": "markdown",
   "id": "b3c79f1d",
   "metadata": {},
   "source": [
    "Alternatively we could have used the symbolic Python package **Sympy**  (example will be inserted later). \n",
    "\n",
    "In most cases however, we need to revert to numerical solutions."
   ]
  },
  {
   "cell_type": "markdown",
   "id": "a09a4251",
   "metadata": {},
   "source": [
    "## Our first attempt at solving differential equations\n",
    "\n",
    "Here we will try the simplest possible approach to solving the second-order differential \n",
    "equation"
   ]
  },
  {
   "cell_type": "markdown",
   "id": "0ee3a0d1",
   "metadata": {},
   "source": [
    "$$\n",
    "a(t) =\\frac{d^2y}{dt^2}= -g +Dv^2(t).\n",
    "$$"
   ]
  },
  {
   "cell_type": "markdown",
   "id": "c8264a68",
   "metadata": {},
   "source": [
    "We rewrite it as two coupled first-order equations (this is a standard approach)"
   ]
  },
  {
   "cell_type": "markdown",
   "id": "24b70336",
   "metadata": {},
   "source": [
    "$$\n",
    "\\frac{dy}{dt} = v(t),\n",
    "$$"
   ]
  },
  {
   "cell_type": "markdown",
   "id": "a05440d5",
   "metadata": {},
   "source": [
    "with initial condition $y(t_0)=y_0$ and"
   ]
  },
  {
   "cell_type": "markdown",
   "id": "598d2381",
   "metadata": {},
   "source": [
    "$$\n",
    "a(t) =\\frac{dv}{dt}= -g +Dv^2(t),\n",
    "$$"
   ]
  },
  {
   "cell_type": "markdown",
   "id": "97caa34b",
   "metadata": {},
   "source": [
    "with initial condition $v(t_0)=v_0$.\n",
    "\n",
    "Many of the algorithms for solving differential equations start with simple Taylor equations.\n",
    "If we now Taylor expand $y$ and $v$ around a value $t+\\Delta t$ we have"
   ]
  },
  {
   "cell_type": "markdown",
   "id": "4fcfff99",
   "metadata": {},
   "source": [
    "$$\n",
    "y(t+\\Delta t) = y(t)+\\Delta t \\frac{dy}{dt}+\\frac{\\Delta t^2}{2!} \\frac{d^2y}{dt^2}+O(\\Delta t^3),\n",
    "$$"
   ]
  },
  {
   "cell_type": "markdown",
   "id": "b7b42758",
   "metadata": {},
   "source": [
    "and"
   ]
  },
  {
   "cell_type": "markdown",
   "id": "383edf0f",
   "metadata": {},
   "source": [
    "$$\n",
    "v(t+\\Delta t) = v(t)+\\Delta t \\frac{dv}{dt}+\\frac{\\Delta t^2}{2!} \\frac{d^2v}{dt^2}+O(\\Delta t^3).\n",
    "$$"
   ]
  },
  {
   "cell_type": "markdown",
   "id": "61c06199",
   "metadata": {},
   "source": [
    "Using the fact that $dy/dt = v$ and $dv/dt=a$ and keeping only terms up to $\\Delta t$ we have"
   ]
  },
  {
   "cell_type": "markdown",
   "id": "4cd0409d",
   "metadata": {},
   "source": [
    "$$\n",
    "y(t+\\Delta t) = y(t)+\\Delta t v(t)+O(\\Delta t^2),\n",
    "$$"
   ]
  },
  {
   "cell_type": "markdown",
   "id": "bb1aa831",
   "metadata": {},
   "source": [
    "and"
   ]
  },
  {
   "cell_type": "markdown",
   "id": "7208218f",
   "metadata": {},
   "source": [
    "$$\n",
    "v(t+\\Delta t) = v(t)+\\Delta t a(t)+O(\\Delta t^2).\n",
    "$$"
   ]
  },
  {
   "cell_type": "markdown",
   "id": "257a9e77",
   "metadata": {},
   "source": [
    "## Discretizing our equations\n",
    "\n",
    "Using our discretized versions of the equations with for example\n",
    "$y_{i}=y(t_i)$ and $y_{i\\pm 1}=y(t_i+\\Delta t)$, we can rewrite the\n",
    "above equations as (and truncating at $\\Delta t$)"
   ]
  },
  {
   "cell_type": "markdown",
   "id": "99de41e2",
   "metadata": {},
   "source": [
    "$$\n",
    "y_{i+1} = y_i+\\Delta t v_i,\n",
    "$$"
   ]
  },
  {
   "cell_type": "markdown",
   "id": "6f9fd54a",
   "metadata": {},
   "source": [
    "and"
   ]
  },
  {
   "cell_type": "markdown",
   "id": "3cbde08f",
   "metadata": {},
   "source": [
    "$$\n",
    "v_{i+1} = v_i+\\Delta t a_i.\n",
    "$$"
   ]
  },
  {
   "cell_type": "markdown",
   "id": "281cff63",
   "metadata": {},
   "source": [
    "These are the famous Euler equations (forward Euler).\n",
    "\n",
    "To solve these equations numerically we start at a time $t_0$ and simply integrate up these equations to a final time $t_f$,\n",
    "The step size $\\Delta t$ is an input  parameter in our code.\n",
    "You can define it directly in the code below as"
   ]
  },
  {
   "cell_type": "code",
   "execution_count": 7,
   "id": "c5db0e43",
   "metadata": {},
   "outputs": [],
   "source": [
    "DeltaT = 0.1"
   ]
  },
  {
   "cell_type": "markdown",
   "id": "e71e08a5",
   "metadata": {},
   "source": [
    "With a given final time **tfinal**  we can then find the number of integration points via the **ceil** function included in the **math** package of Python\n",
    "as"
   ]
  },
  {
   "cell_type": "code",
   "execution_count": 8,
   "id": "4056890a",
   "metadata": {},
   "outputs": [
    {
     "name": "stdout",
     "output_type": "stream",
     "text": [
      "5\n"
     ]
    }
   ],
   "source": [
    "#define final time, assuming that initial time is zero\n",
    "from math import ceil\n",
    "tfinal = 0.5\n",
    "n = ceil(tfinal/DeltaT)\n",
    "print(n)"
   ]
  },
  {
   "cell_type": "markdown",
   "id": "33a0498f",
   "metadata": {},
   "source": [
    "The **ceil** function returns the smallest integer not less than the input in say"
   ]
  },
  {
   "cell_type": "code",
   "execution_count": 9,
   "id": "8af0a24b",
   "metadata": {},
   "outputs": [
    {
     "name": "stdout",
     "output_type": "stream",
     "text": [
      "22\n"
     ]
    }
   ],
   "source": [
    "x = 21.15\n",
    "print(ceil(x))"
   ]
  },
  {
   "cell_type": "markdown",
   "id": "ef81a229",
   "metadata": {},
   "source": [
    "which in the case here is 22."
   ]
  },
  {
   "cell_type": "code",
   "execution_count": 10,
   "id": "97613d83",
   "metadata": {},
   "outputs": [
    {
     "name": "stdout",
     "output_type": "stream",
     "text": [
      "22\n"
     ]
    }
   ],
   "source": [
    "x = 21.75\n",
    "print(ceil(x))"
   ]
  },
  {
   "cell_type": "markdown",
   "id": "7df8142a",
   "metadata": {},
   "source": [
    "which also yields 22. The  **floor** function in the **math** package\n",
    "is used to return the closest integer value which is less than or equal to the specified expression or value.\n",
    "Compare the previous result to the usage of **floor**"
   ]
  },
  {
   "cell_type": "code",
   "execution_count": 11,
   "id": "f0775f28",
   "metadata": {},
   "outputs": [
    {
     "name": "stdout",
     "output_type": "stream",
     "text": [
      "21\n"
     ]
    }
   ],
   "source": [
    "from math import floor\n",
    "x = 21.75\n",
    "print(floor(x))"
   ]
  },
  {
   "cell_type": "markdown",
   "id": "50dbfa99",
   "metadata": {},
   "source": [
    "Alternatively, we can define ourselves the number of integration(mesh) points. In this case we could have"
   ]
  },
  {
   "cell_type": "code",
   "execution_count": 12,
   "id": "a935efbb",
   "metadata": {},
   "outputs": [
    {
     "name": "stdout",
     "output_type": "stream",
     "text": [
      "0.05\n"
     ]
    }
   ],
   "source": [
    "n = 10\n",
    "tinitial = 0.0\n",
    "tfinal = 0.5\n",
    "DeltaT = (tfinal-tinitial)/(n)\n",
    "print(DeltaT)"
   ]
  },
  {
   "cell_type": "markdown",
   "id": "1463628e",
   "metadata": {},
   "source": [
    "Since we will set up one-dimensional arrays that contain the values of\n",
    "various variables like time, position, velocity, acceleration etc, we\n",
    "need to know the value of $n$, the number of data points (or\n",
    "integration or mesh points).  With $n$ we can initialize a given array\n",
    "by setting all elelements to zero, as done here"
   ]
  },
  {
   "cell_type": "code",
   "execution_count": 13,
   "id": "22a0b371",
   "metadata": {},
   "outputs": [
    {
     "name": "stdout",
     "output_type": "stream",
     "text": [
      "[0. 0. 0. 0. 0. 0. 0. 0. 0. 0.]\n"
     ]
    }
   ],
   "source": [
    "# define array a\n",
    "a = np.zeros(n)\n",
    "print(a)"
   ]
  },
  {
   "cell_type": "markdown",
   "id": "718a4aa3",
   "metadata": {},
   "source": [
    "## Code for implementing Euler's method\n",
    "In the code here we implement this simple Eurler scheme choosing a value for $D=0.0245$ m/s."
   ]
  },
  {
   "cell_type": "code",
   "execution_count": 14,
   "id": "391c8644",
   "metadata": {},
   "outputs": [
    {
     "data": {
      "text/html": [
       "<div>\n",
       "<style scoped>\n",
       "    .dataframe tbody tr th:only-of-type {\n",
       "        vertical-align: middle;\n",
       "    }\n",
       "\n",
       "    .dataframe tbody tr th {\n",
       "        vertical-align: top;\n",
       "    }\n",
       "\n",
       "    .dataframe thead th {\n",
       "        text-align: right;\n",
       "    }\n",
       "</style>\n",
       "<table border=\"1\" class=\"dataframe\">\n",
       "  <thead>\n",
       "    <tr style=\"text-align: right;\">\n",
       "      <th></th>\n",
       "      <th>t[s]</th>\n",
       "      <th>y[m]</th>\n",
       "      <th>v[m/s]</th>\n",
       "      <th>a[m/s^2]</th>\n",
       "    </tr>\n",
       "  </thead>\n",
       "  <tbody>\n",
       "    <tr>\n",
       "      <th>0</th>\n",
       "      <td>0.0</td>\n",
       "      <td>0.000000</td>\n",
       "      <td>0.000000</td>\n",
       "      <td>-9.806550</td>\n",
       "    </tr>\n",
       "    <tr>\n",
       "      <th>1</th>\n",
       "      <td>0.1</td>\n",
       "      <td>0.049031</td>\n",
       "      <td>-0.980655</td>\n",
       "      <td>-9.804194</td>\n",
       "    </tr>\n",
       "    <tr>\n",
       "      <th>2</th>\n",
       "      <td>0.2</td>\n",
       "      <td>0.098034</td>\n",
       "      <td>-1.961074</td>\n",
       "      <td>-9.797128</td>\n",
       "    </tr>\n",
       "    <tr>\n",
       "      <th>3</th>\n",
       "      <td>0.3</td>\n",
       "      <td>0.146963</td>\n",
       "      <td>-2.940787</td>\n",
       "      <td>-9.785362</td>\n",
       "    </tr>\n",
       "    <tr>\n",
       "      <th>4</th>\n",
       "      <td>0.4</td>\n",
       "      <td>0.195770</td>\n",
       "      <td>-3.919323</td>\n",
       "      <td>-9.768915</td>\n",
       "    </tr>\n",
       "  </tbody>\n",
       "</table>\n",
       "</div>"
      ],
      "text/plain": [
       "   t[s]      y[m]    v[m/s]  a[m/s^2]\n",
       "0   0.0  0.000000  0.000000 -9.806550\n",
       "1   0.1  0.049031 -0.980655 -9.804194\n",
       "2   0.2  0.098034 -1.961074 -9.797128\n",
       "3   0.3  0.146963 -2.940787 -9.785362\n",
       "4   0.4  0.195770 -3.919323 -9.768915"
      ]
     },
     "metadata": {},
     "output_type": "display_data"
    },
    {
     "data": {
      "image/png": "[encoded data removed]",
      "text/plain": [
       "<Figure size 432x288 with 3 Axes>"
      ]
     },
     "metadata": {},
     "output_type": "display_data"
    }
   ],
   "source": [
    "# Common imports\n",
    "import numpy as np\n",
    "import pandas as pd\n",
    "from math import *\n",
    "import matplotlib.pyplot as plt\n",
    "import os\n",
    "\n",
    "# Where to save the figures and data files\n",
    "PROJECT_ROOT_DIR = \"Results\"\n",
    "FIGURE_ID = \"Results/FigureFiles\"\n",
    "DATA_ID = \"DataFiles/\"\n",
    "\n",
    "if not os.path.exists(PROJECT_ROOT_DIR):\n",
    "    os.mkdir(PROJECT_ROOT_DIR)\n",
    "\n",
    "if not os.path.exists(FIGURE_ID):\n",
    "    os.makedirs(FIGURE_ID)\n",
    "\n",
    "if not os.path.exists(DATA_ID):\n",
    "    os.makedirs(DATA_ID)\n",
    "\n",
    "def image_path(fig_id):\n",
    "    return os.path.join(FIGURE_ID, fig_id)\n",
    "\n",
    "def data_path(dat_id):\n",
    "    return os.path.join(DATA_ID, dat_id)\n",
    "\n",
    "def save_fig(fig_id):\n",
    "    plt.savefig(image_path(fig_id) + \".png\", format='png')\n",
    "\n",
    "\n",
    "g = 9.80655 #m/s^2\n",
    "D = 0.00245 #m/s\n",
    "DeltaT = 0.1\n",
    "#set up arrays \n",
    "tfinal = 0.5\n",
    "n = ceil(tfinal/DeltaT)\n",
    "# define scaling constant vT\n",
    "vT = sqrt(g/D)\n",
    "# set up arrays for t, a, v, and y and we can compare our results with analytical ones\n",
    "t = np.zeros(n)\n",
    "a = np.zeros(n)\n",
    "v = np.zeros(n)\n",
    "y = np.zeros(n)\n",
    "yanalytic = np.zeros(n)\n",
    "# Initial conditions\n",
    "v[0] = 0.0  #m/s\n",
    "y[0] = 10.0 #m\n",
    "yanalytic[0] = y[0]\n",
    "# Start integrating using Euler's method\n",
    "for i in range(n-1):\n",
    "    # expression for acceleration\n",
    "    a[i] = -g + D*v[i]*v[i]\n",
    "    # update velocity and position\n",
    "    y[i+1] = y[i] + DeltaT*v[i]\n",
    "    v[i+1] = v[i] + DeltaT*a[i]\n",
    "    # update time to next time step and compute analytical answer\n",
    "    t[i+1] = t[i] + DeltaT\n",
    "    yanalytic[i+1] = y[0]-(vT*vT/g)*log(cosh(g*t[i+1]/vT))\n",
    "    if ( y[i+1] < 0.0):\n",
    "        break\n",
    "a[n-1] = -g + D*v[n-1]*v[n-1]\n",
    "data = {'t[s]': t,\n",
    "        'y[m]': y-yanalytic,\n",
    "        'v[m/s]': v,\n",
    "        'a[m/s^2]': a\n",
    "        }\n",
    "NewData = pd.DataFrame(data)\n",
    "display(NewData)\n",
    "#finally we plot the data\n",
    "fig, axs = plt.subplots(3, 1)\n",
    "axs[0].plot(t, y, t, yanalytic)\n",
    "axs[0].set_xlim(0, tfinal)\n",
    "axs[0].set_ylabel('y and exact')\n",
    "axs[1].plot(t, v)\n",
    "axs[1].set_ylabel('v[m/s]')\n",
    "axs[2].plot(t, a)\n",
    "axs[2].set_xlabel('time[s]')\n",
    "axs[2].set_ylabel('a[m/s^2]')\n",
    "fig.tight_layout()\n",
    "save_fig(\"EulerIntegration\")\n",
    "plt.show()"
   ]
  },
  {
   "cell_type": "markdown",
   "id": "0d8a6bae",
   "metadata": {},
   "source": [
    "Try different values for $\\Delta t$ and study the difference between the exact solution and the numerical solution."
   ]
  },
  {
   "cell_type": "markdown",
   "id": "4ef522c8",
   "metadata": {},
   "source": [
    "## Simple extension, the Euler-Cromer method\n",
    "\n",
    "The Euler-Cromer method is a simple variant of the standard Euler\n",
    "method. We use the newly updated velocity $v_{i+1}$ as an input to the\n",
    "new position, that is, instead of"
   ]
  },
  {
   "cell_type": "markdown",
   "id": "25b2b885",
   "metadata": {},
   "source": [
    "$$\n",
    "y_{i+1} = y_i+\\Delta t v_i,\n",
    "$$"
   ]
  },
  {
   "cell_type": "markdown",
   "id": "f934b9f0",
   "metadata": {},
   "source": [
    "and"
   ]
  },
  {
   "cell_type": "markdown",
   "id": "d4b1b843",
   "metadata": {},
   "source": [
    "$$\n",
    "v_{i+1} = v_i+\\Delta t a_i,\n",
    "$$"
   ]
  },
  {
   "cell_type": "markdown",
   "id": "5bf3f197",
   "metadata": {},
   "source": [
    "we use now the newly calculate for $v_{i+1}$ as input to $y_{i+1}$, that is \n",
    "we compute first"
   ]
  },
  {
   "cell_type": "markdown",
   "id": "db26bb69",
   "metadata": {},
   "source": [
    "$$\n",
    "v_{i+1} = v_i+\\Delta t a_i,\n",
    "$$"
   ]
  },
  {
   "cell_type": "markdown",
   "id": "a0befbe6",
   "metadata": {},
   "source": [
    "and then"
   ]
  },
  {
   "cell_type": "markdown",
   "id": "7799b1cf",
   "metadata": {},
   "source": [
    "$$\n",
    "y_{i+1} = y_i+\\Delta t v_{i+1},\n",
    "$$"
   ]
  },
  {
   "cell_type": "markdown",
   "id": "2bb5f5c8",
   "metadata": {},
   "source": [
    "Implementing the Euler-Cromer method yields a simple change to the previous code. We only need to change the following line in the loop over time\n",
    "steps"
   ]
  },
  {
   "cell_type": "code",
   "execution_count": 15,
   "id": "213da1b7",
   "metadata": {},
   "outputs": [],
   "source": [
    "for i in range(n-1):\n",
    "    # more codes in between here\n",
    "    v[i+1] = v[i] + DeltaT*a[i]\n",
    "    y[i+1] = y[i] + DeltaT*v[i+1]\n",
    "    # more code"
   ]
  },
  {
   "cell_type": "code",
   "execution_count": null,
   "id": "5071b040",
   "metadata": {},
   "outputs": [],
   "source": []
  }
 ],
 "metadata": {
  "kernelspec": {
   "display_name": "Python 3 (ipykernel)",
   "language": "python",
   "name": "python3"
  },
  "language_info": {
   "codemirror_mode": {
    "name": "ipython",
    "version": 3
   },
   "file_extension": ".py",
   "mimetype": "text/x-python",
   "name": "python",
   "nbconvert_exporter": "python",
   "pygments_lexer": "ipython3",
   "version": "3.9.7"
  }
 },
 "nbformat": 4,
 "nbformat_minor": 5
}
