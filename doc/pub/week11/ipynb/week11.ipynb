{
 "cells": [
  {
   "cell_type": "markdown",
   "id": "2701ad26",
   "metadata": {},
   "source": [
    "<!-- HTML file automatically generated from DocOnce source (https://github.com/doconce/doconce/)\n",
    "doconce format html week11.do.txt --no_mako -->\n",
    "<!-- dom:TITLE: PHY321: Two-body problems and Gravitational Forces -->"
   ]
  },
  {
   "cell_type": "markdown",
   "id": "30b395c8",
   "metadata": {},
   "source": [
    "# PHY321: Two-body problems and Gravitational Forces\n",
    "**[Morten Hjorth-Jensen](http://mhjgit.github.io/info/doc/web/)**, Department of Physics and Astronomy and Facility for Rare Ion Beams (FRIB), Michigan State University, USA and Department of Physics, University of Oslo, Norway\n",
    "\n",
    "Date: **Mar 21, 2022**\n",
    "\n",
    "Copyright 1999-2022, [Morten Hjorth-Jensen](http://mhjgit.github.io/info/doc/web/). Released under CC Attribution-NonCommercial 4.0 license"
   ]
  },
  {
   "cell_type": "markdown",
   "id": "90024ed9",
   "metadata": {},
   "source": [
    "## Aims and Overarching Motivation"
   ]
  },
  {
   "cell_type": "markdown",
   "id": "244767f2",
   "metadata": {},
   "source": [
    "### Monday March 21\n",
    "\n",
    "Definition of the two-body problem, rewriting the equations in relative and center-of-mass coordinates\n",
    "* [Video of lecture](https://youtu.be/xNFsZsnORRY)\n",
    "\n",
    "* [Handwritten notes](https://github.com/mhjensen/Physics321/blob/master/doc/HandWrittenNotes/Spring2022/NotesMarch21.pdf)\n",
    "\n",
    "**Reading suggestion**: Taylor sections 8.2-8.3"
   ]
  },
  {
   "cell_type": "markdown",
   "id": "3c8f24be",
   "metadata": {},
   "source": [
    "### Wednesday March 23\n",
    "\n",
    "Preparing the ground for the  gravitational force and its solution in two dimensions. \n",
    "Harmonic Oscillator example in two dimensions (if we get time).\n",
    "\n",
    "**Reading suggestion**: Taylor chapter 8.4-8.5"
   ]
  },
  {
   "cell_type": "markdown",
   "id": "0fddf7fb",
   "metadata": {},
   "source": [
    "### Friday  March 25\n",
    "\n",
    "Discussion and work on homework 7"
   ]
  },
  {
   "cell_type": "markdown",
   "id": "ac51f247",
   "metadata": {},
   "source": [
    "## Videos of possible interest\n",
    "\n",
    "* [Video on solving differential equations numerically](https://youtu.be/7nYIfV0z1VM)\n",
    "\n",
    "* [Video on Fourier aanalysis](https://youtu.be/neXZ4fb-4Rs)\n",
    "\n",
    "* [Handwritten notes for Fourier analysis](https://github.com/mhjensen/Physics321/blob/master/doc/HandWrittenNotes/Spring2022/NotesFourierAnalysisMarch21.pdf)"
   ]
  },
  {
   "cell_type": "markdown",
   "id": "be6a8545",
   "metadata": {},
   "source": [
    "# Two-body Problems\n",
    "\n",
    "Two-body problems play a central role in physics. Some of these problems can, with appropriate transformations, be solved analytically. The gravitional force problem (as well as the Coulomb potential problem for two particles) is an example of this.\n",
    "\n",
    "There are several small steps which we need to do in order to reach this solution. These are\n",
    "1. Rewriting the equations in terms of the degrees of freedom of the relative motion and the center of mass motion\n",
    "\n",
    "2. Making a transformation either to polar (two dimensions) or to spherical coordinates (three dimensions)\n",
    "\n",
    "3. This gives us uncoupled differential equations for each coordinate that we can solve analytically\n",
    "\n",
    "The advantage in doing so is that we can extract a lot of interesting insights about the motion and the physics of these important physics problems. These insights can be transferred to other physics problems where the potentials are given by expressions proportional with the inverse relative distance."
   ]
  },
  {
   "cell_type": "markdown",
   "id": "2b0d96b9",
   "metadata": {},
   "source": [
    "## The gravitational force\n",
    "\n",
    "The gravitational potential energy and forces involving two masses $a$ and $b$ are"
   ]
  },
  {
   "cell_type": "markdown",
   "id": "05fba0c6",
   "metadata": {},
   "source": [
    "$$\n",
    "\\begin{eqnarray}\n",
    "V_{ab}&=&-\\frac{Gm_am_b}{|\\boldsymbol{r}_a-\\boldsymbol{r}_b|},\\\\\n",
    "\\nonumber\n",
    "F_{ba}&=&-\\frac{Gm_am_b}{|\\boldsymbol{r}_a-\\boldsymbol{r}_b|^2}\\hat{r}_{ab},\\\\\n",
    "\\nonumber\n",
    "\\hat{r}_{ab}&=&\\frac{\\boldsymbol{r}_b-\\boldsymbol{r}_a}{|\\boldsymbol{r}_a-\\boldsymbol{r}_b|}.\n",
    "\\end{eqnarray}\n",
    "$$"
   ]
  },
  {
   "cell_type": "markdown",
   "id": "c2a41fb3",
   "metadata": {},
   "source": [
    "Here $G=6.67\\times 10^{-11}$ Nm$^2$/kg$^2$, and $F_{ba}$ is the force\n",
    "on $b$ due to $a$. By inspection, one can see that the force on $b$\n",
    "due to $a$ and the force on $a$ due to $b$ are equal and opposite. The\n",
    "net potential energy for a large number of masses would be"
   ]
  },
  {
   "cell_type": "markdown",
   "id": "4f48fff6",
   "metadata": {},
   "source": [
    "<!-- Equation labels as ordinary links -->\n",
    "<div id=\"_auto1\"></div>\n",
    "\n",
    "$$\n",
    "\\begin{equation}\n",
    "V=\\sum_{a<b}U_{ab}=\\frac{1}{2}\\sum_{a\\ne b}V_{ab}.\n",
    "\\label{_auto1} \\tag{1}\n",
    "\\end{equation}\n",
    "$$"
   ]
  },
  {
   "cell_type": "markdown",
   "id": "78e57a57",
   "metadata": {},
   "source": [
    "## Relative and Center of Mass Motion\n",
    "\n",
    "Thus far, we have considered the trajectory as if the force is\n",
    "centered around a fixed point. For two bodies interacting only with\n",
    "one another, both masses circulate around the center of mass. One\n",
    "might think that solutions would become more complex when both\n",
    "particles move, but we will see here that the problem can be reduced\n",
    "to one with a single body moving according to a fixed force by\n",
    "expressing the trajectories for $\\boldsymbol{r}_1$ and $\\boldsymbol{r}_2$ into the\n",
    "center-of-mass coordinate $\\boldsymbol{R}_{\\rm cm}$ and the relative\n",
    "coordinate $\\boldsymbol{r}$,"
   ]
  },
  {
   "cell_type": "markdown",
   "id": "249d1050",
   "metadata": {},
   "source": [
    "$$\n",
    "\\begin{eqnarray}\n",
    "\\boldsymbol{R}_{\\rm cm}&\\equiv&\\frac{m_1\\boldsymbol{r}_1+m_2\\boldsymbol{r}_2}{m_1+m_2},\\\\\n",
    "\\nonumber\n",
    "\\boldsymbol{r}&\\equiv&\\boldsymbol{r}_1-\\boldsymbol{r_2}.\n",
    "\\end{eqnarray}\n",
    "$$"
   ]
  },
  {
   "cell_type": "markdown",
   "id": "ee797aaa",
   "metadata": {},
   "source": [
    "## Relative and Center of Mass Motion, assumptions\n",
    "\n",
    "Here, we assume the two particles interact only with one another, so\n",
    "$\\boldsymbol{F}_{12}=-\\boldsymbol{F}_{21}$ (where $\\boldsymbol{F}_{ij}$ is the force on $i$\n",
    "due to $j$. The equations of motion then become"
   ]
  },
  {
   "cell_type": "markdown",
   "id": "4946f645",
   "metadata": {},
   "source": [
    "$$\n",
    "\\begin{eqnarray}\n",
    "\\ddot{\\boldsymbol{R}}_{\\rm cm}&=&\\frac{1}{m_1+m_2}\\left\\{m_1\\ddot{\\boldsymbol{r}}_1+m_2\\ddot{\\boldsymbol{r}}_2\\right\\}\\\\\n",
    "\\nonumber\n",
    "&=&\\frac{1}{m_1+m_2}\\left\\{\\boldsymbol{F}_{12}+\\boldsymbol{F}_{21}\\right\\}=0.\\\\\n",
    "\\ddot{\\boldsymbol{r}}&=&\\ddot{\\boldsymbol{r}}_1-\\ddot{\\boldsymbol{r}}_2=\\left(\\frac{\\boldsymbol{F}_{12}}{m_1}-\\frac{\\boldsymbol{F}_{21}}{m_2}\\right)\\\\\n",
    "\\nonumber\n",
    "&=&\\left(\\frac{1}{m_1}+\\frac{1}{m_2}\\right)\\boldsymbol{F}_{12}.\n",
    "\\end{eqnarray}\n",
    "$$"
   ]
  },
  {
   "cell_type": "markdown",
   "id": "2d08fb4a",
   "metadata": {},
   "source": [
    "The first expression simply states that the center of mass coordinate\n",
    "$\\boldsymbol{R}_{\\rm cm}$ moves at a fixed velocity. The second expression\n",
    "can be rewritten in terms of the reduced mass $\\mu$."
   ]
  },
  {
   "cell_type": "markdown",
   "id": "934aaaca",
   "metadata": {},
   "source": [
    "$$\n",
    "\\begin{eqnarray}\n",
    "\\mu \\ddot{\\boldsymbol{r}}&=&\\boldsymbol{F}_{12},\\\\\n",
    "\\frac{1}{\\mu}&=&\\frac{1}{m_1}+\\frac{1}{m_2},~~~~\\mu=\\frac{m_1m_2}{m_1+m_2}.\n",
    "\\end{eqnarray}\n",
    "$$"
   ]
  },
  {
   "cell_type": "markdown",
   "id": "7c7ad206",
   "metadata": {},
   "source": [
    "## Trajectory as a one-body problem\n",
    "\n",
    "Thus, one can treat the trajectory as a one-body problem where the\n",
    "reduced mass is $\\mu$, and a second trivial problem for the center of\n",
    "mass. The reduced mass is especially convenient when one is\n",
    "considering gravitational problems because then"
   ]
  },
  {
   "cell_type": "markdown",
   "id": "2f002c17",
   "metadata": {},
   "source": [
    "$$\n",
    "\\begin{eqnarray}\n",
    "\\mu \\ddot{r}&=&-\\frac{Gm_1m_2}{r^2}\\hat{r}\\\\\n",
    "\\nonumber\n",
    "&=&-\\frac{GM\\mu}{r^2}\\hat{r},~~~M\\equiv m_1+m_2.\n",
    "\\end{eqnarray}\n",
    "$$"
   ]
  },
  {
   "cell_type": "markdown",
   "id": "24faabdb",
   "metadata": {},
   "source": [
    "For the gravitational problem, the reduced mass then falls out and the\n",
    "trajectory depends only on the total mass $M$.\n",
    "\n",
    "The kinetic energy and momenta also have analogues in center-of-mass\n",
    "coordinates. The total and relative momenta are"
   ]
  },
  {
   "cell_type": "markdown",
   "id": "2fdf0e6e",
   "metadata": {},
   "source": [
    "$$\n",
    "\\begin{eqnarray}\n",
    "\\boldsymbol{P}&\\equiv&\\boldsymbol{p}_1+\\boldsymbol{p}_2=M\\dot{\\boldsymbol{R}}_{\\rm cm},\\\\\n",
    "\\nonumber\n",
    "\\boldsymbol{q}&\\equiv&\\mu\\dot{\\boldsymbol{r}}.\n",
    "\\end{eqnarray}\n",
    "$$"
   ]
  },
  {
   "cell_type": "markdown",
   "id": "9844984d",
   "metadata": {},
   "source": [
    "## Kinetic energy\n",
    "\n",
    "With these definitions, a little algebra shows that the kinetic energy becomes"
   ]
  },
  {
   "cell_type": "markdown",
   "id": "65944c5f",
   "metadata": {},
   "source": [
    "$$\n",
    "\\begin{eqnarray}\n",
    "K&=&\\frac{1}{2}m_1|\\boldsymbol{v}_1|^2+\\frac{1}{2}m_2|\\boldsymbol{v}_2|^2\\\\\n",
    "\\nonumber\n",
    "&=&\\frac{1}{2}M|\\dot{\\boldsymbol{R}}_{\\rm cm}|^2\n",
    "+\\frac{1}{2}\\mu|\\dot{\\boldsymbol{r}}|^2\\\\\n",
    "\\nonumber\n",
    "&=&\\frac{P^2}{2M}+\\frac{q^2}{2\\mu}.\n",
    "\\end{eqnarray}\n",
    "$$"
   ]
  },
  {
   "cell_type": "markdown",
   "id": "ffae7098",
   "metadata": {},
   "source": [
    "The standard strategy is to transform into the center of mass frame,\n",
    "then treat the problem as one of a single particle of mass $\\mu$\n",
    "undergoing a force $\\boldsymbol{F}_{12}$. Scattering angles can also be\n",
    "expressed in this frame, then transformed into the lab frame. In\n",
    "practice, one sees examples in the literature where $d\\sigma/d\\Omega$\n",
    "expressed in both the \"center-of-mass\" and in the \"laboratory\"\n",
    "frame."
   ]
  },
  {
   "cell_type": "markdown",
   "id": "6415a001",
   "metadata": {},
   "source": [
    "## Deriving Elliptical Orbits\n",
    "\n",
    "Kepler's laws state that a gravitational orbit should be an ellipse\n",
    "with the source of the gravitational field at one focus. Deriving this\n",
    "is surprisingly messy. To do this, we first use angular momentum\n",
    "conservation to transform the equations of motion so that it is in\n",
    "terms of $r$ and $\\theta$ instead of $r$ and $t$. The overall strategy\n",
    "is to\n",
    "\n",
    "1. Find equations of motion for $r$ and $t$ with no angle ($\\theta$) mentioned, i.e. $d^2r/dt^2=\\cdots$. Angular momentum conservation will be used, and the equation will involve the angular momentum $L$.\n",
    "\n",
    "2. Use angular momentum conservation to find an expression for $\\dot{\\theta}$ in terms of $r$.\n",
    "\n",
    "3. Use the chain rule to convert the equations of motions for $r$, an expression involving $r,\\dot{r}$ and $\\ddot{r}$, to one involving $r,dr/d\\theta$ and $d^2r/d\\theta^2$. This is quitecomplicated because the expressions will also involve a substitution $u=1/r$ so that one finds an expression in terms of $u$ and $\\theta$.\n",
    "\n",
    "4. Once $u(\\theta)$ is found, you need to show that this can be converted to the familiar form for an ellipse."
   ]
  },
  {
   "cell_type": "markdown",
   "id": "d09f834a",
   "metadata": {},
   "source": [
    "## Euqations of motion\n",
    "The equations of motion give"
   ]
  },
  {
   "cell_type": "markdown",
   "id": "b20fecca",
   "metadata": {},
   "source": [
    "<!-- Equation labels as ordinary links -->\n",
    "<div id=\"eq:radialeqofmotion\"></div>\n",
    "\n",
    "$$\n",
    "\\begin{eqnarray}\n",
    "\\label{eq:radialeqofmotion} \\tag{2}\n",
    "\\frac{d}{dt}r^2&=&\\frac{d}{dt}(x^2+y^2)=2x\\dot{x}+2y\\dot{y}=2r\\dot{r},\\\\\n",
    "\\nonumber\n",
    "\\dot{r}&=&\\frac{x}{r}\\dot{x}+\\frac{y}{r}\\dot{y},\\\\\n",
    "\\nonumber\n",
    "\\ddot{r}&=&\\frac{x}{r}\\ddot{x}+\\frac{y}{r}\\ddot{y}\n",
    "+\\frac{\\dot{x}^2+\\dot{y}^2}{r}\n",
    "-\\frac{\\dot{r}^2}{r}.\n",
    "\\end{eqnarray}\n",
    "$$"
   ]
  },
  {
   "cell_type": "markdown",
   "id": "e40a3042",
   "metadata": {},
   "source": [
    "## Reordering the equations\n",
    "Recognizing that the numerator of the third term is the velocity squared, and that it can be written in polar coordinates,"
   ]
  },
  {
   "cell_type": "markdown",
   "id": "a5902349",
   "metadata": {},
   "source": [
    "<!-- Equation labels as ordinary links -->\n",
    "<div id=\"_auto2\"></div>\n",
    "\n",
    "$$\n",
    "\\begin{equation}\n",
    "v^2=\\dot{x}^2+\\dot{y}^2=\\dot{r}^2+r^2\\dot{\\theta}^2,\n",
    "\\label{_auto2} \\tag{3}\n",
    "\\end{equation}\n",
    "$$"
   ]
  },
  {
   "cell_type": "markdown",
   "id": "e9b9cc6b",
   "metadata": {},
   "source": [
    "one can write $\\ddot{r}$ as"
   ]
  },
  {
   "cell_type": "markdown",
   "id": "7a074a1b",
   "metadata": {},
   "source": [
    "<!-- Equation labels as ordinary links -->\n",
    "<div id=\"eq:radialeqofmotion2\"></div>\n",
    "\n",
    "$$\n",
    "\\begin{eqnarray}\n",
    "\\label{eq:radialeqofmotion2} \\tag{4}\n",
    "\\ddot{r}&=&\\frac{F_x\\cos\\theta+F_y\\sin\\theta}{m}+\\frac{\\dot{r}^2+r^2\\dot{\\theta}^2}{r}-\\frac{\\dot{r}^2}{r}\\\\\n",
    "\\nonumber\n",
    "&=&\\frac{F}{m}+\\frac{r^2\\dot{\\theta}^2}{r}\\\\\n",
    "\\nonumber\n",
    "m\\ddot{r}&=&F+\\frac{L^2}{mr^3}.\n",
    "\\end{eqnarray}\n",
    "$$"
   ]
  },
  {
   "cell_type": "markdown",
   "id": "1f984d4f",
   "metadata": {},
   "source": [
    "## Force depends on $r$ only\n",
    "\n",
    "This derivation used the fact that the force was radial,\n",
    "$F=F_r=F_x\\cos\\theta+F_y\\sin\\theta$, and that angular momentum is\n",
    "$L=mrv_{\\theta}=mr^2\\dot{\\theta}$. The term $L^2/mr^3=mv^2/r$ behaves\n",
    "like an additional force. Sometimes this is referred to as a\n",
    "centrifugal force, but it is not a force. Instead, it is the\n",
    "consequence of considering the motion in a rotating (and therefore\n",
    "accelerating) frame.\n",
    "\n",
    "Now, we switch to the particular case of an attractive inverse square\n",
    "force, $F=-\\alpha/r^2$, and show that the trajectory, $r(\\theta)$, is\n",
    "an ellipse. To do this we transform derivatives w.r.t. time to\n",
    "derivatives w.r.t. $\\theta$ using the chain rule combined with angular\n",
    "momentum conservation, $\\dot{\\theta}=L/mr^2$."
   ]
  },
  {
   "cell_type": "markdown",
   "id": "466a3d1e",
   "metadata": {},
   "source": [
    "<!-- Equation labels as ordinary links -->\n",
    "<div id=\"eq:rtotheta\"></div>\n",
    "\n",
    "$$\n",
    "\\begin{eqnarray}\n",
    "\\label{eq:rtotheta} \\tag{5}\n",
    "\\dot{r}&=&\\frac{dr}{d\\theta}\\dot{\\theta}=\\frac{dr}{d\\theta}\\frac{L}{mr^2},\\\\\n",
    "\\nonumber\n",
    "\\ddot{r}&=&\\frac{d^2r}{d\\theta^2}\\dot{\\theta}^2\n",
    "+\\frac{dr}{d\\theta}\\left(\\frac{d}{dr}\\frac{L}{mr^2}\\right)\\dot{r}\\\\\n",
    "\\nonumber\n",
    "&=&\\frac{d^2r}{d\\theta^2}\\left(\\frac{L}{mr^2}\\right)^2\n",
    "-2\\frac{dr}{d\\theta}\\frac{L}{mr^3}\\dot{r}\\\\\n",
    "\\nonumber\n",
    "&=&\\frac{d^2r}{d\\theta^2}\\left(\\frac{L}{mr^2}\\right)^2\n",
    "-\\frac{2}{r}\\left(\\frac{dr}{d\\theta}\\right)^2\\left(\\frac{L}{mr^2}\\right)^2\n",
    "\\end{eqnarray}\n",
    "$$"
   ]
  },
  {
   "cell_type": "markdown",
   "id": "cd738f22",
   "metadata": {},
   "source": [
    "## Further manipulations\n",
    "\n",
    "Equating the two expressions for $\\ddot{r}$ in Eq.s ([4](#eq:radialeqofmotion2)) and ([5](#eq:rtotheta)) eliminates all the derivatives w.r.t. time, and provides a differential equation with only derivatives w.r.t. $\\theta$,"
   ]
  },
  {
   "cell_type": "markdown",
   "id": "17b8db99",
   "metadata": {},
   "source": [
    "<!-- Equation labels as ordinary links -->\n",
    "<div id=\"eq:rdotdot\"></div>\n",
    "\n",
    "$$\n",
    "\\begin{equation}\n",
    "\\label{eq:rdotdot} \\tag{6}\n",
    "\\frac{d^2r}{d\\theta^2}\\left(\\frac{L}{mr^2}\\right)^2\n",
    "-\\frac{2}{r}\\left(\\frac{dr}{d\\theta}\\right)^2\\left(\\frac{L}{mr^2}\\right)^2\n",
    "=\\frac{F}{m}+\\frac{L^2}{m^2r^3},\n",
    "\\end{equation}\n",
    "$$"
   ]
  },
  {
   "cell_type": "markdown",
   "id": "678447b4",
   "metadata": {},
   "source": [
    "that when solved yields the trajectory, i.e. $r(\\theta)$. Up to this\n",
    "point the expressions work for any radial force, not just forces that\n",
    "fall as $1/r^2$."
   ]
  },
  {
   "cell_type": "markdown",
   "id": "91173884",
   "metadata": {},
   "source": [
    "## Final manipulations, part 1\n",
    "\n",
    "The trick to simplifying this differential equation for the inverse\n",
    "square problems is to make a substitution, $u\\equiv 1/r$, and rewrite\n",
    "the differential equation for $u(\\theta)$."
   ]
  },
  {
   "cell_type": "markdown",
   "id": "ba93870c",
   "metadata": {},
   "source": [
    "$$\n",
    "\\begin{eqnarray}\n",
    "r&=&1/u,\\\\\n",
    "\\nonumber\n",
    "\\frac{dr}{d\\theta}&=&-\\frac{1}{u^2}\\frac{du}{d\\theta},\\\\\n",
    "\\nonumber\n",
    "\\frac{d^2r}{d\\theta^2}&=&\\frac{2}{u^3}\\left(\\frac{du}{d\\theta}\\right)^2-\\frac{1}{u^2}\\frac{d^2u}{d\\theta^2}.\n",
    "\\end{eqnarray}\n",
    "$$"
   ]
  },
  {
   "cell_type": "markdown",
   "id": "2c7f37ff",
   "metadata": {},
   "source": [
    "Plugging these expressions into Eq. ([6](#eq:rdotdot)) gives an\n",
    "expression in terms of $u$, $du/d\\theta$, and $d^2u/d\\theta^2$. After\n",
    "some tedious algebra,"
   ]
  },
  {
   "cell_type": "markdown",
   "id": "cc1d97cf",
   "metadata": {},
   "source": [
    "<!-- Equation labels as ordinary links -->\n",
    "<div id=\"_auto3\"></div>\n",
    "\n",
    "$$\n",
    "\\begin{equation}\n",
    "\\frac{d^2u}{d\\theta^2}=-u-\\frac{F m}{L^2u^2}.\n",
    "\\label{_auto3} \\tag{7}\n",
    "\\end{equation}\n",
    "$$"
   ]
  },
  {
   "cell_type": "markdown",
   "id": "772c2d50",
   "metadata": {},
   "source": [
    "## Final manipulations, part 2\n",
    "\n",
    "For the attractive inverse square law force, $F=-\\alpha u^2$,"
   ]
  },
  {
   "cell_type": "markdown",
   "id": "30d62d81",
   "metadata": {},
   "source": [
    "<!-- Equation labels as ordinary links -->\n",
    "<div id=\"_auto4\"></div>\n",
    "\n",
    "$$\n",
    "\\begin{equation}\n",
    "\\frac{d^2u}{d\\theta^2}=-u+\\frac{m\\alpha}{L^2}.\n",
    "\\label{_auto4} \\tag{8}\n",
    "\\end{equation}\n",
    "$$"
   ]
  },
  {
   "cell_type": "markdown",
   "id": "c2ee8903",
   "metadata": {},
   "source": [
    "The solution has two arbitrary constants, $A$ and $\\theta_0$,"
   ]
  },
  {
   "cell_type": "markdown",
   "id": "9013f724",
   "metadata": {},
   "source": [
    "<!-- Equation labels as ordinary links -->\n",
    "<div id=\"eq:Ctrajectory\"></div>\n",
    "\n",
    "$$\n",
    "\\begin{eqnarray}\n",
    "\\label{eq:Ctrajectory} \\tag{9}\n",
    "u&=&\\frac{m\\alpha}{L^2}+A\\cos(\\theta-\\theta_0),\\\\\n",
    "\\nonumber\n",
    "r&=&\\frac{1}{(m\\alpha/L^2)+A\\cos(\\theta-\\theta_0)}.\n",
    "\\end{eqnarray}\n",
    "$$"
   ]
  },
  {
   "cell_type": "markdown",
   "id": "9763e7ba",
   "metadata": {},
   "source": [
    "The radius will be at a minimum when $\\theta=\\theta_0$ and at a\n",
    "maximum when $\\theta=\\theta_0+\\pi$. The constant $A$ is related to the\n",
    "eccentricity of the orbit. When $A=0$ the radius is a constant\n",
    "$r=L^2/(m\\alpha)$, and the motion is circular. If one solved the\n",
    "expression $mv^2/r=-\\alpha/r^2$ for a circular orbit, using the\n",
    "substitution $v=L/(mr)$, one would reproduce the expression\n",
    "$r=L^2/(m\\alpha)$."
   ]
  },
  {
   "cell_type": "markdown",
   "id": "38263248",
   "metadata": {},
   "source": [
    "## Final manipulations, part 3\n",
    "\n",
    "The form describing the elliptical trajectory in\n",
    "Eq. ([9](#eq:Ctrajectory)) can be identified as an ellipse with one\n",
    "focus being the center of the ellipse by considering the definition of\n",
    "an ellipse as being the points such that the sum of the two distances\n",
    "between the two foci are a constant. Making that distance $2D$, the\n",
    "distance between the two foci as $2a$, and putting one focus at the\n",
    "origin,"
   ]
  },
  {
   "cell_type": "markdown",
   "id": "538403f4",
   "metadata": {},
   "source": [
    "$$\n",
    "\\begin{eqnarray}\n",
    "2D&=&r+\\sqrt{(r\\cos\\theta-2a)^2+r^2\\sin^2\\theta},\\\\\n",
    "\\nonumber\n",
    "4D^2+r^2-4Dr&=&r^2+4a^2-4ar\\cos\\theta,\\\\\n",
    "\\nonumber\n",
    "r&=&\\frac{D^2-a^2}{D+a\\cos\\theta}=\\frac{1}{D/(D^2-a^2)-a\\cos\\theta/(D^2-a^2)}.\n",
    "\\end{eqnarray}\n",
    "$$"
   ]
  },
  {
   "cell_type": "markdown",
   "id": "5b921de1",
   "metadata": {},
   "source": [
    "By inspection, this is the same form as Eq. ([9](#eq:Ctrajectory)) with $D/(D^2-a^2)=m\\alpha/L^2$ and $a/(D^2-a^2)=A$."
   ]
  },
  {
   "cell_type": "markdown",
   "id": "ed268321",
   "metadata": {},
   "source": [
    "## Ellipse reminder\n",
    "\n",
    "Let us remind ourselves about what an ellipse is before we proceed."
   ]
  },
  {
   "cell_type": "code",
   "execution_count": 1,
   "id": "cec54a99",
   "metadata": {},
   "outputs": [
    {
     "data": {
      "image/png": "[encoded data removed]",
      "text/plain": [
       "<Figure size 432x288 with 1 Axes>"
      ]
     },
     "metadata": {
      "needs_background": "light"
     },
     "output_type": "display_data"
    }
   ],
   "source": [
    "%matplotlib inline\n",
    "\n",
    "import numpy as np\n",
    "from matplotlib import pyplot as plt\n",
    "from math import pi\n",
    "\n",
    "u=1.     #x-position of the center\n",
    "v=0.5    #y-position of the center\n",
    "a=2.     #radius on the x-axis\n",
    "b=1.5    #radius on the y-axis\n",
    "\n",
    "t = np.linspace(0, 2*pi, 100)\n",
    "plt.plot( u+a*np.cos(t) , v+b*np.sin(t) )\n",
    "plt.grid(color='lightgray',linestyle='--')\n",
    "plt.show()"
   ]
  },
  {
   "cell_type": "markdown",
   "id": "29810e37",
   "metadata": {},
   "source": [
    "## Effective or Centrifugal Potential\n",
    "\n",
    "The total energy of a particle is"
   ]
  },
  {
   "cell_type": "markdown",
   "id": "4528681c",
   "metadata": {},
   "source": [
    "$$\n",
    "\\begin{eqnarray}\n",
    "E&=&V(r)+\\frac{1}{2}mv_\\theta^2+\\frac{1}{2}m\\dot{r}^2\\\\\n",
    "\\nonumber\n",
    "&=&V(r)+\\frac{1}{2}mr^2\\dot{\\theta}^2+\\frac{1}{2}m\\dot{r}^2\\\\\n",
    "\\nonumber\n",
    "&=&V(r)+\\frac{L^2}{2mr^2}+\\frac{1}{2}m\\dot{r}^2.\n",
    "\\end{eqnarray}\n",
    "$$"
   ]
  },
  {
   "cell_type": "markdown",
   "id": "2825f48a",
   "metadata": {},
   "source": [
    "The second term then contributes to the energy like an additional\n",
    "repulsive potential. The term is sometimes referred to as the\n",
    "\"centrifugal\" potential, even though it is actually the kinetic energy\n",
    "of the angular motion. Combined with $V(r)$, it is sometimes referred\n",
    "to as the \"effective\" potential,"
   ]
  },
  {
   "cell_type": "markdown",
   "id": "a9c79d36",
   "metadata": {},
   "source": [
    "$$\n",
    "\\begin{eqnarray}\n",
    "V_{\\rm eff}(r)&=&V(r)+\\frac{L^2}{2mr^2}.\n",
    "\\end{eqnarray}\n",
    "$$"
   ]
  },
  {
   "cell_type": "markdown",
   "id": "b660ba0e",
   "metadata": {},
   "source": [
    "Note that if one treats the effective potential like a real potential, one would expect to be able to generate an effective force,"
   ]
  },
  {
   "cell_type": "markdown",
   "id": "3186a2bd",
   "metadata": {},
   "source": [
    "$$\n",
    "\\begin{eqnarray}\n",
    "F_{\\rm eff}&=&-\\frac{d}{dr}V(r) -\\frac{d}{dr}\\frac{L^2}{2mr^2}\\\\\n",
    "\\nonumber\n",
    "&=&F(r)+\\frac{L^2}{mr^3}=F(r)+m\\frac{v_\\perp^2}{r},\n",
    "\\end{eqnarray}\n",
    "$$"
   ]
  },
  {
   "cell_type": "markdown",
   "id": "35a72464",
   "metadata": {},
   "source": [
    "which is indeed matches the form for $m\\ddot{r}$ in Eq. ([4](#eq:radialeqofmotion2)), which included the **centrifugal** force."
   ]
  },
  {
   "cell_type": "markdown",
   "id": "4d1e5bf1",
   "metadata": {},
   "source": [
    "## Code example\n",
    "\n",
    "The following code plots this effective potential for a simple choice of parameters, with a standard gravitational potential $-\\alpha/r$. Here we have chosen $L=m=\\alpha=1$."
   ]
  },
  {
   "cell_type": "code",
   "execution_count": 2,
   "id": "b6554de8",
   "metadata": {},
   "outputs": [
    {
     "data": {
      "image/png": "[encoded data removed]",
      "text/plain": [
       "<Figure size 432x288 with 1 Axes>"
      ]
     },
     "metadata": {
      "needs_background": "light"
     },
     "output_type": "display_data"
    }
   ],
   "source": [
    "# Common imports\n",
    "import numpy as np\n",
    "from math import *\n",
    "import matplotlib.pyplot as plt\n",
    "\n",
    "Deltax = 0.01\n",
    "#set up arrays\n",
    "xinitial = 0.3\n",
    "xfinal = 5.0\n",
    "alpha = 1.0   # spring constant\n",
    "m = 1.0   # mass, you can change these\n",
    "AngMom = 1.0  #  The angular momentum\n",
    "n = ceil((xfinal-xinitial)/Deltax)\n",
    "x = np.zeros(n)\n",
    "for i in range(n):\n",
    "    x[i] = xinitial+i*Deltax\n",
    "V = np.zeros(n)\n",
    "V = -alpha/x+0.5*AngMom*AngMom/(m*x*x)\n",
    "# Plot potential\n",
    "fig, ax = plt.subplots()\n",
    "ax.set_xlabel('r[m]')\n",
    "ax.set_ylabel('V[J]')\n",
    "ax.plot(x, V)\n",
    "fig.tight_layout()\n",
    "plt.show()"
   ]
  },
  {
   "cell_type": "markdown",
   "id": "a54650dd",
   "metadata": {},
   "source": [
    "## Gravitational force example\n",
    "\n",
    "Using the above parameters, we can now study the evolution of the system using for example the velocity Verlet method.\n",
    "This is done in the code here for an initial radius equal to the minimum of the potential well.  We seen then that the radius is always the same and corresponds to a circle (the radius is always constant)."
   ]
  },
  {
   "cell_type": "code",
   "execution_count": 3,
   "id": "1d2f6f60",
   "metadata": {},
   "outputs": [
    {
     "data": {
      "image/png": "[encoded data removed]",
      "text/plain": [
       "<Figure size 432x288 with 2 Axes>"
      ]
     },
     "metadata": {
      "needs_background": "light"
     },
     "output_type": "display_data"
    }
   ],
   "source": [
    "# Common imports\n",
    "import numpy as np\n",
    "import pandas as pd\n",
    "from math import *\n",
    "import matplotlib.pyplot as plt\n",
    "import os\n",
    "\n",
    "# Where to save the figures and data files\n",
    "PROJECT_ROOT_DIR = \"Results\"\n",
    "FIGURE_ID = \"Results/FigureFiles\"\n",
    "DATA_ID = \"DataFiles/\"\n",
    "\n",
    "if not os.path.exists(PROJECT_ROOT_DIR):\n",
    "    os.mkdir(PROJECT_ROOT_DIR)\n",
    "\n",
    "if not os.path.exists(FIGURE_ID):\n",
    "    os.makedirs(FIGURE_ID)\n",
    "\n",
    "if not os.path.exists(DATA_ID):\n",
    "    os.makedirs(DATA_ID)\n",
    "\n",
    "def image_path(fig_id):\n",
    "    return os.path.join(FIGURE_ID, fig_id)\n",
    "\n",
    "def data_path(dat_id):\n",
    "    return os.path.join(DATA_ID, dat_id)\n",
    "\n",
    "def save_fig(fig_id):\n",
    "    plt.savefig(image_path(fig_id) + \".png\", format='png')\n",
    "\n",
    "\n",
    "# Simple Gravitational Force   -alpha/r\n",
    "    \n",
    "DeltaT = 0.01\n",
    "#set up arrays \n",
    "tfinal = 100.0\n",
    "n = ceil(tfinal/DeltaT)\n",
    "# set up arrays for t, v and r\n",
    "t = np.zeros(n)\n",
    "v = np.zeros(n)\n",
    "r = np.zeros(n)\n",
    "# Constants of the model, setting all variables to one for simplicity\n",
    "alpha = 1.0\n",
    "AngMom = 1.0  #  The angular momentum\n",
    "m = 1.0  # scale mass to one\n",
    "c1 = AngMom*AngMom/(m*m)\n",
    "c2 = AngMom*AngMom/m\n",
    "rmin = (AngMom*AngMom/m/alpha)\n",
    "# Initial conditions\n",
    "r0 = rmin\n",
    "v0 = 0.0\n",
    "r[0] = r0\n",
    "v[0] = v0\n",
    "# Start integrating using the Velocity-Verlet  method\n",
    "for i in range(n-1):\n",
    "    # Set up acceleration\n",
    "    a = -alpha/(r[i]**2)+c1/(r[i]**3)\n",
    "    # update velocity, time and position using the Velocity-Verlet method\n",
    "    r[i+1] = r[i] + DeltaT*v[i]+0.5*(DeltaT**2)*a\n",
    "    anew = -alpha/(r[i+1]**2)+c1/(r[i+1]**3)\n",
    "    v[i+1] = v[i] + 0.5*DeltaT*(a+anew)\n",
    "    t[i+1] = t[i] + DeltaT\n",
    "    # Plot position as function of time\n",
    "fig, ax = plt.subplots(2,1)\n",
    "ax[0].set_xlabel('time')\n",
    "ax[0].set_ylabel('radius')\n",
    "ax[0].plot(t,r)\n",
    "ax[1].set_xlabel('time')\n",
    "ax[1].set_ylabel('Velocity')\n",
    "ax[1].plot(t,v)\n",
    "save_fig(\"RadialGVV\")\n",
    "plt.show()"
   ]
  },
  {
   "cell_type": "markdown",
   "id": "68e61464",
   "metadata": {},
   "source": [
    "Changing the value of the initial position to a value where the energy is positive, leads to an increasing radius with time, a so-called unbound orbit. Choosing on the other hand an initial radius that corresponds to a negative energy and different from the minimum value leads to a radius that oscillates back and forth between two values."
   ]
  },
  {
   "cell_type": "markdown",
   "id": "507fe049",
   "metadata": {},
   "source": [
    "## Harmonic Oscillator in two dimensions\n",
    "\n",
    "Consider a particle of mass $m$ in a 2-dimensional harmonic oscillator with potential"
   ]
  },
  {
   "cell_type": "markdown",
   "id": "a6151286",
   "metadata": {},
   "source": [
    "$$\n",
    "V=\\frac{1}{2}kr^2=\\frac{1}{2}k(x^2+y^2).\n",
    "$$"
   ]
  },
  {
   "cell_type": "markdown",
   "id": "0c65eb18",
   "metadata": {},
   "source": [
    "If the orbit has angular momentum $L$, we can find the radius and angular velocity of the circular orbit as well as the b) the angular frequency of small radial perturbations.\n",
    "\n",
    "We consider the effective potential. The radius of a circular orbit is at the minimum of the potential (where the effective force is zero).\n",
    "The potential is plotted here with the parameters $k=m=0.1$ and $L=1.0$."
   ]
  },
  {
   "cell_type": "code",
   "execution_count": 1,
   "id": "a23e62fa",
   "metadata": {},
   "outputs": [
    {
     "data": {
      "image/png": "[encoded data removed]",
      "text/plain": [
       "<Figure size 432x288 with 1 Axes>"
      ]
     },
     "metadata": {
      "needs_background": "light"
     },
     "output_type": "display_data"
    }
   ],
   "source": [
    "# Common imports\n",
    "import numpy as np\n",
    "from math import *\n",
    "import matplotlib.pyplot as plt\n",
    "\n",
    "Deltax = 0.01\n",
    "#set up arrays\n",
    "xinitial = 0.5\n",
    "xfinal = 3.0\n",
    "k = 1.0   # spring constant\n",
    "m = 1.0   # mass, you can change these\n",
    "AngMom = 1.0  #  The angular momentum\n",
    "n = ceil((xfinal-xinitial)/Deltax)\n",
    "x = np.zeros(n)\n",
    "for i in range(n):\n",
    "    x[i] = xinitial+i*Deltax\n",
    "V = np.zeros(n)\n",
    "V = 0.5*k*x*x+0.5*AngMom*AngMom/(m*x*x)\n",
    "# Plot potential\n",
    "fig, ax = plt.subplots()\n",
    "ax.set_xlabel('r[m]')\n",
    "ax.set_ylabel('V[J]')\n",
    "ax.plot(x, V)\n",
    "fig.tight_layout()\n",
    "plt.show()"
   ]
  },
  {
   "cell_type": "markdown",
   "id": "0e7a407a",
   "metadata": {},
   "source": [
    "$$\n",
    "\\begin{eqnarray*}\n",
    "V_{\\rm eff}&=&\\frac{1}{2}kr^2+\\frac{L^2}{2mr^2}\n",
    "\\end{eqnarray*}\n",
    "$$"
   ]
  },
  {
   "cell_type": "markdown",
   "id": "3c41f7d2",
   "metadata": {},
   "source": [
    "## Harmonic oscillator in two dimensions and effective potential\n",
    "The effective potential looks like that of a harmonic oscillator for\n",
    "large $r$, but for small $r$, the centrifugal potential repels the\n",
    "particle from the origin. The combination of the two potentials has a\n",
    "minimum for at some radius $r_{\\rm min}$."
   ]
  },
  {
   "cell_type": "markdown",
   "id": "49fd50b4",
   "metadata": {},
   "source": [
    "$$\n",
    "\\begin{eqnarray*}\n",
    "0&=&kr_{\\rm min}-\\frac{L^2}{mr_{\\rm min}^3},\\\\\n",
    "r_{\\rm min}&=&\\left(\\frac{L^2}{mk}\\right)^{1/4},\\\\\n",
    "\\dot{\\theta}&=&\\frac{L}{mr_{\\rm min}^2}=\\sqrt{k/m}.\n",
    "\\end{eqnarray*}\n",
    "$$"
   ]
  },
  {
   "cell_type": "markdown",
   "id": "e422118f",
   "metadata": {},
   "source": [
    "For particles at $r_{\\rm min}$ with $\\dot{r}=0$, the particle does not\n",
    "accelerate and $r$ stays constant, i.e. a circular orbit. The radius\n",
    "of the circular orbit can be adjusted by changing the angular momentum\n",
    "$L$.\n",
    "\n",
    "For the above parameters this minimum is at $r_{\\rm min}=1$.\n",
    "\n",
    " Now consider small vibrations about $r_{\\rm min}$. The effective spring constant is the curvature of the effective potential."
   ]
  },
  {
   "cell_type": "markdown",
   "id": "4f6ff2ed",
   "metadata": {},
   "source": [
    "$$\n",
    "\\begin{eqnarray*}\n",
    "k_{\\rm eff}&=&\\left.\\frac{d^2}{dr^2}V_{\\rm eff}(r)\\right|_{r=r_{\\rm min}}=k+\\frac{3L^2}{mr_{\\rm min}^4}\\\\\n",
    "&=&4k,\\\\\n",
    "\\omega&=&\\sqrt{k_{\\rm eff}/m}=2\\sqrt{k/m}=2\\dot{\\theta}.\n",
    "\\end{eqnarray*}\n",
    "$$"
   ]
  },
  {
   "cell_type": "markdown",
   "id": "3b1f33fb",
   "metadata": {},
   "source": [
    "Because the radius oscillates with twice the angular frequency,\n",
    "the orbit has two places where $r$ reaches a minimum in one\n",
    "cycle. This differs from the inverse-square force where there is one\n",
    "minimum in an orbit. One can show that the orbit for the harmonic\n",
    "oscillator is also elliptical, but in this case the center of the\n",
    "potential is at the center of the ellipse, not at one of the foci.\n",
    "\n",
    "The solution is also simple to write down exactly in Cartesian coordinates. The $x$ and $y$ equations of motion separate,"
   ]
  },
  {
   "cell_type": "markdown",
   "id": "0566afe4",
   "metadata": {},
   "source": [
    "$$\n",
    "\\begin{eqnarray*}\n",
    "\\ddot{x}&=&-kx,\\\\\n",
    "\\ddot{y}&=&-ky.\n",
    "\\end{eqnarray*}\n",
    "$$"
   ]
  },
  {
   "cell_type": "markdown",
   "id": "c7cff6ba",
   "metadata": {},
   "source": [
    "The general solution can be expressed as"
   ]
  },
  {
   "cell_type": "markdown",
   "id": "fd8aea64",
   "metadata": {},
   "source": [
    "$$\n",
    "\\begin{eqnarray*}\n",
    "x&=&A\\cos\\omega_0 t+B\\sin\\omega_0 t,\\\\\n",
    "y&=&C\\cos\\omega_0 t+D\\sin\\omega_0 t.\n",
    "\\end{eqnarray*}\n",
    "$$"
   ]
  },
  {
   "cell_type": "markdown",
   "id": "c1a4d32c",
   "metadata": {},
   "source": [
    "The code here finds the solution for $x$ and $y$ using the code we\n",
    "developed in homework 5 and 6 and the midterm.  Note that this code is\n",
    "tailored to run in Cartesian coordinates. There is thus no angular\n",
    "momentum dependent term.\n",
    "\n",
    "Here we have chose initial conditions that\n",
    "correspond to the minimum of the effective potential\n",
    "$r_{\\mathrm{min}}$. We have chosen $x_0=r_{\\mathrm{min}}$ and\n",
    "$y_0=0$. Similarly, we use the centripetal acceleration to determine\n",
    "the initial velocity so that we have a circular motion (see back to the\n",
    "last question of the midterm). This means that we set the centripetal\n",
    "acceleration $v^2/r$ equal to the force from the harmonic oscillator $-k\\boldsymbol{r}$. Taking the\n",
    "magnitude of $\\boldsymbol{r}$ we have then\n",
    "$v^2/r=k/mr$, which gives $v=\\pm\\omega_0r$. \n",
    "\n",
    "Since the code here solves the equations of motion in cartesian\n",
    "coordinates and the harmonic oscillator potential leads to forces in\n",
    "the $x$- and $y$-directions that are decoupled, we have to select the initial velocities and positions so that we don't get that for example $y(t)=0$.\n",
    "\n",
    "We set $x_0$ to be different from zero and $v_{y0}$ to be different from zero."
   ]
  },
  {
   "cell_type": "code",
   "execution_count": 6,
   "id": "540e5053",
   "metadata": {},
   "outputs": [
    {
     "data": {
      "image/png": "[encoded data removed]",
      "text/plain": [
       "<Figure size 432x288 with 3 Axes>"
      ]
     },
     "metadata": {
      "needs_background": "light"
     },
     "output_type": "display_data"
    }
   ],
   "source": [
    "\n",
    "DeltaT = 0.0001\n",
    "#set up arrays \n",
    "tfinal = 10.0\n",
    "n = ceil(tfinal/DeltaT)\n",
    "# set up arrays\n",
    "t = np.zeros(n)\n",
    "v = np.zeros((n,2))\n",
    "r = np.zeros((n,2))\n",
    "radius = np.zeros(n)\n",
    "# Constants of the model\n",
    "k = 1.0   # spring constant\n",
    "m = 1.0   # mass, you can change these\n",
    "omega02 = k/m  # Frequency\n",
    "AngMom = 1.0  #  The angular momentum\n",
    "# Potential minimum\n",
    "rmin = (AngMom*AngMom/k/m)**0.25\n",
    "# Initial conditions as compact 2-dimensional arrays, x0=rmin and y0 = 0\n",
    "x0 = rmin; y0= 0.0\n",
    "r0 = np.array([x0,y0])\n",
    "vy0 = sqrt(omega02)*rmin; vx0 = 0.0\n",
    "v0 = np.array([vx0,vy0])\n",
    "r[0] = r0\n",
    "v[0] = v0\n",
    "# Start integrating using the Velocity-Verlet  method\n",
    "for i in range(n-1):\n",
    "    # Set up the acceleration\n",
    "    a =  -r[i]*omega02  \n",
    "    # update velocity, time and position using the Velocity-Verlet method\n",
    "    r[i+1] = r[i] + DeltaT*v[i]+0.5*(DeltaT**2)*a\n",
    "    anew = -r[i+1]*omega02  \n",
    "    v[i+1] = v[i] + 0.5*DeltaT*(a+anew)\n",
    "    t[i+1] = t[i] + DeltaT\n",
    "# Plot position as function of time\n",
    "radius = np.sqrt(r[:,0]**2+r[:,1]**2)\n",
    "fig, ax = plt.subplots(3,1)\n",
    "ax[0].set_xlabel('time')\n",
    "ax[0].set_ylabel('radius squared')\n",
    "ax[0].plot(t,r[:,0]**2+r[:,1]**2)\n",
    "ax[1].set_xlabel('time')\n",
    "ax[1].set_ylabel('x position')\n",
    "ax[1].plot(t,r[:,0])\n",
    "ax[2].set_xlabel('time')\n",
    "ax[2].set_ylabel('y position')\n",
    "ax[2].plot(t,r[:,1])\n",
    "\n",
    "fig.tight_layout()\n",
    "save_fig(\"2DimHOVV\")\n",
    "plt.show()"
   ]
  },
  {
   "cell_type": "markdown",
   "id": "58da69cf",
   "metadata": {},
   "source": [
    "We see that the radius (to within a given error), we obtain a constant radius.\n",
    "\n",
    "The following code shows first how we can solve this problem using the radial degrees of freedom only.\n",
    "Here we need to add the explicit centrifugal barrier.  Note that the variable $r$ depends only on time. There is no $x$ and $y$ directions\n",
    "since we have transformed the equations to polar coordinates."
   ]
  },
  {
   "cell_type": "code",
   "execution_count": 5,
   "id": "d154c5d7",
   "metadata": {},
   "outputs": [
    {
     "data": {
      "image/png": "[encoded data removed]",
      "text/plain": [
       "<Figure size 432x288 with 2 Axes>"
      ]
     },
     "metadata": {
      "needs_background": "light"
     },
     "output_type": "display_data"
    }
   ],
   "source": [
    "DeltaT = 0.01\n",
    "#set up arrays \n",
    "tfinal = 10.0\n",
    "n = ceil(tfinal/DeltaT)\n",
    "# set up arrays for t, v and r\n",
    "t = np.zeros(n)\n",
    "v = np.zeros(n)\n",
    "r = np.zeros(n)\n",
    "E = np.zeros(n)\n",
    "# Constants of the model\n",
    "AngMom = 1.0  #  The angular momentum\n",
    "m = 1.0\n",
    "k = 1.0\n",
    "omega02 = k/m\n",
    "c1 = AngMom*AngMom/(m*m)\n",
    "c2 = AngMom*AngMom/m\n",
    "rmin = (AngMom*AngMom/k/m)**0.25\n",
    "# Initial conditions\n",
    "r0 = rmin\n",
    "v0 = 0.0\n",
    "r[0] = r0\n",
    "v[0] = v0\n",
    "E[0] = 0.5*m*v0*v0+0.5*k*r0*r0+0.5*c2/(r0*r0)\n",
    "# Start integrating using the Velocity-Verlet  method\n",
    "for i in range(n-1):\n",
    "    # Set up acceleration with angular momentum terms\n",
    "    a = -r[i]*omega02+c1/(r[i]**3)    \n",
    "    # update velocity, time and position using the Velocity-Verlet method\n",
    "    r[i+1] = r[i] + DeltaT*v[i]+0.5*(DeltaT**2)*a\n",
    "    anew = -r[i+1]*omega02+c1/(r[i+1]**3)\n",
    "    v[i+1] = v[i] + 0.5*DeltaT*(a+anew)\n",
    "    t[i+1] = t[i] + DeltaT\n",
    "    E[i+1] = 0.5*m*v[i+1]*v[i+1]+0.5*k*r[i+1]*r[i+1]+0.5*c2/(r[i+1]*r[i+1])\n",
    "    # Plot position as function of time\n",
    "fig, ax = plt.subplots(2,1)\n",
    "ax[0].set_xlabel('time')\n",
    "ax[0].set_ylabel('radius')\n",
    "ax[0].plot(t,r)\n",
    "ax[1].set_xlabel('time')\n",
    "ax[1].set_ylabel('Energy')\n",
    "ax[1].plot(t,E)\n",
    "save_fig(\"RadialHOVV\")\n",
    "plt.show()"
   ]
  },
  {
   "cell_type": "markdown",
   "id": "b3b9c3a7",
   "metadata": {},
   "source": [
    "With some work using double angle formulas, one can calculate"
   ]
  },
  {
   "cell_type": "markdown",
   "id": "3e9b2a5f",
   "metadata": {},
   "source": [
    "$$\n",
    "\\begin{eqnarray*}\n",
    "r^2&=&x^2+y^2\\\\\n",
    "\\nonumber\n",
    "&=&(A^2+C^2)\\cos^2(\\omega_0t)+(B^2+D^2)\\sin^2\\omega_0t+(AB+CD)\\cos(\\omega_0t)\\sin(\\omega_0t)\\\\\n",
    "\\nonumber\n",
    "&=&\\alpha+\\beta\\cos 2\\omega_0 t+\\gamma\\sin 2\\omega_0 t,\\\\\n",
    "\\alpha&=&\\frac{A^2+B^2+C^2+D^2}{2},~~\\beta=\\frac{A^2-B^2+C^2-D^2}{2},~~\\gamma=AB+CD,\\\\\n",
    "r^2&=&\\alpha+(\\beta^2+\\gamma^2)^{1/2}\\cos(2\\omega_0 t-\\delta),~~~\\delta=\\arctan(\\gamma/\\beta),\n",
    "\\end{eqnarray*}\n",
    "$$"
   ]
  },
  {
   "cell_type": "markdown",
   "id": "7bc6be41",
   "metadata": {},
   "source": [
    "and see that radius oscillates with frequency $2\\omega_0$. The\n",
    "factor of two comes because the oscillation $x=A\\cos\\omega_0t$ has two\n",
    "maxima for $x^2$, one at $t=0$ and one a half period later."
   ]
  }
 ],
 "metadata": {
  "kernelspec": {
   "display_name": "Python 3 (ipykernel)",
   "language": "python",
   "name": "python3"
  },
  "language_info": {
   "codemirror_mode": {
    "name": "ipython",
    "version": 3
   },
   "file_extension": ".py",
   "mimetype": "text/x-python",
   "name": "python",
   "nbconvert_exporter": "python",
   "pygments_lexer": "ipython3",
   "version": "3.9.10"
  }
 },
 "nbformat": 4,
 "nbformat_minor": 5
}
