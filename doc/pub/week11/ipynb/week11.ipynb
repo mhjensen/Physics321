{
 "cells": [
  {
   "cell_type": "markdown",
   "id": "2a7d6857",
   "metadata": {
    "editable": true
   },
   "source": [
    "<!-- HTML file automatically generated from DocOnce source (https://github.com/doconce/doconce/)\n",
    "doconce format html week11.do.txt --no_mako -->\n",
    "<!-- dom:TITLE: PHY321: Two-body problems and Gravitational Forces -->"
   ]
  },
  {
   "cell_type": "markdown",
   "id": "60869a1b",
   "metadata": {
    "editable": true
   },
   "source": [
    "# PHY321: Two-body problems and Gravitational Forces\n",
    "**[Morten Hjorth-Jensen](http://mhjgit.github.io/info/doc/web/)**, Department of Physics and Astronomy and Facility for Rare Ion Beams (FRIB), Michigan State University, USA and Department of Physics, University of Oslo, Norway\n",
    "\n",
    "Date: **Mar 20, 2022**\n",
    "\n",
    "Copyright 1999-2022, [Morten Hjorth-Jensen](http://mhjgit.github.io/info/doc/web/). Released under CC Attribution-NonCommercial 4.0 license"
   ]
  },
  {
   "cell_type": "markdown",
   "id": "0c6ae4d8",
   "metadata": {
    "editable": true
   },
   "source": [
    "## Aims and Overarching Motivation"
   ]
  },
  {
   "cell_type": "markdown",
   "id": "2d320240",
   "metadata": {
    "editable": true
   },
   "source": [
    "### Monday March 21\n",
    "\n",
    "Definition of the two-body problem, rewriting the equations in relative and center-of-mass coordinates\n",
    "\n",
    "**Reading suggestion**: Taylor sections 8.2-8.3"
   ]
  },
  {
   "cell_type": "markdown",
   "id": "ad1b5264",
   "metadata": {
    "editable": true
   },
   "source": [
    "### Wednesday March 23\n",
    "\n",
    "Preparing the ground for the  gravitational force and its solution in two dimensions. \n",
    "Harmonic Oscillator example in two dimensions (if we get time).\n",
    "\n",
    "**Reading suggestion**: Taylor chapter 8.4-8.5"
   ]
  },
  {
   "cell_type": "markdown",
   "id": "eeaadefc",
   "metadata": {
    "editable": true
   },
   "source": [
    "### Friday  March 25\n",
    "\n",
    "Discussion and work on homework 7"
   ]
  },
  {
   "cell_type": "markdown",
   "id": "93fd3529",
   "metadata": {
    "editable": true
   },
   "source": [
    "# Two-body Problems\n",
    "\n",
    "Two-body problems play a central role in physics. Some of these problems can, with appropriate transformations, be solved analytically. The gravitional force problem (as well as the Coulomb potential problem for two particles) is an example of this.\n",
    "\n",
    "There are several small steps which we need to do in order to reach this solution. These are\n",
    "1. Rewriting the equations in terms of the degrees of freedom of the relative motion and the center of mass motion\n",
    "\n",
    "2. Making a transformation either to polar (two dimensions) or to spherical coordinates (three dimensions)\n",
    "\n",
    "3. This gives us uncoupled differential equations for each coordinate that we can solve analytically\n",
    "\n",
    "The advantage in doing so is that we can extract a lot of interesting insights about the motion and the physics of these important physics problems. These insights can be transferred to other physics problems where the potentials are given by expressions proportional with the inverse relative distance."
   ]
  },
  {
   "cell_type": "markdown",
   "id": "7a3c998b",
   "metadata": {
    "editable": true
   },
   "source": [
    "## The gravitational force\n",
    "\n",
    "The gravitational potential energy and forces involving two masses $a$ and $b$ are"
   ]
  },
  {
   "cell_type": "markdown",
   "id": "5ccb53e0",
   "metadata": {
    "editable": true
   },
   "source": [
    "$$\n",
    "\\begin{eqnarray}\n",
    "V_{ab}&=&-\\frac{Gm_am_b}{|\\boldsymbol{r}_a-\\boldsymbol{r}_b|},\\\\\n",
    "\\nonumber\n",
    "F_{ba}&=&-\\frac{Gm_am_b}{|\\boldsymbol{r}_a-\\boldsymbol{r}_b|^2}\\hat{r}_{ab},\\\\\n",
    "\\nonumber\n",
    "\\hat{r}_{ab}&=&\\frac{\\boldsymbol{r}_b-\\boldsymbol{r}_a}{|\\boldsymbol{r}_a-\\boldsymbol{r}_b|}.\n",
    "\\end{eqnarray}\n",
    "$$"
   ]
  },
  {
   "cell_type": "markdown",
   "id": "cf15eb2f",
   "metadata": {
    "editable": true
   },
   "source": [
    "Here $G=6.67\\times 10^{-11}$ Nm$^2$/kg$^2$, and $F_{ba}$ is the force\n",
    "on $b$ due to $a$. By inspection, one can see that the force on $b$\n",
    "due to $a$ and the force on $a$ due to $b$ are equal and opposite. The\n",
    "net potential energy for a large number of masses would be"
   ]
  },
  {
   "cell_type": "markdown",
   "id": "f55890c6",
   "metadata": {
    "editable": true
   },
   "source": [
    "<!-- Equation labels as ordinary links -->\n",
    "<div id=\"_auto1\"></div>\n",
    "\n",
    "$$\n",
    "\\begin{equation}\n",
    "V=\\sum_{a<b}U_{ab}=\\frac{1}{2}\\sum_{a\\ne b}V_{ab}.\n",
    "\\label{_auto1} \\tag{1}\n",
    "\\end{equation}\n",
    "$$"
   ]
  },
  {
   "cell_type": "markdown",
   "id": "66f4125d",
   "metadata": {
    "editable": true
   },
   "source": [
    "## Relative and Center of Mass Motion\n",
    "\n",
    "Thus far, we have considered the trajectory as if the force is\n",
    "centered around a fixed point. For two bodies interacting only with\n",
    "one another, both masses circulate around the center of mass. One\n",
    "might think that solutions would become more complex when both\n",
    "particles move, but we will see here that the problem can be reduced\n",
    "to one with a single body moving according to a fixed force by\n",
    "expressing the trajectories for $\\boldsymbol{r}_1$ and $\\boldsymbol{r}_2$ into the\n",
    "center-of-mass coordinate $\\boldsymbol{R}_{\\rm cm}$ and the relative\n",
    "coordinate $\\boldsymbol{r}$,"
   ]
  },
  {
   "cell_type": "markdown",
   "id": "6eb03fd3",
   "metadata": {
    "editable": true
   },
   "source": [
    "$$\n",
    "\\begin{eqnarray}\n",
    "\\boldsymbol{R}_{\\rm cm}&\\equiv&\\frac{m_1\\boldsymbol{r}_1+m_2\\boldsymbol{r}_2}{m_1+m_2},\\\\\n",
    "\\nonumber\n",
    "\\boldsymbol{r}&\\equiv&\\boldsymbol{r}_1-\\boldsymbol{r_2}.\n",
    "\\end{eqnarray}\n",
    "$$"
   ]
  },
  {
   "cell_type": "markdown",
   "id": "dcd05fc5",
   "metadata": {
    "editable": true
   },
   "source": [
    "## Relative and Center of Mass Motion, assumptions\n",
    "\n",
    "Here, we assume the two particles interact only with one another, so\n",
    "$\\boldsymbol{F}_{12}=-\\boldsymbol{F}_{21}$ (where $\\boldsymbol{F}_{ij}$ is the force on $i$\n",
    "due to $j$. The equations of motion then become"
   ]
  },
  {
   "cell_type": "markdown",
   "id": "48b2cb01",
   "metadata": {
    "editable": true
   },
   "source": [
    "$$\n",
    "\\begin{eqnarray}\n",
    "\\ddot{\\boldsymbol{R}}_{\\rm cm}&=&\\frac{1}{m_1+m_2}\\left\\{m_1\\ddot{\\boldsymbol{r}}_1+m_2\\ddot{\\boldsymbol{r}}_2\\right\\}\\\\\n",
    "\\nonumber\n",
    "&=&\\frac{1}{m_1+m_2}\\left\\{\\boldsymbol{F}_{12}+\\boldsymbol{F}_{21}\\right\\}=0.\\\\\n",
    "\\ddot{\\boldsymbol{r}}&=&\\ddot{\\boldsymbol{r}}_1-\\ddot{\\boldsymbol{r}}_2=\\left(\\frac{\\boldsymbol{F}_{12}}{m_1}-\\frac{\\boldsymbol{F}_{21}}{m_2}\\right)\\\\\n",
    "\\nonumber\n",
    "&=&\\left(\\frac{1}{m_1}+\\frac{1}{m_2}\\right)\\boldsymbol{F}_{12}.\n",
    "\\end{eqnarray}\n",
    "$$"
   ]
  },
  {
   "cell_type": "markdown",
   "id": "b5dcd6fc",
   "metadata": {
    "editable": true
   },
   "source": [
    "The first expression simply states that the center of mass coordinate\n",
    "$\\boldsymbol{R}_{\\rm cm}$ moves at a fixed velocity. The second expression\n",
    "can be rewritten in terms of the reduced mass $\\mu$."
   ]
  },
  {
   "cell_type": "markdown",
   "id": "c7996fd7",
   "metadata": {
    "editable": true
   },
   "source": [
    "$$\n",
    "\\begin{eqnarray}\n",
    "\\mu \\ddot{\\boldsymbol{r}}&=&\\boldsymbol{F}_{12},\\\\\n",
    "\\frac{1}{\\mu}&=&\\frac{1}{m_1}+\\frac{1}{m_2},~~~~\\mu=\\frac{m_1m_2}{m_1+m_2}.\n",
    "\\end{eqnarray}\n",
    "$$"
   ]
  },
  {
   "cell_type": "markdown",
   "id": "420284da",
   "metadata": {
    "editable": true
   },
   "source": [
    "## Trajectory as a one-body problem\n",
    "\n",
    "Thus, one can treat the trajectory as a one-body problem where the\n",
    "reduced mass is $\\mu$, and a second trivial problem for the center of\n",
    "mass. The reduced mass is especially convenient when one is\n",
    "considering gravitational problems because then"
   ]
  },
  {
   "cell_type": "markdown",
   "id": "96a98dbb",
   "metadata": {
    "editable": true
   },
   "source": [
    "$$\n",
    "\\begin{eqnarray}\n",
    "\\mu \\ddot{r}&=&-\\frac{Gm_1m_2}{r^2}\\hat{r}\\\\\n",
    "\\nonumber\n",
    "&=&-\\frac{GM\\mu}{r^2}\\hat{r},~~~M\\equiv m_1+m_2.\n",
    "\\end{eqnarray}\n",
    "$$"
   ]
  },
  {
   "cell_type": "markdown",
   "id": "b2599a4f",
   "metadata": {
    "editable": true
   },
   "source": [
    "For the gravitational problem, the reduced mass then falls out and the\n",
    "trajectory depends only on the total mass $M$.\n",
    "\n",
    "The kinetic energy and momenta also have analogues in center-of-mass\n",
    "coordinates. The total and relative momenta are"
   ]
  },
  {
   "cell_type": "markdown",
   "id": "559d5c91",
   "metadata": {
    "editable": true
   },
   "source": [
    "$$\n",
    "\\begin{eqnarray}\n",
    "\\boldsymbol{P}&\\equiv&\\boldsymbol{p}_1+\\boldsymbol{p}_2=M\\dot{\\boldsymbol{R}}_{\\rm cm},\\\\\n",
    "\\nonumber\n",
    "\\boldsymbol{q}&\\equiv&\\mu\\dot{\\boldsymbol{r}}.\n",
    "\\end{eqnarray}\n",
    "$$"
   ]
  },
  {
   "cell_type": "markdown",
   "id": "823b8c45",
   "metadata": {
    "editable": true
   },
   "source": [
    "## Kinetic energy\n",
    "\n",
    "With these definitions, a little algebra shows that the kinetic energy becomes"
   ]
  },
  {
   "cell_type": "markdown",
   "id": "1bcc2e81",
   "metadata": {
    "editable": true
   },
   "source": [
    "$$\n",
    "\\begin{eqnarray}\n",
    "K&=&\\frac{1}{2}m_1|\\boldsymbol{v}_1|^2+\\frac{1}{2}m_2|\\boldsymbol{v}_2|^2\\\\\n",
    "\\nonumber\n",
    "&=&\\frac{1}{2}M|\\dot{\\boldsymbol{R}}_{\\rm cm}|^2\n",
    "+\\frac{1}{2}\\mu|\\dot{\\boldsymbol{r}}|^2\\\\\n",
    "\\nonumber\n",
    "&=&\\frac{P^2}{2M}+\\frac{q^2}{2\\mu}.\n",
    "\\end{eqnarray}\n",
    "$$"
   ]
  },
  {
   "cell_type": "markdown",
   "id": "49958634",
   "metadata": {
    "editable": true
   },
   "source": [
    "The standard strategy is to transform into the center of mass frame,\n",
    "then treat the problem as one of a single particle of mass $\\mu$\n",
    "undergoing a force $\\boldsymbol{F}_{12}$. Scattering angles can also be\n",
    "expressed in this frame, then transformed into the lab frame. In\n",
    "practice, one sees examples in the literature where $d\\sigma/d\\Omega$\n",
    "expressed in both the \"center-of-mass\" and in the \"laboratory\"\n",
    "frame."
   ]
  },
  {
   "cell_type": "markdown",
   "id": "6dbbe4d0",
   "metadata": {
    "editable": true
   },
   "source": [
    "## Deriving Elliptical Orbits\n",
    "\n",
    "Kepler's laws state that a gravitational orbit should be an ellipse\n",
    "with the source of the gravitational field at one focus. Deriving this\n",
    "is surprisingly messy. To do this, we first use angular momentum\n",
    "conservation to transform the equations of motion so that it is in\n",
    "terms of $r$ and $\\theta$ instead of $r$ and $t$. The overall strategy\n",
    "is to\n",
    "\n",
    "1. Find equations of motion for $r$ and $t$ with no angle ($\\theta$) mentioned, i.e. $d^2r/dt^2=\\cdots$. Angular momentum conservation will be used, and the equation will involve the angular momentum $L$.\n",
    "\n",
    "2. Use angular momentum conservation to find an expression for $\\dot{\\theta}$ in terms of $r$.\n",
    "\n",
    "3. Use the chain rule to convert the equations of motions for $r$, an expression involving $r,\\dot{r}$ and $\\ddot{r}$, to one involving $r,dr/d\\theta$ and $d^2r/d\\theta^2$. This is quitecomplicated because the expressions will also involve a substitution $u=1/r$ so that one finds an expression in terms of $u$ and $\\theta$.\n",
    "\n",
    "4. Once $u(\\theta)$ is found, you need to show that this can be converted to the familiar form for an ellipse."
   ]
  },
  {
   "cell_type": "markdown",
   "id": "39b8a731",
   "metadata": {
    "editable": true
   },
   "source": [
    "## Euqations of motion\n",
    "The equations of motion give"
   ]
  },
  {
   "cell_type": "markdown",
   "id": "533ef24e",
   "metadata": {
    "editable": true
   },
   "source": [
    "<!-- Equation labels as ordinary links -->\n",
    "<div id=\"eq:radialeqofmotion\"></div>\n",
    "\n",
    "$$\n",
    "\\begin{eqnarray}\n",
    "\\label{eq:radialeqofmotion} \\tag{2}\n",
    "\\frac{d}{dt}r^2&=&\\frac{d}{dt}(x^2+y^2)=2x\\dot{x}+2y\\dot{y}=2r\\dot{r},\\\\\n",
    "\\nonumber\n",
    "\\dot{r}&=&\\frac{x}{r}\\dot{x}+\\frac{y}{r}\\dot{y},\\\\\n",
    "\\nonumber\n",
    "\\ddot{r}&=&\\frac{x}{r}\\ddot{x}+\\frac{y}{r}\\ddot{y}\n",
    "+\\frac{\\dot{x}^2+\\dot{y}^2}{r}\n",
    "-\\frac{\\dot{r}^2}{r}.\n",
    "\\end{eqnarray}\n",
    "$$"
   ]
  },
  {
   "cell_type": "markdown",
   "id": "7abed7fc",
   "metadata": {
    "editable": true
   },
   "source": [
    "## Reordering the equations\n",
    "Recognizing that the numerator of the third term is the velocity squared, and that it can be written in polar coordinates,"
   ]
  },
  {
   "cell_type": "markdown",
   "id": "86874bf0",
   "metadata": {
    "editable": true
   },
   "source": [
    "<!-- Equation labels as ordinary links -->\n",
    "<div id=\"_auto2\"></div>\n",
    "\n",
    "$$\n",
    "\\begin{equation}\n",
    "v^2=\\dot{x}^2+\\dot{y}^2=\\dot{r}^2+r^2\\dot{\\theta}^2,\n",
    "\\label{_auto2} \\tag{3}\n",
    "\\end{equation}\n",
    "$$"
   ]
  },
  {
   "cell_type": "markdown",
   "id": "9ce20d5f",
   "metadata": {
    "editable": true
   },
   "source": [
    "one can write $\\ddot{r}$ as"
   ]
  },
  {
   "cell_type": "markdown",
   "id": "65ae2df5",
   "metadata": {
    "editable": true
   },
   "source": [
    "<!-- Equation labels as ordinary links -->\n",
    "<div id=\"eq:radialeqofmotion2\"></div>\n",
    "\n",
    "$$\n",
    "\\begin{eqnarray}\n",
    "\\label{eq:radialeqofmotion2} \\tag{4}\n",
    "\\ddot{r}&=&\\frac{F_x\\cos\\theta+F_y\\sin\\theta}{m}+\\frac{\\dot{r}^2+r^2\\dot{\\theta}^2}{r}-\\frac{\\dot{r}^2}{r}\\\\\n",
    "\\nonumber\n",
    "&=&\\frac{F}{m}+\\frac{r^2\\dot{\\theta}^2}{r}\\\\\n",
    "\\nonumber\n",
    "m\\ddot{r}&=&F+\\frac{L^2}{mr^3}.\n",
    "\\end{eqnarray}\n",
    "$$"
   ]
  },
  {
   "cell_type": "markdown",
   "id": "c3ec56db",
   "metadata": {
    "editable": true
   },
   "source": [
    "## Force depends on $r$ only\n",
    "\n",
    "This derivation used the fact that the force was radial,\n",
    "$F=F_r=F_x\\cos\\theta+F_y\\sin\\theta$, and that angular momentum is\n",
    "$L=mrv_{\\theta}=mr^2\\dot{\\theta}$. The term $L^2/mr^3=mv^2/r$ behaves\n",
    "like an additional force. Sometimes this is referred to as a\n",
    "centrifugal force, but it is not a force. Instead, it is the\n",
    "consequence of considering the motion in a rotating (and therefore\n",
    "accelerating) frame.\n",
    "\n",
    "Now, we switch to the particular case of an attractive inverse square\n",
    "force, $F=-\\alpha/r^2$, and show that the trajectory, $r(\\theta)$, is\n",
    "an ellipse. To do this we transform derivatives w.r.t. time to\n",
    "derivatives w.r.t. $\\theta$ using the chain rule combined with angular\n",
    "momentum conservation, $\\dot{\\theta}=L/mr^2$."
   ]
  },
  {
   "cell_type": "markdown",
   "id": "a9bb7e81",
   "metadata": {
    "editable": true
   },
   "source": [
    "<!-- Equation labels as ordinary links -->\n",
    "<div id=\"eq:rtotheta\"></div>\n",
    "\n",
    "$$\n",
    "\\begin{eqnarray}\n",
    "\\label{eq:rtotheta} \\tag{5}\n",
    "\\dot{r}&=&\\frac{dr}{d\\theta}\\dot{\\theta}=\\frac{dr}{d\\theta}\\frac{L}{mr^2},\\\\\n",
    "\\nonumber\n",
    "\\ddot{r}&=&\\frac{d^2r}{d\\theta^2}\\dot{\\theta}^2\n",
    "+\\frac{dr}{d\\theta}\\left(\\frac{d}{dr}\\frac{L}{mr^2}\\right)\\dot{r}\\\\\n",
    "\\nonumber\n",
    "&=&\\frac{d^2r}{d\\theta^2}\\left(\\frac{L}{mr^2}\\right)^2\n",
    "-2\\frac{dr}{d\\theta}\\frac{L}{mr^3}\\dot{r}\\\\\n",
    "\\nonumber\n",
    "&=&\\frac{d^2r}{d\\theta^2}\\left(\\frac{L}{mr^2}\\right)^2\n",
    "-\\frac{2}{r}\\left(\\frac{dr}{d\\theta}\\right)^2\\left(\\frac{L}{mr^2}\\right)^2\n",
    "\\end{eqnarray}\n",
    "$$"
   ]
  },
  {
   "cell_type": "markdown",
   "id": "29ed3d6a",
   "metadata": {
    "editable": true
   },
   "source": [
    "## Further manipulations\n",
    "\n",
    "Equating the two expressions for $\\ddot{r}$ in Eq.s ([4](#eq:radialeqofmotion2)) and ([5](#eq:rtotheta)) eliminates all the derivatives w.r.t. time, and provides a differential equation with only derivatives w.r.t. $\\theta$,"
   ]
  },
  {
   "cell_type": "markdown",
   "id": "d5c7bd55",
   "metadata": {
    "editable": true
   },
   "source": [
    "<!-- Equation labels as ordinary links -->\n",
    "<div id=\"eq:rdotdot\"></div>\n",
    "\n",
    "$$\n",
    "\\begin{equation}\n",
    "\\label{eq:rdotdot} \\tag{6}\n",
    "\\frac{d^2r}{d\\theta^2}\\left(\\frac{L}{mr^2}\\right)^2\n",
    "-\\frac{2}{r}\\left(\\frac{dr}{d\\theta}\\right)^2\\left(\\frac{L}{mr^2}\\right)^2\n",
    "=\\frac{F}{m}+\\frac{L^2}{m^2r^3},\n",
    "\\end{equation}\n",
    "$$"
   ]
  },
  {
   "cell_type": "markdown",
   "id": "3c1ef613",
   "metadata": {
    "editable": true
   },
   "source": [
    "that when solved yields the trajectory, i.e. $r(\\theta)$. Up to this\n",
    "point the expressions work for any radial force, not just forces that\n",
    "fall as $1/r^2$."
   ]
  },
  {
   "cell_type": "markdown",
   "id": "bcbd9d34",
   "metadata": {
    "editable": true
   },
   "source": [
    "## Final manipulations, part 1\n",
    "\n",
    "The trick to simplifying this differential equation for the inverse\n",
    "square problems is to make a substitution, $u\\equiv 1/r$, and rewrite\n",
    "the differential equation for $u(\\theta)$."
   ]
  },
  {
   "cell_type": "markdown",
   "id": "596c0d81",
   "metadata": {
    "editable": true
   },
   "source": [
    "$$\n",
    "\\begin{eqnarray}\n",
    "r&=&1/u,\\\\\n",
    "\\nonumber\n",
    "\\frac{dr}{d\\theta}&=&-\\frac{1}{u^2}\\frac{du}{d\\theta},\\\\\n",
    "\\nonumber\n",
    "\\frac{d^2r}{d\\theta^2}&=&\\frac{2}{u^3}\\left(\\frac{du}{d\\theta}\\right)^2-\\frac{1}{u^2}\\frac{d^2u}{d\\theta^2}.\n",
    "\\end{eqnarray}\n",
    "$$"
   ]
  },
  {
   "cell_type": "markdown",
   "id": "ff54d420",
   "metadata": {
    "editable": true
   },
   "source": [
    "Plugging these expressions into Eq. ([6](#eq:rdotdot)) gives an\n",
    "expression in terms of $u$, $du/d\\theta$, and $d^2u/d\\theta^2$. After\n",
    "some tedious algebra,"
   ]
  },
  {
   "cell_type": "markdown",
   "id": "1df52550",
   "metadata": {
    "editable": true
   },
   "source": [
    "<!-- Equation labels as ordinary links -->\n",
    "<div id=\"_auto3\"></div>\n",
    "\n",
    "$$\n",
    "\\begin{equation}\n",
    "\\frac{d^2u}{d\\theta^2}=-u-\\frac{F m}{L^2u^2}.\n",
    "\\label{_auto3} \\tag{7}\n",
    "\\end{equation}\n",
    "$$"
   ]
  },
  {
   "cell_type": "markdown",
   "id": "b624881d",
   "metadata": {
    "editable": true
   },
   "source": [
    "## Final manipulations, part 2\n",
    "\n",
    "For the attractive inverse square law force, $F=-\\alpha u^2$,"
   ]
  },
  {
   "cell_type": "markdown",
   "id": "fb61af93",
   "metadata": {
    "editable": true
   },
   "source": [
    "<!-- Equation labels as ordinary links -->\n",
    "<div id=\"_auto4\"></div>\n",
    "\n",
    "$$\n",
    "\\begin{equation}\n",
    "\\frac{d^2u}{d\\theta^2}=-u+\\frac{m\\alpha}{L^2}.\n",
    "\\label{_auto4} \\tag{8}\n",
    "\\end{equation}\n",
    "$$"
   ]
  },
  {
   "cell_type": "markdown",
   "id": "95bc486b",
   "metadata": {
    "editable": true
   },
   "source": [
    "The solution has two arbitrary constants, $A$ and $\\theta_0$,"
   ]
  },
  {
   "cell_type": "markdown",
   "id": "929f8a51",
   "metadata": {
    "editable": true
   },
   "source": [
    "<!-- Equation labels as ordinary links -->\n",
    "<div id=\"eq:Ctrajectory\"></div>\n",
    "\n",
    "$$\n",
    "\\begin{eqnarray}\n",
    "\\label{eq:Ctrajectory} \\tag{9}\n",
    "u&=&\\frac{m\\alpha}{L^2}+A\\cos(\\theta-\\theta_0),\\\\\n",
    "\\nonumber\n",
    "r&=&\\frac{1}{(m\\alpha/L^2)+A\\cos(\\theta-\\theta_0)}.\n",
    "\\end{eqnarray}\n",
    "$$"
   ]
  },
  {
   "cell_type": "markdown",
   "id": "245d546f",
   "metadata": {
    "editable": true
   },
   "source": [
    "The radius will be at a minimum when $\\theta=\\theta_0$ and at a\n",
    "maximum when $\\theta=\\theta_0+\\pi$. The constant $A$ is related to the\n",
    "eccentricity of the orbit. When $A=0$ the radius is a constant\n",
    "$r=L^2/(m\\alpha)$, and the motion is circular. If one solved the\n",
    "expression $mv^2/r=-\\alpha/r^2$ for a circular orbit, using the\n",
    "substitution $v=L/(mr)$, one would reproduce the expression\n",
    "$r=L^2/(m\\alpha)$."
   ]
  },
  {
   "cell_type": "markdown",
   "id": "520f0ff5",
   "metadata": {
    "editable": true
   },
   "source": [
    "## Final manipulations, part 3\n",
    "\n",
    "The form describing the elliptical trajectory in\n",
    "Eq. ([9](#eq:Ctrajectory)) can be identified as an ellipse with one\n",
    "focus being the center of the ellipse by considering the definition of\n",
    "an ellipse as being the points such that the sum of the two distances\n",
    "between the two foci are a constant. Making that distance $2D$, the\n",
    "distance between the two foci as $2a$, and putting one focus at the\n",
    "origin,"
   ]
  },
  {
   "cell_type": "markdown",
   "id": "24cea24c",
   "metadata": {
    "editable": true
   },
   "source": [
    "$$\n",
    "\\begin{eqnarray}\n",
    "2D&=&r+\\sqrt{(r\\cos\\theta-2a)^2+r^2\\sin^2\\theta},\\\\\n",
    "\\nonumber\n",
    "4D^2+r^2-4Dr&=&r^2+4a^2-4ar\\cos\\theta,\\\\\n",
    "\\nonumber\n",
    "r&=&\\frac{D^2-a^2}{D+a\\cos\\theta}=\\frac{1}{D/(D^2-a^2)-a\\cos\\theta/(D^2-a^2)}.\n",
    "\\end{eqnarray}\n",
    "$$"
   ]
  },
  {
   "cell_type": "markdown",
   "id": "744bd0ef",
   "metadata": {
    "editable": true
   },
   "source": [
    "By inspection, this is the same form as Eq. ([9](#eq:Ctrajectory)) with $D/(D^2-a^2)=m\\alpha/L^2$ and $a/(D^2-a^2)=A$."
   ]
  },
  {
   "cell_type": "markdown",
   "id": "179d8c1e",
   "metadata": {
    "editable": true
   },
   "source": [
    "## Ellipse reminder\n",
    "\n",
    "Let us remind ourselves about what an ellipse is before we proceed."
   ]
  },
  {
   "cell_type": "code",
   "execution_count": 1,
   "id": "5468cb6a",
   "metadata": {
    "collapsed": false,
    "editable": true
   },
   "outputs": [],
   "source": [
    "%matplotlib inline\n",
    "\n",
    "import numpy as np\n",
    "from matplotlib import pyplot as plt\n",
    "from math import pi\n",
    "\n",
    "u=1.     #x-position of the center\n",
    "v=0.5    #y-position of the center\n",
    "a=2.     #radius on the x-axis\n",
    "b=1.5    #radius on the y-axis\n",
    "\n",
    "t = np.linspace(0, 2*pi, 100)\n",
    "plt.plot( u+a*np.cos(t) , v+b*np.sin(t) )\n",
    "plt.grid(color='lightgray',linestyle='--')\n",
    "plt.show()"
   ]
  },
  {
   "cell_type": "markdown",
   "id": "cf1fb45c",
   "metadata": {
    "editable": true
   },
   "source": [
    "## Effective or Centrifugal Potential\n",
    "\n",
    "The total energy of a particle is"
   ]
  },
  {
   "cell_type": "markdown",
   "id": "f64f1580",
   "metadata": {
    "editable": true
   },
   "source": [
    "$$\n",
    "\\begin{eqnarray}\n",
    "E&=&V(r)+\\frac{1}{2}mv_\\theta^2+\\frac{1}{2}m\\dot{r}^2\\\\\n",
    "\\nonumber\n",
    "&=&V(r)+\\frac{1}{2}mr^2\\dot{\\theta}^2+\\frac{1}{2}m\\dot{r}^2\\\\\n",
    "\\nonumber\n",
    "&=&V(r)+\\frac{L^2}{2mr^2}+\\frac{1}{2}m\\dot{r}^2.\n",
    "\\end{eqnarray}\n",
    "$$"
   ]
  },
  {
   "cell_type": "markdown",
   "id": "f0911160",
   "metadata": {
    "editable": true
   },
   "source": [
    "The second term then contributes to the energy like an additional\n",
    "repulsive potential. The term is sometimes referred to as the\n",
    "\"centrifugal\" potential, even though it is actually the kinetic energy\n",
    "of the angular motion. Combined with $V(r)$, it is sometimes referred\n",
    "to as the \"effective\" potential,"
   ]
  },
  {
   "cell_type": "markdown",
   "id": "757f6e35",
   "metadata": {
    "editable": true
   },
   "source": [
    "$$\n",
    "\\begin{eqnarray}\n",
    "V_{\\rm eff}(r)&=&V(r)+\\frac{L^2}{2mr^2}.\n",
    "\\end{eqnarray}\n",
    "$$"
   ]
  },
  {
   "cell_type": "markdown",
   "id": "d0c527bb",
   "metadata": {
    "editable": true
   },
   "source": [
    "Note that if one treats the effective potential like a real potential, one would expect to be able to generate an effective force,"
   ]
  },
  {
   "cell_type": "markdown",
   "id": "3b28d017",
   "metadata": {
    "editable": true
   },
   "source": [
    "$$\n",
    "\\begin{eqnarray}\n",
    "F_{\\rm eff}&=&-\\frac{d}{dr}V(r) -\\frac{d}{dr}\\frac{L^2}{2mr^2}\\\\\n",
    "\\nonumber\n",
    "&=&F(r)+\\frac{L^2}{mr^3}=F(r)+m\\frac{v_\\perp^2}{r},\n",
    "\\end{eqnarray}\n",
    "$$"
   ]
  },
  {
   "cell_type": "markdown",
   "id": "a8be580b",
   "metadata": {
    "editable": true
   },
   "source": [
    "which is indeed matches the form for $m\\ddot{r}$ in Eq. ([4](#eq:radialeqofmotion2)), which included the **centrifugal** force."
   ]
  },
  {
   "cell_type": "markdown",
   "id": "6f49ac25",
   "metadata": {
    "editable": true
   },
   "source": [
    "## Code example\n",
    "\n",
    "The following code plots this effective potential for a simple choice of parameters, with a standard gravitational potential $-\\alpha/r$. Here we have chosen $L=m=\\alpha=1$."
   ]
  },
  {
   "cell_type": "code",
   "execution_count": 2,
   "id": "f5e5790d",
   "metadata": {
    "collapsed": false,
    "editable": true
   },
   "outputs": [],
   "source": [
    "# Common imports\n",
    "import numpy as np\n",
    "from math import *\n",
    "import matplotlib.pyplot as plt\n",
    "\n",
    "Deltax = 0.01\n",
    "#set up arrays\n",
    "xinitial = 0.3\n",
    "xfinal = 5.0\n",
    "alpha = 1.0   # spring constant\n",
    "m = 1.0   # mass, you can change these\n",
    "AngMom = 1.0  #  The angular momentum\n",
    "n = ceil((xfinal-xinitial)/Deltax)\n",
    "x = np.zeros(n)\n",
    "for i in range(n):\n",
    "    x[i] = xinitial+i*Deltax\n",
    "V = np.zeros(n)\n",
    "V = -alpha/x+0.5*AngMom*AngMom/(m*x*x)\n",
    "# Plot potential\n",
    "fig, ax = plt.subplots()\n",
    "ax.set_xlabel('r[m]')\n",
    "ax.set_ylabel('V[J]')\n",
    "ax.plot(x, V)\n",
    "fig.tight_layout()\n",
    "plt.show()"
   ]
  },
  {
   "cell_type": "markdown",
   "id": "8b56904f",
   "metadata": {
    "editable": true
   },
   "source": [
    "## Gravitational force example\n",
    "\n",
    "Using the above parameters, we can now study the evolution of the system using for example the velocity Verlet method.\n",
    "This is done in the code here for an initial radius equal to the minimum of the potential well.  We seen then that the radius is always the same and corresponds to a circle (the radius is always constant)."
   ]
  },
  {
   "cell_type": "code",
   "execution_count": 3,
   "id": "4a50d9f9",
   "metadata": {
    "collapsed": false,
    "editable": true
   },
   "outputs": [],
   "source": [
    "# Common imports\n",
    "import numpy as np\n",
    "import pandas as pd\n",
    "from math import *\n",
    "import matplotlib.pyplot as plt\n",
    "import os\n",
    "\n",
    "# Where to save the figures and data files\n",
    "PROJECT_ROOT_DIR = \"Results\"\n",
    "FIGURE_ID = \"Results/FigureFiles\"\n",
    "DATA_ID = \"DataFiles/\"\n",
    "\n",
    "if not os.path.exists(PROJECT_ROOT_DIR):\n",
    "    os.mkdir(PROJECT_ROOT_DIR)\n",
    "\n",
    "if not os.path.exists(FIGURE_ID):\n",
    "    os.makedirs(FIGURE_ID)\n",
    "\n",
    "if not os.path.exists(DATA_ID):\n",
    "    os.makedirs(DATA_ID)\n",
    "\n",
    "def image_path(fig_id):\n",
    "    return os.path.join(FIGURE_ID, fig_id)\n",
    "\n",
    "def data_path(dat_id):\n",
    "    return os.path.join(DATA_ID, dat_id)\n",
    "\n",
    "def save_fig(fig_id):\n",
    "    plt.savefig(image_path(fig_id) + \".png\", format='png')\n",
    "\n",
    "\n",
    "# Simple Gravitational Force   -alpha/r\n",
    "    \n",
    "DeltaT = 0.01\n",
    "#set up arrays \n",
    "tfinal = 100.0\n",
    "n = ceil(tfinal/DeltaT)\n",
    "# set up arrays for t, v and r\n",
    "t = np.zeros(n)\n",
    "v = np.zeros(n)\n",
    "r = np.zeros(n)\n",
    "# Constants of the model, setting all variables to one for simplicity\n",
    "alpha = 1.0\n",
    "AngMom = 1.0  #  The angular momentum\n",
    "m = 1.0  # scale mass to one\n",
    "c1 = AngMom*AngMom/(m*m)\n",
    "c2 = AngMom*AngMom/m\n",
    "rmin = (AngMom*AngMom/m/alpha)\n",
    "# Initial conditions\n",
    "r0 = rmin\n",
    "v0 = 0.0\n",
    "r[0] = r0\n",
    "v[0] = v0\n",
    "# Start integrating using the Velocity-Verlet  method\n",
    "for i in range(n-1):\n",
    "    # Set up acceleration\n",
    "    a = -alpha/(r[i]**2)+c1/(r[i]**3)\n",
    "    # update velocity, time and position using the Velocity-Verlet method\n",
    "    r[i+1] = r[i] + DeltaT*v[i]+0.5*(DeltaT**2)*a\n",
    "    anew = -alpha/(r[i+1]**2)+c1/(r[i+1]**3)\n",
    "    v[i+1] = v[i] + 0.5*DeltaT*(a+anew)\n",
    "    t[i+1] = t[i] + DeltaT\n",
    "    # Plot position as function of time\n",
    "fig, ax = plt.subplots(2,1)\n",
    "ax[0].set_xlabel('time')\n",
    "ax[0].set_ylabel('radius')\n",
    "ax[0].plot(t,r)\n",
    "ax[1].set_xlabel('time')\n",
    "ax[1].set_ylabel('Velocity')\n",
    "ax[1].plot(t,v)\n",
    "save_fig(\"RadialGVV\")\n",
    "plt.show()"
   ]
  },
  {
   "cell_type": "markdown",
   "id": "dd02c7bf",
   "metadata": {
    "editable": true
   },
   "source": [
    "Changing the value of the initial position to a value where the energy is positive, leads to an increasing radius with time, a so-called unbound orbit. Choosing on the other hand an initial radius that corresponds to a negative energy and different from the minimum value leads to a radius that oscillates back and forth between two values."
   ]
  },
  {
   "cell_type": "markdown",
   "id": "c52ecb43",
   "metadata": {
    "editable": true
   },
   "source": [
    "## Harmonic Oscillator in two dimensions\n",
    "\n",
    "Consider a particle of mass $m$ in a 2-dimensional harmonic oscillator with potential"
   ]
  },
  {
   "cell_type": "markdown",
   "id": "5d925a03",
   "metadata": {
    "editable": true
   },
   "source": [
    "$$\n",
    "V=\\frac{1}{2}kr^2=\\frac{1}{2}k(x^2+y^2).\n",
    "$$"
   ]
  },
  {
   "cell_type": "markdown",
   "id": "ae9f9cad",
   "metadata": {
    "editable": true
   },
   "source": [
    "If the orbit has angular momentum $L$, we can find the radius and angular velocity of the circular orbit as well as the b) the angular frequency of small radial perturbations.\n",
    "\n",
    "We consider the effective potential. The radius of a circular orbit is at the minimum of the potential (where the effective force is zero).\n",
    "The potential is plotted here with the parameters $k=m=0.1$ and $L=1.0$."
   ]
  },
  {
   "cell_type": "code",
   "execution_count": 4,
   "id": "c7cef1bb",
   "metadata": {
    "collapsed": false,
    "editable": true
   },
   "outputs": [],
   "source": [
    "# Common imports\n",
    "import numpy as np\n",
    "from math import *\n",
    "import matplotlib.pyplot as plt\n",
    "\n",
    "Deltax = 0.01\n",
    "#set up arrays\n",
    "xinitial = 0.5\n",
    "xfinal = 3.0\n",
    "k = 1.0   # spring constant\n",
    "m = 1.0   # mass, you can change these\n",
    "AngMom = 1.0  #  The angular momentum\n",
    "n = ceil((xfinal-xinitial)/Deltax)\n",
    "x = np.zeros(n)\n",
    "for i in range(n):\n",
    "    x[i] = xinitial+i*Deltax\n",
    "V = np.zeros(n)\n",
    "V = 0.5*k*x*x+0.5*AngMom*AngMom/(m*x*x)\n",
    "# Plot potential\n",
    "fig, ax = plt.subplots()\n",
    "ax.set_xlabel('r[m]')\n",
    "ax.set_ylabel('V[J]')\n",
    "ax.plot(x, V)\n",
    "fig.tight_layout()\n",
    "plt.show()"
   ]
  },
  {
   "cell_type": "markdown",
   "id": "22b9ba69",
   "metadata": {
    "editable": true
   },
   "source": [
    "$$\n",
    "\\begin{eqnarray*}\n",
    "V_{\\rm eff}&=&\\frac{1}{2}kr^2+\\frac{L^2}{2mr^2}\n",
    "\\end{eqnarray*}\n",
    "$$"
   ]
  },
  {
   "cell_type": "markdown",
   "id": "c650fb9b",
   "metadata": {
    "editable": true
   },
   "source": [
    "## Harmonic oscillator in two dimensions and effective potential\n",
    "The effective potential looks like that of a harmonic oscillator for\n",
    "large $r$, but for small $r$, the centrifugal potential repels the\n",
    "particle from the origin. The combination of the two potentials has a\n",
    "minimum for at some radius $r_{\\rm min}$."
   ]
  },
  {
   "cell_type": "markdown",
   "id": "be1f7d11",
   "metadata": {
    "editable": true
   },
   "source": [
    "$$\n",
    "\\begin{eqnarray*}\n",
    "0&=&kr_{\\rm min}-\\frac{L^2}{mr_{\\rm min}^3},\\\\\n",
    "r_{\\rm min}&=&\\left(\\frac{L^2}{mk}\\right)^{1/4},\\\\\n",
    "\\dot{\\theta}&=&\\frac{L}{mr_{\\rm min}^2}=\\sqrt{k/m}.\n",
    "\\end{eqnarray*}\n",
    "$$"
   ]
  },
  {
   "cell_type": "markdown",
   "id": "8e0b074e",
   "metadata": {
    "editable": true
   },
   "source": [
    "For particles at $r_{\\rm min}$ with $\\dot{r}=0$, the particle does not\n",
    "accelerate and $r$ stays constant, i.e. a circular orbit. The radius\n",
    "of the circular orbit can be adjusted by changing the angular momentum\n",
    "$L$.\n",
    "\n",
    "For the above parameters this minimum is at $r_{\\rm min}=1$.\n",
    "\n",
    " Now consider small vibrations about $r_{\\rm min}$. The effective spring constant is the curvature of the effective potential."
   ]
  },
  {
   "cell_type": "markdown",
   "id": "1bb16cf8",
   "metadata": {
    "editable": true
   },
   "source": [
    "$$\n",
    "\\begin{eqnarray*}\n",
    "k_{\\rm eff}&=&\\left.\\frac{d^2}{dr^2}V_{\\rm eff}(r)\\right|_{r=r_{\\rm min}}=k+\\frac{3L^2}{mr_{\\rm min}^4}\\\\\n",
    "&=&4k,\\\\\n",
    "\\omega&=&\\sqrt{k_{\\rm eff}/m}=2\\sqrt{k/m}=2\\dot{\\theta}.\n",
    "\\end{eqnarray*}\n",
    "$$"
   ]
  },
  {
   "cell_type": "markdown",
   "id": "f99aed3c",
   "metadata": {
    "editable": true
   },
   "source": [
    "Because the radius oscillates with twice the angular frequency,\n",
    "the orbit has two places where $r$ reaches a minimum in one\n",
    "cycle. This differs from the inverse-square force where there is one\n",
    "minimum in an orbit. One can show that the orbit for the harmonic\n",
    "oscillator is also elliptical, but in this case the center of the\n",
    "potential is at the center of the ellipse, not at one of the foci.\n",
    "\n",
    "The solution is also simple to write down exactly in Cartesian coordinates. The $x$ and $y$ equations of motion separate,"
   ]
  },
  {
   "cell_type": "markdown",
   "id": "2a13ad15",
   "metadata": {
    "editable": true
   },
   "source": [
    "$$\n",
    "\\begin{eqnarray*}\n",
    "\\ddot{x}&=&-kx,\\\\\n",
    "\\ddot{y}&=&-ky.\n",
    "\\end{eqnarray*}\n",
    "$$"
   ]
  },
  {
   "cell_type": "markdown",
   "id": "ab226d53",
   "metadata": {
    "editable": true
   },
   "source": [
    "The general solution can be expressed as"
   ]
  },
  {
   "cell_type": "markdown",
   "id": "0227f937",
   "metadata": {
    "editable": true
   },
   "source": [
    "$$\n",
    "\\begin{eqnarray*}\n",
    "x&=&A\\cos\\omega_0 t+B\\sin\\omega_0 t,\\\\\n",
    "y&=&C\\cos\\omega_0 t+D\\sin\\omega_0 t.\n",
    "\\end{eqnarray*}\n",
    "$$"
   ]
  },
  {
   "cell_type": "markdown",
   "id": "af06f631",
   "metadata": {
    "editable": true
   },
   "source": [
    "The code here finds the solution for $x$ and $y$ using the code we\n",
    "developed in homework 5 and 6 and the midterm.  Note that this code is\n",
    "tailored to run in Cartesian coordinates. There is thus no angular\n",
    "momentum dependent term.\n",
    "\n",
    "Here we have chose initial conditions that\n",
    "correspond to the minimum of the effective potential\n",
    "$r_{\\mathrm{min}}$. We have chosen $x_0=r_{\\mathrm{min}}$ and\n",
    "$y_0=0$. Similarly, we use the centripetal acceleration to determine\n",
    "the initial velocity so that we have a circular motion (see back to the\n",
    "last question of the midterm). This means that we set the centripetal\n",
    "acceleration $v^2/r$ equal to the force from the harmonic oscillator $-k\\boldsymbol{r}$. Taking the\n",
    "magnitude of $\\boldsymbol{r}$ we have then\n",
    "$v^2/r=k/mr$, which gives $v=\\pm\\omega_0r$. \n",
    "\n",
    "Since the code here solves the equations of motion in cartesian\n",
    "coordinates and the harmonic oscillator potential leads to forces in\n",
    "the $x$- and $y$-directions that are decoupled, we have to select the initial velocities and positions so that we don't get that for example $y(t)=0$.\n",
    "\n",
    "We set $x_0$ to be different from zero and $v_{y0}$ to be different from zero."
   ]
  },
  {
   "cell_type": "code",
   "execution_count": 5,
   "id": "1f7b2501",
   "metadata": {
    "collapsed": false,
    "editable": true
   },
   "outputs": [],
   "source": [
    "\n",
    "DeltaT = 0.001\n",
    "#set up arrays \n",
    "tfinal = 10.0\n",
    "n = ceil(tfinal/DeltaT)\n",
    "# set up arrays\n",
    "t = np.zeros(n)\n",
    "v = np.zeros((n,2))\n",
    "r = np.zeros((n,2))\n",
    "radius = np.zeros(n)\n",
    "# Constants of the model\n",
    "k = 1.0   # spring constant\n",
    "m = 1.0   # mass, you can change these\n",
    "omega02 = k/m  # Frequency\n",
    "AngMom = 1.0  #  The angular momentum\n",
    "# Potential minimum\n",
    "rmin = (AngMom*AngMom/k/m)**0.25\n",
    "# Initial conditions as compact 2-dimensional arrays, x0=rmin and y0 = 0\n",
    "x0 = rmin; y0= 0.0\n",
    "r0 = np.array([x0,y0])\n",
    "vy0 = sqrt(omega02)*rmin; vx0 = 0.0\n",
    "v0 = np.array([vx0,vy0])\n",
    "r[0] = r0\n",
    "v[0] = v0\n",
    "# Start integrating using the Velocity-Verlet  method\n",
    "for i in range(n-1):\n",
    "    # Set up the acceleration\n",
    "    a =  -r[i]*omega02  \n",
    "    # update velocity, time and position using the Velocity-Verlet method\n",
    "    r[i+1] = r[i] + DeltaT*v[i]+0.5*(DeltaT**2)*a\n",
    "    anew = -r[i+1]*omega02  \n",
    "    v[i+1] = v[i] + 0.5*DeltaT*(a+anew)\n",
    "    t[i+1] = t[i] + DeltaT\n",
    "# Plot position as function of time\n",
    "radius = np.sqrt(r[:,0]**2+r[:,1]**2)\n",
    "fig, ax = plt.subplots(3,1)\n",
    "ax[0].set_xlabel('time')\n",
    "ax[0].set_ylabel('radius squared')\n",
    "ax[0].plot(t,r[:,0]**2+r[:,1]**2)\n",
    "ax[1].set_xlabel('time')\n",
    "ax[1].set_ylabel('x position')\n",
    "ax[1].plot(t,r[:,0])\n",
    "ax[2].set_xlabel('time')\n",
    "ax[2].set_ylabel('y position')\n",
    "ax[2].plot(t,r[:,1])\n",
    "\n",
    "fig.tight_layout()\n",
    "save_fig(\"2DimHOVV\")\n",
    "plt.show()"
   ]
  },
  {
   "cell_type": "markdown",
   "id": "15bcb58e",
   "metadata": {
    "editable": true
   },
   "source": [
    "We see that the radius (to within a given error), we obtain a constant radius.\n",
    "\n",
    "The following code shows first how we can solve this problem using the radial degrees of freedom only.\n",
    "Here we need to add the explicit centrifugal barrier.  Note that the variable $r$ depends only on time. There is no $x$ and $y$ directions\n",
    "since we have transformed the equations to polar coordinates."
   ]
  },
  {
   "cell_type": "code",
   "execution_count": 6,
   "id": "709e1c86",
   "metadata": {
    "collapsed": false,
    "editable": true
   },
   "outputs": [],
   "source": [
    "DeltaT = 0.01\n",
    "#set up arrays \n",
    "tfinal = 10.0\n",
    "n = ceil(tfinal/DeltaT)\n",
    "# set up arrays for t, v and r\n",
    "t = np.zeros(n)\n",
    "v = np.zeros(n)\n",
    "r = np.zeros(n)\n",
    "E = np.zeros(n)\n",
    "# Constants of the model\n",
    "AngMom = 1.0  #  The angular momentum\n",
    "m = 1.0\n",
    "k = 1.0\n",
    "omega02 = k/m\n",
    "c1 = AngMom*AngMom/(m*m)\n",
    "c2 = AngMom*AngMom/m\n",
    "rmin = (AngMom*AngMom/k/m)**0.25\n",
    "# Initial conditions\n",
    "r0 = rmin\n",
    "v0 = 0.0\n",
    "r[0] = r0\n",
    "v[0] = v0\n",
    "E[0] = 0.5*m*v0*v0+0.5*k*r0*r0+0.5*c2/(r0*r0)\n",
    "# Start integrating using the Velocity-Verlet  method\n",
    "for i in range(n-1):\n",
    "    # Set up acceleration\n",
    "    a = -r[i]*omega02+c1/(r[i]**3)    \n",
    "    # update velocity, time and position using the Velocity-Verlet method\n",
    "    r[i+1] = r[i] + DeltaT*v[i]+0.5*(DeltaT**2)*a\n",
    "    anew = -r[i+1]*omega02+c1/(r[i+1]**3)\n",
    "    v[i+1] = v[i] + 0.5*DeltaT*(a+anew)\n",
    "    t[i+1] = t[i] + DeltaT\n",
    "    E[i+1] = 0.5*m*v[i+1]*v[i+1]+0.5*k*r[i+1]*r[i+1]+0.5*c2/(r[i+1]*r[i+1])\n",
    "    # Plot position as function of time\n",
    "fig, ax = plt.subplots(2,1)\n",
    "ax[0].set_xlabel('time')\n",
    "ax[0].set_ylabel('radius')\n",
    "ax[0].plot(t,r)\n",
    "ax[1].set_xlabel('time')\n",
    "ax[1].set_ylabel('Energy')\n",
    "ax[1].plot(t,E)\n",
    "save_fig(\"RadialHOVV\")\n",
    "plt.show()"
   ]
  },
  {
   "cell_type": "markdown",
   "id": "22df2b35",
   "metadata": {
    "editable": true
   },
   "source": [
    "With some work using double angle formulas, one can calculate"
   ]
  },
  {
   "cell_type": "markdown",
   "id": "87c3a708",
   "metadata": {
    "editable": true
   },
   "source": [
    "$$\n",
    "\\begin{eqnarray*}\n",
    "r^2&=&x^2+y^2\\\\\n",
    "\\nonumber\n",
    "&=&(A^2+C^2)\\cos^2(\\omega_0t)+(B^2+D^2)\\sin^2\\omega_0t+(AB+CD)\\cos(\\omega_0t)\\sin(\\omega_0t)\\\\\n",
    "\\nonumber\n",
    "&=&\\alpha+\\beta\\cos 2\\omega_0 t+\\gamma\\sin 2\\omega_0 t,\\\\\n",
    "\\alpha&=&\\frac{A^2+B^2+C^2+D^2}{2},~~\\beta=\\frac{A^2-B^2+C^2-D^2}{2},~~\\gamma=AB+CD,\\\\\n",
    "r^2&=&\\alpha+(\\beta^2+\\gamma^2)^{1/2}\\cos(2\\omega_0 t-\\delta),~~~\\delta=\\arctan(\\gamma/\\beta),\n",
    "\\end{eqnarray*}\n",
    "$$"
   ]
  },
  {
   "cell_type": "markdown",
   "id": "e33610d4",
   "metadata": {
    "editable": true
   },
   "source": [
    "and see that radius oscillates with frequency $2\\omega_0$. The\n",
    "factor of two comes because the oscillation $x=A\\cos\\omega_0t$ has two\n",
    "maxima for $x^2$, one at $t=0$ and one a half period later."
   ]
  },
  {
   "cell_type": "markdown",
   "id": "070414a9",
   "metadata": {
    "editable": true
   },
   "source": [
    "## Stability of Orbits\n",
    "\n",
    "The effective force can be extracted from the effective potential, $V_{\\rm eff}$. Beginning from the equations of motion, Eq. ([2](#eq:radialeqofmotion)), for $r$,"
   ]
  },
  {
   "cell_type": "markdown",
   "id": "a4849d88",
   "metadata": {
    "editable": true
   },
   "source": [
    "$$\n",
    "\\begin{eqnarray}\n",
    "m\\ddot{r}&=&F+\\frac{L^2}{mr^3}\\\\\n",
    "\\nonumber\n",
    "&=&F_{\\rm eff}\\\\\n",
    "\\nonumber\n",
    "&=&-\\partial_rV_{\\rm eff},\\\\\n",
    "\\nonumber\n",
    "F_{\\rm eff}&=&-\\partial_r\\left[V(r)+(L^2/2mr^2)\\right].\n",
    "\\end{eqnarray}\n",
    "$$"
   ]
  },
  {
   "cell_type": "markdown",
   "id": "2f3a629a",
   "metadata": {
    "editable": true
   },
   "source": [
    "For a circular orbit, the radius must be fixed as a function of time,\n",
    "so one must be at a maximum or a minimum of the effective\n",
    "potential. However, if one is at a maximum of the effective potential\n",
    "the radius will be unstable. For the attractive Coulomb force the\n",
    "effective potential will be dominated by the $-\\alpha/r$ term for\n",
    "large $r$ because the centrifugal part falls off more quickly, $\\sim\n",
    "1/r^2$. At low $r$ the centrifugal piece wins and the effective\n",
    "potential is repulsive. Thus, the potential must have a minimum\n",
    "somewhere with negative potential. The circular orbits are then stable\n",
    "to perturbation.\n",
    "\n",
    "The effective potential is sketched for two cases, a $1/r$ attractive\n",
    "potential and a $1/r^3$ attractive potential. The $1/r$ case has a\n",
    "stable minimum, whereas the circular orbit in the $1/r^3$ case is\n",
    "unstable.\n",
    "\n",
    "If one considers a potential that falls as $1/r^3$, the situation is\n",
    "reversed and the point where $\\partial_rV$ disappears will be a local\n",
    "maximum rather than a local minimum. **Fig to come here with code**\n",
    "\n",
    "The repulsive centrifugal piece dominates at large $r$ and the attractive\n",
    "Coulomb piece wins out at small $r$. The circular orbit is then at a\n",
    "maximum of the effective potential and the orbits are unstable. It is\n",
    "the clear that for potentials that fall as $r^n$, that one must have\n",
    "$n>-2$ for the orbits to be stable.\n",
    "\n",
    "Consider a potential $V(r)=\\beta r$. For a particle of mass $m$ with\n",
    "angular momentum $L$, find the angular frequency of a circular\n",
    "orbit. Then find the angular frequency for small radial perturbations.\n",
    "\n",
    "For the circular orbit you search for the position $r_{\\rm min}$ where the effective potential is minimized,"
   ]
  },
  {
   "cell_type": "markdown",
   "id": "5496de8e",
   "metadata": {
    "editable": true
   },
   "source": [
    "$$\n",
    "\\begin{eqnarray*}\n",
    "\\partial_r\\left\\{\\beta r+\\frac{L^2}{2mr^2}\\right\\}&=&0,\\\\\n",
    "\\beta&=&\\frac{L^2}{mr_{\\rm min}^3},\\\\\n",
    "r_{\\rm min}&=&\\left(\\frac{L^2}{\\beta m}\\right)^{1/3},\\\\\n",
    "\\dot{\\theta}&=&\\frac{L}{mr_{\\rm min}^2}=\\frac{\\beta^{2/3}}{(mL)^{1/3}}\n",
    "\\end{eqnarray*}\n",
    "$$"
   ]
  },
  {
   "cell_type": "markdown",
   "id": "c769da83",
   "metadata": {
    "editable": true
   },
   "source": [
    "Now, we can find the angular frequency of small perturbations about the circular orbit. To do this we find the effective spring constant for the effective potential,"
   ]
  },
  {
   "cell_type": "markdown",
   "id": "f7ea2191",
   "metadata": {
    "editable": true
   },
   "source": [
    "$$\n",
    "\\begin{eqnarray*}\n",
    "k_{\\rm eff}&=&\\partial_r^2 \\left.V_{\\rm eff}\\right|_{r_{\\rm min}}\\\\\n",
    "&=&\\frac{3L^2}{mr_{\\rm min}^4},\\\\\n",
    "\\omega&=&\\sqrt{\\frac{k_{\\rm eff}}{m}}\\\\\n",
    "&=&\\frac{\\beta^{2/3}}{(mL)^{1/3}}\\sqrt{3}.\n",
    "\\end{eqnarray*}\n",
    "$$"
   ]
  },
  {
   "cell_type": "markdown",
   "id": "f1fa582a",
   "metadata": {
    "editable": true
   },
   "source": [
    "If the two frequencies, $\\dot{\\theta}$ and $\\omega$, differ by an\n",
    "integer factor, the orbit's trajectory will repeat itself each time\n",
    "around. This is the case for the inverse-square force,\n",
    "$\\omega=\\dot{\\theta}$, and for the harmonic oscillator,\n",
    "$\\omega=2\\dot{\\theta}$. In this case, $\\omega=\\sqrt{3}\\dot{\\theta}$,\n",
    "and the angles at which the maxima and minima occur change with each\n",
    "orbit."
   ]
  },
  {
   "cell_type": "markdown",
   "id": "50c5fd2d",
   "metadata": {
    "editable": true
   },
   "source": [
    "### Code example with gravitional force\n",
    "\n",
    "The code example here is meant to illustrate how we can make a plot of the final orbit. We solve the equations in polar coordinates (the example here uses the minimum of the potential as initial value) and then we transform back to cartesian coordinates and plot $x$ versus $y$. We see that we get a perfect circle when we place ourselves at the minimum of the potential energy, as expected."
   ]
  },
  {
   "cell_type": "code",
   "execution_count": 7,
   "id": "c6429628",
   "metadata": {
    "collapsed": false,
    "editable": true
   },
   "outputs": [],
   "source": [
    "\n",
    "# Simple Gravitational Force   -alpha/r\n",
    "    \n",
    "DeltaT = 0.01\n",
    "#set up arrays \n",
    "tfinal = 8.0\n",
    "n = ceil(tfinal/DeltaT)\n",
    "# set up arrays for t, v and r\n",
    "t = np.zeros(n)\n",
    "v = np.zeros(n)\n",
    "r = np.zeros(n)\n",
    "phi = np.zeros(n)\n",
    "x = np.zeros(n)\n",
    "y = np.zeros(n)\n",
    "# Constants of the model, setting all variables to one for simplicity\n",
    "alpha = 1.0\n",
    "AngMom = 1.0  #  The angular momentum\n",
    "m = 1.0  # scale mass to one\n",
    "c1 = AngMom*AngMom/(m*m)\n",
    "c2 = AngMom*AngMom/m\n",
    "rmin = (AngMom*AngMom/m/alpha)\n",
    "# Initial conditions, place yourself at the potential min\n",
    "r0 = rmin\n",
    "v0 = 0.0  # starts at rest\n",
    "r[0] = r0\n",
    "v[0] = v0\n",
    "phi[0] = 0.0\n",
    "# Start integrating using the Velocity-Verlet  method\n",
    "for i in range(n-1):\n",
    "    # Set up acceleration\n",
    "    a = -alpha/(r[i]**2)+c1/(r[i]**3)\n",
    "    # update velocity, time and position using the Velocity-Verlet method\n",
    "    r[i+1] = r[i] + DeltaT*v[i]+0.5*(DeltaT**2)*a\n",
    "    anew = -alpha/(r[i+1]**2)+c1/(r[i+1]**3)\n",
    "    v[i+1] = v[i] + 0.5*DeltaT*(a+anew)\n",
    "    t[i+1] = t[i] + DeltaT\n",
    "    phi[i+1] = t[i+1]*c2/(r0**2)\n",
    "# Find cartesian coordinates for easy plot    \n",
    "x = r*np.cos(phi)\n",
    "y = r*np.sin(phi)\n",
    "fig, ax = plt.subplots(3,1)\n",
    "ax[0].set_xlabel('time')\n",
    "ax[0].set_ylabel('radius')\n",
    "ax[0].plot(t,r)\n",
    "ax[1].set_xlabel('time')\n",
    "ax[1].set_ylabel('Angle $\\cos{\\phi}$')\n",
    "ax[1].plot(t,np.cos(phi))\n",
    "ax[2].set_ylabel('y')\n",
    "ax[2].set_xlabel('x')\n",
    "ax[2].plot(x,y)\n",
    "\n",
    "save_fig(\"Phasespace\")\n",
    "plt.show()"
   ]
  },
  {
   "cell_type": "markdown",
   "id": "9d507f9d",
   "metadata": {
    "editable": true
   },
   "source": [
    "Try to change the initial value for $r$ and see what kind of orbits you get.\n",
    "In order to test different energies, it can be useful to look at the plot of the effective potential discussed above.\n",
    "\n",
    "However, for orbits different from a circle the above code would need modifications in order to allow us to display say an ellipse. For the latter, it is much easier to run our code in cartesian coordinates, as done here. In this code we test also energy conservation and see that it is conserved to numerical precision. The code here is a simple extension of the code we developed for homework 4."
   ]
  },
  {
   "cell_type": "code",
   "execution_count": 8,
   "id": "1cf6fd47",
   "metadata": {
    "collapsed": false,
    "editable": true
   },
   "outputs": [],
   "source": [
    "# Common imports\n",
    "import numpy as np\n",
    "import pandas as pd\n",
    "from math import *\n",
    "import matplotlib.pyplot as plt\n",
    "\n",
    "DeltaT = 0.01\n",
    "#set up arrays \n",
    "tfinal = 10.0\n",
    "n = ceil(tfinal/DeltaT)\n",
    "# set up arrays\n",
    "t = np.zeros(n)\n",
    "v = np.zeros((n,2))\n",
    "r = np.zeros((n,2))\n",
    "E = np.zeros(n)\n",
    "# Constants of the model\n",
    "m = 1.0   # mass, you can change these\n",
    "alpha = 1.0\n",
    "# Initial conditions as compact 2-dimensional arrays\n",
    "x0 = 0.5; y0= 0.\n",
    "r0 = np.array([x0,y0]) \n",
    "v0 = np.array([0.0,1.0])\n",
    "r[0] = r0\n",
    "v[0] = v0\n",
    "rabs = sqrt(sum(r[0]*r[0]))\n",
    "E[0] = 0.5*m*(v[0,0]**2+v[0,1]**2)-alpha/rabs\n",
    "# Start integrating using the Velocity-Verlet  method\n",
    "for i in range(n-1):\n",
    "    # Set up the acceleration\n",
    "    rabs = sqrt(sum(r[i]*r[i]))\n",
    "    a =  -alpha*r[i]/(rabs**3)\n",
    "    # update velocity, time and position using the Velocity-Verlet method\n",
    "    r[i+1] = r[i] + DeltaT*v[i]+0.5*(DeltaT**2)*a\n",
    "    rabs = sqrt(sum(r[i+1]*r[i+1]))\n",
    "    anew = -alpha*r[i+1]/(rabs**3)\n",
    "    v[i+1] = v[i] + 0.5*DeltaT*(a+anew)\n",
    "    E[i+1] = 0.5*m*(v[i+1,0]**2+v[i+1,1]**2)-alpha/rabs\n",
    "    t[i+1] = t[i] + DeltaT\n",
    "# Plot position as function of time\n",
    "fig, ax = plt.subplots(3,1)\n",
    "ax[0].set_ylabel('y')\n",
    "ax[0].set_xlabel('x')\n",
    "ax[0].plot(r[:,0],r[:,1])\n",
    "ax[1].set_xlabel('time')\n",
    "ax[1].set_ylabel('y position')\n",
    "ax[1].plot(t,r[:,0])\n",
    "ax[2].set_xlabel('time')\n",
    "ax[2].set_ylabel('y position')\n",
    "ax[2].plot(t,r[:,1])\n",
    "\n",
    "fig.tight_layout()\n",
    "save_fig(\"2DimGravity\")\n",
    "plt.show()\n",
    "print(E)"
   ]
  }
 ],
 "metadata": {},
 "nbformat": 4,
 "nbformat_minor": 5
}
