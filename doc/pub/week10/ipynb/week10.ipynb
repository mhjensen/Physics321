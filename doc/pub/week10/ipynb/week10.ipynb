{
 "cells": [
  {
   "cell_type": "markdown",
   "id": "62fc44c6",
   "metadata": {},
   "source": [
    "<!-- HTML file automatically generated from DocOnce source (https://github.com/doconce/doconce/)\n",
    "doconce format html week10.do.txt --no_mako -->\n",
    "<!-- dom:TITLE: PHY321: Harmonic oscillations: Time-dependent Forces and Fourier Series -->"
   ]
  },
  {
   "cell_type": "markdown",
   "id": "acc0353e",
   "metadata": {},
   "source": [
    "# PHY321: Harmonic oscillations: Time-dependent Forces and Fourier Series\n",
    "**[Morten Hjorth-Jensen](http://mhjgit.github.io/info/doc/web/)**, Department of Physics and Astronomy and Facility for Rare Ion Beams (FRIB), Michigan State University, USA and Department of Physics, University of Oslo, Norway\n",
    "\n",
    "Date: **Mar 18, 2022**\n",
    "\n",
    "Copyright 1999-2022, [Morten Hjorth-Jensen](http://mhjgit.github.io/info/doc/web/). Released under CC Attribution-NonCommercial 4.0 license"
   ]
  },
  {
   "cell_type": "markdown",
   "id": "2f3481a5",
   "metadata": {},
   "source": [
    "## Aims and Overarching Motivation\n",
    "\n",
    "Driven oscillations and resonances with physical examples."
   ]
  },
  {
   "cell_type": "markdown",
   "id": "13291a72",
   "metadata": {},
   "source": [
    "### Monday, March 14\n",
    "\n",
    "Summary of analytical expressions from February 28-March 4 (see slides at <https://mhjensen.github.io/Physics321/doc/pub/week9/html/week9-reveal.html>. Discussion of resonances and other examples like the mathematical pendulum and other systems.\n",
    "\n",
    "* [Video of lecture](https://youtu.be/xV3sIH6AXiE)\n",
    "\n",
    "* [Handwritten notes](https://github.com/mhjensen/Physics321/blob/master/doc/HandWrittenNotes/Spring2022/NotesMarch14.pdf)\n",
    "\n",
    "**Reading suggestion**: Taylor sections 5.6-5.8."
   ]
  },
  {
   "cell_type": "markdown",
   "id": "037c6bbb",
   "metadata": {},
   "source": [
    "### Wednesday\n",
    "\n",
    "Examples of oscillations and Fourier analysis applied to harmonic oscillations.\n",
    "\n",
    "* [Video of lecture](https://youtu.be/RDzLMV5ymxc)\n",
    "\n",
    "* [Handwritten notes](https://github.com/mhjensen/Physics321/blob/master/doc/HandWrittenNotes/Spring2022/NotesMarch16.pdf)\n",
    "\n",
    "* [Video on solving differential equations numerically](https://youtu.be/7nYIfV0z1VM)\n",
    "\n",
    "**Reading suggestion**: See lecture notes at <https://mhjensen.github.io/Physics321/doc/pub/week10/html/week10-reveal.html> and Taylor sections 5.6-5.8."
   ]
  },
  {
   "cell_type": "markdown",
   "id": "a6dd66bb",
   "metadata": {},
   "source": [
    "### Friday\n",
    "\n",
    "Work on homework 6 and discussions of harmonic oscillation examples and systems."
   ]
  },
  {
   "cell_type": "markdown",
   "id": "bed761cb",
   "metadata": {},
   "source": [
    "## Numerical Studies of Driven Oscillations\n",
    "\n",
    "Solving the problem of driven oscillations numerically gives us much\n",
    "more flexibility to study different types of driving forces. We can\n",
    "reuse our earlier code by simply adding a driving force. If we stay in\n",
    "the $x$-direction only this can be easily done by adding a term\n",
    "$F_{\\mathrm{ext}}(x,t)$. Note that we have kept it rather general\n",
    "here, allowing for both a spatial and a temporal dependence.\n",
    "\n",
    "Before we dive into the code, we need to briefly remind ourselves\n",
    "about the equations we started with for the case with damping, namely"
   ]
  },
  {
   "cell_type": "markdown",
   "id": "51fa81eb",
   "metadata": {},
   "source": [
    "$$\n",
    "m\\frac{d^2x}{dt^2} + b\\frac{dx}{dt}+kx(t) =0,\n",
    "$$"
   ]
  },
  {
   "cell_type": "markdown",
   "id": "ae9c4010",
   "metadata": {},
   "source": [
    "with no external force applied to the system.\n",
    "\n",
    "Let us now for simplicty assume that our external force is given by"
   ]
  },
  {
   "cell_type": "markdown",
   "id": "ab34532d",
   "metadata": {},
   "source": [
    "$$\n",
    "F_{\\mathrm{ext}}(t) = F_0\\cos{(\\omega t)},\n",
    "$$"
   ]
  },
  {
   "cell_type": "markdown",
   "id": "07fe03c6",
   "metadata": {},
   "source": [
    "where $F_0$ is a constant (what is its dimension?) and $\\omega$ is the frequency of the applied external driving force.\n",
    "**Small question:** would you expect energy to be conserved now?\n",
    "\n",
    "Introducing the external force into our lovely differential equation\n",
    "and dividing by $m$ and introducing $\\omega_0^2=\\sqrt{k/m}$ we have"
   ]
  },
  {
   "cell_type": "markdown",
   "id": "01971deb",
   "metadata": {},
   "source": [
    "$$\n",
    "\\frac{d^2x}{dt^2} + \\frac{b}{m}\\frac{dx}{dt}+\\omega_0^2x(t) =\\frac{F_0}{m}\\cos{(\\omega t)},\n",
    "$$"
   ]
  },
  {
   "cell_type": "markdown",
   "id": "29bfbe49",
   "metadata": {},
   "source": [
    "Thereafter we introduce a dimensionless time $\\tau = t\\omega_0$\n",
    "and a dimensionless frequency $\\tilde{\\omega}=\\omega/\\omega_0$. We have then"
   ]
  },
  {
   "cell_type": "markdown",
   "id": "aaa15589",
   "metadata": {},
   "source": [
    "$$\n",
    "\\frac{d^2x}{d\\tau^2} + \\frac{b}{m\\omega_0}\\frac{dx}{d\\tau}+x(\\tau) =\\frac{F_0}{m\\omega_0^2}\\cos{(\\tilde{\\omega}\\tau)},\n",
    "$$"
   ]
  },
  {
   "cell_type": "markdown",
   "id": "9f306cdb",
   "metadata": {},
   "source": [
    "Introducing a new amplitude $\\tilde{F} =F_0/(m\\omega_0^2)$ (check dimensionality again) we have"
   ]
  },
  {
   "cell_type": "markdown",
   "id": "0435d657",
   "metadata": {},
   "source": [
    "$$\n",
    "\\frac{d^2x}{d\\tau^2} + \\frac{b}{m\\omega_0}\\frac{dx}{d\\tau}+x(\\tau) =\\tilde{F}\\cos{(\\tilde{\\omega}\\tau)}.\n",
    "$$"
   ]
  },
  {
   "cell_type": "markdown",
   "id": "b9e09357",
   "metadata": {},
   "source": [
    "Our final step, as we did in the case of various types of damping, is\n",
    "to define $\\gamma = b/(2m\\omega_0)$ and rewrite our equations as"
   ]
  },
  {
   "cell_type": "markdown",
   "id": "29488bd8",
   "metadata": {},
   "source": [
    "$$\n",
    "\\frac{d^2x}{d\\tau^2} + 2\\gamma\\frac{dx}{d\\tau}+x(\\tau) =\\tilde{F}\\cos{(\\tilde{\\omega}\\tau)}.\n",
    "$$"
   ]
  },
  {
   "cell_type": "markdown",
   "id": "74968771",
   "metadata": {},
   "source": [
    "This is the equation we will code below using the Euler-Cromer method."
   ]
  },
  {
   "cell_type": "code",
   "execution_count": 1,
   "id": "7c376707",
   "metadata": {},
   "outputs": [
    {
     "data": {
      "image/png": "[encoded data removed]",
      "text/plain": [
       "<Figure size 576x396 with 1 Axes>"
      ]
     },
     "metadata": {},
     "output_type": "display_data"
    }
   ],
   "source": [
    "%matplotlib inline\n",
    "\n",
    "\n",
    "# Common imports\n",
    "import numpy as np\n",
    "import pandas as pd\n",
    "from math import *\n",
    "import matplotlib.pyplot as plt\n",
    "import os\n",
    "\n",
    "# Where to save the figures and data files\n",
    "PROJECT_ROOT_DIR = \"Results\"\n",
    "FIGURE_ID = \"Results/FigureFiles\"\n",
    "DATA_ID = \"DataFiles/\"\n",
    "\n",
    "if not os.path.exists(PROJECT_ROOT_DIR):\n",
    "    os.mkdir(PROJECT_ROOT_DIR)\n",
    "\n",
    "if not os.path.exists(FIGURE_ID):\n",
    "    os.makedirs(FIGURE_ID)\n",
    "\n",
    "if not os.path.exists(DATA_ID):\n",
    "    os.makedirs(DATA_ID)\n",
    "\n",
    "def image_path(fig_id):\n",
    "    return os.path.join(FIGURE_ID, fig_id)\n",
    "\n",
    "def data_path(dat_id):\n",
    "    return os.path.join(DATA_ID, dat_id)\n",
    "\n",
    "def save_fig(fig_id):\n",
    "    plt.savefig(image_path(fig_id) + \".png\", format='png')\n",
    "\n",
    "\n",
    "from pylab import plt, mpl\n",
    "plt.style.use('seaborn')\n",
    "mpl.rcParams['font.family'] = 'serif'\n",
    "\n",
    "\n",
    "DeltaT = 0.001\n",
    "#set up arrays \n",
    "tfinal = 20 # in dimensionless time\n",
    "n = ceil(tfinal/DeltaT)\n",
    "# set up arrays for t, v, and x\n",
    "t = np.zeros(n)\n",
    "v = np.zeros(n)\n",
    "x = np.zeros(n)\n",
    "# Initial conditions as one-dimensional arrays of time\n",
    "x0 =  1.0 \n",
    "v0 = 0.0\n",
    "x[0] = x0\n",
    "v[0] = v0\n",
    "gamma = 0.2\n",
    "Omegatilde = 0.5\n",
    "Ftilde = 1.0\n",
    "# Start integrating using Euler-Cromer's method\n",
    "for i in range(n-1):\n",
    "    # Set up the acceleration\n",
    "    # Here you could have defined your own function for this\n",
    "    a =  -2*gamma*v[i]-x[i]+Ftilde*cos(t[i]*Omegatilde)\n",
    "    # update velocity, time and position\n",
    "    v[i+1] = v[i] + DeltaT*a\n",
    "    x[i+1] = x[i] + DeltaT*v[i+1]\n",
    "    t[i+1] = t[i] + DeltaT\n",
    "# Plot position as function of time    \n",
    "fig, ax = plt.subplots()\n",
    "ax.set_ylabel('x[m]')\n",
    "ax.set_xlabel('t[s]')\n",
    "ax.plot(t, x)\n",
    "fig.tight_layout()\n",
    "save_fig(\"ForcedBlockEulerCromer\")\n",
    "plt.show()"
   ]
  },
  {
   "cell_type": "markdown",
   "id": "0eb345e6",
   "metadata": {},
   "source": [
    "In the above example we have focused on the Euler-Cromer method. This\n",
    "method has a local truncation error which is proportional to $\\Delta t^2$\n",
    "and thereby a global error which is proportional to $\\Delta t$.\n",
    "We can improve this by using the Runge-Kutta family of\n",
    "methods. The widely popular Runge-Kutta to fourth order or just **RK4**\n",
    "has indeed a much better truncation error. The RK4 method has a global\n",
    "error which is proportional to $\\Delta t$.\n",
    "\n",
    "Let us revisit this method and see how we can implement it for the above example."
   ]
  },
  {
   "cell_type": "markdown",
   "id": "20117f24",
   "metadata": {},
   "source": [
    "## Differential Equations, Runge-Kutta methods\n",
    "\n",
    "Runge-Kutta (RK) methods are based on Taylor expansion formulae, but yield\n",
    "in general better algorithms for solutions of an ordinary differential equation.\n",
    "The basic philosophy is that it provides an intermediate step in the computation of $y_{i+1}$.\n",
    "\n",
    "To see this, consider first the following definitions"
   ]
  },
  {
   "cell_type": "markdown",
   "id": "99fbf322",
   "metadata": {},
   "source": [
    "<!-- Equation labels as ordinary links -->\n",
    "<div id=\"_auto1\"></div>\n",
    "\n",
    "$$\n",
    "\\begin{equation}\n",
    "\\frac{dy}{dt}=f(t,y),  \n",
    "\\label{_auto1} \\tag{1}\n",
    "\\end{equation}\n",
    "$$"
   ]
  },
  {
   "cell_type": "markdown",
   "id": "a7bad65d",
   "metadata": {},
   "source": [
    "and"
   ]
  },
  {
   "cell_type": "markdown",
   "id": "9c0419c7",
   "metadata": {},
   "source": [
    "<!-- Equation labels as ordinary links -->\n",
    "<div id=\"_auto2\"></div>\n",
    "\n",
    "$$\n",
    "\\begin{equation}\n",
    "y(t)=\\int f(t,y) dt,  \n",
    "\\label{_auto2} \\tag{2}\n",
    "\\end{equation}\n",
    "$$"
   ]
  },
  {
   "cell_type": "markdown",
   "id": "2e73c034",
   "metadata": {},
   "source": [
    "and"
   ]
  },
  {
   "cell_type": "markdown",
   "id": "4c3bc3f5",
   "metadata": {},
   "source": [
    "<!-- Equation labels as ordinary links -->\n",
    "<div id=\"_auto3\"></div>\n",
    "\n",
    "$$\n",
    "\\begin{equation}\n",
    "y_{i+1}=y_i+ \\int_{t_i}^{t_{i+1}} f(t,y) dt.\n",
    "\\label{_auto3} \\tag{3}\n",
    "\\end{equation}\n",
    "$$"
   ]
  },
  {
   "cell_type": "markdown",
   "id": "58b44ef4",
   "metadata": {},
   "source": [
    "To demonstrate the philosophy behind RK methods, let us consider\n",
    "the second-order RK method, RK2.\n",
    "The first approximation consists in Taylor expanding $f(t,y)$\n",
    "around the center of the integration interval $t_i$ to $t_{i+1}$,\n",
    "that is, at $t_i+h/2$, $h$ being the step.\n",
    "Using the midpoint formula for an integral, \n",
    "defining $y(t_i+h/2) = y_{i+1/2}$ and   \n",
    "$t_i+h/2 = t_{i+1/2}$, we obtain"
   ]
  },
  {
   "cell_type": "markdown",
   "id": "e2ef934b",
   "metadata": {},
   "source": [
    "<!-- Equation labels as ordinary links -->\n",
    "<div id=\"_auto4\"></div>\n",
    "\n",
    "$$\n",
    "\\begin{equation}\n",
    "\\int_{t_i}^{t_{i+1}} f(t,y) dt \\approx hf(t_{i+1/2},y_{i+1/2}) +O(h^3).\n",
    "\\label{_auto4} \\tag{4}\n",
    "\\end{equation}\n",
    "$$"
   ]
  },
  {
   "cell_type": "markdown",
   "id": "c5315fbe",
   "metadata": {},
   "source": [
    "This means in turn that we have"
   ]
  },
  {
   "cell_type": "markdown",
   "id": "80eac2ec",
   "metadata": {},
   "source": [
    "<!-- Equation labels as ordinary links -->\n",
    "<div id=\"_auto5\"></div>\n",
    "\n",
    "$$\n",
    "\\begin{equation}\n",
    "y_{i+1}=y_i + hf(t_{i+1/2},y_{i+1/2}) +O(h^3).\n",
    "\\label{_auto5} \\tag{5}\n",
    "\\end{equation}\n",
    "$$"
   ]
  },
  {
   "cell_type": "markdown",
   "id": "0706bf0e",
   "metadata": {},
   "source": [
    "However, we do not know the value of   $y_{i+1/2}$. Here comes thus the next approximation, namely, we use Euler's\n",
    "method to approximate $y_{i+1/2}$. We have then"
   ]
  },
  {
   "cell_type": "markdown",
   "id": "cafea08e",
   "metadata": {},
   "source": [
    "<!-- Equation labels as ordinary links -->\n",
    "<div id=\"_auto6\"></div>\n",
    "\n",
    "$$\n",
    "\\begin{equation}\n",
    "y_{(i+1/2)}=y_i + \\frac{h}{2}\\frac{dy}{dt}=y(t_i) + \\frac{h}{2}f(t_i,y_i).\n",
    "\\label{_auto6} \\tag{6}\n",
    "\\end{equation}\n",
    "$$"
   ]
  },
  {
   "cell_type": "markdown",
   "id": "ca979bef",
   "metadata": {},
   "source": [
    "This means that we can define the following algorithm for \n",
    "the second-order Runge-Kutta method, RK2."
   ]
  },
  {
   "cell_type": "markdown",
   "id": "01f792e2",
   "metadata": {},
   "source": [
    "<!-- Equation labels as ordinary links -->\n",
    "<div id=\"_auto7\"></div>\n",
    "\n",
    "$$\n",
    "\\begin{equation} \n",
    "k_1=hf(t_i,y_i),\n",
    "\\label{_auto7} \\tag{7}\n",
    "\\end{equation}\n",
    "$$"
   ]
  },
  {
   "cell_type": "markdown",
   "id": "207aaafe",
   "metadata": {},
   "source": [
    "and"
   ]
  },
  {
   "cell_type": "markdown",
   "id": "4c91158c",
   "metadata": {},
   "source": [
    "<!-- Equation labels as ordinary links -->\n",
    "<div id=\"_auto8\"></div>\n",
    "\n",
    "$$\n",
    "\\begin{equation}\n",
    "k_2=hf(t_{i+1/2},y_i+k_1/2),\n",
    "\\label{_auto8} \\tag{8}\n",
    "\\end{equation}\n",
    "$$"
   ]
  },
  {
   "cell_type": "markdown",
   "id": "08084a63",
   "metadata": {},
   "source": [
    "with the final value"
   ]
  },
  {
   "cell_type": "markdown",
   "id": "543ca381",
   "metadata": {},
   "source": [
    "<!-- Equation labels as ordinary links -->\n",
    "<div id=\"_auto9\"></div>\n",
    "\n",
    "$$\n",
    "\\begin{equation} \n",
    "y_{i+i}\\approx y_i + k_2 +O(h^3). \n",
    "\\label{_auto9} \\tag{9}\n",
    "\\end{equation}\n",
    "$$"
   ]
  },
  {
   "cell_type": "markdown",
   "id": "758971ac",
   "metadata": {},
   "source": [
    "The difference between the previous one-step methods \n",
    "is that we now need an intermediate step in our evaluation,\n",
    "namely $t_i+h/2 = t_{(i+1/2)}$ where we evaluate the derivative $f$. \n",
    "This involves more operations, but the gain is a better stability\n",
    "in the solution.\n",
    "\n",
    "The fourth-order Runge-Kutta, RK4, has the following algorithm"
   ]
  },
  {
   "cell_type": "markdown",
   "id": "e030b70b",
   "metadata": {},
   "source": [
    "$$\n",
    "k_1=hf(t_i,y_i) \\hspace{0.5cm}   k_2=hf(t_i+h/2,y_i+k_1/2)\n",
    "$$"
   ]
  },
  {
   "cell_type": "markdown",
   "id": "c92bec63",
   "metadata": {},
   "source": [
    "and"
   ]
  },
  {
   "cell_type": "markdown",
   "id": "98cd223b",
   "metadata": {},
   "source": [
    "$$\n",
    "k_3=hf(t_i+h/2,y_i+k_2/2)\\hspace{0.5cm}   k_4=hf(t_i+h,y_i+k_3)\n",
    "$$"
   ]
  },
  {
   "cell_type": "markdown",
   "id": "a9f84301",
   "metadata": {},
   "source": [
    "with the final result"
   ]
  },
  {
   "cell_type": "markdown",
   "id": "d8bb70f0",
   "metadata": {},
   "source": [
    "$$\n",
    "y_{i+1}=y_i +\\frac{1}{6}\\left( k_1 +2k_2+2k_3+k_4\\right).\n",
    "$$"
   ]
  },
  {
   "cell_type": "markdown",
   "id": "9b2ff7bd",
   "metadata": {},
   "source": [
    "Thus, the algorithm consists in first calculating $k_1$ \n",
    "with $t_i$, $y_1$ and $f$ as inputs. Thereafter, we increase the step\n",
    "size by $h/2$ and calculate $k_2$, then $k_3$ and finally $k_4$. The global error goes as $O(h^4)$.\n",
    "\n",
    "However, at this stage, if we keep adding different methods in our\n",
    "main program, the code will quickly become messy and ugly. Before we\n",
    "proceed thus, we will now introduce functions that enbody the various\n",
    "methods for solving differential equations. This means that we can\n",
    "separate out these methods in own functions and files (and later as classes and more\n",
    "generic functions) and simply call them when needed. Similarly, we\n",
    "could easily encapsulate various forces or other quantities of\n",
    "interest in terms of functions. To see this, let us bring up the code\n",
    "we developed above for the simple sliding block, but now only with the simple forward Euler method. We introduce\n",
    "two functions, one for the simple Euler method and one for the\n",
    "force.\n",
    "\n",
    "Note that here the forward Euler method does not know the specific force function to be called.\n",
    "It receives just an input the name. We can easily change the force by adding another function."
   ]
  },
  {
   "cell_type": "code",
   "execution_count": 2,
   "id": "c9de76a3",
   "metadata": {},
   "outputs": [],
   "source": [
    "def ForwardEuler(v,x,t,n,Force):\n",
    "    for i in range(n-1):\n",
    "        v[i+1] = v[i] + DeltaT*Force(v[i],x[i],t[i])\n",
    "        x[i+1] = x[i] + DeltaT*v[i]\n",
    "        t[i+1] = t[i] + DeltaT"
   ]
  },
  {
   "cell_type": "code",
   "execution_count": 3,
   "id": "79b4911f",
   "metadata": {},
   "outputs": [],
   "source": [
    "def SpringForce(v,x,t):\n",
    "#   note here that we have divided by mass and we return the acceleration\n",
    "    return  -2*gamma*v-x+Ftilde*cos(t*Omegatilde)"
   ]
  },
  {
   "cell_type": "markdown",
   "id": "726b7e61",
   "metadata": {},
   "source": [
    "It is easy to add a new method like the Euler-Cromer"
   ]
  },
  {
   "cell_type": "code",
   "execution_count": 4,
   "id": "5e9a885f",
   "metadata": {},
   "outputs": [],
   "source": [
    "def ForwardEulerCromer(v,x,t,n,Force):\n",
    "    for i in range(n-1):\n",
    "        a = Force(v[i],x[i],t[i])\n",
    "        v[i+1] = v[i] + DeltaT*a\n",
    "        x[i+1] = x[i] + DeltaT*v[i+1]\n",
    "        t[i+1] = t[i] + DeltaT"
   ]
  },
  {
   "cell_type": "markdown",
   "id": "f98ba55c",
   "metadata": {},
   "source": [
    "and the Velocity Verlet method (be careful with time-dependence here, it is not an ideal method for non-conservative forces))"
   ]
  },
  {
   "cell_type": "code",
   "execution_count": 5,
   "id": "f3a836b1",
   "metadata": {},
   "outputs": [],
   "source": [
    "def VelocityVerlet(v,x,t,n,Force):\n",
    "    for i in range(n-1):\n",
    "        a = Force(v[i],x[i],t[i])\n",
    "        x[i+1] = x[i] + DeltaT*v[i]+0.5*a*DeltaT*DeltaT\n",
    "        anew = Force(v[i],x[i+1],t[i+1])\n",
    "        v[i+1] = v[i] + 0.5*DeltaT*(a+anew)\n",
    "        t[i+1] = t[i] + DeltaT"
   ]
  },
  {
   "cell_type": "markdown",
   "id": "a0114ce7",
   "metadata": {},
   "source": [
    "Finally, we can now add the Runge-Kutta2 method via a new function"
   ]
  },
  {
   "cell_type": "code",
   "execution_count": 6,
   "id": "5a462397",
   "metadata": {},
   "outputs": [],
   "source": [
    "def RK2(v,x,t,n,Force):\n",
    "    for i in range(n-1):\n",
    "# Setting up k1\n",
    "        k1x = DeltaT*v[i]\n",
    "        k1v = DeltaT*Force(v[i],x[i],t[i])\n",
    "# Setting up k2\n",
    "        vv = v[i]+k1v*0.5\n",
    "        xx = x[i]+k1x*0.5\n",
    "        k2x = DeltaT*vv\n",
    "        k2v = DeltaT*Force(vv,xx,t[i]+DeltaT*0.5)\n",
    "# Final result\n",
    "        x[i+1] = x[i]+k2x\n",
    "        v[i+1] = v[i]+k2v\n",
    "        t[i+1] = t[i]+DeltaT"
   ]
  },
  {
   "cell_type": "markdown",
   "id": "cd558fb5",
   "metadata": {},
   "source": [
    "Finally, we can now add the Runge-Kutta2 method via a new function"
   ]
  },
  {
   "cell_type": "code",
   "execution_count": 7,
   "id": "5974873b",
   "metadata": {},
   "outputs": [],
   "source": [
    "def RK4(v,x,t,n,Force):\n",
    "    for i in range(n-1):\n",
    "# Setting up k1\n",
    "        k1x = DeltaT*v[i]\n",
    "        k1v = DeltaT*Force(v[i],x[i],t[i])\n",
    "# Setting up k2\n",
    "        vv = v[i]+k1v*0.5\n",
    "        xx = x[i]+k1x*0.5\n",
    "        k2x = DeltaT*vv\n",
    "        k2v = DeltaT*Force(vv,xx,t[i]+DeltaT*0.5)\n",
    "# Setting up k3\n",
    "        vv = v[i]+k2v*0.5\n",
    "        xx = x[i]+k2x*0.5\n",
    "        k3x = DeltaT*vv\n",
    "        k3v = DeltaT*Force(vv,xx,t[i]+DeltaT*0.5)\n",
    "# Setting up k4\n",
    "        vv = v[i]+k3v\n",
    "        xx = x[i]+k3x\n",
    "        k4x = DeltaT*vv\n",
    "        k4v = DeltaT*Force(vv,xx,t[i]+DeltaT)\n",
    "# Final result\n",
    "        x[i+1] = x[i]+(k1x+2*k2x+2*k3x+k4x)/6.\n",
    "        v[i+1] = v[i]+(k1v+2*k2v+2*k3v+k4v)/6.\n",
    "        t[i+1] = t[i] + DeltaT"
   ]
  },
  {
   "cell_type": "markdown",
   "id": "999055dd",
   "metadata": {},
   "source": [
    "The Runge-Kutta family of methods are particularly useful when we have a time-dependent acceleration.\n",
    "If we have forces which depend only the spatial degrees of freedom (no velocity and/or time-dependence), then energy conserving methods like the Velocity Verlet or the Euler-Cromer method are preferred. As soon as we introduce an explicit time-dependence and/or add dissipitave forces like friction or air resistance, then methods like the family of Runge-Kutta methods are well suited for this. \n",
    "The code below uses the Runge-Kutta4 methods."
   ]
  },
  {
   "cell_type": "code",
   "execution_count": 8,
   "id": "b3c594d0",
   "metadata": {},
   "outputs": [
    {
     "data": {
      "image/png": "[encoded data removed]",
      "text/plain": [
       "<Figure size 576x396 with 1 Axes>"
      ]
     },
     "metadata": {},
     "output_type": "display_data"
    }
   ],
   "source": [
    "DeltaT = 0.001\n",
    "#set up arrays \n",
    "tfinal = 20 # in dimensionless time\n",
    "n = ceil(tfinal/DeltaT)\n",
    "# set up arrays for t, v, and x\n",
    "t = np.zeros(n)\n",
    "v = np.zeros(n)\n",
    "x = np.zeros(n)\n",
    "# Initial conditions (can change to more than one dim)\n",
    "x0 =  1.0 \n",
    "v0 = 0.0\n",
    "x[0] = x0\n",
    "v[0] = v0\n",
    "gamma = 0.2\n",
    "Omegatilde = 0.5\n",
    "Ftilde = 0.0\n",
    "# Start integrating using the RK4 method\n",
    "# Note that we define the force function as a SpringForce\n",
    "RK2(v,x,t,n,SpringForce)\n",
    "\n",
    "# Plot position as function of time    \n",
    "fig, ax = plt.subplots()\n",
    "ax.set_ylabel('x[m]')\n",
    "ax.set_xlabel('t[s]')\n",
    "ax.plot(t, x)\n",
    "fig.tight_layout()\n",
    "save_fig(\"ForcedBlockRK4\")\n",
    "plt.show()"
   ]
  },
  {
   "cell_type": "markdown",
   "id": "c94b8812",
   "metadata": {},
   "source": [
    "## Example: The classical pendulum and scaling the equations\n",
    "\n",
    "Let us end our discussion of oscillations with another classical case, the pendulum. You will find the material here useful for homework 7.\n",
    "\n",
    "The angular equation of motion of the pendulum is given by\n",
    "Newton's equation and with no external force it reads"
   ]
  },
  {
   "cell_type": "markdown",
   "id": "7146a132",
   "metadata": {},
   "source": [
    "<!-- Equation labels as ordinary links -->\n",
    "<div id=\"_auto10\"></div>\n",
    "\n",
    "$$\n",
    "\\begin{equation}\n",
    "  ml\\frac{d^2\\theta}{dt^2}+mgsin(\\theta)=0,\n",
    "\\label{_auto10} \\tag{10}\n",
    "\\end{equation}\n",
    "$$"
   ]
  },
  {
   "cell_type": "markdown",
   "id": "148cafee",
   "metadata": {},
   "source": [
    "with an angular velocity and acceleration given by"
   ]
  },
  {
   "cell_type": "markdown",
   "id": "d7e17d7f",
   "metadata": {},
   "source": [
    "<!-- Equation labels as ordinary links -->\n",
    "<div id=\"_auto11\"></div>\n",
    "\n",
    "$$\n",
    "\\begin{equation}\n",
    "     v=l\\frac{d\\theta}{dt},\n",
    "\\label{_auto11} \\tag{11}\n",
    "\\end{equation}\n",
    "$$"
   ]
  },
  {
   "cell_type": "markdown",
   "id": "ff95bacd",
   "metadata": {},
   "source": [
    "and"
   ]
  },
  {
   "cell_type": "markdown",
   "id": "dbdafa0a",
   "metadata": {},
   "source": [
    "<!-- Equation labels as ordinary links -->\n",
    "<div id=\"_auto12\"></div>\n",
    "\n",
    "$$\n",
    "\\begin{equation}\n",
    "     a=l\\frac{d^2\\theta}{dt^2}.\n",
    "\\label{_auto12} \\tag{12}\n",
    "\\end{equation}\n",
    "$$"
   ]
  },
  {
   "cell_type": "markdown",
   "id": "faebe376",
   "metadata": {},
   "source": [
    "We do however expect that the motion will gradually come to an end due\n",
    "a viscous drag torque acting on the pendulum.  In the presence of the\n",
    "drag, the above equation becomes"
   ]
  },
  {
   "cell_type": "markdown",
   "id": "84f6986a",
   "metadata": {},
   "source": [
    "<!-- Equation labels as ordinary links -->\n",
    "<div id=\"eq:pend1\"></div>\n",
    "\n",
    "$$\n",
    "\\begin{equation}\n",
    "   ml\\frac{d^2\\theta}{dt^2}+\\nu\\frac{d\\theta}{dt}  +mgsin(\\theta)=0, \\label{eq:pend1} \\tag{13}\n",
    "\\end{equation}\n",
    "$$"
   ]
  },
  {
   "cell_type": "markdown",
   "id": "5a4f1bda",
   "metadata": {},
   "source": [
    "where $\\nu$ is now a positive constant parameterizing the viscosity\n",
    "of the medium in question. In order to maintain the motion against\n",
    "viscosity, it is necessary to add some external driving force. \n",
    "We choose here a periodic driving force. The last equation becomes then"
   ]
  },
  {
   "cell_type": "markdown",
   "id": "06ab367a",
   "metadata": {},
   "source": [
    "<!-- Equation labels as ordinary links -->\n",
    "<div id=\"eq:pend2\"></div>\n",
    "\n",
    "$$\n",
    "\\begin{equation}\n",
    "   ml\\frac{d^2\\theta}{dt^2}+\\nu\\frac{d\\theta}{dt}  +mgsin(\\theta)=Asin(\\omega t), \\label{eq:pend2} \\tag{14}\n",
    "\\end{equation}\n",
    "$$"
   ]
  },
  {
   "cell_type": "markdown",
   "id": "3795687d",
   "metadata": {},
   "source": [
    "with $A$ and $\\omega$ two constants representing the amplitude and \n",
    "the angular frequency respectively. The latter is called the driving frequency.\n",
    "\n",
    "We define"
   ]
  },
  {
   "cell_type": "markdown",
   "id": "e5cc74f6",
   "metadata": {},
   "source": [
    "$$\n",
    "\\omega_0=\\sqrt{g/l},\n",
    "$$"
   ]
  },
  {
   "cell_type": "markdown",
   "id": "501147fe",
   "metadata": {},
   "source": [
    "the so-called natural frequency and the new dimensionless quantities"
   ]
  },
  {
   "cell_type": "markdown",
   "id": "7074e0c1",
   "metadata": {},
   "source": [
    "$$\n",
    "\\hat{t}=\\omega_0t,\n",
    "$$"
   ]
  },
  {
   "cell_type": "markdown",
   "id": "eff2e80c",
   "metadata": {},
   "source": [
    "with the dimensionless driving frequency"
   ]
  },
  {
   "cell_type": "markdown",
   "id": "e86d172d",
   "metadata": {},
   "source": [
    "$$\n",
    "\\hat{\\omega}=\\frac{\\omega}{\\omega_0},\n",
    "$$"
   ]
  },
  {
   "cell_type": "markdown",
   "id": "f626f6e7",
   "metadata": {},
   "source": [
    "and introducing the quantity $Q$, called the *quality factor*,"
   ]
  },
  {
   "cell_type": "markdown",
   "id": "5314864a",
   "metadata": {},
   "source": [
    "$$\n",
    "Q=\\frac{mg}{\\omega_0\\nu},\n",
    "$$"
   ]
  },
  {
   "cell_type": "markdown",
   "id": "dc38c70c",
   "metadata": {},
   "source": [
    "and the dimensionless amplitude"
   ]
  },
  {
   "cell_type": "markdown",
   "id": "074a64f6",
   "metadata": {},
   "source": [
    "$$\n",
    "\\hat{A}=\\frac{A}{mg}\n",
    "$$"
   ]
  },
  {
   "cell_type": "markdown",
   "id": "00a3fced",
   "metadata": {},
   "source": [
    "## More on the Pendulum\n",
    "\n",
    "We have"
   ]
  },
  {
   "cell_type": "markdown",
   "id": "c87c453e",
   "metadata": {},
   "source": [
    "$$\n",
    "\\frac{d^2\\theta}{d\\hat{t}^2}+\\frac{1}{Q}\\frac{d\\theta}{d\\hat{t}}  \n",
    "     +sin(\\theta)=\\hat{A}cos(\\hat{\\omega}\\hat{t}).\n",
    "$$"
   ]
  },
  {
   "cell_type": "markdown",
   "id": "9feeee74",
   "metadata": {},
   "source": [
    "This equation can in turn be recast in terms of two coupled first-order differential equations as follows"
   ]
  },
  {
   "cell_type": "markdown",
   "id": "d462d775",
   "metadata": {},
   "source": [
    "$$\n",
    "\\frac{d\\theta}{d\\hat{t}}=\\hat{v},\n",
    "$$"
   ]
  },
  {
   "cell_type": "markdown",
   "id": "99f2a98a",
   "metadata": {},
   "source": [
    "and"
   ]
  },
  {
   "cell_type": "markdown",
   "id": "6a4fa939",
   "metadata": {},
   "source": [
    "$$\n",
    "\\frac{d\\hat{v}}{d\\hat{t}}=-\\frac{\\hat{v}}{Q}-sin(\\theta)+\\hat{A}cos(\\hat{\\omega}\\hat{t}).\n",
    "$$"
   ]
  },
  {
   "cell_type": "markdown",
   "id": "562479c0",
   "metadata": {},
   "source": [
    "These are the equations to be solved.  The factor $Q$ represents the\n",
    "number of oscillations of the undriven system that must occur before\n",
    "its energy is significantly reduced due to the viscous drag. The\n",
    "amplitude $\\hat{A}$ is measured in units of the maximum possible\n",
    "gravitational torque while $\\hat{\\omega}$ is the angular frequency of\n",
    "the external torque measured in units of the pendulum's natural\n",
    "frequency."
   ]
  },
  {
   "cell_type": "markdown",
   "id": "d825672e",
   "metadata": {},
   "source": [
    "## The Pendulum code\n",
    "\n",
    "We need to define a new force, which we simply call the pendulum\n",
    "force. The only thing which changes from our previous spring-force\n",
    "problem is the non-linearity introduced by angle $\\theta$ due to the\n",
    "$\\sin{\\theta}$ term.  Here we have kept a generic variable $x$\n",
    "instead. This makes our codes very similar.  Feel free to use these examples for homework seven."
   ]
  },
  {
   "cell_type": "code",
   "execution_count": 9,
   "id": "387d6246",
   "metadata": {},
   "outputs": [],
   "source": [
    "def PendulumForce(v,x,t):\n",
    "#   note here that we have divided by mass and we return the acceleration\n",
    "    return  -gamma*v-sin(x)+Ftilde*cos(t*Omegatilde)"
   ]
  },
  {
   "cell_type": "markdown",
   "id": "c90419ba",
   "metadata": {},
   "source": [
    "## Setting up the various variables and running the code"
   ]
  },
  {
   "cell_type": "code",
   "execution_count": 10,
   "id": "8fe24e0a",
   "metadata": {},
   "outputs": [],
   "source": [
    "DeltaT = 0.001\n",
    "#set up arrays \n",
    "tfinal = 20 # in years\n",
    "n = ceil(tfinal/DeltaT)\n",
    "# set up arrays for t, v, and x\n",
    "t = np.zeros(n)\n",
    "v = np.zeros(n)\n",
    "theta = np.zeros(n)\n",
    "# Initial conditions (can change to more than one dim)\n",
    "theta0 =  1.0 \n",
    "v0 = 0.0\n",
    "theta[0] = theta0\n",
    "v[0] = v0\n",
    "gamma = 0.2\n",
    "Omegatilde = 0.5\n",
    "Ftilde = 1.0\n",
    "# Start integrating using the RK4 method\n",
    "# Note that we define the force function as a PendulumForce\n",
    "RK4(v,theta,t,n,PendulumForce)\n",
    "\n",
    "# Plot position as function of time    \n",
    "fig, ax = plt.subplots()\n",
    "ax.set_ylabel('theta[radians]')\n",
    "ax.set_xlabel('t[s]')\n",
    "ax.plot(t, theta)\n",
    "fig.tight_layout()\n",
    "save_fig(\"PendulumRK4\")\n",
    "plt.show()"
   ]
  },
  {
   "cell_type": "markdown",
   "id": "d7ae90d8",
   "metadata": {},
   "source": [
    "## Principle of Superposition and Periodic Forces (Fourier Transforms)\n",
    "\n",
    "If one has several driving forces, $F(t)=\\sum_n F_n(t)$, one can find\n",
    "the particular solution to each $F_n$, $x_{pn}(t)$, and the particular\n",
    "solution for the entire driving force is"
   ]
  },
  {
   "cell_type": "markdown",
   "id": "2b6f9239",
   "metadata": {},
   "source": [
    "<!-- Equation labels as ordinary links -->\n",
    "<div id=\"_auto13\"></div>\n",
    "\n",
    "$$\n",
    "\\begin{equation}\n",
    "x_p(t)=\\sum_nx_{pn}(t).\n",
    "\\label{_auto13} \\tag{15}\n",
    "\\end{equation}\n",
    "$$"
   ]
  },
  {
   "cell_type": "markdown",
   "id": "c7832f03",
   "metadata": {},
   "source": [
    "This is known as the principal of superposition. It only applies when\n",
    "the homogenous equation is linear. If there were an anharmonic term\n",
    "such as $x^3$ in the homogenous equation, then when one summed various\n",
    "solutions, $x=(\\sum_n x_n)^2$, one would get cross\n",
    "terms. Superposition is especially useful when $F(t)$ can be written\n",
    "as a sum of sinusoidal terms, because the solutions for each\n",
    "sinusoidal (sine or cosine)  term is analytic, as we saw above.\n",
    "\n",
    "Driving forces are often periodic, even when they are not\n",
    "sinusoidal. Periodicity implies that for some time $\\tau$"
   ]
  },
  {
   "cell_type": "markdown",
   "id": "cb41a860",
   "metadata": {},
   "source": [
    "$$\n",
    "\\begin{eqnarray}\n",
    "F(t+\\tau)=F(t). \n",
    "\\end{eqnarray}\n",
    "$$"
   ]
  },
  {
   "cell_type": "markdown",
   "id": "4b85d459",
   "metadata": {},
   "source": [
    "One example of a non-sinusoidal periodic force is a square wave. Many\n",
    "components in electric circuits are non-linear, e.g. diodes, which\n",
    "makes many wave forms non-sinusoidal even when the circuits are being\n",
    "driven by purely sinusoidal sources.\n",
    "\n",
    "The code here shows a typical example of such a square wave generated using the functionality included in the **scipy** Python package. We have used a period of $\\tau=0.2$."
   ]
  },
  {
   "cell_type": "code",
   "execution_count": 1,
   "id": "3ca3de4b",
   "metadata": {},
   "outputs": [
    {
     "data": {
      "image/png": "[encoded data removed]",
      "text/plain": [
       "<Figure size 432x288 with 1 Axes>"
      ]
     },
     "metadata": {
      "needs_background": "light"
     },
     "output_type": "display_data"
    }
   ],
   "source": [
    "import numpy as np\n",
    "import math\n",
    "from scipy import signal\n",
    "import matplotlib.pyplot as plt\n",
    "\n",
    "# number of points                                                                                       \n",
    "n = 500\n",
    "# start and final times                                                                                  \n",
    "t0 = 0.0\n",
    "tn = 1.0\n",
    "# Period                                                                                                 \n",
    "t = np.linspace(t0, tn, n, endpoint=False)\n",
    "SqrSignal = np.zeros(n)\n",
    "SqrSignal = 1.0+signal.square(2*np.pi*5*t)\n",
    "plt.plot(t, SqrSignal)\n",
    "plt.ylim(-0.5, 2.5)\n",
    "plt.show()"
   ]
  },
  {
   "cell_type": "markdown",
   "id": "1e566ea8",
   "metadata": {},
   "source": [
    "For the sinusoidal example studied in the previous week the\n",
    "period is $\\tau=2\\pi/\\omega$. However, higher harmonics can also\n",
    "satisfy the periodicity requirement. In general, any force that\n",
    "satisfies the periodicity requirement can be expressed as a sum over\n",
    "harmonics,"
   ]
  },
  {
   "cell_type": "markdown",
   "id": "b8eb314a",
   "metadata": {},
   "source": [
    "<!-- Equation labels as ordinary links -->\n",
    "<div id=\"_auto14\"></div>\n",
    "\n",
    "$$\n",
    "\\begin{equation}\n",
    "F(t)=\\frac{f_0}{2}+\\sum_{n>0} f_n\\cos(2n\\pi t/\\tau)+g_n\\sin(2n\\pi t/\\tau).\n",
    "\\label{_auto14} \\tag{16}\n",
    "\\end{equation}\n",
    "$$"
   ]
  },
  {
   "cell_type": "markdown",
   "id": "59fda83f",
   "metadata": {},
   "source": [
    "We can write down the answer for\n",
    "$x_{pn}(t)$, by substituting $f_n/m$ or $g_n/m$ for $F_0/m$. By\n",
    "writing each factor $2n\\pi t/\\tau$ as $n\\omega t$, with $\\omega\\equiv\n",
    "2\\pi/\\tau$,"
   ]
  },
  {
   "cell_type": "markdown",
   "id": "190e461e",
   "metadata": {},
   "source": [
    "<!-- Equation labels as ordinary links -->\n",
    "<div id=\"eq:fourierdef1\"></div>\n",
    "\n",
    "$$\n",
    "\\begin{equation}\n",
    "\\label{eq:fourierdef1} \\tag{17}\n",
    "F(t)=\\frac{f_0}{2}+\\sum_{n>0}f_n\\cos(n\\omega t)+g_n\\sin(n\\omega t).\n",
    "\\end{equation}\n",
    "$$"
   ]
  },
  {
   "cell_type": "markdown",
   "id": "3d5679e2",
   "metadata": {},
   "source": [
    "The solutions for $x(t)$ then come from replacing $\\omega$ with\n",
    "$n\\omega$ for each term in the particular solution,"
   ]
  },
  {
   "cell_type": "markdown",
   "id": "c824af12",
   "metadata": {},
   "source": [
    "$$\n",
    "\\begin{eqnarray}\n",
    "x_p(t)&=&\\frac{f_0}{2k}+\\sum_{n>0} \\alpha_n\\cos(n\\omega t-\\delta_n)+\\beta_n\\sin(n\\omega t-\\delta_n),\\\\\n",
    "\\nonumber\n",
    "\\alpha_n&=&\\frac{f_n/m}{\\sqrt{((n\\omega)^2-\\omega_0^2)+4\\beta^2n^2\\omega^2}},\\\\\n",
    "\\nonumber\n",
    "\\beta_n&=&\\frac{g_n/m}{\\sqrt{((n\\omega)^2-\\omega_0^2)+4\\beta^2n^2\\omega^2}},\\\\\n",
    "\\nonumber\n",
    "\\delta_n&=&\\tan^{-1}\\left(\\frac{2\\beta n\\omega}{\\omega_0^2-n^2\\omega^2}\\right).\n",
    "\\end{eqnarray}\n",
    "$$"
   ]
  },
  {
   "cell_type": "markdown",
   "id": "d322a17b",
   "metadata": {},
   "source": [
    "Because the forces have been applied for a long time, any non-zero\n",
    "damping eliminates the homogenous parts of the solution, so one need\n",
    "only consider the particular solution for each $n$.\n",
    "\n",
    "The problem will considered solved if one can find expressions for the\n",
    "coefficients $f_n$ and $g_n$, even though the solutions are expressed\n",
    "as an infinite sum. The coefficients can be extracted from the\n",
    "function $F(t)$ by"
   ]
  },
  {
   "cell_type": "markdown",
   "id": "90c059d9",
   "metadata": {},
   "source": [
    "<!-- Equation labels as ordinary links -->\n",
    "<div id=\"eq:fourierdef2\"></div>\n",
    "\n",
    "$$\n",
    "\\begin{eqnarray}\n",
    "\\label{eq:fourierdef2} \\tag{18}\n",
    "f_n&=&\\frac{2}{\\tau}\\int_{-\\tau/2}^{\\tau/2} dt~F(t)\\cos(2n\\pi t/\\tau),\\\\\n",
    "\\nonumber\n",
    "g_n&=&\\frac{2}{\\tau}\\int_{-\\tau/2}^{\\tau/2} dt~F(t)\\sin(2n\\pi t/\\tau).\n",
    "\\end{eqnarray}\n",
    "$$"
   ]
  },
  {
   "cell_type": "markdown",
   "id": "8f0b07d8",
   "metadata": {},
   "source": [
    "To check the consistency of these expressions and to verify\n",
    "Eq. ([18](#eq:fourierdef2)), one can insert the expansion of $F(t)$ in\n",
    "Eq. ([17](#eq:fourierdef1)) into the expression for the coefficients in\n",
    "Eq. ([18](#eq:fourierdef2)) and see whether"
   ]
  },
  {
   "cell_type": "markdown",
   "id": "fc6328d3",
   "metadata": {},
   "source": [
    "$$\n",
    "\\begin{eqnarray}\n",
    "f_n&=?&\\frac{2}{\\tau}\\int_{-\\tau/2}^{\\tau/2} dt~\\left\\{\n",
    "\\frac{f_0}{2}+\\sum_{m>0}f_m\\cos(m\\omega t)+g_m\\sin(m\\omega t)\n",
    "\\right\\}\\cos(n\\omega t).\n",
    "\\end{eqnarray}\n",
    "$$"
   ]
  },
  {
   "cell_type": "markdown",
   "id": "d470f5c3",
   "metadata": {},
   "source": [
    "Immediately, one can throw away all the terms with $g_m$ because they\n",
    "convolute an even and an odd function. The term with $f_0/2$\n",
    "disappears because $\\cos(n\\omega t)$ is equally positive and negative\n",
    "over the interval and will integrate to zero. For all the terms\n",
    "$f_m\\cos(m\\omega t)$ appearing in the sum, one can use angle addition\n",
    "formulas to see that $\\cos(m\\omega t)\\cos(n\\omega\n",
    "t)=(1/2)(\\cos[(m+n)\\omega t]+\\cos[(m-n)\\omega t]$. This will integrate\n",
    "to zero unless $m=n$. In that case the $m=n$ term gives"
   ]
  },
  {
   "cell_type": "markdown",
   "id": "7f799119",
   "metadata": {},
   "source": [
    "<!-- Equation labels as ordinary links -->\n",
    "<div id=\"_auto15\"></div>\n",
    "\n",
    "$$\n",
    "\\begin{equation}\n",
    "\\int_{-\\tau/2}^{\\tau/2}dt~\\cos^2(m\\omega t)=\\frac{\\tau}{2},\n",
    "\\label{_auto15} \\tag{19}\n",
    "\\end{equation}\n",
    "$$"
   ]
  },
  {
   "cell_type": "markdown",
   "id": "18dc2a05",
   "metadata": {},
   "source": [
    "and"
   ]
  },
  {
   "cell_type": "markdown",
   "id": "b8417480",
   "metadata": {},
   "source": [
    "$$\n",
    "\\begin{eqnarray}\n",
    "f_n&=?&\\frac{2}{\\tau}\\int_{-\\tau/2}^{\\tau/2} dt~f_n/2\\\\\n",
    "\\nonumber\n",
    "&=&f_n~\\checkmark.\n",
    "\\end{eqnarray}\n",
    "$$"
   ]
  },
  {
   "cell_type": "markdown",
   "id": "be91157e",
   "metadata": {},
   "source": [
    "The same method can be used to check for the consistency of $g_n$.\n",
    "\n",
    "Consider the driving force:"
   ]
  },
  {
   "cell_type": "markdown",
   "id": "bb7455b7",
   "metadata": {},
   "source": [
    "<!-- Equation labels as ordinary links -->\n",
    "<div id=\"_auto16\"></div>\n",
    "\n",
    "$$\n",
    "\\begin{equation}\n",
    "F(t)=At/\\tau,~~-\\tau/2<t<\\tau/2,~~~F(t+\\tau)=F(t).\n",
    "\\label{_auto16} \\tag{20}\n",
    "\\end{equation}\n",
    "$$"
   ]
  },
  {
   "cell_type": "markdown",
   "id": "9de24188",
   "metadata": {},
   "source": [
    "Find the Fourier coefficients $f_n$ and $g_n$ for all $n$ using Eq. ([18](#eq:fourierdef2)).\n",
    "\n",
    "Only the odd coefficients enter by symmetry, i.e. $f_n=0$. One can find $g_n$ integrating by parts,"
   ]
  },
  {
   "cell_type": "markdown",
   "id": "1eebf39b",
   "metadata": {},
   "source": [
    "<!-- Equation labels as ordinary links -->\n",
    "<div id=\"eq:fouriersolution\"></div>\n",
    "\n",
    "$$\n",
    "\\begin{eqnarray}\n",
    "\\label{eq:fouriersolution} \\tag{21}\n",
    "g_n&=&\\frac{2}{\\tau}\\int_{-\\tau/2}^{\\tau/2}dt~\\sin(n\\omega t) \\frac{At}{\\tau}\\\\\n",
    "\\nonumber\n",
    "u&=&t,~dv=\\sin(n\\omega t)dt,~v=-\\cos(n\\omega t)/(n\\omega),\\\\\n",
    "\\nonumber\n",
    "g_n&=&\\frac{-2A}{n\\omega \\tau^2}\\int_{-\\tau/2}^{\\tau/2}dt~\\cos(n\\omega t)\n",
    "+\\left.2A\\frac{-t\\cos(n\\omega t)}{n\\omega\\tau^2}\\right|_{-\\tau/2}^{\\tau/2}.\n",
    "\\end{eqnarray}\n",
    "$$"
   ]
  },
  {
   "cell_type": "markdown",
   "id": "0271214d",
   "metadata": {},
   "source": [
    "The first term is zero because $\\cos(n\\omega t)$ will be equally\n",
    "positive and negative over the interval. Using the fact that\n",
    "$\\omega\\tau=2\\pi$,"
   ]
  },
  {
   "cell_type": "markdown",
   "id": "4411ad1e",
   "metadata": {},
   "source": [
    "$$\n",
    "\\begin{eqnarray}\n",
    "g_n&=&-\\frac{2A}{2n\\pi}\\cos(n\\omega\\tau/2)\\\\\n",
    "\\nonumber\n",
    "&=&-\\frac{A}{n\\pi}\\cos(n\\pi)\\\\\n",
    "\\nonumber\n",
    "&=&\\frac{A}{n\\pi}(-1)^{n+1}.\n",
    "\\end{eqnarray}\n",
    "$$"
   ]
  },
  {
   "cell_type": "markdown",
   "id": "751e0714",
   "metadata": {},
   "source": [
    "## Fourier Series\n",
    "\n",
    "More text will come here, chpater 5.7-5.8 of Taylor are discussed\n",
    "during the lectures. The code here uses the Fourier series discussed\n",
    "in chapter 5.7 for a square wave signal. The equations for the\n",
    "coefficients are are discussed in Taylor section 5.7, see Example\n",
    "5.4. The code here visualizes the various approximations given by\n",
    "Fourier series compared with a square wave with period $T=0.2$, witth\n",
    "$0.1$ and max value $F=2$. We see that when we increase the number of\n",
    "components in the Fourier series, the Fourier series approximation gets closes and closes to the square wave signal."
   ]
  },
  {
   "cell_type": "code",
   "execution_count": 2,
   "id": "226028f7",
   "metadata": {},
   "outputs": [
    {
     "data": {
      "image/png": "[encoded data removed]",
      "text/plain": [
       "<Figure size 432x288 with 1 Axes>"
      ]
     },
     "metadata": {
      "needs_background": "light"
     },
     "output_type": "display_data"
    }
   ],
   "source": [
    "import numpy as np\n",
    "import math\n",
    "from scipy import signal\n",
    "import matplotlib.pyplot as plt\n",
    "\n",
    "# number of points                                                                                       \n",
    "n = 500\n",
    "# start and final times                                                                                  \n",
    "t0 = 0.0\n",
    "tn = 1.0\n",
    "# Period                                                                                                 \n",
    "T =0.2\n",
    "# Max value of square signal                                                                             \n",
    "Fmax= 2.0\n",
    "# Width of signal                                                                                        \n",
    "Width = 0.1\n",
    "t = np.linspace(t0, tn, n, endpoint=False)\n",
    "SqrSignal = np.zeros(n)\n",
    "FourierSeriesSignal = np.zeros(n)\n",
    "SqrSignal = 1.0+signal.square(2*np.pi*5*t+np.pi*Width/T)\n",
    "a0 = Fmax*Width/T\n",
    "FourierSeriesSignal = a0\n",
    "Factor = 2.0*Fmax/np.pi\n",
    "for i in range(1,500):\n",
    "    FourierSeriesSignal += Factor/(i)*np.sin(np.pi*i*Width/T)*np.cos(i*t*2*np.pi/T)\n",
    "plt.plot(t, SqrSignal)\n",
    "plt.plot(t, FourierSeriesSignal)\n",
    "plt.ylim(-0.5, 2.5)\n",
    "plt.show()"
   ]
  },
  {
   "cell_type": "markdown",
   "id": "e384ffc2",
   "metadata": {},
   "source": [
    "## Response to Transient Force\n",
    "\n",
    "Consider a particle at rest in the bottom of an underdamped harmonic\n",
    "oscillator, that then feels a sudden impulse, or change in momentum,\n",
    "$I=F\\Delta t$ at $t=0$. This increases the velocity immediately by an\n",
    "amount $v_0=I/m$ while not changing the position. One can then solve\n",
    "the trajectory by solving the equations with initial\n",
    "conditions $v_0=I/m$ and $x_0=0$. This gives"
   ]
  },
  {
   "cell_type": "markdown",
   "id": "80968057",
   "metadata": {},
   "source": [
    "<!-- Equation labels as ordinary links -->\n",
    "<div id=\"_auto17\"></div>\n",
    "\n",
    "$$\n",
    "\\begin{equation}\n",
    "x(t)=\\frac{I}{m\\omega'}e^{-\\beta t}\\sin\\omega't, ~~t>0.\n",
    "\\label{_auto17} \\tag{22}\n",
    "\\end{equation}\n",
    "$$"
   ]
  },
  {
   "cell_type": "markdown",
   "id": "20dac801",
   "metadata": {},
   "source": [
    "Here, $\\omega'=\\sqrt{\\omega_0^2-\\beta^2}$. For an impulse $I_i$ that\n",
    "occurs at time $t_i$ the trajectory would be"
   ]
  },
  {
   "cell_type": "markdown",
   "id": "051a850e",
   "metadata": {},
   "source": [
    "<!-- Equation labels as ordinary links -->\n",
    "<div id=\"_auto18\"></div>\n",
    "\n",
    "$$\n",
    "\\begin{equation}\n",
    "x(t)=\\frac{I_i}{m\\omega'}e^{-\\beta (t-t_i)}\\sin[\\omega'(t-t_i)] \\Theta(t-t_i),\n",
    "\\label{_auto18} \\tag{23}\n",
    "\\end{equation}\n",
    "$$"
   ]
  },
  {
   "cell_type": "markdown",
   "id": "a41a06f5",
   "metadata": {},
   "source": [
    "where $\\Theta(t-t_i)$ is a step function, i.e. $\\Theta(x)$ is zero for\n",
    "$x<0$ and unity for $x>0$. If there were several impulses linear\n",
    "superposition tells us that we can sum over each contribution,"
   ]
  },
  {
   "cell_type": "markdown",
   "id": "1faa3cbd",
   "metadata": {},
   "source": [
    "<!-- Equation labels as ordinary links -->\n",
    "<div id=\"_auto19\"></div>\n",
    "\n",
    "$$\n",
    "\\begin{equation}\n",
    "x(t)=\\sum_i\\frac{I_i}{m\\omega'}e^{-\\beta(t-t_i)}\\sin[\\omega'(t-t_i)]\\Theta(t-t_i)\n",
    "\\label{_auto19} \\tag{24}\n",
    "\\end{equation}\n",
    "$$"
   ]
  },
  {
   "cell_type": "markdown",
   "id": "9c4c6722",
   "metadata": {},
   "source": [
    "Now one can consider a series of impulses at times separated by\n",
    "$\\Delta t$, where each impulse is given by $F_i\\Delta t$. The sum\n",
    "above now becomes an integral,"
   ]
  },
  {
   "cell_type": "markdown",
   "id": "b666fbca",
   "metadata": {},
   "source": [
    "<!-- Equation labels as ordinary links -->\n",
    "<div id=\"eq:Greeny\"></div>\n",
    "\n",
    "$$\n",
    "\\begin{eqnarray}\\label{eq:Greeny} \\tag{25}\n",
    "x(t)&=&\\int_{-\\infty}^\\infty dt'~F(t')\\frac{e^{-\\beta(t-t')}\\sin[\\omega'(t-t')]}{m\\omega'}\\Theta(t-t')\\\\\n",
    "\\nonumber\n",
    "&=&\\int_{-\\infty}^\\infty dt'~F(t')G(t-t'),\\\\\n",
    "\\nonumber\n",
    "G(\\Delta t)&=&\\frac{e^{-\\beta\\Delta t}\\sin[\\omega' \\Delta t]}{m\\omega'}\\Theta(\\Delta t)\n",
    "\\end{eqnarray}\n",
    "$$"
   ]
  },
  {
   "cell_type": "markdown",
   "id": "34c2f534",
   "metadata": {},
   "source": [
    "The quantity\n",
    "$e^{-\\beta(t-t')}\\sin[\\omega'(t-t')]/m\\omega'\\Theta(t-t')$ is called a\n",
    "Green's function, $G(t-t')$. It describes the response at $t$ due to a\n",
    "force applied at a time $t'$, and is a function of $t-t'$. The step\n",
    "function ensures that the response does not occur before the force is\n",
    "applied. One should remember that the form for $G$ would change if the\n",
    "oscillator were either critically- or over-damped.\n",
    "\n",
    "When performing the integral in Eq. ([25](#eq:Greeny)) one can use\n",
    "angle addition formulas to factor out the part with the $t'$\n",
    "dependence in the integrand,"
   ]
  },
  {
   "cell_type": "markdown",
   "id": "bae1f0c7",
   "metadata": {},
   "source": [
    "<!-- Equation labels as ordinary links -->\n",
    "<div id=\"eq:Greeny2\"></div>\n",
    "\n",
    "$$\n",
    "\\begin{eqnarray}\n",
    "\\label{eq:Greeny2} \\tag{26}\n",
    "x(t)&=&\\frac{1}{m\\omega'}e^{-\\beta t}\\left[I_c(t)\\sin(\\omega't)-I_s(t)\\cos(\\omega't)\\right],\\\\\n",
    "\\nonumber\n",
    "I_c(t)&\\equiv&\\int_{-\\infty}^t dt'~F(t')e^{\\beta t'}\\cos(\\omega't'),\\\\\n",
    "\\nonumber\n",
    "I_s(t)&\\equiv&\\int_{-\\infty}^t dt'~F(t')e^{\\beta t'}\\sin(\\omega't').\n",
    "\\end{eqnarray}\n",
    "$$"
   ]
  },
  {
   "cell_type": "markdown",
   "id": "ac9bc714",
   "metadata": {},
   "source": [
    "If the time $t$ is beyond any time at which the force acts,\n",
    "$F(t'>t)=0$, the coefficients $I_c$ and $I_s$ become independent of\n",
    "$t$.\n",
    "\n",
    "Consider an undamped oscillator ($\\beta\\rightarrow 0$), with\n",
    "characteristic frequency $\\omega_0$ and mass $m$, that is at rest\n",
    "until it feels a force described by a Gaussian form,"
   ]
  },
  {
   "cell_type": "markdown",
   "id": "c86b487d",
   "metadata": {},
   "source": [
    "$$\n",
    "\\begin{eqnarray*}\n",
    "F(t)&=&F_0 \\exp\\left\\{\\frac{-t^2}{2\\tau^2}\\right\\}.\n",
    "\\end{eqnarray*}\n",
    "$$"
   ]
  },
  {
   "cell_type": "markdown",
   "id": "77fba9ba",
   "metadata": {},
   "source": [
    "For large times ($t>>\\tau$), where the force has died off, find\n",
    "$x(t)$.\\\\ Solve for the coefficients $I_c$ and $I_s$ in\n",
    "Eq. ([26](#eq:Greeny2)). Because the Gaussian is an even function,\n",
    "$I_s=0$, and one need only solve for $I_c$,"
   ]
  },
  {
   "cell_type": "markdown",
   "id": "2b565e1b",
   "metadata": {},
   "source": [
    "$$\n",
    "\\begin{eqnarray*}\n",
    "I_c&=&F_0\\int_{-\\infty}^\\infty dt'~e^{-t^{\\prime 2}/(2\\tau^2)}\\cos(\\omega_0 t')\\\\\n",
    "&=&\\Re F_0 \\int_{-\\infty}^\\infty dt'~e^{-t^{\\prime 2}/(2\\tau^2)}e^{i\\omega_0 t'}\\\\\n",
    "&=&\\Re F_0 \\int_{-\\infty}^\\infty dt'~e^{-(t'-i\\omega_0\\tau^2)^2/(2\\tau^2)}e^{-\\omega_0^2\\tau^2/2}\\\\\n",
    "&=&F_0\\tau \\sqrt{2\\pi} e^{-\\omega_0^2\\tau^2/2}.\n",
    "\\end{eqnarray*}\n",
    "$$"
   ]
  },
  {
   "cell_type": "markdown",
   "id": "d3109cef",
   "metadata": {},
   "source": [
    "The third step involved completing the square, and the final step used the fact that the integral"
   ]
  },
  {
   "cell_type": "markdown",
   "id": "a6a718ca",
   "metadata": {},
   "source": [
    "$$\n",
    "\\begin{eqnarray*}\n",
    "\\int_{-\\infty}^\\infty dx~e^{-x^2/2}&=&\\sqrt{2\\pi}.\n",
    "\\end{eqnarray*}\n",
    "$$"
   ]
  },
  {
   "cell_type": "markdown",
   "id": "91a1a37e",
   "metadata": {},
   "source": [
    "To see that this integral is true, consider the square of the integral, which you can change to polar coordinates,"
   ]
  },
  {
   "cell_type": "markdown",
   "id": "313c7588",
   "metadata": {},
   "source": [
    "$$\n",
    "\\begin{eqnarray*}\n",
    "I&=&\\int_{-\\infty}^\\infty dx~e^{-x^2/2}\\\\\n",
    "I^2&=&\\int_{-\\infty}^\\infty dxdy~e^{-(x^2+y^2)/2}\\\\\n",
    "&=&2\\pi\\int_0^\\infty rdr~e^{-r^2/2}\\\\\n",
    "&=&2\\pi.\n",
    "\\end{eqnarray*}\n",
    "$$"
   ]
  },
  {
   "cell_type": "markdown",
   "id": "8aa511c3",
   "metadata": {},
   "source": [
    "Finally, the expression for $x$ from Eq. ([26](#eq:Greeny2)) is"
   ]
  },
  {
   "cell_type": "markdown",
   "id": "7b40b12d",
   "metadata": {},
   "source": [
    "$$\n",
    "\\begin{eqnarray*}\n",
    "x(t>>\\tau)&=&\\frac{F_0\\tau}{m\\omega_0} \\sqrt{2\\pi} e^{-\\omega_0^2\\tau^2/2}\\sin(\\omega_0t).\n",
    "\\end{eqnarray*}\n",
    "$$"
   ]
  }
 ],
 "metadata": {
  "kernelspec": {
   "display_name": "Python 3 (ipykernel)",
   "language": "python",
   "name": "python3"
  },
  "language_info": {
   "codemirror_mode": {
    "name": "ipython",
    "version": 3
   },
   "file_extension": ".py",
   "mimetype": "text/x-python",
   "name": "python",
   "nbconvert_exporter": "python",
   "pygments_lexer": "ipython3",
   "version": "3.9.10"
  }
 },
 "nbformat": 4,
 "nbformat_minor": 5
}
