{
 "cells": [
  {
   "cell_type": "markdown",
   "id": "51be0014",
   "metadata": {
    "editable": true
   },
   "source": [
    "<!-- HTML file automatically generated from DocOnce source (https://github.com/doconce/doconce/)\n",
    "doconce format html week14.do.txt --no_mako -->\n",
    "<!-- dom:TITLE: PHY321: Two-body scattering and Variational calculus -->"
   ]
  },
  {
   "cell_type": "markdown",
   "id": "9833b5c3",
   "metadata": {
    "editable": true
   },
   "source": [
    "# PHY321: Two-body scattering and Variational calculus\n",
    "**[Morten Hjorth-Jensen](http://mhjgit.github.io/info/doc/web/)**, Department of Physics and Astronomy and Facility for Rare Ion Beams (FRIB), Michigan State University, USA and Department of Physics, University of Oslo, Norway\n",
    "\n",
    "Date: **Apr 10, 2022**\n",
    "\n",
    "Copyright 1999-2022, [Morten Hjorth-Jensen](http://mhjgit.github.io/info/doc/web/). Released under CC Attribution-NonCommercial 4.0 license"
   ]
  },
  {
   "cell_type": "markdown",
   "id": "b84bb38b",
   "metadata": {
    "editable": true
   },
   "source": [
    "## Aims and Overarching Motivation"
   ]
  },
  {
   "cell_type": "markdown",
   "id": "8e639d36",
   "metadata": {
    "editable": true
   },
   "source": [
    "### Monday April 11\n",
    "\n",
    "* Two-body scattering and [Rutherford scattering](https://www.youtube.com/watch?v=dNp-vP17asI&ab_channel=TylerDeWitt).\n",
    "\n",
    "**Reading suggestion**: Taylor sections 14.1-14.6 and Lecture notes"
   ]
  },
  {
   "cell_type": "markdown",
   "id": "6ef9b2d7",
   "metadata": {
    "editable": true
   },
   "source": [
    "### Wednesday April 13\n",
    "\n",
    "* Lagrangian formalism, top down approach first and derivation of the Euler-Lagrange equations\n",
    "\n",
    "* Principle of Least Action, watch [Feynman Lecture](https://www.feynmanlectures.caltech.edu/II_19.html).\n",
    "\n",
    "**Reading suggestion**: Taylor sections 6.1-6.3\n",
    "\n",
    "See also (to be discussed next week) [Variational Calculus](https://en.wikipedia.org/wiki/Calculus_of_variations)"
   ]
  },
  {
   "cell_type": "markdown",
   "id": "de34382a",
   "metadata": {
    "editable": true
   },
   "source": [
    "### Friday April 15\n",
    "\n",
    "Discussion and work on second midterm. Deadline second midterm."
   ]
  },
  {
   "cell_type": "markdown",
   "id": "866e079b",
   "metadata": {
    "editable": true
   },
   "source": [
    "## Scattering and Cross Sections\n",
    "\n",
    "Scattering experiments don't measure entire trajectories. For elastic\n",
    "collisions, they measure the distribution of final scattering angles\n",
    "at best. Most experiments use targets thin enough so that the number\n",
    "of scatterings is typically zero or one. The cross section, $\\sigma$,\n",
    "describes the cross-sectional area for particles to scatter with an\n",
    "individual target atom or nucleus. Cross section measurements form the\n",
    "basis for MANY fields of physics. BThe cross section, and the\n",
    "differential cross section, encapsulates everything measurable for a\n",
    "collision where all that is measured is the final state, e.g. the\n",
    "outgoing particle had momentum $\\boldsymbol{p}_f$. y studying cross sections,\n",
    "one can infer information about the potential interaction between the\n",
    "two particles. Inferring, or constraining, the potential from the\n",
    "cross section is a classic {\\it inverse} problem. Collisions are\n",
    "either elastic or inelastic. Elastic collisions are those for which\n",
    "the two bodies are in the same internal state before and after the\n",
    "collision. If the collision excites one of the participants into a\n",
    "higher state, or transforms the particles into different species, or\n",
    "creates additional particles, the collision is inelastic. Here, we\n",
    "consider only elastic collisions."
   ]
  },
  {
   "cell_type": "markdown",
   "id": "8f6cb830",
   "metadata": {
    "editable": true
   },
   "source": [
    "## Scattering: Coulomb forces\n",
    "\n",
    "For Coulomb forces, the cross section is infinite because the range of\n",
    "the Coulomb force is infinite, but for interactions such as the strong\n",
    "interaction in nuclear or particle physics, there is no long-range\n",
    "force and cross-sections are finite. Even for Coulomb forces, the part\n",
    "of the cross section that corresponds to a specific scattering angle,\n",
    "$d\\sigma/d\\Omega$, which is a function of the scattering angle\n",
    "$\\theta_s$ is still finite.\n",
    "\n",
    "If a particle travels through a thin target, the chance the particle\n",
    "scatters is $P_{\\rm scatt}=\\sigma dN/dA$, where $dN/dA$ is the number\n",
    "of scattering centers per area the particle encounters. If the density\n",
    "of the target is $\\rho$ particles per volume, and if the thickness of\n",
    "the target is $t$, the areal density (number of target scatterers per\n",
    "area) is $dN/dA=\\rho t$. Because one wishes to quantify the collisions\n",
    "independently of the target, experimentalists measure scattering\n",
    "probabilities, then divide by the areal density to obtain\n",
    "cross-sections,"
   ]
  },
  {
   "cell_type": "markdown",
   "id": "5355ec74",
   "metadata": {
    "editable": true
   },
   "source": [
    "$$\n",
    "\\begin{eqnarray}\n",
    "\\sigma=\\frac{P_{\\rm scatt}}{dN/dA}.\n",
    "\\end{eqnarray}\n",
    "$$"
   ]
  },
  {
   "cell_type": "markdown",
   "id": "f18fc993",
   "metadata": {
    "editable": true
   },
   "source": [
    "## Scattering, more details\n",
    "\n",
    "Instead of merely stating that a particle collided, one can measure\n",
    "the probability the particle scattered by a given angle. The\n",
    "scattering angle $\\theta_s$ is defined so that at zero the particle is\n",
    "unscattered and at $\\theta_s=\\pi$ the particle is scattered directly\n",
    "backward. Scattering angles are often described in the center-of-mass\n",
    "frame, but that is a detail we will neglect for this first discussion,\n",
    "where we will consider the scattering of particles moving classically\n",
    "under the influence of fixed potentials $U(\\boldsymbol{r})$. Because the\n",
    "distribution of scattering angles can be measured, one expresses the\n",
    "differential cross section,"
   ]
  },
  {
   "cell_type": "markdown",
   "id": "13aff957",
   "metadata": {
    "editable": true
   },
   "source": [
    "<!-- Equation labels as ordinary links -->\n",
    "<div id=\"_auto1\"></div>\n",
    "\n",
    "$$\n",
    "\\begin{equation}\n",
    "\\frac{d^2\\sigma}{d\\cos\\theta_s~d\\phi}.\n",
    "\\label{_auto1} \\tag{1}\n",
    "\\end{equation}\n",
    "$$"
   ]
  },
  {
   "cell_type": "markdown",
   "id": "2c384905",
   "metadata": {
    "editable": true
   },
   "source": [
    "Usually, the literature expresses differential cross sections as"
   ]
  },
  {
   "cell_type": "markdown",
   "id": "06947426",
   "metadata": {
    "editable": true
   },
   "source": [
    "<!-- Equation labels as ordinary links -->\n",
    "<div id=\"_auto2\"></div>\n",
    "\n",
    "$$\n",
    "\\begin{equation}\n",
    "d\\sigma/d\\Omega=\\frac{d\\sigma}{d\\cos\\theta d\\phi}=\\frac{1}{2\\pi}\\frac{d\\sigma}{d\\cos\\theta},\n",
    "\\label{_auto2} \\tag{2}\n",
    "\\end{equation}\n",
    "$$"
   ]
  },
  {
   "cell_type": "markdown",
   "id": "d06f5d0c",
   "metadata": {
    "editable": true
   },
   "source": [
    "where the last equivalency is true when the scattering does not depend\n",
    "on the azimuthal angle $\\phi$, as is the case for spherically\n",
    "symmetric potentials.\n",
    "\n",
    "The differential solid angle $d\\Omega$ can be thought of as the area\n",
    "subtended by a measurement, $dA_d$, divided by $r^2$, where $r$ is the\n",
    "distance to the detector,"
   ]
  },
  {
   "cell_type": "markdown",
   "id": "fc4dbb9d",
   "metadata": {
    "editable": true
   },
   "source": [
    "$$\n",
    "\\begin{eqnarray}\n",
    "dA_d=r^2 d\\Omega.\n",
    "\\end{eqnarray}\n",
    "$$"
   ]
  },
  {
   "cell_type": "markdown",
   "id": "37f30563",
   "metadata": {
    "editable": true
   },
   "source": [
    "With this definition $d\\sigma/d\\Omega$ is independent of the distance\n",
    "from which one places the detector, or the size of the detector (as\n",
    "long as it is small)."
   ]
  },
  {
   "cell_type": "markdown",
   "id": "f1e7fac2",
   "metadata": {
    "editable": true
   },
   "source": [
    "## Differential scattering cross sections\n",
    "\n",
    "Differential scattering cross sections are calculated by assuming a\n",
    "random distribution of impact parameters $b$. These represent the\n",
    "distance in the $xy$ plane for particles moving in the $z$ direction\n",
    "relative to the scattering center. An impact parameter $b=0$ refers to\n",
    "being aimed directly at the target's center. The impact parameter\n",
    "describes the transverse distance from the $z=0$ axis for the\n",
    "trajectory when it is still far away from the scattering center and\n",
    "has not yet passed it. The differential cross section can be expressed\n",
    "in terms of the impact parameter,"
   ]
  },
  {
   "cell_type": "markdown",
   "id": "b3ceeb7a",
   "metadata": {
    "editable": true
   },
   "source": [
    "<!-- Equation labels as ordinary links -->\n",
    "<div id=\"_auto3\"></div>\n",
    "\n",
    "$$\n",
    "\\begin{equation}\n",
    "d\\sigma=2\\pi bdb,\n",
    "\\label{_auto3} \\tag{3}\n",
    "\\end{equation}\n",
    "$$"
   ]
  },
  {
   "cell_type": "markdown",
   "id": "012c617e",
   "metadata": {
    "editable": true
   },
   "source": [
    "which is the area of a thin ring of radius $b$ and thickness $db$. In\n",
    "classical physics, one can calculate the trajectory given the incoming\n",
    "kinetic energy $E$ and the impact parameter if one knows the mass and\n",
    "potential."
   ]
  },
  {
   "cell_type": "markdown",
   "id": "8d10f1bb",
   "metadata": {
    "editable": true
   },
   "source": [
    "## More on Differential  Cross Sections\n",
    "\n",
    "From the trajectory, one then finds the scattering angle\n",
    "$\\theta_s(b)$. The differential cross section is then"
   ]
  },
  {
   "cell_type": "markdown",
   "id": "87002cff",
   "metadata": {
    "editable": true
   },
   "source": [
    "<!-- Equation labels as ordinary links -->\n",
    "<div id=\"_auto4\"></div>\n",
    "\n",
    "$$\n",
    "\\begin{equation}\n",
    "\\frac{d\\sigma}{d\\Omega}=\\frac{1}{2\\pi}\\frac{d\\sigma}{d\\cos\\theta_s}=b\\frac{db}{d\\cos\\theta_s}=\\frac{b}{(d/db)\\cos\\theta_s(b)}.\n",
    "\\label{_auto4} \\tag{4}\n",
    "\\end{equation}\n",
    "$$"
   ]
  },
  {
   "cell_type": "markdown",
   "id": "09991786",
   "metadata": {
    "editable": true
   },
   "source": [
    "Typically, one would calculate $\\cos\\theta_s$ and $(d/db)\\cos\\theta_s$\n",
    "as functions of $b$. This is sufficient to plot the differential cross\n",
    "section as a function of $\\theta_s$.\n",
    "\n",
    "The total cross section is"
   ]
  },
  {
   "cell_type": "markdown",
   "id": "91e1aaeb",
   "metadata": {
    "editable": true
   },
   "source": [
    "<!-- Equation labels as ordinary links -->\n",
    "<div id=\"_auto5\"></div>\n",
    "\n",
    "$$\n",
    "\\begin{equation}\n",
    "\\sigma_{\\rm tot}=\\int d\\Omega\\frac{d\\sigma}{d\\Omega}=2\\pi\\int d\\cos\\theta_s~\\frac{d\\sigma}{d\\Omega}. \n",
    "\\label{_auto5} \\tag{5}\n",
    "\\end{equation}\n",
    "$$"
   ]
  },
  {
   "cell_type": "markdown",
   "id": "bfc04548",
   "metadata": {
    "editable": true
   },
   "source": [
    "Even if the total cross section is infinite, e.g. Coulomb forces, one\n",
    "can still have a finite differential cross section as we will see\n",
    "later on."
   ]
  },
  {
   "cell_type": "markdown",
   "id": "9c11b05f",
   "metadata": {
    "editable": true
   },
   "source": [
    "## Rutherford Scattering\n",
    "\n",
    "This refers to the calculation of $d\\sigma/d\\Omega$ due to an inverse\n",
    "square force, $F_{12}=\\pm\\alpha/r^2$ for repulsive/attractive\n",
    "interaction. Rutherford compared the scattering of $\\alpha$ particles\n",
    "($^4$He nuclei) off of a nucleus and found the scattering angle at\n",
    "which the formula began to fail. This corresponded to the impact\n",
    "parameter for which the trajectories would strike the nucleus. This\n",
    "provided the first measure of the size of the atomic nucleus. At the\n",
    "time, the distribution of the positive charge (the protons) was\n",
    "considered to be just as spread out amongst the atomic volume as the\n",
    "electrons. After Rutherford's experiment, it was clear that the radius\n",
    "of the nucleus tended to be roughly 4 orders of magnitude smaller than\n",
    "that of the atom, which is less than the size of a football relative\n",
    "to Spartan Stadium."
   ]
  },
  {
   "cell_type": "markdown",
   "id": "815bf010",
   "metadata": {
    "editable": true
   },
   "source": [
    "## Rutherford Scattering, more details\n",
    "\n",
    "In order to calculate differential cross section, we must find how the\n",
    "impact parameter is related to the scattering angle. This requires\n",
    "analysis of the trajectory. We consider our previous expression for\n",
    "the trajectory where we derived the elliptic form for the trajectory,\n",
    "For that case we considered an attractive\n",
    "force with the particle's energy being negative, i.e. it was\n",
    "bound. However, the same form will work for positive energy, and\n",
    "repulsive forces can be considered by simple flipping the sign of\n",
    "$\\alpha$. For positive energies, the trajectories will be hyperbolas,\n",
    "rather than ellipses, with the asymptotes of the trajectories\n",
    "representing the directions of the incoming and outgoing\n",
    "tracks."
   ]
  },
  {
   "cell_type": "markdown",
   "id": "63738cf4",
   "metadata": {
    "editable": true
   },
   "source": [
    "## Rutherford Scattering, final trajectories\n",
    "\n",
    "We have"
   ]
  },
  {
   "cell_type": "markdown",
   "id": "b7e8263b",
   "metadata": {
    "editable": true
   },
   "source": [
    "<!-- Equation labels as ordinary links -->\n",
    "<div id=\"eq:ruthtraj\"></div>\n",
    "\n",
    "$$\n",
    "\\begin{equation}\\label{eq:ruthtraj} \\tag{6}\n",
    "r=\\frac{1}{\\frac{m\\alpha}{L^2}+A\\cos\\theta}.\n",
    "\\end{equation}\n",
    "$$"
   ]
  },
  {
   "cell_type": "markdown",
   "id": "0a5b4d49",
   "metadata": {
    "editable": true
   },
   "source": [
    "Once $A$ is large enough, which will happen when the energy is\n",
    "positive, the denominator will become negative for a range of\n",
    "$\\theta$. This is because the scattered particle will never reach\n",
    "certain angles. The asymptotic angles $\\theta'$ are those for which\n",
    "the denominator goes to zero,"
   ]
  },
  {
   "cell_type": "markdown",
   "id": "d63ea5c0",
   "metadata": {
    "editable": true
   },
   "source": [
    "<!-- Equation labels as ordinary links -->\n",
    "<div id=\"_auto6\"></div>\n",
    "\n",
    "$$\n",
    "\\begin{equation}\n",
    "\\cos\\theta'=-\\frac{m\\alpha}{AL^2}.\n",
    "\\label{_auto6} \\tag{7}\n",
    "\\end{equation}\n",
    "$$"
   ]
  },
  {
   "cell_type": "markdown",
   "id": "a484171f",
   "metadata": {
    "editable": true
   },
   "source": [
    "## Rutherford Scattering, Closest Approach\n",
    "\n",
    "The trajectory's point of closest approach is at $\\theta=0$ and the\n",
    "two angles $\\theta'$, which have this value of $\\cos\\theta'$, are the\n",
    "angles of the incoming and outgoing particles. From\n",
    "Fig (**to come**), one can see that the scattering angle\n",
    "$\\theta_s$ is given by,"
   ]
  },
  {
   "cell_type": "markdown",
   "id": "dc92ab4c",
   "metadata": {
    "editable": true
   },
   "source": [
    "<!-- Equation labels as ordinary links -->\n",
    "<div id=\"eq:sthetover2\"></div>\n",
    "\n",
    "$$\n",
    "\\begin{eqnarray}\n",
    "\\label{eq:sthetover2} \\tag{8}\n",
    "2\\theta'-\\pi&=&\\theta_s,~~~\\theta'=\\frac{\\pi}{2}+\\frac{\\theta_s}{2},\\\\\n",
    "\\nonumber\n",
    "\\sin(\\theta_s/2)&=&-\\cos\\theta'\\\\\n",
    "\\nonumber\n",
    "&=&\\frac{m\\alpha}{AL^2}.\n",
    "\\end{eqnarray}\n",
    "$$"
   ]
  },
  {
   "cell_type": "markdown",
   "id": "c0d0775b",
   "metadata": {
    "editable": true
   },
   "source": [
    "Now that we have $\\theta_s$ in terms of $m,\\alpha,L$ and $A$, we wish\n",
    "to re-express $L$ and $A$ in terms of the impact parameter $b$ and the\n",
    "energy $E$. This will set us up to calculate the differential cross\n",
    "section, which requires knowing $db/d\\theta_s$. It is easy to write\n",
    "the angular momentum as"
   ]
  },
  {
   "cell_type": "markdown",
   "id": "0246163b",
   "metadata": {
    "editable": true
   },
   "source": [
    "<!-- Equation labels as ordinary links -->\n",
    "<div id=\"_auto7\"></div>\n",
    "\n",
    "$$\n",
    "\\begin{equation}\n",
    "L^2=p_0^2b^2=2mEb^2.\n",
    "\\label{_auto7} \\tag{9}\n",
    "\\end{equation}\n",
    "$$"
   ]
  },
  {
   "cell_type": "markdown",
   "id": "badf2b3a",
   "metadata": {
    "editable": true
   },
   "source": [
    "## Rutherford Scattering, getting there\n",
    "\n",
    "Finding $A$ is more complicated. To accomplish this we realize that\n",
    "the point of closest approach occurs at $\\theta=0$, so from\n",
    "Eq. ([6](#eq:ruthtraj))"
   ]
  },
  {
   "cell_type": "markdown",
   "id": "0c659444",
   "metadata": {
    "editable": true
   },
   "source": [
    "<!-- Equation labels as ordinary links -->\n",
    "<div id=\"eq:rminofA\"></div>\n",
    "\n",
    "$$\n",
    "\\begin{eqnarray}\n",
    "\\label{eq:rminofA} \\tag{10}\n",
    "\\frac{1}{r_{\\rm min}}&=&\\frac{m\\alpha}{L^2}+A,\\\\\n",
    "\\nonumber\n",
    "A&=&\\frac{1}{r_{\\rm min}}-\\frac{m\\alpha}{L^2}.\n",
    "\\end{eqnarray}\n",
    "$$"
   ]
  },
  {
   "cell_type": "markdown",
   "id": "fdc2b489",
   "metadata": {
    "editable": true
   },
   "source": [
    "Next, $r_{\\rm min}$ can be found in terms of the energy because at the\n",
    "point of closest approach the kinetic energy is due purely to the\n",
    "motion perpendicular to $\\hat{r}$ and"
   ]
  },
  {
   "cell_type": "markdown",
   "id": "2510e2e3",
   "metadata": {
    "editable": true
   },
   "source": [
    "<!-- Equation labels as ordinary links -->\n",
    "<div id=\"_auto8\"></div>\n",
    "\n",
    "$$\n",
    "\\begin{equation}\n",
    "E=-\\frac{\\alpha}{r_{\\rm min}}+\\frac{L^2}{2mr_{\\rm min}^2}.\n",
    "\\label{_auto8} \\tag{11}\n",
    "\\end{equation}\n",
    "$$"
   ]
  },
  {
   "cell_type": "markdown",
   "id": "7f3a098d",
   "metadata": {
    "editable": true
   },
   "source": [
    "## Rutherford Scattering, More Manipulations\n",
    "\n",
    "One can solve the quadratic equation for $1/r_{\\rm min}$,"
   ]
  },
  {
   "cell_type": "markdown",
   "id": "e1375717",
   "metadata": {
    "editable": true
   },
   "source": [
    "<!-- Equation labels as ordinary links -->\n",
    "<div id=\"_auto9\"></div>\n",
    "\n",
    "$$\n",
    "\\begin{equation}\n",
    "\\frac{1}{r_{\\rm min}}=\\frac{m\\alpha}{L^2}+\\sqrt{(m\\alpha/L^2)^2+2mE/L^2}.\n",
    "\\label{_auto9} \\tag{12}\n",
    "\\end{equation}\n",
    "$$"
   ]
  },
  {
   "cell_type": "markdown",
   "id": "e78452df",
   "metadata": {
    "editable": true
   },
   "source": [
    "We can plug the expression for $r_{\\rm min}$ into the expression for $A$, Eq. ([10](#eq:rminofA)),"
   ]
  },
  {
   "cell_type": "markdown",
   "id": "cd3f2be9",
   "metadata": {
    "editable": true
   },
   "source": [
    "<!-- Equation labels as ordinary links -->\n",
    "<div id=\"_auto10\"></div>\n",
    "\n",
    "$$\n",
    "\\begin{equation}\n",
    "A=\\sqrt{(m\\alpha/L^2)^2+2mE/L^2}=\\sqrt{(\\alpha^2/(4E^2b^4)+1/b^2}\n",
    "\\label{_auto10} \\tag{13}\n",
    "\\end{equation}\n",
    "$$"
   ]
  },
  {
   "cell_type": "markdown",
   "id": "265176f4",
   "metadata": {
    "editable": true
   },
   "source": [
    "## Rutherford Scattering, final expression\n",
    "\n",
    "Finally, we insert the expression for $A$ into that for the scattering angle, Eq. ([8](#eq:sthetover2)),"
   ]
  },
  {
   "cell_type": "markdown",
   "id": "65101656",
   "metadata": {
    "editable": true
   },
   "source": [
    "<!-- Equation labels as ordinary links -->\n",
    "<div id=\"eq:scattangle\"></div>\n",
    "\n",
    "$$\n",
    "\\begin{eqnarray}\n",
    "\\label{eq:scattangle} \\tag{14}\n",
    "\\sin(\\theta_s/2)&=&\\frac{m\\alpha}{AL^2}\\\\\n",
    "\\nonumber\n",
    "&=&\\frac{a}{\\sqrt{a^2+b^2}}, ~~a\\equiv \\frac{\\alpha}{2E}\n",
    "\\end{eqnarray}\n",
    "$$"
   ]
  },
  {
   "cell_type": "markdown",
   "id": "2ea444e5",
   "metadata": {
    "editable": true
   },
   "source": [
    "## Rutherford Scattering, the Differential Cross Section\n",
    "\n",
    "The differential cross section can now be found by differentiating the\n",
    "expression for $\\theta_s$ with $b$,"
   ]
  },
  {
   "cell_type": "markdown",
   "id": "b258c569",
   "metadata": {
    "editable": true
   },
   "source": [
    "<!-- Equation labels as ordinary links -->\n",
    "<div id=\"eq:rutherford\"></div>\n",
    "\n",
    "$$\n",
    "\\begin{eqnarray}\n",
    "\\label{eq:rutherford} \\tag{15}\n",
    "\\frac{1}{2}\\cos(\\theta_s/2)d\\theta_s&=&\\frac{ab~db}{(a^2+b^2)^{3/2}}=\\frac{bdb}{a^2}\\sin^3(\\theta_s/2),\\\\\n",
    "\\nonumber\n",
    "d\\sigma&=&2\\pi bdb=\\frac{\\pi a^2}{\\sin^3(\\theta_s/2)}\\cos(\\theta_s/2)d\\theta_s\\\\\n",
    "\\nonumber\n",
    "&=&\\frac{\\pi a^2}{2\\sin^4(\\theta_s/2)}\\sin\\theta_s d\\theta_s\\\\\n",
    "\\nonumber\n",
    "\\frac{d\\sigma}{d\\cos\\theta_s}&=&\\frac{\\pi a^2}{2\\sin^4(\\theta_s/2)},\\\\\n",
    "\\nonumber\n",
    "\\frac{d\\sigma}{d\\Omega}&=&\\frac{a^2}{4\\sin^4(\\theta_s/2)}.\n",
    "\\end{eqnarray}\n",
    "$$"
   ]
  },
  {
   "cell_type": "markdown",
   "id": "806997f2",
   "metadata": {
    "editable": true
   },
   "source": [
    "where $a= \\alpha/2E$. This the Rutherford formula for the differential\n",
    "cross section. It diverges as $\\theta_s\\rightarrow 0$ because\n",
    "scatterings with arbitrarily large impact parameters still scatter to\n",
    "arbitrarily small scattering angles. The expression for\n",
    "$d\\sigma/d\\Omega$ is the same whether the interaction is positive or\n",
    "negative."
   ]
  },
  {
   "cell_type": "markdown",
   "id": "7e70c00a",
   "metadata": {
    "editable": true
   },
   "source": [
    "## Rutherford Scattering, Example\n",
    "\n",
    "Consider a particle of mass $m$ and charge $z$ with kinetic energy $E$\n",
    "(Let it be the center-of-mass energy) incident on a heavy nucleus of\n",
    "mass $M$ and charge $Z$ and radius $R$. We want to find the angle at which the\n",
    "Rutherford scattering formula breaks down.\n",
    "\n",
    "Let $\\alpha=Zze^2/(4\\pi\\epsilon_0)$. The scattering angle in Eq. ([14](#eq:scattangle)) is"
   ]
  },
  {
   "cell_type": "markdown",
   "id": "9204078f",
   "metadata": {
    "editable": true
   },
   "source": [
    "$$\n",
    "\\sin(\\theta_s/2)=\\frac{a}{\\sqrt{a^2+b^2}}, ~~a\\equiv \\frac{\\alpha}{2E}.\n",
    "$$"
   ]
  },
  {
   "cell_type": "markdown",
   "id": "3b72b90e",
   "metadata": {
    "editable": true
   },
   "source": [
    "The impact parameter $b$ for which the point of closest approach\n",
    "equals $R$ can be found by using angular momentum conservation,"
   ]
  },
  {
   "cell_type": "markdown",
   "id": "6d1b352a",
   "metadata": {
    "editable": true
   },
   "source": [
    "$$\n",
    "\\begin{eqnarray*}\n",
    "p_0b&=&b\\sqrt{2mE}=Rp_f=R\\sqrt{2m(E-\\alpha/R)},\\\\\n",
    "b&=&R\\frac{\\sqrt{2m(E-\\alpha/R)}}{\\sqrt{2mE}}\\\\\n",
    "&=&R\\sqrt{1-\\frac{\\alpha}{ER}}.\n",
    "\\end{eqnarray*}\n",
    "$$"
   ]
  },
  {
   "cell_type": "markdown",
   "id": "9e83edd2",
   "metadata": {
    "editable": true
   },
   "source": [
    "## Rutherford Scattering, Example, wrapping up\n",
    "\n",
    "Putting these together"
   ]
  },
  {
   "cell_type": "markdown",
   "id": "49a9ddc2",
   "metadata": {
    "editable": true
   },
   "source": [
    "$$\n",
    "\\theta_s=2\\sin^{-1}\\left\\{\n",
    "\\frac{a}{\\sqrt{a^2+R^2(1-\\alpha/(RE))}}\n",
    "\\right\\},~~~a=\\frac{\\alpha}{2E}.\n",
    "$$"
   ]
  },
  {
   "cell_type": "markdown",
   "id": "3452c732",
   "metadata": {
    "editable": true
   },
   "source": [
    "It was from this departure of the experimentally measured\n",
    "$d\\sigma/d\\Omega$ from the Rutherford formula that allowed Rutherford\n",
    "to infer the radius of the gold nucleus, $R$."
   ]
  },
  {
   "cell_type": "markdown",
   "id": "a6b93eac",
   "metadata": {
    "editable": true
   },
   "source": [
    "## Variational Calculus\n",
    "\n",
    "The calculus of variations involves \n",
    "problems where the quantity to be minimized or maximized is an integral. \n",
    "\n",
    "The usual minimization problem one faces involves taking a function\n",
    "${\\cal L}(x)$, then finding the single value $x$ for which ${\\cal L}$\n",
    "is either a maximum or minimum. In multivariate calculus one also\n",
    "learns to solve problems where you minimize for multiple variables,\n",
    "${\\cal L}(x_1,x_2,\\cdots x_n)$, and finding the points $(x_1\\cdots\n",
    "y_n)$ in an $n$-dimensional space that maximize or minimize the\n",
    "function. Here, we consider what seems to be a much more ambitious\n",
    "problem. Imagine you have a function ${\\cal L}(x(t),\\dot{x}(t),t)$,\n",
    "and you wish to find the extrema for an infinite number of values of\n",
    "$x$, i.e. $x$ at each point $t$. The function ${\\cal L}$ will not only\n",
    "depend on $x$ at each point $t$, but also on the slope at each point,\n",
    "plus an additional dependence on $t$. Note we are NOT finding an\n",
    "optimum value of $t$, we are finding the set of optimum values of $x$\n",
    "at each point $t$, or equivalently, finding the function $x(t)$."
   ]
  },
  {
   "cell_type": "markdown",
   "id": "6d59c72e",
   "metadata": {
    "editable": true
   },
   "source": [
    "## Variational Calculus, introducing the action\n",
    "\n",
    "One treats the function $x(t)$ as being unknown while minimizing the action"
   ]
  },
  {
   "cell_type": "markdown",
   "id": "3d83976d",
   "metadata": {
    "editable": true
   },
   "source": [
    "$$\n",
    "S=\\int_{t_1}^{t_2}dt~{\\cal L}(x(t),\\dot{x}(t),t).\n",
    "$$"
   ]
  },
  {
   "cell_type": "markdown",
   "id": "c823f83e",
   "metadata": {
    "editable": true
   },
   "source": [
    "Thus, we are minimizing $S$ with respect to an infinite number of\n",
    "values of $x(t_i)$ at points $t_i$. As an additional criteria, we will\n",
    "assume that $x(t_1)$ and $x(t_2)$ are fixed, and that that we will\n",
    "only consider variations of $x$ between the boundaries. The dependence\n",
    "on the derivative, $\\dot{x}=dx/dt$, is crucial because otherwise the\n",
    "solution would involve simply finding the one value of $x$ that\n",
    "minimized ${\\cal L}$, and $x(t)$ would equal a constant if there were no\n",
    "explicit $t$ dependence. Furthermore, $x$ wouldn't need to be\n",
    "continuous at the boundary."
   ]
  },
  {
   "cell_type": "markdown",
   "id": "96678153",
   "metadata": {
    "editable": true
   },
   "source": [
    "## Variational Calculus, general Action\n",
    "\n",
    "In the general case we have an integral of the type"
   ]
  },
  {
   "cell_type": "markdown",
   "id": "096158ff",
   "metadata": {
    "editable": true
   },
   "source": [
    "$$\n",
    "S[q]= \\int_{t_1}^{t_2} {\\cal L}(q(t),\\dot{q}(t),t)dt,\n",
    "$$"
   ]
  },
  {
   "cell_type": "markdown",
   "id": "aa932a74",
   "metadata": {
    "editable": true
   },
   "source": [
    "where $S$ is the quantity which is sought minimized or maximized.  The\n",
    "problem is that although ${\\cal L}$  is a function of the general variables\n",
    "$q(t),\\dot{q}(t),t$ (note our change of variables), the exact dependence of $q$ on $t$ is not known.\n",
    "This means again that even though the integral has fixed limits $t_1$\n",
    "and $t_2$, the path of integration is not known. In our case the unknown\n",
    "quantities are the positions and general velocities of a given number\n",
    "of objects and we wish to choose an integration path which makes the\n",
    "functional $S[q]$ stationary. This means that we want to find minima,\n",
    "or maxima or saddle points. In physics we search normally for minima.\n",
    "Our task is therefore to find the minimum of $S[q]$ so that its\n",
    "variation $\\delta S$ is zero subject to specific constraints.  The\n",
    "constraints can be treated via the technique of Lagrangian multipliers\n",
    "as we will see below."
   ]
  },
  {
   "cell_type": "markdown",
   "id": "9be2cf91",
   "metadata": {
    "editable": true
   },
   "source": [
    "## Variational Calculus, Optimal Path\n",
    "\n",
    "We assume the existence of an optimum path, that is a path for which\n",
    "$S[q]$ is stationary. There are infinitely many such paths.  The\n",
    "difference between two paths $\\delta q$ is called the variation of\n",
    "$q$.\n",
    "\n",
    "We call the variation $\\eta(t)$ and it is scaled by a factor $\\alpha$.\n",
    "The function $\\eta(t)$ is arbitrary except for"
   ]
  },
  {
   "cell_type": "markdown",
   "id": "ca974618",
   "metadata": {
    "editable": true
   },
   "source": [
    "$$\n",
    "\\eta(t_1)=\\eta(t_2)=0,\n",
    "$$"
   ]
  },
  {
   "cell_type": "markdown",
   "id": "bea71aa8",
   "metadata": {
    "editable": true
   },
   "source": [
    "and we assume that we can model the change in $q$ as"
   ]
  },
  {
   "cell_type": "markdown",
   "id": "e9a9ed03",
   "metadata": {
    "editable": true
   },
   "source": [
    "$$\n",
    "q(t,\\alpha) = q(t)+\\alpha\\eta(t),\n",
    "$$"
   ]
  },
  {
   "cell_type": "markdown",
   "id": "199d0d3e",
   "metadata": {
    "editable": true
   },
   "source": [
    "and"
   ]
  },
  {
   "cell_type": "markdown",
   "id": "8972203b",
   "metadata": {
    "editable": true
   },
   "source": [
    "$$\n",
    "\\delta q = q(t,\\alpha) -q(t,0)=\\alpha\\eta(t).\n",
    "$$"
   ]
  },
  {
   "cell_type": "markdown",
   "id": "9c1168c7",
   "metadata": {
    "editable": true
   },
   "source": [
    "## Variational Calculus, Condition for an Extreme Value\n",
    "\n",
    "We choose $q(t,\\alpha=0)$ as the unkonwn path  that will minimize $S$.  The value\n",
    "$q(t,\\alpha\\ne 0)$  describes a neighbouring path.\n",
    "\n",
    "We have"
   ]
  },
  {
   "cell_type": "markdown",
   "id": "48fbb62e",
   "metadata": {
    "editable": true
   },
   "source": [
    "$$\n",
    "S[q(\\alpha)]= \\int_{t_1}^{t_2} {\\cal L}(q(t,\\alpha),\\dot{q}(t,\\alpha),t)dt.\n",
    "$$"
   ]
  },
  {
   "cell_type": "markdown",
   "id": "562e0b75",
   "metadata": {
    "editable": true
   },
   "source": [
    "The condition for an extreme of"
   ]
  },
  {
   "cell_type": "markdown",
   "id": "fea61426",
   "metadata": {
    "editable": true
   },
   "source": [
    "$$\n",
    "S[q(\\alpha)]= \\int_{t_1}^{t_2} {\\cal L}(q(t,\\alpha),\\dot{q}(t,\\alpha),t)dt,\n",
    "$$"
   ]
  },
  {
   "cell_type": "markdown",
   "id": "5ccab081",
   "metadata": {
    "editable": true
   },
   "source": [
    "$$\n",
    "\\left[\\frac{\\partial  S[q(\\alpha)]}{\\partial t}\\right]_{\\alpha=0} =0.\n",
    "$$"
   ]
  },
  {
   "cell_type": "markdown",
   "id": "86bd323f",
   "metadata": {
    "editable": true
   },
   "source": [
    "## Variational Calculus. $\\alpha$ Dependence\n",
    "\n",
    "The $\\alpha$ dependence is contained in $q(t,\\alpha)$ and $\\dot{q}(t,\\alpha)$ meaning that"
   ]
  },
  {
   "cell_type": "markdown",
   "id": "4f17a3b7",
   "metadata": {
    "editable": true
   },
   "source": [
    "$$\n",
    "\\left[\\frac{\\partial  E[q(\\alpha)]}{\\partial \\alpha}\\right]=\\int_{t_1}^{t_2} \\left( \\frac{\\partial {\\cal l}}{\\partial q}\\frac{\\partial q}{\\partial \\alpha}+\\frac{\\partial {\\cal L}}{\\partial \\dot{q}}\\frac{\\partial \\dot{q}}{\\partial \\alpha}\\right)dt.\n",
    "$$"
   ]
  },
  {
   "cell_type": "markdown",
   "id": "e66d13a4",
   "metadata": {
    "editable": true
   },
   "source": [
    "We have defined"
   ]
  },
  {
   "cell_type": "markdown",
   "id": "25f96a92",
   "metadata": {
    "editable": true
   },
   "source": [
    "$$\n",
    "\\frac{\\partial q(x,\\alpha)}{\\partial \\alpha}=\\eta(x)\n",
    "$$"
   ]
  },
  {
   "cell_type": "markdown",
   "id": "dc880a32",
   "metadata": {
    "editable": true
   },
   "source": [
    "and thereby"
   ]
  },
  {
   "cell_type": "markdown",
   "id": "fca1e095",
   "metadata": {
    "editable": true
   },
   "source": [
    "$$\n",
    "\\frac{\\partial \\dot{q}(t,\\alpha)}{\\partial \\alpha}=\\frac{d(\\eta(t))}{dt}.\n",
    "$$"
   ]
  },
  {
   "cell_type": "markdown",
   "id": "024805a2",
   "metadata": {
    "editable": true
   },
   "source": [
    "## INtegrating by Parts\n",
    "\n",
    "Using"
   ]
  },
  {
   "cell_type": "markdown",
   "id": "f589daa8",
   "metadata": {
    "editable": true
   },
   "source": [
    "$$\n",
    "\\frac{\\partial q(t,\\alpha)}{\\partial \\alpha}=\\eta(t),\n",
    "$$"
   ]
  },
  {
   "cell_type": "markdown",
   "id": "8476af68",
   "metadata": {
    "editable": true
   },
   "source": [
    "and"
   ]
  },
  {
   "cell_type": "markdown",
   "id": "d75cb95a",
   "metadata": {
    "editable": true
   },
   "source": [
    "$$\n",
    "\\frac{\\partial \\dot{q}(t,\\alpha)}{\\partial \\alpha}=\\frac{d(\\eta(t))}{dt},\n",
    "$$"
   ]
  },
  {
   "cell_type": "markdown",
   "id": "86f25108",
   "metadata": {
    "editable": true
   },
   "source": [
    "in the integral gives"
   ]
  },
  {
   "cell_type": "markdown",
   "id": "4e9eb114",
   "metadata": {
    "editable": true
   },
   "source": [
    "$$\n",
    "\\left[\\frac{\\partial  S[q(\\alpha)]}{\\partial \\alpha}\\right]=\\int_{t_1}^{t_2} \\left( \\frac{\\partial {\\cal L}}{\\partial q}\\eta(t)+\\frac{\\partial {\\cal L}}{\\partial \\dot{q}}\\frac{d(\\eta(t))}{dt}\\right)dt.\n",
    "$$"
   ]
  },
  {
   "cell_type": "markdown",
   "id": "ca7edce5",
   "metadata": {
    "editable": true
   },
   "source": [
    "Integrating the second term by parts"
   ]
  },
  {
   "cell_type": "markdown",
   "id": "77805249",
   "metadata": {
    "editable": true
   },
   "source": [
    "$$\n",
    "\\int_{t_1}^{t_2} \\frac{\\partial {\\cal L}}{\\partial \\dot{q}}\\frac{d(\\eta(t))}{dt}dt =\\eta(t)\\frac{\\partial {\\cal L}}{\\partial \\dot{q}}|_{t_1}^{t_2}-\n",
    "\\int_a^b \\eta(t)\\frac{d}{dx}\\frac{\\partial {\\cal L}}{\\partial \\dot{q}}dt,\n",
    "$$"
   ]
  },
  {
   "cell_type": "markdown",
   "id": "35a72687",
   "metadata": {
    "editable": true
   },
   "source": [
    "and since the first term dissappears due to $\\eta(a)=\\eta(b)=0$, we obtain"
   ]
  },
  {
   "cell_type": "markdown",
   "id": "eea36e79",
   "metadata": {
    "editable": true
   },
   "source": [
    "$$\n",
    "\\left[\\frac{\\partial  S[q(\\alpha)]}{\\partial \\alpha}\\right]=\\int_{t_1}^{t_2} \\left( \\frac{\\partial {\\cal L}}{\\partial q}-\\frac{d}{dx}\\frac{\\partial {\\cal L}}{\\partial \\dot{q}}\n",
    "\\right)\\eta(t)dt=0.\n",
    "$$"
   ]
  },
  {
   "cell_type": "markdown",
   "id": "8d25a2b3",
   "metadata": {
    "editable": true
   },
   "source": [
    "## Euler-Lagrange Equations\n",
    "\n",
    "The latter can be written as"
   ]
  },
  {
   "cell_type": "markdown",
   "id": "4d7460b5",
   "metadata": {
    "editable": true
   },
   "source": [
    "$$\n",
    "\\left[\\frac{\\partial  S[q(\\alpha)]}{\\partial \\alpha}\\right]_{\\alpha=0}=\\int_{t_1}^{t_2} \\left( \\frac{\\partial {\\cal L}}{\\partial q}-\\frac{d}{\\\n",
    "dx}\\frac{\\partial {\\cal L}}{\\partial \\dot{q}}\\right)\\delta q(t)dt=\\delta S = 0.\n",
    "$$"
   ]
  },
  {
   "cell_type": "markdown",
   "id": "6409ea72",
   "metadata": {
    "editable": true
   },
   "source": [
    "The condition for a stationary value is thus a partial differential equation"
   ]
  },
  {
   "cell_type": "markdown",
   "id": "02589ad8",
   "metadata": {
    "editable": true
   },
   "source": [
    "$$\n",
    "\\frac{\\partial {\\cal L}}{\\partial q}-\\frac{d}{dx}\\frac{\\partial {\\cal L}}{\\partial \\dot{q}}=0,\n",
    "$$"
   ]
  },
  {
   "cell_type": "markdown",
   "id": "1e465d45",
   "metadata": {
    "editable": true
   },
   "source": [
    "known as the **Euler-Lagrange** equation."
   ]
  }
 ],
 "metadata": {},
 "nbformat": 4,
 "nbformat_minor": 5
}
