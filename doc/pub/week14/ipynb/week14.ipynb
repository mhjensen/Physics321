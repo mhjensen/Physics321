{
 "cells": [
  {
   "cell_type": "markdown",
   "id": "4f41a30c",
   "metadata": {
    "editable": true
   },
   "source": [
    "<!-- HTML file automatically generated from DocOnce source (https://github.com/doconce/doconce/)\n",
    "doconce format html week14.do.txt --no_mako -->\n",
    "<!-- dom:TITLE: PHY321: Variational calculus -->"
   ]
  },
  {
   "cell_type": "markdown",
   "id": "f6cb2c7f",
   "metadata": {
    "editable": true
   },
   "source": [
    "# PHY321: Variational calculus\n",
    "**[Morten Hjorth-Jensen](http://mhjgit.github.io/info/doc/web/)**, Department of Physics and Astronomy and Facility for Rare Isotope Beams (FRIB), Michigan State University, USA and Department of Physics, University of Oslo, Norway\n",
    "\n",
    "Date: **April 10-14**"
   ]
  },
  {
   "cell_type": "markdown",
   "id": "5203e944",
   "metadata": {
    "editable": true
   },
   "source": [
    "## Aims and Overarching Motivation"
   ]
  },
  {
   "cell_type": "markdown",
   "id": "8812145b",
   "metadata": {
    "editable": true
   },
   "source": [
    "### Monday April 10\n",
    "\n",
    "* Lagrangian formalism, top down approach first and derivation of the Euler-Lagrange equations\n",
    "\n",
    "* Principle of Least Action, watch [Feynman Lecture](https://www.feynmanlectures.caltech.edu/II_19.html).\n",
    "\n",
    "* [Video of lecture](https://youtu.be/Sfkdnq9JKB8)\n",
    "\n",
    "* [Handwritten notes](https://github.com/mhjensen/Physics321/blob/master/doc/HandWrittenNotes/Spring2023/NotesApril10.pdf)\n",
    "\n",
    "**Reading suggestion this week**: Taylor sections 6.1-6.4"
   ]
  },
  {
   "cell_type": "markdown",
   "id": "bbc4cb10",
   "metadata": {
    "editable": true
   },
   "source": [
    "### Wednesday April 12\n",
    "\n",
    "* Euler-Lagrange equations and the Lagrangian with examples\n",
    "\n",
    "* Principle of Least Action, watch [Feynman Lecture](https://www.feynmanlectures.caltech.edu/II_19.html).\n",
    "\n",
    "* [Video of lecture TBA](https://youtu.be/vNKn1HyC9kw)\n",
    "\n",
    "* [Handwritten notes](https://github.com/mhjensen/Physics321/blob/master/doc/HandWrittenNotes/Spring2023/NotesApril12.pdf)\n",
    "\n",
    "**Reading suggestion**: Taylor sections 6.1-6.4\n",
    "\n",
    "[See also Variational Calculus](https://en.wikipedia.org/wiki/Calculus_of_variations)"
   ]
  },
  {
   "cell_type": "markdown",
   "id": "db36dcef",
   "metadata": {
    "editable": true
   },
   "source": [
    "### Friday April 14\n",
    "\n",
    "Discussion and work on second midterm."
   ]
  },
  {
   "cell_type": "markdown",
   "id": "4a6085f5",
   "metadata": {
    "editable": true
   },
   "source": [
    "## Variational Calculus\n",
    "\n",
    "The calculus of variations involves \n",
    "problems where the quantity to be minimized or maximized is an integral. \n",
    "\n",
    "The usual minimization problem one faces involves taking a function\n",
    "${\\cal L}(x)$, then finding the single value $x$ for which ${\\cal L}$\n",
    "is either a maximum or minimum. In multivariate calculus one also\n",
    "learns to solve problems where you minimize for multiple variables,\n",
    "${\\cal L}(x_1,x_2,\\cdots x_n)$, and finding the points $(x_1\\cdots\n",
    "y_n)$ in an $n$-dimensional space that maximize or minimize the\n",
    "function. Here, we consider what seems to be a much more ambitious\n",
    "problem. Imagine you have a function ${\\cal L}(x(t),\\dot{x}(t),t)$,\n",
    "and you wish to find the extrema for an infinite number of values of\n",
    "$x$, i.e. $x$ at each point $t$. The function ${\\cal L}$ will not only\n",
    "depend on $x$ at each point $t$, but also on the slope at each point,\n",
    "plus an additional dependence on $t$. Note we are NOT finding an\n",
    "optimum value of $t$, we are finding the set of optimum values of $x$\n",
    "at each point $t$, or equivalently, finding the function $x(t)$."
   ]
  },
  {
   "cell_type": "markdown",
   "id": "a0392308",
   "metadata": {
    "editable": true
   },
   "source": [
    "## Variational Calculus, introducing the action\n",
    "\n",
    "One treats the function $x(t)$ as being unknown while minimizing the action"
   ]
  },
  {
   "cell_type": "markdown",
   "id": "96b5bed0",
   "metadata": {
    "editable": true
   },
   "source": [
    "$$\n",
    "S=\\int_{t_1}^{t_2}dt~{\\cal L}(x(t),\\dot{x}(t),t).\n",
    "$$"
   ]
  },
  {
   "cell_type": "markdown",
   "id": "50132e96",
   "metadata": {
    "editable": true
   },
   "source": [
    "Thus, we are minimizing $S$ with respect to an infinite number of\n",
    "values of $x(t_i)$ at points $t_i$. As an additional criteria, we will\n",
    "assume that $x(t_1)$ and $x(t_2)$ are fixed, and that that we will\n",
    "only consider variations of $x$ between the boundaries. The dependence\n",
    "on the derivative, $\\dot{x}=dx/dt$, is crucial because otherwise the\n",
    "solution would involve simply finding the one value of $x$ that\n",
    "minimized ${\\cal L}$, and $x(t)$ would equal a constant if there were no\n",
    "explicit $t$ dependence. Furthermore, $x$ wouldn't need to be\n",
    "continuous at the boundary."
   ]
  },
  {
   "cell_type": "markdown",
   "id": "d85451a1",
   "metadata": {
    "editable": true
   },
   "source": [
    "## Variational Calculus, general Action\n",
    "\n",
    "In the general case we have an integral of the type"
   ]
  },
  {
   "cell_type": "markdown",
   "id": "cb0a0c45",
   "metadata": {
    "editable": true
   },
   "source": [
    "$$\n",
    "S[q]= \\int_{t_1}^{t_2} {\\cal L}(q(t),\\dot{q}(t),t)dt,\n",
    "$$"
   ]
  },
  {
   "cell_type": "markdown",
   "id": "1d992c70",
   "metadata": {
    "editable": true
   },
   "source": [
    "where $S$ is the quantity which is sought minimized or maximized.  The\n",
    "problem is that although ${\\cal L}$  is a function of the general variables\n",
    "$q(t),\\dot{q}(t),t$ (note our change of variables), the exact dependence of $q$ on $t$ is not known.\n",
    "This means again that even though the integral has fixed limits $t_1$\n",
    "and $t_2$, the path of integration is not known. In our case the unknown\n",
    "quantities are the positions and general velocities of a given number\n",
    "of objects and we wish to choose an integration path which makes the\n",
    "functional $S[q]$ stationary. This means that we want to find minima,\n",
    "or maxima or saddle points. In physics we search normally for minima.\n",
    "Our task is therefore to find the minimum of $S[q]$ so that its\n",
    "variation $\\delta S$ is zero subject to specific constraints.  The\n",
    "constraints can be treated via the technique of Lagrangian multipliers\n",
    "as we will see below."
   ]
  },
  {
   "cell_type": "markdown",
   "id": "25213eb6",
   "metadata": {
    "editable": true
   },
   "source": [
    "## Variational Calculus, Optimal Path\n",
    "\n",
    "We assume the existence of an optimum path, that is a path for which\n",
    "$S[q]$ is stationary. There are infinitely many such paths.  The\n",
    "difference between two paths $\\delta q$ is called the variation of\n",
    "$q$.\n",
    "\n",
    "We call the variation $\\eta(t)$ and it is scaled by a factor $\\alpha$.\n",
    "The function $\\eta(t)$ is arbitrary except for"
   ]
  },
  {
   "cell_type": "markdown",
   "id": "e05a64fe",
   "metadata": {
    "editable": true
   },
   "source": [
    "$$\n",
    "\\eta(t_1)=\\eta(t_2)=0,\n",
    "$$"
   ]
  },
  {
   "cell_type": "markdown",
   "id": "c7ddbca6",
   "metadata": {
    "editable": true
   },
   "source": [
    "and we assume that we can model the change in $q$ as"
   ]
  },
  {
   "cell_type": "markdown",
   "id": "c872b662",
   "metadata": {
    "editable": true
   },
   "source": [
    "$$\n",
    "q(t,\\alpha) = q(t)+\\alpha\\eta(t),\n",
    "$$"
   ]
  },
  {
   "cell_type": "markdown",
   "id": "c9c04983",
   "metadata": {
    "editable": true
   },
   "source": [
    "and"
   ]
  },
  {
   "cell_type": "markdown",
   "id": "29dd6eae",
   "metadata": {
    "editable": true
   },
   "source": [
    "$$\n",
    "\\delta q = q(t,\\alpha) -q(t,0)=\\alpha\\eta(t).\n",
    "$$"
   ]
  },
  {
   "cell_type": "markdown",
   "id": "69c0d248",
   "metadata": {
    "editable": true
   },
   "source": [
    "## Variational Calculus, Condition for an Extreme Value\n",
    "\n",
    "We choose $q(t,\\alpha=0)$ as the unkonwn path  that will minimize $S$.  The value\n",
    "$q(t,\\alpha\\ne 0)$  describes a neighbouring path.\n",
    "\n",
    "We have"
   ]
  },
  {
   "cell_type": "markdown",
   "id": "0b3c4bb8",
   "metadata": {
    "editable": true
   },
   "source": [
    "$$\n",
    "S[q(\\alpha)]= \\int_{t_1}^{t_2} {\\cal L}(q(t,\\alpha),\\dot{q}(t,\\alpha),t)dt.\n",
    "$$"
   ]
  },
  {
   "cell_type": "markdown",
   "id": "58a0acaf",
   "metadata": {
    "editable": true
   },
   "source": [
    "The condition for an extreme of"
   ]
  },
  {
   "cell_type": "markdown",
   "id": "cdfea18f",
   "metadata": {
    "editable": true
   },
   "source": [
    "$$\n",
    "S[q(\\alpha)]= \\int_{t_1}^{t_2} {\\cal L}(q(t,\\alpha),\\dot{q}(t,\\alpha),t)dt,\n",
    "$$"
   ]
  },
  {
   "cell_type": "markdown",
   "id": "06e2a817",
   "metadata": {
    "editable": true
   },
   "source": [
    "$$\n",
    "\\left[\\frac{\\partial  S[q(\\alpha)]}{\\partial t}\\right]_{\\alpha=0} =0.\n",
    "$$"
   ]
  },
  {
   "cell_type": "markdown",
   "id": "aefbb721",
   "metadata": {
    "editable": true
   },
   "source": [
    "## Variational Calculus. $\\alpha$ Dependence\n",
    "\n",
    "The $\\alpha$ dependence is contained in $q(t,\\alpha)$ and $\\dot{q}(t,\\alpha)$ meaning that"
   ]
  },
  {
   "cell_type": "markdown",
   "id": "8348059c",
   "metadata": {
    "editable": true
   },
   "source": [
    "$$\n",
    "\\left[\\frac{\\partial  E[q(\\alpha)]}{\\partial \\alpha}\\right]=\\int_{t_1}^{t_2} \\left( \\frac{\\partial {\\cal l}}{\\partial q}\\frac{\\partial q}{\\partial \\alpha}+\\frac{\\partial {\\cal L}}{\\partial \\dot{q}}\\frac{\\partial \\dot{q}}{\\partial \\alpha}\\right)dt.\n",
    "$$"
   ]
  },
  {
   "cell_type": "markdown",
   "id": "003459b9",
   "metadata": {
    "editable": true
   },
   "source": [
    "We have defined"
   ]
  },
  {
   "cell_type": "markdown",
   "id": "c9c4bdad",
   "metadata": {
    "editable": true
   },
   "source": [
    "$$\n",
    "\\frac{\\partial q(x,\\alpha)}{\\partial \\alpha}=\\eta(x)\n",
    "$$"
   ]
  },
  {
   "cell_type": "markdown",
   "id": "79b8cd61",
   "metadata": {
    "editable": true
   },
   "source": [
    "and thereby"
   ]
  },
  {
   "cell_type": "markdown",
   "id": "b0e48fc5",
   "metadata": {
    "editable": true
   },
   "source": [
    "$$\n",
    "\\frac{\\partial \\dot{q}(t,\\alpha)}{\\partial \\alpha}=\\frac{d(\\eta(t))}{dt}.\n",
    "$$"
   ]
  },
  {
   "cell_type": "markdown",
   "id": "f14fc64e",
   "metadata": {
    "editable": true
   },
   "source": [
    "## Integrating by Parts\n",
    "\n",
    "Using"
   ]
  },
  {
   "cell_type": "markdown",
   "id": "635c8b3e",
   "metadata": {
    "editable": true
   },
   "source": [
    "$$\n",
    "\\frac{\\partial q(t,\\alpha)}{\\partial \\alpha}=\\eta(t),\n",
    "$$"
   ]
  },
  {
   "cell_type": "markdown",
   "id": "2d585e28",
   "metadata": {
    "editable": true
   },
   "source": [
    "and"
   ]
  },
  {
   "cell_type": "markdown",
   "id": "c5417f41",
   "metadata": {
    "editable": true
   },
   "source": [
    "$$\n",
    "\\frac{\\partial \\dot{q}(t,\\alpha)}{\\partial \\alpha}=\\frac{d(\\eta(t))}{dt},\n",
    "$$"
   ]
  },
  {
   "cell_type": "markdown",
   "id": "960e6471",
   "metadata": {
    "editable": true
   },
   "source": [
    "in the integral gives"
   ]
  },
  {
   "cell_type": "markdown",
   "id": "92929ac3",
   "metadata": {
    "editable": true
   },
   "source": [
    "$$\n",
    "\\left[\\frac{\\partial  S[q(\\alpha)]}{\\partial \\alpha}\\right]=\\int_{t_1}^{t_2} \\left( \\frac{\\partial {\\cal L}}{\\partial q}\\eta(t)+\\frac{\\partial {\\cal L}}{\\partial \\dot{q}}\\frac{d(\\eta(t))}{dt}\\right)dt.\n",
    "$$"
   ]
  },
  {
   "cell_type": "markdown",
   "id": "ffe5d57d",
   "metadata": {
    "editable": true
   },
   "source": [
    "Integrating the second term by parts"
   ]
  },
  {
   "cell_type": "markdown",
   "id": "78b410ea",
   "metadata": {
    "editable": true
   },
   "source": [
    "$$\n",
    "\\int_{t_1}^{t_2} \\frac{\\partial {\\cal L}}{\\partial \\dot{q}}\\frac{d(\\eta(t))}{dt}dt =\\eta(t)\\frac{\\partial {\\cal L}}{\\partial \\dot{q}}|_{t_1}^{t_2}-\n",
    "\\int_a^b \\eta(t)\\frac{d}{dx}\\frac{\\partial {\\cal L}}{\\partial \\dot{q}}dt,\n",
    "$$"
   ]
  },
  {
   "cell_type": "markdown",
   "id": "930b9325",
   "metadata": {
    "editable": true
   },
   "source": [
    "and since the first term dissappears due to $\\eta(a)=\\eta(b)=0$, we obtain"
   ]
  },
  {
   "cell_type": "markdown",
   "id": "416ee15f",
   "metadata": {
    "editable": true
   },
   "source": [
    "$$\n",
    "\\left[\\frac{\\partial  S[q(\\alpha)]}{\\partial \\alpha}\\right]=\\int_{t_1}^{t_2} \\left( \\frac{\\partial {\\cal L}}{\\partial q}-\\frac{d}{dx}\\frac{\\partial {\\cal L}}{\\partial \\dot{q}}\n",
    "\\right)\\eta(t)dt=0.\n",
    "$$"
   ]
  },
  {
   "cell_type": "markdown",
   "id": "47d14ed3",
   "metadata": {
    "editable": true
   },
   "source": [
    "## Euler-Lagrange Equations\n",
    "\n",
    "The latter can be written as"
   ]
  },
  {
   "cell_type": "markdown",
   "id": "4b031f7d",
   "metadata": {
    "editable": true
   },
   "source": [
    "$$\n",
    "\\left[\\frac{\\partial  S[q(\\alpha)]}{\\partial \\alpha}\\right]_{\\alpha=0}=\\int_{t_1}^{t_2} \\left( \\frac{\\partial {\\cal L}}{\\partial q}-\\frac{d}{\\\n",
    "dx}\\frac{\\partial {\\cal L}}{\\partial \\dot{q}}\\right)\\delta q(t)dt=\\delta S = 0.\n",
    "$$"
   ]
  },
  {
   "cell_type": "markdown",
   "id": "b406c4a1",
   "metadata": {
    "editable": true
   },
   "source": [
    "The condition for a stationary value is thus a partial differential equation"
   ]
  },
  {
   "cell_type": "markdown",
   "id": "63efaa7d",
   "metadata": {
    "editable": true
   },
   "source": [
    "$$\n",
    "\\frac{\\partial {\\cal L}}{\\partial q}-\\frac{d}{dx}\\frac{\\partial {\\cal L}}{\\partial \\dot{q}}=0,\n",
    "$$"
   ]
  },
  {
   "cell_type": "markdown",
   "id": "44da4eac",
   "metadata": {
    "editable": true
   },
   "source": [
    "known as the **Euler-Lagrange** equation."
   ]
  },
  {
   "cell_type": "markdown",
   "id": "922f4412",
   "metadata": {
    "editable": true
   },
   "source": [
    "## Why is the Lagrangian defined as the difference between kinetic and potential energy?\n",
    "\n",
    "To understand this let us develop some intuition before the math by looking at what we did in the second midterm. There we studied energy conservation."
   ]
  },
  {
   "cell_type": "code",
   "execution_count": 1,
   "id": "61bffaec",
   "metadata": {
    "collapsed": false,
    "editable": true
   },
   "outputs": [],
   "source": [
    "%matplotlib inline\n",
    "\n",
    "# let's start by importing useful packages we are familiar with\n",
    "import numpy as np\n",
    "from math import *\n",
    "import matplotlib.pyplot as plt\n",
    "import seaborn as sns\n",
    "import math \n",
    "\n",
    "#Velocity-Verlet Method\n",
    "DeltaT = 0.001\n",
    "#set up arrays \n",
    "tfinal = 10 # in years\n",
    "n = ceil(tfinal/DeltaT)\n",
    "# set up arrays for time t, velocity v, and position r\n",
    "t = np.zeros(n)\n",
    "v = np.zeros((n,2))\n",
    "r = np.zeros((n,2))\n",
    "# Initial conditions as compact 2-dimensional arrays. Here: circular orbit conditions.\n",
    "r0 = np.array([1.0,0.0])\n",
    "v0 = np.array([0.0,5.0])\n",
    "r[0] = r0\n",
    "v[0] = v0\n",
    "Fourpi2 = 4*pi*pi\n",
    "# Start integrating using the Velocity-Verlet method\n",
    "for i in range(n-1):\n",
    "    # Set up the accelerationn\n",
    "    rabs = sqrt(sum(r[i]*r[i]))\n",
    "    a = -Fourpi2*r[i]/(rabs**3)\n",
    "    # update velocity, time and position using the Velocity-Verlet  method\n",
    "    r[i+1] = r[i] + DeltaT*v[i] + ((DeltaT**2)/2)*(a)\n",
    "    rabs = sqrt(sum(r[i+1]*r[i+1]))\n",
    "    anew = -4*(pi**2)*r[i+1]/(rabs**3)\n",
    "    v[i+1] = v[i] + DeltaT*(0.5)*(a + anew)\n",
    "    t[i+1] = t[i] + DeltaT\n",
    "sns.set()\n",
    "plt.plot(r[:,0], r[:,1])\n",
    "\n",
    "\n",
    "# We check that the total energy is conserved. For a circular orbit, potential and kinetic energy do not change since the radius is a constant. \n",
    "\n",
    "# Note that we have set the mass of the Earth = 1\n",
    "def kinetic_energy(v):\n",
    "    KE = []\n",
    "    step = len(t)\n",
    "    for i in range(step):\n",
    "        KE.append(0)\n",
    "        KE[i] += 0.5 *np.sum(v[i]*v[i])\n",
    "    return np.array(KE)\n",
    "\n",
    "\n",
    "# Note that G x Mass_sun = 4*pi*pi and the mass of the Earth = 1\n",
    "# Note also that if you change the exponent in the force you need also to change the potential energy!\n",
    "def pot():\n",
    "    Pot = []\n",
    "    step = len(t)\n",
    "    for i in range(step):\n",
    "        Pot.append(0)\n",
    "        Pot[i] +=  - 4*pi*pi/ sqrt(np.sum(r[i]*r[i]))\n",
    "    return np.array(Pot)\n",
    "\n",
    "fig, ax = plt.subplots(1,1,figsize=(12,6))\n",
    "ax.plot(t,kinetic_energy(v)+pot(),label='Total')\n",
    "ax.plot(t,kinetic_energy(v),label='Kinetic')\n",
    "ax.plot(t,pot(),label='Potential')\n",
    "ax.set_title('Energy vs time')\n",
    "ax.set_xlabel('t [yr]')\n",
    "ax.legend()\n",
    "ax.set_ylabel(r'E')"
   ]
  },
  {
   "cell_type": "markdown",
   "id": "f5e7ec49",
   "metadata": {
    "editable": true
   },
   "source": [
    "The energy is conserved and does not say much about the variations in position and velocity as functions of time."
   ]
  },
  {
   "cell_type": "markdown",
   "id": "5b48f48f",
   "metadata": {
    "editable": true
   },
   "source": [
    "## What if we plot the difference between kinetic and potential energy instead?"
   ]
  },
  {
   "cell_type": "code",
   "execution_count": 2,
   "id": "4c72a304",
   "metadata": {
    "collapsed": false,
    "editable": true
   },
   "outputs": [],
   "source": [
    "fig, ax = plt.subplots(1,1,figsize=(12,6))\n",
    "ax.plot(t,kinetic_energy(v)-pot(),label='L=K-V')\n",
    "ax.plot(t,kinetic_energy(v),label='Kinetic')\n",
    "ax.plot(t,pot(),label='Potential')\n",
    "ax.set_title('Energy vs time')\n",
    "ax.set_xlabel('t [yr]')\n",
    "ax.legend()\n",
    "ax.set_ylabel(r'E')"
   ]
  }
 ],
 "metadata": {},
 "nbformat": 4,
 "nbformat_minor": 5
}
