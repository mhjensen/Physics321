{
 "cells": [
  {
   "cell_type": "markdown",
   "id": "75d0178b",
   "metadata": {},
   "source": [
    "<!-- HTML file automatically generated from DocOnce source (https://github.com/doconce/doconce/)\n",
    "doconce format html week13.do.txt --no_mako -->\n",
    "<!-- dom:TITLE: PHY321: Two-body problems, gravitational forces and discussion of second midterm -->"
   ]
  },
  {
   "cell_type": "markdown",
   "id": "39b1abd1",
   "metadata": {},
   "source": [
    "# PHY321: Two-body problems, gravitational forces and discussion of second midterm\n",
    "**[Morten Hjorth-Jensen](http://mhjgit.github.io/info)**, Department of Physics and Astronomy and Facility for Rare Isotope Beams (FRIB), Michigan State University, USA and Department of Physics, University of Oslo, Norway\n",
    "\n",
    "Date: **April 3-7**"
   ]
  },
  {
   "cell_type": "markdown",
   "id": "a61ee9d9",
   "metadata": {},
   "source": [
    "## Aims and Overarching Motivation"
   ]
  },
  {
   "cell_type": "markdown",
   "id": "a4e3f2d3",
   "metadata": {},
   "source": [
    "### Monday April 3\n",
    "\n",
    "1. Physical interpretation of various orbit types and summary gravitational forces\n",
    "\n",
    "2. Second midterm available Monday April 3, deadline April 16 at midnight.\n",
    "\n",
    "  * [Video of lecture](https://youtu.be/HwaxZFeJ4eg)\n",
    "\n",
    "  * [Handwritten notes](https://github.com/mhjensen/Physics321/blob/master/doc/HandWrittenNotes/Spring2023/NotesApril3.pdf)\n",
    "\n",
    "Look up for example the README file at <https://github.com/mhjensen/Physics321/blob/master/README.md> for an update on solutions to various assignments.\n",
    "\n",
    "**Reading suggestion**: Taylor chapter 8 and Lecture notes as well handwritten notes from this Monday. These notes are also relevant for the second midterm and later also (after the deadline for the second midterm) homework 9."
   ]
  },
  {
   "cell_type": "markdown",
   "id": "d3ca9ffc",
   "metadata": {},
   "source": [
    "### Wednesday April 5\n",
    "\n",
    "1. Discussion of second midterm, hints and tips and Kepler orbit analysis\n",
    "\n",
    "  * [Video of Lecture TBA](https://youtu.be/)\n",
    "\n",
    "  * [Handwritten notes](https://github.com/mhjensen/Physics321/blob/master/doc/HandWrittenNotes/Spring2022/NotesApril6.pdf)  \n",
    "\n",
    "**Reading suggestion**: Taylor chapter 8 and lecture notes"
   ]
  },
  {
   "cell_type": "markdown",
   "id": "f027a028",
   "metadata": {},
   "source": [
    "### Friday April 7\n",
    "\n",
    "1. Work on second midterm, hints and tips\n",
    "\n",
    "  * [Hints and tips for second midterm, video of lecture TBA](https://youtu.be/)\n",
    "\n",
    "  * [Handwritten notes](https://github.com/mhjensen/Physics321/blob/master/doc/HandWrittenNotes/Spring2022/NotesApril8.pdf)"
   ]
  },
  {
   "cell_type": "markdown",
   "id": "b58d0403",
   "metadata": {},
   "source": [
    "### Code example with gravitional force\n",
    "\n",
    "The code example here is meant to illustrate how we can make a plot of\n",
    "the final orbit. We solve the equations in polar coordinates (the\n",
    "example here uses the minimum of the potential as initial value) and\n",
    "then we transform back to cartesian coordinates and plot $x$ versus\n",
    "$y$. We see that we get a perfect circle when we place ourselves at\n",
    "the minimum of the potential energy, as expected."
   ]
  },
  {
   "cell_type": "markdown",
   "id": "379d8b3d",
   "metadata": {},
   "source": [
    "## Plotting the potential first\n",
    "\n",
    "The code here plots the effective potential\n",
    "\n",
    "The following code plots this effective potential for a simple choice of parameters, with a standard gravitational potential $-\\alpha/r$. Here we have chosen $L=m=\\alpha=1$."
   ]
  },
  {
   "cell_type": "code",
   "execution_count": 1,
   "id": "73fe3751",
   "metadata": {},
   "outputs": [],
   "source": [
    "%matplotlib inline\n",
    "\n",
    "# Common imports\n",
    "import numpy as np\n",
    "from math import *\n",
    "import matplotlib.pyplot as plt\n",
    "\n",
    "Deltax = 0.01\n",
    "#set up arrays\n",
    "xinitial = 0.3\n",
    "xfinal = 5.0\n",
    "alpha = 1.0   # spring constant\n",
    "m = 1.0   # mass, you can change these\n",
    "AngMom = 1.0  #  The angular momentum\n",
    "n = ceil((xfinal-xinitial)/Deltax)\n",
    "x = np.zeros(n)\n",
    "for i in range(n):\n",
    "    x[i] = xinitial+i*Deltax\n",
    "V = np.zeros(n)\n",
    "V = -alpha/x+0.5*AngMom*AngMom/(m*x*x)\n",
    "# Plot potential\n",
    "fig, ax = plt.subplots()\n",
    "ax.set_xlabel('r[m]')\n",
    "ax.set_ylabel('V[J]')\n",
    "ax.plot(x, V)\n",
    "fig.tight_layout()\n",
    "plt.show()"
   ]
  },
  {
   "cell_type": "markdown",
   "id": "26c1982b",
   "metadata": {},
   "source": [
    "## Solving the differential equations, Radial Degrees of Freedom only\n",
    "\n",
    "This code and the subsequent one are relevant for homework 9 (the numerical exercise)."
   ]
  },
  {
   "cell_type": "code",
   "execution_count": 2,
   "id": "dd16909c",
   "metadata": {},
   "outputs": [],
   "source": [
    "\n",
    "# Simple Gravitational Force   -alpha/r\n",
    "# Common imports\n",
    "import numpy as np\n",
    "import pandas as pd\n",
    "from math import *\n",
    "import matplotlib.pyplot as plt\n",
    "import os\n",
    "\n",
    "# Where to save the figures and data files\n",
    "PROJECT_ROOT_DIR = \"Results\"\n",
    "FIGURE_ID = \"Results/FigureFiles\"\n",
    "DATA_ID = \"DataFiles/\"\n",
    "\n",
    "if not os.path.exists(PROJECT_ROOT_DIR):\n",
    "    os.mkdir(PROJECT_ROOT_DIR)\n",
    "\n",
    "if not os.path.exists(FIGURE_ID):\n",
    "    os.makedirs(FIGURE_ID)\n",
    "\n",
    "if not os.path.exists(DATA_ID):\n",
    "    os.makedirs(DATA_ID)\n",
    "\n",
    "def image_path(fig_id):\n",
    "    return os.path.join(FIGURE_ID, fig_id)\n",
    "\n",
    "def data_path(dat_id):\n",
    "    return os.path.join(DATA_ID, dat_id)\n",
    "\n",
    "def save_fig(fig_id):\n",
    "    plt.savefig(image_path(fig_id) + \".png\", format='png')\n",
    "\n",
    "\n",
    "    \n",
    "DeltaT = 0.01\n",
    "#set up arrays \n",
    "tfinal = 8.0\n",
    "n = ceil(tfinal/DeltaT)\n",
    "# set up arrays for t, v and r\n",
    "t = np.zeros(n)\n",
    "v = np.zeros(n)\n",
    "r = np.zeros(n)\n",
    "phi = np.zeros(n)\n",
    "x = np.zeros(n)\n",
    "y = np.zeros(n)\n",
    "# Constants of the model, setting all variables to one for simplicity\n",
    "alpha = 1.0\n",
    "AngMom = 1.0  #  The angular momentum\n",
    "m = 1.0  # scale mass to one\n",
    "c1 = AngMom*AngMom/(m*m)\n",
    "c2 = AngMom*AngMom/m\n",
    "rmin = (AngMom*AngMom/m/alpha)\n",
    "# Initial conditions, place yourself at the potential min\n",
    "r0 = rmin\n",
    "v0 = 0.0  # starts at rest\n",
    "r[0] = r0\n",
    "v[0] = v0\n",
    "phi[0] = 0.0\n",
    "# Start integrating using the Velocity-Verlet  method\n",
    "for i in range(n-1):\n",
    "    # Set up acceleration\n",
    "    a = -alpha/(r[i]**2)+c1/(r[i]**3)\n",
    "    # update velocity, time and position using the Velocity-Verlet method\n",
    "    r[i+1] = r[i] + DeltaT*v[i]+0.5*(DeltaT**2)*a\n",
    "    anew = -alpha/(r[i+1]**2)+c1/(r[i+1]**3)\n",
    "    v[i+1] = v[i] + 0.5*DeltaT*(a+anew)\n",
    "    t[i+1] = t[i] + DeltaT\n",
    "    phi[i+1] = t[i+1]*c2/(r0**2)\n",
    "# Find cartesian coordinates for easy plot    \n",
    "x = r*np.cos(phi)\n",
    "y = r*np.sin(phi)\n",
    "fig, ax = plt.subplots(3,1)\n",
    "ax[0].set_xlabel('time')\n",
    "ax[0].set_ylabel('radius')\n",
    "ax[0].plot(t,r)\n",
    "ax[1].set_xlabel('time')\n",
    "ax[1].set_ylabel('Angle $\\cos{\\phi}$')\n",
    "ax[1].plot(t,np.cos(phi))\n",
    "ax[2].set_ylabel('y')\n",
    "ax[2].set_xlabel('x')\n",
    "ax[2].plot(x,y)\n",
    "\n",
    "save_fig(\"Phasespace\")\n",
    "plt.show()"
   ]
  },
  {
   "cell_type": "markdown",
   "id": "f652c6e0",
   "metadata": {},
   "source": [
    "## Changing initial conditions\n",
    "\n",
    "Try to change the initial value for $r$ and see what kind of orbits you get.\n",
    "In order to test different energies, it can be useful to look at the plot of the effective potential discussed above.\n",
    "\n",
    "However, for orbits different from a circle the above code would need modifications in order to allow us to display say an ellipse. For the latter, it is much easier to run our code in cartesian coordinates, as done here. In this code we test also energy conservation and see that it is conserved to numerical precision. The code here is a simple extension of the code we developed for homework 5."
   ]
  },
  {
   "cell_type": "code",
   "execution_count": 3,
   "id": "cf200c1a",
   "metadata": {},
   "outputs": [],
   "source": [
    "# Common imports\n",
    "import numpy as np\n",
    "import pandas as pd\n",
    "from math import *\n",
    "import matplotlib.pyplot as plt\n",
    "\n",
    "DeltaT = 0.01\n",
    "#set up arrays \n",
    "tfinal = 10.0\n",
    "n = ceil(tfinal/DeltaT)\n",
    "# set up arrays\n",
    "t = np.zeros(n)\n",
    "v = np.zeros((n,2))\n",
    "r = np.zeros((n,2))\n",
    "E = np.zeros(n)\n",
    "# Constants of the model\n",
    "m = 1.0   # mass, you can change these\n",
    "alpha = 1.0\n",
    "# Initial conditions as compact 2-dimensional arrays\n",
    "x0 = 0.5; y0= 0.\n",
    "r0 = np.array([x0,y0]) \n",
    "v0 = np.array([0.0,1.0])\n",
    "r[0] = r0\n",
    "v[0] = v0\n",
    "rabs = sqrt(sum(r[0]*r[0]))\n",
    "E[0] = 0.5*m*(v[0,0]**2+v[0,1]**2)-alpha/rabs\n",
    "# Start integrating using the Velocity-Verlet  method\n",
    "for i in range(n-1):\n",
    "    # Set up the acceleration\n",
    "    rabs = sqrt(sum(r[i]*r[i]))\n",
    "    a =  -alpha*r[i]/(rabs**3)\n",
    "    # update velocity, time and position using the Velocity-Verlet method\n",
    "    r[i+1] = r[i] + DeltaT*v[i]+0.5*(DeltaT**2)*a\n",
    "    rabs = sqrt(sum(r[i+1]*r[i+1]))\n",
    "    anew = -alpha*r[i+1]/(rabs**3)\n",
    "    v[i+1] = v[i] + 0.5*DeltaT*(a+anew)\n",
    "    E[i+1] = 0.5*m*(v[i+1,0]**2+v[i+1,1]**2)-alpha/rabs\n",
    "    t[i+1] = t[i] + DeltaT\n",
    "# Plot position as function of time\n",
    "fig, ax = plt.subplots(3,1)\n",
    "ax[0].set_ylabel('y')\n",
    "ax[0].set_xlabel('x')\n",
    "ax[0].plot(r[:,0],r[:,1])\n",
    "ax[1].set_xlabel('time')\n",
    "ax[1].set_ylabel('y position')\n",
    "ax[1].plot(t,r[:,0])\n",
    "ax[2].set_xlabel('time')\n",
    "ax[2].set_ylabel('y position')\n",
    "ax[2].plot(t,r[:,1])\n",
    "\n",
    "fig.tight_layout()\n",
    "save_fig(\"2DimGravity\")\n",
    "plt.show()\n",
    "print(E)"
   ]
  },
  {
   "cell_type": "markdown",
   "id": "cbc3c8e3",
   "metadata": {},
   "source": [
    "## Different Potential\n",
    "\n",
    "Let us now try another potential, given by"
   ]
  },
  {
   "cell_type": "markdown",
   "id": "17db4baf",
   "metadata": {},
   "source": [
    "$$\n",
    "V(r) = \\beta r,\n",
    "$$"
   ]
  },
  {
   "cell_type": "markdown",
   "id": "7ea661b9",
   "metadata": {},
   "source": [
    "where $\\beta$ is constant we assume is larger than zero. This type of potential has played an importan role in modeling confinement of quarks in non-relativistic models for the interactions among quarks, see for example <https://journals.aps.org/prl/pdf/10.1103/PhysRevLett.44.1369> \n",
    "\n",
    "Adding the angular momentum part, we obtain the effective potential"
   ]
  },
  {
   "cell_type": "markdown",
   "id": "7c0eb6bf",
   "metadata": {},
   "source": [
    "$$\n",
    "V_{\\mathrm{eff}}(r) = \\beta r+\\frac{L^2}{2\\mu r^2},\n",
    "$$"
   ]
  },
  {
   "cell_type": "markdown",
   "id": "f3d8f49d",
   "metadata": {},
   "source": [
    "and taking the derivative with respect to $r$, we get the radial force"
   ]
  },
  {
   "cell_type": "markdown",
   "id": "26597bf2",
   "metadata": {},
   "source": [
    "$$\n",
    "F_r=-\\frac{dV_{\\mathrm{eff}}(r)}{dr} = -\\beta+\\frac{L^2}{\\mu r^3}.\n",
    "$$"
   ]
  },
  {
   "cell_type": "markdown",
   "id": "18ba4236",
   "metadata": {},
   "source": [
    "It gives us in turn a radial acceleration $a_r$"
   ]
  },
  {
   "cell_type": "markdown",
   "id": "2dcdbd28",
   "metadata": {},
   "source": [
    "$$\n",
    "a_r= -\\frac{\\beta}{\\mu}+\\frac{L^2}{\\mu^2 r^3}.\n",
    "$$"
   ]
  },
  {
   "cell_type": "markdown",
   "id": "920b1b0d",
   "metadata": {},
   "source": [
    "This is the equation we need to include in our code. I have not been able to find out if there is an analytical solution to the above equation. If you can find one, there is a reward of $50$ USD to the first one who finds. Numerically life is very easy, we just define a new acceleration, as seen below."
   ]
  },
  {
   "cell_type": "markdown",
   "id": "73ec6995",
   "metadata": {},
   "source": [
    "## Plotting the Effective Potential\n",
    "\n",
    "First however, we plot the effective potential in order to get a feeling of what we may expect.\n",
    "\n",
    "The following code plots this effective potential for a simple choice of parameters, with a potential $\\beta r $. Here we have chosen $L=m=\\beta=1$."
   ]
  },
  {
   "cell_type": "code",
   "execution_count": 4,
   "id": "9ef4994f",
   "metadata": {},
   "outputs": [],
   "source": [
    "# Common imports\n",
    "import numpy as np\n",
    "from math import *\n",
    "import matplotlib.pyplot as plt\n",
    "\n",
    "Deltax = 0.01\n",
    "#set up arrays\n",
    "xinitial = 0.3\n",
    "xfinal = 5.0\n",
    "beta = 1.0   # spring constant\n",
    "m = 1.0   # mass, you can change these\n",
    "AngMom = 1.0  #  The angular momentum\n",
    "n = ceil((xfinal-xinitial)/Deltax)\n",
    "x = np.zeros(n)\n",
    "for i in range(n):\n",
    "    x[i] = xinitial+i*Deltax\n",
    "V = np.zeros(n)\n",
    "V = beta*x+0.5*AngMom*AngMom/(m*x*x)\n",
    "# Plot potential\n",
    "fig, ax = plt.subplots()\n",
    "ax.set_xlabel('r[m]')\n",
    "ax.set_ylabel('V[J]')\n",
    "ax.plot(x, V)\n",
    "fig.tight_layout()\n",
    "plt.show()"
   ]
  },
  {
   "cell_type": "markdown",
   "id": "6aca0428",
   "metadata": {},
   "source": [
    "## Finding the Minimum for Circular Orbits\n",
    "\n",
    "We take now the derivative of the effective potential in order to find its minimum, that is"
   ]
  },
  {
   "cell_type": "markdown",
   "id": "74a2bd5a",
   "metadata": {},
   "source": [
    "$$\n",
    "\\frac{dV_{\\mathrm{eff}}(r)}{dr} = \\beta-\\frac{L^2}{\\mu r^3}=0,\n",
    "$$"
   ]
  },
  {
   "cell_type": "markdown",
   "id": "aec34a35",
   "metadata": {},
   "source": [
    "which gives us $r_{\\mathrm{min}}$"
   ]
  },
  {
   "cell_type": "markdown",
   "id": "d6052633",
   "metadata": {},
   "source": [
    "$$\n",
    "r_{\\mathrm{min}}=\\left [\\frac{L^2}{\\beta \\mu}\\right ]^{1/3}.\n",
    "$$"
   ]
  },
  {
   "cell_type": "markdown",
   "id": "fb1034eb",
   "metadata": {},
   "source": [
    "With the above choice of parameters this gives $r_{\\mathrm{min}}=1$. \n",
    "\n",
    "In the code here we solve the equations of motion and find the time-evolution of the radius $r$."
   ]
  },
  {
   "cell_type": "markdown",
   "id": "6d616307",
   "metadata": {},
   "source": [
    "## Numerical Studies"
   ]
  },
  {
   "cell_type": "code",
   "execution_count": 5,
   "id": "a1a4ab9a",
   "metadata": {},
   "outputs": [],
   "source": [
    "DeltaT = 0.01\n",
    "#set up arrays \n",
    "tfinal = 8.0\n",
    "n = ceil(tfinal/DeltaT)\n",
    "# set up arrays for t, v and r\n",
    "t = np.zeros(n)\n",
    "v = np.zeros(n)\n",
    "r = np.zeros(n)\n",
    "# Constants of the model, setting all variables to one for simplicity\n",
    "beta = 1.0\n",
    "AngMom = 1.0  #  The angular momentum\n",
    "m = 1.0  # scale mass to one\n",
    "c1 = AngMom*AngMom/(m*m)\n",
    "c2 = AngMom*AngMom/m\n",
    "rmin = (AngMom*AngMom/m/beta)**(1./3.)\n",
    "# Initial conditions, place yourself at the potential min\n",
    "r0 = rmin\n",
    "v0 = 0.0  # starts at rest\n",
    "r[0] = r0\n",
    "v[0] = v0\n",
    "# Start integrating using the Velocity-Verlet  method\n",
    "for i in range(n-1):\n",
    "    # Set up acceleration\n",
    "    a = -beta+c1/(r[i]**3)\n",
    "    # update velocity, time and position using the Velocity-Verlet method\n",
    "    r[i+1] = r[i] + DeltaT*v[i]+0.5*(DeltaT**2)*a\n",
    "    anew = -beta+c1/(r[i+1]**3)\n",
    "    v[i+1] = v[i] + 0.5*DeltaT*(a+anew)\n",
    "    t[i+1] = t[i] + DeltaT\n",
    "#plotting\n",
    "plt.xlabel('time')\n",
    "plt.ylabel('radius')\n",
    "plt.plot(t,r)\n",
    "save_fig(\"LinearPotential\")\n",
    "plt.show()"
   ]
  },
  {
   "cell_type": "markdown",
   "id": "579aefc8",
   "metadata": {},
   "source": [
    "We see that if we run with the initial condition corresponding to a circular orbit, our radius stays constant as function of time."
   ]
  }
 ],
 "metadata": {
  "kernelspec": {
   "display_name": "Python 3 (ipykernel)",
   "language": "python",
   "name": "python3"
  },
  "language_info": {
   "codemirror_mode": {
    "name": "ipython",
    "version": 3
   },
   "file_extension": ".py",
   "mimetype": "text/x-python",
   "name": "python",
   "nbconvert_exporter": "python",
   "pygments_lexer": "ipython3",
   "version": "3.9.10"
  }
 },
 "nbformat": 4,
 "nbformat_minor": 5
}
