{
 "cells": [
  {
   "cell_type": "markdown",
   "id": "22f0254e",
   "metadata": {},
   "source": [
    "<!-- HTML file automatically generated from DocOnce source (https://github.com/doconce/doconce/)\n",
    "doconce format html week13.do.txt --no_mako -->\n",
    "<!-- dom:TITLE: PHY321: Two-body problems, gravitational forces and two-body scattering  -->"
   ]
  },
  {
   "cell_type": "markdown",
   "id": "2066ba5d",
   "metadata": {},
   "source": [
    "# PHY321: Two-body problems, gravitational forces and two-body scattering \n",
    "**[Morten Hjorth-Jensen](http://mhjgit.github.io/info/doc/web/)**, Department of Physics and Astronomy and Facility for Rare Ion Beams (FRIB), Michigan State University, USA and Department of Physics, University of Oslo, Norway\n",
    "\n",
    "Date: **Apr 3, 2022**\n",
    "\n",
    "Copyright 1999-2022, [Morten Hjorth-Jensen](http://mhjgit.github.io/info/doc/web/). Released under CC Attribution-NonCommercial 4.0 license"
   ]
  },
  {
   "cell_type": "markdown",
   "id": "7fde5792",
   "metadata": {},
   "source": [
    "## Aims and Overarching Motivation"
   ]
  },
  {
   "cell_type": "markdown",
   "id": "94faaff1",
   "metadata": {},
   "source": [
    "### Monday April 4\n",
    "\n",
    "1. Physical interpretation of various orbit types and summary gravitational forces\n",
    "\n",
    "2. Second midterm available Monday April 4, deadline April 15 at midnight\n",
    "\n",
    "**Reading suggestion**: Taylor chapter 8 and Lecture notes as well handwritten notes for April 4 (to be uploaded after lecture). These notes are also relevant for the second midterm and homework 9."
   ]
  },
  {
   "cell_type": "markdown",
   "id": "6fb82b80",
   "metadata": {},
   "source": [
    "### Wednesday April 6\n",
    "\n",
    "1. Two-body scattering, introduction and definitions\n",
    "\n",
    "**Reading suggestion**: Taylor sections 14.1-14.3 and lecture notes"
   ]
  },
  {
   "cell_type": "markdown",
   "id": "a67453d8",
   "metadata": {},
   "source": [
    "### Friday April 8\n",
    "\n",
    "1. Short discussion of two-body scattering and work on second midterm\n",
    "\n",
    "**Reading suggestion**: Taylor sections 14.3-14.6 and lecture notes"
   ]
  },
  {
   "cell_type": "markdown",
   "id": "13229c6b",
   "metadata": {},
   "source": [
    "### Code example with gravitional force\n",
    "\n",
    "The code example here is meant to illustrate how we can make a plot of\n",
    "the final orbit. We solve the equations in polar coordinates (the\n",
    "example here uses the minimum of the potential as initial value) and\n",
    "then we transform back to cartesian coordinates and plot $x$ versus\n",
    "$y$. We see that we get a perfect circle when we place ourselves at\n",
    "the minimum of the potential energy, as expected."
   ]
  },
  {
   "cell_type": "markdown",
   "id": "10f84440",
   "metadata": {},
   "source": [
    "## Plotting the potential first\n",
    "\n",
    "The code here plots the effective potential\n",
    "\n",
    "The following code plots this effective potential for a simple choice of parameters, with a standard gravitational potential $-\\alpha/r$. Here we have chosen $L=m=\\alpha=1$."
   ]
  },
  {
   "cell_type": "code",
   "execution_count": 1,
   "id": "1b2b5d59",
   "metadata": {},
   "outputs": [
    {
     "data": {
      "image/png": "[encoded data removed]",
      "text/plain": [
       "<Figure size 432x288 with 1 Axes>"
      ]
     },
     "metadata": {
      "needs_background": "light"
     },
     "output_type": "display_data"
    }
   ],
   "source": [
    "%matplotlib inline\n",
    "\n",
    "# Common imports\n",
    "import numpy as np\n",
    "from math import *\n",
    "import matplotlib.pyplot as plt\n",
    "\n",
    "Deltax = 0.01\n",
    "#set up arrays\n",
    "xinitial = 0.3\n",
    "xfinal = 5.0\n",
    "alpha = 1.0   # spring constant\n",
    "m = 1.0   # mass, you can change these\n",
    "AngMom = 1.0  #  The angular momentum\n",
    "n = ceil((xfinal-xinitial)/Deltax)\n",
    "x = np.zeros(n)\n",
    "for i in range(n):\n",
    "    x[i] = xinitial+i*Deltax\n",
    "V = np.zeros(n)\n",
    "V = -alpha/x+0.5*AngMom*AngMom/(m*x*x)\n",
    "# Plot potential\n",
    "fig, ax = plt.subplots()\n",
    "ax.set_xlabel('r[m]')\n",
    "ax.set_ylabel('V[J]')\n",
    "ax.plot(x, V)\n",
    "fig.tight_layout()\n",
    "plt.show()"
   ]
  },
  {
   "cell_type": "markdown",
   "id": "0cb8ec5a",
   "metadata": {},
   "source": [
    "## Solving the differential equations, Radial Degrees of Freedom only\n",
    "\n",
    "This code and the subsequent one are relevant for homework 9 (the numerical exercise)."
   ]
  },
  {
   "cell_type": "code",
   "execution_count": 2,
   "id": "e0b96e20",
   "metadata": {},
   "outputs": [
    {
     "data": {
      "image/png": "[encoded data removed]",
      "text/plain": [
       "<Figure size 432x288 with 3 Axes>"
      ]
     },
     "metadata": {
      "needs_background": "light"
     },
     "output_type": "display_data"
    }
   ],
   "source": [
    "\n",
    "# Simple Gravitational Force   -alpha/r\n",
    "# Common imports\n",
    "import numpy as np\n",
    "import pandas as pd\n",
    "from math import *\n",
    "import matplotlib.pyplot as plt\n",
    "import os\n",
    "\n",
    "# Where to save the figures and data files\n",
    "PROJECT_ROOT_DIR = \"Results\"\n",
    "FIGURE_ID = \"Results/FigureFiles\"\n",
    "DATA_ID = \"DataFiles/\"\n",
    "\n",
    "if not os.path.exists(PROJECT_ROOT_DIR):\n",
    "    os.mkdir(PROJECT_ROOT_DIR)\n",
    "\n",
    "if not os.path.exists(FIGURE_ID):\n",
    "    os.makedirs(FIGURE_ID)\n",
    "\n",
    "if not os.path.exists(DATA_ID):\n",
    "    os.makedirs(DATA_ID)\n",
    "\n",
    "def image_path(fig_id):\n",
    "    return os.path.join(FIGURE_ID, fig_id)\n",
    "\n",
    "def data_path(dat_id):\n",
    "    return os.path.join(DATA_ID, dat_id)\n",
    "\n",
    "def save_fig(fig_id):\n",
    "    plt.savefig(image_path(fig_id) + \".png\", format='png')\n",
    "\n",
    "\n",
    "    \n",
    "DeltaT = 0.01\n",
    "#set up arrays \n",
    "tfinal = 8.0\n",
    "n = ceil(tfinal/DeltaT)\n",
    "# set up arrays for t, v and r\n",
    "t = np.zeros(n)\n",
    "v = np.zeros(n)\n",
    "r = np.zeros(n)\n",
    "phi = np.zeros(n)\n",
    "x = np.zeros(n)\n",
    "y = np.zeros(n)\n",
    "# Constants of the model, setting all variables to one for simplicity\n",
    "alpha = 1.0\n",
    "AngMom = 1.0  #  The angular momentum\n",
    "m = 1.0  # scale mass to one\n",
    "c1 = AngMom*AngMom/(m*m)\n",
    "c2 = AngMom*AngMom/m\n",
    "rmin = (AngMom*AngMom/m/alpha)\n",
    "# Initial conditions, place yourself at the potential min\n",
    "r0 = rmin\n",
    "v0 = 0.0  # starts at rest\n",
    "r[0] = r0\n",
    "v[0] = v0\n",
    "phi[0] = 0.0\n",
    "# Start integrating using the Velocity-Verlet  method\n",
    "for i in range(n-1):\n",
    "    # Set up acceleration\n",
    "    a = -alpha/(r[i]**2)+c1/(r[i]**3)\n",
    "    # update velocity, time and position using the Velocity-Verlet method\n",
    "    r[i+1] = r[i] + DeltaT*v[i]+0.5*(DeltaT**2)*a\n",
    "    anew = -alpha/(r[i+1]**2)+c1/(r[i+1]**3)\n",
    "    v[i+1] = v[i] + 0.5*DeltaT*(a+anew)\n",
    "    t[i+1] = t[i] + DeltaT\n",
    "    phi[i+1] = t[i+1]*c2/(r0**2)\n",
    "# Find cartesian coordinates for easy plot    \n",
    "x = r*np.cos(phi)\n",
    "y = r*np.sin(phi)\n",
    "fig, ax = plt.subplots(3,1)\n",
    "ax[0].set_xlabel('time')\n",
    "ax[0].set_ylabel('radius')\n",
    "ax[0].plot(t,r)\n",
    "ax[1].set_xlabel('time')\n",
    "ax[1].set_ylabel('Angle $\\cos{\\phi}$')\n",
    "ax[1].plot(t,np.cos(phi))\n",
    "ax[2].set_ylabel('y')\n",
    "ax[2].set_xlabel('x')\n",
    "ax[2].plot(x,y)\n",
    "\n",
    "save_fig(\"Phasespace\")\n",
    "plt.show()"
   ]
  },
  {
   "cell_type": "markdown",
   "id": "7823b073",
   "metadata": {},
   "source": [
    "## Changing initial conditions\n",
    "\n",
    "Try to change the initial value for $r$ and see what kind of orbits you get.\n",
    "In order to test different energies, it can be useful to look at the plot of the effective potential discussed above.\n",
    "\n",
    "However, for orbits different from a circle the above code would need modifications in order to allow us to display say an ellipse. For the latter, it is much easier to run our code in cartesian coordinates, as done here. In this code we test also energy conservation and see that it is conserved to numerical precision. The code here is a simple extension of the code we developed for homework 4."
   ]
  },
  {
   "cell_type": "code",
   "execution_count": 3,
   "id": "046db79b",
   "metadata": {},
   "outputs": [
    {
     "data": {
      "image/png": "[encoded data removed]",
      "text/plain": [
       "<Figure size 432x288 with 3 Axes>"
      ]
     },
     "metadata": {
      "needs_background": "light"
     },
     "output_type": "display_data"
    },
    {
     "name": "stdout",
     "output_type": "stream",
     "text": [
      "[-1.5        -1.49999996 -1.49999984 -1.49999964 -1.49999935 -1.49999898\n",
      " -1.49999853 -1.49999798 -1.49999734 -1.49999659 -1.49999574 -1.49999478\n",
      " -1.49999369 -1.49999247 -1.49999112 -1.49998961 -1.49998794 -1.49998609\n",
      " -1.49998404 -1.49998178 -1.49997929 -1.49997654 -1.49997351 -1.49997017\n",
      " -1.49996649 -1.49996243 -1.49995796 -1.49995304 -1.49994762 -1.49994165\n",
      " -1.49993508 -1.49992786 -1.49991994 -1.49991127 -1.4999018  -1.49989151\n",
      " -1.49988041 -1.49986852 -1.49985595 -1.49984292 -1.49982978 -1.49981712\n",
      " -1.49980588 -1.49979754 -1.49979431 -1.49979958 -1.4998184  -1.4998583\n",
      " -1.49993028 -1.50005034 -1.50024115 -1.500534   -1.50097003 -1.50159939\n",
      " -1.50247522 -1.50363822 -1.5050881  -1.50674417 -1.50841251 -1.50979454\n",
      " -1.51056842 -1.5105255  -1.50967788 -1.5082518  -1.50657253 -1.50493047\n",
      " -1.50350752 -1.50237442 -1.50152565 -1.50091821 -1.50049876 -1.50021789\n",
      " -1.50003547 -1.49992116 -1.49985304 -1.4998157  -1.49979853 -1.49979431\n",
      " -1.49979819 -1.49980692 -1.49981835 -1.49983109 -1.49984425 -1.49985725\n",
      " -1.49986975 -1.49988156 -1.49989259 -1.49990279 -1.49991218 -1.49992077\n",
      " -1.49992862 -1.49993577 -1.49994227 -1.49994819 -1.49995356 -1.49995843\n",
      " -1.49996286 -1.49996688 -1.49997052 -1.49997383 -1.49997683 -1.49997955\n",
      " -1.49998202 -1.49998426 -1.49998628 -1.49998812 -1.49998977 -1.49999126\n",
      " -1.4999926  -1.49999381 -1.49999488 -1.49999583 -1.49999667 -1.49999741\n",
      " -1.49999804 -1.49999858 -1.49999903 -1.49999939 -1.49999966 -1.49999986\n",
      " -1.49999997 -1.5        -1.49999995 -1.49999982 -1.49999961 -1.49999932\n",
      " -1.49999894 -1.49999848 -1.49999792 -1.49999727 -1.49999651 -1.49999565\n",
      " -1.49999467 -1.49999357 -1.49999234 -1.49999097 -1.49998945 -1.49998776\n",
      " -1.49998589 -1.49998382 -1.49998154 -1.49997902 -1.49997625 -1.49997319\n",
      " -1.49996981 -1.4999661  -1.499962   -1.49995749 -1.49995252 -1.49994704\n",
      " -1.49994101 -1.49993438 -1.49992709 -1.4999191  -1.49991035 -1.4999008\n",
      " -1.49989043 -1.49987924 -1.49986728 -1.49985466 -1.49984159 -1.49982847\n",
      " -1.4998159  -1.49980488 -1.49979693 -1.49979438 -1.49980076 -1.49982132\n",
      " -1.49986388 -1.49993989 -1.50006592 -1.50026544 -1.50057068 -1.5010238\n",
      " -1.50167564 -1.50257898 -1.50377191 -1.50524791 -1.50691602 -1.50857033\n",
      " -1.50990493 -1.51060284 -1.51047421 -1.50955526 -1.50808857 -1.50640137\n",
      " -1.50477517 -1.50337982 -1.50227653 -1.50145437 -1.5008683  -1.50046492\n",
      " -1.50019563 -1.50002129 -1.49991251 -1.49984809 -1.4998132  -1.49979762\n",
      " -1.4997944  -1.49979889 -1.49980797 -1.49981959 -1.49983241 -1.49984557\n",
      " -1.49985853 -1.49987097 -1.49988271 -1.49989365 -1.49990377 -1.49991308\n",
      " -1.49992159 -1.49992937 -1.49993645 -1.4999429  -1.49994875 -1.49995407\n",
      " -1.4999589  -1.49996328 -1.49996726 -1.49997087 -1.49997414 -1.49997712\n",
      " -1.49997981 -1.49998226 -1.49998447 -1.49998648 -1.49998829 -1.49998993\n",
      " -1.4999914  -1.49999273 -1.49999392 -1.49999498 -1.49999592 -1.49999675\n",
      " -1.49999747 -1.4999981  -1.49999863 -1.49999907 -1.49999942 -1.49999969\n",
      " -1.49999987 -1.49999997 -1.5        -1.49999994 -1.49999981 -1.49999959\n",
      " -1.49999929 -1.4999989  -1.49999842 -1.49999786 -1.49999719 -1.49999643\n",
      " -1.49999556 -1.49999457 -1.49999346 -1.49999221 -1.49999083 -1.49998929\n",
      " -1.49998758 -1.49998569 -1.4999836  -1.4999813  -1.49997876 -1.49997595\n",
      " -1.49997286 -1.49996946 -1.4999657  -1.49996157 -1.49995701 -1.49995199\n",
      " -1.49994646 -1.49994037 -1.49993368 -1.49992632 -1.49991825 -1.49990942\n",
      " -1.49989979 -1.49988934 -1.49987807 -1.49986604 -1.49985336 -1.49984027\n",
      " -1.49982716 -1.4998147  -1.49980391 -1.49979638 -1.49979455 -1.49980208\n",
      " -1.49982445 -1.49986979 -1.49994999 -1.50008223 -1.50029079 -1.50060886\n",
      " -1.50107959 -1.50175446 -1.50268571 -1.50390854 -1.50540978 -1.50708783\n",
      " -1.50872493 -1.51000875 -1.51062866 -1.51041471 -1.509427   -1.50792313\n",
      " -1.50623094 -1.50462231 -1.50325515 -1.50218152 -1.5013855  -1.50082025\n",
      " -1.50043244 -1.50017432 -1.50000777 -1.4999043  -1.49984344 -1.49981089\n",
      " -1.49979682 -1.49979457 -1.49979964 -1.49980906 -1.49982085 -1.49983373\n",
      " -1.49984689 -1.49985981 -1.49987219 -1.49988385 -1.49989471 -1.49990475\n",
      " -1.49991397 -1.49992241 -1.49993011 -1.49993713 -1.49994351 -1.49994931\n",
      " -1.49995458 -1.49995936 -1.4999637  -1.49996764 -1.49997121 -1.49997446\n",
      " -1.4999774  -1.49998007 -1.49998249 -1.49998468 -1.49998667 -1.49998846\n",
      " -1.49999008 -1.49999154 -1.49999286 -1.49999403 -1.49999508 -1.49999601\n",
      " -1.49999683 -1.49999754 -1.49999816 -1.49999868 -1.49999911 -1.49999945\n",
      " -1.49999971 -1.49999988 -1.49999998 -1.5        -1.49999993 -1.49999979\n",
      " -1.49999956 -1.49999925 -1.49999886 -1.49999837 -1.4999978  -1.49999712\n",
      " -1.49999635 -1.49999546 -1.49999446 -1.49999334 -1.49999208 -1.49999068\n",
      " -1.49998912 -1.4999874  -1.49998549 -1.49998338 -1.49998105 -1.49997849\n",
      " -1.49997566 -1.49997253 -1.49996909 -1.4999653  -1.49996113 -1.49995652\n",
      " -1.49995145 -1.49994587 -1.49993973 -1.49993297 -1.49992554 -1.4999174\n",
      " -1.49990849 -1.49989878 -1.49988824 -1.49987689 -1.49986478 -1.49985205\n",
      " -1.49983894 -1.49982587 -1.49981352 -1.49980297 -1.49979589 -1.49979481\n",
      " -1.49980355 -1.49982782 -1.49987606 -1.49996062 -1.50009932 -1.50031724\n",
      " -1.50064858 -1.50113745 -1.50183589 -1.50279545 -1.50404807 -1.50557355\n",
      " -1.50725931 -1.50887594 -1.51010569 -1.51064581 -1.51034718 -1.50929344\n",
      " -1.50775585 -1.50606146 -1.504472   -1.50313352 -1.50208936 -1.50131897\n",
      " -1.50077398 -1.50040126 -1.50015393 -1.49999488 -1.49989651 -1.49983907\n",
      " -1.49980877 -1.49979615 -1.49979481 -1.49980043 -1.49981016 -1.49982211\n",
      " -1.49983506 -1.49984821 -1.49986109 -1.4998734  -1.49988498 -1.49989576\n",
      " -1.49990571 -1.49991486 -1.49992322 -1.49993085 -1.4999378  -1.49994412\n",
      " -1.49994987 -1.49995508 -1.49995982 -1.49996411 -1.49996802 -1.49997156\n",
      " -1.49997477 -1.49997768 -1.49998032 -1.49998272 -1.49998489 -1.49998686\n",
      " -1.49998863 -1.49999024 -1.49999168 -1.49999298 -1.49999414 -1.49999518\n",
      " -1.4999961  -1.4999969  -1.49999761 -1.49999821 -1.49999872 -1.49999914\n",
      " -1.49999948 -1.49999973 -1.4999999  -1.49999999 -1.49999999 -1.49999992\n",
      " -1.49999977 -1.49999953 -1.49999922 -1.49999881 -1.49999832 -1.49999773\n",
      " -1.49999705 -1.49999626 -1.49999537 -1.49999435 -1.49999322 -1.49999195\n",
      " -1.49999053 -1.49998896 -1.49998722 -1.49998529 -1.49998316 -1.49998081\n",
      " -1.49997821 -1.49997535 -1.4999722  -1.49996873 -1.4999649  -1.49996068\n",
      " -1.49995603 -1.49995092 -1.49994528 -1.49993907 -1.49993225 -1.49992475\n",
      " -1.49991654 -1.49990755 -1.49989775 -1.49988713 -1.4998757  -1.49986353\n",
      " -1.49985074 -1.49983761 -1.49982457 -1.49981235 -1.49980207 -1.49979546\n",
      " -1.49979517 -1.49980518 -1.49983142 -1.49988269 -1.49997179 -1.5001172\n",
      " -1.50034484 -1.50068989 -1.50119744 -1.50191999 -1.5029082  -1.50419046\n",
      " -1.50573905 -1.50743018 -1.50902301 -1.5101955  -1.51065423 -1.51027181\n",
      " -1.50915493 -1.50758703 -1.50589314 -1.50432432 -1.50301493 -1.502\n",
      " -1.50125473 -1.50072947 -1.50037135 -1.50013443 -1.4999826  -1.49988914\n",
      " -1.49983497 -1.49980682 -1.49979559 -1.49979512 -1.49980126 -1.49981129\n",
      " -1.49982339 -1.49983638 -1.49984953 -1.49986236 -1.4998746  -1.49988611\n",
      " -1.4998968  -1.49990667 -1.49991573 -1.49992402 -1.49993158 -1.49993847\n",
      " -1.49994473 -1.49995041 -1.49995558 -1.49996027 -1.49996453 -1.49996839\n",
      " -1.49997189 -1.49997507 -1.49997796 -1.49998058 -1.49998295 -1.4999851\n",
      " -1.49998704 -1.4999888  -1.49999039 -1.49999182 -1.4999931  -1.49999425\n",
      " -1.49999528 -1.49999618 -1.49999698 -1.49999767 -1.49999827 -1.49999877\n",
      " -1.49999918 -1.49999951 -1.49999975 -1.49999991 -1.49999999 -1.49999999\n",
      " -1.49999991 -1.49999975 -1.49999951 -1.49999918 -1.49999877 -1.49999826\n",
      " -1.49999767 -1.49999697 -1.49999618 -1.49999527 -1.49999424 -1.49999309\n",
      " -1.49999181 -1.49999038 -1.49998879 -1.49998703 -1.49998508 -1.49998293\n",
      " -1.49998056 -1.49997794 -1.49997505 -1.49997187 -1.49996836 -1.49996449\n",
      " -1.49996023 -1.49995554 -1.49995037 -1.49994468 -1.49993841 -1.49993153\n",
      " -1.49992396 -1.49991567 -1.4999066  -1.49989672 -1.49988602 -1.49987451\n",
      " -1.49986226 -1.49984943 -1.49983628 -1.49982329 -1.4998112  -1.4998012\n",
      " -1.49979509 -1.49979563 -1.49980697 -1.49983528 -1.49988969 -1.49998353\n",
      " -1.50013591 -1.50037362 -1.50073284 -1.50125961 -1.5020068  -1.50302398\n",
      " -1.50433563 -1.5059061  -1.50760012 -1.50916579 -1.5102779  -1.51065389\n",
      " -1.51018882 -1.5090118  -1.50741701 -1.5057262  -1.50417936 -1.50289938\n",
      " -1.5019134  -1.50119273 -1.50068664 -1.50034266 -1.50011579 -1.49997091\n",
      " -1.49988216 -1.49983114 -1.49980505 -1.49979514 -1.49979549 -1.49980214\n",
      " -1.49981244 -1.49982467 -1.49983771 -1.49985084 -1.49986362 -1.4998758\n",
      " -1.49988722 -1.49989783 -1.49990762 -1.4999166  -1.49992482 -1.49993231\n",
      " -1.49993912 -1.49994532 -1.49995096 -1.49995607 -1.49996072 -1.49996493\n",
      " -1.49996876 -1.49997223 -1.49997538 -1.49997824 -1.49998083 -1.49998318\n",
      " -1.4999853  -1.49998723 -1.49998897 -1.49999054 -1.49999196 -1.49999323\n",
      " -1.49999436 -1.49999537 -1.49999627 -1.49999705 -1.49999774 -1.49999832\n",
      " -1.49999881 -1.49999922 -1.49999954 -1.49999977 -1.49999992 -1.49999999\n",
      " -1.49999999 -1.4999999  -1.49999973 -1.49999948 -1.49999914 -1.49999872\n",
      " -1.49999821 -1.4999976  -1.4999969  -1.49999609 -1.49999517 -1.49999413\n",
      " -1.49999297 -1.49999167 -1.49999023 -1.49998862 -1.49998684 -1.49998488\n",
      " -1.4999827  -1.4999803  -1.49997766 -1.49997474 -1.49997153 -1.49996799\n",
      " -1.49996408 -1.49995978 -1.49995504 -1.49994982 -1.49994408 -1.49993775\n",
      " -1.49993079 -1.49992316 -1.49991479 -1.49990564 -1.49989568 -1.49988489\n",
      " -1.49987331 -1.49986099 -1.49984811 -1.49983496 -1.49982202 -1.49981008\n",
      " -1.49980037 -1.49979479 -1.4997962  -1.49980893 -1.4998394  -1.4998971\n",
      " -1.49999586 -1.50015547 -1.50040363 -1.5007775  -1.50132402 -1.50209638\n",
      " -1.50314281 -1.50448352 -1.50607451 -1.50776883 -1.50930394 -1.51035268\n",
      " -1.5106448  -1.51009845 -1.50886441 -1.50724608 -1.50556083 -1.50403719\n",
      " -1.50278686 -1.50182951 -1.50113291 -1.50064545 -1.50031516 -1.50009797\n",
      " -1.49995978 -1.49987556 -1.49982755 -1.49980343 -1.49979479 -1.49979593\n",
      " -1.49980304 -1.49981361 -1.49982597 -1.49983904 -1.49985215 -1.49986488\n",
      " -1.49987698 -1.49988833 -1.49989886 -1.49990856 -1.49991746 -1.4999256\n",
      " -1.49993302 -1.49993978 -1.49994592 -1.4999515  -1.49995656 -1.49996116\n",
      " -1.49996533 -1.49996912 -1.49997256 -1.49997568 -1.49997851 -1.49998107\n",
      " -1.4999834  -1.49998551 -1.49998741 -1.49998914 -1.49999069 -1.49999209\n",
      " -1.49999335 -1.49999447 -1.49999547 -1.49999635 -1.49999713 -1.4999978\n",
      " -1.49999838 -1.49999886 -1.49999925 -1.49999956 -1.49999979 -1.49999993\n",
      " -1.5        -1.49999998 -1.49999988 -1.49999971 -1.49999945 -1.4999991\n",
      " -1.49999867 -1.49999815 -1.49999754 -1.49999682 -1.499996   -1.49999507\n",
      " -1.49999402 -1.49999285 -1.49999153 -1.49999007 -1.49998845 -1.49998665\n",
      " -1.49998467 -1.49998247 -1.49998005 -1.49997738 -1.49997443 -1.49997119\n",
      " -1.49996761 -1.49996367 -1.49995932 -1.49995454 -1.49994927 -1.49994346\n",
      " -1.49993708 -1.49993006 -1.49992235 -1.4999139  -1.49990467 -1.49989463\n",
      " -1.49988376 -1.4998721  -1.49985972 -1.49984679 -1.49983363 -1.49982075\n",
      " -1.49980897 -1.49979958 -1.49979455 -1.49979688 -1.49981106 -1.49984379\n",
      " -1.49990491 -1.50000879 -1.50017593 -1.5004349  -1.50082389 -1.50139073\n",
      " -1.50218876 -1.50326468 -1.50463403 -1.50624407 -1.50793598 -1.5094371\n",
      " -1.5104196  -1.51062698 -1.51000097 -1.50871311 -1.50707457 -1.50539721\n",
      " -1.50389788 -1.50267736 -1.50174828 -1.50107521 -1.50060585 -1.50028879\n",
      " -1.50008095 -1.49994919 -1.49986932 -1.4998242  -1.49980197 -1.49979453\n",
      " -1.49979642 -1.49980398 -1.49981479 -1.49982726 -1.49984037 -1.49985346\n",
      " -1.49986613 -1.49987816 -1.49988943 -1.49989987 -1.49990949 -1.49991832\n",
      " -1.49992638 -1.49993373 -1.49994042 -1.4999465  -1.49995203 -1.49995705\n",
      " -1.4999616  -1.49996573 -1.49996948 -1.49997289 -1.49997598 -1.49997878\n",
      " -1.49998132 -1.49998362 -1.49998571 -1.4999876  -1.4999893  -1.49999084\n",
      " -1.49999222 -1.49999347 -1.49999458 -1.49999556 -1.49999644 -1.4999972\n",
      " -1.49999786 -1.49999843 -1.4999989  -1.49999929 -1.49999959 -1.49999981\n",
      " -1.49999994 -1.5        -1.49999997 -1.49999987 -1.49999968 -1.49999942\n",
      " -1.49999906 -1.49999862 -1.49999809 -1.49999747 -1.49999674 -1.49999591\n",
      " -1.49999497 -1.49999391 -1.49999272 -1.49999139 -1.49998992 -1.49998828\n",
      " -1.49998646 -1.49998446 -1.49998224 -1.49997979 -1.49997709 -1.49997412\n",
      " -1.49997084 -1.49996723 -1.49996325 -1.49995886 -1.49995403 -1.49994871\n",
      " -1.49994285 -1.4999364  -1.49992931 -1.49992153]\n"
     ]
    }
   ],
   "source": [
    "# Common imports\n",
    "import numpy as np\n",
    "import pandas as pd\n",
    "from math import *\n",
    "import matplotlib.pyplot as plt\n",
    "\n",
    "DeltaT = 0.01\n",
    "#set up arrays \n",
    "tfinal = 10.0\n",
    "n = ceil(tfinal/DeltaT)\n",
    "# set up arrays\n",
    "t = np.zeros(n)\n",
    "v = np.zeros((n,2))\n",
    "r = np.zeros((n,2))\n",
    "E = np.zeros(n)\n",
    "# Constants of the model\n",
    "m = 1.0   # mass, you can change these\n",
    "alpha = 1.0\n",
    "# Initial conditions as compact 2-dimensional arrays\n",
    "x0 = 0.5; y0= 0.\n",
    "r0 = np.array([x0,y0]) \n",
    "v0 = np.array([0.0,1.0])\n",
    "r[0] = r0\n",
    "v[0] = v0\n",
    "rabs = sqrt(sum(r[0]*r[0]))\n",
    "E[0] = 0.5*m*(v[0,0]**2+v[0,1]**2)-alpha/rabs\n",
    "# Start integrating using the Velocity-Verlet  method\n",
    "for i in range(n-1):\n",
    "    # Set up the acceleration\n",
    "    rabs = sqrt(sum(r[i]*r[i]))\n",
    "    a =  -alpha*r[i]/(rabs**3)\n",
    "    # update velocity, time and position using the Velocity-Verlet method\n",
    "    r[i+1] = r[i] + DeltaT*v[i]+0.5*(DeltaT**2)*a\n",
    "    rabs = sqrt(sum(r[i+1]*r[i+1]))\n",
    "    anew = -alpha*r[i+1]/(rabs**3)\n",
    "    v[i+1] = v[i] + 0.5*DeltaT*(a+anew)\n",
    "    E[i+1] = 0.5*m*(v[i+1,0]**2+v[i+1,1]**2)-alpha/rabs\n",
    "    t[i+1] = t[i] + DeltaT\n",
    "# Plot position as function of time\n",
    "fig, ax = plt.subplots(3,1)\n",
    "ax[0].set_ylabel('y')\n",
    "ax[0].set_xlabel('x')\n",
    "ax[0].plot(r[:,0],r[:,1])\n",
    "ax[1].set_xlabel('time')\n",
    "ax[1].set_ylabel('y position')\n",
    "ax[1].plot(t,r[:,0])\n",
    "ax[2].set_xlabel('time')\n",
    "ax[2].set_ylabel('y position')\n",
    "ax[2].plot(t,r[:,1])\n",
    "\n",
    "fig.tight_layout()\n",
    "save_fig(\"2DimGravity\")\n",
    "plt.show()\n",
    "print(E)"
   ]
  },
  {
   "cell_type": "markdown",
   "id": "ac7e336b",
   "metadata": {},
   "source": [
    "## Different Potential\n",
    "\n",
    "Let us now try another potential, given by"
   ]
  },
  {
   "cell_type": "markdown",
   "id": "7a45f716",
   "metadata": {},
   "source": [
    "$$\n",
    "V(r) = \\beta r,\n",
    "$$"
   ]
  },
  {
   "cell_type": "markdown",
   "id": "b973f0b6",
   "metadata": {},
   "source": [
    "where $\\beta$ is constant we assume is larger than zero. This type of potential has played an importan role in modeling confinement of quarks in non-relativistic models for the interactions among quarks, see for example <https://journals.aps.org/prl/pdf/10.1103/PhysRevLett.44.1369> \n",
    "\n",
    "Adding the angular momentum part, we obtain the effective potential"
   ]
  },
  {
   "cell_type": "markdown",
   "id": "7ee85a48",
   "metadata": {},
   "source": [
    "$$\n",
    "V_{\\mathrm{eff}}(r) = \\beta r+\\frac{L^2}{2\\mu r^2},\n",
    "$$"
   ]
  },
  {
   "cell_type": "markdown",
   "id": "fa4d21a8",
   "metadata": {},
   "source": [
    "and taking the derivative with respect to $r$, we get the radial force"
   ]
  },
  {
   "cell_type": "markdown",
   "id": "905a8288",
   "metadata": {},
   "source": [
    "$$\n",
    "F_r=-\\frac{dV_{\\mathrm{eff}}(r)}{dr} = -\\beta+\\frac{L^2}{\\mu r^3}.\n",
    "$$"
   ]
  },
  {
   "cell_type": "markdown",
   "id": "e5874d79",
   "metadata": {},
   "source": [
    "It gives us in turn a radial acceleration $a_r$"
   ]
  },
  {
   "cell_type": "markdown",
   "id": "b7391cd5",
   "metadata": {},
   "source": [
    "$$\n",
    "a_r= -\\frac{\\beta}{\\mu}+\\frac{L^2}{\\mu^2 r^3}.\n",
    "$$"
   ]
  },
  {
   "cell_type": "markdown",
   "id": "eb34edae",
   "metadata": {},
   "source": [
    "This is the equation we need to include in our code. I have not been able to find out if there is an analytical solution to the above equation. If you can find one, there is a reward of $50$ USD to the first one who finds. Numerically life is very easy, we just define a new acceleration, as seen below."
   ]
  },
  {
   "cell_type": "markdown",
   "id": "016f7689",
   "metadata": {},
   "source": [
    "## Plotting the Effective Potential\n",
    "\n",
    "First however, we plot the effective potential in order to get a feeling of what we may expect.\n",
    "\n",
    "The following code plots this effective potential for a simple choice of parameters, with a potential $\\beta r $. Here we have chosen $L=m=\\beta=1$."
   ]
  },
  {
   "cell_type": "code",
   "execution_count": 4,
   "id": "70297e71",
   "metadata": {},
   "outputs": [
    {
     "data": {
      "image/png": "[encoded data removed]",
      "text/plain": [
       "<Figure size 432x288 with 1 Axes>"
      ]
     },
     "metadata": {
      "needs_background": "light"
     },
     "output_type": "display_data"
    }
   ],
   "source": [
    "# Common imports\n",
    "import numpy as np\n",
    "from math import *\n",
    "import matplotlib.pyplot as plt\n",
    "\n",
    "Deltax = 0.01\n",
    "#set up arrays\n",
    "xinitial = 0.3\n",
    "xfinal = 5.0\n",
    "beta = 1.0   # spring constant\n",
    "m = 1.0   # mass, you can change these\n",
    "AngMom = 1.0  #  The angular momentum\n",
    "n = ceil((xfinal-xinitial)/Deltax)\n",
    "x = np.zeros(n)\n",
    "for i in range(n):\n",
    "    x[i] = xinitial+i*Deltax\n",
    "V = np.zeros(n)\n",
    "V = beta*x+0.5*AngMom*AngMom/(m*x*x)\n",
    "# Plot potential\n",
    "fig, ax = plt.subplots()\n",
    "ax.set_xlabel('r[m]')\n",
    "ax.set_ylabel('V[J]')\n",
    "ax.plot(x, V)\n",
    "fig.tight_layout()\n",
    "plt.show()"
   ]
  },
  {
   "cell_type": "markdown",
   "id": "f2a8acfb",
   "metadata": {},
   "source": [
    "## Finding the Minimum for Circular Orbits\n",
    "\n",
    "We take now the derivative of the effective potential in order to find its minimum, that is"
   ]
  },
  {
   "cell_type": "markdown",
   "id": "d9641863",
   "metadata": {},
   "source": [
    "$$\n",
    "\\frac{dV_{\\mathrm{eff}}(r)}{dr} = \\beta-\\frac{L^2}{\\mu r^3}=0,\n",
    "$$"
   ]
  },
  {
   "cell_type": "markdown",
   "id": "9b462d7a",
   "metadata": {},
   "source": [
    "which gives us $r_{\\mathrm{min}}$"
   ]
  },
  {
   "cell_type": "markdown",
   "id": "f02a4160",
   "metadata": {},
   "source": [
    "$$\n",
    "r_{\\mathrm{min}}=\\left [\\frac{L^2}{\\beta \\mu}\\right ]^{1/3}.\n",
    "$$"
   ]
  },
  {
   "cell_type": "markdown",
   "id": "a0f7c7ab",
   "metadata": {},
   "source": [
    "With the above choice of parameters this gives $r_{\\mathrm{min}}=1$. \n",
    "\n",
    "In the code here we solve the equations of motion and find the time-evolution of the radius $r$."
   ]
  },
  {
   "cell_type": "markdown",
   "id": "4718aa72",
   "metadata": {},
   "source": [
    "## Numerical Studies"
   ]
  },
  {
   "cell_type": "code",
   "execution_count": 5,
   "id": "4074beab",
   "metadata": {},
   "outputs": [
    {
     "data": {
      "image/png": "[encoded data removed]",
      "text/plain": [
       "<Figure size 432x288 with 1 Axes>"
      ]
     },
     "metadata": {
      "needs_background": "light"
     },
     "output_type": "display_data"
    }
   ],
   "source": [
    "DeltaT = 0.01\n",
    "#set up arrays \n",
    "tfinal = 8.0\n",
    "n = ceil(tfinal/DeltaT)\n",
    "# set up arrays for t, v and r\n",
    "t = np.zeros(n)\n",
    "v = np.zeros(n)\n",
    "r = np.zeros(n)\n",
    "# Constants of the model, setting all variables to one for simplicity\n",
    "beta = 1.0\n",
    "AngMom = 1.0  #  The angular momentum\n",
    "m = 1.0  # scale mass to one\n",
    "c1 = AngMom*AngMom/(m*m)\n",
    "c2 = AngMom*AngMom/m\n",
    "rmin = (AngMom*AngMom/m/beta)**(1./3.)\n",
    "# Initial conditions, place yourself at the potential min\n",
    "r0 = rmin\n",
    "v0 = 0.0  # starts at rest\n",
    "r[0] = r0\n",
    "v[0] = v0\n",
    "# Start integrating using the Velocity-Verlet  method\n",
    "for i in range(n-1):\n",
    "    # Set up acceleration\n",
    "    a = -beta+c1/(r[i]**3)\n",
    "    # update velocity, time and position using the Velocity-Verlet method\n",
    "    r[i+1] = r[i] + DeltaT*v[i]+0.5*(DeltaT**2)*a\n",
    "    anew = -beta+c1/(r[i+1]**3)\n",
    "    v[i+1] = v[i] + 0.5*DeltaT*(a+anew)\n",
    "    t[i+1] = t[i] + DeltaT\n",
    "#plotting\n",
    "plt.xlabel('time')\n",
    "plt.ylabel('radius')\n",
    "plt.plot(t,r)\n",
    "save_fig(\"LinearPotential\")\n",
    "plt.show()"
   ]
  },
  {
   "cell_type": "markdown",
   "id": "61c0b998",
   "metadata": {},
   "source": [
    "We see that if we run with the initial condition corresponding to a circular orbit, our radius stays constant as function of time."
   ]
  },
  {
   "cell_type": "markdown",
   "id": "081e8065",
   "metadata": {},
   "source": [
    "## Scattering and Cross Sections\n",
    "\n",
    "Scattering experiments don't measure entire trajectories. For elastic\n",
    "collisions, they measure the distribution of final scattering angles\n",
    "at best. Most experiments use targets thin enough so that the number\n",
    "of scatterings is typically zero or one. The cross section, $\\sigma$,\n",
    "describes the cross-sectional area for particles to scatter with an\n",
    "individual target atom or nucleus. Cross section measurements form the\n",
    "basis for MANY fields of physics. BThe cross section, and the\n",
    "differential cross section, encapsulates everything measurable for a\n",
    "collision where all that is measured is the final state, e.g. the\n",
    "outgoing particle had momentum $\\boldsymbol{p}_f$. y studying cross sections,\n",
    "one can infer information about the potential interaction between the\n",
    "two particles. Inferring, or constraining, the potential from the\n",
    "cross section is a classic {\\it inverse} problem. Collisions are\n",
    "either elastic or inelastic. Elastic collisions are those for which\n",
    "the two bodies are in the same internal state before and after the\n",
    "collision. If the collision excites one of the participants into a\n",
    "higher state, or transforms the particles into different species, or\n",
    "creates additional particles, the collision is inelastic. Here, we\n",
    "consider only elastic collisions."
   ]
  },
  {
   "cell_type": "markdown",
   "id": "1774ba36",
   "metadata": {},
   "source": [
    "## Scattering: Coulomb forces\n",
    "\n",
    "For Coulomb forces, the cross section is infinite because the range of\n",
    "the Coulomb force is infinite, but for interactions such as the strong\n",
    "interaction in nuclear or particle physics, there is no long-range\n",
    "force and cross-sections are finite. Even for Coulomb forces, the part\n",
    "of the cross section that corresponds to a specific scattering angle,\n",
    "$d\\sigma/d\\Omega$, which is a function of the scattering angle\n",
    "$\\theta_s$ is still finite.\n",
    "\n",
    "If a particle travels through a thin target, the chance the particle\n",
    "scatters is $P_{\\rm scatt}=\\sigma dN/dA$, where $dN/dA$ is the number\n",
    "of scattering centers per area the particle encounters. If the density\n",
    "of the target is $\\rho$ particles per volume, and if the thickness of\n",
    "the target is $t$, the areal density (number of target scatterers per\n",
    "area) is $dN/dA=\\rho t$. Because one wishes to quantify the collisions\n",
    "independently of the target, experimentalists measure scattering\n",
    "probabilities, then divide by the areal density to obtain\n",
    "cross-sections,"
   ]
  },
  {
   "cell_type": "markdown",
   "id": "f64c8fce",
   "metadata": {},
   "source": [
    "$$\n",
    "\\begin{eqnarray}\n",
    "\\sigma=\\frac{P_{\\rm scatt}}{dN/dA}.\n",
    "\\end{eqnarray}\n",
    "$$"
   ]
  },
  {
   "cell_type": "markdown",
   "id": "d2ad8e9c",
   "metadata": {},
   "source": [
    "## Scattering, more details\n",
    "\n",
    "Instead of merely stating that a particle collided, one can measure\n",
    "the probability the particle scattered by a given angle. The\n",
    "scattering angle $\\theta_s$ is defined so that at zero the particle is\n",
    "unscattered and at $\\theta_s=\\pi$ the particle is scattered directly\n",
    "backward. Scattering angles are often described in the center-of-mass\n",
    "frame, but that is a detail we will neglect for this first discussion,\n",
    "where we will consider the scattering of particles moving classically\n",
    "under the influence of fixed potentials $U(\\boldsymbol{r})$. Because the\n",
    "distribution of scattering angles can be measured, one expresses the\n",
    "differential cross section,"
   ]
  },
  {
   "cell_type": "markdown",
   "id": "2b2ceed0",
   "metadata": {},
   "source": [
    "<!-- Equation labels as ordinary links -->\n",
    "<div id=\"_auto1\"></div>\n",
    "\n",
    "$$\n",
    "\\begin{equation}\n",
    "\\frac{d^2\\sigma}{d\\cos\\theta_s~d\\phi}.\n",
    "\\label{_auto1} \\tag{1}\n",
    "\\end{equation}\n",
    "$$"
   ]
  },
  {
   "cell_type": "markdown",
   "id": "b0bbba7a",
   "metadata": {},
   "source": [
    "Usually, the literature expresses differential cross sections as"
   ]
  },
  {
   "cell_type": "markdown",
   "id": "5ccf5705",
   "metadata": {},
   "source": [
    "<!-- Equation labels as ordinary links -->\n",
    "<div id=\"_auto2\"></div>\n",
    "\n",
    "$$\n",
    "\\begin{equation}\n",
    "d\\sigma/d\\Omega=\\frac{d\\sigma}{d\\cos\\theta d\\phi}=\\frac{1}{2\\pi}\\frac{d\\sigma}{d\\cos\\theta},\n",
    "\\label{_auto2} \\tag{2}\n",
    "\\end{equation}\n",
    "$$"
   ]
  },
  {
   "cell_type": "markdown",
   "id": "ef4d3416",
   "metadata": {},
   "source": [
    "where the last equivalency is true when the scattering does not depend\n",
    "on the azimuthal angle $\\phi$, as is the case for spherically\n",
    "symmetric potentials.\n",
    "\n",
    "The differential solid angle $d\\Omega$ can be thought of as the area\n",
    "subtended by a measurement, $dA_d$, divided by $r^2$, where $r$ is the\n",
    "distance to the detector,"
   ]
  },
  {
   "cell_type": "markdown",
   "id": "fd801dbc",
   "metadata": {},
   "source": [
    "$$\n",
    "\\begin{eqnarray}\n",
    "dA_d=r^2 d\\Omega.\n",
    "\\end{eqnarray}\n",
    "$$"
   ]
  },
  {
   "cell_type": "markdown",
   "id": "9ff9fe5e",
   "metadata": {},
   "source": [
    "With this definition $d\\sigma/d\\Omega$ is independent of the distance\n",
    "from which one places the detector, or the size of the detector (as\n",
    "long as it is small)."
   ]
  },
  {
   "cell_type": "markdown",
   "id": "3e2ad6af",
   "metadata": {},
   "source": [
    "## Differential scattering cross sections\n",
    "\n",
    "Differential scattering cross sections are calculated by assuming a\n",
    "random distribution of impact parameters $b$. These represent the\n",
    "distance in the $xy$ plane for particles moving in the $z$ direction\n",
    "relative to the scattering center. An impact parameter $b=0$ refers to\n",
    "being aimed directly at the target's center. The impact parameter\n",
    "describes the transverse distance from the $z=0$ axis for the\n",
    "trajectory when it is still far away from the scattering center and\n",
    "has not yet passed it. The differential cross section can be expressed\n",
    "in terms of the impact parameter,"
   ]
  },
  {
   "cell_type": "markdown",
   "id": "0dccbc98",
   "metadata": {},
   "source": [
    "<!-- Equation labels as ordinary links -->\n",
    "<div id=\"_auto3\"></div>\n",
    "\n",
    "$$\n",
    "\\begin{equation}\n",
    "d\\sigma=2\\pi bdb,\n",
    "\\label{_auto3} \\tag{3}\n",
    "\\end{equation}\n",
    "$$"
   ]
  },
  {
   "cell_type": "markdown",
   "id": "17ebcf79",
   "metadata": {},
   "source": [
    "which is the area of a thin ring of radius $b$ and thickness $db$. In\n",
    "classical physics, one can calculate the trajectory given the incoming\n",
    "kinetic energy $E$ and the impact parameter if one knows the mass and\n",
    "potential."
   ]
  },
  {
   "cell_type": "markdown",
   "id": "6888ca6d",
   "metadata": {},
   "source": [
    "## More on Differential  Cross Sections\n",
    "\n",
    "From the trajectory, one then finds the scattering angle\n",
    "$\\theta_s(b)$. The differential cross section is then"
   ]
  },
  {
   "cell_type": "markdown",
   "id": "5afadf84",
   "metadata": {},
   "source": [
    "<!-- Equation labels as ordinary links -->\n",
    "<div id=\"_auto4\"></div>\n",
    "\n",
    "$$\n",
    "\\begin{equation}\n",
    "\\frac{d\\sigma}{d\\Omega}=\\frac{1}{2\\pi}\\frac{d\\sigma}{d\\cos\\theta_s}=b\\frac{db}{d\\cos\\theta_s}=\\frac{b}{(d/db)\\cos\\theta_s(b)}.\n",
    "\\label{_auto4} \\tag{4}\n",
    "\\end{equation}\n",
    "$$"
   ]
  },
  {
   "cell_type": "markdown",
   "id": "07f1b00a",
   "metadata": {},
   "source": [
    "Typically, one would calculate $\\cos\\theta_s$ and $(d/db)\\cos\\theta_s$\n",
    "as functions of $b$. This is sufficient to plot the differential cross\n",
    "section as a function of $\\theta_s$.\n",
    "\n",
    "The total cross section is"
   ]
  },
  {
   "cell_type": "markdown",
   "id": "41afe985",
   "metadata": {},
   "source": [
    "<!-- Equation labels as ordinary links -->\n",
    "<div id=\"_auto5\"></div>\n",
    "\n",
    "$$\n",
    "\\begin{equation}\n",
    "\\sigma_{\\rm tot}=\\int d\\Omega\\frac{d\\sigma}{d\\Omega}=2\\pi\\int d\\cos\\theta_s~\\frac{d\\sigma}{d\\Omega}. \n",
    "\\label{_auto5} \\tag{5}\n",
    "\\end{equation}\n",
    "$$"
   ]
  },
  {
   "cell_type": "markdown",
   "id": "dc4d65bf",
   "metadata": {},
   "source": [
    "Even if the total cross section is infinite, e.g. Coulomb forces, one\n",
    "can still have a finite differential cross section as we will see\n",
    "later on."
   ]
  },
  {
   "cell_type": "markdown",
   "id": "c67d063c",
   "metadata": {},
   "source": [
    "## Rutherford Scattering\n",
    "\n",
    "This refers to the calculation of $d\\sigma/d\\Omega$ due to an inverse\n",
    "square force, $F_{12}=\\pm\\alpha/r^2$ for repulsive/attractive\n",
    "interaction. Rutherford compared the scattering of $\\alpha$ particles\n",
    "($^4$He nuclei) off of a nucleus and found the scattering angle at\n",
    "which the formula began to fail. This corresponded to the impact\n",
    "parameter for which the trajectories would strike the nucleus. This\n",
    "provided the first measure of the size of the atomic nucleus. At the\n",
    "time, the distribution of the positive charge (the protons) was\n",
    "considered to be just as spread out amongst the atomic volume as the\n",
    "electrons. After Rutherford's experiment, it was clear that the radius\n",
    "of the nucleus tended to be roughly 4 orders of magnitude smaller than\n",
    "that of the atom, which is less than the size of a football relative\n",
    "to Spartan Stadium."
   ]
  },
  {
   "cell_type": "markdown",
   "id": "fbf5597e",
   "metadata": {},
   "source": [
    "## Rutherford Scattering, more details\n",
    "\n",
    "In order to calculate differential cross section, we must find how the\n",
    "impact parameter is related to the scattering angle. This requires\n",
    "analysis of the trajectory. We consider our previous expression for\n",
    "the trajectory where we derived the elliptic form for the trajectory,\n",
    "For that case we considered an attractive\n",
    "force with the particle's energy being negative, i.e. it was\n",
    "bound. However, the same form will work for positive energy, and\n",
    "repulsive forces can be considered by simple flipping the sign of\n",
    "$\\alpha$. For positive energies, the trajectories will be hyperbolas,\n",
    "rather than ellipses, with the asymptotes of the trajectories\n",
    "representing the directions of the incoming and outgoing\n",
    "tracks."
   ]
  },
  {
   "cell_type": "markdown",
   "id": "eaf42a56",
   "metadata": {},
   "source": [
    "## Rutherford Scattering, final trajectories\n",
    "\n",
    "We have"
   ]
  },
  {
   "cell_type": "markdown",
   "id": "2bb8f4ec",
   "metadata": {},
   "source": [
    "<!-- Equation labels as ordinary links -->\n",
    "<div id=\"eq:ruthtraj\"></div>\n",
    "\n",
    "$$\n",
    "\\begin{equation}\\label{eq:ruthtraj} \\tag{6}\n",
    "r=\\frac{1}{\\frac{m\\alpha}{L^2}+A\\cos\\theta}.\n",
    "\\end{equation}\n",
    "$$"
   ]
  },
  {
   "cell_type": "markdown",
   "id": "9fae43a2",
   "metadata": {},
   "source": [
    "Once $A$ is large enough, which will happen when the energy is\n",
    "positive, the denominator will become negative for a range of\n",
    "$\\theta$. This is because the scattered particle will never reach\n",
    "certain angles. The asymptotic angles $\\theta'$ are those for which\n",
    "the denominator goes to zero,"
   ]
  },
  {
   "cell_type": "markdown",
   "id": "dfb8056d",
   "metadata": {},
   "source": [
    "<!-- Equation labels as ordinary links -->\n",
    "<div id=\"_auto6\"></div>\n",
    "\n",
    "$$\n",
    "\\begin{equation}\n",
    "\\cos\\theta'=-\\frac{m\\alpha}{AL^2}.\n",
    "\\label{_auto6} \\tag{7}\n",
    "\\end{equation}\n",
    "$$"
   ]
  },
  {
   "cell_type": "markdown",
   "id": "02f4e892",
   "metadata": {},
   "source": [
    "## Rutherford Scattering, Closest Approach\n",
    "\n",
    "The trajectory's point of closest approach is at $\\theta=0$ and the\n",
    "two angles $\\theta'$, which have this value of $\\cos\\theta'$, are the\n",
    "angles of the incoming and outgoing particles. From\n",
    "Fig (**to come**), one can see that the scattering angle\n",
    "$\\theta_s$ is given by,"
   ]
  },
  {
   "cell_type": "markdown",
   "id": "5acd1d9c",
   "metadata": {},
   "source": [
    "<!-- Equation labels as ordinary links -->\n",
    "<div id=\"eq:sthetover2\"></div>\n",
    "\n",
    "$$\n",
    "\\begin{eqnarray}\n",
    "\\label{eq:sthetover2} \\tag{8}\n",
    "2\\theta'-\\pi&=&\\theta_s,~~~\\theta'=\\frac{\\pi}{2}+\\frac{\\theta_s}{2},\\\\\n",
    "\\nonumber\n",
    "\\sin(\\theta_s/2)&=&-\\cos\\theta'\\\\\n",
    "\\nonumber\n",
    "&=&\\frac{m\\alpha}{AL^2}.\n",
    "\\end{eqnarray}\n",
    "$$"
   ]
  },
  {
   "cell_type": "markdown",
   "id": "700f8a7a",
   "metadata": {},
   "source": [
    "Now that we have $\\theta_s$ in terms of $m,\\alpha,L$ and $A$, we wish\n",
    "to re-express $L$ and $A$ in terms of the impact parameter $b$ and the\n",
    "energy $E$. This will set us up to calculate the differential cross\n",
    "section, which requires knowing $db/d\\theta_s$. It is easy to write\n",
    "the angular momentum as"
   ]
  },
  {
   "cell_type": "markdown",
   "id": "91b2b5e4",
   "metadata": {},
   "source": [
    "<!-- Equation labels as ordinary links -->\n",
    "<div id=\"_auto7\"></div>\n",
    "\n",
    "$$\n",
    "\\begin{equation}\n",
    "L^2=p_0^2b^2=2mEb^2.\n",
    "\\label{_auto7} \\tag{9}\n",
    "\\end{equation}\n",
    "$$"
   ]
  },
  {
   "cell_type": "markdown",
   "id": "c4b996e5",
   "metadata": {},
   "source": [
    "## Rutherford Scattering, getting there\n",
    "\n",
    "Finding $A$ is more complicated. To accomplish this we realize that\n",
    "the point of closest approach occurs at $\\theta=0$, so from\n",
    "Eq. ([6](#eq:ruthtraj))"
   ]
  },
  {
   "cell_type": "markdown",
   "id": "b912abb6",
   "metadata": {},
   "source": [
    "<!-- Equation labels as ordinary links -->\n",
    "<div id=\"eq:rminofA\"></div>\n",
    "\n",
    "$$\n",
    "\\begin{eqnarray}\n",
    "\\label{eq:rminofA} \\tag{10}\n",
    "\\frac{1}{r_{\\rm min}}&=&\\frac{m\\alpha}{L^2}+A,\\\\\n",
    "\\nonumber\n",
    "A&=&\\frac{1}{r_{\\rm min}}-\\frac{m\\alpha}{L^2}.\n",
    "\\end{eqnarray}\n",
    "$$"
   ]
  },
  {
   "cell_type": "markdown",
   "id": "5cb5d6c2",
   "metadata": {},
   "source": [
    "Next, $r_{\\rm min}$ can be found in terms of the energy because at the\n",
    "point of closest approach the kinetic energy is due purely to the\n",
    "motion perpendicular to $\\hat{r}$ and"
   ]
  },
  {
   "cell_type": "markdown",
   "id": "9a1524b4",
   "metadata": {},
   "source": [
    "<!-- Equation labels as ordinary links -->\n",
    "<div id=\"_auto8\"></div>\n",
    "\n",
    "$$\n",
    "\\begin{equation}\n",
    "E=-\\frac{\\alpha}{r_{\\rm min}}+\\frac{L^2}{2mr_{\\rm min}^2}.\n",
    "\\label{_auto8} \\tag{11}\n",
    "\\end{equation}\n",
    "$$"
   ]
  },
  {
   "cell_type": "markdown",
   "id": "c0575804",
   "metadata": {},
   "source": [
    "## Rutherford Scattering, More Manipulations\n",
    "\n",
    "One can solve the quadratic equation for $1/r_{\\rm min}$,"
   ]
  },
  {
   "cell_type": "markdown",
   "id": "dec78d6f",
   "metadata": {},
   "source": [
    "<!-- Equation labels as ordinary links -->\n",
    "<div id=\"_auto9\"></div>\n",
    "\n",
    "$$\n",
    "\\begin{equation}\n",
    "\\frac{1}{r_{\\rm min}}=\\frac{m\\alpha}{L^2}+\\sqrt{(m\\alpha/L^2)^2+2mE/L^2}.\n",
    "\\label{_auto9} \\tag{12}\n",
    "\\end{equation}\n",
    "$$"
   ]
  },
  {
   "cell_type": "markdown",
   "id": "0c1f1625",
   "metadata": {},
   "source": [
    "We can plug the expression for $r_{\\rm min}$ into the expression for $A$, Eq. ([10](#eq:rminofA)),"
   ]
  },
  {
   "cell_type": "markdown",
   "id": "061fd6b7",
   "metadata": {},
   "source": [
    "<!-- Equation labels as ordinary links -->\n",
    "<div id=\"_auto10\"></div>\n",
    "\n",
    "$$\n",
    "\\begin{equation}\n",
    "A=\\sqrt{(m\\alpha/L^2)^2+2mE/L^2}=\\sqrt{(\\alpha^2/(4E^2b^4)+1/b^2}\n",
    "\\label{_auto10} \\tag{13}\n",
    "\\end{equation}\n",
    "$$"
   ]
  },
  {
   "cell_type": "markdown",
   "id": "89a8fdca",
   "metadata": {},
   "source": [
    "## Rutherford Scattering, final expression\n",
    "\n",
    "Finally, we insert the expression for $A$ into that for the scattering angle, Eq. ([8](#eq:sthetover2)),"
   ]
  },
  {
   "cell_type": "markdown",
   "id": "f61bdf79",
   "metadata": {},
   "source": [
    "<!-- Equation labels as ordinary links -->\n",
    "<div id=\"eq:scattangle\"></div>\n",
    "\n",
    "$$\n",
    "\\begin{eqnarray}\n",
    "\\label{eq:scattangle} \\tag{14}\n",
    "\\sin(\\theta_s/2)&=&\\frac{m\\alpha}{AL^2}\\\\\n",
    "\\nonumber\n",
    "&=&\\frac{a}{\\sqrt{a^2+b^2}}, ~~a\\equiv \\frac{\\alpha}{2E}\n",
    "\\end{eqnarray}\n",
    "$$"
   ]
  },
  {
   "cell_type": "markdown",
   "id": "bd1e898f",
   "metadata": {},
   "source": [
    "## Rutherford Scattering, the Differential Cross Section\n",
    "\n",
    "The differential cross section can now be found by differentiating the\n",
    "expression for $\\theta_s$ with $b$,"
   ]
  },
  {
   "cell_type": "markdown",
   "id": "f59acd11",
   "metadata": {},
   "source": [
    "<!-- Equation labels as ordinary links -->\n",
    "<div id=\"eq:rutherford\"></div>\n",
    "\n",
    "$$\n",
    "\\begin{eqnarray}\n",
    "\\label{eq:rutherford} \\tag{15}\n",
    "\\frac{1}{2}\\cos(\\theta_s/2)d\\theta_s&=&\\frac{ab~db}{(a^2+b^2)^{3/2}}=\\frac{bdb}{a^2}\\sin^3(\\theta_s/2),\\\\\n",
    "\\nonumber\n",
    "d\\sigma&=&2\\pi bdb=\\frac{\\pi a^2}{\\sin^3(\\theta_s/2)}\\cos(\\theta_s/2)d\\theta_s\\\\\n",
    "\\nonumber\n",
    "&=&\\frac{\\pi a^2}{2\\sin^4(\\theta_s/2)}\\sin\\theta_s d\\theta_s\\\\\n",
    "\\nonumber\n",
    "\\frac{d\\sigma}{d\\cos\\theta_s}&=&\\frac{\\pi a^2}{2\\sin^4(\\theta_s/2)},\\\\\n",
    "\\nonumber\n",
    "\\frac{d\\sigma}{d\\Omega}&=&\\frac{a^2}{4\\sin^4(\\theta_s/2)}.\n",
    "\\end{eqnarray}\n",
    "$$"
   ]
  },
  {
   "cell_type": "markdown",
   "id": "cd2e3bea",
   "metadata": {},
   "source": [
    "where $a= \\alpha/2E$. This the Rutherford formula for the differential\n",
    "cross section. It diverges as $\\theta_s\\rightarrow 0$ because\n",
    "scatterings with arbitrarily large impact parameters still scatter to\n",
    "arbitrarily small scattering angles. The expression for\n",
    "$d\\sigma/d\\Omega$ is the same whether the interaction is positive or\n",
    "negative."
   ]
  },
  {
   "cell_type": "markdown",
   "id": "8ea9241c",
   "metadata": {},
   "source": [
    "## Rutherford Scattering, Example\n",
    "\n",
    "Consider a particle of mass $m$ and charge $z$ with kinetic energy $E$\n",
    "(Let it be the center-of-mass energy) incident on a heavy nucleus of\n",
    "mass $M$ and charge $Z$ and radius $R$. We want to find the angle at which the\n",
    "Rutherford scattering formula breaks down.\n",
    "\n",
    "Let $\\alpha=Zze^2/(4\\pi\\epsilon_0)$. The scattering angle in Eq. ([14](#eq:scattangle)) is"
   ]
  },
  {
   "cell_type": "markdown",
   "id": "bb46d256",
   "metadata": {},
   "source": [
    "$$\n",
    "\\sin(\\theta_s/2)=\\frac{a}{\\sqrt{a^2+b^2}}, ~~a\\equiv \\frac{\\alpha}{2E}.\n",
    "$$"
   ]
  },
  {
   "cell_type": "markdown",
   "id": "dd9d774d",
   "metadata": {},
   "source": [
    "The impact parameter $b$ for which the point of closest approach\n",
    "equals $R$ can be found by using angular momentum conservation,"
   ]
  },
  {
   "cell_type": "markdown",
   "id": "bfc34173",
   "metadata": {},
   "source": [
    "$$\n",
    "\\begin{eqnarray*}\n",
    "p_0b&=&b\\sqrt{2mE}=Rp_f=R\\sqrt{2m(E-\\alpha/R)},\\\\\n",
    "b&=&R\\frac{\\sqrt{2m(E-\\alpha/R)}}{\\sqrt{2mE}}\\\\\n",
    "&=&R\\sqrt{1-\\frac{\\alpha}{ER}}.\n",
    "\\end{eqnarray*}\n",
    "$$"
   ]
  },
  {
   "cell_type": "markdown",
   "id": "c7b65da6",
   "metadata": {},
   "source": [
    "## Rutherford Scattering, Example, wrapping up\n",
    "\n",
    "Putting these together"
   ]
  },
  {
   "cell_type": "markdown",
   "id": "f1bfe7e0",
   "metadata": {},
   "source": [
    "$$\n",
    "\\theta_s=2\\sin^{-1}\\left\\{\n",
    "\\frac{a}{\\sqrt{a^2+R^2(1-\\alpha/(RE))}}\n",
    "\\right\\},~~~a=\\frac{\\alpha}{2E}.\n",
    "$$"
   ]
  },
  {
   "cell_type": "markdown",
   "id": "b64581b7",
   "metadata": {},
   "source": [
    "It was from this departure of the experimentally measured\n",
    "$d\\sigma/d\\Omega$ from the Rutherford formula that allowed Rutherford\n",
    "to infer the radius of the gold nucleus, $R$."
   ]
  },
  {
   "cell_type": "markdown",
   "id": "be2945ed",
   "metadata": {},
   "source": [
    "## Variational Calculus\n",
    "\n",
    "The calculus of variations involves \n",
    "problems where the quantity to be minimized or maximized is an integral. \n",
    "\n",
    "The usual minimization problem one faces involves taking a function\n",
    "${\\cal L}(x)$, then finding the single value $x$ for which ${\\cal L}$\n",
    "is either a maximum or minimum. In multivariate calculus one also\n",
    "learns to solve problems where you minimize for multiple variables,\n",
    "${\\cal L}(x_1,x_2,\\cdots x_n)$, and finding the points $(x_1\\cdots\n",
    "y_n)$ in an $n$-dimensional space that maximize or minimize the\n",
    "function. Here, we consider what seems to be a much more ambitious\n",
    "problem. Imagine you have a function ${\\cal L}(x(t),\\dot{x}(t),t)$,\n",
    "and you wish to find the extrema for an infinite number of values of\n",
    "$x$, i.e. $x$ at each point $t$. The function ${\\cal L}$ will not only\n",
    "depend on $x$ at each point $t$, but also on the slope at each point,\n",
    "plus an additional dependence on $t$. Note we are NOT finding an\n",
    "optimum value of $t$, we are finding the set of optimum values of $x$\n",
    "at each point $t$, or equivalently, finding the function $x(t)$."
   ]
  },
  {
   "cell_type": "markdown",
   "id": "725f669f",
   "metadata": {},
   "source": [
    "## Variational Calculus, introducing the action\n",
    "\n",
    "One treats the function $x(t)$ as being unknown while minimizing the action"
   ]
  },
  {
   "cell_type": "markdown",
   "id": "b02f7b81",
   "metadata": {},
   "source": [
    "$$\n",
    "S=\\int_{t_1}^{t_2}dt~{\\cal L}(x(t),\\dot{x}(t),t).\n",
    "$$"
   ]
  },
  {
   "cell_type": "markdown",
   "id": "43ea8dcf",
   "metadata": {},
   "source": [
    "Thus, we are minimizing $S$ with respect to an infinite number of\n",
    "values of $x(t_i)$ at points $t_i$. As an additional criteria, we will\n",
    "assume that $x(t_1)$ and $x(t_2)$ are fixed, and that that we will\n",
    "only consider variations of $x$ between the boundaries. The dependence\n",
    "on the derivative, $\\dot{x}=dx/dt$, is crucial because otherwise the\n",
    "solution would involve simply finding the one value of $x$ that\n",
    "minimized ${\\cal L}$, and $x(t)$ would equal a constant if there were no\n",
    "explicit $t$ dependence. Furthermore, $x$ wouldn't need to be\n",
    "continuous at the boundary."
   ]
  },
  {
   "cell_type": "markdown",
   "id": "488e5d5c",
   "metadata": {},
   "source": [
    "## Variational Calculus, general Action\n",
    "\n",
    "In the general case we have an integral of the type"
   ]
  },
  {
   "cell_type": "markdown",
   "id": "7ff4092d",
   "metadata": {},
   "source": [
    "$$\n",
    "S[q]= \\int_{t_1}^{t_2} {\\cal L}(q(t),\\dot{q}(t),t)dt,\n",
    "$$"
   ]
  },
  {
   "cell_type": "markdown",
   "id": "ec2d3ade",
   "metadata": {},
   "source": [
    "where $S$ is the quantity which is sought minimized or maximized.  The\n",
    "problem is that although ${\\cal L}$  is a function of the general variables\n",
    "$q(t),\\dot{q}(t),t$ (note our change of variables), the exact dependence of $q$ on $t$ is not known.\n",
    "This means again that even though the integral has fixed limits $t_1$\n",
    "and $t_2$, the path of integration is not known. In our case the unknown\n",
    "quantities are the positions and general velocities of a given number\n",
    "of objects and we wish to choose an integration path which makes the\n",
    "functional $S[q]$ stationary. This means that we want to find minima,\n",
    "or maxima or saddle points. In physics we search normally for minima.\n",
    "Our task is therefore to find the minimum of $S[q]$ so that its\n",
    "variation $\\delta S$ is zero subject to specific constraints.  The\n",
    "constraints can be treated via the technique of Lagrangian multipliers\n",
    "as we will see below."
   ]
  },
  {
   "cell_type": "markdown",
   "id": "dc95b816",
   "metadata": {},
   "source": [
    "## Variational Calculus, Optimal Path\n",
    "\n",
    "We assume the existence of an optimum path, that is a path for which\n",
    "$S[q]$ is stationary. There are infinitely many such paths.  The\n",
    "difference between two paths $\\delta q$ is called the variation of\n",
    "$q$.\n",
    "\n",
    "We call the variation $\\eta(t)$ and it is scaled by a factor $\\alpha$.\n",
    "The function $\\eta(t)$ is arbitrary except for"
   ]
  },
  {
   "cell_type": "markdown",
   "id": "2e13019c",
   "metadata": {},
   "source": [
    "$$\n",
    "\\eta(t_1)=\\eta(t_2)=0,\n",
    "$$"
   ]
  },
  {
   "cell_type": "markdown",
   "id": "c0c74275",
   "metadata": {},
   "source": [
    "and we assume that we can model the change in $q$ as"
   ]
  },
  {
   "cell_type": "markdown",
   "id": "43170cb1",
   "metadata": {},
   "source": [
    "$$\n",
    "q(t,\\alpha) = q(t)+\\alpha\\eta(t),\n",
    "$$"
   ]
  },
  {
   "cell_type": "markdown",
   "id": "d4faeadd",
   "metadata": {},
   "source": [
    "and"
   ]
  },
  {
   "cell_type": "markdown",
   "id": "42c3df3d",
   "metadata": {},
   "source": [
    "$$\n",
    "\\delta q = q(t,\\alpha) -q(t,0)=\\alpha\\eta(t).\n",
    "$$"
   ]
  },
  {
   "cell_type": "markdown",
   "id": "74740c0f",
   "metadata": {},
   "source": [
    "## Variational Calculus, Condition for an Extreme Value\n",
    "\n",
    "We choose $q(t,\\alpha=0)$ as the unkonwn path  that will minimize $S$.  The value\n",
    "$q(t,\\alpha\\ne 0)$  describes a neighbouring path.\n",
    "\n",
    "We have"
   ]
  },
  {
   "cell_type": "markdown",
   "id": "74c1276d",
   "metadata": {},
   "source": [
    "$$\n",
    "S[q(\\alpha)]= \\int_{t_1}^{t_2} {\\cal L}(q(t,\\alpha),\\dot{q}(t,\\alpha),t)dt.\n",
    "$$"
   ]
  },
  {
   "cell_type": "markdown",
   "id": "49f2d463",
   "metadata": {},
   "source": [
    "The condition for an extreme of"
   ]
  },
  {
   "cell_type": "markdown",
   "id": "d8a4fd90",
   "metadata": {},
   "source": [
    "$$\n",
    "S[q(\\alpha)]= \\int_{t_1}^{t_2} {\\cal L}(q(t,\\alpha),\\dot{q}(t,\\alpha),t)dt,\n",
    "$$"
   ]
  },
  {
   "cell_type": "markdown",
   "id": "91ac95fa",
   "metadata": {},
   "source": [
    "$$\n",
    "\\left[\\frac{\\partial  S[q(\\alpha)]}{\\partial t}\\right]_{\\alpha=0} =0.\n",
    "$$"
   ]
  },
  {
   "cell_type": "markdown",
   "id": "27cc4312",
   "metadata": {},
   "source": [
    "## Variational Calculus. $\\alpha$ Dependence\n",
    "\n",
    "The $\\alpha$ dependence is contained in $q(t,\\alpha)$ and $\\dot{q}(t,\\alpha)$ meaning that"
   ]
  },
  {
   "cell_type": "markdown",
   "id": "e1ca070f",
   "metadata": {},
   "source": [
    "$$\n",
    "\\left[\\frac{\\partial  E[q(\\alpha)]}{\\partial \\alpha}\\right]=\\int_{t_1}^{t_2} \\left( \\frac{\\partial {\\cal l}}{\\partial q}\\frac{\\partial q}{\\partial \\alpha}+\\frac{\\partial {\\cal L}}{\\partial \\dot{q}}\\frac{\\partial \\dot{q}}{\\partial \\alpha}\\right)dt.\n",
    "$$"
   ]
  },
  {
   "cell_type": "markdown",
   "id": "f69db61f",
   "metadata": {},
   "source": [
    "We have defined"
   ]
  },
  {
   "cell_type": "markdown",
   "id": "28a8d0ad",
   "metadata": {},
   "source": [
    "$$\n",
    "\\frac{\\partial q(x,\\alpha)}{\\partial \\alpha}=\\eta(x)\n",
    "$$"
   ]
  },
  {
   "cell_type": "markdown",
   "id": "deebdf5d",
   "metadata": {},
   "source": [
    "and thereby"
   ]
  },
  {
   "cell_type": "markdown",
   "id": "db56312b",
   "metadata": {},
   "source": [
    "$$\n",
    "\\frac{\\partial \\dot{q}(t,\\alpha)}{\\partial \\alpha}=\\frac{d(\\eta(t))}{dt}.\n",
    "$$"
   ]
  },
  {
   "cell_type": "markdown",
   "id": "c693a03a",
   "metadata": {},
   "source": [
    "## INtegrating by Parts\n",
    "\n",
    "Using"
   ]
  },
  {
   "cell_type": "markdown",
   "id": "0b98a65e",
   "metadata": {},
   "source": [
    "$$\n",
    "\\frac{\\partial q(t,\\alpha)}{\\partial \\alpha}=\\eta(t),\n",
    "$$"
   ]
  },
  {
   "cell_type": "markdown",
   "id": "1a9e3198",
   "metadata": {},
   "source": [
    "and"
   ]
  },
  {
   "cell_type": "markdown",
   "id": "e70ce4fd",
   "metadata": {},
   "source": [
    "$$\n",
    "\\frac{\\partial \\dot{q}(t,\\alpha)}{\\partial \\alpha}=\\frac{d(\\eta(t))}{dt},\n",
    "$$"
   ]
  },
  {
   "cell_type": "markdown",
   "id": "eb28e2a5",
   "metadata": {},
   "source": [
    "in the integral gives"
   ]
  },
  {
   "cell_type": "markdown",
   "id": "7145a2e0",
   "metadata": {},
   "source": [
    "$$\n",
    "\\left[\\frac{\\partial  S[q(\\alpha)]}{\\partial \\alpha}\\right]=\\int_{t_1}^{t_2} \\left( \\frac{\\partial {\\cal L}}{\\partial q}\\eta(t)+\\frac{\\partial {\\cal L}}{\\partial \\dot{q}}\\frac{d(\\eta(t))}{dt}\\right)dt.\n",
    "$$"
   ]
  },
  {
   "cell_type": "markdown",
   "id": "0c934ce3",
   "metadata": {},
   "source": [
    "Integrating the second term by parts"
   ]
  },
  {
   "cell_type": "markdown",
   "id": "9aba8672",
   "metadata": {},
   "source": [
    "$$\n",
    "\\int_{t_1}^{t_2} \\frac{\\partial {\\cal L}}{\\partial \\dot{q}}\\frac{d(\\eta(t))}{dt}dt =\\eta(t)\\frac{\\partial {\\cal L}}{\\partial \\dot{q}}|_{t_1}^{t_2}-\n",
    "\\int_a^b \\eta(t)\\frac{d}{dx}\\frac{\\partial {\\cal L}}{\\partial \\dot{q}}dt,\n",
    "$$"
   ]
  },
  {
   "cell_type": "markdown",
   "id": "6b12770d",
   "metadata": {},
   "source": [
    "and since the first term dissappears due to $\\eta(a)=\\eta(b)=0$, we obtain"
   ]
  },
  {
   "cell_type": "markdown",
   "id": "52e687d8",
   "metadata": {},
   "source": [
    "$$\n",
    "\\left[\\frac{\\partial  S[q(\\alpha)]}{\\partial \\alpha}\\right]=\\int_{t_1}^{t_2} \\left( \\frac{\\partial {\\cal L}}{\\partial q}-\\frac{d}{dx}\\frac{\\partial {\\cal L}}{\\partial \\dot{q}}\n",
    "\\right)\\eta(t)dt=0.\n",
    "$$"
   ]
  },
  {
   "cell_type": "markdown",
   "id": "40adbb7c",
   "metadata": {},
   "source": [
    "## Euler-Lagrange Equations\n",
    "\n",
    "The latter can be written as"
   ]
  },
  {
   "cell_type": "markdown",
   "id": "e7440773",
   "metadata": {},
   "source": [
    "$$\n",
    "\\left[\\frac{\\partial  S[q(\\alpha)]}{\\partial \\alpha}\\right]_{\\alpha=0}=\\int_{t_1}^{t_2} \\left( \\frac{\\partial {\\cal L}}{\\partial q}-\\frac{d}{\\\n",
    "dx}\\frac{\\partial {\\cal L}}{\\partial \\dot{q}}\\right)\\delta q(t)dt=\\delta S = 0.\n",
    "$$"
   ]
  },
  {
   "cell_type": "markdown",
   "id": "5ebdce05",
   "metadata": {},
   "source": [
    "The condition for a stationary value is thus a partial differential equation"
   ]
  },
  {
   "cell_type": "markdown",
   "id": "b8fc5d76",
   "metadata": {},
   "source": [
    "$$\n",
    "\\frac{\\partial {\\cal L}}{\\partial q}-\\frac{d}{dx}\\frac{\\partial {\\cal L}}{\\partial \\dot{q}}=0,\n",
    "$$"
   ]
  },
  {
   "cell_type": "markdown",
   "id": "33f80ec0",
   "metadata": {},
   "source": [
    "known as the **Euler-Lagrange** equation."
   ]
  }
 ],
 "metadata": {
  "kernelspec": {
   "display_name": "Python 3 (ipykernel)",
   "language": "python",
   "name": "python3"
  },
  "language_info": {
   "codemirror_mode": {
    "name": "ipython",
    "version": 3
   },
   "file_extension": ".py",
   "mimetype": "text/x-python",
   "name": "python",
   "nbconvert_exporter": "python",
   "pygments_lexer": "ipython3",
   "version": "3.9.10"
  }
 },
 "nbformat": 4,
 "nbformat_minor": 5
}
