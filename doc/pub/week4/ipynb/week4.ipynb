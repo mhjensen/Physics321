{
 "cells": [
  {
   "cell_type": "markdown",
   "id": "5de9f5ab",
   "metadata": {
    "editable": true
   },
   "source": [
    "<!-- HTML file automatically generated from DocOnce source (https://github.com/doconce/doconce/)\n",
    "doconce format html week4.do.txt --no_mako -->\n",
    "<!-- dom:TITLE: PHY321: More on Motion and Forces with examples, begin Work and Energy  discussion -->"
   ]
  },
  {
   "cell_type": "markdown",
   "id": "95a8b3f4",
   "metadata": {
    "editable": true
   },
   "source": [
    "# PHY321: More on Motion and Forces with examples, begin Work and Energy  discussion\n",
    "**[Morten Hjorth-Jensen](http://mhjgit.github.io/info/doc/web/)**, Department of Physics and Astronomy and Facility for Rare Ion Beams (FRIB), Michigan State University, USA and Department of Physics, University of Oslo, Norway\n",
    "\n",
    "Date: **Dec 23, 2022**\n",
    "\n",
    "Copyright 1999-2022, [Morten Hjorth-Jensen](http://mhjgit.github.io/info/doc/web/). Released under CC Attribution-NonCommercial 4.0 license"
   ]
  },
  {
   "cell_type": "markdown",
   "id": "89ecfb46",
   "metadata": {
    "editable": true
   },
   "source": [
    "## Aims and Overarching Motivation"
   ]
  },
  {
   "cell_type": "markdown",
   "id": "2f08d54c",
   "metadata": {
    "editable": true
   },
   "source": [
    "### Monday January 23, Lecture and examples\n",
    "\n",
    "We discuss various forces and their pertinent equations of motion\n",
    "\n",
    "Recommended reading: Taylor 2.1-2.4. Malthe-Sørenssen chapters 6 and 7 contain many interesting examples with codes and solutions.\n",
    "We will cover in particular a falling object in two dimensions with linear air resistance relevant for homework 3."
   ]
  },
  {
   "cell_type": "markdown",
   "id": "48cd2306",
   "metadata": {
    "editable": true
   },
   "source": [
    "### Wednesday, Lecture and Examples\n",
    "\n",
    "We discuss other force models with examples such as the gravitational\n",
    "force and a spring force. See Malthe-Sørenssen chapter 7.3-7.5.\n",
    "\n",
    "We discuss also exercises 5 and 6 from homework 2. We will continue with this on Friday."
   ]
  },
  {
   "cell_type": "markdown",
   "id": "4676b078",
   "metadata": {
    "editable": true
   },
   "source": [
    "### Friday, summary and work on weekly assignments\n",
    "\n",
    "We start our discussion of energy and work, see Taylor 4.1 and 4.2 the first 20 minutes. Thereafter we solve exercises."
   ]
  },
  {
   "cell_type": "markdown",
   "id": "6d16a9ac",
   "metadata": {
    "editable": true
   },
   "source": [
    "## Air Resistance in One Dimension\n",
    "\n",
    "Last week we considered the motion of a falling object with air\n",
    "resistance. Here we look at both a quadratic in velocity resistance\n",
    "and linear in velocity.  But first we give a qualitative argument\n",
    "about the mathematical expression for the air resistance we used last\n",
    "Friday.  The discussion here is also contained in the [video on how to make a model for a drag force](https://youtu.be/DRTmLZYdTFY).\n",
    "\n",
    "Air resistance tends to scale as the square of the velocity. This is\n",
    "in contrast to many problems chosen for textbooks, where it is linear\n",
    "in the velocity. The choice of a linear dependence is motivated by\n",
    "mathematical simplicity (it keeps the differential equation linear)\n",
    "rather than by physics. One can see that the force should be quadratic\n",
    "in velocity by considering the momentum imparted on the air\n",
    "molecules. If an object sweeps through a volume $dV$ of air in time\n",
    "$dt$, the momentum imparted on the air is"
   ]
  },
  {
   "cell_type": "markdown",
   "id": "8fcb1645",
   "metadata": {
    "editable": true
   },
   "source": [
    "<!-- Equation labels as ordinary links -->\n",
    "<div id=\"_auto1\"></div>\n",
    "\n",
    "$$\n",
    "\\begin{equation}\n",
    "dP=\\rho_m dV v,\n",
    "\\label{_auto1} \\tag{1}\n",
    "\\end{equation}\n",
    "$$"
   ]
  },
  {
   "cell_type": "markdown",
   "id": "3c97e9c5",
   "metadata": {
    "editable": true
   },
   "source": [
    "where $v$ is the velocity of the object and $\\rho_m$ is the mass\n",
    "density of the air. If the molecules bounce back as opposed to stop\n",
    "you would double the size of the term. The opposite value of the\n",
    "momentum is imparted onto the object itself. Geometrically, the\n",
    "differential volume is"
   ]
  },
  {
   "cell_type": "markdown",
   "id": "d12b2b06",
   "metadata": {
    "editable": true
   },
   "source": [
    "<!-- Equation labels as ordinary links -->\n",
    "<div id=\"_auto2\"></div>\n",
    "\n",
    "$$\n",
    "\\begin{equation}\n",
    "dV=Avdt,\n",
    "\\label{_auto2} \\tag{2}\n",
    "\\end{equation}\n",
    "$$"
   ]
  },
  {
   "cell_type": "markdown",
   "id": "0eb0d2ec",
   "metadata": {
    "editable": true
   },
   "source": [
    "where $A$ is the cross-sectional area and $vdt$ is the distance the\n",
    "object moved in time $dt$."
   ]
  },
  {
   "cell_type": "markdown",
   "id": "392abd50",
   "metadata": {
    "editable": true
   },
   "source": [
    "## Resulting Acceleration\n",
    "Plugging this into the expression above,"
   ]
  },
  {
   "cell_type": "markdown",
   "id": "204b3322",
   "metadata": {
    "editable": true
   },
   "source": [
    "<!-- Equation labels as ordinary links -->\n",
    "<div id=\"_auto3\"></div>\n",
    "\n",
    "$$\n",
    "\\begin{equation}\n",
    "\\frac{dP}{dt}=-\\rho_m A v^2.\n",
    "\\label{_auto3} \\tag{3}\n",
    "\\end{equation}\n",
    "$$"
   ]
  },
  {
   "cell_type": "markdown",
   "id": "775c3ac5",
   "metadata": {
    "editable": true
   },
   "source": [
    "This is the force felt by the particle, and is opposite to its\n",
    "direction of motion. Now, because air doesn't stop when it hits an\n",
    "object, but flows around the best it can, the actual force is reduced\n",
    "by a dimensionless factor $c_W$, called the drag coefficient."
   ]
  },
  {
   "cell_type": "markdown",
   "id": "b7d44bbf",
   "metadata": {
    "editable": true
   },
   "source": [
    "<!-- Equation labels as ordinary links -->\n",
    "<div id=\"_auto4\"></div>\n",
    "\n",
    "$$\n",
    "\\begin{equation}\n",
    "F_{\\rm drag}=-c_W\\rho_m Av^2,\n",
    "\\label{_auto4} \\tag{4}\n",
    "\\end{equation}\n",
    "$$"
   ]
  },
  {
   "cell_type": "markdown",
   "id": "07dcb316",
   "metadata": {
    "editable": true
   },
   "source": [
    "and the acceleration is"
   ]
  },
  {
   "cell_type": "markdown",
   "id": "fe58abf1",
   "metadata": {
    "editable": true
   },
   "source": [
    "$$\n",
    "\\begin{eqnarray}\n",
    "\\frac{dv}{dt}=-\\frac{c_W\\rho_mA}{m}v^2.\n",
    "\\end{eqnarray}\n",
    "$$"
   ]
  },
  {
   "cell_type": "markdown",
   "id": "d3503632",
   "metadata": {
    "editable": true
   },
   "source": [
    "For a particle with initial velocity $v_0$, one can separate the $dt$\n",
    "to one side of the equation, and move everything with $v$s to the\n",
    "other side. We did this in our discussion of simple motion and will not repeat it here.\n",
    "\n",
    "On more general terms,\n",
    "for many systems, e.g. an automobile, there are multiple sources of\n",
    "resistance. In addition to wind resistance, where the force is\n",
    "proportional to $v^2$, there are dissipative effects of the tires on\n",
    "the pavement, and in the axel and drive train. These other forces can\n",
    "have components that scale proportional to $v$, and components that\n",
    "are independent of $v$. Those independent of $v$, e.g. the usual\n",
    "$f=\\mu_K N$ frictional force you consider in your first Physics courses, only set in\n",
    "once the object is actually moving. As speeds become higher, the $v^2$\n",
    "components begin to dominate relative to the others. For automobiles\n",
    "at freeway speeds, the $v^2$ terms are largely responsible for the\n",
    "loss of efficiency. To travel a distance $L$ at fixed speed $v$, the\n",
    "energy/work required to overcome the dissipative forces are $fL$,\n",
    "which for a force of the form $f=\\alpha v^n$ becomes"
   ]
  },
  {
   "cell_type": "markdown",
   "id": "7b5320dd",
   "metadata": {
    "editable": true
   },
   "source": [
    "$$\n",
    "\\begin{eqnarray}\n",
    "W=\\int dx~f=\\alpha v^n L.\n",
    "\\end{eqnarray}\n",
    "$$"
   ]
  },
  {
   "cell_type": "markdown",
   "id": "3efb701b",
   "metadata": {
    "editable": true
   },
   "source": [
    "For $n=0$ the work is\n",
    "independent of speed, but for the wind resistance, where $n=2$,\n",
    "slowing down is essential if one wishes to reduce fuel consumption. It\n",
    "is also important to consider that engines are designed to be most\n",
    "efficient at a chosen range of power output. Thus, some cars will get\n",
    "better mileage at higher speeds (They perform better at 50 mph than at\n",
    "5 mph) despite the considerations mentioned above."
   ]
  },
  {
   "cell_type": "markdown",
   "id": "e26b24b5",
   "metadata": {
    "editable": true
   },
   "source": [
    "## Going Ballistic, Projectile Motion or a Softer Approach, Falling Raindrops\n",
    "\n",
    "As an example of Newton's Laws we consider projectile motion (or a\n",
    "falling raindrop or a ball we throw up in the air) with a drag force. Even though air resistance is\n",
    "largely proportional to the square of the velocity, we will consider\n",
    "the drag force to be linear to the velocity, $\\boldsymbol{F}=-m\\gamma\\boldsymbol{v}$,\n",
    "for the purposes of this exercise.\n",
    "\n",
    "Such a dependence can be extracted from experimental data for objects moving at low velocities, see for example Malthe-Sørenssen chapter 5.6.\n",
    "\n",
    "We will here focus on a two-dimensional problem."
   ]
  },
  {
   "cell_type": "markdown",
   "id": "53aa5180",
   "metadata": {
    "editable": true
   },
   "source": [
    "## Two-dimensional falling object\n",
    "\n",
    "The acceleration for a projectile moving upwards,\n",
    "$\\boldsymbol{a}=\\boldsymbol{F}/m$, becomes"
   ]
  },
  {
   "cell_type": "markdown",
   "id": "57277754",
   "metadata": {
    "editable": true
   },
   "source": [
    "$$\n",
    "\\begin{eqnarray}\n",
    "\\frac{dv_x}{dt}=-\\gamma v_x,\\\\\n",
    "\\nonumber\n",
    "\\frac{dv_y}{dt}=-\\gamma v_y-g,\n",
    "\\end{eqnarray}\n",
    "$$"
   ]
  },
  {
   "cell_type": "markdown",
   "id": "5cdd9a35",
   "metadata": {
    "editable": true
   },
   "source": [
    "and $\\gamma$ has dimensions of inverse time. \n",
    "\n",
    "If you on the other hand have a falling raindrop, how do these equations change? See for example Figure 2.1 in Taylor.\n",
    "Let us stay with a ball which is thrown up in the air at $t=0$."
   ]
  },
  {
   "cell_type": "markdown",
   "id": "6ccf67e8",
   "metadata": {
    "editable": true
   },
   "source": [
    "## Ways of solving these equations\n",
    "\n",
    "We will go over two different ways to solve this equation. The first\n",
    "by direct integration, and the second as a differential equation. To\n",
    "do this by direct integration, one simply multiplies both sides of the\n",
    "equations above by $dt$, then divide by the appropriate factors so\n",
    "that the $v$s are all on one side of the equation and the $dt$ is on\n",
    "the other. For the $x$ motion one finds an easily integrable equation,"
   ]
  },
  {
   "cell_type": "markdown",
   "id": "7008b8a3",
   "metadata": {
    "editable": true
   },
   "source": [
    "$$\n",
    "\\begin{eqnarray}\n",
    "\\frac{dv_x}{v_x}&=&-\\gamma dt,\\\\\n",
    "\\nonumber\n",
    "\\int_{v_{0x}}^{v_{x}}\\frac{dv_x}{v_x}&=&-\\gamma\\int_0^{t}dt,\\\\\n",
    "\\nonumber\n",
    "\\ln\\left(\\frac{v_{x}}{v_{0x}}\\right)&=&-\\gamma t,\\\\\n",
    "\\nonumber\n",
    "v_{x}(t)&=&v_{0x}e^{-\\gamma t}.\n",
    "\\end{eqnarray}\n",
    "$$"
   ]
  },
  {
   "cell_type": "markdown",
   "id": "86ee65a7",
   "metadata": {
    "editable": true
   },
   "source": [
    "This is very much the result you would have written down\n",
    "by inspection. For the $y$-component of the velocity,"
   ]
  },
  {
   "cell_type": "markdown",
   "id": "3422cc0c",
   "metadata": {
    "editable": true
   },
   "source": [
    "$$\n",
    "\\begin{eqnarray}\n",
    "\\frac{dv_y}{v_y+g/\\gamma}&=&-\\gamma dt\\\\\n",
    "\\nonumber\n",
    "\\ln\\left(\\frac{v_{y}+g/\\gamma}{v_{0y}-g/\\gamma}\\right)&=&-\\gamma t_f,\\\\\n",
    "\\nonumber\n",
    "v_{fy}&=&-\\frac{g}{\\gamma}+\\left(v_{0y}+\\frac{g}{\\gamma}\\right)e^{-\\gamma t}.\n",
    "\\end{eqnarray}\n",
    "$$"
   ]
  },
  {
   "cell_type": "markdown",
   "id": "627dfe68",
   "metadata": {
    "editable": true
   },
   "source": [
    "Whereas $v_x$ starts at some value and decays\n",
    "exponentially to zero, $v_y$ decays exponentially to the terminal\n",
    "velocity, $v_t=-g/\\gamma$."
   ]
  },
  {
   "cell_type": "markdown",
   "id": "890f5223",
   "metadata": {
    "editable": true
   },
   "source": [
    "## Solving as differential equations\n",
    "\n",
    "Although this direct integration is simpler than the method we invoke\n",
    "below, the method below will come in useful for some slightly more\n",
    "difficult differential equations in the future. The differential\n",
    "equation for $v_x$ is straight-forward to solve. Because it is  a first\n",
    "order differential euqation there is one arbitrary constant, $A$, and by inspection the\n",
    "solution is"
   ]
  },
  {
   "cell_type": "markdown",
   "id": "d3b5808d",
   "metadata": {
    "editable": true
   },
   "source": [
    "<!-- Equation labels as ordinary links -->\n",
    "<div id=\"_auto5\"></div>\n",
    "\n",
    "$$\n",
    "\\begin{equation}\n",
    "v_x=Ae^{-\\gamma t}.\n",
    "\\label{_auto5} \\tag{5}\n",
    "\\end{equation}\n",
    "$$"
   ]
  },
  {
   "cell_type": "markdown",
   "id": "48249de4",
   "metadata": {
    "editable": true
   },
   "source": [
    "The arbitrary constants for equations of motion are usually determined\n",
    "by the initial conditions, or more generally boundary conditions. By\n",
    "inspection $A=v_{0x}$, the initial $x$ component of the velocity."
   ]
  },
  {
   "cell_type": "markdown",
   "id": "81797415",
   "metadata": {
    "editable": true
   },
   "source": [
    "## Differential Equations, contn\n",
    "The differential equation for $v_y$ is a bit more complicated due to\n",
    "the presence of $g$. Differential equations where all the terms are\n",
    "linearly proportional to a function, in this case $v_y$, or to\n",
    "derivatives of the function, e.g., $v_y$, $dv_y/dt$,\n",
    "$d^2v_y/dt^2\\cdots$, are called linear differential equations. If\n",
    "there are terms proportional to $v^2$, as would happen if the drag\n",
    "forces were proportional to the square of the velocity, the\n",
    "differential equation is not longer linear. Because this expression\n",
    "has only one derivative in $v$ it is a first-order linear differential\n",
    "equation. If a term were added proportional to $d^2v/dt^2$ it would be\n",
    "a second-order differential equation.  In this case we have a term\n",
    "completely independent of $v$, the gravitational acceleration $g$, and\n",
    "the usual strategy is to first rewrite the equation with all the\n",
    "linear terms on one side of the equal sign,"
   ]
  },
  {
   "cell_type": "markdown",
   "id": "cad2562c",
   "metadata": {
    "editable": true
   },
   "source": [
    "<!-- Equation labels as ordinary links -->\n",
    "<div id=\"_auto6\"></div>\n",
    "\n",
    "$$\n",
    "\\begin{equation}\n",
    "\\frac{dv_y}{dt}+\\gamma v_y=-g.\n",
    "\\label{_auto6} \\tag{6}\n",
    "\\end{equation}\n",
    "$$"
   ]
  },
  {
   "cell_type": "markdown",
   "id": "eeb54418",
   "metadata": {
    "editable": true
   },
   "source": [
    "## Splitting into two parts\n",
    "\n",
    "Now, the solution to the equation can be broken into two\n",
    "parts. Because this is a first-order differential equation we know\n",
    "that there will be one arbitrary constant. Physically, the arbitrary\n",
    "constant will be determined by setting the initial velocity, though it\n",
    "could be determined by setting the velocity at any given time. Like\n",
    "most differential equations, solutions are not \"solved\". Instead,\n",
    "one guesses at a form, then shows the guess is correct. For these\n",
    "types of equations, one first tries to find a single solution,\n",
    "i.e. one with no arbitrary constants. This is called the {\\it\n",
    "particular} solution, $y_p(t)$, though it should really be called\n",
    "\"a\" particular solution because there are an infinite number of such\n",
    "solutions. One then finds a solution to the {\\it homogenous} equation,\n",
    "which is the equation with zero on the right-hand side,"
   ]
  },
  {
   "cell_type": "markdown",
   "id": "30d95330",
   "metadata": {
    "editable": true
   },
   "source": [
    "<!-- Equation labels as ordinary links -->\n",
    "<div id=\"_auto7\"></div>\n",
    "\n",
    "$$\n",
    "\\begin{equation}\n",
    "\\frac{dv_{y,h}}{dt}+\\gamma v_{y,h}=0.\n",
    "\\label{_auto7} \\tag{7}\n",
    "\\end{equation}\n",
    "$$"
   ]
  },
  {
   "cell_type": "markdown",
   "id": "71d7b5e0",
   "metadata": {
    "editable": true
   },
   "source": [
    "Homogenous solutions will have arbitrary constants. \n",
    "\n",
    "The particular solution will solve the same equation as the original\n",
    "general equation"
   ]
  },
  {
   "cell_type": "markdown",
   "id": "bfbbb4f2",
   "metadata": {
    "editable": true
   },
   "source": [
    "<!-- Equation labels as ordinary links -->\n",
    "<div id=\"_auto8\"></div>\n",
    "\n",
    "$$\n",
    "\\begin{equation}\n",
    "\\frac{dv_{y,p}}{dt}+\\gamma v_{y,p}=-g.\n",
    "\\label{_auto8} \\tag{8}\n",
    "\\end{equation}\n",
    "$$"
   ]
  },
  {
   "cell_type": "markdown",
   "id": "0101926f",
   "metadata": {
    "editable": true
   },
   "source": [
    "However, we don't need find one with arbitrary constants. Hence, it is\n",
    "called a **particular** solution.\n",
    "\n",
    "The sum of the two,"
   ]
  },
  {
   "cell_type": "markdown",
   "id": "7e67f66a",
   "metadata": {
    "editable": true
   },
   "source": [
    "<!-- Equation labels as ordinary links -->\n",
    "<div id=\"_auto9\"></div>\n",
    "\n",
    "$$\n",
    "\\begin{equation}\n",
    "v_y=v_{y,p}+v_{y,h},\n",
    "\\label{_auto9} \\tag{9}\n",
    "\\end{equation}\n",
    "$$"
   ]
  },
  {
   "cell_type": "markdown",
   "id": "a79fd78c",
   "metadata": {
    "editable": true
   },
   "source": [
    "is a solution of the total equation because of the linear nature of\n",
    "the differential equation. One has now found a *general* solution\n",
    "encompassing all solutions, because it both satisfies the general\n",
    "equation (like the particular solution), and has an arbitrary constant\n",
    "that can be adjusted to fit any initial condition (like the homogeneous\n",
    "solution). If the equations were not linear, that is if there were terms\n",
    "such as $v_y^2$ or $v_y\\dot{v}_y$, this technique would not work."
   ]
  },
  {
   "cell_type": "markdown",
   "id": "c3e91435",
   "metadata": {
    "editable": true
   },
   "source": [
    "## More details\n",
    "\n",
    "Returning to the example above, the homogenous solution is the same as\n",
    "that for $v_x$, because there was no gravitational acceleration in\n",
    "that case,"
   ]
  },
  {
   "cell_type": "markdown",
   "id": "eaf7c2c5",
   "metadata": {
    "editable": true
   },
   "source": [
    "<!-- Equation labels as ordinary links -->\n",
    "<div id=\"_auto10\"></div>\n",
    "\n",
    "$$\n",
    "\\begin{equation}\n",
    "v_{y,h}=Be^{-\\gamma t}.\n",
    "\\label{_auto10} \\tag{10}\n",
    "\\end{equation}\n",
    "$$"
   ]
  },
  {
   "cell_type": "markdown",
   "id": "feb44bd5",
   "metadata": {
    "editable": true
   },
   "source": [
    "In this case a particular solution is one with constant velocity,"
   ]
  },
  {
   "cell_type": "markdown",
   "id": "00dd73c6",
   "metadata": {
    "editable": true
   },
   "source": [
    "<!-- Equation labels as ordinary links -->\n",
    "<div id=\"_auto11\"></div>\n",
    "\n",
    "$$\n",
    "\\begin{equation}\n",
    "v_{y,p}=-g/\\gamma.\n",
    "\\label{_auto11} \\tag{11}\n",
    "\\end{equation}\n",
    "$$"
   ]
  },
  {
   "cell_type": "markdown",
   "id": "2f9e7815",
   "metadata": {
    "editable": true
   },
   "source": [
    "Note that this is the terminal velocity of a particle falling from a\n",
    "great height. The general solution is thus,"
   ]
  },
  {
   "cell_type": "markdown",
   "id": "88c6bab7",
   "metadata": {
    "editable": true
   },
   "source": [
    "<!-- Equation labels as ordinary links -->\n",
    "<div id=\"_auto12\"></div>\n",
    "\n",
    "$$\n",
    "\\begin{equation}\n",
    "v_y=Be^{-\\gamma t}-g/\\gamma,\n",
    "\\label{_auto12} \\tag{12}\n",
    "\\end{equation}\n",
    "$$"
   ]
  },
  {
   "cell_type": "markdown",
   "id": "2af53bfd",
   "metadata": {
    "editable": true
   },
   "source": [
    "and one can find $B$ from the initial velocity,"
   ]
  },
  {
   "cell_type": "markdown",
   "id": "f2e34781",
   "metadata": {
    "editable": true
   },
   "source": [
    "<!-- Equation labels as ordinary links -->\n",
    "<div id=\"_auto13\"></div>\n",
    "\n",
    "$$\n",
    "\\begin{equation}\n",
    "v_{0y}=B-g/\\gamma,~~~B=v_{0y}+g/\\gamma.\n",
    "\\label{_auto13} \\tag{13}\n",
    "\\end{equation}\n",
    "$$"
   ]
  },
  {
   "cell_type": "markdown",
   "id": "f8c0466c",
   "metadata": {
    "editable": true
   },
   "source": [
    "Plugging in the expression for $B$ gives the $y$ motion given the initial velocity,"
   ]
  },
  {
   "cell_type": "markdown",
   "id": "21e3c8e2",
   "metadata": {
    "editable": true
   },
   "source": [
    "<!-- Equation labels as ordinary links -->\n",
    "<div id=\"_auto14\"></div>\n",
    "\n",
    "$$\n",
    "\\begin{equation}\n",
    "v_y=(v_{0y}+g/\\gamma)e^{-\\gamma t}-g/\\gamma.\n",
    "\\label{_auto14} \\tag{14}\n",
    "\\end{equation}\n",
    "$$"
   ]
  },
  {
   "cell_type": "markdown",
   "id": "0c6c5f41",
   "metadata": {
    "editable": true
   },
   "source": [
    "It is easy to see that this solution has $v_y=v_{0y}$ when $t=0$ and\n",
    "$v_y=-g/\\gamma$ when $t\\rightarrow\\infty$.\n",
    "\n",
    "One can also integrate the two equations to find the coordinates $x$\n",
    "and $y$ as functions of $t$,"
   ]
  },
  {
   "cell_type": "markdown",
   "id": "ccd7c760",
   "metadata": {
    "editable": true
   },
   "source": [
    "$$\n",
    "\\begin{eqnarray}\n",
    "x&=&\\int_0^t dt'~v_{0x}(t')=\\frac{v_{0x}}{\\gamma}\\left(1-e^{-\\gamma t}\\right),\\\\\n",
    "\\nonumber\n",
    "y&=&\\int_0^t dt'~v_{0y}(t')=-\\frac{gt}{\\gamma}+\\frac{v_{0y}+g/\\gamma}{\\gamma}\\left(1-e^{-\\gamma t}\\right).\n",
    "\\end{eqnarray}\n",
    "$$"
   ]
  },
  {
   "cell_type": "markdown",
   "id": "3fddb759",
   "metadata": {
    "editable": true
   },
   "source": [
    "If the question was to find the position at a time $t$, we would be\n",
    "finished. However, the more common goal in a projectile equation\n",
    "problem is to find the range, i.e. the distance $x$ at which $y$\n",
    "returns to zero. For the case without a drag force this was much\n",
    "simpler. The solution for the $y$ coordinate would have been\n",
    "$y=v_{0y}t-gt^2/2$. One would solve for $t$ to make $y=0$, which would\n",
    "be $t=2v_{0y}/g$, then plug that value for $t$ into $x=v_{0x}t$ to\n",
    "find $x=2v_{0x}v_{0y}/g=v_0\\sin(2\\theta_0)/g$. One follows the same\n",
    "steps here, except that the expression for $y(t)$ is more\n",
    "complicated. Searching for the time where $y=0$, and we get"
   ]
  },
  {
   "cell_type": "markdown",
   "id": "af5e3dab",
   "metadata": {
    "editable": true
   },
   "source": [
    "<!-- Equation labels as ordinary links -->\n",
    "<div id=\"_auto15\"></div>\n",
    "\n",
    "$$\n",
    "\\begin{equation}\n",
    "0=-\\frac{gt}{\\gamma}+\\frac{v_{0y}+g/\\gamma}{\\gamma}\\left(1-e^{-\\gamma t}\\right).\n",
    "\\label{_auto15} \\tag{15}\n",
    "\\end{equation}\n",
    "$$"
   ]
  },
  {
   "cell_type": "markdown",
   "id": "e88d8fe8",
   "metadata": {
    "editable": true
   },
   "source": [
    "This cannot be inverted into a simple expression $t=\\cdots$. Such\n",
    "expressions are known as \"transcendental equations\", and are not the\n",
    "rare instance, but are the norm. In the days before computers, one\n",
    "might plot the right-hand side of the above graphically as\n",
    "a function of time, then find the point where it crosses zero.\n",
    "\n",
    "Now, the most common way to solve for an equation of the above type\n",
    "would be to apply Newton's method numerically. This involves the\n",
    "following algorithm for finding solutions of some equation $F(t)=0$.\n",
    "\n",
    "1. First guess a value for the time, $t_{\\rm guess}$.\n",
    "\n",
    "2. Calculate $F$ and its derivative, $F(t_{\\rm guess})$ and $F'(t_{\\rm guess})$. \n",
    "\n",
    "3. Unless you guessed perfectly, $F\\ne 0$, and assuming that $\\Delta F\\approx F'\\Delta t$, one would choose \n",
    "\n",
    "4. $\\Delta t=-F(t_{\\rm guess})/F'(t_{\\rm guess})$.\n",
    "\n",
    "5. Now repeat step 1, but with $t_{\\rm guess}\\rightarrow t_{\\rm guess}+\\Delta t$.\n",
    "\n",
    "If the $F(t)$ were perfectly linear in $t$, one would find $t$ in one\n",
    "step. Instead, one typically finds a value of $t$ that is closer to\n",
    "the final answer than $t_{\\rm guess}$. One breaks the loop once one\n",
    "finds $F$ within some acceptable tolerance of zero. A program to do\n",
    "this will be added shortly."
   ]
  },
  {
   "cell_type": "markdown",
   "id": "371e8019",
   "metadata": {
    "editable": true
   },
   "source": [
    "## Motion in a Magnetic Field\n",
    "\n",
    "This case is just another example of motion under a specific force.\n",
    "\n",
    "Another example of a velocity-dependent force is magnetism,"
   ]
  },
  {
   "cell_type": "markdown",
   "id": "0d218473",
   "metadata": {
    "editable": true
   },
   "source": [
    "$$\n",
    "\\begin{eqnarray}\n",
    "\\boldsymbol{F}&=&q\\boldsymbol{v}\\times\\boldsymbol{B},\\\\\n",
    "\\nonumber\n",
    "F_i&=&q\\sum_{jk}\\epsilon_{ijk}v_jB_k.\n",
    "\\end{eqnarray}\n",
    "$$"
   ]
  },
  {
   "cell_type": "markdown",
   "id": "166a7fd9",
   "metadata": {
    "editable": true
   },
   "source": [
    "For a uniform field in the $z$ direction $\\boldsymbol{B}=B\\hat{z}$, the force can only have $x$ and $y$ components,"
   ]
  },
  {
   "cell_type": "markdown",
   "id": "526c73ed",
   "metadata": {
    "editable": true
   },
   "source": [
    "$$\n",
    "\\begin{eqnarray}\n",
    "F_x&=&qBv_y\\\\\n",
    "\\nonumber\n",
    "F_y&=&-qBv_x.\n",
    "\\end{eqnarray}\n",
    "$$"
   ]
  },
  {
   "cell_type": "markdown",
   "id": "4a7708b2",
   "metadata": {
    "editable": true
   },
   "source": [
    "The differential equations are"
   ]
  },
  {
   "cell_type": "markdown",
   "id": "dc990856",
   "metadata": {
    "editable": true
   },
   "source": [
    "$$\n",
    "\\begin{eqnarray}\n",
    "\\dot{v}_x&=&\\omega_c v_y,\\omega_c= qB/m\\\\\n",
    "\\nonumber\n",
    "\\dot{v}_y&=&-\\omega_c v_x.\n",
    "\\end{eqnarray}\n",
    "$$"
   ]
  },
  {
   "cell_type": "markdown",
   "id": "2ea110d0",
   "metadata": {
    "editable": true
   },
   "source": [
    "One can solve the equations by taking time derivatives of either equation, then substituting into the other equation,"
   ]
  },
  {
   "cell_type": "markdown",
   "id": "91aea999",
   "metadata": {
    "editable": true
   },
   "source": [
    "$$\n",
    "\\begin{eqnarray}\n",
    "\\ddot{v}_x=\\omega_c\\dot{v_y}=-\\omega_c^2v_x,\\\\\n",
    "\\nonumber\n",
    "\\ddot{v}_y&=&-\\omega_c\\dot{v}_x=-\\omega_cv_y.\n",
    "\\end{eqnarray}\n",
    "$$"
   ]
  },
  {
   "cell_type": "markdown",
   "id": "4def2b87",
   "metadata": {
    "editable": true
   },
   "source": [
    "The solution to these equations can be seen by inspection,"
   ]
  },
  {
   "cell_type": "markdown",
   "id": "99389470",
   "metadata": {
    "editable": true
   },
   "source": [
    "$$\n",
    "\\begin{eqnarray}\n",
    "v_x&=&A\\sin(\\omega_ct+\\phi),\\\\\n",
    "\\nonumber\n",
    "v_y&=&A\\cos(\\omega_ct+\\phi).\n",
    "\\end{eqnarray}\n",
    "$$"
   ]
  },
  {
   "cell_type": "markdown",
   "id": "ac6a3983",
   "metadata": {
    "editable": true
   },
   "source": [
    "One can integrate the equations to find the positions as a function of time,"
   ]
  },
  {
   "cell_type": "markdown",
   "id": "dc497301",
   "metadata": {
    "editable": true
   },
   "source": [
    "$$\n",
    "\\begin{eqnarray}\n",
    "x-x_0&=&\\int_{x_0}^x dx=\\int_0^t dt v(t)\\\\\n",
    "\\nonumber\n",
    "&=&\\frac{-A}{\\omega_c}\\cos(\\omega_ct+\\phi),\\\\\n",
    "\\nonumber\n",
    "y-y_0&=&\\frac{A}{\\omega_c}\\sin(\\omega_ct+\\phi).\n",
    "\\end{eqnarray}\n",
    "$$"
   ]
  },
  {
   "cell_type": "markdown",
   "id": "8b7bd496",
   "metadata": {
    "editable": true
   },
   "source": [
    "The trajectory is a circle centered at $x_0,y_0$ with amplitude $A$ rotating in the clockwise direction.\n",
    "\n",
    "The equations of motion for the $z$ motion are"
   ]
  },
  {
   "cell_type": "markdown",
   "id": "a394db04",
   "metadata": {
    "editable": true
   },
   "source": [
    "<!-- Equation labels as ordinary links -->\n",
    "<div id=\"_auto16\"></div>\n",
    "\n",
    "$$\n",
    "\\begin{equation}\n",
    "\\dot{v_z}=0,\n",
    "\\label{_auto16} \\tag{16}\n",
    "\\end{equation}\n",
    "$$"
   ]
  },
  {
   "cell_type": "markdown",
   "id": "9159b080",
   "metadata": {
    "editable": true
   },
   "source": [
    "which leads to"
   ]
  },
  {
   "cell_type": "markdown",
   "id": "9017de3b",
   "metadata": {
    "editable": true
   },
   "source": [
    "<!-- Equation labels as ordinary links -->\n",
    "<div id=\"_auto17\"></div>\n",
    "\n",
    "$$\n",
    "\\begin{equation}\n",
    "z-z_0=V_zt.\n",
    "\\label{_auto17} \\tag{17}\n",
    "\\end{equation}\n",
    "$$"
   ]
  },
  {
   "cell_type": "markdown",
   "id": "76bc1ee5",
   "metadata": {
    "editable": true
   },
   "source": [
    "Added onto the circle, the motion is helical.\n",
    "\n",
    "Note that the kinetic energy,"
   ]
  },
  {
   "cell_type": "markdown",
   "id": "5d0d87bb",
   "metadata": {
    "editable": true
   },
   "source": [
    "<!-- Equation labels as ordinary links -->\n",
    "<div id=\"_auto18\"></div>\n",
    "\n",
    "$$\n",
    "\\begin{equation}\n",
    "T=\\frac{1}{2}m(v_x^2+v_y^2+v_z^2)=\\frac{1}{2}m(\\omega_c^2A^2+V_z^2),\n",
    "\\label{_auto18} \\tag{18}\n",
    "\\end{equation}\n",
    "$$"
   ]
  },
  {
   "cell_type": "markdown",
   "id": "db7fd969",
   "metadata": {
    "editable": true
   },
   "source": [
    "is constant. This is because the force is perpendicular to the\n",
    "velocity, so that in any differential time element $dt$ the work done\n",
    "on the particle $\\boldsymbol{F}\\cdot{dr}=dt\\boldsymbol{F}\\cdot{v}=0$.\n",
    "\n",
    "One should think about the implications of a velocity dependent\n",
    "force. Suppose one had a constant magnetic field in deep space. If a\n",
    "particle came through with velocity $v_0$, it would undergo cyclotron\n",
    "motion with radius $R=v_0/\\omega_c$. However, if it were still its\n",
    "motion would remain fixed. Now, suppose an observer looked at the\n",
    "particle in one reference frame where the particle was moving, then\n",
    "changed their velocity so that the particle's velocity appeared to be\n",
    "zero. The motion would change from circular to fixed. Is this\n",
    "possible?\n",
    "\n",
    "The solution to the puzzle above relies on understanding\n",
    "relativity. Imagine that the first observer believes $\\boldsymbol{B}\\ne 0$ and\n",
    "that the electric field $\\boldsymbol{E}=0$. If the observer then changes\n",
    "reference frames by accelerating to a velocity $\\boldsymbol{v}$, in the new\n",
    "frame $\\boldsymbol{B}$ and $\\boldsymbol{E}$ both change. If the observer moved to the\n",
    "frame where the charge, originally moving with a small velocity $v$,\n",
    "is now at rest, the new electric field is indeed $\\boldsymbol{v}\\times\\boldsymbol{B}$,\n",
    "which then leads to the same acceleration as one had before. If the\n",
    "velocity is not small compared to the speed of light, additional\n",
    "$\\gamma$ factors come into play,\n",
    "$\\gamma=1/\\sqrt{1-(v/c)^2}$. Relativistic motion will not be\n",
    "considered in this course."
   ]
  },
  {
   "cell_type": "markdown",
   "id": "cf022c47",
   "metadata": {
    "editable": true
   },
   "source": [
    "## Sliding Block tied to a Wall\n",
    "\n",
    "Another classical case is that of simple harmonic oscillations, here\n",
    "represented by a block sliding on a horizontal frictionless\n",
    "surface. The block is tied to a wall with a spring. If the spring is\n",
    "not compressed or stretched too far, the force on the block at a given\n",
    "position $x$ is"
   ]
  },
  {
   "cell_type": "markdown",
   "id": "f862c8dc",
   "metadata": {
    "editable": true
   },
   "source": [
    "$$\n",
    "F=-kx.\n",
    "$$"
   ]
  },
  {
   "cell_type": "markdown",
   "id": "4fb5bbfe",
   "metadata": {
    "editable": true
   },
   "source": [
    "## Back and Forth, Sliding Block with no friction\n",
    "\n",
    "The negative sign means that the force acts to restore the object to an equilibrium position. Newton's equation of motion for this idealized system is then"
   ]
  },
  {
   "cell_type": "markdown",
   "id": "2d8a80f5",
   "metadata": {
    "editable": true
   },
   "source": [
    "$$\n",
    "m\\frac{d^2x}{dt^2}=-kx,\n",
    "$$"
   ]
  },
  {
   "cell_type": "markdown",
   "id": "ba1ddaa7",
   "metadata": {
    "editable": true
   },
   "source": [
    "or we could rephrase it as"
   ]
  },
  {
   "cell_type": "markdown",
   "id": "16ab7ea1",
   "metadata": {
    "editable": true
   },
   "source": [
    "<!-- Equation labels as ordinary links -->\n",
    "<div id=\"eq:newton1\"></div>\n",
    "\n",
    "$$\n",
    "\\frac{d^2x}{dt^2}=-\\frac{k}{m}x=-\\omega_0^2x,\n",
    "\\label{eq:newton1} \\tag{19}\n",
    "$$"
   ]
  },
  {
   "cell_type": "markdown",
   "id": "94f67071",
   "metadata": {
    "editable": true
   },
   "source": [
    "with the angular frequency $\\omega_0^2=k/m$. \n",
    "\n",
    "We will derive the above force when we start studying **harmonic oscillations**."
   ]
  },
  {
   "cell_type": "markdown",
   "id": "59b80f10",
   "metadata": {
    "editable": true
   },
   "source": [
    "## Final rewrite\n",
    "\n",
    "With the position $x(t)$ and the velocity  $v(t)=dx/dt$ we can reformulate Newton's equation in the following way"
   ]
  },
  {
   "cell_type": "markdown",
   "id": "8396895c",
   "metadata": {
    "editable": true
   },
   "source": [
    "$$\n",
    "\\frac{dx(t)}{dt}=v(t),\n",
    "$$"
   ]
  },
  {
   "cell_type": "markdown",
   "id": "1dc3354b",
   "metadata": {
    "editable": true
   },
   "source": [
    "and"
   ]
  },
  {
   "cell_type": "markdown",
   "id": "e8a24bf0",
   "metadata": {
    "editable": true
   },
   "source": [
    "$$\n",
    "\\frac{dv(t)}{dt}=-\\omega_0^2x(t).\n",
    "$$"
   ]
  },
  {
   "cell_type": "markdown",
   "id": "80e3235e",
   "metadata": {
    "editable": true
   },
   "source": [
    "With initial conditions $x(t_0)=x_0$ and $v(t_0)=v_0$ we can in turn solve the differential equations."
   ]
  },
  {
   "cell_type": "markdown",
   "id": "d8185521",
   "metadata": {
    "editable": true
   },
   "source": [
    "## Analytical Solution\n",
    "\n",
    "The above differential equation has the advantage that it can be\n",
    "solved analytically with general solutions on the form"
   ]
  },
  {
   "cell_type": "markdown",
   "id": "e3f8d28b",
   "metadata": {
    "editable": true
   },
   "source": [
    "$$\n",
    "x(t)=A\\cos{\\omega_0t}+B\\sin{\\omega_0t},\n",
    "$$"
   ]
  },
  {
   "cell_type": "markdown",
   "id": "0a816cd9",
   "metadata": {
    "editable": true
   },
   "source": [
    "and"
   ]
  },
  {
   "cell_type": "markdown",
   "id": "3b6463ed",
   "metadata": {
    "editable": true
   },
   "source": [
    "$$\n",
    "v(t)=-\\omega_0 A\\sin{\\omega_0t}+\\omega_0 B\\cos{\\omega_0t},\n",
    "$$"
   ]
  },
  {
   "cell_type": "markdown",
   "id": "5a6df7f2",
   "metadata": {
    "editable": true
   },
   "source": [
    "where $A$ and $B$ are constants to be determined from the initial conditions.\n",
    "\n",
    "This provides in turn an important test for the numerical solution and\n",
    "the development of a program for more complicated cases which cannot\n",
    "be solved analytically.\n",
    "\n",
    "We will discuss the above equations in more detail when we discuss harmonic oscillations."
   ]
  },
  {
   "cell_type": "markdown",
   "id": "14777a0a",
   "metadata": {
    "editable": true
   },
   "source": [
    "## Summarizing the various motion problems 1\n",
    "\n",
    "The examples we have discussed above were included in order to\n",
    "illustrate various methods (which depend on the specific problem) to\n",
    "find the solutions of the equations of motion.\n",
    "We have solved the equations of motion in the following ways:\n",
    "\n",
    "**Solve the differential equations analytically.**\n",
    "\n",
    "We did this for example with the following object in one or two dimensions or the sliding block. \n",
    "Here we had for example an equation set like"
   ]
  },
  {
   "cell_type": "markdown",
   "id": "9a6493c4",
   "metadata": {
    "editable": true
   },
   "source": [
    "$$\n",
    "\\frac{dv_x}{dt}=-\\gamma v_x,\n",
    "$$"
   ]
  },
  {
   "cell_type": "markdown",
   "id": "2ed01f0b",
   "metadata": {
    "editable": true
   },
   "source": [
    "and"
   ]
  },
  {
   "cell_type": "markdown",
   "id": "32550a26",
   "metadata": {
    "editable": true
   },
   "source": [
    "$$\n",
    "\\frac{dv_y}{dt}=-\\gamma v_y-g,\n",
    "$$"
   ]
  },
  {
   "cell_type": "markdown",
   "id": "e3f6c807",
   "metadata": {
    "editable": true
   },
   "source": [
    "and $\\gamma$ has dimension of inverse time."
   ]
  },
  {
   "cell_type": "markdown",
   "id": "a12a53b4",
   "metadata": {
    "editable": true
   },
   "source": [
    "## Summarizing the various motion problems 2\n",
    "\n",
    "**Integrate the equations.**\n",
    "\n",
    "We could also integrate directly in case we can separate the degrees of freedom in a an easy way. Take for example one of the equations in the previous slide"
   ]
  },
  {
   "cell_type": "markdown",
   "id": "ec32ba72",
   "metadata": {
    "editable": true
   },
   "source": [
    "$$\n",
    "\\frac{dv_x}{dt}=-\\gamma v_x,\n",
    "$$"
   ]
  },
  {
   "cell_type": "markdown",
   "id": "02db791c",
   "metadata": {
    "editable": true
   },
   "source": [
    "which we can rewrite in terms of a left-hand side which depends only on the velocity and a right-hand side which depends only on time"
   ]
  },
  {
   "cell_type": "markdown",
   "id": "0c76c2d2",
   "metadata": {
    "editable": true
   },
   "source": [
    "$$\n",
    "\\frac{dv_x}{v_x}=-\\gamma dt.\n",
    "$$"
   ]
  },
  {
   "cell_type": "markdown",
   "id": "1917b00a",
   "metadata": {
    "editable": true
   },
   "source": [
    "Integrating we have (since we can separate $v_x$ and $t$)"
   ]
  },
  {
   "cell_type": "markdown",
   "id": "d8db0146",
   "metadata": {
    "editable": true
   },
   "source": [
    "$$\n",
    "\\int_{v_0}^{v_t}\\frac{dv_x}{v_x}=-\\int_{t_0}^{t_f}\\gamma dt,\n",
    "$$"
   ]
  },
  {
   "cell_type": "markdown",
   "id": "5a606e69",
   "metadata": {
    "editable": true
   },
   "source": [
    "where $v_f$ is the velocity at a final time and $t_f$ is the final time.\n",
    "In this case we found, after having integrated the above two sides that"
   ]
  },
  {
   "cell_type": "markdown",
   "id": "cbed0b85",
   "metadata": {
    "editable": true
   },
   "source": [
    "$$\n",
    "v_f(t)=v_0\\exp{-\\gamma t}.\n",
    "$$"
   ]
  },
  {
   "cell_type": "markdown",
   "id": "37d77d9d",
   "metadata": {
    "editable": true
   },
   "source": [
    "## Summarizing the various motion problems 3\n",
    "\n",
    "**Solve the differential equations numerically.**\n",
    "\n",
    "Finally, using for example Euler's method, we can solve the\n",
    "differential equations numerically. If we can compare our numerical\n",
    "solutions with analytical solutions, we have an extra check of our\n",
    "numerical approaches.\n",
    "\n",
    "The example code on the next slide is relevant for homework 3. Here we deal with a falling object in two dimensions. Except for the derivations above with an\n",
    "air resistance which is linear in the velocity, homework 3 uses a quadratic velocity dependence."
   ]
  },
  {
   "cell_type": "markdown",
   "id": "92d9bf15",
   "metadata": {
    "editable": true
   },
   "source": [
    "## Code example using Euler's methods\n",
    "\n",
    "**Note**: this code needs some additional expressions and will not run"
   ]
  },
  {
   "cell_type": "code",
   "execution_count": 1,
   "id": "cb99c8fd",
   "metadata": {
    "collapsed": false,
    "editable": true
   },
   "outputs": [],
   "source": [
    "%matplotlib inline\n",
    "\n",
    "# Common imports\n",
    "import numpy as np\n",
    "import pandas as pd\n",
    "from math import *\n",
    "import matplotlib.pyplot as plt\n",
    "import os\n",
    "from pylab import plt, mpl\n",
    "plt.style.use('seaborn')\n",
    "mpl.rcParams['font.family'] = 'serif'\n",
    "\n",
    "#define the gravitational acceleration\n",
    "g = 9.80655 #m/s^2\n",
    "# The mass and the drag constant D\n",
    "D = 0.00245 #mass/length   kg/m\n",
    "m = 0.2 #kg, mass of falling object\n",
    "DeltaT = 0.001\n",
    "#set up final time, here just a number we have chosen\n",
    "tfinal = 1.0\n",
    "# set up number of points for all variables\n",
    "n = ceil(tfinal/DeltaT)\n",
    "# set up arrays for t, a, v, and y and arrays for analytical results\n",
    "# Note the brute force setting up of arrays for x and y, vx, vy, ax and ay\n",
    "# For hw3 you should think of using the 2-dim vectors you used in homework 2\n",
    "t = np.zeros(n)\n",
    "vy = np.zeros(n)\n",
    "y = np.zeros(n)\n",
    "vx = np.zeros(n)\n",
    "x = np.zeros(n)\n",
    "# Initial conditions\n",
    "vx[0] = 10.0 #m/s\n",
    "vy[0] = 0.0  #m/s\n",
    "y[0] = 10.0 #m\n",
    "x[0] = 0.0 #m\n",
    "# Start integrating using Euler's method\n",
    "for i in range(n-1):\n",
    "    # expression for acceleration, note the absolute value and division by mass\n",
    "#    ax = You need to set up the expression for force and thereby the acceleration in the x-direction\n",
    "#    ay = You need to set up the expression for force and thereby the acceleration in the y-direction\n",
    "    # update velocity and position\n",
    "    vx[i+1] = vx[i] + DeltaT*ax\n",
    "    x[i+1] = x[i] + DeltaT*vx[i]\n",
    "    vy[i+1] = vy[i] + DeltaT*ay\n",
    "    y[i+1] = y[i] + DeltaT*vy[i]\n",
    "    # update time to next time step and compute analytical answer\n",
    "    t[i+1] = t[i] + DeltaT\n",
    "#  Here you need to set up the analytical solution for y(t) and x(t)\n",
    "\n",
    "if ( y[i+1] < 0.0):\n",
    "        break\n",
    "data = {'t[s]': t,\n",
    "        'Relative error in y': abs((y-yanalytic)/yanalytic),\n",
    "        'vy[m/s]': vy,\n",
    "        'Relative error in x': abs((x-xanalytic)/xanalytic),\n",
    "        'vx[m/s]': vx\n",
    "}\n",
    "NewData = pd.DataFrame(data)\n",
    "display(NewData)\n",
    "# save to file\n",
    "NewData.to_csv(outfile, index=False)\n",
    "#then plot\n",
    "fig, axs = plt.subplots(4, 1)\n",
    "axs[0].plot(t, y)\n",
    "axs[0].set_xlim(0, tfinal)\n",
    "axs[0].set_ylabel('y')\n",
    "axs[1].plot(t, vy)\n",
    "axs[1].set_ylabel('vy[m/s]')\n",
    "axs[1].set_xlabel('time[s]')\n",
    "axs[2].plot(t, x)\n",
    "axs[2].set_xlim(0, tfinal)\n",
    "axs[2].set_ylabel('x')\n",
    "axs[3].plot(t, vx)\n",
    "axs[3].set_ylabel('vx[m/s]')\n",
    "axs[3].set_xlabel('time[s]')\n",
    "fig.tight_layout()\n",
    "plt.show()"
   ]
  },
  {
   "cell_type": "markdown",
   "id": "590f8091",
   "metadata": {
    "editable": true
   },
   "source": [
    "## Work, Energy, Momentum and Conservation laws\n",
    "\n",
    "The previous three cases have shown us how to use Newton’s laws of\n",
    "motion to determine the motion of an object based on the forces acting\n",
    "on it. For two of the cases there is an underlying assumption that we can find an analytical solution to a continuous problem.\n",
    "With a continuous problem we mean a problem where the various variables can take any value within a finite or infinite interval. \n",
    "\n",
    "Unfortunately, in many cases we\n",
    "cannot find an exact solution to the equations of motion we get from\n",
    "Newton’s second law. The numerical approach, where we discretize the continuous problem, allows us however to study a much richer set of problems.\n",
    "For problems involving Newton's laws and the various equations of motion we encounter, solving the equations numerically, is the standard approach.\n",
    "\n",
    "It allows us to focus on the underlying forces. Often we end up using the same numerical algorithm for different problems.\n",
    "\n",
    "Here we introduce a commonly used technique that allows us to find the\n",
    "velocity as a function of position without finding the position as a\n",
    "function of time—an alternate form of Newton’s second law. The method\n",
    "is based on a simple principle: Instead of solving the equations of\n",
    "motion directly, we integrate the equations of motion. Such a method\n",
    "is called an integration method. \n",
    "\n",
    "This allows us also to introduce the **work-energy** theorem. This\n",
    "theorem lets us find the velocity as a function of position for\n",
    "an object even in cases when we cannot solve the equations of\n",
    "motion. This introduces us to the concept of work and kinetic energy,\n",
    "which is the  energy related to the motion of an object.\n",
    "\n",
    "And finally, later, we will link the work-energy theorem with the principle of conservation of energy."
   ]
  },
  {
   "cell_type": "markdown",
   "id": "ea0085b5",
   "metadata": {
    "editable": true
   },
   "source": [
    "## The Work-Energy Theorem\n",
    "\n",
    "Let us define the kinetic energy $K$ with a given velocity $\\boldsymbol{v}$"
   ]
  },
  {
   "cell_type": "markdown",
   "id": "a0c5b122",
   "metadata": {
    "editable": true
   },
   "source": [
    "$$\n",
    "K=\\frac{1}{2}mv^2,\n",
    "$$"
   ]
  },
  {
   "cell_type": "markdown",
   "id": "1cbeda32",
   "metadata": {
    "editable": true
   },
   "source": [
    "where $m$ is the mass of the object we are considering.\n",
    "We assume also that there is a force $\\boldsymbol{F}$ acting on the given object"
   ]
  },
  {
   "cell_type": "markdown",
   "id": "b62e5c23",
   "metadata": {
    "editable": true
   },
   "source": [
    "$$\n",
    "\\boldsymbol{F}=\\boldsymbol{F}(\\boldsymbol{r},\\boldsymbol{v},t),\n",
    "$$"
   ]
  },
  {
   "cell_type": "markdown",
   "id": "b0409619",
   "metadata": {
    "editable": true
   },
   "source": [
    "with $\\boldsymbol{r}$ the position and $t$ the time.\n",
    "In general we assume the force is a function of all these variables.\n",
    "Many of the more central forces in Nature however, depende only on the\n",
    "position. Examples are the gravitational force and the force derived\n",
    "from the Coulomb potential in electromagnetism."
   ]
  },
  {
   "cell_type": "markdown",
   "id": "1f7c052e",
   "metadata": {
    "editable": true
   },
   "source": [
    "## Rewriting the Kinetic Energy\n",
    "\n",
    "Let us study the derivative of the kinetic energy with respect to time $t$. Its continuous form is"
   ]
  },
  {
   "cell_type": "markdown",
   "id": "86f64c28",
   "metadata": {
    "editable": true
   },
   "source": [
    "$$\n",
    "\\frac{dK}{dt}=\\frac{1}{2}m\\frac{d\\boldsymbol{v}\\cdot\\boldsymbol{v}}{dt}.\n",
    "$$"
   ]
  },
  {
   "cell_type": "markdown",
   "id": "335414b5",
   "metadata": {
    "editable": true
   },
   "source": [
    "Using our results from exercise 3 of homework 1, we can write the derivative of a vector dot product as"
   ]
  },
  {
   "cell_type": "markdown",
   "id": "c13d9257",
   "metadata": {
    "editable": true
   },
   "source": [
    "$$\n",
    "\\frac{dK}{dt}=\\frac{1}{2}m\\frac{d\\boldsymbol{v}\\cdot\\boldsymbol{v}}{dt}= \\frac{1}{2}m\\left(\\frac{d\\boldsymbol{v}}{dt}\\cdot\\boldsymbol{v}+\\boldsymbol{v}\\cdot\\frac{d\\boldsymbol{v}}{dt}\\right)=m\\frac{d\\boldsymbol{v}}{dt}\\cdot\\boldsymbol{v}.\n",
    "$$"
   ]
  },
  {
   "cell_type": "markdown",
   "id": "a46e2882",
   "metadata": {
    "editable": true
   },
   "source": [
    "We know also that the acceleration is defined as"
   ]
  },
  {
   "cell_type": "markdown",
   "id": "a0f6e49b",
   "metadata": {
    "editable": true
   },
   "source": [
    "$$\n",
    "\\boldsymbol{a}=\\frac{\\boldsymbol{F}}{m}=\\frac{d\\boldsymbol{v}}{dt}.\n",
    "$$"
   ]
  },
  {
   "cell_type": "markdown",
   "id": "e8bd23ff",
   "metadata": {
    "editable": true
   },
   "source": [
    "We can then rewrite the equation for the derivative of the kinetic energy as"
   ]
  },
  {
   "cell_type": "markdown",
   "id": "42add9d3",
   "metadata": {
    "editable": true
   },
   "source": [
    "$$\n",
    "\\frac{dK}{dt}=m\\frac{d\\boldsymbol{v}}{dt}\\boldsymbol{v}=\\boldsymbol{F}\\frac{d\\boldsymbol{r}}{dt},\n",
    "$$"
   ]
  },
  {
   "cell_type": "markdown",
   "id": "0fdfc9d9",
   "metadata": {
    "editable": true
   },
   "source": [
    "where we defined the velocity as the derivative of the position with respect to time."
   ]
  },
  {
   "cell_type": "markdown",
   "id": "c7128d47",
   "metadata": {
    "editable": true
   },
   "source": [
    "## Discretizing\n",
    "\n",
    "Let us now discretize the above equation by letting the instantaneous terms be replaced by a discrete quantity, that is\n",
    "we let $dK\\rightarrow \\Delta K$, $dt\\rightarrow \\Delta t$, $d\\boldsymbol{r}\\rightarrow \\Delta \\boldsymbol{r}$ and $d\\boldsymbol{v}\\rightarrow \\Delta \\boldsymbol{v}$.\n",
    "\n",
    "We have then"
   ]
  },
  {
   "cell_type": "markdown",
   "id": "e51344b8",
   "metadata": {
    "editable": true
   },
   "source": [
    "$$\n",
    "\\frac{\\Delta K}{\\Delta t}=m\\frac{\\Delta \\boldsymbol{v}}{\\Delta t}\\boldsymbol{v}=\\boldsymbol{F}\\frac{\\Delta \\boldsymbol{r}}{\\Delta t},\n",
    "$$"
   ]
  },
  {
   "cell_type": "markdown",
   "id": "b133db2c",
   "metadata": {
    "editable": true
   },
   "source": [
    "or by multiplying out $\\Delta t$ we have"
   ]
  },
  {
   "cell_type": "markdown",
   "id": "581499b7",
   "metadata": {
    "editable": true
   },
   "source": [
    "$$\n",
    "\\Delta K=\\boldsymbol{F}\\Delta \\boldsymbol{r}.\n",
    "$$"
   ]
  },
  {
   "cell_type": "markdown",
   "id": "b5e7c9cf",
   "metadata": {
    "editable": true
   },
   "source": [
    "We define this quantity as the **work** done by the force $\\boldsymbol{F}$\n",
    "during the displacement $\\Delta \\boldsymbol{r}$. If we study the dimensionality\n",
    "of this problem we have mass times length squared divided by time\n",
    "squared, or just dimension energy."
   ]
  },
  {
   "cell_type": "markdown",
   "id": "8d087abb",
   "metadata": {
    "editable": true
   },
   "source": [
    "## Difference in kinetic energy\n",
    "\n",
    "If we now define a series of such displacements $\\Delta\\boldsymbol{r}$ we have a difference in kinetic energy at a final position $\\boldsymbol{r}_n$ and an \n",
    "initial position $\\boldsymbol{r}_0$ given by"
   ]
  },
  {
   "cell_type": "markdown",
   "id": "2ebe1e07",
   "metadata": {
    "editable": true
   },
   "source": [
    "$$\n",
    "\\Delta K=\\frac{1}{2}mv_n^2-\\frac{1}{2}mv_0^2=\\sum_{i=0}^n\\boldsymbol{F}_i\\Delta \\boldsymbol{r},\n",
    "$$"
   ]
  },
  {
   "cell_type": "markdown",
   "id": "4206389d",
   "metadata": {
    "editable": true
   },
   "source": [
    "where $\\boldsymbol{F}_i$ are the forces acting at every position $\\boldsymbol{r}_i$.\n",
    "\n",
    "The work done by acting with a force on a set of displacements can\n",
    "then be as expressed as the difference between the initial and final\n",
    "kinetic energies.\n",
    "\n",
    "This defines the **work-energy** theorem."
   ]
  },
  {
   "cell_type": "markdown",
   "id": "2ed6c403",
   "metadata": {
    "editable": true
   },
   "source": [
    "## From the discrete version to the continuous version\n",
    "\n",
    "If we take the limit $\\Delta \\boldsymbol{r}\\rightarrow 0$, we can rewrite the sum over the various displacements in terms of an integral, that is"
   ]
  },
  {
   "cell_type": "markdown",
   "id": "4436ecd6",
   "metadata": {
    "editable": true
   },
   "source": [
    "$$\n",
    "\\Delta K=\\frac{1}{2}mv_n^2-\\frac{1}{2}mv_0^2=\\sum_{i=0}^n\\boldsymbol{F}_i\\Delta \\boldsymbol{r}\\rightarrow \\int_{\\boldsymbol{r}_0}^{\\boldsymbol{r}_n}\\boldsymbol{F}(\\boldsymbol{r},\\boldsymbol{v},t)d\\boldsymbol{r}.\n",
    "$$"
   ]
  },
  {
   "cell_type": "markdown",
   "id": "aa702b66",
   "metadata": {
    "editable": true
   },
   "source": [
    "This integral defines a path integral since it will depend on the given path we take between the two end points. We will replace the limits with the symbol $c$ in order to indicate that we take a specific countour in space when the force acts on the system. That is the work $W_{n0}$ between two points $\\boldsymbol{r}_n$ and $\\boldsymbol{r}_0$ is labeled as"
   ]
  },
  {
   "cell_type": "markdown",
   "id": "a212b0a1",
   "metadata": {
    "editable": true
   },
   "source": [
    "$$\n",
    "W_{n0}=\\frac{1}{2}mv_n^2-\\frac{1}{2}mv_0^2=\\int_{c}\\boldsymbol{F}(\\boldsymbol{r},\\boldsymbol{v},t)d\\boldsymbol{r}.\n",
    "$$"
   ]
  },
  {
   "cell_type": "markdown",
   "id": "a216af00",
   "metadata": {
    "editable": true
   },
   "source": [
    "Note that if the force is perpendicular to the displacement, then the force does not affect the kinetic energy.\n",
    "\n",
    "Let us now study some examples of forces and how to find the velocity from the integration over a given path.\n",
    "\n",
    "Thereafter we study how to  evaluate an integral numerically."
   ]
  },
  {
   "cell_type": "markdown",
   "id": "6fb99d97",
   "metadata": {
    "editable": true
   },
   "source": [
    "## Studying the Work-energy Theorem numerically\n",
    "\n",
    "In order to study the work- energy, we will normally need to perform\n",
    "a numerical integration, unless we can integrate analytically. Here we\n",
    "present some of the simpler  methods such as the **rectangle** rule, the **trapezoidal** rule and higher-order methods like the Simpson family of methods."
   ]
  },
  {
   "cell_type": "markdown",
   "id": "969d2f95",
   "metadata": {
    "editable": true
   },
   "source": [
    "## Example of an Electron moving along a Surface\n",
    "\n",
    "As an example, let us consider the following case.\n",
    "We have  classical electron which moves in the $x$-direction along a surface. The force from the surface is"
   ]
  },
  {
   "cell_type": "markdown",
   "id": "bcffa2f0",
   "metadata": {
    "editable": true
   },
   "source": [
    "$$\n",
    "\\boldsymbol{F}(x)=-F_0\\sin{(\\frac{2\\pi x}{b})}\\boldsymbol{e}_1.\n",
    "$$"
   ]
  },
  {
   "cell_type": "markdown",
   "id": "c8d5a5ee",
   "metadata": {
    "editable": true
   },
   "source": [
    "The constant $b$ represents the distance between atoms at the surface of the material, $F_0$ is a constant and $x$ is the position of the electron.\n",
    "\n",
    "Using the work-energy theorem we can find the work $W$ done when moving an electron from a position $x_0$ to a final position $x$ through the\n",
    " integral"
   ]
  },
  {
   "cell_type": "markdown",
   "id": "e68b2fc2",
   "metadata": {
    "editable": true
   },
   "source": [
    "$$\n",
    "W=\\int_{x_0}^x \\boldsymbol{F}(x')dx' =  -\\int_{x_0}^x F_0\\sin{(\\frac{2\\pi x'}{b})} dx',\n",
    "$$"
   ]
  },
  {
   "cell_type": "markdown",
   "id": "4e3c1b7f",
   "metadata": {
    "editable": true
   },
   "source": [
    "which results in"
   ]
  },
  {
   "cell_type": "markdown",
   "id": "4ee7a4b1",
   "metadata": {
    "editable": true
   },
   "source": [
    "$$\n",
    "W=\\frac{F_0b}{2\\pi}\\left[\\cos{(\\frac{2\\pi x}{b})}-\\cos{(\\frac{2\\pi x_0}{b})}\\right].\n",
    "$$"
   ]
  },
  {
   "cell_type": "markdown",
   "id": "60b0d1ce",
   "metadata": {
    "editable": true
   },
   "source": [
    "## Finding the Velocity\n",
    "\n",
    "If we now use the work-energy theorem we can find the the velocity at a final position $x$ by setting up\n",
    "the differences in kinetic energies between the final position and the initial position $x_0$.\n",
    "\n",
    "We have that the work done by the force is given by the difference in kinetic energies as"
   ]
  },
  {
   "cell_type": "markdown",
   "id": "2550a9ba",
   "metadata": {
    "editable": true
   },
   "source": [
    "$$\n",
    "W=\\frac{1}{2}m\\left(v^2(x)-v^2(x_0)\\right)=\\frac{F_0b}{2\\pi}\\left[\\cos{(\\frac{2\\pi x}{b})}-\\cos{(\\frac{2\\pi x_0}{b})}\\right],\n",
    "$$"
   ]
  },
  {
   "cell_type": "markdown",
   "id": "cb586534",
   "metadata": {
    "editable": true
   },
   "source": [
    "and labeling $v(x_0)=v_0$ (and assuming we know the initial velocity) we have"
   ]
  },
  {
   "cell_type": "markdown",
   "id": "3600a991",
   "metadata": {
    "editable": true
   },
   "source": [
    "$$\n",
    "v(x)=\\pm \\sqrt{v_0^2+\\frac{F_0b}{m\\pi}\\left[\\cos{(\\frac{2\\pi x}{b})}-\\cos{(\\frac{2\\pi x_0}{b})}\\right]},\n",
    "$$"
   ]
  },
  {
   "cell_type": "markdown",
   "id": "d1047da1",
   "metadata": {
    "editable": true
   },
   "source": [
    "Choosing $x_0=0$m and $v_0=0$m/s we can simplify the above equation to"
   ]
  },
  {
   "cell_type": "markdown",
   "id": "77b47d32",
   "metadata": {
    "editable": true
   },
   "source": [
    "$$\n",
    "v(x)=\\pm \\sqrt{\\frac{F_0b}{m\\pi}\\left[\\cos{(\\frac{2\\pi x}{b})}-1\\right]},\n",
    "$$"
   ]
  },
  {
   "cell_type": "markdown",
   "id": "cfdf9e7b",
   "metadata": {
    "editable": true
   },
   "source": [
    "## Harmonic Oscillations\n",
    "\n",
    "Another well-known force (and we will derive when we come to Harmonic\n",
    "Oscillations) is the case of a sliding block attached to a wall\n",
    "through a spring. The block is attached to a spring with spring\n",
    "constant $k$. The other end of the spring is attached to the wall at\n",
    "the origin $x=0$.  We assume the spring has an equilibrium length\n",
    "$L_0$.\n",
    "\n",
    "The force $F_x$ from the spring on the block is then"
   ]
  },
  {
   "cell_type": "markdown",
   "id": "b03434d1",
   "metadata": {
    "editable": true
   },
   "source": [
    "$$\n",
    "F_x=-k(x-L_0).\n",
    "$$"
   ]
  },
  {
   "cell_type": "markdown",
   "id": "27dd0582",
   "metadata": {
    "editable": true
   },
   "source": [
    "The position $x$ where the spring force is zero is called the equilibrium position. In our case this is\n",
    "$x=L_0$.\n",
    "\n",
    "We can now compute the work done by this force when we move our block from an initial position $x_0$ to a final position $x$"
   ]
  },
  {
   "cell_type": "markdown",
   "id": "e40ac50f",
   "metadata": {
    "editable": true
   },
   "source": [
    "$$\n",
    "W=\\int_{x_0}^{x}F_xdx'=-k\\int_{x_0}^{x}(x'-L_0)dx'=\\frac{1}{2}k(x_0-L_0)^2-\\frac{1}{2}k(x-L_0)^2.\n",
    "$$"
   ]
  },
  {
   "cell_type": "markdown",
   "id": "d301a60b",
   "metadata": {
    "editable": true
   },
   "source": [
    "If we now bring back the definition of the work-energy theorem in terms of the kinetic energy we have"
   ]
  },
  {
   "cell_type": "markdown",
   "id": "ad0a343a",
   "metadata": {
    "editable": true
   },
   "source": [
    "$$\n",
    "W=\\frac{1}{2}mv^2(x)-\\frac{1}{2}mv_0^2=\\frac{1}{2}k(x_0-L_0)^2-\\frac{1}{2}k(x-L_0)^2,\n",
    "$$"
   ]
  },
  {
   "cell_type": "markdown",
   "id": "6f085162",
   "metadata": {
    "editable": true
   },
   "source": [
    "which we rewrite as"
   ]
  },
  {
   "cell_type": "markdown",
   "id": "b1521013",
   "metadata": {
    "editable": true
   },
   "source": [
    "$$\n",
    "\\frac{1}{2}mv^2(x)+\\frac{1}{2}k(x-L_0)^2=\\frac{1}{2}mv_0^2+\\frac{1}{2}k(x_0-L_0)^2.\n",
    "$$"
   ]
  },
  {
   "cell_type": "markdown",
   "id": "18f84bf1",
   "metadata": {
    "editable": true
   },
   "source": [
    "What does this mean? The total energy, which is the sum of potential and kinetic energy, is conserved.\n",
    "Wow, this sounds interesting. We will analyze this next week in more detail when we study energy, momentum and angular momentum conservation."
   ]
  },
  {
   "cell_type": "markdown",
   "id": "b1c0e0bd",
   "metadata": {
    "editable": true
   },
   "source": [
    "## Numerical Integration\n",
    "\n",
    "This material is optional. We will not cover this in the lectures and we will not use it in exercises or exams.\n",
    "It is included here for the same of completeness.\n",
    "\n",
    "Let us now see how we could have solved the above integral numerically.\n",
    "\n",
    "There are several numerical algorithms for finding an integral\n",
    "numerically. The more familiar ones like the rectangular rule or the\n",
    "trapezoidal rule have simple geometric interpretations.\n",
    "\n",
    "Let us look at the mathematical details of what are called equal-step methods, also known as Newton-Cotes quadrature."
   ]
  },
  {
   "cell_type": "markdown",
   "id": "0f6f8d31",
   "metadata": {
    "editable": true
   },
   "source": [
    "## Newton-Cotes Quadrature or equal-step methods\n",
    "The integral"
   ]
  },
  {
   "cell_type": "markdown",
   "id": "cd7d07ef",
   "metadata": {
    "editable": true
   },
   "source": [
    "<!-- Equation labels as ordinary links -->\n",
    "<div id=\"eq:integraldef\"></div>\n",
    "\n",
    "$$\n",
    "\\begin{equation}\n",
    "   I=\\int_a^bf(x) dx\n",
    "\\label{eq:integraldef} \\tag{20}\n",
    "\\end{equation}\n",
    "$$"
   ]
  },
  {
   "cell_type": "markdown",
   "id": "9decf78b",
   "metadata": {
    "editable": true
   },
   "source": [
    "has a very simple meaning. The integral is the\n",
    "area enscribed by the function $f(x)$ starting from $x=a$ to  $x=b$. It is subdivided in several smaller areas whose evaluation is to  be approximated by different techniques. The areas under the curve can for example  be approximated by rectangular boxes or trapezoids."
   ]
  },
  {
   "cell_type": "markdown",
   "id": "6da8b688",
   "metadata": {
    "editable": true
   },
   "source": [
    "## Basic philosophy of equal-step methods\n",
    "In considering equal step  methods, our basic approach is that of approximating\n",
    "a function $f(x)$ with a polynomial of at most \n",
    "degree $N-1$, given $N$ integration points. If our polynomial is of degree $1$,\n",
    "the function will be approximated with $f(x)\\approx a_0+a_1x$."
   ]
  },
  {
   "cell_type": "markdown",
   "id": "e1536332",
   "metadata": {
    "editable": true
   },
   "source": [
    "## Simple algorithm for equal step methods\n",
    "The algorithm for these integration methods  is rather simple, and the number of approximations perhaps  unlimited!\n",
    "\n",
    "* Choose a step size $h=(b-a)/N$  where $N$ is the number of steps and $a$ and $b$ the lower and upper limits of integration.\n",
    "\n",
    "* With a given step length we rewrite the integral as"
   ]
  },
  {
   "cell_type": "markdown",
   "id": "4eeb36f6",
   "metadata": {
    "editable": true
   },
   "source": [
    "$$\n",
    "\\int_a^bf(x) dx= \\int_a^{a+h}f(x)dx + \\int_{a+h}^{a+2h}f(x)dx+\\dots \\int_{b-h}^{b}f(x)dx.\n",
    "$$"
   ]
  },
  {
   "cell_type": "markdown",
   "id": "340044b5",
   "metadata": {
    "editable": true
   },
   "source": [
    "* The strategy then is to find a reliable polynomial approximation   for $f(x)$ in the various intervals.  Choosing a given approximation for  $f(x)$, we obtain a specific approximation to the  integral.\n",
    "\n",
    "* With this approximation to $f(x)$ we perform the integration by computing the integrals over all subintervals."
   ]
  },
  {
   "cell_type": "markdown",
   "id": "55519530",
   "metadata": {
    "editable": true
   },
   "source": [
    "## Simple algorithm for equal step methods\n",
    "\n",
    "One possible strategy then is to find a reliable polynomial expansion for $f(x)$ in the smaller\n",
    "subintervals. Consider for example evaluating"
   ]
  },
  {
   "cell_type": "markdown",
   "id": "e4609889",
   "metadata": {
    "editable": true
   },
   "source": [
    "$$\n",
    "\\int_a^{a+2h}f(x)dx,\n",
    "$$"
   ]
  },
  {
   "cell_type": "markdown",
   "id": "8792b2ef",
   "metadata": {
    "editable": true
   },
   "source": [
    "which we rewrite as"
   ]
  },
  {
   "cell_type": "markdown",
   "id": "dbfdc27a",
   "metadata": {
    "editable": true
   },
   "source": [
    "<!-- Equation labels as ordinary links -->\n",
    "<div id=\"eq:hhint\"></div>\n",
    "\n",
    "$$\n",
    "\\begin{equation}\n",
    "\\int_a^{a+2h}f(x)dx=\\int_{x_0-h}^{x_0+h}f(x)dx.\n",
    "\\label{eq:hhint} \\tag{21}\n",
    "\\end{equation}\n",
    "$$"
   ]
  },
  {
   "cell_type": "markdown",
   "id": "acea5ed1",
   "metadata": {
    "editable": true
   },
   "source": [
    "We have chosen a midpoint $x_0$ and have defined $x_0=a+h$."
   ]
  },
  {
   "cell_type": "markdown",
   "id": "120ff4d3",
   "metadata": {
    "editable": true
   },
   "source": [
    "## The rectangle method\n",
    "\n",
    "A very simple approach is the so-called midpoint or rectangle method.\n",
    "In this case the integration area is split in a given number of rectangles with length $h$ and height given by the mid-point value of the function.  This gives the following simple rule for approximating an integral"
   ]
  },
  {
   "cell_type": "markdown",
   "id": "199339c0",
   "metadata": {
    "editable": true
   },
   "source": [
    "<!-- Equation labels as ordinary links -->\n",
    "<div id=\"eq:rectangle\"></div>\n",
    "\n",
    "$$\n",
    "\\begin{equation}\n",
    "I=\\int_a^bf(x) dx \\approx  h\\sum_{i=1}^N f(x_{i-1/2}), \n",
    "\\label{eq:rectangle} \\tag{22}\n",
    "\\end{equation}\n",
    "$$"
   ]
  },
  {
   "cell_type": "markdown",
   "id": "83f961da",
   "metadata": {
    "editable": true
   },
   "source": [
    "where $f(x_{i-1/2})$ is the midpoint value of $f$ for a given rectangle. We will discuss its truncation \n",
    "error below.  It is easy to implement this algorithm,  as shown below"
   ]
  },
  {
   "cell_type": "markdown",
   "id": "3574fada",
   "metadata": {
    "editable": true
   },
   "source": [
    "## Truncation error for the rectangular rule\n",
    "\n",
    "The correct mathematical expression for the local error for the rectangular rule $R_i(h)$ for element $i$ is"
   ]
  },
  {
   "cell_type": "markdown",
   "id": "523035a5",
   "metadata": {
    "editable": true
   },
   "source": [
    "$$\n",
    "\\int_{-h}^hf(x)dx - R_i(h)=-\\frac{h^3}{24}f^{(2)}(\\xi),\n",
    "$$"
   ]
  },
  {
   "cell_type": "markdown",
   "id": "dbc23cab",
   "metadata": {
    "editable": true
   },
   "source": [
    "and the global error reads"
   ]
  },
  {
   "cell_type": "markdown",
   "id": "83524d4a",
   "metadata": {
    "editable": true
   },
   "source": [
    "$$\n",
    "\\int_a^bf(x)dx -R_h(f)=-\\frac{b-a}{24}h^2f^{(2)}(\\xi),\n",
    "$$"
   ]
  },
  {
   "cell_type": "markdown",
   "id": "b5deb28a",
   "metadata": {
    "editable": true
   },
   "source": [
    "where $R_h$ is the result obtained with rectangular rule and $\\xi \\in [a,b]$."
   ]
  },
  {
   "cell_type": "markdown",
   "id": "82e21c2d",
   "metadata": {
    "editable": true
   },
   "source": [
    "## Codes for the Rectangular rule\n",
    "\n",
    "We go back to our simple example above and set $F_0=b=1$ and choose $x_0=0$ and $x=1/2$, and have"
   ]
  },
  {
   "cell_type": "markdown",
   "id": "36ef7c3c",
   "metadata": {
    "editable": true
   },
   "source": [
    "$$\n",
    "W=\\frac{1}{\\pi}.\n",
    "$$"
   ]
  },
  {
   "cell_type": "markdown",
   "id": "4282251f",
   "metadata": {
    "editable": true
   },
   "source": [
    "The code here computes the integral using the rectangle rule and $n=100$ integration points we have a relative error of\n",
    "$10^{-5}$."
   ]
  },
  {
   "cell_type": "code",
   "execution_count": 2,
   "id": "9a544ae0",
   "metadata": {
    "collapsed": false,
    "editable": true
   },
   "outputs": [],
   "source": [
    "from math import sin, pi\n",
    "import numpy as np\n",
    "from sympy import Symbol, integrate\n",
    "# function for the Rectangular rule                                                                                        \n",
    "def Rectangular(a,b,f,n):\n",
    "   h = (b-a)/float(n)\n",
    "   s = 0\n",
    "   for i in range(0,n,1):\n",
    "       x = (i+0.5)*h\n",
    "       s = s+ f(x)\n",
    "   return h*s\n",
    "# function to integrate\n",
    "def function(x):\n",
    "    return sin(2*pi*x)\n",
    "# define integration limits and integration points                                                                         \n",
    "a = 0.0; b = 0.5;\n",
    "n = 100\n",
    "Exact = 1./pi\n",
    "print(\"Relative error= \", abs( (Rectangular(a,b,function,n)-Exact)/Exact))"
   ]
  },
  {
   "cell_type": "markdown",
   "id": "92d2e58a",
   "metadata": {
    "editable": true
   },
   "source": [
    "## The trapezoidal rule\n",
    "\n",
    "The other integral gives"
   ]
  },
  {
   "cell_type": "markdown",
   "id": "12a7ca27",
   "metadata": {
    "editable": true
   },
   "source": [
    "$$\n",
    "\\int_{x_0-h}^{x_0}f(x)dx=\\frac{h}{2}\\left(f(x_0) + f(x_0-h)\\right)+O(h^3),\n",
    "$$"
   ]
  },
  {
   "cell_type": "markdown",
   "id": "0cdc1326",
   "metadata": {
    "editable": true
   },
   "source": [
    "and adding up we obtain"
   ]
  },
  {
   "cell_type": "markdown",
   "id": "74bf51ef",
   "metadata": {
    "editable": true
   },
   "source": [
    "<!-- Equation labels as ordinary links -->\n",
    "<div id=\"eq:trapez\"></div>\n",
    "\n",
    "$$\n",
    "\\begin{equation}\n",
    "   \\int_{x_0-h}^{x_0+h}f(x)dx=\\frac{h}{2}\\left(f(x_0+h) + 2f(x_0) + f(x_0-h)\\right)+O(h^3),\n",
    "\\label{eq:trapez} \\tag{23}\n",
    "\\end{equation}\n",
    "$$"
   ]
  },
  {
   "cell_type": "markdown",
   "id": "004b2f3d",
   "metadata": {
    "editable": true
   },
   "source": [
    "which is the well-known trapezoidal rule.  Concerning the error in the approximation made,\n",
    "$O(h^3)=O((b-a)^3/N^3)$, you should  note \n",
    "that this is the local error.  Since we are splitting the integral from\n",
    "$a$ to $b$ in $N$ pieces, we will have to perform approximately $N$ \n",
    "such operations.\n",
    "\n",
    "This means that the *global error* goes like $\\approx O(h^2)$. \n",
    "The trapezoidal reads then"
   ]
  },
  {
   "cell_type": "markdown",
   "id": "38192f47",
   "metadata": {
    "editable": true
   },
   "source": [
    "<!-- Equation labels as ordinary links -->\n",
    "<div id=\"eq:trapez1\"></div>\n",
    "\n",
    "$$\n",
    "\\begin{equation}\n",
    "   I=\\int_a^bf(x) dx=h\\left(f(a)/2 + f(a+h) +f(a+2h)+\n",
    "                          \\dots +f(b-h)+ f_{b}/2\\right),\n",
    "\\label{eq:trapez1} \\tag{24}\n",
    "\\end{equation}\n",
    "$$"
   ]
  },
  {
   "cell_type": "markdown",
   "id": "8897a721",
   "metadata": {
    "editable": true
   },
   "source": [
    "with a global error which goes like $O(h^2)$. \n",
    "\n",
    "Hereafter we use the shorthand notations $f_{-h}=f(x_0-h)$, $f_{0}=f(x_0)$\n",
    "and $f_{h}=f(x_0+h)$."
   ]
  },
  {
   "cell_type": "markdown",
   "id": "cec455d1",
   "metadata": {
    "editable": true
   },
   "source": [
    "## Error in the trapezoidal rule\n",
    "\n",
    "The correct mathematical expression for the local error for the trapezoidal rule is"
   ]
  },
  {
   "cell_type": "markdown",
   "id": "06db0d5c",
   "metadata": {
    "editable": true
   },
   "source": [
    "$$\n",
    "\\int_a^bf(x)dx -\\frac{b-a}{2}\\left[f(a)+f(b)\\right]=-\\frac{h^3}{12}f^{(2)}(\\xi),\n",
    "$$"
   ]
  },
  {
   "cell_type": "markdown",
   "id": "5144ec11",
   "metadata": {
    "editable": true
   },
   "source": [
    "and the global error reads"
   ]
  },
  {
   "cell_type": "markdown",
   "id": "8e1ef056",
   "metadata": {
    "editable": true
   },
   "source": [
    "$$\n",
    "\\int_a^bf(x)dx -T_h(f)=-\\frac{b-a}{12}h^2f^{(2)}(\\xi),\n",
    "$$"
   ]
  },
  {
   "cell_type": "markdown",
   "id": "469b8860",
   "metadata": {
    "editable": true
   },
   "source": [
    "where $T_h$ is the trapezoidal result and $\\xi \\in [a,b]$."
   ]
  },
  {
   "cell_type": "markdown",
   "id": "d7296e78",
   "metadata": {
    "editable": true
   },
   "source": [
    "## Algorithm for the trapezoidal rule\n",
    "The trapezoidal rule is easy to  implement numerically \n",
    "through the following simple algorithm\n",
    "\n",
    "  * Choose the number of mesh points and fix the step length.\n",
    "\n",
    "  * calculate $f(a)$ and $f(b)$ and multiply with $h/2$.\n",
    "\n",
    "  * Perform a loop over $n=1$ to $n-1$ ($f(a)$ and $f(b)$ are known) and sum up  the terms $f(a+h) +f(a+2h)+f(a+3h)+\\dots +f(b-h)$. Each step in the loop  corresponds to a given value $a+nh$.\n",
    "\n",
    "  * Multiply the final result by $h$ and add $hf(a)/2$ and $hf(b)/2$."
   ]
  },
  {
   "cell_type": "markdown",
   "id": "b4f5c174",
   "metadata": {
    "editable": true
   },
   "source": [
    "## Trapezoidal Rule\n",
    "\n",
    "We use the same function and integrate now using the trapoezoidal rule."
   ]
  },
  {
   "cell_type": "code",
   "execution_count": 3,
   "id": "f066aaff",
   "metadata": {
    "collapsed": false,
    "editable": true
   },
   "outputs": [],
   "source": [
    "import numpy as np\n",
    "from sympy import Symbol, integrate\n",
    "# function for the trapezoidal rule\n",
    "def Trapez(a,b,f,n):\n",
    "   h = (b-a)/float(n)\n",
    "   s = 0\n",
    "   x = a\n",
    "   for i in range(1,n,1):\n",
    "       x = x+h\n",
    "       s = s+ f(x)\n",
    "   s = 0.5*(f(a)+f(b)) +s\n",
    "   return h*s\n",
    "# function to integrate\n",
    "def function(x):\n",
    "    return sin(2*pi*x)\n",
    "# define integration limits and integration points                                                                         \n",
    "a = 0.0; b = 0.5;\n",
    "n = 100\n",
    "Exact = 1./pi\n",
    "print(\"Relative error= \", abs( (Trapez(a,b,function,n)-Exact)/Exact))"
   ]
  },
  {
   "cell_type": "markdown",
   "id": "c70dd6e6",
   "metadata": {
    "editable": true
   },
   "source": [
    "## Simpsons' rule\n",
    "\n",
    "Instead of using the above first-order polynomials \n",
    "approximations for $f$, we attempt at using a second-order polynomials.\n",
    "In this case we need three points in order to define a second-order \n",
    "polynomial approximation"
   ]
  },
  {
   "cell_type": "markdown",
   "id": "e299025d",
   "metadata": {
    "editable": true
   },
   "source": [
    "$$\n",
    "f(x) \\approx P_2(x)=a_0+a_1x+a_2x^2.\n",
    "$$"
   ]
  },
  {
   "cell_type": "markdown",
   "id": "477e0063",
   "metadata": {
    "editable": true
   },
   "source": [
    "Using again Lagrange's interpolation formula we have"
   ]
  },
  {
   "cell_type": "markdown",
   "id": "7ff3d30e",
   "metadata": {
    "editable": true
   },
   "source": [
    "$$\n",
    "P_2(x)=\\frac{(x-x_0)(x-x_1)}{(x_2-x_0)(x_2-x_1)}y_2+\n",
    "            \\frac{(x-x_0)(x-x_2)}{(x_1-x_0)(x_1-x_2)}y_1+\n",
    "            \\frac{(x-x_1)(x-x_2)}{(x_0-x_1)(x_0-x_2)}y_0.\n",
    "$$"
   ]
  },
  {
   "cell_type": "markdown",
   "id": "74e0a54b",
   "metadata": {
    "editable": true
   },
   "source": [
    "Inserting this formula in the integral of Eq.  ([21](#eq:hhint)) we obtain"
   ]
  },
  {
   "cell_type": "markdown",
   "id": "f57f0751",
   "metadata": {
    "editable": true
   },
   "source": [
    "$$\n",
    "\\int_{-h}^{+h}f(x)dx=\\frac{h}{3}\\left(f_h + 4f_0 + f_{-h}\\right)+O(h^5),\n",
    "$$"
   ]
  },
  {
   "cell_type": "markdown",
   "id": "da1a638b",
   "metadata": {
    "editable": true
   },
   "source": [
    "which is Simpson's rule."
   ]
  },
  {
   "cell_type": "markdown",
   "id": "310eb26a",
   "metadata": {
    "editable": true
   },
   "source": [
    "## Simpson's rule\n",
    "Note that the improved accuracy in the evaluation of\n",
    "the derivatives gives a better error approximation, $O(h^5)$ vs.\\ $O(h^3)$ .\n",
    "But this is again the *local error approximation*. \n",
    "Using Simpson's rule we can easily compute\n",
    "the integral     of Eq.  ([20](#eq:integraldef)) to be"
   ]
  },
  {
   "cell_type": "markdown",
   "id": "eaf1b712",
   "metadata": {
    "editable": true
   },
   "source": [
    "<!-- Equation labels as ordinary links -->\n",
    "<div id=\"eq:simpson\"></div>\n",
    "\n",
    "$$\n",
    "\\begin{equation}\n",
    "   I=\\int_a^bf(x) dx=\\frac{h}{3}\\left(f(a) + 4f(a+h) +2f(a+2h)+\n",
    "                          \\dots +4f(b-h)+ f_{b}\\right),\n",
    "\\label{eq:simpson} \\tag{25}\n",
    "\\end{equation}\n",
    "$$"
   ]
  },
  {
   "cell_type": "markdown",
   "id": "60753695",
   "metadata": {
    "editable": true
   },
   "source": [
    "with a global error which goes like $O(h^4)$."
   ]
  },
  {
   "cell_type": "markdown",
   "id": "0a34b1b3",
   "metadata": {
    "editable": true
   },
   "source": [
    "## Mathematical expressions for the truncation error\n",
    "More formal expressions for the local and global errors are for the local error"
   ]
  },
  {
   "cell_type": "markdown",
   "id": "ebbf022a",
   "metadata": {
    "editable": true
   },
   "source": [
    "$$\n",
    "\\int_a^bf(x)dx -\\frac{b-a}{6}\\left[f(a)+4f((a+b)/2)+f(b)\\right]=-\\frac{h^5}{90}f^{(4)}(\\xi),\n",
    "$$"
   ]
  },
  {
   "cell_type": "markdown",
   "id": "08c285ee",
   "metadata": {
    "editable": true
   },
   "source": [
    "and for the global error"
   ]
  },
  {
   "cell_type": "markdown",
   "id": "89194e7e",
   "metadata": {
    "editable": true
   },
   "source": [
    "$$\n",
    "\\int_a^bf(x)dx -S_h(f)=-\\frac{b-a}{180}h^4f^{(4)}(\\xi).\n",
    "$$"
   ]
  },
  {
   "cell_type": "markdown",
   "id": "93b84af9",
   "metadata": {
    "editable": true
   },
   "source": [
    "with $\\xi\\in[a,b]$ and $S_h$ the results obtained with Simpson's method."
   ]
  },
  {
   "cell_type": "markdown",
   "id": "5fda2bdc",
   "metadata": {
    "editable": true
   },
   "source": [
    "## Algorithm for Simpson's rule\n",
    "The method \n",
    "can easily be implemented numerically through the following simple algorithm\n",
    "\n",
    "  * Choose the number of mesh points and fix the step.\n",
    "\n",
    "  * calculate $f(a)$ and $f(b)$\n",
    "\n",
    "  * Perform a loop over $n=1$ to $n-1$ ($f(a)$ and $f(b)$ are known) and sum up   the terms $4f(a+h) +2f(a+2h)+4f(a+3h)+\\dots +4f(b-h)$. Each step in the loop  corresponds to a given value $a+nh$. Odd values of $n$ give $4$ as factor  while even values yield $2$ as factor.\n",
    "\n",
    "  * Multiply the final result by $\\frac{h}{3}$."
   ]
  },
  {
   "cell_type": "markdown",
   "id": "ff792f88",
   "metadata": {
    "editable": true
   },
   "source": [
    "## Code example"
   ]
  },
  {
   "cell_type": "code",
   "execution_count": 4,
   "id": "b88d6445",
   "metadata": {
    "collapsed": false,
    "editable": true
   },
   "outputs": [],
   "source": [
    "from math import sin, pi\n",
    "import numpy as np\n",
    "from sympy import Symbol, integrate\n",
    "# function for the trapezoidal rule                                                                                        \n",
    "def Simpson(a,b,f,n):\n",
    "   h = (b-a)/float(n)\n",
    "   sum = f(a)/float(2);\n",
    "   for i in range(1,n):\n",
    "       sum = sum + f(a+i*h)*(3+(-1)**(i+1))\n",
    "   sum = sum + f(b)/float(2)\n",
    "   return sum*h/3.0\n",
    "# function to integrate                                                                                                    \n",
    "def function(x):\n",
    "    return sin(2*pi*x)\n",
    "# define integration limits and integration points                                                                         \n",
    "a = 0.0; b = 0.5;\n",
    "n = 100\n",
    "Exact = 1./pi\n",
    "print(\"Relative error= \", abs( (Simpson(a,b,function,n)-Exact)/Exact))"
   ]
  },
  {
   "cell_type": "markdown",
   "id": "66a24112",
   "metadata": {
    "editable": true
   },
   "source": [
    "We see that Simpson's rule gives a much better estimation of the relative error with the same amount of points as we had for the Rectangle rule and the Trapezoidal rule."
   ]
  },
  {
   "cell_type": "markdown",
   "id": "2de358b9",
   "metadata": {
    "editable": true
   },
   "source": [
    "## Symbolic integration\n",
    "\n",
    "We could also use the symbolic mathematics. Here Python comes to our rescue with [SymPy](https://www.sympy.org/en/index.html), which is a Python library for symbolic mathematics.\n",
    "\n",
    "Here's an example on how you could use **Sympy** where we compare the symbolic calculation with an\n",
    "integration of a function $f(x)$ by the Trapezoidal rule.\n",
    "Here we show an\n",
    "example code that evaluates  the integral\n",
    "$\\int_0^1 dx x^2 = 1/3$.\n",
    "The following code for  the trapezoidal rule allows you  to plot the relative error by comparing with the exact result. By increasing to $10^8$ points one arrives at a region where numerical errors start to accumulate."
   ]
  },
  {
   "cell_type": "code",
   "execution_count": 5,
   "id": "cf33e58e",
   "metadata": {
    "collapsed": false,
    "editable": true
   },
   "outputs": [],
   "source": [
    "from math import log10\n",
    "import numpy as np\n",
    "from sympy import Symbol, integrate\n",
    "import matplotlib.pyplot as plt\n",
    "# function for the trapezoidal rule\n",
    "def Trapez(a,b,f,n):\n",
    "   h = (b-a)/float(n)\n",
    "   s = 0\n",
    "   x = a\n",
    "   for i in range(1,n,1):\n",
    "       x = x+h\n",
    "       s = s+ f(x)\n",
    "   s = 0.5*(f(a)+f(b)) +s\n",
    "   return h*s\n",
    "#  function to compute pi\n",
    "def function(x):\n",
    "    return x*x\n",
    "# define integration limits\n",
    "a = 0.0;  b = 1.0;\n",
    "# find result from sympy\n",
    "# define x as a symbol to be used by sympy\n",
    "x = Symbol('x')\n",
    "exact = integrate(function(x), (x, a, b))\n",
    "# set up the arrays for plotting the relative error\n",
    "n = np.zeros(9); y = np.zeros(9);\n",
    "# find the relative error as function of integration points\n",
    "for i in range(1, 8, 1):\n",
    "    npts = 10**i\n",
    "    result = Trapez(a,b,function,npts)\n",
    "    RelativeError = abs((exact-result)/exact)\n",
    "    n[i] = log10(npts); y[i] = log10(RelativeError);\n",
    "plt.plot(n,y, 'ro')\n",
    "plt.xlabel('n')\n",
    "plt.ylabel('Relative error')\n",
    "plt.show()"
   ]
  }
 ],
 "metadata": {},
 "nbformat": 4,
 "nbformat_minor": 5
}
