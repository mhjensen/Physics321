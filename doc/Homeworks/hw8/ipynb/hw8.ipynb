{
 "cells": [
  {
   "cell_type": "markdown",
   "metadata": {},
   "source": [
    "<!-- dom:TITLE: PHY321: Classical Mechanics 1 -->\n",
    "# PHY321: Classical Mechanics 1\n",
    "<!-- dom:AUTHOR: Homework 8, due Monday  March 29 -->\n",
    "<!-- Author: -->  \n",
    "**Homework 8, due Monday  March 29**\n",
    "\n",
    "Date: **Mar 26, 2021**\n",
    "\n",
    "### Practicalities about  homeworks and projects\n",
    "\n",
    "1. You can work in groups (optimal groups are often 2-3 people) or by yourself. If you work as a group you can hand in one answer only if you wish. **Remember to write your name(s)**!\n",
    "\n",
    "2. Homeworks are available  the week before the deadline. \n",
    "\n",
    "3. How do I(we)  hand in?  Due to the corona virus and many of you not being on campus, we recommend that you scan your handwritten notes and upload them to D2L. If you are ok with typing mathematical formulae using say Latex, you can hand in everything as a single jupyter notebook at D2L. The numerical exercise(s) should always be handed in as a jupyter notebook by the deadline at D2L. \n",
    "\n",
    "### Introduction to homework 8\n",
    "\n",
    "This week's sets of classical pen and paper and computational\n",
    "exercises are tailored to the topic of two-body problems and central\n",
    "forces. It follows what was discussed during the lectures during week\n",
    "12 (March 15-19) and week 12 (March 22-26).\n",
    "\n",
    "The relevant reading background is\n",
    "1. Sections 8.1-8.7 of Taylor.\n",
    "\n",
    "2. Lecture notes on two-body problems, central forces and gravity.\n",
    "\n",
    "### Exercise 1 (10pt), Equations of motion and more\n",
    "\n",
    "The equations of motion in the center-of-mass frame in two dimensions with $x=r\\cos{(\\phi)}$ and $y=r\\sin{(\\phi)}$ and\n",
    "$r\\in [0,\\infty)$, $\\phi\\in [0,2\\pi]$ and $r=\\sqrt{x^2+y^2}$ are given by"
   ]
  },
  {
   "cell_type": "markdown",
   "metadata": {},
   "source": [
    "$$\n",
    "\\mu \\ddot{r}=-\\frac{dV(r)}{dr}+\\mu r\\dot{\\phi}^2,\n",
    "$$"
   ]
  },
  {
   "cell_type": "markdown",
   "metadata": {},
   "source": [
    "and"
   ]
  },
  {
   "cell_type": "markdown",
   "metadata": {},
   "source": [
    "$$\n",
    "\\dot{\\phi}=\\frac{L}{\\mu r^2}.\n",
    "$$"
   ]
  },
  {
   "cell_type": "markdown",
   "metadata": {},
   "source": [
    "Here $V(r)$ is any central force which depends only on the relative coordinate.\n",
    "* 1a (5pt) Show that you can rewrite the radial equation in terms of an effective potential $V_{\\mathrm{eff}}(r)=V(r)+L^2/(2\\mu r^2)$. \n",
    "\n",
    "* 1b (5pt) Write out the final differential equation for the radial degrees of freedom when we specify that $V(r)=-\\alpha/r$.  Plot the effective potential. You can choose values for $\\alpha$ and $L$ and discuss (see Taylor section 8.4 and example 8.2) the physics of the system for two energies, one larger than zero and one smaller than zero. This is similar to what you did in the first midterm, except that the potential is different.\n",
    "\n",
    "### Exercise 2 (40pt), Harmonic oscillator again\n",
    "\n",
    "See the lecture notes on central forces for a discussion of this problem. It is given as an example in the text.\n",
    "\n",
    "Consider a particle of mass $m$ in a $2$-dimensional harmonic oscillator with potential"
   ]
  },
  {
   "cell_type": "markdown",
   "metadata": {},
   "source": [
    "$$\n",
    "V(r)=\\frac{1}{2}kr^2=\\frac{1}{2}k(x^2+y^2).\n",
    "$$"
   ]
  },
  {
   "cell_type": "markdown",
   "metadata": {},
   "source": [
    "We assume the orbit has a final non-zero angular momentum $L$.  The\n",
    "effective potential looks like that of a harmonic oscillator for large\n",
    "$r$, but for small $r$, the centrifugal potential repels the particle\n",
    "from the origin. The combination of the two potentials has a minimum\n",
    "for at some radius $r_{\\rm min}$.\n",
    "\n",
    "\n",
    "* 2a (10pt) Set up the effective potential and plot it. Find $r_{\\rm min}$ and $\\dot{\\phi}$. Show that the latter is given by $\\dot{\\phi}=\\sqrt{k/m}$.  At $r_{\\rm min}$ the particle does not accelerate and $r$ stays constant and the motion is circular. With fixed $k$ and $m$, which parameter can we adjust to change the value of $r$ at $r_{\\rm min}$?\n",
    "\n",
    "* 2b (10pt) Now consider small vibrations about $r_{\\rm min}$. The effective spring constant is the curvature of the effective potential.  Use the curvature at $r_{\\rm min}$ to find the effective spring constant (hint, look at  exercise 4 in homework 6) $k_{\\mathrm{eff}}$. Show also that $\\omega=\\sqrt{k_{\\mathrm{eff}}/m}=2\\dot{\\phi}$  \n",
    "\n",
    "* 2c (10pt) The solution to the equations of motion in Cartesian coordinates is simple. The $x$ and $y$ equations of motion separate, and we have $\\ddot{x}=-kx/m$ and $\\ddot{y}=-ky/m$. The harmonic oscillator is indeed a system where the degrees of freedom separate and we can find analytical solutions. Define a natural frequency $\\omega_0=\\sqrt{k/m}$ and show that (where $A$, $B$, $C$ and $D$ are arbitrary constants defined by the initial conditions)"
   ]
  },
  {
   "cell_type": "markdown",
   "metadata": {},
   "source": [
    "$$\n",
    "\\begin{eqnarray*}\n",
    "x&=&A\\cos\\omega_0 t+B\\sin\\omega_0 t,\\\\\n",
    "y&=&C\\cos\\omega_0 t+D\\sin\\omega_0 t.\n",
    "\\end{eqnarray*}\n",
    "$$"
   ]
  },
  {
   "cell_type": "markdown",
   "metadata": {},
   "source": [
    "* 2d (10pt) With the solutions for $x$ and $y$, and $r^2=x^2+y^2$ and the definitions $\\alpha=\\frac{A^2+B^2+C^2+D^2}{2}$, $\\beta=\\frac{A^2-B^2+C^2-D^2}{2}$ and $\\gamma=AB+CD$, show that"
   ]
  },
  {
   "cell_type": "markdown",
   "metadata": {},
   "source": [
    "$$\n",
    "r^2=\\alpha+(\\beta^2+\\gamma^2)^{1/2}\\cos(2\\omega_0 t-\\delta),\n",
    "$$"
   ]
  },
  {
   "cell_type": "markdown",
   "metadata": {},
   "source": [
    "with"
   ]
  },
  {
   "cell_type": "markdown",
   "metadata": {},
   "source": [
    "$$\n",
    "\\delta=\\arctan(\\gamma/\\beta),\n",
    "$$"
   ]
  },
  {
   "cell_type": "markdown",
   "metadata": {},
   "source": [
    "### Exercise 3 (40pt), Numerical Solution of the Harmonic Oscillator\n",
    "\n",
    "Using the code we developed in homeworks 5 and/or 6 for the Earth-Sun system, we can solve the above harmonic oscillator problem in two dimensions using our code from this homework. We need however to change the acceleration from the gravitational force to the one given by the harmonic oscillator potential.\n",
    "\n",
    "The code is given here for the Velocity-Verlet algorithm, with obvious elements to fill in."
   ]
  },
  {
   "cell_type": "code",
   "execution_count": null,
   "metadata": {
    "collapsed": false,
    "editable": true
   },
   "outputs": [],
   "source": [
    "%matplotlib inline\n",
    "\n",
    "# Common imports\n",
    "import numpy as np\n",
    "import pandas as pd\n",
    "from math import *\n",
    "import matplotlib.pyplot as plt\n",
    "import os\n",
    "\n",
    "# Where to save the figures and data files\n",
    "PROJECT_ROOT_DIR = \"Results\"\n",
    "FIGURE_ID = \"Results/FigureFiles\"\n",
    "DATA_ID = \"DataFiles/\"\n",
    "\n",
    "if not os.path.exists(PROJECT_ROOT_DIR):\n",
    "    os.mkdir(PROJECT_ROOT_DIR)\n",
    "\n",
    "if not os.path.exists(FIGURE_ID):\n",
    "    os.makedirs(FIGURE_ID)\n",
    "\n",
    "if not os.path.exists(DATA_ID):\n",
    "    os.makedirs(DATA_ID)\n",
    "\n",
    "def image_path(fig_id):\n",
    "    return os.path.join(FIGURE_ID, fig_id)\n",
    "\n",
    "def data_path(dat_id):\n",
    "    return os.path.join(DATA_ID, dat_id)\n",
    "\n",
    "def save_fig(fig_id):\n",
    "    plt.savefig(image_path(fig_id) + \".png\", format='png')\n",
    "\n",
    "DeltaT = 0.01\n",
    "#set up arrays \n",
    "tfinal = 10.0\n",
    "n = ceil(tfinal/DeltaT)\n",
    "# set up arrays for t, a, v, and x\n",
    "t = np.zeros(n)\n",
    "v = np.zeros((n,2))\n",
    "r = np.zeros((n,2))\n",
    "# Initial conditions as compact 2-dimensional arrays\n",
    "r0 = np.array([1.0,0.5])  # You need to  change these to fit rmin\n",
    "v0 = np.array([0.0,0.0]) # You need to change these to fit rmin\n",
    "r[0] = r0\n",
    "v[0] = v0\n",
    "k = 1.0   # spring constant\n",
    "m = 1.0   # mass, you can change these\n",
    "omega02 = k/m\n",
    "# Start integrating using the Velocity-Verlet  method\n",
    "for i in range(n-1):\n",
    "    # Set up forces, define acceleration first\n",
    "    a =  -r[i]*omega02  # you may need to change this\n",
    "    # update velocity, time and position using the Velocity-Verlet method\n",
    "    r[i+1] = r[i] + DeltaT*v[i]+0.5*(DeltaT**2)*a\n",
    "    # new accelerationfor the Verlet method\n",
    "    anew = -r[i+1]*omega02  \n",
    "    v[i+1] = v[i] + 0.5*DeltaT*(a+anew)\n",
    "    t[i+1] = t[i] + DeltaT\n",
    "# Plot position as function of time    \n",
    "fig, ax = plt.subplots()\n",
    "ax.set_xlabel('t[s]')\n",
    "ax.set_ylabel('x[m] and y[m]')\n",
    "ax.plot(t,r[:,0])\n",
    "ax.plot(t,r[:,1])\n",
    "fig.tight_layout()\n",
    "save_fig(\"2DimHOVV\")\n",
    "plt.show()"
   ]
  },
  {
   "cell_type": "markdown",
   "metadata": {},
   "source": [
    "* 3a (20pt) Use for example the above code to set up the acceleration and use the initial conditions fixed by for example $r_{\\rm min}$ from exercise 2. Which value should the initial velocity take if you place yourself at $r_{\\rm min}$ and you require a circular motion? Hint: see the first midterm, part 2. There you used the centripetal acceleration.  \n",
    "\n",
    "Instead of solving the equations in the cartesian frame we will now rewrite the above code in terms of the radial degrees of freedom only. Our differential equation is now"
   ]
  },
  {
   "cell_type": "markdown",
   "metadata": {},
   "source": [
    "$$\n",
    "\\mu \\ddot{r}=-\\frac{dV(r)}{dr}+\\mu\\dot{\\phi}^2,\n",
    "$$"
   ]
  },
  {
   "cell_type": "markdown",
   "metadata": {},
   "source": [
    "and"
   ]
  },
  {
   "cell_type": "markdown",
   "metadata": {},
   "source": [
    "$$\n",
    "\\dot{\\phi}=\\frac{L}{\\mu r^2}.\n",
    "$$"
   ]
  },
  {
   "cell_type": "markdown",
   "metadata": {},
   "source": [
    "* 3b (20pt) We will use $r_{\\rm min}$ to fix a value of $L$, as seen in exercise 2. This fixes also $\\dot{\\phi}$. Write a code which now implements the radial equation for $r$ using the same $r_{\\rm min}$ as you did in 3a. Compare the results with those from 3a with the same initial conditions. Do they agree? Use only one set of initial conditions.\n",
    "\n",
    "### Exercise 4, equations for an ellipse (10pt)\n",
    "\n",
    "Consider an ellipse defined by the sum of the distances from the two foci being $2D$, which expressed in a Cartesian coordinates with the middle of the ellipse being at the origin becomes"
   ]
  },
  {
   "cell_type": "markdown",
   "metadata": {},
   "source": [
    "$$\n",
    "\\sqrt{(x-a)^2+y^2}+\\sqrt{(x+a)^2+y^2}=2D.\n",
    "$$"
   ]
  },
  {
   "cell_type": "markdown",
   "metadata": {},
   "source": [
    "Here the two foci are at $(a,0)$ and $(-a,0)$. Show that this form is can be written as"
   ]
  },
  {
   "cell_type": "markdown",
   "metadata": {},
   "source": [
    "$$\n",
    "\\frac{x^2}{D^2}+\\frac{y^2}{D^2-a^2}=1.\n",
    "$$"
   ]
  },
  {
   "cell_type": "markdown",
   "metadata": {},
   "source": [
    "### Bonus exercise from lectures Friday March 19 and Monday March 22\n",
    "\n",
    "This bonus exercise gives you an additional score of **20pt**.\n",
    "\n",
    "Make a class called Solvers which contains the following:\n",
    "1. An initializer\n",
    "\n",
    "2. A method that implements Euler's method in 2D\n",
    "\n",
    "3. A method that implements Euler-Cromer's method in 2D\n",
    "\n",
    "4. A method that implements Velocity-Verlet in 2D\n",
    "\n",
    "5. A method that plots position versus time results from the solver\n",
    "\n",
    "oAt least three class level variables\n",
    "\n",
    "The class may also contain any other methods or class level variables that you think are needed.\n",
    "\n",
    "Make then a function (outside of the class Solver) that solves the Earth-Sun problem using the Solvers class (Exercise 6 from Homework 5).\n",
    "\n",
    "\n",
    "\n",
    "### Classical Mechanics Extra Credit Assignment: Scientific Writing and attending Talks\n",
    "\n",
    "The following gives you an opportunity to earn **five extra credit\n",
    "points** on each of the remaining homeworks and **ten extra credit points**\n",
    "on the midterms and finals.  This assignment also covers an aspect of\n",
    "the scientific process that is not taught in most undergraduate\n",
    "programs: scientific writing.  Writing scientific reports is how\n",
    "scientist communicate their results to the rest of the field.  Knowing\n",
    "how to assemble a well written scientific report will greatly benefit\n",
    "you in you upper level classes, in graduate school, and in the work\n",
    "place.\n",
    "\n",
    "The full information on extra credits is found at <https://github.com/mhjensen/Physics321/blob/master/doc/Homeworks/ExtraCredits/>. There you will also find examples on how to write a scientific article. \n",
    "Below you can also find a description on how to gain extra credits by attending scientific talks.\n",
    "\n",
    "\n",
    "This assignment allows you to gain extra credit points by practicing\n",
    "your scientific writing.  For each of the remaining homeworks you can\n",
    "submit the specified section of a scientific report (written about the\n",
    "numerical aspect of the homework) for five extra credit points on the\n",
    "assignment.  For the two midterms and the final, submitting a full\n",
    "scientific report covering the numerical analysis problem will be\n",
    "worth ten extra points.  For credit the grader must be able to tell\n",
    "that you put effort into the assignment (i.e. well written, well\n",
    "formatted, etc.).  If you are unfamiliar with writing scientific\n",
    "reports, [see the information here](https://github.com/mhjensen/Physics321/blob/master/doc/Homeworks/ExtraCredits/IntroductionScientificWriting.md)\n",
    "\n",
    "The following table explains what aspect of a scientific report is due\n",
    "with which homework.  You can submit the assignment in any format you\n",
    "like, in the same document as your homework, or in a different one.\n",
    "Remember to cite any external references you use and include a\n",
    "reference list.  There are no length requirements, but make sure what\n",
    "you turn in is complete and through.  If you have any questions,\n",
    "please contact Julie Butler at butler@frib.msu.edu.\n",
    "\n",
    "<table border=\"1\">\n",
    "<thead>\n",
    "<tr><th align=\"center\">  HW/Project </th> <th align=\"center\">Due Date</th> <th align=\"center\">Extra Credit Assignment</th> </tr>\n",
    "</thead>\n",
    "<tbody>\n",
    "<tr><td align=\"center\">   HW 3             </td> <td align=\"center\">   2-8         </td> <td align=\"center\">   Abstract                   </td> </tr>\n",
    "<tr><td align=\"center\">   HW 4             </td> <td align=\"center\">   2-15        </td> <td align=\"center\">   Introduction               </td> </tr>\n",
    "<tr><td align=\"center\">   HW 5             </td> <td align=\"center\">   2-22        </td> <td align=\"center\">   Methods                    </td> </tr>\n",
    "<tr><td align=\"center\">   HW 6             </td> <td align=\"center\">   3-1         </td> <td align=\"center\">   Results and Discussion     </td> </tr>\n",
    "<tr><td align=\"center\">   **Midterm 1**    </td> <td align=\"center\">   **3-12**    </td> <td align=\"center\">   *Full Written Report*      </td> </tr>\n",
    "<tr><td align=\"center\">   HW 7             </td> <td align=\"center\">   3-22        </td> <td align=\"center\">   Abstract                   </td> </tr>\n",
    "<tr><td align=\"center\">   HW 8             </td> <td align=\"center\">   3-29        </td> <td align=\"center\">   Introduction               </td> </tr>\n",
    "<tr><td align=\"center\">   HW 9             </td> <td align=\"center\">   4-5         </td> <td align=\"center\">   Results and Discussion     </td> </tr>\n",
    "<tr><td align=\"center\">   **Midterm 2**    </td> <td align=\"center\">   **4-16**    </td> <td align=\"center\">   *Full Written Report*      </td> </tr>\n",
    "<tr><td align=\"center\">   HW 10            </td> <td align=\"center\">   4-26        </td> <td align=\"center\">   Abstract                   </td> </tr>\n",
    "<tr><td align=\"center\">   **Final**        </td> <td align=\"center\">   **4-30**    </td> <td align=\"center\">   *Full Written Report*      </td> </tr>\n",
    "</tbody>\n",
    "</table>\n",
    "\n",
    "You can also gain extra credits if you attend scientific talks.\n",
    "This is described here.\n",
    "\n",
    "\n",
    "### Integrating Classwork With Research\n",
    "\n",
    "This opportunity will allow you to earn up to 5 extra credit points on a Homework per week. These points can push you above 100% or help make up for missed exercises.\n",
    "In order to earn all points you must:\n",
    "\n",
    "1. Attend an MSU research talk (recommended research oriented Clubs is  provided below)\n",
    "\n",
    "2. Summarize the talk using at least 150 words\n",
    "\n",
    "3. Turn in the summary along with your Homework.\n",
    "\n",
    "Approved talks:\n",
    "Talks given by researchers through the following clubs:\n",
    "* Research and Idea Sharing Enterprise (RAISE)​: Meets Wednesday Nights Society for Physics Students (SPS)​: Meets Monday Nights\n",
    "\n",
    "* Astronomy Club​: Meets Monday Nights\n",
    "\n",
    "* Facility For Rare Isotope Beam (FRIB) Seminars: ​Occur multiple times a week\n",
    "\n",
    "If you have any questions please consult Jeremy Rebenstock, rebensto@msu.edu.\n",
    "\n",
    "All the material on extra credits is at <https://github.com/mhjensen/Physics321/blob/master/doc/Homeworks/ExtraCredits/>."
   ]
  }
 ],
 "metadata": {},
 "nbformat": 4,
 "nbformat_minor": 4
}
