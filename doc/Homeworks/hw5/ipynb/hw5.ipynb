{
 "cells": [
  {
   "cell_type": "markdown",
   "id": "61477505",
   "metadata": {
    "editable": true
   },
   "source": [
    "<!-- HTML file automatically generated from DocOnce source (https://github.com/doconce/doconce/)\n",
    "doconce format html hw5.do.txt --no_mako -->\n",
    "<!-- dom:TITLE: PHY321: Classical Mechanics 1 -->"
   ]
  },
  {
   "cell_type": "markdown",
   "id": "97e96985",
   "metadata": {
    "editable": true
   },
   "source": [
    "# PHY321: Classical Mechanics 1\n",
    "**Homework 5, due Friday   February 17**\n",
    "\n",
    "Date: **Feb 4, 2023**"
   ]
  },
  {
   "cell_type": "markdown",
   "id": "c9f69fcd",
   "metadata": {
    "editable": true
   },
   "source": [
    "### Practicalities about  homeworks and projects\n",
    "\n",
    "1. You can work in groups (optimal groups are often 2-3 people) or by yourself. If you work as a group you can hand in one answer only if you wish. **Remember to write your name(s)**!\n",
    "\n",
    "2. Homeworks are available ten days before the deadline.\n",
    "\n",
    "3. How do I(we)  hand in?  You can hand in the paper and pencil exercises as a scanned document. For this homework this applies to exercises 1-5. Alternatively, you can hand in everyhting (if you are ok with typing mathematical formulae using say Latex) as a jupyter notebook at D2L. The numerical exercise(s) (exercise 6 here) should always be handed in as a jupyter notebook by the deadline at D2L."
   ]
  },
  {
   "cell_type": "markdown",
   "id": "ea42da4b",
   "metadata": {
    "editable": true
   },
   "source": [
    "### Introduction to homework 5\n",
    "\n",
    "This week's sets of classical pen and paper and computational\n",
    "exercises are a continuation of the topics from the previous homework\n",
    "set and lectures from the last two weeks. We keep dealing with simple\n",
    "motion problems and conservation laws; energy, momentum and angular\n",
    "momentum. These conservation laws are central in Physics and\n",
    "understanding them properly lays the foundation for understanding and\n",
    "analyzing more complicated physics problems.\n",
    "\n",
    "The relevant reading background is\n",
    "1. chapters 3 and 4 of Taylor (there are many good examples there) and\n",
    "\n",
    "2. chapters 10-14 of Malthe-Sørenssen.\n",
    "\n",
    "3. For the numerical exercise, see Malthe-Sørenssen section 7.5\n",
    "\n",
    "In both textbooks there are many nice worked out examples. Malthe-Sørenssen's text contains also several coding examples you may find useful. \n",
    "\n",
    "The numerical homework focuses on another motion problem where you can\n",
    "use the code you developed in homework sets 3 and 4, almost entirely. Please take\n",
    "a look at the posted solutions (jupyter-notebook) for homework sets 3 and 4. You\n",
    "need only to change the forces at play, the one code to rule all exercises. The problem at hand is a\n",
    "classic, the gravitational force acting between the Sun and the\n",
    "Earth. Here you will notice also that the standard Euler-integration\n",
    "algorithm is not the best choice and we will introduce the so-called\n",
    "Euler-Cromer method and the Velocity-Verlet method. These methods will\n",
    "give much more stable numerical results with only few additions to\n",
    "your code.\n",
    "\n",
    "The code you develop here will also be reused when we analyze energy\n",
    "conservation in homework set 6. And for those of you doing the honors\n",
    "project, it serves as a starting point for the solar system variant."
   ]
  },
  {
   "cell_type": "markdown",
   "id": "5e1a2f73",
   "metadata": {
    "editable": true
   },
   "source": [
    "### Exercise 1 (15 pt), Work-energy theorem and conservation laws\n",
    "\n",
    "This exercise was partly discussed during the lectures of the weeks of January 30-February 3 and February 6-10.\n",
    "\n",
    "We will study a classical electron which moves in the $x$-direction along a surface. The force from the surface is"
   ]
  },
  {
   "cell_type": "markdown",
   "id": "f4ced89a",
   "metadata": {
    "editable": true
   },
   "source": [
    "$$\n",
    "\\boldsymbol{F}(x)=-F_0\\sin{(\\frac{2\\pi x}{b})}\\boldsymbol{e}_x.\n",
    "$$"
   ]
  },
  {
   "cell_type": "markdown",
   "id": "825166b2",
   "metadata": {
    "editable": true
   },
   "source": [
    "The constant $b$ represents the distance between atoms at the surface of the material, $F_0$ is a constant and $x$ is the position of the electron.\n",
    "\n",
    "* 1a (2pt) Is this a conservative force? And if so, what does that imply?\n",
    "\n",
    "* 1b (4pt) Use the work-energy theorem to find the velocity $v(x)$. \n",
    "\n",
    "* 1c (4pt) With the above expression for the force, find the potential energy.\n",
    "\n",
    "* 1d (5pt) Make a plot of the potential energy and discuss the equilibrium points where the force on the electron is zero. Discuss the physical interpretation of stable and unstable equilibrium points. Use energy conservation. Recommended read here  is Malthe-Sørenssen chapter 11.3.2."
   ]
  },
  {
   "cell_type": "markdown",
   "id": "d6547879",
   "metadata": {
    "editable": true
   },
   "source": [
    "### Exsercise 2 (15pt), Rocket, Momentum and mass\n",
    "\n",
    "Taylor exercise 3.11.   This exercise is meant to illustrate momentum conservation or not. \n",
    "This exercise was partly discussed during the lectures, see the notes from the week of February 6-10  on [Energy and Momentum etc, see the part on Momentum conservation](https://mhjensen.github.io/Physics321/doc/pub/week6/html/week6.html). Taylor's chapter 3.2 covers also this example."
   ]
  },
  {
   "cell_type": "markdown",
   "id": "62cace6b",
   "metadata": {
    "editable": true
   },
   "source": [
    "### Exercise 3 (10pt), More Rockets\n",
    "\n",
    "Taylor exercises 3.13 (5pt) and 3.14 (5pt). This is a continuation of\n",
    "the previous exercise and most of the relevant background material can\n",
    "be found in Taylor chapter 3.2."
   ]
  },
  {
   "cell_type": "markdown",
   "id": "e8d1b959",
   "metadata": {
    "editable": true
   },
   "source": [
    "### Exercise 4 (10pt), Center of mass\n",
    "\n",
    "Taylor exercise 3.20. Here Taylor's chapter 3.3 can be of use. This\n",
    "relation will turn out to be very useful when we discuss systems of\n",
    "many classical particles."
   ]
  },
  {
   "cell_type": "markdown",
   "id": "be7f851f",
   "metadata": {
    "editable": true
   },
   "source": [
    "### Exercise 5 (10pt), Warming up for the Earth-Sun system, Scaling the Equations\n",
    "\n",
    "The aim of this exercise (as well as the next) is to study the motion\n",
    "of objects under the influence of the gravitational force.  We will\n",
    "limit ourselves to the Earth-Sun system. Here we will scale the\n",
    "equations and sketch our first algorithm for solving the equations,\n",
    "namely using Euler's method again, as we did in homework sets 3 and 4.  This part\n",
    "together with the numerical part forms also the entry point for the\n",
    "solar system honors project. Furthermore, we will reuse parts of these\n",
    "results when analyzing energy conservation in homework 6.\n",
    "\n",
    "We will limit ourselves (in order to test the algorithm) to a\n",
    "hypothetical solar system with the Earth only orbiting around the sun.\n",
    "The only force in the problem is gravity. Newton's law of gravitation\n",
    "is given by a force $F_G$"
   ]
  },
  {
   "cell_type": "markdown",
   "id": "7aa17b76",
   "metadata": {
    "editable": true
   },
   "source": [
    "$$\n",
    "F_G=\\frac{GM_{\\odot}M_{\\mathrm{Earth}}}{r^2},\n",
    "$$"
   ]
  },
  {
   "cell_type": "markdown",
   "id": "d1f1ee0a",
   "metadata": {
    "editable": true
   },
   "source": [
    "where $M_{\\odot}$ is the mass of the Sun and $M_{\\mathrm{Earth}}$ is\n",
    "the mass of the Earth. The gravitational constant is $G$ and $r$ is\n",
    "the distance between the Earth and the Sun.  The Sun\n",
    "has a mass which is much larger than that of the Earth. We can\n",
    "therefore safely neglect the motion of the Sun in this problem.\n",
    "\n",
    "We assume that the orbit of the Earth around the Sun \n",
    "is co-planar, and we take this to be the $xy$-plane.\n",
    "Using Newton's second law of motion we get the following equations"
   ]
  },
  {
   "cell_type": "markdown",
   "id": "14d32ec2",
   "metadata": {
    "editable": true
   },
   "source": [
    "$$\n",
    "\\frac{d^2x}{dt^2}=\\frac{F_{G,x}}{M_{\\mathrm{Earth}}},\n",
    "$$"
   ]
  },
  {
   "cell_type": "markdown",
   "id": "5bd48ea5",
   "metadata": {
    "editable": true
   },
   "source": [
    "and"
   ]
  },
  {
   "cell_type": "markdown",
   "id": "fece490e",
   "metadata": {
    "editable": true
   },
   "source": [
    "$$\n",
    "\\frac{d^2y}{dt^2}=\\frac{F_{G,y}}{M_{\\mathrm{Earth}}},\n",
    "$$"
   ]
  },
  {
   "cell_type": "markdown",
   "id": "d82c4058",
   "metadata": {
    "editable": true
   },
   "source": [
    "where $F_{G,x}$ and $F_{G,y}$ are the $x$ and $y$ components of the\n",
    "gravitational force.\n",
    "\n",
    "We will use so-called astronomical units when rewriting our equations.\n",
    "Using astronomical units (AU as abbreviation)it means that one\n",
    "astronomical unit of length, known as 1 AU, is the average distance\n",
    "between the Sun and Earth, that is $1$ AU = $1.5\\times 10^{11}$ m.  It\n",
    "can also be convenient to use years instead of seconds since years\n",
    "match better the time evolution of the solar system. The mass of the\n",
    "Sun is $M_{\\mathrm{sun}}=M_{\\odot}=2\\times 10^{30}$ kg. The mass of\n",
    "Earth is $M_{\\mathrm{Earth}}=6\\times 10^{24}$ kg with a distance 1AU.\n",
    "\n",
    "In setting up the equations we limit ourselves to a co-planar\n",
    "motion and use only the $x$ and $y$ coordinates. But you should feel\n",
    "free to extend your equations to three dimensions, it is not very\n",
    "difficult and the data from NASA are all in three dimensions.\n",
    "\n",
    "[NASA](http://www.nasa.gov/index.html) has an excellent site at <http://ssd.jpl.nasa.gov/horizons.cgi#top>.\n",
    "From there you can extract initial conditions in order to start your differential equation solver.\n",
    "At the above website you need to change from **OBSERVER** to **VECTOR** and then write in the planet you are interested in.\n",
    "The generated data contain the $x$, $y$ and $z$ values as well as their corresponding velocities. The velocities are in units of AU per day.\n",
    "Alternatively they can be obtained in terms of km and km/s. \n",
    "\n",
    "For the system below involving only the Earth and the Sun, you\n",
    "could just initialize the position with say $x=1$ AU and $y=0$ AU.\n",
    "\n",
    "We assume that mass units can be obtained by using the fact that\n",
    "Earth's orbit is almost circular around the Sun.\n",
    "\n",
    "For circular motion we know that the force must obey the following relation"
   ]
  },
  {
   "cell_type": "markdown",
   "id": "eb89489b",
   "metadata": {
    "editable": true
   },
   "source": [
    "$$\n",
    "F_G= \\frac{M_{\\mathrm{Earth}}v^2}{r}=\\frac{GM_{\\odot}M_{\\mathrm{Earth}}}{r^2},\n",
    "$$"
   ]
  },
  {
   "cell_type": "markdown",
   "id": "a90239de",
   "metadata": {
    "editable": true
   },
   "source": [
    "where $v$ is the velocity of Earth. \n",
    "The latter equation can be used to show that"
   ]
  },
  {
   "cell_type": "markdown",
   "id": "5a8d8db4",
   "metadata": {
    "editable": true
   },
   "source": [
    "$$\n",
    "v^2r=GM_{\\odot}=4\\pi^2\\mathrm{AU}^3/\\mathrm{yr}^2.\n",
    "$$"
   ]
  },
  {
   "cell_type": "markdown",
   "id": "79372d57",
   "metadata": {
    "editable": true
   },
   "source": [
    "* 5a (5pt) Show how to derive the last equation and use this to scale the differential equations, getting thus rid of the constant $G$ and the two masses. Split the differential equations for the motion in the $x$ and $y$ directions in terms of four coupled differential equations.\n",
    "\n",
    "* 5b (5pt)  Discretize the above differential equations and set up an algorithm for solving these equations using Euler's forward algorithm and the so-called velocity Verlet method [discussed in the lecture notes](https://mhjensen.github.io/Physics321/doc/pub/week7/html/week7.html). Here you can reuse what you did in homework sets 3 and 4."
   ]
  },
  {
   "cell_type": "markdown",
   "id": "728cd39e",
   "metadata": {
    "editable": true
   },
   "source": [
    "### Exercise 6 (40pt), Numerical elements, solving exercise 5 numerically\n",
    "\n",
    "**This exercise should be handed in as a jupyter-notebook** at D2L. Remember to write your name(s). \n",
    "\n",
    "In homework sets 3 and 4 we:\n",
    "1. studied  Euler's Method to find the position and the velocity of a falling object, including air resistance and gravity\n",
    "\n",
    "2. and added additional forces to our model and studied a bouncing ball.\n",
    "\n",
    "This week we will reuse our code from homework 4 (exercises 6)\n",
    "and replace the air resistance and force from the ground with the\n",
    "gravitational force. Then we will study the stability of the system as function of initial conditions and the time step length.\n",
    "\n",
    "We start by importing some standard packages"
   ]
  },
  {
   "cell_type": "code",
   "execution_count": 1,
   "id": "3ff95b21",
   "metadata": {
    "collapsed": false,
    "editable": true
   },
   "outputs": [],
   "source": [
    "%matplotlib inline\n",
    "\n",
    "# let's start by importing useful packages we are familiar with\n",
    "import numpy as np\n",
    "from math import *\n",
    "import matplotlib.pyplot as plt\n",
    "%matplotlib inline"
   ]
  },
  {
   "cell_type": "markdown",
   "id": "2fdb61fd",
   "metadata": {
    "editable": true
   },
   "source": [
    "* 6a (30 pt)  Write then a program which solves the above differential equations for the Earth-Sun system using Euler's  method and the velocity Verlet method.  Find out which initial value for the velocity that gives a circular orbit and test the stability of your algorithm as function of different time steps $\\Delta t$.  Make a plot of the results you obtain for the position of the Earth (plot the $x$ and $y$ values and/or if you prefer to use three dimensions the $z$-value as well) orbiting  the Sun. Discuss eventual differences between the Verlet algorithm and the Euler algorithm. \n",
    "\n",
    "* 6b (10pt) Consider then a planet which begins at a distance of 1 AU from the sun. Find out by trial and error what the initial velocity must be in order for the planet to escape from the sun.  Can you find an exact answer?  How does that match your numerical results?\n",
    "\n",
    "Here we add a code-example which may aid in the above studies using Euler's forward method."
   ]
  },
  {
   "cell_type": "code",
   "execution_count": 2,
   "id": "9db5ca57",
   "metadata": {
    "collapsed": false,
    "editable": true
   },
   "outputs": [],
   "source": [
    "DeltaT = 0.001\n",
    "#set up arrays \n",
    "tfinal = 10 # in years\n",
    "n = ceil(tfinal/DeltaT)\n",
    "# set up arrays for time t, velocity v, and position r\n",
    "t = np.zeros(n)\n",
    "v = np.zeros((n,2))\n",
    "r = np.zeros((n,2))\n",
    "# Initial conditions as compact 2-dimensional arrays\n",
    "r0 = np.array([1.0,0.0])\n",
    "v0 = np.array([0.0,2*pi])\n",
    "r[0] = r0\n",
    "v[0] = v0\n",
    "Fourpi2 = 4*pi*pi\n",
    "# Start integrating using Euler's method\n",
    "for i in range(n-1):\n",
    "    # Set up the acceleration\n",
    "    # Here you could have defined your own function for this\n",
    "    rabs = sqrt(sum(r[i]*r[i]))\n",
    "    a =  -Fourpi2*r[i]/(rabs**3)\n",
    "    # update velocity, time and position using Euler's forward method\n",
    "    v[i+1] = v[i] + DeltaT*a\n",
    "    r[i+1] = r[i] + DeltaT*v[i]\n",
    "    t[i+1] = t[i] + DeltaT"
   ]
  },
  {
   "cell_type": "markdown",
   "id": "312b25d9",
   "metadata": {
    "editable": true
   },
   "source": [
    "### Classical Mechanics Extra Credit Assignment: Scientific Writing and attending Talks\n",
    "\n",
    "The following gives you an opportunity to earn **five extra credit\n",
    "points** on each of the remaining homeworks and **ten extra credit points**\n",
    "on the midterms and finals.  This assignment also covers an aspect of\n",
    "the scientific process that is not taught in most undergraduate\n",
    "programs: scientific writing.  Writing scientific reports is how\n",
    "scientist communicate their results to the rest of the field.  Knowing\n",
    "how to assemble a well written scientific report will greatly benefit\n",
    "you in you upper level classes, in graduate school, and in the work\n",
    "place.\n",
    "\n",
    "The full information on extra credits is found at <https://github.com/mhjensen/Physics321/blob/master/doc/Homeworks/ExtraCredits/>. There you will also find examples on how to write a scientific article. \n",
    "Below you can also find a description on how to gain extra credits by attending scientific talks.\n",
    "\n",
    "This assignment allows you to gain extra credit points by practicing\n",
    "your scientific writing.  For each of the remaining homeworks you can\n",
    "submit the specified section of a scientific report (written about the\n",
    "numerical aspect of the homework) for five extra credit points on the\n",
    "assignment.  For the two midterms and the final, submitting a full\n",
    "scientific report covering the numerical analysis problem will be\n",
    "worth ten extra points.  For credit the grader must be able to tell\n",
    "that you put effort into the assignment (i.e. well written, well\n",
    "formatted, etc.).  If you are unfamiliar with writing scientific\n",
    "reports, [see the information here](https://github.com/mhjensen/Physics321/blob/master/doc/Homeworks/ExtraCredits/IntroductionScientificWriting.md)\n",
    "\n",
    "The following table explains what aspect of a scientific report is due\n",
    "with which homework.  You can submit the assignment in any format you\n",
    "like, in the same document as your homework, or in a different one.\n",
    "Remember to cite any external references you use and include a\n",
    "reference list.  There are no length requirements, but make sure what\n",
    "you turn in is complete and through.  If you have any questions,\n",
    "please contact Julie Butler at butler@frib.msu.edu.\n",
    "\n",
    "<table class=\"dotable\" border=\"1\">\n",
    "<thead>\n",
    "<tr><th align=\"center\">  HW/Project </th> <th align=\"center\"> Due Date</th> <th align=\"center\">Extra Credit Assignment</th> </tr>\n",
    "</thead>\n",
    "<tbody>\n",
    "<tr><td align=\"center\">   HW 3             </td> <td align=\"center\">   2-8          </td> <td align=\"center\">   Abstract                   </td> </tr>\n",
    "<tr><td align=\"center\">   HW 4             </td> <td align=\"center\">   2-15         </td> <td align=\"center\">   Introduction               </td> </tr>\n",
    "<tr><td align=\"center\">   HW 5             </td> <td align=\"center\">   2-22         </td> <td align=\"center\">   Methods                    </td> </tr>\n",
    "<tr><td align=\"center\">   HW 6             </td> <td align=\"center\">   3-1          </td> <td align=\"center\">   Results and Discussion     </td> </tr>\n",
    "<tr><td align=\"center\">   **Midterm 1**    </td> <td align=\"center\">   **3-12**     </td> <td align=\"center\">   *Full Written Report*      </td> </tr>\n",
    "<tr><td align=\"center\">   HW 7             </td> <td align=\"center\">   3-22         </td> <td align=\"center\">   Abstract                   </td> </tr>\n",
    "<tr><td align=\"center\">   HW 8             </td> <td align=\"center\">   3-29         </td> <td align=\"center\">   Introduction               </td> </tr>\n",
    "<tr><td align=\"center\">   HW 9             </td> <td align=\"center\">   4-5          </td> <td align=\"center\">   Results and Discussion     </td> </tr>\n",
    "<tr><td align=\"center\">   **Midterm 2      </td> <td align=\"center\">   ** _4-16_    </td> <td align=\"center\">   *Full Written Report*      </td> </tr>\n",
    "<tr><td align=\"center\">   HW 10            </td> <td align=\"center\">   4-26         </td> <td align=\"center\">   Abstract                   </td> </tr>\n",
    "<tr><td align=\"center\">   **Final**        </td> <td align=\"center\">   **4-30**     </td> <td align=\"center\">   *Full Written Report*      </td> </tr>\n",
    "</tbody>\n",
    "</table>\n",
    "\n",
    "You can also gain extra credits if you attend scientific talks.\n",
    "This is described here."
   ]
  },
  {
   "cell_type": "markdown",
   "id": "828fd56f",
   "metadata": {
    "editable": true
   },
   "source": [
    "### Integrating Classwork With Research\n",
    "\n",
    "This opportunity will allow you to earn up to 5 extra credit points on a Homework per week. These points can push you above 100% or help make up for missed exercises.\n",
    "In order to earn all points you must:\n",
    "\n",
    "1. Attend an MSU research talk (recommended research oriented Clubs is  provided below)\n",
    "\n",
    "2. Summarize the talk using at least 150 words\n",
    "\n",
    "3. Turn in the summary along with your Homework.\n",
    "\n",
    "Approved talks:\n",
    "Talks given by researchers through the following clubs:\n",
    "* Research and Idea Sharing Enterprise (RAISE)​: Meets Wednesday Nights Society for Physics Students (SPS)​: Meets Monday Nights\n",
    "\n",
    "* Astronomy Club​: Meets Monday Nights\n",
    "\n",
    "* Facility For Rare Isotope Beam (FRIB) Seminars: ​Occur multiple times a week\n",
    "\n",
    "If you have any questions please consult Jeremy Rebenstock, rebensto@msu.edu.\n",
    "\n",
    "All the material on extra credits is at <https://github.com/mhjensen/Physics321/blob/master/doc/Homeworks/ExtraCredits/>."
   ]
  }
 ],
 "metadata": {},
 "nbformat": 4,
 "nbformat_minor": 5
}
