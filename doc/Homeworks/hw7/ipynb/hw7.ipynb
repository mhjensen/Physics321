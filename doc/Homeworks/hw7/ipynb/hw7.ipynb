{
 "cells": [
  {
   "cell_type": "markdown",
   "id": "7cb712c4",
   "metadata": {
    "editable": true
   },
   "source": [
    "<!-- HTML file automatically generated from DocOnce source (https://github.com/doconce/doconce/)\n",
    "doconce format html hw7.do.txt --no_mako -->\n",
    "<!-- dom:TITLE: PHY321: Classical Mechanics 1 -->"
   ]
  },
  {
   "cell_type": "markdown",
   "id": "490b3bdc",
   "metadata": {
    "editable": true
   },
   "source": [
    "# PHY321: Classical Mechanics 1\n",
    "**Homework 7, due Monday  March 27**\n",
    "\n",
    "Date: **Mar 12, 2023**"
   ]
  },
  {
   "cell_type": "markdown",
   "id": "3a04ddd0",
   "metadata": {
    "editable": true
   },
   "source": [
    "### Practicalities about  homeworks and projects\n",
    "\n",
    "1. You can work in groups (optimal groups are often 2-3 people) or by yourself. If you work as a group you can hand in one answer only if you wish. **Remember to write your name(s)**!\n",
    "\n",
    "2. Homeworks are available  the week before the deadline. \n",
    "\n",
    "3. How do I(we)  hand in?  Due to the corona virus and many of you not being on campus, we recommend that you scan your handwritten notes and upload them to D2L. If you are ok with typing mathematical formulae using say Latex, you can hand in everything as a single jupyter notebook at D2L. The numerical exercise(s) should always be handed in as a jupyter notebook by the deadline at D2L."
   ]
  },
  {
   "cell_type": "markdown",
   "id": "a97ee431",
   "metadata": {
    "editable": true
   },
   "source": [
    "### Introduction to homework 7\n",
    "\n",
    "In this week's homework we will apply our insights about harmonic\n",
    "oscillations. The relevant material to survey is chapter 5 of Taylor.\n",
    "See also the slides from [week 11](https://mhjensen.github.io/Physics321/doc/pub/week10/html/week10.html).\n",
    "\n",
    "We have also added an exercise (exercise 2) related to our discussion of two-body problems. \n",
    "The relevant reading background for exercise 2 is given by sections 8.1-8.2 of Taylor."
   ]
  },
  {
   "cell_type": "markdown",
   "id": "0bad0dfc",
   "metadata": {
    "editable": true
   },
   "source": [
    "### Exercise 1 (80 pts), the mathematical pendulum\n",
    "\n",
    "Relevant reading here is Taylor chapter 5 and the lecture notes on oscillations from [week 11](https://mhjensen.github.io/Physics321/doc/pub/week10/html/week10.html).\n",
    "\n",
    "The angular equation of motion of the pendulum is given by\n",
    "Newton's equation and with no external force it reads"
   ]
  },
  {
   "cell_type": "markdown",
   "id": "1fd6b1de",
   "metadata": {
    "editable": true
   },
   "source": [
    "<!-- Equation labels as ordinary links -->\n",
    "<div id=\"_auto1\"></div>\n",
    "\n",
    "$$\n",
    "\\begin{equation}\n",
    "  ml\\frac{d^2\\theta}{dt^2}+mgsin(\\theta)=0,\n",
    "\\label{_auto1} \\tag{1}\n",
    "\\end{equation}\n",
    "$$"
   ]
  },
  {
   "cell_type": "markdown",
   "id": "788e1ed5",
   "metadata": {
    "editable": true
   },
   "source": [
    "with an angular velocity and acceleration given by"
   ]
  },
  {
   "cell_type": "markdown",
   "id": "62c60e86",
   "metadata": {
    "editable": true
   },
   "source": [
    "<!-- Equation labels as ordinary links -->\n",
    "<div id=\"_auto2\"></div>\n",
    "\n",
    "$$\n",
    "\\begin{equation}\n",
    "     v=l\\frac{d\\theta}{dt},\n",
    "\\label{_auto2} \\tag{2}\n",
    "\\end{equation}\n",
    "$$"
   ]
  },
  {
   "cell_type": "markdown",
   "id": "623e7cb0",
   "metadata": {
    "editable": true
   },
   "source": [
    "and"
   ]
  },
  {
   "cell_type": "markdown",
   "id": "c90456d8",
   "metadata": {
    "editable": true
   },
   "source": [
    "<!-- Equation labels as ordinary links -->\n",
    "<div id=\"_auto3\"></div>\n",
    "\n",
    "$$\n",
    "\\begin{equation}\n",
    "     a=l\\frac{d^2\\theta}{dt^2}.\n",
    "\\label{_auto3} \\tag{3}\n",
    "\\end{equation}\n",
    "$$"
   ]
  },
  {
   "cell_type": "markdown",
   "id": "8e091eca",
   "metadata": {
    "editable": true
   },
   "source": [
    "We do however expect that the motion will gradually come to an end\n",
    "due a viscous drag torque acting on the pendulum. \n",
    "In the presence of the drag, the above equation becomes"
   ]
  },
  {
   "cell_type": "markdown",
   "id": "8ccce4f0",
   "metadata": {
    "editable": true
   },
   "source": [
    "<!-- Equation labels as ordinary links -->\n",
    "<div id=\"eq:pend1\"></div>\n",
    "\n",
    "$$\n",
    "\\begin{equation}\n",
    "   ml\\frac{d^2\\theta}{dt^2}+\\nu\\frac{d\\theta}{dt}  +mgsin(\\theta)=0,\n",
    "\\label{eq:pend1} \\tag{4}\n",
    "\\end{equation}\n",
    "$$"
   ]
  },
  {
   "cell_type": "markdown",
   "id": "63e11e3c",
   "metadata": {
    "editable": true
   },
   "source": [
    "where $\\nu$ is now a positive constant parameterizing the viscosity\n",
    "of the medium in question. In order to maintain the motion against\n",
    "viscosity, it is necessary to add some external driving force. \n",
    "We choose here a periodic driving force. The last equation becomes then"
   ]
  },
  {
   "cell_type": "markdown",
   "id": "d88862e3",
   "metadata": {
    "editable": true
   },
   "source": [
    "<!-- Equation labels as ordinary links -->\n",
    "<div id=\"eq:pend2\"></div>\n",
    "\n",
    "$$\n",
    "\\begin{equation}\n",
    "   ml\\frac{d^2\\theta}{dt^2}+\\nu\\frac{d\\theta}{dt}  +mgsin(\\theta)=Asin(\\omega t),\n",
    "\\label{eq:pend2} \\tag{5}\n",
    "\\end{equation}\n",
    "$$"
   ]
  },
  {
   "cell_type": "markdown",
   "id": "be92935d",
   "metadata": {
    "editable": true
   },
   "source": [
    "with $A$ and $\\omega$ two constants representing the amplitude and \n",
    "the angular frequency respectively. The latter is called the driving frequency.\n",
    "\n",
    "* 1a (10pts)\n",
    "\n",
    "Rewrite Eqs. ([4](#eq:pend1)) and ([5](#eq:pend2)) as dimensionless\n",
    "equations in time. \n",
    "\n",
    "* 1b (40pts)\n",
    "\n",
    "Write then a code which solves Eq. ([4](#eq:pend1)) using the\n",
    "Euler-Cromer method or for example the fourth-order Runge Kutta method. Perform\n",
    "calculations for at least ten periods with $N=100$, $N=1000$ and\n",
    "$N=10000$ integration points/discretization points in time (such points are often called mesh points) and values of $\\nu = 1$, $\\nu = 5$ and $\\nu\n",
    "=10$.  Set $l=1.0$ m, $g=1$ m/s$^2$ and $m=1$ kg.  Choose as initial\n",
    "conditions $\\theta(0) = 0.2$ (radians) and $v(0) = 0$ (radians/s).\n",
    "Make plots of $\\theta$ (in radians) as function of time and phase\n",
    "space plots of $\\theta$ versus the velocity $v$.  Check the stability\n",
    "of your results as functions of time and number of discretization/mesh points.  Which\n",
    "case corresponds to damped, underdamped and overdamped oscillatory\n",
    "motion?  Comment your results.\n",
    "\n",
    "* 1c (30pts) \n",
    "\n",
    "Now we switch to Eq. ([5](#eq:pend2)) for the rest of the exercise. Add\n",
    "an external driving force and set $l=g=1$, $m=1$, $\\nu = 1/2$ and\n",
    "$\\omega = 2/3$.  Choose as initial conditions $\\theta(0) = 0.2$ and\n",
    "$v(0) = 0$ and $A=0.5$ and $A=1.2$.  Make plots of $\\theta$ (in\n",
    "radians) as function of time for at least 300 periods and phase space\n",
    "plots of $\\theta$ versus the velocity $v$. Choose an appropriate time\n",
    "step. Comment and explain the results for the different values of $A$.\n",
    "\n",
    "* 1d **optional exercise** (20pts bonus) \n",
    "\n",
    "Keep now the constants from the previous exercise fixed but\n",
    "set now $A=1.35$, $A=1.44$ and $A=1.465$. Plot $\\theta$ (in radians)\n",
    "as function of time for at least 300 periods for these values of $A$\n",
    "and comment your results.\n",
    "\n",
    "* 1e **optional exercise** (20pts bonus)\n",
    "\n",
    "We want to analyse further these results by making phase space plots\n",
    "of $\\theta$ versus the velocity $v$ using only the points where we\n",
    "have $\\omega t=2n\\pi$ where $n$ is an integer. These are normally\n",
    "called the drive periods.  This is an example of what is called a\n",
    "Poincare section and is a very useful way to plot and analyze the\n",
    "behavior of a dynamical system. Comment your results."
   ]
  },
  {
   "cell_type": "markdown",
   "id": "d5f634e3",
   "metadata": {
    "editable": true
   },
   "source": [
    "### Exercise 2 (20pt), Center-of-Mass and Relative Coordinates and Reference Frames\n",
    "\n",
    "We define the two-body center-of-mass coordinate and relative coordinate by expressing the trajectories for\n",
    "$\\boldsymbol{r}_1$ and $\\boldsymbol{r}_2$ into the center-of-mass coordinate\n",
    "$\\boldsymbol{R}_{\\rm cm}$"
   ]
  },
  {
   "cell_type": "markdown",
   "id": "708b47f5",
   "metadata": {
    "editable": true
   },
   "source": [
    "$$\n",
    "\\boldsymbol{R}_{\\rm cm}\\equiv\\frac{m_1\\boldsymbol{r}_1+m_2\\boldsymbol{r}_2}{m_1+m_2},\n",
    "$$"
   ]
  },
  {
   "cell_type": "markdown",
   "id": "0c157fdb",
   "metadata": {
    "editable": true
   },
   "source": [
    "and the relative coordinate"
   ]
  },
  {
   "cell_type": "markdown",
   "id": "41a0088c",
   "metadata": {
    "editable": true
   },
   "source": [
    "$$\n",
    "\\boldsymbol{r}\\equiv\\boldsymbol{r}_1-\\boldsymbol{r_2}.\n",
    "$$"
   ]
  },
  {
   "cell_type": "markdown",
   "id": "fcab53e5",
   "metadata": {
    "editable": true
   },
   "source": [
    "Here, we assume the two particles interact only with one another, so $\\boldsymbol{F}_{12}=-\\boldsymbol{F}_{21}$ (where $\\boldsymbol{F}_{ij}$ is the force on $i$ due to $j$.\n",
    "\n",
    "* 2a (5pt) Show that the equations of motion then become $\\ddot{\\boldsymbol{R}}_{\\rm cm}=0$ and $\\mu\\ddot{\\boldsymbol{r}}=\\boldsymbol{F}_{12}$, with the reduced mass $\\mu=m_1m_2/(m_1+m_2)$.\n",
    "\n",
    "The first expression simply states that the center of mass coordinate $\\boldsymbol{R}_{\\rm cm}$ moves at a fixed velocity. The second expression can be rewritten in terms of the reduced mass $\\mu$.\n",
    "\n",
    "* 2b (5pt) Show that the linear momenta for the center-of-mass $\\boldsymbol{P}$ motion and the relative motion $\\boldsymbol{q}$ are given by $\\boldsymbol{P}=M\\dot{\\boldsymbol{R}}_{\\rm cm}$ with $M=m_1+m_2$ and $\\boldsymbol{q}=\\mu\\dot{\\boldsymbol{r}}$.  The linear momentum of the relative motion is defined $\\boldsymbol{q} = (m_2\\boldsymbol{p}_1-m_1\\boldsymbol{p}_2)/(m_1+m_2)$.\n",
    "\n",
    "* 2c (5pt) Show then the kinetic energy for two objects can then be written as"
   ]
  },
  {
   "cell_type": "markdown",
   "id": "c5fb67ae",
   "metadata": {
    "editable": true
   },
   "source": [
    "$$\n",
    "K=\\frac{P^2}{2M}+\\frac{q^2}{2\\mu}.\n",
    "$$"
   ]
  },
  {
   "cell_type": "markdown",
   "id": "be92882f",
   "metadata": {
    "editable": true
   },
   "source": [
    "* 2d (5pt) Show that the total angular momentum for two-particles in the center-of-mass frame $\\boldsymbol{R}=0$, is given by"
   ]
  },
  {
   "cell_type": "markdown",
   "id": "f5545052",
   "metadata": {
    "editable": true
   },
   "source": [
    "$$\n",
    "\\boldsymbol{L}=\\boldsymbol{r}\\times \\mu\\dot{\\boldsymbol{r}}.\n",
    "$$"
   ]
  },
  {
   "cell_type": "markdown",
   "id": "7b3eb0ce",
   "metadata": {
    "editable": true
   },
   "source": [
    "### Classical Mechanics Extra Credit Assignment: Scientific Writing and attending Talks\n",
    "\n",
    "The following gives you an opportunity to earn **five extra credit\n",
    "points** on each of the remaining homeworks and **ten extra credit points**\n",
    "on the midterms and finals.  This assignment also covers an aspect of\n",
    "the scientific process that is not taught in most undergraduate\n",
    "programs: scientific writing.  Writing scientific reports is how\n",
    "scientist communicate their results to the rest of the field.  Knowing\n",
    "how to assemble a well written scientific report will greatly benefit\n",
    "you in you upper level classes, in graduate school, and in the work\n",
    "place.\n",
    "\n",
    "The full information on extra credits is found at <https://github.com/mhjensen/Physics321/blob/master/doc/Homeworks/ExtraCredits/>. There you will also find examples on how to write a scientific article. \n",
    "Below you can also find a description on how to gain extra credits by attending scientific talks.\n",
    "\n",
    "This assignment allows you to gain extra credit points by practicing\n",
    "your scientific writing.  For each of the remaining homeworks you can\n",
    "submit the specified section of a scientific report (written about the\n",
    "numerical aspect of the homework) for five extra credit points on the\n",
    "assignment.  For the two midterms and the final, submitting a full\n",
    "scientific report covering the numerical analysis problem will be\n",
    "worth ten extra points.  For credit the grader must be able to tell\n",
    "that you put effort into the assignment (i.e. well written, well\n",
    "formatted, etc.).  If you are unfamiliar with writing scientific\n",
    "reports, [see the information here](https://github.com/mhjensen/Physics321/blob/master/doc/Homeworks/ExtraCredits/IntroductionScientificWriting.md)\n",
    "\n",
    "The following table explains what aspect of a scientific report is due\n",
    "with which homework.  You can submit the assignment in any format you\n",
    "like, in the same document as your homework, or in a different one.\n",
    "Remember to cite any external references you use and include a\n",
    "reference list.  There are no length requirements, but make sure what\n",
    "you turn in is complete and through.  If you have any questions,\n",
    "please contact Julie Butler at butler@frib.msu.edu.\n",
    "\n",
    "<table class=\"dotable\" border=\"1\">\n",
    "<thead>\n",
    "<tr><th align=\"center\">  HW/Project </th> <th align=\"center\">Due Date</th> <th align=\"center\">Extra Credit Assignment</th> </tr>\n",
    "</thead>\n",
    "<tbody>\n",
    "<tr><td align=\"center\">   HW 3             </td> <td align=\"center\">   2-8         </td> <td align=\"center\">   Abstract                   </td> </tr>\n",
    "<tr><td align=\"center\">   HW 4             </td> <td align=\"center\">   2-15        </td> <td align=\"center\">   Introduction               </td> </tr>\n",
    "<tr><td align=\"center\">   HW 5             </td> <td align=\"center\">   2-22        </td> <td align=\"center\">   Methods                    </td> </tr>\n",
    "<tr><td align=\"center\">   HW 6             </td> <td align=\"center\">   3-1         </td> <td align=\"center\">   Results and Discussion     </td> </tr>\n",
    "<tr><td align=\"center\">   **Midterm 1**    </td> <td align=\"center\">   **3-12**    </td> <td align=\"center\">   *Full Written Report*      </td> </tr>\n",
    "<tr><td align=\"center\">   HW 7             </td> <td align=\"center\">   3-22        </td> <td align=\"center\">   Abstract                   </td> </tr>\n",
    "<tr><td align=\"center\">   HW 8             </td> <td align=\"center\">   3-29        </td> <td align=\"center\">   Introduction               </td> </tr>\n",
    "<tr><td align=\"center\">   HW 9             </td> <td align=\"center\">   4-5         </td> <td align=\"center\">   Results and Discussion     </td> </tr>\n",
    "<tr><td align=\"center\">   **Midterm 2**    </td> <td align=\"center\">   **4-16**    </td> <td align=\"center\">   *Full Written Report*      </td> </tr>\n",
    "<tr><td align=\"center\">   HW 10            </td> <td align=\"center\">   4-26        </td> <td align=\"center\">   Abstract                   </td> </tr>\n",
    "<tr><td align=\"center\">   **Final**        </td> <td align=\"center\">   **4-30**    </td> <td align=\"center\">   *Full Written Report*      </td> </tr>\n",
    "</tbody>\n",
    "</table>\n",
    "\n",
    "You can also gain extra credits if you attend scientific talks.\n",
    "This is described here."
   ]
  },
  {
   "cell_type": "markdown",
   "id": "5110fa58",
   "metadata": {
    "editable": true
   },
   "source": [
    "### Integrating Classwork With Research\n",
    "\n",
    "This opportunity will allow you to earn up to 5 extra credit points on a Homework per week. These points can push you above 100% or help make up for missed exercises.\n",
    "In order to earn all points you must:\n",
    "\n",
    "1. Attend an MSU research talk (recommended research oriented Clubs is  provided below)\n",
    "\n",
    "2. Summarize the talk using at least 150 words\n",
    "\n",
    "3. Turn in the summary along with your Homework.\n",
    "\n",
    "Approved talks:\n",
    "Talks given by researchers through the following clubs:\n",
    "* Research and Idea Sharing Enterprise (RAISE)​: Meets Wednesday Nights Society for Physics Students (SPS)​: Meets Monday Nights\n",
    "\n",
    "* Astronomy Club​: Meets Monday Nights\n",
    "\n",
    "* Facility For Rare Isotope Beam (FRIB) Seminars: ​Occur multiple times a week\n",
    "\n",
    "If you have any questions please consult Jeremy Rebenstock, rebensto@msu.edu.\n",
    "\n",
    "All the material on extra credits is at <https://github.com/mhjensen/Physics321/blob/master/doc/Homeworks/ExtraCredits/>."
   ]
  }
 ],
 "metadata": {},
 "nbformat": 4,
 "nbformat_minor": 5
}
