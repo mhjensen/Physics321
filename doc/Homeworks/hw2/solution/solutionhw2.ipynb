{
 "cells": [
  {
   "cell_type": "markdown",
   "id": "28e08af2",
   "metadata": {
    "editable": true
   },
   "source": [
    "<!-- HTML file automatically generated from DocOnce source (https://github.com/doconce/doconce/)\n",
    "doconce format html solutionhw2.do.txt  -->\n",
    "<!-- dom:TITLE: PHY321: Classical Mechanics 1 -->"
   ]
  },
  {
   "cell_type": "markdown",
   "id": "1584d388",
   "metadata": {
    "editable": true
   },
   "source": [
    "# PHY321: Classical Mechanics 1\n",
    "**Homework 2, Solution**\n",
    "\n",
    "Date: **Jan 30, 2023**"
   ]
  },
  {
   "cell_type": "markdown",
   "id": "757f20d0",
   "metadata": {
    "editable": true
   },
   "source": [
    "### Exercises 1-6 as handwritten note"
   ]
  },
  {
   "cell_type": "markdown",
   "id": "30d990f8",
   "metadata": {
    "editable": true
   },
   "source": [
    "### Exercise 6 (40pt), Numerical elements, moving to more than one dimension\n",
    "\n",
    "**This exercise should be handed in as a jupyter-notebook** at D2L. Remember to write your name(s). \n",
    "\n",
    "Last week we:\n",
    "1. Analytically mapped 1D motion over some time\n",
    "\n",
    "2. Gained practice with functions\n",
    "\n",
    "3. Reviewed vectors and matrices in Python\n",
    "\n",
    "This week we will:\n",
    "1. Practice using Python syntax and variable manipulation\n",
    "\n",
    "2. Utilize analytical solutions to create more refined functions\n",
    "\n",
    "3. Work in two, three or even higher dimensions\n",
    "\n",
    "This material will then serve as background for the numerical part of homework 3. The first part is a simple warm-up, with hints and suggestions you can use for the code to write below."
   ]
  },
  {
   "cell_type": "code",
   "execution_count": 1,
   "id": "8b1b1f40",
   "metadata": {
    "collapsed": false,
    "editable": true
   },
   "outputs": [],
   "source": [
    "%matplotlib inline\n",
    "\n",
    "# As usual, here are some useful packages we will be using. Feel free to use more and experiment as you wish.\n",
    "\n",
    "import numpy as np\n",
    "import matplotlib.pyplot as plt\n",
    "from mpl_toolkits import mplot3d\n",
    "%matplotlib inline"
   ]
  },
  {
   "cell_type": "markdown",
   "id": "6e289e39",
   "metadata": {
    "editable": true
   },
   "source": [
    "In class (the falling baseball example) we used an  analytical expression for the height of a falling ball.\n",
    "In the first homework we used instead the position from experiment (Usain Bolt's 100m record run) and stored this\n",
    "information with one-dimensional arrays in Python.\n",
    "\n",
    "Let us get some practice with this. The cell below creates two arrays,\n",
    "one containing the times to be analyzed and the other containing the $x$\n",
    "and $y$ components of the position vector at each point in time.  This is a two-dimensional object. The\n",
    "second array is initially empty. Then we define  the initial\n",
    "position to be $x=2$ and $y=1$. Take a look at the code and comments\n",
    "to get an understanding of what is happening. Feel free to play around with it."
   ]
  },
  {
   "cell_type": "code",
   "execution_count": 2,
   "id": "3c3b9fb5",
   "metadata": {
    "collapsed": false,
    "editable": true
   },
   "outputs": [],
   "source": [
    "tf = 4 #length of value to be analyzed\n",
    "dt = .001 # step sizes\n",
    "t = np.arange(0.0,tf,dt) # Creates an evenly spaced time array going from 0 to 3.999, with step sizes .001\n",
    "p = np.zeros((len(t), 2)) # Creates an empty array of [x,y] arrays (our vectors). Array size is same as the one for time.\n",
    "p[0] = [2.0,1.0] # This sets the inital position to be x = 2 and y = 1"
   ]
  },
  {
   "cell_type": "markdown",
   "id": "c65cad9d",
   "metadata": {
    "editable": true
   },
   "source": [
    "Below we are printing specific values of our array to see what is being\n",
    "stored where. The first number in the array $r[]$ represents which array\n",
    "iteration we are looking at, while the number after the  represents\n",
    "which listed number in the array iteration we are getting back."
   ]
  },
  {
   "cell_type": "code",
   "execution_count": 3,
   "id": "5c32ed2c",
   "metadata": {
    "collapsed": false,
    "editable": true
   },
   "outputs": [],
   "source": [
    "print(p[0]) # Prints the first array\n",
    "print(p[0,:]) # Same as above, these commands are interchangeable"
   ]
  },
  {
   "cell_type": "code",
   "execution_count": 4,
   "id": "dbea2f7b",
   "metadata": {
    "collapsed": false,
    "editable": true
   },
   "outputs": [],
   "source": [
    "print(p[3999]) # Prints the 4000th array"
   ]
  },
  {
   "cell_type": "code",
   "execution_count": 5,
   "id": "18158a02",
   "metadata": {
    "collapsed": false,
    "editable": true
   },
   "outputs": [],
   "source": [
    "print(p[0,0]) # Prints the first value of the first array"
   ]
  },
  {
   "cell_type": "code",
   "execution_count": 6,
   "id": "3b993950",
   "metadata": {
    "collapsed": false,
    "editable": true
   },
   "outputs": [],
   "source": [
    "print(p[0,1]) # Prints the second value of first array\n",
    "print(p[:,0]) # Prints the first value of all the arrays"
   ]
  },
  {
   "cell_type": "markdown",
   "id": "7ce388d8",
   "metadata": {
    "editable": true
   },
   "source": [
    "Then try running this cell. Notice how it gives an error since we did not implement a third dimension into our arrays"
   ]
  },
  {
   "cell_type": "code",
   "execution_count": 7,
   "id": "7dc7bcc8",
   "metadata": {
    "collapsed": false,
    "editable": true
   },
   "outputs": [],
   "source": [
    "print(p[:,2])"
   ]
  },
  {
   "cell_type": "markdown",
   "id": "6429fac5",
   "metadata": {
    "editable": true
   },
   "source": [
    "In the cell below we want to manipulate the arrays.\n",
    "In this example we make each vector's $x$ component valued the same as their respective vector's position in the iteration and the $y$ value will be twice that value, except for  the first vector, which we have already set. \n",
    "That is we have $p[0] = [2,1], p[1] = [1,2], p[2] = [2,4], p[3] = [3,6], ...$\n",
    "\n",
    "Here we set up an array for $x$ and $y$ values."
   ]
  },
  {
   "cell_type": "code",
   "execution_count": 8,
   "id": "10aaf19e",
   "metadata": {
    "collapsed": false,
    "editable": true
   },
   "outputs": [],
   "source": [
    "for i in range(1,3999):\n",
    "    p[i] = [i,2*i]\n",
    "# Checker cell to make sure your code is performing correctly\n",
    "c = 0\n",
    "for i in range(0,3999):\n",
    "    if i == 0:\n",
    "        if p[i,0] != 2.0:\n",
    "            c += 1\n",
    "        if p[i,1] != 1.0:\n",
    "            c += 1\n",
    "    else:\n",
    "        if p[i,0] != 1.0*i:\n",
    "            c += 1\n",
    "        if p[i,1] != 2.0*i:\n",
    "            c += 1\n",
    "\n",
    "if c == 0:\n",
    "    print(\"Success!\")\n",
    "else:\n",
    "    print(\"There is an error in your code\")"
   ]
  },
  {
   "cell_type": "markdown",
   "id": "9aebb2ba",
   "metadata": {
    "editable": true
   },
   "source": [
    "You could also think of an alternative way of storing the above information. Feel free to explore how to store\n",
    "multidimensional objects. \n",
    "\n",
    "Assume we have a soccer ball moving in three dimensions with the following trajectory:\n",
    "\n",
    "1. $x(t) = 10t\\cos{45^{\\circ}} $\n",
    "\n",
    "2. $y(t) = 10t\\sin{45^{\\circ}} $\n",
    "\n",
    "3. $z(t) = 10t - \\dfrac{9.81}{2}t^2$\n",
    "\n",
    "Now let us create a three-dimensional (3D) plot using these equations. In the cell below\n",
    "we write the equations into their respective labels. We fix a final time in the code below.\n",
    "\n",
    "Important Concept: Numpy comes with many mathematical packages, some\n",
    "of them being the trigonometric functions sine, cosine, tangent. We\n",
    "are going to utilize these this week. Additionally, these functions\n",
    "work with radians, so we will also be using a function from Numpy that\n",
    "converts degrees to radians."
   ]
  },
  {
   "cell_type": "markdown",
   "id": "76969b36",
   "metadata": {
    "editable": true
   },
   "source": [
    "### 6a (8pt) How would you express $x(t)$, $y(t)$, $z(t)$ for this problem as a single vector, $\\boldsymbol{r}(t)$?"
   ]
  },
  {
   "cell_type": "code",
   "execution_count": 9,
   "id": "295b6c9e",
   "metadata": {
    "collapsed": false,
    "editable": true
   },
   "outputs": [],
   "source": [
    "tf = 2.04  # The final time to be evaluated\n",
    "dt = 0.1  # The time step size\n",
    "t = np.arange(0,tf,dt) # The time array\n",
    "theta_deg = 45 # Degrees\n",
    "theta_rad = np.radians(theta_deg) # Converts degrees to their radian counterparts\n",
    "x = 10*t*np.cos(theta_rad) # Equation for our x component, utilizing np.cos() and our calculated radians\n",
    "y = 10*t*np.sin(theta_rad) # Put the y equation here\n",
    "z = 10*t-9.81/2*t**2# Put the z equation here"
   ]
  },
  {
   "cell_type": "markdown",
   "id": "253596f7",
   "metadata": {
    "editable": true
   },
   "source": [
    "Then we plot it"
   ]
  },
  {
   "cell_type": "code",
   "execution_count": 10,
   "id": "7e862b1a",
   "metadata": {
    "collapsed": false,
    "editable": true
   },
   "outputs": [],
   "source": [
    "## Once you have entered the proper equations in the cell above, run this cell to plot in 3D\n",
    "fig = plt.axes(projection='3d')\n",
    "fig.set_xlabel('x')\n",
    "fig.set_ylabel('y')\n",
    "fig.set_zlabel('z')\n",
    "fig.scatter(x,y,z)"
   ]
  },
  {
   "cell_type": "markdown",
   "id": "c0810ade",
   "metadata": {
    "editable": true
   },
   "source": [
    "In the cell below we will put the equations into a single vector $\\boldsymbol{r}$.\n",
    "\n",
    "Then run the code and plot using the array $r$"
   ]
  },
  {
   "cell_type": "code",
   "execution_count": 11,
   "id": "65630211",
   "metadata": {
    "collapsed": false,
    "editable": true
   },
   "outputs": [],
   "source": [
    "r = np.array((10*t*np.cos(theta_rad), 10*t*np.sin(theta_rad), 10*t - 9.81/2*t**2))\n",
    "## Run this code to plot using our r array \n",
    "fig = plt.axes(projection='3d')\n",
    "fig.set_xlabel('x')\n",
    "fig.set_ylabel('y')\n",
    "fig.set_zlabel('z')\n",
    "fig.scatter(r[0],r[1],r[2])"
   ]
  },
  {
   "cell_type": "code",
   "execution_count": 12,
   "id": "4874d0ff",
   "metadata": {
    "collapsed": false,
    "editable": true
   },
   "outputs": [],
   "source": [
    "import numpy as np\n",
    "import matplotlib.pyplot as plt\n",
    "from mpl_toolkits import mplot3d\n",
    "%matplotlib inline\n",
    "\n",
    "tf = 4 #length of value to be analyzed\n",
    "dt = .001 # step sizes\n",
    "t = np.arange(0.0,tf,dt) # Creates an evenly spaced time array going from 0 to 3.999, with step sizes .001\n",
    "p = np.zeros((len(t), 2)) # Creates an empty array of [x,y] arrays (our vectors). Array size is same as the one for time.\n",
    "p[0] = [2.0,1.0] # This sets the inital position to be x = 2 and y = 1\n",
    "\n",
    "for i in range(1,3999):\n",
    "    p[i] = [i,2*i]\n",
    "# Checker cell to make sure your code is performing correctly\n",
    "c = 0\n",
    "for i in range(0,3999):\n",
    "    if i == 0:\n",
    "        if p[i,0] != 2.0:\n",
    "            c += 1\n",
    "        if p[i,1] != 1.0:\n",
    "            c += 1\n",
    "    else:\n",
    "        if p[i,0] != 1.0*i:\n",
    "            c += 1\n",
    "        if p[i,1] != 2.0*i:\n",
    "            c += 1\n",
    "\n",
    "if c == 0:\n",
    "    print(\"Success!\")\n",
    "else:\n",
    "    print(\"There is an error in your code\")"
   ]
  },
  {
   "cell_type": "markdown",
   "id": "447401ab",
   "metadata": {
    "editable": true
   },
   "source": [
    "### 6b (8pt) What do you think the benefits and/or disadvantages are from expressing our three equations as a single array/vector?\n",
    "\n",
    "This can be both from a computational and physics stand point. \n",
    "Computationally, it makes it slower to access a given time slot, because two accesses are necessary instead of one. It also takes up more space, requiring four pointers to arrays instead of merely three.\n",
    "\n",
    "Physically, position is a vector, so it makes sense.  Perhaps a slightly more physics-related solution, which could also be useful computationally, is instead of having an array of x, y, and z, having an array where the t'th element s $(x[t],y[t],z[t])$.  This would be one memory lookup instead of three in order to get a position."
   ]
  },
  {
   "cell_type": "markdown",
   "id": "ebdd0c37",
   "metadata": {
    "editable": true
   },
   "source": [
    "### 6c, 6d and 6e:"
   ]
  },
  {
   "cell_type": "code",
   "execution_count": 13,
   "id": "ca42875f",
   "metadata": {
    "collapsed": false,
    "editable": true
   },
   "outputs": [],
   "source": [
    "def golfball(vi, theta):\n",
    "    theta_rad = np.radians(theta)\n",
    "    tf = vi*np.sin(theta_rad)/4.9\n",
    "    dt = 0.1\n",
    "    t = np.arange(0,tf,dt)\n",
    "    x = t*vi*np.cos(theta_rad)\n",
    "    y = 0*t\n",
    "    z = t*vi*np.sin(theta_rad)-9.81/2*t**2\n",
    "    \n",
    "    r = [x,y,z]\n",
    "    fig = plt.axes(projection='3d')\n",
    "    fig.set_xlabel('x')\n",
    "    fig.set_ylabel('y')\n",
    "    fig.set_zlabel('z')\n",
    "    fig.scatter(r[0],r[1],r[2])\n",
    "    \n",
    "    print(\"Maximum x:\", tf*vi*np.cos(theta_rad))\n",
    "    print(\"Maximum y:\", 0)\n",
    "    print(\"Maximum z:\", (tf/2.0)*vi*np.sin(theta_rad)-9.81/2*(tf/2.0)**2)\n",
    "    \n",
    "    \n",
    "print(\"6d:\")\n",
    "golfball(90, 30)\n",
    "print(\"6e:\")\n",
    "golfball(45, 45)"
   ]
  }
 ],
 "metadata": {},
 "nbformat": 4,
 "nbformat_minor": 5
}
