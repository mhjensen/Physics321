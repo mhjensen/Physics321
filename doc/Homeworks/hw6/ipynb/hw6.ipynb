{
 "cells": [
  {
   "cell_type": "markdown",
   "id": "0cce9238",
   "metadata": {
    "editable": true
   },
   "source": [
    "<!-- HTML file automatically generated from DocOnce source (https://github.com/doconce/doconce/)\n",
    "doconce format html hw6.do.txt --no_mako -->\n",
    "<!-- dom:TITLE: PHY321: Classical Mechanics 1 -->"
   ]
  },
  {
   "cell_type": "markdown",
   "id": "90d3cfec",
   "metadata": {
    "editable": true
   },
   "source": [
    "# PHY321: Classical Mechanics 1\n",
    "**Homework 6, due Friday March 17**\n",
    "\n",
    "Date: **Mar 12, 2023**"
   ]
  },
  {
   "cell_type": "markdown",
   "id": "31860d01",
   "metadata": {
    "editable": true
   },
   "source": [
    "### Practicalities about  homeworks and projects\n",
    "\n",
    "1. You can work in groups (optimal groups are often 2-3 people) or by yourself. If you work as a group you can hand in one answer only if you wish. **Remember to write your name(s)**!\n",
    "\n",
    "2. Homeworks are available ten days before the deadline.\n",
    "\n",
    "3. How do I(we)  hand in?  You can hand in the paper and pencil exercises as a scanned document. For this homework this applies to exercises 1-5. Alternatively, you can hand in everyhting (if you are ok with typing mathematical formulae using say Latex) as a jupyter notebook at D2L. The numerical exercise(s) (exercise 6 here) should always be handed in as a jupyter notebook by the deadline at D2L."
   ]
  },
  {
   "cell_type": "markdown",
   "id": "db8e0aab",
   "metadata": {
    "editable": true
   },
   "source": [
    "### Introduction to homework 6\n",
    "\n",
    "This week's sets of classical pen and paper and computational\n",
    "exercises are again a continuation of the topics from the previous homework sets and the first midterm. We keep\n",
    "discussing conservation laws, conservative forces, energy, momentum and angular momentum. These conservation laws are central in Physics and understanding them properly lays the foundation for understanding and analyzing more complicated physics problems.\n",
    "The relevant reading background is\n",
    "1. chapters 3 and 4 of Taylor (there are many good examples there) and\n",
    "\n",
    "2. chapters 10-14 of Malthe-Sørenssen.\n",
    "\n",
    "3. For exercise 4 will also need sections 5.1-5.6 of Taylor.\n",
    "\n",
    "The numerical homework is based on what you did in homework 5 and/or the first midterm.\n",
    "\n",
    "There are also two optional exercises, one is a simple survey after the midterm. We would love hearing back from you about how the course is progressing.\n",
    "The other exercise is an optional exercises on harmonic oscillations."
   ]
  },
  {
   "cell_type": "markdown",
   "id": "ae0f4a4a",
   "metadata": {
    "editable": true
   },
   "source": [
    "### Exercise 1 (40pt), Summary of what we have done till now (and getting started after spring break)\n",
    "\n",
    "Compile a summary of the material covered in this class so far that\n",
    "covers the major topics (Newton’s Laws, conservative and\n",
    "nonconservative forces, and conservation of energy, momentum, and\n",
    "angular momentum and harmonic oscillations).  This summary should not only contain a list of\n",
    "equations but should also include important concepts, numerical\n",
    "elements, and mathematical methods, and show the connections between\n",
    "different concepts.  \n",
    "Make this summary as long as you need to throughly review all of the\n",
    "covered topics."
   ]
  },
  {
   "cell_type": "markdown",
   "id": "01a0d327",
   "metadata": {
    "editable": true
   },
   "source": [
    "### Exercise 2 (10 pt), Conservative forces\n",
    "\n",
    "Which of the following force are conservative?\n",
    "* 2a (2pt) $\\boldsymbol{F}=k(x\\boldsymbol{e}_1+2y\\boldsymbol{e}_2+3z\\boldsymbol{e}_3)$ where $k$ is a consttant.\n",
    "\n",
    "* 2b (2pt) $\\boldsymbol{F}=y\\boldsymbol{e}_1+x\\boldsymbol{e}_2+0\\boldsymbol{e}_3$.\n",
    "\n",
    "* 2c (2pt) $\\boldsymbol{F}=k(-y\\boldsymbol{e}_1+x\\boldsymbol{e}_2+0\\boldsymbol{e}_3)$ where $k$ is a constant.\n",
    "\n",
    "* 2d (4pt) For those which are conservative, find the corresponding potential energy $V$ and verify that direct differentiation gives $\\boldsymbol{F}=-\\boldsymbol{\\nabla}V$."
   ]
  },
  {
   "cell_type": "markdown",
   "id": "12f25bac",
   "metadata": {
    "editable": true
   },
   "source": [
    "### Exercise 3 (10 pt), The Lennard-Jones potential\n",
    "\n",
    "[The Lennard-Jones potential](https://en.wikipedia.org/wiki/Lennard-Jones_potential) is often used to describe\n",
    "the interaction between two atoms or ions or molecules. If you end up doing materals science and molecular dynamics calculations, it is very likely that you will encounter this potential model.\n",
    "The expression for the potential energy is\n",
    "of the molecule is:"
   ]
  },
  {
   "cell_type": "markdown",
   "id": "d2c8be01",
   "metadata": {
    "editable": true
   },
   "source": [
    "$$\n",
    "V(r) = V_0\\left((\\frac{a}{r})^{12}-(\\frac{b}{r})^{6}\\right),\n",
    "$$"
   ]
  },
  {
   "cell_type": "markdown",
   "id": "85016448",
   "metadata": {
    "editable": true
   },
   "source": [
    "where $V_0$, $a$ and $b$ are constants and the potential depends only on the relative distance between two objects\n",
    "$i$ and $j$, that is $r=\\vert\\boldsymbol{r}_i-\\boldsymbol{r}_j\\vert=\\sqrt{(x_i-x_j)^2+(y_i-y_j)^2+(z_i-z_j)^2}$.\n",
    "\n",
    "* 3a (3pt) Sketch/plot the potential (choose some values for the constants in doing so).\n",
    "\n",
    "* 3b (3pt) Find and classify the equilibrium point(s).\n",
    "\n",
    "* 3c (4pt) What is the force acting on one of the objects (an atom for example) from the other object? Is this a conservative force?"
   ]
  },
  {
   "cell_type": "markdown",
   "id": "6a4c6bc7",
   "metadata": {
    "editable": true
   },
   "source": [
    "### Exercise 4 (50 pt+optional 30pts), particle/object in a harmonic oscillator  potential\n",
    "\n",
    "In the first midterm we looked at an\n",
    "object/particle moving in a potential which resulted in harmonic\n",
    "oscillations.  The aim here is to summarize in more detail the\n",
    "material from harmonic oscillations.\n",
    "\n",
    "Relevant reading here is Taylor chapter 5 and the lecture notes on oscillations. \n",
    "\n",
    "We will consider a particle of mass $m$ moving in a one-dimensional potential,"
   ]
  },
  {
   "cell_type": "markdown",
   "id": "0e8b8029",
   "metadata": {
    "editable": true
   },
   "source": [
    "$$\n",
    "V(x)=k\\frac{x^2}{2},\n",
    "$$"
   ]
  },
  {
   "cell_type": "markdown",
   "id": "75cfcd17",
   "metadata": {
    "editable": true
   },
   "source": [
    "where $k$ is a parameter.\n",
    "\n",
    "We will limit ourselves to a one-dimensional system. You will need to select values for the initial conditions and the various parameters $k$, $m$, $b$, $\\omega$ and $F_0$ discussed here.\n",
    "\n",
    "* 4a (20pt)  Assume no driving force first and add a drag force $-bv$, where $v$ is the velocity. Find the forces acting on the object. Find the analytical solutions to the equations of motion. Discuss the three cases: **underdamping**, **critical damping** and **overdamping**.\n",
    "\n",
    "* 4b (5pt) Scale your equations of motion in terms of a dimensionless time $\\tau = \\omega_0 t$, where $t$ is time and $\\omega_0^2=k/m$ is the so-called natural frequency. \n",
    "\n",
    "* 4c (25pt) You can use your codes from either the first midterm or from homework 5.  Study numerically the three cases from 4a, that is the underdamped motion, the critically damped one and finally the overdamped one. Compare your numerical results with the analytical ones from 4a. Discuss your results. You can use the Euler-Cromer method, or the Velocity-Verlet method or the Runge-Kutta methods discussed during the lectures, see for example <https://mhjensen.github.io/Physics321/doc/pub/week8/html/week8.html>. Alternatively, you could use the **odeint** solvers included functionality in Python, see <https://docs.scipy.org/doc/scipy/reference/generated/scipy.integrate.odeint.html>. Give a short argument about the numerical algorithm you ended up using.  \n",
    "\n",
    "* 4d **Optional exercise** (30pt additional score) We add now a driving force $F=F_0\\cos{(\\omega t}$. Find the particular solution and its analytical solution. Include this force in your code (remember to scale the equations) and compare your numerical results with the analytical results. Discuss your results. How does the system evolve over time with a given frequency $\\omega$ for the driving force?   Is energy conserved? If not, why?"
   ]
  },
  {
   "cell_type": "markdown",
   "id": "f4e7fafb",
   "metadata": {
    "editable": true
   },
   "source": [
    "### Additional Bonus Exercise (10pt)\n",
    "\n",
    "You don't need to do this exercise, but it gives you a bonus score of 10 points.\n",
    "\n",
    "This time the additional bonus exercise is a simple survey. We are now moving\n",
    "into our second half of the semester and we would very much have your feedback on how\n",
    "things are functioning so that we can improve and correct. \n",
    "\n",
    "* Is the weekly load with paper and pencil exercises and the numerical exercises reasonable?\n",
    "\n",
    "* Is there enough material (lectures and lecture material) to get you started with the exercises?  We are thinking of both the paper and pencil and the numerical exercises?\n",
    "\n",
    "* Is the pace during the lectures reasonable? And do the lectures link well with the exercises?\n",
    "\n",
    "* In the beginning there will always be some elements of repetition of material many of you have seen before. Do you find the choice of material the first 4 weeks adequate? Too easy? Too difficult?\n",
    "\n",
    "* For those of you who have taken CMSE 201 Introduction to Computational Modeling, do you feel the material taught there links well with the exercises you have done in this course? Is there is something we are missing?\n",
    "\n",
    "* Any other topic you would like to comment on?"
   ]
  },
  {
   "cell_type": "markdown",
   "id": "66ca33a7",
   "metadata": {
    "editable": true
   },
   "source": [
    "### Classical Mechanics Extra Credit Assignment: Scientific Writing and attending Talks\n",
    "\n",
    "The following gives you an opportunity to earn **five extra credit\n",
    "points** on each of the remaining homeworks and **ten extra credit points**\n",
    "on the midterms and finals.  This assignment also covers an aspect of\n",
    "the scientific process that is not taught in most undergraduate\n",
    "programs: scientific writing.  Writing scientific reports is how\n",
    "scientist communicate their results to the rest of the field.  Knowing\n",
    "how to assemble a well written scientific report will greatly benefit\n",
    "you in you upper level classes, in graduate school, and in the work\n",
    "place.\n",
    "\n",
    "The full information on extra credits is found at <https://github.com/mhjensen/Physics321/blob/master/doc/Homeworks/ExtraCredits/>. There you will also find examples on how to write a scientific article. \n",
    "Below you can also find a description on how to gain extra credits by attending scientific talks.\n",
    "\n",
    "This assignment allows you to gain extra credit points by practicing\n",
    "your scientific writing.  For each of the remaining homeworks you can\n",
    "submit the specified section of a scientific report (written about the\n",
    "numerical aspect of the homework) for five extra credit points on the\n",
    "assignment.  For the two midterms and the final, submitting a full\n",
    "scientific report covering the numerical analysis problem will be\n",
    "worth ten extra points.  For credit the grader must be able to tell\n",
    "that you put effort into the assignment (i.e. well written, well\n",
    "formatted, etc.).  If you are unfamiliar with writing scientific\n",
    "reports, [see the information here](https://github.com/mhjensen/Physics321/blob/master/doc/Homeworks/ExtraCredits/IntroductionScientificWriting.md)\n",
    "\n",
    "The following table explains what aspect of a scientific report is due\n",
    "with which homework.  You can submit the assignment in any format you\n",
    "like, in the same document as your homework, or in a different one.\n",
    "Remember to cite any external references you use and include a\n",
    "reference list.  There are no length requirements, but make sure what\n",
    "you turn in is complete and through.  If you have any questions,\n",
    "please contact Julie Butler at butler@frib.msu.edu.\n",
    "\n",
    "<table class=\"dotable\" border=\"1\">\n",
    "<thead>\n",
    "<tr><th align=\"center\">  HW/Project </th> <th align=\"center\"> Due Date</th> <th align=\"center\">Extra Credit Assignment</th> </tr>\n",
    "</thead>\n",
    "<tbody>\n",
    "<tr><td align=\"center\">   HW 3             </td> <td align=\"center\">   2-8          </td> <td align=\"center\">   Abstract                   </td> </tr>\n",
    "<tr><td align=\"center\">   HW 4             </td> <td align=\"center\">   2-15         </td> <td align=\"center\">   Introduction               </td> </tr>\n",
    "<tr><td align=\"center\">   HW 5             </td> <td align=\"center\">   2-22         </td> <td align=\"center\">   Methods                    </td> </tr>\n",
    "<tr><td align=\"center\">   HW 6             </td> <td align=\"center\">   3-1          </td> <td align=\"center\">   Results and Discussion     </td> </tr>\n",
    "<tr><td align=\"center\">   **Midterm 1**    </td> <td align=\"center\">   **3-12**     </td> <td align=\"center\">   *Full Written Report*      </td> </tr>\n",
    "<tr><td align=\"center\">   HW 7             </td> <td align=\"center\">   3-22         </td> <td align=\"center\">   Abstract                   </td> </tr>\n",
    "<tr><td align=\"center\">   HW 8             </td> <td align=\"center\">   3-29         </td> <td align=\"center\">   Introduction               </td> </tr>\n",
    "<tr><td align=\"center\">   HW 9             </td> <td align=\"center\">   4-5          </td> <td align=\"center\">   Results and Discussion     </td> </tr>\n",
    "<tr><td align=\"center\">   **Midterm 2      </td> <td align=\"center\">   ** _4-16_    </td> <td align=\"center\">   *Full Written Report*      </td> </tr>\n",
    "<tr><td align=\"center\">   HW 10            </td> <td align=\"center\">   4-26         </td> <td align=\"center\">   Abstract                   </td> </tr>\n",
    "<tr><td align=\"center\">   **Final**        </td> <td align=\"center\">   **4-30**     </td> <td align=\"center\">   *Full Written Report*      </td> </tr>\n",
    "</tbody>\n",
    "</table>\n",
    "\n",
    "You can also gain extra credits if you attend scientific talks.\n",
    "This is described here."
   ]
  },
  {
   "cell_type": "markdown",
   "id": "d158465e",
   "metadata": {
    "editable": true
   },
   "source": [
    "### Integrating Classwork With Research\n",
    "\n",
    "This opportunity will allow you to earn up to 5 extra credit points on a Homework per week. These points can push you above 100% or help make up for missed exercises.\n",
    "In order to earn all points you must:\n",
    "\n",
    "1. Attend an MSU research talk (recommended research oriented Clubs is  provided below)\n",
    "\n",
    "2. Summarize the talk using at least 150 words\n",
    "\n",
    "3. Turn in the summary along with your Homework.\n",
    "\n",
    "Approved talks:\n",
    "Talks given by researchers through the following clubs:\n",
    "* Research and Idea Sharing Enterprise (RAISE)​: Meets Wednesday Nights Society for Physics Students (SPS)​: Meets Monday Nights\n",
    "\n",
    "* Astronomy Club​: Meets Monday Nights\n",
    "\n",
    "* Facility For Rare Isotope Beam (FRIB) Seminars: ​Occur multiple times a week\n",
    "\n",
    "All the material on extra credits is at <https://github.com/mhjensen/Physics321/blob/master/doc/Homeworks/ExtraCredits/>."
   ]
  }
 ],
 "metadata": {},
 "nbformat": 4,
 "nbformat_minor": 5
}
