{
 "cells": [
  {
   "cell_type": "markdown",
   "id": "48b0c05c",
   "metadata": {
    "editable": true
   },
   "source": [
    "<!-- HTML file automatically generated from DocOnce source (https://github.com/doconce/doconce/)\n",
    "doconce format html solutionhw6.do.txt  -->\n",
    "<!-- dom:TITLE: PHY321: Classical Mechanics 1 -->"
   ]
  },
  {
   "cell_type": "markdown",
   "id": "3edab72c",
   "metadata": {
    "editable": true
   },
   "source": [
    "# PHY321: Classical Mechanics 1\n",
    "**Solution Homework 6, due March 1**\n",
    "\n",
    "Date: **Mar 29, 2022**"
   ]
  },
  {
   "cell_type": "markdown",
   "id": "1099d817",
   "metadata": {
    "editable": true
   },
   "source": [
    "### Exercise 1 (40pt) Summary of course\n",
    "\n",
    "This was meant as your personal summary of what we have done till now.\n",
    "One possible solution is the illustration made by Julie, also at the\n",
    "end of every chapter of Taylor's textbook, you will find excellent\n",
    "summaries of what we have covered till now."
   ]
  },
  {
   "cell_type": "markdown",
   "id": "bf83ea2a",
   "metadata": {
    "editable": true
   },
   "source": [
    "### Exercise 2 (10 pt), Conservative forces\n",
    "\n",
    "Which of the following force are conservative?  All three forces depend only on $\\boldsymbol{r}$ and satisfy the first condition for being conservative.\n",
    "* 2a (2pt) $\\boldsymbol{F}=k(x\\boldsymbol{i}+2y\\boldsymbol{j}+3z\\boldsymbol{k})$ where $k$ is a constant.\n",
    "\n",
    "The **curl** is zero and the force is conservative.  The potential energy is upon integration $V(x)=-k(1/2x^2+y^2+3/2z^2)$. Taking the derivative shows that this is indeed the case since it gives back the force.\n",
    "* 2b (2pt) $\\boldsymbol{F}=y\\boldsymbol{i}+x\\boldsymbol{j}+0\\boldsymbol{k}$. \n",
    "\n",
    "This force is also conservative since it depends only on the coordinates and its curl is zero. To find the potential energy, since the integral is path independent, we can choose to integrate along any direction. The simplest is start from $x=0$ as origin and follow a path along the $x$-axis (which gives zero) and then parallel to the $y$-axis, which results in $V(x,y) = -xy$. Taking the derivative with respect to $x$ and $y$ gives us back the expression for the force.\n",
    "\n",
    "* 2c (2pt) $\\boldsymbol{F}=k(-y\\boldsymbol{i}+x\\boldsymbol{j}+0\\boldsymbol{k})$ where $k$ is a constant.\n",
    "\n",
    "Here the **curl** is $(0,0,2)$ and the force is not conservative.\n",
    "\n",
    "* 2d (4pt) For those which are conservative, find the corresponding potential energy $V$ and verify that direct differentiation that $\\boldsymbol{F}=-\\boldsymbol{\\nabla} V$.\n",
    "\n",
    "See the answers to each exercise above."
   ]
  },
  {
   "cell_type": "markdown",
   "id": "fcc91de4",
   "metadata": {
    "editable": true
   },
   "source": [
    "### Exercise 3 (10 pt), The Lennard-Jones potential\n",
    "\n",
    "[The Lennard-Jones potential](https://en.wikipedia.org/wiki/Lennard-Jones_potential) is often used to describe\n",
    "the interaction between two atoms or ions or molecules. If you end up doing materals science and molecular dynamics calculations, it is very likely that you will encounter this potential model.\n",
    "The expression for the potential energy is"
   ]
  },
  {
   "cell_type": "markdown",
   "id": "6c3adde8",
   "metadata": {
    "editable": true
   },
   "source": [
    "$$\n",
    "V(r) = V_0\\left((\\frac{a}{r})^{12}-(\\frac{b}{r})^{6}\\right),\n",
    "$$"
   ]
  },
  {
   "cell_type": "markdown",
   "id": "9bfdd8b4",
   "metadata": {
    "editable": true
   },
   "source": [
    "where $V_0$, $a$ and $b$ are constants and the potential depends only on the relative distance between two objects\n",
    "$i$ and $j$, that is $r=\\vert\\vert\\boldsymbol{r}_i-\\boldsymbol{r}_j\\vert\\vert=\\sqrt{(x_i-x_j)^2+(y_i-y_j)^2+(z_i-z_j)^2}$.\n",
    "\n",
    "* 3a (3pt) Sketch/plot the potential (choose some values for the constants in doing so).\n",
    "\n",
    "The following Python code plots the potential"
   ]
  },
  {
   "cell_type": "code",
   "execution_count": 1,
   "id": "f4faa629",
   "metadata": {
    "collapsed": false,
    "editable": true
   },
   "outputs": [],
   "source": [
    "%matplotlib inline\n",
    "\n",
    "# Common imports\n",
    "import numpy as np\n",
    "from math import *\n",
    "import matplotlib.pyplot as plt\n",
    "\n",
    "Deltar = 0.01\n",
    "#set up arrays\n",
    "rinitial = 1.8\n",
    "rfinal = 3.\n",
    "n = ceil((rfinal-rinitial)/Deltar)\n",
    "r = np.zeros(n)\n",
    "for i in range(n):\n",
    "    r[i] = rinitial+i*Deltar\n",
    "V = np.zeros(n)\n",
    "# Initial conditions as compact 2-dimensional arrays\n",
    "a = 2.0\n",
    "b = 2.0\n",
    "V0 = 10.0\n",
    "V = V0*((a/r)**(12)-(b/r)**6)\n",
    "# Plot position as function of time    \n",
    "fig, ax = plt.subplots()\n",
    "#ax.set_xlim(0, tfinal)\n",
    "ax.set_ylabel('V')\n",
    "ax.set_xlabel('r')\n",
    "ax.plot(r, V)\n",
    "fig.tight_layout()\n",
    "plt.show()"
   ]
  },
  {
   "cell_type": "markdown",
   "id": "c5500dc3",
   "metadata": {
    "editable": true
   },
   "source": [
    "* 3b (3pt) Find and classify the equilibrium points.\n",
    "\n",
    "Here there is  only one equilibrium point when we take the derivative of the potential with respect to the relative distance.\n",
    "\n",
    "The derivative with respect to $r$, the relative distance, is"
   ]
  },
  {
   "cell_type": "markdown",
   "id": "9959f295",
   "metadata": {
    "editable": true
   },
   "source": [
    "$$\n",
    "\\frac{dV}{dr} = -6V_0\\left(2\\frac{a^{12}}{r^{13}}-\\frac{b^6}{r^7}\\right),\n",
    "$$"
   ]
  },
  {
   "cell_type": "markdown",
   "id": "51b99b0e",
   "metadata": {
    "editable": true
   },
   "source": [
    "and this is zero when"
   ]
  },
  {
   "cell_type": "markdown",
   "id": "bb582c5a",
   "metadata": {
    "editable": true
   },
   "source": [
    "$$\n",
    "r = 2^{1/6}\\frac{a^2}{b}.\n",
    "$$"
   ]
  },
  {
   "cell_type": "markdown",
   "id": "84f4e3f1",
   "metadata": {
    "editable": true
   },
   "source": [
    "If we choose $a=2$ and $b=2$ then $r=2\\times 2^{1/6}$. Since the second derivative is positive for all $r$ for our choices of $a$ and $b$  (convince yourself about  this), then this value of $r$ has to correspond to a minimum of the potential. This agrees with our graph from the figure above (run the code to produce the figure). \n",
    "\n",
    "* 3c (4pt) What is the force acting on one of the objects (an atom for example) from the other object? Is this a conservative force?\n",
    "\n",
    "From the previous exercise we have"
   ]
  },
  {
   "cell_type": "markdown",
   "id": "e571cafa",
   "metadata": {
    "editable": true
   },
   "source": [
    "$$\n",
    "\\frac{dV}{dr} = -6V_0\\left(2\\frac{a^{12}}{r^{13}}-\\frac{b^6}{r^7}\\right).\n",
    "$$"
   ]
  },
  {
   "cell_type": "markdown",
   "id": "dfe39efa",
   "metadata": {
    "editable": true
   },
   "source": [
    "We need the gradient and since the force on particle $i$ is given by $\\boldsymbol{F}_i=\\boldsymbol{\\nabla}_i V(\\boldsymbol{r}_i-\\boldsymbol{r}_j)$, we obtain"
   ]
  },
  {
   "cell_type": "markdown",
   "id": "a4eff2f3",
   "metadata": {
    "editable": true
   },
   "source": [
    "$$\n",
    "\\boldsymbol{F}_i=6V_0\\left(2(\\frac{a}{\\vert\\vert\\boldsymbol{r}_i-\\boldsymbol{r}_j\\vert\\vert})^{12}-(\\frac{b}{\\vert\\vert\\boldsymbol{r}_i-\\boldsymbol{r}_j\\vert\\vert})^6\\right)\\frac{\\boldsymbol{r}_i-\\boldsymbol{r}_j}{\\vert\\vert\\boldsymbol{r}_i-\\boldsymbol{r}_j\\vert\\vert^2}.\n",
    "$$"
   ]
  },
  {
   "cell_type": "markdown",
   "id": "6de33421",
   "metadata": {
    "editable": true
   },
   "source": [
    "Here $r = \\vert\\vert \\boldsymbol{r}_i-\\boldsymbol{r}_j\\vert \\vert$.\n",
    "If we have more than two particles, we need to sum over all other particles $j$. We have thus to introduce a sum over all particles $N$. \n",
    "The force on particle $i$ at position $\\boldsymbol{r}_i$ from all particles  $j$ at their positions $\\boldsymbol{r}_j$ results in the equation of motion (note that we have divided by the mass $m$ here)"
   ]
  },
  {
   "cell_type": "markdown",
   "id": "8d25faa0",
   "metadata": {
    "editable": true
   },
   "source": [
    "$$\n",
    "\\boldsymbol{a}_i=\\frac{d^2\\boldsymbol{r}_i}{dt^2} = \\frac{6V_0}{m} \\sum_{j \\neq i}^{N}\\left(2(\\frac{a}{\\vert\\vert\\boldsymbol{r}_i-\\boldsymbol{r}_j\\vert\\vert})^{12}-(\\frac{b}{\\vert\\vert\\boldsymbol{r}_i-\\boldsymbol{r}_j\\vert\\vert})^6\\right)\\frac{\\boldsymbol{r}_i-\\boldsymbol{r}_j}{\\vert\\vert\\boldsymbol{r}_i-\\boldsymbol{r}_j\\vert\\vert^2}.\n",
    "$$"
   ]
  },
  {
   "cell_type": "markdown",
   "id": "0716f4df",
   "metadata": {
    "editable": true
   },
   "source": [
    "This is also a conservative force, with zero **curl** as well."
   ]
  },
  {
   "cell_type": "markdown",
   "id": "ab5079ea",
   "metadata": {
    "editable": true
   },
   "source": [
    "### Exercise 4, particle/object in a harmonic oscillator  potential\n",
    "\n",
    "Relevant reading here is Taylor chapter 5 and the lecture notes on oscillations. \n",
    "\n",
    "We will consider a particle of mass $m$ moving in a one-dimensional potential,"
   ]
  },
  {
   "cell_type": "markdown",
   "id": "c8d0dab9",
   "metadata": {
    "editable": true
   },
   "source": [
    "$$\n",
    "V(x)=k\\frac{x^2}{2},\n",
    "$$"
   ]
  },
  {
   "cell_type": "markdown",
   "id": "a160fbb5",
   "metadata": {
    "editable": true
   },
   "source": [
    "where $k$ is a parameter.\n",
    "\n",
    "We will limit ourselves to a one-dimensional system. You will need to select values for the initial conditions and the various parameters $k$, $m$, $b$, $\\omega$ and $F_0$ discussed here.\n",
    "\n",
    "* 4a Assume no driving force first and add a drag force $-bv$, where $v$ is the velocity. Find the forces acting on the object. Find the analytical solutions to the equations of motion. Discuss the three cases: **underdamping**, **critical damping** and **overdamping**.\n",
    "\n",
    "The text here is taken from the lecture notes of week 9. We have made this text more extensive than needed. This is done for the sake of completeness.  We don't expect that you would provide this level of detail.\n",
    "\n",
    "We consider only the case where the damping force is proportional to\n",
    "the velocity. This is counter to dragging friction, where the force is\n",
    "proportional in strength to the normal force and independent of\n",
    "velocity, and is also inconsistent with wind resistance, where the\n",
    "magnitude of the drag force is proportional the square of the\n",
    "velocity. Rolling resistance does seem to be mainly proportional to\n",
    "the velocity. However, the main motivation for considering damping\n",
    "forces proportional to the velocity is that the math is more\n",
    "friendly. This is because the differential equation is linear,\n",
    "i.e. each term is of order $x$, $\\dot{x}$, $\\ddot{x}\\cdots$, or even\n",
    "terms with no mention of $x$, and there are no terms such as $x^2$ or\n",
    "$x\\ddot{x}$. The equations of motion for a spring with damping force\n",
    "$-b\\dot{x}$ are"
   ]
  },
  {
   "cell_type": "markdown",
   "id": "6c07377d",
   "metadata": {
    "editable": true
   },
   "source": [
    "<!-- Equation labels as ordinary links -->\n",
    "<div id=\"_auto1\"></div>\n",
    "\n",
    "$$\n",
    "\\begin{equation}\n",
    "m\\ddot{x}+b\\dot{x}+kx=0.\n",
    "\\label{_auto1} \\tag{1}\n",
    "\\end{equation}\n",
    "$$"
   ]
  },
  {
   "cell_type": "markdown",
   "id": "4f0ac23f",
   "metadata": {
    "editable": true
   },
   "source": [
    "Just to make the solution a bit less messy, we rewrite this equation as"
   ]
  },
  {
   "cell_type": "markdown",
   "id": "9e920495",
   "metadata": {
    "editable": true
   },
   "source": [
    "<!-- Equation labels as ordinary links -->\n",
    "<div id=\"eq:dampeddiffyq\"></div>\n",
    "\n",
    "$$\n",
    "\\begin{equation}\n",
    "\\label{eq:dampeddiffyq} \\tag{2}\n",
    "\\ddot{x}+2\\beta\\dot{x}+\\omega_0^2x=0,~~~~\\beta\\equiv b/2m,~\\omega_0\\equiv\\sqrt{k/m}.\n",
    "\\end{equation}\n",
    "$$"
   ]
  },
  {
   "cell_type": "markdown",
   "id": "cb942e8e",
   "metadata": {
    "editable": true
   },
   "source": [
    "Both $\\beta$ and $\\omega$ have dimensions of inverse time. To find solutions (see appendix C in the text) you must make an educated guess at the form of the solution. To do this, first realize that the solution will need an arbitrary normalization $A$ because the equation is linear. Secondly, realize that if the form is"
   ]
  },
  {
   "cell_type": "markdown",
   "id": "77fb7d7b",
   "metadata": {
    "editable": true
   },
   "source": [
    "<!-- Equation labels as ordinary links -->\n",
    "<div id=\"_auto2\"></div>\n",
    "\n",
    "$$\n",
    "\\begin{equation}\n",
    "x=Ae^{rt}\n",
    "\\label{_auto2} \\tag{3}\n",
    "\\end{equation}\n",
    "$$"
   ]
  },
  {
   "cell_type": "markdown",
   "id": "4f4b8410",
   "metadata": {
    "editable": true
   },
   "source": [
    "that each derivative simply brings out an extra power of $r$. This\n",
    "means that the $Ae^{rt}$ factors out and one can simply solve for an\n",
    "equation for $r$. Plugging this form into Eq. ([2](#eq:dampeddiffyq)),"
   ]
  },
  {
   "cell_type": "markdown",
   "id": "454da20c",
   "metadata": {
    "editable": true
   },
   "source": [
    "<!-- Equation labels as ordinary links -->\n",
    "<div id=\"_auto3\"></div>\n",
    "\n",
    "$$\n",
    "\\begin{equation}\n",
    "r^2+2\\beta r+\\omega_0^2=0.\n",
    "\\label{_auto3} \\tag{4}\n",
    "\\end{equation}\n",
    "$$"
   ]
  },
  {
   "cell_type": "markdown",
   "id": "d13f0a76",
   "metadata": {
    "editable": true
   },
   "source": [
    "Because this is a quadratic equation there will be two solutions,"
   ]
  },
  {
   "cell_type": "markdown",
   "id": "2d1b90e9",
   "metadata": {
    "editable": true
   },
   "source": [
    "<!-- Equation labels as ordinary links -->\n",
    "<div id=\"_auto4\"></div>\n",
    "\n",
    "$$\n",
    "\\begin{equation}\n",
    "r=-\\beta\\pm\\sqrt{\\beta^2-\\omega_0^2}.\n",
    "\\label{_auto4} \\tag{5}\n",
    "\\end{equation}\n",
    "$$"
   ]
  },
  {
   "cell_type": "markdown",
   "id": "64bd3d2f",
   "metadata": {
    "editable": true
   },
   "source": [
    "We refer to the two solutions as $r_1$ and $r_2$ corresponding to the\n",
    "$+$ and $-$ roots. As expected, there should be two arbitrary\n",
    "constants involved in the solution,"
   ]
  },
  {
   "cell_type": "markdown",
   "id": "ddf3993a",
   "metadata": {
    "editable": true
   },
   "source": [
    "<!-- Equation labels as ordinary links -->\n",
    "<div id=\"_auto5\"></div>\n",
    "\n",
    "$$\n",
    "\\begin{equation}\n",
    "x=A_1e^{r_1t}+A_2e^{r_2t},\n",
    "\\label{_auto5} \\tag{6}\n",
    "\\end{equation}\n",
    "$$"
   ]
  },
  {
   "cell_type": "markdown",
   "id": "9e596cba",
   "metadata": {
    "editable": true
   },
   "source": [
    "where the coefficients $A_1$ and $A_2$ are determined by initial\n",
    "conditions.\n",
    "\n",
    "The roots listed above, $\\sqrt{\\omega_0^2-\\beta_0^2}$, will be\n",
    "imaginary if the damping is small and $\\beta<\\omega_0$. In that case,\n",
    "$r$ is complex and the factor $\\exp{(rt)}$ will have some oscillatory\n",
    "behavior. If the roots are real, there will only be exponentially\n",
    "decaying solutions. There are three cases:"
   ]
  },
  {
   "cell_type": "markdown",
   "id": "1ba23f81",
   "metadata": {
    "editable": true
   },
   "source": [
    "### Underdamped: $\\beta<\\omega_0$"
   ]
  },
  {
   "cell_type": "markdown",
   "id": "3d998047",
   "metadata": {
    "editable": true
   },
   "source": [
    "$$\n",
    "\\begin{eqnarray}\n",
    "x&=&A_1e^{-\\beta t}e^{i\\omega't}+A_2e^{-\\beta t}e^{-i\\omega't},~~\\omega'\\equiv\\sqrt{\\omega_0^2-\\beta^2}\\\\\n",
    "\\nonumber\n",
    "&=&(A_1+A_2)e^{-\\beta t}\\cos\\omega't+i(A_1-A_2)e^{-\\beta t}\\sin\\omega't.\n",
    "\\end{eqnarray}\n",
    "$$"
   ]
  },
  {
   "cell_type": "markdown",
   "id": "9d35e544",
   "metadata": {
    "editable": true
   },
   "source": [
    "Here we have made use of the identity\n",
    "$e^{i\\omega't}=\\cos\\omega't+i\\sin\\omega't$. Because the constants are\n",
    "arbitrary, and because the real and imaginary parts are both solutions\n",
    "individually, we can simply consider the real part of the solution\n",
    "alone:"
   ]
  },
  {
   "cell_type": "markdown",
   "id": "bac9432f",
   "metadata": {
    "editable": true
   },
   "source": [
    "<!-- Equation labels as ordinary links -->\n",
    "<div id=\"eq:homogsolution\"></div>\n",
    "\n",
    "$$\n",
    "\\begin{eqnarray}\n",
    "\\label{eq:homogsolution} \\tag{7}\n",
    "x&=&B_1e^{-\\beta t}\\cos\\omega't+B_2e^{-\\beta t}\\sin\\omega't,\\\\\n",
    "\\nonumber \n",
    "\\omega'&\\equiv&\\sqrt{\\omega_0^2-\\beta^2}.\n",
    "\\end{eqnarray}\n",
    "$$"
   ]
  },
  {
   "cell_type": "markdown",
   "id": "5de23aca",
   "metadata": {
    "editable": true
   },
   "source": [
    "### Critical dampling: $\\beta=\\omega_0$\n",
    "\n",
    "In this case the two terms involving $r_1$ and $r_2$ are identical\n",
    "because $\\omega'=0$. Because we need to arbitrary constants, there\n",
    "needs to be another solution. This is found by simply guessing, or by\n",
    "taking the limit of $\\omega'\\rightarrow 0$ from the underdamped\n",
    "solution. The solution is then"
   ]
  },
  {
   "cell_type": "markdown",
   "id": "9f24645b",
   "metadata": {
    "editable": true
   },
   "source": [
    "<!-- Equation labels as ordinary links -->\n",
    "<div id=\"eq:criticallydamped\"></div>\n",
    "\n",
    "$$\n",
    "\\begin{equation}\n",
    "\\label{eq:criticallydamped} \\tag{8}\n",
    "x=Ae^{-\\beta t}+Bte^{-\\beta t}.\n",
    "\\end{equation}\n",
    "$$"
   ]
  },
  {
   "cell_type": "markdown",
   "id": "c133bd6b",
   "metadata": {
    "editable": true
   },
   "source": [
    "The critically damped solution is interesting because the solution\n",
    "approaches zero quickly, but does not oscillate. For a problem with\n",
    "zero initial velocity, the solution never crosses zero. This is a good\n",
    "choice for designing shock absorbers or swinging doors."
   ]
  },
  {
   "cell_type": "markdown",
   "id": "87f1b4f3",
   "metadata": {
    "editable": true
   },
   "source": [
    "### Overdamped: $\\beta>\\omega_0$"
   ]
  },
  {
   "cell_type": "markdown",
   "id": "d901e473",
   "metadata": {
    "editable": true
   },
   "source": [
    "$$\n",
    "\\begin{eqnarray}\n",
    "x&=&A_1\\exp{-(\\beta+\\sqrt{\\beta^2-\\omega_0^2})t}+A_2\\exp{-(\\beta-\\sqrt{\\beta^2-\\omega_0^2})t}\n",
    "\\end{eqnarray}\n",
    "$$"
   ]
  },
  {
   "cell_type": "markdown",
   "id": "f2bbf2df",
   "metadata": {
    "editable": true
   },
   "source": [
    "This solution will also never pass the origin more than once, and then\n",
    "only if the initial velocity is strong and initially toward zero.\n",
    "\n",
    "Given $b$, $m$ and $\\omega_0$, find $x(t)$ for a particle whose\n",
    "initial position is $x=0$ and has initial velocity $v_0$ (assuming an\n",
    "underdamped solution).\n",
    "\n",
    "The solution is of the form,"
   ]
  },
  {
   "cell_type": "markdown",
   "id": "794b682c",
   "metadata": {
    "editable": true
   },
   "source": [
    "$$\n",
    "\\begin{eqnarray*}\n",
    "x&=&e^{-\\beta t}\\left[A_1\\cos(\\omega' t)+A_2\\sin\\omega't\\right],\\\\\n",
    "\\dot{x}&=&-\\beta x+\\omega'e^{-\\beta t}\\left[-A_1\\sin\\omega't+A_2\\cos\\omega't\\right].\\\\\n",
    "\\omega'&\\equiv&\\sqrt{\\omega_0^2-\\beta^2},~~~\\beta\\equiv b/2m.\n",
    "\\end{eqnarray*}\n",
    "$$"
   ]
  },
  {
   "cell_type": "markdown",
   "id": "f07ce8d5",
   "metadata": {
    "editable": true
   },
   "source": [
    "From the initial conditions, $A_1=0$ because $x(0)=0$ and $\\omega'A_2=v_0$. So"
   ]
  },
  {
   "cell_type": "markdown",
   "id": "c9967b24",
   "metadata": {
    "editable": true
   },
   "source": [
    "$$\n",
    "x=\\frac{v_0}{\\omega'}e^{-\\beta t}\\sin\\omega't.\n",
    "$$"
   ]
  },
  {
   "cell_type": "markdown",
   "id": "397796f0",
   "metadata": {
    "editable": true
   },
   "source": [
    "* 4b Scale your equations of motion in terms of a dimensionless time $\\tau = \\omega_0 t$, where $t$ is time and $\\omega_0^2=k/m$ is the so-called natural frequency. \n",
    "\n",
    "To scale the equations we start again with the full equation"
   ]
  },
  {
   "cell_type": "markdown",
   "id": "12805dbc",
   "metadata": {
    "editable": true
   },
   "source": [
    "<!-- Equation labels as ordinary links -->\n",
    "<div id=\"_auto6\"></div>\n",
    "\n",
    "$$\n",
    "\\begin{equation}\n",
    "m\\ddot{x}+b\\dot{x}+kx=0.\n",
    "\\label{_auto6} \\tag{9}\n",
    "\\end{equation}\n",
    "$$"
   ]
  },
  {
   "cell_type": "markdown",
   "id": "81b4cd7c",
   "metadata": {
    "editable": true
   },
   "source": [
    "We divide by $m$ and get"
   ]
  },
  {
   "cell_type": "markdown",
   "id": "929cd621",
   "metadata": {
    "editable": true
   },
   "source": [
    "<!-- Equation labels as ordinary links -->\n",
    "<div id=\"_auto7\"></div>\n",
    "\n",
    "$$\n",
    "\\begin{equation}\n",
    "\\ddot{x}+\\frac{b}{m}\\dot{x}+\\frac{k}{m}x=0.\n",
    "\\label{_auto7} \\tag{10}\n",
    "\\end{equation}\n",
    "$$"
   ]
  },
  {
   "cell_type": "markdown",
   "id": "2779b5a7",
   "metadata": {
    "editable": true
   },
   "source": [
    "Defining the natural frequency $\\omega_0^2=k/m$   we introduce a dimensionless time $\\tau = \\omega_0 t$ and replace $t$ with $\\tau$.\n",
    "This leads to us rewriting"
   ]
  },
  {
   "cell_type": "markdown",
   "id": "8570ae3f",
   "metadata": {
    "editable": true
   },
   "source": [
    "<!-- Equation labels as ordinary links -->\n",
    "<div id=\"_auto8\"></div>\n",
    "\n",
    "$$\n",
    "\\begin{equation}\n",
    "\\frac{d^2 x}{dt^2}+\\frac{b}{m}\\frac{dx}{dt}+\\frac{k}{m}x=0,\n",
    "\\label{_auto8} \\tag{11}\n",
    "\\end{equation}\n",
    "$$"
   ]
  },
  {
   "cell_type": "markdown",
   "id": "16b4c285",
   "metadata": {
    "editable": true
   },
   "source": [
    "as"
   ]
  },
  {
   "cell_type": "markdown",
   "id": "07430933",
   "metadata": {
    "editable": true
   },
   "source": [
    "<!-- Equation labels as ordinary links -->\n",
    "<div id=\"_auto9\"></div>\n",
    "\n",
    "$$\n",
    "\\begin{equation}\n",
    "\\omega_0^2\\frac{d^2 x}{d\\tau^2}+\\frac{\\omega_0b}{m}\\frac{dx}{d\\tau}+\\omega_0^2x=0,\n",
    "\\label{_auto9} \\tag{12}\n",
    "\\end{equation}\n",
    "$$"
   ]
  },
  {
   "cell_type": "markdown",
   "id": "939d4404",
   "metadata": {
    "editable": true
   },
   "source": [
    "and dividing by $\\omega_0^2$ and defining $\\gamma = b/(2m\\omega_0)$ we have the final scaled equation"
   ]
  },
  {
   "cell_type": "markdown",
   "id": "61efac3e",
   "metadata": {
    "editable": true
   },
   "source": [
    "<!-- Equation labels as ordinary links -->\n",
    "<div id=\"_auto10\"></div>\n",
    "\n",
    "$$\n",
    "\\begin{equation}\n",
    "\\frac{d^2 x}{d\\tau^2}+2\\gamma\\frac{dx}{d\\tau}+x=0.\n",
    "\\label{_auto10} \\tag{13}\n",
    "\\end{equation}\n",
    "$$"
   ]
  },
  {
   "cell_type": "markdown",
   "id": "66ea8bfa",
   "metadata": {
    "editable": true
   },
   "source": [
    "This equation has dimension length only and time $\\tau$ is dimensionless.  It means also that our solutions become now\n",
    "\n",
    "In this case the variable $r$ becomes"
   ]
  },
  {
   "cell_type": "markdown",
   "id": "6c14636e",
   "metadata": {
    "editable": true
   },
   "source": [
    "<!-- Equation labels as ordinary links -->\n",
    "<div id=\"_auto11\"></div>\n",
    "\n",
    "$$\n",
    "\\begin{equation}\n",
    "r=-\\gamma\\pm\\sqrt{\\gamma^2-1}.\n",
    "\\label{_auto11} \\tag{14}\n",
    "\\end{equation}\n",
    "$$"
   ]
  },
  {
   "cell_type": "markdown",
   "id": "e299ae86",
   "metadata": {
    "editable": true
   },
   "source": [
    "We refer to the two solutions as $r_1$ and $r_2$ corresponding to the\n",
    "$+$ and $-$ roots. As expected, there should be two arbitrary\n",
    "constants involved in the solution,"
   ]
  },
  {
   "cell_type": "markdown",
   "id": "63708fb3",
   "metadata": {
    "editable": true
   },
   "source": [
    "<!-- Equation labels as ordinary links -->\n",
    "<div id=\"_auto12\"></div>\n",
    "\n",
    "$$\n",
    "\\begin{equation}\n",
    "x=A_1e^{r_1\\tau}+A_2e^{r_2\\tau},\n",
    "\\label{_auto12} \\tag{15}\n",
    "\\end{equation}\n",
    "$$"
   ]
  },
  {
   "cell_type": "markdown",
   "id": "b28177e8",
   "metadata": {
    "editable": true
   },
   "source": [
    "where the coefficients $A_1$ and $A_2$ are determined by initial\n",
    "conditions.\n",
    "\n",
    "For the roots listed above, $\\sqrt{\\gamma^2-1}$, will be\n",
    "imaginary if the damping is small and $\\gamma < 1$. In that case,\n",
    "$r$ is complex and the factor $\\exp{(rt)}$ will have some oscillatory\n",
    "behavior. If the roots are real, there will only be exponentially\n",
    "decaying solutions. For $\\gamma =1$, we have what we labeled as critical damping while for $\\gamma > 1$, we have over-critical damping.\n",
    "\n",
    "In the codes below, we have implemented the dimensionless  equations.\n",
    "\n",
    "* 4c \n",
    "\n",
    "We have chosen to implement the Runge-Kutta4 method since this has a\n",
    "truncation error in terms of the step size $\\Delta t$ to the power of\n",
    "five. The codes are included after part 1d.\n",
    "\n",
    "* 4d We add now a driving force $F=F_0\\cos{(\\omega t}$. Find the particular solution and its analytical solution. Include this force in your code (remember to scale the equations) and compare your numerical results with the analytical results. Discuss your results. How does the system evolve over time with a given frequency $\\omega$ for the driving force?   Is energy conserved? If not, why? \n",
    "\n",
    "To find a particular solution, one first guesses at the form,"
   ]
  },
  {
   "cell_type": "markdown",
   "id": "c4a52ae8",
   "metadata": {
    "editable": true
   },
   "source": [
    "<!-- Equation labels as ordinary links -->\n",
    "<div id=\"eq:partform\"></div>\n",
    "\n",
    "$$\n",
    "\\begin{equation}\n",
    "\\label{eq:partform} \\tag{16}\n",
    "x_p(t)=D\\cos(\\omega t-\\delta),\n",
    "\\end{equation}\n",
    "$$"
   ]
  },
  {
   "cell_type": "markdown",
   "id": "6b4d2156",
   "metadata": {
    "editable": true
   },
   "source": [
    "and rewrite the differential equation as"
   ]
  },
  {
   "cell_type": "markdown",
   "id": "aaffd749",
   "metadata": {
    "editable": true
   },
   "source": [
    "<!-- Equation labels as ordinary links -->\n",
    "<div id=\"_auto13\"></div>\n",
    "\n",
    "$$\n",
    "\\begin{equation}\n",
    "D\\left\\{-\\omega^2\\cos(\\omega t-\\delta)-2\\beta\\omega\\sin(\\omega t-\\delta)+\\omega_0^2\\cos(\\omega t-\\delta)\\right\\}=\\frac{F_0}{m}\\cos(\\omega t).\n",
    "\\label{_auto13} \\tag{17}\n",
    "\\end{equation}\n",
    "$$"
   ]
  },
  {
   "cell_type": "markdown",
   "id": "dfe079c1",
   "metadata": {
    "editable": true
   },
   "source": [
    "One can now use angle addition formulas to get"
   ]
  },
  {
   "cell_type": "markdown",
   "id": "7f9b4cad",
   "metadata": {
    "editable": true
   },
   "source": [
    "$$\n",
    "\\begin{eqnarray}\n",
    "D\\left\\{(-\\omega^2\\cos\\delta+2\\beta\\omega\\sin\\delta+\\omega_0^2\\cos\\delta)\\cos(\\omega t)\\right.&&\\\\\n",
    "\\nonumber\n",
    "\\left.+(-\\omega^2\\sin\\delta-2\\beta\\omega\\cos\\delta+\\omega_0^2\\sin\\delta)\\sin(\\omega t)\\right\\}\n",
    "&=&\\frac{F_0}{m}\\cos(\\omega t).\n",
    "\\end{eqnarray}\n",
    "$$"
   ]
  },
  {
   "cell_type": "markdown",
   "id": "dbd4f9d3",
   "metadata": {
    "editable": true
   },
   "source": [
    "Both the $\\cos$ and $\\sin$ terms need to equate if the expression is to hold at all times. Thus, this becomes two equations"
   ]
  },
  {
   "cell_type": "markdown",
   "id": "65f2e2f3",
   "metadata": {
    "editable": true
   },
   "source": [
    "$$\n",
    "\\begin{eqnarray}\n",
    "D\\left\\{-\\omega^2\\cos\\delta+2\\beta\\omega\\sin\\delta+\\omega_0^2\\cos\\delta\\right\\}&=&\\frac{F_0}{m}\\\\\n",
    "\\nonumber\n",
    "-\\omega^2\\sin\\delta-2\\beta\\omega\\cos\\delta+\\omega_0^2\\sin\\delta&=&0.\n",
    "\\end{eqnarray}\n",
    "$$"
   ]
  },
  {
   "cell_type": "markdown",
   "id": "e86516e9",
   "metadata": {
    "editable": true
   },
   "source": [
    "After dividing by $\\cos\\delta$, the lower expression leads to"
   ]
  },
  {
   "cell_type": "markdown",
   "id": "677ecdb5",
   "metadata": {
    "editable": true
   },
   "source": [
    "<!-- Equation labels as ordinary links -->\n",
    "<div id=\"_auto14\"></div>\n",
    "\n",
    "$$\n",
    "\\begin{equation}\n",
    "\\tan\\delta=\\frac{2\\beta\\omega}{\\omega_0^2-\\omega^2}.\n",
    "\\label{_auto14} \\tag{18}\n",
    "\\end{equation}\n",
    "$$"
   ]
  },
  {
   "cell_type": "markdown",
   "id": "08904b83",
   "metadata": {
    "editable": true
   },
   "source": [
    "Using the identities $\\tan^2+1=\\csc^2$ and $\\sin^2+\\cos^2=1$, one can also express $\\sin\\delta$ and $\\cos\\delta$,"
   ]
  },
  {
   "cell_type": "markdown",
   "id": "8a9555c8",
   "metadata": {
    "editable": true
   },
   "source": [
    "$$\n",
    "\\begin{eqnarray}\n",
    "\\sin\\delta&=&\\frac{2\\beta\\omega}{\\sqrt{(\\omega_0^2-\\omega^2)^2+4\\omega^2\\beta^2}},\\\\\n",
    "\\nonumber\n",
    "\\cos\\delta&=&\\frac{(\\omega_0^2-\\omega^2)}{\\sqrt{(\\omega_0^2-\\omega^2)^2+4\\omega^2\\beta^2}}\n",
    "\\end{eqnarray}\n",
    "$$"
   ]
  },
  {
   "cell_type": "markdown",
   "id": "a2d5818b",
   "metadata": {
    "editable": true
   },
   "source": [
    "Inserting the expressions for $\\cos\\delta$ and $\\sin\\delta$ into the expression for $D$,"
   ]
  },
  {
   "cell_type": "markdown",
   "id": "8e621779",
   "metadata": {
    "editable": true
   },
   "source": [
    "<!-- Equation labels as ordinary links -->\n",
    "<div id=\"eq:Ddrive\"></div>\n",
    "\n",
    "$$\n",
    "\\begin{equation}\n",
    "\\label{eq:Ddrive} \\tag{19}\n",
    "D=\\frac{F_0/m}{\\sqrt{(\\omega_0^2-\\omega^2)^2+4\\omega^2\\beta^2}}.\n",
    "\\end{equation}\n",
    "$$"
   ]
  },
  {
   "cell_type": "markdown",
   "id": "39e5c59c",
   "metadata": {
    "editable": true
   },
   "source": [
    "For a given initial condition, e.g. initial displacement and velocity,\n",
    "one must add the homogenous solution then solve for the two arbitrary\n",
    "constants. However, because the homogenous solutions decay with time\n",
    "as $e^{-\\beta t}$, the particular solution is all that remains at\n",
    "large times, and is therefore the steady state solution. Because the\n",
    "arbitrary constants are all in the homogenous solution, all memory of\n",
    "the initial conditions are lost at large times, $t>>1/\\beta$.\n",
    "\n",
    "The amplitude of the motion, $D$, is linearly proportional to the\n",
    "driving force ($F_0/m$), but also depends on the driving frequency\n",
    "$\\omega$. For small $\\beta$ the maximum will occur at\n",
    "$\\omega=\\omega_0$. This is referred to as a resonance. In the limit\n",
    "$\\beta\\rightarrow 0$ the amplitude at resonance approaches infinity.\n",
    "\n",
    "Let us now for simplicty assume that our external force is given by"
   ]
  },
  {
   "cell_type": "markdown",
   "id": "35be8c2f",
   "metadata": {
    "editable": true
   },
   "source": [
    "$$\n",
    "F_{\\mathrm{ext}}(t) = F_0\\cos{(\\omega t)},\n",
    "$$"
   ]
  },
  {
   "cell_type": "markdown",
   "id": "aff119ae",
   "metadata": {
    "editable": true
   },
   "source": [
    "where $F_0$ is a constant (what is its dimension?) and $\\omega$ is the frequency of the applied external driving force.\n",
    "\n",
    "Introducing the external force into our lovely differential equation\n",
    "and dividing by $m$ and introducing $\\omega_0^2=\\sqrt{k/m}$ we have"
   ]
  },
  {
   "cell_type": "markdown",
   "id": "25ed0a4f",
   "metadata": {
    "editable": true
   },
   "source": [
    "$$\n",
    "\\frac{d^2x}{dt^2} + \\frac{b}{m}\\frac{dx}{dt}+\\omega_0^2x(t) =\\frac{F_0}{m}\\cos{(\\omega t)},\n",
    "$$"
   ]
  },
  {
   "cell_type": "markdown",
   "id": "a76e1620",
   "metadata": {
    "editable": true
   },
   "source": [
    "Thereafter we introduce a dimensionless time $\\tau = t\\omega_0$\n",
    "and a dimensionless frequency $\\tilde{\\omega}=\\omega/\\omega_0$. We have then"
   ]
  },
  {
   "cell_type": "markdown",
   "id": "b56a8f20",
   "metadata": {
    "editable": true
   },
   "source": [
    "$$\n",
    "\\frac{d^2x}{d\\tau^2} + \\frac{b}{m\\omega_0}\\frac{dx}{d\\tau}+x(\\tau) =\\frac{F_0}{m\\omega_0^2}\\cos{(\\tilde{\\omega}\\tau)},\n",
    "$$"
   ]
  },
  {
   "cell_type": "markdown",
   "id": "f9be8329",
   "metadata": {
    "editable": true
   },
   "source": [
    "Introducing a new amplitude $\\tilde{F} =F_0/(m\\omega_0^2)$ (check dimensionality again) we have"
   ]
  },
  {
   "cell_type": "markdown",
   "id": "2456f116",
   "metadata": {
    "editable": true
   },
   "source": [
    "$$\n",
    "\\frac{d^2x}{d\\tau^2} + \\frac{b}{m\\omega_0}\\frac{dx}{d\\tau}+x(\\tau) =\\tilde{F}\\cos{(\\tilde{\\omega}\\tau)}.\n",
    "$$"
   ]
  },
  {
   "cell_type": "markdown",
   "id": "41c2b8f9",
   "metadata": {
    "editable": true
   },
   "source": [
    "Our final step, as we did in the case of various types of damping, is\n",
    "to define $\\gamma = b/(2m\\omega_0)$ and rewrite our equations as"
   ]
  },
  {
   "cell_type": "markdown",
   "id": "1ee63a9c",
   "metadata": {
    "editable": true
   },
   "source": [
    "$$\n",
    "\\frac{d^2x}{d\\tau^2} + 2\\gamma\\frac{dx}{d\\tau}+x(\\tau) =\\tilde{F}\\cos{(\\tilde{\\omega}\\tau)}.\n",
    "$$"
   ]
  },
  {
   "cell_type": "markdown",
   "id": "cc351823",
   "metadata": {
    "editable": true
   },
   "source": [
    "These are the equations implemented in the codes below. In the code example below we have chosen the initial position to be\n",
    "$x_0=1.0$ (skipping the units), the initial velocity $v_0=0$, $k=m=1$ giving $\\omega_0 =1.0$ and $\\gamma=1.0$, $\\tilde{\\omega}=0.0$ and $\\tilde{F_0}=0.0$.\n",
    "These definitions gives us for the homogenous solution a classical critical case since $\\gamma = 1$, resulting in the homogenous solution only (show this with the given initial conditions))"
   ]
  },
  {
   "cell_type": "markdown",
   "id": "b4cb3eeb",
   "metadata": {
    "editable": true
   },
   "source": [
    "$$\n",
    "x_h(\\tau)=x_0(\\exp{-(\\tau)}+\\tau\\exp{-(\\tau)}).\n",
    "$$"
   ]
  },
  {
   "cell_type": "markdown",
   "id": "56a89b8f",
   "metadata": {
    "editable": true
   },
   "source": [
    "Energy is not conserved since we have a time and velocity dependent total net force acting on the system.\n",
    "\n",
    "Note that here the forward Euler method does not know the specific force function to be called.\n",
    "It receives just an input the name. We can easily change the force by adding another function."
   ]
  },
  {
   "cell_type": "code",
   "execution_count": 2,
   "id": "08bd4277",
   "metadata": {
    "collapsed": false,
    "editable": true
   },
   "outputs": [],
   "source": [
    "def ForwardEuler(v,x,t,n,Force):\n",
    "    for i in range(n-1):\n",
    "        v[i+1] = v[i] + DeltaT*Force(v[i],x[i],t[i])\n",
    "        x[i+1] = x[i] + DeltaT*v[i]\n",
    "        t[i+1] = t[i] + DeltaT"
   ]
  },
  {
   "cell_type": "code",
   "execution_count": 3,
   "id": "b9f72778",
   "metadata": {
    "collapsed": false,
    "editable": true
   },
   "outputs": [],
   "source": [
    "def SpringForce(v,x,t):\n",
    "#   note here that we have divided by mass and we return the acceleration\n",
    "    return  -2*gamma*v-x+Ftilde*cos(t*Omegatilde)"
   ]
  },
  {
   "cell_type": "markdown",
   "id": "cd304e22",
   "metadata": {
    "editable": true
   },
   "source": [
    "It is easy to add a new method like the Euler-Cromer"
   ]
  },
  {
   "cell_type": "code",
   "execution_count": 4,
   "id": "6addb45c",
   "metadata": {
    "collapsed": false,
    "editable": true
   },
   "outputs": [],
   "source": [
    "def ForwardEulerCromer(v,x,t,n,Force):\n",
    "    for i in range(n-1):\n",
    "        a = Force(v[i],x[i],t[i])\n",
    "        v[i+1] = v[i] + DeltaT*a\n",
    "        x[i+1] = x[i] + DeltaT*v[i+1]\n",
    "        t[i+1] = t[i] + DeltaT"
   ]
  },
  {
   "cell_type": "markdown",
   "id": "3bc763f7",
   "metadata": {
    "editable": true
   },
   "source": [
    "and the Velocity Verlet method (be careful with time-dependence here, it is not an ideal method for non-conservative forces))"
   ]
  },
  {
   "cell_type": "code",
   "execution_count": 5,
   "id": "73bfcd09",
   "metadata": {
    "collapsed": false,
    "editable": true
   },
   "outputs": [],
   "source": [
    "def VelocityVerlet(v,x,t,n,Force):\n",
    "    for i in range(n-1):\n",
    "        a = Force(v[i],x[i],t[i])\n",
    "        x[i+1] = x[i] + DeltaT*v[i]+0.5*a*DeltaT*DeltaT\n",
    "        anew = Force(v[i],x[i+1],t[i+1])\n",
    "        v[i+1] = v[i] + 0.5*DeltaT*(a+anew)\n",
    "        t[i+1] = t[i] + DeltaT"
   ]
  },
  {
   "cell_type": "markdown",
   "id": "88eac7dd",
   "metadata": {
    "editable": true
   },
   "source": [
    "Finally, we can now add the Runge-Kutta2 method via a new function"
   ]
  },
  {
   "cell_type": "code",
   "execution_count": 6,
   "id": "b9d411b7",
   "metadata": {
    "collapsed": false,
    "editable": true
   },
   "outputs": [],
   "source": [
    "def RK2(v,x,t,n,Force):\n",
    "    for i in range(n-1):\n",
    "# Setting up k1\n",
    "        k1x = DeltaT*v[i]\n",
    "        k1v = DeltaT*Force(v[i],x[i],t[i])\n",
    "# Setting up k2\n",
    "        vv = v[i]+k1v*0.5\n",
    "        xx = x[i]+k1x*0.5\n",
    "        k2x = DeltaT*vv\n",
    "        k2v = DeltaT*Force(vv,xx,t[i]+DeltaT*0.5)\n",
    "# Final result\n",
    "        x[i+1] = x[i]+k2x\n",
    "        v[i+1] = v[i]+k2v\n",
    "\tt[i+1] = t[i]+DeltaT"
   ]
  },
  {
   "cell_type": "markdown",
   "id": "4dbef79c",
   "metadata": {
    "editable": true
   },
   "source": [
    "Finally, we can now add the Runge-Kutta2 method via a new function"
   ]
  },
  {
   "cell_type": "code",
   "execution_count": 7,
   "id": "863cf7f7",
   "metadata": {
    "collapsed": false,
    "editable": true
   },
   "outputs": [],
   "source": [
    "def RK4(v,x,t,n,Force):\n",
    "    for i in range(n-1):\n",
    "# Setting up k1\n",
    "        k1x = DeltaT*v[i]\n",
    "        k1v = DeltaT*Force(v[i],x[i],t[i])\n",
    "# Setting up k2\n",
    "        vv = v[i]+k1v*0.5\n",
    "        xx = x[i]+k1x*0.5\n",
    "        k2x = DeltaT*vv\n",
    "        k2v = DeltaT*Force(vv,xx,t[i]+DeltaT*0.5)\n",
    "# Setting up k3\n",
    "        vv = v[i]+k2v*0.5\n",
    "        xx = x[i]+k2x*0.5\n",
    "        k3x = DeltaT*vv\n",
    "        k3v = DeltaT*Force(vv,xx,t[i]+DeltaT*0.5)\n",
    "# Setting up k4\n",
    "        vv = v[i]+k3v\n",
    "        xx = x[i]+k3x\n",
    "        k4x = DeltaT*vv\n",
    "        k4v = DeltaT*Force(vv,xx,t[i]+DeltaT)\n",
    "# Final result\n",
    "        x[i+1] = x[i]+(k1x+2*k2x+2*k3x+k4x)/6.\n",
    "        v[i+1] = v[i]+(k1v+2*k2v+2*k3v+k4v)/6.\n",
    "        t[i+1] = t[i] + DeltaT"
   ]
  },
  {
   "cell_type": "markdown",
   "id": "48a9ac45",
   "metadata": {
    "editable": true
   },
   "source": [
    "The code below uses the Runge-Kutta4 methods."
   ]
  },
  {
   "cell_type": "code",
   "execution_count": 8,
   "id": "bcc3cd27",
   "metadata": {
    "collapsed": false,
    "editable": true
   },
   "outputs": [],
   "source": [
    "# Common imports\n",
    "import numpy as np\n",
    "import pandas as pd\n",
    "from math import *\n",
    "import matplotlib.pyplot as plt\n",
    "import os\n",
    "\n",
    "# Where to save the figures and data files\n",
    "PROJECT_ROOT_DIR = \"Results\"\n",
    "FIGURE_ID = \"Results/FigureFiles\"\n",
    "DATA_ID = \"DataFiles/\"\n",
    "\n",
    "if not os.path.exists(PROJECT_ROOT_DIR):\n",
    "    os.mkdir(PROJECT_ROOT_DIR)\n",
    "\n",
    "if not os.path.exists(FIGURE_ID):\n",
    "    os.makedirs(FIGURE_ID)\n",
    "\n",
    "if not os.path.exists(DATA_ID):\n",
    "    os.makedirs(DATA_ID)\n",
    "\n",
    "def image_path(fig_id):\n",
    "    return os.path.join(FIGURE_ID, fig_id)\n",
    "\n",
    "def data_path(dat_id):\n",
    "    return os.path.join(DATA_ID, dat_id)\n",
    "\n",
    "def save_fig(fig_id):\n",
    "    plt.savefig(image_path(fig_id) + \".png\", format='png')\n",
    "\n",
    "\n",
    "DeltaT = 0.001\n",
    "#set up arrays \n",
    "tfinal = 20 # in dimensionless time\n",
    "n = ceil(tfinal/DeltaT)\n",
    "# set up arrays for t, v, and x\n",
    "t = np.zeros(n)\n",
    "v = np.zeros(n)\n",
    "x = np.zeros(n)\n",
    "# Initial conditions (can change to more than one dim)\n",
    "x0 =  1.0 \n",
    "v0 = 0.0\n",
    "x[0] = x0\n",
    "v[0] = v0\n",
    "gamma = 1.0\n",
    "Omegatilde = 0.0\n",
    "Ftilde = 0.0\n",
    "# Start integrating using Euler's method\n",
    "# Note that we define the force function as a SpringForce\n",
    "RK4(v,x,t,n,SpringForce)\n",
    "# Here we define the analytical solution for the critical damping case\n",
    "xanalytic = np.zeros(n)\n",
    "xanalytic = x0*np.exp(-t)+x0*t*np.exp(-t)\n",
    "\n",
    "# Plot position as function of time    \n",
    "fig, ax = plt.subplots()\n",
    "ax.set_ylabel('x[m]')\n",
    "ax.set_xlabel('t[s]')\n",
    "ax.plot(t, np.abs(x-xanalytic))\n",
    "fig.tight_layout()\n",
    "save_fig(\"ForcedBlockRK4\")\n",
    "plt.show()"
   ]
  },
  {
   "cell_type": "markdown",
   "id": "0c23275c",
   "metadata": {
    "editable": true
   },
   "source": [
    "Here we have plotted the difference (absolute value) between the analytical solution and numerical one and we see that the error is extremely small with the chosen parameters. Feel free to explore other situations."
   ]
  }
 ],
 "metadata": {},
 "nbformat": 4,
 "nbformat_minor": 5
}
