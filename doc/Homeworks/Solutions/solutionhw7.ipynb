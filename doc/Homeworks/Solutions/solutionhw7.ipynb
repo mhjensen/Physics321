{
 "cells": [
  {
   "cell_type": "markdown",
   "id": "3b3d8d64",
   "metadata": {
    "editable": true
   },
   "source": [
    "<!-- HTML file automatically generated from DocOnce source (https://github.com/doconce/doconce/)\n",
    "doconce format html solutionhw7.do.txt  -->\n",
    "Title: PHY321: Classical Mechanics 1\n",
    "\n",
    "**Solution Homework 7, due to March 25**\n",
    "\n",
    "Date: **Mar 29, 2023**"
   ]
  },
  {
   "cell_type": "markdown",
   "id": "ae3bd849",
   "metadata": {
    "editable": true
   },
   "source": [
    "### Introduction to homework 7\n",
    "\n",
    "In this week's homework we will apply our insights about harmonic\n",
    "oscillations. The relevant material to survey is chapter 5 of Taylor.\n",
    "See also the slides from [week 11](https://mhjensen.github.io/Physics321/doc/pub/week10/html/week10.html).\n",
    "\n",
    "We have also added an exercise (exercise 2) related to our discussion of two-body problems. \n",
    "The relevant reading background for exercise 2 is given by sections 8.1-8.2 of Taylor."
   ]
  },
  {
   "cell_type": "markdown",
   "id": "3e3969af",
   "metadata": {
    "editable": true
   },
   "source": [
    "### Exercise 1 (80 pts), the mathematical pendulum\n",
    "\n",
    "Relevant reading here is Taylor chapter 5 and the lecture notes on oscillations from [week 11](https://mhjensen.github.io/Physics321/doc/pub/week10/html/week10.html).\n",
    "\n",
    "The angular equation of motion of the pendulum is given by\n",
    "Newton's equation and with no external force it reads"
   ]
  },
  {
   "cell_type": "markdown",
   "id": "f4048176",
   "metadata": {
    "editable": true
   },
   "source": [
    "<!-- Equation labels as ordinary links -->\n",
    "<div id=\"_auto1\"></div>\n",
    "\n",
    "$$\n",
    "\\begin{equation}\n",
    "  ml\\frac{d^2\\theta}{dt^2}+mgsin(\\theta)=0,\n",
    "\\label{_auto1} \\tag{1}\n",
    "\\end{equation}\n",
    "$$"
   ]
  },
  {
   "cell_type": "markdown",
   "id": "ac0b8508",
   "metadata": {
    "editable": true
   },
   "source": [
    "with an angular velocity and acceleration given by"
   ]
  },
  {
   "cell_type": "markdown",
   "id": "2c95b6c6",
   "metadata": {
    "editable": true
   },
   "source": [
    "<!-- Equation labels as ordinary links -->\n",
    "<div id=\"_auto2\"></div>\n",
    "\n",
    "$$\n",
    "\\begin{equation}\n",
    "     v=l\\frac{d\\theta}{dt},\n",
    "\\label{_auto2} \\tag{2}\n",
    "\\end{equation}\n",
    "$$"
   ]
  },
  {
   "cell_type": "markdown",
   "id": "98fc6ef8",
   "metadata": {
    "editable": true
   },
   "source": [
    "and"
   ]
  },
  {
   "cell_type": "markdown",
   "id": "1fe58988",
   "metadata": {
    "editable": true
   },
   "source": [
    "<!-- Equation labels as ordinary links -->\n",
    "<div id=\"_auto3\"></div>\n",
    "\n",
    "$$\n",
    "\\begin{equation}\n",
    "     a=l\\frac{d^2\\theta}{dt^2}.\n",
    "\\label{_auto3} \\tag{3}\n",
    "\\end{equation}\n",
    "$$"
   ]
  },
  {
   "cell_type": "markdown",
   "id": "22e82bcf",
   "metadata": {
    "editable": true
   },
   "source": [
    "We do however expect that the motion will gradually come to an end\n",
    "due a viscous drag torque acting on the pendulum. \n",
    "In the presence of the drag, the above equation becomes"
   ]
  },
  {
   "cell_type": "markdown",
   "id": "c3675ecd",
   "metadata": {
    "editable": true
   },
   "source": [
    "<!-- Equation labels as ordinary links -->\n",
    "<div id=\"eq:pend1\"></div>\n",
    "\n",
    "$$\n",
    "\\begin{equation}\n",
    "   ml\\frac{d^2\\theta}{dt^2}+\\nu\\frac{d\\theta}{dt}  +mgsin(\\theta)=0,\n",
    "\\label{eq:pend1} \\tag{4}\n",
    "\\end{equation}\n",
    "$$"
   ]
  },
  {
   "cell_type": "markdown",
   "id": "c13f3eba",
   "metadata": {
    "editable": true
   },
   "source": [
    "where $\\nu$ is now a positive constant parameterizing the viscosity\n",
    "of the medium in question. In order to maintain the motion against\n",
    "viscosity, it is necessary to add some external driving force. \n",
    "We choose here a periodic driving force. The last equation becomes then"
   ]
  },
  {
   "cell_type": "markdown",
   "id": "ad88d49f",
   "metadata": {
    "editable": true
   },
   "source": [
    "<!-- Equation labels as ordinary links -->\n",
    "<div id=\"eq:pend2\"></div>\n",
    "\n",
    "$$\n",
    "\\begin{equation}\n",
    "   ml\\frac{d^2\\theta}{dt^2}+\\nu\\frac{d\\theta}{dt}  +mgsin(\\theta)=Asin(\\omega t),\n",
    "\\label{eq:pend2} \\tag{5}\n",
    "\\end{equation}\n",
    "$$"
   ]
  },
  {
   "cell_type": "markdown",
   "id": "db59abc4",
   "metadata": {
    "editable": true
   },
   "source": [
    "with $A$ and $\\omega$ two constants representing the amplitude and \n",
    "the angular frequency respectively. The latter is called the driving frequency.\n",
    "\n",
    "* 1a (10pts)\n",
    "\n",
    "Rewrite Eqs. ([4](#eq:pend1)) and ([5](#eq:pend2)) as dimensionless\n",
    "equations in time. \n",
    "\n",
    "The angular equation of motion of the pendulum is given by\n",
    "Newton's equation and with no external force it reads"
   ]
  },
  {
   "cell_type": "markdown",
   "id": "54a9f085",
   "metadata": {
    "editable": true
   },
   "source": [
    "<!-- Equation labels as ordinary links -->\n",
    "<div id=\"_auto4\"></div>\n",
    "\n",
    "$$\n",
    "\\begin{equation}\n",
    "  ml\\frac{d^2\\theta}{dt^2}+mgsin(\\theta)=0,\n",
    "\\label{_auto4} \\tag{6}\n",
    "\\end{equation}\n",
    "$$"
   ]
  },
  {
   "cell_type": "markdown",
   "id": "402b4630",
   "metadata": {
    "editable": true
   },
   "source": [
    "with an angular velocity and acceleration given by"
   ]
  },
  {
   "cell_type": "markdown",
   "id": "9c76fe18",
   "metadata": {
    "editable": true
   },
   "source": [
    "<!-- Equation labels as ordinary links -->\n",
    "<div id=\"_auto5\"></div>\n",
    "\n",
    "$$\n",
    "\\begin{equation}\n",
    "     v=l\\frac{d\\theta}{dt},\n",
    "\\label{_auto5} \\tag{7}\n",
    "\\end{equation}\n",
    "$$"
   ]
  },
  {
   "cell_type": "markdown",
   "id": "b949fe36",
   "metadata": {
    "editable": true
   },
   "source": [
    "and"
   ]
  },
  {
   "cell_type": "markdown",
   "id": "cb502d3a",
   "metadata": {
    "editable": true
   },
   "source": [
    "<!-- Equation labels as ordinary links -->\n",
    "<div id=\"_auto6\"></div>\n",
    "\n",
    "$$\n",
    "\\begin{equation}\n",
    "     a=l\\frac{d^2\\theta}{dt^2}.\n",
    "\\label{_auto6} \\tag{8}\n",
    "\\end{equation}\n",
    "$$"
   ]
  },
  {
   "cell_type": "markdown",
   "id": "bc533680",
   "metadata": {
    "editable": true
   },
   "source": [
    "We do however expect that the motion will gradually come to an end due\n",
    "a viscous drag torque acting on the pendulum.  In the presence of the\n",
    "drag, the above equation becomes"
   ]
  },
  {
   "cell_type": "markdown",
   "id": "214630e9",
   "metadata": {
    "editable": true
   },
   "source": [
    "<!-- Equation labels as ordinary links -->\n",
    "<div id=\"eq:pend1x\"></div>\n",
    "\n",
    "$$\n",
    "\\begin{equation}\n",
    "   ml\\frac{d^2\\theta}{dt^2}+\\nu\\frac{d\\theta}{dt}  +mgsin(\\theta)=0, \\label{eq:pend1x} \\tag{9}\n",
    "\\end{equation}\n",
    "$$"
   ]
  },
  {
   "cell_type": "markdown",
   "id": "ca3a091d",
   "metadata": {
    "editable": true
   },
   "source": [
    "where $\\nu$ is now a positive constant parameterizing the viscosity\n",
    "of the medium in question. In order to maintain the motion against\n",
    "viscosity, it is necessary to add some external driving force. \n",
    "We choose here a periodic driving force. The last equation becomes then"
   ]
  },
  {
   "cell_type": "markdown",
   "id": "f4a6b750",
   "metadata": {
    "editable": true
   },
   "source": [
    "<!-- Equation labels as ordinary links -->\n",
    "<div id=\"eq:pend2x\"></div>\n",
    "\n",
    "$$\n",
    "\\begin{equation}\n",
    "   ml\\frac{d^2\\theta}{dt^2}+\\nu\\frac{d\\theta}{dt}  +mgsin(\\theta)=Asin(\\omega t), \\label{eq:pend2x} \\tag{10}\n",
    "\\end{equation}\n",
    "$$"
   ]
  },
  {
   "cell_type": "markdown",
   "id": "5853f8f3",
   "metadata": {
    "editable": true
   },
   "source": [
    "with $A$ and $\\omega$ two constants representing the amplitude and \n",
    "the angular frequency respectively. The latter is called the driving frequency.\n",
    "\n",
    "We define"
   ]
  },
  {
   "cell_type": "markdown",
   "id": "95230935",
   "metadata": {
    "editable": true
   },
   "source": [
    "$$\n",
    "\\omega_0=\\sqrt{g/l},\n",
    "$$"
   ]
  },
  {
   "cell_type": "markdown",
   "id": "d4c6d3f4",
   "metadata": {
    "editable": true
   },
   "source": [
    "the so-called natural frequency and the new dimensionless quantities"
   ]
  },
  {
   "cell_type": "markdown",
   "id": "858ecf12",
   "metadata": {
    "editable": true
   },
   "source": [
    "$$\n",
    "\\hat{t}=\\omega_0t,\n",
    "$$"
   ]
  },
  {
   "cell_type": "markdown",
   "id": "c6acb693",
   "metadata": {
    "editable": true
   },
   "source": [
    "with the dimensionless driving frequency"
   ]
  },
  {
   "cell_type": "markdown",
   "id": "7e726f97",
   "metadata": {
    "editable": true
   },
   "source": [
    "$$\n",
    "\\hat{\\omega}=\\frac{\\omega}{\\omega_0},\n",
    "$$"
   ]
  },
  {
   "cell_type": "markdown",
   "id": "9394d67d",
   "metadata": {
    "editable": true
   },
   "source": [
    "and introducing the quantity $Q$, called the *quality factor*,"
   ]
  },
  {
   "cell_type": "markdown",
   "id": "1aeec369",
   "metadata": {
    "editable": true
   },
   "source": [
    "$$\n",
    "Q=\\frac{mg}{\\omega_0\\nu},\n",
    "$$"
   ]
  },
  {
   "cell_type": "markdown",
   "id": "a8132e51",
   "metadata": {
    "editable": true
   },
   "source": [
    "and the dimensionless amplitude"
   ]
  },
  {
   "cell_type": "markdown",
   "id": "ab72f676",
   "metadata": {
    "editable": true
   },
   "source": [
    "$$\n",
    "\\hat{A}=\\frac{A}{mg}\n",
    "$$"
   ]
  },
  {
   "cell_type": "markdown",
   "id": "29df13bc",
   "metadata": {
    "editable": true
   },
   "source": [
    "We have"
   ]
  },
  {
   "cell_type": "markdown",
   "id": "062df817",
   "metadata": {
    "editable": true
   },
   "source": [
    "$$\n",
    "\\frac{d^2\\theta}{d\\hat{t}^2}+\\frac{1}{Q}\\frac{d\\theta}{d\\hat{t}}  \n",
    "     +sin(\\theta)=\\hat{A}cos(\\hat{\\omega}\\hat{t}).\n",
    "$$"
   ]
  },
  {
   "cell_type": "markdown",
   "id": "5578d867",
   "metadata": {
    "editable": true
   },
   "source": [
    "This equation can in turn be recast in terms of two coupled first-order differential equations as follows"
   ]
  },
  {
   "cell_type": "markdown",
   "id": "4cce20ec",
   "metadata": {
    "editable": true
   },
   "source": [
    "$$\n",
    "\\frac{d\\theta}{d\\hat{t}}=\\hat{v},\n",
    "$$"
   ]
  },
  {
   "cell_type": "markdown",
   "id": "02de5b2e",
   "metadata": {
    "editable": true
   },
   "source": [
    "and"
   ]
  },
  {
   "cell_type": "markdown",
   "id": "be34a0c0",
   "metadata": {
    "editable": true
   },
   "source": [
    "$$\n",
    "\\frac{d\\hat{v}}{d\\hat{t}}=-\\frac{\\hat{v}}{Q}-sin(\\theta)+\\hat{A}cos(\\hat{\\omega}\\hat{t}).\n",
    "$$"
   ]
  },
  {
   "cell_type": "markdown",
   "id": "d8194325",
   "metadata": {
    "editable": true
   },
   "source": [
    "These are the equations to be solved.  The factor $Q$ represents the\n",
    "number of oscillations of the undriven system that must occur before\n",
    "its energy is significantly reduced due to the viscous drag. The\n",
    "amplitude $\\hat{A}$ is measured in units of the maximum possible\n",
    "gravitational torque while $\\hat{\\omega}$ is the angular frequency of\n",
    "the external torque measured in units of the pendulum's natural\n",
    "frequency.\n",
    "\n",
    "* 1b (40pts)\n",
    "\n",
    "Write then a code which solves Eq. ([4](#eq:pend1)) using the\n",
    "Euler-Cromer method or for example the fourth-order Runge Kutta method. Perform\n",
    "calculations for at least ten periods with $N=100$, $N=1000$ and\n",
    "$N=10000$ integration points/discretization points in time (such points are often called mesh points) and values of $\\nu = 1$, $\\nu = 5$ and $\\nu\n",
    "=10$.  Set $l=1.0$ m, $g=1$ m/s$^2$ and $m=1$ kg.  Choose as initial\n",
    "conditions $\\theta(0) = 0.2$ (radians) and $v(0) = 0$ (radians/s).\n",
    "Make plots of $\\theta$ (in radians) as function of time and phase\n",
    "space plots of $\\theta$ versus the velocity $v$.  Check the stability\n",
    "of your results as functions of time and number of discretization/mesh points.  Which\n",
    "case corresponds to damped, underdamped and overdamped oscillatory\n",
    "motion?  Comment your results.\n",
    "\n",
    "A code example which solves these various problems is given here. It\n",
    "is easy to change the number of integration points and test the\n",
    "stability of the solutions of functions of time. Decreasing $\\Delta t$\n",
    "gives better results, but it will depend on the numerical method\n",
    "chosen for studying the results. Keep also in mind that as you\n",
    "increase the final time, you may experience a solution (again it will\n",
    "depend on the chosen method) which worsens with time. The parameters\n",
    "we have chosen here are for the case with the RK4 algorithm and\n",
    "with or without an applied external force.  Setting the external force to zero leads to\n",
    "the three cases of underdamping, critical damping and overdamping.\n",
    "\n",
    "The code structures the different methods as explicit functions."
   ]
  },
  {
   "cell_type": "code",
   "execution_count": 1,
   "id": "121e5277",
   "metadata": {
    "collapsed": false,
    "editable": true
   },
   "outputs": [],
   "source": [
    "%matplotlib inline\n",
    "\n",
    "\n",
    "# Common imports\n",
    "import numpy as np\n",
    "import pandas as pd\n",
    "from math import *\n",
    "import matplotlib.pyplot as plt\n",
    "import os\n",
    "\n",
    "# Where to save the figures and data files\n",
    "PROJECT_ROOT_DIR = \"Results\"\n",
    "FIGURE_ID = \"Results/FigureFiles\"\n",
    "DATA_ID = \"DataFiles/\"\n",
    "\n",
    "if not os.path.exists(PROJECT_ROOT_DIR):\n",
    "    os.mkdir(PROJECT_ROOT_DIR)\n",
    "\n",
    "if not os.path.exists(FIGURE_ID):\n",
    "    os.makedirs(FIGURE_ID)\n",
    "\n",
    "if not os.path.exists(DATA_ID):\n",
    "    os.makedirs(DATA_ID)\n",
    "\n",
    "def image_path(fig_id):\n",
    "    return os.path.join(FIGURE_ID, fig_id)\n",
    "\n",
    "def data_path(dat_id):\n",
    "    return os.path.join(DATA_ID, dat_id)\n",
    "\n",
    "def save_fig(fig_id):\n",
    "    plt.savefig(image_path(fig_id) + \".png\", format='png')\n",
    "\n",
    "\n",
    "from pylab import plt, mpl\n",
    "plt.style.use('seaborn')\n",
    "mpl.rcParams['font.family'] = 'serif'\n",
    "\n",
    "def ForwardEuler(v,x,t,n,Force):\n",
    "    for i in range(n-1):\n",
    "        v[i+1] = v[i] + DeltaT*Force(v[i],x[i],t[i])\n",
    "        x[i+1] = x[i] + DeltaT*v[i]\n",
    "        t[i+1] = t[i] + DeltaT\n",
    "\n",
    "\n",
    "def SpringForce(v,x,t):\n",
    "#   note here that we have divided by mass and we return the acceleration\n",
    "    return  -2*nu*v-x+Ftilde*cos(t*Omegatilde)\n",
    "\n",
    "def ForwardEulerCromer(v,x,t,n,Force):\n",
    "    for i in range(n-1):\n",
    "        a = Force(v[i],x[i],t[i])\n",
    "        v[i+1] = v[i] + DeltaT*a\n",
    "        x[i+1] = x[i] + DeltaT*v[i+1]\n",
    "        t[i+1] = t[i] + DeltaT\n",
    "\n",
    "def VelocityVerlet(v,x,t,n,Force):\n",
    "    for i in range(n-1):\n",
    "        a = Force(v[i],x[i],t[i])\n",
    "        x[i+1] = x[i] + DeltaT*v[i]+0.5*a*DeltaT*DeltaT\n",
    "        anew = Force(v[i],x[i+1],t[i+1])\n",
    "        v[i+1] = v[i] + 0.5*DeltaT*(a+anew)\n",
    "        t[i+1] = t[i] + DeltaT\n",
    "\n",
    "def RK4(v,x,t,n,Force):\n",
    "    for i in range(n-1):\n",
    "# Setting up k1\n",
    "        k1x = DeltaT*v[i]\n",
    "        k1v = DeltaT*Force(v[i],x[i],t[i])\n",
    "# Setting up k2\n",
    "        vv = v[i]+k1v*0.5\n",
    "        xx = x[i]+k1x*0.5\n",
    "        k2x = DeltaT*vv\n",
    "        k2v = DeltaT*Force(vv,xx,t[i]+DeltaT*0.5)\n",
    "# Setting up k3\n",
    "        vv = v[i]+k2v*0.5\n",
    "        xx = x[i]+k2x*0.5\n",
    "        k3x = DeltaT*vv\n",
    "        k3v = DeltaT*Force(vv,xx,t[i]+DeltaT*0.5)\n",
    "# Setting up k4\n",
    "        vv = v[i]+k3v\n",
    "        xx = x[i]+k3x\n",
    "        k4x = DeltaT*vv\n",
    "        k4v = DeltaT*Force(vv,xx,t[i]+DeltaT)\n",
    "# Final result\n",
    "        x[i+1] = x[i]+(k1x+2*k2x+2*k3x+k4x)/6.\n",
    "        v[i+1] = v[i]+(k1v+2*k2v+2*k3v+k4v)/6.\n",
    "        t[i+1] = t[i] + DeltaT"
   ]
  },
  {
   "cell_type": "markdown",
   "id": "2b79bb41",
   "metadata": {
    "editable": true
   },
   "source": [
    "For the pendulum,  we need to define a new force, which we simply call the pendulum\n",
    "force. The only thing which changes from our previous spring-force\n",
    "problem is the non-linearity introduced by angle $\\theta$ due to the\n",
    "$\\sin{\\theta}$ term.  Here we have kept a generic variable $x$\n",
    "instead."
   ]
  },
  {
   "cell_type": "code",
   "execution_count": 2,
   "id": "4b7c118b",
   "metadata": {
    "collapsed": false,
    "editable": true
   },
   "outputs": [],
   "source": [
    "def PendulumForce(v,x,t):\n",
    "#   note here that we have divided by mass and we return the acceleration\n",
    "    return  -nu*v-sin(x)+Ftilde*cos(t*Omegatilde)"
   ]
  },
  {
   "cell_type": "code",
   "execution_count": 3,
   "id": "a29634f2",
   "metadata": {
    "collapsed": false,
    "editable": true
   },
   "outputs": [],
   "source": [
    "DeltaT = 0.001\n",
    "#set up arrays \n",
    "tfinal = 20 # in years\n",
    "n = ceil(tfinal/DeltaT)\n",
    "# set up arrays for t, v, and x\n",
    "t = np.zeros(n)\n",
    "v = np.zeros(n)\n",
    "theta = np.zeros(n)\n",
    "# Initial conditions (can change to more than one dim)\n",
    "theta0 =  0.2\n",
    "v0 = 0.0\n",
    "theta[0] = theta0\n",
    "v[0] = v0\n",
    "nu = 1.0\n",
    "Omegatilde = 0.0\n",
    "Ftilde = 0.0\n",
    "# Start integrating using the RK4 method\n",
    "# Note that we define the force function via the function  PendulumForce\n",
    "RK4(v,theta,t,n,PendulumForce)\n",
    "\n",
    "# Plot position as function of time    \n",
    "fig, ax = plt.subplots()\n",
    "ax.set_ylabel('theta[radians]')\n",
    "ax.set_xlabel('t[s]')\n",
    "ax.plot(t, theta)\n",
    "fig.tight_layout()\n",
    "save_fig(\"PendulumRK4\")\n",
    "plt.show()"
   ]
  },
  {
   "cell_type": "markdown",
   "id": "09c340b0",
   "metadata": {
    "editable": true
   },
   "source": [
    "The example run here is a typical underdamped case. We could emphasize the\n",
    "oscillations by simply making the drag term smaller, that is we make\n",
    "the parameter $\\nu$ in the code smaller. Try it out.\n",
    "\n",
    "* 1c (30pts) \n",
    "\n",
    "Now we switch to Eq. ([5](#eq:pend2)) for the rest of the exercise. Add\n",
    "an external driving force and set $l=g=1$, $m=1$, $\\nu = 1/2$ and\n",
    "$\\omega = 2/3$.  Choose as initial conditions $\\theta(0) = 0.2$ and\n",
    "$v(0) = 0$ and $A=0.5$ and $A=1.2$.  Make plots of $\\theta$ (in\n",
    "radians) as function of time for at least 300 periods and phase space\n",
    "plots of $\\theta$ versus the velocity $v$. Choose an appropriate time\n",
    "step. Comment and explain the results for the different values of $A$.\n",
    "\n",
    "Here we just rerun the code with an external force."
   ]
  },
  {
   "cell_type": "code",
   "execution_count": 4,
   "id": "2e78eb73",
   "metadata": {
    "collapsed": false,
    "editable": true
   },
   "outputs": [],
   "source": [
    "DeltaT = 0.001\n",
    "#set up arrays \n",
    "tfinal = 20 # in years\n",
    "n = ceil(tfinal/DeltaT)\n",
    "# set up arrays for t, v, and x\n",
    "t = np.zeros(n)\n",
    "v = np.zeros(n)\n",
    "theta = np.zeros(n)\n",
    "# Initial conditions (can change to more than one dim)\n",
    "theta0 =  0.2 \n",
    "v0 = 0.0\n",
    "theta[0] = theta0\n",
    "v[0] = v0\n",
    "nu = 0.5\n",
    "Omegatilde = 2.0/3.0\n",
    "Ftilde = 0.5\n",
    "# Start integrating using the RK4 method\n",
    "# Note that we define the force function as a PendulumForce\n",
    "RK4(v,theta,t,n,PendulumForce)\n",
    "\n",
    "# Plot position as function of time    \n",
    "fig, ax = plt.subplots()\n",
    "ax.set_ylabel('theta[radians]')\n",
    "ax.set_xlabel('t[s]')\n",
    "ax.plot(t, theta)\n",
    "fig.tight_layout()\n",
    "save_fig(\"PendulumRK4Force05\")\n",
    "plt.show()"
   ]
  },
  {
   "cell_type": "markdown",
   "id": "2a4386fa",
   "metadata": {
    "editable": true
   },
   "source": [
    "Here we see clearly that as time increases, all information about the initial conditions is lost and the motion is governed by the external force only.\n",
    "\n",
    "* 1d **optional exercise** (20pts bonus) \n",
    "\n",
    "Keep now the constants from the previous exercise fixed but\n",
    "set now $A=1.35$, $A=1.44$ and $A=1.465$. Plot $\\theta$ (in radians)\n",
    "as function of time for at least 300 periods for these values of $A$\n",
    "and comment your results."
   ]
  },
  {
   "cell_type": "code",
   "execution_count": 5,
   "id": "e4db0b48",
   "metadata": {
    "collapsed": false,
    "editable": true
   },
   "outputs": [],
   "source": [
    "DeltaT = 0.001\n",
    "#set up arrays \n",
    "tfinal = 20 # in years\n",
    "n = ceil(tfinal/DeltaT)\n",
    "# set up arrays for t, v, and x\n",
    "t = np.zeros(n)\n",
    "v = np.zeros(n)\n",
    "theta = np.zeros(n)\n",
    "# Initial conditions (can change to more than one dim)\n",
    "theta0 =  0.2 \n",
    "v0 = 0.0\n",
    "theta[0] = theta0\n",
    "v[0] = v0\n",
    "nu = 0.5\n",
    "Omegatilde = 2.0/3.0\n",
    "Ftilde = 1.44\n",
    "# Start integrating using the RK4 method\n",
    "# Note that we define the force function as a PendulumForce\n",
    "RK4(v,theta,t,n,PendulumForce)\n",
    "\n",
    "# Plot position as function of time    \n",
    "fig, ax = plt.subplots()\n",
    "ax.set_ylabel('theta[radians]')\n",
    "ax.set_xlabel('t[s]')\n",
    "ax.plot(t, theta)\n",
    "fig.tight_layout()\n",
    "save_fig(\"PendulumRK4Force05\")\n",
    "plt.show()"
   ]
  },
  {
   "cell_type": "markdown",
   "id": "798415b1",
   "metadata": {
    "editable": true
   },
   "source": [
    "* 1e **optional exercise** (20pts bonus)\n",
    "\n",
    "We want to analyse further these results by making phase space plots\n",
    "of $\\theta$ versus the velocity $v$ using only the points where we\n",
    "have $\\omega t=2n\\pi$ where $n$ is an integer. These are normally\n",
    "called the drive periods.  This is an example of what is called a\n",
    "Poincare section and is a very useful way to plot and analyze the\n",
    "behavior of a dynamical system. Comment your results."
   ]
  },
  {
   "cell_type": "markdown",
   "id": "4d22927e",
   "metadata": {
    "editable": true
   },
   "source": [
    "### Exercise 2 (20pt), Center-of-Mass and Relative Coordinates and Reference Frames\n",
    "\n",
    "We define the two-body center-of-mass coordinate and relative coordinate by expressing the trajectories for\n",
    "$\\boldsymbol{r}_1$ and $\\boldsymbol{r}_2$ into the center-of-mass coordinate\n",
    "$\\boldsymbol{R}_{\\rm cm}$"
   ]
  },
  {
   "cell_type": "markdown",
   "id": "ff6c7594",
   "metadata": {
    "editable": true
   },
   "source": [
    "$$\n",
    "\\boldsymbol{R}_{\\rm cm}\\equiv\\frac{m_1\\boldsymbol{r}_1+m_2\\boldsymbol{r}_2}{m_1+m_2},\n",
    "$$"
   ]
  },
  {
   "cell_type": "markdown",
   "id": "eb0dae94",
   "metadata": {
    "editable": true
   },
   "source": [
    "and the relative coordinate"
   ]
  },
  {
   "cell_type": "markdown",
   "id": "5efa212f",
   "metadata": {
    "editable": true
   },
   "source": [
    "$$\n",
    "\\boldsymbol{r}\\equiv\\boldsymbol{r}_1-\\boldsymbol{r_2}.\n",
    "$$"
   ]
  },
  {
   "cell_type": "markdown",
   "id": "8a297c13",
   "metadata": {
    "editable": true
   },
   "source": [
    "Here, we assume the two particles interact only with one another, so $\\boldsymbol{F}_{12}=-\\boldsymbol{F}_{21}$ (where $\\boldsymbol{F}_{ij}$ is the force on $i$ due to $j$.\n",
    "\n",
    "* 2a (5pt) Show that the equations of motion then become $\\ddot{\\boldsymbol{R}}_{\\rm cm}=0$ and $\\mu\\ddot{\\boldsymbol{r}}=\\boldsymbol{F}_{12}$, with the reduced mass $\\mu=m_1m_2/(m_1+m_2)$.\n",
    "\n",
    "The first expression simply states that the center of mass coordinate $\\boldsymbol{R}_{\\rm cm}$ moves at a fixed velocity. The second expression can be rewritten in terms of the reduced mass $\\mu$.\n",
    "\n",
    "Let us first start with some basic definitions. We have the center of mass coordinate $\\boldsymbol{R}$ defined as (for two particles)"
   ]
  },
  {
   "cell_type": "markdown",
   "id": "15b16878",
   "metadata": {
    "editable": true
   },
   "source": [
    "$$\n",
    "\\boldsymbol{R}=\\frac{m_1\\boldsymbol{r}_1+m_2\\boldsymbol{r}_2}{M},\n",
    "$$"
   ]
  },
  {
   "cell_type": "markdown",
   "id": "db454301",
   "metadata": {
    "editable": true
   },
   "source": [
    "where $m_1$ and $m_2$ are the masses of the two objects and $\\boldsymbol{r}_1$ and $\\boldsymbol{r}_2$ their respective positions defined according to a chosen origin. Here $M=m_1+m_2$ is the total mass.\n",
    "\n",
    "The relative position is defined as"
   ]
  },
  {
   "cell_type": "markdown",
   "id": "c015d873",
   "metadata": {
    "editable": true
   },
   "source": [
    "$$\n",
    "\\boldsymbol{r} =\\boldsymbol{r}_1-\\boldsymbol{r}_2,\n",
    "$$"
   ]
  },
  {
   "cell_type": "markdown",
   "id": "6b202018",
   "metadata": {
    "editable": true
   },
   "source": [
    "and we then define $\\boldsymbol{r}_1$ and $\\boldsymbol{r}_2$ in terms of the relative and center of mass positions as"
   ]
  },
  {
   "cell_type": "markdown",
   "id": "5c21be7a",
   "metadata": {
    "editable": true
   },
   "source": [
    "$$\n",
    "\\boldsymbol{r}_1=\\boldsymbol{R}+\\frac{m_2}{M}\\boldsymbol{r},\n",
    "$$"
   ]
  },
  {
   "cell_type": "markdown",
   "id": "579b1717",
   "metadata": {
    "editable": true
   },
   "source": [
    "and"
   ]
  },
  {
   "cell_type": "markdown",
   "id": "d8861344",
   "metadata": {
    "editable": true
   },
   "source": [
    "$$\n",
    "\\boldsymbol{r}_2=\\boldsymbol{R}-\\frac{m_1}{M}\\boldsymbol{r},\n",
    "$$"
   ]
  },
  {
   "cell_type": "markdown",
   "id": "40df9b71",
   "metadata": {
    "editable": true
   },
   "source": [
    "The total linear momentum is then defined as"
   ]
  },
  {
   "cell_type": "markdown",
   "id": "b1101eb0",
   "metadata": {
    "editable": true
   },
   "source": [
    "$$\n",
    "\\boldsymbol{P}=\\sum_{i=1}^Nm_i\\frac{\\boldsymbol{r}_i}{dt},\n",
    "$$"
   ]
  },
  {
   "cell_type": "markdown",
   "id": "248ce247",
   "metadata": {
    "editable": true
   },
   "source": [
    "where $N=2$ in our case. With the above definition of the center of mass position, we see that we can rewrite the total linear momentum as (multiplying the center of mass position with $M$)"
   ]
  },
  {
   "cell_type": "markdown",
   "id": "05ecf6e1",
   "metadata": {
    "editable": true
   },
   "source": [
    "$$\n",
    "\\boldsymbol{P}=M\\frac{d\\boldsymbol{R}}{dt}=M\\dot{\\boldsymbol{R}}.\n",
    "$$"
   ]
  },
  {
   "cell_type": "markdown",
   "id": "d2c10444",
   "metadata": {
    "editable": true
   },
   "source": [
    "This result is also an answer to a part of exercise 2b, see below.\n",
    "\n",
    "The net force acting on the system is given by the time derivative of the linear momentum (assuming mass is time independent)\n",
    "and we have"
   ]
  },
  {
   "cell_type": "markdown",
   "id": "cd5bfd77",
   "metadata": {
    "editable": true
   },
   "source": [
    "$$\n",
    "\\boldsymbol{F}^{\\mathrm{net}}=\\dot{\\boldsymbol{P}}=M\\ddot{\\boldsymbol{R}}.\n",
    "$$"
   ]
  },
  {
   "cell_type": "markdown",
   "id": "aec8ffd0",
   "metadata": {
    "editable": true
   },
   "source": [
    "The net force acting on the system is given by the sum of the forces acting on the two object, that is we have"
   ]
  },
  {
   "cell_type": "markdown",
   "id": "cafa549f",
   "metadata": {
    "editable": true
   },
   "source": [
    "$$\n",
    "\\boldsymbol{F}^{\\mathrm{net}}=\\boldsymbol{F}_1+\\boldsymbol{F}_2=\\dot{\\boldsymbol{P}}=M\\ddot{\\boldsymbol{R}}.\n",
    "$$"
   ]
  },
  {
   "cell_type": "markdown",
   "id": "5dd9240a",
   "metadata": {
    "editable": true
   },
   "source": [
    "In our case the forces are given by the internal forces only. The force acting on object $1$ is thus $\\boldsymbol{F}_{12}$ and the one acting on object $2$ is $\\boldsymbol{F}_{12}$. We have also defined that $\\boldsymbol{F}_{12}=-\\boldsymbol{F}_{21}$. This means thar we have"
   ]
  },
  {
   "cell_type": "markdown",
   "id": "6200dbd6",
   "metadata": {
    "editable": true
   },
   "source": [
    "$$\n",
    "\\boldsymbol{F}_1+\\boldsymbol{F}_2=\\boldsymbol{F}_{12}+\\boldsymbol{F}_{21}=0=\\dot{\\boldsymbol{P}}=M\\ddot{\\boldsymbol{R}},\n",
    "$$"
   ]
  },
  {
   "cell_type": "markdown",
   "id": "3834e284",
   "metadata": {
    "editable": true
   },
   "source": [
    "which is what we wanted to show. The center of mass velocity is thus a constant of the motion. We could also define the so-called center of mass reference frame where we simply set $\\boldsymbol{R}=0$.\n",
    "\n",
    "This has also another important consequence for our forces. If we assume that our force depends only on the positions, it means that the gradient of the potential with respect to the center of mass position is zero, that is"
   ]
  },
  {
   "cell_type": "markdown",
   "id": "6b29b6c3",
   "metadata": {
    "editable": true
   },
   "source": [
    "$$\n",
    "M\\ddot{d\\boldsymbol{R}}=-\\boldsymbol{\\nabla}_{\\boldsymbol{R}}V =0!\n",
    "$$"
   ]
  },
  {
   "cell_type": "markdown",
   "id": "5519dcc5",
   "metadata": {
    "editable": true
   },
   "source": [
    "An alternative way is"
   ]
  },
  {
   "cell_type": "markdown",
   "id": "3f42412a",
   "metadata": {
    "editable": true
   },
   "source": [
    "$$\n",
    "\\begin{eqnarray}\n",
    "\\ddot{\\boldsymbol{R}}_{\\rm cm}&=&\\frac{1}{m_1+m_2}\\left\\{m_1\\ddot{\\boldsymbol{r}}_1+m_2\\ddot{\\boldsymbol{r}}_2\\right\\}\\\\\n",
    "\\nonumber\n",
    "&=&\\frac{1}{m_1+m_2}\\left\\{\\boldsymbol{F}_{12}+\\boldsymbol{F}_{21}\\right\\}=0.\\\\\n",
    "\\ddot{\\boldsymbol{r}}&=&\\ddot{\\boldsymbol{r}}_1-\\ddot{\\boldsymbol{r}}_2=\\left(\\frac{\\boldsymbol{F}_{12}}{m_1}-\\frac{\\boldsymbol{F}_{21}}{m_2}\\right)\\\\\n",
    "\\nonumber\n",
    "&=&\\left(\\frac{1}{m_1}+\\frac{1}{m_2}\\right)\\boldsymbol{F}_{12}.\n",
    "\\end{eqnarray}\n",
    "$$"
   ]
  },
  {
   "cell_type": "markdown",
   "id": "5977a99a",
   "metadata": {
    "editable": true
   },
   "source": [
    "The first expression simply states that the center of mass coordinate\n",
    "$\\boldsymbol{R}_{\\rm cm}$ moves at a fixed velocity. The second expression\n",
    "can be rewritten in terms of the reduced mass $\\mu$."
   ]
  },
  {
   "cell_type": "markdown",
   "id": "eb8da343",
   "metadata": {
    "editable": true
   },
   "source": [
    "$$\n",
    "\\begin{eqnarray}\n",
    "\\mu \\ddot{\\boldsymbol{r}}&=&\\boldsymbol{F}_{12},\\\\\n",
    "\\frac{1}{\\mu}&=&\\frac{1}{m_1}+\\frac{1}{m_2},~~~~\\mu=\\frac{m_1m_2}{m_1+m_2}.\n",
    "\\end{eqnarray}\n",
    "$$"
   ]
  },
  {
   "cell_type": "markdown",
   "id": "ef0c0b62",
   "metadata": {
    "editable": true
   },
   "source": [
    "Thus, one can treat the trajectory as a one-body problem where the\n",
    "reduced mass is $\\mu$, and a second trivial problem for the center of\n",
    "mass. The reduced mass is especially convenient when one is\n",
    "considering gravitational problems, as we have seen during the lectures of weeks 11-13.\n",
    "\n",
    "* 2b (5pt) Show that the linear momenta for the center-of-mass $\\boldsymbol{P}$ motion and the relative motion $\\boldsymbol{q}$ are given by $\\boldsymbol{P}=M\\dot{\\boldsymbol{R}}_{\\rm cm}$ with $M=m_1+m_2$ and $\\boldsymbol{q}=\\mu\\dot{\\boldsymbol{r}}$.  The linear momentum of the relative motion is defined $\\boldsymbol{q} = (m_2\\boldsymbol{p}_1-m_1\\boldsymbol{p}_2)/(m_1+m_2)$.\n",
    "\n",
    "In 2a we showed, as an intermediate step that the total linear momentum is given by"
   ]
  },
  {
   "cell_type": "markdown",
   "id": "5692ce0d",
   "metadata": {
    "editable": true
   },
   "source": [
    "$$\n",
    "\\boldsymbol{P}=\\sum_{i=1}^Nm_i\\frac{d\\boldsymbol{r}_i}{dt}=M\\dot{\\boldsymbol{R}}.\n",
    "$$"
   ]
  },
  {
   "cell_type": "markdown",
   "id": "90bb62a0",
   "metadata": {
    "editable": true
   },
   "source": [
    "For the relative momentum $\\boldsymbol{q}$, we have that the time derivative of $\\boldsymbol{r}$ is"
   ]
  },
  {
   "cell_type": "markdown",
   "id": "a943b824",
   "metadata": {
    "editable": true
   },
   "source": [
    "$$\n",
    "\\dot{\\boldsymbol{r}} =\\dot{\\boldsymbol{r}}_1-\\dot{\\boldsymbol{r}}_2,\n",
    "$$"
   ]
  },
  {
   "cell_type": "markdown",
   "id": "c871e567",
   "metadata": {
    "editable": true
   },
   "source": [
    "We now also that the momenta $\\boldsymbol{p}_1=m_1\\dot{\\boldsymbol{r}}_1$ and\n",
    "$\\boldsymbol{p}_2=m_2\\dot{\\boldsymbol{r}}_2$. Using these expressions we can rewrite"
   ]
  },
  {
   "cell_type": "markdown",
   "id": "f1df7dda",
   "metadata": {
    "editable": true
   },
   "source": [
    "$$\n",
    "\\dot{\\boldsymbol{r}} =\\frac{\\boldsymbol{p}_1}{m_1}-\\frac{\\boldsymbol{p}_2}{m_2},\n",
    "$$"
   ]
  },
  {
   "cell_type": "markdown",
   "id": "9b7a976b",
   "metadata": {
    "editable": true
   },
   "source": [
    "which we can rewrite as"
   ]
  },
  {
   "cell_type": "markdown",
   "id": "74331acd",
   "metadata": {
    "editable": true
   },
   "source": [
    "$$\n",
    "\\dot{\\boldsymbol{r}} =\\frac{m_2\\boldsymbol{p}_1-m_1\\boldsymbol{p}_2}{m_1m_2},\n",
    "$$"
   ]
  },
  {
   "cell_type": "markdown",
   "id": "1942b012",
   "metadata": {
    "editable": true
   },
   "source": [
    "and dividing both sides with $M$ we have"
   ]
  },
  {
   "cell_type": "markdown",
   "id": "836d582e",
   "metadata": {
    "editable": true
   },
   "source": [
    "$$\n",
    "\\frac{m_1m_2}{M}\\dot{\\boldsymbol{r}} =\\frac{m_2\\boldsymbol{p}_1-m_1\\boldsymbol{p}_2}{M}.\n",
    "$$"
   ]
  },
  {
   "cell_type": "markdown",
   "id": "4d786026",
   "metadata": {
    "editable": true
   },
   "source": [
    "Introducing the reduced mass $\\mu=m_1m_2/M$ we have finally"
   ]
  },
  {
   "cell_type": "markdown",
   "id": "2fc64912",
   "metadata": {
    "editable": true
   },
   "source": [
    "$$\n",
    "\\mu\\dot{\\boldsymbol{r}} =\\frac{m_2\\boldsymbol{p}_1-m_1\\boldsymbol{p}_2}{M}.\n",
    "$$"
   ]
  },
  {
   "cell_type": "markdown",
   "id": "ee7ae11d",
   "metadata": {
    "editable": true
   },
   "source": [
    "And $\\mu\\dot{\\boldsymbol{r}}$ defines the relative momentum $\\boldsymbol{q}=\\mu\\dot{\\boldsymbol{r}}$. \n",
    "\n",
    "When we introduce the Lagrangian formalism we will see that it is much easier to derive these equations.\n",
    "\n",
    "* 2c (5pt) Show then that the  kinetic energy for two objects can then be written as"
   ]
  },
  {
   "cell_type": "markdown",
   "id": "f6176ba9",
   "metadata": {
    "editable": true
   },
   "source": [
    "$$\n",
    "K=\\frac{P^2}{2M}+\\frac{q^2}{2\\mu}.\n",
    "$$"
   ]
  },
  {
   "cell_type": "markdown",
   "id": "fbbe5852",
   "metadata": {
    "editable": true
   },
   "source": [
    "Here we just need to use our definitions of kinetic energy in terms of the coordinates $\\boldsymbol{r}_1$ and $\\boldsymbol{r}_2$.\n",
    "\n",
    "We have that"
   ]
  },
  {
   "cell_type": "markdown",
   "id": "01f6448b",
   "metadata": {
    "editable": true
   },
   "source": [
    "$$\n",
    "K=\\frac{p_1^2}{2m_1}+\\frac{p_2^2}{2m_2},\n",
    "$$"
   ]
  },
  {
   "cell_type": "markdown",
   "id": "18a6a21c",
   "metadata": {
    "editable": true
   },
   "source": [
    "and with $\\boldsymbol{p}_1=m_1\\dot{\\boldsymbol{r}}_1$ and $\\boldsymbol{p}_2=m_2\\dot{\\boldsymbol{r}}_2$ and using"
   ]
  },
  {
   "cell_type": "markdown",
   "id": "a94f9c98",
   "metadata": {
    "editable": true
   },
   "source": [
    "$$\n",
    "\\dot{\\boldsymbol{r}}_1=\\dot{\\boldsymbol{R}}+\\frac{m_2}{M}\\dot{\\boldsymbol{r}},\n",
    "$$"
   ]
  },
  {
   "cell_type": "markdown",
   "id": "5fa9c24f",
   "metadata": {
    "editable": true
   },
   "source": [
    "and"
   ]
  },
  {
   "cell_type": "markdown",
   "id": "9d5d346f",
   "metadata": {
    "editable": true
   },
   "source": [
    "$$\n",
    "\\dot{\\boldsymbol{r}}_2=\\dot{\\boldsymbol{R}}-\\frac{m_1}{M}\\dot{\\boldsymbol{r}},\n",
    "$$"
   ]
  },
  {
   "cell_type": "markdown",
   "id": "b3f8f71f",
   "metadata": {
    "editable": true
   },
   "source": [
    "we obtain (after squaring the expressions for $\\dot{\\boldsymbol{r}}_1$ and $\\dot{\\boldsymbol{r}}_2$) we have"
   ]
  },
  {
   "cell_type": "markdown",
   "id": "f24f3a06",
   "metadata": {
    "editable": true
   },
   "source": [
    "$$\n",
    "K=\\frac{(m_1+m_2)\\dot{\\boldsymbol{R}}^2}{2}+\\frac{(m_1+m_2)m_1m_2\\dot{\\boldsymbol{r}}^2}{2M^2},\n",
    "$$"
   ]
  },
  {
   "cell_type": "markdown",
   "id": "e42908a3",
   "metadata": {
    "editable": true
   },
   "source": [
    "which we simplify to"
   ]
  },
  {
   "cell_type": "markdown",
   "id": "f2bfc431",
   "metadata": {
    "editable": true
   },
   "source": [
    "$$\n",
    "K=\\frac{\\dot{\\boldsymbol{P}}^2}{2M}+\\frac{\\mu\\dot{\\boldsymbol{q}}^2}{2},\n",
    "$$"
   ]
  },
  {
   "cell_type": "markdown",
   "id": "a44ee407",
   "metadata": {
    "editable": true
   },
   "source": [
    "which is what we wanted to show.\n",
    "\n",
    "* 2d (5pt) Show that the total angular momentum for two-particles in the center-of-mass frame $\\boldsymbol{R}=0$, is given by"
   ]
  },
  {
   "cell_type": "markdown",
   "id": "35f08bef",
   "metadata": {
    "editable": true
   },
   "source": [
    "$$\n",
    "\\boldsymbol{L}=\\boldsymbol{r}\\times \\mu\\dot{\\boldsymbol{r}}.\n",
    "$$"
   ]
  },
  {
   "cell_type": "markdown",
   "id": "69c41c89",
   "metadata": {
    "editable": true
   },
   "source": [
    "Here we need again that"
   ]
  },
  {
   "cell_type": "markdown",
   "id": "f0eb8508",
   "metadata": {
    "editable": true
   },
   "source": [
    "$$\n",
    "\\boldsymbol{r} =\\boldsymbol{r}_1-\\boldsymbol{r}_2,\n",
    "$$"
   ]
  },
  {
   "cell_type": "markdown",
   "id": "de8da1d1",
   "metadata": {
    "editable": true
   },
   "source": [
    "and we then define $\\boldsymbol{r}_1$ and $\\boldsymbol{r}_2$ in terms of the relative and center of mass positions with $\\boldsymbol{R}=0$"
   ]
  },
  {
   "cell_type": "markdown",
   "id": "fe1a1520",
   "metadata": {
    "editable": true
   },
   "source": [
    "$$\n",
    "\\boldsymbol{r}_1=\\frac{m_2}{M}\\boldsymbol{r},\n",
    "$$"
   ]
  },
  {
   "cell_type": "markdown",
   "id": "91590244",
   "metadata": {
    "editable": true
   },
   "source": [
    "and"
   ]
  },
  {
   "cell_type": "markdown",
   "id": "fcf5991b",
   "metadata": {
    "editable": true
   },
   "source": [
    "$$\n",
    "\\boldsymbol{r}_2=-\\frac{m_1}{M}\\boldsymbol{r},\n",
    "$$"
   ]
  },
  {
   "cell_type": "markdown",
   "id": "619226b2",
   "metadata": {
    "editable": true
   },
   "source": [
    "The angular momentum (the total one) is the sum of the individual angular momenta (see homework 4) and we have"
   ]
  },
  {
   "cell_type": "markdown",
   "id": "7120ee53",
   "metadata": {
    "editable": true
   },
   "source": [
    "$$\n",
    "\\boldsymbol{L} = \\boldsymbol{r}_1 \\times \\boldsymbol{p}_1+\\boldsymbol{r}_2 \\times \\boldsymbol{p}_2,\n",
    "$$"
   ]
  },
  {
   "cell_type": "markdown",
   "id": "49e1a5cd",
   "metadata": {
    "editable": true
   },
   "source": [
    "and using that $m_1\\dot{\\boldsymbol{r}}_1=\\boldsymbol{p}_1$ and $m_2\\dot{\\boldsymbol{r}}_2=\\boldsymbol{p}_2$ we have"
   ]
  },
  {
   "cell_type": "markdown",
   "id": "7472b6e1",
   "metadata": {
    "editable": true
   },
   "source": [
    "$$\n",
    "\\boldsymbol{L} = m_1\\boldsymbol{r}_1 \\times \\dot{\\boldsymbol{r}}_1+m_2\\boldsymbol{r}_2 \\times \\dot{\\boldsymbol{r}}_2.\n",
    "$$"
   ]
  },
  {
   "cell_type": "markdown",
   "id": "584e462a",
   "metadata": {
    "editable": true
   },
   "source": [
    "Inserting the equations for $\\boldsymbol{r}_1$ and $\\boldsymbol{r}_2$ in terms of the relative motion, we have"
   ]
  },
  {
   "cell_type": "markdown",
   "id": "fa19545a",
   "metadata": {
    "editable": true
   },
   "source": [
    "$$\n",
    "\\boldsymbol{L} = m_1 \\frac{m_2}{M}\\boldsymbol{r}\\times\\frac{m_2}{M}\\boldsymbol{r} +m_2 \\frac{m_1}{M}\\boldsymbol{r} \\times \\frac{m_1}{M}\\dot{\\boldsymbol{r}}.\n",
    "$$"
   ]
  },
  {
   "cell_type": "markdown",
   "id": "d2dbad35",
   "metadata": {
    "editable": true
   },
   "source": [
    "We see that can rewrite this equation as"
   ]
  },
  {
   "cell_type": "markdown",
   "id": "7e01aa0c",
   "metadata": {
    "editable": true
   },
   "source": [
    "$$\n",
    "\\boldsymbol{L}=\\boldsymbol{r}\\times \\mu\\dot{\\boldsymbol{r}},\n",
    "$$"
   ]
  },
  {
   "cell_type": "markdown",
   "id": "84c42d2e",
   "metadata": {
    "editable": true
   },
   "source": [
    "which is what we wanted to derive."
   ]
  }
 ],
 "metadata": {},
 "nbformat": 4,
 "nbformat_minor": 5
}
