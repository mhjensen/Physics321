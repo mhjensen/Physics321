{
 "cells": [
  {
   "cell_type": "markdown",
   "id": "b96b9f05",
   "metadata": {},
   "source": [
    "<!-- HTML file automatically generated from DocOnce source (https://github.com/doconce/doconce/)\n",
    "doconce format html solutionhw9.do.txt  -->\n",
    "<!-- dom:TITLE: PHY321: Classical Mechanics 1 -->"
   ]
  },
  {
   "cell_type": "markdown",
   "id": "78efdc17",
   "metadata": {},
   "source": [
    "# PHY321: Classical Mechanics 1\n",
    "**Solution Homework 9, due Monday  April 5**\n",
    "\n",
    "Date: **Apr 28, 2023**"
   ]
  },
  {
   "cell_type": "markdown",
   "id": "ebf21af8",
   "metadata": {},
   "source": [
    "### Introduction to homework 9\n",
    "\n",
    "This week's exercises focus on solving\n",
    "two-body  problems with central forces. It is based on what you did in hw7 and hw8, see also their respective solutions."
   ]
  },
  {
   "cell_type": "markdown",
   "id": "b0880393",
   "metadata": {},
   "source": [
    "### Exercise 1: Attractive Potential (10pt)\n",
    "\n",
    "Consider a particle in an attractive potential"
   ]
  },
  {
   "cell_type": "markdown",
   "id": "b857d7bf",
   "metadata": {},
   "source": [
    "$$\n",
    "U(r)=-\\alpha/r.\n",
    "$$"
   ]
  },
  {
   "cell_type": "markdown",
   "id": "3df89e19",
   "metadata": {},
   "source": [
    "The quantity $r$ is the absolute value of the relative position. We\n",
    "will use the reduced mass $\\mu$ and the angular momentum $L$, as\n",
    "discussed during the lectures. With the transformation of a two-body\n",
    "problem to the center-of-mass frame, the actual equations look like an\n",
    "*effective* one-body problem. The energy of the system is $E$ and the\n",
    "minimum of the effective potential is $r_{\\rm min}$.\n",
    "\n",
    "The analytical solution to the radial equation of motion is"
   ]
  },
  {
   "cell_type": "markdown",
   "id": "a4be5b16",
   "metadata": {},
   "source": [
    "$$\n",
    "r(\\phi) = \\frac{1}{\\frac{\\mu\\alpha}{L^2}+A\\cos{(\\phi)}}.\n",
    "$$"
   ]
  },
  {
   "cell_type": "markdown",
   "id": "b05cb999",
   "metadata": {},
   "source": [
    "Find the value of $A$. Hint: Use the fact that at $r_{\\rm min}$\n",
    "there is no radial kinetic energy and $E=-\\alpha/r_{\\rm min}+L^2/2mr_{\\rm min}^2$.\n",
    "\n",
    "At  $r_{\\mathrm{min}}$  and $r_{\\mathrm{max}}$ , all the kinetic energy is stored in the velocity in the direction perpendicular to $r$  since the radial velocity is set to zero . We can calculate using angular momentum and from there, find  𝐴  in terms of the energy  $E$  which is constant. But first, we need to find $r_{\\mathrm{min}}$  from the conservation of energy (noting that the radial velocity $\\dot{r}$ at the mininum is zero):"
   ]
  },
  {
   "cell_type": "markdown",
   "id": "35ef6b1d",
   "metadata": {},
   "source": [
    "$$\n",
    "E = U(r) + \\frac{1}{2} \\mu(\\dot{r}^2 + (r\\dot{\\phi})^2)\n",
    "\\\\\n",
    "E = \\frac{-\\alpha}{r_{\\min}} + \\frac{1}{2} \\mu\\left( \\frac{L}{\\mu r_{\\min}}\\right) ^2\n",
    "\\\\\n",
    "E r_{\\min}^2 - \\frac{1}{2}\\mu\\left( \\frac{L}{\\mu}\\right) ^2 + \\alpha r_{\\min} = 0\n",
    "\\\\\n",
    "r_{\\min}^2 + \\frac{\\alpha}{E} r_{\\min} - \\frac{L^2}{2E\\mu} = 0\n",
    "\\\\\n",
    "r_{\\min} = - \\frac{\\alpha}{2E} \\pm \\frac{1}{2} \\sqrt{\\frac{\\alpha^2}{E^2} + 2\\frac{L^2}{E\\mu}}\n",
    "$$"
   ]
  },
  {
   "cell_type": "markdown",
   "id": "a723a5f3",
   "metadata": {},
   "source": [
    "Since we're looking for the minimum, the  $\\pm$  sign must be negative (then  $r_min$  will not be negative since  $E<0$ ). Therefore, we have"
   ]
  },
  {
   "cell_type": "markdown",
   "id": "8e9833d1",
   "metadata": {},
   "source": [
    "$$\n",
    "\\frac{1}{\\frac{\\mu\\alpha}{L^2}+A} = -\\frac{\\alpha}{2E} - \\frac{1}{2} \\sqrt{\\frac{\\alpha^2}{E^2} + 2\\frac{L^2}{E\\mu}}\n",
    "\\\\\n",
    "A = - \\frac{\\mu\\alpha}{L^2} - \\frac{2E}{\\alpha + \\sqrt{\\alpha^2 + 2\\frac{L^2E}{\\mu}}}\n",
    "$$"
   ]
  },
  {
   "cell_type": "markdown",
   "id": "6d184e36",
   "metadata": {},
   "source": [
    "### Exercise 2 (20pt) Inverse-square force\n",
    "\n",
    "Consider again the same effective potential as in exercise 1. This leads to an attractive inverse-square-law force, $F=-\\alpha/r^2$. Consider a particle of mass $m$ with angular momentum $L$. Taylor sections 8.4-8.7 are relevant background material.  See also the harmonic oscillator potential from hw8. The equation of motion for the radial degrees of freedom is (see also hw8) in the center-of-mass frame in two dimensions with $x=r\\cos{(\\phi)}$ and $y=r\\sin{(\\phi)}$ and\n",
    "$r\\in [0,\\infty)$, $\\phi\\in [0,2\\pi]$ and $r=\\sqrt{x^2+y^2}$ are given by"
   ]
  },
  {
   "cell_type": "markdown",
   "id": "998d36ad",
   "metadata": {},
   "source": [
    "$$\n",
    "\\ddot{r}=-\\frac{1}{m}\\frac{dV(r)}{dr}+r\\dot{\\phi}^2,\n",
    "$$"
   ]
  },
  {
   "cell_type": "markdown",
   "id": "a8c8dc7d",
   "metadata": {},
   "source": [
    "and"
   ]
  },
  {
   "cell_type": "markdown",
   "id": "7fbc68bb",
   "metadata": {},
   "source": [
    "$$\n",
    "\\dot{\\phi}=\\frac{L}{m r^2}.\n",
    "$$"
   ]
  },
  {
   "cell_type": "markdown",
   "id": "bd0b1ba5",
   "metadata": {},
   "source": [
    "Here $V(r)$ is any central force which depends only on the relative coordinate.\n",
    "\n",
    "* 2a (5pt)  Find the radius of a circular orbit by solving for the position of the minimum of the effective potential."
   ]
  },
  {
   "cell_type": "markdown",
   "id": "eaf99cce",
   "metadata": {},
   "source": [
    "<!-- Equation labels as ordinary links -->\n",
    "<div id=\"_auto1\"></div>\n",
    "\n",
    "$$\n",
    "\\begin{equation}\n",
    "\\frac{1}{m}\\frac{dV(r)}{dr}  = r\\dot{\\phi}^2\n",
    "\\label{_auto1} \\tag{1}\n",
    "\\end{equation}\n",
    "$$"
   ]
  },
  {
   "cell_type": "markdown",
   "id": "0e7d740b",
   "metadata": {},
   "source": [
    "<!-- Equation labels as ordinary links -->\n",
    "<div id=\"_auto2\"></div>\n",
    "\n",
    "$$\n",
    "\\begin{equation}  \\frac{1}{m}\\left( -\\frac{-\\alpha}{r^2}\\right)   = r \\frac{L^2}{m^2r^4}\n",
    "\\label{_auto2} \\tag{2}\n",
    "\\end{equation}\n",
    "$$"
   ]
  },
  {
   "cell_type": "markdown",
   "id": "8dd5e246",
   "metadata": {},
   "source": [
    "<!-- Equation labels as ordinary links -->\n",
    "<div id=\"_auto3\"></div>\n",
    "\n",
    "$$\n",
    "\\begin{equation}  \\frac{\\alpha}{mr^2}  = \\frac{L^2}{m^2r^3}\n",
    "\\label{_auto3} \\tag{3}\n",
    "\\end{equation}\n",
    "$$"
   ]
  },
  {
   "cell_type": "markdown",
   "id": "2eb4f4fa",
   "metadata": {},
   "source": [
    "<!-- Equation labels as ordinary links -->\n",
    "<div id=\"_auto4\"></div>\n",
    "\n",
    "$$\n",
    "\\begin{equation}  r  = \\frac{L^2}{m\\alpha}\n",
    "\\label{_auto4} \\tag{4}\n",
    "\\end{equation}\n",
    "$$"
   ]
  },
  {
   "cell_type": "markdown",
   "id": "87f809e5",
   "metadata": {},
   "source": [
    "* 2b (5pt) At the minimum, the radial velocity is zero and it is only the [centripetal velocity](https://en.wikipedia.org/wiki/Centripetal_force) which is nonzero. This implies that $\\ddot{r}=0$.  What is the angular frequency, $\\dot{\\theta}$, of the orbit? Solve this by setting $\\ddot{r}=0=F/m+\\dot{\\theta}^2r$."
   ]
  },
  {
   "cell_type": "markdown",
   "id": "93458c50",
   "metadata": {},
   "source": [
    "<!-- Equation labels as ordinary links -->\n",
    "<div id=\"_auto5\"></div>\n",
    "\n",
    "$$\n",
    "\\begin{equation}\n",
    "\\dot{\\theta}^2 r  = - \\frac{F}{m}\n",
    "\\label{_auto5} \\tag{5}\n",
    "\\end{equation}\n",
    "$$"
   ]
  },
  {
   "cell_type": "markdown",
   "id": "aaec3c34",
   "metadata": {},
   "source": [
    "<!-- Equation labels as ordinary links -->\n",
    "<div id=\"_auto6\"></div>\n",
    "\n",
    "$$\n",
    "\\begin{equation}  \\dot{\\theta}^2 r  = - \\frac{-\\frac{\\alpha}{r^2}}{m}\n",
    "\\label{_auto6} \\tag{6}\n",
    "\\end{equation}\n",
    "$$"
   ]
  },
  {
   "cell_type": "markdown",
   "id": "838336fc",
   "metadata": {},
   "source": [
    "<!-- Equation labels as ordinary links -->\n",
    "<div id=\"_auto7\"></div>\n",
    "\n",
    "$$\n",
    "\\begin{equation}  \\dot{\\theta}^2  = \\frac{\\alpha}{mr^3}\n",
    "\\label{_auto7} \\tag{7}\n",
    "\\end{equation}\n",
    "$$"
   ]
  },
  {
   "cell_type": "markdown",
   "id": "4acf0681",
   "metadata": {},
   "source": [
    "<!-- Equation labels as ordinary links -->\n",
    "<div id=\"_auto8\"></div>\n",
    "\n",
    "$$\n",
    "\\begin{equation}  \\dot{\\theta}  = \\pm \\sqrt{\\frac{\\alpha}{mr^3}}\n",
    "\\label{_auto8} \\tag{8}\n",
    "\\end{equation}\n",
    "$$"
   ]
  },
  {
   "cell_type": "markdown",
   "id": "851f749e",
   "metadata": {},
   "source": [
    "<!-- Equation labels as ordinary links -->\n",
    "<div id=\"_auto9\"></div>\n",
    "\n",
    "$$\n",
    "\\begin{equation}  \\dot{\\theta}  = \\pm \\sqrt{\\frac{\\alpha}{m\\frac{L^6}{m^3\\alpha^3}}}\n",
    "\\label{_auto9} \\tag{9}\n",
    "\\end{equation}\n",
    "$$"
   ]
  },
  {
   "cell_type": "markdown",
   "id": "e3cf3573",
   "metadata": {},
   "source": [
    "<!-- Equation labels as ordinary links -->\n",
    "<div id=\"_auto10\"></div>\n",
    "\n",
    "$$\n",
    "\\begin{equation}  \\dot{\\theta}  = \\pm \\sqrt{\\frac{\\alpha^4m^2}{L^6}}\n",
    "\\label{_auto10} \\tag{10}\n",
    "\\end{equation}\n",
    "$$"
   ]
  },
  {
   "cell_type": "markdown",
   "id": "7178ce75",
   "metadata": {},
   "source": [
    "<!-- Equation labels as ordinary links -->\n",
    "<div id=\"_auto11\"></div>\n",
    "\n",
    "$$\n",
    "\\begin{equation}  \\dot{\\theta}  = \\pm \\frac{\\alpha^2m}{L^3}\n",
    "\\label{_auto11} \\tag{11}\n",
    "\\end{equation}\n",
    "$$"
   ]
  },
  {
   "cell_type": "markdown",
   "id": "7923222e",
   "metadata": {},
   "source": [
    "* 2c (5pt) Find the effective spring constant for the particle at the minimum.\n",
    "\n",
    "We have shown in class that from the taylor expansion, we have"
   ]
  },
  {
   "cell_type": "markdown",
   "id": "2d488e98",
   "metadata": {},
   "source": [
    "$$\n",
    "k = \\frac{d^2V_{\\text{eff}}}{dr^2}\n",
    "$$"
   ]
  },
  {
   "cell_type": "markdown",
   "id": "48cd1e50",
   "metadata": {},
   "source": [
    "Therefore, all we have to do is find the second derivative of $V_{\\text{eff}}$ around the minimum point of $V_{\\text{eff}}$ where $\\dot{r} = \\ddot{r} = 0$."
   ]
  },
  {
   "cell_type": "markdown",
   "id": "c28d3bb4",
   "metadata": {},
   "source": [
    "<!-- Equation labels as ordinary links -->\n",
    "<div id=\"_auto12\"></div>\n",
    "\n",
    "$$\n",
    "\\begin{equation}\n",
    "k  = \\frac{d^2V_{\\text{eff}}}{dr^2}\n",
    "\\label{_auto12} \\tag{12}\n",
    "\\end{equation}\n",
    "$$"
   ]
  },
  {
   "cell_type": "markdown",
   "id": "ab5cb339",
   "metadata": {},
   "source": [
    "<!-- Equation labels as ordinary links -->\n",
    "<div id=\"_auto13\"></div>\n",
    "\n",
    "$$\n",
    "\\begin{equation}   = \\frac{d^2\\left( -\\frac{\\alpha}{r} + \\frac{1}{2} \\frac{L^2}{mr^2}\\right) }{dr^2}\n",
    "\\label{_auto13} \\tag{13}\n",
    "\\end{equation}\n",
    "$$"
   ]
  },
  {
   "cell_type": "markdown",
   "id": "17153aa1",
   "metadata": {},
   "source": [
    "<!-- Equation labels as ordinary links -->\n",
    "<div id=\"_auto14\"></div>\n",
    "\n",
    "$$\n",
    "\\begin{equation}   = -\\frac{2\\alpha}{r^3} + \\frac{3L^2}{mr^4}\n",
    "\\label{_auto14} \\tag{14}\n",
    "\\end{equation}\n",
    "$$"
   ]
  },
  {
   "cell_type": "markdown",
   "id": "1e04e619",
   "metadata": {},
   "source": [
    "<!-- Equation labels as ordinary links -->\n",
    "<div id=\"_auto15\"></div>\n",
    "\n",
    "$$\n",
    "\\begin{equation}   = -\\frac{2\\alpha}{\\frac{L^6}{m^3\\alpha^3}} + \\frac{3L^2}{m\\frac{L^8}{m^4\\alpha^4}}\n",
    "\\label{_auto15} \\tag{15}\n",
    "\\end{equation}\n",
    "$$"
   ]
  },
  {
   "cell_type": "markdown",
   "id": "2f10bb17",
   "metadata": {},
   "source": [
    "<!-- Equation labels as ordinary links -->\n",
    "<div id=\"_auto16\"></div>\n",
    "\n",
    "$$\n",
    "\\begin{equation}   = -\\frac{2m^3\\alpha^4}{L^6} + \\frac{3m^3\\alpha^4}{L^6}\n",
    "\\label{_auto16} \\tag{16}\n",
    "\\end{equation}\n",
    "$$"
   ]
  },
  {
   "cell_type": "markdown",
   "id": "ff7c4e0f",
   "metadata": {},
   "source": [
    "<!-- Equation labels as ordinary links -->\n",
    "<div id=\"_auto17\"></div>\n",
    "\n",
    "$$\n",
    "\\begin{equation}   = \\frac{m^3\\alpha^4}{L^6}\n",
    "\\label{_auto17} \\tag{17}\n",
    "\\end{equation}\n",
    "$$"
   ]
  },
  {
   "cell_type": "markdown",
   "id": "9387e69c",
   "metadata": {},
   "source": [
    "* 2d (5pt) What is the angular frequency for small vibrations about the minimum? How does this compare with the answer to (3b)?\n",
    "\n",
    "For small deviations $\\delta r$ of $r$,"
   ]
  },
  {
   "cell_type": "markdown",
   "id": "08eac1a7",
   "metadata": {},
   "source": [
    "$$\n",
    "m\\frac{d^2\\left(  \\delta r \\right) }{dt^2} = -k \\delta r\n",
    "$$"
   ]
  },
  {
   "cell_type": "markdown",
   "id": "c9bd97e2",
   "metadata": {},
   "source": [
    "The solution of this differential equation is of the form"
   ]
  },
  {
   "cell_type": "markdown",
   "id": "fcff8d47",
   "metadata": {},
   "source": [
    "$$\n",
    "\\delta r = A \\cos(\\omega t + \\phi)\n",
    "$$"
   ]
  },
  {
   "cell_type": "markdown",
   "id": "1edf08aa",
   "metadata": {},
   "source": [
    "where"
   ]
  },
  {
   "cell_type": "markdown",
   "id": "699ebdba",
   "metadata": {},
   "source": [
    "<!-- Equation labels as ordinary links -->\n",
    "<div id=\"_auto18\"></div>\n",
    "\n",
    "$$\n",
    "\\begin{equation}\n",
    "\\omega =  \\sqrt{\\frac{k}{m}}\n",
    "\\label{_auto18} \\tag{18}\n",
    "\\end{equation}\n",
    "$$"
   ]
  },
  {
   "cell_type": "markdown",
   "id": "8ec2df6a",
   "metadata": {},
   "source": [
    "<!-- Equation labels as ordinary links -->\n",
    "<div id=\"_auto19\"></div>\n",
    "\n",
    "$$\n",
    "\\begin{equation}   = \\sqrt{\\frac{m^2\\alpha^4}{L^6}} \n",
    "\\label{_auto19} \\tag{19}\n",
    "\\end{equation}\n",
    "$$"
   ]
  },
  {
   "cell_type": "markdown",
   "id": "b3217cf7",
   "metadata": {},
   "source": [
    "<!-- Equation labels as ordinary links -->\n",
    "<div id=\"_auto20\"></div>\n",
    "\n",
    "$$\n",
    "\\begin{equation}   = \\frac{m\\alpha^2}{L^3}\n",
    "\\label{_auto20} \\tag{20}\n",
    "\\end{equation}\n",
    "$$"
   ]
  },
  {
   "cell_type": "markdown",
   "id": "2316305e",
   "metadata": {},
   "source": [
    "This is in fact equal to the expression for $\\dot{\\theta}$. This means that small perturbations oscillate in sync with the orbit and this traces out an ellipse with a very small eccentricity, a very nice physical result."
   ]
  },
  {
   "cell_type": "markdown",
   "id": "5fd5676f",
   "metadata": {},
   "source": [
    "### Exercise 3, Inverse-square force again (10pt)\n",
    "\n",
    "Consider again a  particle of mass $m$ in the same attractive potential, $U(r)=-\\alpha/r$, with angular momentum $L$ with just the right energy so that"
   ]
  },
  {
   "cell_type": "markdown",
   "id": "3356339b",
   "metadata": {},
   "source": [
    "$$\n",
    "A=m\\alpha/L^2\n",
    "$$"
   ]
  },
  {
   "cell_type": "markdown",
   "id": "dee94797",
   "metadata": {},
   "source": [
    "where $A$ comes from the expression"
   ]
  },
  {
   "cell_type": "markdown",
   "id": "8ad7338e",
   "metadata": {},
   "source": [
    "$$\n",
    "r=\\frac{1}{(m\\alpha/L^2)+A\\cos{(\\phi)}}.\n",
    "$$"
   ]
  },
  {
   "cell_type": "markdown",
   "id": "696eda7d",
   "metadata": {},
   "source": [
    "The trajectory can then be rewritten as"
   ]
  },
  {
   "cell_type": "markdown",
   "id": "f2f18d36",
   "metadata": {},
   "source": [
    "$$\n",
    "r=\\frac{2r_0}{1+\\cos\\theta},~~~r_0=\\frac{L^2}{2m\\alpha}.\n",
    "$$"
   ]
  },
  {
   "cell_type": "markdown",
   "id": "e896cef9",
   "metadata": {},
   "source": [
    "* 3a (5pt) Show that for this case the total energy $E$ approaches zero."
   ]
  },
  {
   "cell_type": "markdown",
   "id": "10e7eae0",
   "metadata": {},
   "source": [
    "<!-- Equation labels as ordinary links -->\n",
    "<div id=\"_auto21\"></div>\n",
    "\n",
    "$$\n",
    "\\begin{equation}\n",
    "E  = - \\frac{\\alpha}{r} + \\frac{1}{2} m \\left(  (\\dot{\\theta}r)^2+\\dot{r}^2\\right) \n",
    "\\label{_auto21} \\tag{21}\n",
    "\\end{equation}\n",
    "$$"
   ]
  },
  {
   "cell_type": "markdown",
   "id": "27941f78",
   "metadata": {},
   "source": [
    "<!-- Equation labels as ordinary links -->\n",
    "<div id=\"_auto22\"></div>\n",
    "\n",
    "$$\n",
    "\\begin{equation}   = - \\frac{\\alpha}{r} + \\frac{1}{2} m \\left[  \\left( \\frac{L}{mr^2}r\\right) ^2+\\left( \\frac{dr}{d\\theta}\\dot{\\theta}\\right) ^2\\right] \n",
    "\\label{_auto22} \\tag{22}\n",
    "\\end{equation}\n",
    "$$"
   ]
  },
  {
   "cell_type": "markdown",
   "id": "692a2d75",
   "metadata": {},
   "source": [
    "<!-- Equation labels as ordinary links -->\n",
    "<div id=\"_auto23\"></div>\n",
    "\n",
    "$$\n",
    "\\begin{equation}   = - \\frac{\\alpha}{2r_0}(1+\\cos\\theta) + \\frac{1}{2} m \\left[  \\left( \\frac{L(1+\\cos\\theta)}{2mr_0}\\right) ^2+\\left( 2r_0\\frac{-1}{(1+\\cos\\theta)^2}(-\\sin\\theta)\\frac{L}{mr^2}\\right) ^2\\right] \n",
    "\\label{_auto23} \\tag{23}\n",
    "\\end{equation}\n",
    "$$"
   ]
  },
  {
   "cell_type": "markdown",
   "id": "d95d790a",
   "metadata": {},
   "source": [
    "<!-- Equation labels as ordinary links -->\n",
    "<div id=\"_auto24\"></div>\n",
    "\n",
    "$$\n",
    "\\begin{equation}   = - \\frac{\\alpha}{2r_0}(1+\\cos\\theta) + \\frac{1}{2} m \\left[  \\left( \\frac{L(1+\\cos\\theta)}{2mr_0}\\right) ^2+\\left( 2r_0\\frac{-1}{(1+\\cos\\theta)^2}(-\\sin\\theta)\\frac{L(1+\\cos\\theta)^2}{4mr_0^2}\\right) ^2\\right] \n",
    "\\label{_auto24} \\tag{24}\n",
    "\\end{equation}\n",
    "$$"
   ]
  },
  {
   "cell_type": "markdown",
   "id": "53e5b59a",
   "metadata": {},
   "source": [
    "<!-- Equation labels as ordinary links -->\n",
    "<div id=\"_auto25\"></div>\n",
    "\n",
    "$$\n",
    "\\begin{equation}   = - \\frac{\\alpha}{2r_0}(1+\\cos\\theta) + \n",
    "\\frac{1}{2} m \\left[  \\left( \\frac{L(1+\\cos\\theta)}{2mr_0}\\right) ^2+\\left( \\sin\\theta\\frac{L}{2mr_0}\\right) ^2\\right] \n",
    "\\label{_auto25} \\tag{25}\n",
    "\\end{equation}\n",
    "$$"
   ]
  },
  {
   "cell_type": "markdown",
   "id": "631604f8",
   "metadata": {},
   "source": [
    "<!-- Equation labels as ordinary links -->\n",
    "<div id=\"_auto26\"></div>\n",
    "\n",
    "$$\n",
    "\\begin{equation}   = - \\frac{\\alpha}{2r_0}(1+\\cos\\theta) + \n",
    "\\frac{1}{2} m \\left[  \\left( \\frac{L(1+\\cos\\theta)}{2mr_0}\\right) ^2+\\left( \\sin\\theta\\frac{L}{2mr_0}\\right) ^2\\right] \n",
    "\\label{_auto26} \\tag{26}\n",
    "\\end{equation}\n",
    "$$"
   ]
  },
  {
   "cell_type": "markdown",
   "id": "bd71318a",
   "metadata": {},
   "source": [
    "<!-- Equation labels as ordinary links -->\n",
    "<div id=\"_auto27\"></div>\n",
    "\n",
    "$$\n",
    "\\begin{equation}   = - \\frac{\\alpha}{2r_0}(1+\\cos\\theta) + \n",
    "\\frac{1}{2} m \\frac{L^2}{4m^2r_0^2} \\left[  \\left( 1+\\cos\\theta\\right) ^2+\\left( \\sin\\theta\\right) ^2\\right] \n",
    "\\label{_auto27} \\tag{27}\n",
    "\\end{equation}\n",
    "$$"
   ]
  },
  {
   "cell_type": "markdown",
   "id": "fb0892f3",
   "metadata": {},
   "source": [
    "<!-- Equation labels as ordinary links -->\n",
    "<div id=\"_auto28\"></div>\n",
    "\n",
    "$$\n",
    "\\begin{equation}   = - \\frac{\\alpha}{2r_0}(1+\\cos\\theta) + \n",
    "\\frac{1}{2} \\frac{L^2}{4mr_0^2} \\left(  1 + \\cos^2\\theta + 2\\cos \\theta + \\sin^2\\theta\\right) \n",
    "\\label{_auto28} \\tag{28}\n",
    "\\end{equation}\n",
    "$$"
   ]
  },
  {
   "cell_type": "markdown",
   "id": "336081db",
   "metadata": {},
   "source": [
    "<!-- Equation labels as ordinary links -->\n",
    "<div id=\"_auto29\"></div>\n",
    "\n",
    "$$\n",
    "\\begin{equation}   = - \\frac{\\alpha}{2r_0}(1+\\cos\\theta) + \n",
    "\\frac{1}{2} \\frac{L^2}{4mr_0^2} \\left(  2 + 2\\cos \\theta \\right) \n",
    "\\label{_auto29} \\tag{29}\n",
    "\\end{equation}\n",
    "$$"
   ]
  },
  {
   "cell_type": "markdown",
   "id": "df014440",
   "metadata": {},
   "source": [
    "<!-- Equation labels as ordinary links -->\n",
    "<div id=\"_auto30\"></div>\n",
    "\n",
    "$$\n",
    "\\begin{equation}   = (1+\\cos\\theta) \\left( - \\frac{\\alpha}{2r_0} + \\frac{L^2}{4mr_0^2}\\right) \n",
    "\\label{_auto30} \\tag{30}\n",
    "\\end{equation}\n",
    "$$"
   ]
  },
  {
   "cell_type": "markdown",
   "id": "56706f97",
   "metadata": {},
   "source": [
    "<!-- Equation labels as ordinary links -->\n",
    "<div id=\"_auto31\"></div>\n",
    "\n",
    "$$\n",
    "\\begin{equation}   = (1+\\cos\\theta) \\left( - \\frac{\\alpha}{2\\frac{L^2}{2m\\alpha}} + \\frac{L^2}{4m\\frac{L^4}{4m^2\\alpha^2}}\\right) \n",
    "\\label{_auto31} \\tag{31}\n",
    "\\end{equation}\n",
    "$$"
   ]
  },
  {
   "cell_type": "markdown",
   "id": "70f7382d",
   "metadata": {},
   "source": [
    "<!-- Equation labels as ordinary links -->\n",
    "<div id=\"_auto32\"></div>\n",
    "\n",
    "$$\n",
    "\\begin{equation}   = (1+\\cos\\theta) \\left( - \\frac{m\\alpha^2}{L^2} + \\frac{m\\alpha^2}{L^2}\\right) \n",
    "\\label{_auto32} \\tag{32}\n",
    "\\end{equation}\n",
    "$$"
   ]
  },
  {
   "cell_type": "markdown",
   "id": "12ef9d41",
   "metadata": {},
   "source": [
    "<!-- Equation labels as ordinary links -->\n",
    "<div id=\"_auto33\"></div>\n",
    "\n",
    "$$\n",
    "\\begin{equation}   = 0\n",
    "\\label{_auto33} \\tag{33}\n",
    "\\end{equation}\n",
    "$$"
   ]
  },
  {
   "cell_type": "markdown",
   "id": "604c7b4c",
   "metadata": {},
   "source": [
    "* 3b (5pt) With zero energy $E=0$, write this trajectory in a more recognizable parabolic form, that is express $x_0$ and $R$ in terms of $r_0$ using"
   ]
  },
  {
   "cell_type": "markdown",
   "id": "9dd6e60e",
   "metadata": {},
   "source": [
    "$$\n",
    "x=x_0-\\frac{y^2}{R}.\n",
    "$$"
   ]
  },
  {
   "cell_type": "markdown",
   "id": "58955965",
   "metadata": {},
   "source": [
    "We have that"
   ]
  },
  {
   "cell_type": "markdown",
   "id": "79990894",
   "metadata": {},
   "source": [
    "<!-- Equation labels as ordinary links -->\n",
    "<div id=\"_auto34\"></div>\n",
    "\n",
    "$$\n",
    "\\begin{equation}\n",
    "x  = r \\cos\\theta\n",
    "\\label{_auto34} \\tag{34}\n",
    "\\end{equation}\n",
    "$$"
   ]
  },
  {
   "cell_type": "markdown",
   "id": "5d39a5cb",
   "metadata": {},
   "source": [
    "<!-- Equation labels as ordinary links -->\n",
    "<div id=\"_auto35\"></div>\n",
    "\n",
    "$$\n",
    "\\begin{equation} \n",
    "y  = r \\sin \\theta.\n",
    "\\label{_auto35} \\tag{35}\n",
    "\\end{equation}\n",
    "$$"
   ]
  },
  {
   "cell_type": "markdown",
   "id": "cb93174f",
   "metadata": {},
   "source": [
    "Using the general solution with eccintricity $\\epsilon=1$, we have"
   ]
  },
  {
   "cell_type": "markdown",
   "id": "ee08d700",
   "metadata": {},
   "source": [
    "$$\n",
    "r(\\theta)=\\frac{c}{1+\\cos\\theta},\n",
    "$$"
   ]
  },
  {
   "cell_type": "markdown",
   "id": "8eee4d85",
   "metadata": {},
   "source": [
    "and multiplying both sides with $1+\\cos\\theta$ and using that $x=r\\cos\\theta$,"
   ]
  },
  {
   "cell_type": "markdown",
   "id": "155dbbb9",
   "metadata": {},
   "source": [
    "$$\n",
    "r = c -x,\n",
    "$$"
   ]
  },
  {
   "cell_type": "markdown",
   "id": "bb6d4ff9",
   "metadata": {},
   "source": [
    "and using that $r^2=x^2+y^2$, we square both sides"
   ]
  },
  {
   "cell_type": "markdown",
   "id": "fca0d392",
   "metadata": {},
   "source": [
    "$$\n",
    "r^2 = x^2+y^2=c^2 +x^2-2cx,\n",
    "$$"
   ]
  },
  {
   "cell_type": "markdown",
   "id": "d8097d7b",
   "metadata": {},
   "source": [
    "leading to"
   ]
  },
  {
   "cell_type": "markdown",
   "id": "3a0014c0",
   "metadata": {},
   "source": [
    "$$\n",
    "y^2=c^2-2cx,\n",
    "$$"
   ]
  },
  {
   "cell_type": "markdown",
   "id": "6e154501",
   "metadata": {},
   "source": [
    "and using that we defined"
   ]
  },
  {
   "cell_type": "markdown",
   "id": "18e4a8c7",
   "metadata": {},
   "source": [
    "$$\n",
    "c=2r_0=\\frac{L^2}{m\\alpha},\n",
    "$$"
   ]
  },
  {
   "cell_type": "markdown",
   "id": "c2471224",
   "metadata": {},
   "source": [
    "we divide by $2c$ \n",
    "and we get the final answer"
   ]
  },
  {
   "cell_type": "markdown",
   "id": "b352ec18",
   "metadata": {},
   "source": [
    "$$\n",
    "x = r_0 - \\frac{y^2}{4r_0}\n",
    "$$"
   ]
  },
  {
   "cell_type": "markdown",
   "id": "e8aae05d",
   "metadata": {},
   "source": [
    "### Exercise 4, parabolic and hyperbolic orbits (10pt)\n",
    "\n",
    "The solution to the radial function for an inverse-square-law force, see for example Taylor equation (8.59) or the equation above, is"
   ]
  },
  {
   "cell_type": "markdown",
   "id": "c0ea638c",
   "metadata": {},
   "source": [
    "$$\n",
    "r(\\phi) = \\frac{c}{1+\\epsilon\\cos{(\\phi)}}.\n",
    "$$"
   ]
  },
  {
   "cell_type": "markdown",
   "id": "5aa89c35",
   "metadata": {},
   "source": [
    "For $\\epsilon=1$ (or the energy $E=0$) the orbit reduces to a parabola as we saw in the previous exercise,\n",
    "while for $\\epsilon > 1$ (or energy positive) the orbit becomes a hyperbola. The equation for a hyperbola in Cartesian coordinates is"
   ]
  },
  {
   "cell_type": "markdown",
   "id": "94fa0641",
   "metadata": {},
   "source": [
    "$$\n",
    "\\frac{(x-\\delta)^2}{\\alpha^2}-\\frac{y^2}{\\beta^2}=1.\n",
    "$$"
   ]
  },
  {
   "cell_type": "markdown",
   "id": "49cedf1a",
   "metadata": {},
   "source": [
    "For a hyperbola, identify the constants $\\alpha$, $\\beta$ and $\\delta$ in terms of the constants $c$ and $\\epsilon$ for $r(\\phi)$."
   ]
  },
  {
   "cell_type": "markdown",
   "id": "cadca66a",
   "metadata": {},
   "source": [
    "<!-- Equation labels as ordinary links -->\n",
    "<div id=\"_auto36\"></div>\n",
    "\n",
    "$$\n",
    "\\begin{equation}\n",
    "x  = r\\cos\\phi\n",
    "\\label{_auto36} \\tag{36}\n",
    "\\end{equation}\n",
    "$$"
   ]
  },
  {
   "cell_type": "markdown",
   "id": "af3ee477",
   "metadata": {},
   "source": [
    "<!-- Equation labels as ordinary links -->\n",
    "<div id=\"_auto37\"></div>\n",
    "\n",
    "$$\n",
    "\\begin{equation}   = \\frac{c\\cos\\phi}{1+\\epsilon\\cos\\phi}\n",
    "\\label{_auto37} \\tag{37}\n",
    "\\end{equation}\n",
    "$$"
   ]
  },
  {
   "cell_type": "markdown",
   "id": "f1be0e3d",
   "metadata": {},
   "source": [
    "<!-- Equation labels as ordinary links -->\n",
    "<div id=\"_auto38\"></div>\n",
    "\n",
    "$$\n",
    "\\begin{equation}\n",
    "y  = r\\sin\\phi \n",
    "\\label{_auto38} \\tag{38}\n",
    "\\end{equation}\n",
    "$$"
   ]
  },
  {
   "cell_type": "markdown",
   "id": "34d9c5a4",
   "metadata": {},
   "source": [
    "<!-- Equation labels as ordinary links -->\n",
    "<div id=\"_auto39\"></div>\n",
    "\n",
    "$$\n",
    "\\begin{equation}   = \\frac{c\\sin\\phi}{1+\\epsilon\\cos\\phi}\n",
    "\\label{_auto39} \\tag{39}\n",
    "\\end{equation}\n",
    "$$"
   ]
  },
  {
   "cell_type": "markdown",
   "id": "059c36b1",
   "metadata": {},
   "source": [
    "Here $\\epsilon>1$.  We use our equation for $r$, multiply with the denominator $1+\\epsilon\\cos\\phi$ on both sides and have"
   ]
  },
  {
   "cell_type": "markdown",
   "id": "de2b052a",
   "metadata": {},
   "source": [
    "$$\n",
    "r(1+\\epsilon\\cos\\phi)=c,\n",
    "$$"
   ]
  },
  {
   "cell_type": "markdown",
   "id": "72d0180b",
   "metadata": {},
   "source": [
    "use $x=r\\cos\\phi$ and square and use that $r^2=x^2+y^2$ and we have"
   ]
  },
  {
   "cell_type": "markdown",
   "id": "06984a1c",
   "metadata": {},
   "source": [
    "$$\n",
    "r^2=x^2+y^2=c^2+\\epsilon^2x^2-2cx\\epsilon,\n",
    "$$"
   ]
  },
  {
   "cell_type": "markdown",
   "id": "a603f524",
   "metadata": {},
   "source": [
    "and reorder"
   ]
  },
  {
   "cell_type": "markdown",
   "id": "d4c5554c",
   "metadata": {},
   "source": [
    "$$\n",
    "x^2(\\epsilon^2-1)-y^2-2cx\\epsilon= -c^2.\n",
    "$$"
   ]
  },
  {
   "cell_type": "markdown",
   "id": "6affc368",
   "metadata": {},
   "source": [
    "We complete the square in $x$ by adding and subtracting on both sides $\\epsilon^2c^2/(\\epsilon^2-1)$\n",
    "and we obtain"
   ]
  },
  {
   "cell_type": "markdown",
   "id": "7ee7c06c",
   "metadata": {},
   "source": [
    "$$\n",
    "(\\epsilon^2-1)(x-\\delta)^2-y^2= -c^2+\\frac{\\epsilon^2c^2}{\\epsilon^2-1}.\n",
    "$$"
   ]
  },
  {
   "cell_type": "markdown",
   "id": "e384e6e2",
   "metadata": {},
   "source": [
    "Here we have defined"
   ]
  },
  {
   "cell_type": "markdown",
   "id": "97e15f7b",
   "metadata": {},
   "source": [
    "$$\n",
    "\\delta = \\frac{c\\epsilon}{\\epsilon^2-1},\n",
    "$$"
   ]
  },
  {
   "cell_type": "markdown",
   "id": "913c52ef",
   "metadata": {},
   "source": [
    "and introducing the constants"
   ]
  },
  {
   "cell_type": "markdown",
   "id": "96929f72",
   "metadata": {},
   "source": [
    "$$\n",
    "\\alpha = \\frac{c}{\\epsilon^2-1},\n",
    "$$"
   ]
  },
  {
   "cell_type": "markdown",
   "id": "d234a5d6",
   "metadata": {},
   "source": [
    "and"
   ]
  },
  {
   "cell_type": "markdown",
   "id": "6871eabb",
   "metadata": {},
   "source": [
    "$$\n",
    "\\beta = \\frac{c}{\\sqrt{\\epsilon^2-1}},\n",
    "$$"
   ]
  },
  {
   "cell_type": "markdown",
   "id": "c63d802c",
   "metadata": {},
   "source": [
    "we can rewrite the above equation as"
   ]
  },
  {
   "cell_type": "markdown",
   "id": "fd490212",
   "metadata": {},
   "source": [
    "$$\n",
    "\\frac{(x-\\delta)^2}{\\alpha^2}-\\frac{y^2}{\\beta^2}=1,\n",
    "$$"
   ]
  },
  {
   "cell_type": "markdown",
   "id": "81ebb057",
   "metadata": {},
   "source": [
    "which is nothing but the equation for a hyperbola."
   ]
  },
  {
   "cell_type": "markdown",
   "id": "4512a22b",
   "metadata": {},
   "source": [
    "### Exercise 5 (40pt), Pendulum and Lagrangians (Taylor chapters 6-7)\n",
    "\n",
    "A mathematical pendulum consists of a point mass $m$ suspended by a massless thread/rod of length $l$ in a gravitational field, as shown in the figure here. The constraining force is labeled by $\\boldsymbol{T}$\n",
    "and the gravitational force.\n",
    "\n",
    "We assume that the length $l$ is constant and we define the coordinates involved as"
   ]
  },
  {
   "cell_type": "markdown",
   "id": "8bdc2c80",
   "metadata": {},
   "source": [
    "$$\n",
    "\\boldsymbol{r} = l\\sin(\\phi)\\boldsymbol{\\hat{x}}+l\\cos(\\phi)\\boldsymbol{\\hat{y}},\n",
    "$$"
   ]
  },
  {
   "cell_type": "markdown",
   "id": "aba25ec3",
   "metadata": {},
   "source": [
    "where $\\boldsymbol{\\hat{x}}$ and $\\boldsymbol{\\hat{y}}$ are the unit vectors in the $x$ and $y$ directions, respectively.\n",
    "\n",
    "* **5a (10pt):** Set up the forces acting on the system and show that the equation of motion is $m\\ddot{\\boldsymbol{r}}=\\boldsymbol{F}_g+\\boldsymbol{T}$.\n",
    "\n",
    "The pendulum consists of a rod and a small object attached to the rod. The mass of this object is $m$ and it is the motion of this object we are concerned with. The distance from the object to the roof is $\\boldsymbol{r}$ and we have $\\vert \\boldsymbol{r}\\vert =l$. We keep the length fixed as function of time.\n",
    "\n",
    "The angle between the $y$-axis and the rod is $\\phi$. The forces at\n",
    "play are the gravitational force and a tension force from the rod to\n",
    "the object. The net force is"
   ]
  },
  {
   "cell_type": "markdown",
   "id": "15bd2b41",
   "metadata": {},
   "source": [
    "$$\n",
    "\\boldsymbol{F}^{\\mathrm{net}}=\\boldsymbol{T}+\\boldsymbol{G}=T\\sin{(\\phi)}\\boldsymbol{i}+T\\cos{(\\phi)}\\boldsymbol{j}-mg\\boldsymbol{j},\n",
    "$$"
   ]
  },
  {
   "cell_type": "markdown",
   "id": "0718de64",
   "metadata": {},
   "source": [
    "and with"
   ]
  },
  {
   "cell_type": "markdown",
   "id": "d8bbfb48",
   "metadata": {},
   "source": [
    "$$\n",
    "\\boldsymbol{r}=l\\sin{(\\phi)}\\boldsymbol{i}+l\\cos{(\\phi)}\\boldsymbol{j},\n",
    "$$"
   ]
  },
  {
   "cell_type": "markdown",
   "id": "a122feeb",
   "metadata": {},
   "source": [
    "the equation of motion becomes"
   ]
  },
  {
   "cell_type": "markdown",
   "id": "8f6dffa9",
   "metadata": {},
   "source": [
    "$$\n",
    "m\\frac{d^2\\boldsymbol{r}}{dt^2}=\\boldsymbol{T}+\\boldsymbol{G}=T\\sin{(\\phi)}\\boldsymbol{i}+T\\cos{(\\phi)}\\boldsymbol{j}-mg\\boldsymbol{j}.\n",
    "$$"
   ]
  },
  {
   "cell_type": "markdown",
   "id": "8a6c02c2",
   "metadata": {},
   "source": [
    "* **5b (10pt):** Show that you can rewrite the above equation of motion as two independent equations of motion, one for $\\phi$ and one for the constraining force. Show that these equations are $\\ddot{\\phi}(t)=-\\omega_0^2\\sin{(\\phi(t))}$ with $\\omega_0^2=g/l$ and $T=ml\\dot{\\phi}^2+mg\\cos{(\\phi)}$.\n",
    "\n",
    "Using the chain rule we can find the first derivative of $\\boldsymbol{r}$"
   ]
  },
  {
   "cell_type": "markdown",
   "id": "525eeaca",
   "metadata": {},
   "source": [
    "$$\n",
    "\\frac{d\\boldsymbol{r}}{dt}=l\\frac{d\\phi}{dt}\\cos{(\\phi)}\\boldsymbol{i}-l\\frac{d\\phi}{dt}\\sin{(\\phi)}\\boldsymbol{j},\n",
    "$$"
   ]
  },
  {
   "cell_type": "markdown",
   "id": "2fca598c",
   "metadata": {},
   "source": [
    "and thereafter the second derivative in the $x$-direction as"
   ]
  },
  {
   "cell_type": "markdown",
   "id": "31c2a689",
   "metadata": {},
   "source": [
    "$$\n",
    "\\frac{d^2\\boldsymbol{r}}{dt^2}\\boldsymbol{i}=l\\frac{d^2\\phi}{dt^2}\\cos{(\\phi)}-l(\\frac{d\\phi}{dt})^2\\sin{(\\phi)},\n",
    "$$"
   ]
  },
  {
   "cell_type": "markdown",
   "id": "7feea970",
   "metadata": {},
   "source": [
    "and in the $y$ direction"
   ]
  },
  {
   "cell_type": "markdown",
   "id": "f598021e",
   "metadata": {},
   "source": [
    "$$\n",
    "\\frac{d^2\\boldsymbol{r}}{dt^2}\\boldsymbol{e}_2=-l\\frac{d^2\\phi}{dt^2}\\sin{(\\phi)}-l(\\frac{d\\phi}{dt})^2\\cos{(\\phi)}.\n",
    "$$"
   ]
  },
  {
   "cell_type": "markdown",
   "id": "1fed9c5f",
   "metadata": {},
   "source": [
    "We can now set up the equations of motion in the $x$ and $y$ directions and get for the $x$-direction"
   ]
  },
  {
   "cell_type": "markdown",
   "id": "f77771ab",
   "metadata": {},
   "source": [
    "$$\n",
    "ml\\frac{d^2\\phi}{dt^2}\\cos{(\\phi)}-ml(\\frac{d\\phi}{dt})^2\\sin{(\\phi)}=T\\sin{(\\phi)},\n",
    "$$"
   ]
  },
  {
   "cell_type": "markdown",
   "id": "b09358de",
   "metadata": {},
   "source": [
    "and for the $y$-direction"
   ]
  },
  {
   "cell_type": "markdown",
   "id": "d1373889",
   "metadata": {},
   "source": [
    "$$\n",
    "-ml\\frac{d^2\\phi}{dt^2}\\sin{(\\phi)}-ml(\\frac{d\\phi}{dt})^2\\cos{(\\phi)}=T\\cos{(\\phi)}-mg.\n",
    "$$"
   ]
  },
  {
   "cell_type": "markdown",
   "id": "09d8678b",
   "metadata": {},
   "source": [
    "This looks ugly!\n",
    "\n",
    "Let us rewrite"
   ]
  },
  {
   "cell_type": "markdown",
   "id": "3ad4afba",
   "metadata": {},
   "source": [
    "$$\n",
    "ml\\frac{d^2\\phi}{dt^2}\\cos{(\\phi)}=\\left[ml(\\frac{d\\phi}{dt})^2+T\\right]\\sin{(\\phi)},\n",
    "$$"
   ]
  },
  {
   "cell_type": "markdown",
   "id": "ae020aa7",
   "metadata": {},
   "source": [
    "and"
   ]
  },
  {
   "cell_type": "markdown",
   "id": "f18b87e5",
   "metadata": {},
   "source": [
    "$$\n",
    "-ml\\frac{d^2\\phi}{dt^2}\\sin{(\\phi)}+mg=\\left[ml(\\frac{d\\phi}{dt})^2+T\\cos{(\\phi)}\\right].\n",
    "$$"
   ]
  },
  {
   "cell_type": "markdown",
   "id": "a53e2741",
   "metadata": {},
   "source": [
    "We can in turn rewrite the equations as"
   ]
  },
  {
   "cell_type": "markdown",
   "id": "ccaf2065",
   "metadata": {},
   "source": [
    "$$\n",
    "ml\\frac{d^2\\phi}{dt^2}\\cos{(\\phi)}=\\left[ml(\\frac{d\\phi}{dt})^2+T\\right]\\sin{(\\phi)},\n",
    "$$"
   ]
  },
  {
   "cell_type": "markdown",
   "id": "4cf80765",
   "metadata": {},
   "source": [
    "and"
   ]
  },
  {
   "cell_type": "markdown",
   "id": "6aa21bbb",
   "metadata": {},
   "source": [
    "$$\n",
    "-ml\\frac{d^2\\phi}{dt^2}\\sin{(\\phi)}+mg=\\left[ml(\\frac{d\\phi}{dt})^2+T\\right]\\cos{(\\phi)}.\n",
    "$$"
   ]
  },
  {
   "cell_type": "markdown",
   "id": "5d771b96",
   "metadata": {},
   "source": [
    "We multiply the first equation with $\\cos\\phi$ and the second one with $\\sin\\phi$ and then subtract the two equations.\n",
    "We get then"
   ]
  },
  {
   "cell_type": "markdown",
   "id": "a9805449",
   "metadata": {},
   "source": [
    "$$\n",
    "-ml\\frac{d^2\\phi}{dt^2}(\\cos{(\\phi)})^2-ml\\frac{d^2\\phi}{dt^2}(\\sin{(\\phi)})^2+mg\\sin{(\\phi)}=0,\n",
    "$$"
   ]
  },
  {
   "cell_type": "markdown",
   "id": "87cfffdb",
   "metadata": {},
   "source": [
    "leading to"
   ]
  },
  {
   "cell_type": "markdown",
   "id": "14780588",
   "metadata": {},
   "source": [
    "$$\n",
    "ml\\frac{d^2\\phi}{dt^2}=-mg\\sin{(\\phi)}.\n",
    "$$"
   ]
  },
  {
   "cell_type": "markdown",
   "id": "aaff310f",
   "metadata": {},
   "source": [
    "We are almost there.\n",
    "\n",
    "We divide by $m$ and $l$ and we have the famous non-linear in $\\phi$ (due to the sine function) equation for the pendulumn"
   ]
  },
  {
   "cell_type": "markdown",
   "id": "76ee7a54",
   "metadata": {},
   "source": [
    "$$\n",
    "\\frac{d^2\\phi}{dt^2}=-\\frac{g}{l}\\sin{(\\phi)}.\n",
    "$$"
   ]
  },
  {
   "cell_type": "markdown",
   "id": "655b16dc",
   "metadata": {},
   "source": [
    "Introducing the natural frequency $\\omega_0^2=g/l$ we can rewrite the equation as"
   ]
  },
  {
   "cell_type": "markdown",
   "id": "14435979",
   "metadata": {},
   "source": [
    "$$\n",
    "\\frac{d^2\\phi}{dt^2}=-\\omega_0^2\\sin{(\\phi)}.\n",
    "$$"
   ]
  },
  {
   "cell_type": "markdown",
   "id": "d047ad07",
   "metadata": {},
   "source": [
    "The equation for $\\phi$ is a second-order differential equation"
   ]
  },
  {
   "cell_type": "markdown",
   "id": "4992f4ad",
   "metadata": {},
   "source": [
    "$$\n",
    "\\ddot{\\phi}(t)=-\\omega_0^2\\sin{(\\phi(t))}.\n",
    "$$"
   ]
  },
  {
   "cell_type": "markdown",
   "id": "46c3ce71",
   "metadata": {},
   "source": [
    "This equation can be solved analytically if we assume that the angle $\\phi$ is very small. Then we can approximate our equation as"
   ]
  },
  {
   "cell_type": "markdown",
   "id": "fe60cf99",
   "metadata": {},
   "source": [
    "$$\n",
    "\\ddot{\\phi}(t)=-\\omega_0^2\\phi(t).\n",
    "$$"
   ]
  },
  {
   "cell_type": "markdown",
   "id": "562202d2",
   "metadata": {},
   "source": [
    "* **5c (5pt):** Find the analytical solution for the last equation. Hint, look back at the solutions for the simple harmonic oscillator problem in one dimension in for example homework 8.\n",
    "\n",
    "If we now assume that the angle is very small, we can approximate $\\sin{(\\phi)}\\approx \\phi$ and we have essentially the same equation as we had for harmonic oscillations, that is"
   ]
  },
  {
   "cell_type": "markdown",
   "id": "941ae1de",
   "metadata": {},
   "source": [
    "$$\n",
    "\\frac{d^2\\phi}{dt^2}=-\\omega_0^2\\phi.\n",
    "$$"
   ]
  },
  {
   "cell_type": "markdown",
   "id": "ff7b891c",
   "metadata": {},
   "source": [
    "The solution to this equation is again given by"
   ]
  },
  {
   "cell_type": "markdown",
   "id": "0e40fe4e",
   "metadata": {},
   "source": [
    "$$\n",
    "\\phi(t) = A\\cos{(\\omega_0 t)}+B\\sin{(\\omega_0 t)}.\n",
    "$$"
   ]
  },
  {
   "cell_type": "markdown",
   "id": "83279f1d",
   "metadata": {},
   "source": [
    "For the general case, we have to resort to numerical solutions.\n",
    "\n",
    "* **5d (5pt):** Find the expressions for the kinetic and potential energies in terms of the variables $r$ and $\\phi$. \n",
    "\n",
    "* **5e (10pt):** With the potential $V$  and kinetic $T$ energies, define the Lagrangian for the mathematical pendulum discussed here. Add the constraint $r=l$ via a Lagrange multiplier $\\lambda$ and derive the equations of motion. Show that these result in  $\\ddot{\\phi}(t)=-\\omega_0^2\\sin{(\\phi(t))}$ with $\\omega_0^2=g/l$ and $\\lambda=ml\\dot{\\phi}^2+mg\\cos{(\\phi)}$.  How would you interpret $\\lambda$?"
   ]
  }
 ],
 "metadata": {
  "kernelspec": {
   "display_name": "Python 3 (ipykernel)",
   "language": "python",
   "name": "python3"
  },
  "language_info": {
   "codemirror_mode": {
    "name": "ipython",
    "version": 3
   },
   "file_extension": ".py",
   "mimetype": "text/x-python",
   "name": "python",
   "nbconvert_exporter": "python",
   "pygments_lexer": "ipython3",
   "version": "3.9.10"
  }
 },
 "nbformat": 4,
 "nbformat_minor": 5
}
