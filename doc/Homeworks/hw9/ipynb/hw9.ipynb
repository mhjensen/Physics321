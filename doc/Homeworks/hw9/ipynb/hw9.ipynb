{
 "cells": [
  {
   "cell_type": "markdown",
   "id": "942aa745",
   "metadata": {
    "editable": true
   },
   "source": [
    "<!-- HTML file automatically generated from DocOnce source (https://github.com/doconce/doconce/)\n",
    "doconce format html hw9.do.txt --no_mako -->\n",
    "<!-- dom:TITLE: PHY321: Classical Mechanics 1 -->"
   ]
  },
  {
   "cell_type": "markdown",
   "id": "f39d739d",
   "metadata": {
    "editable": true
   },
   "source": [
    "# PHY321: Classical Mechanics 1\n",
    "**Homework 9, due Friday  April 28 (note changed deadline)**\n",
    "\n",
    "Date: **Apr 17, 2022**"
   ]
  },
  {
   "cell_type": "markdown",
   "id": "82a45f6b",
   "metadata": {
    "editable": true
   },
   "source": [
    "### Practicalities about  homeworks and projects\n",
    "\n",
    "1. You can work in groups (optimal groups are often 2-3 people) or by yourself. If you work as a group you can hand in one answer only if you wish. **Remember to write your name(s)**!\n",
    "\n",
    "2. Homeworks are available  the week before the deadline. \n",
    "\n",
    "3. How do I(we)  hand in?  Due to the corona virus and many of you not being on campus, we recommend that you scan your handwritten notes and upload them to D2L. If you are ok with typing mathematical formulae using say Latex, you can hand in everything as a single jupyter notebook at D2L. The numerical exercise(s) should always be handed in as a jupyter notebook by the deadline at D2L."
   ]
  },
  {
   "cell_type": "markdown",
   "id": "b3660de5",
   "metadata": {
    "editable": true
   },
   "source": [
    "### Introduction to homework 9\n",
    "\n",
    "This week's exercises focus on solving\n",
    "two-body  problems with central forces and the Lagrangian formalism (exercise 5). There are no numerical exercises. \n",
    "The first four exercises are examples taken from our discussions of two-body problems and the relevant theory is to be found in chapter 8 of Taylor. The last exercise involves chapters 6 and 7 of Taylor."
   ]
  },
  {
   "cell_type": "markdown",
   "id": "f5f06120",
   "metadata": {
    "editable": true
   },
   "source": [
    "### Exercise 1: Attractive Potential (10pt)\n",
    "\n",
    "Consider a particle in an attractive potential"
   ]
  },
  {
   "cell_type": "markdown",
   "id": "d784d984",
   "metadata": {
    "editable": true
   },
   "source": [
    "$$\n",
    "V(r)=-\\alpha/r.\n",
    "$$"
   ]
  },
  {
   "cell_type": "markdown",
   "id": "d4719320",
   "metadata": {
    "editable": true
   },
   "source": [
    "The quantity $r$ is the absolute value of the relative position. We\n",
    "will use the reduced mass $\\mu$ and the angular momentum $L$, as\n",
    "discussed during the lectures. With the transformation of a two-body\n",
    "problem to the center-of-mass frame, the actual equations look like an\n",
    "*effective* one-body problem. The energy of the system is $E$ and the\n",
    "minimum of the effective potential is $r_{\\rm min}$.\n",
    "\n",
    "The analytical solution to the radial equation of motion is"
   ]
  },
  {
   "cell_type": "markdown",
   "id": "f4ccde2f",
   "metadata": {
    "editable": true
   },
   "source": [
    "$$\n",
    "r(\\phi) = \\frac{1}{\\frac{\\mu\\alpha}{L^2}+A\\cos{(\\phi)}}.\n",
    "$$"
   ]
  },
  {
   "cell_type": "markdown",
   "id": "45ccdb72",
   "metadata": {
    "editable": true
   },
   "source": [
    "Find the value of $A$. Hint: Use the fact that at $r_{\\rm min}$\n",
    "there is no radial kinetic energy and $E=-\\alpha/r_{\\rm min}+L^2/2mr_{\\rm min}^2$."
   ]
  },
  {
   "cell_type": "markdown",
   "id": "230587fa",
   "metadata": {
    "editable": true
   },
   "source": [
    "### Exercise 2 (20pt) Inverse-square force\n",
    "\n",
    "Consider again the same effective potential as in exercise 1. This leads to an attractive inverse-square-law force, $F=-\\alpha/r^2$. Consider a particle of mass $m$ with angular momentum $L$. Taylor sections 8.4-8.7 are relevant background material.  See also the harmonic oscillator potential from hw8. The equation of motion for the radial degrees of freedom is (see also hw8) in the center-of-mass frame in two dimensions with $x=r\\cos{(\\phi)}$ and $y=r\\sin{(\\phi)}$ and\n",
    "$r\\in [0,\\infty)$, $\\phi\\in [0,2\\pi]$ and $r=\\sqrt{x^2+y^2}$ are given by"
   ]
  },
  {
   "cell_type": "markdown",
   "id": "8caca65d",
   "metadata": {
    "editable": true
   },
   "source": [
    "$$\n",
    "\\ddot{r}=-\\frac{1}{m}\\frac{dV(r)}{dr}+r\\dot{\\phi}^2,\n",
    "$$"
   ]
  },
  {
   "cell_type": "markdown",
   "id": "009d43f8",
   "metadata": {
    "editable": true
   },
   "source": [
    "and"
   ]
  },
  {
   "cell_type": "markdown",
   "id": "bbbe28c0",
   "metadata": {
    "editable": true
   },
   "source": [
    "$$\n",
    "\\dot{\\phi}=\\frac{L}{m r^2}.\n",
    "$$"
   ]
  },
  {
   "cell_type": "markdown",
   "id": "827d6745",
   "metadata": {
    "editable": true
   },
   "source": [
    "Here $V(r)$ is any central force which depends only on the relative coordinate.\n",
    "\n",
    "* 2a (5pt)  Find the radius of a circular orbit by solving for the position of the minimum of the effective potential. \n",
    "\n",
    "* 2b (5pt) At the minimum, the radial velocity is zero and it is only the [centripetal velocity](https://en.wikipedia.org/wiki/Centripetal_force) which is nonzero. This implies that $\\ddot{r}=0$.  What is the angular frequency, $\\dot{\\theta}$, of the orbit? Solve this by setting $\\ddot{r}=0=F/m+\\dot{\\theta}^2r$.\n",
    "\n",
    "* 2c (5pt) Find the effective spring constant for the particle at the minimum.\n",
    "\n",
    "* 2d (5pt) What is the angular frequency for small vibrations about the minimum? How does this compare with the answer to 2b?"
   ]
  },
  {
   "cell_type": "markdown",
   "id": "f96ef9b0",
   "metadata": {
    "editable": true
   },
   "source": [
    "### Exercise 3, Inverse-square force again (10pt)\n",
    "\n",
    "Consider again a  particle of mass $m$ in the same attractive potential, $V(r)=-\\alpha/r$, with angular momentum $L$ with just the right energy so that"
   ]
  },
  {
   "cell_type": "markdown",
   "id": "c2658949",
   "metadata": {
    "editable": true
   },
   "source": [
    "$$\n",
    "A=m\\alpha/L^2\n",
    "$$"
   ]
  },
  {
   "cell_type": "markdown",
   "id": "fd9c1cdf",
   "metadata": {
    "editable": true
   },
   "source": [
    "where $A$ comes from the expression"
   ]
  },
  {
   "cell_type": "markdown",
   "id": "ab207b7d",
   "metadata": {
    "editable": true
   },
   "source": [
    "$$\n",
    "r=\\frac{1}{(m\\alpha/L^2)+A\\cos{(\\phi)}}.\n",
    "$$"
   ]
  },
  {
   "cell_type": "markdown",
   "id": "e437e82d",
   "metadata": {
    "editable": true
   },
   "source": [
    "The trajectory can then be rewritten as"
   ]
  },
  {
   "cell_type": "markdown",
   "id": "8463e2bf",
   "metadata": {
    "editable": true
   },
   "source": [
    "$$\n",
    "r=\\frac{2r_0}{1+\\cos\\theta},~~~r_0=\\frac{L^2}{2m\\alpha}.\n",
    "$$"
   ]
  },
  {
   "cell_type": "markdown",
   "id": "672ad56b",
   "metadata": {
    "editable": true
   },
   "source": [
    "* 3a (5pt) Show that for this case the total energy $E$ approaches zero.\n",
    "\n",
    "* 3b (5pt) With zero energy $E=0$, write this trajectory in a more recognizable parabolic form, that is express $x_0$ and $R$ in terms of $r_0$ using"
   ]
  },
  {
   "cell_type": "markdown",
   "id": "c8dd428d",
   "metadata": {
    "editable": true
   },
   "source": [
    "$$\n",
    "x=x_0-\\frac{y^2}{R}.\n",
    "$$"
   ]
  },
  {
   "cell_type": "markdown",
   "id": "af1c6430",
   "metadata": {
    "editable": true
   },
   "source": [
    "### Exercise 4, parabolic and hyperbolic orbits (10pt)\n",
    "\n",
    "The solution to the radial function for an inverse-square-law force, see for example Taylor equation (8.59) or the equation above, is"
   ]
  },
  {
   "cell_type": "markdown",
   "id": "07f1227b",
   "metadata": {
    "editable": true
   },
   "source": [
    "$$\n",
    "r(\\phi) = \\frac{c}{1+\\epsilon\\cos{(\\phi)}}.\n",
    "$$"
   ]
  },
  {
   "cell_type": "markdown",
   "id": "5e5407d0",
   "metadata": {
    "editable": true
   },
   "source": [
    "For $\\epsilon=1$ (or the energy $E=0$) the orbit reduces to a parabola as we saw in the previous exercise,\n",
    "while for $\\epsilon > 1$ (or energy positive) the orbit becomes a hyperbola. The equation for a hyperbola in Cartesian coordinates is"
   ]
  },
  {
   "cell_type": "markdown",
   "id": "b8b3e85b",
   "metadata": {
    "editable": true
   },
   "source": [
    "$$\n",
    "\\frac{(x-\\delta)^2}{\\alpha^2}-\\frac{y^2}{\\beta^2}=1.\n",
    "$$"
   ]
  },
  {
   "cell_type": "markdown",
   "id": "d0f4a89c",
   "metadata": {
    "editable": true
   },
   "source": [
    "For a hyperbola, identify the constants $\\alpha$, $\\beta$ and $\\delta$ in terms of the constants $c$ and $\\epsilon$ for $r(\\phi)$."
   ]
  },
  {
   "cell_type": "markdown",
   "id": "4db33bd8",
   "metadata": {
    "editable": true
   },
   "source": [
    "### Exercise 5 (40pt), Pendulum and Lagrangians (Taylor chapters 6-7)\n",
    "\n",
    "A mathematical pendulum consists of a point mass $m$ suspended by a massless thread/rod of length $l$ in a gravitational field, as shown in the figure here. The constraining force is labeled by $\\boldsymbol{T}$\n",
    "and the gravitational force is labeled $\\boldsymbol{F}_g$.\n",
    "\n",
    "<!-- dom:FIGURE: [figures/Simplependulum.png, width=600 frac=0.6]  -->\n",
    "<!-- begin figure -->\n",
    "\n",
    "<img src=\"figures/Simplependulum.png\" width=\"600\"><p style=\"font-size: 0.9em\"><i>Figure 1: </i></p>\n",
    "<!-- end figure -->\n",
    "\n",
    "We assume that the length $l$ is constant and we define the coordinates involved as"
   ]
  },
  {
   "cell_type": "markdown",
   "id": "7f0e7808",
   "metadata": {
    "editable": true
   },
   "source": [
    "$$\n",
    "\\boldsymbol{r} = l\\sin(\\phi)\\boldsymbol{\\hat{x}}+l\\cos(\\phi)\\boldsymbol{\\hat{y}},\n",
    "$$"
   ]
  },
  {
   "cell_type": "markdown",
   "id": "4496c973",
   "metadata": {
    "editable": true
   },
   "source": [
    "where $\\boldsymbol{\\hat{x}}$ and $\\boldsymbol{\\hat{y}}$ are the unit vectors in the $x$ and $y$ directions, respectively.\n",
    "\n",
    "* **5a (10pt):** Set up the forces acting on the system and show that the equation of motion is $m\\ddot{\\boldsymbol{r}}=\\boldsymbol{F}_g+\\boldsymbol{T}$.\n",
    "\n",
    "* **5b (10pt):** Show that you can rewrite the above equation of motion as two independent equations of motion, one for $\\phi$ and one for the constraining force. Show that these equations are $\\ddot{\\phi}(t)=-\\omega_0^2\\sin{(\\phi(t))}$ with $\\omega_0^2=g/l$ and $T=ml\\dot{\\phi}^2+mg\\cos{(\\phi)}$.\n",
    "\n",
    "The equation for $\\phi$ is a second-order differential equation"
   ]
  },
  {
   "cell_type": "markdown",
   "id": "a94e6916",
   "metadata": {
    "editable": true
   },
   "source": [
    "$$\n",
    "\\ddot{\\phi}(t)=-\\omega_0^2\\sin{(\\phi(t))}.\n",
    "$$"
   ]
  },
  {
   "cell_type": "markdown",
   "id": "a1e5ab57",
   "metadata": {
    "editable": true
   },
   "source": [
    "This equation can be solved analytically if we assume that the angle $\\phi$ is very small. Then we can approximate our equation as"
   ]
  },
  {
   "cell_type": "markdown",
   "id": "45874dad",
   "metadata": {
    "editable": true
   },
   "source": [
    "$$\n",
    "\\ddot{\\phi}(t)=-\\omega_0^2\\phi(t).\n",
    "$$"
   ]
  },
  {
   "cell_type": "markdown",
   "id": "adf0d69a",
   "metadata": {
    "editable": true
   },
   "source": [
    "* **5c (5pt):** Find the analytical solution for the last equation. Hint, look back at the solutions for the simple harmonic oscillator problem in one dimension in for example homework 7.\n",
    "\n",
    "* **5d (5pt):** Find the expressions for the kinetic and potential energies in terms of the variables $r$ and $\\phi$. \n",
    "\n",
    "* **5e (10pt):** With the potential $V$  and kinetic $T$ energies, define the Lagrangian for the mathematical pendulum discussed here. Add the constraint $r=l$ via a Lagrange multiplier $\\lambda$ and derive the equations of motion. Show that these result in  $\\ddot{\\phi}(t)=-\\omega_0^2\\sin{(\\phi(t))}$ with $\\omega_0^2=g/l$ and $\\lambda=ml\\dot{\\phi}^2+mg\\cos{(\\phi)}$.  How would you interpret $\\lambda$?"
   ]
  },
  {
   "cell_type": "markdown",
   "id": "3d19027e",
   "metadata": {
    "editable": true
   },
   "source": [
    "### Classical Mechanics Extra Credit Assignment: Scientific Writing and attending Talks\n",
    "\n",
    "The following gives you an opportunity to earn **five extra credit\n",
    "points** on each of the remaining homeworks and **ten extra credit points**\n",
    "on the midterms and finals.  This assignment also covers an aspect of\n",
    "the scientific process that is not taught in most undergraduate\n",
    "programs: scientific writing.  Writing scientific reports is how\n",
    "scientist communicate their results to the rest of the field.  Knowing\n",
    "how to assemble a well written scientific report will greatly benefit\n",
    "you in you upper level classes, in graduate school, and in the work\n",
    "place.\n",
    "\n",
    "The full information on extra credits is found at <https://github.com/mhjensen/Physics321/blob/master/doc/Homeworks/ExtraCredits/>. There you will also find examples on how to write a scientific article. \n",
    "Below you can also find a description on how to gain extra credits by attending scientific talks.\n",
    "\n",
    "This assignment allows you to gain extra credit points by practicing\n",
    "your scientific writing.  For each of the remaining homeworks you can\n",
    "submit the specified section of a scientific report (written about the\n",
    "numerical aspect of the homework) for five extra credit points on the\n",
    "assignment.  For the two midterms and the final, submitting a full\n",
    "scientific report covering the numerical analysis problem will be\n",
    "worth ten extra points.  For credit the grader must be able to tell\n",
    "that you put effort into the assignment (i.e. well written, well\n",
    "formatted, etc.).  If you are unfamiliar with writing scientific\n",
    "reports, [see the information here](https://github.com/mhjensen/Physics321/blob/master/doc/Homeworks/ExtraCredits/IntroductionScientificWriting.md)\n",
    "\n",
    "The following table explains what aspect of a scientific report is due\n",
    "with which homework.  You can submit the assignment in any format you\n",
    "like, in the same document as your homework, or in a different one.\n",
    "Remember to cite any external references you use and include a\n",
    "reference list.  There are no length requirements, but make sure what\n",
    "you turn in is complete and through.  If you have any questions,\n",
    "please contact Julie Butler at butler@frib.msu.edu.\n",
    "\n",
    "<table class=\"dotable\" border=\"1\">\n",
    "<thead>\n",
    "<tr><th align=\"center\">  HW/Project </th> <th align=\"center\">Due Date</th> <th align=\"center\">Extra Credit Assignment</th> </tr>\n",
    "</thead>\n",
    "<tbody>\n",
    "<tr><td align=\"center\">   HW 3             </td> <td align=\"center\">   2-8         </td> <td align=\"center\">   Abstract                   </td> </tr>\n",
    "<tr><td align=\"center\">   HW 4             </td> <td align=\"center\">   2-15        </td> <td align=\"center\">   Introduction               </td> </tr>\n",
    "<tr><td align=\"center\">   HW 5             </td> <td align=\"center\">   2-22        </td> <td align=\"center\">   Methods                    </td> </tr>\n",
    "<tr><td align=\"center\">   HW 6             </td> <td align=\"center\">   3-1         </td> <td align=\"center\">   Results and Discussion     </td> </tr>\n",
    "<tr><td align=\"center\">   **Midterm 1**    </td> <td align=\"center\">   **3-12**    </td> <td align=\"center\">   *Full Written Report*      </td> </tr>\n",
    "<tr><td align=\"center\">   HW 7             </td> <td align=\"center\">   3-22        </td> <td align=\"center\">   Abstract                   </td> </tr>\n",
    "<tr><td align=\"center\">   HW 8             </td> <td align=\"center\">   3-29        </td> <td align=\"center\">   Introduction               </td> </tr>\n",
    "<tr><td align=\"center\">   HW 9             </td> <td align=\"center\">   4-5         </td> <td align=\"center\">   Results and Discussion     </td> </tr>\n",
    "<tr><td align=\"center\">   **Midterm 2**    </td> <td align=\"center\">   **4-16**    </td> <td align=\"center\">   *Full Written Report*      </td> </tr>\n",
    "<tr><td align=\"center\">   HW 10            </td> <td align=\"center\">   4-26        </td> <td align=\"center\">   Abstract                   </td> </tr>\n",
    "<tr><td align=\"center\">   **Final**        </td> <td align=\"center\">   **4-30**    </td> <td align=\"center\">   *Full Written Report*      </td> </tr>\n",
    "</tbody>\n",
    "</table>\n",
    "\n",
    "You can also gain extra credits if you attend scientific talks.\n",
    "This is described here."
   ]
  },
  {
   "cell_type": "markdown",
   "id": "e02355dd",
   "metadata": {
    "editable": true
   },
   "source": [
    "### Integrating Classwork With Research\n",
    "\n",
    "This opportunity will allow you to earn up to 5 extra credit points on a Homework per week. These points can push you above 100% or help make up for missed exercises.\n",
    "In order to earn all points you must:\n",
    "\n",
    "1. Attend an MSU research talk (recommended research oriented Clubs is  provided below)\n",
    "\n",
    "2. Summarize the talk using at least 150 words\n",
    "\n",
    "3. Turn in the summary along with your Homework.\n",
    "\n",
    "Approved talks:\n",
    "Talks given by researchers through the following clubs:\n",
    "* Research and Idea Sharing Enterprise (RAISE)​: Meets Wednesday Nights Society for Physics Students (SPS)​: Meets Monday Nights\n",
    "\n",
    "* Astronomy Club​: Meets Monday Nights\n",
    "\n",
    "* Facility For Rare Isotope Beam (FRIB) Seminars: ​Occur multiple times a week"
   ]
  }
 ],
 "metadata": {},
 "nbformat": 4,
 "nbformat_minor": 5
}
