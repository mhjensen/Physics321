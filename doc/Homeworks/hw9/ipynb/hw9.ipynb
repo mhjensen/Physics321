{
 "cells": [
  {
   "cell_type": "markdown",
   "id": "f3d3a630",
   "metadata": {
    "editable": true
   },
   "source": [
    "<!-- HTML file automatically generated from DocOnce source (https://github.com/doconce/doconce/)\n",
    "doconce format html hw9.do.txt --no_mako -->\n",
    "<!-- dom:TITLE: PHY321: Classical Mechanics 1 -->"
   ]
  },
  {
   "cell_type": "markdown",
   "id": "91d06ae5",
   "metadata": {
    "editable": true
   },
   "source": [
    "# PHY321: Classical Mechanics 1\n",
    "**Homework 9, due Thursday  April 28**\n",
    "\n",
    "Date: **Apr 19, 2023**"
   ]
  },
  {
   "cell_type": "markdown",
   "id": "de08303c",
   "metadata": {
    "editable": true
   },
   "source": [
    "### Practicalities about  homeworks and projects\n",
    "\n",
    "1. You can work in groups (optimal groups are often 2-3 people) or by yourself. If you work as a group you can hand in one answer only if you wish. **Remember to write your name(s)**!\n",
    "\n",
    "2. Homeworks are available  the week before the deadline. \n",
    "\n",
    "3. How do I(we)  hand in?  Due to the corona virus and many of you not being on campus, we recommend that you scan your handwritten notes and upload them to D2L. If you are ok with typing mathematical formulae using say Latex, you can hand in everything as a single jupyter notebook at D2L. The numerical exercise(s) should always be handed in as a jupyter notebook by the deadline at D2L."
   ]
  },
  {
   "cell_type": "markdown",
   "id": "4a30951b",
   "metadata": {
    "editable": true
   },
   "source": [
    "### Introduction to homework 9\n",
    "\n",
    "This week's exercises focus on solving\n",
    "two-body  problems with central forces and the Lagrangian formalism (exercise 5). There are no numerical exercises. \n",
    "The first four exercises are examples taken from our discussions of two-body problems and the relevant theory is to be found in chapter 8 of Taylor. The last exercise involves chapters 6 and 7 of Taylor."
   ]
  },
  {
   "cell_type": "markdown",
   "id": "cca4c322",
   "metadata": {
    "editable": true
   },
   "source": [
    "### Exercise 1: Attractive Potential (10pt)\n",
    "\n",
    "Consider a particle in an attractive potential"
   ]
  },
  {
   "cell_type": "markdown",
   "id": "867bbf61",
   "metadata": {
    "editable": true
   },
   "source": [
    "$$\n",
    "V(r)=-\\alpha/r.\n",
    "$$"
   ]
  },
  {
   "cell_type": "markdown",
   "id": "e4f617c5",
   "metadata": {
    "editable": true
   },
   "source": [
    "The quantity $r$ is the absolute value of the relative position. We\n",
    "will use the reduced mass $\\mu$ and the angular momentum $L$, as\n",
    "discussed during the lectures. With the transformation of a two-body\n",
    "problem to the center-of-mass frame, the actual equations look like an\n",
    "*effective* one-body problem. The energy of the system is $E$ and the\n",
    "minimum of the effective potential is $r_{\\rm min}$.\n",
    "\n",
    "The analytical solution to the radial equation of motion is"
   ]
  },
  {
   "cell_type": "markdown",
   "id": "f74e0f61",
   "metadata": {
    "editable": true
   },
   "source": [
    "$$\n",
    "r(\\phi) = \\frac{1}{\\frac{\\mu\\alpha}{L^2}+A\\cos{(\\phi)}}.\n",
    "$$"
   ]
  },
  {
   "cell_type": "markdown",
   "id": "efbd17de",
   "metadata": {
    "editable": true
   },
   "source": [
    "Find the value of $A$. Hint: Use the fact that at $r_{\\rm min}$\n",
    "there is no radial kinetic energy and $E=-\\alpha/r_{\\rm min}+L^2/2mr_{\\rm min}^2$."
   ]
  },
  {
   "cell_type": "markdown",
   "id": "9091d892",
   "metadata": {
    "editable": true
   },
   "source": [
    "### Exercise 2 (20pt) Inverse-square force\n",
    "\n",
    "Consider again the same effective potential as in exercise 1. This leads to an attractive inverse-square-law force, $F=-\\alpha/r^2$. Consider a particle of mass $m$ with angular momentum $L$. Taylor sections 8.4-8.7 are relevant background material.  See also the harmonic oscillator potential from hw8. The equation of motion for the radial degrees of freedom is (see also hw8) in the center-of-mass frame in two dimensions with $x=r\\cos{(\\phi)}$ and $y=r\\sin{(\\phi)}$ and\n",
    "$r\\in [0,\\infty)$, $\\phi\\in [0,2\\pi]$ and $r=\\sqrt{x^2+y^2}$ are given by"
   ]
  },
  {
   "cell_type": "markdown",
   "id": "5103dfcc",
   "metadata": {
    "editable": true
   },
   "source": [
    "$$\n",
    "\\ddot{r}=-\\frac{1}{m}\\frac{dV(r)}{dr}+r\\dot{\\phi}^2,\n",
    "$$"
   ]
  },
  {
   "cell_type": "markdown",
   "id": "a8363eb6",
   "metadata": {
    "editable": true
   },
   "source": [
    "and"
   ]
  },
  {
   "cell_type": "markdown",
   "id": "e5b59c29",
   "metadata": {
    "editable": true
   },
   "source": [
    "$$\n",
    "\\dot{\\phi}=\\frac{L}{m r^2}.\n",
    "$$"
   ]
  },
  {
   "cell_type": "markdown",
   "id": "578b873e",
   "metadata": {
    "editable": true
   },
   "source": [
    "Here $V(r)$ is any central force which depends only on the relative coordinate.\n",
    "\n",
    "* 2a (5pt)  Find the radius of a circular orbit by solving for the position of the minimum of the effective potential. \n",
    "\n",
    "* 2b (5pt) At the minimum, the radial velocity is zero and it is only the [centripetal velocity](https://en.wikipedia.org/wiki/Centripetal_force) which is nonzero. This implies that $\\ddot{r}=0$.  What is the angular frequency, $\\dot{\\theta}$, of the orbit? Solve this by setting $\\ddot{r}=0=F/m+\\dot{\\theta}^2r$.\n",
    "\n",
    "* 2c (5pt) Find the effective spring constant for the particle at the minimum.\n",
    "\n",
    "* 2d (5pt) What is the angular frequency for small vibrations about the minimum? How does this compare with the answer to 2b?"
   ]
  },
  {
   "cell_type": "markdown",
   "id": "af6eef74",
   "metadata": {
    "editable": true
   },
   "source": [
    "### Exercise 3, Inverse-square force again (10pt)\n",
    "\n",
    "Consider again a  particle of mass $m$ in the same attractive potential, $V(r)=-\\alpha/r$, with angular momentum $L$ with just the right energy so that"
   ]
  },
  {
   "cell_type": "markdown",
   "id": "9a4f83d1",
   "metadata": {
    "editable": true
   },
   "source": [
    "$$\n",
    "A=m\\alpha/L^2\n",
    "$$"
   ]
  },
  {
   "cell_type": "markdown",
   "id": "30c5716a",
   "metadata": {
    "editable": true
   },
   "source": [
    "where $A$ comes from the expression"
   ]
  },
  {
   "cell_type": "markdown",
   "id": "ae4f136e",
   "metadata": {
    "editable": true
   },
   "source": [
    "$$\n",
    "r=\\frac{1}{(m\\alpha/L^2)+A\\cos{(\\phi)}}.\n",
    "$$"
   ]
  },
  {
   "cell_type": "markdown",
   "id": "1ce34bdf",
   "metadata": {
    "editable": true
   },
   "source": [
    "The trajectory can then be rewritten as"
   ]
  },
  {
   "cell_type": "markdown",
   "id": "887a5a47",
   "metadata": {
    "editable": true
   },
   "source": [
    "$$\n",
    "r=\\frac{2r_0}{1+\\cos\\theta},~~~r_0=\\frac{L^2}{2m\\alpha}.\n",
    "$$"
   ]
  },
  {
   "cell_type": "markdown",
   "id": "a0a01433",
   "metadata": {
    "editable": true
   },
   "source": [
    "* 3a (5pt) Show that for this case the total energy $E$ approaches zero.\n",
    "\n",
    "* 3b (5pt) With zero energy $E=0$, write this trajectory in a more recognizable parabolic form, that is express $x_0$ and $R$ in terms of $r_0$ using"
   ]
  },
  {
   "cell_type": "markdown",
   "id": "3063ea59",
   "metadata": {
    "editable": true
   },
   "source": [
    "$$\n",
    "x=x_0-\\frac{y^2}{R}.\n",
    "$$"
   ]
  },
  {
   "cell_type": "markdown",
   "id": "703bab9a",
   "metadata": {
    "editable": true
   },
   "source": [
    "### Exercise 4, parabolic and hyperbolic orbits (10pt)\n",
    "\n",
    "The solution to the radial function for an inverse-square-law force, see for example Taylor equation (8.59) or the equation above, is"
   ]
  },
  {
   "cell_type": "markdown",
   "id": "492a2005",
   "metadata": {
    "editable": true
   },
   "source": [
    "$$\n",
    "r(\\phi) = \\frac{c}{1+\\epsilon\\cos{(\\phi)}}.\n",
    "$$"
   ]
  },
  {
   "cell_type": "markdown",
   "id": "89b6eb18",
   "metadata": {
    "editable": true
   },
   "source": [
    "For $\\epsilon=1$ (or the energy $E=0$) the orbit reduces to a parabola as we saw in the previous exercise,\n",
    "while for $\\epsilon > 1$ (or energy positive) the orbit becomes a hyperbola. The equation for a hyperbola in Cartesian coordinates is"
   ]
  },
  {
   "cell_type": "markdown",
   "id": "b766d026",
   "metadata": {
    "editable": true
   },
   "source": [
    "$$\n",
    "\\frac{(x-\\delta)^2}{\\alpha^2}-\\frac{y^2}{\\beta^2}=1.\n",
    "$$"
   ]
  },
  {
   "cell_type": "markdown",
   "id": "6604fa07",
   "metadata": {
    "editable": true
   },
   "source": [
    "For a hyperbola, identify the constants $\\alpha$, $\\beta$ and $\\delta$ in terms of the constants $c$ and $\\epsilon$ for $r(\\phi)$."
   ]
  },
  {
   "cell_type": "markdown",
   "id": "24438eb3",
   "metadata": {
    "editable": true
   },
   "source": [
    "### Exercise 5, Lagrangian formalism and the Lennard-Jones potential (40pt)\n",
    "\n",
    "This exercise is a   follow-up of homework 6. There we studied the so-called\n",
    "[Lennard-Jones potential](https://en.wikipedia.org/wiki/Lennard-Jones_potential) which is widely used in molecular dynamics\n",
    "calculations and in the simulations of [quantum liquids](https://journals.aps.org/prb/abstract/10.1103/PhysRevB.40.11070). This potential is based on parametrizations from\n",
    "experiments. In [molecular dynamics calculations](https://en.wikipedia.org/wiki/Molecular_dynamics) the assumption is\n",
    "that atoms move according to the laws of Newton, given the correct\n",
    "model for interactions. We can say then that quantum-mechanical\n",
    "degrees of freedom stemming from complicated interactions between electrons\n",
    "and protons in an atom, are parametrized in terms of an effective\n",
    "potential.\n",
    "\n",
    "We will limit ourselves to a two-body problem and the\n",
    "famous Lennard-Jones potential,"
   ]
  },
  {
   "cell_type": "markdown",
   "id": "a221435f",
   "metadata": {
    "editable": true
   },
   "source": [
    "<!-- Equation labels as ordinary links -->\n",
    "<div id=\"_auto1\"></div>\n",
    "\n",
    "$$\n",
    "\\begin{equation}\n",
    "    V(r) = 4\\varepsilon\\left((\\frac{\\sigma}{r})^{12} - (\\frac{\\sigma}{r})^6\\right), \n",
    "\\label{_auto1} \\tag{1}\n",
    "\\end{equation}\n",
    "$$"
   ]
  },
  {
   "cell_type": "markdown",
   "id": "04ce824d",
   "metadata": {
    "editable": true
   },
   "source": [
    "where $r$ is the distance between two atoms,\n",
    "$r=\\vert\\boldsymbol{r}_i-\\boldsymbol{r}_j\\vert$, that is the norm of the relative\n",
    "distance vector $\\boldsymbol{r}$. The quantities $\\sigma$ and $\\varepsilon$ are\n",
    "parameters which determine which chemical compound is modelled. This\n",
    "potential is a good approximation for noble gases like helium, neon, argon and other.\n",
    "\n",
    "* **5a (10pt):** Define the center-of-mass position $\\boldsymbol{R}$ and the relative position $\\boldsymbol{r}$ in terms of the masses and the positions of particles one and two $\\boldsymbol{r}_1$ and $\\boldsymbol{r}_2$, respectively. Define then the center-of-mass frame by setting $\\boldsymbol{R}=0$. Show then that you can write the total angular momentum as $\\boldsymbol{L}=\\mu(\\boldsymbol{r}\\times \\dot{\\boldsymbol{r}})$. Hint: See Taylor section 8.3. How do you interpret the angular momentum?  Why can we reduce the motion of two particles to a problem in two dimensions only?\n",
    "\n",
    "* **5b (10pt):** We introduce polar coordinates with $r\\in [0,\\infty)$ and $\\phi\\in[0,2\\pi]$. The quantity $r$ is the absolute value (magnitude) of the relative distance. Show that you can write the kinetic energy as $K=1/2\\mu(\\dot{r}^2+r^2\\dot{\\phi}^2)$.\n",
    "\n",
    "* **5c (5pt):** Include the potential energy for the Lennard-Jones potential and write out the Lagrangian using the coordinates $r$ and $\\phi$. Does the potential energy depend on $\\phi$?\n",
    "\n",
    "* **5d (10pt):** Use the Euler-Lagrange equations to find the equations of motion for $r$ and $\\phi$. Does the equation of motion for $r$ agree with what you would expect? Comment your results. Hint: think of the gravitational two-body problem\n",
    "\n",
    "* **5e (5pt):** Use the equation of motion for $\\phi$ to show that angular momentum is conserved. Comment your results. Can you infer this from the form of the potential? Hint: see your answer to 5c."
   ]
  },
  {
   "cell_type": "markdown",
   "id": "d9996b0f",
   "metadata": {
    "editable": true
   },
   "source": [
    "### Classical Mechanics Extra Credit Assignment: Scientific Writing and attending Talks\n",
    "\n",
    "The following gives you an opportunity to earn **five extra credit\n",
    "points** on each of the remaining homeworks and **ten extra credit points**\n",
    "on the midterms and finals.  This assignment also covers an aspect of\n",
    "the scientific process that is not taught in most undergraduate\n",
    "programs: scientific writing.  Writing scientific reports is how\n",
    "scientist communicate their results to the rest of the field.  Knowing\n",
    "how to assemble a well written scientific report will greatly benefit\n",
    "you in you upper level classes, in graduate school, and in the work\n",
    "place.\n",
    "\n",
    "The full information on extra credits is found at <https://github.com/mhjensen/Physics321/blob/master/doc/Homeworks/ExtraCredits/>. There you will also find examples on how to write a scientific article. \n",
    "Below you can also find a description on how to gain extra credits by attending scientific talks.\n",
    "\n",
    "This assignment allows you to gain extra credit points by practicing\n",
    "your scientific writing.  For each of the remaining homeworks you can\n",
    "submit the specified section of a scientific report (written about the\n",
    "numerical aspect of the homework) for five extra credit points on the\n",
    "assignment.  For the two midterms and the final, submitting a full\n",
    "scientific report covering the numerical analysis problem will be\n",
    "worth ten extra points.  For credit the grader must be able to tell\n",
    "that you put effort into the assignment (i.e. well written, well\n",
    "formatted, etc.).  If you are unfamiliar with writing scientific\n",
    "reports, [see the information here](https://github.com/mhjensen/Physics321/blob/master/doc/Homeworks/ExtraCredits/IntroductionScientificWriting.md)\n",
    "\n",
    "The following table explains what aspect of a scientific report is due\n",
    "with which homework.  You can submit the assignment in any format you\n",
    "like, in the same document as your homework, or in a different one.\n",
    "Remember to cite any external references you use and include a\n",
    "reference list.  There are no length requirements, but make sure what\n",
    "you turn in is complete and through.  If you have any questions,\n",
    "please contact us.\n",
    "\n",
    "<table class=\"dotable\" border=\"1\">\n",
    "<thead>\n",
    "<tr><th align=\"center\">  HW/Project </th> <th align=\"center\">Due Date</th> <th align=\"center\">Extra Credit Assignment</th> </tr>\n",
    "</thead>\n",
    "<tbody>\n",
    "<tr><td align=\"center\">   HW 3             </td> <td align=\"center\">   2-8         </td> <td align=\"center\">   Abstract                   </td> </tr>\n",
    "<tr><td align=\"center\">   HW 4             </td> <td align=\"center\">   2-15        </td> <td align=\"center\">   Introduction               </td> </tr>\n",
    "<tr><td align=\"center\">   HW 5             </td> <td align=\"center\">   2-22        </td> <td align=\"center\">   Methods                    </td> </tr>\n",
    "<tr><td align=\"center\">   HW 6             </td> <td align=\"center\">   3-1         </td> <td align=\"center\">   Results and Discussion     </td> </tr>\n",
    "<tr><td align=\"center\">   **Midterm 1**    </td> <td align=\"center\">   **3-12**    </td> <td align=\"center\">   *Full Written Report*      </td> </tr>\n",
    "<tr><td align=\"center\">   HW 7             </td> <td align=\"center\">   3-22        </td> <td align=\"center\">   Abstract                   </td> </tr>\n",
    "<tr><td align=\"center\">   HW 8             </td> <td align=\"center\">   3-29        </td> <td align=\"center\">   Introduction               </td> </tr>\n",
    "<tr><td align=\"center\">   HW 9             </td> <td align=\"center\">   4-5         </td> <td align=\"center\">   Results and Discussion     </td> </tr>\n",
    "<tr><td align=\"center\">   **Midterm 2**    </td> <td align=\"center\">   **4-16**    </td> <td align=\"center\">   *Full Written Report*      </td> </tr>\n",
    "<tr><td align=\"center\">   HW 10            </td> <td align=\"center\">   4-26        </td> <td align=\"center\">   Abstract                   </td> </tr>\n",
    "<tr><td align=\"center\">   **Final**        </td> <td align=\"center\">   **4-30**    </td> <td align=\"center\">   *Full Written Report*      </td> </tr>\n",
    "</tbody>\n",
    "</table>\n",
    "\n",
    "You can also gain extra credits if you attend scientific talks.\n",
    "This is described here."
   ]
  },
  {
   "cell_type": "markdown",
   "id": "d034f95f",
   "metadata": {
    "editable": true
   },
   "source": [
    "### Integrating Classwork With Research\n",
    "\n",
    "This opportunity will allow you to earn up to 5 extra credit points on a Homework per week. These points can push you above 100% or help make up for missed exercises.\n",
    "In order to earn all points you must:\n",
    "\n",
    "1. Attend an MSU research talk (recommended research oriented Clubs is  provided below)\n",
    "\n",
    "2. Summarize the talk using at least 150 words\n",
    "\n",
    "3. Turn in the summary along with your Homework.\n",
    "\n",
    "Approved talks:\n",
    "Talks given by researchers through the following clubs:\n",
    "* Research and Idea Sharing Enterprise (RAISE)​: Meets Wednesday Nights Society for Physics Students (SPS)​: Meets Monday Nights\n",
    "\n",
    "* Astronomy Club​: Meets Monday Nights\n",
    "\n",
    "* Facility For Rare Isotope Beam (FRIB) Seminars: ​Occur multiple times a week"
   ]
  }
 ],
 "metadata": {},
 "nbformat": 4,
 "nbformat_minor": 5
}
