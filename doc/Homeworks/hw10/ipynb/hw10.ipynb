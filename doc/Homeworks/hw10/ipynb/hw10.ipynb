{
 "cells": [
  {
   "cell_type": "markdown",
   "id": "2d0b69df",
   "metadata": {
    "editable": true
   },
   "source": [
    "<!-- HTML file automatically generated from DocOnce source (https://github.com/doconce/doconce/)\n",
    "doconce format html hw10.do.txt --no_mako -->\n",
    "<!-- dom:TITLE: PHY321: Classical Mechanics 1 -->"
   ]
  },
  {
   "cell_type": "markdown",
   "id": "3fc16d58",
   "metadata": {
    "editable": true
   },
   "source": [
    "# PHY321: Classical Mechanics 1\n",
    "**Homework 10, due Monday May 1**\n",
    "\n",
    "Date: **Apr 17, 2023**"
   ]
  },
  {
   "cell_type": "markdown",
   "id": "d15941e2",
   "metadata": {
    "editable": true
   },
   "source": [
    "### Practicalities about  homeworks and projects\n",
    "\n",
    "1. You can work in groups (optimal groups are often 2-3 people) or by yourself. If you work as a group you can hand in one answer only if you wish. **Remember to write your name(s)**!\n",
    "\n",
    "2. Homeworks are available  the week before the deadline. \n",
    "\n",
    "3. How do I(we)  hand in?  Due to the corona virus and many of you not being on campus, we recommend that you scan your handwritten notes and upload them to D2L. If you are ok with typing mathematical formulae using say Latex, you can hand in everything as a single jupyter notebook at D2L. The numerical exercise(s) should always be handed in as a jupyter notebook by the deadline at D2L."
   ]
  },
  {
   "cell_type": "markdown",
   "id": "c276c67b",
   "metadata": {
    "editable": true
   },
   "source": [
    "### Introduction to homework 10\n",
    "\n",
    "This homework is optional but gives an extra score of 10% on top of\n",
    "all you have done throughout the semester. The exercises are\n",
    "essentially good old fashioned paper and pencil exercises and each\n",
    "covers different aspects of what has been done after spring break.\n",
    "The relevant reading background is marked in the different exercises (Taylor's text)."
   ]
  },
  {
   "cell_type": "markdown",
   "id": "53e357d1",
   "metadata": {
    "editable": true
   },
   "source": [
    "### Exercise 1 (10pt), new reference frame (Taylor chapter 8)\n",
    "\n",
    "Show that if one transforms to a reference frame where the total\n",
    "momentum is zero, $\\boldsymbol{p}_1=-\\boldsymbol{p}_2$, that the relative momentum\n",
    "$\\boldsymbol{q}$ corresponds to either $\\boldsymbol{p}_1$ or $-\\boldsymbol{p}_2$. This\n",
    "means that in this frame the magnitude of $\\boldsymbol{q}$ is one half the\n",
    "magnitude of $\\boldsymbol{p}_1-\\boldsymbol{p}_2$."
   ]
  },
  {
   "cell_type": "markdown",
   "id": "0f24a0bf",
   "metadata": {
    "editable": true
   },
   "source": [
    "### Exercise 2 (10pt) Center of mass and relative coordinates (Taylor chapter 8)\n",
    "\n",
    "Given the center of mass and relative coordinates $\\boldsymbol{R}$ and $\\boldsymbol{r}$, respectively, for\n",
    "particles of mass $m_1$ and $m_2$, find the coordinates $\\boldsymbol{r}_1$\n",
    "and $\\boldsymbol{r}_2$ in terms of the masses, $\\boldsymbol{R}$ and $\\boldsymbol{r}$."
   ]
  },
  {
   "cell_type": "markdown",
   "id": "fd9823e9",
   "metadata": {
    "editable": true
   },
   "source": [
    "### Exercise 3 (30pt),  Two-body problems (Taylor chapter 8)\n",
    "\n",
    "Consider a particle of mass $m$ moving in a potential"
   ]
  },
  {
   "cell_type": "markdown",
   "id": "d996b068",
   "metadata": {
    "editable": true
   },
   "source": [
    "$$\n",
    "V(r)=\\alpha\\ln(r/\\alpha),\n",
    "$$"
   ]
  },
  {
   "cell_type": "markdown",
   "id": "b90d597a",
   "metadata": {
    "editable": true
   },
   "source": [
    "where $\\alpha$ is a constant.\n",
    "\n",
    "* 3a (5pt)  If the particle is moving in a circular orbit of radius $R$, find the angular frequency $\\dot{\\theta}$. Solve this by setting $F=-m\\dot{\\theta}^2r$ (force and acceleration point inward).\n",
    "\n",
    "* 3b (5pt) Express the angular momentum $L$ in terms of the constant $\\alpha$, the mass $m$ and the radius $R$. Also express $R$ in terms of $L$, $\\alpha$ and $m$.\n",
    "\n",
    "* 3c (5pt) Sketch the effective radial potential, $V_{\\rm eff}(r)$, for a particle with angular momentum $L$. (No longer necessarily moving in a circular orbit.)\n",
    "\n",
    "* 3d (5pt)  Find the position of the minimum of $V_{\\rm eff}$ in terms of $L$, $\\alpha$ and $m$, then compare to the result of (3b).\n",
    "\n",
    "* 3e (5pt)  What is the effective spring constant for a particle at the minimum of $V_{\\rm eff}$? Express your answer in terms of $L$, $m$ and $\\alpha$. \n",
    "\n",
    "* 3f (5pt)  What is the angular frequency, $\\omega$, for small oscillations of $r$ about the $R_{\\rm min}$?  Express your answer in terms of $\\dot{\\theta}$ from part (3a)."
   ]
  },
  {
   "cell_type": "markdown",
   "id": "a5314eda",
   "metadata": {
    "editable": true
   },
   "source": [
    "### Exercise 4 (10pt), Lagrangian formalism (Taylor chapters 6-7)\n",
    "\n",
    "Consider a mass $m$ connected to a spring with spring constant $k$. Rather than being fixed, the other end of the spring oscillates with frequency $\\omega$ and amplitude $A$. For a generalized coordinate, use the displacement of the mass from its relaxed position and call it $y=x-\\ell-A\\cos\\omega t$. In this system the potential energy of the spring is $ky^2/2$.\n",
    "\n",
    "* 4a (5pt) Write the kinetic energy in terms of the generalized coordinate\n",
    "\n",
    "* 4b (5pt) Write down the Lagrangian and find the equations of motion for $y$"
   ]
  },
  {
   "cell_type": "markdown",
   "id": "88152ae0",
   "metadata": {
    "editable": true
   },
   "source": [
    "### Exercise 5 (30pt), Coupled Harmonic Oscillators  (Taylor chapters 6-7)\n",
    "\n",
    "The relevant chapters from Taylor are chapters 5-7 and the lectures notes on [harmonic oscillations](https://mhjensen.github.io/Physics321/doc/LectureNotes/_build/html/chapter5.html) and the [Lagrangian Formalism and Calculus of Variations](https://mhjensen.github.io/Physics321/doc/LectureNotes/_build/html/chapter8.html). \n",
    "\n",
    "Consider a mass $m$ that is connected to a wall by a spring with\n",
    "spring constant $k$. A second identical mass $m$ is connected to the\n",
    "first mass by an identical spring. Motion is confined to the $x$ direction only.\n",
    "\n",
    "* **5a (5pt):** Make a drawing of the system, set up forces and define variables $x_1$ and $x_2$ for the two masses.\n",
    "\n",
    "* **5b (5pt):** Write the Lagrangian in terms of the positions of the two masses $x_1$ and $x_2$.\n",
    "\n",
    "* **5c (5pt):** Use the Euler-Lagrange equations to find the analytical expressions for the  equations of motion.\n",
    "\n",
    "* **5d (10pt):** Find the analytical  solutions using a guess of  the type"
   ]
  },
  {
   "cell_type": "markdown",
   "id": "0378cf66",
   "metadata": {
    "editable": true
   },
   "source": [
    "$$\n",
    "x_1=Ae^{i\\omega t},~~~x_2=Be^{i\\omega t}.\n",
    "$$"
   ]
  },
  {
   "cell_type": "markdown",
   "id": "7b2138de",
   "metadata": {
    "editable": true
   },
   "source": [
    "Solve for $A/B$ and $\\omega$. Express your answers in terms of $\\omega_0^2=k/m$."
   ]
  },
  {
   "cell_type": "markdown",
   "id": "66b25de5",
   "metadata": {
    "editable": true
   },
   "source": [
    "### Classical Mechanics Extra Credit Assignment: Scientific Writing and attending Talks\n",
    "\n",
    "The following gives you an opportunity to earn **five extra credit\n",
    "points** on each of the remaining homeworks and **ten extra credit points**\n",
    "on the midterms and finals.  This assignment also covers an aspect of\n",
    "the scientific process that is not taught in most undergraduate\n",
    "programs: scientific writing.  Writing scientific reports is how\n",
    "scientist communicate their results to the rest of the field.  Knowing\n",
    "how to assemble a well written scientific report will greatly benefit\n",
    "you in you upper level classes, in graduate school, and in the work\n",
    "place.\n",
    "\n",
    "The full information on extra credits is found at <https://github.com/mhjensen/Physics321/blob/master/doc/Homeworks/ExtraCredits/>. There you will also find examples on how to write a scientific article. \n",
    "Below you can also find a description on how to gain extra credits by attending scientific talks.\n",
    "\n",
    "This assignment allows you to gain extra credit points by practicing\n",
    "your scientific writing.  For each of the remaining homeworks you can\n",
    "submit the specified section of a scientific report (written about the\n",
    "numerical aspect of the homework) for five extra credit points on the\n",
    "assignment.  For the two midterms and the final, submitting a full\n",
    "scientific report covering the numerical analysis problem will be\n",
    "worth ten extra points.  For credit the grader must be able to tell\n",
    "that you put effort into the assignment (i.e. well written, well\n",
    "formatted, etc.).  If you are unfamiliar with writing scientific\n",
    "reports, [see the information here](https://github.com/mhjensen/Physics321/blob/master/doc/Homeworks/ExtraCredits/IntroductionScientificWriting.md)\n",
    "\n",
    "The following table explains what aspect of a scientific report is due\n",
    "with which homework.  You can submit the assignment in any format you\n",
    "like, in the same document as your homework, or in a different one.\n",
    "Remember to cite any external references you use and include a\n",
    "reference list.  There are no length requirements, but make sure what\n",
    "you turn in is complete and through.  If you have any questions,\n",
    "please contact us.\n",
    "\n",
    "<table class=\"dotable\" border=\"1\">\n",
    "<thead>\n",
    "<tr><th align=\"center\">  HW/Project </th> <th align=\"center\">Due Date</th> <th align=\"center\">Extra Credit Assignment</th> </tr>\n",
    "</thead>\n",
    "<tbody>\n",
    "<tr><td align=\"center\">   HW 3             </td> <td align=\"center\">   2-8         </td> <td align=\"center\">   Abstract                   </td> </tr>\n",
    "<tr><td align=\"center\">   HW 4             </td> <td align=\"center\">   2-15        </td> <td align=\"center\">   Introduction               </td> </tr>\n",
    "<tr><td align=\"center\">   HW 5             </td> <td align=\"center\">   2-22        </td> <td align=\"center\">   Methods                    </td> </tr>\n",
    "<tr><td align=\"center\">   HW 6             </td> <td align=\"center\">   3-1         </td> <td align=\"center\">   Results and Discussion     </td> </tr>\n",
    "<tr><td align=\"center\">   **Midterm 1**    </td> <td align=\"center\">   **3-12**    </td> <td align=\"center\">   *Full Written Report*      </td> </tr>\n",
    "<tr><td align=\"center\">   HW 7             </td> <td align=\"center\">   3-22        </td> <td align=\"center\">   Abstract                   </td> </tr>\n",
    "<tr><td align=\"center\">   HW 8             </td> <td align=\"center\">   3-29        </td> <td align=\"center\">   Introduction               </td> </tr>\n",
    "<tr><td align=\"center\">   HW 9             </td> <td align=\"center\">   4-5         </td> <td align=\"center\">   Results and Discussion     </td> </tr>\n",
    "<tr><td align=\"center\">   **Midterm 2**    </td> <td align=\"center\">   **4-16**    </td> <td align=\"center\">   *Full Written Report*      </td> </tr>\n",
    "<tr><td align=\"center\">   HW 10            </td> <td align=\"center\">   4-26        </td> <td align=\"center\">   Abstract                   </td> </tr>\n",
    "<tr><td align=\"center\">   **Final**        </td> <td align=\"center\">   **4-30**    </td> <td align=\"center\">   *Full Written Report*      </td> </tr>\n",
    "</tbody>\n",
    "</table>\n",
    "\n",
    "You can also gain extra credits if you attend scientific talks.\n",
    "This is described here."
   ]
  },
  {
   "cell_type": "markdown",
   "id": "3d8e31ed",
   "metadata": {
    "editable": true
   },
   "source": [
    "### Integrating Classwork With Research\n",
    "\n",
    "This opportunity will allow you to earn up to 5 extra credit points on a Homework per week. These points can push you above 100% or help make up for missed exercises.\n",
    "In order to earn all points you must:\n",
    "\n",
    "1. Attend an MSU research talk (recommended research oriented Clubs is  provided below)\n",
    "\n",
    "2. Summarize the talk using at least 150 words\n",
    "\n",
    "3. Turn in the summary along with your Homework.\n",
    "\n",
    "Approved talks:\n",
    "Talks given by researchers through the following clubs:\n",
    "* Research and Idea Sharing Enterprise (RAISE)​: Meets Wednesday Nights Society for Physics Students (SPS)​: Meets Monday Nights\n",
    "\n",
    "* Astronomy Club​: Meets Monday Nights\n",
    "\n",
    "* Facility For Rare Isotope Beam (FRIB) Seminars: ​Occur multiple times a week\n",
    "\n",
    "All the material on extra credits is at <https://github.com/mhjensen/Physics321/blob/master/doc/Homeworks/ExtraCredits/>."
   ]
  }
 ],
 "metadata": {},
 "nbformat": 4,
 "nbformat_minor": 5
}
