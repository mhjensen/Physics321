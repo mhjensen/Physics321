{
 "cells": [
  {
   "cell_type": "markdown",
   "id": "81e05f80",
   "metadata": {},
   "source": [
    "<!-- HTML file automatically generated from DocOnce source (https://github.com/doconce/doconce/)\n",
    "doconce format html solutionhw4.do.txt  -->\n",
    "<!-- dom:TITLE: PHY321: Classical Mechanics 1 -->"
   ]
  },
  {
   "cell_type": "markdown",
   "id": "d5074ca2",
   "metadata": {},
   "source": [
    "# PHY321: Classical Mechanics 1\n",
    "**Homework 4, due Monday  February 15**\n",
    "\n",
    "Date: **Feb 14, 2022**"
   ]
  },
  {
   "cell_type": "markdown",
   "id": "0ddc1212",
   "metadata": {},
   "source": [
    "### Practicalities about  homeworks and projects\n",
    "\n",
    "1. You can work in groups (optimal groups are often 2-3 people) or by yourself. If you work as a group you can hand in one answer only if you wish. **Remember to write your name(s)**!\n",
    "\n",
    "2. Homeworks are available Wednesday/Thursday the week before the deadline. The deadline is at the Friday lecture.\n",
    "\n",
    "3. How do I(we)  hand in?  You can hand in the paper and pencil exercises as a hand-written document. For this homework this applies to exercises 1-5. Alternatively, you can hand in everyhting (if you are ok with typing mathematical formulae using say Latex) as a jupyter notebook at D2L. The numerical exercise(s) (exercise 6 here) should always be handed in as a jupyter notebook by the deadline at D2L."
   ]
  },
  {
   "cell_type": "markdown",
   "id": "e7336fd5",
   "metadata": {},
   "source": [
    "### Introduction to homework 4\n",
    "\n",
    "This week's sets of classical pen and paper and computational\n",
    "exercises deal with simple motion problems and conservation laws; energy, momentum and angular momentum. These conservation laws are central in Physics and understanding them properly lays the foundation for understanding and analyzing more complicated physics problems.\n",
    "The relevant reading background is\n",
    "1. chapters 3, 4.1, 4.2 and 4.3 of Taylor (there are many good examples there) and\n",
    "\n",
    "2. chapters 10-13 of Malthe-Sørenssen.\n",
    "\n",
    "In both textbooks there are many nice worked out examples. Malthe-Sørenssen's text contains also several coding examples you may find useful. \n",
    "\n",
    "The numerical homework focuses on another motion problem where you can\n",
    "use the code you developed in homework 3, almost entirely. Please take\n",
    "a look at the posted solution (jupyter-notebook) for homework 3. You\n",
    "need only to change the forces at play."
   ]
  },
  {
   "cell_type": "markdown",
   "id": "804de3cd",
   "metadata": {},
   "source": [
    "### Exercise 1 (10 pt), Conservation laws, Energy and momentum\n",
    "\n",
    "* 1a (2pt) How do we define a conservative force?\n",
    "\n",
    "A conservative force is a force whose property is that the total work\n",
    "done in moving an object between two points is independent of the\n",
    "taken path. This means that the work on an object under the influence\n",
    "of a conservative force, is independent on the path of the object. It\n",
    "depends only on the spatial degrees of freedom and it is possible to\n",
    "assign a numerical value for the potential at any point. It leads to\n",
    "conservation of energy. The gravitational force is an example of a\n",
    "conservative force.\n",
    "\n",
    "If you wish to read more about conservative forces or not, Feyman's lectures from 1963 are quite interesting.\n",
    "He states for example that **All fundamental forces in nature appear to be conservative**.\n",
    "This statement was made while developing his argument that *there are no nonconservative forces*.\n",
    "You may enjoy the link to [Feynman's lecture](http://www.feynmanlectures.caltech.edu/I_14.html).\n",
    "\n",
    "An important condition for the final work to be independent of the path is that the **curl** of the force is zero, that"
   ]
  },
  {
   "cell_type": "markdown",
   "id": "51f349c5",
   "metadata": {},
   "source": [
    "$$\n",
    "\\boldsymbol{\\nabla} \\times \\boldsymbol{F}=0\n",
    "$$"
   ]
  },
  {
   "cell_type": "markdown",
   "id": "0055c53f",
   "metadata": {},
   "source": [
    "* 1b (4pt) Use the work-energy theorem to show that energy is conserved with a conservative force.\n",
    "\n",
    "The work-energy theorem states that the work done $W$ by a force $\\boldsymbol{F}$ that moves an object from a position $\\boldsymbol{r}_0$ to a new position $\\boldsymbol{r}_1$"
   ]
  },
  {
   "cell_type": "markdown",
   "id": "64d3fab7",
   "metadata": {},
   "source": [
    "$$\n",
    "W=\\int_{\\boldsymbol{r}_0}^{\\boldsymbol{r}_1}\\boldsymbol{F}\\boldsymbol{dr}=\\frac{1}{2}mv_1^2-\\frac{1}{2}mv_0^2,\n",
    "$$"
   ]
  },
  {
   "cell_type": "markdown",
   "id": "7d42d3b6",
   "metadata": {},
   "source": [
    "where $v_1^2$ is the velocity squared at a time $t_1$ and $v_0^2$ the corresponding quantity at a time $t_0$.\n",
    "The work done is thus the difference in kinetic energies. We can rewrite the above equation as"
   ]
  },
  {
   "cell_type": "markdown",
   "id": "751131de",
   "metadata": {},
   "source": [
    "$$\n",
    "\\frac{1}{2}mv_1^2=\\int_{\\boldsymbol{r}_0}^{\\boldsymbol{r}_1}\\boldsymbol{F}\\boldsymbol{dr}+\\frac{1}{2}mv_0^2,\n",
    "$$"
   ]
  },
  {
   "cell_type": "markdown",
   "id": "5a1e62a6",
   "metadata": {},
   "source": [
    "that is the final kinetic energy is equal to the initial kinetic energy plus the work done by the force over a given path from a  position $\\boldsymbol{r}_0$ at time $t_0$ to a final position position $\\boldsymbol{r}_1$ at a later time $t_1$.\n",
    "\n",
    "* 1c (4pt) Assume that you have only internal two-body forces acting on $N$ objects in an isolated system. The force from object $i$ on object $j$ is $\\boldsymbol{f}_{ij}$. Show that the linear momentum is conserved.\n",
    "\n",
    "Here we use Newton's third law and assume that our system is only\n",
    "affected by so-called internal forces.  This means that the force\n",
    "$\\boldsymbol{f}_{ij}$ from object $i$ acting on object $j$ is equal to the\n",
    "force acting on object $j$ from object $i$ but with opposite sign,\n",
    "that is $\\boldsymbol{f}_{ij}=-\\boldsymbol{f}_{ji}$.\n",
    "\n",
    "The total linear momentum is defined as"
   ]
  },
  {
   "cell_type": "markdown",
   "id": "6d9d2c29",
   "metadata": {},
   "source": [
    "$$\n",
    "\\boldsymbol{P}=\\sum_{i=1}^N\\boldsymbol{p}_i=\\sum_{i=1}^Nm_i\\boldsymbol{v}_i,\n",
    "$$"
   ]
  },
  {
   "cell_type": "markdown",
   "id": "7cea2072",
   "metadata": {},
   "source": [
    "where $i$ runs over all objects, $m_i$ is the mass of object $i$ and $\\boldsymbol{v}_i$ its corresponding velocity.\n",
    "\n",
    "The force acting on object $i$ from all the other objects is (lower\n",
    "case letters for individual objects and upper case letters for total\n",
    "quantities)"
   ]
  },
  {
   "cell_type": "markdown",
   "id": "e2deb3fc",
   "metadata": {},
   "source": [
    "$$\n",
    "\\boldsymbol{f}_i=\\sum_{j=1}^N\\boldsymbol{f}_{ji}.\n",
    "$$"
   ]
  },
  {
   "cell_type": "markdown",
   "id": "5efbb9aa",
   "metadata": {},
   "source": [
    "Summing over all objects the net force is"
   ]
  },
  {
   "cell_type": "markdown",
   "id": "c1eefdd7",
   "metadata": {},
   "source": [
    "$$\n",
    "\\sum_{i=1}^N\\boldsymbol{f}_i=\\sum_{i=1}^N\\sum_{j=1;j\\ne i}^N\\boldsymbol{f}_{ji}.\n",
    "$$"
   ]
  },
  {
   "cell_type": "markdown",
   "id": "f7b36e40",
   "metadata": {},
   "source": [
    "We are summing freely over all objects with the constraint that $i\\ne j$ (no self-interactions). \n",
    "We can now manipulate the double sum as"
   ]
  },
  {
   "cell_type": "markdown",
   "id": "1851364c",
   "metadata": {},
   "source": [
    "$$\n",
    "\\sum_{i=1}^N\\sum_{j=1;j\\ne i}^N\\boldsymbol{f}_{ji}=\\sum_{i=1}^N\\sum_{j>i}^N(\\boldsymbol{f}_{ji}+\\boldsymbol{f}_{ij}).\n",
    "$$"
   ]
  },
  {
   "cell_type": "markdown",
   "id": "fbf28da2",
   "metadata": {},
   "source": [
    "Convince yourself about this by setting $N=2$ and $N=3$. Nweton's third law says\n",
    "$\\boldsymbol{f}_{ij}=-\\boldsymbol{f}_{ji}$, which means we have"
   ]
  },
  {
   "cell_type": "markdown",
   "id": "942fb7b1",
   "metadata": {},
   "source": [
    "$$\n",
    "\\sum_{i=1}^N\\sum_{j=1;j\\ne i}^N\\boldsymbol{f}_{ji}=\\sum_{i=1}^N\\sum_{j>i}^N(\\boldsymbol{f}_{ji}-\\boldsymbol{f}_{ji})=0.\n",
    "$$"
   ]
  },
  {
   "cell_type": "markdown",
   "id": "b52932bf",
   "metadata": {},
   "source": [
    "The total force due to internal degrees of freedom only is thus $0$.\n",
    "If we then use the definition that"
   ]
  },
  {
   "cell_type": "markdown",
   "id": "464e24ba",
   "metadata": {},
   "source": [
    "$$\n",
    "\\sum_{i=1}^N\\boldsymbol{f}_i=\\sum_{i=1}^Nm_i\\frac{d\\boldsymbol{v}_i}{dt}=\\sum_{i=1}^N\\frac{d\\boldsymbol{p}_i}{dt}=\\frac{d \\boldsymbol{P}}{dt}=0,\n",
    "$$"
   ]
  },
  {
   "cell_type": "markdown",
   "id": "d5e30c23",
   "metadata": {},
   "source": [
    "where we assumed that $m_i$ is independent of time, we see that time derivative of the total momentum is zero.\n",
    "We say then that the linear momentum is a constant of the motion. It is conserved."
   ]
  },
  {
   "cell_type": "markdown",
   "id": "a25d52b3",
   "metadata": {},
   "source": [
    "### Exercise 2 (10 pt), Conservation of angular momentum\n",
    "\n",
    "* 2a (2pt) Define angular momentum and the torque for a single object with external forces only. \n",
    "\n",
    "The angular moment $\\boldsymbol{l}_i$ for a given object $i$ is defined as"
   ]
  },
  {
   "cell_type": "markdown",
   "id": "bdba04d1",
   "metadata": {},
   "source": [
    "$$\n",
    "\\boldsymbol{l}_i = \\boldsymbol{r}_i \\times \\boldsymbol{p}_i,\n",
    "$$"
   ]
  },
  {
   "cell_type": "markdown",
   "id": "0897a8d4",
   "metadata": {},
   "source": [
    "where $\\boldsymbol{p}_i=m_i\\boldsymbol{v}_i$. With external forces only defining the acceleration and the mass being time independent, the momentum is the integral over the external force as function of time, that is"
   ]
  },
  {
   "cell_type": "markdown",
   "id": "df314b74",
   "metadata": {},
   "source": [
    "$$\n",
    "\\boldsymbol{p}_i(t)=\\boldsymbol{p}_i(t_0)+\\int_{t_0}^t \\boldsymbol{f}_i^{\\mathrm{ext}}(t')dt'.\n",
    "$$"
   ]
  },
  {
   "cell_type": "markdown",
   "id": "26ba908f",
   "metadata": {},
   "source": [
    "The torque for one object is"
   ]
  },
  {
   "cell_type": "markdown",
   "id": "15386771",
   "metadata": {},
   "source": [
    "$$\n",
    "\\boldsymbol{\\tau}_i=\\frac{d\\boldsymbol{l}_i}{dt} = \\frac{dt(\\boldsymbol{r}_i \\times \\boldsymbol{p}_i)}{dt}=\\boldsymbol{r}_i \\times \\frac{d\\boldsymbol{p}_i}{dt}=\\boldsymbol{r}_i \\times \\boldsymbol{f}_i,\n",
    "$$"
   ]
  },
  {
   "cell_type": "markdown",
   "id": "c3a44425",
   "metadata": {},
   "source": [
    "* 2b (4pt) Define angular momentum and the torque for a system with $N$ objects/particles  with external and internal forces. The force from object $i$ on object $j$ is $\\boldsymbol{F}_{ij}$.\n",
    "\n",
    "The total angular momentum $\\boldsymbol{L}$ is defined as"
   ]
  },
  {
   "cell_type": "markdown",
   "id": "4e034731",
   "metadata": {},
   "source": [
    "$$\n",
    "\\boldsymbol{L}=\\sum_{i=1}^N\\boldsymbol{l}_i = \\sum_{i=1}^N\\boldsymbol{r}_i \\times \\boldsymbol{p}_i.\n",
    "$$"
   ]
  },
  {
   "cell_type": "markdown",
   "id": "348eb178",
   "metadata": {},
   "source": [
    "and the total torque is (using the expression for one object from 2a)"
   ]
  },
  {
   "cell_type": "markdown",
   "id": "eaad764f",
   "metadata": {},
   "source": [
    "$$\n",
    "\\boldsymbol{\\tau}=\\sum_{i=1}^N\\frac{d\\boldsymbol{l}_i}{dt} = \\sum_{i=1}^N\\boldsymbol{r}_i \\times \\boldsymbol{f}_i.\n",
    "$$"
   ]
  },
  {
   "cell_type": "markdown",
   "id": "c0e80b59",
   "metadata": {},
   "source": [
    "The force acting on one object is $\\boldsymbol{f}_i=\\boldsymbol{f}_i^{\\mathrm{ext}}+\\sum_{j=1}^N\\boldsymbol{f}_{ji}$.\n",
    "\n",
    "* 2c (4pt) With internal forces only, what is the mathematical form of the forces that allows for angular momentum to be conserved? \n",
    "\n",
    "Using the results from 1c, we can rewrite without external forces our torque as"
   ]
  },
  {
   "cell_type": "markdown",
   "id": "198debdd",
   "metadata": {},
   "source": [
    "$$\n",
    "\\boldsymbol{\\tau}=\\sum_{i=1}^N\\frac{d\\boldsymbol{l}_i}{dt} = \\sum_{i=1}^N\\boldsymbol{r}_i \\times \\boldsymbol{f}_i=\\sum_{i=1}^N(\\boldsymbol{r}_i \\times \\sum_{j=1}^N\\boldsymbol{f}_{ji}),\n",
    "$$"
   ]
  },
  {
   "cell_type": "markdown",
   "id": "be14ee38",
   "metadata": {},
   "source": [
    "which gives"
   ]
  },
  {
   "cell_type": "markdown",
   "id": "dae8e2f5",
   "metadata": {},
   "source": [
    "$$\n",
    "\\boldsymbol{\\tau}=\\sum_{i=1}^N\\sum_{j=1;j\\ne i}^N(\\boldsymbol{r}_i \\times \\boldsymbol{f}_{ji}).\n",
    "$$"
   ]
  },
  {
   "cell_type": "markdown",
   "id": "3c5d2e19",
   "metadata": {},
   "source": [
    "We can rewrite this as (convince yourself again about this)"
   ]
  },
  {
   "cell_type": "markdown",
   "id": "72f21bf8",
   "metadata": {},
   "source": [
    "$$\n",
    "\\boldsymbol{\\tau}=\\sum_{i=1}^N\\sum_{j>i}^N(\\boldsymbol{r}_i \\times \\boldsymbol{f}_{ji}+\\boldsymbol{r}_j \\times \\boldsymbol{f}_{ij}),\n",
    "$$"
   ]
  },
  {
   "cell_type": "markdown",
   "id": "d3827f0c",
   "metadata": {},
   "source": [
    "and using Newton's third law we have"
   ]
  },
  {
   "cell_type": "markdown",
   "id": "977c8a28",
   "metadata": {},
   "source": [
    "$$\n",
    "\\boldsymbol{\\tau}=\\sum_{i=1}^N\\sum_{j>i}^N(\\boldsymbol{r}_i -\\boldsymbol{r}_j) \\times \\boldsymbol{f}_{ji}.\n",
    "$$"
   ]
  },
  {
   "cell_type": "markdown",
   "id": "6760b405",
   "metadata": {},
   "source": [
    "If the force is proportional to $\\boldsymbol{r}_i -\\boldsymbol{r}_j$ then angular momentum is conserved since the cross-product of a vector with itself is zero. We say thus that angular momentum is a constant of the motion."
   ]
  },
  {
   "cell_type": "markdown",
   "id": "9fff4719",
   "metadata": {},
   "source": [
    "### Exsercise 3 (10pt), Example of potential\n",
    "\n",
    "Consider a particle of mass $m$ moving according to the potential"
   ]
  },
  {
   "cell_type": "markdown",
   "id": "b1035866",
   "metadata": {},
   "source": [
    "$$\n",
    "V(x,y,z)=A\\exp\\left\\{-\\frac{x^2+z^2}{2a^2}\\right\\}.\n",
    "$$"
   ]
  },
  {
   "cell_type": "markdown",
   "id": "27fd9470",
   "metadata": {},
   "source": [
    "* 3a (2pt) Is energy conserved? If so, why? \n",
    "\n",
    "In this exercise $A$ and $a$ are constants. The force is given by the derivative of $V$ with respect to the spatial degrees of freedom and since the potential depends only on position, the force is conservative and energy is conserved. Furthermore, the curl of the force is zero. To see this we need first to compute the derivatives of the potential with respect to $x$, $y$ and $z$.\n",
    "We have that"
   ]
  },
  {
   "cell_type": "markdown",
   "id": "706454e5",
   "metadata": {},
   "source": [
    "$$\n",
    "F_x = -\\frac{\\partial V}{\\partial x}=-\\frac{xA}{a^2}\\exp\\left\\{-\\frac{x^2+z^2}{2a^2}\\right\\},\n",
    "$$"
   ]
  },
  {
   "cell_type": "markdown",
   "id": "3afc04d9",
   "metadata": {},
   "source": [
    "and"
   ]
  },
  {
   "cell_type": "markdown",
   "id": "2322d2c1",
   "metadata": {},
   "source": [
    "$$\n",
    "F_y = 0,\n",
    "$$"
   ]
  },
  {
   "cell_type": "markdown",
   "id": "0d3cecff",
   "metadata": {},
   "source": [
    "and"
   ]
  },
  {
   "cell_type": "markdown",
   "id": "3c38aa74",
   "metadata": {},
   "source": [
    "$$\n",
    "F_z = -\\frac{\\partial V}{\\partial z}=-\\frac{zA}{a^2}\\exp\\left\\{-\\frac{x^2+z^2}{2a^2}\\right\\}.\n",
    "$$"
   ]
  },
  {
   "cell_type": "markdown",
   "id": "7f8c2c1a",
   "metadata": {},
   "source": [
    "The components of the **curl** of $\\boldsymbol{F}$ are"
   ]
  },
  {
   "cell_type": "markdown",
   "id": "4b32de86",
   "metadata": {},
   "source": [
    "$$\n",
    "(\\boldsymbol{\\nabla}\\times\\boldsymbol{F})_x = \\frac{\\partial F_y}{\\partial z}-\\frac{\\partial F_z}{\\partial y}=0,\n",
    "$$"
   ]
  },
  {
   "cell_type": "markdown",
   "id": "84efa6a0",
   "metadata": {},
   "source": [
    "and"
   ]
  },
  {
   "cell_type": "markdown",
   "id": "83660371",
   "metadata": {},
   "source": [
    "$$\n",
    "(\\boldsymbol{\\nabla}\\times\\boldsymbol{F})_y = \\frac{\\partial F_x}{\\partial z}-\\frac{\\partial F_z}{\\partial x}=\\frac{xzA}{a^4}\\exp\\left\\{-\\frac{x^2+z^2}{2a^2}\\right\\}-\\frac{xzA}{a^4}\\exp\\left\\{-\\frac{x^2+z^2}{2a^2}\\right\\}=0,\n",
    "$$"
   ]
  },
  {
   "cell_type": "markdown",
   "id": "b455ae85",
   "metadata": {},
   "source": [
    "and"
   ]
  },
  {
   "cell_type": "markdown",
   "id": "f84c900e",
   "metadata": {},
   "source": [
    "$$\n",
    "(\\boldsymbol{\\nabla}\\times\\boldsymbol{F})_z = \\frac{\\partial F_y}{\\partial x}-\\frac{\\partial F_x}{\\partial y}=0.\n",
    "$$"
   ]
  },
  {
   "cell_type": "markdown",
   "id": "06970bbb",
   "metadata": {},
   "source": [
    "The force is a conservative one.\n",
    "\n",
    "* 3b (4pt) Which of  the quantities, $p_x,p_y,p_z$ are conserved?\n",
    "\n",
    "Taking the derivatives with respect to time shows that only $p_y$ is conserved\n",
    "We see this directly from the above expressions for the force, since the derivative with respect to time of the momentum is simply the force. Thus, only the $y$-component of the momentum is conserved, see the expressions above for the forces,\n",
    "\n",
    "For the next exercise (3c), we need also the following derivatives"
   ]
  },
  {
   "cell_type": "markdown",
   "id": "a5f36227",
   "metadata": {},
   "source": [
    "$$\n",
    "\\frac{\\partial F_x}{\\partial x} = \\frac{x^2A}{a^4}\\exp\\left\\{-\\frac{x^2+z^2}{2a^2}\\right\\}-\\frac{A}{a^2}\\exp\\left\\{-\\frac{x^2+z^2}{2a^2}\\right\\},\n",
    "$$"
   ]
  },
  {
   "cell_type": "markdown",
   "id": "3251b378",
   "metadata": {},
   "source": [
    "and"
   ]
  },
  {
   "cell_type": "markdown",
   "id": "a71a5db2",
   "metadata": {},
   "source": [
    "$$\n",
    "\\frac{\\partial F_y}{\\partial y} = 0,\n",
    "$$"
   ]
  },
  {
   "cell_type": "markdown",
   "id": "7d0658c0",
   "metadata": {},
   "source": [
    "and"
   ]
  },
  {
   "cell_type": "markdown",
   "id": "fb0b3fc0",
   "metadata": {},
   "source": [
    "$$\n",
    "\\frac{\\partial F_z}{\\partial z} = \\frac{z^2A}{a^4}\\exp\\left\\{-\\frac{x^2+z^2}{2a^2}\\right\\}-\\frac{A}{a^2}\\exp\\left\\{-\\frac{x^2+z^2}{2a^2}\\right\\},\n",
    "$$"
   ]
  },
  {
   "cell_type": "markdown",
   "id": "c161d4a7",
   "metadata": {},
   "source": [
    "* 3c (4pt) Which of  the quantities, $L_x,L_y,L_z$ are conserved?\n",
    "\n",
    "Using that $\\boldsymbol{L}=\\boldsymbol{r}\\times\\boldsymbol{p}$ and that"
   ]
  },
  {
   "cell_type": "markdown",
   "id": "0c41a2d4",
   "metadata": {},
   "source": [
    "$$\n",
    "\\frac{d\\boldsymbol{L}}{dt}=\\boldsymbol{r}\\times\\boldsymbol{F},\n",
    "$$"
   ]
  },
  {
   "cell_type": "markdown",
   "id": "e31fc7fb",
   "metadata": {},
   "source": [
    "we have that the different components are"
   ]
  },
  {
   "cell_type": "markdown",
   "id": "22965639",
   "metadata": {},
   "source": [
    "$$\n",
    "(\\boldsymbol{r}\\times\\boldsymbol{F})_x = zF_y-yF_z=\\frac{yzA}{a^2}\\exp\\left\\{-\\frac{x^2+z^2}{2a^2}\\right\\}.\n",
    "$$"
   ]
  },
  {
   "cell_type": "markdown",
   "id": "076b574b",
   "metadata": {},
   "source": [
    "and"
   ]
  },
  {
   "cell_type": "markdown",
   "id": "c0747b0c",
   "metadata": {},
   "source": [
    "$$\n",
    "(\\boldsymbol{r}\\times\\boldsymbol{F})_y = xF_z-zF_x=-\\frac{xzA}{a^2}\\exp\\left\\{-\\frac{x^2+z^2}{2a^2}\\right\\}+\\frac{xzA}{a^2}\\exp\\left\\{-\\frac{x^2+z^2}{2a^2}\\right\\}=0,\n",
    "$$"
   ]
  },
  {
   "cell_type": "markdown",
   "id": "88bc1f2e",
   "metadata": {},
   "source": [
    "and"
   ]
  },
  {
   "cell_type": "markdown",
   "id": "7b515d02",
   "metadata": {},
   "source": [
    "$$\n",
    "(\\boldsymbol{r}\\times\\boldsymbol{F})_z = xF_y-yF_x=\\frac{yxA}{a^2}\\exp\\left\\{-\\frac{x^2+z^2}{2a^2}\\right\\}.\n",
    "$$"
   ]
  },
  {
   "cell_type": "markdown",
   "id": "35a56c04",
   "metadata": {},
   "source": [
    "Only $L_y$ is conserved."
   ]
  },
  {
   "cell_type": "markdown",
   "id": "1cd2afb9",
   "metadata": {},
   "source": [
    "### Exercise 4 (10pt), Angular momentum case\n",
    "\n",
    "At $t=0$ we have a single object with position $\\boldsymbol{r}_0=x_0\\boldsymbol{e}_x+y_0\\boldsymbol{e}_y$. We add also a force in the $x$-direction at $t=0$. We assume that the object is at rest at $t=0$."
   ]
  },
  {
   "cell_type": "markdown",
   "id": "40a71118",
   "metadata": {},
   "source": [
    "$$\n",
    "\\boldsymbol{F} = F\\boldsymbol{e}_x.\n",
    "$$"
   ]
  },
  {
   "cell_type": "markdown",
   "id": "d3d4c23d",
   "metadata": {},
   "source": [
    "* 4a (3pt) Find the velocity and momentum at a given time $t$ by integrating over time with the above initial conditions.\n",
    "\n",
    "There is no velocity in the $x$- and $y$-directions at $t=0$, thus $\\boldsymbol{v}_0=0$. The force is constant and acting only in the $x$-direction. We have then (dropping vector symbols and setting $t_0=0$)"
   ]
  },
  {
   "cell_type": "markdown",
   "id": "63be84b4",
   "metadata": {},
   "source": [
    "$$\n",
    "v_x(t) = \\int_0^t a(t')dt'=\\int_0^t\\frac{F}{m}dt'=\\frac{F}{m}t.\n",
    "$$"
   ]
  },
  {
   "cell_type": "markdown",
   "id": "169ed60a",
   "metadata": {},
   "source": [
    "* 4b (3pt) Find also the position at a time $t$.\n",
    "\n",
    "In the $x$-direction we have then"
   ]
  },
  {
   "cell_type": "markdown",
   "id": "a1d70d5c",
   "metadata": {},
   "source": [
    "$$\n",
    "x(t) = \\int_0^t v_x(t')dt'=x_0+\\frac{F}{2m}t^2,\n",
    "$$"
   ]
  },
  {
   "cell_type": "markdown",
   "id": "18436248",
   "metadata": {},
   "source": [
    "resulting in"
   ]
  },
  {
   "cell_type": "markdown",
   "id": "7c5f4fe4",
   "metadata": {},
   "source": [
    "$$\n",
    "\\boldsymbol{r}(t)=(x_0+\\frac{F}{2m}t^2)\\boldsymbol{e}_x+y_0\\boldsymbol{e}_y.\n",
    "$$"
   ]
  },
  {
   "cell_type": "markdown",
   "id": "69689e08",
   "metadata": {},
   "source": [
    "* 4c (4pt) Use the position and the momentum to find the angular momentum and the torque. Is angular momentum conserved?\n",
    "\n",
    "Velocity and position are defined in the $xy$-plane only which means that only angular momentum in the $z$-direction is non-zero. The angular momentum is"
   ]
  },
  {
   "cell_type": "markdown",
   "id": "2ab93b64",
   "metadata": {},
   "source": [
    "$$\n",
    "\\boldsymbol{l} = (x(t)v_y(t)-y(t)v_x(t))\\boldsymbol{e}_z=-y_0\\frac{F}{m}t\\boldsymbol{e}_z,\n",
    "$$"
   ]
  },
  {
   "cell_type": "markdown",
   "id": "543d431d",
   "metadata": {},
   "source": [
    "which results in a torque $\\boldsymbol{\\tau}=-y_0\\frac{F}{m}\\boldsymbol{e}_z$, which is not zero. Thus, angular momentum is not conserved."
   ]
  },
  {
   "cell_type": "markdown",
   "id": "ba5d117f",
   "metadata": {},
   "source": [
    "### Exercise 5 (10pt), forces  and potentials\n",
    "\n",
    "A particle of mass $m$ has velocity $v=\\alpha/x$, where $x$ is its displacement.\n",
    "\n",
    "* 5a (3pt) Find the force $F(x)$ responsible for the motion.\n",
    "\n",
    "Here, since the force is assumed to be conservative (only dependence on $x$), we can use energy conservation.\n",
    "Assuming that the total energy at $t=0$ is $E_0$, we have"
   ]
  },
  {
   "cell_type": "markdown",
   "id": "4d21e1f7",
   "metadata": {},
   "source": [
    "$$\n",
    "E_0=V(x)+\\frac{1}{2}mv^2=V(x)+\\frac{1}{2}m\\frac{\\alpha^2}{x^2}.\n",
    "$$"
   ]
  },
  {
   "cell_type": "markdown",
   "id": "605b800f",
   "metadata": {},
   "source": [
    "Taking the derivative wrt $x$ we have"
   ]
  },
  {
   "cell_type": "markdown",
   "id": "141611e5",
   "metadata": {},
   "source": [
    "$$\n",
    "\\frac{dV}{dx}-m\\frac{\\alpha^2}{x^3}=0,\n",
    "$$"
   ]
  },
  {
   "cell_type": "markdown",
   "id": "fdc393bc",
   "metadata": {},
   "source": [
    "and since $F(x)=-dV/dx$ we have"
   ]
  },
  {
   "cell_type": "markdown",
   "id": "4a42f350",
   "metadata": {},
   "source": [
    "$$\n",
    "F(x)=-m\\frac{\\alpha^2}{x^3}.\n",
    "$$"
   ]
  },
  {
   "cell_type": "markdown",
   "id": "e9249ac8",
   "metadata": {},
   "source": [
    "A particle is thereafter under the influence of a force $F=-kx+kx^3/\\alpha^2$, where $k$ and $\\alpha$ are constants and $k$ is positive.\n",
    "\n",
    "* 5b (3pt) Determine $V(x)$  and discuss the motion. It can be convenient here to make a sketch/plot of the potential as function of $x$.\n",
    "\n",
    "We assume that the potential is zero at say $x=0$. Integrating the force from zero to $x$ gives"
   ]
  },
  {
   "cell_type": "markdown",
   "id": "fa3c9eaf",
   "metadata": {},
   "source": [
    "$$\n",
    "V(x) = -\\int_0^x F(x')dx'=\\frac{kx^2}{2}-\\frac{kx^4}{4\\alpha^2}.\n",
    "$$"
   ]
  },
  {
   "cell_type": "markdown",
   "id": "67119d98",
   "metadata": {},
   "source": [
    "The following code plots the potential. We have chosen values of $\\alpha=k=1.0$. Feel free to experiment with other values. We plot $V(x)$ for a domain of $x\\in [-2,2]$."
   ]
  },
  {
   "cell_type": "code",
   "execution_count": 1,
   "id": "9f6a670e",
   "metadata": {},
   "outputs": [],
   "source": [
    "%matplotlib inline\n",
    "\n",
    "import numpy as np\n",
    "import matplotlib.pyplot as plt\n",
    "import math\n",
    "\n",
    "x0= -2.0\n",
    "xn = 2.1\n",
    "Deltax = 0.1\n",
    "alpha = 1.0\n",
    "k = 1.0\n",
    "#set up arrays\n",
    "x = np.arange(x0,xn,Deltax)\n",
    "n = np.size(x)\n",
    "V = np.zeros(n)\n",
    "V = 0.5*k*x*x-0.25*k*(x**4)/(alpha*alpha)\n",
    "plt.plot(x, V)\n",
    "plt.xlabel(\"x\")\n",
    "plt.ylabel(\"V\")\n",
    "plt.show()"
   ]
  },
  {
   "cell_type": "markdown",
   "id": "67a69154",
   "metadata": {},
   "source": [
    "From the plot here (with the chosen parameters) \n",
    "1. we see that with a given initial velocity we can overcome the potential energy barrier\n",
    "\n",
    "and leave the potential well for good.\n",
    "1. If the initial velocity is smaller (see next exercise) than a certain value, it will remain trapped in the potential well and oscillate back and forth around $x=0$. This is where the potential has its minimum value. \n",
    "\n",
    "2. If the kinetic energy at $x=0$ equals the maximum potential energy, the object will oscillate back and forth between the minimum potential energy at $x=0$ and the turning points where the kinetic energy turns zero. These are the so-called non-equilibrium points. \n",
    "\n",
    "* 5c (4pt)  What happens when the energy of the particle is $E=(1/4)k\\alpha^2$? Hint: what is the maximum value of the potential energy?\n",
    "\n",
    "From the figure we see that\n",
    "the potential has a minimum at at $x=0$ then rises until $x=\\alpha$ before falling off again. The maximum\n",
    "potential, $V(x\\pm \\alpha) = k\\alpha^2/4$. If the energy is higher, the particle cannot be contained in the\n",
    "well. The turning points are thus defined by $x=\\pm \\alpha$. And from the previous plot you can easily see that this is the case ($\\alpha=1$ in the abovementioned Python code)."
   ]
  },
  {
   "cell_type": "markdown",
   "id": "738a8883",
   "metadata": {},
   "source": [
    "### Exercise 6 (40pt)"
   ]
  },
  {
   "cell_type": "markdown",
   "id": "3281b014",
   "metadata": {},
   "source": [
    "### Exercise 6 (40pt), Numerical elements, adding the bouncing from the floor to the code from hw 3, exercise 6\n",
    "\n",
    "**This exercise should be handed in as a jupyter-notebook** at D2L. Remember to write your name(s). \n",
    "\n",
    "Till now we have only introduced gravity and air resistance and studied\n",
    "their effects via a constant acceleration due to gravity and the force\n",
    "arising from air resistance. But what happens when the ball hits the\n",
    "floor? What if we would like to simulate the normal force from the floor acting on the ball?\n",
    "\n",
    "We need then to include a force model for the normal force from\n",
    "the floor on the ball. The simplest approach to such a system is to introduce a contact force\n",
    "model represented by a spring model.  We model the interaction between the floor\n",
    "and the ball as a single spring. But the normal force is zero when\n",
    "there is no contact. Here  we define a simple model that allows us to include\n",
    "such effects in our models.\n",
    "\n",
    "The normal force from the floor on the ball is represented by a spring force. This\n",
    "is a strong simplification of the actual deformation process occurring at the contact\n",
    "between the ball and the floor due to the deformation of both the ball and the floor.\n",
    "\n",
    "The deformed region corresponds roughly to the region of **overlap** between the\n",
    "ball and the floor. The depth of this region is $\\Delta y = R − y(t)$, where $R$\n",
    "is the radius of the ball. This is supposed to represent the compression of the spring.\n",
    "Our model for the normal force acting on the ball is then"
   ]
  },
  {
   "cell_type": "markdown",
   "id": "411fc030",
   "metadata": {},
   "source": [
    "$$\n",
    "\\boldsymbol{N} = −k (R − y(t)) \\boldsymbol{e}_y.\n",
    "$$"
   ]
  },
  {
   "cell_type": "markdown",
   "id": "13e9d025",
   "metadata": {},
   "source": [
    "The normal force must act upward when $y < R$,\n",
    "hence the sign must be negative.\n",
    "However, we must also ensure that the normal force only acts when the ball is in\n",
    "contact with the floor, otherwise the normal force is zero. The full formation of the\n",
    "normal force is therefore"
   ]
  },
  {
   "cell_type": "markdown",
   "id": "97a79833",
   "metadata": {},
   "source": [
    "$$\n",
    "\\boldsymbol{N} = −k (R − y(t)) \\boldsymbol{e}_y,\n",
    "$$"
   ]
  },
  {
   "cell_type": "markdown",
   "id": "63431c0e",
   "metadata": {},
   "source": [
    "when $y(t) < R$ and zero when $y(t) \\le R$.\n",
    "In the numerical calculations you can choose $R=0.1$ m and the spring constant $k=1000$ N/m.\n",
    "\n",
    "* 6a (10pt) Identify the forces acting on the ball and set up a diagram with the forces acting on the ball. Find the acceleration of the falling ball now with the normal force as well.\n",
    "\n",
    "* 6b (30pt) Choose a large enough final time so you can study the ball bouncing up and down several times. Add the normal force and compute the height of the ball as function of time with and without air resistance. Comment your results.\n",
    "\n",
    "For 6a, see Malthe-Sørenssen chapter 7.5.1, in particular figure\n",
    "7.10. The forces are in equation (7.10).  The following code shows how\n",
    "to set up the problem with gravitation, a drag force and a normal\n",
    "force from the ground. The normal force makes the ball bounce up\n",
    "again.\n",
    "\n",
    "The code here includes all forces. Commenting out the air resistance will result in a ball which bounces up and down to the same height.\n",
    "Furthermore, you will note that for larger values of $\\Delta t$ the results will not be physically meaningful. Can you figure out why?  Try also different values for the step size in order to see whether the final results agrees with what you expect."
   ]
  },
  {
   "cell_type": "code",
   "execution_count": 3,
   "id": "858a8292",
   "metadata": {},
   "outputs": [
    {
     "data": {
      "image/png": "[encoded data removed]",
      "text/plain": [
       "<Figure size 576x396 with 1 Axes>"
      ]
     },
     "metadata": {},
     "output_type": "display_data"
    }
   ],
   "source": [
    "# Exercise 6, hw4, smarter way with declaration of vx, vy, x and y\n",
    "# Here we have added a normal force from the ground\n",
    "# Common imports\n",
    "import numpy as np\n",
    "import pandas as pd\n",
    "from math import *\n",
    "import matplotlib.pyplot as plt\n",
    "import os\n",
    "\n",
    "# Where to save the figures and data files\n",
    "PROJECT_ROOT_DIR = \"Results\"\n",
    "FIGURE_ID = \"Results/FigureFiles\"\n",
    "DATA_ID = \"DataFiles/\"\n",
    "\n",
    "if not os.path.exists(PROJECT_ROOT_DIR):\n",
    "    os.mkdir(PROJECT_ROOT_DIR)\n",
    "\n",
    "if not os.path.exists(FIGURE_ID):\n",
    "    os.makedirs(FIGURE_ID)\n",
    "\n",
    "if not os.path.exists(DATA_ID):\n",
    "    os.makedirs(DATA_ID)\n",
    "\n",
    "def image_path(fig_id):\n",
    "    return os.path.join(FIGURE_ID, fig_id)\n",
    "\n",
    "def data_path(dat_id):\n",
    "    return os.path.join(DATA_ID, dat_id)\n",
    "\n",
    "def save_fig(fig_id):\n",
    "    plt.savefig(image_path(fig_id) + \".png\", format='png')\n",
    "\n",
    "\n",
    "from pylab import plt, mpl\n",
    "plt.style.use('seaborn')\n",
    "mpl.rcParams['font.family'] = 'serif'\n",
    "\n",
    "# Define constants\n",
    "g = 9.80655 #in m/s^2\n",
    "D = 0.0245 # in mass/length, kg/m\n",
    "m = 0.2 # in kg\n",
    "R = 0.1 # in meters\n",
    "k = 1000.0 # in mass/time^2\n",
    "# Define Gravitational force as a vector in x and y, zero x component\n",
    "G = -m*g*np.array([0.0,1])\n",
    "DeltaT = 0.001\n",
    "#set up arrays \n",
    "tfinal = 10.0\n",
    "n = ceil(tfinal/DeltaT)\n",
    "# set up arrays for t, v, and r, the latter contain the x and y comps\n",
    "t = np.zeros(n)\n",
    "v = np.zeros((n,2))\n",
    "r = np.zeros((n,2))\n",
    "# Initial conditions\n",
    "r0 = np.array([0.0,2.0])\n",
    "v0 = np.array([10.0,10.0])\n",
    "r[0] = r0\n",
    "v[0] = v0\n",
    "# Start integrating using Euler's method\n",
    "for i in range(n-1):\n",
    "    # Set up forces, air resistance FD\n",
    "    if ( r[i,1] < R):\n",
    "        N = k*(R-r[i,1])*np.array([0,1])\n",
    "    else:\n",
    "        N = np.array([0,0])\n",
    "    N = 0.0    \n",
    "    vabs = sqrt(sum(v[i]*v[i]))\n",
    "    FD = -D*v[i]*vabs\n",
    "    Fnet = FD+G#+N\n",
    "    a = Fnet/m\n",
    "    # update velocity, time and position\n",
    "    v[i+1] = v[i] + DeltaT*a\n",
    "    r[i+1] = r[i] + DeltaT*v[i+1]\n",
    "    t[i+1] = t[i] + DeltaT\n",
    "\n",
    "fig, ax = plt.subplots()\n",
    "ax.set_xlim(0, tfinal)\n",
    "ax.set_ylabel('y[m]')\n",
    "ax.set_xlabel('x[m]')\n",
    "ax.plot(r[:,0], r[:,1])\n",
    "fig.tight_layout()\n",
    "save_fig(\"BouncingBallEuler\")\n",
    "plt.show()"
   ]
  },
  {
   "cell_type": "code",
   "execution_count": null,
   "id": "a1f18ca0",
   "metadata": {},
   "outputs": [],
   "source": []
  }
 ],
 "metadata": {
  "kernelspec": {
   "display_name": "Python 3 (ipykernel)",
   "language": "python",
   "name": "python3"
  },
  "language_info": {
   "codemirror_mode": {
    "name": "ipython",
    "version": 3
   },
   "file_extension": ".py",
   "mimetype": "text/x-python",
   "name": "python",
   "nbconvert_exporter": "python",
   "pygments_lexer": "ipython3",
   "version": "3.9.10"
  }
 },
 "nbformat": 4,
 "nbformat_minor": 5
}
