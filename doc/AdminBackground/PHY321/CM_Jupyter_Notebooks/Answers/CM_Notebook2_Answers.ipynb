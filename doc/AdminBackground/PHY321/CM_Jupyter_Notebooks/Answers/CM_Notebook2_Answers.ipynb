{
 "cells": [
  {
   "cell_type": "markdown",
   "metadata": {
    "colab_type": "text",
    "id": "JqpbqYjvcq3V"
   },
   "source": [
    "## Classical Mechanics - Week 2\n",
    "\n",
    "### Last week we:\n",
    "- Analytically mapped 1D motion over some time\n",
    "- Gained practice with functions\n",
    "- Reviewed vectors and matrices in Python\n",
    " \n",
    "### This week we will:\n",
    "- Practice using Python syntax and variable maniulaton\n",
    "- Utilize analytical solutions to create more refined functions\n",
    "- Work in 3 Dimensions"
   ]
  },
  {
   "cell_type": "code",
   "execution_count": 10,
   "metadata": {
    "colab": {},
    "colab_type": "code",
    "id": "G0SKdRPRcq3Z"
   },
   "outputs": [],
   "source": [
    "## As usual, here are some useful packages we will be using. Feel free to use more and experiment as you wish.\n",
    "\n",
    "import numpy as np\n",
    "import matplotlib.pyplot as plt\n",
    "from mpl_toolkits import mplot3d\n",
    "%matplotlib inline"
   ]
  },
  {
   "cell_type": "markdown",
   "metadata": {
    "colab_type": "text",
    "id": "4m3bwFaccq3g"
   },
   "source": [
    "##### We previously plotted our variable as an equation.\n",
    "However, this week we will begin storing the position information within vectors, implemented through arrays in coding.\n",
    "\n",
    "\n",
    "Let's get some practice with this. The cell below creates two arrays, one containing the times to be analyzed and the other containing the x and y components of the position vector at each point in time.  The second array is initially empty. Then it will make the initial position to be x = 2 and y = 1. Take a look at the code and comments to get an understanding of what's happening better."
   ]
  },
  {
   "cell_type": "code",
   "execution_count": 11,
   "metadata": {
    "colab": {},
    "colab_type": "code",
    "id": "VFQhJ48ecq3g"
   },
   "outputs": [],
   "source": [
    "tf = 4 #length of value to be analyzed\n",
    "dt = .001 # step sizes\n",
    "t = np.arange(0.0,tf,dt) # Creates an evenly spaced time array going from 0 to 3.999, with step sizes .001\n",
    "p = np.zeros((len(t), 2)) # Creates an empty array of [x,y] arrays (our vectors). Array size is same as the one for time.\n",
    "p[0] = [2.0,1.0] # This sets the inital position to be x = 2 and y = 1\n"
   ]
  },
  {
   "cell_type": "markdown",
   "metadata": {
    "colab_type": "text",
    "id": "S5SOe-V3cq3j"
   },
   "source": [
    "##### Below we are printing specific values in our array to see what's being stored where. The first number in the r[] represents which array iteration we are looking at, while the number after the \",\" represents which listed number in the array iteration we are getting back. Notice how the listings start at 0.\n",
    "Feel free to mess around with this as much as you want. "
   ]
  },
  {
   "cell_type": "code",
   "execution_count": 3,
   "metadata": {
    "colab": {},
    "colab_type": "code",
    "id": "TfdHZdfIcq3k",
    "outputId": "6863f7bb-e4a0-40a3-a156-c2124e6d557d"
   },
   "outputs": [
    {
     "name": "stdout",
     "output_type": "stream",
     "text": [
      "[2. 1.]\n"
     ]
    }
   ],
   "source": [
    "print(p[0]) # Prints the first array"
   ]
  },
  {
   "cell_type": "code",
   "execution_count": 4,
   "metadata": {
    "colab": {},
    "colab_type": "code",
    "id": "ZvNJa16scq3o",
    "outputId": "e6ff1251-3cb0-4cad-882c-2e0ab22912bd"
   },
   "outputs": [
    {
     "name": "stdout",
     "output_type": "stream",
     "text": [
      "[2. 1.]\n"
     ]
    }
   ],
   "source": [
    "print(p[0,:]) # Same as above, these commands are interchangeable "
   ]
  },
  {
   "cell_type": "code",
   "execution_count": 5,
   "metadata": {
    "colab": {},
    "colab_type": "code",
    "id": "1wUwX4D5cq3r",
    "outputId": "f93d47d9-054b-4529-8ac4-e9858faf0610"
   },
   "outputs": [
    {
     "name": "stdout",
     "output_type": "stream",
     "text": [
      "[0. 0.]\n"
     ]
    }
   ],
   "source": [
    "print(p[3999]) # Prints the 4000th array"
   ]
  },
  {
   "cell_type": "code",
   "execution_count": 6,
   "metadata": {
    "colab": {},
    "colab_type": "code",
    "id": "EpmFgigQcq3v",
    "outputId": "de6bbdb8-9a6d-4281-a0d3-8433f3584658"
   },
   "outputs": [
    {
     "name": "stdout",
     "output_type": "stream",
     "text": [
      "2.0\n"
     ]
    }
   ],
   "source": [
    "print(p[0,0]) # Prints the first value of the first array"
   ]
  },
  {
   "cell_type": "code",
   "execution_count": 7,
   "metadata": {
    "colab": {},
    "colab_type": "code",
    "id": "afPeaHkkcq3y",
    "outputId": "73789841-eaaa-467c-ca94-73e9e205d718"
   },
   "outputs": [
    {
     "name": "stdout",
     "output_type": "stream",
     "text": [
      "1.0\n"
     ]
    }
   ],
   "source": [
    "print(p[0,1]) # Prints the second value of first array"
   ]
  },
  {
   "cell_type": "code",
   "execution_count": 8,
   "metadata": {
    "colab": {},
    "colab_type": "code",
    "id": "AUvCswgQcq31",
    "outputId": "1d03f453-6920-4d0d-e55a-3217f2b43c2c"
   },
   "outputs": [
    {
     "name": "stdout",
     "output_type": "stream",
     "text": [
      "[2. 0. 0. ... 0. 0. 0.]\n"
     ]
    }
   ],
   "source": [
    "print(p[:,0]) # Prints the first value of all the arrays"
   ]
  },
  {
   "cell_type": "code",
   "execution_count": 9,
   "metadata": {
    "colab": {},
    "colab_type": "code",
    "id": "7VvG8nJ5cq36",
    "outputId": "bcd5e4f8-c5cc-4c7d-ca9a-8ca1822311c2"
   },
   "outputs": [
    {
     "ename": "IndexError",
     "evalue": "index 2 is out of bounds for axis 1 with size 2",
     "output_type": "error",
     "traceback": [
      "\u001b[0;31m---------------------------------------------------------------------------\u001b[0m",
      "\u001b[0;31mIndexError\u001b[0m                                Traceback (most recent call last)",
      "\u001b[0;32m<ipython-input-9-3eb90a6fcbfb>\u001b[0m in \u001b[0;36m<module>\u001b[0;34m\u001b[0m\n\u001b[1;32m      1\u001b[0m \u001b[0;31m# Try running this cell. Notice how it gives an error since we did not implement a third dimension into our arrays\u001b[0m\u001b[0;34m\u001b[0m\u001b[0;34m\u001b[0m\u001b[0;34m\u001b[0m\u001b[0m\n\u001b[0;32m----> 2\u001b[0;31m \u001b[0mprint\u001b[0m\u001b[0;34m(\u001b[0m\u001b[0mp\u001b[0m\u001b[0;34m[\u001b[0m\u001b[0;34m:\u001b[0m\u001b[0;34m,\u001b[0m\u001b[0;36m2\u001b[0m\u001b[0;34m]\u001b[0m\u001b[0;34m)\u001b[0m\u001b[0;34m\u001b[0m\u001b[0;34m\u001b[0m\u001b[0m\n\u001b[0m",
      "\u001b[0;31mIndexError\u001b[0m: index 2 is out of bounds for axis 1 with size 2"
     ]
    }
   ],
   "source": [
    "# Try running this cell. Notice how it gives an error since we did not implement a third dimension into our arrays\n",
    "print(p[:,2])"
   ]
  },
  {
   "cell_type": "markdown",
   "metadata": {
    "colab_type": "text",
    "id": "E4FNOy_Ccq3-"
   },
   "source": [
    "## In the cell below we want to manipulate the arrays.\n",
    "Our goal is to make each vector's x component valued the same as their respective vector's position in the iteration and the y value will be twice that value, EXCEPT the first vector, which we have already set. \n",
    "\n",
    "i.e. $p[0] = [2,1], p[1] = [1,2], p[2] = [2,4], p[3] = [3,6], ...$\n",
    "\n",
    "#### The skeleton code has already been provided for you, along with hints. Your job is to complete the code, execute it, and then run the checker in the cell below it. \n",
    "We will be using a for loop and an if statement in the checker code.\n",
    "\n",
    "\n",
    "If your code is working, the cell with the checker should print \"Success!\" If \"There is an error in your code\" appears, look to see where the error in your code is and re-run the checker cell until you get the success message."
   ]
  },
  {
   "cell_type": "code",
   "execution_count": null,
   "metadata": {
    "colab": {},
    "colab_type": "code",
    "id": "auCS8AJBcq3_"
   },
   "outputs": [],
   "source": [
    "for i in range(1,3999):\n",
    "    p[i] = [i,2*i] # What equation should you put in the x and y components?"
   ]
  },
  {
   "cell_type": "code",
   "execution_count": null,
   "metadata": {
    "colab": {},
    "colab_type": "code",
    "id": "BI00nL90cq4D",
    "outputId": "88ba83a2-f020-4d95-a26a-520f1978c209"
   },
   "outputs": [],
   "source": [
    "# Checker cell to make sure your code is performing correctly\n",
    "c = 0\n",
    "for i in range(0,3999):\n",
    "    if i == 0:\n",
    "        if p[i,0] != 2.0:\n",
    "            c += 1\n",
    "        if p[i,1] != 1.0:\n",
    "            c += 1\n",
    "    else:\n",
    "        if p[i,0] != 1.0*i:\n",
    "            c += 1\n",
    "        if p[i,1] != 2.0*i:\n",
    "            c += 1\n",
    "\n",
    "if c == 0:\n",
    "    print(\"Success!\")\n",
    "else:\n",
    "    print(\"There is an error in your code\")"
   ]
  },
  {
   "cell_type": "markdown",
   "metadata": {
    "colab_type": "text",
    "id": "2anpej9Tcq4J"
   },
   "source": [
    "### Last week:\n",
    "We made basic plots of a ball moving in 1D space using Physics I equations, coded within a function. However, this week we will be working with a bit more advanced concepts for the same problem.\n",
    "\n",
    "#### You learned to derive the equations of motions starting from Force in class/reading and how to solve integrations analytically. Now let's use those concepts to analyze such phenomena.\n",
    "\n",
    "## Assume we have a soccer ball moving in 3 dimensions with the following trajectory:\n",
    "\n",
    "- $x(t) = 10t\\cos{45^{\\circ}} $\n",
    "\n",
    "- $y(t) = 10t\\sin{45^{\\circ}} $\n",
    "\n",
    "- $z(t) = 10t - \\dfrac{9.81}{2}t^2$"
   ]
  },
  {
   "cell_type": "markdown",
   "metadata": {
    "colab_type": "text",
    "id": "Gw0sBTyccq4K"
   },
   "source": [
    "Now let's create a 3D plot using these equations. In the cell below write the equations into their respective labels. The time we want to analyze is already provided for you along with $x(t)$. \n",
    "\n",
    "**Important Concept:** Numpy comes with many mathematical packages, some of them being the trigonometric functions sine, cosine, tangent. We are going to utilize these this week. Additionally, these functions work with radians, so we will also be using a function from numpy that converts degrees to radians."
   ]
  },
  {
   "cell_type": "code",
   "execution_count": 12,
   "metadata": {
    "colab": {},
    "colab_type": "code",
    "id": "4ofGhrhVcq4L"
   },
   "outputs": [],
   "source": [
    "tf = 2.04  # The final time to be evaluated\n",
    "dt = 0.1  # The time step size\n",
    "t = np.arange(0,tf,dt) # The time array\n",
    "theta_deg = 45 # Degrees\n",
    "theta_rad = np.radians(theta_deg) # Converts our degrees to its radians counterpart\n",
    "x = 10*t*np.cos(theta_rad) # Equation for our x component, utilizing np.cos() and our calculated radians\n",
    "y = 10*t*np.sin(theta_rad) # Put the y equation here\n",
    "z = 10*t-9.81/2*t**2# Put the z equation here"
   ]
  },
  {
   "cell_type": "code",
   "execution_count": 13,
   "metadata": {
    "colab": {},
    "colab_type": "code",
    "id": "v67t3Z3Fcq4M",
    "outputId": "d7060ceb-5e0b-4426-bfe2-c61eb394d2a1"
   },
   "outputs": [
    {
     "data": {
      "text/plain": [
       "<mpl_toolkits.mplot3d.art3d.Path3DCollection at 0x118f74750>"
      ]
     },
     "execution_count": 13,
     "metadata": {},
     "output_type": "execute_result"
    },
    {
     "data": {
      "image/png": "[encoded data removed]",
      "text/plain": [
       "<Figure size 432x288 with 1 Axes>"
      ]
     },
     "metadata": {},
     "output_type": "display_data"
    }
   ],
   "source": [
    "## Once you have entered the proper equations in the cell above, run this cell to plot in 3D\n",
    "fig = plt.axes(projection='3d')\n",
    "fig.set_xlabel('x')\n",
    "fig.set_ylabel('y')\n",
    "fig.set_zlabel('z')\n",
    "fig.scatter(x,y,z)"
   ]
  },
  {
   "cell_type": "markdown",
   "metadata": {
    "colab_type": "text",
    "id": "LHtgo1Uncq4P"
   },
   "source": [
    "# Q1.) How would you express $x(t)$, $y(t)$, $z(t)$ for this problem as a single vector, $\\vec{r}(t)$?"
   ]
  },
  {
   "cell_type": "markdown",
   "metadata": {
    "colab_type": "text",
    "id": "MhIVaci8cq4Q"
   },
   "source": [
    "&#9989; Double click this cell, erase its content, and put your answer to the above question here."
   ]
  },
  {
   "cell_type": "markdown",
   "metadata": {
    "colab_type": "text",
    "id": "dkI_kr07cq4Q"
   },
   "source": [
    "In the cell below we will put the equations into a single vector, $\\vec{r}$. Fix any bugs you find and comment the fixes you made in the line(s) below the $\\vec{r}$ array. Comments are made by putting a # before inputs in Python\n",
    "\n",
    "(***Hints:*** Compare the equations used in $\\vec{r}$ to the ones above. Also, don't be afraid to run the cell and see what error message comes up) "
   ]
  },
  {
   "cell_type": "code",
   "execution_count": null,
   "metadata": {
    "colab": {},
    "colab_type": "code",
    "id": "fzHIQa0acq4R"
   },
   "outputs": [],
   "source": [
    "r = np.array((10*t*np.cos(theta_rad), 10*t*np.sin(theta_rad), 10*t - 9.81/2*t**2))"
   ]
  },
  {
   "cell_type": "code",
   "execution_count": null,
   "metadata": {
    "colab": {},
    "colab_type": "code",
    "id": "_5bLYe23cq4T",
    "outputId": "0d6137d6-1a91-4f4f-f2d7-ecaa73680fcb"
   },
   "outputs": [],
   "source": [
    "## Run this code to plot using our r array \n",
    "fig = plt.axes(projection='3d')\n",
    "fig.set_xlabel('x')\n",
    "fig.set_ylabel('y')\n",
    "fig.set_zlabel('z')\n",
    "fig.scatter(r[0],r[1],r[2])"
   ]
  },
  {
   "cell_type": "markdown",
   "metadata": {
    "colab_type": "text",
    "id": "24RZXn36cq4V"
   },
   "source": [
    "# Q2.) What do you think the benefits and/or disadvantages are from expressing our 3 equations as a single array/vector? This can be both from a computational and physics stand point."
   ]
  },
  {
   "cell_type": "markdown",
   "metadata": {
    "colab_type": "text",
    "id": "SQh7q54ycq4W"
   },
   "source": [
    "&#9989; Double click this cell, erase its content, and put your answer to the above question here."
   ]
  },
  {
   "cell_type": "markdown",
   "metadata": {
    "colab_type": "text",
    "id": "DqKIePg3cq4X"
   },
   "source": [
    "The cell bellow prints the maximum $x$ component from our $\\vec{r}$ vector using the numpy package. Use the numpy package to also print the maximum $y$ and $z$ components **FROM** our $\\vec{r}$."
   ]
  },
  {
   "cell_type": "code",
   "execution_count": null,
   "metadata": {
    "colab": {},
    "colab_type": "code",
    "id": "WRR2RDfhcq4Y",
    "outputId": "d48c2f0a-f62b-44aa-9f5a-348c32c4c950"
   },
   "outputs": [],
   "source": [
    "print(\"Maximum x value is: \", np.max(r[0]))\n",
    "print(\"Maximum y value is: \", np.max(r[1]))\n",
    "print(\"Maximum z value is: \", np.max(r[2]))\n",
    "## Put the code for printing out our maximum y and z values here"
   ]
  },
  {
   "cell_type": "markdown",
   "metadata": {
    "colab_type": "text",
    "id": "19AlJSGdcq4b"
   },
   "source": [
    "## Complete Taylor Question 1.35 before moving further. \n",
    "(Recall that the golf ball is hit due east at an angle $\\theta$ with respect to the horizontal, and the coordinate directions are $x$ measured east, $y$ north, and $z$ vertically up.)"
   ]
  },
  {
   "cell_type": "markdown",
   "metadata": {
    "colab_type": "text",
    "id": "GCHDAGbacq4b"
   },
   "source": [
    "# Q3.) What is the analytical solution for our theoretical golf ball's position $\\vec{r}(t)$ over time from Taylor Question 1.35?  Also what is the formula for the time $t_f$ when the golf ball returns to the ground?"
   ]
  },
  {
   "cell_type": "markdown",
   "metadata": {
    "colab_type": "text",
    "id": "6-vvHbrecq4c"
   },
   "source": [
    "&#9989; Double click this cell, erase its content, and put your answers to the above questions here."
   ]
  },
  {
   "cell_type": "markdown",
   "metadata": {
    "colab_type": "text",
    "id": "PMyVMJMecq4f"
   },
   "source": [
    "## Using what we learned in this notebook and the previous one, set up a function called Golfball in the cell below that utilizes our analytical solution from above.\n",
    "This function should take in an initial velocity, vi, and the angle $\\theta$ that the golfball was hit in degrees. It should then return a 3D graph of the motion.\n",
    "\n",
    "Also include code in the function to print the maximum $x$, $y$, and $z$ as above.\n",
    "\n",
    "(A skeleton with hints has already been provided for you)"
   ]
  },
  {
   "cell_type": "code",
   "execution_count": null,
   "metadata": {
    "colab": {},
    "colab_type": "code",
    "id": "ps0vqGHRcq4i"
   },
   "outputs": [],
   "source": [
    "def Golfball(vi, theta_deg):\n",
    "    \n",
    "    theta_rad = np.radians(theta_deg)\n",
    "    vix = vi*np.cos(theta_rad) #  Put formulae to obtain initial velocity components here. \n",
    "    viz = vi*np.sin(theta_rad)\n",
    "    \n",
    "    # g is already given to you here\n",
    "    g = 9.81 # in m/s^2 \n",
    "    \n",
    "    # Set up the time array\n",
    "    tf = 2*viz/g # Use the formula for tf from Taylor (1.35) to determine the length of the time array\n",
    "    dt = 0.1 # Choose the time step size to be 0.1 seconds.\n",
    "    t = np.arange(0,tf,dt) # Define the time array here\n",
    "\n",
    "    \n",
    "    # Code for position vector here\n",
    "    r = np.array((vix*t,0,viz*t-0.5*g*t**2)) #  meters\n",
    "    \n",
    "    ## Put code to print maximum x, y, z values here\n",
    "    print(\"Maximum x value is: \", np.max(r[0]))\n",
    "    print(\"Maximum y value is: \", np.max(r[1]))\n",
    "    print(\"Maximum z value is: \", np.max(r[2]))\n",
    "\n",
    "    \n",
    "    ## Put code for plotting in 3d here\n",
    "    fig = plt.axes(projection='3d')\n",
    "    fig.set_xlabel('x')\n",
    "    fig.set_ylabel('y')\n",
    "    fig.set_zlabel('z')\n",
    "    fig.scatter(r[0],r[1],r[2])"
   ]
  },
  {
   "cell_type": "markdown",
   "metadata": {
    "colab_type": "text",
    "id": "UBmLwbzEcq4k"
   },
   "source": [
    "In the cell below create lines of code that asks the user to input an initial velocity (in m/s) and the angle (in degrees). Then use these inputs on the created Golfball function. Play around with the values to see if your function is properly working. \n",
    "\n",
    "#### Hint: If you get stuck, look at the previous notebook. We did something very similar to this last time."
   ]
  },
  {
   "cell_type": "code",
   "execution_count": null,
   "metadata": {
    "colab": {},
    "colab_type": "code",
    "id": "TTcPGAgqcq4l",
    "outputId": "5d691c5e-437a-44c1-ff11-30e34dcd2039"
   },
   "outputs": [],
   "source": [
    "Vi = float(input(\"Please enter initial velocity (m/s) \"))\n",
    "\n",
    "Theta_deg = float(input(\"Please enter initial angle (degrees) \"))\n",
    "\n",
    "# Now below, we will call upon the BallToss function and plug in our asked values\n",
    "Golfball(Vi, Theta_deg)"
   ]
  },
  {
   "cell_type": "markdown",
   "metadata": {
    "colab_type": "text",
    "id": "ceoQCaRscq4n"
   },
   "source": [
    "### Call the Golfball function in the empty cell provided below and produce a graph of the solution for initial conditions $v_i=90$ m/s and $\\theta=30^\\circ$."
   ]
  },
  {
   "cell_type": "code",
   "execution_count": null,
   "metadata": {
    "colab": {},
    "colab_type": "code",
    "id": "5Tmoeea_cq4o",
    "outputId": "023d1de3-47b6-4536-b6bf-198d12f3ee1f"
   },
   "outputs": [],
   "source": [
    "Golfball(90, 30)"
   ]
  },
  {
   "cell_type": "markdown",
   "metadata": {
    "colab_type": "text",
    "id": "D2t8blNRcq4s"
   },
   "source": [
    "# Q4.) Given initial values of $v_i = 90 m/s$, $\\theta = 30^{\\circ}$, what would our maximum x, y and z components be? "
   ]
  },
  {
   "cell_type": "markdown",
   "metadata": {
    "colab_type": "text",
    "id": "FOufFYITcq4u"
   },
   "source": [
    "&#9989; Double click this cell, erase its content, and put your answer to the above question here."
   ]
  },
  {
   "cell_type": "markdown",
   "metadata": {
    "colab_type": "text",
    "id": "Aj3AUt-ecq4v"
   },
   "source": [
    "### Call the Golfball function in the empty cell provided below and produce a graph of the solution for initial conditions $v_i=45$ m/s and $\\theta=45^\\circ$."
   ]
  },
  {
   "cell_type": "code",
   "execution_count": null,
   "metadata": {
    "colab": {},
    "colab_type": "code",
    "id": "MWhJX7QAcq4w",
    "outputId": "257fd224-dd96-4b07-e102-089b657749b9"
   },
   "outputs": [],
   "source": [
    "Golfball(45, 45)"
   ]
  },
  {
   "cell_type": "markdown",
   "metadata": {
    "colab_type": "text",
    "id": "pzEbUaKDcq4x"
   },
   "source": [
    "# Q5.) Given initial values of $v_i = 45 m/s$, $\\theta = 45^{\\circ}$, what would our maximum x, y and z components be? "
   ]
  },
  {
   "cell_type": "markdown",
   "metadata": {
    "colab_type": "text",
    "id": "Sl41QnwGcq4y"
   },
   "source": [
    "&#9989; Double click this cell, erase its content, and put your answer to the above question here."
   ]
  },
  {
   "cell_type": "markdown",
   "metadata": {
    "colab_type": "text",
    "id": "cByQE6secq4z"
   },
   "source": [
    "#### Notebook Wrap-up. \n",
    "Run the cell below and copy-paste your answers into their corresponding cells.\n",
    "\n",
    "Rename the notebook to CM_Week2_[Insert Your Name Here].ipynb and submit it to D2L dropbox."
   ]
  },
  {
   "cell_type": "code",
   "execution_count": null,
   "metadata": {
    "colab": {},
    "colab_type": "code",
    "id": "uyW2LHShcq40",
    "outputId": "bbefd12f-4a57-4e91-cbfc-480b056d8563"
   },
   "outputs": [],
   "source": [
    "from IPython.display import HTML\n",
    "HTML(\n",
    "\"\"\"\n",
    "<iframe \n",
    "\tsrc=\"https://forms.gle/gLVojgAUYao9K8VR7\" \n",
    "\twidth=\"100%\" \n",
    "\theight=\"1200px\" \n",
    "\tframeborder=\"0\" \n",
    "\tmarginheight=\"0\" \n",
    "\tmarginwidth=\"0\">\n",
    "\tLoading...\n",
    "</iframe>\n",
    "\"\"\"\n",
    ")"
   ]
  },
  {
   "cell_type": "markdown",
   "metadata": {
    "colab_type": "text",
    "id": "t3vnuRfZcq42"
   },
   "source": [
    "# Second week done! Nice!\n",
    "Hopefully you're starting to see how code is useful in analyzing physical problems now. Feel free to review the past two weeks worth of materials, watch videos on coding/Python, or just go on a nice walk while the weather is still good."
   ]
  }
 ],
 "metadata": {
  "colab": {
   "name": "CM_Notebook2_Answers.ipynb",
   "provenance": []
  },
  "kernelspec": {
   "display_name": "Python 3",
   "language": "python",
   "name": "python3"
  },
  "language_info": {
   "codemirror_mode": {
    "name": "ipython",
    "version": 3
   },
   "file_extension": ".py",
   "mimetype": "text/x-python",
   "name": "python",
   "nbconvert_exporter": "python",
   "pygments_lexer": "ipython3",
   "version": "3.7.5"
  }
 },
 "nbformat": 4,
 "nbformat_minor": 1
}
