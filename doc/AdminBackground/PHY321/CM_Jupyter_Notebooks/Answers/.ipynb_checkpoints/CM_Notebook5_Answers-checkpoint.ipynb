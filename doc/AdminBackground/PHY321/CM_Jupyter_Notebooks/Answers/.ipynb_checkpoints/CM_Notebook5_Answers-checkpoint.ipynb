{
 "cells": [
  {
   "cell_type": "markdown",
   "metadata": {},
   "source": [
    " ## Classical Mechanics - Week 6\n",
    " \n",
    " \n",
    " ### Last Week:\n",
    "- Learned how to utilize 2D arrays in Python \n",
    "- Studied motion with quadratic drag with Euler's method\n",
    "- Developed our computational skills in representing vectors with arrays\n",
    "\n",
    "### This Week:\n",
    "- Gain more practice with Python functions\n",
    "- Learn and use the Trapezoidal Rule\n",
    "- Further explore numerical methods\n",
    "\n",
    "Do you smell that? It's midterm season, so let's take it easy this week, while getting some more familiarity with functions and numerical analysis. More specifically: we are going to see the power of numerical integration using the [**Trapezoidal Rule**.](https://en.wikipedia.org/wiki/Trapezoidal_rule)"
   ]
  },
  {
   "cell_type": "code",
   "execution_count": 1,
   "metadata": {},
   "outputs": [],
   "source": [
    "# As usual, we will need packages\n",
    "%matplotlib inline\n",
    "import numpy as np\n",
    "import matplotlib.pyplot as plt\n",
    "\n",
    "from IPython.display import Image\n",
    "from IPython.core.display import HTML "
   ]
  },
  {
   "cell_type": "markdown",
   "metadata": {},
   "source": [
    "# [Numerical Integration](https://en.wikipedia.org/wiki/Numerical_integration)\n",
    "What is numerical integration? To put it simply, it's a way of estimating the definite integral (area under a curve) of a function. Rather than finding the analytic form of the indefinite integral and evaluating at the endpoints, we will be using the function itself to calculate/estimate the definite integral. \n",
    "\n",
    "One of the simplest methods is known as the [Trapezoidal Rule.](https://en.wikipedia.org/wiki/Trapezoidal_rule)\n",
    "\n",
    "The trapezoidal rule calculates the area under a curve, $f(x)$, from $a$ to $b$ by splitting it into a discrete number of sections, $N$, and approximating the function by a straight line within each section. As we learned before, the step size between points will be $h = \\dfrac{b-a}{N}$. The following figure gives the basic idea used in the approximation (the step size is labeled $p$ in the figure).\n",
    "\n",
    "![wikipidea](https://upload.wikimedia.org/wikipedia/commons/d/d1/Integration_num_trapezes_notation.svg)\n",
    "\n",
    "The area of one of the trapezoids is $\\dfrac{h}{2}\\Bigl(f(x_i)+f(x_{i+1})\\Bigr)$. Adding the contributions from each trapezoid gives our formula for the trapezoidal rule:\n",
    "\n",
    "$\\int_a^b f(x) \\,dx \\approx \\dfrac{h}{2}\\Sigma_{i=1}^N (f(x_{i-1})+f(x_i)) = \\dfrac{h}{2}(f(x_0)+2f(x_1)+2f(x_2)+...+2f(x_{N-1})+f(x_N))$\n",
    "\n",
    "Let's give this method a go!"
   ]
  },
  {
   "cell_type": "markdown",
   "metadata": {},
   "source": [
    "Let's evaluate the integral of $f(x) = 4x^2 + 2x - 3$ from $x = 2$ to $x =10$. We will provide you with a routine that performs the Trapezoidal rule. Your job is to make the function we want to evaluate in the cell below. \n",
    "\n",
    "***Hint:*** Look at the Python Basics notebook we looked at together as a class if you need a refresher on how to make a function that returns equations. "
   ]
  },
  {
   "cell_type": "code",
   "execution_count": 2,
   "metadata": {},
   "outputs": [],
   "source": [
    "# First we must define a function we want to evaluate\n",
    "def F(x):\n",
    "    return 4*x**2+2*x-3# Insert the equation we want to integrate here"
   ]
  },
  {
   "cell_type": "markdown",
   "metadata": {},
   "source": [
    "Now we must create a function that performs the Trapezoidal method. We will make ours take in a function (f), starting point (a), ending point (b), and number of steps we want to use (N). It will then return our approximated integration (I). Run the cell below to create our Trapezoidal method function, but read it to make sure you understand how we are creating this function."
   ]
  },
  {
   "cell_type": "code",
   "execution_count": 3,
   "metadata": {},
   "outputs": [],
   "source": [
    "# Creates our trapezoidal rule funciton\n",
    "def Trapezoidal(f,a,b,N):\n",
    "\n",
    "    h = (b-a)/N ## Calculates our step size, h\n",
    "    I = f(a)+f(b) ## Adds f(a) and f(b) (end point contributions)\n",
    "    \n",
    "    for i in range(1,N): # Goes from 1 to N-1\n",
    "        x=a+i*h  # calculate x_i\n",
    "        I += 2*f(x) # performs summation of 2*f(x_i)\n",
    "        \n",
    "    return I*(h/2) #returns (h/2)*summation"
   ]
  },
  {
   "cell_type": "markdown",
   "metadata": {},
   "source": [
    "Now in the cell below, use the Trapezoidal rule to evaluate $f(x)$ from $2$ to $10$ using 10 steps."
   ]
  },
  {
   "cell_type": "code",
   "execution_count": 4,
   "metadata": {},
   "outputs": [
    {
     "data": {
      "text/plain": [
       "1398.08"
      ]
     },
     "execution_count": 4,
     "metadata": {},
     "output_type": "execute_result"
    }
   ],
   "source": [
    "# Use our Trapezoidal function here\n",
    "Trapezoidal(F, 2, 10, 10)"
   ]
  },
  {
   "cell_type": "markdown",
   "metadata": {},
   "source": [
    "This function is simple enough to perform an exact analytical integration.  Let's check this against our numerical calculation.  You may find the following cell useful to evaluate your exact expression of the integral."
   ]
  },
  {
   "cell_type": "code",
   "execution_count": 5,
   "metadata": {},
   "outputs": [
    {
     "data": {
      "text/plain": [
       "1394.6666666666665"
      ]
     },
     "execution_count": 5,
     "metadata": {},
     "output_type": "execute_result"
    }
   ],
   "source": [
    "def Fint(x):\n",
    "    return 4/3*x**3+x**2-3*x\n",
    "\n",
    "Fint(10)-Fint(2)"
   ]
  },
  {
   "cell_type": "markdown",
   "metadata": {},
   "source": [
    "# Q1.) What is the EXACT definite integral of $f(x) = 4x^2 + 2x - 3$ between $x=2$ and $x=10$? Round to the second decimal point. How does our approximation compare to the actual value?"
   ]
  },
  {
   "cell_type": "markdown",
   "metadata": {},
   "source": [
    "Exact integral is 1394.67\n",
    "Trapezoidal rule with N=10 gave 1398.08, which overshoots by about 0.24 percent."
   ]
  },
  {
   "cell_type": "markdown",
   "metadata": {},
   "source": [
    "# But why use numerical analysis instead of just doing the integration analytically?\n",
    "\n",
    "A great question!\n",
    "\n",
    "Our function $f(x)=4x^2+2x-3$ was pretty simple and easy to integrate analytically. However, this is usually not the case.  In fact, in many situations numerical integration is the only choice.\n",
    "\n",
    "# Is our Trapezoidal method all we need for numerical integration?\n",
    "\n",
    "Another great question!\n",
    "\n",
    "Just like the Euler's method for solving differential equations, the Trapezoidal rule for numerical integration usually works fine given enough steps $N$, but it can be improved upon. These improved routines can allow us to get a better approximation with much less computer time, which can be crucial for multi-dimensional integrals.  There are\n",
    "also methods designed to integrate badly behaved functions, where the Trapezoidal rule runs into problems. \n",
    "\n",
    "Try integrating the same function $f(x)=4x^2+2x-3$ using our Trapezoid routine with $N=100$ steps in the cell below in order to see how much better it does when we increase the number of steps by a factor of 10."
   ]
  },
  {
   "cell_type": "code",
   "execution_count": 6,
   "metadata": {},
   "outputs": [
    {
     "data": {
      "text/plain": [
       "1394.7007999999996"
      ]
     },
     "execution_count": 6,
     "metadata": {},
     "output_type": "execute_result"
    }
   ],
   "source": [
    "Trapezoidal(F, 2, 10, 100)"
   ]
  },
  {
   "cell_type": "markdown",
   "metadata": {},
   "source": [
    "## We will now use a library, SciPy, which contains many useful routines for scientific computing, to numerically evaluate this integral in the cell below.\n",
    "\n",
    "\n",
    "Rather than always re-inventing the wheel, it is often easier to use packages, written by others, which include more advanced methods.\n",
    "\n",
    "Run the cell below to see how the SciPy library can be used to solve a numerical integral."
   ]
  },
  {
   "cell_type": "code",
   "execution_count": 16,
   "metadata": {},
   "outputs": [
    {
     "data": {
      "text/plain": [
       "(1394.6666666666667, 1.548391045010552e-11)"
      ]
     },
     "execution_count": 16,
     "metadata": {},
     "output_type": "execute_result"
    }
   ],
   "source": [
    "# The following line imports a set of numerical integration routines from SciPy:\n",
    "from scipy import integrate\n",
    "\n",
    "# quad is a general purpose numerical integration routine in the subpackage scipy.integrate\n",
    "\n",
    "integrate.quad(F,2,10)"
   ]
  },
  {
   "cell_type": "markdown",
   "metadata": {},
   "source": [
    "For the record, this routine assumes that the function can be complex, so it gives both a real and an imaginary part.\n",
    "For our integral, the imaginary part should be exactly zero (which is true to the machine accuracy here) so it can be ignored."
   ]
  },
  {
   "cell_type": "markdown",
   "metadata": {},
   "source": [
    "# Q2.) What answer did SciPy give? Did it agree with your calculation? How did it compare with the Trapezoidal rule calculations with $N=10$ and $N=100$?"
   ]
  },
  {
   "cell_type": "markdown",
   "metadata": {},
   "source": [
    "SciPy agreed with our exact result up to the 13th place after the decimal point (taking rounding into account).\n",
    "This was much better that either of the Trapezoidal rule calculations.\n"
   ]
  },
  {
   "cell_type": "markdown",
   "metadata": {},
   "source": [
    "Here's an integral that the Trapezoidal method will struggle with:\n",
    "$$\n",
    "\\int_{0.00001}^1\\,\\dfrac{dx}{x}\\,.\n",
    "$$\n",
    "\n",
    "Try it using using our Trapezoidal method (varying the number of steps) and with the ***integrate.quad*** function from SciPy and compare with the exact answer in the cell below.  (Note that if you use too many steps in the Trapezoidal method it begins to run noticeably slow.)"
   ]
  },
  {
   "cell_type": "code",
   "execution_count": 24,
   "metadata": {},
   "outputs": [
    {
     "name": "stdout",
     "output_type": "stream",
     "text": [
      "Trapezoidal with N=1000 gives       57.46815049144616\n",
      "Trapezoidal with N=10000 gives      14.634053878291443\n",
      "Trapezoidal with N=100000 gives     11.514622673621659\n",
      "Trapezoidal with N=1000000 gives    11.512933798055156\n",
      "integrate.quad gives               (11.51292546497023, 7.545599548893293e-11)\n",
      "exact answer is.                    11.512925464970229\n"
     ]
    }
   ],
   "source": [
    "def f(x):\n",
    "    return 1/x\n",
    "\n",
    "print(\"Trapezoidal with N=1000 gives      \",Trapezoidal(f,0.00001,1,1000))\n",
    "print(\"Trapezoidal with N=10000 gives     \",Trapezoidal(f,0.00001,1,10000))\n",
    "print(\"Trapezoidal with N=100000 gives    \",Trapezoidal(f,0.00001,1,100000))\n",
    "print(\"Trapezoidal with N=1000000 gives   \",Trapezoidal(f,0.00001,1,1000000))\n",
    "print(\"integrate.quad gives              \",integrate.quad(f,0.00001,1))\n",
    "print(\"exact answer is.                   \",np.log(1/.00001))"
   ]
  },
  {
   "cell_type": "markdown",
   "metadata": {},
   "source": [
    "# Q3.) What value of $N$ was needed for the Trapezoidal calculation to get agreement with the exact answer to 2 places after the decimal point?  How did did SciPy do on this integral?"
   ]
  },
  {
   "cell_type": "markdown",
   "metadata": {},
   "source": [
    "For Trapezoidal calculation needed about a million steps (actually around N=7x10^5).  (If you go over a million steps the calculation starts to become noticeably slower.) SciPy hit it right on to the last decimal point."
   ]
  },
  {
   "cell_type": "markdown",
   "metadata": {},
   "source": [
    "# Let's go back to using our Trapezoidal rule code and see how it can be applied for analyzing physical situations.\n",
    "\n",
    "Assume we have 3 rods with mass densities of:\n",
    "\n",
    "- $\\rho_A = 5x\\ \\dfrac{kg}{m}$\n",
    "- $\\rho_B = 3x(20-x)\\ \\dfrac{kg}{m}$\n",
    "- $\\rho_C = 3x^2(6-x) \\ \\dfrac{kg}{m}$. \n",
    "\n",
    "They have lengths of:\n",
    "\n",
    "- $l_A = 4m$ \n",
    "- $l_B = 10m$\n",
    "- $l_C = 6m$\n",
    "\n",
    "In the cells below, use our Trapezoidal function to calculate each of their masses. We have given you an outline for object A."
   ]
  },
  {
   "cell_type": "code",
   "execution_count": 9,
   "metadata": {},
   "outputs": [
    {
     "name": "stdout",
     "output_type": "stream",
     "text": [
      "Mass of A is:  39.99999999999999\n"
     ]
    }
   ],
   "source": [
    "# Find mass of A here\n",
    "\n",
    "# Density function for A\n",
    "def rho_A(x):\n",
    "    return 5*x# Put density function of A here\n",
    "\n",
    "# Utilize Trapezoidal method here from 0 to 4 (length of rod)\n",
    "mass_A = Trapezoidal(rho_A, 0, 4, 1000)\n",
    "print(\"Mass of A is: \", mass_A)"
   ]
  },
  {
   "cell_type": "code",
   "execution_count": 10,
   "metadata": {},
   "outputs": [
    {
     "name": "stdout",
     "output_type": "stream",
     "text": [
      "Mass of B is:  1999.999500000001\n"
     ]
    }
   ],
   "source": [
    "# Find mass of B here\n",
    "\n",
    "# Density function for B\n",
    "def rho_B(x):\n",
    "    return 3*x*(20-x)# Put density function of B here\n",
    "\n",
    "# Utilize Trapezoidal method here from 0 to 10 (length of rod)\n",
    "mass_B = Trapezoidal(rho_B, 0, 10, 1000)\n",
    "print(\"Mass of B is: \", mass_B)"
   ]
  },
  {
   "cell_type": "code",
   "execution_count": 11,
   "metadata": {},
   "outputs": [
    {
     "name": "stdout",
     "output_type": "stream",
     "text": [
      "Mass of C is:  323.99967599999985\n"
     ]
    }
   ],
   "source": [
    "# Find mass of C here\n",
    "\n",
    "# Density function for C\n",
    "def rho_C(x):\n",
    "    return 3*x**2*(6-x)# Put density function of C here\n",
    "\n",
    "# Utilize Trapezoidal method here from 0 to 6 (length of rod)\n",
    "mass_C = Trapezoidal(rho_C, 0, 6, 1000)\n",
    "print(\"Mass of C is: \", mass_C)"
   ]
  },
  {
   "cell_type": "markdown",
   "metadata": {},
   "source": [
    "# Q4.) What are the masses of our three rods?"
   ]
  },
  {
   "cell_type": "markdown",
   "metadata": {},
   "source": [
    "mass_A=40 kg, \n",
    "mass_B=2000 kg, \n",
    "mass_C=324 kg"
   ]
  },
  {
   "cell_type": "markdown",
   "metadata": {},
   "source": [
    "Now using the three values calculated above, let's calculate the center of mass of each rod. Recall that to find the center of mass for a 1D object: \n",
    "\n",
    "$\\bar{x} = \\dfrac{\\int_a^b x\\rho(x) dx}{m}$, where $m$ is the mass of the object.\n",
    "\n",
    "You already have $m$, but now you need to find the integration of the top part. Let us define $g(x) = x\\rho(x)$.\n",
    "\n",
    "In the cells below, find the center of the mass using the Trapezoidal method. We have given you an outline of how to find $\\bar{x}_A$."
   ]
  },
  {
   "cell_type": "code",
   "execution_count": 25,
   "metadata": {},
   "outputs": [
    {
     "data": {
      "text/plain": [
       "2.6666680000000014"
      ]
     },
     "execution_count": 25,
     "metadata": {},
     "output_type": "execute_result"
    }
   ],
   "source": [
    "# Find center of mass of A here\n",
    "\n",
    "def g_A(x):\n",
    "    return x*rho_A(x)\n",
    "\n",
    "# Utilize Trapezoidal method here from 0 to 4 (length of rod). Then divide by mass of A\n",
    "center_A = Trapezoidal(g_A, 0, 4, 1000)/mass_A\n",
    "center_A"
   ]
  },
  {
   "cell_type": "code",
   "execution_count": 13,
   "metadata": {},
   "outputs": [
    {
     "data": {
      "text/plain": [
       "6.250002812500697"
      ]
     },
     "execution_count": 13,
     "metadata": {},
     "output_type": "execute_result"
    }
   ],
   "source": [
    "# Find center of mass of B here\n",
    "\n",
    "def g_B(x):\n",
    "    return x*rho_B(x)\n",
    "\n",
    "# Utilize Trapezoidal method here from 0 to 10 (length of rod). Then divide by mass of B\n",
    "center_B = Trapezoidal(g_B, 0, 10, 1000)/mass_B\n",
    "center_B"
   ]
  },
  {
   "cell_type": "code",
   "execution_count": 14,
   "metadata": {},
   "outputs": [
    {
     "data": {
      "text/plain": [
       "3.599997600000001"
      ]
     },
     "execution_count": 14,
     "metadata": {},
     "output_type": "execute_result"
    }
   ],
   "source": [
    "# Find center of mass of C here\n",
    "\n",
    "def g_C(x):\n",
    "    return x*rho_C(x)\n",
    "\n",
    "# Utilize Trapezoidal method here from 0 to 6 (length of rod). Then divide by mass of C\n",
    "center_C = Trapezoidal(g_C, 0, 6, 1000)/mass_C\n",
    "center_C"
   ]
  },
  {
   "cell_type": "markdown",
   "metadata": {},
   "source": [
    "# Q5.) What are the center of masses of our three rods?"
   ]
  },
  {
   "cell_type": "markdown",
   "metadata": {},
   "source": [
    "The center of masses are:\n",
    "center_A=2.67 m, \n",
    "center B=6.25 m, \n",
    "center C=3.60 m"
   ]
  },
  {
   "cell_type": "markdown",
   "metadata": {},
   "source": [
    "# Notebook Wrap-up. \n",
    "Run the cell below and copy-paste your answers into their corresponding cells."
   ]
  },
  {
   "cell_type": "code",
   "execution_count": 15,
   "metadata": {},
   "outputs": [
    {
     "data": {
      "text/html": [
       "\n",
       "<iframe \n",
       "\tsrc=\"https://forms.gle/cSUgKLqC8Qo2Ph838\" \n",
       "\twidth=\"100%\" \n",
       "\theight=\"1200px\" \n",
       "\tframeborder=\"0\" \n",
       "\tmarginheight=\"0\" \n",
       "\tmarginwidth=\"0\">\n",
       "\tLoading...\n",
       "</iframe>\n"
      ],
      "text/plain": [
       "<IPython.core.display.HTML object>"
      ]
     },
     "execution_count": 15,
     "metadata": {},
     "output_type": "execute_result"
    }
   ],
   "source": [
    "from IPython.display import HTML\n",
    "HTML(\n",
    "\"\"\"\n",
    "<iframe \n",
    "\tsrc=\"https://forms.gle/cSUgKLqC8Qo2Ph838\" \n",
    "\twidth=\"100%\" \n",
    "\theight=\"1200px\" \n",
    "\tframeborder=\"0\" \n",
    "\tmarginheight=\"0\" \n",
    "\tmarginwidth=\"0\">\n",
    "\tLoading...\n",
    "</iframe>\n",
    "\"\"\"\n",
    ")"
   ]
  },
  {
   "cell_type": "markdown",
   "metadata": {},
   "source": [
    "# Congrulations! Another week completed!\n",
    "\n",
    "Don't be shy to practice things you are having a bit of a hard time with, or maybe you are getting everything that's being taught. Either way, it's really your call what you want to do now: relax, study, drink tea, etc. [To help lighten the mood during midterms, here is picture that demonstrates the founding of Physics.](https://claesjohnsonmathscience.files.wordpress.com/2011/12/newton2.jpg)"
   ]
  }
 ],
 "metadata": {
  "kernelspec": {
   "display_name": "Python 3",
   "language": "python",
   "name": "python3"
  },
  "language_info": {
   "codemirror_mode": {
    "name": "ipython",
    "version": 3
   },
   "file_extension": ".py",
   "mimetype": "text/x-python",
   "name": "python",
   "nbconvert_exporter": "python",
   "pygments_lexer": "ipython3",
   "version": "3.7.5"
  }
 },
 "nbformat": 4,
 "nbformat_minor": 2
}
