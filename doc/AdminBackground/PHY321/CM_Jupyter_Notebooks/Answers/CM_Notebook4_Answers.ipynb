{
 "cells": [
  {
   "cell_type": "markdown",
   "metadata": {},
   "source": [
    "## Classical Mechanics - Week 4\n",
    "\n",
    "### Last week we:\n",
    "- Gained our (possibly) first experience with computational physics through Euler's Method and compared it to the analytical solution\n",
    "- Analyzed the motion of an object involving linear drag\n",
    "- Gained a deeper understanding of how we can use arrays in Python \n",
    " \n",
    "### This week we will:\n",
    "- Practice further using arrays to store information\n",
    "- Graph the motion of quadratic drag system\n",
    "- Work with Euler's Method in 2D"
   ]
  },
  {
   "cell_type": "code",
   "execution_count": 1,
   "metadata": {},
   "outputs": [],
   "source": [
    "# Let's import packages, as usual\n",
    "import numpy as np\n",
    "import matplotlib.pyplot as plt\n",
    "%matplotlib notebook"
   ]
  },
  {
   "cell_type": "markdown",
   "metadata": {},
   "source": [
    "Arrays are a valuable asset in Python. As we move forward, we will be utilizing them more for the purposes of storing information and analyzing data. Let's get some more practice with them to build familiarity with what we can do.\n",
    "\n",
    "Below create two arrays, a and b, with three nonzero integers."
   ]
  },
  {
   "cell_type": "code",
   "execution_count": 2,
   "metadata": {},
   "outputs": [],
   "source": [
    "## Create your a and b arrays here\n",
    "a = np.array([4,2,4])\n",
    "b = np.array([6,2,4])"
   ]
  },
  {
   "cell_type": "code",
   "execution_count": 3,
   "metadata": {},
   "outputs": [
    {
     "data": {
      "text/plain": [
       "44"
      ]
     },
     "execution_count": 3,
     "metadata": {},
     "output_type": "execute_result"
    }
   ],
   "source": [
    "### now run the cell below to find their dot product\n",
    "np.dot(a,b)"
   ]
  },
  {
   "cell_type": "markdown",
   "metadata": {},
   "source": [
    "### Using np.dot() and the power function (i.e. **), find the magnitude of your vectors a and b in the cell below. "
   ]
  },
  {
   "cell_type": "code",
   "execution_count": 4,
   "metadata": {},
   "outputs": [
    {
     "name": "stdout",
     "output_type": "stream",
     "text": [
      "6.0\n",
      "7.483314773547883\n"
     ]
    }
   ],
   "source": [
    "mag_a = np.dot(a,a)**(1/2)\n",
    "mag_b = np.dot(b,b)**(1/2)\n",
    "print(mag_a)\n",
    "print(mag_b)"
   ]
  },
  {
   "cell_type": "markdown",
   "metadata": {},
   "source": [
    "Another way of doing this directly is to use the \"numpy.linalg.norm()\" function. Give that a shot if you are curious to see it work."
   ]
  },
  {
   "cell_type": "markdown",
   "metadata": {},
   "source": [
    "# Q1.) What were the vectors a and b you created, and what did you calculate for their magnitudes using Python?"
   ]
  },
  {
   "cell_type": "markdown",
   "metadata": {},
   "source": [
    "&#9989; Double click this cell, erase its content, and put your answer to the above question here."
   ]
  },
  {
   "cell_type": "markdown",
   "metadata": {},
   "source": [
    "## Last week you created arrays that were containers for arrays (arrayception). Let's get a bit more practice with this concept. \n",
    "\n",
    "In the cell below we create $I_x$, $I_y$, and $I_z$ arrays that are 1x10 and contain random values. Write a line of code that places them inside an array called $I$ where its $x$, $y$, and $z$ components correspond with the labels 0, 1, and 2 in the randomly created array. We already provide $I_x$ for you."
   ]
  },
  {
   "cell_type": "code",
   "execution_count": 7,
   "metadata": {},
   "outputs": [],
   "source": [
    "I_x = np.random.rand(1,10)\n",
    "I_y = np.random.rand(1,10)\n",
    "I_z = np.random.rand(1,10)\n",
    "### Place the above arrays inside one array\n",
    "I = np.array([I_x,I_y,I_z])"
   ]
  },
  {
   "cell_type": "markdown",
   "metadata": {},
   "source": [
    "Now, treating our $I$ array as data collected, make three plots below: \n",
    "\n",
    "$I[0] vs I[1]$\n",
    "\n",
    "$I[1] vs I[2]$\n",
    "\n",
    "$I[2] vs I[0]$"
   ]
  },
  {
   "cell_type": "code",
   "execution_count": 8,
   "metadata": {},
   "outputs": [
    {
     "data": {
      "text/plain": [
       "<matplotlib.collections.PathCollection at 0x11f34bac8>"
      ]
     },
     "execution_count": 8,
     "metadata": {},
     "output_type": "execute_result"
    },
    {
     "data": {
      "image/png": "[encoded data removed]",
      "text/plain": [
       "<Figure size 432x288 with 1 Axes>"
      ]
     },
     "metadata": {
      "needs_background": "light"
     },
     "output_type": "display_data"
    }
   ],
   "source": [
    "## I_0 vs I_1\n",
    "plt.scatter(I[0],I[1])"
   ]
  },
  {
   "cell_type": "code",
   "execution_count": 9,
   "metadata": {},
   "outputs": [
    {
     "data": {
      "text/plain": [
       "<matplotlib.collections.PathCollection at 0x11f3e2f60>"
      ]
     },
     "execution_count": 9,
     "metadata": {},
     "output_type": "execute_result"
    },
    {
     "data": {
      "image/png": "[encoded data removed]",
      "text/plain": [
       "<Figure size 432x288 with 1 Axes>"
      ]
     },
     "metadata": {
      "needs_background": "light"
     },
     "output_type": "display_data"
    }
   ],
   "source": [
    "## I_1 vs I_2\n",
    "plt.scatter(I[1],I[2])"
   ]
  },
  {
   "cell_type": "code",
   "execution_count": 10,
   "metadata": {},
   "outputs": [
    {
     "data": {
      "text/plain": [
       "<matplotlib.collections.PathCollection at 0x11f54fcc0>"
      ]
     },
     "execution_count": 10,
     "metadata": {},
     "output_type": "execute_result"
    },
    {
     "data": {
      "image/png": "[encoded data removed]",
      "text/plain": [
       "<Figure size 432x288 with 1 Axes>"
      ]
     },
     "metadata": {
      "needs_background": "light"
     },
     "output_type": "display_data"
    }
   ],
   "source": [
    "## I_2 vs I_0\n",
    "plt.scatter(I[2],I[0])"
   ]
  },
  {
   "cell_type": "markdown",
   "metadata": {},
   "source": [
    "### Using the $t$ array created below, create a new array $p$ whose $x$, $y$, and $z$ components have the following equation:\n",
    "\n",
    "$p_x = 2t$\n",
    "\n",
    "$p_y = 7t^2 - 1$\n",
    "\n",
    "$p_z = (0.5)t^2 - 4t$"
   ]
  },
  {
   "cell_type": "code",
   "execution_count": 11,
   "metadata": {},
   "outputs": [],
   "source": [
    "t = np.arange(0,10,0.1)\n",
    "\n",
    "## Create your p array here\n",
    "p = np.array([2*t,7*t**2-1,0.5*t**2-4*t])"
   ]
  },
  {
   "cell_type": "markdown",
   "metadata": {},
   "source": [
    "Using your newly created p array, create another 3 plots as done with the I array."
   ]
  },
  {
   "cell_type": "code",
   "execution_count": 12,
   "metadata": {},
   "outputs": [
    {
     "data": {
      "text/plain": [
       "<matplotlib.collections.PathCollection at 0x11f5ae358>"
      ]
     },
     "execution_count": 12,
     "metadata": {},
     "output_type": "execute_result"
    },
    {
     "data": {
      "image/png": "[encoded data removed]",
      "text/plain": [
       "<Figure size 432x288 with 1 Axes>"
      ]
     },
     "metadata": {
      "needs_background": "light"
     },
     "output_type": "display_data"
    }
   ],
   "source": [
    "## p_0 vs p_1\n",
    "plt.scatter(p[0],p[1])"
   ]
  },
  {
   "cell_type": "code",
   "execution_count": 13,
   "metadata": {},
   "outputs": [
    {
     "data": {
      "text/plain": [
       "<matplotlib.collections.PathCollection at 0x11f6f0898>"
      ]
     },
     "execution_count": 13,
     "metadata": {},
     "output_type": "execute_result"
    },
    {
     "data": {
      "image/png": "[encoded data removed]",
      "text/plain": [
       "<Figure size 432x288 with 1 Axes>"
      ]
     },
     "metadata": {
      "needs_background": "light"
     },
     "output_type": "display_data"
    }
   ],
   "source": [
    "## p_1 vs p_2\n",
    "plt.scatter(p[1],p[2])"
   ]
  },
  {
   "cell_type": "code",
   "execution_count": 14,
   "metadata": {},
   "outputs": [
    {
     "data": {
      "text/plain": [
       "<matplotlib.collections.PathCollection at 0x11f755860>"
      ]
     },
     "execution_count": 14,
     "metadata": {},
     "output_type": "execute_result"
    },
    {
     "data": {
      "image/png": "[encoded data removed]",
      "text/plain": [
       "<Figure size 432x288 with 1 Axes>"
      ]
     },
     "metadata": {
      "needs_background": "light"
     },
     "output_type": "display_data"
    }
   ],
   "source": [
    "## p_2 vs p_0\n",
    "plt.scatter(p[2],p[0])"
   ]
  },
  {
   "cell_type": "markdown",
   "metadata": {},
   "source": [
    "Now that we have even more familiarity with arrays, let's use this knowledge to plot the trajectory for projectile motion in the presence of a linear drag force in 2 dimensions using Euler's method. \n",
    "\n",
    "## Linear Drag force in 2D:\n",
    "\n",
    "#### With air resistance factored in, the acceleration is:\n",
    "eq 1a.) $a_x = - \\dfrac{v_x}{\\tau}$                                                                              \n",
    "\n",
    "eq 1b.) $a_y = - \\dfrac{v_y}{\\tau} - g$\n",
    "\n",
    "#### Performing an integration, we get the velocitiy at time t with air resistance:\n",
    "eq 2a.) $v_{x}(t) = v_{0x}e^{-t/\\tau}$\n",
    "\n",
    "eq 2b.) $v_{y}(t) =  -v_\\mathrm{ter}+ (v_{0y} + v_\\mathrm{ter})e^{- t/\\tau}$,$\\qquad v_\\mathrm{ter}=g\\tau$\n",
    "\n",
    "-------------------------\n",
    "\n",
    "Let's perform Euler's (Forward) Method once again to computationally determine the motion of the projectile. **A quick reminder of how to perform this for projectile motion:**\n",
    "\n",
    "1.) Define and obtain all initial values, constants, and time to be analyzed with step sizes\n",
    "\n",
    "2.) Calculate the velocity using $v_{i+1} = v_{i} + h*a_{i}$\n",
    "\n",
    "3.) Calculate the position using $pos_{i+1} = pos_{i} + h*v_{i}$\n",
    "\n",
    "4.) Calculate the new acceleration $a_{i+1}$ using eqs 1a and 1b with $v_{i+1}$. \n",
    "\n",
    "5.) Repeat steps 2-4 for all time steps within a loop.\n",
    "\n",
    "**This will NOW be in 2D, so your vectors must have x and y components.** Suppose we have a canon ball fired with the initial conditions as follows:\n",
    "\n",
    "- $v_i = 20\\ m/s$ (initial speed)\n",
    "- $\\theta = 70^{\\circ}$ (initial angle above the horizontal)\n",
    "- $g = 9.8\\ m/s$ \n",
    "- $\\tau = 10\\ s$  (time constant for linear drag)\n",
    "- $t_f = 5\\ s$  (total time analyzed)\n",
    "\n",
    "Once again, we have given you an outline for setting up inital values and for defining storage for the arrays. We have already provided you the code for the r vector, in order to demonstrate how to set up the vectors in 2 dimensions."
   ]
  },
  {
   "cell_type": "code",
   "execution_count": 15,
   "metadata": {},
   "outputs": [],
   "source": [
    "# Initial values and constants\n",
    "\n",
    "vi = 20# m/s\n",
    "g = 9.8# m/s^2\n",
    "tau = 10# s\n",
    "theta_deg = 70# degrees\n",
    "theta_rad = np.radians(theta_deg)# radians\n",
    "vi_y = vi*np.sin(theta_rad)# m/s\n",
    "vi_x = vi*np.cos(theta_rad)# m/s\n",
    "\n",
    "ai_y = -g-vi_y/tau# m/s^2\n",
    "ai_x = -vi_x/tau# m/s^2\n",
    "\n",
    "tf = 5#The final time\n",
    "dt = 0.1# time step size\n",
    "\n",
    "t = np.arange(0.0,tf,dt) # Creates an evenly spaced time array going from 0 to 5, with step size 0.1\n",
    "\n",
    "a = np.array([np.zeros(len(t)),np.zeros(len(t))])# Create an array of zeros for [ax,ay] values. Storage size is N\n",
    "v = np.array([np.zeros(len(t)),np.zeros(len(t))])# Create an array of zeros for [vx,vy] values. Storage size is N\n",
    "r = np.array([np.zeros(len(t)),np.zeros(len(t))])# Create an array of zeros for [x,y] values. Storage size is N\n",
    "\n",
    "### Sets initial values in vectors\n",
    "v[0,0] = vi_x# Initial x velocity should go here\n",
    "v[1,0] = vi_y# Initial y velocity should go here\n",
    "a[0,0] = ai_x# Initial x accleration should go here\n",
    "a[1,0] = ai_y# Initial y accleration should go here\n",
    "\n",
    "avec = np.array([0,g]) # Creates a conatant vector (independent of t) for acceleration due to gravity with x and y components\n"
   ]
  },
  {
   "cell_type": "code",
   "execution_count": 16,
   "metadata": {},
   "outputs": [],
   "source": [
    "# Performing Euler's method in 2D here\n",
    "# We have already set up the update for acceleration to show you how to work with 2D vectors to access the desired information.\n",
    "for i in range(0,len(t)-1):\n",
    "    v[:,i+1] = v[:,i]+dt*a[:,i] # Insert Euler's method formula for updating velocity\n",
    "    r[:,i+1] = r[:,i]+dt*v[:,i]# Insert Euler's method formula for updating position\n",
    "    a[:,i+1] = -v[:,i]/tau-avec# Update acceleration using eq. 1 and inserting v[i+1] for v"
   ]
  },
  {
   "cell_type": "code",
   "execution_count": 17,
   "metadata": {},
   "outputs": [
    {
     "data": {
      "text/plain": [
       "<matplotlib.collections.PathCollection at 0x11f82aef0>"
      ]
     },
     "execution_count": 17,
     "metadata": {},
     "output_type": "execute_result"
    },
    {
     "data": {
      "image/png": "[encoded data removed]",
      "text/plain": [
       "<Figure size 432x288 with 1 Axes>"
      ]
     },
     "metadata": {
      "needs_background": "light"
     },
     "output_type": "display_data"
    }
   ],
   "source": [
    "## Scatter plot the x and y once you have the above working.\n",
    "\n",
    "plt.scatter(r[0],r[1])"
   ]
  },
  {
   "cell_type": "markdown",
   "metadata": {},
   "source": [
    "## Now let's compare this to the analytical solution.\n",
    "Integrate eq 2a and 2b to obtain the position as a function of time.  Then create a graph of the analytical solution to compare with our Euler calculation. Feel free to look at your previous notebooks to see how we did it before."
   ]
  },
  {
   "cell_type": "code",
   "execution_count": 18,
   "metadata": {},
   "outputs": [
    {
     "data": {
      "text/plain": [
       "[<matplotlib.lines.Line2D at 0x11f8bd828>]"
      ]
     },
     "execution_count": 18,
     "metadata": {},
     "output_type": "execute_result"
    },
    {
     "data": {
      "image/png": "[encoded data removed]",
      "text/plain": [
       "<Figure size 432x288 with 1 Axes>"
      ]
     },
     "metadata": {
      "needs_background": "light"
     },
     "output_type": "display_data"
    }
   ],
   "source": [
    "## Plot the analytical and numerical solutions side by side here\n",
    "ta = np.arange(0.0,tf,0.1)\n",
    "vter=g*tau\n",
    "ra = np.array([vi_x*tau*(1-np.exp(-ta/tau)),(vi_y+vter)*tau*(1-np.exp(-ta/tau))-vter*ta])\n",
    "plt.scatter(r[0],r[1],c='r')\n",
    "plt.plot(ra[0],ra[1])"
   ]
  },
  {
   "cell_type": "markdown",
   "metadata": {},
   "source": [
    "# Now let's utilize what we have learned in order to solve for projectile motion with a quadratic drag force.\n",
    "In this case there is no analytical solution, so we must use a numerical method in order to find the trajectory.\n",
    "In the cell below create a function that performs Euler's Forward Method to obtain the motion as a function of time in the presence of a quadratic drag force.\n",
    "\n",
    "By manipulating the force equations from class, we can write the equations of motion with quadratic drag as:\n",
    "\n",
    "eq 3a.) $a_y = -g - g\\dfrac{v_y\\sqrt{v_x^2+v_y^2}}{v_\\mathrm{ter}^2}$\n",
    "\n",
    "eq 3b.) $a_x = -g\\dfrac{v_x\\sqrt{v_x^2+v_y^2}}{v_\\mathrm{ter}^2}\\,,$\n",
    "\n",
    "where we have used the relation $c/m=g/v_\\mathrm{ter}^2$ in order to express everything in terms of $g$ and the terminal speed, $v_\\mathrm{ter}$.\n",
    "\n",
    "Use these equations to calculate your acceleration in your Euler method function."
   ]
  },
  {
   "cell_type": "code",
   "execution_count": 30,
   "metadata": {},
   "outputs": [],
   "source": [
    "def EulerQuad(vi, theta_deg, tf, dt, vter):\n",
    "\n",
    "    # Set initial values and conversions here. We give you g\n",
    "    g = 9.8# m/s^2\n",
    "    theta_rad = np.radians(theta_deg)# radians\n",
    "    vi_y = vi*np.sin(theta_rad)# m/s\n",
    "    vi_x = vi*np.cos(theta_rad)# m/s\n",
    "\n",
    "    ai_y = -g-g*vi_y*(vi_x**2+vi_y**2)**(1/2)/vter**2 # m/s^2\n",
    "    ai_x = -g*vi_x*(vi_x**2+vi_y**2)**(1/2)/vter**2 # m/s^2\n",
    "\n",
    "    # Create your arrays here\n",
    "  \n",
    "    t = np.arange(0.0,tf,dt) # Creates an evenly spaced time array going from 0 to 5, with step size 0.1\n",
    "\n",
    "    a = np.array([np.zeros(len(t)),np.zeros(len(t))])# Create an array of zeros for [ax,ay] values. Storage size is N\n",
    "    v = np.array([np.zeros(len(t)),np.zeros(len(t))])# Create an array of zeros for [vx,vy] values. Storage size is N\n",
    "    r = np.array([np.zeros(len(t)),np.zeros(len(t))])# Create an array of zeros for [x,y] values. Storage size is N\n",
    "\n",
    "    ### Sets initial values in vectors\n",
    "    v[0,0] = vi_x# Initial x velocity should go here\n",
    "    v[1,0] = vi_y# Initial y velocity should go here\n",
    "    a[0,0] = ai_x# Initial x accleration should go here\n",
    "    a[1,0] = ai_y# Initial y accleration should go here\n",
    "\n",
    "    avec = np.array([0,g]) # Creates a constant vector (independent of t) for acceleration due to gravity with x and y components\n",
    "        \n",
    "    # Performing Euler's method\n",
    "    for i in range(0,len(t)-1):\n",
    "        v[:,i+1] = v[:,i]+dt*a[:,i] # Insert Euler's method formula for updating velocity\n",
    "        r[:,i+1] = r[:,i]+dt*v[:,i]# Insert Euler's method formula for updating position\n",
    "        a[:,i+1] = -g*v[:,i+1]*(v[0,i+1]**2+v[1,i+1]**2)**(1/2)/vter**2-avec# Update acceleration using eq. 3 and inserting v[i+1] for v      \n",
    "    \n",
    "    # Plot your x and y values here\n",
    "    plt.scatter(r[0],r[1],s = 0.5)"
   ]
  },
  {
   "cell_type": "code",
   "execution_count": 31,
   "metadata": {},
   "outputs": [
    {
     "data": {
      "image/png": "[encoded data removed]",
      "text/plain": [
       "<Figure size 432x288 with 1 Axes>"
      ]
     },
     "metadata": {
      "needs_background": "light"
     },
     "output_type": "display_data"
    }
   ],
   "source": [
    "## Test your Euler's function here\n",
    "EulerQuad(40,52,8,.1,50)"
   ]
  },
  {
   "cell_type": "markdown",
   "metadata": {},
   "source": [
    "***Set the initial conditions to be:***\n",
    "\n",
    "$v_i = 40\\ m/s$\n",
    "\n",
    "$\\theta = 52^{\\circ}$\n",
    "\n",
    "$v_\\mathrm{ter} = 50\\ m/s$\n",
    "\n",
    "$t_f = 8\\ s$\n",
    "\n",
    "Try different step sizes.  For large step sizes, you should see that the trajectory depends on step size.\n",
    "However, if the step size is small enough, the trajectory should become independent of step size."
   ]
  },
  {
   "cell_type": "code",
   "execution_count": 33,
   "metadata": {},
   "outputs": [
    {
     "data": {
      "image/png": "[encoded data removed]",
      "text/plain": [
       "<Figure size 432x288 with 1 Axes>"
      ]
     },
     "metadata": {
      "needs_background": "light"
     },
     "output_type": "display_data"
    }
   ],
   "source": [
    "## Test your Euler's method function here\n",
    "EulerQuad(40,52,8,.1,50)\n",
    "EulerQuad(40,52,8,.05,50)"
   ]
  },
  {
   "cell_type": "markdown",
   "metadata": {},
   "source": [
    "# Q2.) Around what time step size does the projectile's path stop looking different regardless of how small we have the step size?"
   ]
  },
  {
   "cell_type": "markdown",
   "metadata": {},
   "source": [
    "&#9989; Double click this cell, erase its content, and put your answer to the above question here."
   ]
  },
  {
   "cell_type": "markdown",
   "metadata": {},
   "source": [
    "As a final check, note that you should be able to compare your plot of the trajectory against Figure 2.10 in Taylor if you choose the appropriate parameters.  Try that here:"
   ]
  },
  {
   "cell_type": "code",
   "execution_count": 38,
   "metadata": {},
   "outputs": [
    {
     "data": {
      "image/png": "[encoded data removed]",
      "text/plain": [
       "<Figure size 432x288 with 1 Axes>"
      ]
     },
     "metadata": {
      "needs_background": "light"
     },
     "output_type": "display_data"
    }
   ],
   "source": [
    "## Test your Euler's method function with parameters from Figure 2.10.\n",
    "\n",
    "EulerQuad(30,50,8,.05,35)\n"
   ]
  },
  {
   "cell_type": "markdown",
   "metadata": {},
   "source": [
    "# Notebook Wrap-up. \n",
    "Run the cell below and copy-paste your answers into their corresponding cells."
   ]
  },
  {
   "cell_type": "code",
   "execution_count": null,
   "metadata": {},
   "outputs": [],
   "source": [
    "from IPython.display import HTML\n",
    "HTML(\n",
    "\"\"\"\n",
    "<iframe \n",
    "\tsrc=\"https://forms.gle/Fqi9Y6xraQhmNq9j6\" \n",
    "\twidth=\"100%\" \n",
    "\theight=\"1200px\" \n",
    "\tframeborder=\"0\" \n",
    "\tmarginheight=\"0\" \n",
    "\tmarginwidth=\"0\">\n",
    "\tLoading...\n",
    "</iframe>\n",
    "\"\"\"\n",
    ")"
   ]
  },
  {
   "cell_type": "markdown",
   "metadata": {},
   "source": [
    "# Congrulations! You are done with this week's notebook!\n",
    "Feel free to play around with what you have learned so far, review this notebook, or whatever. I can't really control you or what you do, the world is your oyster."
   ]
  }
 ],
 "metadata": {
  "kernelspec": {
   "display_name": "Python 3",
   "language": "python",
   "name": "python3"
  },
  "language_info": {
   "codemirror_mode": {
    "name": "ipython",
    "version": 3
   },
   "file_extension": ".py",
   "mimetype": "text/x-python",
   "name": "python",
   "nbconvert_exporter": "python",
   "pygments_lexer": "ipython3",
   "version": "3.7.5"
  }
 },
 "nbformat": 4,
 "nbformat_minor": 2
}
