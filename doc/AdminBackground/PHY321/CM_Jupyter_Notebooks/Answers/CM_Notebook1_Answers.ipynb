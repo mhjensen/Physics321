{
 "cells": [
  {
   "cell_type": "markdown",
   "metadata": {
    "colab_type": "text",
    "id": "9WWR8wCt2FHB"
   },
   "source": [
    "## Classical Mechanics - Week 1 Answers\n",
    "\n",
    "### This week we will:\n",
    "- Review basic Python syntax for arrays\n",
    "- Be able to define and operate on vectors and matrices in Python\n",
    "- Create plots for motion in 1D space"
   ]
  },
  {
   "cell_type": "code",
   "execution_count": 1,
   "metadata": {
    "colab": {},
    "colab_type": "code",
    "id": "TeCcMGBk2FHD"
   },
   "outputs": [],
   "source": [
    "# Here are basic packages we will be using this week\n",
    "\n",
    "import numpy as np \n",
    "import matplotlib.pyplot as plt\n",
    "%matplotlib inline"
   ]
  },
  {
   "cell_type": "markdown",
   "metadata": {
    "colab_type": "text",
    "id": "5HHcMYUC2FHG"
   },
   "source": [
    "## We will be working with vectors and matrices to get you familiar with them\n",
    "\n",
    "#### Initalize two xyz vectors in the below cell using np.array([x,y,z]). Vectors are represented through arrays in python\n",
    "#### V1 should have x1=1, y1 =2, and z1=3. \n",
    "#### Vector 2 should have x2=4, y2=5,  and z2=6. \n",
    "#### Print both vectors to make sure it is working peroperly\n"
   ]
  },
  {
   "cell_type": "code",
   "execution_count": 2,
   "metadata": {
    "colab": {},
    "colab_type": "code",
    "id": "WkuwlnuO2FHH",
    "outputId": "1b0273a9-5bfa-408d-c9bb-ca9cefcf441d"
   },
   "outputs": [
    {
     "name": "stdout",
     "output_type": "stream",
     "text": [
      "V1:  [1 2 3]\n",
      "V2:  [4 5 6]\n"
     ]
    }
   ],
   "source": [
    "V1 = np.array([1,2,3])\n",
    "V2 = np.array([4,5,6])\n",
    "print(\"V1: \", V1)\n",
    "print(\"V2: \", V2)"
   ]
  },
  {
   "cell_type": "markdown",
   "metadata": {
    "colab_type": "text",
    "id": "gRUhpkNX2FHL"
   },
   "source": [
    "#### Once you have gotten the vectors set up, nice! If not, no worries. Here's a useful link for creating vectors in python https://docs.scipy.org/doc/numpy-1.13.0/user/basics.creation.html\n",
    "\n",
    "#### Now lets do some basic math with vectors. Print the following the following, and double check with hand calculations:\n",
    "##### a.) V1-V2    b.) V2-V1  \n",
    "Here is some useful explanation on numpy array operations if you feel a bit confused by what is happening: https://www.pluralsight.com/guides/overview-basic-numpy-operations"
   ]
  },
  {
   "cell_type": "code",
   "execution_count": 3,
   "metadata": {
    "colab": {},
    "colab_type": "code",
    "id": "-fRQSSod2FHM",
    "outputId": "d280ca1f-07d2-420c-b1b0-f404f116f1ae"
   },
   "outputs": [
    {
     "name": "stdout",
     "output_type": "stream",
     "text": [
      "[-3 -3 -3]\n",
      "[0 0 0]\n"
     ]
    }
   ],
   "source": [
    "print(V1-V2)\n",
    "print(V2-V2)"
   ]
  },
  {
   "cell_type": "markdown",
   "metadata": {
    "colab_type": "text",
    "id": "wcn4-5gz2FHO"
   },
   "source": [
    "#### Let's take the dot product of V1 and V2 below using V1.dot(V2)\n",
    "## NOTE: This function is only usable while numpy is imported"
   ]
  },
  {
   "cell_type": "code",
   "execution_count": 4,
   "metadata": {
    "colab": {},
    "colab_type": "code",
    "id": "FSDfxtPQ2FHP",
    "outputId": "500f89db-ef9b-43f4-e22b-dd4bbf4c4200"
   },
   "outputs": [
    {
     "name": "stdout",
     "output_type": "stream",
     "text": [
      "32\n"
     ]
    }
   ],
   "source": [
    "print(V1.dot(V2))"
   ]
  },
  {
   "cell_type": "markdown",
   "metadata": {
    "colab_type": "text",
    "id": "WbMfBBny2FHQ"
   },
   "source": [
    "#### Matrices can be created in a similar fashion in python.  In this language we can work with them through the package numpy (which we have already imported)"
   ]
  },
  {
   "cell_type": "code",
   "execution_count": 5,
   "metadata": {
    "colab": {},
    "colab_type": "code",
    "id": "d8M3D1oA2FHR"
   },
   "outputs": [],
   "source": [
    "M1 = np.matrix([[1,2,3],\n",
    "             [4,5,6],\n",
    "             [7,8,9]])\n",
    "M2 = np.matrix([[1,2],\n",
    "             [3,4],\n",
    "             [5,6]])\n",
    "M3 = np.matrix([[9,8,7],\n",
    "             [4,5,6],\n",
    "             [7,6,9]])"
   ]
  },
  {
   "cell_type": "markdown",
   "metadata": {
    "colab_type": "text",
    "id": "3VjqFiYH2FHT"
   },
   "source": [
    "#### Matrices can be added in the same way vectors are added in python."
   ]
  },
  {
   "cell_type": "code",
   "execution_count": 6,
   "metadata": {
    "colab": {},
    "colab_type": "code",
    "id": "DqDkgH0Y2FHU",
    "outputId": "6542a0f5-8b59-4224-de39-fe78518762ab"
   },
   "outputs": [
    {
     "name": "stdout",
     "output_type": "stream",
     "text": [
      "M1*M2:  [[ 22  28]\n",
      " [ 49  64]\n",
      " [ 76 100]]\n",
      "M1+M3:  [[10 10 10]\n",
      " [ 8 10 12]\n",
      " [14 14 18]]\n"
     ]
    }
   ],
   "source": [
    "print(\"M1*M2: \", M1*M2)\n",
    "print(\"M1+M3: \", M1+M3)"
   ]
  },
  {
   "cell_type": "code",
   "execution_count": 7,
   "metadata": {
    "colab": {},
    "colab_type": "code",
    "id": "oExTHIiK2FHW"
   },
   "outputs": [],
   "source": [
    "m1 = np.matrix([['a','b',0],\n",
    "             ['c','d',0],\n",
    "             [0,0,1]])"
   ]
  },
  {
   "cell_type": "markdown",
   "metadata": {
    "colab_type": "text",
    "id": "I_w9Cyuk2FHY"
   },
   "source": [
    "#### Run the cell below and notice how when doing M2xM1 this does not work. Do not worry, this is expected if you remember how matrices work. The first matrix's number of columns must equal the second matrix's number of rows. \n",
    "\n",
    "After you run the below cell once, fix the problem by making a new matrix M4 that has two rows (number of columns is up to you) and update the print outputs appropriately (changing every M1 to M4)."
   ]
  },
  {
   "cell_type": "code",
   "execution_count": 8,
   "metadata": {
    "colab": {},
    "colab_type": "code",
    "id": "pixOkgV12FHY",
    "outputId": "845df114-5f43-442c-f5a3-b2527b0c288d"
   },
   "outputs": [
    {
     "name": "stdout",
     "output_type": "stream",
     "text": [
      "M2*M4:  [[17 18]\n",
      " [43 44]\n",
      " [69 70]]\n"
     ]
    }
   ],
   "source": [
    "## print(\"M2xM1: \", M2ot.d(M1)) \n",
    "## The above is the original thing in the cell, giving an error. Below is an example of a way of fixing the error\n",
    "\n",
    "M4 =M3 = np.array([[9,8],\n",
    "             [4,5]])\n",
    "print(\"M2*M4: \", M2.dot(M4))"
   ]
  },
  {
   "cell_type": "markdown",
   "metadata": {
    "colab_type": "text",
    "id": "yALBQejq2FHa"
   },
   "source": [
    "# That's enough vectors and matrices for now. Let's move on to some physics problems :) \n",
    "(Yes, the actual subject we are studying for)"
   ]
  },
  {
   "cell_type": "markdown",
   "metadata": {
    "colab_type": "text",
    "id": "4J39IjnV2FHb"
   },
   "source": [
    "We'll be working with a basic projectile motion for this part. Let's plot the motion of a dropped ball.\n",
    "\n",
    "\n",
    "\n",
    "# Problem: Assume I have a ball dangling at a very large height. Let's plot the position of the ball over the course of 5 seconds."
   ]
  },
  {
   "cell_type": "markdown",
   "metadata": {
    "colab_type": "text",
    "id": "KgAy517Z2FHc"
   },
   "source": [
    "There are many ways to approach this problem, especially in a computational aspect. However, in order to get your feet wet in programing, let us do something basic for this week: \n",
    "\n",
    "Determining our equations of motion in respect to time using out Physics I knowledge we get the following:\n",
    "\n",
    "$\\mathbf{P}(\\mathbf{t}) = P_i + V t + \\dfrac{1}{2}at^2 $\n",
    "\n",
    "Where $V$ is the initial velocity and $a$ is the accleration of the object."
   ]
  },
  {
   "cell_type": "markdown",
   "metadata": {
    "colab_type": "text",
    "id": "ClQsRSPf2FHc"
   },
   "source": [
    "#### We're going to use these equations to create a simple yet adjustable computation (Run the cell below)"
   ]
  },
  {
   "cell_type": "code",
   "execution_count": 9,
   "metadata": {
    "colab": {},
    "colab_type": "code",
    "id": "yMGq0Hsc2FHd",
    "outputId": "6939d14b-2fde-456a-c1f7-47143a174bcd"
   },
   "outputs": [
    {
     "data": {
      "text/plain": [
       "Text(0, 0.5, 'Distance (m)')"
      ]
     },
     "execution_count": 9,
     "metadata": {},
     "output_type": "execute_result"
    },
    {
     "data": {
      "image/png": "[encoded data removed]",
      "text/plain": [
       "<Figure size 576x576 with 1 Axes>"
      ]
     },
     "metadata": {},
     "output_type": "display_data"
    }
   ],
   "source": [
    "%matplotlib inline\n",
    "import matplotlib.patches as mpatches\n",
    "\n",
    "g = 9.8 #m/s^2\n",
    "tf = 5 #s\n",
    "t = np.arange(0,tf,.1)\n",
    "y = -g*.5*t**2\n",
    "\n",
    "plt.style.use('ggplot')\n",
    "plt.figure(figsize=(8,8))\n",
    "plt.scatter(t, y, color = 'b')\n",
    "blue_patch = mpatches.Patch(color = 'b', label = 'Y position over time')\n",
    "plt.legend(handles=[blue_patch])\n",
    "plt.xlabel(\"Time (s)\")\n",
    "plt.ylabel(\"Distance (m)\")   "
   ]
  },
  {
   "cell_type": "markdown",
   "metadata": {
    "colab_type": "text",
    "id": "guiosnVu2FHf"
   },
   "source": [
    "### Now using what we have learned from the \"Python Basics\" notebook and here let's create a program that takes in initial velocity and time we want to analyze, spitting out a graph after it is done:\n",
    "\n",
    "We will need to modify our $y$ equation to take in velocity also. A command for user inputs is already provided, along with the  skeleton of the funciton. Your job is to complete it using the hints provided."
   ]
  },
  {
   "cell_type": "code",
   "execution_count": 10,
   "metadata": {
    "colab": {},
    "colab_type": "code",
    "id": "UP7JZyZP2FHf",
    "outputId": "9511c401-882a-41d5-ff67-f0ae3ac47628"
   },
   "outputs": [
    {
     "name": "stdout",
     "output_type": "stream",
     "text": [
      "Please enter initial velocity (m/s)10\n",
      "Pleaes enter time you would like to analyze the dropped ball (s)5\n"
     ]
    },
    {
     "data": {
      "image/png": "[encoded data removed]",
      "text/plain": [
       "<Figure size 576x576 with 1 Axes>"
      ]
     },
     "metadata": {},
     "output_type": "display_data"
    }
   ],
   "source": [
    "# The next two commands will ask the user for an input. The value will be stored as a \"float number\"\n",
    "Vi = float(input(\"Please enter initial velocity (m/s)\"))\n",
    "\n",
    "T = float(input(\"Pleaes enter time you would like to analyze the dropped ball (s)\"))\n",
    "\n",
    "# This is where we create our function \n",
    "def Canon(vi, tf):\n",
    "    \n",
    "    g = 9.8 # m/s^2\n",
    "    \n",
    "    t = np.arange(0,tf,.1)\n",
    "    y = vi*t - g*.5*t**2\n",
    "    \n",
    "    plt.style.use('ggplot')\n",
    "    plt.figure(figsize=(8,8))\n",
    "    plt.scatter(t, y, color = 'b')\n",
    "    blue_patch = mpatches.Patch(color = 'b', label = 'Y position over time')\n",
    "    plt.legend(handles=[blue_patch])\n",
    "    plt.xlabel(\"Time (s)\")\n",
    "    plt.ylabel(\"Height (m)\")   \n",
    "    \n",
    "\n",
    "# Now below, we will call upon the Canon function\n",
    "Canon(Vi, T)\n"
   ]
  },
  {
   "cell_type": "markdown",
   "metadata": {
    "colab_type": "text",
    "id": "EONiC73M2FHh"
   },
   "source": [
    "# Q1.) Given an initial velocity of 40 m/s upwards and observed for a time period of 10 seconds, about how high does the ball get? What position is the ball from the origin at the end of the observation? \n",
    "#### (This doesn't need to be exact, use the program above to answer this question)"
   ]
  },
  {
   "cell_type": "markdown",
   "metadata": {
    "colab_type": "text",
    "id": "o1n-NTE52FHi"
   },
   "source": [
    "&#9989; Double click this cell, erase its content, and put your answer to the above question here.\n",
    "\n",
    "####### Possible Answer #######\n",
    "\n",
    "Maximum height is about 87 meters. The displacement after 10 seconds is about 87 meters below where it started.\n",
    "\n",
    "####### Possible Answer #######"
   ]
  },
  {
   "cell_type": "markdown",
   "metadata": {
    "colab_type": "text",
    "id": "7ODKyddj2FHi"
   },
   "source": [
    "# Congratulations, you are at the end of the assignment! \n",
    "\n",
    "Consider reviewing some Python documentation online to get the hang of variables and functions more. Or relax and take a break after. Whatever floats your boat."
   ]
  }
 ],
 "metadata": {
  "colab": {
   "name": "CM_Notebook1_Answers.ipynb",
   "provenance": []
  },
  "kernelspec": {
   "display_name": "Python 3",
   "language": "python",
   "name": "python3"
  },
  "language_info": {
   "codemirror_mode": {
    "name": "ipython",
    "version": 3
   },
   "file_extension": ".py",
   "mimetype": "text/x-python",
   "name": "python",
   "nbconvert_exporter": "python",
   "pygments_lexer": "ipython3",
   "version": "3.7.5"
  }
 },
 "nbformat": 4,
 "nbformat_minor": 1
}
