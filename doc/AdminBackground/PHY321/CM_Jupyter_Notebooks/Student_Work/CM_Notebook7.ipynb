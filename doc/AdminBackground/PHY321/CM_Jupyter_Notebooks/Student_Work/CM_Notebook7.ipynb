{
 "cells": [
  {
   "cell_type": "markdown",
   "metadata": {},
   "source": [
    "## Classical Mechanics - Week 7\n",
    " \n",
    " \n",
    "### Last Week:\n",
    "- Simulated planetary motion\n",
    "- Saw the limitations of Euler's Method\n",
    "- Gained experience with the Velocity Verlet Method\n",
    "\n",
    "### This Week:\n",
    "- Introduce the SymPy package\n",
    "- Visualize Potential Energy surfaces\n",
    "- Explore packages in Python"
   ]
  },
  {
   "cell_type": "markdown",
   "metadata": {},
   "source": [
    "# Why use packages, libraries, and functions in coding?\n",
    "Another great question! \n",
    "\n",
    "**Simply put:** We could hard code every little algorithm into our program and retype them every time we need them, OR we could call upon the functions from packages and libraries to do these tedious calculations and reduce the possibility of error.\n",
    "\n",
    "We have done this with numpy.linalg.norm() to calculate the magnitude of vectors.\n",
    "\n",
    "We will be introducing a new package call SymPy, a very useful [symbolic mathematics](https://en.wikipedia.org/wiki/Computer_algebra) library."
   ]
  },
  {
   "cell_type": "code",
   "execution_count": null,
   "metadata": {},
   "outputs": [],
   "source": [
    "# Let's import packages, as usual\n",
    "import numpy as np\n",
    "import matplotlib.pyplot as plt\n",
    "import sympy as sym\n",
    "sym.init_printing(use_unicode=True)"
   ]
  },
  {
   "cell_type": "markdown",
   "metadata": {},
   "source": [
    "Let's analyze a simple projectile motion again, but this time using SymPy. \n",
    "\n",
    "Assume we have the following equation to express our trajectory in the $x-y$ coordinates:\n",
    "\n",
    "$y = y_0 - (\\beta -x)^2$, where $y_0$ and $\\beta$ are constants."
   ]
  },
  {
   "cell_type": "code",
   "execution_count": null,
   "metadata": {},
   "outputs": [],
   "source": [
    "# First we must declare and define our variables. Examine the syntax in this cell then run it. Notice that ordering matters\n",
    "x, y0, beta = sym.symbols('x, y_0, beta')"
   ]
  },
  {
   "cell_type": "code",
   "execution_count": null,
   "metadata": {},
   "outputs": [],
   "source": [
    "# Next we will define our function\n",
    "y = y0 - (beta - x)**2\n",
    "y # This line outputs a visualization of our equation y(x) below"
   ]
  },
  {
   "cell_type": "code",
   "execution_count": null,
   "metadata": {},
   "outputs": [],
   "source": [
    "# Now we will set our constants, but leave x alone so we can plot as a function of x\n",
    "y1 = sym.simplify(y.subs({y0:10, beta:1}))\n",
    "y1 # This line outputs a visualization of our equation y1(x) below"
   ]
  },
  {
   "cell_type": "code",
   "execution_count": null,
   "metadata": {},
   "outputs": [],
   "source": [
    "# Run this cell. What happens as you play around with the constants?\n",
    "sym.plot(y1,(x,0,5), title='Height vs Distance',xlabel='x',ylabel='y')"
   ]
  },
  {
   "cell_type": "markdown",
   "metadata": {},
   "source": [
    "## Q1.) How would you compare plotting with sympy versus what we have done so far? Which method do you prefer?"
   ]
  },
  {
   "cell_type": "markdown",
   "metadata": {},
   "source": [
    "&#9989; Double click this cell, erase its content, and put your answer to the above question here."
   ]
  },
  {
   "cell_type": "markdown",
   "metadata": {},
   "source": [
    "#### Using what we just learned, please set up the following equation using sympy where $U(\\vec{r})$ is our potential energy:\n",
    "\n",
    "$U(\\vec{r}) = -e^{-(x^2+y^2)}$"
   ]
  },
  {
   "cell_type": "code",
   "execution_count": null,
   "metadata": {},
   "outputs": [],
   "source": [
    " = sym.symbols() ## Set up our variables here. What should be on the left-hand and right-hand side?\n",
    "U = -sym.exp() ## What should go in the exp? Notice that using SymPy we need to use the SymPy function for exp\n",
    "U"
   ]
  },
  {
   "cell_type": "markdown",
   "metadata": {},
   "source": [
    "### We have two ways in which we can graph this:\n",
    "\n",
    "Either perform the substitution $r^2 = x^2+y^2$ in order to plot in a 2D space ($U(r)$) or we could plot in a 3D space keeping $x$ and $y$ in our equation (U(x,y)). \n",
    "\n",
    "## Q2.) What do you think are the benefits/draw-backs of these two methods of analyzing our equation? Which do you prefer?"
   ]
  },
  {
   "cell_type": "markdown",
   "metadata": {},
   "source": [
    "&#9989; Double click this cell, erase its content, and put your answer to the above question here."
   ]
  },
  {
   "cell_type": "markdown",
   "metadata": {},
   "source": [
    "#### Now let's graph the potential\n",
    "For now we will use sympy to perform both a 2D and 3D plot. Let's do the 2D version first using what we just learned."
   ]
  },
  {
   "cell_type": "code",
   "execution_count": null,
   "metadata": {
    "scrolled": true
   },
   "outputs": [],
   "source": [
    "r = sym.symbols('r') # Creating our variables\n",
    "U2D = -sym.exp() # Finish the equation using our replacement for x^2 + y^2\n",
    "sym.plot(U2D,title='Potential vs Distance',xlabel='Distance (r)',ylabel='Potential (U)')"
   ]
  },
  {
   "cell_type": "markdown",
   "metadata": {},
   "source": [
    "## Q3.) What can you learn from this 2D graph?"
   ]
  },
  {
   "cell_type": "markdown",
   "metadata": {},
   "source": [
    "&#9989; Double click this cell, erase its content, and put your answer to the above question here."
   ]
  },
  {
   "cell_type": "markdown",
   "metadata": {},
   "source": [
    "The cell below imports a function from the sympy package that allows us to graph in 3D. Using the \"plot3d\" call, make a 3D plot of our originally initalized equation. \n",
    "\n",
    "For the 3D plot, try setting the x and y plot limits as close as you can to the origin while having a clear picture of what is happening at the origin. For example x and y could range from (-4,4)"
   ]
  },
  {
   "cell_type": "code",
   "execution_count": null,
   "metadata": {},
   "outputs": [],
   "source": [
    "# The below import will allow us to plot in 3D with sympy\n",
    "# Define \"U\" as your potential\n",
    "from sympy.plotting import plot3d"
   ]
  },
  {
   "cell_type": "code",
   "execution_count": null,
   "metadata": {},
   "outputs": [],
   "source": [
    "# Once you have your potential function set up, execute this cell to obtain a graph\n",
    "# Play around with the x and y scale to get a better view of the potential curve\n",
    "plot3d(U,(x,-10,10),(y,-10,10))"
   ]
  },
  {
   "cell_type": "markdown",
   "metadata": {},
   "source": [
    "## Q4.) What can you learn from this 3D graph? (Feel free to make the graph's x and y-range smaller to observe the differences)"
   ]
  },
  {
   "cell_type": "markdown",
   "metadata": {},
   "source": [
    "&#9989; Double click this cell, erase its content, and put your answer to the above question here."
   ]
  },
  {
   "cell_type": "markdown",
   "metadata": {},
   "source": [
    "##### Let's get some more in-depth coding experience:\n",
    "Try to graph this last potential energy function using SymPy or with Numpy (there is a 3d plotting example back in Week 2's notebook).\n",
    "\n",
    "$U(r) = 3.2\\cdot e^{-(0.5x^2+0.25y^2)}$"
   ]
  },
  {
   "cell_type": "code",
   "execution_count": null,
   "metadata": {},
   "outputs": [],
   "source": [
    "## Set up and graph the potential here\n",
    "\n"
   ]
  },
  {
   "cell_type": "markdown",
   "metadata": {},
   "source": [
    "## Q5.) How would you describe the new potential?"
   ]
  },
  {
   "cell_type": "markdown",
   "metadata": {},
   "source": [
    "&#9989; Double click this cell, erase its content, and put your answer to the above question here."
   ]
  },
  {
   "cell_type": "markdown",
   "metadata": {},
   "source": [
    "### Try this: \n",
    "Center the new potential at (1,1) instead of (0,0).  (That is, move the peak of the graph from (0,0) to (1,1).)"
   ]
  },
  {
   "cell_type": "code",
   "execution_count": null,
   "metadata": {},
   "outputs": [],
   "source": [
    "## Plot the adjustment here"
   ]
  },
  {
   "cell_type": "markdown",
   "metadata": {},
   "source": [
    "## Q6.) How did you move the peak of the graph?"
   ]
  },
  {
   "cell_type": "markdown",
   "metadata": {},
   "source": [
    "&#9989; Double click this cell, erase its content, and put your answer to the above question here."
   ]
  },
  {
   "cell_type": "markdown",
   "metadata": {},
   "source": [
    "# Notebook Wrap-up. \n",
    "Run the cell below and copy-paste your answers into their corresponding cells."
   ]
  },
  {
   "cell_type": "code",
   "execution_count": null,
   "metadata": {},
   "outputs": [],
   "source": [
    "from IPython.display import HTML\n",
    "HTML(\n",
    "\"\"\"\n",
    "<iframe \n",
    "\tsrc=\"https://goo.gl/forms/2Ax1XFtWZhjJOHym2\" \n",
    "\twidth=\"100%\" \n",
    "\theight=\"1200px\" \n",
    "\tframeborder=\"0\" \n",
    "\tmarginheight=\"0\" \n",
    "\tmarginwidth=\"0\">\n",
    "\tLoading...\n",
    "</iframe>\n",
    "\"\"\"\n",
    ")"
   ]
  },
  {
   "cell_type": "markdown",
   "metadata": {},
   "source": [
    "# Congratulations! Another week, another Notebook.\n",
    "\n",
    "As we can see, there are many tools we can use to model and analyze different problems in Physics on top of Numerical methods. Libraries and packages are such tools that have been developed by scientists to work on different topics, each package specific to a different application. But this is just food for thought. Although we use some basic package functions, we won't be using advanced scientific packages to do simulations and calculations in this class."
   ]
  },
  {
   "cell_type": "code",
   "execution_count": null,
   "metadata": {},
   "outputs": [],
   "source": []
  }
 ],
 "metadata": {
  "kernelspec": {
   "display_name": "Python 3",
   "language": "python",
   "name": "python3"
  },
  "language_info": {
   "codemirror_mode": {
    "name": "ipython",
    "version": 3
   },
   "file_extension": ".py",
   "mimetype": "text/x-python",
   "name": "python",
   "nbconvert_exporter": "python",
   "pygments_lexer": "ipython3",
   "version": "3.7.3"
  }
 },
 "nbformat": 4,
 "nbformat_minor": 2
}
