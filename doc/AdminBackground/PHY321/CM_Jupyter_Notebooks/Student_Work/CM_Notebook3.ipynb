{
 "cells": [
  {
   "cell_type": "markdown",
   "metadata": {},
   "source": [
    "## Classical Mechanics - Week 3\n",
    "\n",
    "### Last week we:\n",
    "- Gained more practice with plotting in Python\n",
    "- Became familiar with arrays and representing vectors with such objects\n",
    "- Utilized more complex analytical solutions in functions\n",
    " \n",
    "### This week we will:\n",
    "- Introduce drag into our analytical solutions\n",
    "- Learn and utilize Euler's Method to computationally solve for motion\n",
    "- Compare analytical and computational solutions "
   ]
  },
  {
   "cell_type": "code",
   "execution_count": null,
   "metadata": {},
   "outputs": [],
   "source": [
    "## let's start by importing useful packages we are familiar with\n",
    "import numpy as np\n",
    "import matplotlib.pyplot as plt\n",
    "%matplotlib inline"
   ]
  },
  {
   "cell_type": "markdown",
   "metadata": {},
   "source": [
    "# More practice with arrays:\n",
    "\n",
    "Last week we learned about arrays and saw their potential usefulness. Please set up the following variables:\n",
    "- $v_0 = 150\\ m/s$\n",
    "- $\\theta = 80^{\\circ}$\n",
    "- $v_{0z} = v_0\\sin(\\theta)$\n",
    "- $v_{0x} = v_0\\cos(\\theta)$\n",
    "- Calculate $t_f$ with the same equation used last week: $t_f =\\dfrac{2v_{0z}}{g}$\n",
    "    \n",
    "\n",
    "Then set up four arrays: \n",
    "\n",
    "- Time array $t$ going from 0 to $t_f$ with step sizes of 0.01\n",
    "\n",
    "- Acceleration vector $\\vec{a} = <0,0,-g>$ \n",
    "\n",
    "- Initial velocity vector $\\vec{v_i} = <v_{0x} , 0 , v_{0z}>$ \n",
    "\n",
    "- Initial position vector $\\vec{r_i} = <0, 0, 0>$\n",
    "\n",
    "We have given you a skeleton along with the set up for the $\\vec{v_i}$ vector as an example of how to set up your arrays. **REMEMBER to convert your theta from degrees to radians!**"
   ]
  },
  {
   "cell_type": "code",
   "execution_count": null,
   "metadata": {},
   "outputs": [],
   "source": [
    "v0 = # m/s\n",
    "theta_deg = # degrees\n",
    "theta_rad = # radians\n",
    "v0_z = # Initial velocity in z direction\n",
    "v0_x = # Initial velocity in x direction\n",
    "g = # m/s^2\n",
    "tf = # s\n",
    "t = # time array\n",
    "\n",
    "a = # Create acceleration array \n",
    "v_i = np.array([np.ones(len(t))*v0_x, np.zeros(len(t)), np.ones(len(t))*v0_z]) # Initial velocity array \n",
    "r_i = # Create initial position array"
   ]
  },
  {
   "cell_type": "code",
   "execution_count": null,
   "metadata": {},
   "outputs": [],
   "source": [
    "# Run this cell after you have the above completed \n",
    "r = r_i + v_i*t + 0.5*a*t**2 # Calculates position over time\n",
    "\n",
    "# The following makes a plot of the trajectory of z vs x.\n",
    "%matplotlib inline\n",
    "import matplotlib.patches as mpatches\n",
    "\n",
    "plt.style.use('ggplot')\n",
    "plt.figure(figsize=(8,8))\n",
    "plt.scatter(r[0], r[2], color = 'b')\n",
    "blue_patch = mpatches.Patch(color = 'b', label = 'Trajectory (z vs x)')\n",
    "plt.legend(handles=[blue_patch])\n",
    "plt.xlabel(\"x (m)\")\n",
    "plt.ylabel(\"z (m)\")   "
   ]
  },
  {
   "cell_type": "markdown",
   "metadata": {},
   "source": [
    "# As we learned through class / text books\n",
    "#### With air resistance factored in (assuming linear drag), the acceleration for vertical motion is:\n",
    "eq 1) $a_y = - v_y/\\tau - g$\n",
    "\n",
    "where $\\tau$ is the time constant (in seconds) for the decay of the velocity.  (Here, $y$ is the vertical direction with upward positive.)\n",
    "\n",
    "#### Performing an integration, we get the vertical velocity at time t with linear drag air resistance:\n",
    "eq 2) $v_{y}(t) =  -v_\\mathrm{ter}+ (v_{0y} + v_\\mathrm{ter})e^{- t/\\tau}\\,,$\n",
    "\n",
    "where $v_\\mathrm{ter}=g\\tau$ is the terminal speed.\n",
    "\n",
    "\n",
    "# Let's see how the velocity and acceleration affect each other when drag is factored in! \n",
    "Let's throw a ball upwards with initial speed $v_i = 20\\ m/s$. We will assume linear drag with a time constant of $\\tau=10\\ $ seconds. (Note that this is enough information to determine the terminal speed of the ball.) Insert the given value for the time constant, tau, and obtain the equation for the initial acceleration in the y direction, ay, below. Then run the cell below to see what the y acceleration would be immediately after throwing the ball. "
   ]
  },
  {
   "cell_type": "code",
   "execution_count": null,
   "metadata": {},
   "outputs": [],
   "source": [
    "## Initalized variables\n",
    "vi = # m/s\n",
    "g = # m/s^2\n",
    "tau = # s, time constant\n",
    "\n",
    "## Using eq 1 to calculate the acceleration with drag factored in\n",
    "ay = # m/s^2\n",
    "\n",
    "print(\"ay = \", ay, \"m/s^2\")"
   ]
  },
  {
   "cell_type": "markdown",
   "metadata": {},
   "source": [
    "# Q1.) What did you get for the initial acceleration? Does this make sense?"
   ]
  },
  {
   "cell_type": "markdown",
   "metadata": {},
   "source": [
    "&#9989; Double click this cell, erase its content, and put your answer to the above question here."
   ]
  },
  {
   "cell_type": "markdown",
   "metadata": {},
   "source": [
    "# Now we will introduce [Euler's Method](https://en.wikipedia.org/wiki/Euler_method) to solve for our motion\n",
    "\n",
    "### But first, we need to discuss \"step size\" and \"time steps\":\n",
    "Step size $h$ is defined as the difference between any two neighboring values in time (time steps) that we analyze within some range. It can be determined by dividing the interval we are analyzing, which in our case is time $(t)$, by the number of steps we are taking $(N)$. Thus step size $h = \\dfrac{t}{N}$. However, do notice that in the example below we define our range $t$, and step size $h$, making $N = \\dfrac{t}{h}$ the dependent variable in our case.\n",
    "\n",
    "### Short reminder on Euler's Method:\n",
    "[To be precise, this is Euler's \"Forward\" method, because we solve forward in steps from $f(x)$ to $f(x+h)$.]\n",
    "\n",
    "Suppose we know $f(x)$ and its derivative $f'(x)$. To find $f(x+h)$ at the next step, $x+h$,\n",
    "we can consider the Taylor expansion:\n",
    "\n",
    "$f(x+h) = f(x) + \\dfrac{hf'(x)}{1!} + \\dfrac{h^2f''(x)}{2!} + ...$\n",
    "\n",
    "If we ignore the $f''$ term and higher derivatives, we obtain\n",
    "\n",
    "$f(x+h) \\approx f(x) + hf'(x)$.\n",
    "\n",
    "This approximation is the basis of Euler's method, and the Taylor expansion suggests that it will have errors of $O(h^2)$.  Thus, one would expect it to work better, the smaller the step size $h$ that you use.\n",
    "\n",
    "We shall calculate with different values of $h$ and compare to the analytical solutions.  (In general, there\n",
    "may not be analytical solutions to compare with, so one will need to consider other methods to make sure the\n",
    "numerical solution is correct.)\n",
    "\n",
    "## Specifics of Euler's Forward Method for motion:\n",
    "With Euler's method we will be updating the velocity $(v[i+1])$ starting with our previous velocity $(v[i])$ and adding the previous acceleration multiplied by the time step $(a[i]*dt)$. (Convince yourself that this is exactly the approximate formula presented above.)\n",
    "\n",
    "The updated position is obtained by the same method. Below is a more detailed outline.\n",
    "\n",
    "\n",
    "#### Performing Euler's Method for this problem we will do the following steps:\n",
    "\n",
    "1.) Define and obtain all initial values, constants, and time to be analyzed with step sizes\n",
    "\n",
    "2.) Calculate the velocity using $v_{i+1} = v_{i} + h*a_{i}$\n",
    "\n",
    "3.) Calculate the position using $pos_{i+1} = pos_{i} + h*v_{i}$\n",
    "\n",
    "2.) Calculate the new acceleration $a_{i+1}$ using eq 1 with $v_{i+1}$. \n",
    "\n",
    "5.) Repeat steps 2-4 for all time steps within a loop."
   ]
  },
  {
   "cell_type": "markdown",
   "metadata": {},
   "source": [
    "# Q2.) If we wanted to analyze a time interval, $t$, of 20 seconds with step sizes, $h$, of 0.1 what would the number of steps, $N$, be?"
   ]
  },
  {
   "cell_type": "markdown",
   "metadata": {},
   "source": [
    "&#9989; Double click this cell, erase its content, and put your answer to the above question here.\n"
   ]
  },
  {
   "cell_type": "markdown",
   "metadata": {},
   "source": [
    "Let's look at a thrown ball and see how Euler's Method compares to the analytical solution. Our initial conditions will be as follows:\n",
    "\n",
    "- $v_i = 20\\ m/s$ upwards\n",
    "- $g = 9.8\\ m/s$ \n",
    "- $\\tau = 10\\ s$\n",
    "\n",
    "\n",
    "We already provide you with an outline of Euler-implemented code.  Complete the code, following the comments. Make sure to follow the procedures given by our explanations above, and then run the three cells below to see the outcome. (Only the first 2 cells need to be modified by you.)"
   ]
  },
  {
   "cell_type": "code",
   "execution_count": null,
   "metadata": {},
   "outputs": [],
   "source": [
    "# Initial values and constants\n",
    "\n",
    "vi = # m/s\n",
    "g = # m/s^2\n",
    "tau = # s\n",
    "\n",
    "ay = # m/s^2\n",
    "\n",
    "tf = 5 #The final time\n",
    "dt = .3 # time step size\n",
    "\n",
    "t = np.arange(0.0,tf,dt) # Creates an evenly spaced time array going from 0 to 3, with step sizes .1\n",
    "a = # Create an array of zeros for [ay] values. Storage same as number of steps, N\n",
    "v = # Create an array of zeros for [vy] values. Storage size is N\n",
    "r = # Create an array of zeros for [y] values. Storage size is N\n",
    "\n",
    "v[0] = vi # Sets initial velocities\n",
    "a[0] = ay # Sets initial accleration"
   ]
  },
  {
   "cell_type": "code",
   "execution_count": null,
   "metadata": {},
   "outputs": [],
   "source": [
    "# Performing Euler's method\n",
    "for i in range(0,len(t)-1):\n",
    "    v[i+1] = # Insert Euler's method formula for updating velocity\n",
    "    r[i+1] = # Insert Euler's method formula for updating position\n",
    "    a[i+1] = # Update acceleration using eq. 1 and inserting v[i+1] for v\n",
    "    "
   ]
  },
  {
   "cell_type": "code",
   "execution_count": null,
   "metadata": {},
   "outputs": [],
   "source": [
    "# Plotting the results\n",
    "plt.scatter(t,r,s=15, c='r') # Plots the individual points instead of making lines like plt.plot() does\n",
    "plt.grid() # Adds a grid to our plot\n",
    "plt.show() # Shows our plot. This comman is neseccary if you are using python ourside Jupyter Notebook."
   ]
  },
  {
   "cell_type": "markdown",
   "metadata": {},
   "source": [
    "## Compare the computational analysis versus expected values\n",
    "\n",
    "You will need to input the analytical formula for $y(t)$, analogous to eqs. 1) and 2) above, with $y(0)=0$."
   ]
  },
  {
   "cell_type": "code",
   "execution_count": null,
   "metadata": {},
   "outputs": [],
   "source": [
    "# We re-create the time array for our analytical solution, \n",
    "# since it shouldn't depend on the step size for the Euler solution.\n",
    "ta = np.arange(0.0,tf,.01) \n",
    "\n",
    "y = # Insert the analytical equation for our motion y(ta), obtained from integrating eq. 2)."
   ]
  },
  {
   "cell_type": "code",
   "execution_count": null,
   "metadata": {},
   "outputs": [],
   "source": [
    "### Plot our analytical and computational solutions \n",
    "plt.scatter(ta,y, s = .1)\n",
    "plt.scatter(t,r,s=15, c='r')\n",
    "plt.grid()\n",
    "plt.show()"
   ]
  },
  {
   "cell_type": "markdown",
   "metadata": {},
   "source": [
    "# Let's perform the analysis for different values of h to see how our computation changes.\n",
    "Create a function that implements Euler's method for a tossed ball and plots the computationally calculated solution against the analytical solution. Use it to plot three different graphs of $y$ versus $t$, each with a different $h$ size, but with the same initial values.\n",
    "\n",
    "(Recall that you implemented a similar function for the ball toss in Notebook 1, but without air resistance.\n",
    "You may find it useful to look back at that if you need guidance.)"
   ]
  },
  {
   "cell_type": "code",
   "execution_count": null,
   "metadata": {},
   "outputs": [],
   "source": [
    "def EulerBallToss(\"What Values Would You Put Here?\"):\n",
    "    "
   ]
  },
  {
   "cell_type": "code",
   "execution_count": null,
   "metadata": {},
   "outputs": [],
   "source": [
    "# Plot the first graph here"
   ]
  },
  {
   "cell_type": "code",
   "execution_count": null,
   "metadata": {},
   "outputs": [],
   "source": [
    "# Plot second graph here"
   ]
  },
  {
   "cell_type": "code",
   "execution_count": null,
   "metadata": {},
   "outputs": [],
   "source": [
    "# Plot third graph here"
   ]
  },
  {
   "cell_type": "markdown",
   "metadata": {},
   "source": [
    "# Q3.) Play around with different values of dt and comment how it affects our graph."
   ]
  },
  {
   "cell_type": "markdown",
   "metadata": {},
   "source": [
    "&#9989; Double click this cell, erase its content, and put your answer to the above question here."
   ]
  },
  {
   "cell_type": "markdown",
   "metadata": {},
   "source": [
    "# Notebook Wrap-up. \n",
    "Run the cell below and copy-paste your answers into their corresponding cells."
   ]
  },
  {
   "cell_type": "code",
   "execution_count": null,
   "metadata": {},
   "outputs": [],
   "source": [
    "from IPython.display import HTML\n",
    "HTML(\n",
    "\"\"\"\n",
    "<iframe \n",
    "\tsrc=\"https://forms.gle/cS1Ciz9geXKBFns76\" \n",
    "\twidth=\"100%\" \n",
    "\theight=\"1200px\" \n",
    "\tframeborder=\"0\" \n",
    "\tmarginheight=\"0\" \n",
    "\tmarginwidth=\"0\">\n",
    "\tLoading...\n",
    "</iframe>\n",
    "\"\"\"\n",
    ")"
   ]
  },
  {
   "cell_type": "markdown",
   "metadata": {},
   "source": [
    "# Another week, another completed Notebook!\n",
    "We are now beginning to take a dive into computational methods. They have many benefits, proving to be very powerful tools in research. Hopefully arrays are starting to make more sense now, also. [Here is a link to a funny video dealing with projectile motion and quadratic drag](https://www.youtube.com/watch?v=-5Ilq3kFxek). "
   ]
  },
  {
   "cell_type": "code",
   "execution_count": null,
   "metadata": {},
   "outputs": [],
   "source": []
  }
 ],
 "metadata": {
  "kernelspec": {
   "display_name": "Python 3",
   "language": "python",
   "name": "python3"
  },
  "language_info": {
   "codemirror_mode": {
    "name": "ipython",
    "version": 3
   },
   "file_extension": ".py",
   "mimetype": "text/x-python",
   "name": "python",
   "nbconvert_exporter": "python",
   "pygments_lexer": "ipython3",
   "version": "3.7.3"
  }
 },
 "nbformat": 4,
 "nbformat_minor": 2
}
