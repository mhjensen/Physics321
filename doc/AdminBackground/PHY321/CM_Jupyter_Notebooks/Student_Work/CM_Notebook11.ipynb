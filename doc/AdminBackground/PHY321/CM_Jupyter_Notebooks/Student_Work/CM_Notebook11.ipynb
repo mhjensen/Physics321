{
 "cells": [
  {
   "cell_type": "markdown",
   "metadata": {},
   "source": [
    "## Classical Mechanics - Week 11"
   ]
  },
  {
   "cell_type": "markdown",
   "metadata": {},
   "source": [
    "### Last Week:\n",
    "- Applied Fourier series in analyzing harmonic oscillators\n",
    "- Saw how different variables affect the physical system\n",
    "- Gained experience with plotting more complex systems\n",
    "\n",
    "### This Week:\n",
    "- Practice the steps for Lagrangian Mechanics\n",
    "- Develop concepts of how it can be applied to physical systems\n",
    "- Further practice with symbolic calculators\n",
    "\n",
    "It seems we've hit the second round of midterm this week, so let us take it easy once again. This week we will revisit the simple pendulum; however, now we are going to utilize Lagrangian mechanics on this system. From there we will create an Euler-Lagrangian equation (Euler is back, get ready to see him everywhere).\n",
    "\n",
    "###### Due to the advanced nature of this topic we recommend you go through this Notebook as if it is just that, a Notebook you read through. However you can interact with this Notebook, giving us a leg up over the traditional approach."
   ]
  },
  {
   "cell_type": "code",
   "execution_count": null,
   "metadata": {},
   "outputs": [],
   "source": [
    "# Let's import some important packages, as usual\n",
    "import numpy as np\n",
    "import matplotlib.pyplot as plt\n",
    "import sympy as sym\n",
    "sym.init_printing(use_unicode=True)"
   ]
  },
  {
   "cell_type": "markdown",
   "metadata": {},
   "source": [
    "# Discussion:\n",
    "\n",
    "As we were introduced through lecture and the literature, [Lagrangian mechanics](https://en.wikipedia.org/wiki/Lagrangian_mechanics) analyzes a system by looking at its Kinetic and Potential Energy in a new combination:\n",
    "\n",
    "eq 1.)$$L = T - V$$\n",
    "\n",
    "where $L$ is called the \"Lagrangian\". Here, $T$ is our kinetic energy, and $V$ is our potential energy. \n",
    "We construct the Lagrangian $L$ by determining $T$ and $V$ in terms of whatever variables are most convenient. \n",
    "\n",
    "(Note the minus sign! $L$ is **NOT** the total energy!) \n",
    "\n",
    "Lagrangians are a key component of physics, the concepts helping to lay the foundations of more modern topics such as Quantum Field Theory.  They are also incredibly useful in practice.  Since energies are scalar quantities, they are often much easier to construct than vector quantities like force and acceleration, especially when using non-Cartesian coordinates or when there are constraints on the system.\n",
    "\n",
    "This week we will practice Lagrangians with the simple pendulum.\n",
    "\n",
    "#### Ok, let's get started!\n",
    "\n",
    "## The humble pendulum:\n",
    "\n",
    "![](https://study.com/cimages/multimages/16/04ef9336-71fa-40b1-a620-528aa0beb93c_pendulum.jpg) Picture courtesy of https://study.com/academy/lesson/pendulums-in-physics-energy-exchange-calculations.html\n",
    "\n",
    "Assume we are in a frictionless environment with a mass $m$ hanging at the end of a massless string of length $l$. At any given time it can have an angular displacement of $\\theta$ from the vertical.\n",
    "\n",
    "### First Consider:\n",
    "\n",
    "To construct the Lagrangian, we need to express its ***kinetic*** and ***potential*** energies for any given state of the system.\n",
    "\n",
    "We know that:\n",
    "\n",
    "eq 2.) $T = \\dfrac{1}{2}mv^2$, where $m$ is the mass and $v$ is the velocity.\n",
    "\n",
    "We also know that:\n",
    "\n",
    "eq 3.) $V = mgh$, where $g$ is the acceleration due to gravity and $h$ is the height of our pendulum.\n",
    "\n",
    "We could easily express these in terms of Cartesian coordinates, $x$ and $y$, and their derivatives. But it is much simpler to write everything in terms of the single angle $\\theta$.  (The motion of the pendulum is **constrained** by the string so that $x$ and $y$ are not independent.)\n",
    "\n",
    "Let's begin by determining the coordinates $x$ and $y$ of the position of the mass for any given $\\theta$.  For definiteness, let the origin (0,0) be the fixed point at the top of the string.\n"
   ]
  },
  {
   "cell_type": "markdown",
   "metadata": {},
   "source": [
    "# Q1.) Given $l$ and $\\theta$, what are the equations for $x$ and $y$ at any given $\\theta$? i.e. $x(\\theta)$, $y(\\theta)$ \n",
    "\n",
    "Note: If the pendulum rests below the origin, what sign should the y equation have?"
   ]
  },
  {
   "cell_type": "markdown",
   "metadata": {},
   "source": [
    "&#9989; Double click this cell, erase its content, and put your answer to the above question here."
   ]
  },
  {
   "cell_type": "markdown",
   "metadata": {},
   "source": [
    "#### Based on your answer above, use sympy to set your x and y equations."
   ]
  },
  {
   "cell_type": "code",
   "execution_count": null,
   "metadata": {},
   "outputs": [],
   "source": [
    "# let's define our variables first. These will be useful for the Notebook. Feel free to add more as you please.\n",
    "x, y, theta, m, l, g, t = sym.symbols('x, t, theta, m, l, g, t')\n",
    "theta = sym.Function('theta')(t) # This is our theta as a function of time"
   ]
  },
  {
   "cell_type": "code",
   "execution_count": null,
   "metadata": {},
   "outputs": [],
   "source": [
    "# Create your x and y equations in this cell using SymPy\n",
    "x =\n",
    "y ="
   ]
  },
  {
   "cell_type": "markdown",
   "metadata": {},
   "source": [
    "We now want to write the kinetic energy in terms of $\\theta$.\n",
    "\n",
    "Given that:\n",
    "\n",
    "eq 4a.) $\\vec{v} = \\dfrac{d\\vec{r}}{dt}$ and \n",
    "\n",
    "eq 4b.) $v = \\sqrt{v_x^2 + v_y^2}$, \n",
    "\n",
    "we can use our expressions for $x(\\theta)$ and $y(\\theta)$ to obtain $v$ in terms of $\\theta$ and $\\dot{\\theta}$.\n",
    "For this we need to calculate $\\dfrac{dx}{dt}$ and $\\dfrac{dy}{dt}$. \n",
    "\n",
    "This is not that hard to do with paper and pencil, but we will instead show the power of SymPy by letting it do the calculus for us.\n",
    "\n",
    "SymPy has an operation `diff` which allows us to take the derivative of a SymPy-defined function.\n",
    "Because we defined theta as a function of time, and since $x$ and $y$ are functions of theta, we can take the time derivative of both $x$ and $y$ using our symbolic calculator. \n",
    "\n",
    "Finish the code below to obtain expressions for $v_x$ and $v_y$. We have given you the code for how to get $v_x=\\dfrac{dx}{dt}$."
   ]
  },
  {
   "cell_type": "code",
   "execution_count": null,
   "metadata": {},
   "outputs": [],
   "source": [
    "# Find vx and vy in this cell\n",
    "vx = sym.diff(x, t)\n",
    "vy ="
   ]
  },
  {
   "cell_type": "markdown",
   "metadata": {},
   "source": [
    "Now that we have our $v_x$ and $v_y$, we can find our speed $v$. However, notice that what we will really end up using is $v^2$, so you can define this quantity instead, as long as you properly use the value you define."
   ]
  },
  {
   "cell_type": "code",
   "execution_count": null,
   "metadata": {},
   "outputs": [],
   "source": [
    "## Define v or v_squared in this cell with the values we have calculated so far using eq 4b.\n",
    "\n",
    "# v = ???\n",
    "# v_squared = ???"
   ]
  },
  {
   "cell_type": "markdown",
   "metadata": {},
   "source": [
    "We now have all the pieces of our puzzle. Using the quantities we have calculated and defined thus far, in the cell below construct our kinetic energy $T$ and potential energy $V$. "
   ]
  },
  {
   "cell_type": "code",
   "execution_count": null,
   "metadata": {},
   "outputs": [],
   "source": [
    "T = # Use eq 2 to calculate kinetic energy\n",
    "V = # Use eq 3 to calculate potential energy"
   ]
  },
  {
   "cell_type": "markdown",
   "metadata": {},
   "source": [
    "##### Finally, we can construct our Lagrangian! Use eq 1."
   ]
  },
  {
   "cell_type": "code",
   "execution_count": null,
   "metadata": {},
   "outputs": [],
   "source": [
    "L = # What should go here?\n",
    "\n",
    "L # This line will print out our Lagrangian"
   ]
  },
  {
   "cell_type": "markdown",
   "metadata": {},
   "source": [
    "The equation above looks a bit complicated, huh? Luckily, SymPy has simplifying functions to help us out. Once you feel confident that your Lagrangian is correctly assembled, run the cell below to simplify it."
   ]
  },
  {
   "cell_type": "code",
   "execution_count": null,
   "metadata": {},
   "outputs": [],
   "source": [
    "from sympy.simplify import trigsimp # Import one of many simplifying functions from SimPy\n",
    "L = trigsimp(L) # Simplifies our equation\n",
    "L # Prints out our equation"
   ]
  },
  {
   "cell_type": "markdown",
   "metadata": {},
   "source": [
    "##### But why did we go through all of that? This equation looks absolutely confusing!\n",
    "Great question, keep on asking them! Following the wisdom of Euler and Lagrange, we will now construct our [Euler-Lagrange Equation!](https://en.wikipedia.org/wiki/Euler%E2%80%93Lagrange_equation) This will be our equation of motion.\n",
    "\n",
    "As a quick summary, the Euler-Lagrange equation takes our Lagrangian, $L$ and performs the following operations:\n",
    "\n",
    "eq 5a.) $\\dfrac{d}{dt}\\dfrac{dL}{d\\dot{q}} = \\dfrac{dL}{dq}$, where $q$ is the generalized variable that describes the state of the system.  In our case, $q=\\theta$, so we can write the E-L equation as\n",
    "\n",
    "eq 5b.) $\\dfrac{d}{dt}\\dfrac{dL}{d\\dot{\\theta}} = \\dfrac{dL}{d\\theta}$.\n",
    "\n",
    "In the cell below we have defined $\\dot{\\theta}$ for you. Use what we have learned so far to calculate $\\dfrac{d}{dt}\\dfrac{dL}{d\\dot{\\theta}}$ (Left Hand Side - LHS) and $\\dfrac{dL}{d\\theta}$ (Right Hand Side - RHS). Then combine them into equation 5b."
   ]
  },
  {
   "cell_type": "code",
   "execution_count": null,
   "metadata": {},
   "outputs": [],
   "source": [
    "dtheta = sym.diff(theta,t)"
   ]
  },
  {
   "cell_type": "code",
   "execution_count": null,
   "metadata": {},
   "outputs": [],
   "source": [
    "LHS = # How would you calculate LHS of the equation?\n",
    "RHS = # How would you calculate RHS of the equation?"
   ]
  },
  {
   "cell_type": "code",
   "execution_count": null,
   "metadata": {},
   "outputs": [],
   "source": [
    "# Once you have created the two sides of the equation, use this cell to print the Euler-Lagrange equation\n",
    "EOM = sym.Eq(LHS,RHS)\n",
    "EOM # This is the equation of motion for the pendulum"
   ]
  },
  {
   "cell_type": "markdown",
   "metadata": {},
   "source": [
    "You should have found that the LHS is proportional to $\\dfrac{d^2}{dt^2}\\theta(t)$ and the RHS is proportional to $\\sin(\\theta(t))$.  In the small angle approximation, we can replace $\\sin\\theta$ by $\\theta$. As a paper-pencil exercise, replace $\\dfrac{d^2}{dt^2}\\theta(t)$ with $\\ddot{\\theta}$ and solve for $\\ddot{\\theta}$ in the small angle approximation."
   ]
  },
  {
   "cell_type": "markdown",
   "metadata": {},
   "source": [
    "# Q2.) What value did you get for $\\ddot{\\theta}$?"
   ]
  },
  {
   "cell_type": "markdown",
   "metadata": {},
   "source": [
    "&#9989; Double click this cell, erase its content, and put your answer to the above question here."
   ]
  },
  {
   "cell_type": "markdown",
   "metadata": {},
   "source": [
    "Does this equation look familiar yet? \n",
    "\n",
    "Let's finish up by doing some dimensional analysis.\n",
    "\n",
    "# Q3.) Now rearrange the equation so that you have just $\\dfrac{\\ddot{\\theta}}{\\theta}$ on the LHS. \n"
   ]
  },
  {
   "cell_type": "markdown",
   "metadata": {},
   "source": [
    "&#9989; Double click this cell, erase its content, and put your answer to the above question here."
   ]
  },
  {
   "cell_type": "markdown",
   "metadata": {},
   "source": [
    "# Q4.) What are the dimensions of $\\dfrac{\\ddot{\\theta}}{\\theta}$?\n",
    "Hint: $\\dot{\\theta} = \\dfrac{[\\theta]}{[s]}$"
   ]
  },
  {
   "cell_type": "markdown",
   "metadata": {},
   "source": [
    "&#9989; Double click this cell, erase its content, and put your answer to the above question here."
   ]
  },
  {
   "cell_type": "markdown",
   "metadata": {},
   "source": [
    "# Q5.) Final Step: Take the square root of the RHS (ignoring the sign).  What are the dimensions of this quantity.  What is the meaning of this quantity?\n",
    "Hint: You should recognize that we have dealt with an equation of this form before."
   ]
  },
  {
   "cell_type": "markdown",
   "metadata": {},
   "source": [
    "&#9989; Double click this cell, erase its content, and put your answer to the above question here."
   ]
  },
  {
   "cell_type": "markdown",
   "metadata": {},
   "source": [
    "# Notebook Wrap-up. \n",
    "Run the cell below and copy-paste your answers into their corresponding cells."
   ]
  },
  {
   "cell_type": "code",
   "execution_count": null,
   "metadata": {},
   "outputs": [],
   "source": [
    "from IPython.display import HTML\n",
    "HTML(\n",
    "\"\"\"\n",
    "<iframe \n",
    "\tsrc=\"https://forms.gle/PvDnGQWjcrLJtkDp8\"\n",
    "\twidth=\"100%\" \n",
    "\theight=\"1200px\" \n",
    "\tframeborder=\"0\" \n",
    "\tmarginheight=\"0\" \n",
    "\tmarginwidth=\"0\">\n",
    "\tLoading...\n",
    "</iframe>\n",
    "\"\"\"\n",
    ")"
   ]
  },
  {
   "cell_type": "markdown",
   "metadata": {},
   "source": [
    "# You've now hit a huge milestone in your career getting experience with Lagrangians. \n",
    "\n",
    "This time you got to see just how useful symbolic calulators can be. Although these equations weren't too bad, theoretical physicists often deal with equations that are too impossibly long and complicated to work by hand. Hopefully you also see how to properly construct a Lagrangian now. [Here's a nice introduction to Lagrangians if you are still confused as to what magic happened before your eyes](https://www.youtube.com/watch?v=pVVMNsidI0g)"
   ]
  },
  {
   "cell_type": "code",
   "execution_count": null,
   "metadata": {},
   "outputs": [],
   "source": []
  }
 ],
 "metadata": {
  "kernelspec": {
   "display_name": "Python 3",
   "language": "python",
   "name": "python3"
  },
  "language_info": {
   "codemirror_mode": {
    "name": "ipython",
    "version": 3
   },
   "file_extension": ".py",
   "mimetype": "text/x-python",
   "name": "python",
   "nbconvert_exporter": "python",
   "pygments_lexer": "ipython3",
   "version": "3.7.3"
  }
 },
 "nbformat": 4,
 "nbformat_minor": 2
}
