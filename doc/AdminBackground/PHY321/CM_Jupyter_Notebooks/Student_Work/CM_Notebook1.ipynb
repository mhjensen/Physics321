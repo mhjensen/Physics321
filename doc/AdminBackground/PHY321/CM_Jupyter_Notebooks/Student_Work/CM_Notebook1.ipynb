{
 "cells": [
  {
   "cell_type": "markdown",
   "metadata": {},
   "source": [
    "## Classical Mechanics - Week 1 Computational Learning\n",
    "\n",
    "### This week we will:\n",
    "- Review basic Python syntax for arrays\n",
    "- Be able to define and operate on vectors and matrices in Python\n",
    "- Create plots for motion in 1D space"
   ]
  },
  {
   "cell_type": "code",
   "execution_count": null,
   "metadata": {},
   "outputs": [],
   "source": [
    "# Here are basic packages we will be using this week\n",
    "\n",
    "import numpy as np \n",
    "import matplotlib.pyplot as plt\n",
    "%matplotlib inline"
   ]
  },
  {
   "cell_type": "markdown",
   "metadata": {},
   "source": [
    "## We will be working with vectors and matrices to get you familiar with them\n",
    "\n",
    "#### Initalize two xyz vectors in the below cell using np.array([x,y,z]). Vectors are represented through arrays in python\n",
    "#### V1 should have x1=1, y1 =2, and z1=3. \n",
    "#### Vector 2 should have x2=4, y2=5,  and z2=6. \n",
    "#### Print both vectors to make sure it is working peroperly\n"
   ]
  },
  {
   "cell_type": "code",
   "execution_count": null,
   "metadata": {},
   "outputs": [],
   "source": [
    "V1 = np.array([1,2,3])\n",
    "V2 = np.array([4,5,6])\n",
    "print(\"V1: \", V1)\n",
    "print(\"V2: \", V2)"
   ]
  },
  {
   "cell_type": "markdown",
   "metadata": {},
   "source": [
    "#### Once you have gotten the vectors set up, nice! If not, no worries. Here's a useful link for creating vectors in python https://docs.scipy.org/doc/numpy-1.13.0/user/basics.creation.html\n",
    "\n",
    "#### Now lets do some basic math with vectors. Print the following the following, and double check with hand calculations:\n",
    "##### a.) V1-V2    b.) V2-V1  \n",
    "Here is some useful explanation on numpy array operations if you feel a bit confused by what is happening: https://www.pluralsight.com/guides/overview-basic-numpy-operations"
   ]
  },
  {
   "cell_type": "code",
   "execution_count": null,
   "metadata": {},
   "outputs": [],
   "source": [
    "print(V1-V2)\n",
    "print(V2-V2)"
   ]
  },
  {
   "cell_type": "markdown",
   "metadata": {},
   "source": [
    "#### Let's take the dot product of V1 and V2 below using V1.dot(V2)\n",
    "## NOTE: This function is only usable while numpy is imported"
   ]
  },
  {
   "cell_type": "code",
   "execution_count": null,
   "metadata": {},
   "outputs": [],
   "source": [
    "print(V1.dot(V2))"
   ]
  },
  {
   "cell_type": "markdown",
   "metadata": {},
   "source": [
    "#### Matrices can be created in a similar fashion in python.  In this language we can work with them through the package numpy (which we have already imported)"
   ]
  },
  {
   "cell_type": "code",
   "execution_count": null,
   "metadata": {},
   "outputs": [],
   "source": [
    "M1 = np.matrix([[1,2,3],\n",
    "             [4,5,6],\n",
    "             [7,8,9]])\n",
    "M2 = np.matrix([[1,2],\n",
    "             [3,4],\n",
    "             [5,6]])\n",
    "M3 = np.matrix([[9,8,7],\n",
    "             [4,5,6],\n",
    "             [7,6,9]])"
   ]
  },
  {
   "cell_type": "markdown",
   "metadata": {},
   "source": [
    "#### Matrices can be added in the same way vectors are added in python."
   ]
  },
  {
   "cell_type": "code",
   "execution_count": null,
   "metadata": {},
   "outputs": [],
   "source": [
    "print(\"M1*M2: \", M1*M2)\n",
    "print(\"M1+M3: \", M1+M3)"
   ]
  },
  {
   "cell_type": "markdown",
   "metadata": {},
   "source": [
    "#### Run the cell below and notice how when doing M2xM1 this does not work. Do not worry, this is expected if you remember how matrices work. The first matrix's number of columns must equal the second matrix's number of rows. \n",
    "\n",
    "After you run the below cell once. Fix the problem by making a new matrix M4 that has two rows (number of columns is up to you) and update the print outputs appropriately (changing M1 to M4)."
   ]
  },
  {
   "cell_type": "code",
   "execution_count": null,
   "metadata": {},
   "outputs": [],
   "source": [
    "print(\"M2xM1: \", M2*M1) "
   ]
  },
  {
   "cell_type": "markdown",
   "metadata": {},
   "source": [
    "# That's enough vectors and matrices for now. Let's move on to some physics problems :) \n",
    "(Yes, the actual subject we are studying for)"
   ]
  },
  {
   "cell_type": "markdown",
   "metadata": {},
   "source": [
    "We'll be working with a basic projectile motion for this part. Let's plot the motion of a dropped ball.\n",
    "\n",
    "\n",
    "\n",
    "# Problem: Assume I have a ball dangling at a very large height. Let's plot the position of the ball over the course of 5 seconds."
   ]
  },
  {
   "cell_type": "markdown",
   "metadata": {},
   "source": [
    "There are many ways to approach this problem, especially in a computational aspect. However, in order to get your feet wet in programing, let us do something basic for this week: \n",
    "\n",
    "Determining our equations of motion in respect to time using our Physics I knowledge we get the following:\n",
    "\n",
    "$\\mathbf{P}(\\mathbf{t}) = P_i + v_it + \\dfrac{1}{2}at^2 $\n",
    "\n",
    "Where $v_i$ is the initial velocity and $a$ is the accleration of the object."
   ]
  },
  {
   "cell_type": "markdown",
   "metadata": {},
   "source": [
    "#### We're going to use these equations to create a simple yet adjustable computation (Run the cell below)"
   ]
  },
  {
   "cell_type": "code",
   "execution_count": null,
   "metadata": {},
   "outputs": [],
   "source": [
    "%matplotlib inline\n",
    "import matplotlib.patches as mpatches\n",
    "\n",
    "g = 9.8 #m/s^2\n",
    "tf = 5 #s\n",
    "t = np.arange(0,tf,.1)\n",
    "y = -g*.5*t**2\n",
    "\n",
    "plt.style.use('ggplot')\n",
    "plt.figure(figsize=(8,8))\n",
    "plt.scatter(t, y, color = 'b')\n",
    "blue_patch = mpatches.Patch(color = 'b', label = 'Y position over time')\n",
    "plt.legend(handles=[blue_patch])\n",
    "plt.xlabel(\"Time (s)\")\n",
    "plt.ylabel(\"Height (m)\")   "
   ]
  },
  {
   "cell_type": "markdown",
   "metadata": {},
   "source": [
    "### Now using what we have learned from the \"Python Basics\" notebook and here let's create a program that takes in initial velocity and time we want to analyze, spitting out a graph after it is done:\n",
    "\n",
    "We will need to modify our $y$ equation to take in velocity also. A command for user inputs is already provided, along with the  skeleton of the funciton. Your job is to complete it using the hints provided and what we did above."
   ]
  },
  {
   "cell_type": "code",
   "execution_count": null,
   "metadata": {},
   "outputs": [],
   "source": [
    "# This is where we create our function \n",
    "# Notice that this function takes in a variable \"vi\" and \"tf\"\n",
    "def Canon(vi, tf):\n",
    "    \n",
    "    g = ## Insert value for accleration due to gravity here\n",
    "    t = ## Input algorithm for range of t using the np.arange() function\n",
    "    y = ## Insert equation for motion of y with velocity as a factor\n",
    "    \n",
    "    ## Use the scatter plotting function to graph the movement below. Feel free to add labels and other graphics to the plot as you see fit\n",
    "    ## (Hint: There is already code for graphing above that you can copy and/or modify for your own usage)\n",
    "    "
   ]
  },
  {
   "cell_type": "code",
   "execution_count": null,
   "metadata": {},
   "outputs": [],
   "source": [
    "# The next two commands will ask the user for an input. The value will be stored as a \"float number\"\n",
    "Vi = float(input(\"Please enter initial velocity (m/s)\"))\n",
    "\n",
    "T = float(input(\"Pleaes enter time you would like to analyze the dropped ball (s)\"))\n",
    "\n",
    "# Now below, we will call upon the Canon function and plug in our asked values\n",
    "Canon(Vi, T)"
   ]
  },
  {
   "cell_type": "markdown",
   "metadata": {},
   "source": [
    "# Q1.) Given an initial velocity of 40 m/s upwards and observed for a time period of 10 seconds, about how high does the ball get? What position is the ball from the origin at the end of the observation? \n",
    "#### (This doesn't need to be exact, use the program above to answer this question)"
   ]
  },
  {
   "cell_type": "markdown",
   "metadata": {},
   "source": [
    "&#9989; Double click this cell, erase its content, and put your answer to the above question here."
   ]
  },
  {
   "cell_type": "markdown",
   "metadata": {},
   "source": [
    "# Notebook Wrap-up. \n",
    "Run the cell below and copy-paste your answers into their corresponding cells."
   ]
  },
  {
   "cell_type": "code",
   "execution_count": null,
   "metadata": {},
   "outputs": [],
   "source": [
    "from IPython.display import HTML\n",
    "HTML(\n",
    "\"\"\"\n",
    "<iframe \n",
    "\tsrc=\"https://forms.gle/9yp9GDXy51s5Hk3y7\" \n",
    "\twidth=\"100%\" \n",
    "\theight=\"1200px\" \n",
    "\tframeborder=\"0\" \n",
    "\tmarginheight=\"0\" \n",
    "\tmarginwidth=\"0\">\n",
    "\tLoading...\n",
    "</iframe>\n",
    "\"\"\"\n",
    ")"
   ]
  },
  {
   "cell_type": "markdown",
   "metadata": {},
   "source": [
    "# Congratulations, you are at the end of the assignment! \n",
    "\n",
    "Consider reviewing some Python documentation online to get the hang of variables and functions more. Or relax and take a break after. Whatever floats your boat."
   ]
  }
 ],
 "metadata": {
  "kernelspec": {
   "display_name": "Python 3",
   "language": "python",
   "name": "python3"
  },
  "language_info": {
   "codemirror_mode": {
    "name": "ipython",
    "version": 3
   },
   "file_extension": ".py",
   "mimetype": "text/x-python",
   "name": "python",
   "nbconvert_exporter": "python",
   "pygments_lexer": "ipython3",
   "version": "3.7.3"
  }
 },
 "nbformat": 4,
 "nbformat_minor": 2
}
