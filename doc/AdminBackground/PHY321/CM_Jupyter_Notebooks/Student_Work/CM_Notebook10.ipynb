{
 "cells": [
  {
   "cell_type": "markdown",
   "metadata": {},
   "source": [
    " ## Classical Mechanics - Week 10\n",
    " \n",
    " \n",
    "### Last Week:\n",
    "- We studied harmonic oscillations using packages\n",
    "- Further developed our analysis skills \n",
    "- Gain more experience wtih sympy\n",
    "\n",
    "### This Week:\n",
    "\n",
    "- We will continue our analysis of damped and driven harmonic oscillators.\n",
    "- Use Fourier series to solve the oscillator when driven by a periodic driving force.  \n",
    "\n",
    "The problems in this notebook will be connected with some of the problems in Problem Set 10, where you will do the analytical work.\n"
   ]
  },
  {
   "cell_type": "code",
   "execution_count": null,
   "metadata": {},
   "outputs": [],
   "source": [
    "# As usual, we will need packages\n",
    "%matplotlib inline\n",
    "import numpy as np\n",
    "import matplotlib.pyplot as plt"
   ]
  },
  {
   "cell_type": "markdown",
   "metadata": {},
   "source": [
    "## 1. Underdamped harmonic oscillator\n",
    "\n",
    "The solution is\n",
    "$$\n",
    "x(t)\\ =\\ e^{-\\beta t}\\Bigl(B_1\\cos(\\omega ' t) + B_2 \\sin(\\omega ' t)\\Bigr)\\,,\n",
    "$$\n",
    "with $\\omega ' = \\sqrt{\\omega_0^2 - \\beta^2}$.\n",
    "\n",
    "The natural frequency is $\\omega_0=\\pi/2$ s$^{-1}$ and the damping constant is $\\beta=0.2\\omega_0$.\n",
    "\n",
    "The initial conditions are $x(0)=1.0$ m and $v(0)=0$.\n",
    "\n",
    "In parts (a) and (b), you should have calculated the constants $B_1$ and $B_2$, as well as any other remaining parameters.\n",
    "\n",
    "(c) Use the following cell to plot $x(t)$ for $0\\le t\\le 12$ s.  Use any plotting method you prefer. "
   ]
  },
  {
   "cell_type": "code",
   "execution_count": null,
   "metadata": {},
   "outputs": [],
   "source": []
  },
  {
   "cell_type": "markdown",
   "metadata": {},
   "source": [
    "## Q1.) Approximately by what factor has the amplitude of the oscillations decreased after two periods?"
   ]
  },
  {
   "cell_type": "markdown",
   "metadata": {},
   "source": [
    "&#9989; Double click this cell, erase its content, and put your answer to the above question here."
   ]
  },
  {
   "cell_type": "markdown",
   "metadata": {},
   "source": [
    "## 2. Underdamped harmonic oscillator with sinusoidal driving force\n",
    "\n",
    "The same oscillator as in problem 1 is now driven by a driving force\n",
    "$$\n",
    "f(t)\\ =\\ \\dfrac{F(t)}{m}\\ =\\ f_0\\cos(\\omega t)\\,,\n",
    "$$\n",
    "with $f_0=1000$ N/m and $\\omega=2\\pi$ s$^{-1}$.\n",
    "\n",
    "In part (a) you should have obtained the amplitude and phase for the steady-state solution, while in part (b) you should have obtained the coefficients $B_1$ and $B_2$ necessary to satisfy the initial conditions. The complete solution is the sum of the particular and homogeneous solutions that you have found.\n",
    "\n",
    "(c) Use the following cell to plot $x(t)$ for $0\\le t\\le 12$ s.  Use any plotting method you prefer. \n",
    "\n",
    "The following is a technical issue to be aware of:\n",
    "\n",
    "Note that the phase must satisfy $0\\le\\delta<\\pi$.  However, the standard function `np.arctan()` returns $-\\pi/2\\le\\arctan()\\le\\pi/2$.  Thus, if `np.arctan()` returns an answer less than zero, you must add $\\pi$ to the result.\n",
    "\n",
    "An alternate method is to use `np.arctan2(y,x)`, which returns $-\\pi\\le\\delta\\le\\pi$,\n",
    "satisfying $\\tan(\\delta)=y/x$, but taking the signs of $y$ and $x$ separately into account in order to determine the correct quadrant for $\\delta$. See the following url for more info: https://docs.scipy.org/doc/numpy/reference/generated/numpy.arctan2.html"
   ]
  },
  {
   "cell_type": "code",
   "execution_count": null,
   "metadata": {},
   "outputs": [],
   "source": []
  },
  {
   "cell_type": "markdown",
   "metadata": {},
   "source": [
    "## Q2.) Describe the motion of the oscillator in your plot.  Have the transient contributions died away by the end of the 12 s window?"
   ]
  },
  {
   "cell_type": "markdown",
   "metadata": {},
   "source": [
    "&#9989; Double click this cell, erase its content, and put your answer to the above question here."
   ]
  },
  {
   "cell_type": "markdown",
   "metadata": {},
   "source": [
    "## 5. Fourier Series of a Triangle wave\n",
    "\n",
    "A periodic driving force is given by\n",
    "$$\n",
    "f(t)\\ =\\ \\frac{F(t)}{m}\\ =\\left\\{\n",
    "               \\begin{array}{cl}\n",
    "               f_\\mathrm{max}\\left(1+\\frac{4t}{\\tau}\\right)       &\\quad -\\frac{\\tau}{2}< t\\le 0   \\\\\n",
    "               f_\\mathrm{max}\\left(1-\\frac{4t}{\\tau}\\right)     &\\quad 0<t\\le\\frac{\\tau}{2}\\,.\n",
    "               \\end{array}\\right.\n",
    "$$\n",
    "For all other times, it can be obtained by $f(t+\\tau)=f(t)$.  \n",
    "\n",
    "This can be expanded in a Fourier series:\n",
    "$$\n",
    "f(t)\\ =\\ a_0+\\sum_{n=1}^\\infty \\left[a_n\\cos(n\\omega t)+b_n\\sin(n\\omega t)\\right]\\,,\n",
    "$$\n",
    "where $\\omega=2\\pi/\\tau$.\n",
    "\n",
    "In parts (b) and (c), you should have shown that $b_n=0$ for all $n$, and $a_n=0$ for even $n$. The only nonzero coefficients are\n",
    "$a_n\\ =\\ \\dfrac{8f_\\mathrm{max}}{(n\\pi)^2}\\,$\n",
    "for $n=1,3,5,\\dots.$\n",
    "\n",
    "(c) In the cell below, you will put the code necessary to make a plot of the wave built up out of the Fourier series.  You should use a loop to add each term in the series. (See Notebook 2 for examples of loops, if needed).  This avoids having to rewrite code for each new term, and easily allows you to change the maximum value of $n_\\mathrm{max}=N$ in the summation.\n",
    "\n",
    "Choose values of $f_\\mathrm{max}=1000$ N/m, $\\tau=5$ s, and plot from $0\\le t\\le 10$ s.\n",
    "Make plots for $N=$1, 3, 5, and 7.  Also try increasing $N$ until additional terms no longer have any visual effect on the plot."
   ]
  },
  {
   "cell_type": "code",
   "execution_count": null,
   "metadata": {},
   "outputs": [],
   "source": []
  },
  {
   "cell_type": "markdown",
   "metadata": {},
   "source": [
    "## Q3.) Describe the wave for different maximum value of terms kept in the series.  What value of $N$ do you feel is sufficient to make the plot indistinguishable from the exact $f(t)$?"
   ]
  },
  {
   "cell_type": "markdown",
   "metadata": {},
   "source": [
    "&#9989; Double click this cell, erase its content, and put your answer to the above question here."
   ]
  },
  {
   "cell_type": "markdown",
   "metadata": {},
   "source": [
    "## 6. Damped oscillator driven by the triangle wave.\n",
    "\n",
    "Now consider a damped harmonic oscillator, with decay constant $\\beta$ and natural period $\\tau_0=2\\pi/\\omega_0$, driven by the triangle wave of problem (5).\n",
    "\n",
    "The steady state solution is\n",
    "$$\n",
    "x(t)\\ =\\ \\sum_{n=0}^\\infty A_n\\cos(n\\omega t-\\delta_n)\\,.\n",
    "$$\n",
    "\n",
    "You wrote down the expressions for $A_n$ and $\\delta_n$ in part (a).\n",
    "\n",
    "(b) Let $\\tau_0=1$ s and $\\beta=0.2$ s$^{-1}$.  For the triangular wave, let $f_\\mathrm{max}=1000$ N/m as before, but now try different periods, $\\tau=$1, 2, 3, 4, 5, 6, 7, 8, 9, and 10 s.\n",
    "\n",
    "Put the code for this in the following cell. You should be able to cut and paste most of the code from the previous problem for this, and use the same loop to calculate both the coefficients for the driving force and for the oscillator solution.\n",
    "\n",
    "Compare the plots for the original driving force with the oscillator motion for the different periods.\n",
    "\n"
   ]
  },
  {
   "cell_type": "code",
   "execution_count": null,
   "metadata": {},
   "outputs": [],
   "source": []
  },
  {
   "cell_type": "markdown",
   "metadata": {},
   "source": [
    "## Q4.) How does the overall amplitude of oscillator vary with the different periods? Explain."
   ]
  },
  {
   "cell_type": "markdown",
   "metadata": {},
   "source": [
    "&#9989; Double click this cell, erase its content, and put your answer to the above question here."
   ]
  },
  {
   "cell_type": "markdown",
   "metadata": {},
   "source": [
    "## Q5.) How does the shape of oscillator motion compare with that of the driving force for the different periods?  Do you notice any differences for $\\tau$ even or odd?  Explain."
   ]
  },
  {
   "cell_type": "markdown",
   "metadata": {},
   "source": [
    "&#9989; Double click this cell, erase its content, and put your answer to the above question here."
   ]
  },
  {
   "cell_type": "markdown",
   "metadata": {},
   "source": [
    "# Notebook Wrap-up. \n",
    "Run the cell below and copy-paste your answers into their corresponding cells."
   ]
  },
  {
   "cell_type": "code",
   "execution_count": null,
   "metadata": {},
   "outputs": [],
   "source": [
    "from IPython.display import HTML\n",
    "HTML(\n",
    "\"\"\"\n",
    "<iframe \n",
    "\tsrc=\"https://forms.gle/hFBuewaxKxX4cteD8\" \n",
    "\twidth=\"100%\" \n",
    "\theight=\"1200px\" \n",
    "\tframeborder=\"0\" \n",
    "\tmarginheight=\"0\" \n",
    "\tmarginwidth=\"0\">\n",
    "\tLoading...\n",
    "</iframe>\n",
    "\"\"\"\n",
    ")"
   ]
  },
  {
   "cell_type": "markdown",
   "metadata": {},
   "source": [
    "# Congrulations! Another week completed!\n",
    "\n",
    "Give yourself a pat on the back! Relax and prepare for the midterm. \n",
    "[Harmonic Oscillators sure are fun!](http://slideplayer.com/slide/3830189/13/images/1/Simple+Harmonic+Motion+and+Waves+December+1%2C+2010.jpg)\n",
    "\n",
    "Or if you're really intrigued by Fourier Series, check out this youtube video:\n",
    "https://www.youtube.com/watch?v=r6sGWTCMz2k\n"
   ]
  },
  {
   "cell_type": "code",
   "execution_count": null,
   "metadata": {},
   "outputs": [],
   "source": []
  }
 ],
 "metadata": {
  "kernelspec": {
   "display_name": "Python 3",
   "language": "python",
   "name": "python3"
  },
  "language_info": {
   "codemirror_mode": {
    "name": "ipython",
    "version": 3
   },
   "file_extension": ".py",
   "mimetype": "text/x-python",
   "name": "python",
   "nbconvert_exporter": "python",
   "pygments_lexer": "ipython3",
   "version": "3.7.3"
  }
 },
 "nbformat": 4,
 "nbformat_minor": 2
}
