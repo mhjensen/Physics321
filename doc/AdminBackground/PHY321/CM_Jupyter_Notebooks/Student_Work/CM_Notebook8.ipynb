{
 "cells": [
  {
   "cell_type": "markdown",
   "metadata": {},
   "source": [
    " ## Classical Mechanics - Week 8\n",
    " \n",
    " \n",
    "### Last Week:\n",
    "\n",
    "- Introduced the SymPy package\n",
    "- Visualized Potential Energy surfaces\n",
    "- Explored packages in Python\n",
    "\n",
    "### This Week:\n",
    "\n",
    "We will (mostly) take a break from learning new concepts in scientific computing, and instead just apply some of our current knowledge to complete Problem Set 8.  "
   ]
  },
  {
   "cell_type": "code",
   "execution_count": null,
   "metadata": {},
   "outputs": [],
   "source": [
    "# As usual, we will need packages\n",
    "%matplotlib inline\n",
    "import numpy as np\n",
    "import matplotlib.pyplot as plt"
   ]
  },
  {
   "cell_type": "markdown",
   "metadata": {},
   "source": [
    "## 3. Taylor problem 4.29.\n",
    "\n",
    "(a) Here we plot the potential energy $U(x)=kx^4$, with $k>0$.  \n",
    "\n",
    "Note that the constant $k$ is not given.  But it is just an overall scale factor for the potential, so the plot will basically look the same no matter what value you choose for $k$. For the purposes of scaling and keeping things simple, we recommend you set $k=1$.\n",
    "\n",
    "For 2D plots, we learned two different methods:\n",
    "\n",
    "- 1) Our original plotting method, using `pyplot`. (Refer back to ***Notebook 1*** for this method.) \n",
    "**Note:** use `plt.plot()` rather than `plt.scatter()` in order to make connected curves in the plot.\n",
    "\n",
    "- 2) Using `SymPy`. (Refer back to ***Notebook 7*** for this method.) You will have to import the sympy package if you use this method.\n",
    "\n",
    "It is up to you to decide which method you prefer for making the plot.  Use the cell below to define the potential energy function and to make the plot."
   ]
  },
  {
   "cell_type": "code",
   "execution_count": null,
   "metadata": {},
   "outputs": [],
   "source": []
  },
  {
   "cell_type": "markdown",
   "metadata": {},
   "source": [
    "## Q1.) Qualitatively describe the motion if the mass in this potential is initially stationary at $x=0$ and is given a sharp kick to the right at $t=0$?"
   ]
  },
  {
   "cell_type": "markdown",
   "metadata": {},
   "source": [
    "&#9989; Double click this cell, erase its content, and put your answer to the above question here."
   ]
  },
  {
   "cell_type": "markdown",
   "metadata": {},
   "source": [
    "(d) After performing the change of variable in part (c) of the problem, you should find that the period of oscillation for the mass is given by\n",
    "\n",
    "$$\\tau=\\dfrac{1}{A}\\sqrt{\\dfrac{m}{k}}I\\,,$$\n",
    "\n",
    "where \n",
    "\n",
    "$$I=\\dfrac{4}{\\sqrt{2}}\\int_0^1\\dfrac{dy}{\\sqrt{1-y^4}}$$ \n",
    "\n",
    "is the integral to be evaluated. (Where did the factor of 4 come from?) \n",
    "\n",
    "Note that the integral $I$ is dimensionless.  Changing variables to obtain a dimensionless integral is almost always useful, especially when you need to evaluate it numerically.  Also, even if we don't know what the value of $I$ is, from this expression we can see explicitly how $\\tau$ depends on the parameters\n",
    "$A$, $m$, and $k$.\n",
    "\n",
    "### Now how to do the integral?\n",
    "\n",
    "(Review back to ***Notebook 5*** for ***numerical integration***.)\n",
    "\n",
    "If we tried to use our Trapezoidal Rule routine, we would immediately run into problems.\n",
    "What happens to the integrand in the limit as $y$ goes to 1?\n",
    "\n",
    "Although there are ways to change variables again, so that the Trapezoidal Rule routine would work, it is here where more general integration packages are useful, since they can often handle these integrable singularities without any extra effort.  So instead, let's use the `integrate.quad()` function from `SciPy` to do it.\n",
    "\n",
    "In the cell below, define the function to be integrated and then integrate it using `integrate.quad()`.  Don't forget to import the numerical integration routines from `SciPy` first.  (Again, refer back to Notebook 5 if you need guidance.)"
   ]
  },
  {
   "cell_type": "code",
   "execution_count": null,
   "metadata": {},
   "outputs": [],
   "source": []
  },
  {
   "cell_type": "markdown",
   "metadata": {},
   "source": [
    "## Q2.) What is the period of oscillation of the mass, as a function of the parameters, and including the calculated numerical factor?"
   ]
  },
  {
   "cell_type": "markdown",
   "metadata": {},
   "source": [
    "&#9989; Double click this cell, erase its content, and put your answer to the above question here."
   ]
  },
  {
   "cell_type": "markdown",
   "metadata": {},
   "source": [
    "## 5. Taylor problem 4.37.\n",
    "\n",
    "(c) It should be possible to write the potential energy function in this problem as\n",
    "\n",
    "$$U(\\phi)=MgR\\,f(\\phi,m/M)\\,,$$\n",
    "\n",
    "so that the factor $MgR$ is just an overall scale factor.  Might as well just set $M=g=R=1$.  But the shape of the potential energy does depend on the value of $m/M$.\n",
    "\n",
    "In the cell below, plot two different $\\phi$ vs $U(\\phi)$ potential energy lines onto the same graph, one line where $m/M=0.7$ and a second line where $m/M=0.8$. Use your preferred method to make the plot of $\\phi$ vs $U(\\phi)$."
   ]
  },
  {
   "cell_type": "code",
   "execution_count": null,
   "metadata": {},
   "outputs": [],
   "source": []
  },
  {
   "cell_type": "markdown",
   "metadata": {},
   "source": [
    "In this problem, you are asked to consider the motion of the system starting from rest at $\\phi=0$.\n",
    "What is the total energy in this case, and why is it important for determining the motion of the system?\n",
    "\n",
    "Try varying the ratio $m/M$ in your plot in order to determine the critical value $r_\\mathrm{crit}$.  This is defined so that if $m/M<r_\\mathrm{crit}$ the system oscillates, while for  $m/M>r_\\mathrm{crit}$ the wheel keeps spinning and the mass $m$ keeps falling (if released from rest at $\\phi=0$).\n",
    "\n",
    "Use the cell below."
   ]
  },
  {
   "cell_type": "code",
   "execution_count": null,
   "metadata": {},
   "outputs": [],
   "source": []
  },
  {
   "cell_type": "markdown",
   "metadata": {},
   "source": [
    "## Q3.) What feature of the plot did you use to determine the critical value of $m/M$?  What value did you obtain?"
   ]
  },
  {
   "cell_type": "markdown",
   "metadata": {},
   "source": [
    "&#9989; Double click this cell, erase its content, and put your answer to the above question here."
   ]
  },
  {
   "cell_type": "markdown",
   "metadata": {},
   "source": [
    "## 6. Taylor problem 4.38.\n",
    "\n",
    "(b) After doing the substitution in part (a), you obtained the EXACT period for the pendulum as\n",
    "\n",
    "$$\\tau=\\tau_0\\dfrac{2}{\\pi}K(A^2)\\,,$$\n",
    "\n",
    "where \n",
    "\n",
    "$$K(A^2)=\\int_0^1\\dfrac{du}{\\sqrt{1-u^2}\\sqrt{1-A^2u^2}}\\,.$$ \n",
    "\n",
    "The integral is dimensionless, so that the period is proportional to $\\tau_0$ (the period for small oscillations),\n",
    "but now the proportionality factor depends on the amplitude $\\Phi$ of the oscillations, through the dependence on $A=\\sin(\\Phi/2)$.\n",
    "\n",
    "As in problem 3, the Trapezoidal Rule method will struggle with this integral, due to the singularity in the integrand as $u$ goes to 1.  However, `integrate.quad()` from the `SciPy` package should have no problem with it.\n",
    "\n",
    "In the cell below, define the function to be integrated and then integrate it using `integrate.quad()` to obtain $K(A^2)$ for the values of $\\Phi=\\pi/4$, $\\Phi=\\pi/2$, and $\\Phi=3\\pi/4$."
   ]
  },
  {
   "cell_type": "code",
   "execution_count": null,
   "metadata": {},
   "outputs": [],
   "source": []
  },
  {
   "cell_type": "markdown",
   "metadata": {},
   "source": [
    "### Special Functions\n",
    "\n",
    "The function $K(A^2)$ cannot be written in terms of elementary functions, such as cosine, sine, logarithm, exponential, etc.  However, it does pop up enough in mathematics and physics problems, that it is given its own name: the ***complete elliptic integral of the first kind***.\n",
    "\n",
    "This is one of many so-called \"special functions\" that arise frequently in physics problems.  Others are Bessel functions, Legendre functions, etc., etc.  They aren't really more complicated than the elementary functions; it's just that we are not as familiar with them. \n",
    "\n",
    "It turns out that `SciPy` has many of these \"special functions\" already coded up.  Try running the following cell. (Use the same values of $\\Phi$ as before.)"
   ]
  },
  {
   "cell_type": "code",
   "execution_count": null,
   "metadata": {},
   "outputs": [],
   "source": [
    "# The following line imports the special functions from SciPy:\n",
    "from scipy import special\n",
    "\n",
    "A= # Evaluate for the same values of Phi that you used previously\n",
    "\n",
    "special.ellipk(A**2)"
   ]
  },
  {
   "cell_type": "markdown",
   "metadata": {},
   "source": [
    "You should have gotten the same answers as before.\n",
    "\n",
    "Now, use the special function to make a plot of $\\tau/\\tau_0$ as a function of $\\Phi$ for $0\\le\\Phi\\le3$ (in radians) in the following cell.\n",
    "As a check, what should $\\tau/\\tau_0$ be in the limit as $\\Phi\\rightarrow0$?"
   ]
  },
  {
   "cell_type": "code",
   "execution_count": null,
   "metadata": {},
   "outputs": [],
   "source": []
  },
  {
   "cell_type": "markdown",
   "metadata": {},
   "source": [
    "## Q4.) How well does the small angle approximation work for the period of a pendulum with amplitude $\\Phi=\\pi/4$?  What happens to $\\tau$ as $\\Phi$ approaches $\\pi$? Explain."
   ]
  },
  {
   "cell_type": "markdown",
   "metadata": {},
   "source": [
    "&#9989; Double click this cell, erase its content, and put your answer to the above question here."
   ]
  },
  {
   "cell_type": "markdown",
   "metadata": {},
   "source": [
    "## 7. The last problem.\n",
    "\n",
    "As we have seen, it is often useful to write things in terms of dimensionless combinations of parameters.\n",
    "Your result for the potential in this problem can be written\n",
    "\n",
    "$$U(x)=k\\alpha^2\\,f(y)\\,,$$\n",
    "\n",
    "where $y=x/\\alpha$ is dimensionless. Verify this. \n",
    "\n",
    "Thus, the natural distance scale is $\\alpha$ and the natural energy scale is\n",
    "$k\\alpha^2$.  \n",
    "\n",
    "In the cell below, make a plot of $U(x)/(k\\alpha^2)$ as a function of $x/\\alpha$.  (Note that this is equivalent to\n",
    "setting $k=\\alpha=1$ in U(x).  Why?)"
   ]
  },
  {
   "cell_type": "code",
   "execution_count": null,
   "metadata": {},
   "outputs": [],
   "source": []
  },
  {
   "cell_type": "markdown",
   "metadata": {},
   "source": [
    "## Q5.) From your plot, what is special about the energy $E=k\\alpha^2/4$?"
   ]
  },
  {
   "cell_type": "markdown",
   "metadata": {},
   "source": [
    "&#9989; Double click this cell, erase its content, and put your answer to the above question here."
   ]
  },
  {
   "cell_type": "markdown",
   "metadata": {},
   "source": [
    "# Notebook Wrap-up. \n",
    "Run the cell below and copy-paste your answers into their corresponding cells."
   ]
  },
  {
   "cell_type": "code",
   "execution_count": null,
   "metadata": {},
   "outputs": [],
   "source": [
    "from IPython.display import HTML\n",
    "HTML(\n",
    "\"\"\"\n",
    "<iframe \n",
    "\tsrc=\"https://forms.gle/o2JbpvJeUFYvWQni7\" \n",
    "\twidth=\"100%\" \n",
    "\theight=\"1200px\" \n",
    "\tframeborder=\"0\" \n",
    "\tmarginheight=\"0\" \n",
    "\tmarginwidth=\"0\">\n",
    "\tLoading...\n",
    "</iframe>\n",
    "\"\"\"\n",
    ")"
   ]
  },
  {
   "cell_type": "markdown",
   "metadata": {},
   "source": [
    "# Congrulations! Another week completed!\n",
    "\n",
    "Combining everything you've learned about functions these past 8 weeks, this time you have seen how useful they truly are for analyzing physical systems. In research the tools we practiced with here become very useful. Experimental data is often compared to theoretical calculations performed with such computational tools, sometimes with more complex equations to factor things in such as slight background magnetic fields. On the theoretical side, new algorithms meant for large scale and/or complex calculations/simulations are tested against these analytical solutions to check for accuracy. [When you perform research in the future and use the tools you gain here, you will often be presenting your work as so.](https://www.youtube.com/watch?time_continue=9&v=sIlNIVXpIns)"
   ]
  },
  {
   "cell_type": "code",
   "execution_count": null,
   "metadata": {},
   "outputs": [],
   "source": []
  }
 ],
 "metadata": {
  "kernelspec": {
   "display_name": "Python 3",
   "language": "python",
   "name": "python3"
  },
  "language_info": {
   "codemirror_mode": {
    "name": "ipython",
    "version": 3
   },
   "file_extension": ".py",
   "mimetype": "text/x-python",
   "name": "python",
   "nbconvert_exporter": "python",
   "pygments_lexer": "ipython3",
   "version": "3.7.3"
  }
 },
 "nbformat": 4,
 "nbformat_minor": 2
}
