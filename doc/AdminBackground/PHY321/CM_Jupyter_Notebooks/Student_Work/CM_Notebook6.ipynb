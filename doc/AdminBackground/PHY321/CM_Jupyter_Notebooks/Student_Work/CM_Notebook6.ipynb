{
 "cells": [
  {
   "cell_type": "markdown",
   "metadata": {},
   "source": [
    "## Classical Mechanics - Week 6\n",
    " \n",
    " \n",
    "### Last Week:\n",
    "- Learned how to implement numerical integrations with the Trapezoidal rule\n",
    "- Calculated the mass and center of mass of objects using numerical integration\n",
    "- Introduced a package, SciPy, that can perform integrations\n",
    "\n",
    "### This Week:\n",
    "- Challenge Euler's method! (Scary stuff. You don't want to mess with Euler, his name is on just about everything!)\n",
    "- Introduce the Velocity Verlet Method for computation\n",
    "- Study planetary motion using both these computational methods (at a very basic level)\n",
    "\n",
    "#### Let's begin!\n",
    "\n",
    "Suppose we have a planetary system in 2D that consists of a star with nearly the same properties of our own Sun and one planet with nearly the same properties of our Earth. \n",
    "\n",
    "##### How do we model this system?\n",
    "Well that's a great question! We can use simple computational analysis with classical equations we are all familiar with. Let's begin by looking at one of the most essential equations of Physics, the gravitational force equation:\n",
    "\n",
    "eq 1.) $\\vec{F} = -G\\dfrac{Mm}{r^2}\\hat{r}$\n",
    "\n",
    "Starting with just this let's try to use Euler's method from the last few weeks to model our planetary motion.\n"
   ]
  },
  {
   "cell_type": "code",
   "execution_count": null,
   "metadata": {},
   "outputs": [],
   "source": [
    "# Let's begin by importing our basic packages\n",
    "import numpy as np\n",
    "import matplotlib.pyplot as plt\n",
    "%matplotlib inline\n"
   ]
  },
  {
   "cell_type": "markdown",
   "metadata": {},
   "source": [
    "# Pause and think:\n",
    "The average Earth-Sun distance is about $1.5*10^{11}$ m, while the Earth mass, $m$, and Sun mass, $M$, are about $6*10^{24}$ kg and $2*10^{30}$ kg respectively. Newton's gravitational constant is $G=6.67*10^{-11}$ m$^3$/kg/s$^2$. Those are **HUGE** numbers to compute with, and inconvenient to say the least.  Furthermore, it takes $3.2*10^7$ seconds (one year) for the Earth to make one orbit of the sun, so we see that MKS units may not be the best for doing our calculation here.\n",
    "\n",
    "We solve these issues in scientific research by scaling our parameters to be dimensionless wherever possible, and using more natural units otherwise.  Following the astronomers, we'll let our distances be in astronomical units and our times in years, with\n",
    "\n",
    "1 au$\\ =\\ 1.5*10^8\\ \\mathrm{km}$\n",
    "\n",
    "1 yr$\\ =\\ 3.16*10^7\\ \\mathrm{s}$\n",
    "\n",
    "In these units we obtain the combination\n",
    "\n",
    "$GM\\ =\\ 39.47\\ =\\ 4\\pi^2$,\n",
    "\n",
    "with dimensions (au$^3$/yr$^2$).  Note that the second expression is valid in the approximation that the Earth's orbit is exactly a circle.  In that case the Earth's velocity is \n",
    "\n",
    "$v_E=\\dfrac{(2\\pi\\, r_E)}{\\mathrm{yr}}=2\\pi\\ \\mathrm{au}/\\mathrm{yr}$.  \n",
    "\n",
    "Equating the acceleration from gravity with the expression for centripetal acceleration, \n",
    "\n",
    "$\\dfrac{GM}{r_E^2}=\\dfrac{v_E^2}{r_E}\\ $ or $\\ \\dfrac{GM}{(1\\ \\mathrm{au})^2}=\\dfrac{(2\\pi\\ \\mathrm{au/yr})^2}{(1\\ \\mathrm{au})}$, \n",
    "\n",
    "gives the above expression.\n",
    "\n",
    "Thus, we obtain a more convenient way to write our equations of motion:\n",
    "\n",
    "eq 2a.) $a_x = \\dfrac{-4{\\pi^2}x}{r^3}$\n",
    "\n",
    "eq 2b.) $a_y = \\dfrac{-4{\\pi^2}y}{r^3}$\n",
    "\n",
    "Let's begin our planet at position $(1,0)$ to keep things simple. By inspection we know that the initial acceleration vector is  $\\vec{a}_0=(-4\\pi^2,0)$.  The initial velocity at that position for a circular orbit would be $\\vec{v}_0 = (0,2\\pi)$. Why would this be the case? \n",
    "\n",
    "NOW we can apply Euler's Method to simluate this problem! Below is outlined code that you will need to complete. Feel free to look at the Week 4 Notebook Answer if you need a refresher on how to set up arrays to represent 2D motion. We have given you vy_0."
   ]
  },
  {
   "cell_type": "code",
   "execution_count": null,
   "metadata": {},
   "outputs": [],
   "source": [
    "## Now let's initialize the values we do know. Simply fill out the values as we discussed above\n",
    "\n",
    "## Setup initial values\n",
    "x_0 = # What should our initial x position be? \n",
    "y_0 = # What should our initial y position be?\n",
    "vx_0 = # What should our initial velocity in the x vector be?\n",
    "vy_0 = 2*np.pi # Initial y velocity\n",
    "ax_0 = # What should our initial x acceleration be?\n",
    "ay_0 = # What should our initial y acceleration be?"
   ]
  },
  {
   "cell_type": "markdown",
   "metadata": {},
   "source": [
    "Because our base time unit is 1 Earth year, each integer in our time variable (1, 2, 3,...) corresponds to an increase of one year, or one orbit of the sun. For now let's just analyze for 1 Earth year (i.e. tf = 1). \n",
    "\n",
    "For this exercise we will choose our number of steps, N, and from that determine the step size."
   ]
  },
  {
   "cell_type": "code",
   "execution_count": null,
   "metadata": {},
   "outputs": [],
   "source": [
    "## Next, let's decide on our initial and final times, t and tf, and number of time steps, N, to obtain the time step size, h.\n",
    "t = 0\n",
    "tf = # Insert final time here\n",
    "N = # Chose a reasonable N value\n",
    "h = # Calculate our step size using t, tf, and N\n",
    "\n",
    "## Now we will initialize our arrays\n",
    "t =\n",
    "r = \n",
    "v = \n",
    "a = \n",
    "\n",
    "## Insert initial values into their respective vectors here"
   ]
  },
  {
   "cell_type": "markdown",
   "metadata": {},
   "source": [
    "Now code Euler's method to update the vectors at each step. To make things easier for updating, try using \"numpy.linalg.norm()\" to find the distance of the planet from the origin."
   ]
  },
  {
   "cell_type": "code",
   "execution_count": null,
   "metadata": {},
   "outputs": [],
   "source": [
    "## Perform Euler's method inside this for-loop\n",
    "for i in range(0,len(t)-1):"
   ]
  },
  {
   "cell_type": "code",
   "execution_count": null,
   "metadata": {},
   "outputs": [],
   "source": [
    "## Use this cell to plot the calculated position for 1 year. Plot x vs y."
   ]
  },
  {
   "cell_type": "markdown",
   "metadata": {},
   "source": [
    "# Q1.) What do you notice about our plot after 1 simulated Earth year?"
   ]
  },
  {
   "cell_type": "markdown",
   "metadata": {},
   "source": [
    "&#9989; Double click this cell, erase its content, and put your answer to the above question here."
   ]
  },
  {
   "cell_type": "markdown",
   "metadata": {},
   "source": [
    "### The plot seems a bit strange, doesn't it? Let's create a function to analyze Euler's Method a bit more. \n",
    "\n",
    "For this function just have it take in the number of years to analyze (tf) and the number of steps (N). The output should be the x vs y graph."
   ]
  },
  {
   "cell_type": "code",
   "execution_count": null,
   "metadata": {},
   "outputs": [],
   "source": [
    "def EulerPlanet(tf,N):"
   ]
  },
  {
   "cell_type": "markdown",
   "metadata": {},
   "source": [
    "Once you have finished setting up the algorithm, use the next three cells to plot the planetary motion for tf = 2, 3, and 4 with N = 1000 for each one."
   ]
  },
  {
   "cell_type": "code",
   "execution_count": null,
   "metadata": {},
   "outputs": [],
   "source": [
    "# Plot for tf = 2 here"
   ]
  },
  {
   "cell_type": "code",
   "execution_count": null,
   "metadata": {},
   "outputs": [],
   "source": [
    "# Plot for tf = 3 here"
   ]
  },
  {
   "cell_type": "code",
   "execution_count": null,
   "metadata": {},
   "outputs": [],
   "source": [
    "# Plot for tf = 4 here"
   ]
  },
  {
   "cell_type": "markdown",
   "metadata": {},
   "source": [
    "Seems like something isn't right. Let's modify our Euler function to see what is happening to our simulated planet's angular momentum.\n",
    "\n",
    "Angular momentum is calculated by $\\vec{L} = \\vec{r}\\times \\vec{p}$. However, since our planetary motion is confined to the $xy$ plane, it will only have nonzero angular momentum in the perpendicular $z$ direction:\n",
    "\n",
    "eq 3.) $L_z = m(xv_y - yv_x)$.\n",
    "\n",
    "Keeping with our astronomical set of units, for the Earth we can just set $m=1$ (in Earth-mass units).\n",
    "\n",
    "Use equation 3 to calculate the angular momentum at each step. Then print the ratio of min($L_z$)/max($L_z$), minumum $L_z$, and maximum $L_z$ along with the usual plot of the planet's motion. (Recall that we used the functions numpy.max() and numpy.min() in Notebook 2.)\n",
    "\n",
    "Feel free to modify the \"EulerPlanet()\" function or create the \"EulerPlanet_mom()\" function below to perform this. Don't overthink this part, it is only adding ~3 extra lines of code into your function."
   ]
  },
  {
   "cell_type": "code",
   "execution_count": null,
   "metadata": {},
   "outputs": [],
   "source": [
    "def EulerPlanet_mom(tf,N):\n"
   ]
  },
  {
   "cell_type": "code",
   "execution_count": null,
   "metadata": {},
   "outputs": [],
   "source": [
    "# test the EulerPlanet_mom() function here \n"
   ]
  },
  {
   "cell_type": "markdown",
   "metadata": {},
   "source": [
    "# Q2.) Given t=10 & N = 10000, what is the ratio of minimum over maximum angular momentum from Euler's Method?"
   ]
  },
  {
   "cell_type": "markdown",
   "metadata": {},
   "source": [
    "&#9989; Double click this cell, erase its content, and put your answer to the above question here."
   ]
  },
  {
   "cell_type": "markdown",
   "metadata": {},
   "source": [
    "### What does this tell us?\n",
    "\n",
    "Although Euler's method is a useful tool for approximating motion, we need an EXTREMELY high number of step sizes to stay accurate. And even so, we can see that Euler's method does NOT conserve angular momentum. \n",
    "\n",
    "To solve this issue, we will now implement the **Velocity Verlet Method**! Although we won't prove it here, it turns out that this modification of the basic Euler method conserves angular momentum at each step for a central force.\n",
    "Thus, it provides a more stable (but still approximate) planetary simulation."
   ]
  },
  {
   "cell_type": "markdown",
   "metadata": {},
   "source": [
    "# [Velocity Verlet Method](https://en.wikipedia.org/wiki/Verlet_integration#Velocity_Verlet):\n",
    " \n",
    "Our updates will now also include second order terms in the Taylor expansion instead of just first order like Euler's Method used. The algorithm will now have the following outline (notice the similarities and differences between the old and new methods):\n",
    "\n",
    "eq 4.) $\\vec{r}_{i+1} = \\vec{r}_i + h\\vec{v}_i + \\dfrac{h^2}{2}\\vec{a}_{i}$\n",
    "\n",
    "eq 5a.) $\\vec{v}_{i+1} = \\vec{v}_i + h\\vec{a}_i + \\dfrac{h^2}{2}\\vec{a}'_i$. We can approximate $h\\vec{a}'= \\vec{a}_{i+1} - \\vec{a}_i$, giving us:\n",
    "\n",
    "eq 5b.) $\\vec{v}_{i+1} = \\vec{v}_i + h\\vec{a}_i + \\dfrac{h}{2}(\\vec{a}_{i+1} - \\vec{a}_i)$\n",
    "\n",
    "The acceleration vector is updated by\n",
    "\n",
    "eq 6.) $\\vec{a}_{i+1} = \\dfrac{-4{\\pi^2}}{r_{i+1}^3}\\vec{r}_{i+1}$\n",
    "\n",
    "Thus, we will use equations 4), 6) and 5b) to update at our vectors at each step. (Why must the equations be updated in that order?)\n",
    "\n",
    "We will once again start our planet at position (1,0).  Again, for circular motion, the initial velocity vector will be $\\vec{v}_0 = (0,2\\pi)$. \n",
    "\n",
    "Your \"VerletPlanetary()\" function should plot the motion of the planet along with calculating the angular momentum.\n",
    "The output should be the same as that of \"EulerPlanet_mom()\"."
   ]
  },
  {
   "cell_type": "code",
   "execution_count": null,
   "metadata": {},
   "outputs": [],
   "source": [
    "## Using what we have done so far and outlined above, create the Verlet function\n",
    "def VerletPlanetary(tf,N):"
   ]
  },
  {
   "cell_type": "code",
   "execution_count": null,
   "metadata": {},
   "outputs": [],
   "source": [
    "## Test your VerletPlanetary function here"
   ]
  },
  {
   "cell_type": "markdown",
   "metadata": {},
   "source": [
    "# Q3.) Compare the angular momentum and planetary motion over time with the same variables on the Euler and Verlet implementations."
   ]
  },
  {
   "cell_type": "markdown",
   "metadata": {},
   "source": [
    "&#9989; Double click this cell, erase its content, and put your answer to the above question here."
   ]
  },
  {
   "cell_type": "markdown",
   "metadata": {},
   "source": [
    "# Q4.) Play around with different initial velocities and step sizes in the Euler and Verlet methods here. What do you observe?"
   ]
  },
  {
   "cell_type": "markdown",
   "metadata": {},
   "source": [
    "&#9989; Double click this cell, erase its content, and put your answer to the above question here."
   ]
  },
  {
   "cell_type": "markdown",
   "metadata": {},
   "source": [
    "# Notebook Wrap-up. \n",
    "Run the cell below and copy-paste your answers into their corresponding cells."
   ]
  },
  {
   "cell_type": "code",
   "execution_count": null,
   "metadata": {},
   "outputs": [],
   "source": [
    "from IPython.display import HTML\n",
    "HTML(\n",
    "\"\"\"\n",
    "<iframe \n",
    "\tsrc=\"https://forms.gle/dDEkGCB3PUhVoiD49\" \n",
    "\twidth=\"100%\" \n",
    "\theight=\"1200px\" \n",
    "\tframeborder=\"0\" \n",
    "\tmarginheight=\"0\" \n",
    "\tmarginwidth=\"0\">\n",
    "\tLoading...\n",
    "</iframe>\n",
    "\"\"\"\n",
    ")"
   ]
  },
  {
   "cell_type": "markdown",
   "metadata": {},
   "source": [
    "## Congrulations on finishing another notebook!\n",
    "\n",
    "Now you have experience with two computational methods used by fellow Physicists! And there are many more out there, each with their own benefits and drawbacks. If you have some free time, think about situations in which we might want to use Euler's instead of Verlet's and vice versa. [Here is a good representation of how debugging feels at times](https://www.advanpix.com/wp-content/uploads/2016/10/debugging_comic.gif)"
   ]
  },
  {
   "cell_type": "code",
   "execution_count": null,
   "metadata": {},
   "outputs": [],
   "source": []
  }
 ],
 "metadata": {
  "kernelspec": {
   "display_name": "Python 3",
   "language": "python",
   "name": "python3"
  },
  "language_info": {
   "codemirror_mode": {
    "name": "ipython",
    "version": 3
   },
   "file_extension": ".py",
   "mimetype": "text/x-python",
   "name": "python",
   "nbconvert_exporter": "python",
   "pygments_lexer": "ipython3",
   "version": "3.7.3"
  }
 },
 "nbformat": 4,
 "nbformat_minor": 2
}
