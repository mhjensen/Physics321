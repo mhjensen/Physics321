{
 "cells": [
  {
   "cell_type": "markdown",
   "metadata": {},
   "source": [
    "## Classical Mechanics - Week 9"
   ]
  },
  {
   "cell_type": "markdown",
   "metadata": {},
   "source": [
    "### Last Week:\n",
    "- We saw how a potential can be used to analyze a system\n",
    "- Gained experience with plotting and integrating in Python \n",
    "\n",
    "### This Week:\n",
    "- We will study harmonic oscillations using packages\n",
    "- Further develope our analysis skills \n",
    "- Gain more experience wtih sympy"
   ]
  },
  {
   "cell_type": "code",
   "execution_count": null,
   "metadata": {},
   "outputs": [],
   "source": [
    "# Let's import packages, as usual\n",
    "import numpy as np\n",
    "import matplotlib.pyplot as plt\n",
    "import sympy as sym\n",
    "sym.init_printing(use_unicode=True)"
   ]
  },
  {
   "cell_type": "markdown",
   "metadata": {},
   "source": [
    "Let's analyze a spring using sympy. It will have mass $m$, spring constant $k$, angular frequency $\\omega_0$, initial position $x_0$, and initial velocity $v_0$.\n",
    "\n",
    "The motion of this harmonic oscillator is described by the equation:\n",
    "\n",
    "eq 1.) $m\\ddot{x} = -kx$\n",
    "\n",
    "This can be solved as \n",
    "\n",
    "eq 2.) $x(t) = A\\cos(\\omega_0 t - \\delta)$, $\\qquad \\omega_0 = \\sqrt{\\dfrac{k}{m}}$\n",
    "\n",
    "Use SymPy below to plot this function. Set $A=2$, $\\omega_0 = \\pi/2$ and $\\delta = \\pi/4$. \n",
    "\n",
    "(Refer back to ***Notebook 7*** if you need to review plotting with SymPy.)"
   ]
  },
  {
   "cell_type": "code",
   "execution_count": 1,
   "metadata": {},
   "outputs": [],
   "source": [
    "# Plot for equation 2 here"
   ]
  },
  {
   "cell_type": "markdown",
   "metadata": {},
   "source": [
    "## Q1.) Calculate analytically the initial conditions, $x_0$ and $v_0$, and the period of the motion for the given constants.  Is your plot consistent with these values?"
   ]
  },
  {
   "cell_type": "markdown",
   "metadata": {},
   "source": [
    "&#9989; Double click this cell, erase its content, and put your answer to the above question here."
   ]
  },
  {
   "cell_type": "markdown",
   "metadata": {},
   "source": [
    "#### Now let's make plots for underdamped, critically-damped, and overdamped harmonic oscillators.\n",
    "Below are the general equations for these oscillators:\n",
    "\n",
    "- Underdamped, $\\beta < \\omega_0$ : \n",
    "\n",
    "eq 3.)    $x(t) = A e^{-\\beta t}cos(\\omega ' t) + B e^{-\\beta t}sin(\\omega ' t)$ , $\\omega ' = \\sqrt{\\omega_0^2 - \\beta^2}$\n",
    " \n",
    " ___________________________________\n",
    " \n",
    " \n",
    "- Critically-damped, $\\beta = \\omega_0$:\n",
    "\n",
    "eq 4.)    $x(t) = Ae^{-\\beta t} + B t e^{-\\beta t}$\n",
    "\n",
    " ___________________________________\n",
    " \n",
    "- Overdamped, $\\beta > \\omega_0$:\n",
    "\n",
    "eq 5.)    $x(t) = Ae^{-\\left(\\beta + \\sqrt{\\beta^2 - \\omega_0^2}\\right)t} + Be^{-\\left(\\beta - \\sqrt{\\beta^2 - \\omega_0^2}\\right)t}$\n",
    "    \n",
    " _______________________\n",
    " \n",
    "In the cells below use SymPy to create the Position vs Time plots for these three oscillators. \n",
    "\n",
    "Use $\\omega_0=\\pi/2$ as before, and then choose an appropriate value of $\\beta$ for the three different damped oscillator solutions. Play around with the variables, $A$, $B$, and $\\beta$, to see how different values affect the motion and if this agrees with your intuition."
   ]
  },
  {
   "cell_type": "code",
   "execution_count": null,
   "metadata": {},
   "outputs": [],
   "source": [
    "# Put your code for graphing Underdamped here"
   ]
  },
  {
   "cell_type": "code",
   "execution_count": null,
   "metadata": {},
   "outputs": [],
   "source": [
    "# Put your code for graphing Critical here"
   ]
  },
  {
   "cell_type": "code",
   "execution_count": null,
   "metadata": {},
   "outputs": [],
   "source": [
    "# Put your code for graphing Overdamped here"
   ]
  },
  {
   "cell_type": "markdown",
   "metadata": {},
   "source": [
    "## Q2.) How would you compare the 3 different oscillators?"
   ]
  },
  {
   "cell_type": "markdown",
   "metadata": {},
   "source": [
    "&#9989; Double click this cell, erase its content, and put your answer to the above question here."
   ]
  },
  {
   "cell_type": "markdown",
   "metadata": {},
   "source": [
    "# Here's another simple harmonic system, the pendulum. \n",
    "\n",
    "The equation of motion for the pendulum is:\n",
    "\n",
    "eq 6.) $ml\\dfrac{d^2\\theta}{dt^2} + mg \\sin(\\theta) = 0$, where $v=l\\dfrac{d\\theta}{dt}$ and $a=l\\dfrac{d^2\\theta}{dt^2}$\n",
    "\n",
    "In the small angle approximation $\\sin\\theta\\approx\\theta$, so this can be written:\n",
    "\n",
    "eq 7.) $\\dfrac{d^2\\theta}{dt^2} = -\\dfrac{g}{l}\\theta$\n",
    "\n",
    "We then find the period of the pendulum to be $T = \\dfrac{2\\pi}{\\sqrt{l/g}}$ and the angle at any given time \n",
    "(if released from rest) is given by \n",
    "\n",
    "$\\theta = \\theta_0\\cos{\\left(\\sqrt{\\dfrac{g}{l}} t\\right)}$.\n",
    "\n",
    "Let's use Euler's Forward method to solve equation (7) for the motion of the pendulum in the small angle approximation, and compare to the analytic solution.\n",
    "\n",
    "First, let's graph the analytic solution for $\\theta$. Go ahead and graph using either sympy, or the other method we have used, utilizing these variables:\n",
    "\n",
    "- $t:(0s,50s)$\n",
    "- $\\theta_0 = 0.5$ radians\n",
    "- $l = 40$ meters"
   ]
  },
  {
   "cell_type": "code",
   "execution_count": null,
   "metadata": {},
   "outputs": [],
   "source": [
    "# Plot the analytic solution here"
   ]
  },
  {
   "cell_type": "markdown",
   "metadata": {},
   "source": [
    "Now, use Euler's Forward method to obtain a plot of $\\theta$ as a function of time $t$ (in the small angle approximation).  Use eq (7) to calculate $\\ddot{\\theta}$ at each time step.\n",
    "Try varying the time step size to see how it affects the Euler's method solution."
   ]
  },
  {
   "cell_type": "code",
   "execution_count": null,
   "metadata": {},
   "outputs": [],
   "source": [
    "# Perform Euler's Method Here"
   ]
  },
  {
   "cell_type": "markdown",
   "metadata": {},
   "source": [
    "You should have found that if you chose the time step size small enough, then the Euler's method solution was\n",
    "indistinguishable from the analytic solution.  \n",
    "\n",
    "We can now trivially modify this, to solve for the pendulum **exactly**, without using the small angle approximation.\n",
    "The exact equation for the acceleration is\n",
    "\n",
    "eq 8.) $\\dfrac{d^2\\theta}{dt^2} = -\\dfrac{g}{l}\\sin\\theta$.\n",
    "\n",
    "Modify your Euler's Forward method calculation to use eq (8) to calculate $\\ddot{\\theta}$ at each time step in the cell below.\n"
   ]
  },
  {
   "cell_type": "code",
   "execution_count": null,
   "metadata": {},
   "outputs": [],
   "source": []
  },
  {
   "cell_type": "markdown",
   "metadata": {},
   "source": [
    "# Q3.) What time step size did you use to find agreement between Euler's method and the analytic solution (in the small angle approximation)? How did the exact solution differ from the small angle approximation? "
   ]
  },
  {
   "cell_type": "markdown",
   "metadata": {},
   "source": [
    "&#9989; Double click this cell, erase its content, and put your answer to the above question here."
   ]
  },
  {
   "cell_type": "markdown",
   "metadata": {},
   "source": [
    "### Now let's do something fun:\n",
    "\n",
    "In class we found that the 2-dimensional anisotropic harmonic motion can be solved as\n",
    "\n",
    "eq 8a.) $x(t) = A_x \\cos(\\omega_xt)$\n",
    "\n",
    "eq 8b.) $y(t) = A_y \\cos(\\omega_yt - \\delta)$\n",
    "\n",
    "If $\\dfrac{\\omega_x}{\\omega_y}$ is a rational number (*i.e,* a ratio of two integers), then the trajectory repeats itself after some amount of time. The plots of $x$ vs $y$ in this case are called Lissajous figures (after the French physicists Jules Lissajous).  If $\\dfrac{\\omega_x}{\\omega_y}$ is not a rational number, then the trajectory does not repeat itself, but it still shows some very interesting behavior.\n",
    "\n",
    "Let's make some x vs y plots below for the 2-d anisotropic oscillator. \n",
    "\n",
    "First, recreate the plots in Figure 5.9 of Taylor.  (Hint: Let $A_x=A_y$. For the left plot of Figure 5.9, let $\\delta=\\pi/4$ and for the right plot, let $\\delta=0$.)\n",
    "\n",
    "Next, try other rational values of $\\dfrac{\\omega_x}{\\omega_y}$ such as 5/6, 19/15, etc, and using different phase angles $\\delta$.\n",
    "\n",
    "Finally, for non-rational $\\dfrac{\\omega_x}{\\omega_y}$, what does the trajectory plot look like if you let the length of time to be arbitrarily long?\n",
    "\n",
    "\\[For these parametric plots, it is preferable to use our original plotting method, *i.e.* using `plt.plot()`, as introduced in ***Notebook 1***.\\]"
   ]
  },
  {
   "cell_type": "code",
   "execution_count": null,
   "metadata": {},
   "outputs": [],
   "source": [
    "# Plot the Lissajous curves here"
   ]
  },
  {
   "cell_type": "markdown",
   "metadata": {},
   "source": [
    "# Q4.) What are some observations you make as you play with the variables? What happens for non-rational $\\omega_x/\\omega_y$ if you let the oscillator run for a long time?\n"
   ]
  },
  {
   "cell_type": "markdown",
   "metadata": {},
   "source": [
    "&#9989; Double click this cell, erase its content, and put your answer to the above question here."
   ]
  },
  {
   "cell_type": "markdown",
   "metadata": {},
   "source": [
    "# Notebook Wrap-up. \n",
    "Run the cell below and copy-paste your answers into their corresponding cells."
   ]
  },
  {
   "cell_type": "code",
   "execution_count": null,
   "metadata": {},
   "outputs": [],
   "source": [
    "from IPython.display import HTML\n",
    "HTML(\n",
    "\"\"\"\n",
    "<iframe \n",
    "\tsrc=\"https://forms.gle/1eopEhweWaPNQfyi7\" \n",
    "\twidth=\"100%\" \n",
    "\theight=\"1200px\" \n",
    "\tframeborder=\"0\" \n",
    "\tmarginheight=\"0\" \n",
    "\tmarginwidth=\"0\">\n",
    "\tLoading...\n",
    "</iframe>\n",
    "\"\"\"\n",
    ")"
   ]
  },
  {
   "cell_type": "markdown",
   "metadata": {},
   "source": [
    "# Well that's that, another Notebook! It's now been 10 weeks of class\n",
    "\n",
    "You've been given lots of computational and programing tools these past few months. These past two weeks have been practicing these tools and hopefully you are understanding how some of these pieces add up. Play around with the code and see how it affects our systems of equations. Solve the Schrodinger Equation for the Helium atom. Figure out the unifying theory. The future is limitless!"
   ]
  }
 ],
 "metadata": {
  "kernelspec": {
   "display_name": "Python 3",
   "language": "python",
   "name": "python3"
  },
  "language_info": {
   "codemirror_mode": {
    "name": "ipython",
    "version": 3
   },
   "file_extension": ".py",
   "mimetype": "text/x-python",
   "name": "python",
   "nbconvert_exporter": "python",
   "pygments_lexer": "ipython3",
   "version": "3.7.3"
  }
 },
 "nbformat": 4,
 "nbformat_minor": 2
}
