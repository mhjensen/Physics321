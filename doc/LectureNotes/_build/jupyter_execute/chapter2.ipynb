{
 "cells": [
  {
   "cell_type": "markdown",
   "metadata": {},
   "source": [
    "# Classical Mechanics, Mathematics and Numerical background\n",
    "\n",
    "## Introduction\n",
    "\n",
    "Classical mechanics is a topic which has been taught intensively over\n",
    "several centuries. It is, with its many variants and ways of\n",
    "presenting the educational material, normally the first **real** physics\n",
    "course many of us meet and it lays the foundation for further physics\n",
    "studies. Many of the equations and ways of reasoning about the\n",
    "underlying laws of motion and pertinent forces, shape our approaches and understanding\n",
    "of the scientific method and discourse, as well as the way we develop our insights\n",
    "and deeper understanding about physical systems.  \n",
    "\n",
    "\n",
    "There is a wealth of\n",
    "well-tested (from both a physics point of view and a pedagogical\n",
    "standpoint) exercises and problems which can be solved\n",
    "analytically. However, many of these problems represent idealized and\n",
    "less realistic situations.  The large majority of these problems are\n",
    "solved by paper and pencil and are traditionally aimed\n",
    "at what we normally refer to as continuous models from which we may find an analytical solution.  As a consequence,\n",
    "when teaching mechanics, it implies that we can seldomly venture beyond an idealized case\n",
    "in order to develop our understandings and insights about the\n",
    "underlying forces and laws of motion.\n",
    "\n",
    "We aim at changing this here by introducing throughout the course what\n",
    "we will call a **computational path**, where with computations we mean\n",
    "solving scientific problems with all possible tools and means, from\n",
    "plain paper an pencil exercises, via symbolic calculations to writing\n",
    "a code and running a program to solve a specific\n",
    "problem. Mathematically this normally means that we move from a\n",
    "continuous problem to a discretized one. This appproach enables us to\n",
    "solve a much broader class of problems.\n",
    "In mechanics this means, since we often rephrase the physical problems in terms of differential equations, that we can in most settings reuse the same program with some minimal changes. \n",
    "\n",
    "\n",
    "## Reminder on vectors and other mathematical quantities\n",
    "\n",
    "Our studies will start with the motion of different types of objects\n",
    "such as a falling ball, a runner, a bicycle etc etc. It means that an\n",
    "object's position in space varies with time.\n",
    "In order to study such systems we need to define\n",
    "\n",
    "* choice of origin\n",
    "\n",
    "* choice of the direction of the axes\n",
    "\n",
    "* choice of positive direction (left-handed or right-handed system of reference)\n",
    "\n",
    "* choice of units and dimensions\n",
    "\n",
    "These choices lead to some important questions such as\n",
    "\n",
    "* is the  physics of a system independent of the origin of the axes?\n",
    "\n",
    "* is the  physics independent of the directions of the axes, that is are there privileged axes?\n",
    "\n",
    "* is the physics independent of the orientation of system?\n",
    "\n",
    "* is the physics independent of the scale of the length?\n",
    "\n",
    "Throughout this course we will use the standardized SI units. The standard unit for length is thus one meter 1m, for mass\n",
    "one kilogram 1kg, for time one second 1s, for force one Newton 1kgm/s$^2$ and for energy 1 Joule 1kgm$^2$s$^{-2}$.\n",
    "\n",
    "We will use the following notations for various variables (vectors are always boldfaced in these lecture notes):\n",
    "* position $\\boldsymbol{r}$, in one dimention we will normally just use $x$,\n",
    "\n",
    "* mass $m$,\n",
    "\n",
    "* time $t$,\n",
    "\n",
    "* velocity $\\boldsymbol{v}$ or just $v$ in one dimension,\n",
    "\n",
    "* acceleration $\\boldsymbol{a}$ or just $a$ in one dimension,\n",
    "\n",
    "* momentum $\\boldsymbol{p}$ or just $p$ in one dimension,\n",
    "\n",
    "* kinetic energy $K$,\n",
    "\n",
    "* potential energy $V$ and\n",
    "\n",
    "* frequency $\\omega$.\n",
    "\n",
    "More variables will be defined as we need them.\n",
    "\n",
    "\n",
    "It is also important to keep track of dimensionalities. Don't mix this\n",
    "up with a chosen unit for a given variable. We mark the dimensionality\n",
    "in these lectures as $[a]$, where $a$ is the quantity we are\n",
    "interested in. Thus\n",
    "\n",
    "* $[\\boldsymbol{r}]=$ length\n",
    "\n",
    "* $[m]=$ mass\n",
    "\n",
    "* $[K]=$ energy\n",
    "\n",
    "* $[t]=$ time\n",
    "\n",
    "* $[\\boldsymbol{v}]=$ length over time\n",
    "\n",
    "* $[\\boldsymbol{a}]=$ length over time squared\n",
    "\n",
    "* $[\\boldsymbol{p}]=$ mass times length over time\n",
    "\n",
    "* $[\\omega]=$ 1/time\n",
    "\n",
    "## Scalars, Vectors and Matrices\n",
    "\n",
    "A scalar is something with a value that is independent of coordinate\n",
    "system. Examples are mass, or the relative time between events. A\n",
    "vector has magnitude and direction. Under rotation, the magnitude\n",
    "stays the same but the direction changes. Scalars have no spatial\n",
    "index, whereas a three-dimensional vector has 3 indices, e.g. the\n",
    "position $\\boldsymbol{r}$ has components $r_1,r_2,r_3$, which are often\n",
    "referred to as $x,y,z$.\n",
    "\n",
    "There are several categories of changes of coordinate system. The\n",
    "observer can translate the origin, might move with a different\n",
    "velocity, or might rotate her/his coordinate axes. For instance, a\n",
    "particle's position vector changes when the origin is translated, but\n",
    "its velocity does not. When you study relativity you will find that\n",
    "quantities you thought of as scalars, such as time or an electric\n",
    "potential, are actually parts of four-dimensional vectors and that\n",
    "changes of the velocity of the reference frame act in a similar way to\n",
    "rotations.\n",
    "\n",
    "In addition to vectors and scalars, there are matrices, which have two\n",
    "indices. One also has objects with 3 or four indices. These are called\n",
    "tensors of rank $n$, where $n$ is the number of indices. A matrix is a\n",
    "rank-two tensor. The Levi-Civita symbol, $\\epsilon_{ijk}$ used for\n",
    "cross products of vectors, is a tensor of rank three.\n",
    "\n",
    "\n",
    "\n",
    "\n",
    "In these lectures we will use boldfaced lower-case letters to label a\n",
    "vector. A vector $\\boldsymbol{a}$ in three dimensions is thus defined as"
   ]
  },
  {
   "cell_type": "markdown",
   "metadata": {},
   "source": [
    "$$\n",
    "\\boldsymbol{a} =(a_x,a_y, a_z),\n",
    "$$"
   ]
  },
  {
   "cell_type": "markdown",
   "metadata": {},
   "source": [
    "and using the unit vectors (see below) in a cartesian system we have"
   ]
  },
  {
   "cell_type": "markdown",
   "metadata": {},
   "source": [
    "$$\n",
    "\\boldsymbol{a} = a_x\\boldsymbol{e}_1+a_y\\boldsymbol{e}_2+a_z\\boldsymbol{e}_3,\n",
    "$$"
   ]
  },
  {
   "cell_type": "markdown",
   "metadata": {},
   "source": [
    "where the unit vectors have magnitude $\\vert\\boldsymbol{e}_i\\vert = 1$ with\n",
    "$i=1=x$, $i=2=y$ and $i=3=z$. Some authors use letters\n",
    "$\\boldsymbol{i}=\\boldsymbol{e}_1$, $\\boldsymbol{j}=\\boldsymbol{e}_2$ and $\\boldsymbol{k}=\\boldsymbol{e}_3$.\n",
    "\n",
    "\n",
    "\n",
    "Alternatively, you may also encounter the above vector as"
   ]
  },
  {
   "cell_type": "markdown",
   "metadata": {},
   "source": [
    "$$\n",
    "\\boldsymbol{a} = a_1\\boldsymbol{e}_1+a_2\\boldsymbol{e}_2+a_3\\boldsymbol{e}_3.\n",
    "$$"
   ]
  },
  {
   "cell_type": "markdown",
   "metadata": {},
   "source": [
    "Here we have used that $a_1=a_x$, $a_2=a_y$ and $a_3=a_z$. Such a\n",
    "notation is sometimes more convenient if we wish to represent vector\n",
    "operations in a mathematically more compact way, see below here. We may also find this useful if  we want the different\n",
    "components to represent other coordinate systems that the Cartesian one. A typical example would be going from a Cartesian representation to a spherical basis. We will encounter such cases many times in this course. \n",
    "\n",
    "We use lower-case letters for vectors and upper-case letters for matrices. Vectors and matrices are always boldfaced.\n",
    "\n",
    "\n",
    "\n",
    "### Polar Coordinates\n",
    "\n",
    "As an example, consider a two-dimensional Cartesian system with a vector $\\boldsymbol{r}=(x,y)$.\n",
    "Our vector is then written as"
   ]
  },
  {
   "cell_type": "markdown",
   "metadata": {},
   "source": [
    "$$\n",
    "\\boldsymbol{r} = x\\boldsymbol{e}_1+y\\boldsymbol{e}_2.\n",
    "$$"
   ]
  },
  {
   "cell_type": "markdown",
   "metadata": {},
   "source": [
    "Transforming to polar coordinates with the radius $\\rho\\in [0,\\infty)$\n",
    "and the angle $\\phi \\in [0,2\\pi]$ we have the familiar transformations"
   ]
  },
  {
   "cell_type": "markdown",
   "metadata": {},
   "source": [
    "$$\n",
    "x = \\rho \\cos{\\phi} \\hspace{0.5cm}   y = \\rho \\sin{\\phi},\n",
    "$$"
   ]
  },
  {
   "cell_type": "markdown",
   "metadata": {},
   "source": [
    "and the inverse relations"
   ]
  },
  {
   "cell_type": "markdown",
   "metadata": {},
   "source": [
    "$$\n",
    "\\rho =\\sqrt{x^2+y^2} \\hspace{0.5cm}   \\phi = \\mathrm{arctan}(\\frac{y}{x}).\n",
    "$$"
   ]
  },
  {
   "cell_type": "markdown",
   "metadata": {},
   "source": [
    "We can rewrite the vector $\\boldsymbol{a}$ in terms of $\\rho$ and $\\phi$ as"
   ]
  },
  {
   "cell_type": "markdown",
   "metadata": {},
   "source": [
    "$$\n",
    "\\boldsymbol{a} = \\rho \\cos{\\phi}\\boldsymbol{e}_1+\\rho \\sin{\\phi}\\boldsymbol{e}_2,\n",
    "$$"
   ]
  },
  {
   "cell_type": "markdown",
   "metadata": {},
   "source": [
    "and we define the new unit vectors as $\\boldsymbol{e}'_1=\\cos{\\phi}\\boldsymbol{e}_1$ and $\\boldsymbol{e}'_2=\\sin{\\phi}\\boldsymbol{e}_2$, we have"
   ]
  },
  {
   "cell_type": "markdown",
   "metadata": {},
   "source": [
    "$$\n",
    "\\boldsymbol{a}' = \\rho\\boldsymbol{e}'_1+\\rho \\boldsymbol{e}'_2.\n",
    "$$"
   ]
  },
  {
   "cell_type": "markdown",
   "metadata": {},
   "source": [
    "Below we will show that the norms of this vector in a Cartesian basis and a Polar basis are equal.\n",
    "\n",
    "\n",
    "### Unit Vectors\n",
    "\n",
    "Also known as basis vectors, unit vectors point in the direction of\n",
    "the coordinate axes, have unit norm, and are orthogonal to one\n",
    "another. Sometimes this is referred to as an orthonormal basis,"
   ]
  },
  {
   "cell_type": "markdown",
   "metadata": {},
   "source": [
    "<!-- Equation labels as ordinary links -->\n",
    "<div id=\"_auto1\"></div>\n",
    "\n",
    "$$\n",
    "\\begin{equation}\n",
    "\\boldsymbol{e}_i\\cdot\\boldsymbol{e}_j=\\delta_{ij}=\\begin{bmatrix}\n",
    "1 & 0 & 0\\\\\n",
    "0& 1 & 0\\\\\n",
    "0 & 0 & 1\n",
    "\\end{bmatrix}.\n",
    "\\label{_auto1} \\tag{1}\n",
    "\\end{equation}\n",
    "$$"
   ]
  },
  {
   "cell_type": "markdown",
   "metadata": {},
   "source": [
    "Here, $\\delta_{ij}$ is unity when $i=j$ and is zero otherwise. This is\n",
    "called the unit matrix, because you can multiply it with any other\n",
    "matrix and not change the matrix. The **dot** denotes the dot product,\n",
    "$\\boldsymbol{a}\\cdot\\boldsymbol{b}=a_1b_1+a_2b_2+a_3b_3=|a||b|\\cos\\theta_{ab}$. Sometimes\n",
    "the unit vectors are called $\\hat{x}$, $\\hat{y}$ and\n",
    "$\\hat{z}$.\n",
    "\n",
    "\n",
    "\n",
    "Vectors can be decomposed in terms of unit vectors,"
   ]
  },
  {
   "cell_type": "markdown",
   "metadata": {},
   "source": [
    "<!-- Equation labels as ordinary links -->\n",
    "<div id=\"_auto2\"></div>\n",
    "\n",
    "$$\n",
    "\\begin{equation}\n",
    "\\boldsymbol{r}=r_1\\hat{e}_1+r_2\\hat{e}_2+r_3\\hat{e}_3.\n",
    "\\label{_auto2} \\tag{2}\n",
    "\\end{equation}\n",
    "$$"
   ]
  },
  {
   "cell_type": "markdown",
   "metadata": {},
   "source": [
    "The vector components $r_1$, $r_2$ and $r_3$ might be\n",
    "called $x$, $y$ and $z$ for a displacement. Another way to write this is to define the vector $\\boldsymbol{r}=(x,y,z)$.\n",
    "\n",
    "Similarly, for the velocity we will use in this course the components  $\\boldsymbol{v}=(v_x, v_y,v_z$. The accelaration is then given by $\\boldsymbol{a}=(a_x,a_y,a_z)$.\n",
    "\n",
    "\n",
    "\n",
    "As mentioned above, repeated indices infer sums.\n",
    "This means that when you encounter an expression like the one on the left-hand side here, it stands actually for a sum (right-hand side)"
   ]
  },
  {
   "cell_type": "markdown",
   "metadata": {},
   "source": [
    "$$\n",
    "x_iy_i=\\sum_i x_iy_i=\\boldsymbol{x}\\cdot\\boldsymbol{y}.\n",
    "$$"
   ]
  },
  {
   "cell_type": "markdown",
   "metadata": {},
   "source": [
    "We will in our lectures seldom use this notation and rather spell out the summations.  This inferred summation over indices is normally called [Einstein summation convention](https://en.wikipedia.org/wiki/Einstein_notation).\n",
    "\n",
    "\n",
    "## Vector Operations, Scalar Product (or dot product)\n",
    "\n",
    "For two vectors $\\boldsymbol{a}$ and $\\boldsymbol{b}$ we have"
   ]
  },
  {
   "cell_type": "markdown",
   "metadata": {},
   "source": [
    "$$\n",
    "\\begin{eqnarray*}\n",
    "\\boldsymbol{a}\\cdot\\boldsymbol{b}&=&\\sum_ia_ib_i=|a||b|\\cos\\theta_{ab},\\\\\n",
    "|a|&\\equiv& \\sqrt{\\boldsymbol{a}\\cdot\\boldsymbol{a}},\n",
    "\\end{eqnarray*}\n",
    "$$"
   ]
  },
  {
   "cell_type": "markdown",
   "metadata": {},
   "source": [
    "or with a norm-2 notation"
   ]
  },
  {
   "cell_type": "markdown",
   "metadata": {},
   "source": [
    "$$\n",
    "|a|\\equiv \\vert\\vert \\boldsymbol{a}\\vert\\vert_2=\\sqrt{\\sum_i a_i^2}.\n",
    "$$"
   ]
  },
  {
   "cell_type": "markdown",
   "metadata": {},
   "source": [
    "Not of all of you are familiar with linear algebra. Numerically we will always deal with arrays and the dot product vector is given by the product of the transposed vector multiplied with the other vector, that is we have"
   ]
  },
  {
   "cell_type": "markdown",
   "metadata": {},
   "source": [
    "$$\n",
    "\\boldsymbol{a}^T\\boldsymbol{b}=\\sum_i a_ib_i=|a||b|\\cos\\theta_{ab}.\n",
    "$$"
   ]
  },
  {
   "cell_type": "markdown",
   "metadata": {},
   "source": [
    "The superscript $T$ represents the transposition operations. \n",
    "\n",
    "\n",
    "\n",
    "## Digression, Linear Algebra Notation for Vectors\n",
    "\n",
    "As an example, consider a three-dimensional velocity defined by a vector $\\boldsymbol{v}=(v_x,v_y,v_z)$. For those of you familiar with linear algebra, we would write this quantity as"
   ]
  },
  {
   "cell_type": "markdown",
   "metadata": {},
   "source": [
    "$$\n",
    "\\boldsymbol{v}=\\begin{bmatrix} v_x\\\\ v_y \\\\ v_z \\end{bmatrix},\n",
    "$$"
   ]
  },
  {
   "cell_type": "markdown",
   "metadata": {},
   "source": [
    "and the transpose as"
   ]
  },
  {
   "cell_type": "markdown",
   "metadata": {},
   "source": [
    "$$\n",
    "\\boldsymbol{v}^T=\\begin{bmatrix} v_x & v_y &v_z \\end{bmatrix}.\n",
    "$$"
   ]
  },
  {
   "cell_type": "markdown",
   "metadata": {},
   "source": [
    "The norm is"
   ]
  },
  {
   "cell_type": "markdown",
   "metadata": {},
   "source": [
    "$$\n",
    "\\boldsymbol{v}^T\\boldsymbol{v}=v_x^2+v_y^2+v_z^2,\n",
    "$$"
   ]
  },
  {
   "cell_type": "markdown",
   "metadata": {},
   "source": [
    "as it should.\n",
    "\n",
    "Since we will use Python as a programming language throughout this course, the above vector, using the package **numpy** (see discussions below), can be written as"
   ]
  },
  {
   "cell_type": "code",
   "execution_count": 1,
   "metadata": {
    "collapsed": false,
    "editable": true
   },
   "outputs": [
    {
     "name": "stdout",
     "output_type": "stream",
     "text": [
      "[0. 1. 0.]\n",
      "[0. 1. 0.]\n"
     ]
    }
   ],
   "source": [
    "import numpy as np\n",
    "# Define the values of vx, vy and vz\n",
    "vx = 0.0\n",
    "vy = 1.0\n",
    "vz = 0.0\n",
    "v = np.array([vx, vy, vz])\n",
    "print(v)\n",
    "# The print the transpose of v\n",
    "print(v.T)"
   ]
  },
  {
   "cell_type": "markdown",
   "metadata": {},
   "source": [
    "Try to figure out how to calculate the norm with **numpy**.\n",
    "We will come back to **numpy** in the examples below.\n",
    "\n",
    "\n",
    "\n",
    "\n",
    "As an example, consider our transformation of a two-dimensional Cartesian vector $\\boldsymbol{r}$ to polar coordinates.\n",
    "We had"
   ]
  },
  {
   "cell_type": "markdown",
   "metadata": {},
   "source": [
    "$$\n",
    "\\boldsymbol{r} = x\\boldsymbol{e}_1+y\\boldsymbol{e}_2.\n",
    "$$"
   ]
  },
  {
   "cell_type": "markdown",
   "metadata": {},
   "source": [
    "Transforming to polar coordinates with the radius $\\rho\\in [0,\\infty)$\n",
    "and the angle $\\phi \\in [0,2\\pi]$ we have"
   ]
  },
  {
   "cell_type": "markdown",
   "metadata": {},
   "source": [
    "$$\n",
    "x = \\rho \\cos{\\phi} \\hspace{0.5cm}   y = \\rho \\sin{\\phi}.\n",
    "$$"
   ]
  },
  {
   "cell_type": "markdown",
   "metadata": {},
   "source": [
    "We can write this"
   ]
  },
  {
   "cell_type": "markdown",
   "metadata": {},
   "source": [
    "$$\n",
    "\\boldsymbol{r} = \\begin{bmatrix} x \\\\ y \\end{bmatrix}= \\begin{bmatrix} \\rho \\cos{\\phi}  \\\\ \\rho \\sin{\\phi}  \\end{bmatrix}.\n",
    "$$"
   ]
  },
  {
   "cell_type": "markdown",
   "metadata": {},
   "source": [
    "The norm in Cartesian coordinates is $\\boldsymbol{r}\\cdot\\boldsymbol{r}=x^2+y^2$ and\n",
    "using Polar coordinates we have\n",
    "$\\rho^2(\\cos{\\phi})^2+\\rho^2(\\cos{\\phi})^2=\\rho^2$, which shows that\n",
    "the norm is conserved since we have $\\rho = \\sqrt{x^2+y^2}$. A\n",
    "transformation to a new basis should not change the norm.\n",
    "\n",
    "\n",
    "\n",
    "## Vector Product (or cross product) of vectors $\\boldsymbol{a}$ and $\\boldsymbol{b}$"
   ]
  },
  {
   "cell_type": "markdown",
   "metadata": {},
   "source": [
    "$$\n",
    "\\begin{eqnarray*}\n",
    "\\boldsymbol{c}&=&\\boldsymbol{a}\\times\\boldsymbol{b},\\\\\n",
    "c_i&=&\\epsilon_{ijk}a_jb_k.\n",
    "\\end{eqnarray*}\n",
    "$$"
   ]
  },
  {
   "cell_type": "markdown",
   "metadata": {},
   "source": [
    "Here $\\epsilon$ is the third-rank anti-symmetric tensor, also known as\n",
    "the Levi-Civita symbol. It is $\\pm 1$ only if all three indices are\n",
    "different, and is zero otherwise. The choice of $\\pm 1$ depends on\n",
    "whether the indices are an even or odd permutation of the original\n",
    "symbols. The permutation $xyz$ or $123$ is considered to be $+1$. Its elements are"
   ]
  },
  {
   "cell_type": "markdown",
   "metadata": {},
   "source": [
    "$$\n",
    "\\begin{eqnarray}\n",
    "\\epsilon_{ijk}&=&-\\epsilon_{ikj}=-\\epsilon_{jik}=-\\epsilon_{kji}\\\\\n",
    "\\nonumber\n",
    "\\epsilon_{123}&=&\\epsilon_{231}=\\epsilon_{312}=1,\\\\\n",
    "\\nonumber\n",
    "\\epsilon_{213}&=&\\epsilon_{132}=\\epsilon_{321}=-1,\\\\\n",
    "\\nonumber\n",
    "\\epsilon_{iij}&=&\\epsilon_{iji}=\\epsilon_{jii}=0.\n",
    "\\end{eqnarray}\n",
    "$$"
   ]
  },
  {
   "cell_type": "markdown",
   "metadata": {},
   "source": [
    "You may have met cross-products when studying magnetic\n",
    "fields. Because the matrix is anti-symmetric, switching the $x$ and\n",
    "$y$ axes (or any two axes) flips the sign. If the coordinate system is\n",
    "right-handed, meaning the $xyz$ axes satisfy\n",
    "$\\hat{x}\\times\\hat{y}=\\hat{z}$, where you can point along the $x$ axis\n",
    "with your extended right index finger, the $y$ axis with your\n",
    "contracted middle finger and the $z$ axis with your extended\n",
    "thumb. Switching to a left-handed system flips the sign of the vector\n",
    "$\\boldsymbol{c}=\\boldsymbol{a}\\times\\boldsymbol{b}$.\n",
    "\n",
    "Note that\n",
    "$\\boldsymbol{a}\\times\\boldsymbol{b}=-\\boldsymbol{b}\\times\\boldsymbol{a}$. The vector $\\boldsymbol{c}$ is\n",
    "perpendicular to both $\\boldsymbol{a}$ and $\\boldsymbol{b}$ and the magnitude of\n",
    "$\\boldsymbol{c}$ is given by"
   ]
  },
  {
   "cell_type": "markdown",
   "metadata": {},
   "source": [
    "$$\n",
    "|c|=|a||b|\\sin{\\theta_{ab}}.\n",
    "$$"
   ]
  },
  {
   "cell_type": "markdown",
   "metadata": {},
   "source": [
    "### Pseudo-vectors\n",
    "\n",
    "Vectors obtained by the cross product of two real vectors are called\n",
    "pseudo-vectors because the assignment of their direction can be\n",
    "arbitrarily flipped by defining the Levi-Civita symbol to be based on\n",
    "left-handed rules. Examples are the magnetic field and angular\n",
    "momentum. If the direction of a real vector prefers the right-handed\n",
    "over the left-handed direction, that constitutes a violation of\n",
    "parity. For instance, one can polarize the spins (angular momentum) of\n",
    "nuclei with a magnetic field so that the spins preferentially point\n",
    "along the direction of the magnetic field. This does not violate\n",
    "parity because both are pseudo-vectors. Now assume these polarized\n",
    "nuclei decay and that electrons are one of the products. If these\n",
    "electrons prefer to exit the decay parallel vs. antiparallel to the\n",
    "polarizing magnetic field, this constitutes parity violation because\n",
    "the direction of the outgoing electron momenta are a real vector. This\n",
    "is precisely what is observed in weak decays.\n",
    "\n",
    "\n",
    "## Differentiation of a vector with respect to a scalar\n",
    "\n",
    "As an  example, consider the\n",
    "acceleration $\\boldsymbol{a}$, which is given by the change in velocity per unit time, $\\boldsymbol{a}=d\\boldsymbol{v}/dt$\n",
    "with components"
   ]
  },
  {
   "cell_type": "markdown",
   "metadata": {},
   "source": [
    "$$\n",
    "a_i = (d\\boldsymbol{v}/dt)_i=\\frac{dv_i}{dt}.\n",
    "$$"
   ]
  },
  {
   "cell_type": "markdown",
   "metadata": {},
   "source": [
    "Here $i=x,y,z$ or $i=1,2,3$ if we are in three dimensions.\n",
    "\n",
    "\n",
    "### Gradient operator $\\nabla$\n",
    "\n",
    "This represents  the derivatives $\\partial/\\partial\n",
    "x$, $\\partial/\\partial y$ and $\\partial/\\partial z$. An often used shorthand is  $\\partial_x=\\partial/\\partial_x$.\n",
    "\n",
    "The gradient of a scalar function of position and time\n",
    "$\\Phi(x,y,z)=\\Phi(\\boldsymbol{r},t)$ is given by"
   ]
  },
  {
   "cell_type": "markdown",
   "metadata": {},
   "source": [
    "$$\n",
    "\\boldsymbol{\\nabla}~\\Phi,\n",
    "$$"
   ]
  },
  {
   "cell_type": "markdown",
   "metadata": {},
   "source": [
    "with components $i$"
   ]
  },
  {
   "cell_type": "markdown",
   "metadata": {},
   "source": [
    "$$\n",
    "(\\nabla\\Phi(x,y,z,t))_i=\\partial/\\partial r_i\\Phi(\\boldsymbol{r},t)=\\partial_i\\Phi(\\boldsymbol{r},t).\n",
    "$$"
   ]
  },
  {
   "cell_type": "markdown",
   "metadata": {},
   "source": [
    "Note that the gradient is a vector.\n",
    "\n",
    "Taking the dot product of the gradient with a vector, normally called the divergence,\n",
    "we have"
   ]
  },
  {
   "cell_type": "markdown",
   "metadata": {},
   "source": [
    "$$\n",
    "\\mathrm{div} \\boldsymbol{a}, \\nabla\\cdot\\boldsymbol{a}=\\sum_i \\partial_i a_i.\n",
    "$$"
   ]
  },
  {
   "cell_type": "markdown",
   "metadata": {},
   "source": [
    "Note that the divergence is a scalar. \n",
    "\n",
    "\n",
    "### The curl\n",
    "\n",
    "The **curl** of a vector is defined as\n",
    "$\\nabla\\times\\boldsymbol{a}$,"
   ]
  },
  {
   "cell_type": "markdown",
   "metadata": {},
   "source": [
    "$$\n",
    "{\\rm\\bf curl}~\\boldsymbol{a},\n",
    "$$"
   ]
  },
  {
   "cell_type": "markdown",
   "metadata": {},
   "source": [
    "with components"
   ]
  },
  {
   "cell_type": "markdown",
   "metadata": {},
   "source": [
    "$$\n",
    "(\\boldsymbol{\\nabla}\\times\\boldsymbol{a})_i=\\epsilon_{ijk}\\partial_j a_k(\\boldsymbol{r},t).\n",
    "$$"
   ]
  },
  {
   "cell_type": "markdown",
   "metadata": {},
   "source": [
    "### The Laplacian\n",
    "\n",
    "The Laplacian is referred to as $\\nabla^2$ and is defined as"
   ]
  },
  {
   "cell_type": "markdown",
   "metadata": {},
   "source": [
    "$$\n",
    "\\boldsymbol{\\nabla}^2=\\boldsymbol{\\nabla}\\cdot\\boldsymbol{\\nabla}=\\frac{\\partial^2}{\\partial x^2}+\\frac{\\partial^2}{\\partial y^2}+\\frac{\\partial^2}{\\partial z^2}.\n",
    "$$"
   ]
  },
  {
   "cell_type": "markdown",
   "metadata": {},
   "source": [
    "Question: is the Laplacian a scalar or a vector?\n",
    "\n",
    "### Some identities\n",
    "\n",
    "Here we simply state these, but you may wish to prove a few. They are useful for this class and will be essential when you study electromagnetism."
   ]
  },
  {
   "cell_type": "markdown",
   "metadata": {},
   "source": [
    "$$\n",
    "\\begin{eqnarray}\n",
    "\\boldsymbol{a}\\cdot(\\boldsymbol{b}\\times\\boldsymbol{c})&=&\\boldsymbol{b}\\cdot(\\boldsymbol{c}\\times\\boldsymbol{a})=\\boldsymbol{c}\\cdot(\\boldsymbol{a}\\times\\boldsymbol{b})\\\\\n",
    "\\nonumber\n",
    "\\boldsymbol{a}\\times(\\boldsymbol{b}\\times\\boldsymbol{c})&=&(\\boldsymbol{a}\\cdot\\boldsymbol{c})\\boldsymbol{b}-(\\boldsymbol{a}\\cdot\\boldsymbol{b})\\boldsymbol{c}\\\\\n",
    "\\nonumber\n",
    "(\\boldsymbol{a}\\times\\boldsymbol{b})\\cdot(\\boldsymbol{c}\\times\\boldsymbol{d})&=&(\\boldsymbol{a}\\cdot\\boldsymbol{c})(\\boldsymbol{b}\\cdot\\boldsymbol{d})\n",
    "-(\\boldsymbol{a}\\cdot\\boldsymbol{d})(\\boldsymbol{b}\\cdot\\boldsymbol{c})\n",
    "\\end{eqnarray}\n",
    "$$"
   ]
  },
  {
   "cell_type": "markdown",
   "metadata": {},
   "source": [
    "### More useful relations\n",
    "\n",
    "Using the fact that multiplication of reals is distributive we can show that"
   ]
  },
  {
   "cell_type": "markdown",
   "metadata": {},
   "source": [
    "$$\n",
    "\\boldsymbol{a}(\\boldsymbol{b}+\\boldsymbol{c})=\\boldsymbol{a}\\boldsymbol{b}+\\boldsymbol{a}\\boldsymbol{c},\n",
    "$$"
   ]
  },
  {
   "cell_type": "markdown",
   "metadata": {},
   "source": [
    "Similarly we can also show that (using product rule for differentiating reals)"
   ]
  },
  {
   "cell_type": "markdown",
   "metadata": {},
   "source": [
    "$$\n",
    "\\frac{d}{dt}(\\boldsymbol{a}\\boldsymbol{b})=\\boldsymbol{a}\\frac{d\\boldsymbol{b}}{dt}+\\boldsymbol{b}\\frac{d\\boldsymbol{a}}{dt}.\n",
    "$$"
   ]
  },
  {
   "cell_type": "markdown",
   "metadata": {},
   "source": [
    "We can repeat these operations for the cross products and show that they are distribuitive"
   ]
  },
  {
   "cell_type": "markdown",
   "metadata": {},
   "source": [
    "$$\n",
    "\\boldsymbol{a}\\times(\\boldsymbol{b}+\\boldsymbol{c})=\\boldsymbol{a}\\times\\boldsymbol{b}+\\boldsymbol{a}\\times\\boldsymbol{c}.\n",
    "$$"
   ]
  },
  {
   "cell_type": "markdown",
   "metadata": {},
   "source": [
    "We have also that"
   ]
  },
  {
   "cell_type": "markdown",
   "metadata": {},
   "source": [
    "$$\n",
    "\\frac{d}{dt}(\\boldsymbol{a}\\times\\boldsymbol{b})=\\boldsymbol{a}\\times\\frac{d\\boldsymbol{b}}{dt}+\\boldsymbol{b}\\times\\frac{d\\boldsymbol{a}}{dt}.\n",
    "$$"
   ]
  },
  {
   "cell_type": "markdown",
   "metadata": {},
   "source": [
    "### Gauss's Theorem\n",
    "\n",
    "For an integral over a volume $V$ confined by a surface $S$, Gauss's theorem gives"
   ]
  },
  {
   "cell_type": "markdown",
   "metadata": {},
   "source": [
    "$$\n",
    "\\int_V dv~\\nabla\\cdot\\boldsymbol{A}=\\int_Sd\\boldsymbol{S}\\cdot\\boldsymbol{A}.\n",
    "$$"
   ]
  },
  {
   "cell_type": "markdown",
   "metadata": {},
   "source": [
    "For a closed path $C$ which carves out some area $S$,"
   ]
  },
  {
   "cell_type": "markdown",
   "metadata": {},
   "source": [
    "$$\n",
    "\\int_C d\\boldsymbol{\\ell}\\cdot\\boldsymbol{A}=\\int_Sd\\boldsymbol{s} \\cdot(\\nabla\\times\\boldsymbol{A})\n",
    "$$"
   ]
  },
  {
   "cell_type": "markdown",
   "metadata": {},
   "source": [
    "### and Stokes's Theorem\n",
    "\n",
    "Stoke's law can be understood by considering a small rectangle,\n",
    "$-\\Delta x<x<\\Delta x$, $-\\Delta y<y<\\Delta y$. The path integral\n",
    "around the edges is"
   ]
  },
  {
   "cell_type": "markdown",
   "metadata": {},
   "source": [
    "$$\n",
    "\\begin{eqnarray}\n",
    "\\int_C d\\boldsymbol{\\ell}\\cdot\\boldsymbol{A}&=&2\\Delta y[A_y(\\Delta x,0)-A_y(-\\Delta x,0)]-2\\Delta x[A_x(0,\\Delta y)-A_x(0,-\\Delta y)]\\\\\n",
    "\\nonumber\n",
    "&=&4\\Delta x\\Delta y\\left\\{\n",
    "\\frac{A_y(\\Delta x,0)-A_y(-\\Delta x,0)}{2\\Delta x}-\\frac{A_x(0,\\Delta y)-A_x(0,-\\Delta y)}{2\\Delta y}\\right\\}\\\\\n",
    "\\nonumber\n",
    "&=&4\\Delta x\\Delta y\\left\\{\\frac{\\partial A_y}{\\partial x}-\\frac{\\partial A_x}{\\partial y}\\right\\}\\\\\n",
    "&=&\\Delta S \\cdot \\nabla\\times\\boldsymbol{A}.\n",
    "\\end{eqnarray}\n",
    "$$"
   ]
  },
  {
   "cell_type": "markdown",
   "metadata": {},
   "source": [
    "Here $\\Delta S$ is the area of the surface element.\n",
    "\n",
    "\n",
    "\n",
    "\n",
    "## Basic Matrix Features\n",
    "\n",
    "**Note**: The material on matrices is optional and will not be used much\n",
    "(except for illustrations at the very end on garmonic oscillations)\n",
    "since most of you have not yet taken a course on linear algebra. The\n",
    "material is however included here for the sake of completeness."
   ]
  },
  {
   "cell_type": "markdown",
   "metadata": {},
   "source": [
    "$$\n",
    "\\mathbf{A} =\n",
    "      \\begin{bmatrix} a_{11} & a_{12} & a_{13} & a_{14} \\\\\n",
    "                                 a_{21} & a_{22} & a_{23} & a_{24} \\\\\n",
    "                                   a_{31} & a_{32} & a_{33} & a_{34} \\\\\n",
    "                                  a_{41} & a_{42} & a_{43} & a_{44}\n",
    "             \\end{bmatrix}\\qquad\n",
    "\\mathbf{I} =\n",
    "      \\begin{bmatrix} 1 & 0 & 0 & 0 \\\\\n",
    "                                 0 & 1 & 0 & 0 \\\\\n",
    "                                 0 & 0 & 1 & 0 \\\\\n",
    "                                 0 & 0 & 0 & 1\n",
    "             \\end{bmatrix}\n",
    "$$"
   ]
  },
  {
   "cell_type": "markdown",
   "metadata": {},
   "source": [
    "The inverse of a matrix is defined by"
   ]
  },
  {
   "cell_type": "markdown",
   "metadata": {},
   "source": [
    "$$\n",
    "\\mathbf{A}^{-1} \\cdot \\mathbf{A} = I\n",
    "$$"
   ]
  },
  {
   "cell_type": "markdown",
   "metadata": {},
   "source": [
    "<table border=\"1\">\n",
    "<thead>\n",
    "<tr><th align=\"center\">              Relations               </th> <th align=\"center\">      Name     </th> <th align=\"center\">                            matrix elements                            </th> </tr>\n",
    "</thead>\n",
    "<tbody>\n",
    "<tr><td align=\"center\">   $A = A^{T}$                               </td> <td align=\"center\">   symmetric          </td> <td align=\"center\">   $a_{ij} = a_{ji}$                                                          </td> </tr>\n",
    "<tr><td align=\"center\">   $A = \\left (A^{T} \\right )^{-1}$          </td> <td align=\"center\">   real orthogonal    </td> <td align=\"center\">   $\\sum_k a_{ik} a_{jk} = \\sum_k a_{ki} a_{kj} = \\delta_{ij}$                </td> </tr>\n",
    "<tr><td align=\"center\">   $A = A^{ * }$                             </td> <td align=\"center\">   real matrix        </td> <td align=\"center\">   $a_{ij} = a_{ij}^{ * }$                                                    </td> </tr>\n",
    "<tr><td align=\"center\">   $A = A^{\\dagger}$                         </td> <td align=\"center\">   hermitian          </td> <td align=\"center\">   $a_{ij} = a_{ji}^{ * }$                                                    </td> </tr>\n",
    "<tr><td align=\"center\">   $A = \\left (A^{\\dagger} \\right )^{-1}$    </td> <td align=\"center\">   unitary            </td> <td align=\"center\">   $\\sum_k a_{ik} a_{jk}^{ * } = \\sum_k a_{ki}^{ * } a_{kj} = \\delta_{ij}$    </td> </tr>\n",
    "</tbody>\n",
    "</table>\n",
    "\n",
    "\n",
    "### Some famous Matrices\n",
    "\n",
    "  * Diagonal if $a_{ij}=0$ for $i\\ne j$\n",
    "\n",
    "  * Upper triangular if $a_{ij}=0$ for $i > j$\n",
    "\n",
    "  * Lower triangular if $a_{ij}=0$ for $i < j$\n",
    "\n",
    "  * Upper Hessenberg if $a_{ij}=0$ for $i > j+1$\n",
    "\n",
    "  * Lower Hessenberg if $a_{ij}=0$ for $i < j+1$\n",
    "\n",
    "  * Tridiagonal if $a_{ij}=0$ for $|i -j| > 1$\n",
    "\n",
    "  * Lower banded with bandwidth $p$: $a_{ij}=0$ for $i > j+p$\n",
    "\n",
    "  * Upper banded with bandwidth $p$: $a_{ij}=0$ for $i < j+p$\n",
    "\n",
    "  * Banded, block upper triangular, block lower triangular....\n",
    "\n",
    "For an $N\\times N$ matrix  $\\mathbf{A}$ the following properties are all equivalent\n",
    "\n",
    "  * If the inverse of $\\mathbf{A}$ exists, $\\mathbf{A}$ is nonsingular.\n",
    "\n",
    "  * The equation $\\mathbf{Ax}=0$ implies $\\mathbf{x}=0$.\n",
    "\n",
    "  * The rows of $\\mathbf{A}$ form a basis of $R^N$.\n",
    "\n",
    "  * The columns of $\\mathbf{A}$ form a basis of $R^N$.\n",
    "\n",
    "  * $\\mathbf{A}$ is a product of elementary matrices.\n",
    "\n",
    "  * $0$ is not eigenvalue of $\\mathbf{A}$.\n",
    "\n",
    "## Rotations\n",
    "\n",
    "\n",
    "Here, we use rotations as an example of matrices and their operations. One can consider a different orthonormal basis $\\hat{e}'_1$, $\\hat{e}'_2$ and $\\hat{e}'_3$. The same vector $\\boldsymbol{r}$ mentioned above can also be expressed in the new basis,"
   ]
  },
  {
   "cell_type": "markdown",
   "metadata": {},
   "source": [
    "<!-- Equation labels as ordinary links -->\n",
    "<div id=\"_auto3\"></div>\n",
    "\n",
    "$$\n",
    "\\begin{equation}\n",
    "\\boldsymbol{r}=r'_1\\hat{e}'_1+r'_2\\hat{e}'_2+r'_3\\hat{e}'_3.\n",
    "\\label{_auto3} \\tag{3}\n",
    "\\end{equation}\n",
    "$$"
   ]
  },
  {
   "cell_type": "markdown",
   "metadata": {},
   "source": [
    "Even though it is the same vector, the components have changed. Each\n",
    "new unit vector $\\hat{e}'_i$ can be expressed as a linear sum of the\n",
    "previous vectors,"
   ]
  },
  {
   "cell_type": "markdown",
   "metadata": {},
   "source": [
    "<!-- Equation labels as ordinary links -->\n",
    "<div id=\"_auto4\"></div>\n",
    "\n",
    "$$\n",
    "\\begin{equation}\n",
    "\\hat{e}'_i=\\sum_j U_{ij}\\hat{e}_j,\n",
    "\\label{_auto4} \\tag{4}\n",
    "\\end{equation}\n",
    "$$"
   ]
  },
  {
   "cell_type": "markdown",
   "metadata": {},
   "source": [
    "and the matrix $U$ can be found by taking the dot product of both sides with $\\hat{e}_k$,"
   ]
  },
  {
   "cell_type": "markdown",
   "metadata": {},
   "source": [
    "<!-- Equation labels as ordinary links -->\n",
    "<div id=\"eq:lambda_angles\"></div>\n",
    "\n",
    "$$\n",
    "\\begin{eqnarray}\n",
    "\\nonumber\n",
    "\\hat{e}_k\\cdot\\hat{e}'_i&=&\\sum_jU_{ij}\\hat{e}_k\\cdot\\hat{e}_j\\\\\n",
    "\\label{eq:lambda_angles} \\tag{5}\n",
    "\\hat{e}_k\\cdot\\hat{e}'_i&=&\\sum_jU_{ij}\\delta_{jk}=U_{ik}.\n",
    "\\end{eqnarray}\n",
    "$$"
   ]
  },
  {
   "cell_type": "markdown",
   "metadata": {},
   "source": [
    "Thus, the matrix lambda has components $U_{ij}$ that are equal to the\n",
    "cosine of the angle between new unit vector $\\hat{e}'_i$ and the old\n",
    "unit vector $\\hat{e}_j$."
   ]
  },
  {
   "cell_type": "markdown",
   "metadata": {},
   "source": [
    "<!-- Equation labels as ordinary links -->\n",
    "<div id=\"_auto5\"></div>\n",
    "\n",
    "$$\n",
    "\\begin{equation}\n",
    "U = \\begin{bmatrix}\n",
    "\\hat{e}'_1\\cdot\\hat{e}_1& \\hat{e}'_1\\cdot\\hat{e}_2& \\hat{e}'_1\\cdot\\hat{e}_3\\\\\n",
    "\\hat{e}'_2\\cdot\\hat{e}_1& \\hat{e}'_2\\cdot\\hat{e}_2& \\hat{e}'_2\\cdot\\hat{e}_3\\\\\n",
    "\\hat{e}'_3\\cdot\\hat{e}_1& \\hat{e}'_3\\cdot\\hat{e}_2& \\hat{e}'_3\\cdot\\hat{e}_3\n",
    "\\end{bmatrix},~~~~~U_{ij}=\\hat{e}'_i\\cdot\\hat{e}_j=\\cos\\theta_{ij}.\n",
    "\\label{_auto5} \\tag{6}\n",
    "\\end{equation}\n",
    "$$"
   ]
  },
  {
   "cell_type": "markdown",
   "metadata": {},
   "source": [
    "Note that the matrix is not symmetric, $U_{ij}\\ne U_{ji}$. One can also look at the inverse transformation, by switching the primed and unprimed coordinates,"
   ]
  },
  {
   "cell_type": "markdown",
   "metadata": {},
   "source": [
    "<!-- Equation labels as ordinary links -->\n",
    "<div id=\"eq:inverseU\"></div>\n",
    "\n",
    "$$\n",
    "\\begin{eqnarray}\n",
    "\\label{eq:inverseU} \\tag{7}\n",
    "\\hat{e}_i&=&\\sum_jU^{-1}_{ij}\\hat{e}'_j,\\\\\n",
    "\\nonumber\n",
    "U^{-1}_{ij}&=&\\hat{e}_i\\cdot\\hat{e}'_j=U_{ji}.\n",
    "\\end{eqnarray}\n",
    "$$"
   ]
  },
  {
   "cell_type": "markdown",
   "metadata": {},
   "source": [
    "The definition of transpose of a matrix, $M^{t}_{ij}=M_{ji}$, allows one to state this as"
   ]
  },
  {
   "cell_type": "markdown",
   "metadata": {},
   "source": [
    "<!-- Equation labels as ordinary links -->\n",
    "<div id=\"eq:transposedef\"></div>\n",
    "\n",
    "$$\n",
    "\\begin{eqnarray}\n",
    "\\label{eq:transposedef} \\tag{8}\n",
    "U^{-1}&=&U^{t}.\n",
    "\\end{eqnarray}\n",
    "$$"
   ]
  },
  {
   "cell_type": "markdown",
   "metadata": {},
   "source": [
    "### Tensors\n",
    "\n",
    "A tensor obeying Eq. ([8](#eq:transposedef)) defines what is known as\n",
    "a unitary, or orthogonal, transformation.\n",
    "\n",
    "The matrix $U$ can be used to transform any vector to the new basis. Consider a vector"
   ]
  },
  {
   "cell_type": "markdown",
   "metadata": {},
   "source": [
    "$$\n",
    "\\begin{eqnarray}\n",
    "\\boldsymbol{r}&=&r_1\\hat{e}_1+r_2\\hat{e}_2+r_3\\hat{e}_3\\\\\n",
    "\\nonumber\n",
    "&=&r'_1\\hat{e}'_1+r'_2\\hat{e}'_2+r'_3\\hat{e}'_3.\n",
    "\\end{eqnarray}\n",
    "$$"
   ]
  },
  {
   "cell_type": "markdown",
   "metadata": {},
   "source": [
    "This is the same vector expressed as a sum over two different sets of\n",
    "basis vectors. The coefficients $r_i$ and $r'_i$ represent components\n",
    "of the same vector. The relation between them can be found by taking\n",
    "the dot product of each side with one of the unit vectors,\n",
    "$\\hat{e}_i$, which gives"
   ]
  },
  {
   "cell_type": "markdown",
   "metadata": {},
   "source": [
    "$$\n",
    "\\begin{eqnarray}\n",
    "r_i&=&\\sum_j \\hat{e}_i\\cdot\\hat{e}'_j~r'_j.\n",
    "\\end{eqnarray}\n",
    "$$"
   ]
  },
  {
   "cell_type": "markdown",
   "metadata": {},
   "source": [
    "Using Eq. ([7](#eq:inverseU)) one can see that the transformation of $r$ can be also written in terms of $U$,"
   ]
  },
  {
   "cell_type": "markdown",
   "metadata": {},
   "source": [
    "<!-- Equation labels as ordinary links -->\n",
    "<div id=\"eq:rotateR\"></div>\n",
    "\n",
    "$$\n",
    "\\begin{eqnarray}\n",
    "\\label{eq:rotateR} \\tag{9}\n",
    "r_i&=&\\sum_jU^{-1}_{ij}~r'_j.\n",
    "\\end{eqnarray}\n",
    "$$"
   ]
  },
  {
   "cell_type": "markdown",
   "metadata": {},
   "source": [
    "Thus, the matrix that transforms the coordinates of the unit vectors,\n",
    "Eq. ([7](#eq:inverseU)) is the same one that transforms the\n",
    "coordinates of a vector, Eq. ([9](#eq:rotateR)).\n",
    "\n",
    "\n",
    "\n",
    "As a small exercise, find the rotation matrix $U$ for finding the\n",
    "components in the primed coordinate system given from those in the\n",
    "unprimed system, given that the unit vectors in the new system are\n",
    "found by rotating the coordinate system by and angle $\\phi$ about the\n",
    "$z$ axis.\n",
    "\n",
    "In this case"
   ]
  },
  {
   "cell_type": "markdown",
   "metadata": {},
   "source": [
    "$$\n",
    "\\begin{eqnarray*}\n",
    "\\hat{e}'_1&=&\\cos\\phi \\hat{e}_1-\\sin\\phi\\hat{e}_2,\\\\\n",
    "\\hat{e}'_2&=&\\sin\\phi\\hat{e}_1+\\cos\\phi\\hat{e}_2,\\\\\n",
    "\\hat{e}'_3&=&\\hat{e}_3.\n",
    "\\end{eqnarray*}\n",
    "$$"
   ]
  },
  {
   "cell_type": "markdown",
   "metadata": {},
   "source": [
    "By inspecting Eq. ([5](#eq:lambda_angles)), we get"
   ]
  },
  {
   "cell_type": "markdown",
   "metadata": {},
   "source": [
    "$$\n",
    "U=\\left(\\begin{array}{ccc}\n",
    "\\cos\\phi&-\\sin\\phi&0\\\\\n",
    "\\sin\\phi&\\cos\\phi&0\\\\\n",
    "0&0&1\\end{array}\\right).\n",
    "$$"
   ]
  },
  {
   "cell_type": "markdown",
   "metadata": {},
   "source": [
    "Under a unitary transformation $U$ (or basis transformation) scalars\n",
    "are unchanged, whereas vectors $\\boldsymbol{r}$ and matrices $M$ change as"
   ]
  },
  {
   "cell_type": "markdown",
   "metadata": {},
   "source": [
    "$$\n",
    "\\begin{eqnarray}\n",
    "r'_i&=&U_{ij}~ r_j, ~~({\\rm sum~inferred})\\\\\n",
    "\\nonumber\n",
    "M'_{ij}&=&U_{ik}M_{km}U^{-1}_{mj}.\n",
    "\\end{eqnarray}\n",
    "$$"
   ]
  },
  {
   "cell_type": "markdown",
   "metadata": {},
   "source": [
    "Physical quantities with no spatial indices are scalars (or\n",
    "pseudoscalars if they depend on right-handed vs. left-handed\n",
    "coordinate systems), and are unchanged by unitary\n",
    "transformations. This includes quantities like the trace of a matrix,\n",
    "the matrix itself had indices but none remain after performing the\n",
    "trace."
   ]
  },
  {
   "cell_type": "markdown",
   "metadata": {},
   "source": [
    "$$\n",
    "\\begin{eqnarray}\n",
    "{\\rm Tr} M&\\equiv& M_{ii}.\n",
    "\\end{eqnarray}\n",
    "$$"
   ]
  },
  {
   "cell_type": "markdown",
   "metadata": {},
   "source": [
    "Because there are no remaining indices, one expects it to be a scalar. Indeed one can see this,"
   ]
  },
  {
   "cell_type": "markdown",
   "metadata": {},
   "source": [
    "$$\n",
    "\\begin{eqnarray}\n",
    "{\\rm Tr} M'&=&U_{ij}M_{jm}U^{-1}_{mi}\\\\\n",
    "\\nonumber\n",
    "&=&M_{jm}U^{-1}_{mi}U_{ij}\\\\\n",
    "\\nonumber\n",
    "&=&M_{jm}\\delta_{mj}\\\\\n",
    "\\nonumber\n",
    "&=&M_{jj}={\\rm Tr} M.\n",
    "\\end{eqnarray}\n",
    "$$"
   ]
  },
  {
   "cell_type": "markdown",
   "metadata": {},
   "source": [
    "A similar example is the determinant of a matrix, which is also a scalar.\n",
    "\n",
    "\n",
    "\n",
    "\n",
    "## Numerical Elements\n",
    "\n",
    "Numerical algorithms call for approximate discrete models and much of\n",
    "the development of methods for continuous models are nowadays being\n",
    "replaced by methods for discrete models in science and industry,\n",
    "simply because **much larger classes of problems can be addressed** with\n",
    "discrete models, often by simpler and more generic methodologies.\n",
    "\n",
    "As we will see throughout this course, when properly scaling the equations at hand,\n",
    "discrete models open up for more advanced abstractions and the possibility to\n",
    "study  real life systems, with the added bonus that we can explore and\n",
    "deepen our basic understanding of various physical systems\n",
    "\n",
    "Analytical solutions are as important as before. In addition, such\n",
    "solutions provide us with invaluable benchmarks and tests for our\n",
    "discrete models. Such benchmarks, as we will see below, allow us \n",
    "to discuss possible sources of errors and their behaviors.  And\n",
    "finally, since most of our models are based on various algorithms from\n",
    "numerical mathematics, we have a unique oppotunity to gain a deeper\n",
    "understanding of the mathematical approaches we are using.\n",
    "\n",
    "\n",
    "\n",
    "With computing and data science as important elements in essentially\n",
    "all aspects of a modern society, we could  then try to define Computing as\n",
    "**solving scientific problems using all possible tools, including\n",
    "symbolic computing, computers and numerical algorithms, and analytical\n",
    "paper and pencil solutions**. \n",
    "Computing provides us with the tools to develope our own understanding of the scientific method by enhancing algorithmic thinking.\n",
    "\n",
    "\n",
    "\n",
    "The way we will teach this course reflects this definition of\n",
    "computing. The course contains both classical paper and pencil\n",
    "exercises as well as computational projects and exercises. The hope is\n",
    "that this will allow you to explore the physics of systems governed by\n",
    "the degrees of freedom of classical mechanics at a deeper level, and\n",
    "that these insights about the scientific method will help you to\n",
    "develop a better understanding of how the underlying forces and\n",
    "equations of motion and how they impact a given system.\n",
    "\n",
    "Furthermore,\n",
    "by introducing various numerical methods via computational projects\n",
    "and exercises, we aim at developing your competences and skills about\n",
    "these topics.\n",
    "\n",
    "\n",
    "\n",
    "\n",
    "These competences will enable you to\n",
    "\n",
    "* understand how algorithms are used to solve mathematical problems,\n",
    "\n",
    "* derive, verify, and implement algorithms,\n",
    "\n",
    "* understand what can go wrong with algorithms,\n",
    "\n",
    "* use these algorithms to construct reproducible scientific outcomes and to engage in science in ethical ways, and\n",
    "\n",
    "* think algorithmically for the purposes of gaining deeper insights about scientific problems.\n",
    "\n",
    "All these elements are central for maturing and gaining a better understanding of the modern scientific process *per se*.\n",
    "\n",
    "The power of the scientific method lies in identifying a given problem\n",
    "as a special case of an abstract class of problems, identifying\n",
    "general solution methods for this class of problems, and applying a\n",
    "general method to the specific problem (applying means, in the case of\n",
    "computing, calculations by pen and paper, symbolic computing, or\n",
    "numerical computing by ready-made and/or self-written software). This\n",
    "generic view on problems and methods is particularly important for\n",
    "understanding how to apply available, generic software to solve a\n",
    "particular problem.\n",
    "\n",
    "*However, verification of algorithms and understanding their limitations requires much of the classical knowledge about continuous models.*\n",
    "\n",
    "\n",
    "\n",
    "## A well-known example to illustrate many of the above concepts\n",
    "\n",
    "Before we venture into a reminder on Python and mechanics relevant applications, let us briefly outline some of the\n",
    "abovementioned topics using an example many of you may have seen before in for example CMSE201. \n",
    "A simple algorithm for integration is the Trapezoidal rule. \n",
    "Integration of a function $f(x)$ by the Trapezoidal Rule is given by following algorithm for an interval $x \\in [a,b]$"
   ]
  },
  {
   "cell_type": "markdown",
   "metadata": {},
   "source": [
    "$$\n",
    "\\int_a^b(f(x) dx = \\frac{1}{2}\\left [f(a)+2f(a+h)+\\dots+2f(b-h)+f(b)\\right] +O(h^2),\n",
    "$$"
   ]
  },
  {
   "cell_type": "markdown",
   "metadata": {},
   "source": [
    "where $h$ is the so-called stepsize defined by the number of integration points $N$ as $h=(b-a)/(n)$.\n",
    "Python offers an  extremely versatile programming  environment, allowing for\n",
    "the inclusion of analytical studies in a numerical program. Here we show an\n",
    "example code with the **trapezoidal rule**. We use also **SymPy** to evaluate the exact value of the integral and compute the absolute error\n",
    "with respect to the numerically evaluated one of the integral\n",
    "$\\int_0^1 dx x^2 = 1/3$.\n",
    "The following code for  the trapezoidal rule allows you  to plot the relative error by comparing with the exact result. By increasing to $10^8$ points one arrives at a region where numerical errors start to accumulate."
   ]
  },
  {
   "cell_type": "code",
   "execution_count": 2,
   "metadata": {
    "collapsed": false,
    "editable": true
   },
   "outputs": [
    {
     "data": {
      "image/png": "[encoded data removed]",
      "text/plain": [
       "<Figure size 432x288 with 1 Axes>"
      ]
     },
     "metadata": {
      "filenames": {
       "image/png": "/Users/mhjensen/Teaching/Physics321/doc/LectureNotes/_build/jupyter_execute/chapter2_113_0.png"
      },
      "needs_background": "light"
     },
     "output_type": "display_data"
    }
   ],
   "source": [
    "%matplotlib inline\n",
    "\n",
    "from math import log10\n",
    "import numpy as np\n",
    "from sympy import Symbol, integrate\n",
    "import matplotlib.pyplot as plt\n",
    "# function for the trapezoidal rule\n",
    "def Trapez(a,b,f,n):\n",
    "   h = (b-a)/float(n)\n",
    "   s = 0\n",
    "   x = a\n",
    "   for i in range(1,n,1):\n",
    "       x = x+h\n",
    "       s = s+ f(x)\n",
    "   s = 0.5*(f(a)+f(b)) +s\n",
    "   return h*s\n",
    "#  function to compute pi\n",
    "def function(x):\n",
    "    return x*x\n",
    "# define integration limits\n",
    "a = 0.0;  b = 1.0;\n",
    "# find result from sympy\n",
    "# define x as a symbol to be used by sympy\n",
    "x = Symbol('x')\n",
    "exact = integrate(function(x), (x, a, b))\n",
    "# set up the arrays for plotting the relative error\n",
    "n = np.zeros(9); y = np.zeros(9);\n",
    "# find the relative error as function of integration points\n",
    "for i in range(1, 8, 1):\n",
    "    npts = 10**i\n",
    "    result = Trapez(a,b,function,npts)\n",
    "    RelativeError = abs((exact-result)/exact)\n",
    "    n[i] = log10(npts); y[i] = log10(RelativeError);\n",
    "plt.plot(n,y, 'ro')\n",
    "plt.xlabel('n')\n",
    "plt.ylabel('Relative error')\n",
    "plt.show()"
   ]
  },
  {
   "cell_type": "markdown",
   "metadata": {},
   "source": [
    "### Analyzing the above example\n",
    "\n",
    "This example shows the potential of combining numerical algorithms\n",
    "with symbolic calculations, allowing us to\n",
    "\n",
    "* Validate and verify  their  algorithms. \n",
    "\n",
    "* Including concepts like unit testing, one has the possibility to test and test several or all parts of the code.\n",
    "\n",
    "* Validation and verification are then included *naturally* and one can develop a better attitude to what is meant with an ethically sound scientific approach.\n",
    "\n",
    "* The above example allows the student to also test the mathematical error of the algorithm for the trapezoidal rule by changing the number of integration points. The students get **trained from day one to think error analysis**. \n",
    "\n",
    "* With a Jupyter notebook you can keep exploring similar examples and turn them in as your own notebooks. \n",
    "\n",
    "## Python practicalities, Software and needed installations\n",
    "\n",
    "We will make extensive use of Python as programming language and its\n",
    "myriad of available libraries.  You will find\n",
    "Jupyter notebooks invaluable in your work.  \n",
    "\n",
    "If you have Python installed (we strongly recommend Python3) and you feel\n",
    "pretty familiar with installing different packages, we recommend that\n",
    "you install the following Python packages via **pip** as \n",
    "\n",
    "1. pip install numpy scipy matplotlib ipython scikit-learn mglearn sympy pandas pillow \n",
    "\n",
    "For Python3, replace **pip** with **pip3**.\n",
    "\n",
    "For OSX users we recommend, after having installed Xcode, to\n",
    "install **brew**. Brew allows for a seamless installation of additional\n",
    "software via for example \n",
    "\n",
    "1. brew install python3\n",
    "\n",
    "For Linux users, with its variety of distributions like for example the widely popular Ubuntu distribution,\n",
    "you can use **pip** as well and simply install Python as \n",
    "\n",
    "1. sudo apt-get install python3  (or python for pyhton2.7)\n",
    "\n",
    "etc etc. \n",
    "\n",
    "\n",
    "\n",
    "### Python installers\n",
    "\n",
    "If you don't want to perform these operations separately and venture\n",
    "into the hassle of exploring how to set up dependencies and paths, we\n",
    "recommend two widely used distrubutions which set up all relevant\n",
    "dependencies for Python, namely \n",
    "\n",
    "* [Anaconda](https://docs.anaconda.com/), \n",
    "\n",
    "which is an open source\n",
    "distribution of the Python and R programming languages for large-scale\n",
    "data processing, predictive analytics, and scientific computing, that\n",
    "aims to simplify package management and deployment. Package versions\n",
    "are managed by the package management system **conda**. \n",
    "\n",
    "* [Enthought canopy](https://www.enthought.com/product/canopy/) \n",
    "\n",
    "is a Python\n",
    "distribution for scientific and analytic computing distribution and\n",
    "analysis environment, available for free and under a commercial\n",
    "license.\n",
    "\n",
    "Furthermore, [Google's Colab](https://colab.research.google.com/notebooks/welcome.ipynb) is a free Jupyter notebook environment that requires \n",
    "no setup and runs entirely in the cloud. Try it out!\n",
    "\n",
    "\n",
    "## Useful Python libraries\n",
    "\n",
    "Here we list several useful Python libraries we strongly recommend (if you use anaconda many of these are already there)\n",
    "\n",
    "* [NumPy](https://www.numpy.org/) is a highly popular library for large, multi-dimensional arrays and matrices, along with a large collection of high-level mathematical functions to operate on these arrays\n",
    "\n",
    "* [The pandas](https://pandas.pydata.org/) library provides high-performance, easy-to-use data structures and data analysis tools \n",
    "\n",
    "* [Xarray](http://xarray.pydata.org/en/stable/) is a Python package that makes working with labelled multi-dimensional arrays simple, efficient, and fun!\n",
    "\n",
    "* [Scipy](https://www.scipy.org/) (pronounced “Sigh Pie”) is a Python-based ecosystem of open-source software for mathematics, science, and engineering. \n",
    "\n",
    "* [Matplotlib](https://matplotlib.org/) is a Python 2D plotting library which produces publication quality figures in a variety of hardcopy formats and interactive environments across platforms.\n",
    "\n",
    "* [Autograd](https://github.com/HIPS/autograd) can automatically differentiate native Python and Numpy code. It can handle a large subset of Python's features, including loops, ifs, recursion and closures, and it can even take derivatives of derivatives of derivatives\n",
    "\n",
    "* [SymPy](https://www.sympy.org/en/index.html) is a Python library for symbolic mathematics. \n",
    "\n",
    "* [scikit-learn](https://scikit-learn.org/stable/) has simple and efficient tools for machine learning, data mining and data analysis\n",
    "\n",
    "* [TensorFlow](https://www.tensorflow.org/) is a Python library for fast numerical computing created and released by Google\n",
    "\n",
    "* [Keras](https://keras.io/) is a high-level neural networks API, written in Python and capable of running on top of TensorFlow, CNTK, or Theano\n",
    "\n",
    "* And many more such as [pytorch](https://pytorch.org/),  [Theano](https://pypi.org/project/Theano/) etc \n",
    "\n",
    "Your jupyter notebook can easily be\n",
    "converted into a nicely rendered **PDF** file or a Latex file for\n",
    "further processing. For example, convert to latex as"
   ]
  },
  {
   "cell_type": "markdown",
   "metadata": {},
   "source": [
    "        pycod jupyter nbconvert filename.ipynb --to latex \n"
   ]
  },
  {
   "cell_type": "markdown",
   "metadata": {},
   "source": [
    "And to add more versatility, the Python package [SymPy](http://www.sympy.org/en/index.html) is a Python library for symbolic mathematics. It aims to become a full-featured computer algebra system (CAS)  and is entirely written in Python. \n",
    "\n",
    "\n",
    "\n",
    "## Numpy examples and Important Matrix and vector handling packages\n",
    "\n",
    "There are several central software libraries for linear algebra and eigenvalue problems. Several of the more\n",
    "popular ones have been wrapped into ofter software packages like those from the widely used text **Numerical Recipes**. The original source codes in many of the available packages are often taken from the widely used\n",
    "software package LAPACK, which follows two other popular packages\n",
    "developed in the 1970s, namely EISPACK and LINPACK.  We describe them shortly here.\n",
    "\n",
    "  * LINPACK: package for linear equations and least square problems.\n",
    "\n",
    "  * LAPACK:package for solving symmetric, unsymmetric and generalized eigenvalue problems. From LAPACK's website <http://www.netlib.org> it is possible to download for free all source codes from this library. Both C/C++ and Fortran versions are available.\n",
    "\n",
    "  * BLAS (I, II and III): (Basic Linear Algebra Subprograms) are routines that provide standard building blocks for performing basic vector and matrix operations. Blas I is vector operations, II vector-matrix operations and III matrix-matrix operations. Highly parallelized and efficient codes, all available for download from <http://www.netlib.org>.\n",
    "\n",
    "[Numpy](http://www.numpy.org/) provides an easy way to handle arrays in Python. The standard way to import this library is as"
   ]
  },
  {
   "cell_type": "code",
   "execution_count": 3,
   "metadata": {
    "collapsed": false,
    "editable": true
   },
   "outputs": [],
   "source": [
    "import numpy as np"
   ]
  },
  {
   "cell_type": "markdown",
   "metadata": {},
   "source": [
    "Here follows a simple example where we set up an array of ten elements, all determined by random numbers drawn according to the normal distribution,"
   ]
  },
  {
   "cell_type": "code",
   "execution_count": 4,
   "metadata": {
    "collapsed": false,
    "editable": true
   },
   "outputs": [
    {
     "name": "stdout",
     "output_type": "stream",
     "text": [
      "[-0.39136268  0.43369072  1.29821087 -2.15002768  0.22338783 -0.69106619\n",
      " -1.5886513  -1.61323891  1.7202605  -0.88922515]\n"
     ]
    }
   ],
   "source": [
    "n = 10\n",
    "x = np.random.normal(size=n)\n",
    "print(x)"
   ]
  },
  {
   "cell_type": "markdown",
   "metadata": {},
   "source": [
    "We defined a vector $x$ with $n=10$ elements with its values given by the Normal distribution $N(0,1)$.\n",
    "Another alternative is to declare a vector as follows"
   ]
  },
  {
   "cell_type": "code",
   "execution_count": 5,
   "metadata": {
    "collapsed": false,
    "editable": true
   },
   "outputs": [
    {
     "name": "stdout",
     "output_type": "stream",
     "text": [
      "[1 2 3]\n"
     ]
    }
   ],
   "source": [
    "import numpy as np\n",
    "x = np.array([1, 2, 3])\n",
    "print(x)"
   ]
  },
  {
   "cell_type": "markdown",
   "metadata": {},
   "source": [
    "Here we have defined a vector with three elements, with $x_0=1$, $x_1=2$ and $x_2=3$. Note that both Python and C++\n",
    "start numbering array elements from $0$ and on. This means that a vector with $n$ elements has a sequence of entities $x_0, x_1, x_2, \\dots, x_{n-1}$. We could also let (recommended) Numpy to compute the logarithms of a specific array as"
   ]
  },
  {
   "cell_type": "code",
   "execution_count": 6,
   "metadata": {
    "collapsed": false,
    "editable": true
   },
   "outputs": [
    {
     "name": "stdout",
     "output_type": "stream",
     "text": [
      "[1.38629436 1.94591015 2.07944154]\n"
     ]
    }
   ],
   "source": [
    "import numpy as np\n",
    "x = np.log(np.array([4, 7, 8]))\n",
    "print(x)"
   ]
  },
  {
   "cell_type": "markdown",
   "metadata": {},
   "source": [
    "In the last example we used Numpy's unary function $np.log$. This function is\n",
    "highly tuned to compute array elements since the code is vectorized\n",
    "and does not require looping. We normaly recommend that you use the\n",
    "Numpy intrinsic functions instead of the corresponding **log** function\n",
    "from Python's **math** module. The looping is done explicitely by the\n",
    "**np.log** function. The alternative, and slower way to compute the\n",
    "logarithms of a vector would be to write"
   ]
  },
  {
   "cell_type": "code",
   "execution_count": 7,
   "metadata": {
    "collapsed": false,
    "editable": true
   },
   "outputs": [
    {
     "name": "stdout",
     "output_type": "stream",
     "text": [
      "[1 1 2]\n"
     ]
    }
   ],
   "source": [
    "import numpy as np\n",
    "from math import log\n",
    "x = np.array([4, 7, 8])\n",
    "for i in range(0, len(x)):\n",
    "    x[i] = log(x[i])\n",
    "print(x)"
   ]
  },
  {
   "cell_type": "markdown",
   "metadata": {},
   "source": [
    "We note that our code is much longer already and we need to import the **log** function from the **math** module. \n",
    "The attentive reader will also notice that the output is $[1, 1, 2]$. Python interprets automagically our numbers as integers (like the **automatic** keyword in C++). To change this we could define our array elements to be double precision numbers as"
   ]
  },
  {
   "cell_type": "code",
   "execution_count": 8,
   "metadata": {
    "collapsed": false,
    "editable": true
   },
   "outputs": [
    {
     "name": "stdout",
     "output_type": "stream",
     "text": [
      "[1.38629436 1.94591015 2.07944154]\n"
     ]
    }
   ],
   "source": [
    "import numpy as np\n",
    "x = np.log(np.array([4, 7, 8], dtype = np.float64))\n",
    "print(x)"
   ]
  },
  {
   "cell_type": "markdown",
   "metadata": {},
   "source": [
    "or simply write them as double precision numbers (Python uses 64 bits as default for floating point type variables), that is"
   ]
  },
  {
   "cell_type": "code",
   "execution_count": 9,
   "metadata": {
    "collapsed": false,
    "editable": true
   },
   "outputs": [
    {
     "ename": "SyntaxError",
     "evalue": "invalid syntax (<ipython-input-9-f6d7a289d493>, line 3)",
     "output_type": "error",
     "traceback": [
      "\u001b[0;36m  File \u001b[0;32m\"<ipython-input-9-f6d7a289d493>\"\u001b[0;36m, line \u001b[0;32m3\u001b[0m\n\u001b[0;31m    print(x)\u001b[0m\n\u001b[0m    ^\u001b[0m\n\u001b[0;31mSyntaxError\u001b[0m\u001b[0;31m:\u001b[0m invalid syntax\n"
     ]
    }
   ],
   "source": [
    "import numpy as np\n",
    "x = np.log(np.array([4.0, 7.0, 8.0])\n",
    "print(x)"
   ]
  },
  {
   "cell_type": "markdown",
   "metadata": {},
   "source": [
    "To check the number of bytes (remember that one byte contains eight bits for double precision variables), you can use simple use the **itemsize** functionality (the array $x$ is actually an object which inherits the functionalities defined in Numpy) as"
   ]
  },
  {
   "cell_type": "code",
   "execution_count": null,
   "metadata": {
    "collapsed": false,
    "editable": true
   },
   "outputs": [],
   "source": [
    "import numpy as np\n",
    "x = np.log(np.array([4.0, 7.0, 8.0])\n",
    "print(x.itemsize)"
   ]
  },
  {
   "cell_type": "markdown",
   "metadata": {},
   "source": [
    "### Matrices in Python\n",
    "\n",
    "Having defined vectors, we are now ready to try out matrices. We can\n",
    "define a $3 \\times 3 $ real matrix $\\hat{A}$ as (recall that we user\n",
    "lowercase letters for vectors and uppercase letters for matrices)"
   ]
  },
  {
   "cell_type": "code",
   "execution_count": null,
   "metadata": {
    "collapsed": false,
    "editable": true
   },
   "outputs": [],
   "source": [
    "import numpy as np\n",
    "A = np.log(np.array([ [4.0, 7.0, 8.0], [3.0, 10.0, 11.0], [4.0, 5.0, 7.0] ]))\n",
    "print(A)"
   ]
  },
  {
   "cell_type": "markdown",
   "metadata": {},
   "source": [
    "If we use the **shape** function we would get $(3, 3)$ as output, that is verifying that our matrix is a $3\\times 3$ matrix. We can slice the matrix and print for example the first column (Python organized matrix elements in a row-major order, see below) as"
   ]
  },
  {
   "cell_type": "code",
   "execution_count": null,
   "metadata": {
    "collapsed": false,
    "editable": true
   },
   "outputs": [],
   "source": [
    "import numpy as np\n",
    "A = np.log(np.array([ [4.0, 7.0, 8.0], [3.0, 10.0, 11.0], [4.0, 5.0, 7.0] ]))\n",
    "# print the first column, row-major order and elements start with 0\n",
    "print(A[:,0])"
   ]
  },
  {
   "cell_type": "markdown",
   "metadata": {},
   "source": [
    "We can continue this was by printing out other columns or rows. The example here prints out the second column"
   ]
  },
  {
   "cell_type": "code",
   "execution_count": null,
   "metadata": {
    "collapsed": false,
    "editable": true
   },
   "outputs": [],
   "source": [
    "import numpy as np\n",
    "A = np.log(np.array([ [4.0, 7.0, 8.0], [3.0, 10.0, 11.0], [4.0, 5.0, 7.0] ]))\n",
    "# print the first column, row-major order and elements start with 0\n",
    "print(A[1,:])"
   ]
  },
  {
   "cell_type": "markdown",
   "metadata": {},
   "source": [
    "Numpy contains many other functionalities that allow us to slice, subdivide etc etc arrays. We strongly recommend that you look up the [Numpy website for more details](http://www.numpy.org/). Useful functions when defining a matrix are the **np.zeros** function which declares a matrix of a given dimension and sets all elements to zero"
   ]
  },
  {
   "cell_type": "code",
   "execution_count": null,
   "metadata": {
    "collapsed": false,
    "editable": true
   },
   "outputs": [],
   "source": [
    "import numpy as np\n",
    "n = 10\n",
    "# define a matrix of dimension 10 x 10 and set all elements to zero\n",
    "A = np.zeros( (n, n) )\n",
    "print(A)"
   ]
  },
  {
   "cell_type": "markdown",
   "metadata": {},
   "source": [
    "or initializing all elements to"
   ]
  },
  {
   "cell_type": "code",
   "execution_count": null,
   "metadata": {
    "collapsed": false,
    "editable": true
   },
   "outputs": [],
   "source": [
    "import numpy as np\n",
    "n = 10\n",
    "# define a matrix of dimension 10 x 10 and set all elements to one\n",
    "A = np.ones( (n, n) )\n",
    "print(A)"
   ]
  },
  {
   "cell_type": "markdown",
   "metadata": {},
   "source": [
    "or as unitarily distributed random numbers (see the material on random number generators in the statistics part)"
   ]
  },
  {
   "cell_type": "code",
   "execution_count": null,
   "metadata": {
    "collapsed": false,
    "editable": true
   },
   "outputs": [],
   "source": [
    "import numpy as np\n",
    "n = 10\n",
    "# define a matrix of dimension 10 x 10 and set all elements to random numbers with x \\in [0, 1]\n",
    "A = np.random.rand(n, n)\n",
    "print(A)"
   ]
  },
  {
   "cell_type": "markdown",
   "metadata": {},
   "source": [
    "### Meet the Pandas\n",
    "\n",
    "Another useful Python package is\n",
    "[pandas](https://pandas.pydata.org/), which is an open source library\n",
    "providing high-performance, easy-to-use data structures and data\n",
    "analysis tools for Python. **pandas** stands for panel data, a term borrowed from econometrics and is an efficient library for data analysis with an emphasis on tabular data.\n",
    "\n",
    "**pandas** has two major classes, the **DataFrame** class with\n",
    "two-dimensional data objects and tabular data organized in columns and\n",
    "the class **Series** with a focus on one-dimensional data objects. Both\n",
    "classes allow you to index data easily as we will see in the examples\n",
    "below.  **pandas** allows you also to perform mathematical operations on\n",
    "the data, spanning from simple reshapings of vectors and matrices to\n",
    "statistical operations.\n",
    "\n",
    "The following simple example shows how we can, in an easy way make\n",
    "tables of our data. Here we define a data set which includes names,\n",
    "place of birth and date of birth, and displays the data in an easy to\n",
    "read way. We will see repeated use of **pandas**, in particular in\n",
    "connection with classification of data."
   ]
  },
  {
   "cell_type": "code",
   "execution_count": null,
   "metadata": {
    "collapsed": false,
    "editable": true
   },
   "outputs": [],
   "source": [
    "import pandas as pd\n",
    "from IPython.display import display\n",
    "data = {'First Name': [\"Frodo\", \"Bilbo\", \"Aragorn II\", \"Samwise\"],\n",
    "        'Last Name': [\"Baggins\", \"Baggins\",\"Elessar\",\"Gamgee\"],\n",
    "        'Place of birth': [\"Shire\", \"Shire\", \"Eriador\", \"Shire\"],\n",
    "        'Date of Birth T.A.': [2968, 2890, 2931, 2980]\n",
    "        }\n",
    "data_pandas = pd.DataFrame(data)\n",
    "display(data_pandas)"
   ]
  },
  {
   "cell_type": "markdown",
   "metadata": {},
   "source": [
    "In the above we have imported **pandas** with the shorthand **pd**, the latter has become the standard way we import **pandas**. We make then a list of various variables\n",
    "and reorganize the above lists into a **DataFrame** and then print out  a neat table with specific column labels as *Name*, *place of birth* and *date of birth*.\n",
    "Displaying these results, we see that the indices are given by the default numbers from zero to three.\n",
    "**pandas** is extremely flexible and we can easily change the above indices by defining a new type of indexing as"
   ]
  },
  {
   "cell_type": "code",
   "execution_count": null,
   "metadata": {
    "collapsed": false,
    "editable": true
   },
   "outputs": [],
   "source": [
    "data_pandas = pd.DataFrame(data,index=['Frodo','Bilbo','Aragorn','Sam'])\n",
    "display(data_pandas)"
   ]
  },
  {
   "cell_type": "markdown",
   "metadata": {},
   "source": [
    "Thereafter we display the content of the row which begins with the index **Aragorn**"
   ]
  },
  {
   "cell_type": "code",
   "execution_count": null,
   "metadata": {
    "collapsed": false,
    "editable": true
   },
   "outputs": [],
   "source": [
    "display(data_pandas.loc['Aragorn'])"
   ]
  },
  {
   "cell_type": "markdown",
   "metadata": {},
   "source": [
    "We can easily append data to this, for example"
   ]
  },
  {
   "cell_type": "code",
   "execution_count": null,
   "metadata": {
    "collapsed": false,
    "editable": true
   },
   "outputs": [],
   "source": [
    "new_hobbit = {'First Name': [\"Peregrin\"],\n",
    "              'Last Name': [\"Took\"],\n",
    "              'Place of birth': [\"Shire\"],\n",
    "              'Date of Birth T.A.': [2990]\n",
    "              }\n",
    "data_pandas=data_pandas.append(pd.DataFrame(new_hobbit, index=['Pippin']))\n",
    "display(data_pandas)"
   ]
  },
  {
   "cell_type": "markdown",
   "metadata": {},
   "source": [
    "Here are other examples where we use the **DataFrame** functionality to handle arrays, now with more interesting features for us, namely numbers. We set up a matrix \n",
    "of dimensionality $10\\times 5$ and compute the mean value and standard deviation of each column. Similarly, we can perform mathematial operations like squaring the matrix elements and many other operations."
   ]
  },
  {
   "cell_type": "code",
   "execution_count": null,
   "metadata": {
    "collapsed": false,
    "editable": true
   },
   "outputs": [],
   "source": [
    "import numpy as np\n",
    "import pandas as pd\n",
    "from IPython.display import display\n",
    "np.random.seed(100)\n",
    "# setting up a 10 x 5 matrix\n",
    "rows = 10\n",
    "cols = 5\n",
    "a = np.random.randn(rows,cols)\n",
    "df = pd.DataFrame(a)\n",
    "display(df)\n",
    "print(df.mean())\n",
    "print(df.std())\n",
    "display(df**2)"
   ]
  },
  {
   "cell_type": "markdown",
   "metadata": {},
   "source": [
    "Thereafter we can select specific columns only and plot final results"
   ]
  },
  {
   "cell_type": "code",
   "execution_count": null,
   "metadata": {
    "collapsed": false,
    "editable": true
   },
   "outputs": [],
   "source": [
    "df.columns = ['First', 'Second', 'Third', 'Fourth', 'Fifth']\n",
    "df.index = np.arange(10)\n",
    "\n",
    "display(df)\n",
    "print(df['Second'].mean() )\n",
    "print(df.info())\n",
    "print(df.describe())\n",
    "\n",
    "from pylab import plt, mpl\n",
    "plt.style.use('seaborn')\n",
    "mpl.rcParams['font.family'] = 'serif'\n",
    "\n",
    "df.cumsum().plot(lw=2.0, figsize=(10,6))\n",
    "plt.show()\n",
    "\n",
    "\n",
    "df.plot.bar(figsize=(10,6), rot=15)\n",
    "plt.show()"
   ]
  },
  {
   "cell_type": "markdown",
   "metadata": {},
   "source": [
    "We can produce a $4\\times 4$ matrix"
   ]
  },
  {
   "cell_type": "code",
   "execution_count": null,
   "metadata": {
    "collapsed": false,
    "editable": true
   },
   "outputs": [],
   "source": [
    "b = np.arange(16).reshape((4,4))\n",
    "print(b)\n",
    "df1 = pd.DataFrame(b)\n",
    "print(df1)"
   ]
  },
  {
   "cell_type": "markdown",
   "metadata": {},
   "source": [
    "and many other operations. \n",
    "\n",
    "\n",
    "The **Series** class is another important class included in\n",
    "**pandas**. You can view it as a specialization of **DataFrame** but where\n",
    "we have just a single column of data. It shares many of the same\n",
    "features as **DataFrame**. As with **DataFrame**, most operations are\n",
    "vectorized, achieving thereby a high performance when dealing with\n",
    "computations of arrays, in particular labeled arrays.  As we will see\n",
    "below it leads also to a very concice code close to the mathematical\n",
    "operations we may be interested in.  For multidimensional arrays, we\n",
    "recommend strongly\n",
    "[xarray](http://xarray.pydata.org/en/stable/). **xarray** has much of\n",
    "the same flexibility as **pandas**, but allows for the extension to\n",
    "higher dimensions than two.\n",
    "\n",
    "\n",
    "\n",
    "\n",
    "\n",
    "## Introduction to Git and GitHub/GitLab and similar\n",
    "\n",
    "[Git](https://git-scm.com/) is a distributed version-control system\n",
    "for tracking changes in any set of files, originally designed for\n",
    "coordinating work among programmers cooperating on source code during\n",
    "software development.\n",
    "\n",
    "The [reference document and videos here](https://git-scm.com/doc)\n",
    "give you an excellent introduction to the **git**.\n",
    "\n",
    "We believe you will find version-control software very useful in your work. \n",
    "\n",
    "\n",
    "\n",
    "\n",
    "All teaching material related to this course is open and freely\n",
    "available via the GitHub site of the course. The video here gives a\n",
    "short intro to\n",
    "[GitHub](https://www.youtube.com/watch/w3jLJU7DT5E?reload=9).\n",
    "\n",
    "See also the [overview video on Git and GitHub](https://mediaspace.msu.edu/media/t/1_8mgx3cyf).\n",
    "\n",
    "\n",
    "\n",
    "### Useful Git and GitHub links\n",
    "\n",
    "These are a couple references that we have found useful (git commands, markdown, GitPages):\n",
    "* <https://github.com/adam-p/markdown-here/wiki/Markdown-Cheatsheet>\n",
    "\n",
    "* <https://education.github.com/git-cheat-sheet-education.pdf>\n",
    "\n",
    "* <https://guides.github.com/features/pages/>\n",
    "\n",
    "When dealing with homeworks, at some point you would need to use an\n",
    "editor, or an integrated development envinroment (IDE). As an IDE, we\n",
    "would like to recommend **anaconda** since we end up using\n",
    "jupyter-notebooks.  **anaconda** runs on all known operating systems.\n",
    "\n",
    "\n",
    "If you prefer editing **Python** codes, there are several excellent cross-platform editors.\n",
    "If you are in a Windows environment, **word** is the classical text editor.\n",
    "\n",
    "There is however a wealth of text editors and/ord IDEs that run on all operating\n",
    "systems and functions well with Python.  Some of the more popular ones  are\n",
    "\n",
    "* [Atom](https://atom.io/)\n",
    "\n",
    "* [Sublime](https://www.sublimetext.com/)"
   ]
  }
 ],
 "metadata": {
  "language_info": {
   "codemirror_mode": {
    "name": "ipython",
    "version": 3
   },
   "file_extension": ".py",
   "mimetype": "text/x-python",
   "name": "python",
   "nbconvert_exporter": "python",
   "pygments_lexer": "ipython3",
   "version": "3.8.5"
  }
 },
 "nbformat": 4,
 "nbformat_minor": 4
}