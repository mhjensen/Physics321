{
 "cells": [
  {
   "cell_type": "markdown",
   "metadata": {},
   "source": [
    "# Variational Calculus and Lagrangian Formalism\n",
    "\n",
    "The calculus of variations involves \n",
    "problems where the quantity to be minimized or maximized is an integral. \n",
    "\n",
    "\n",
    "The usual minimization problem one faces involves taking a function\n",
    "$\\cal{L}(x)$, then finding the single value $x$ for which $\\cal{L}$\n",
    "is either a maximum or minimum. In multivariate calculus one also\n",
    "learns to solve problems where you minimize for multiple variables,\n",
    "$\\cal{L}(x_1,x_2,\\cdots x_n)$, and finding the points $(x_1\\cdots\n",
    "y_n)$ in an $n$-dimensional space that maximize or minimize the\n",
    "function. Here, we consider what seems to be a much more ambitious\n",
    "problem. Imagine you have a function $\\cal{L}(x(t),\\dot{x}(t),t)$,\n",
    "and you wish to find the extrema for an infinite number of values of\n",
    "$x$, i.e. $x$ at each point $t$. The function $\\cal{L}$ will not only\n",
    "depend on $x$ at each point $t$, but also on the slope at each point,\n",
    "plus an additional dependence on $t$. Note we are NOT finding an\n",
    "optimum value of $t$, we are finding the set of optimum values of $x$\n",
    "at each point $t$, or equivalently, finding the function $x(t)$.\n",
    "\n",
    "One treats the function $x(t)$ as being unknown while minimizing the action"
   ]
  },
  {
   "cell_type": "markdown",
   "metadata": {},
   "source": [
    "$$\n",
    "S=\\int_{t_1}^{t_2}dt~\\cal{L}(x(t),\\dot{x}(t),t).\n",
    "$$"
   ]
  },
  {
   "cell_type": "markdown",
   "metadata": {},
   "source": [
    "Thus, we are minimizing $S$ with respect to an infinite number of\n",
    "values of $x(t_i)$ at points $t_i$. As an additional criteria, we will\n",
    "assume that $x(t_1)$ and $x(t_2)$ are fixed, and that that we will\n",
    "only consider variations of $x$ between the boundaries. The dependence\n",
    "on the derivative, $\\dot{x}=dx/dt$, is crucial because otherwise the\n",
    "solution would involve simply finding the one value of $x$ that\n",
    "minimized $\\cal{L}$, and $x(t)$ would equal a constant if there were no\n",
    "explicit $t$ dependence. Furthermore, $x$ wouldn't need to be\n",
    "continuous at the boundary.\n",
    "\n",
    "\n",
    "\n",
    "\n",
    "In the general case we have an integral of the type"
   ]
  },
  {
   "cell_type": "markdown",
   "metadata": {},
   "source": [
    "$$\n",
    "S[q]= \\int_{t_1}^{t_2} \\cal{L}(q(t),\\dot{q}(t),t)dt,\n",
    "$$"
   ]
  },
  {
   "cell_type": "markdown",
   "metadata": {},
   "source": [
    "where $S$ is the quantity which is sought minimized or maximized.  The\n",
    "problem is that although $\\cal{L}$  is a function of the general variables\n",
    "$q(t),\\dot{q}(t),t$ (note our change of variables), the exact dependence of $q$ on $t$ is not known.\n",
    "This means again that even though the integral has fixed limits $t_1$\n",
    "and $t_2$, the path of integration is not known. In our case the unknown\n",
    "quantities are the positions and general velocities of a given number\n",
    "of objects and we wish to choose an integration path which makes the\n",
    "functional $S[q]$ stationary. This means that we want to find minima,\n",
    "or maxima or saddle points. In physics we search normally for minima.\n",
    "Our task is therefore to find the minimum of $S[q]$ so that its\n",
    "variation $\\delta S$ is zero subject to specific constraints.  The\n",
    "constraints can be treated via the technique of Lagrangian multipliers\n",
    "as we will see below.\n",
    "\n",
    "\n",
    "\n",
    "\n",
    "We assume the existence of an optimum path, that is a path for which\n",
    "$S[q]$ is stationary. There are infinitely many such paths.  The\n",
    "difference between two paths $\\delta q$ is called the variation of\n",
    "$q$.\n",
    "\n",
    "We call the variation $\\eta(t)$ and it is scaled by a factor $\\alpha$.\n",
    "The function $\\eta(t)$ is arbitrary except for"
   ]
  },
  {
   "cell_type": "markdown",
   "metadata": {},
   "source": [
    "$$\n",
    "\\eta(t_1)=\\eta(t_2)=0,\n",
    "$$"
   ]
  },
  {
   "cell_type": "markdown",
   "metadata": {},
   "source": [
    "and we assume that we can model the change in $q$ as"
   ]
  },
  {
   "cell_type": "markdown",
   "metadata": {},
   "source": [
    "$$\n",
    "q(t,\\alpha) = q(t)+\\alpha\\eta(t),\n",
    "$$"
   ]
  },
  {
   "cell_type": "markdown",
   "metadata": {},
   "source": [
    "and"
   ]
  },
  {
   "cell_type": "markdown",
   "metadata": {},
   "source": [
    "$$\n",
    "\\delta q = q(t,\\alpha) -q(t,0)=\\alpha\\eta(t).\n",
    "$$"
   ]
  },
  {
   "cell_type": "markdown",
   "metadata": {},
   "source": [
    "We choose $q(t,\\alpha=0)$ as the unkonwn path  that will minimize $S$.  The value\n",
    "$q(t,\\alpha\\ne 0)$  describes a neighbouring path.\n",
    "\n",
    "We have"
   ]
  },
  {
   "cell_type": "markdown",
   "metadata": {},
   "source": [
    "$$\n",
    "S[q(\\alpha)]= \\int_{t_1}^{t_2} \\cal{L}(q(t,\\alpha),\\dot{q}(t,\\alpha),t)dt.\n",
    "$$"
   ]
  },
  {
   "cell_type": "markdown",
   "metadata": {},
   "source": [
    "The condition for an extreme of"
   ]
  },
  {
   "cell_type": "markdown",
   "metadata": {},
   "source": [
    "$$\n",
    "S[q(\\alpha)]= \\int_{t_1}^{t_2} \\cal{L}(q(t,\\alpha),\\dot{q}(t,\\alpha),t)dt,\n",
    "$$"
   ]
  },
  {
   "cell_type": "markdown",
   "metadata": {},
   "source": [
    "is"
   ]
  },
  {
   "cell_type": "markdown",
   "metadata": {},
   "source": [
    "$$\n",
    "\\left[\\frac{\\partial  S[q(\\alpha)]}{\\partial t}\\right]_{\\alpha=0} =0.\n",
    "$$"
   ]
  },
  {
   "cell_type": "markdown",
   "metadata": {},
   "source": [
    "The $\\alpha$ dependence is contained in $q(t,\\alpha)$ and $\\dot{q}(t,\\alpha)$ meaning that"
   ]
  },
  {
   "cell_type": "markdown",
   "metadata": {},
   "source": [
    "$$\n",
    "\\left[\\frac{\\partial  E[q(\\alpha)]}{\\partial \\alpha}\\right]=\\int_{t_1}^{t_2} \\left( \\frac{\\partial \\cal{l}}{\\partial q}\\frac{\\partial q}{\\partial \\alpha}+\\frac{\\partial \\cal{L}}{\\partial \\dot{q}}\\frac{\\partial \\dot{q}}{\\partial \\alpha}\\right)dt.\n",
    "$$"
   ]
  },
  {
   "cell_type": "markdown",
   "metadata": {},
   "source": [
    "We have defined"
   ]
  },
  {
   "cell_type": "markdown",
   "metadata": {},
   "source": [
    "$$\n",
    "\\frac{\\partial q(x,\\alpha)}{\\partial \\alpha}=\\eta(x)\n",
    "$$"
   ]
  },
  {
   "cell_type": "markdown",
   "metadata": {},
   "source": [
    "and thereby"
   ]
  },
  {
   "cell_type": "markdown",
   "metadata": {},
   "source": [
    "$$\n",
    "\\frac{\\partial \\dot{q}(t,\\alpha)}{\\partial \\alpha}=\\frac{d(\\eta(t))}{dt}.\n",
    "$$"
   ]
  },
  {
   "cell_type": "markdown",
   "metadata": {},
   "source": [
    "Using"
   ]
  },
  {
   "cell_type": "markdown",
   "metadata": {},
   "source": [
    "$$\n",
    "\\frac{\\partial q(t,\\alpha)}{\\partial \\alpha}=\\eta(t),\n",
    "$$"
   ]
  },
  {
   "cell_type": "markdown",
   "metadata": {},
   "source": [
    "and"
   ]
  },
  {
   "cell_type": "markdown",
   "metadata": {},
   "source": [
    "$$\n",
    "\\frac{\\partial \\dot{q}(t,\\alpha)}{\\partial \\alpha}=\\frac{d(\\eta(t))}{dt},\n",
    "$$"
   ]
  },
  {
   "cell_type": "markdown",
   "metadata": {},
   "source": [
    "in the integral gives"
   ]
  },
  {
   "cell_type": "markdown",
   "metadata": {},
   "source": [
    "$$\n",
    "\\left[\\frac{\\partial  S[q(\\alpha)]}{\\partial \\alpha}\\right]=\\int_{t_1}^{t_2} \\left( \\frac{\\partial \\cal{L}}{\\partial q}\\eta(t)+\\frac{\\partial \\cal{L}}{\\partial \\dot{q}}\\frac{d(\\eta(t))}{dt}\\right)dt.\n",
    "$$"
   ]
  },
  {
   "cell_type": "markdown",
   "metadata": {},
   "source": [
    "Integrating the second term by parts"
   ]
  },
  {
   "cell_type": "markdown",
   "metadata": {},
   "source": [
    "$$\n",
    "\\int_{t_1}^{t_2} \\frac{\\partial \\cal{L}}{\\partial \\dot{q}}\\frac{d(\\eta(t))}{dt}dt =\\eta(t)\\frac{\\partial \\cal{L}}{\\partial \\dot{q}}|_{t_1}^{t_2}-\n",
    "\\int_a^b \\eta(t)\\frac{d}{dx}\\frac{\\partial \\cal{L}}{\\partial \\dot{q}}dt,\n",
    "$$"
   ]
  },
  {
   "cell_type": "markdown",
   "metadata": {},
   "source": [
    "and since the first term dissappears due to $\\eta(a)=\\eta(b)=0$, we obtain"
   ]
  },
  {
   "cell_type": "markdown",
   "metadata": {},
   "source": [
    "$$\n",
    "\\left[\\frac{\\partial  S[q(\\alpha)]}{\\partial \\alpha}\\right]=\\int_{t_1}^{t_2} \\left( \\frac{\\partial \\cal{L}}{\\partial q}-\\frac{d}{dx}\\frac{\\partial \\cal{L}}{\\partial \\dot{q}}\n",
    "\\right)\\eta(t)dt=0,\n",
    "$$"
   ]
  },
  {
   "cell_type": "markdown",
   "metadata": {},
   "source": [
    "which can also be written as"
   ]
  },
  {
   "cell_type": "markdown",
   "metadata": {},
   "source": [
    "$$\n",
    "\\left[\\frac{\\partial  S[q(\\alpha)]}{\\partial \\alpha}\\right]_{\\alpha=0}=\\int_{t_1}^{t_2} \\left( \\frac{\\partial \\cal{L}}{\\partial q}-\\frac{d}{\\\n",
    "dx}\\frac{\\partial \\cal{L}}{\\partial \\dot{q}}\\right)\\delta q(t)dt=\\delta S = 0.\n",
    "$$"
   ]
  },
  {
   "cell_type": "markdown",
   "metadata": {},
   "source": [
    "The condition for a stationary value is thus a partial differential equation"
   ]
  },
  {
   "cell_type": "markdown",
   "metadata": {},
   "source": [
    "$$\n",
    "\\frac{\\partial \\cal{L}}{\\partial q}-\\frac{d}{dx}\\frac{\\partial \\cal{L}}{\\partial \\dot{q}}=0,\n",
    "$$"
   ]
  },
  {
   "cell_type": "markdown",
   "metadata": {},
   "source": [
    "known as the **Euler-Lagrange** equation.\n",
    "\n",
    "\n",
    "\n",
    "## Constrained motion\n",
    "\n",
    "Sometimes an auxiliary constraint is added to the problem (beyond\n",
    "fixing the end poits $y_1$ and $y_2$). Just ahead, we will work on the\n",
    "example of a hanging chain. The shape of the curve minimizes the\n",
    "potential energy, under the constraint of a fixed length of\n",
    "chain. Before presenting such an example we first review the method of\n",
    "Lagrange multipliers as a method for finding minima or maxima under\n",
    "constraints.\n",
    "\n",
    "Imagine a function $f(x_1,x_2\\cdots x_n)$ for which you wish to find\n",
    "the minima. Additionally, you are given a constraint"
   ]
  },
  {
   "cell_type": "markdown",
   "metadata": {},
   "source": [
    "$$\n",
    "\\begin{eqnarray}\n",
    "C(x_1\\cdots x_n)=0\n",
    "\\end{eqnarray}\n",
    "$$"
   ]
  },
  {
   "cell_type": "markdown",
   "metadata": {},
   "source": [
    "The usual condition for a a minimum is"
   ]
  },
  {
   "cell_type": "markdown",
   "metadata": {},
   "source": [
    "$$\n",
    "\\begin{eqnarray}\n",
    "\\frac{\\partial f}{\\partial x_i}=0{\\rm ,~~or~}\\nabla f=0.\n",
    "\\end{eqnarray}\n",
    "$$"
   ]
  },
  {
   "cell_type": "markdown",
   "metadata": {},
   "source": [
    "which would be $n$ equations for the $n$ variables. The gradient of a\n",
    "scalar is a vector, so you should think of $\\nabla$ as\n",
    "$\\boldsymbol{\\nabla}$. However, the solution will likely not satisfy the\n",
    "constraint, i.e. the point at which $f(x_1\\cdots x_n)$ has an extrema,\n",
    "may not be a point where $C(x_1\\cdots x_n)=0$.\n",
    "\n",
    "A necessary condition for the solution is that"
   ]
  },
  {
   "cell_type": "markdown",
   "metadata": {},
   "source": [
    "<!-- Equation labels as ordinary links -->\n",
    "<div id=\"_auto1\"></div>\n",
    "\n",
    "$$\n",
    "\\begin{equation}\n",
    "\\nabla f\\cdot\\boldsymbol{\\epsilon}=0,\n",
    "\\label{_auto1} \\tag{1}\n",
    "\\end{equation}\n",
    "$$"
   ]
  },
  {
   "cell_type": "markdown",
   "metadata": {},
   "source": [
    "for any infinitesimal vector $\\boldsymbol{\\epsilon}$ if $\\boldsymbol{\\epsilon}$\n",
    "satisfies the condition"
   ]
  },
  {
   "cell_type": "markdown",
   "metadata": {},
   "source": [
    "<!-- Equation labels as ordinary links -->\n",
    "<div id=\"_auto2\"></div>\n",
    "\n",
    "$$\n",
    "\\begin{equation}\n",
    "\\delta C=\\nabla C\\cdot\\boldsymbol{\\epsilon}=0.\n",
    "\\label{_auto2} \\tag{2}\n",
    "\\end{equation}\n",
    "$$"
   ]
  },
  {
   "cell_type": "markdown",
   "metadata": {},
   "source": [
    "That is to say if I take a small step in a direction that doesn't\n",
    "change the constraint, then $f$ must not change if it is an\n",
    "extrema. Not changing the constraint implies the step is orthogonal to\n",
    "$\\nabla C$. As there are $n$ dimensions of $x$, the vector $\\nabla C$\n",
    "defines one direction, and $\\boldsymbol{\\epsilon}$ can be in any of the $n-1$\n",
    "directions orthogonal to $\\nabla C$. If $\\nabla f\\cdot\\boldsymbol{\\epsilon}=0$\n",
    "for ANY of the $n-1$ directions of $\\boldsymbol{\\epsilon}$ orthogonal to\n",
    "$\\nabla C$, then"
   ]
  },
  {
   "cell_type": "markdown",
   "metadata": {},
   "source": [
    "<!-- Equation labels as ordinary links -->\n",
    "<div id=\"_auto3\"></div>\n",
    "\n",
    "$$\n",
    "\\begin{equation}\n",
    "\\nabla f ~||~ \\nabla C.\n",
    "\\label{_auto3} \\tag{3}\n",
    "\\end{equation}\n",
    "$$"
   ]
  },
  {
   "cell_type": "markdown",
   "metadata": {},
   "source": [
    "Because the two vectors are parallel you can say there must exist some\n",
    "constant $\\lambda$ such that"
   ]
  },
  {
   "cell_type": "markdown",
   "metadata": {},
   "source": [
    "<!-- Equation labels as ordinary links -->\n",
    "<div id=\"_auto4\"></div>\n",
    "\n",
    "$$\n",
    "\\begin{equation}\n",
    "\\nabla(f-\\lambda C)=0.\n",
    "\\label{_auto4} \\tag{4}\n",
    "\\end{equation}\n",
    "$$"
   ]
  },
  {
   "cell_type": "markdown",
   "metadata": {},
   "source": [
    "Here, $\\lambda$ is known as a Lagrange multiplier. Satisfying\n",
    "this equation  is a necessary, but not a sufficient\n",
    "condition. One could add a constant to the constraint and the gradient\n",
    "would not change. One must find the correct value of $\\lambda$ that\n",
    "satisfies the constraint $C=0$, rather than $C=$ some other\n",
    "constant. The strategy is then to solve\n",
    "thw above equation  then adjust $\\lambda$ until one\n",
    "finds the $x_1\\cdots x_n$ that gives $C(x_1\\cdots x_n)=0$.\n",
    "\n",
    "The method of Lagrange multipliers is counter-intuitive to one's\n",
    "intuition to use the constraint to reduce the dimensionality of the\n",
    "problem. Normally, minimizing a function of $n$ variables, leads to\n",
    "$n$ equations and $n$ unknowns. A constraint could be used, by\n",
    "substitution, to replace the $n$ variables with $n-1$\n",
    "variables. Instead, we add an unknown parameter, $\\lambda$, and change\n",
    "the equation to $n+1$ equations with $n+1$ unknowns, with the extra\n",
    "unknown being the Lagrange multiplier $\\lambda$. Often, it is rather\n",
    "easy to solve for $x_1\\cdots x_n$. Then one is left with the usually\n",
    "difficult problem of finding $\\lambda$, often requiring the solution\n",
    "of a transcendental equation.\n",
    "\n",
    "Let us try to formalize this. We consider a function of three independent variables $f(x,y,z)$ . For\n",
    "the function $f$ to be an extreme we have"
   ]
  },
  {
   "cell_type": "markdown",
   "metadata": {},
   "source": [
    "$$\n",
    "df=0.\n",
    "$$"
   ]
  },
  {
   "cell_type": "markdown",
   "metadata": {},
   "source": [
    "A necessary and sufficient condition is"
   ]
  },
  {
   "cell_type": "markdown",
   "metadata": {},
   "source": [
    "$$\n",
    "\\frac{\\partial f}{\\partial x} =\\frac{\\partial f}{\\partial y}=\\frac{\\partial f}{\\partial z}=0,\n",
    "$$"
   ]
  },
  {
   "cell_type": "markdown",
   "metadata": {},
   "source": [
    "due to"
   ]
  },
  {
   "cell_type": "markdown",
   "metadata": {},
   "source": [
    "$$\n",
    "df = \\frac{\\partial f}{\\partial x}dx+\\frac{\\partial f}{\\partial y}dy+\\frac{\\partial f}{\\partial z}dz.\n",
    "$$"
   ]
  },
  {
   "cell_type": "markdown",
   "metadata": {},
   "source": [
    "In physical problems the variables $x,y,z$ are often subject to constraints (in our case $q$ and the orthogonality constraint)\n",
    "so that they are no longer all independent. It is possible at least in principle to use each constraint to eliminate one variable\n",
    "and to proceed with a new and smaller set of independent varables.\n",
    "\n",
    "The use of so-called Lagrangian  multipliers is an alternative technique  when the elimination of\n",
    "of variables is incovenient or undesirable.  Assume that we have an equation of constraint on the variables $x,y,z$"
   ]
  },
  {
   "cell_type": "markdown",
   "metadata": {},
   "source": [
    "$$\n",
    "\\phi(x,y,z) = 0,\n",
    "$$"
   ]
  },
  {
   "cell_type": "markdown",
   "metadata": {},
   "source": [
    "resulting in"
   ]
  },
  {
   "cell_type": "markdown",
   "metadata": {},
   "source": [
    "$$\n",
    "d\\phi = \\frac{\\partial \\phi}{\\partial x}dx+\\frac{\\partial \\phi}{\\partial y}dy+\\frac{\\partial \\phi}{\\partial z}dz =0.\n",
    "$$"
   ]
  },
  {
   "cell_type": "markdown",
   "metadata": {},
   "source": [
    "Now we cannot set anymore"
   ]
  },
  {
   "cell_type": "markdown",
   "metadata": {},
   "source": [
    "$$\n",
    "\\frac{\\partial f}{\\partial x} =\\frac{\\partial f}{\\partial y}=\\frac{\\partial f}{\\partial z}=0,\n",
    "$$"
   ]
  },
  {
   "cell_type": "markdown",
   "metadata": {},
   "source": [
    "if $df=0$ is wanted\n",
    "because there are now only two independent variables!  Assume $x$ and $y$ are the independent variables.\n",
    "Then $dz$ is no longer arbitrary.\n",
    "\n",
    "\n",
    "\n",
    "However, we can add to"
   ]
  },
  {
   "cell_type": "markdown",
   "metadata": {},
   "source": [
    "$$\n",
    "df = \\frac{\\partial f}{\\partial x}dx+\\frac{\\partial f}{\\partial y}dy+\\frac{\\partial f}{\\partial z}dz,\n",
    "$$"
   ]
  },
  {
   "cell_type": "markdown",
   "metadata": {},
   "source": [
    "a multiplum of $d\\phi$, viz. $\\lambda d\\phi$, resulting  in"
   ]
  },
  {
   "cell_type": "markdown",
   "metadata": {},
   "source": [
    "$$\n",
    "df+\\lambda d\\phi = (\\frac{\\partial f}{\\partial z}+\\lambda\\frac{\\partial \\phi}{\\partial x})dx+(\\frac{\\partial f}{\\partial y}+\\lambda\\frac{\\partial \\phi}{\\partial y})dy+(\\frac{\\partial f}{\\partial z}+\\lambda\\frac{\\partial \\phi}{\\partial z})dz =0.\n",
    "$$"
   ]
  },
  {
   "cell_type": "markdown",
   "metadata": {},
   "source": [
    "Our multiplier is chosen so that"
   ]
  },
  {
   "cell_type": "markdown",
   "metadata": {},
   "source": [
    "$$\n",
    "\\frac{\\partial f}{\\partial z}+\\lambda\\frac{\\partial \\phi}{\\partial z} =0.\n",
    "$$"
   ]
  },
  {
   "cell_type": "markdown",
   "metadata": {},
   "source": [
    "However, we took $dx$ and $dy$ as to be arbitrary and thus we must have"
   ]
  },
  {
   "cell_type": "markdown",
   "metadata": {},
   "source": [
    "$$\n",
    "\\frac{\\partial f}{\\partial x}+\\lambda\\frac{\\partial \\phi}{\\partial x} =0,\n",
    "$$"
   ]
  },
  {
   "cell_type": "markdown",
   "metadata": {},
   "source": [
    "and"
   ]
  },
  {
   "cell_type": "markdown",
   "metadata": {},
   "source": [
    "$$\n",
    "\\frac{\\partial f}{\\partial y}+\\lambda\\frac{\\partial \\phi}{\\partial y} =0.\n",
    "$$"
   ]
  },
  {
   "cell_type": "markdown",
   "metadata": {},
   "source": [
    "When all these equations are satisfied, $df=0$.  We have four\n",
    "unknowns, $x,y,z$ and $\\lambda$. Actually we want only $x,y,z$,\n",
    "$\\lambda$ need not to be determined, it is therefore often called\n",
    "Lagrange's undetermined multiplier.  If we have a set of constraints\n",
    "$\\phi_k$ we have the equations"
   ]
  },
  {
   "cell_type": "markdown",
   "metadata": {},
   "source": [
    "$$\n",
    "\\frac{\\partial f}{\\partial x_i}+\\sum_k\\lambda_k\\frac{\\partial \\phi_k}{\\partial x_i} =0.\n",
    "$$"
   ]
  },
  {
   "cell_type": "markdown",
   "metadata": {},
   "source": [
    "### Example: brachiostone\n",
    "\n",
    "Consider a particle constrained to move along a path (like a bead\n",
    "moving without friction on a wire) and you need to design a path from\n",
    "$x=y=0$ to some final point $x_f,y_f$. Assume there is a constant\n",
    "force in the $x$ direction, $F_x=mg$. Design the path so that the time\n",
    "the bead travels is a minimum.\n",
    "\n",
    "\n",
    "The net time is"
   ]
  },
  {
   "cell_type": "markdown",
   "metadata": {},
   "source": [
    "$$\n",
    "T=\\int \\frac{d\\ell}{v}=\\int_0^{x_f} dx~\\frac{\\sqrt{1+y'^2}}{\\sqrt{2gx}}={\\rm minimum}.\n",
    "$$"
   ]
  },
  {
   "cell_type": "markdown",
   "metadata": {},
   "source": [
    "Here we made use of the fact that $d\\ell=\\sqrt{dx^2+dy^2}$ and that\n",
    "the velocity is determined by $KE=mv^2/2=mgx$. The Euler equations can\n",
    "be applied if you first define the function as"
   ]
  },
  {
   "cell_type": "markdown",
   "metadata": {},
   "source": [
    "$$\n",
    "\\begin{eqnarray*}\n",
    "f(y,y';x)&=&\\frac{\\sqrt{1+y'^2}}{\\sqrt{x}}.\n",
    "\\end{eqnarray*}\n",
    "$$"
   ]
  },
  {
   "cell_type": "markdown",
   "metadata": {},
   "source": [
    "The equations are then"
   ]
  },
  {
   "cell_type": "markdown",
   "metadata": {},
   "source": [
    "$$\n",
    "\\begin{eqnarray*}\n",
    "\\frac{d}{dx}\\frac{\\partial f}{\\partial y'}&=&0.\n",
    "\\end{eqnarray*}\n",
    "$$"
   ]
  },
  {
   "cell_type": "markdown",
   "metadata": {},
   "source": [
    "The simplification ensued from $f$ not having any dependence on $y$. This yields the differential equation"
   ]
  },
  {
   "cell_type": "markdown",
   "metadata": {},
   "source": [
    "$$\n",
    "\\begin{eqnarray}\n",
    "\\frac{y'}{x^{1/2}(1+y'^2)^{1/2}}&=&(2a)^{-1/2},\n",
    "\\end{eqnarray}\n",
    "$$"
   ]
  },
  {
   "cell_type": "markdown",
   "metadata": {},
   "source": [
    "because $\\partial f/\\partial y'$ must be a constant, which with some\n",
    "foresight we label $(2a)^{-1/2}$. One can now solve for $y'$,"
   ]
  },
  {
   "cell_type": "markdown",
   "metadata": {},
   "source": [
    "$$\n",
    "\\begin{eqnarray*}\n",
    "(y')^2&=&2ax(1+y'^2)\\\\\n",
    "\\nonumber\n",
    "y'&=&\\sqrt{\\frac{x}{2a-x}},\\\\\n",
    "\\nonumber\n",
    "y(t)&=&\\int_0^x dx'~\\frac{\\sqrt{x'}dx'}{\\sqrt{2a-x'}}=\\int_0^x dx'~\\frac{x'dx'}{\\sqrt{2ax'-x'^2}}\\\\\n",
    "\\nonumber\n",
    "&=&\\frac{1}{2}\\int_0^x\\frac{(2x'-2a)dx'}{(2ax'-x'^2)^{1/2}}+a\\int_0^x\\frac{dx'}{\\sqrt{2ax'-x'^2}}\\\\\n",
    "\\nonumber\n",
    "&=&\\frac{-1}{2}\\int_0^{2ax-x^2}\\frac{du}{\\sqrt{u}}+a\\int_0^x\\frac{dx'}{\\sqrt{a^2-(x'-a)^2}}\\\\\n",
    "&=&-\\sqrt{2ax-x^2}+a\\cos^{-1}(1-x/a).\n",
    "\\end{eqnarray*}\n",
    "$$"
   ]
  },
  {
   "cell_type": "markdown",
   "metadata": {},
   "source": [
    "This turns out to be the equation for a {\\it cycloid} or a {\\it\n",
    "brachiostone}. If you rolled a wheel of radius $a$ down the $y$ axis\n",
    "and followed a point on the rim, it would trace out a cycloid. Here,\n",
    "the constant $a$ must be chosen to match the boundary condition,\n",
    "$y_2=y(x_2)$. You can see the textbook for more details, plus you get\n",
    "a chance to work with cycloids in the exercises at the end of this\n",
    "chapter.\n",
    "\n",
    "\n",
    "\n",
    "\n",
    "### Maximizing a Function\n",
    "\n",
    "As an example of using Lagrange multipliers for a standard\n",
    "optimization formula we attempt to maximize the following function,"
   ]
  },
  {
   "cell_type": "markdown",
   "metadata": {},
   "source": [
    "$$\n",
    "F(x_1\\cdots x_n)=-\\sum_{i=1}^n x_i\\ln(x_i),\n",
    "$$"
   ]
  },
  {
   "cell_type": "markdown",
   "metadata": {},
   "source": [
    "with respect to the $n$ variables $x_i$. With no constraints, each\n",
    "$x_i$ would maximize the function for"
   ]
  },
  {
   "cell_type": "markdown",
   "metadata": {},
   "source": [
    "$$\n",
    "\\begin{eqnarray*}\n",
    "\\frac{d}{dx_j}~\\left[-\\sum_i x_i\\ln(x_i)\\right]&=&0\\\\\n",
    "-\\ln(x_j)-1&=&0,~~~~x_j=e^{-1}.\n",
    "\\end{eqnarray*}\n",
    "$$"
   ]
  },
  {
   "cell_type": "markdown",
   "metadata": {},
   "source": [
    "Now, we repeat the problem but with two constraints,"
   ]
  },
  {
   "cell_type": "markdown",
   "metadata": {},
   "source": [
    "$$\n",
    "\\sum_ix_i=1~,~~~~\\sum_ix_i\\epsilon_i=E.\n",
    "$$"
   ]
  },
  {
   "cell_type": "markdown",
   "metadata": {},
   "source": [
    "Here, $\\epsilon_i$ and $E$ are fixed constants. We go forward by\n",
    "finding the extrema for"
   ]
  },
  {
   "cell_type": "markdown",
   "metadata": {},
   "source": [
    "$$\n",
    "\\begin{eqnarray*}\n",
    "G(x_1\\cdots x_n)&=&F-\\alpha\\sum_i x_i-\\beta\\sum_i\\epsilon_ix_i\n",
    "=\\sum_i \\left\\{-x_i\\ln(x_i)-\\alpha x_i-\\beta\\epsilon_ix_i\\right\\}.\n",
    "\\end{eqnarray*}\n",
    "$$"
   ]
  },
  {
   "cell_type": "markdown",
   "metadata": {},
   "source": [
    "There are two Lagrange multipliers, $\\alpha$ and $\\beta$,\n",
    "corresponding to the two constraints. One then solves for the extrema"
   ]
  },
  {
   "cell_type": "markdown",
   "metadata": {},
   "source": [
    "$$\n",
    "\\begin{eqnarray*}\n",
    "\\frac{d}{dx_j}G&=&0\\\\\n",
    "&=&-\\ln(x_j)-1-\\alpha-\\beta\\epsilon_j,\\\\\n",
    "x_j&=&\\exp\\left\\{-1-\\alpha-\\beta\\epsilon_j\\right\\}.\n",
    "\\end{eqnarray*}\n",
    "$$"
   ]
  },
  {
   "cell_type": "markdown",
   "metadata": {},
   "source": [
    "For any given $\\alpha$ and $\\beta$ this provides a solution for\n",
    "constraining $\\sum_i x_i$ and $\\sum_i\\epsilon_ix_i$ to some values,\n",
    "just not the values of unity and $E$ that you wish. One would then\n",
    "have to search for the correct values by adjusting $\\alpha$ and\n",
    "$\\beta$ until the constraint are actually matched by solving a\n",
    "transcendental equation. Although this can be complicated, it is\n",
    "certainly less expensive than searching over all $N$ values of\n",
    "$x_i$. This particular example corresponds to maximizing the entropy\n",
    "for a system, $S=-\\sum_i x_i\\ln(x_i)$, where $x_i$ is the probability\n",
    "of the system being in a particular discrete level $i$ that has energy\n",
    "$\\epsilon_i$. One wishes to maximize the entropy subject to the\n",
    "constraints that the probabilities sum to unity and the average energy\n",
    "has some given value. The result that $x_i\\sim e^{-\\beta\\epsilon_i}$\n",
    "demonstrates the origin of the Boltzmann factor, with the inverse\n",
    "temperature $\\beta=1/T$.\n",
    "\n",
    "\n",
    "Lagrange multipliers also assist with the Euler-Lagrange equation. If\n",
    "one breaks an interval $x_1<x<x_2$ into a large number\n",
    "$n\\rightarrow\\infty$ points separated by $dx$, the Euler-Lagrange\n",
    "equation involves finding the $n$ values $y_i$ at each point so that\n",
    "$\\sum_i dx f\\left\\{y_i,y'_i=(y_{i+1}-y_{i-1})/(2dx)\\right\\}$ is\n",
    "maximized for some given function $f$. If an additional auxiliary\n",
    "constraint is added, also some function of the $n$ values $y_i$, one\n",
    "can use the method of Lagrange multipliers. In the constraint can also\n",
    "be written as some function of $C(y_i,y'_i)$, then one simply adds a\n",
    "term $\\lambda C(y,y')$ to the function $f$ and uses the Euler-Lagrange\n",
    "equation to find the extrema of."
   ]
  },
  {
   "cell_type": "markdown",
   "metadata": {},
   "source": [
    "$$\n",
    "\\begin{eqnarray}\n",
    "J&=&\\int_{x_1}^{x_2}dx~f\\left\\{y(t),y'(t),x\\right\\}-\\lambda C\\left\\{y(t),y'(t),x\\right\\},\n",
    "\\end{eqnarray}\n",
    "$$"
   ]
  },
  {
   "cell_type": "markdown",
   "metadata": {},
   "source": [
    "the one difference being that"
   ]
  },
  {
   "cell_type": "markdown",
   "metadata": {},
   "source": [
    "<!-- Equation labels as ordinary links -->\n",
    "<div id=\"_auto5\"></div>\n",
    "\n",
    "$$\n",
    "\\begin{equation}\n",
    "f\\left\\{y(t),y'(t),x\\right\\}\\rightarrow f\\left\\{y(t),y'(t),x\\right\\}-\\lambda C\\left\\{y(t),y'(t),x\\right\\}\n",
    "\\label{_auto5} \\tag{5}\n",
    "\\end{equation}\n",
    "$$"
   ]
  },
  {
   "cell_type": "markdown",
   "metadata": {},
   "source": [
    "### Example\n",
    "\n",
    "Consider a chain of length $L$ and mass per unit length $\\kappa$ that\n",
    "hangs from point $x=0,y=0$ to point $x_f,y_f$. The shape must minimize\n",
    "the potential energy. Find general expressions for the shape in terms\n",
    "of three constants which must be chosen to match $y(0)=0, y(x_f)=y_f$\n",
    "and the fixed length. Equivalently, one finds the function $y(t)$ that\n",
    "provides an extrema for the integral,\n",
    "\n",
    "One must minimize"
   ]
  },
  {
   "cell_type": "markdown",
   "metadata": {},
   "source": [
    "$$\n",
    "\\int d\\ell~\\kappa gy-\\lambda\\int d\\ell=\n",
    "\\int_0^{x_f} dx~\\sqrt{1+y'^2}\\kappa gy-\\lambda \\int_0^{x_f} dx\\sqrt{1+y'^2}.\n",
    "$$"
   ]
  },
  {
   "cell_type": "markdown",
   "metadata": {},
   "source": [
    "Here $\\lambda$ is the Lagrange multiplier associated with constraining\n",
    "the length of the chain. The constrained length $L$ appears nowhere in\n",
    "the expression. Instead, one solves for form of the answer, then\n",
    "adjusts $\\lambda$ to give the correct length. For the purposes of the\n",
    "Euler-Lagrange minimization one considers the function"
   ]
  },
  {
   "cell_type": "markdown",
   "metadata": {},
   "source": [
    "$$\n",
    "\\begin{eqnarray}\n",
    "f(y,y';x)&=&\\kappa gy\\sqrt{1+y'^2}-\\lambda\\sqrt{1+y'^2}.\n",
    "\\end{eqnarray}\n",
    "$$"
   ]
  },
  {
   "cell_type": "markdown",
   "metadata": {},
   "source": [
    "Because $\\lambda$ is an unknown constant and because minimizing a\n",
    "function multiplied by a constant is the same as minimizing the\n",
    "function, we can equivlently minimize the integral using the function"
   ]
  },
  {
   "cell_type": "markdown",
   "metadata": {},
   "source": [
    "$$\n",
    "\\begin{eqnarray}\n",
    "\\tilde{f}(y,y';x)&=&y\\sqrt{1+y'^2}-\\tilde{\\lambda}\\sqrt{1+y'^2},\\\\\n",
    "\\nonumber\n",
    "\\tilde{\\lambda}&\\equiv&\\frac{\\lambda}{\\kappa g}.\n",
    "\\end{eqnarray}\n",
    "$$"
   ]
  },
  {
   "cell_type": "markdown",
   "metadata": {},
   "source": [
    "The Euler-Lagrange equations then become"
   ]
  },
  {
   "cell_type": "markdown",
   "metadata": {},
   "source": [
    "$$\n",
    "\\begin{eqnarray*}\n",
    "\\frac{d}{dx}\\left\\{\n",
    "\\frac{y'}{\\sqrt{1+y'^2}}y-\\tilde{\\lambda}\\frac{y'}{\\sqrt{1+y'^2}}\n",
    "\\right\\}&=&\\sqrt{1+y'^2}.\n",
    "\\end{eqnarray*}\n",
    "$$"
   ]
  },
  {
   "cell_type": "markdown",
   "metadata": {},
   "source": [
    "Here, we will guess at the form of the solution,"
   ]
  },
  {
   "cell_type": "markdown",
   "metadata": {},
   "source": [
    "$$\n",
    "\\begin{eqnarray*}\n",
    "y'&=&\\sinh[(x-x_0)/a],~~y=a\\cosh[(x-x_0)/a]+y_0.\n",
    "\\end{eqnarray*}\n",
    "$$"
   ]
  },
  {
   "cell_type": "markdown",
   "metadata": {},
   "source": [
    "Plugging into the Euler-Lagange equations,"
   ]
  },
  {
   "cell_type": "markdown",
   "metadata": {},
   "source": [
    "$$\n",
    "\\begin{eqnarray*}\n",
    "\\frac{d}{dx}\\left\\{(a\\cosh[(x-x_0)/a]+y_0)\\frac{\\sinh[(x-x_0)/a]}{\\cosh[(x-x_0)/a]}-\\tilde{\\lambda}\\frac{\\sinh[(x-x_0)/a]}{\\cosh[(x-x_0)/a]}\\right\\}&=&\\cosh[(x-x_0)/a],\\\\\n",
    "\\nonumber\n",
    "\\frac{d}{dx}\\left\\{(y_0-\\tilde{\\lambda})\\tanh[(x-x_0)/a]\\right\\}=0.\n",
    "\\end{eqnarray*}\n",
    "$$"
   ]
  },
  {
   "cell_type": "markdown",
   "metadata": {},
   "source": [
    "This solution works if $y_0=\\tilde{\\lambda}$. So the general form of\n",
    "the solution is"
   ]
  },
  {
   "cell_type": "markdown",
   "metadata": {},
   "source": [
    "$$\n",
    "y=\\tilde{\\lambda}+a\\cosh[(x-x_0)/a].\n",
    "$$"
   ]
  },
  {
   "cell_type": "markdown",
   "metadata": {},
   "source": [
    "One must find $\\tilde{\\lambda}$, $x_0$ and $a$ to satisfy three\n",
    "conditions, $y(x=0)=0$, $y(x=x_f)=y_f$ and that the length is $L$. For\n",
    "a hanging chain $a$ is positive. A solution with negative $a$ would\n",
    "represent a maximum of the potential energy. A remarkable property of\n",
    "the solution is that once you define the length and the end-point\n",
    "positions $y_1$ and $y_2$, the solution does not depend on $\\kappa$ or\n",
    "$g$. Thus, the shape of the chain would be the same if you took it to\n",
    "the moon. These solutions are known as [catenaries](http://en.wikipedia.org/wiki/Catenary}{http://en.wikipedia.org/wiki/Catenary).\n",
    "\n",
    "\n",
    "\n",
    "## Lagrangians\n",
    "\n",
    "Lagrangians represent a powerful method for solving problems that\n",
    "would be nearly impossible by direct application of Newton's third\n",
    "law, $\\boldsymbol{F}=m\\boldsymbol{a}$. The method works well for problems where a\n",
    "system is well described by a few \\textit{generalized coordinates}. A\n",
    "generalized coordinate might be the angle describing the position of a\n",
    "pendulum. This one angle takes the place of using $x$ and $y$ to\n",
    "describe the position of the pendulum, then applying a clumsy\n",
    "constraint.\n",
    "\n",
    "The Lagrangian equations of motion can be derived from a principle of\n",
    "least action, where the action $S$ is defined as"
   ]
  },
  {
   "cell_type": "markdown",
   "metadata": {},
   "source": [
    "<!-- Equation labels as ordinary links -->\n",
    "<div id=\"_auto6\"></div>\n",
    "\n",
    "$$\n",
    "\\begin{equation}\n",
    "S=\\int dt~ L(q,\\dot{q},t),\n",
    "\\label{_auto6} \\tag{6}\n",
    "\\end{equation}\n",
    "$$"
   ]
  },
  {
   "cell_type": "markdown",
   "metadata": {},
   "source": [
    "where $q$ is some coordinate that describes the orientation of a\n",
    "system and the Lagrangian $L$ is defined as"
   ]
  },
  {
   "cell_type": "markdown",
   "metadata": {},
   "source": [
    "<!-- Equation labels as ordinary links -->\n",
    "<div id=\"_auto7\"></div>\n",
    "\n",
    "$$\n",
    "\\begin{equation}\n",
    "L=T-U,\n",
    "\\label{_auto7} \\tag{7}\n",
    "\\end{equation}\n",
    "$$"
   ]
  },
  {
   "cell_type": "markdown",
   "metadata": {},
   "source": [
    "the difference of the kinetic and potential energies. Minimizing the\n",
    "action through the Euler-Lagrange equations gives the Lagrangian\n",
    "equations of motion,"
   ]
  },
  {
   "cell_type": "markdown",
   "metadata": {},
   "source": [
    "<!-- Equation labels as ordinary links -->\n",
    "<div id=\"_auto8\"></div>\n",
    "\n",
    "$$\n",
    "\\begin{equation}\n",
    "\\frac{d}{dt}\\frac{\\partial L}{\\partial \\dot{q}}=\\frac{\\partial L}{\\partial q}.\n",
    "\\label{_auto8} \\tag{8}\n",
    "\\end{equation}\n",
    "$$"
   ]
  },
  {
   "cell_type": "markdown",
   "metadata": {},
   "source": [
    "We begin with two simple examples, neither of which gains from the Lagrangian approach.\n",
    "\n",
    "\n",
    "Consider a particle of mass $m$ connected to a spring with stiffness $k$. Derive the Lagrangian equations of motion."
   ]
  },
  {
   "cell_type": "markdown",
   "metadata": {},
   "source": [
    "$$\n",
    "\\begin{eqnarray*}\n",
    "L&=&\\frac{1}{2}m\\dot{x}^2-\\frac{1}{2}kx^2,\\\\\n",
    "\\frac{d}{dt}\\frac{\\partial L}{\\partial \\dot{x}}&=&\\frac{\\partial L}{\\partial x},\\\\\n",
    "m\\ddot{x}&=&-kx.\n",
    "\\end{eqnarray*}\n",
    "$$"
   ]
  },
  {
   "cell_type": "markdown",
   "metadata": {},
   "source": [
    "Derive the Lagrangian equations of motion for a pendulum of mass $m$\n",
    "and length $\\ell$."
   ]
  },
  {
   "cell_type": "markdown",
   "metadata": {},
   "source": [
    "$$\n",
    "\\begin{eqnarray*}\n",
    "L&=&\\frac{m}{2}\\ell^2\\dot{\\theta}^2-mg\\ell(1-\\cos\\theta),\\\\\n",
    "\\frac{d}{dt}\\frac{\\partial L}{\\partial \\dot{\\theta}}&=&\\frac{\\partial L}{\\partial \\theta},\\\\\n",
    "m\\ell^2\\ddot{\\theta}&=&-mg\\ell\\sin\\theta,\\\\\n",
    "\\ddot{\\theta}&=&-\\frac{g}{\\ell}\\sin\\theta,\\\\\n",
    "\\ddot{\\theta}&\\approx&-\\frac{g}{\\ell}\\theta.\n",
    "\\end{eqnarray*}\n",
    "$$"
   ]
  },
  {
   "cell_type": "markdown",
   "metadata": {},
   "source": [
    "### Proving Lagrange's Equations of Motion from Newton's Laws\n",
    "\n",
    "Lagrange's equations of motion can only be applied for the following conditions:\n",
    "\n",
    "\n",
    "\n",
    "* The potential energy is a function of the generalized coordinates $q_i$, but not of $\\dot{q}_i$.\n",
    "\n",
    "* The relation between the original coordinates $x,y,z\\cdots$ and the generalized coordinates does not depend on $\\dot{q}_i$, e.g. $x(q,t)$ not $x(q,\\dot{q},t)$.\n",
    "\n",
    "* Any constraints used to reduce the number of degrees of freedom are functions of $\\boldsymbol{q}$, but not of $\\dot{\\boldsymbol{q}}$.\n",
    "\n",
    "* The motion is not dissipative (no damping or friction).\n",
    "\n",
    "Going forward with the proof, consider $x_i(q_1,q_2\\cdots,t)$ and look\n",
    "at the l.h.s. of Lagrange's equations of motion."
   ]
  },
  {
   "cell_type": "markdown",
   "metadata": {},
   "source": [
    "$$\n",
    "\\begin{eqnarray}\n",
    "\\frac{\\partial T}{\\partial\\dot{q}_j}&=&\\sum_i\\frac{\\partial T}{\\partial\\dot{x}_i}\\frac{\\partial\\dot{x}_i}{\\partial\\dot{q_j}}\n",
    "+\\sum_i\\frac{\\partial T}{\\partial x_i}\\frac{\\partial x_i}{\\partial\\dot{q_j}}\\\\\n",
    "\\nonumber\n",
    "&=&\\sum_i m\\dot{x}_i\\frac{\\partial \\dot{x}_i}{\\partial\\dot{q_j}}\\\\\n",
    "\\nonumber\n",
    "&=&\\sum_i m\\dot{x}_i\\frac{(\\delta x_i/\\delta t)|_{{\\rm fixed~}q_{j'\\ne j}}}{\\delta q_j/\\delta t}\\\\\n",
    "\\nonumber\n",
    "&=&\\sum_im\\dot{x}_i\\frac{\\delta{x}_i|_{{\\rm fixed~}q_{j'\\ne j}}}{\\delta q_j}\\\\\n",
    "\\nonumber\n",
    "&=&\\sum_i m\\dot{x}_i\\frac{\\partial x_i}{\\partial q_j}.\n",
    "\\end{eqnarray}\n",
    "$$"
   ]
  },
  {
   "cell_type": "markdown",
   "metadata": {},
   "source": [
    "In the first line we used the fact that $T$ does not depend on\n",
    "$x$. Continuing with taking the derivative of $U$,"
   ]
  },
  {
   "cell_type": "markdown",
   "metadata": {},
   "source": [
    "$$\n",
    "\\begin{eqnarray}\n",
    "-\\frac{\\partial U}{\\partial\\dot{q}_j}&=&-\\sum_i\\frac{\\partial U}{\\partial x_i}\\frac{\\partial x_i}{\\partial\\dot{q}_j}=0.\n",
    "\\end{eqnarray}\n",
    "$$"
   ]
  },
  {
   "cell_type": "markdown",
   "metadata": {},
   "source": [
    "In the first line above we used the fact that $U$ does not depend on $\\dot{x}$ then we used the second condition that $x$ does not depend on $\\dot{q}$. Adding the two pieces together, then taking the derivative w.r.t. time,"
   ]
  },
  {
   "cell_type": "markdown",
   "metadata": {},
   "source": [
    "$$\n",
    "\\begin{eqnarray}\n",
    "\\nonumber\n",
    "\\frac{d}{dt}\\frac{\\partial}{\\partial\\dot{q}}(T-U)&=&\\sum_im\\ddot{x}_i\\frac{\\partial x_i}{\\partial q_j}\n",
    "+\\sum_i m\\dot{x}_i\\frac{\\partial\\dot{x}_i}{\\partial q_j}.\n",
    "\\end{eqnarray}\n",
    "$$"
   ]
  },
  {
   "cell_type": "markdown",
   "metadata": {},
   "source": [
    "Now, we consider the r.h.s. of Lagrange's equations. Because the\n",
    "kinetic energy depends only on $\\dot{x}$ and not $x$, and because the\n",
    "potential depends on $x$ but not $\\dot{x}$,"
   ]
  },
  {
   "cell_type": "markdown",
   "metadata": {},
   "source": [
    "$$\n",
    "\\begin{eqnarray}\n",
    "\\frac{\\partial}{\\partial q_j}(T-U)&=&\\sum_i\\frac{\\partial T}{\\partial\\dot{x}_i}\\frac{\\partial\\dot{x_i}}{\\partial q_j}\n",
    "-\\sum_i\\frac{\\partial U}{\\partial x_i}\\frac{\\partial x_i}{\\partial q_j}\\\\\n",
    "\\nonumber\n",
    "&=&\\sum_i m\\dot{x}_i\\frac{\\partial\\dot{x_i}}{\\partial q_j}\n",
    "-\\sum_i\\frac{\\partial U}{\\partial x_i}\\frac{\\partial x_i}{\\partial q_j}\n",
    "\\end{eqnarray}\n",
    "$$"
   ]
  },
  {
   "cell_type": "markdown",
   "metadata": {},
   "source": [
    "Using the fact that $m\\ddot{x}_i=-(\\partial/\\partial x_i)U$, one can\n",
    "see that the bottom expressions above are identical,"
   ]
  },
  {
   "cell_type": "markdown",
   "metadata": {},
   "source": [
    "<!-- Equation labels as ordinary links -->\n",
    "<div id=\"_auto9\"></div>\n",
    "\n",
    "$$\n",
    "\\begin{equation}\n",
    "\\frac{d}{dt}\\frac{\\partial}{\\partial\\dot{q}_i}(T-U)=\\frac{\\partial}{\\partial q_i}(T-U).\n",
    "\\label{_auto9} \\tag{9}\n",
    "\\end{equation}\n",
    "$$"
   ]
  },
  {
   "cell_type": "markdown",
   "metadata": {},
   "source": [
    "### Lagrangian Examples\n",
    "\n",
    "Two examples are presented here. In the first, there are two\n",
    "generalized coordinates, but the two equations of motion can be\n",
    "reduced to one through conservation laws (angular momentum in this\n",
    "case). In the second, there is a time-dependent constraint.\n",
    "\n",
    "\n",
    "Consider a cone of half angle $\\alpha$ standing on its tip at the\n",
    "origin. The surface of the cone is defined as"
   ]
  },
  {
   "cell_type": "markdown",
   "metadata": {},
   "source": [
    "$$\n",
    "r=\\sqrt{x^2+y^2}=z\\tan \\alpha.\n",
    "$$"
   ]
  },
  {
   "cell_type": "markdown",
   "metadata": {},
   "source": [
    "Find the equations of motion for a particle of mass $m$ moving along the surface under the influence of a constant gravitational force, $-mg\\hat{z}$. For generalized coordinates use the azimuthal angle $\\phi$ and $r$.\n",
    "\n",
    "\n",
    "The kinetic energy is"
   ]
  },
  {
   "cell_type": "markdown",
   "metadata": {},
   "source": [
    "$$\n",
    "\\begin{eqnarray*}\n",
    "T&=&\\frac{1}{2}mr^2\\dot{\\theta}^2+\\frac{1}{2}m(\\dot{r}^2+\\dot{z}^2)\\\\\n",
    "&=&\\frac{1}{2}mr^2\\dot{\\theta}^2+\\frac{1}{2}m\\dot{r}^2\\left(1+\\cot^2\\alpha\\right)\\\\\n",
    "&=&\\frac{1}{2}mr^2\\dot{\\theta}^2+\\frac{1}{2}m\\dot{r}^2\\csc^2\\alpha.\n",
    "\\end{eqnarray*}\n",
    "$$"
   ]
  },
  {
   "cell_type": "markdown",
   "metadata": {},
   "source": [
    "The potential energy is"
   ]
  },
  {
   "cell_type": "markdown",
   "metadata": {},
   "source": [
    "$$\n",
    "U=mgr\\cot\\alpha,\n",
    "$$"
   ]
  },
  {
   "cell_type": "markdown",
   "metadata": {},
   "source": [
    "so Lagrange's equations give"
   ]
  },
  {
   "cell_type": "markdown",
   "metadata": {},
   "source": [
    "$$\n",
    "\\begin{eqnarray*}\n",
    "\\frac{d}{dt}\\left(mr^2\\dot{\\theta}\\right)&=&0,\\\\\n",
    "\\frac{d}{dt}\\left(m\\csc^2\\alpha \\dot{r}\\right)&=&mr\\dot{\\theta}^2-mg\\cot\\alpha,\\\\\n",
    "\\ddot{r}&=&r\\dot{\\theta}^2\\sin^2\\alpha-g\\cos\\alpha\\sin\\alpha\n",
    "\\end{eqnarray*}\n",
    "$$"
   ]
  },
  {
   "cell_type": "markdown",
   "metadata": {},
   "source": [
    "The first equation is a statement of the conservation of angular\n",
    "momentum with $L=mr^2\\dot{\\theta}$, so the second equation can also be\n",
    "expressed as"
   ]
  },
  {
   "cell_type": "markdown",
   "metadata": {},
   "source": [
    "$$\n",
    "\\ddot{r}=\\frac{L^2\\sin^2\\alpha}{m^2r^3}-g\\sin\\alpha\\cos\\alpha.\n",
    "$$"
   ]
  },
  {
   "cell_type": "markdown",
   "metadata": {},
   "source": [
    "A bead slides along a wire bent in the shape of a parabola,"
   ]
  },
  {
   "cell_type": "markdown",
   "metadata": {},
   "source": [
    "$$\n",
    "z=\\frac{1}{2}kr^2,~~r^2=x^2+y^2.\n",
    "$$"
   ]
  },
  {
   "cell_type": "markdown",
   "metadata": {},
   "source": [
    "Also, the parabolic wire is rotating about the $z$ axis with angular\n",
    "velocity $\\omega$. Derive the equations of motion. Are there any\n",
    "stable configurations?\n",
    "\n",
    "\n",
    "Using the fact that"
   ]
  },
  {
   "cell_type": "markdown",
   "metadata": {},
   "source": [
    "$$\n",
    "\\dot{z}=\\dot{r}\\frac{\\partial z}{\\partial r}=kr\\dot{r},\n",
    "$$"
   ]
  },
  {
   "cell_type": "markdown",
   "metadata": {},
   "source": [
    "the kinetic and potential energies are"
   ]
  },
  {
   "cell_type": "markdown",
   "metadata": {},
   "source": [
    "$$\n",
    "\\begin{eqnarray*}\n",
    "T&=&\\frac{1}{2}m\\left(\\dot{r}^2+\\dot{z}^2+r^2\\omega^2\\right)\\\\\n",
    "&=&\\frac{1}{2}m\\left(\\dot{r}^2+(kr\\dot{r})^2+r^2\\omega^2\\right),\\\\\n",
    "U&=&mgkr^2/2.\n",
    "\\end{eqnarray*}\n",
    "$$"
   ]
  },
  {
   "cell_type": "markdown",
   "metadata": {},
   "source": [
    "The equations of motion are then"
   ]
  },
  {
   "cell_type": "markdown",
   "metadata": {},
   "source": [
    "$$\n",
    "\\begin{eqnarray*}\n",
    "\\frac{d}{dt}\\left\\{m\\dot{r}(1+k^2r^2)\\right\\}&=&-mgkr+mk^2\\dot{r}^2r+m\\omega^2r,\\\\\n",
    "\\ddot{r}&=&\\frac{-gkr+\\omega^2r-k^2\\dot{r}^2r}{1+k^2r^2}\n",
    "\\end{eqnarray*}\n",
    "$$"
   ]
  },
  {
   "cell_type": "markdown",
   "metadata": {},
   "source": [
    "For a stable configuration, there needs to be a solution with\n",
    "$\\dot{r}=0$ and $\\ddot{r}=0$. This can only happen at $r=0$, and then\n",
    "for the acceleration to be inward for small deviations of $r$ one\n",
    "needs to have $gk>\\omega^2$. If $\\omega^2>gk$ the bead will move\n",
    "outward indefinitely.\n",
    "\n",
    "\n",
    "\n",
    "\n",
    "## Small Vibrations and Normal Modes\n",
    "\n",
    "Two examples are provided for solving for normal modes. These are\n",
    "solutions with multiple generalized coordinates, where the motion is\n",
    "that of simple harmonic motion. However, the motion is only simple for\n",
    "a particular set of coordinates $q_1$ and $q_2$,"
   ]
  },
  {
   "cell_type": "markdown",
   "metadata": {},
   "source": [
    "$$\n",
    "\\begin{eqnarray}\n",
    "q_1&=&A\\cos(\\omega_1 t),\\\\\n",
    "\\nonumber\n",
    "q_2&=&B\\cos(\\omega_2 t),\n",
    "\\end{eqnarray}\n",
    "$$"
   ]
  },
  {
   "cell_type": "markdown",
   "metadata": {},
   "source": [
    "while it is not necessarily simple in other coordinates. For example\n",
    "if $x=q_1+q_2$, and $y=q_1-q_2$, the $x$ and $y$ motions will contain\n",
    "mixtures of multiple frequencies. For many problems, or in the limit\n",
    "of small vibrations about a minimum, there is some coordinate system\n",
    "where the motion is simple. These are normal modes. Characterizing the\n",
    "normal modes involves finding the frequencies, $\\omega_i$, and the\n",
    "coordinate system where the motion is simple for each coordinate. This\n",
    "involves finding the direction, or the linear combination of $x_i$\n",
    "that form the coordinates $q_i$ in which the motion is that of a\n",
    "single oscillator in each coordinate.\n",
    "\n",
    "\n",
    "### Coupled Springs\n",
    "\n",
    "For a first example, we consider a system of springs, where we write\n",
    "the Lagrangian, then find the normal modes. For the second example, a\n",
    "double pendulum is considered. In this case, one must first make a\n",
    "small angle expansion before finding the modes. In principle, problems\n",
    "could have the same number of normal modes a degrees of freedom. For\n",
    "example, a system of 7 particles moving in three dimensions has 21\n",
    "degrees of freedom. However, some of the degrees of freedom do not\n",
    "have oscillatory behavior. For example, for a rigid body in free\n",
    "space, the angles describing the orientation evolve, but do not\n",
    "oscillate. Also, the center-of-mass coordinates of a system of\n",
    "particles isolated from outside particles moves at constant\n",
    "velocity. One can also describe these as normal modes, but acknowledge\n",
    "that their characteristic frequency is zero, as there are no restoring\n",
    "forces.\n",
    "\n",
    "\n",
    "Consider two springs, whose relaxed lengths are $\\ell$, connected to three masses as depicted in the figure here. Describe the two normal modes of the motion. We can write the Lagrangian as"
   ]
  },
  {
   "cell_type": "markdown",
   "metadata": {},
   "source": [
    "$$\n",
    "\\begin{eqnarray*}\n",
    "\\mathcal{L}&=&\\frac{m}{2}\\dot{x}_1^2+m\\dot{x}_2^2+\\frac{m}{2}\\dot{x}_3^2\n",
    "-\\frac{k}{2}(x_2-x_1-\\ell)^2-\\frac{k}{2}(x_3-x_2-\\ell)^2.\n",
    "\\end{eqnarray*}\n",
    "$$"
   ]
  },
  {
   "cell_type": "markdown",
   "metadata": {},
   "source": [
    "There are three coordinates, thus there are three equations of motion,"
   ]
  },
  {
   "cell_type": "markdown",
   "metadata": {},
   "source": [
    "$$\n",
    "\\begin{eqnarray*}\n",
    "m\\ddot{x}_1&=&-k(x_1-x_2+\\ell)\\\\\n",
    "2m\\ddot{x}_2&=&-k(x_2-x_1-\\ell)-k(x_2-x_3+\\ell)\\\\\n",
    "&=&-k(2x_2-x_1-x_3)\\\\\n",
    "m\\ddot{x}_3&=&-k(x_3-x_2+\\ell).\n",
    "\\end{eqnarray*}\n",
    "$$"
   ]
  },
  {
   "cell_type": "markdown",
   "metadata": {},
   "source": [
    "This is a bit complicated because the center-of-mass motion does not easily separate from the three equations. Instead, choose the following coordinates,"
   ]
  },
  {
   "cell_type": "markdown",
   "metadata": {},
   "source": [
    "$$\n",
    "\\begin{eqnarray*}\n",
    "X&=&\\frac{x_1+2x_2+x_3}{4},\\\\\n",
    "q_1&=&x_1-x_2+\\ell,\\\\\n",
    "q_3&=&x_3-x_2-\\ell.\n",
    "\\end{eqnarray*}\n",
    "$$"
   ]
  },
  {
   "cell_type": "markdown",
   "metadata": {},
   "source": [
    "In these coordinates the potential energy only involves two coordinates,"
   ]
  },
  {
   "cell_type": "markdown",
   "metadata": {},
   "source": [
    "$$\n",
    "\\begin{eqnarray*}\n",
    "U&=&\\frac{k}{2}(q_1^2+q_3^2).\n",
    "\\end{eqnarray*}\n",
    "$$"
   ]
  },
  {
   "cell_type": "markdown",
   "metadata": {},
   "source": [
    "To express the kinetic energy express $x_1, x_2$ and $x_3$ in terms of\n",
    "$X$, $q_1$ and $q_3$,"
   ]
  },
  {
   "cell_type": "markdown",
   "metadata": {},
   "source": [
    "$$\n",
    "\\begin{eqnarray*}\n",
    "x_1&=&(3q_1-q_3-4\\ell+4X)/4,\\\\\n",
    "x_2&=&(4X-q_1-q_3)/4,\\\\\n",
    "x_3&=&(3q_3-q_1+4\\ell+4X)/4.\n",
    "\\end{eqnarray*}\n",
    "$$"
   ]
  },
  {
   "cell_type": "markdown",
   "metadata": {},
   "source": [
    "The kinetic energy and Lagrangian are them"
   ]
  },
  {
   "cell_type": "markdown",
   "metadata": {},
   "source": [
    "$$\n",
    "\\begin{eqnarray*}\n",
    "T&=&\\frac{m}{2}\\frac{1}{16}(3\\dot{q}_1-\\dot{q}_3+4\\dot{X})^2\n",
    "+m\\frac{1}{16}(4\\dot{X}-\\dot{q}_1-\\dot{q}_3)^2\n",
    "+\\frac{m}{2}\\frac{1}{16}(3\\dot{q}_3-\\dot{q}_1+4\\dot{X})^2\\\\\n",
    "&=&\\frac{3m}{8}(\\dot{q}_1^2+\\dot{q}_3^2)-\\frac{m}{4}\\dot{q}_1\\dot{q}_3\n",
    "+2m\\dot{X}^2,\\\\\n",
    "\\mathcal{L}&=&\\frac{3m}{8}(\\dot{q}_1^2+\\dot{q}_3^2)-\\frac{m}{4}\\dot{q}_1\\dot{q}_3\n",
    "+2m\\dot{X}^2-\\frac{k}{2}q_1^2-\\frac{k}{2}q_3^2.\n",
    "\\end{eqnarray*}\n",
    "$$"
   ]
  },
  {
   "cell_type": "markdown",
   "metadata": {},
   "source": [
    "The three equations of motion are then,"
   ]
  },
  {
   "cell_type": "markdown",
   "metadata": {},
   "source": [
    "$$\n",
    "\\begin{eqnarray*}\n",
    "\\frac{3}{4}m\\ddot{q}_1-\\frac{1}{4}m\\ddot{q}_3&=&-kq_1,\\\\\n",
    "\\frac{3}{4}m\\ddot{q}_3-\\frac{1}{4}m\\ddot{q}_1&=&-kq_3,\\\\\n",
    "4M\\ddot{X}&=&0.\n",
    "\\end{eqnarray*}\n",
    "$$"
   ]
  },
  {
   "cell_type": "markdown",
   "metadata": {},
   "source": [
    "The last equation simply states that the center-of-mass velocity is\n",
    "fixed. One could obtain the same result by summing the equations of\n",
    "motion for $x_1$, $2x_2$ and $x_3$ above. The second two equations are\n",
    "more complicated. To solve them, we assume a form"
   ]
  },
  {
   "cell_type": "markdown",
   "metadata": {},
   "source": [
    "$$\n",
    "\\begin{eqnarray*}\n",
    "q_1&=&Ae^{i\\omega t},\\\\\n",
    "q_3&=&Be^{i\\omega t},\n",
    "\\end{eqnarray*}\n",
    "$$"
   ]
  },
  {
   "cell_type": "markdown",
   "metadata": {},
   "source": [
    "Because this is a linear equation, we can multiply the solution by a\n",
    "constant and it will still be a solution. Thus, we can set $B=1$, then\n",
    "solve for $A$, effectively solving for $A/B$. Putting this guess into\n",
    "the equations of motion,"
   ]
  },
  {
   "cell_type": "markdown",
   "metadata": {},
   "source": [
    "$$\n",
    "\\begin{eqnarray*}\n",
    "-\\frac{3}{4}\\frac{A}{B}\\omega^2+\\frac{1}{4}\\omega^2&=&-\\omega_0^2\\frac{A}{B},\\\\\n",
    "-\\frac{3}{4}\\omega^2+\\frac{1}{4}\\frac{A}{B}\\omega^2&=&-\\omega_0^2.\n",
    "\\end{eqnarray*}\n",
    "$$"
   ]
  },
  {
   "cell_type": "markdown",
   "metadata": {},
   "source": [
    "This is two equations and two unknowns, $\\omega^2$ and\n",
    "$A/B$. Substituting for $A/B$ gives a quadratic equation,"
   ]
  },
  {
   "cell_type": "markdown",
   "metadata": {},
   "source": [
    "$$\n",
    "\\begin{eqnarray*}\n",
    "\\omega^4-3\\omega_0^2\\omega^2+2\\omega_0^4&=&0,\\\\\n",
    "\\omega_0^2&\\equiv&k/m.\n",
    "\\end{eqnarray*}\n",
    "$$"
   ]
  },
  {
   "cell_type": "markdown",
   "metadata": {},
   "source": [
    "The two solutions are"
   ]
  },
  {
   "cell_type": "markdown",
   "metadata": {},
   "source": [
    "$$\n",
    "\\begin{eqnarray*}\n",
    "(1)~~\\omega&=&\\omega_0,~~~A=-B,\\\\\n",
    "(2)~~\\omega&=&\\omega_0\\sqrt{2},~~~A=B.\n",
    "\\end{eqnarray*}\n",
    "$$"
   ]
  },
  {
   "cell_type": "markdown",
   "metadata": {},
   "source": [
    "The first solution corresponds to the two outer masses moving in\n",
    "opposite directions, in sync, with the middle mass fixed. The second\n",
    "solution has both outer masses moving in the same direction, but with\n",
    "the center mass moving opposite. These two solutions are referred to\n",
    "as normal modes, and are characterized by their frequency and by the\n",
    "linear combinations of coordinates that oscillate together. In\n",
    "general, the solution is a linear combination of normal modes, which\n",
    "usually results in a chaotic looking motion. However, once the\n",
    "solution is expressed in terms of the normal modes, each of which\n",
    "oscillates independently in a simple manner, one can better understand\n",
    "the motion. Further, the frequencies of these modes represent the\n",
    "natural resonant frequencies of the system. This is important in the\n",
    "construction of many structures, such as bridges or vehicles.\n",
    "\n",
    "### Double Pendulum\n",
    "\n",
    "Consider a double pendulum confined to the $x-y$ plane, where $y$ is\n",
    "vertical. A mass $m$ is connected to the ceiling with a massless\n",
    "string of length $\\ell$. A second mass $m$ hangs from the first mass\n",
    "with an identical massless string of the same length. Using $\\theta_1$\n",
    "and $\\theta_2$ to describe the orientations of the strings relative to\n",
    "the vertical axis, find the Lagrangian and derive the equations of\n",
    "motion, both for arbitrary angles and in the small-angle\n",
    "approximation. Finally, express the equations of motion in the limit\n",
    "of small oscillations.\n",
    "\n",
    "\n",
    "The kinetic and potential energies are:"
   ]
  },
  {
   "cell_type": "markdown",
   "metadata": {},
   "source": [
    "$$\n",
    "\\begin{eqnarray*}\n",
    "T&=&\\frac{1}{2}m\\ell^2\\dot{\\theta}_1^2\n",
    "+\\frac{1}{2}m\\left\\{(\\ell\\dot{\\theta}_1\\cos\\theta_1+\\ell\\dot{\\theta}_2\\cos\\theta_2)^2\n",
    "+(\\ell\\dot{\\theta}_1\\sin\\theta_1+\\ell\\dot{\\theta}_2\\sin\\theta_2)^2\\right\\}\\\\\n",
    "&=&\\frac{1}{2}m\\ell^2\\left\\{2\\dot{\\theta}_1^2+\\dot{\\theta}_2^2+2\\dot{\\theta}_1\\dot{\\theta}_2\\cos(\\theta_1-\\theta_2)\n",
    "\\right\\},\\\\\n",
    "U&=&mg\\ell(1-\\cos\\theta_1)+mg\\left[\\ell(1-\\cos\\theta_1)+\\ell(1-\\cos\\theta_2)\\right]\\\\\n",
    "&=&mg\\ell(3-2\\cos\\theta_1-\\cos\\theta_2)\n",
    "\\end{eqnarray*}\n",
    "$$"
   ]
  },
  {
   "cell_type": "markdown",
   "metadata": {},
   "source": [
    "Lagrange's equations for $\\theta_1$ lead to"
   ]
  },
  {
   "cell_type": "markdown",
   "metadata": {},
   "source": [
    "$$\n",
    "\\begin{eqnarray*}\n",
    "m\\ell^2\\frac{d}{dt}\\left\\{2\\dot{\\theta}_1+\\dot{\\theta}_2\\cos(\\theta_1-\\theta_2)\\right\\}&=&\n",
    "-m\\ell^2\\dot{\\theta}_1\\dot{\\theta}_2\\sin(\\theta_1-\\theta_2)\n",
    "-2mg\\ell\\sin\\theta_1,\\\\\n",
    "2\\ddot{\\theta}_1+\\ddot{\\theta}_2\\cos(\\theta_1-\\theta_2)+\\dot{\\theta}_2^2\\sin(\\theta_1-\\theta_2)\n",
    "&=&-2\\omega_0^2\\sin\\theta_1,\\\\\n",
    "\\omega_0^2&\\equiv& g/\\ell,\n",
    "\\end{eqnarray*}\n",
    "$$"
   ]
  },
  {
   "cell_type": "markdown",
   "metadata": {},
   "source": [
    "and the equations for $\\theta_2$ are"
   ]
  },
  {
   "cell_type": "markdown",
   "metadata": {},
   "source": [
    "$$\n",
    "\\begin{eqnarray*}\n",
    "m\\ell^2\\frac{d}{dt}\\left\\{\\dot{\\theta}_2+\\dot{\\theta}_1\\cos(\\theta_1-\\theta_2)\\right\\}&=&\n",
    "m\\ell^2\\dot{\\theta}_1\\dot{\\theta}_2\\sin(\\theta_1-\\theta_2)-mg\\ell\\sin\\theta_2,\\\\\n",
    "\\ddot{\\theta}_2+\\ddot{\\theta_1}\\cos(\\theta_1-\\theta_2)&=&\n",
    "-\\omega_0^2\\sin\\theta_2.\n",
    "\\end{eqnarray*}\n",
    "$$"
   ]
  },
  {
   "cell_type": "markdown",
   "metadata": {},
   "source": [
    "For small oscillations, one can only consider terms linear in $\\theta_1$ and $\\theta_2$ or their derivatives,"
   ]
  },
  {
   "cell_type": "markdown",
   "metadata": {},
   "source": [
    "$$\n",
    "\\begin{eqnarray}\n",
    "2\\ddot{\\theta}_1+\\ddot{\\theta}_2&=&-2\\omega_0^2\\theta_1,\\\\\n",
    "\\nonumber\n",
    "\\ddot{\\theta}_1+\\ddot{\\theta}_2&=&-\\omega_0^2\\theta_2.\n",
    "\\end{eqnarray}\n",
    "$$"
   ]
  },
  {
   "cell_type": "markdown",
   "metadata": {},
   "source": [
    "To find the solutions, assume they are of the form\n",
    "$\\theta_1=Ae^{i\\omega t}, \\theta_2=Be^{i\\omega t}$. Solve for $\\omega$\n",
    "and $A/B$, noting that $B$ is arbitrary.\n",
    "\n",
    "Plug in the desired form and find"
   ]
  },
  {
   "cell_type": "markdown",
   "metadata": {},
   "source": [
    "$$\n",
    "\\begin{eqnarray*}\n",
    "e^{i\\omega t}(-2\\omega^2A-\\omega^2B)&=&e^{i\\omega t}(-2\\omega_0^2A),\\\\\n",
    "e^{i\\omega t}(-\\omega^2A-\\omega^2B)&=&e^{i\\omega t}(-\\omega_0^2B).\n",
    "\\end{eqnarray*}\n",
    "$$"
   ]
  },
  {
   "cell_type": "markdown",
   "metadata": {},
   "source": [
    "We can treat $B$ as arbitrary and set it to unity. When we find $A$,\n",
    "it is the same as $A/B$ for arbitrary $B$. This gives the equations"
   ]
  },
  {
   "cell_type": "markdown",
   "metadata": {},
   "source": [
    "$$\n",
    "\\begin{eqnarray*}\n",
    "2\\omega^2A+\\omega^2&=&2\\omega_0^2A,\\\\\n",
    "\\omega^2A+\\omega^2&=&\\omega_0^2.\n",
    "\\end{eqnarray*}\n",
    "$$"
   ]
  },
  {
   "cell_type": "markdown",
   "metadata": {},
   "source": [
    "This is two equations and two unknowns. Solving them leads to a\n",
    "quadratic equation with solutions"
   ]
  },
  {
   "cell_type": "markdown",
   "metadata": {},
   "source": [
    "$$\n",
    "\\begin{eqnarray*}\n",
    "A/B&=&\\pm\\frac{1}{\\sqrt{2}},\\\\\n",
    "\\omega^2&=&\\frac{\\omega_0^2}{1\\pm 1/\\sqrt{2}}.\n",
    "\\end{eqnarray*}\n",
    "$$"
   ]
  },
  {
   "cell_type": "markdown",
   "metadata": {},
   "source": [
    "Again, these two solutions are the normal modes, and the general\n",
    "solution is a sum of the two solutions, with two arbitrary\n",
    "constants. For the angles $\\theta_1$ and $\\theta_2$ are:"
   ]
  },
  {
   "cell_type": "markdown",
   "metadata": {},
   "source": [
    "$$\n",
    "\\begin{eqnarray*}\n",
    "\\theta_1&=&\\frac{A_+}{\\sqrt{2}}e^{i\\omega_+t}, ~\\theta_2=A_+e^{i\\omega_+t},\\\\\n",
    "\\theta_1&=&\\frac{-A_-}{\\sqrt{2}}e^{i\\omega_-t}, ~\\theta_2=A_-e^{i\\omega_-t},\\\\\n",
    "\\omega_{\\pm}&=&\\omega_0\\sqrt{\\frac{1}{1\\pm 1/\\sqrt{2}}}.\n",
    "\\end{eqnarray*}\n",
    "$$"
   ]
  },
  {
   "cell_type": "markdown",
   "metadata": {},
   "source": [
    "One can also express the solution in vector notation, with the vectors\n",
    "having arbitrary amplitudes $A_+$ and $A_-$,"
   ]
  },
  {
   "cell_type": "markdown",
   "metadata": {},
   "source": [
    "$$\n",
    "\\begin{eqnarray*}\n",
    "\\theta_+&=&\\left(\\begin{array}{c}\n",
    "\\frac{1}{\\sqrt{2}}\\\\ 1\\end{array}\\right)A_+e^{i\\omega_+t},\\\\\n",
    "\\theta_-&=&\\left(\\begin{array}{c}\n",
    "\\frac{-1}{\\sqrt{2}}\\\\ 1\\end{array}\\right)A_-e^{i\\omega_-t}.\n",
    "\\end{eqnarray*}\n",
    "$$"
   ]
  },
  {
   "cell_type": "markdown",
   "metadata": {},
   "source": [
    "Here, the upper/lower components of the vector describe\n",
    "$\\theta_1/\\theta_2$ respectively.\n",
    "\n",
    "\n",
    "\n",
    "\n",
    "These problems can be treated as linear algebra exercises. Linear\n",
    "algebra is not used in this course, but nonetheless we describe how\n",
    "this works for the curious student. In the limit of small vibrations,\n",
    "the equations of motion can be expressed in the form,"
   ]
  },
  {
   "cell_type": "markdown",
   "metadata": {},
   "source": [
    "$$\n",
    "\\begin{eqnarray*}\n",
    "M\\ddot{q}&=&-Kq,\n",
    "\\end{eqnarray*}\n",
    "$$"
   ]
  },
  {
   "cell_type": "markdown",
   "metadata": {},
   "source": [
    "a form that looks like the spring equation. However, $q$ is an\n",
    "$n-$dimensional vector and $M$ and $k$ are $n\\times n$ matrices. In\n",
    "the double pendulum example, the dimensionality is 2 and the $q$\n",
    "refers to the $\\theta_1$ and $\\theta_2$, and the matrices for $M$ and\n",
    "$K$ can be read off as"
   ]
  },
  {
   "cell_type": "markdown",
   "metadata": {},
   "source": [
    "$$\n",
    "M=\\begin{bmatrix} 2&1\\\\ 1&1\\end{bmatrix},\n",
    "$$"
   ]
  },
  {
   "cell_type": "markdown",
   "metadata": {},
   "source": [
    "and"
   ]
  },
  {
   "cell_type": "markdown",
   "metadata": {},
   "source": [
    "$$\n",
    "K=\\begin{bmatrix} 2\\omega_0^2&0\\\\ 0&\\omega_0^2\\end{bmatrix}.\n",
    "$$"
   ]
  },
  {
   "cell_type": "markdown",
   "metadata": {},
   "source": [
    "Multiplying both sides of the equation by the inverse matrix $M^{-1}$,"
   ]
  },
  {
   "cell_type": "markdown",
   "metadata": {},
   "source": [
    "$$\n",
    "\\begin{eqnarray*}\n",
    "\\ddot{q}&=&-\\left(M^{-1}K\\right)q.\n",
    "\\end{eqnarray*}\n",
    "$$"
   ]
  },
  {
   "cell_type": "markdown",
   "metadata": {},
   "source": [
    "Here,"
   ]
  },
  {
   "cell_type": "markdown",
   "metadata": {},
   "source": [
    "$$\n",
    "\\begin{eqnarray*}\n",
    "M^{-1}&=&\\left(\\begin{array}{cc}\n",
    "1&-1\\\\\n",
    "-1&2\\end{array}\\right),\\\\\n",
    "M^{-1}K&=&\\left(\\begin{array}{cc}\n",
    "2&-1\\\\\n",
    "-2&2\\end{array}\\right)\\omega_0^2.\n",
    "\\end{eqnarray*}\n",
    "$$"
   ]
  },
  {
   "cell_type": "markdown",
   "metadata": {},
   "source": [
    "One can find a transformation, basically a rotation, that transforms\n",
    "to a frame where $M^{-1}K$ is diagonal. In this coordinate system the\n",
    "diagonal components of $M^{-1}K$ represent the squared frequencies of\n",
    "the normal modes,"
   ]
  },
  {
   "cell_type": "markdown",
   "metadata": {},
   "source": [
    "$$\n",
    "M^{-1}K\\rightarrow -\\left(\\begin{array}{cc}\n",
    "\\omega_+^2&0\\\\\n",
    "0&\\omega_-^2\\end{array}\\right)~,\n",
    "$$"
   ]
  },
  {
   "cell_type": "markdown",
   "metadata": {},
   "source": [
    "and are known as \"eigen\" frequencies. The corresponding unit vectors,"
   ]
  },
  {
   "cell_type": "markdown",
   "metadata": {},
   "source": [
    "$$\n",
    "\\left(\\begin{array}{c}\n",
    "1\\\\0\\end{array}\\right)~{\\rm and}~\\left(\\begin{array}{c}\n",
    "0\\\\1\\end{array}\\right)~{\\rm in~the~new~coordinate~system},\n",
    "$$"
   ]
  },
  {
   "cell_type": "markdown",
   "metadata": {},
   "source": [
    "can be rotated back into the original frame, and become the solutions\n",
    "for the normal modes. These are then called \"eigenvectors\", which\n",
    "are the same as the normal modes. Finding the eigenfrequencies is\n",
    "performed by realizing that the determinant of a matrix is unchanged\n",
    "by the rotation between coordinate systems. Writing the equations of\n",
    "motion as an eigenvalue problem,"
   ]
  },
  {
   "cell_type": "markdown",
   "metadata": {},
   "source": [
    "$$\n",
    "\\begin{eqnarray}\n",
    "\\left[A-\\lambda_i\\mathbb{1}\\right]u_i&=&0,~~~A\\equiv M^{-1}K,~\\lambda_i\\equiv \\omega^2_i.\n",
    "\\end{eqnarray}\n",
    "$$"
   ]
  },
  {
   "cell_type": "markdown",
   "metadata": {},
   "source": [
    "In the coordinate system where $M^{-1}K$ is diagonal, and the forms\n",
    "for $u_i$ are simple this requires that in that system, the diagonal\n",
    "elements of $M^{-1}K$ are the eigenvalues, $\\omega_i^2$. For each\n",
    "$\\omega^2_i$, the determinant $|A-\\lambda_i\\mathbb{1}|$ must\n",
    "vanish. This is then true in any coordinate system,"
   ]
  },
  {
   "cell_type": "markdown",
   "metadata": {},
   "source": [
    "$$\n",
    "\\begin{eqnarray}\n",
    "{\\rm det}\\left[A-\\lambda\\mathbb{1}\\right]&=&0,\n",
    "\\end{eqnarray}\n",
    "$$"
   ]
  },
  {
   "cell_type": "markdown",
   "metadata": {},
   "source": [
    "which for a $2\\times 2$ matrix becomes"
   ]
  },
  {
   "cell_type": "markdown",
   "metadata": {},
   "source": [
    "$$\n",
    "\\begin{eqnarray}\n",
    "\\left|\n",
    "\\begin{array}{cc}\n",
    "A_{11}-\\lambda&A_{12}\\\\\n",
    "A_{21}&A_{22}-\\lambda\n",
    "\\end{array}\n",
    "\\right|&=&0,\\\\\n",
    "A_{11}A_{22}-\\lambda A_{11}-\\lambda A_{22}+\\lambda^2-A_{21}A_{12}&=&0.\n",
    "\\end{eqnarray}\n",
    "$$"
   ]
  },
  {
   "cell_type": "markdown",
   "metadata": {},
   "source": [
    "One can solve a quadratic equation for $\\lambda$, which gives two\n",
    "eigenvalues corresponding to $\\omega_+^2$ and $\\omega_-^2$ found\n",
    "above. Choosing one of the eigenvalues, one can insert one of the\n",
    "eigenvalues $\\lambda_i$ into the eigenvalue problem  and solve for $u_i$,\n",
    "then choose the other eigenvalue and solve for the other corresponding\n",
    "vector.\n",
    "\n",
    "If this were a 3-dimensional set of equations, the determinant would\n",
    "include terms like $\\lambda^3$ and would become a cubic equation with\n",
    "three eigenvalues. One would then solve for three eigenvectors. If one\n",
    "has a system with dimensionality $n>2$, one usually resorts to solving\n",
    "the problem numerically due to the messiness of the algebra. The main\n",
    "programming languages all have packages which readily diagonalize\n",
    "matrices and find eigenvectors and eigenvalues.\n",
    "\n",
    "\n",
    "\n",
    "## Conservation Laws\n",
    "\n",
    "Energy is conserved only when the Lagrangian has no explicit\n",
    "dependence on time, i.e. $L(q,\\dot{q})$, not $L(q,\\dot{q},t)$. To show\n",
    "this, we first define the Hamiltonian,"
   ]
  },
  {
   "cell_type": "markdown",
   "metadata": {},
   "source": [
    "$$\n",
    "\\begin{eqnarray}\n",
    "H&=&\\sum_i\\left(\\dot{q}_i\\frac{\\partial L}{\\partial\\dot{q}_i}\\right)-L.\n",
    "\\end{eqnarray}\n",
    "$$"
   ]
  },
  {
   "cell_type": "markdown",
   "metadata": {},
   "source": [
    "After showing that $H$ is conserved, i.e. $(d/dt)H=0$, we then show\n",
    "that $H$ can be identified with the total energy, $H=T+V$.\n",
    "\n",
    "One can see that $H$ is conserved by applying first using the chain\n",
    "rule for $(d/dt)H$, then applying Lagrange's\n",
    "equations,"
   ]
  },
  {
   "cell_type": "markdown",
   "metadata": {},
   "source": [
    "$$\n",
    "\\begin{eqnarray}\n",
    "\\frac{d}{dt}H&=&\\sum_i\\left\\{\\ddot{q}_i\\frac{\\partial L}{\\partial\\dot{q}_i}+\\dot{q}_i\\frac{d}{dt}\\left(\\frac{\\partial L}{\\partial\\dot{q}_i}\\right)-\\frac{\\partial L}{\\partial\\dot{q}_i}\\ddot{q}_i-\\frac{\\partial L}{\\partial q_i}\\dot{q}_i\\right\\}\\\\\n",
    "\\nonumber\n",
    "&=&\\sum_i\\left\\{\\ddot{q}_i\\frac{\\partial L}{\\partial\\dot{q}_i}+\\dot{q}_i\\frac{\\partial L}{\\partial q_i}-\\frac{\\partial L}{\\partial\\dot{q}_i}\\ddot{q}_i-\\frac{\\partial L}{\\partial q_i}\\dot{q}_i\\right\\}\\\\\n",
    "\\nonumber\n",
    "&=&0.\n",
    "\\end{eqnarray}\n",
    "$$"
   ]
  },
  {
   "cell_type": "markdown",
   "metadata": {},
   "source": [
    "These steps assumed that $L$ had no explicit time dependence, i.e. $L$\n",
    "is a function of $q$ and $\\dot{q}$, but not of $t$.\n",
    "\n",
    "Next, we show that $L$ can be identified with the energy. Because $V$ does not depend on $\\dot{q}$,"
   ]
  },
  {
   "cell_type": "markdown",
   "metadata": {},
   "source": [
    "<!-- Equation labels as ordinary links -->\n",
    "<div id=\"_auto10\"></div>\n",
    "\n",
    "$$\n",
    "\\begin{equation}\n",
    "H=\\sum_i\\frac{\\partial T}{\\partial\\dot{q}_i}\\dot{q}_i-T+V.\n",
    "\\label{_auto10} \\tag{10}\n",
    "\\end{equation}\n",
    "$$"
   ]
  },
  {
   "cell_type": "markdown",
   "metadata": {},
   "source": [
    "If the kinetic energy has a purely quadratic form in terms of $\\dot{q}$,"
   ]
  },
  {
   "cell_type": "markdown",
   "metadata": {},
   "source": [
    "<!-- Equation labels as ordinary links -->\n",
    "<div id=\"_auto11\"></div>\n",
    "\n",
    "$$\n",
    "\\begin{equation}\n",
    "T=\\sum_{ij}A_{ij}(q)\\dot{q}_i\\dot{q}_j,\n",
    "\\label{_auto11} \\tag{11}\n",
    "\\end{equation}\n",
    "$$"
   ]
  },
  {
   "cell_type": "markdown",
   "metadata": {},
   "source": [
    "the expression for the energy  becomes"
   ]
  },
  {
   "cell_type": "markdown",
   "metadata": {},
   "source": [
    "$$\n",
    "\\begin{eqnarray}\n",
    "H&=&\\sum_{ij}2A_{ij}(q)\\dot{q}_i\\dot{q}_j-\\sum_{ij}A_{ij}(q)\\dot{q}_i\\dot{q}_j+V\\\\\n",
    "\\nonumber\n",
    "&=&T+V.\n",
    "\\end{eqnarray}\n",
    "$$"
   ]
  },
  {
   "cell_type": "markdown",
   "metadata": {},
   "source": [
    "The proof that $H$ equals the energy hinged on the fact that the\n",
    "kinetic energy was quadratic in $\\dot{q}$. This can be attributed to\n",
    "time-reversal symmetry. Because the Cartesian coordinates $x_i$ do not\n",
    "depend on $\\dot{q}_i$ or on time, $\\dot{x}_i=(\\partial x_i/\\partial\n",
    "q_j)\\dot{q}_j$. Thus, the kinetic energy, $T=m\\dot{x}_i^2/2$, should\n",
    "be proportional to two powers of $\\dot{q}$, which validates the\n",
    "assumption above.\n",
    "\n",
    "Here, energy conservation is predicated on the Lagrangian not having\n",
    "an explicit time dependence. Without an explicit time dependence the\n",
    "equations of motion are unchanged if one translates a fixed amount in\n",
    "time because the physics does not depend on when the clock starts. In\n",
    "contrast, the absolute time becomes relevant if there is an explicit\n",
    "time dependence. In fact, conservation laws can usually be associated\n",
    "with symmetries. In this case the translation symmetry in time leads\n",
    "to energy conservation.\n",
    "\n",
    "For another example of how symmetry leads to conservation laws,\n",
    "consider a Lagrangian for a particle of mass $m$ moving in a\n",
    "two-dimensional plane where the generalized coordinates are the radius\n",
    "$r$ and the angle $\\theta$. The kinetic energy would be"
   ]
  },
  {
   "cell_type": "markdown",
   "metadata": {},
   "source": [
    "<!-- Equation labels as ordinary links -->\n",
    "<div id=\"_auto12\"></div>\n",
    "\n",
    "$$\n",
    "\\begin{equation}\n",
    "T=\\frac{1}{2}m\\left\\{\\dot{r}^2+r^2\\dot{\\theta}^2\\right\\},\n",
    "\\label{_auto12} \\tag{12}\n",
    "\\end{equation}\n",
    "$$"
   ]
  },
  {
   "cell_type": "markdown",
   "metadata": {},
   "source": [
    "and if the potential energy $V(r)$ depends only on the radius $r$ and\n",
    "not on the angle, Lagrange's equations become"
   ]
  },
  {
   "cell_type": "markdown",
   "metadata": {},
   "source": [
    "$$\n",
    "\\begin{eqnarray}\n",
    "\\frac{d}{dt}(m\\dot{r})&=&-\\frac{\\partial V}{\\partial r}+m\\dot{\\theta}^2r,\\\\\n",
    "\\nonumber\n",
    "\\frac{d}{dt}(mr^2\\dot{\\theta})&=&0.\n",
    "\\end{eqnarray}\n",
    "$$"
   ]
  },
  {
   "cell_type": "markdown",
   "metadata": {},
   "source": [
    "The second equation implies that $mr^2\\dot{\\theta}$ is a\n",
    "constant. Indeed, it is the angular momentum which is conserved for a\n",
    "radial force. Here, the conservation of angular momentum is associated\n",
    "with the independence of the physics to changes in $\\theta$, or in\n",
    "other words, rotational invariance. Once one knows the fact that\n",
    "$L=mr^2\\dot{\\theta}$ is conserved, it can be inserted into the\n",
    "equations of motion for $\\dot{r}$,"
   ]
  },
  {
   "cell_type": "markdown",
   "metadata": {},
   "source": [
    "<!-- Equation labels as ordinary links -->\n",
    "<div id=\"_auto13\"></div>\n",
    "\n",
    "$$\n",
    "\\begin{equation}\n",
    "m\\ddot{r}=-\\frac{\\partial V}{\\partial r}+\\frac{L^2}{mr^3}.\n",
    "\\label{_auto13} \\tag{13}\n",
    "\\end{equation}\n",
    "$$"
   ]
  },
  {
   "cell_type": "markdown",
   "metadata": {},
   "source": [
    "This is related to [Emmy Noether's theorem](http://en.wikipedia.org/wiki/Noether's_theorem)\n",
    "\n",
    "Simply stated, if the Lagrangian $L$ is independent of $q_i$, one can\n",
    "see that the quantity $\\partial L/\\partial\\dot{q}_i$ is conserved,"
   ]
  },
  {
   "cell_type": "markdown",
   "metadata": {},
   "source": [
    "<!-- Equation labels as ordinary links -->\n",
    "<div id=\"_auto14\"></div>\n",
    "\n",
    "$$\n",
    "\\begin{equation}\n",
    "\\frac{d}{dt}\\frac{\\partial L}{\\partial\\dot{q}_i}=0.\n",
    "\\label{_auto14} \\tag{14}\n",
    "\\end{equation}\n",
    "$$"
   ]
  },
  {
   "cell_type": "markdown",
   "metadata": {},
   "source": [
    "Another easy example is in Cartesian coordinates where the potential\n",
    "depends only on $x$ and $y$ but not on $z$. In that case, there is a\n",
    "translational symmetry. From the last equation, this translates\n",
    "into conservation of the momentum in the $z$ direction.\n",
    "\n",
    "\n",
    "Consider a pair of particles of mass $m_1$ and $m_2$ where the potential is of the form"
   ]
  },
  {
   "cell_type": "markdown",
   "metadata": {},
   "source": [
    "$$\n",
    "U(\\boldsymbol{r}_1,\\boldsymbol{r}_2)=V_a(|m_1\\boldsymbol{r}_1+m_2\\boldsymbol{r}_2|/(m_1+m_2))+V_b(|\\boldsymbol{r}_1-\\boldsymbol{r}_2|).\n",
    "$$"
   ]
  },
  {
   "cell_type": "markdown",
   "metadata": {},
   "source": [
    "Using symmetry arguments alone, are there any conserved components of\n",
    "the momentum? or the angular momentum??\n",
    "\n",
    "There is no translational invariance, hence there are no conserved\n",
    "components of the momentum. However, there is rotational invariance\n",
    "about any axis that goes through the origin. Hence, there is angular\n",
    "momentum conservation in all three directions. Symmetry arguments are\n",
    "great ways to recognize the existence of conserved quantities, but\n",
    "actually expressing them in terms of coordinates can be tricky. For\n",
    "instance, you may need to write the Lagrangian in terms of angles.\n",
    "\n",
    "<!-- more examples to be added, in particular develop better pendulum model with constraints -->\n",
    "<!-- Add material about angular momentum conservation and linear momentum. -->\n",
    "<!-- Add material about non-inertial frames -->\n",
    "<!-- Double pendulum and Foucalt's pendulum -->\n",
    "<!-- Revisit oscillations and example on earthquake models -->"
   ]
  }
 ],
 "metadata": {},
 "nbformat": 4,
 "nbformat_minor": 4
}