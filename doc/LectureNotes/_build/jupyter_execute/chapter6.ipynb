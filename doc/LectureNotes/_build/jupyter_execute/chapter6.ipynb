{
 "cells": [
  {
   "cell_type": "markdown",
   "metadata": {},
   "source": [
    "# Two-body problems, from the Gravitational Force to Two-body Scattering\n",
    "\n",
    "## Introduction and Definitions\n",
    "\n",
    "Central forces are forces which are directed towards or away from a\n",
    "reference point. A familiar force is the gravitional\n",
    "force  with the motion of our Earth around the Sun as a classic. The Sun, being\n",
    "approximately sixth order of magnitude heavier than the Earth serves\n",
    "as our origin. A force like the gravitational force is a function of the\n",
    "relative distance $\\boldsymbol{r}=\\boldsymbol{r}_1-\\boldsymbol{r}_2$ only, where \n",
    "$\\boldsymbol{r}_1$ and $\\boldsymbol{r}_2$ are the positions relative to a defined\n",
    "origin for object one and object two, respectively.\n",
    "\n",
    "These forces depend on the spatial degrees of freedom only (the\n",
    "positions of the interacting objects/particles). As discussed earlier, from such forces we can infer\n",
    "that  the total internal energy, the total linear momentum and total angular momentum are so-called constants of the motion, that is they stay constant  over time. We say that energy, linear and anuglar momentum are conserved.\n",
    "\n",
    "With a scalar potential $V(\\boldsymbol{r})$ we define the force as the gradient of the potential"
   ]
  },
  {
   "cell_type": "markdown",
   "metadata": {},
   "source": [
    "$$\n",
    "\\boldsymbol{F}(\\boldsymbol{r})=-\\boldsymbol{\\nabla}V(\\boldsymbol{r}).\n",
    "$$"
   ]
  },
  {
   "cell_type": "markdown",
   "metadata": {},
   "source": [
    "In general these potentials depend only on the magnitude of the\n",
    "relative position and we will write the potential as $V(r)$ where $r$\n",
    "is defined as,"
   ]
  },
  {
   "cell_type": "markdown",
   "metadata": {},
   "source": [
    "$$\n",
    "r = |\\boldsymbol{r}_1-\\boldsymbol{r}_2|.\n",
    "$$"
   ]
  },
  {
   "cell_type": "markdown",
   "metadata": {},
   "source": [
    "In three dimensions our vectors are defined as (for a given object/particle $i$)"
   ]
  },
  {
   "cell_type": "markdown",
   "metadata": {},
   "source": [
    "$$\n",
    "\\boldsymbol{r}_i = x_i\\boldsymbol{e}_1+y_i\\boldsymbol{e}_2+z_i\\boldsymbol{e}_3,\n",
    "$$"
   ]
  },
  {
   "cell_type": "markdown",
   "metadata": {},
   "source": [
    "while in two dimensions we have"
   ]
  },
  {
   "cell_type": "markdown",
   "metadata": {},
   "source": [
    "$$\n",
    "\\boldsymbol{r}_i = x_i\\boldsymbol{e}_1+y_i\\boldsymbol{e}_2.\n",
    "$$"
   ]
  },
  {
   "cell_type": "markdown",
   "metadata": {},
   "source": [
    "In two dimensions the radius $r$ is defined as"
   ]
  },
  {
   "cell_type": "markdown",
   "metadata": {},
   "source": [
    "$$\n",
    "r = |\\boldsymbol{r}_1-\\boldsymbol{r}_2|=\\sqrt{(x_1-x_2)^2+(y_1-y_2)^2}.\n",
    "$$"
   ]
  },
  {
   "cell_type": "markdown",
   "metadata": {},
   "source": [
    "If we consider the gravitational potential involving two masses $1$ and $2$, we have"
   ]
  },
  {
   "cell_type": "markdown",
   "metadata": {},
   "source": [
    "$$\n",
    "V_{12}(r)=V(r)=-\\frac{Gm_1m_2}{|\\boldsymbol{r}_1-\\boldsymbol{r}_2|}=-\\frac{Gm_1m_2}{r}.\n",
    "$$"
   ]
  },
  {
   "cell_type": "markdown",
   "metadata": {},
   "source": [
    "Calculating the gradient of this potential we obtain the force"
   ]
  },
  {
   "cell_type": "markdown",
   "metadata": {},
   "source": [
    "$$\n",
    "\\boldsymbol{F}(\\boldsymbol{r})=-\\frac{Gm_1m_2}{|\\boldsymbol{r}_1-\\boldsymbol{r}_1|^2}\\hat{\\boldsymbol{r}}_{12}=-\\frac{Gm_am_b}{r^2}\\hat{\\boldsymbol{r}},\n",
    "$$"
   ]
  },
  {
   "cell_type": "markdown",
   "metadata": {},
   "source": [
    "where we have the unit vector"
   ]
  },
  {
   "cell_type": "markdown",
   "metadata": {},
   "source": [
    "$$\n",
    "\\hat{\\boldsymbol{r}}=\\hat{\\boldsymbol{r}}_{12}=\\frac{\\boldsymbol{r}_2-\\boldsymbol{r}_1}{|\\boldsymbol{r}_1-\\boldsymbol{r}_2|}.\n",
    "$$"
   ]
  },
  {
   "cell_type": "markdown",
   "metadata": {},
   "source": [
    "Here $G=6.67\\times 10^{-11}$ Nm$^2$/kg$^2$, and $\\boldsymbol{F}$ is the force\n",
    "on $2$ due to $1$. By inspection, one can see that the force on $2$\n",
    "due to $1$ and the force on $1$ due to $2$ are equal and opposite. The\n",
    "net potential energy for a large number of masses would be"
   ]
  },
  {
   "cell_type": "markdown",
   "metadata": {},
   "source": [
    "$$\n",
    "V=\\sum_{i<j}V_{ij}=\\frac{1}{2}\\sum_{i\\ne j}V_{ij}.\n",
    "$$"
   ]
  },
  {
   "cell_type": "markdown",
   "metadata": {},
   "source": [
    "In general, the central forces that we will study can be written mathematically as"
   ]
  },
  {
   "cell_type": "markdown",
   "metadata": {},
   "source": [
    "$$\n",
    "\\boldsymbol{F}(\\boldsymbol{r})=f(r)\\hat{r},\n",
    "$$"
   ]
  },
  {
   "cell_type": "markdown",
   "metadata": {},
   "source": [
    "where $f(r)$ is  a scalar function. For the above gravitational force this scalar term is\n",
    "$-Gm_1m_2/r^2$.\n",
    "In general we will simply write this scalar function $f(r)=\\alpha/r^2$ where $\\alpha$ is a constant that can be either negative or positive. We will also see examples of other types of potentials in the examples below.\n",
    "\n",
    "Besides general expressions for the potentials/forces, we will discuss\n",
    "in detail different types of motion that arise, from circular to\n",
    "elliptical or hyperbolic or parabolic. By transforming to either polar\n",
    "coordinates or spherical coordinates, we will be able to obtain\n",
    "analytical solutions for the equations of motion and thereby obtain\n",
    "new insights about the properties of a system. Where possible, we will\n",
    "compare our analytical equations with numerical studies.\n",
    "\n",
    "However, before we arrive at these lovely insights, we need to\n",
    "introduce some mathematical manipulations and definitions. We conclude\n",
    "this chapter with a discussion of two-body scattering.\n",
    "\n",
    "\n",
    "## Center of Mass and Relative Coordinates\n",
    "\n",
    "\n",
    "Thus far, we have considered the trajectory as if the force is\n",
    "centered around a fixed point. For two bodies interacting only with\n",
    "one another, both masses circulate around the center of mass. One\n",
    "might think that solutions would become more complex when both\n",
    "particles move, but we will see here that the problem can be reduced\n",
    "to one with a single body moving according to a fixed force by\n",
    "expressing the trajectories for $\\boldsymbol{r}_1$ and $\\boldsymbol{r}_2$ into the\n",
    "center-of-mass coordinate $\\boldsymbol{R}$ and the relative\n",
    "coordinate $\\boldsymbol{r}$. We define the center-of-mass (CoM) coordinate as"
   ]
  },
  {
   "cell_type": "markdown",
   "metadata": {},
   "source": [
    "$$\n",
    "\\boldsymbol{R}\\equiv\\frac{m_1\\boldsymbol{r}_1+m_2\\boldsymbol{r}_2}{m_1+m_2},\n",
    "$$"
   ]
  },
  {
   "cell_type": "markdown",
   "metadata": {},
   "source": [
    "and the relative coordinate as"
   ]
  },
  {
   "cell_type": "markdown",
   "metadata": {},
   "source": [
    "$$\n",
    "\\boldsymbol{r}\\equiv\\boldsymbol{r}_1-\\boldsymbol{r_2}.\n",
    "$$"
   ]
  },
  {
   "cell_type": "markdown",
   "metadata": {},
   "source": [
    "We can then rewrite $\\boldsymbol{r}_1$ and $\\boldsymbol{r}_2$ in terms of the relative and CoM coordinates as"
   ]
  },
  {
   "cell_type": "markdown",
   "metadata": {},
   "source": [
    "$$\n",
    "\\boldsymbol{r}_1=\\boldsymbol{R}+\\frac{m_2}{M}\\boldsymbol{r},\n",
    "$$"
   ]
  },
  {
   "cell_type": "markdown",
   "metadata": {},
   "source": [
    "and"
   ]
  },
  {
   "cell_type": "markdown",
   "metadata": {},
   "source": [
    "$$\n",
    "\\boldsymbol{r}_2=\\boldsymbol{R}-\\frac{m_1}{M}\\boldsymbol{r}.\n",
    "$$"
   ]
  },
  {
   "cell_type": "markdown",
   "metadata": {},
   "source": [
    "### Conservation of total  Linear Momentum\n",
    "\n",
    "In our discussions on conservative forces we defined \n",
    "the total linear momentum as"
   ]
  },
  {
   "cell_type": "markdown",
   "metadata": {},
   "source": [
    "$$\n",
    "\\boldsymbol{P}=\\sum_{i=1}^Nm_i\\frac{d\\boldsymbol{r}_i}{dt},\n",
    "$$"
   ]
  },
  {
   "cell_type": "markdown",
   "metadata": {},
   "source": [
    "where $N=2$ in our case. With the above definition of the center of mass position, we see that we can rewrite the total linear momentum as (multiplying the CoM coordinate  with $M$)"
   ]
  },
  {
   "cell_type": "markdown",
   "metadata": {},
   "source": [
    "$$\n",
    "\\boldsymbol{P}=M\\frac{d\\boldsymbol{R}}{dt}=M\\dot{\\boldsymbol{R}}.\n",
    "$$"
   ]
  },
  {
   "cell_type": "markdown",
   "metadata": {},
   "source": [
    "The net force acting on the system is given by the time derivative of the linear momentum (assuming mass is time independent)\n",
    "and we have"
   ]
  },
  {
   "cell_type": "markdown",
   "metadata": {},
   "source": [
    "$$\n",
    "\\boldsymbol{F}^{\\mathrm{net}}=\\dot{\\boldsymbol{P}}=M\\ddot{\\boldsymbol{R}}.\n",
    "$$"
   ]
  },
  {
   "cell_type": "markdown",
   "metadata": {},
   "source": [
    "The net force acting on the system is given by the sum of the forces acting on the two bodies, that is we have"
   ]
  },
  {
   "cell_type": "markdown",
   "metadata": {},
   "source": [
    "$$\n",
    "\\boldsymbol{F}^{\\mathrm{net}}=\\boldsymbol{F}_1+\\boldsymbol{F}_2=\\dot{\\boldsymbol{P}}=M\\ddot{\\boldsymbol{R}}.\n",
    "$$"
   ]
  },
  {
   "cell_type": "markdown",
   "metadata": {},
   "source": [
    "In our case the forces are given by the internal forces only. The force acting on object $1$ is thus $\\boldsymbol{F}_{12}$ and the one acting on object $2$ is $\\boldsymbol{F}_{12}$. We have also defined that $\\boldsymbol{F}_{12}=-\\boldsymbol{F}_{21}$. This means thar we have"
   ]
  },
  {
   "cell_type": "markdown",
   "metadata": {},
   "source": [
    "$$\n",
    "\\boldsymbol{F}_1+\\boldsymbol{F}_2=\\boldsymbol{F}_{12}+\\boldsymbol{F}_{21}=0=\\dot{\\boldsymbol{P}}=M\\ddot{\\boldsymbol{R}}.\n",
    "$$"
   ]
  },
  {
   "cell_type": "markdown",
   "metadata": {},
   "source": [
    "We could alternatively had write this"
   ]
  },
  {
   "cell_type": "markdown",
   "metadata": {},
   "source": [
    "$$\n",
    "\\ddot{\\boldsymbol{R}}_{\\rm cm}=\\frac{1}{m_1+m_2}\\left\\{m_1\\ddot{\\boldsymbol{r}}_1+m_2\\ddot{\\boldsymbol{r}}_2\\right\\}=\\frac{1}{m_1+m_2}\\left\\{\\boldsymbol{F}_{12}+\\boldsymbol{F}_{21}\\right\\}=0.\n",
    "$$"
   ]
  },
  {
   "cell_type": "markdown",
   "metadata": {},
   "source": [
    "This has the important consequence that the CoM velocity is a constant\n",
    "of the motion. And since the total linear momentum is given by the\n",
    "time-derivative of the CoM coordinate times the total mass\n",
    "$M=m_1+m_2$, it means that linear momentum is also conserved.\n",
    "Stated differently,  the center-of-mass coordinate\n",
    "$\\boldsymbol{R}$ moves at a fixed velocity.\n",
    "\n",
    "This has also another important consequence for our forces. If we\n",
    "assume that our force depends only on the relative coordinate, it\n",
    "means that the gradient of the potential with respect to the center of\n",
    "mass position is zero, that is"
   ]
  },
  {
   "cell_type": "markdown",
   "metadata": {},
   "source": [
    "$$\n",
    "M\\ddot{d\\boldsymbol{R}}=-\\boldsymbol{\\nabla}_{\\boldsymbol{R}}V =0!\n",
    "$$"
   ]
  },
  {
   "cell_type": "markdown",
   "metadata": {},
   "source": [
    "If we now switch to the equation of motion for the relative coordinate, we have"
   ]
  },
  {
   "cell_type": "markdown",
   "metadata": {},
   "source": [
    "$$\n",
    "\\ddot{\\boldsymbol{r}}=\\ddot{\\boldsymbol{r}}_1-\\ddot{\\boldsymbol{r}}_2=\\left(\\frac{\\boldsymbol{F}_{12}}{m_1}-\\frac{\\boldsymbol{F}_{21}}{m_2}\\right)=\\left(\\frac{1}{m_1}+\\frac{1}{m_2}\\right)\\boldsymbol{F}_{12},\n",
    "$$"
   ]
  },
  {
   "cell_type": "markdown",
   "metadata": {},
   "source": [
    "which we can rewrite in terms of the reduced mass"
   ]
  },
  {
   "cell_type": "markdown",
   "metadata": {},
   "source": [
    "$$\n",
    "\\mu=\\frac{m_1m_2}{m_1+m_2},\n",
    "$$"
   ]
  },
  {
   "cell_type": "markdown",
   "metadata": {},
   "source": [
    "as"
   ]
  },
  {
   "cell_type": "markdown",
   "metadata": {},
   "source": [
    "$$\n",
    "\\mu \\ddot{\\boldsymbol{r}}=\\boldsymbol{F}_{12}.\n",
    "$$"
   ]
  },
  {
   "cell_type": "markdown",
   "metadata": {},
   "source": [
    "This has a very important consequence for our coming analysis of the equations of motion for the two-body problem.\n",
    "Since the acceleration for the CoM coordinate is zero, we can now\n",
    "treat the trajectory as a one-body problem where the mass is given by \n",
    "the reduced mass $\\mu$ plus a second trivial problem for the center of\n",
    "mass. The reduced mass is especially convenient when one is\n",
    "considering forces that depend only on the relative coordinate (like the Gravitational force or the electrostatic force between two charges)  because then for say the gravitational force we have"
   ]
  },
  {
   "cell_type": "markdown",
   "metadata": {},
   "source": [
    "$$\n",
    "\\mu \\ddot{\\boldsymbol{r}}=-\\frac{Gm_1m_2}{r^2}\\hat{\\boldsymbol{r}}=-\\frac{GM\\mu}{r^2}\\hat{\\boldsymbol{r}},\n",
    "$$"
   ]
  },
  {
   "cell_type": "markdown",
   "metadata": {},
   "source": [
    "where we have defined $M= m_1+m_2$.  It means that the acceleration of the relative coordinate is"
   ]
  },
  {
   "cell_type": "markdown",
   "metadata": {},
   "source": [
    "$$\n",
    "\\ddot{\\boldsymbol{r}}=-\\frac{GM}{r^2}\\hat{\\boldsymbol{r}},\n",
    "$$"
   ]
  },
  {
   "cell_type": "markdown",
   "metadata": {},
   "source": [
    "and we have that for the gravitational problem, the reduced mass then falls out and the\n",
    "trajectory depends only on the total mass $M$.\n",
    "\n",
    "The standard strategy is to transform into the center of mass frame,\n",
    "then treat the problem as one of a single particle of mass $\\mu$\n",
    "undergoing a force $\\boldsymbol{F}_{12}$. Scattering angles, see our discussion of scattering problems below, can also be\n",
    "expressed in this frame.  Before we proceed to our definition of the CoM frame we need to set up the expression for the energy in terms of the relative and CoM coordinates.\n",
    "\n",
    "\n",
    "### Kinetic and total Energy\n",
    "\n",
    "The kinetic energy and momenta also have analogues in center-of-mass\n",
    "coordinates. \n",
    "We have defined the total linear momentum as"
   ]
  },
  {
   "cell_type": "markdown",
   "metadata": {},
   "source": [
    "$$\n",
    "\\boldsymbol{P}=\\sum_{i=1}^Nm_i\\frac{d\\boldsymbol{r}_i}{dt}=M\\dot{\\boldsymbol{R}}.\n",
    "$$"
   ]
  },
  {
   "cell_type": "markdown",
   "metadata": {},
   "source": [
    "For the relative momentum $\\boldsymbol{q}$, we have that the time derivative of $\\boldsymbol{r}$ is"
   ]
  },
  {
   "cell_type": "markdown",
   "metadata": {},
   "source": [
    "$$\n",
    "\\dot{\\boldsymbol{r}} =\\dot{\\boldsymbol{r}}_1-\\dot{\\boldsymbol{r}}_2,\n",
    "$$"
   ]
  },
  {
   "cell_type": "markdown",
   "metadata": {},
   "source": [
    "We know also that the momenta $\\boldsymbol{p}_1=m_1\\dot{\\boldsymbol{r}}_1$ and\n",
    "$\\boldsymbol{p}_2=m_2\\dot{\\boldsymbol{r}}_2$. Using these expressions we can rewrite"
   ]
  },
  {
   "cell_type": "markdown",
   "metadata": {},
   "source": [
    "$$\n",
    "\\dot{\\boldsymbol{r}} =\\frac{\\boldsymbol{p}_1}{m_1}-\\frac{\\boldsymbol{p}_2}{m_2},\n",
    "$$"
   ]
  },
  {
   "cell_type": "markdown",
   "metadata": {},
   "source": [
    "which gives"
   ]
  },
  {
   "cell_type": "markdown",
   "metadata": {},
   "source": [
    "$$\n",
    "\\dot{\\boldsymbol{r}} =\\frac{m_2\\boldsymbol{p}_1-m_1\\boldsymbol{p}_2}{m_1m_2},\n",
    "$$"
   ]
  },
  {
   "cell_type": "markdown",
   "metadata": {},
   "source": [
    "and dividing both sides with $M$ we have"
   ]
  },
  {
   "cell_type": "markdown",
   "metadata": {},
   "source": [
    "$$\n",
    "\\frac{m_1m_2}{M}\\dot{\\boldsymbol{r}} =\\frac{m_2\\boldsymbol{p}_1-m_1\\boldsymbol{p}_2}{M}.\n",
    "$$"
   ]
  },
  {
   "cell_type": "markdown",
   "metadata": {},
   "source": [
    "Introducing the reduced mass $\\mu=m_1m_2/M$ we have finally"
   ]
  },
  {
   "cell_type": "markdown",
   "metadata": {},
   "source": [
    "$$\n",
    "\\mu\\dot{\\boldsymbol{r}} =\\frac{m_2\\boldsymbol{p}_1-m_1\\boldsymbol{p}_2}{M}.\n",
    "$$"
   ]
  },
  {
   "cell_type": "markdown",
   "metadata": {},
   "source": [
    "And $\\mu\\dot{\\boldsymbol{r}}$ defines the relative momentum $\\boldsymbol{q}=\\mu\\dot{\\boldsymbol{r}}$. \n",
    "\n",
    "With these definitions we can then calculate the kinetic energy in terms of the relative and CoM coordinates.\n",
    "\n",
    "We have that"
   ]
  },
  {
   "cell_type": "markdown",
   "metadata": {},
   "source": [
    "$$\n",
    "K=\\frac{p_1^2}{2m_1}+\\frac{p_2^2}{2m_2},\n",
    "$$"
   ]
  },
  {
   "cell_type": "markdown",
   "metadata": {},
   "source": [
    "and with $\\boldsymbol{p}_1=m_1\\dot{\\boldsymbol{r}}_1$ and $\\boldsymbol{p}_2=m_2\\dot{\\boldsymbol{r}}_2$ and using"
   ]
  },
  {
   "cell_type": "markdown",
   "metadata": {},
   "source": [
    "$$\n",
    "\\dot{\\boldsymbol{r}}_1=\\dot{\\boldsymbol{R}}+\\frac{m_2}{M}\\dot{\\boldsymbol{r}},\n",
    "$$"
   ]
  },
  {
   "cell_type": "markdown",
   "metadata": {},
   "source": [
    "and"
   ]
  },
  {
   "cell_type": "markdown",
   "metadata": {},
   "source": [
    "$$\n",
    "\\dot{\\boldsymbol{r}}_2=\\dot{\\boldsymbol{R}}-\\frac{m_1}{M}\\dot{\\boldsymbol{r}},\n",
    "$$"
   ]
  },
  {
   "cell_type": "markdown",
   "metadata": {},
   "source": [
    "we obtain after squaring the expressions for $\\dot{\\boldsymbol{r}}_1$ and $\\dot{\\boldsymbol{r}}_2$"
   ]
  },
  {
   "cell_type": "markdown",
   "metadata": {},
   "source": [
    "$$\n",
    "K=\\frac{(m_1+m_2)\\dot{\\boldsymbol{R}}^2}{2}+\\frac{(m_1+m_2)m_1m_2\\dot{\\boldsymbol{r}}^2}{2M^2},\n",
    "$$"
   ]
  },
  {
   "cell_type": "markdown",
   "metadata": {},
   "source": [
    "which we simplify to"
   ]
  },
  {
   "cell_type": "markdown",
   "metadata": {},
   "source": [
    "$$\n",
    "K=\\frac{\\dot{\\boldsymbol{P}}^2}{2M}+\\frac{\\mu\\dot{\\boldsymbol{q}}^2}{2}.\n",
    "$$"
   ]
  },
  {
   "cell_type": "markdown",
   "metadata": {},
   "source": [
    "Below we will define a reference frame, the so-called CoM-frame, where\n",
    "$\\boldsymbol{R}=0$. This is going to simplify our equations further.\n",
    "\n",
    "\n",
    "### Conservation of Angular Momentum\n",
    "\n",
    "The angular momentum (the total one) is the sum of the individual angular momenta. In our case we have two bodies only, meaning that our angular momentum is defined as"
   ]
  },
  {
   "cell_type": "markdown",
   "metadata": {},
   "source": [
    "$$\n",
    "\\boldsymbol{L} = \\boldsymbol{r}_1 \\times \\boldsymbol{p}_1+\\boldsymbol{r}_2 \\times \\boldsymbol{p}_2,\n",
    "$$"
   ]
  },
  {
   "cell_type": "markdown",
   "metadata": {},
   "source": [
    "and using that $m_1\\dot{\\boldsymbol{r}}_1=\\boldsymbol{p}_1$ and $m_2\\dot{\\boldsymbol{r}}_2=\\boldsymbol{p}_2$ we have"
   ]
  },
  {
   "cell_type": "markdown",
   "metadata": {},
   "source": [
    "$$\n",
    "\\boldsymbol{L} = m_1\\boldsymbol{r}_1 \\times \\dot{\\boldsymbol{r}}_1+m_2\\boldsymbol{r}_2 \\times \\dot{\\boldsymbol{r}}_2.\n",
    "$$"
   ]
  },
  {
   "cell_type": "markdown",
   "metadata": {},
   "source": [
    "We define now the CoM-Frame where we set $\\boldsymbol{R}=0$. This means that the equations \n",
    "for $\\boldsymbol{r}_1$ and $\\boldsymbol{r}_2$ in terms of the relative motion simplify and  we have"
   ]
  },
  {
   "cell_type": "markdown",
   "metadata": {},
   "source": [
    "$$\n",
    "\\boldsymbol{r}_1=\\frac{m_2}{M}\\boldsymbol{r},\n",
    "$$"
   ]
  },
  {
   "cell_type": "markdown",
   "metadata": {},
   "source": [
    "and"
   ]
  },
  {
   "cell_type": "markdown",
   "metadata": {},
   "source": [
    "$$\n",
    "\\boldsymbol{r}_2=-\\frac{m_1}{M}\\boldsymbol{r}.\n",
    "$$"
   ]
  },
  {
   "cell_type": "markdown",
   "metadata": {},
   "source": [
    "resulting in"
   ]
  },
  {
   "cell_type": "markdown",
   "metadata": {},
   "source": [
    "$$\n",
    "\\boldsymbol{L} = m_1 \\frac{m_2}{M}\\boldsymbol{r}\\times\\frac{m_2}{M}\\boldsymbol{r} +m_2 \\frac{m_1}{M}\\boldsymbol{r} \\times \\frac{m_1}{M}\\dot{\\boldsymbol{r}}.\n",
    "$$"
   ]
  },
  {
   "cell_type": "markdown",
   "metadata": {},
   "source": [
    "We see that can rewrite this equation as"
   ]
  },
  {
   "cell_type": "markdown",
   "metadata": {},
   "source": [
    "$$\n",
    "\\boldsymbol{L}=\\boldsymbol{r}\\times \\mu\\dot{\\boldsymbol{r}}=\\mu\\boldsymbol{r}\\times \\dot{\\boldsymbol{r}}.\n",
    "$$"
   ]
  },
  {
   "cell_type": "markdown",
   "metadata": {},
   "source": [
    "If we now use a central force, we have that"
   ]
  },
  {
   "cell_type": "markdown",
   "metadata": {},
   "source": [
    "$$\n",
    "\\mu\\dot{\\boldsymbol{r}}=\\boldsymbol{F}(\\boldsymbol{r})=f(r)\\hat{\\boldsymbol{r}},\n",
    "$$"
   ]
  },
  {
   "cell_type": "markdown",
   "metadata": {},
   "source": [
    "and inserting this in the equation for the angular momentum we have"
   ]
  },
  {
   "cell_type": "markdown",
   "metadata": {},
   "source": [
    "$$\n",
    "\\boldsymbol{L}=\\boldsymbol{r}\\times f(r)\\hat{\\boldsymbol{r}},\n",
    "$$"
   ]
  },
  {
   "cell_type": "markdown",
   "metadata": {},
   "source": [
    "which equals zero since we are taking the cross product of the vector\n",
    "$\\boldsymbol{r}$ with itself.  Angular momentum is thus conserved and in\n",
    "addition to the total linear momentum being conserved, we know that\n",
    "energy is also conserved with forces that depend only on position and\n",
    "the relative coordinate only.\n",
    "\n",
    "Since angular momentum is conserved, we can idealize\n",
    "the motion of our two objects as two bodies moving in a plane spanned by the\n",
    "relative coordinate and the relative momentum. The angular\n",
    "momentum is perpendicular to the plane spanned by these two vectors.\n",
    "\n",
    "\n",
    "It means also, since $\\boldsymbol{L}$ is conserved, that we can reduce our\n",
    "problem to a motion in say the $xy$-plane.  What we have done then is to\n",
    "reduce a two-body problem in three-dimensions with six degrees of\n",
    "freedom (the six coordinates of the two objects) to a problem defined\n",
    "entirely by the relative coordinate in two dimensions.  We have thus\n",
    "moved from a problem with six degrees of freedom to one with two degrees of freedom only.\n",
    "\n",
    "Since we deal with central forces that depend only on the\n",
    "relative coordinate, we will show below that transforming to polar\n",
    "coordinates, we cna find analytical solution to\n",
    "the equation of motion"
   ]
  },
  {
   "cell_type": "markdown",
   "metadata": {},
   "source": [
    "$$\n",
    "\\mu\\dot{\\boldsymbol{r}}=\\boldsymbol{F}(\\boldsymbol{r})=f(r)\\hat{\\boldsymbol{r}}.\n",
    "$$"
   ]
  },
  {
   "cell_type": "markdown",
   "metadata": {},
   "source": [
    "Note the boldfaced symbols for the relative position $\\boldsymbol{r}$. Our vector $\\boldsymbol{r}$ is defined as"
   ]
  },
  {
   "cell_type": "markdown",
   "metadata": {},
   "source": [
    "$$\n",
    "\\boldsymbol{r}=x\\boldsymbol{e}_1+y\\boldsymbol{e}_2\n",
    "$$"
   ]
  },
  {
   "cell_type": "markdown",
   "metadata": {},
   "source": [
    "and introducing polar coordinates $r\\in[0,\\infty)$ and $\\phi\\in [0,2\\pi]$ and the transformation"
   ]
  },
  {
   "cell_type": "markdown",
   "metadata": {},
   "source": [
    "$$\n",
    "r=\\sqrt{x^2+y^2},\n",
    "$$"
   ]
  },
  {
   "cell_type": "markdown",
   "metadata": {},
   "source": [
    "and $x=r\\cos\\phi$ and $y=r\\sin\\phi$, we will rewrite our equation of motion by transforming from Cartesian coordinates to Polar coordinates. By so doing, we end up with two differential equations which can be solved analytically (it depends on the form of the potential).\n",
    "\n",
    "What follows now is a rewrite of these equations and the introduction of Kepler's laws as well.\n",
    "\n",
    "## Deriving Elliptical Orbits\n",
    "\n",
    "Kepler's laws state that a gravitational orbit should be an ellipse\n",
    "with the source of the gravitational field at one focus. Deriving this\n",
    "is surprisingly messy. To do this, we first use angular momentum\n",
    "conservation to transform the equations of motion so that it is in\n",
    "terms of $r$ and $\\phi$ instead of $r$ and $t$. The overall strategy\n",
    "is to\n",
    "\n",
    "\n",
    "1. Find equations of motion for $r$ and $t$ with no angle ($\\phi$) mentioned, i.e. $d^2r/dt^2=\\cdots$. Angular momentum conservation will be used, and the equation will involve the angular momentum $L$.\n",
    "\n",
    "2. Use angular momentum conservation to find an expression for $\\dot{\\phi}$ in terms of $r$.\n",
    "\n",
    "3. Use the chain rule to convert the equations of motions for $r$, an expression involving $r,\\dot{r}$ and $\\ddot{r}$, to one involving $r,dr/d\\phi$ and $d^2r/d\\phi^2$. This is quitecomplicated because the expressions will also involve a substitution $u=1/r$ so that one finds an expression in terms of $u$ and $\\phi$.\n",
    "\n",
    "4. Once $u(\\phi)$ is found, you need to show that this can be converted to the familiar form for an ellipse.\n",
    "\n",
    "We will now rewrite the above equation of motion (note the boldfaced vector $\\boldsymbol{r}$)"
   ]
  },
  {
   "cell_type": "markdown",
   "metadata": {},
   "source": [
    "$$\n",
    "\\mu \\ddot{\\boldsymbol{r}}=\\boldsymbol{F}(\\boldsymbol{r}),\n",
    "$$"
   ]
  },
  {
   "cell_type": "markdown",
   "metadata": {},
   "source": [
    "in polar coordinates.\n",
    "What follows here is a repeated application of the chain rule for derivatives.\n",
    "We start with derivative for $r$ as function of time in a cartesian basis"
   ]
  },
  {
   "cell_type": "markdown",
   "metadata": {},
   "source": [
    "<!-- Equation labels as ordinary links -->\n",
    "<div id=\"eq:radialeqofmotion\"></div>\n",
    "\n",
    "$$\n",
    "\\begin{eqnarray}\n",
    "\\label{eq:radialeqofmotion} \\tag{1}\n",
    "\\frac{d}{dt}r^2&=&\\frac{d}{dt}(x^2+y^2)=2x\\dot{x}+2y\\dot{y}=2r\\dot{r},\\\\\n",
    "\\nonumber\n",
    "\\dot{r}&=&\\frac{x}{r}\\dot{x}+\\frac{y}{r}\\dot{y},\\\\\n",
    "\\nonumber\n",
    "\\ddot{r}&=&\\frac{x}{r}\\ddot{x}+\\frac{y}{r}\\ddot{y}\n",
    "+\\frac{\\dot{x}^2+\\dot{y}^2}{r}\n",
    "-\\frac{\\dot{r}^2}{r}.\n",
    "\\end{eqnarray}\n",
    "$$"
   ]
  },
  {
   "cell_type": "markdown",
   "metadata": {},
   "source": [
    "Note that there are no vectors involved here.\n",
    "\n",
    "Recognizing that the numerator of the third term is the velocity squared, and that it can be written in polar coordinates,"
   ]
  },
  {
   "cell_type": "markdown",
   "metadata": {},
   "source": [
    "<!-- Equation labels as ordinary links -->\n",
    "<div id=\"_auto1\"></div>\n",
    "\n",
    "$$\n",
    "\\begin{equation}\n",
    "v^2=\\dot{x}^2+\\dot{y}^2=\\dot{r}^2+r^2\\dot{\\phi}^2,\n",
    "\\label{_auto1} \\tag{2}\n",
    "\\end{equation}\n",
    "$$"
   ]
  },
  {
   "cell_type": "markdown",
   "metadata": {},
   "source": [
    "one can write $\\ddot{r}$ as"
   ]
  },
  {
   "cell_type": "markdown",
   "metadata": {},
   "source": [
    "<!-- Equation labels as ordinary links -->\n",
    "<div id=\"eq:radialeqofmotion2\"></div>\n",
    "\n",
    "$$\n",
    "\\begin{equation}\n",
    "\\label{eq:radialeqofmotion2} \\tag{3}\n",
    "\\ddot{r}=\\frac{F_x\\cos\\phi+F_y\\sin\\phi}{m}+\\frac{\\dot{r}^2+r^2\\dot{\\phi}^2}{r}-\\frac{\\dot{r}^2}{r}\n",
    "\\end{equation}\n",
    "$$"
   ]
  },
  {
   "cell_type": "markdown",
   "metadata": {},
   "source": [
    "$$\n",
    "\\nonumber\n",
    "=\\frac{F}{m}+\\frac{r^2\\dot{\\phi}^2}{r}\n",
    "$$"
   ]
  },
  {
   "cell_type": "markdown",
   "metadata": {},
   "source": [
    "<!-- Equation labels as ordinary links -->\n",
    "<div id=\"_auto2\"></div>\n",
    "\n",
    "$$\n",
    "\\begin{equation} \n",
    "\\label{_auto2} \\tag{4}\n",
    "\\end{equation}\n",
    "$$"
   ]
  },
  {
   "cell_type": "markdown",
   "metadata": {},
   "source": [
    "or"
   ]
  },
  {
   "cell_type": "markdown",
   "metadata": {},
   "source": [
    "$$\n",
    "m\\ddot{r}=F+\\frac{L^2}{mr^3}.\n",
    "$$"
   ]
  },
  {
   "cell_type": "markdown",
   "metadata": {},
   "source": [
    "This derivation used the fact that the force was radial,\n",
    "$F=F_r=F_x\\cos\\phi+F_y\\sin\\phi$, and that angular momentum is\n",
    "$L=mrv_{\\phi}=mr^2\\dot{\\phi}$. The term $L^2/mr^3=mv^2/r$ behaves\n",
    "like an additional force. Sometimes this is referred to as a\n",
    "centrifugal force, but it is not a force. Instead, it is the\n",
    "consequence of considering the motion in a rotating (and therefore\n",
    "accelerating) frame.\n",
    "\n",
    "Now, we switch to the particular case of an attractive inverse square\n",
    "force, $F=-\\alpha/r^2$, and show that the trajectory, $r(\\phi)$, is\n",
    "an ellipse. To do this we transform derivatives w.r.t. time to\n",
    "derivatives w.r.t. $\\phi$ using the chain rule combined with angular\n",
    "momentum conservation, $\\dot{\\phi}=L/mr^2$."
   ]
  },
  {
   "cell_type": "markdown",
   "metadata": {},
   "source": [
    "<!-- Equation labels as ordinary links -->\n",
    "<div id=\"eq:rtotheta\"></div>\n",
    "\n",
    "$$\n",
    "\\begin{eqnarray}\n",
    "\\label{eq:rtotheta} \\tag{5}\n",
    "\\dot{r}&=&\\frac{dr}{d\\phi}\\dot{\\phi}=\\frac{dr}{d\\phi}\\frac{L}{mr^2},\\\\\n",
    "\\nonumber\n",
    "\\ddot{r}&=&\\frac{d^2r}{d\\phi^2}\\dot{\\phi}^2\n",
    "+\\frac{dr}{d\\phi}\\left(\\frac{d}{dr}\\frac{L}{mr^2}\\right)\\dot{r}\\\\\n",
    "\\nonumber\n",
    "&=&\\frac{d^2r}{d\\phi^2}\\left(\\frac{L}{mr^2}\\right)^2\n",
    "-2\\frac{dr}{d\\phi}\\frac{L}{mr^3}\\dot{r}\\\\\n",
    "\\nonumber\n",
    "&=&\\frac{d^2r}{d\\phi^2}\\left(\\frac{L}{mr^2}\\right)^2\n",
    "-\\frac{2}{r}\\left(\\frac{dr}{d\\phi}\\right)^2\\left(\\frac{L}{mr^2}\\right)^2\n",
    "\\end{eqnarray}\n",
    "$$"
   ]
  },
  {
   "cell_type": "markdown",
   "metadata": {},
   "source": [
    "Equating the two expressions for $\\ddot{r}$ in Eq.s ([3](#eq:radialeqofmotion2)) and ([5](#eq:rtotheta)) eliminates all the derivatives w.r.t. time, and provides a differential equation with only derivatives w.r.t. $\\phi$,"
   ]
  },
  {
   "cell_type": "markdown",
   "metadata": {},
   "source": [
    "<!-- Equation labels as ordinary links -->\n",
    "<div id=\"eq:rdotdot\"></div>\n",
    "\n",
    "$$\n",
    "\\begin{equation}\n",
    "\\label{eq:rdotdot} \\tag{6}\n",
    "\\frac{d^2r}{d\\phi^2}\\left(\\frac{L}{mr^2}\\right)^2\n",
    "-\\frac{2}{r}\\left(\\frac{dr}{d\\phi}\\right)^2\\left(\\frac{L}{mr^2}\\right)^2\n",
    "=\\frac{F}{m}+\\frac{L^2}{m^2r^3},\n",
    "\\end{equation}\n",
    "$$"
   ]
  },
  {
   "cell_type": "markdown",
   "metadata": {},
   "source": [
    "that when solved yields the trajectory, i.e. $r(\\phi)$. Up to this\n",
    "point the expressions work for any radial force, not just forces that\n",
    "fall as $1/r^2$.\n",
    "\n",
    "The trick to simplifying this differential equation for the inverse\n",
    "square problems is to make a substitution, $u\\equiv 1/r$, and rewrite\n",
    "the differential equation for $u(\\phi)$."
   ]
  },
  {
   "cell_type": "markdown",
   "metadata": {},
   "source": [
    "$$\n",
    "\\begin{eqnarray}\n",
    "r&=&1/u,\\\\\n",
    "\\nonumber\n",
    "\\frac{dr}{d\\phi}&=&-\\frac{1}{u^2}\\frac{du}{d\\phi},\\\\\n",
    "\\nonumber\n",
    "\\frac{d^2r}{d\\phi^2}&=&\\frac{2}{u^3}\\left(\\frac{du}{d\\phi}\\right)^2-\\frac{1}{u^2}\\frac{d^2u}{d\\phi^2}.\n",
    "\\end{eqnarray}\n",
    "$$"
   ]
  },
  {
   "cell_type": "markdown",
   "metadata": {},
   "source": [
    "Plugging these expressions into Eq. ([6](#eq:rdotdot)) gives an\n",
    "expression in terms of $u$, $du/d\\phi$, and $d^2u/d\\phi^2$. After\n",
    "some tedious algebra,"
   ]
  },
  {
   "cell_type": "markdown",
   "metadata": {},
   "source": [
    "<!-- Equation labels as ordinary links -->\n",
    "<div id=\"_auto3\"></div>\n",
    "\n",
    "$$\n",
    "\\begin{equation}\n",
    "\\frac{d^2u}{d\\phi^2}=-u-\\frac{F m}{L^2u^2}.\n",
    "\\label{_auto3} \\tag{7}\n",
    "\\end{equation}\n",
    "$$"
   ]
  },
  {
   "cell_type": "markdown",
   "metadata": {},
   "source": [
    "For the attractive inverse square law force, $F=-\\alpha u^2$,"
   ]
  },
  {
   "cell_type": "markdown",
   "metadata": {},
   "source": [
    "<!-- Equation labels as ordinary links -->\n",
    "<div id=\"_auto4\"></div>\n",
    "\n",
    "$$\n",
    "\\begin{equation}\n",
    "\\frac{d^2u}{d\\phi^2}=-u+\\frac{m\\alpha}{L^2}.\n",
    "\\label{_auto4} \\tag{8}\n",
    "\\end{equation}\n",
    "$$"
   ]
  },
  {
   "cell_type": "markdown",
   "metadata": {},
   "source": [
    "The solution has two arbitrary constants, $A$ and $\\phi_0$,"
   ]
  },
  {
   "cell_type": "markdown",
   "metadata": {},
   "source": [
    "<!-- Equation labels as ordinary links -->\n",
    "<div id=\"eq:Ctrajectory\"></div>\n",
    "\n",
    "$$\n",
    "\\begin{eqnarray}\n",
    "\\label{eq:Ctrajectory} \\tag{9}\n",
    "u&=&\\frac{m\\alpha}{L^2}+A\\cos(\\phi-\\phi_0),\\\\\n",
    "\\nonumber\n",
    "r&=&\\frac{1}{(m\\alpha/L^2)+A\\cos(\\phi-\\phi_0)}.\n",
    "\\end{eqnarray}\n",
    "$$"
   ]
  },
  {
   "cell_type": "markdown",
   "metadata": {},
   "source": [
    "The radius will be at a minimum when $\\phi=\\phi_0$ and at a\n",
    "maximum when $\\phi=\\phi_0+\\pi$. The constant $A$ is related to the\n",
    "eccentricity of the orbit. When $A=0$ the radius is a constant\n",
    "$r=L^2/(m\\alpha)$, and the motion is circular. If one solved the\n",
    "expression $mv^2/r=-\\alpha/r^2$ for a circular orbit, using the\n",
    "substitution $v=L/(mr)$, one would reproduce the expression\n",
    "$r=L^2/(m\\alpha)$.\n",
    "\n",
    "The form describing the elliptical trajectory in\n",
    "Eq. ([9](#eq:Ctrajectory)) can be identified as an ellipse with one\n",
    "focus being the center of the ellipse by considering the definition of\n",
    "an ellipse as being the points such that the sum of the two distances\n",
    "between the two foci are a constant. Making that distance $2D$, the\n",
    "distance between the two foci as $2a$, and putting one focus at the\n",
    "origin,"
   ]
  },
  {
   "cell_type": "markdown",
   "metadata": {},
   "source": [
    "$$\n",
    "\\begin{eqnarray}\n",
    "2D&=&r+\\sqrt{(r\\cos\\phi-2a)^2+r^2\\sin^2\\phi},\\\\\n",
    "\\nonumber\n",
    "4D^2+r^2-4Dr&=&r^2+4a^2-4ar\\cos\\phi,\\\\\n",
    "\\nonumber\n",
    "r&=&\\frac{D^2-a^2}{D+a\\cos\\phi}=\\frac{1}{D/(D^2-a^2)-a\\cos\\phi/(D^2-a^2)}.\n",
    "\\end{eqnarray}\n",
    "$$"
   ]
  },
  {
   "cell_type": "markdown",
   "metadata": {},
   "source": [
    "By inspection, this is the same form as Eq. ([9](#eq:Ctrajectory)) with $D/(D^2-a^2)=m\\alpha/L^2$ and $a/(D^2-a^2)=A$.\n",
    "\n",
    "\n",
    "Let us remind ourselves about what an ellipse is before we proceed."
   ]
  },
  {
   "cell_type": "code",
   "execution_count": 1,
   "metadata": {
    "collapsed": false,
    "editable": true
   },
   "outputs": [
    {
     "data": {
      "image/png": "[encoded data removed]",
      "text/plain": [
       "<Figure size 432x288 with 1 Axes>"
      ]
     },
     "metadata": {
      "filenames": {
       "image/png": "/Users/mhjensen/Teaching/Physics321/doc/LectureNotes/_build/jupyter_execute/chapter6_123_0.png"
      },
      "needs_background": "light"
     },
     "output_type": "display_data"
    }
   ],
   "source": [
    "%matplotlib inline\n",
    "\n",
    "import numpy as np\n",
    "from matplotlib import pyplot as plt\n",
    "from math import pi\n",
    "\n",
    "u=1.     #x-position of the center\n",
    "v=0.5    #y-position of the center\n",
    "a=2.     #radius on the x-axis\n",
    "b=1.5    #radius on the y-axis\n",
    "\n",
    "t = np.linspace(0, 2*pi, 100)\n",
    "plt.plot( u+a*np.cos(t) , v+b*np.sin(t) )\n",
    "plt.grid(color='lightgray',linestyle='--')\n",
    "plt.show()"
   ]
  },
  {
   "cell_type": "markdown",
   "metadata": {},
   "source": [
    "## Effective or Centrifugal Potential\n",
    "\n",
    "The total energy of a particle is"
   ]
  },
  {
   "cell_type": "markdown",
   "metadata": {},
   "source": [
    "$$\n",
    "\\begin{eqnarray}\n",
    "E&=&V(r)+\\frac{1}{2}mv_\\phi^2+\\frac{1}{2}m\\dot{r}^2\\\\\n",
    "\\nonumber\n",
    "&=&V(r)+\\frac{1}{2}mr^2\\dot{\\phi}^2+\\frac{1}{2}m\\dot{r}^2\\\\\n",
    "\\nonumber\n",
    "&=&V(r)+\\frac{L^2}{2mr^2}+\\frac{1}{2}m\\dot{r}^2.\n",
    "\\end{eqnarray}\n",
    "$$"
   ]
  },
  {
   "cell_type": "markdown",
   "metadata": {},
   "source": [
    "The second term then contributes to the energy like an additional\n",
    "repulsive potential. The term is sometimes referred to as the\n",
    "\"centrifugal\" potential, even though it is actually the kinetic energy\n",
    "of the angular motion. Combined with $V(r)$, it is sometimes referred\n",
    "to as the \"effective\" potential,"
   ]
  },
  {
   "cell_type": "markdown",
   "metadata": {},
   "source": [
    "$$\n",
    "\\begin{eqnarray}\n",
    "V_{\\rm eff}(r)&=&V(r)+\\frac{L^2}{2mr^2}.\n",
    "\\end{eqnarray}\n",
    "$$"
   ]
  },
  {
   "cell_type": "markdown",
   "metadata": {},
   "source": [
    "Note that if one treats the effective potential like a real potential, one would expect to be able to generate an effective force,"
   ]
  },
  {
   "cell_type": "markdown",
   "metadata": {},
   "source": [
    "$$\n",
    "\\begin{eqnarray}\n",
    "F_{\\rm eff}&=&-\\frac{d}{dr}V(r) -\\frac{d}{dr}\\frac{L^2}{2mr^2}\\\\\n",
    "\\nonumber\n",
    "&=&F(r)+\\frac{L^2}{mr^3}=F(r)+m\\frac{v_\\perp^2}{r},\n",
    "\\end{eqnarray}\n",
    "$$"
   ]
  },
  {
   "cell_type": "markdown",
   "metadata": {},
   "source": [
    "which is indeed matches the form for $m\\ddot{r}$ in Eq. ([3](#eq:radialeqofmotion2)), which included the **centrifugal** force.\n",
    "\n",
    "The following code plots this effective potential for a simple choice of parameters, with a standard gravitational potential $-\\alpha/r$. Here we have chosen $L=m=\\alpha=1$."
   ]
  },
  {
   "cell_type": "code",
   "execution_count": 2,
   "metadata": {
    "collapsed": false,
    "editable": true
   },
   "outputs": [
    {
     "data": {
      "image/png": "[encoded data removed]",
      "text/plain": [
       "<Figure size 432x288 with 1 Axes>"
      ]
     },
     "metadata": {
      "filenames": {
       "image/png": "/Users/mhjensen/Teaching/Physics321/doc/LectureNotes/_build/jupyter_execute/chapter6_131_0.png"
      },
      "needs_background": "light"
     },
     "output_type": "display_data"
    }
   ],
   "source": [
    "# Common imports\n",
    "import numpy as np\n",
    "from math import *\n",
    "import matplotlib.pyplot as plt\n",
    "\n",
    "Deltax = 0.01\n",
    "#set up arrays\n",
    "xinitial = 0.3\n",
    "xfinal = 5.0\n",
    "alpha = 1.0   # spring constant\n",
    "m = 1.0   # mass, you can change these\n",
    "AngMom = 1.0  #  The angular momentum\n",
    "n = ceil((xfinal-xinitial)/Deltax)\n",
    "x = np.zeros(n)\n",
    "for i in range(n):\n",
    "    x[i] = xinitial+i*Deltax\n",
    "V = np.zeros(n)\n",
    "V = -alpha/x+0.5*AngMom*AngMom/(m*x*x)\n",
    "# Plot potential\n",
    "fig, ax = plt.subplots()\n",
    "ax.set_xlabel('r[m]')\n",
    "ax.set_ylabel('V[J]')\n",
    "ax.plot(x, V)\n",
    "fig.tight_layout()\n",
    "plt.show()"
   ]
  },
  {
   "cell_type": "markdown",
   "metadata": {},
   "source": [
    "### Gravitational force example\n",
    "\n",
    "Using the above parameters, we can now study the evolution of the system using for example the velocity Verlet method.\n",
    "This is done in the code here for an initial radius equal to the minimum of the potential well.  We seen then that the radius is always the same and corresponds to a circle (the radius is always constant)."
   ]
  },
  {
   "cell_type": "code",
   "execution_count": 3,
   "metadata": {
    "collapsed": false,
    "editable": true
   },
   "outputs": [
    {
     "data": {
      "image/png": "[encoded data removed]",
      "text/plain": [
       "<Figure size 432x288 with 2 Axes>"
      ]
     },
     "metadata": {
      "filenames": {
       "image/png": "/Users/mhjensen/Teaching/Physics321/doc/LectureNotes/_build/jupyter_execute/chapter6_133_0.png"
      },
      "needs_background": "light"
     },
     "output_type": "display_data"
    }
   ],
   "source": [
    "# Common imports\n",
    "import numpy as np\n",
    "import pandas as pd\n",
    "from math import *\n",
    "import matplotlib.pyplot as plt\n",
    "import os\n",
    "\n",
    "# Where to save the figures and data files\n",
    "PROJECT_ROOT_DIR = \"Results\"\n",
    "FIGURE_ID = \"Results/FigureFiles\"\n",
    "DATA_ID = \"DataFiles/\"\n",
    "\n",
    "if not os.path.exists(PROJECT_ROOT_DIR):\n",
    "    os.mkdir(PROJECT_ROOT_DIR)\n",
    "\n",
    "if not os.path.exists(FIGURE_ID):\n",
    "    os.makedirs(FIGURE_ID)\n",
    "\n",
    "if not os.path.exists(DATA_ID):\n",
    "    os.makedirs(DATA_ID)\n",
    "\n",
    "def image_path(fig_id):\n",
    "    return os.path.join(FIGURE_ID, fig_id)\n",
    "\n",
    "def data_path(dat_id):\n",
    "    return os.path.join(DATA_ID, dat_id)\n",
    "\n",
    "def save_fig(fig_id):\n",
    "    plt.savefig(image_path(fig_id) + \".png\", format='png')\n",
    "\n",
    "\n",
    "# Simple Gravitational Force   -alpha/r\n",
    "    \n",
    "DeltaT = 0.01\n",
    "#set up arrays \n",
    "tfinal = 100.0\n",
    "n = ceil(tfinal/DeltaT)\n",
    "# set up arrays for t, v and r\n",
    "t = np.zeros(n)\n",
    "v = np.zeros(n)\n",
    "r = np.zeros(n)\n",
    "# Constants of the model, setting all variables to one for simplicity\n",
    "alpha = 1.0\n",
    "AngMom = 1.0  #  The angular momentum\n",
    "m = 1.0  # scale mass to one\n",
    "c1 = AngMom*AngMom/(m*m)\n",
    "c2 = AngMom*AngMom/m\n",
    "rmin = (AngMom*AngMom/m/alpha)\n",
    "# Initial conditions\n",
    "r0 = rmin\n",
    "v0 = 0.0\n",
    "r[0] = r0\n",
    "v[0] = v0\n",
    "# Start integrating using the Velocity-Verlet  method\n",
    "for i in range(n-1):\n",
    "    # Set up acceleration\n",
    "    a = -alpha/(r[i]**2)+c1/(r[i]**3)\n",
    "    # update velocity, time and position using the Velocity-Verlet method\n",
    "    r[i+1] = r[i] + DeltaT*v[i]+0.5*(DeltaT**2)*a\n",
    "    anew = -alpha/(r[i+1]**2)+c1/(r[i+1]**3)\n",
    "    v[i+1] = v[i] + 0.5*DeltaT*(a+anew)\n",
    "    t[i+1] = t[i] + DeltaT\n",
    "    # Plot position as function of time\n",
    "fig, ax = plt.subplots(2,1)\n",
    "ax[0].set_xlabel('time')\n",
    "ax[0].set_ylabel('radius')\n",
    "ax[0].plot(t,r)\n",
    "ax[1].set_xlabel('time')\n",
    "ax[1].set_ylabel('Velocity')\n",
    "ax[1].plot(t,v)\n",
    "save_fig(\"RadialGVV\")\n",
    "plt.show()"
   ]
  },
  {
   "cell_type": "markdown",
   "metadata": {},
   "source": [
    "Changing the value of the initial position to a value where the energy is positive, leads to an increasing radius with time, a so-called unbound orbit. Choosing on the other hand an initial radius that corresponds to a negative energy and different from the minimum value leads to a radius that oscillates back and forth between two values. \n",
    "\n",
    "### Harmonic Oscillator in two dimensions\n",
    "\n",
    "Consider a particle of mass $m$ in a 2-dimensional harmonic oscillator with potential"
   ]
  },
  {
   "cell_type": "markdown",
   "metadata": {},
   "source": [
    "$$\n",
    "V=\\frac{1}{2}kr^2=\\frac{1}{2}k(x^2+y^2).\n",
    "$$"
   ]
  },
  {
   "cell_type": "markdown",
   "metadata": {},
   "source": [
    "If the orbit has angular momentum $L$, we can find the radius and angular velocity of the circular orbit as well as the b) the angular frequency of small radial perturbations.\n",
    "\n",
    "We consider the effective potential. The radius of a circular orbit is at the minimum of the potential (where the effective force is zero).\n",
    "The potential is plotted here with the parameters $k=m=0.1$ and $L=1.0$."
   ]
  },
  {
   "cell_type": "code",
   "execution_count": 4,
   "metadata": {
    "collapsed": false,
    "editable": true
   },
   "outputs": [
    {
     "data": {
      "image/png": "[encoded data removed]",
      "text/plain": [
       "<Figure size 432x288 with 1 Axes>"
      ]
     },
     "metadata": {
      "filenames": {
       "image/png": "/Users/mhjensen/Teaching/Physics321/doc/LectureNotes/_build/jupyter_execute/chapter6_137_0.png"
      },
      "needs_background": "light"
     },
     "output_type": "display_data"
    }
   ],
   "source": [
    "# Common imports\n",
    "import numpy as np\n",
    "from math import *\n",
    "import matplotlib.pyplot as plt\n",
    "\n",
    "Deltax = 0.01\n",
    "#set up arrays\n",
    "xinitial = 0.5\n",
    "xfinal = 3.0\n",
    "k = 1.0   # spring constant\n",
    "m = 1.0   # mass, you can change these\n",
    "AngMom = 1.0  #  The angular momentum\n",
    "n = ceil((xfinal-xinitial)/Deltax)\n",
    "x = np.zeros(n)\n",
    "for i in range(n):\n",
    "    x[i] = xinitial+i*Deltax\n",
    "V = np.zeros(n)\n",
    "V = 0.5*k*x*x+0.5*AngMom*AngMom/(m*x*x)\n",
    "# Plot potential\n",
    "fig, ax = plt.subplots()\n",
    "ax.set_xlabel('r[m]')\n",
    "ax.set_ylabel('V[J]')\n",
    "ax.plot(x, V)\n",
    "fig.tight_layout()\n",
    "plt.show()"
   ]
  },
  {
   "cell_type": "markdown",
   "metadata": {},
   "source": [
    "$$\n",
    "\\begin{eqnarray*}\n",
    "V_{\\rm eff}&=&\\frac{1}{2}kr^2+\\frac{L^2}{2mr^2}\n",
    "\\end{eqnarray*}\n",
    "$$"
   ]
  },
  {
   "cell_type": "markdown",
   "metadata": {},
   "source": [
    "The effective potential looks like that of a harmonic oscillator for\n",
    "large $r$, but for small $r$, the centrifugal potential repels the\n",
    "particle from the origin. The combination of the two potentials has a\n",
    "minimum for at some radius $r_{\\rm min}$."
   ]
  },
  {
   "cell_type": "markdown",
   "metadata": {},
   "source": [
    "$$\n",
    "\\begin{eqnarray*}\n",
    "0&=&kr_{\\rm min}-\\frac{L^2}{mr_{\\rm min}^3},\\\\\n",
    "r_{\\rm min}&=&\\left(\\frac{L^2}{mk}\\right)^{1/4},\\\\\n",
    "\\dot{\\phi}&=&\\frac{L}{mr_{\\rm min}^2}=\\sqrt{k/m}.\n",
    "\\end{eqnarray*}\n",
    "$$"
   ]
  },
  {
   "cell_type": "markdown",
   "metadata": {},
   "source": [
    "For particles at $r_{\\rm min}$ with $\\dot{r}=0$, the particle does not\n",
    "accelerate and $r$ stays constant, i.e. a circular orbit. The radius\n",
    "of the circular orbit can be adjusted by changing the angular momentum\n",
    "$L$.\n",
    "\n",
    "For the above parameters this minimum is at $r_{\\rm min}=1$.\n",
    "\n",
    " Now consider small vibrations about $r_{\\rm min}$. The effective spring constant is the curvature of the effective potential."
   ]
  },
  {
   "cell_type": "markdown",
   "metadata": {},
   "source": [
    "$$\n",
    "\\begin{eqnarray*}\n",
    "k_{\\rm eff}&=&\\left.\\frac{d^2}{dr^2}V_{\\rm eff}(r)\\right|_{r=r_{\\rm min}}=k+\\frac{3L^2}{mr_{\\rm min}^4}\\\\\n",
    "&=&4k,\\\\\n",
    "\\omega&=&\\sqrt{k_{\\rm eff}/m}=2\\sqrt{k/m}=2\\dot{\\phi}.\n",
    "\\end{eqnarray*}\n",
    "$$"
   ]
  },
  {
   "cell_type": "markdown",
   "metadata": {},
   "source": [
    "Here, the second step used the result of the last step from part\n",
    "(a). Because the radius oscillates with twice the angular frequency,\n",
    "the orbit has two places where $r$ reaches a minimum in one\n",
    "cycle. This differs from the inverse-square force where there is one\n",
    "minimum in an orbit. One can show that the orbit for the harmonic\n",
    "oscillator is also elliptical, but in this case the center of the\n",
    "potential is at the center of the ellipse, not at one of the foci.\n",
    "\n",
    "The solution is also simple to write down exactly in Cartesian coordinates. The $x$ and $y$ equations of motion separate,"
   ]
  },
  {
   "cell_type": "markdown",
   "metadata": {},
   "source": [
    "$$\n",
    "\\begin{eqnarray*}\n",
    "\\ddot{x}&=&-kx,\\\\\n",
    "\\ddot{y}&=&-ky.\n",
    "\\end{eqnarray*}\n",
    "$$"
   ]
  },
  {
   "cell_type": "markdown",
   "metadata": {},
   "source": [
    "So the general solution can be expressed as"
   ]
  },
  {
   "cell_type": "markdown",
   "metadata": {},
   "source": [
    "$$\n",
    "\\begin{eqnarray*}\n",
    "x&=&A\\cos\\omega_0 t+B\\sin\\omega_0 t,\\\\\n",
    "y&=&C\\cos\\omega_0 t+D\\sin\\omega_0 t.\n",
    "\\end{eqnarray*}\n",
    "$$"
   ]
  },
  {
   "cell_type": "markdown",
   "metadata": {},
   "source": [
    "The code here finds the solution for $x$ and $y$ using the code we developed in homework 5 and 6 and the midterm.  Note that this code is tailored to run in Cartesian coordinates. There is thus no angular momentum dependent term."
   ]
  },
  {
   "cell_type": "code",
   "execution_count": 5,
   "metadata": {
    "collapsed": false,
    "editable": true
   },
   "outputs": [
    {
     "data": {
      "image/png": "[encoded data removed]",
      "text/plain": [
       "<Figure size 432x288 with 3 Axes>"
      ]
     },
     "metadata": {
      "filenames": {
       "image/png": "/Users/mhjensen/Teaching/Physics321/doc/LectureNotes/_build/jupyter_execute/chapter6_148_0.png"
      },
      "needs_background": "light"
     },
     "output_type": "display_data"
    }
   ],
   "source": [
    "\n",
    "DeltaT = 0.01\n",
    "#set up arrays \n",
    "tfinal = 10.0\n",
    "n = ceil(tfinal/DeltaT)\n",
    "# set up arrays\n",
    "t = np.zeros(n)\n",
    "v = np.zeros((n,2))\n",
    "r = np.zeros((n,2))\n",
    "radius = np.zeros(n)\n",
    "# Constants of the model\n",
    "k = 1.0   # spring constant\n",
    "m = 1.0   # mass, you can change these\n",
    "omega02 = sqrt(k/m)  # Frequency\n",
    "AngMom = 1.0  #  The angular momentum\n",
    "rmin = (AngMom*AngMom/k/m)**0.25\n",
    "# Initial conditions as compact 2-dimensional arrays\n",
    "x0 = rmin-0.5; y0= sqrt(rmin*rmin-x0*x0)\n",
    "r0 = np.array([x0,y0]) \n",
    "v0 = np.array([0.0,0.0])\n",
    "r[0] = r0\n",
    "v[0] = v0\n",
    "# Start integrating using the Velocity-Verlet  method\n",
    "for i in range(n-1):\n",
    "    # Set up the acceleration\n",
    "    a =  -r[i]*omega02  \n",
    "    # update velocity, time and position using the Velocity-Verlet method\n",
    "    r[i+1] = r[i] + DeltaT*v[i]+0.5*(DeltaT**2)*a\n",
    "    anew = -r[i+1]*omega02  \n",
    "    v[i+1] = v[i] + 0.5*DeltaT*(a+anew)\n",
    "    t[i+1] = t[i] + DeltaT\n",
    "# Plot position as function of time\n",
    "radius = np.sqrt(r[:,0]**2+r[:,1]**2)\n",
    "fig, ax = plt.subplots(3,1)\n",
    "ax[0].set_xlabel('time')\n",
    "ax[0].set_ylabel('radius squared')\n",
    "ax[0].plot(t,r[:,0]**2+r[:,1]**2)\n",
    "ax[1].set_xlabel('time')\n",
    "ax[1].set_ylabel('x position')\n",
    "ax[1].plot(t,r[:,0])\n",
    "ax[2].set_xlabel('time')\n",
    "ax[2].set_ylabel('y position')\n",
    "ax[2].plot(t,r[:,1])\n",
    "\n",
    "fig.tight_layout()\n",
    "save_fig(\"2DimHOVV\")\n",
    "plt.show()"
   ]
  },
  {
   "cell_type": "markdown",
   "metadata": {},
   "source": [
    "With some work using double angle formulas, one can calculate"
   ]
  },
  {
   "cell_type": "markdown",
   "metadata": {},
   "source": [
    "$$\n",
    "\\begin{eqnarray*}\n",
    "r^2&=&x^2+y^2\\\\\n",
    "\\nonumber\n",
    "&=&(A^2+C^2)\\cos^2(\\omega_0t)+(B^2+D^2)\\sin^2\\omega_0t+(AB+CD)\\cos(\\omega_0t)\\sin(\\omega_0t)\\\\\n",
    "\\nonumber\n",
    "&=&\\alpha+\\beta\\cos 2\\omega_0 t+\\gamma\\sin 2\\omega_0 t,\\\\\n",
    "\\alpha&=&\\frac{A^2+B^2+C^2+D^2}{2},~~\\beta=\\frac{A^2-B^2+C^2-D^2}{2},~~\\gamma=AB+CD,\\\\\n",
    "r^2&=&\\alpha+(\\beta^2+\\gamma^2)^{1/2}\\cos(2\\omega_0 t-\\delta),~~~\\delta=\\arctan(\\gamma/\\beta),\n",
    "\\end{eqnarray*}\n",
    "$$"
   ]
  },
  {
   "cell_type": "markdown",
   "metadata": {},
   "source": [
    "and see that radius oscillates with frequency $2\\omega_0$. The\n",
    "factor of two comes because the oscillation $x=A\\cos\\omega_0t$ has two\n",
    "maxima for $x^2$, one at $t=0$ and one a half period later.\n",
    "\n",
    "The following code shows first how we can solve this problem using the radial degrees of freedom only."
   ]
  },
  {
   "cell_type": "code",
   "execution_count": 6,
   "metadata": {
    "collapsed": false,
    "editable": true
   },
   "outputs": [
    {
     "data": {
      "image/png": "[encoded data removed]",
      "text/plain": [
       "<Figure size 432x288 with 2 Axes>"
      ]
     },
     "metadata": {
      "filenames": {
       "image/png": "/Users/mhjensen/Teaching/Physics321/doc/LectureNotes/_build/jupyter_execute/chapter6_152_0.png"
      },
      "needs_background": "light"
     },
     "output_type": "display_data"
    }
   ],
   "source": [
    "DeltaT = 0.01\n",
    "#set up arrays \n",
    "tfinal = 10.0\n",
    "n = ceil(tfinal/DeltaT)\n",
    "# set up arrays for t, v and r\n",
    "t = np.zeros(n)\n",
    "v = np.zeros(n)\n",
    "r = np.zeros(n)\n",
    "E = np.zeros(n)\n",
    "# Constants of the model\n",
    "AngMom = 1.0  #  The angular momentum\n",
    "m = 1.0\n",
    "k = 1.0\n",
    "omega02 = k/m\n",
    "c1 = AngMom*AngMom/(m*m)\n",
    "c2 = AngMom*AngMom/m\n",
    "rmin = (AngMom*AngMom/k/m)**0.25\n",
    "# Initial conditions\n",
    "r0 = rmin\n",
    "v0 = 0.0\n",
    "r[0] = r0\n",
    "v[0] = v0\n",
    "E[0] = 0.5*m*v0*v0+0.5*k*r0*r0+0.5*c2/(r0*r0)\n",
    "# Start integrating using the Velocity-Verlet  method\n",
    "for i in range(n-1):\n",
    "    # Set up acceleration\n",
    "    a = -r[i]*omega02+c1/(r[i]**3)    \n",
    "    # update velocity, time and position using the Velocity-Verlet method\n",
    "    r[i+1] = r[i] + DeltaT*v[i]+0.5*(DeltaT**2)*a\n",
    "    anew = -r[i+1]*omega02+c1/(r[i+1]**3)\n",
    "    v[i+1] = v[i] + 0.5*DeltaT*(a+anew)\n",
    "    t[i+1] = t[i] + DeltaT\n",
    "    E[i+1] = 0.5*m*v[i+1]*v[i+1]+0.5*k*r[i+1]*r[i+1]+0.5*c2/(r[i+1]*r[i+1])\n",
    "    # Plot position as function of time\n",
    "fig, ax = plt.subplots(2,1)\n",
    "ax[0].set_xlabel('time')\n",
    "ax[0].set_ylabel('radius')\n",
    "ax[0].plot(t,r)\n",
    "ax[1].set_xlabel('time')\n",
    "ax[1].set_ylabel('Energy')\n",
    "ax[1].plot(t,E)\n",
    "save_fig(\"RadialHOVV\")\n",
    "plt.show()"
   ]
  },
  {
   "cell_type": "markdown",
   "metadata": {},
   "source": [
    "## Stability of Orbits\n",
    "\n",
    "The effective force can be extracted from the effective potential, $V_{\\rm eff}$. Beginning from the equations of motion, Eq. ([1](#eq:radialeqofmotion)), for $r$,"
   ]
  },
  {
   "cell_type": "markdown",
   "metadata": {},
   "source": [
    "$$\n",
    "\\begin{eqnarray}\n",
    "m\\ddot{r}&=&F+\\frac{L^2}{mr^3}\\\\\n",
    "\\nonumber\n",
    "&=&F_{\\rm eff}\\\\\n",
    "\\nonumber\n",
    "&=&-\\partial_rV_{\\rm eff},\\\\\n",
    "\\nonumber\n",
    "F_{\\rm eff}&=&-\\partial_r\\left[V(r)+(L^2/2mr^2)\\right].\n",
    "\\end{eqnarray}\n",
    "$$"
   ]
  },
  {
   "cell_type": "markdown",
   "metadata": {},
   "source": [
    "For a circular orbit, the radius must be fixed as a function of time,\n",
    "so one must be at a maximum or a minimum of the effective\n",
    "potential. However, if one is at a maximum of the effective potential\n",
    "the radius will be unstable. For the attractive Coulomb force the\n",
    "effective potential will be dominated by the $-\\alpha/r$ term for\n",
    "large $r$ because the centrifugal part falls off more quickly, $\\sim\n",
    "1/r^2$. At low $r$ the centrifugal piece wins and the effective\n",
    "potential is repulsive. Thus, the potential must have a minimum\n",
    "somewhere with negative potential. The circular orbits are then stable\n",
    "to perturbation.\n",
    "\n",
    "\n",
    "The effective potential is sketched for two cases, a $1/r$ attractive\n",
    "potential and a $1/r^3$ attractive potential. The $1/r$ case has a\n",
    "stable minimum, whereas the circular orbit in the $1/r^3$ case is\n",
    "unstable.\n",
    "\n",
    "\n",
    "If one considers a potential that falls as $1/r^3$, the situation is\n",
    "reversed and the point where $\\partial_rV$ disappears will be a local\n",
    "maximum rather than a local minimum. **Fig to come here with code**\n",
    "\n",
    "The repulsive centrifugal piece dominates at large $r$ and the attractive\n",
    "Coulomb piece wins out at small $r$. The circular orbit is then at a\n",
    "maximum of the effective potential and the orbits are unstable. It is\n",
    "the clear that for potentials that fall as $r^n$, that one must have\n",
    "$n>-2$ for the orbits to be stable.\n",
    "\n",
    "\n",
    "Consider a potential $V(r)=\\beta r$. For a particle of mass $m$ with\n",
    "angular momentum $L$, find the angular frequency of a circular\n",
    "orbit. Then find the angular frequency for small radial perturbations.\n",
    "\n",
    "\n",
    "For the circular orbit you search for the position $r_{\\rm min}$ where the effective potential is minimized,"
   ]
  },
  {
   "cell_type": "markdown",
   "metadata": {},
   "source": [
    "$$\n",
    "\\begin{eqnarray*}\n",
    "\\partial_r\\left\\{\\beta r+\\frac{L^2}{2mr^2}\\right\\}&=&0,\\\\\n",
    "\\beta&=&\\frac{L^2}{mr_{\\rm min}^3},\\\\\n",
    "r_{\\rm min}&=&\\left(\\frac{L^2}{\\beta m}\\right)^{1/3},\\\\\n",
    "\\dot{\\phi}&=&\\frac{L}{mr_{\\rm min}^2}=\\frac{\\beta^{2/3}}{(mL)^{1/3}}\n",
    "\\end{eqnarray*}\n",
    "$$"
   ]
  },
  {
   "cell_type": "markdown",
   "metadata": {},
   "source": [
    "Now, we can find the angular frequency of small perturbations about the circular orbit. To do this we find the effective spring constant for the effective potential,"
   ]
  },
  {
   "cell_type": "markdown",
   "metadata": {},
   "source": [
    "$$\n",
    "\\begin{eqnarray*}\n",
    "k_{\\rm eff}&=&\\partial_r^2 \\left.V_{\\rm eff}\\right|_{r_{\\rm min}}\\\\\n",
    "&=&\\frac{3L^2}{mr_{\\rm min}^4},\\\\\n",
    "\\omega&=&\\sqrt{\\frac{k_{\\rm eff}}{m}}\\\\\n",
    "&=&\\frac{\\beta^{2/3}}{(mL)^{1/3}}\\sqrt{3}.\n",
    "\\end{eqnarray*}\n",
    "$$"
   ]
  },
  {
   "cell_type": "markdown",
   "metadata": {},
   "source": [
    "If the two frequencies, $\\dot{\\phi}$ and $\\omega$, differ by an\n",
    "integer factor, the orbit's trajectory will repeat itself each time\n",
    "around. This is the case for the inverse-square force,\n",
    "$\\omega=\\dot{\\phi}$, and for the harmonic oscillator,\n",
    "$\\omega=2\\dot{\\phi}$. In this case, $\\omega=\\sqrt{3}\\dot{\\phi}$,\n",
    "and the angles at which the maxima and minima occur change with each\n",
    "orbit.\n",
    "\n",
    "\n",
    "### Code example with gravitional force\n",
    "\n",
    "The code example here is meant to illustrate how we can make a plot of the final orbit. We solve the equations in polar coordinates (the example here uses the minimum of the potential as initial value) and then we transform back to cartesian coordinates and plot $x$ versus $y$. We see that we get a perfect circle when we place ourselves at the minimum of the potential energy, as expected."
   ]
  },
  {
   "cell_type": "code",
   "execution_count": 7,
   "metadata": {
    "collapsed": false,
    "editable": true
   },
   "outputs": [
    {
     "data": {
      "image/png": "[encoded data removed]",
      "text/plain": [
       "<Figure size 432x288 with 3 Axes>"
      ]
     },
     "metadata": {
      "filenames": {
       "image/png": "/Users/mhjensen/Teaching/Physics321/doc/LectureNotes/_build/jupyter_execute/chapter6_160_0.png"
      },
      "needs_background": "light"
     },
     "output_type": "display_data"
    }
   ],
   "source": [
    "\n",
    "# Simple Gravitational Force   -alpha/r\n",
    "    \n",
    "DeltaT = 0.01\n",
    "#set up arrays \n",
    "tfinal = 8.0\n",
    "n = ceil(tfinal/DeltaT)\n",
    "# set up arrays for t, v and r\n",
    "t = np.zeros(n)\n",
    "v = np.zeros(n)\n",
    "r = np.zeros(n)\n",
    "phi = np.zeros(n)\n",
    "x = np.zeros(n)\n",
    "y = np.zeros(n)\n",
    "# Constants of the model, setting all variables to one for simplicity\n",
    "alpha = 1.0\n",
    "AngMom = 1.0  #  The angular momentum\n",
    "m = 1.0  # scale mass to one\n",
    "c1 = AngMom*AngMom/(m*m)\n",
    "c2 = AngMom*AngMom/m\n",
    "rmin = (AngMom*AngMom/m/alpha)\n",
    "# Initial conditions, place yourself at the potential min\n",
    "r0 = rmin\n",
    "v0 = 0.0  # starts at rest\n",
    "r[0] = r0\n",
    "v[0] = v0\n",
    "phi[0] = 0.0\n",
    "# Start integrating using the Velocity-Verlet  method\n",
    "for i in range(n-1):\n",
    "    # Set up acceleration\n",
    "    a = -alpha/(r[i]**2)+c1/(r[i]**3)\n",
    "    # update velocity, time and position using the Velocity-Verlet method\n",
    "    r[i+1] = r[i] + DeltaT*v[i]+0.5*(DeltaT**2)*a\n",
    "    anew = -alpha/(r[i+1]**2)+c1/(r[i+1]**3)\n",
    "    v[i+1] = v[i] + 0.5*DeltaT*(a+anew)\n",
    "    t[i+1] = t[i] + DeltaT\n",
    "    phi[i+1] = t[i+1]*c2/(r0**2)\n",
    "# Find cartesian coordinates for easy plot    \n",
    "x = r*np.cos(phi)\n",
    "y = r*np.sin(phi)\n",
    "fig, ax = plt.subplots(3,1)\n",
    "ax[0].set_xlabel('time')\n",
    "ax[0].set_ylabel('radius')\n",
    "ax[0].plot(t,r)\n",
    "ax[1].set_xlabel('time')\n",
    "ax[1].set_ylabel('Angle $\\cos{\\phi}$')\n",
    "ax[1].plot(t,np.cos(phi))\n",
    "ax[2].set_ylabel('y')\n",
    "ax[2].set_xlabel('x')\n",
    "ax[2].plot(x,y)\n",
    "\n",
    "save_fig(\"Phasespace\")\n",
    "plt.show()"
   ]
  },
  {
   "cell_type": "markdown",
   "metadata": {},
   "source": [
    "Try to change the initial value for $r$ and see what kind of orbits you get.\n",
    "In order to test different energies, it can be useful to look at the plot of the effective potential discussed above.\n",
    "\n",
    "However, for orbits different from a circle the above code would need modifications in order to allow us to display say an ellipse. For the latter, it is much easier to run our code in cartesian coordinates, as done here. In this code we test also energy conservation and see that it is conserved to numerical precision. The code here is a simple extension of the code we developed for homework 4."
   ]
  },
  {
   "cell_type": "code",
   "execution_count": 8,
   "metadata": {
    "collapsed": false,
    "editable": true
   },
   "outputs": [
    {
     "data": {
      "image/png": "[encoded data removed]",
      "text/plain": [
       "<Figure size 432x288 with 3 Axes>"
      ]
     },
     "metadata": {
      "filenames": {
       "image/png": "/Users/mhjensen/Teaching/Physics321/doc/LectureNotes/_build/jupyter_execute/chapter6_162_0.png"
      },
      "needs_background": "light"
     },
     "output_type": "display_data"
    },
    {
     "name": "stdout",
     "output_type": "stream",
     "text": [
      "[-1.5        -1.49999996 -1.49999984 -1.49999964 -1.49999935 -1.49999898\n",
      " -1.49999853 -1.49999798 -1.49999734 -1.49999659 -1.49999574 -1.49999478\n",
      " -1.49999369 -1.49999247 -1.49999112 -1.49998961 -1.49998794 -1.49998609\n",
      " -1.49998404 -1.49998178 -1.49997929 -1.49997654 -1.49997351 -1.49997017\n",
      " -1.49996649 -1.49996243 -1.49995796 -1.49995304 -1.49994762 -1.49994165\n",
      " -1.49993508 -1.49992786 -1.49991994 -1.49991127 -1.4999018  -1.49989151\n",
      " -1.49988041 -1.49986852 -1.49985595 -1.49984292 -1.49982978 -1.49981712\n",
      " -1.49980588 -1.49979754 -1.49979431 -1.49979958 -1.4998184  -1.4998583\n",
      " -1.49993028 -1.50005034 -1.50024115 -1.500534   -1.50097003 -1.50159939\n",
      " -1.50247522 -1.50363822 -1.5050881  -1.50674417 -1.50841251 -1.50979454\n",
      " -1.51056842 -1.5105255  -1.50967788 -1.5082518  -1.50657253 -1.50493047\n",
      " -1.50350752 -1.50237442 -1.50152565 -1.50091821 -1.50049876 -1.50021789\n",
      " -1.50003547 -1.49992116 -1.49985304 -1.4998157  -1.49979853 -1.49979431\n",
      " -1.49979819 -1.49980692 -1.49981835 -1.49983109 -1.49984425 -1.49985725\n",
      " -1.49986975 -1.49988156 -1.49989259 -1.49990279 -1.49991218 -1.49992077\n",
      " -1.49992862 -1.49993577 -1.49994227 -1.49994819 -1.49995356 -1.49995843\n",
      " -1.49996286 -1.49996688 -1.49997052 -1.49997383 -1.49997683 -1.49997955\n",
      " -1.49998202 -1.49998426 -1.49998628 -1.49998812 -1.49998977 -1.49999126\n",
      " -1.4999926  -1.49999381 -1.49999488 -1.49999583 -1.49999667 -1.49999741\n",
      " -1.49999804 -1.49999858 -1.49999903 -1.49999939 -1.49999966 -1.49999986\n",
      " -1.49999997 -1.5        -1.49999995 -1.49999982 -1.49999961 -1.49999932\n",
      " -1.49999894 -1.49999848 -1.49999792 -1.49999727 -1.49999651 -1.49999565\n",
      " -1.49999467 -1.49999357 -1.49999234 -1.49999097 -1.49998945 -1.49998776\n",
      " -1.49998589 -1.49998382 -1.49998154 -1.49997902 -1.49997625 -1.49997319\n",
      " -1.49996981 -1.4999661  -1.499962   -1.49995749 -1.49995252 -1.49994704\n",
      " -1.49994101 -1.49993438 -1.49992709 -1.4999191  -1.49991035 -1.4999008\n",
      " -1.49989043 -1.49987924 -1.49986728 -1.49985466 -1.49984159 -1.49982847\n",
      " -1.4998159  -1.49980488 -1.49979693 -1.49979438 -1.49980076 -1.49982132\n",
      " -1.49986388 -1.49993989 -1.50006592 -1.50026544 -1.50057068 -1.5010238\n",
      " -1.50167564 -1.50257898 -1.50377191 -1.50524791 -1.50691602 -1.50857033\n",
      " -1.50990493 -1.51060284 -1.51047421 -1.50955526 -1.50808857 -1.50640137\n",
      " -1.50477517 -1.50337982 -1.50227653 -1.50145437 -1.5008683  -1.50046492\n",
      " -1.50019563 -1.50002129 -1.49991251 -1.49984809 -1.4998132  -1.49979762\n",
      " -1.4997944  -1.49979889 -1.49980797 -1.49981959 -1.49983241 -1.49984557\n",
      " -1.49985853 -1.49987097 -1.49988271 -1.49989365 -1.49990377 -1.49991308\n",
      " -1.49992159 -1.49992937 -1.49993645 -1.4999429  -1.49994875 -1.49995407\n",
      " -1.4999589  -1.49996328 -1.49996726 -1.49997087 -1.49997414 -1.49997712\n",
      " -1.49997981 -1.49998226 -1.49998447 -1.49998648 -1.49998829 -1.49998993\n",
      " -1.4999914  -1.49999273 -1.49999392 -1.49999498 -1.49999592 -1.49999675\n",
      " -1.49999747 -1.4999981  -1.49999863 -1.49999907 -1.49999942 -1.49999969\n",
      " -1.49999987 -1.49999997 -1.5        -1.49999994 -1.49999981 -1.49999959\n",
      " -1.49999929 -1.4999989  -1.49999842 -1.49999786 -1.49999719 -1.49999643\n",
      " -1.49999556 -1.49999457 -1.49999346 -1.49999221 -1.49999083 -1.49998929\n",
      " -1.49998758 -1.49998569 -1.4999836  -1.4999813  -1.49997876 -1.49997595\n",
      " -1.49997286 -1.49996946 -1.4999657  -1.49996157 -1.49995701 -1.49995199\n",
      " -1.49994646 -1.49994037 -1.49993368 -1.49992632 -1.49991825 -1.49990942\n",
      " -1.49989979 -1.49988934 -1.49987807 -1.49986604 -1.49985336 -1.49984027\n",
      " -1.49982716 -1.4998147  -1.49980391 -1.49979638 -1.49979455 -1.49980208\n",
      " -1.49982445 -1.49986979 -1.49994999 -1.50008223 -1.50029079 -1.50060886\n",
      " -1.50107959 -1.50175446 -1.50268571 -1.50390854 -1.50540978 -1.50708783\n",
      " -1.50872493 -1.51000875 -1.51062866 -1.51041471 -1.509427   -1.50792313\n",
      " -1.50623094 -1.50462231 -1.50325515 -1.50218152 -1.5013855  -1.50082025\n",
      " -1.50043244 -1.50017432 -1.50000777 -1.4999043  -1.49984344 -1.49981089\n",
      " -1.49979682 -1.49979457 -1.49979964 -1.49980906 -1.49982085 -1.49983373\n",
      " -1.49984689 -1.49985981 -1.49987219 -1.49988385 -1.49989471 -1.49990475\n",
      " -1.49991397 -1.49992241 -1.49993011 -1.49993713 -1.49994351 -1.49994931\n",
      " -1.49995458 -1.49995936 -1.4999637  -1.49996764 -1.49997121 -1.49997446\n",
      " -1.4999774  -1.49998007 -1.49998249 -1.49998468 -1.49998667 -1.49998846\n",
      " -1.49999008 -1.49999154 -1.49999286 -1.49999403 -1.49999508 -1.49999601\n",
      " -1.49999683 -1.49999754 -1.49999816 -1.49999868 -1.49999911 -1.49999945\n",
      " -1.49999971 -1.49999988 -1.49999998 -1.5        -1.49999993 -1.49999979\n",
      " -1.49999956 -1.49999925 -1.49999886 -1.49999837 -1.4999978  -1.49999712\n",
      " -1.49999635 -1.49999546 -1.49999446 -1.49999334 -1.49999208 -1.49999068\n",
      " -1.49998912 -1.4999874  -1.49998549 -1.49998338 -1.49998105 -1.49997849\n",
      " -1.49997566 -1.49997253 -1.49996909 -1.4999653  -1.49996113 -1.49995652\n",
      " -1.49995145 -1.49994587 -1.49993973 -1.49993297 -1.49992554 -1.4999174\n",
      " -1.49990849 -1.49989878 -1.49988824 -1.49987689 -1.49986478 -1.49985205\n",
      " -1.49983894 -1.49982587 -1.49981352 -1.49980297 -1.49979589 -1.49979481\n",
      " -1.49980355 -1.49982782 -1.49987606 -1.49996062 -1.50009932 -1.50031724\n",
      " -1.50064858 -1.50113745 -1.50183589 -1.50279545 -1.50404807 -1.50557355\n",
      " -1.50725931 -1.50887594 -1.51010569 -1.51064581 -1.51034718 -1.50929344\n",
      " -1.50775585 -1.50606146 -1.504472   -1.50313352 -1.50208936 -1.50131897\n",
      " -1.50077398 -1.50040126 -1.50015393 -1.49999488 -1.49989651 -1.49983907\n",
      " -1.49980877 -1.49979615 -1.49979481 -1.49980043 -1.49981016 -1.49982211\n",
      " -1.49983506 -1.49984821 -1.49986109 -1.4998734  -1.49988498 -1.49989576\n",
      " -1.49990571 -1.49991486 -1.49992322 -1.49993085 -1.4999378  -1.49994412\n",
      " -1.49994987 -1.49995508 -1.49995982 -1.49996411 -1.49996802 -1.49997156\n",
      " -1.49997477 -1.49997768 -1.49998032 -1.49998272 -1.49998489 -1.49998686\n",
      " -1.49998863 -1.49999024 -1.49999168 -1.49999298 -1.49999414 -1.49999518\n",
      " -1.4999961  -1.4999969  -1.49999761 -1.49999821 -1.49999872 -1.49999914\n",
      " -1.49999948 -1.49999973 -1.4999999  -1.49999999 -1.49999999 -1.49999992\n",
      " -1.49999977 -1.49999953 -1.49999922 -1.49999881 -1.49999832 -1.49999773\n",
      " -1.49999705 -1.49999626 -1.49999537 -1.49999435 -1.49999322 -1.49999195\n",
      " -1.49999053 -1.49998896 -1.49998722 -1.49998529 -1.49998316 -1.49998081\n",
      " -1.49997821 -1.49997535 -1.4999722  -1.49996873 -1.4999649  -1.49996068\n",
      " -1.49995603 -1.49995092 -1.49994528 -1.49993907 -1.49993225 -1.49992475\n",
      " -1.49991654 -1.49990755 -1.49989775 -1.49988713 -1.4998757  -1.49986353\n",
      " -1.49985074 -1.49983761 -1.49982457 -1.49981235 -1.49980207 -1.49979546\n",
      " -1.49979517 -1.49980518 -1.49983142 -1.49988269 -1.49997179 -1.5001172\n",
      " -1.50034484 -1.50068989 -1.50119744 -1.50191999 -1.5029082  -1.50419046\n",
      " -1.50573905 -1.50743018 -1.50902301 -1.5101955  -1.51065423 -1.51027181\n",
      " -1.50915493 -1.50758703 -1.50589314 -1.50432432 -1.50301493 -1.502\n",
      " -1.50125473 -1.50072947 -1.50037135 -1.50013443 -1.4999826  -1.49988914\n",
      " -1.49983497 -1.49980682 -1.49979559 -1.49979512 -1.49980126 -1.49981129\n",
      " -1.49982339 -1.49983638 -1.49984953 -1.49986236 -1.4998746  -1.49988611\n",
      " -1.4998968  -1.49990667 -1.49991573 -1.49992402 -1.49993158 -1.49993847\n",
      " -1.49994473 -1.49995041 -1.49995558 -1.49996027 -1.49996453 -1.49996839\n",
      " -1.49997189 -1.49997507 -1.49997796 -1.49998058 -1.49998295 -1.4999851\n",
      " -1.49998704 -1.4999888  -1.49999039 -1.49999182 -1.4999931  -1.49999425\n",
      " -1.49999528 -1.49999618 -1.49999698 -1.49999767 -1.49999827 -1.49999877\n",
      " -1.49999918 -1.49999951 -1.49999975 -1.49999991 -1.49999999 -1.49999999\n",
      " -1.49999991 -1.49999975 -1.49999951 -1.49999918 -1.49999877 -1.49999826\n",
      " -1.49999767 -1.49999697 -1.49999618 -1.49999527 -1.49999424 -1.49999309\n",
      " -1.49999181 -1.49999038 -1.49998879 -1.49998703 -1.49998508 -1.49998293\n",
      " -1.49998056 -1.49997794 -1.49997505 -1.49997187 -1.49996836 -1.49996449\n",
      " -1.49996023 -1.49995554 -1.49995037 -1.49994468 -1.49993841 -1.49993153\n",
      " -1.49992396 -1.49991567 -1.4999066  -1.49989672 -1.49988602 -1.49987451\n",
      " -1.49986226 -1.49984943 -1.49983628 -1.49982329 -1.4998112  -1.4998012\n",
      " -1.49979509 -1.49979563 -1.49980697 -1.49983528 -1.49988969 -1.49998353\n",
      " -1.50013591 -1.50037362 -1.50073284 -1.50125961 -1.5020068  -1.50302398\n",
      " -1.50433563 -1.5059061  -1.50760012 -1.50916579 -1.5102779  -1.51065389\n",
      " -1.51018882 -1.5090118  -1.50741701 -1.5057262  -1.50417936 -1.50289938\n",
      " -1.5019134  -1.50119273 -1.50068664 -1.50034266 -1.50011579 -1.49997091\n",
      " -1.49988216 -1.49983114 -1.49980505 -1.49979514 -1.49979549 -1.49980214\n",
      " -1.49981244 -1.49982467 -1.49983771 -1.49985084 -1.49986362 -1.4998758\n",
      " -1.49988722 -1.49989783 -1.49990762 -1.4999166  -1.49992482 -1.49993231\n",
      " -1.49993912 -1.49994532 -1.49995096 -1.49995607 -1.49996072 -1.49996493\n",
      " -1.49996876 -1.49997223 -1.49997538 -1.49997824 -1.49998083 -1.49998318\n",
      " -1.4999853  -1.49998723 -1.49998897 -1.49999054 -1.49999196 -1.49999323\n",
      " -1.49999436 -1.49999537 -1.49999627 -1.49999705 -1.49999774 -1.49999832\n",
      " -1.49999881 -1.49999922 -1.49999954 -1.49999977 -1.49999992 -1.49999999\n",
      " -1.49999999 -1.4999999  -1.49999973 -1.49999948 -1.49999914 -1.49999872\n",
      " -1.49999821 -1.4999976  -1.4999969  -1.49999609 -1.49999517 -1.49999413\n",
      " -1.49999297 -1.49999167 -1.49999023 -1.49998862 -1.49998684 -1.49998488\n",
      " -1.4999827  -1.4999803  -1.49997766 -1.49997474 -1.49997153 -1.49996799\n",
      " -1.49996408 -1.49995978 -1.49995504 -1.49994982 -1.49994408 -1.49993775\n",
      " -1.49993079 -1.49992316 -1.49991479 -1.49990564 -1.49989568 -1.49988489\n",
      " -1.49987331 -1.49986099 -1.49984811 -1.49983496 -1.49982202 -1.49981008\n",
      " -1.49980037 -1.49979479 -1.4997962  -1.49980893 -1.4998394  -1.4998971\n",
      " -1.49999586 -1.50015547 -1.50040363 -1.5007775  -1.50132402 -1.50209638\n",
      " -1.50314281 -1.50448352 -1.50607451 -1.50776883 -1.50930394 -1.51035268\n",
      " -1.5106448  -1.51009845 -1.50886441 -1.50724608 -1.50556083 -1.50403719\n",
      " -1.50278686 -1.50182951 -1.50113291 -1.50064545 -1.50031516 -1.50009797\n",
      " -1.49995978 -1.49987556 -1.49982755 -1.49980343 -1.49979479 -1.49979593\n",
      " -1.49980304 -1.49981361 -1.49982597 -1.49983904 -1.49985215 -1.49986488\n",
      " -1.49987698 -1.49988833 -1.49989886 -1.49990856 -1.49991746 -1.4999256\n",
      " -1.49993302 -1.49993978 -1.49994592 -1.4999515  -1.49995656 -1.49996116\n",
      " -1.49996533 -1.49996912 -1.49997256 -1.49997568 -1.49997851 -1.49998107\n",
      " -1.4999834  -1.49998551 -1.49998741 -1.49998914 -1.49999069 -1.49999209\n",
      " -1.49999335 -1.49999447 -1.49999547 -1.49999635 -1.49999713 -1.4999978\n",
      " -1.49999838 -1.49999886 -1.49999925 -1.49999956 -1.49999979 -1.49999993\n",
      " -1.5        -1.49999998 -1.49999988 -1.49999971 -1.49999945 -1.4999991\n",
      " -1.49999867 -1.49999815 -1.49999754 -1.49999682 -1.499996   -1.49999507\n",
      " -1.49999402 -1.49999285 -1.49999153 -1.49999007 -1.49998845 -1.49998665\n",
      " -1.49998467 -1.49998247 -1.49998005 -1.49997738 -1.49997443 -1.49997119\n",
      " -1.49996761 -1.49996367 -1.49995932 -1.49995454 -1.49994927 -1.49994346\n",
      " -1.49993708 -1.49993006 -1.49992235 -1.4999139  -1.49990467 -1.49989463\n",
      " -1.49988376 -1.4998721  -1.49985972 -1.49984679 -1.49983363 -1.49982075\n",
      " -1.49980897 -1.49979958 -1.49979455 -1.49979688 -1.49981106 -1.49984379\n",
      " -1.49990491 -1.50000879 -1.50017593 -1.5004349  -1.50082389 -1.50139073\n",
      " -1.50218876 -1.50326468 -1.50463403 -1.50624407 -1.50793598 -1.5094371\n",
      " -1.5104196  -1.51062698 -1.51000097 -1.50871311 -1.50707457 -1.50539721\n",
      " -1.50389788 -1.50267736 -1.50174828 -1.50107521 -1.50060585 -1.50028879\n",
      " -1.50008095 -1.49994919 -1.49986932 -1.4998242  -1.49980197 -1.49979453\n",
      " -1.49979642 -1.49980398 -1.49981479 -1.49982726 -1.49984037 -1.49985346\n",
      " -1.49986613 -1.49987816 -1.49988943 -1.49989987 -1.49990949 -1.49991832\n",
      " -1.49992638 -1.49993373 -1.49994042 -1.4999465  -1.49995203 -1.49995705\n",
      " -1.4999616  -1.49996573 -1.49996948 -1.49997289 -1.49997598 -1.49997878\n",
      " -1.49998132 -1.49998362 -1.49998571 -1.4999876  -1.4999893  -1.49999084\n",
      " -1.49999222 -1.49999347 -1.49999458 -1.49999556 -1.49999644 -1.4999972\n",
      " -1.49999786 -1.49999843 -1.4999989  -1.49999929 -1.49999959 -1.49999981\n",
      " -1.49999994 -1.5        -1.49999997 -1.49999987 -1.49999968 -1.49999942\n",
      " -1.49999906 -1.49999862 -1.49999809 -1.49999747 -1.49999674 -1.49999591\n",
      " -1.49999497 -1.49999391 -1.49999272 -1.49999139 -1.49998992 -1.49998828\n",
      " -1.49998646 -1.49998446 -1.49998224 -1.49997979 -1.49997709 -1.49997412\n",
      " -1.49997084 -1.49996723 -1.49996325 -1.49995886 -1.49995403 -1.49994871\n",
      " -1.49994285 -1.4999364  -1.49992931 -1.49992153]\n"
     ]
    }
   ],
   "source": [
    "# Common imports\n",
    "import numpy as np\n",
    "import pandas as pd\n",
    "from math import *\n",
    "import matplotlib.pyplot as plt\n",
    "\n",
    "DeltaT = 0.01\n",
    "#set up arrays \n",
    "tfinal = 10.0\n",
    "n = ceil(tfinal/DeltaT)\n",
    "# set up arrays\n",
    "t = np.zeros(n)\n",
    "v = np.zeros((n,2))\n",
    "r = np.zeros((n,2))\n",
    "E = np.zeros(n)\n",
    "# Constants of the model\n",
    "m = 1.0   # mass, you can change these\n",
    "alpha = 1.0\n",
    "# Initial conditions as compact 2-dimensional arrays\n",
    "x0 = 0.5; y0= 0.\n",
    "r0 = np.array([x0,y0]) \n",
    "v0 = np.array([0.0,1.0])\n",
    "r[0] = r0\n",
    "v[0] = v0\n",
    "rabs = sqrt(sum(r[0]*r[0]))\n",
    "E[0] = 0.5*m*(v[0,0]**2+v[0,1]**2)-alpha/rabs\n",
    "# Start integrating using the Velocity-Verlet  method\n",
    "for i in range(n-1):\n",
    "    # Set up the acceleration\n",
    "    rabs = sqrt(sum(r[i]*r[i]))\n",
    "    a =  -alpha*r[i]/(rabs**3)\n",
    "    # update velocity, time and position using the Velocity-Verlet method\n",
    "    r[i+1] = r[i] + DeltaT*v[i]+0.5*(DeltaT**2)*a\n",
    "    rabs = sqrt(sum(r[i+1]*r[i+1]))\n",
    "    anew = -alpha*r[i+1]/(rabs**3)\n",
    "    v[i+1] = v[i] + 0.5*DeltaT*(a+anew)\n",
    "    E[i+1] = 0.5*m*(v[i+1,0]**2+v[i+1,1]**2)-alpha/rabs\n",
    "    t[i+1] = t[i] + DeltaT\n",
    "# Plot position as function of time\n",
    "fig, ax = plt.subplots(3,1)\n",
    "ax[0].set_ylabel('y')\n",
    "ax[0].set_xlabel('x')\n",
    "ax[0].plot(r[:,0],r[:,1])\n",
    "ax[1].set_xlabel('time')\n",
    "ax[1].set_ylabel('y position')\n",
    "ax[1].plot(t,r[:,0])\n",
    "ax[2].set_xlabel('time')\n",
    "ax[2].set_ylabel('y position')\n",
    "ax[2].plot(t,r[:,1])\n",
    "\n",
    "fig.tight_layout()\n",
    "save_fig(\"2DimGravity\")\n",
    "plt.show()\n",
    "print(E)"
   ]
  },
  {
   "cell_type": "markdown",
   "metadata": {},
   "source": [
    "## Scattering and Cross Sections\n",
    "\n",
    "Scattering experiments don't measure entire trajectories. For elastic\n",
    "collisions, they measure the distribution of final scattering angles\n",
    "at best. Most experiments use targets thin enough so that the number\n",
    "of scatterings is typically zero or one. The cross section, $\\sigma$,\n",
    "describes the cross-sectional area for particles to scatter with an\n",
    "individual target atom or nucleus. Cross section measurements form the\n",
    "basis for MANY fields of physics. BThe cross section, and the\n",
    "differential cross section, encapsulates everything measurable for a\n",
    "collision where all that is measured is the final state, e.g. the\n",
    "outgoing particle had momentum $\\boldsymbol{p}_f$. y studying cross sections,\n",
    "one can infer information about the potential interaction between the\n",
    "two particles. Inferring, or constraining, the potential from the\n",
    "cross section is a classic {\\it inverse} problem. Collisions are\n",
    "either elastic or inelastic. Elastic collisions are those for which\n",
    "the two bodies are in the same internal state before and after the\n",
    "collision. If the collision excites one of the participants into a\n",
    "higher state, or transforms the particles into different species, or\n",
    "creates additional particles, the collision is inelastic. Here, we\n",
    "consider only elastic collisions.\n",
    "\n",
    "For Coulomb forces, the cross section is infinite because the range of\n",
    "the Coulomb force is infinite, but for interactions such as the strong\n",
    "interaction in nuclear or particle physics, there is no long-range\n",
    "force and cross-sections are finite. Even for Coulomb forces, the part\n",
    "of the cross section that corresponds to a specific scattering angle,\n",
    "$d\\sigma/d\\Omega$, which is a function of the scattering angle\n",
    "$\\phi_s$ is still finite.\n",
    "\n",
    "If a particle travels through a thin target, the chance the particle\n",
    "scatters is $P_{\\rm scatt}=\\sigma dN/dA$, where $dN/dA$ is the number\n",
    "of scattering centers per area the particle encounters. If the density\n",
    "of the target is $\\rho$ particles per volume, and if the thickness of\n",
    "the target is $t$, the areal density (number of target scatterers per\n",
    "area) is $dN/dA=\\rho t$. Because one wishes to quantify the collisions\n",
    "independently of the target, experimentalists measure scattering\n",
    "probabilities, then divide by the areal density to obtain\n",
    "cross-sections,"
   ]
  },
  {
   "cell_type": "markdown",
   "metadata": {},
   "source": [
    "$$\n",
    "\\begin{eqnarray}\n",
    "\\sigma=\\frac{P_{\\rm scatt}}{dN/dA}.\n",
    "\\end{eqnarray}\n",
    "$$"
   ]
  },
  {
   "cell_type": "markdown",
   "metadata": {},
   "source": [
    "Instead of merely stating that a particle collided, one can measure\n",
    "the probability the particle scattered by a given angle. The\n",
    "scattering angle $\\phi_s$ is defined so that at zero the particle is\n",
    "unscattered and at $\\phi_s=\\pi$ the particle is scattered directly\n",
    "backward. Scattering angles are often described in the center-of-mass\n",
    "frame, but that is a detail we will neglect for this first discussion,\n",
    "where we will consider the scattering of particles moving classically\n",
    "under the influence of fixed potentials $U(\\boldsymbol{r})$. Because the\n",
    "distribution of scattering angles can be measured, one expresses the\n",
    "differential cross section,"
   ]
  },
  {
   "cell_type": "markdown",
   "metadata": {},
   "source": [
    "<!-- Equation labels as ordinary links -->\n",
    "<div id=\"_auto5\"></div>\n",
    "\n",
    "$$\n",
    "\\begin{equation}\n",
    "\\frac{d^2\\sigma}{d\\cos\\phi_s~d\\phi}.\n",
    "\\label{_auto5} \\tag{10}\n",
    "\\end{equation}\n",
    "$$"
   ]
  },
  {
   "cell_type": "markdown",
   "metadata": {},
   "source": [
    "Usually, the literature expresses differential cross sections as"
   ]
  },
  {
   "cell_type": "markdown",
   "metadata": {},
   "source": [
    "<!-- Equation labels as ordinary links -->\n",
    "<div id=\"_auto6\"></div>\n",
    "\n",
    "$$\n",
    "\\begin{equation}\n",
    "d\\sigma/d\\Omega=\\frac{d\\sigma}{d\\cos\\phi d\\phi}=\\frac{1}{2\\pi}\\frac{d\\sigma}{d\\cos\\phi},\n",
    "\\label{_auto6} \\tag{11}\n",
    "\\end{equation}\n",
    "$$"
   ]
  },
  {
   "cell_type": "markdown",
   "metadata": {},
   "source": [
    "where the last equivalency is true when the scattering does not depend\n",
    "on the azimuthal angle $\\phi$, as is the case for spherically\n",
    "symmetric potentials.\n",
    "\n",
    "The differential solid angle $d\\Omega$ can be thought of as the area\n",
    "subtended by a measurement, $dA_d$, divided by $r^2$, where $r$ is the\n",
    "distance to the detector,"
   ]
  },
  {
   "cell_type": "markdown",
   "metadata": {},
   "source": [
    "$$\n",
    "\\begin{eqnarray}\n",
    "dA_d=r^2 d\\Omega.\n",
    "\\end{eqnarray}\n",
    "$$"
   ]
  },
  {
   "cell_type": "markdown",
   "metadata": {},
   "source": [
    "With this definition $d\\sigma/d\\Omega$ is independent of the distance\n",
    "from which one places the detector, or the size of the detector (as\n",
    "long as it is small).\n",
    "\n",
    "Differential scattering cross sections are calculated by assuming a\n",
    "random distribution of impact parameters $b$. These represent the\n",
    "distance in the $xy$ plane for particles moving in the $z$ direction\n",
    "relative to the scattering center. An impact parameter $b=0$ refers to\n",
    "being aimed directly at the target's center. The impact parameter\n",
    "describes the transverse distance from the $z=0$ axis for the\n",
    "trajectory when it is still far away from the scattering center and\n",
    "has not yet passed it. The differential cross section can be expressed\n",
    "in terms of the impact parameter,"
   ]
  },
  {
   "cell_type": "markdown",
   "metadata": {},
   "source": [
    "<!-- Equation labels as ordinary links -->\n",
    "<div id=\"_auto7\"></div>\n",
    "\n",
    "$$\n",
    "\\begin{equation}\n",
    "d\\sigma=2\\pi bdb,\n",
    "\\label{_auto7} \\tag{12}\n",
    "\\end{equation}\n",
    "$$"
   ]
  },
  {
   "cell_type": "markdown",
   "metadata": {},
   "source": [
    "which is the area of a thin ring of radius $b$ and thickness $db$. In\n",
    "classical physics, one can calculate the trajectory given the incoming\n",
    "kinetic energy $E$ and the impact parameter if one knows the mass and\n",
    "potential. From the trajectory, one then finds the scattering angle\n",
    "$\\phi_s(b)$. The differential cross section is then"
   ]
  },
  {
   "cell_type": "markdown",
   "metadata": {},
   "source": [
    "<!-- Equation labels as ordinary links -->\n",
    "<div id=\"_auto8\"></div>\n",
    "\n",
    "$$\n",
    "\\begin{equation}\n",
    "\\frac{d\\sigma}{d\\Omega}=\\frac{1}{2\\pi}\\frac{d\\sigma}{d\\cos\\phi_s}=b\\frac{db}{d\\cos\\phi_s}=\\frac{b}{(d/db)\\cos\\phi_s(b)}.\n",
    "\\label{_auto8} \\tag{13}\n",
    "\\end{equation}\n",
    "$$"
   ]
  },
  {
   "cell_type": "markdown",
   "metadata": {},
   "source": [
    "Typically, one would calculate $\\cos\\phi_s$ and $(d/db)\\cos\\phi_s$\n",
    "as functions of $b$. This is sufficient to plot the differential cross\n",
    "section as a function of $\\phi_s$.\n",
    "\n",
    "The total cross section is"
   ]
  },
  {
   "cell_type": "markdown",
   "metadata": {},
   "source": [
    "<!-- Equation labels as ordinary links -->\n",
    "<div id=\"_auto9\"></div>\n",
    "\n",
    "$$\n",
    "\\begin{equation}\n",
    "\\sigma_{\\rm tot}=\\int d\\Omega\\frac{d\\sigma}{d\\Omega}=2\\pi\\int d\\cos\\phi_s~\\frac{d\\sigma}{d\\Omega}. \n",
    "\\label{_auto9} \\tag{14}\n",
    "\\end{equation}\n",
    "$$"
   ]
  },
  {
   "cell_type": "markdown",
   "metadata": {},
   "source": [
    "Even if the total cross section is infinite, e.g. Coulomb forces, one\n",
    "can still have a finite differential cross section as we will see\n",
    "later on.\n",
    "\n",
    "\n",
    "An asteroid of mass $m$ and kinetic energy $E$ approaches a planet of\n",
    "radius $R$ and mass $M$. What is the cross section for the asteroid to\n",
    "impact the planet?\n",
    "\n",
    "### Solution\n",
    "\n",
    "Calculate the maximum impact parameter, $b_{\\rm max}$, for which the asteroid will hit the planet. The total cross  section for impact is $\\sigma_{\\rm impact}=\\pi b_{\\rm max}^2$. The maximum cross-section can be found with the help of angular momentum conservation. The asteroid's incoming momentum is $p_0=\\sqrt{2mE}$ and the angular momentum is $L=p_0b$. If the asteroid just grazes the planet, it is moving with zero radial kinetic energy at impact. Combining energy and angular momentum conservation and having $p_f$ refer to the momentum of the asteroid at a distance $R$,"
   ]
  },
  {
   "cell_type": "markdown",
   "metadata": {},
   "source": [
    "$$\n",
    "\\begin{eqnarray*}\n",
    "\\frac{p_f^2}{2m}-\\frac{GMm}{R}&=&E,\\\\\n",
    "p_fR&=&p_0b_{\\rm max},\n",
    "\\end{eqnarray*}\n",
    "$$"
   ]
  },
  {
   "cell_type": "markdown",
   "metadata": {},
   "source": [
    "allows one to solve for $b_{\\rm max}$,"
   ]
  },
  {
   "cell_type": "markdown",
   "metadata": {},
   "source": [
    "$$\n",
    "\\begin{eqnarray*}\n",
    "b_{\\rm max}&=&R\\frac{p_f}{p_0}\\\\\n",
    "&=&R\\frac{\\sqrt{2m(E+GMm/R)}}{\\sqrt{2mE}}\\\\\n",
    "\\sigma_{\\rm impact}&=&\\pi R^2\\frac{E+GMm/R}{E}.\n",
    "\\end{eqnarray*}\n",
    "$$"
   ]
  },
  {
   "cell_type": "markdown",
   "metadata": {},
   "source": [
    "## Rutherford Scattering\n",
    "\n",
    "This refers to the calculation of $d\\sigma/d\\Omega$ due to an inverse\n",
    "square force, $F_{12}=\\pm\\alpha/r^2$ for repulsive/attractive\n",
    "interaction. Rutherford compared the scattering of $\\alpha$ particles\n",
    "($^4$He nuclei) off of a nucleus and found the scattering angle at\n",
    "which the formula began to fail. This corresponded to the impact\n",
    "parameter for which the trajectories would strike the nucleus. This\n",
    "provided the first measure of the size of the atomic nucleus. At the\n",
    "time, the distribution of the positive charge (the protons) was\n",
    "considered to be just as spread out amongst the atomic volume as the\n",
    "electrons. After Rutherford's experiment, it was clear that the radius\n",
    "of the nucleus tended to be roughly 4 orders of magnitude smaller than\n",
    "that of the atom, which is less than the size of a football relative\n",
    "to Spartan Stadium.\n",
    "\n",
    "\n",
    "\n",
    "The incoming and outgoing angles of the trajectory are at\n",
    "$\\pm\\phi'$. They are related to the scattering angle by\n",
    "$2\\phi'=\\pi+\\phi_s$.\n",
    "\n",
    "In order to calculate differential cross section, we must find how the\n",
    "impact parameter is related to the scattering angle. This requires\n",
    "analysis of the trajectory. We consider our previous expression for\n",
    "the trajectory where we derived the elliptic form for the trajectory,\n",
    "Eq. ([9](#eq:Ctrajectory)). For that case we considered an attractive\n",
    "force with the particle's energy being negative, i.e. it was\n",
    "bound. However, the same form will work for positive energy, and\n",
    "repulsive forces can be considered by simple flipping the sign of\n",
    "$\\alpha$. For positive energies, the trajectories will be hyperbolas,\n",
    "rather than ellipses, with the asymptotes of the trajectories\n",
    "representing the directions of the incoming and outgoing\n",
    "tracks. Rewriting Eq. ([9](#eq:Ctrajectory)),"
   ]
  },
  {
   "cell_type": "markdown",
   "metadata": {},
   "source": [
    "<!-- Equation labels as ordinary links -->\n",
    "<div id=\"eq:ruthtraj\"></div>\n",
    "\n",
    "$$\n",
    "\\begin{equation}\\label{eq:ruthtraj} \\tag{15}\n",
    "r=\\frac{1}{\\frac{m\\alpha}{L^2}+A\\cos\\phi}.\n",
    "\\end{equation}\n",
    "$$"
   ]
  },
  {
   "cell_type": "markdown",
   "metadata": {},
   "source": [
    "Once $A$ is large enough, which will happen when the energy is\n",
    "positive, the denominator will become negative for a range of\n",
    "$\\phi$. This is because the scattered particle will never reach\n",
    "certain angles. The asymptotic angles $\\phi'$ are those for which\n",
    "the denominator goes to zero,"
   ]
  },
  {
   "cell_type": "markdown",
   "metadata": {},
   "source": [
    "<!-- Equation labels as ordinary links -->\n",
    "<div id=\"_auto10\"></div>\n",
    "\n",
    "$$\n",
    "\\begin{equation}\n",
    "\\cos\\phi'=-\\frac{m\\alpha}{AL^2}.\n",
    "\\label{_auto10} \\tag{16}\n",
    "\\end{equation}\n",
    "$$"
   ]
  },
  {
   "cell_type": "markdown",
   "metadata": {},
   "source": [
    "The trajectory's point of closest approach is at $\\phi=0$ and the\n",
    "two angles $\\phi'$, which have this value of $\\cos\\phi'$, are the\n",
    "angles of the incoming and outgoing particles. From\n",
    "Fig (**to come**), one can see that the scattering angle\n",
    "$\\phi_s$ is given by,"
   ]
  },
  {
   "cell_type": "markdown",
   "metadata": {},
   "source": [
    "<!-- Equation labels as ordinary links -->\n",
    "<div id=\"eq:sthetover2\"></div>\n",
    "\n",
    "$$\n",
    "\\begin{eqnarray}\n",
    "\\label{eq:sthetover2} \\tag{17}\n",
    "2\\phi'-\\pi&=&\\phi_s,~~~\\phi'=\\frac{\\pi}{2}+\\frac{\\phi_s}{2},\\\\\n",
    "\\nonumber\n",
    "\\sin(\\phi_s/2)&=&-\\cos\\phi'\\\\\n",
    "\\nonumber\n",
    "&=&\\frac{m\\alpha}{AL^2}.\n",
    "\\end{eqnarray}\n",
    "$$"
   ]
  },
  {
   "cell_type": "markdown",
   "metadata": {},
   "source": [
    "Now that we have $\\phi_s$ in terms of $m,\\alpha,L$ and $A$, we wish\n",
    "to re-express $L$ and $A$ in terms of the impact parameter $b$ and the\n",
    "energy $E$. This will set us up to calculate the differential cross\n",
    "section, which requires knowing $db/d\\phi_s$. It is easy to write\n",
    "the angular momentum as"
   ]
  },
  {
   "cell_type": "markdown",
   "metadata": {},
   "source": [
    "<!-- Equation labels as ordinary links -->\n",
    "<div id=\"_auto11\"></div>\n",
    "\n",
    "$$\n",
    "\\begin{equation}\n",
    "L^2=p_0^2b^2=2mEb^2.\n",
    "\\label{_auto11} \\tag{18}\n",
    "\\end{equation}\n",
    "$$"
   ]
  },
  {
   "cell_type": "markdown",
   "metadata": {},
   "source": [
    "Finding $A$ is more complicated. To accomplish this we realize that\n",
    "the point of closest approach occurs at $\\phi=0$, so from\n",
    "Eq. ([15](#eq:ruthtraj))"
   ]
  },
  {
   "cell_type": "markdown",
   "metadata": {},
   "source": [
    "<!-- Equation labels as ordinary links -->\n",
    "<div id=\"eq:rminofA\"></div>\n",
    "\n",
    "$$\n",
    "\\begin{eqnarray}\n",
    "\\label{eq:rminofA} \\tag{19}\n",
    "\\frac{1}{r_{\\rm min}}&=&\\frac{m\\alpha}{L^2}+A,\\\\\n",
    "\\nonumber\n",
    "A&=&\\frac{1}{r_{\\rm min}}-\\frac{m\\alpha}{L^2}.\n",
    "\\end{eqnarray}\n",
    "$$"
   ]
  },
  {
   "cell_type": "markdown",
   "metadata": {},
   "source": [
    "Next, $r_{\\rm min}$ can be found in terms of the energy because at the\n",
    "point of closest approach the kinetic energy is due purely to the\n",
    "motion perpendicular to $\\hat{r}$ and"
   ]
  },
  {
   "cell_type": "markdown",
   "metadata": {},
   "source": [
    "<!-- Equation labels as ordinary links -->\n",
    "<div id=\"_auto12\"></div>\n",
    "\n",
    "$$\n",
    "\\begin{equation}\n",
    "E=-\\frac{\\alpha}{r_{\\rm min}}+\\frac{L^2}{2mr_{\\rm min}^2}.\n",
    "\\label{_auto12} \\tag{20}\n",
    "\\end{equation}\n",
    "$$"
   ]
  },
  {
   "cell_type": "markdown",
   "metadata": {},
   "source": [
    "One can solve the quadratic equation for $1/r_{\\rm min}$,"
   ]
  },
  {
   "cell_type": "markdown",
   "metadata": {},
   "source": [
    "<!-- Equation labels as ordinary links -->\n",
    "<div id=\"_auto13\"></div>\n",
    "\n",
    "$$\n",
    "\\begin{equation}\n",
    "\\frac{1}{r_{\\rm min}}=\\frac{m\\alpha}{L^2}+\\sqrt{(m\\alpha/L^2)^2+2mE/L^2}.\n",
    "\\label{_auto13} \\tag{21}\n",
    "\\end{equation}\n",
    "$$"
   ]
  },
  {
   "cell_type": "markdown",
   "metadata": {},
   "source": [
    "We can plug the expression for $r_{\\rm min}$ into the expression for $A$, Eq. ([19](#eq:rminofA)),"
   ]
  },
  {
   "cell_type": "markdown",
   "metadata": {},
   "source": [
    "<!-- Equation labels as ordinary links -->\n",
    "<div id=\"_auto14\"></div>\n",
    "\n",
    "$$\n",
    "\\begin{equation}\n",
    "A=\\sqrt{(m\\alpha/L^2)^2+2mE/L^2}=\\sqrt{(\\alpha^2/(4E^2b^4)+1/b^2}\n",
    "\\label{_auto14} \\tag{22}\n",
    "\\end{equation}\n",
    "$$"
   ]
  },
  {
   "cell_type": "markdown",
   "metadata": {},
   "source": [
    "Finally, we insert the expression for $A$ into that for the scattering angle, Eq. ([17](#eq:sthetover2)),"
   ]
  },
  {
   "cell_type": "markdown",
   "metadata": {},
   "source": [
    "<!-- Equation labels as ordinary links -->\n",
    "<div id=\"eq:scattangle\"></div>\n",
    "\n",
    "$$\n",
    "\\begin{eqnarray}\n",
    "\\label{eq:scattangle} \\tag{23}\n",
    "\\sin(\\phi_s/2)&=&\\frac{m\\alpha}{AL^2}\\\\\n",
    "\\nonumber\n",
    "&=&\\frac{a}{\\sqrt{a^2+b^2}}, ~~a\\equiv \\frac{\\alpha}{2E}\n",
    "\\end{eqnarray}\n",
    "$$"
   ]
  },
  {
   "cell_type": "markdown",
   "metadata": {},
   "source": [
    "The differential cross section can now be found by differentiating the\n",
    "expression for $\\phi_s$ with $b$,"
   ]
  },
  {
   "cell_type": "markdown",
   "metadata": {},
   "source": [
    "<!-- Equation labels as ordinary links -->\n",
    "<div id=\"eq:rutherford\"></div>\n",
    "\n",
    "$$\n",
    "\\begin{eqnarray}\n",
    "\\label{eq:rutherford} \\tag{24}\n",
    "\\frac{1}{2}\\cos(\\phi_s/2)d\\phi_s&=&\\frac{ab~db}{(a^2+b^2)^{3/2}}=\\frac{bdb}{a^2}\\sin^3(\\phi_s/2),\\\\\n",
    "\\nonumber\n",
    "d\\sigma&=&2\\pi bdb=\\frac{\\pi a^2}{\\sin^3(\\phi_s/2)}\\cos(\\phi_s/2)d\\phi_s\\\\\n",
    "\\nonumber\n",
    "&=&\\frac{\\pi a^2}{2\\sin^4(\\phi_s/2)}\\sin\\phi_s d\\phi_s\\\\\n",
    "\\nonumber\n",
    "\\frac{d\\sigma}{d\\cos\\phi_s}&=&\\frac{\\pi a^2}{2\\sin^4(\\phi_s/2)},\\\\\n",
    "\\nonumber\n",
    "\\frac{d\\sigma}{d\\Omega}&=&\\frac{a^2}{4\\sin^4(\\phi_s/2)}.\n",
    "\\end{eqnarray}\n",
    "$$"
   ]
  },
  {
   "cell_type": "markdown",
   "metadata": {},
   "source": [
    "where $a= \\alpha/2E$. This the Rutherford formula for the differential\n",
    "cross section. It diverges as $\\phi_s\\rightarrow 0$ because\n",
    "scatterings with arbitrarily large impact parameters still scatter to\n",
    "arbitrarily small scattering angles. The expression for\n",
    "$d\\sigma/d\\Omega$ is the same whether the interaction is positive or\n",
    "negative.\n",
    "\n",
    "\n",
    "Consider a particle of mass $m$ and charge $z$ with kinetic energy $E$\n",
    "(Let it be the center-of-mass energy) incident on a heavy nucleus of\n",
    "mass $M$ and charge $Z$ and radius $R$. Find the angle at which the\n",
    "Rutherford scattering formula breaks down.\n",
    "\n",
    "### Solution\n",
    "\n",
    "Let $\\alpha=Zze^2/(4\\pi\\epsilon_0)$. The scattering angle in Eq. ([23](#eq:scattangle)) is"
   ]
  },
  {
   "cell_type": "markdown",
   "metadata": {},
   "source": [
    "$$\n",
    "\\sin(\\phi_s/2)=\\frac{a}{\\sqrt{a^2+b^2}}, ~~a\\equiv \\frac{\\alpha}{2E}.\n",
    "$$"
   ]
  },
  {
   "cell_type": "markdown",
   "metadata": {},
   "source": [
    "The impact parameter $b$ for which the point of closest approach\n",
    "equals $R$ can be found by using angular momentum conservation,"
   ]
  },
  {
   "cell_type": "markdown",
   "metadata": {},
   "source": [
    "$$\n",
    "\\begin{eqnarray*}\n",
    "p_0b&=&b\\sqrt{2mE}=Rp_f=R\\sqrt{2m(E-\\alpha/R)},\\\\\n",
    "b&=&R\\frac{\\sqrt{2m(E-\\alpha/R)}}{\\sqrt{2mE}}\\\\\n",
    "&=&R\\sqrt{1-\\frac{\\alpha}{ER}}.\n",
    "\\end{eqnarray*}\n",
    "$$"
   ]
  },
  {
   "cell_type": "markdown",
   "metadata": {},
   "source": [
    "Putting these together"
   ]
  },
  {
   "cell_type": "markdown",
   "metadata": {},
   "source": [
    "$$\n",
    "\\phi_s=2\\sin^{-1}\\left\\{\n",
    "\\frac{a}{\\sqrt{a^2+R^2(1-\\alpha/(RE))}}\n",
    "\\right\\},~~~a=\\frac{\\alpha}{2E}.\n",
    "$$"
   ]
  },
  {
   "cell_type": "markdown",
   "metadata": {},
   "source": [
    "It was from this departure of the experimentally measured\n",
    "$d\\sigma/d\\Omega$ from the Rutherford formula that allowed Rutherford\n",
    "to infer the radius of the gold nucleus, $R$.\n",
    "\n",
    "\n",
    "\n",
    "Just like electrodynamics, one can define \"fields\", which for a small\n",
    "additional mass $m$ are the force per mass and the additional\n",
    "potential energy per mass. The {\\it gravitational field} related to\n",
    "the force has dimensions of force per mass, or acceleration, and can\n",
    "be labeled $\\boldsymbol{g}(\\boldsymbol{r})$. The potential energy per mass has\n",
    "dimensions of energy per mass. This is analogous to the\n",
    "electromagnetic potential, which is the potential energy per charge,\n",
    "and the electric field which is the force per charge.\n",
    "\n",
    "Because the field $\\boldsymbol{g}$ obeys the same inverse square law for a\n",
    "point mass as the electric field does for a point charge, the\n",
    "gravitational field also satisfies a version of Gauss's law,"
   ]
  },
  {
   "cell_type": "markdown",
   "metadata": {},
   "source": [
    "<!-- Equation labels as ordinary links -->\n",
    "<div id=\"eq:GravGauss\"></div>\n",
    "\n",
    "$$\n",
    "\\begin{equation}\n",
    "\\label{eq:GravGauss} \\tag{25}\n",
    "\\oint d\\boldsymbol{A}\\cdot\\boldsymbol{g}=-4\\pi GM_{\\rm inside}.\n",
    "\\end{equation}\n",
    "$$"
   ]
  },
  {
   "cell_type": "markdown",
   "metadata": {},
   "source": [
    "Here, $M_{\\rm inside}$ is the net mass inside a closed area.\n",
    "\n",
    "Gauss's law can be understood by considering a nozzle that sprays\n",
    "paint in all directions uniformly from a point source. Let $B$ be the\n",
    "number of gallons per minute of paint leaving the nozzle. If the\n",
    "nozzle is at the center of a sphere of radius $r$, the paint per\n",
    "square meter per minute that is deposited on some part of the sphere\n",
    "is"
   ]
  },
  {
   "cell_type": "markdown",
   "metadata": {},
   "source": [
    "$$\n",
    "\\begin{eqnarray}\n",
    "F(r)&=&\\frac{B}{4\\pi r^2}.\n",
    "\\end{eqnarray}\n",
    "$$"
   ]
  },
  {
   "cell_type": "markdown",
   "metadata": {},
   "source": [
    "Now, let $F$ also be assigned a direction, so that it becomes a vector\n",
    "pointing along the direction of the flying paint. For any surface that\n",
    "surrounds the nozzle, not necessarily a sphere, one can state that"
   ]
  },
  {
   "cell_type": "markdown",
   "metadata": {},
   "source": [
    "<!-- Equation labels as ordinary links -->\n",
    "<div id=\"eq:paint\"></div>\n",
    "\n",
    "$$\n",
    "\\begin{eqnarray}\n",
    "\\label{eq:paint} \\tag{26}\n",
    "\\oint \\boldsymbol{dA}\\cdot\\boldsymbol{F}&=&B,\n",
    "\\end{eqnarray}\n",
    "$$"
   ]
  },
  {
   "cell_type": "markdown",
   "metadata": {},
   "source": [
    "regardless of the shape of the surface. This follows because the rate\n",
    "at which paint is deposited on the surface should equal the rate at\n",
    "which it leaves the nozzle. The dot product ensures that only the\n",
    "component of $\\boldsymbol{F}$ into the surface contributes to the deposition\n",
    "of paint. Similarly, if $\\boldsymbol{F}$ is any radial inverse-square forces,\n",
    "that falls as $B/(4\\pi r^2)$, then one can apply\n",
    "Eq. ([26](#eq:paint)). For gravitational fields, $B/(4\\pi)$ is replaced\n",
    "by $GM$, and one quickly \"derives\" Gauss's law for gravity,\n",
    "Eq. ([25](#eq:GravGauss)).\n",
    "\n",
    "\n",
    "Consider Earth to have its mass $M$ uniformly distributed in a sphere\n",
    "of radius $R$. Find the magnitude of the gravitational acceleration as\n",
    "a function of the radius $r$ in terms of the acceleration of gravity\n",
    "at the surface $g(R)$. Assume $r<R$, i.e. you are inside the surface.\n",
    "\n",
    "{\\bf Solution}: Take the ratio of Eq. ([25](#eq:GravGauss)) for two radii, $R$ and $r<R$,"
   ]
  },
  {
   "cell_type": "markdown",
   "metadata": {},
   "source": [
    "$$\n",
    "\\begin{eqnarray*}\n",
    "\\frac{4\\pi r^2 g(r)}{4\\pi R^2 g(R)}&=&\\frac{4\\pi GM_{\\rm inside~r}}{4\\pi GM_{\\rm inside~R}}\\\\\n",
    "\\nonumber\n",
    "&=&\\frac{r^3}{R^3}\\\\\n",
    "\\nonumber\n",
    "g(r)&=&g(R)\\frac{r}{R}~.\n",
    "\\end{eqnarray*}\n",
    "$$"
   ]
  },
  {
   "cell_type": "markdown",
   "metadata": {},
   "source": [
    "The potential energy per mass is similar conceptually to the voltage, or electric potential energy per charge, that was studied in electromagnetism, if $V\\equiv U/m$, $\\boldsymbol{g}=-\\nabla V$.\n",
    "\n",
    "## Tidal Forces\n",
    "\n",
    "\n",
    "Consider a spherical planet of radius $r$ a distance $D$ from another\n",
    "body of mass $M$. The magnitude of the force due to $M$ on an small\n",
    "object of mass $\\delta m$ on surface of the planet can be calculated\n",
    "by performing a Taylor expansion about the center of the spherical\n",
    "planet."
   ]
  },
  {
   "cell_type": "markdown",
   "metadata": {},
   "source": [
    "<!-- Equation labels as ordinary links -->\n",
    "<div id=\"_auto15\"></div>\n",
    "\n",
    "$$\n",
    "\\begin{equation}\n",
    "F=-\\frac{GM\\delta m}{D^2}+2\\frac{GM\\delta m}{D^3}\\Delta D+\\cdots\n",
    "\\label{_auto15} \\tag{27}\n",
    "\\end{equation}\n",
    "$$"
   ]
  },
  {
   "cell_type": "markdown",
   "metadata": {},
   "source": [
    "If the $z$ direction points toward the large object, $\\Delta D$ can be\n",
    "referred to as $z$. In the accelerating frame of an observer at the\n",
    "center of the planet,"
   ]
  },
  {
   "cell_type": "markdown",
   "metadata": {},
   "source": [
    "<!-- Equation labels as ordinary links -->\n",
    "<div id=\"_auto16\"></div>\n",
    "\n",
    "$$\n",
    "\\begin{equation}\n",
    "\\delta m\\frac{d^2 z}{dt^2}=F-\\delta ma'+{\\rm other~forces~acting~on~} \\delta m,\n",
    "\\label{_auto16} \\tag{28}\n",
    "\\end{equation}\n",
    "$$"
   ]
  },
  {
   "cell_type": "markdown",
   "metadata": {},
   "source": [
    "where $a'$ is the acceleration of the observer. Because $\\delta ma'$\n",
    "equals the gravitational force on $\\delta m$ if it were located at the\n",
    "planet's center, one can write"
   ]
  },
  {
   "cell_type": "markdown",
   "metadata": {},
   "source": [
    "<!-- Equation labels as ordinary links -->\n",
    "<div id=\"_auto17\"></div>\n",
    "\n",
    "$$\n",
    "\\begin{equation}\n",
    "m\\frac{d^2z}{dt^2}=2\\frac{GM\\delta m}{D^3}z+{\\rm other~forces~acting~on~}\\delta m.\n",
    "\\label{_auto17} \\tag{29}\n",
    "\\end{equation}\n",
    "$$"
   ]
  },
  {
   "cell_type": "markdown",
   "metadata": {},
   "source": [
    "Here the other forces could represent the forces acting on $\\delta m$\n",
    "from the spherical planet such as the gravitational force or the\n",
    "contact force with the surface. If $\\phi$ is the angle w.r.t. the\n",
    "$z$ axis, the effective force acting on $\\delta m$ is"
   ]
  },
  {
   "cell_type": "markdown",
   "metadata": {},
   "source": [
    "<!-- Equation labels as ordinary links -->\n",
    "<div id=\"_auto18\"></div>\n",
    "\n",
    "$$\n",
    "\\begin{equation}\n",
    "F_{\\rm eff}\\approx 2\\frac{GM\\delta m}{D^3}r\\cos\\phi\\hat{z}+{\\rm other~forces~acting~on~}\\delta m.\n",
    "\\label{_auto18} \\tag{30}\n",
    "\\end{equation}\n",
    "$$"
   ]
  },
  {
   "cell_type": "markdown",
   "metadata": {},
   "source": [
    "This first force is the \"tidal\" force. It pulls objects outward from the center of the object. If the object were covered with water, it would distort the objects shape so that the shape would be elliptical, stretched out along the axis pointing toward the large mass $M$. The force is always along (either parallel or antiparallel to) the $\\hat{z}$ direction.\n",
    "\n",
    "\n",
    "Consider the Earth to be a sphere of radius $R$ covered with water,\n",
    "with the gravitational acceleration at the surface noted by $g$. Now\n",
    "assume that a distant body provides an additional constant\n",
    "gravitational acceleration $\\boldsymbol{a}$ pointed along the $z$ axis. Find\n",
    "the distortion of the radius as a function of $\\phi$. Ignore\n",
    "planetary rotation and assume $a<<g$.\n",
    "\n",
    "{\\bf Solution}: Because Earth would then accelerate with $a$, the\n",
    "field $a$ would seem invisible in the accelerating frame. A tidal\n",
    "force would only appear if $a$ depended on position, i.e. $\\nabla\n",
    "\\boldsymbol{a}\\ne 0$.\n",
    "\n",
    "\n",
    "\n",
    "Now consider that the field is no longer constant, but that instead $a=-kz$ with $|kR|<<g$.\n",
    "\n",
    "{\\bf Solution}: The surface of the planet needs to be at constant\n",
    "potential (if the planet is not accelerating). The force per mass,\n",
    "$-kz$ is like a spring, and the potential per mass is\n",
    "$kz^2/2$. Otherwise water would move to a point of lower\n",
    "potential. Thus, the potential energy for a sample mass $\\delta m$ is"
   ]
  },
  {
   "cell_type": "markdown",
   "metadata": {},
   "source": [
    "$$\n",
    "\\begin{eqnarray*}\n",
    "V(R)+\\delta m gh(\\phi)-\\frac{\\delta m}{2}kr^2\\cos^2\\phi={\\rm Constant}\\\\\n",
    "V(R)+\\delta mgh(\\phi)-\\frac{\\delta m}{2}kR^2\\cos^2\\phi-\\delta m kRh(\\phi)\\cos^2\\phi-\\frac{\\delta m}{2}kh^2(\\phi)\\cos^2\\phi={\\rm Constant}.\n",
    "\\end{eqnarray*}\n",
    "$$"
   ]
  },
  {
   "cell_type": "markdown",
   "metadata": {},
   "source": [
    "Here, the potential due to the external field is $(1/2)kz^2$ so that $-\\nabla U=-kz$. One now needs to solve for $h(\\phi)$. Absorbing all the constant terms from both sides of the equation into one constant $C$, and because both $h$ and $kR$ are small, we can through away terms of order $h^2$ or $kRh$. This gives"
   ]
  },
  {
   "cell_type": "markdown",
   "metadata": {},
   "source": [
    "$$\n",
    "\\begin{eqnarray*}\n",
    "gh(\\phi)-\\frac{1}{2}kR^2\\cos^2\\phi&=&C,\\\\\n",
    "h(\\phi)&=&\\frac{C}{g}+\\frac{1}{2g}kR^2\\cos^2\\phi,\\\\\n",
    "h(\\phi)&=&\\frac{1}{2g}kR^2(\\cos^2\\phi-1/3).\n",
    "\\end{eqnarray*}\n",
    "$$"
   ]
  },
  {
   "cell_type": "markdown",
   "metadata": {},
   "source": [
    "The term with the factor of $1/3$ replaced the constant and was chosen so that the average height of the water would be zero.\n",
    "\n",
    "The Sun's mass is $27\\times 10^6$ the Moon's mass, but the Sun is 390 times further away from Earth as the Sun. What is ratio of the tidal force of the Sun to that of the Moon.\n",
    "\n",
    "{\\bf Solution}: The gravitational force due to an object $M$ a distance $D$ away goes as $M/D^2$, but the tidal force is only the difference of that force over a distance $R$,"
   ]
  },
  {
   "cell_type": "markdown",
   "metadata": {},
   "source": [
    "$$\n",
    "F_{\\rm tidal}\\propto \\frac{M}{D^3}R.\n",
    "$$"
   ]
  },
  {
   "cell_type": "markdown",
   "metadata": {},
   "source": [
    "Therefore the ratio of force is"
   ]
  },
  {
   "cell_type": "markdown",
   "metadata": {},
   "source": [
    "$$\n",
    "\\begin{eqnarray*}\n",
    "\\frac{F_{\\rm Sun's~tidal~force}}{F_{\\rm Moon's~tidal~force}}\n",
    "&=&\\frac{M_{\\rm sun}/D_{\\rm sun}^3}{M_{\\rm moon}/D_{\\rm moon}^3}\\\\\n",
    "&=&\\frac{27\\times 10^6}{390^3}=0.46.\n",
    "\\end{eqnarray*}\n",
    "$$"
   ]
  },
  {
   "cell_type": "markdown",
   "metadata": {},
   "source": [
    "The Moon more strongly affects tides than the Sun.\n",
    "\n",
    "\n",
    "\n",
    "## Exercises\n",
    "\n",
    "\n",
    "### The Earth-Sun System\n",
    "\n",
    "We start with a simpler case first, the Earth-Sun system  in two dimensions only.  The gravitational force $F_G$ on the earth from the sun is"
   ]
  },
  {
   "cell_type": "markdown",
   "metadata": {},
   "source": [
    "$$\n",
    "\\boldsymbol{F}_G=-\\frac{GM_{\\odot}M_E}{r^3}\\boldsymbol{r},\n",
    "$$"
   ]
  },
  {
   "cell_type": "markdown",
   "metadata": {},
   "source": [
    "where $G$ is the gravitational constant,"
   ]
  },
  {
   "cell_type": "markdown",
   "metadata": {},
   "source": [
    "$$\n",
    "M_E=6\\times 10^{24}\\mathrm{Kg},\n",
    "$$"
   ]
  },
  {
   "cell_type": "markdown",
   "metadata": {},
   "source": [
    "the mass of Earth,"
   ]
  },
  {
   "cell_type": "markdown",
   "metadata": {},
   "source": [
    "$$\n",
    "M_{\\odot}=2\\times 10^{30}\\mathrm{Kg},\n",
    "$$"
   ]
  },
  {
   "cell_type": "markdown",
   "metadata": {},
   "source": [
    "the mass of the Sun and"
   ]
  },
  {
   "cell_type": "markdown",
   "metadata": {},
   "source": [
    "$$\n",
    "r=1.5\\times 10^{11}\\mathrm{m},\n",
    "$$"
   ]
  },
  {
   "cell_type": "markdown",
   "metadata": {},
   "source": [
    "is the distance between Earth and the Sun. The latter defines what we call an astronomical unit **AU**.\n",
    "From Newton's second law we have then for the $x$ direction"
   ]
  },
  {
   "cell_type": "markdown",
   "metadata": {},
   "source": [
    "$$\n",
    "\\frac{d^2x}{dt^2}=-\\frac{F_{x}}{M_E},\n",
    "$$"
   ]
  },
  {
   "cell_type": "markdown",
   "metadata": {},
   "source": [
    "and"
   ]
  },
  {
   "cell_type": "markdown",
   "metadata": {},
   "source": [
    "$$\n",
    "\\frac{d^2y}{dt^2}=-\\frac{F_{y}}{M_E},\n",
    "$$"
   ]
  },
  {
   "cell_type": "markdown",
   "metadata": {},
   "source": [
    "for the $y$ direction.\n",
    "\n",
    "Here we will use  that  $x=r\\cos{(\\theta)}$, $y=r\\sin{(\\theta)}$ and"
   ]
  },
  {
   "cell_type": "markdown",
   "metadata": {},
   "source": [
    "$$\n",
    "r = \\sqrt{x^2+y^2}.\n",
    "$$"
   ]
  },
  {
   "cell_type": "markdown",
   "metadata": {},
   "source": [
    "We can rewrite these equations"
   ]
  },
  {
   "cell_type": "markdown",
   "metadata": {},
   "source": [
    "$$\n",
    "F_{x}=-\\frac{GM_{\\odot}M_E}{r^2}\\cos{(\\theta)}=-\\frac{GM_{\\odot}M_E}{r^3}x,\n",
    "$$"
   ]
  },
  {
   "cell_type": "markdown",
   "metadata": {},
   "source": [
    "and"
   ]
  },
  {
   "cell_type": "markdown",
   "metadata": {},
   "source": [
    "$$\n",
    "F_{y}=-\\frac{GM_{\\odot}M_E}{r^2}\\sin{(\\theta)}=-\\frac{GM_{\\odot}M_E}{r^3}y,\n",
    "$$"
   ]
  },
  {
   "cell_type": "markdown",
   "metadata": {},
   "source": [
    "as four first-order coupled differential equations"
   ]
  },
  {
   "cell_type": "markdown",
   "metadata": {},
   "source": [
    "$$\n",
    "\\frac{dv_x}{dt}=-\\frac{GM_{\\odot}}{r^3}x,\n",
    "$$"
   ]
  },
  {
   "cell_type": "markdown",
   "metadata": {},
   "source": [
    "and"
   ]
  },
  {
   "cell_type": "markdown",
   "metadata": {},
   "source": [
    "$$\n",
    "\\frac{dx}{dt}=v_x,\n",
    "$$"
   ]
  },
  {
   "cell_type": "markdown",
   "metadata": {},
   "source": [
    "and"
   ]
  },
  {
   "cell_type": "markdown",
   "metadata": {},
   "source": [
    "$$\n",
    "\\frac{dv_y}{dt}=-\\frac{GM_{\\odot}}{r^3}y,\n",
    "$$"
   ]
  },
  {
   "cell_type": "markdown",
   "metadata": {},
   "source": [
    "and"
   ]
  },
  {
   "cell_type": "markdown",
   "metadata": {},
   "source": [
    "$$\n",
    "\\frac{dy}{dt}=v_y.\n",
    "$$"
   ]
  },
  {
   "cell_type": "markdown",
   "metadata": {},
   "source": [
    "The four coupled differential equations"
   ]
  },
  {
   "cell_type": "markdown",
   "metadata": {},
   "source": [
    "$$\n",
    "\\frac{dv_x}{dt}=-\\frac{GM_{\\odot}}{r^3}x,\n",
    "$$"
   ]
  },
  {
   "cell_type": "markdown",
   "metadata": {},
   "source": [
    "and"
   ]
  },
  {
   "cell_type": "markdown",
   "metadata": {},
   "source": [
    "$$\n",
    "\\frac{dx}{dt}=v_x,\n",
    "$$"
   ]
  },
  {
   "cell_type": "markdown",
   "metadata": {},
   "source": [
    "and"
   ]
  },
  {
   "cell_type": "markdown",
   "metadata": {},
   "source": [
    "$$\n",
    "\\frac{dv_y}{dt}=-\\frac{GM_{\\odot}}{r^3}y,\n",
    "$$"
   ]
  },
  {
   "cell_type": "markdown",
   "metadata": {},
   "source": [
    "and"
   ]
  },
  {
   "cell_type": "markdown",
   "metadata": {},
   "source": [
    "$$\n",
    "\\frac{dy}{dt}=v_y,\n",
    "$$"
   ]
  },
  {
   "cell_type": "markdown",
   "metadata": {},
   "source": [
    "can be turned into dimensionless equations or we can introduce astronomical units with $1$ AU = $1.5\\times 10^{11}$. \n",
    "\n",
    "Using the equations from circular motion (with $r =1\\mathrm{AU}$)"
   ]
  },
  {
   "cell_type": "markdown",
   "metadata": {},
   "source": [
    "$$\n",
    "\\frac{M_E v^2}{r} = F = \\frac{GM_{\\odot}M_E}{r^2},\n",
    "$$"
   ]
  },
  {
   "cell_type": "markdown",
   "metadata": {},
   "source": [
    "we have"
   ]
  },
  {
   "cell_type": "markdown",
   "metadata": {},
   "source": [
    "$$\n",
    "GM_{\\odot}=v^2r,\n",
    "$$"
   ]
  },
  {
   "cell_type": "markdown",
   "metadata": {},
   "source": [
    "and using that the velocity of Earth (assuming circular motion) is\n",
    "$v = 2\\pi r/\\mathrm{yr}=2\\pi\\mathrm{AU}/\\mathrm{yr}$, we have"
   ]
  },
  {
   "cell_type": "markdown",
   "metadata": {},
   "source": [
    "$$\n",
    "GM_{\\odot}= v^2r = 4\\pi^2 \\frac{(\\mathrm{AU})^3}{\\mathrm{yr}^2}.\n",
    "$$"
   ]
  },
  {
   "cell_type": "markdown",
   "metadata": {},
   "source": [
    "The four coupled differential equations can then be discretized using Euler's method as (with step length $h$)"
   ]
  },
  {
   "cell_type": "markdown",
   "metadata": {},
   "source": [
    "$$\n",
    "v_{x,i+1}=v_{x,i}-h\\frac{4\\pi^2}{r_i^3}x_i,\n",
    "$$"
   ]
  },
  {
   "cell_type": "markdown",
   "metadata": {},
   "source": [
    "and"
   ]
  },
  {
   "cell_type": "markdown",
   "metadata": {},
   "source": [
    "$$\n",
    "x_{i+1}=x_i+hv_{x,i},\n",
    "$$"
   ]
  },
  {
   "cell_type": "markdown",
   "metadata": {},
   "source": [
    "and"
   ]
  },
  {
   "cell_type": "markdown",
   "metadata": {},
   "source": [
    "$$\n",
    "v_{y,i+1}=v_{y,i}-h\\frac{4\\pi^2}{r_i^3}y_i,\n",
    "$$"
   ]
  },
  {
   "cell_type": "markdown",
   "metadata": {},
   "source": [
    "and"
   ]
  },
  {
   "cell_type": "markdown",
   "metadata": {},
   "source": [
    "$$\n",
    "y_{i+1}=y_i+hv_{y,i},\n",
    "$$"
   ]
  },
  {
   "cell_type": "markdown",
   "metadata": {},
   "source": [
    "The code here implements Euler's method for the Earth-Sun system using a more compact way of representing the vectors. Alternatively, you could have spelled out all the variables $v_x$, $v_y$, $x$ and $y$ as one-dimensional arrays."
   ]
  },
  {
   "cell_type": "code",
   "execution_count": 9,
   "metadata": {
    "collapsed": false,
    "editable": true
   },
   "outputs": [
    {
     "data": {
      "image/png": "[encoded data removed]",
      "text/plain": [
       "<Figure size 432x288 with 1 Axes>"
      ]
     },
     "metadata": {
      "filenames": {
       "image/png": "/Users/mhjensen/Teaching/Physics321/doc/LectureNotes/_build/jupyter_execute/chapter6_280_0.png"
      },
      "needs_background": "light"
     },
     "output_type": "display_data"
    }
   ],
   "source": [
    "# Common imports\n",
    "import numpy as np\n",
    "import pandas as pd\n",
    "from math import *\n",
    "import matplotlib.pyplot as plt\n",
    "import os\n",
    "\n",
    "# Where to save the figures and data files\n",
    "PROJECT_ROOT_DIR = \"Results\"\n",
    "FIGURE_ID = \"Results/FigureFiles\"\n",
    "DATA_ID = \"DataFiles/\"\n",
    "\n",
    "if not os.path.exists(PROJECT_ROOT_DIR):\n",
    "    os.mkdir(PROJECT_ROOT_DIR)\n",
    "\n",
    "if not os.path.exists(FIGURE_ID):\n",
    "    os.makedirs(FIGURE_ID)\n",
    "\n",
    "if not os.path.exists(DATA_ID):\n",
    "    os.makedirs(DATA_ID)\n",
    "\n",
    "def image_path(fig_id):\n",
    "    return os.path.join(FIGURE_ID, fig_id)\n",
    "\n",
    "def data_path(dat_id):\n",
    "    return os.path.join(DATA_ID, dat_id)\n",
    "\n",
    "def save_fig(fig_id):\n",
    "    plt.savefig(image_path(fig_id) + \".png\", format='png')\n",
    "\n",
    "\n",
    "DeltaT = 0.01\n",
    "#set up arrays \n",
    "tfinal = 10 # in years\n",
    "n = ceil(tfinal/DeltaT)\n",
    "# set up arrays for t, a, v, and x\n",
    "t = np.zeros(n)\n",
    "v = np.zeros((n,2))\n",
    "r = np.zeros((n,2))\n",
    "# Initial conditions as compact 2-dimensional arrays\n",
    "r0 = np.array([1.0,0.0])\n",
    "v0 = np.array([0.0,2*pi])\n",
    "r[0] = r0\n",
    "v[0] = v0\n",
    "Fourpi2 = 4*pi*pi\n",
    "# Start integrating using Euler's method\n",
    "for i in range(n-1):\n",
    "    # Set up the acceleration\n",
    "    # Here you could have defined your own function for this\n",
    "    rabs = sqrt(sum(r[i]*r[i]))\n",
    "    a =  -Fourpi2*r[i]/(rabs**3)\n",
    "    # update velocity, time and position using Euler's forward method\n",
    "    v[i+1] = v[i] + DeltaT*a\n",
    "    r[i+1] = r[i] + DeltaT*v[i]\n",
    "    t[i+1] = t[i] + DeltaT\n",
    "# Plot position as function of time    \n",
    "fig, ax = plt.subplots()\n",
    "#ax.set_xlim(0, tfinal)\n",
    "ax.set_xlabel('x[AU]')\n",
    "ax.set_ylabel('y[AU]')\n",
    "ax.plot(r[:,0], r[:,1])\n",
    "fig.tight_layout()\n",
    "save_fig(\"EarthSunEuler\")\n",
    "plt.show()"
   ]
  },
  {
   "cell_type": "markdown",
   "metadata": {},
   "source": [
    "We notice here that Euler's method doesn't give a stable orbit with for example $\\Delta t =0.01$. It\n",
    "means that we cannot trust Euler's method. Euler's method does not conserve energy. It is an\n",
    "example of an integrator which is not\n",
    "[symplectic](https://en.wikipedia.org/wiki/Symplectic_integrator).\n",
    "\n",
    "Here we present thus two methods, which with simple changes allow us\n",
    "to avoid these pitfalls. The simplest possible extension is the\n",
    "so-called Euler-Cromer method.  The changes we need to make to our\n",
    "code are indeed marginal here.  We need simply to replace"
   ]
  },
  {
   "cell_type": "code",
   "execution_count": 10,
   "metadata": {
    "collapsed": false,
    "editable": true
   },
   "outputs": [],
   "source": [
    "    r[i+1] = r[i] + DeltaT*v[i]"
   ]
  },
  {
   "cell_type": "markdown",
   "metadata": {},
   "source": [
    "in the above code with the velocity at the new time $t_{i+1}$"
   ]
  },
  {
   "cell_type": "code",
   "execution_count": 11,
   "metadata": {
    "collapsed": false,
    "editable": true
   },
   "outputs": [],
   "source": [
    "    r[i+1] = r[i] + DeltaT*v[i+1]"
   ]
  },
  {
   "cell_type": "markdown",
   "metadata": {},
   "source": [
    "By this simple caveat we get stable orbits.  Below we derive the\n",
    "Euler-Cromer method as well as one of the most utlized algorithms for\n",
    "solving the above type of problems, the so-called Velocity-Verlet\n",
    "method.\n",
    "\n",
    "\n",
    "Let us repeat Euler's method.\n",
    "We have a differential equation"
   ]
  },
  {
   "cell_type": "markdown",
   "metadata": {},
   "source": [
    "<!-- Equation labels as ordinary links -->\n",
    "<div id=\"_auto19\"></div>\n",
    "\n",
    "$$\n",
    "\\begin{equation}\n",
    "  y'(t_i)=f(t_i,y_i)   \n",
    "\\label{_auto19} \\tag{31}\n",
    "\\end{equation}\n",
    "$$"
   ]
  },
  {
   "cell_type": "markdown",
   "metadata": {},
   "source": [
    "and if we truncate at the first derivative, we have from the Taylor expansion"
   ]
  },
  {
   "cell_type": "markdown",
   "metadata": {},
   "source": [
    "<!-- Equation labels as ordinary links -->\n",
    "<div id=\"eq:euler\"></div>\n",
    "\n",
    "$$\n",
    "\\begin{equation}\n",
    "   y_{i+1}=y(t_i) + (\\Delta t) f(t_i,y_i) + O(\\Delta t^2), \\label{eq:euler} \\tag{32}\n",
    "\\end{equation}\n",
    "$$"
   ]
  },
  {
   "cell_type": "markdown",
   "metadata": {},
   "source": [
    "which when complemented with $t_{i+1}=t_i+\\Delta t$ forms\n",
    "the algorithm for the well-known Euler method. \n",
    "Note that at every step we make an approximation error\n",
    "of the order of $O(\\Delta t^2)$, however the total error is the sum over all\n",
    "steps $N=(b-a)/(\\Delta t)$ for $t\\in [a,b]$, yielding thus a global error which goes like\n",
    "$NO(\\Delta t^2)\\approx O(\\Delta t)$. \n",
    "\n",
    "To make Euler's method more precise we can obviously\n",
    "decrease $\\Delta t$ (increase $N$), but this can lead to loss of numerical precision.\n",
    "Euler's method is not recommended for precision calculation,\n",
    "although it is handy to use in order to get a first\n",
    "view on how a solution may look like.\n",
    "\n",
    "Euler's method is asymmetric in time, since it uses information about the derivative at the beginning\n",
    "of the time interval. This means that we evaluate the position at $y_1$ using the velocity\n",
    "at $v_0$. A simple variation is to determine $x_{n+1}$ using the velocity at\n",
    "$v_{n+1}$, that is (in a slightly more generalized form)"
   ]
  },
  {
   "cell_type": "markdown",
   "metadata": {},
   "source": [
    "<!-- Equation labels as ordinary links -->\n",
    "<div id=\"_auto20\"></div>\n",
    "\n",
    "$$\n",
    "\\begin{equation} \n",
    "   y_{n+1}=y_{n}+ v_{n+1}+O(\\Delta t^2)\n",
    "\\label{_auto20} \\tag{33}\n",
    "\\end{equation}\n",
    "$$"
   ]
  },
  {
   "cell_type": "markdown",
   "metadata": {},
   "source": [
    "and"
   ]
  },
  {
   "cell_type": "markdown",
   "metadata": {},
   "source": [
    "<!-- Equation labels as ordinary links -->\n",
    "<div id=\"_auto21\"></div>\n",
    "\n",
    "$$\n",
    "\\begin{equation}\n",
    "   v_{n+1}=v_{n}+(\\Delta t) a_{n}+O(\\Delta t^2).\n",
    "\\label{_auto21} \\tag{34}\n",
    "\\end{equation}\n",
    "$$"
   ]
  },
  {
   "cell_type": "markdown",
   "metadata": {},
   "source": [
    "The acceleration $a_n$ is a function of $a_n(y_n, v_n, t_n)$ and needs to be evaluated\n",
    "as well. This is the Euler-Cromer method. It is easy to change the above code and see that with the same \n",
    "time step we get stable results.\n",
    "\n",
    "\n",
    "Let us stay with $x$ (position) and $v$ (velocity) as the quantities we are interested in.\n",
    "\n",
    "We have the Taylor expansion for the position given by"
   ]
  },
  {
   "cell_type": "markdown",
   "metadata": {},
   "source": [
    "$$\n",
    "x_{i+1} = x_i+(\\Delta t)v_i+\\frac{(\\Delta t)^2}{2}a_i+O((\\Delta t)^3).\n",
    "$$"
   ]
  },
  {
   "cell_type": "markdown",
   "metadata": {},
   "source": [
    "The corresponding expansion for the velocity is"
   ]
  },
  {
   "cell_type": "markdown",
   "metadata": {},
   "source": [
    "$$\n",
    "v_{i+1} = v_i+(\\Delta t)a_i+\\frac{(\\Delta t)^2}{2}v^{(2)}_i+O((\\Delta t)^3).\n",
    "$$"
   ]
  },
  {
   "cell_type": "markdown",
   "metadata": {},
   "source": [
    "Via Newton's second law we have normally an analytical expression for the derivative of the velocity, namely"
   ]
  },
  {
   "cell_type": "markdown",
   "metadata": {},
   "source": [
    "$$\n",
    "a_i= \\frac{d^2 x}{dt^2}\\vert_{i}=\\frac{d v}{dt}\\vert_{i}= \\frac{F(x_i,v_i,t_i)}{m}.\n",
    "$$"
   ]
  },
  {
   "cell_type": "markdown",
   "metadata": {},
   "source": [
    "If we add to this the corresponding expansion for the derivative of the velocity"
   ]
  },
  {
   "cell_type": "markdown",
   "metadata": {},
   "source": [
    "$$\n",
    "v^{(1)}_{i+1} = a_{i+1}= a_i+(\\Delta t)v^{(2)}_i+O((\\Delta t)^2)=a_i+(\\Delta t)v^{(2)}_i+O((\\Delta t)^2),\n",
    "$$"
   ]
  },
  {
   "cell_type": "markdown",
   "metadata": {},
   "source": [
    "and retain only terms up to the second derivative of the velocity since our error goes as $O(h^3)$, we have"
   ]
  },
  {
   "cell_type": "markdown",
   "metadata": {},
   "source": [
    "$$\n",
    "(\\Delta t)v^{(2)}_i\\approx a_{i+1}-a_i.\n",
    "$$"
   ]
  },
  {
   "cell_type": "markdown",
   "metadata": {},
   "source": [
    "We can then rewrite the Taylor expansion for the velocity as"
   ]
  },
  {
   "cell_type": "markdown",
   "metadata": {},
   "source": [
    "$$\n",
    "v_{i+1} = v_i+\\frac{(\\Delta t)}{2}\\left( a_{i+1}+a_{i}\\right)+O((\\Delta t)^3).\n",
    "$$"
   ]
  },
  {
   "cell_type": "markdown",
   "metadata": {},
   "source": [
    "Our final equations for the position and the velocity become then"
   ]
  },
  {
   "cell_type": "markdown",
   "metadata": {},
   "source": [
    "$$\n",
    "x_{i+1} = x_i+(\\Delta t)v_i+\\frac{(\\Delta t)^2}{2}a_{i}+O((\\Delta t)^3),\n",
    "$$"
   ]
  },
  {
   "cell_type": "markdown",
   "metadata": {},
   "source": [
    "and"
   ]
  },
  {
   "cell_type": "markdown",
   "metadata": {},
   "source": [
    "$$\n",
    "v_{i+1} = v_i+\\frac{(\\Delta t)}{2}\\left(a_{i+1}+a_{i}\\right)+O((\\Delta t)^3).\n",
    "$$"
   ]
  },
  {
   "cell_type": "markdown",
   "metadata": {},
   "source": [
    "Note well that the term $a_{i+1}$ depends on the position at $x_{i+1}$. This means that you need to calculate \n",
    "the position at the updated time $t_{i+1}$ before the computing the next velocity.  Note also that the derivative of the velocity at the time\n",
    "$t_i$ used in the updating of the position can be reused in the calculation of the velocity update as well. \n",
    "\n",
    "We can now easily add the Verlet method to our original code as"
   ]
  },
  {
   "cell_type": "code",
   "execution_count": 12,
   "metadata": {
    "collapsed": false,
    "editable": true
   },
   "outputs": [
    {
     "data": {
      "image/png": "[encoded data removed]",
      "text/plain": [
       "<Figure size 432x288 with 1 Axes>"
      ]
     },
     "metadata": {
      "filenames": {
       "image/png": "/Users/mhjensen/Teaching/Physics321/doc/LectureNotes/_build/jupyter_execute/chapter6_310_0.png"
      },
      "needs_background": "light"
     },
     "output_type": "display_data"
    }
   ],
   "source": [
    "DeltaT = 0.01\n",
    "#set up arrays \n",
    "tfinal = 10\n",
    "n = ceil(tfinal/DeltaT)\n",
    "# set up arrays for t, a, v, and x\n",
    "t = np.zeros(n)\n",
    "v = np.zeros((n,2))\n",
    "r = np.zeros((n,2))\n",
    "# Initial conditions as compact 2-dimensional arrays\n",
    "r0 = np.array([1.0,0.0])\n",
    "v0 = np.array([0.0,2*pi])\n",
    "r[0] = r0\n",
    "v[0] = v0\n",
    "Fourpi2 = 4*pi*pi\n",
    "# Start integrating using the Velocity-Verlet  method\n",
    "for i in range(n-1):\n",
    "    # Set up forces, air resistance FD, note now that we need the norm of the vecto\n",
    "    # Here you could have defined your own function for this\n",
    "    rabs = sqrt(sum(r[i]*r[i]))\n",
    "    a =  -Fourpi2*r[i]/(rabs**3)\n",
    "    # update velocity, time and position using the Velocity-Verlet method\n",
    "    r[i+1] = r[i] + DeltaT*v[i]+0.5*(DeltaT**2)*a\n",
    "    rabs = sqrt(sum(r[i+1]*r[i+1]))\n",
    "    anew = -4*(pi**2)*r[i+1]/(rabs**3)\n",
    "    v[i+1] = v[i] + 0.5*DeltaT*(a+anew)\n",
    "    t[i+1] = t[i] + DeltaT\n",
    "# Plot position as function of time    \n",
    "fig, ax = plt.subplots()\n",
    "ax.set_xlabel('x[AU]')\n",
    "ax.set_ylabel('y[AU]')\n",
    "ax.plot(r[:,0], r[:,1])\n",
    "fig.tight_layout()\n",
    "save_fig(\"EarthSunVV\")\n",
    "plt.show()"
   ]
  },
  {
   "cell_type": "markdown",
   "metadata": {},
   "source": [
    "You can easily generalize the calculation of the forces by defining a function\n",
    "which takes in as input the various variables. We leave this as a challenge to you.\n",
    "\n",
    "Running the above code for various time steps we see that the Velocity-Verlet is fully stable for various time steps.\n",
    "\n",
    "We can also play around with different initial conditions in order to find the escape velocity from an orbit around the sun with distance one astronomical unit, 1 AU. The theoretical value for the escape velocity, is given by"
   ]
  },
  {
   "cell_type": "markdown",
   "metadata": {},
   "source": [
    "$$\n",
    "v = \\sqrt{8\\pi^2}{r},\n",
    "$$"
   ]
  },
  {
   "cell_type": "markdown",
   "metadata": {},
   "source": [
    "and with $r=1$ AU, this means that the escape velocity is $2\\pi\\sqrt{2}$ AU/yr. To obtain this we required that the kinetic energy of Earth equals the potential energy given by the gravitational force.\n",
    "\n",
    "Setting"
   ]
  },
  {
   "cell_type": "markdown",
   "metadata": {},
   "source": [
    "$$\n",
    "\\frac{1}{2}M_{\\mathrm{Earth}}v^2=\\frac{GM_{\\odot}}{r},\n",
    "$$"
   ]
  },
  {
   "cell_type": "markdown",
   "metadata": {},
   "source": [
    "and with $GM_{\\odot}=4\\pi^2$ we obtain the above relation for the velocity. Setting an initial velocity say equal to $9$ in the above code, yields a planet (Earth) which escapes a stable orbit around the sun, as seen by running the code here."
   ]
  },
  {
   "cell_type": "code",
   "execution_count": 13,
   "metadata": {
    "collapsed": false,
    "editable": true
   },
   "outputs": [
    {
     "data": {
      "image/png": "[encoded data removed]",
      "text/plain": [
       "<Figure size 432x288 with 1 Axes>"
      ]
     },
     "metadata": {
      "filenames": {
       "image/png": "/Users/mhjensen/Teaching/Physics321/doc/LectureNotes/_build/jupyter_execute/chapter6_316_0.png"
      },
      "needs_background": "light"
     },
     "output_type": "display_data"
    }
   ],
   "source": [
    "DeltaT = 0.01\n",
    "#set up arrays \n",
    "tfinal = 100\n",
    "n = ceil(tfinal/DeltaT)\n",
    "# set up arrays for t, a, v, and x\n",
    "t = np.zeros(n)\n",
    "v = np.zeros((n,2))\n",
    "r = np.zeros((n,2))\n",
    "# Initial conditions as compact 2-dimensional arrays\n",
    "r0 = np.array([1.0,0.0])\n",
    "# setting initial velocity larger than escape velocity\n",
    "v0 = np.array([0.0,9.0])\n",
    "r[0] = r0\n",
    "v[0] = v0\n",
    "Fourpi2 = 4*pi*pi\n",
    "# Start integrating using the Velocity-Verlet  method\n",
    "for i in range(n-1):\n",
    "    # Set up forces, air resistance FD, note now that we need the norm of the vecto\n",
    "    # Here you could have defined your own function for this\n",
    "    rabs = sqrt(sum(r[i]*r[i]))\n",
    "    a =  -Fourpi2*r[i]/(rabs**3)\n",
    "    # update velocity, time and position using the Velocity-Verlet method\n",
    "    r[i+1] = r[i] + DeltaT*v[i]+0.5*(DeltaT**2)*a\n",
    "    rabs = sqrt(sum(r[i+1]*r[i+1]))\n",
    "    anew = -4*(pi**2)*r[i+1]/(rabs**3)\n",
    "    v[i+1] = v[i] + 0.5*DeltaT*(a+anew)\n",
    "    t[i+1] = t[i] + DeltaT\n",
    "# Plot position as function of time    \n",
    "fig, ax = plt.subplots()\n",
    "ax.set_xlabel('x[AU]')\n",
    "ax.set_ylabel('y[AU]')\n",
    "ax.plot(r[:,0], r[:,1])\n",
    "fig.tight_layout()\n",
    "save_fig(\"EscapeEarthSunVV\")\n",
    "plt.show()"
   ]
  },
  {
   "cell_type": "markdown",
   "metadata": {},
   "source": [
    "### Testing Energy conservation\n",
    "\n",
    "The code here implements Euler's method for the Earth-Sun system using\n",
    "a more compact way of representing the vectors. Alternatively, you\n",
    "could have spelled out all the variables $v_x$, $v_y$, $x$ and $y$ as\n",
    "one-dimensional arrays.  It tests conservation of potential and\n",
    "kinetic energy as functions of time, in addition to the total energy,\n",
    "again as function of time\n",
    "\n",
    "**Note**: in all codes we have used scaled equations so that the gravitational constant times the mass of the sum is given by $4\\pi^2$ and the mass of the earth is set to **one** in the calculations of kinetic and potential energies. Else, we would get very large results."
   ]
  },
  {
   "cell_type": "code",
   "execution_count": 14,
   "metadata": {
    "collapsed": false,
    "editable": true
   },
   "outputs": [
    {
     "data": {
      "image/png": "[encoded data removed]",
      "text/plain": [
       "<Figure size 432x288 with 3 Axes>"
      ]
     },
     "metadata": {
      "filenames": {
       "image/png": "/Users/mhjensen/Teaching/Physics321/doc/LectureNotes/_build/jupyter_execute/chapter6_318_0.png"
      },
      "needs_background": "light"
     },
     "output_type": "display_data"
    }
   ],
   "source": [
    "# Common imports\n",
    "import numpy as np\n",
    "import pandas as pd\n",
    "from math import *\n",
    "import matplotlib.pyplot as plt\n",
    "import os\n",
    "\n",
    "# Where to save the figures and data files\n",
    "PROJECT_ROOT_DIR = \"Results\"\n",
    "FIGURE_ID = \"Results/FigureFiles\"\n",
    "DATA_ID = \"DataFiles/\"\n",
    "\n",
    "if not os.path.exists(PROJECT_ROOT_DIR):\n",
    "    os.mkdir(PROJECT_ROOT_DIR)\n",
    "\n",
    "if not os.path.exists(FIGURE_ID):\n",
    "    os.makedirs(FIGURE_ID)\n",
    "\n",
    "if not os.path.exists(DATA_ID):\n",
    "    os.makedirs(DATA_ID)\n",
    "\n",
    "def image_path(fig_id):\n",
    "    return os.path.join(FIGURE_ID, fig_id)\n",
    "\n",
    "def data_path(dat_id):\n",
    "    return os.path.join(DATA_ID, dat_id)\n",
    "\n",
    "def save_fig(fig_id):\n",
    "    plt.savefig(image_path(fig_id) + \".png\", format='png')\n",
    "\n",
    "# Initial values, time step, positions and velocites\n",
    "\n",
    "DeltaT = 0.0001\n",
    "#set up arrays \n",
    "tfinal = 100 # in years\n",
    "n = ceil(tfinal/DeltaT)\n",
    "# set up arrays for t, a, v, and x\n",
    "t = np.zeros(n)\n",
    "v = np.zeros((n,2))\n",
    "r = np.zeros((n,2))\n",
    "\n",
    "# setting up the kinetic, potential and total energy, note only functions of time\n",
    "EKinetic = np.zeros(n)\n",
    "EPotential = np.zeros(n)\n",
    "ETotal = np.zeros(n)\n",
    "\n",
    "# Initial conditions as compact 2-dimensional arrays\n",
    "\n",
    "\n",
    "r0 = np.array([1.0,0.0])\n",
    "v0 = np.array([0.0,2*pi])\n",
    "r[0] = r0\n",
    "v[0] = v0\n",
    "Fourpi2 = 4*pi*pi\n",
    "# Setting up variables for the calculation of energies\n",
    "#  distance that defines rabs in potential energy\n",
    "rabs0 = sqrt(sum(r[0]*r[0]))\n",
    "#  Initial kinetic energy. Note that we skip the mass of the Earth here, that is MassEarth=1 in all codes\n",
    "EKinetic[0] = 0.5*sum(v0*v0)\n",
    "#  Initial potential energy  (note negative sign, why?)\n",
    "EPotential[0] = -4*pi*pi/rabs0\n",
    "#  Initial total energy \n",
    "ETotal[0] = EPotential[0]+EKinetic[0]\n",
    "# Start integrating using Euler's method\n",
    "for i in range(n-1):\n",
    "    # Set up the acceleration\n",
    "    # Here you could have defined your own function for this\n",
    "    rabs = sqrt(sum(r[i]*r[i]))\n",
    "    a =  -Fourpi2*r[i]/(rabs**3)\n",
    "    # update Energies, velocity, time and position using Euler's forward method\n",
    "    v[i+1] = v[i] + DeltaT*a\n",
    "    r[i+1] = r[i] + DeltaT*v[i]\n",
    "    t[i+1] = t[i] + DeltaT\n",
    "    EKinetic[i+1] = 0.5*sum(v[i+1]*v[i+1])\n",
    "    EPotential[i+1] = -4*pi*pi/sqrt(sum(r[i+1]*r[i+1]))\n",
    "    ETotal[i+1] = EPotential[i+1]+EKinetic[i+1]\n",
    "# Plot energies as functions of time    \n",
    "\n",
    "fig, axs = plt.subplots(3, 1)\n",
    "axs[0].plot(t, EKinetic)\n",
    "axs[0].set_xlim(0, tfinal)\n",
    "axs[0].set_ylabel('Kinetic energy')\n",
    "axs[1].plot(t, EPotential)\n",
    "axs[1].set_ylabel('Potential Energy')\n",
    "axs[2].plot(t, ETotal)\n",
    "axs[2].set_xlabel('Time [yr]')\n",
    "axs[2].set_ylabel('Total Energy')\n",
    "fig.tight_layout()\n",
    "save_fig(\"EarthSunEuler\")\n",
    "plt.show()"
   ]
  },
  {
   "cell_type": "markdown",
   "metadata": {},
   "source": [
    "We see very clearly that Euler's method does not conserve energy!! Try to reduce the time step $\\Delta t$. What do you see?\n",
    "\n",
    "\n",
    "With the Euler-Cromer method, the only thing we need is to update the\n",
    "position at a time $t+1$ with the update velocity from the same\n",
    "time. Thus, the change in the code is extremely simply, and **energy is\n",
    "suddenly conserved**. Note that the error runs like $O(\\Delta t)$ and\n",
    "this is why we see the larger oscillations. But within this\n",
    "oscillating energy envelope, we see that the energies swing between a\n",
    "max and a min value and never exceed these values."
   ]
  },
  {
   "cell_type": "code",
   "execution_count": 15,
   "metadata": {
    "collapsed": false,
    "editable": true
   },
   "outputs": [
    {
     "data": {
      "image/png": "[encoded data removed]",
      "text/plain": [
       "<Figure size 432x288 with 3 Axes>"
      ]
     },
     "metadata": {
      "filenames": {
       "image/png": "/Users/mhjensen/Teaching/Physics321/doc/LectureNotes/_build/jupyter_execute/chapter6_320_0.png"
      },
      "needs_background": "light"
     },
     "output_type": "display_data"
    }
   ],
   "source": [
    "# Common imports\n",
    "import numpy as np\n",
    "import pandas as pd\n",
    "from math import *\n",
    "import matplotlib.pyplot as plt\n",
    "import os\n",
    "\n",
    "# Where to save the figures and data files\n",
    "PROJECT_ROOT_DIR = \"Results\"\n",
    "FIGURE_ID = \"Results/FigureFiles\"\n",
    "DATA_ID = \"DataFiles/\"\n",
    "\n",
    "if not os.path.exists(PROJECT_ROOT_DIR):\n",
    "    os.mkdir(PROJECT_ROOT_DIR)\n",
    "\n",
    "if not os.path.exists(FIGURE_ID):\n",
    "    os.makedirs(FIGURE_ID)\n",
    "\n",
    "if not os.path.exists(DATA_ID):\n",
    "    os.makedirs(DATA_ID)\n",
    "\n",
    "def image_path(fig_id):\n",
    "    return os.path.join(FIGURE_ID, fig_id)\n",
    "\n",
    "def data_path(dat_id):\n",
    "    return os.path.join(DATA_ID, dat_id)\n",
    "\n",
    "def save_fig(fig_id):\n",
    "    plt.savefig(image_path(fig_id) + \".png\", format='png')\n",
    "\n",
    "# Initial values, time step, positions and velocites\n",
    "\n",
    "DeltaT = 0.0001\n",
    "#set up arrays \n",
    "tfinal = 100 # in years\n",
    "n = ceil(tfinal/DeltaT)\n",
    "# set up arrays for t, a, v, and x\n",
    "t = np.zeros(n)\n",
    "v = np.zeros((n,2))\n",
    "r = np.zeros((n,2))\n",
    "\n",
    "# setting up the kinetic, potential and total energy, note only functions of time\n",
    "EKinetic = np.zeros(n)\n",
    "EPotential = np.zeros(n)\n",
    "ETotal = np.zeros(n)\n",
    "\n",
    "# Initial conditions as compact 2-dimensional arrays\n",
    "\n",
    "\n",
    "r0 = np.array([1.0,0.0])\n",
    "v0 = np.array([0.0,2*pi])\n",
    "r[0] = r0\n",
    "v[0] = v0\n",
    "Fourpi2 = 4*pi*pi\n",
    "# Setting up variables for the calculation of energies\n",
    "#  distance that defines rabs in potential energy\n",
    "rabs0 = sqrt(sum(r[0]*r[0]))\n",
    "#  Initial kinetic energy. Note that we skip the mass of the Earth here, that is MassEarth=1 in all codes\n",
    "EKinetic[0] = 0.5*sum(v0*v0)\n",
    "#  Initial potential energy \n",
    "EPotential[0] = -4*pi*pi/rabs0\n",
    "#  Initial total energy \n",
    "ETotal[0] = EPotential[0]+EKinetic[0]\n",
    "# Start integrating using Euler's method\n",
    "for i in range(n-1):\n",
    "    # Set up the acceleration\n",
    "    # Here you could have defined your own function for this\n",
    "    rabs = sqrt(sum(r[i]*r[i]))\n",
    "    a =  -Fourpi2*r[i]/(rabs**3)\n",
    "    # update velocity, time and position using Euler's forward method\n",
    "    v[i+1] = v[i] + DeltaT*a\n",
    "#   Only change when we add the Euler-Cromer method    \n",
    "    r[i+1] = r[i] + DeltaT*v[i+1]\n",
    "    t[i+1] = t[i] + DeltaT\n",
    "    EKinetic[i+1] = 0.5*sum(v[i+1]*v[i+1])\n",
    "    EPotential[i+1] = -4*pi*pi/sqrt(sum(r[i+1]*r[i+1]))\n",
    "    ETotal[i+1] = EPotential[i+1]+EKinetic[i+1]\n",
    "# Plot energies as functions of time    \n",
    "\n",
    "fig, axs = plt.subplots(3, 1)\n",
    "axs[0].plot(t, EKinetic)\n",
    "axs[0].set_xlim(0, tfinal)\n",
    "axs[0].set_ylabel('Kinetic energy')\n",
    "axs[1].plot(t, EPotential)\n",
    "axs[1].set_ylabel('Potential Energy')\n",
    "axs[2].plot(t, ETotal)\n",
    "axs[2].set_xlabel('Time [yr]')\n",
    "axs[2].set_ylabel('Total Energy')\n",
    "fig.tight_layout()\n",
    "save_fig(\"EarthSunEulerCromer\")\n",
    "plt.show()"
   ]
  },
  {
   "cell_type": "markdown",
   "metadata": {},
   "source": [
    "### Adding the  velocity Verlet method\n",
    "\n",
    "Our final equations for the position and the velocity become then"
   ]
  },
  {
   "cell_type": "markdown",
   "metadata": {},
   "source": [
    "$$\n",
    "x_{i+1} = x_i+(\\Delta t)v_i+\\frac{(\\Delta t)^2}{2}a_{i}+O((\\Delta t)^3),\n",
    "$$"
   ]
  },
  {
   "cell_type": "markdown",
   "metadata": {},
   "source": [
    "and"
   ]
  },
  {
   "cell_type": "markdown",
   "metadata": {},
   "source": [
    "$$\n",
    "v_{i+1} = v_i+\\frac{(\\Delta t)}{2}\\left(a_{i+1}+a_{i}\\right)+O((\\Delta t)^3).\n",
    "$$"
   ]
  },
  {
   "cell_type": "markdown",
   "metadata": {},
   "source": [
    "Note well that the term $a_{i+1}$ depends on the position at $x_{i+1}$. This means that you need to calculate \n",
    "the position at the updated time $t_{i+1}$ before the computing the next velocity.  Note also that the derivative of the velocity at the time\n",
    "$t_i$ used in the updating of the position can be reused in the calculation of the velocity update as well. \n",
    "\n",
    "\n",
    "\n",
    "We can now easily add the Verlet method to our original code as"
   ]
  },
  {
   "cell_type": "code",
   "execution_count": 16,
   "metadata": {
    "collapsed": false,
    "editable": true
   },
   "outputs": [
    {
     "data": {
      "image/png": "[encoded data removed]",
      "text/plain": [
       "<Figure size 432x288 with 3 Axes>"
      ]
     },
     "metadata": {
      "filenames": {
       "image/png": "/Users/mhjensen/Teaching/Physics321/doc/LectureNotes/_build/jupyter_execute/chapter6_326_0.png"
      },
      "needs_background": "light"
     },
     "output_type": "display_data"
    }
   ],
   "source": [
    "DeltaT = 0.001\n",
    "#set up arrays \n",
    "tfinal = 100\n",
    "n = ceil(tfinal/DeltaT)\n",
    "# set up arrays for t, a, v, and x\n",
    "t = np.zeros(n)\n",
    "v = np.zeros((n,2))\n",
    "r = np.zeros((n,2))\n",
    "# Initial conditions as compact 2-dimensional arrays\n",
    "r0 = np.array([1.0,0.0])\n",
    "v0 = np.array([0.0,2*pi])\n",
    "r[0] = r0\n",
    "v[0] = v0\n",
    "Fourpi2 = 4*pi*pi\n",
    "\n",
    "# setting up the kinetic, potential and total energy, note only functions of time\n",
    "EKinetic = np.zeros(n)\n",
    "EPotential = np.zeros(n)\n",
    "ETotal = np.zeros(n)\n",
    "\n",
    "# Setting up variables for the calculation of energies\n",
    "#  distance that defines rabs in potential energy\n",
    "rabs0 = sqrt(sum(r[0]*r[0]))\n",
    "#  Initial kinetic energy. Note that we skip the mass of the Earth here, that is MassEarth=1 in all codes\n",
    "EKinetic[0] = 0.5*sum(v0*v0)\n",
    "#  Initial potential energy \n",
    "EPotential[0] = -4*pi*pi/rabs0\n",
    "#  Initial total energy \n",
    "ETotal[0] = EPotential[0]+EKinetic[0]\n",
    "\n",
    "# Start integrating using the Velocity-Verlet  method\n",
    "for i in range(n-1):\n",
    "    # Set up forces, air resistance FD, note now that we need the norm of the vecto\n",
    "    # Here you could have defined your own function for this\n",
    "    rabs = sqrt(sum(r[i]*r[i]))\n",
    "    a =  -Fourpi2*r[i]/(rabs**3)\n",
    "    # update velocity, time and position using the Velocity-Verlet method\n",
    "    r[i+1] = r[i] + DeltaT*v[i]+0.5*(DeltaT**2)*a\n",
    "    rabs = sqrt(sum(r[i+1]*r[i+1]))\n",
    "    anew = -4*(pi**2)*r[i+1]/(rabs**3)\n",
    "    v[i+1] = v[i] + 0.5*DeltaT*(a+anew)\n",
    "    t[i+1] = t[i] + DeltaT\n",
    "    EKinetic[i+1] = 0.5*sum(v[i+1]*v[i+1])\n",
    "    EPotential[i+1] = -4*pi*pi/sqrt(sum(r[i+1]*r[i+1]))\n",
    "    ETotal[i+1] = EPotential[i+1]+EKinetic[i+1]\n",
    "# Plot energies as functions of time    \n",
    "\n",
    "fig, axs = plt.subplots(3, 1)\n",
    "axs[0].plot(t, EKinetic)\n",
    "axs[0].set_xlim(0, tfinal)\n",
    "axs[0].set_ylabel('Kinetic energy')\n",
    "axs[1].plot(t, EPotential)\n",
    "axs[1].set_ylabel('Potential Energy')\n",
    "axs[2].plot(t, ETotal)\n",
    "axs[2].set_xlabel('Time [yr]')\n",
    "axs[2].set_ylabel('Total Energy')\n",
    "fig.tight_layout()\n",
    "save_fig(\"EarthSunVelocityVerlet\")\n",
    "plt.show()"
   ]
  },
  {
   "cell_type": "markdown",
   "metadata": {},
   "source": [
    "And we see that due to the smaller truncation error that energy conservation is improved as a function of time.\n",
    "Try out different time steps $\\Delta t$ and see if the results improve or worsen.\n",
    "\n",
    "\n",
    "\n",
    "\n",
    "\n",
    "### Exercise: Center-of-Mass and Relative Coordinates and Reference Frames\n",
    "\n",
    "We define the two-body center-of-mass coordinate and relative coordinate by expressing the trajectories for\n",
    "$\\boldsymbol{r}_1$ and $\\boldsymbol{r}_2$ into the center-of-mass coordinate\n",
    "$\\boldsymbol{R}_{\\rm cm}$"
   ]
  },
  {
   "cell_type": "markdown",
   "metadata": {},
   "source": [
    "$$\n",
    "\\boldsymbol{R}_{\\rm cm}\\equiv\\frac{m_1\\boldsymbol{r}_1+m_2\\boldsymbol{r}_2}{m_1+m_2},\n",
    "$$"
   ]
  },
  {
   "cell_type": "markdown",
   "metadata": {},
   "source": [
    "and the relative coordinate"
   ]
  },
  {
   "cell_type": "markdown",
   "metadata": {},
   "source": [
    "$$\n",
    "\\boldsymbol{r}\\equiv\\boldsymbol{r}_1-\\boldsymbol{r_2}.\n",
    "$$"
   ]
  },
  {
   "cell_type": "markdown",
   "metadata": {},
   "source": [
    "Here, we assume the two particles interact only with one another, so $\\boldsymbol{F}_{12}=-\\boldsymbol{F}_{21}$ (where $\\boldsymbol{F}_{ij}$ is the force on $i$ due to $j$.\n",
    "\n",
    "* 2a (5pt) Show that the equations of motion then become $\\ddot{\\boldsymbol{R}}_{\\rm cm}=0$ and $\\mu\\ddot{\\boldsymbol{r}}=\\boldsymbol{F}_{12}$, with the reduced mass $\\mu=m_1m_2/(m_1+m_2)$.\n",
    "\n",
    "The first expression simply states that the center of mass coordinate $\\boldsymbol{R}_{\\rm cm}$ moves at a fixed velocity. The second expression can be rewritten in terms of the reduced mass $\\mu$.\n",
    "\n",
    "Let us first start with some basic definitions. We have the center of mass coordinate $\\boldsymbol{R}$ defined as (for two particles)"
   ]
  },
  {
   "cell_type": "markdown",
   "metadata": {},
   "source": [
    "$$\n",
    "\\boldsymbol{R}=\\frac{m_1\\boldsymbol{r}_1+m_2\\boldsymbol{r}_2}{M},\n",
    "$$"
   ]
  },
  {
   "cell_type": "markdown",
   "metadata": {},
   "source": [
    "where $m_1$ and $m_2$ are the masses of the two objects and $\\boldsymbol{r}_1$ and $\\boldsymbol{r}_2$ their respective positions defined according to a chosen origin. Here $M=m_1+m_2$ is the total mass.\n",
    "\n",
    "The relative position is defined as"
   ]
  },
  {
   "cell_type": "markdown",
   "metadata": {},
   "source": [
    "$$\n",
    "\\boldsymbol{r} =\\boldsymbol{r}_1-\\boldsymbol{r}_2,\n",
    "$$"
   ]
  },
  {
   "cell_type": "markdown",
   "metadata": {},
   "source": [
    "and we then define $\\boldsymbol{r}_1$ and $\\boldsymbol{r}_2$ in terms of the relative and center of mass positions as"
   ]
  },
  {
   "cell_type": "markdown",
   "metadata": {},
   "source": [
    "$$\n",
    "\\boldsymbol{r}_1=\\boldsymbol{R}+\\frac{m_2}{M}\\boldsymbol{r},\n",
    "$$"
   ]
  },
  {
   "cell_type": "markdown",
   "metadata": {},
   "source": [
    "and"
   ]
  },
  {
   "cell_type": "markdown",
   "metadata": {},
   "source": [
    "$$\n",
    "\\boldsymbol{r}_2=\\boldsymbol{R}-\\frac{m_1}{M}\\boldsymbol{r},\n",
    "$$"
   ]
  },
  {
   "cell_type": "markdown",
   "metadata": {},
   "source": [
    "The total linear momentum is then defined as"
   ]
  },
  {
   "cell_type": "markdown",
   "metadata": {},
   "source": [
    "$$\n",
    "\\boldsymbol{P}=\\sum_{i=1}^Nm_i\\frac{\\boldsymbol{r}_i}{dt},\n",
    "$$"
   ]
  },
  {
   "cell_type": "markdown",
   "metadata": {},
   "source": [
    "where $N=2$ in our case. With the above definition of the center of mass position, we see that we can rewrite the total linear momentum as (multiplying the center of mass position with $M$)"
   ]
  },
  {
   "cell_type": "markdown",
   "metadata": {},
   "source": [
    "$$\n",
    "\\boldsymbol{P}=M\\frac{d\\boldsymbol{R}}{dt}=M\\dot{\\boldsymbol{R}}.\n",
    "$$"
   ]
  },
  {
   "cell_type": "markdown",
   "metadata": {},
   "source": [
    "This result is also an answer to a part of exercise 2b, see below.\n",
    "\n",
    "The net force acting on the system is given by the time derivative of the linear momentum (assuming mass is time independent)\n",
    "and we have"
   ]
  },
  {
   "cell_type": "markdown",
   "metadata": {},
   "source": [
    "$$\n",
    "\\boldsymbol{F}^{\\mathrm{net}}=\\dot{\\boldsymbol{P}}=M\\ddot{\\boldsymbol{R}}.\n",
    "$$"
   ]
  },
  {
   "cell_type": "markdown",
   "metadata": {},
   "source": [
    "The net force acting on the system is given by the sum of the forces acting on the two object, that is we have"
   ]
  },
  {
   "cell_type": "markdown",
   "metadata": {},
   "source": [
    "$$\n",
    "\\boldsymbol{F}^{\\mathrm{net}}=\\boldsymbol{F}_1+\\boldsymbol{F}_2=\\dot{\\boldsymbol{P}}=M\\ddot{\\boldsymbol{R}}.\n",
    "$$"
   ]
  },
  {
   "cell_type": "markdown",
   "metadata": {},
   "source": [
    "In our case the forces are given by the internal forces only. The force acting on object $1$ is thus $\\boldsymbol{F}_{12}$ and the one acting on object $2$ is $\\boldsymbol{F}_{12}$. We have also defined that $\\boldsymbol{F}_{12}=-\\boldsymbol{F}_{21}$. This means thar we have"
   ]
  },
  {
   "cell_type": "markdown",
   "metadata": {},
   "source": [
    "$$\n",
    "\\boldsymbol{F}_1+\\boldsymbol{F}_2=\\boldsymbol{F}_{12}+\\boldsymbol{F}_{21}=0=\\dot{\\boldsymbol{P}}=M\\ddot{\\boldsymbol{R}},\n",
    "$$"
   ]
  },
  {
   "cell_type": "markdown",
   "metadata": {},
   "source": [
    "which is what we wanted to show. The center of mass velocity is thus a constant of the motion. We could also define the so-called center of mass reference frame where we simply set $\\boldsymbol{R}=0$.\n",
    "\n",
    "This has also another important consequence for our forces. If we assume that our force depends only on the positions, it means that the gradient of the potential with respect to the center of mass position is zero, that is"
   ]
  },
  {
   "cell_type": "markdown",
   "metadata": {},
   "source": [
    "$$\n",
    "M\\ddot{d\\boldsymbol{R}}=-\\boldsymbol{\\nabla}_{\\boldsymbol{R}}V =0!\n",
    "$$"
   ]
  },
  {
   "cell_type": "markdown",
   "metadata": {},
   "source": [
    "An alternative way is"
   ]
  },
  {
   "cell_type": "markdown",
   "metadata": {},
   "source": [
    "$$\n",
    "\\begin{eqnarray}\n",
    "\\ddot{\\boldsymbol{R}}_{\\rm cm}&=&\\frac{1}{m_1+m_2}\\left\\{m_1\\ddot{\\boldsymbol{r}}_1+m_2\\ddot{\\boldsymbol{r}}_2\\right\\}\\\\\n",
    "\\nonumber\n",
    "&=&\\frac{1}{m_1+m_2}\\left\\{\\boldsymbol{F}_{12}+\\boldsymbol{F}_{21}\\right\\}=0.\\\\\n",
    "\\ddot{\\boldsymbol{r}}&=&\\ddot{\\boldsymbol{r}}_1-\\ddot{\\boldsymbol{r}}_2=\\left(\\frac{\\boldsymbol{F}_{12}}{m_1}-\\frac{\\boldsymbol{F}_{21}}{m_2}\\right)\\\\\n",
    "\\nonumber\n",
    "&=&\\left(\\frac{1}{m_1}+\\frac{1}{m_2}\\right)\\boldsymbol{F}_{12}.\n",
    "\\end{eqnarray}\n",
    "$$"
   ]
  },
  {
   "cell_type": "markdown",
   "metadata": {},
   "source": [
    "The first expression simply states that the center of mass coordinate\n",
    "$\\boldsymbol{R}_{\\rm cm}$ moves at a fixed velocity. The second expression\n",
    "can be rewritten in terms of the reduced mass $\\mu$."
   ]
  },
  {
   "cell_type": "markdown",
   "metadata": {},
   "source": [
    "$$\n",
    "\\begin{eqnarray}\n",
    "\\mu \\ddot{\\boldsymbol{r}}&=&\\boldsymbol{F}_{12},\\\\\n",
    "\\frac{1}{\\mu}&=&\\frac{1}{m_1}+\\frac{1}{m_2},~~~~\\mu=\\frac{m_1m_2}{m_1+m_2}.\n",
    "\\end{eqnarray}\n",
    "$$"
   ]
  },
  {
   "cell_type": "markdown",
   "metadata": {},
   "source": [
    "Thus, one can treat the trajectory as a one-body problem where the\n",
    "reduced mass is $\\mu$, and a second trivial problem for the center of\n",
    "mass. The reduced mass is especially convenient when one is\n",
    "considering gravitational problems, as we have seen during the lectures of weeks 11-13.\n",
    "\n",
    "\n",
    "\n",
    "\n",
    "* 2b (5pt) Show that the linear momenta for the center-of-mass $\\boldsymbol{P}$ motion and the relative motion $\\boldsymbol{q}$ are given by $\\boldsymbol{P}=M\\dot{\\boldsymbol{R}}_{\\rm cm}$ with $M=m_1+m_2$ and $\\boldsymbol{q}=\\mu\\dot{\\boldsymbol{r}}$.  The linear momentum of the relative motion is defined $\\boldsymbol{q} = (m_2\\boldsymbol{p}_1-m_1\\boldsymbol{p}_2)/(m_1+m_2)$.\n",
    "\n",
    "In 2a we showed, as an intermediate step that the total linear momentum is given by"
   ]
  },
  {
   "cell_type": "markdown",
   "metadata": {},
   "source": [
    "$$\n",
    "\\boldsymbol{P}=\\sum_{i=1}^Nm_i\\frac{d\\boldsymbol{r}_i}{dt}=M\\dot{\\boldsymbol{R}}.\n",
    "$$"
   ]
  },
  {
   "cell_type": "markdown",
   "metadata": {},
   "source": [
    "For the relative momentum $\\boldsymbol{q}$, we have that the time derivative of $\\boldsymbol{r}$ is"
   ]
  },
  {
   "cell_type": "markdown",
   "metadata": {},
   "source": [
    "$$\n",
    "\\dot{\\boldsymbol{r}} =\\dot{\\boldsymbol{r}}_1-\\dot{\\boldsymbol{r}}_2,\n",
    "$$"
   ]
  },
  {
   "cell_type": "markdown",
   "metadata": {},
   "source": [
    "We now also that the momenta $\\boldsymbol{p}_1=m_1\\dot{\\boldsymbol{r}}_1$ and\n",
    "$\\boldsymbol{p}_2=m_2\\dot{\\boldsymbol{r}}_2$. Using these expressions we can rewrite"
   ]
  },
  {
   "cell_type": "markdown",
   "metadata": {},
   "source": [
    "$$\n",
    "\\dot{\\boldsymbol{r}} =\\frac{\\boldsymbol{p}_1}{m_1}-\\frac{\\boldsymbol{p}_2}{m_2},\n",
    "$$"
   ]
  },
  {
   "cell_type": "markdown",
   "metadata": {},
   "source": [
    "which we can rewrite as"
   ]
  },
  {
   "cell_type": "markdown",
   "metadata": {},
   "source": [
    "$$\n",
    "\\dot{\\boldsymbol{r}} =\\frac{m_2\\boldsymbol{p}_1-m_1\\boldsymbol{p}_2}{m_1m_2},\n",
    "$$"
   ]
  },
  {
   "cell_type": "markdown",
   "metadata": {},
   "source": [
    "and dividing both sides with $M$ we have"
   ]
  },
  {
   "cell_type": "markdown",
   "metadata": {},
   "source": [
    "$$\n",
    "\\frac{m_1m_2}{M}\\dot{\\boldsymbol{r}} =\\frac{m_2\\boldsymbol{p}_1-m_1\\boldsymbol{p}_2}{M}.\n",
    "$$"
   ]
  },
  {
   "cell_type": "markdown",
   "metadata": {},
   "source": [
    "Introducing the reduced mass $\\mu=m_1m_2/M$ we have finally"
   ]
  },
  {
   "cell_type": "markdown",
   "metadata": {},
   "source": [
    "$$\n",
    "\\mu\\dot{\\boldsymbol{r}} =\\frac{m_2\\boldsymbol{p}_1-m_1\\boldsymbol{p}_2}{M}.\n",
    "$$"
   ]
  },
  {
   "cell_type": "markdown",
   "metadata": {},
   "source": [
    "And $\\mu\\dot{\\boldsymbol{r}}$ defines the relative momentum $\\boldsymbol{q}=\\mu\\dot{\\boldsymbol{r}}$. \n",
    "\n",
    "When we introduce the Lagrangian formalism we will see that it is much easier to derive these equations.\n",
    "\n",
    "* 2c (5pt) Show then that the  kinetic energy for two objects can then be written as"
   ]
  },
  {
   "cell_type": "markdown",
   "metadata": {},
   "source": [
    "$$\n",
    "K=\\frac{P^2}{2M}+\\frac{q^2}{2\\mu}.\n",
    "$$"
   ]
  },
  {
   "cell_type": "markdown",
   "metadata": {},
   "source": [
    "Here we just need to use our definitions of kinetic energy in terms of the coordinates $\\boldsymbol{r}_1$ and $\\boldsymbol{r}_2$.\n",
    "\n",
    "We have that"
   ]
  },
  {
   "cell_type": "markdown",
   "metadata": {},
   "source": [
    "$$\n",
    "K=\\frac{p_1^2}{2m_1}+\\frac{p_2^2}{2m_2},\n",
    "$$"
   ]
  },
  {
   "cell_type": "markdown",
   "metadata": {},
   "source": [
    "and with $\\boldsymbol{p}_1=m_1\\dot{\\boldsymbol{r}}_1$ and $\\boldsymbol{p}_2=m_2\\dot{\\boldsymbol{r}}_2$ and using"
   ]
  },
  {
   "cell_type": "markdown",
   "metadata": {},
   "source": [
    "$$\n",
    "\\dot{\\boldsymbol{r}}_1=\\dot{\\boldsymbol{R}}+\\frac{m_2}{M}\\dot{\\boldsymbol{r}},\n",
    "$$"
   ]
  },
  {
   "cell_type": "markdown",
   "metadata": {},
   "source": [
    "and"
   ]
  },
  {
   "cell_type": "markdown",
   "metadata": {},
   "source": [
    "$$\n",
    "\\dot{\\boldsymbol{r}}_2=\\dot{\\boldsymbol{R}}-\\frac{m_1}{M}\\dot{\\boldsymbol{r}},\n",
    "$$"
   ]
  },
  {
   "cell_type": "markdown",
   "metadata": {},
   "source": [
    "we obtain (after squaring the expressions for $\\dot{\\boldsymbol{r}}_1$ and $\\dot{\\boldsymbol{r}}_2$) we have"
   ]
  },
  {
   "cell_type": "markdown",
   "metadata": {},
   "source": [
    "$$\n",
    "K=\\frac{(m_1+m_2)\\dot{\\boldsymbol{R}}^2}{2}+\\frac{(m_1+m_2)m_1m_2\\dot{\\boldsymbol{r}}^2}{2M^2},\n",
    "$$"
   ]
  },
  {
   "cell_type": "markdown",
   "metadata": {},
   "source": [
    "which we simplify to"
   ]
  },
  {
   "cell_type": "markdown",
   "metadata": {},
   "source": [
    "$$\n",
    "K=\\frac{\\dot{\\boldsymbol{P}}^2}{2M}+\\frac{\\mu\\dot{\\boldsymbol{q}}^2}{2},\n",
    "$$"
   ]
  },
  {
   "cell_type": "markdown",
   "metadata": {},
   "source": [
    "which is what we wanted to show.\n",
    "\n",
    "* 2d (5pt) Show that the total angular momentum for two-particles in the center-of-mass frame $\\boldsymbol{R}=0$, is given by"
   ]
  },
  {
   "cell_type": "markdown",
   "metadata": {},
   "source": [
    "$$\n",
    "\\boldsymbol{L}=\\boldsymbol{r}\\times \\mu\\dot{\\boldsymbol{r}}.\n",
    "$$"
   ]
  },
  {
   "cell_type": "markdown",
   "metadata": {},
   "source": [
    "Here we need again that"
   ]
  },
  {
   "cell_type": "markdown",
   "metadata": {},
   "source": [
    "$$\n",
    "\\boldsymbol{r} =\\boldsymbol{r}_1-\\boldsymbol{r}_2,\n",
    "$$"
   ]
  },
  {
   "cell_type": "markdown",
   "metadata": {},
   "source": [
    "and we then define $\\boldsymbol{r}_1$ and $\\boldsymbol{r}_2$ in terms of the relative and center of mass positions with $\\boldsymbol{R}=0$"
   ]
  },
  {
   "cell_type": "markdown",
   "metadata": {},
   "source": [
    "$$\n",
    "\\boldsymbol{r}_1=\\frac{m_2}{M}\\boldsymbol{r},\n",
    "$$"
   ]
  },
  {
   "cell_type": "markdown",
   "metadata": {},
   "source": [
    "and"
   ]
  },
  {
   "cell_type": "markdown",
   "metadata": {},
   "source": [
    "$$\n",
    "\\boldsymbol{r}_2=-\\frac{m_1}{M}\\boldsymbol{r},\n",
    "$$"
   ]
  },
  {
   "cell_type": "markdown",
   "metadata": {},
   "source": [
    "The angular momentum (the total one) is the sum of the individual angular momenta (see homework 4) and we have"
   ]
  },
  {
   "cell_type": "markdown",
   "metadata": {},
   "source": [
    "$$\n",
    "\\boldsymbol{L} = \\boldsymbol{r}_1 \\times \\boldsymbol{p}_1+\\boldsymbol{r}_2 \\times \\boldsymbol{p}_2,\n",
    "$$"
   ]
  },
  {
   "cell_type": "markdown",
   "metadata": {},
   "source": [
    "and using that $m_1\\dot{\\boldsymbol{r}}_1=\\boldsymbol{p}_1$ and $m_2\\dot{\\boldsymbol{r}}_2=\\boldsymbol{p}_2$ we have"
   ]
  },
  {
   "cell_type": "markdown",
   "metadata": {},
   "source": [
    "$$\n",
    "\\boldsymbol{L} = m_1\\boldsymbol{r}_1 \\times \\dot{\\boldsymbol{r}}_1+m_2\\boldsymbol{r}_2 \\times \\dot{\\boldsymbol{r}}_2.\n",
    "$$"
   ]
  },
  {
   "cell_type": "markdown",
   "metadata": {},
   "source": [
    "Inserting the equations for $\\boldsymbol{r}_1$ and $\\boldsymbol{r}_2$ in terms of the relative motion, we have"
   ]
  },
  {
   "cell_type": "markdown",
   "metadata": {},
   "source": [
    "$$\n",
    "\\boldsymbol{L} = m_1 \\frac{m_2}{M}\\boldsymbol{r}\\times\\frac{m_2}{M}\\boldsymbol{r} +m_2 \\frac{m_1}{M}\\boldsymbol{r} \\times \\frac{m_1}{M}\\dot{\\boldsymbol{r}}.\n",
    "$$"
   ]
  },
  {
   "cell_type": "markdown",
   "metadata": {},
   "source": [
    "We see that can rewrite this equation as"
   ]
  },
  {
   "cell_type": "markdown",
   "metadata": {},
   "source": [
    "$$\n",
    "\\boldsymbol{L}=\\boldsymbol{r}\\times \\mu\\dot{\\boldsymbol{r}},\n",
    "$$"
   ]
  },
  {
   "cell_type": "markdown",
   "metadata": {},
   "source": [
    "which is what we wanted to derive.\n",
    "\n",
    "\n",
    "\n",
    "\n",
    "### Exercise: Conservation of Energy\n",
    "\n",
    "The equations of motion in the center-of-mass frame in two dimensions with $x=r\\cos{(\\phi)}$ and $y=r\\sin{(\\phi)}$ and\n",
    "$r\\in [0,\\infty)$, $\\phi\\in [0,2\\pi]$ and $r=\\sqrt{x^2+y^2}$ are given by"
   ]
  },
  {
   "cell_type": "markdown",
   "metadata": {},
   "source": [
    "$$\n",
    "\\mu \\ddot{r}=-\\frac{dV(r)}{dr}+\\mu r\\dot{\\phi}^2,\n",
    "$$"
   ]
  },
  {
   "cell_type": "markdown",
   "metadata": {},
   "source": [
    "and"
   ]
  },
  {
   "cell_type": "markdown",
   "metadata": {},
   "source": [
    "$$\n",
    "\\dot{\\phi}=\\frac{L}{\\mu r^2}.\n",
    "$$"
   ]
  },
  {
   "cell_type": "markdown",
   "metadata": {},
   "source": [
    "Here $V(r)$ is any central force which depends only on the relative coordinate.\n",
    "* 1a (5pt) Show that you can rewrite the radial equation in terms of an effective potential $V_{\\mathrm{eff}}(r)=V(r)+L^2/(2\\mu r^2)$. \n",
    "\n",
    "Here we use that"
   ]
  },
  {
   "cell_type": "markdown",
   "metadata": {},
   "source": [
    "$$\n",
    "\\dot{\\phi}=\\frac{L}{\\mu r^2}.\n",
    "$$"
   ]
  },
  {
   "cell_type": "markdown",
   "metadata": {},
   "source": [
    "and rewrite the above equation of motion as"
   ]
  },
  {
   "cell_type": "markdown",
   "metadata": {},
   "source": [
    "$$\n",
    "\\mu \\ddot{r}=-\\frac{dV(r)}{dr}+\\frac{L^2}{\\mu r^3}.\n",
    "$$"
   ]
  },
  {
   "cell_type": "markdown",
   "metadata": {},
   "source": [
    "If we now define an effective potential"
   ]
  },
  {
   "cell_type": "markdown",
   "metadata": {},
   "source": [
    "$$\n",
    "V_{\\mathrm{eff}}=V(r)+\\frac{L^2}{2\\mu r^2},\n",
    "$$"
   ]
  },
  {
   "cell_type": "markdown",
   "metadata": {},
   "source": [
    "we can rewrite our equation of motion in terms of"
   ]
  },
  {
   "cell_type": "markdown",
   "metadata": {},
   "source": [
    "$$\n",
    "\\mu \\ddot{r}=-\\frac{dV_{\\mathrm{eff}}(r)}{dr}=-\\frac{dV(r)}{dr}+\\frac{L^2}{\\mu r^3}.\n",
    "$$"
   ]
  },
  {
   "cell_type": "markdown",
   "metadata": {},
   "source": [
    "The addition due to the angular momentum comes from the kinetic energy\n",
    "when we rewrote it in terms of polar coordinates. It introduces a\n",
    "so-called centrifugal barrier due to the angular momentum. This\n",
    "centrifugal barrier pushes the object farther away from the origin.\n",
    "\n",
    "Alternatively,"
   ]
  },
  {
   "cell_type": "markdown",
   "metadata": {},
   "source": [
    "<!-- Equation labels as ordinary links -->\n",
    "<div id=\"_auto22\"></div>\n",
    "\n",
    "$$\n",
    "\\begin{equation}\n",
    "-\\frac{dV_{\\text{eff}}(r)}{dr} = \\mu \\ddot{r}  =-\\frac{dV(r)}{dr}+\\mu\\dot{\\phi}^2r\n",
    "\\label{_auto22} \\tag{35}\n",
    "\\end{equation}\n",
    "$$"
   ]
  },
  {
   "cell_type": "markdown",
   "metadata": {},
   "source": [
    "<!-- Equation labels as ordinary links -->\n",
    "<div id=\"_auto23\"></div>\n",
    "\n",
    "$$\n",
    "\\begin{equation} \n",
    "-\\frac{dV_{\\text{eff}}(r)}{dr}  = -\\frac{dV(r)}{dr}+\\mu\\left( \\frac{L}{\\mu r^2}\\right) ^2r\n",
    "\\label{_auto23} \\tag{36}\n",
    "\\end{equation}\n",
    "$$"
   ]
  },
  {
   "cell_type": "markdown",
   "metadata": {},
   "source": [
    "<!-- Equation labels as ordinary links -->\n",
    "<div id=\"_auto24\"></div>\n",
    "\n",
    "$$\n",
    "\\begin{equation} \n",
    " = -\\frac{dV(r)}{dr}+\\mu\\frac{L^2}{\\mu}r^{-3}\n",
    "\\label{_auto24} \\tag{37}\n",
    "\\end{equation}\n",
    "$$"
   ]
  },
  {
   "cell_type": "markdown",
   "metadata": {},
   "source": [
    "<!-- Equation labels as ordinary links -->\n",
    "<div id=\"_auto25\"></div>\n",
    "\n",
    "$$\n",
    "\\begin{equation} \n",
    " = -\\frac{d\\left(  V(r)+\\frac{1}{2} \\frac{L^2}{\\mu r^2}\\right) }{dr}.\n",
    "\\label{_auto25} \\tag{38}\n",
    "\\end{equation}\n",
    "$$"
   ]
  },
  {
   "cell_type": "markdown",
   "metadata": {},
   "source": [
    "Integrating we obtain"
   ]
  },
  {
   "cell_type": "markdown",
   "metadata": {},
   "source": [
    "<!-- Equation labels as ordinary links -->\n",
    "<div id=\"_auto26\"></div>\n",
    "\n",
    "$$\n",
    "\\begin{equation}\n",
    "V_{\\text{eff}}(r) = V(r) + \\frac{L^2}{2\\mu r^2} + C\n",
    "\\label{_auto26} \\tag{39}\n",
    "\\end{equation}\n",
    "$$"
   ]
  },
  {
   "cell_type": "markdown",
   "metadata": {},
   "source": [
    "Imposing  the extra condition that $V_{\\text{eff}}(r\\rightarrow \\infty) = V(r\\rightarrow \\infty)$,"
   ]
  },
  {
   "cell_type": "markdown",
   "metadata": {},
   "source": [
    "<!-- Equation labels as ordinary links -->\n",
    "<div id=\"_auto27\"></div>\n",
    "\n",
    "$$\n",
    "\\begin{equation}\n",
    "V_{\\text{eff}}(r) = V(r) + \\frac{L^2}{2\\mu r^2}\n",
    "\\label{_auto27} \\tag{40}\n",
    "\\end{equation}\n",
    "$$"
   ]
  },
  {
   "cell_type": "markdown",
   "metadata": {},
   "source": [
    "Write out the final differential equation for the radial degrees of freedom when we specify that $V(r)=-\\alpha/r$.  Plot the effective potential. You can choose values for $\\alpha$ and $L$ and discuss (see Taylor section 8.4 and example 8.2) the physics of the system for two energies, one larger than zero and one smaller than zero. This is similar to what you did in the first midterm, except that the potential is different.\n",
    "\n",
    "We insert now the explicit potential form $V(r)=-\\alpha/r$. This gives us the following equation of motion"
   ]
  },
  {
   "cell_type": "markdown",
   "metadata": {},
   "source": [
    "$$\n",
    "\\mu \\ddot{r}=-\\frac{dV_{\\mathrm{eff}}(r)}{dr}=-\\frac{d(-\\alpha/r)}{dr}+\\frac{L^2}{\\mu r^3}=-\\frac{\\alpha}{r^2}+\\frac{L^2}{\\mu r^3}.\n",
    "$$"
   ]
  },
  {
   "cell_type": "markdown",
   "metadata": {},
   "source": [
    "The following code plots this effective potential for a simple choice of parameters, with a standard gravitational potential $-\\alpha/r$. Here we have chosen $L=m=\\alpha=1$."
   ]
  },
  {
   "cell_type": "code",
   "execution_count": 17,
   "metadata": {
    "collapsed": false,
    "editable": true
   },
   "outputs": [
    {
     "data": {
      "image/png": "[encoded data removed]",
      "text/plain": [
       "<Figure size 432x288 with 1 Axes>"
      ]
     },
     "metadata": {
      "filenames": {
       "image/png": "/Users/mhjensen/Teaching/Physics321/doc/LectureNotes/_build/jupyter_execute/chapter6_419_0.png"
      },
      "needs_background": "light"
     },
     "output_type": "display_data"
    }
   ],
   "source": [
    "# Common imports\n",
    "import numpy as np\n",
    "from math import *\n",
    "import matplotlib.pyplot as plt\n",
    "\n",
    "Deltax = 0.01\n",
    "#set up arrays\n",
    "xinitial = 0.3\n",
    "xfinal = 5.0\n",
    "alpha = 1.0   # spring constant\n",
    "m = 1.0   # mass, you can change these\n",
    "AngMom = 1.0  #  The angular momentum\n",
    "n = ceil((xfinal-xinitial)/Deltax)\n",
    "x = np.zeros(n)\n",
    "for i in range(n):\n",
    "    x[i] = xinitial+i*Deltax\n",
    "V = np.zeros(n)\n",
    "V = -alpha/x+0.5*AngMom*AngMom/(m*x*x)\n",
    "# Plot potential\n",
    "fig, ax = plt.subplots()\n",
    "ax.set_xlabel('r[m]')\n",
    "ax.set_ylabel('V[J]')\n",
    "ax.plot(x, V)\n",
    "fig.tight_layout()\n",
    "plt.show()"
   ]
  },
  {
   "cell_type": "markdown",
   "metadata": {},
   "source": [
    "If we select a potential energy below zero (and not necessarily one\n",
    "which corresponds to the minimum point), the object will oscillate\n",
    "between two values of $r$, a value $r_{\\mathrm{min}}$ and a value\n",
    "$r_{\\mathrm{max}}$. We can assume that for example the kinetic energy\n",
    "is zero at these two points. The object will thus oscillate back and\n",
    "forth between these two points. As we will see in connection with the\n",
    "solution of the equations of motion, this case corresponds to\n",
    "elliptical orbits. If we select $r$ equal to the minimum of the\n",
    "potential and use initial conditions for the velocity that correspond\n",
    "to circular motion, the object will have a constant value of $r$ given\n",
    "by the value at the minimum and the orbit is a circle.\n",
    "\n",
    "If we select a potential energy larger than zero, then, since the\n",
    "kinetic energy is always larger or equal to zero, the object will move\n",
    "away from the origin. See also the discussion in Taylor, sections 8.4-8.6.\n",
    "\n",
    "### Exercise: Harmonic oscillator again\n",
    "\n",
    "Consider a particle of mass $m$ in a $2$-dimensional harmonic oscillator with potential"
   ]
  },
  {
   "cell_type": "markdown",
   "metadata": {},
   "source": [
    "$$\n",
    "V(r)=\\frac{1}{2}kr^2=\\frac{1}{2}k(x^2+y^2).\n",
    "$$"
   ]
  },
  {
   "cell_type": "markdown",
   "metadata": {},
   "source": [
    "We assume the orbit has a final non-zero angular momentum $L$.  The\n",
    "effective potential looks like that of a harmonic oscillator for large\n",
    "$r$, but for small $r$, the centrifugal potential repels the particle\n",
    "from the origin. The combination of the two potentials has a minimum\n",
    "for at some radius $r_{\\rm min}$.\n",
    "\n",
    "\n",
    "Set up the effective potential and plot it. Find $r_{\\rm min}$ and $\\dot{\\phi}$. Show that the latter is given by $\\dot{\\phi}=\\sqrt{k/m}$.  At $r_{\\rm min}$ the particle does not accelerate and $r$ stays constant and the motion is circular. With fixed $k$ and $m$, which parameter can we adjust to change the value of $r$ at $r_{\\rm min}$?\n",
    "\n",
    "We consider the effective potential. The radius of a circular orbit is at the minimum of the potential (where the effective force is zero).\n",
    "The potential is plotted here with the parameters $k=m=1.0$ and $L=1.0$."
   ]
  },
  {
   "cell_type": "code",
   "execution_count": 18,
   "metadata": {
    "collapsed": false,
    "editable": true
   },
   "outputs": [
    {
     "data": {
      "image/png": "[encoded data removed]",
      "text/plain": [
       "<Figure size 432x288 with 1 Axes>"
      ]
     },
     "metadata": {
      "filenames": {
       "image/png": "/Users/mhjensen/Teaching/Physics321/doc/LectureNotes/_build/jupyter_execute/chapter6_423_0.png"
      },
      "needs_background": "light"
     },
     "output_type": "display_data"
    }
   ],
   "source": [
    "# Common imports\n",
    "import numpy as np\n",
    "from math import *\n",
    "import matplotlib.pyplot as plt\n",
    "\n",
    "Deltax = 0.01\n",
    "#set up arrays\n",
    "xinitial = 0.5\n",
    "xfinal = 3.0\n",
    "k = 1.0   # spring constant\n",
    "m = 1.0   # mass, you can change these\n",
    "AngMom = 1.0  #  The angular momentum\n",
    "n = ceil((xfinal-xinitial)/Deltax)\n",
    "x = np.zeros(n)\n",
    "for i in range(n):\n",
    "    x[i] = xinitial+i*Deltax\n",
    "V = np.zeros(n)\n",
    "V = 0.5*k*x*x+0.5*AngMom*AngMom/(m*x*x)\n",
    "# Plot potential\n",
    "fig, ax = plt.subplots()\n",
    "ax.set_xlabel('r[m]')\n",
    "ax.set_ylabel('V[J]')\n",
    "ax.plot(x, V)\n",
    "fig.tight_layout()\n",
    "plt.show()"
   ]
  },
  {
   "cell_type": "markdown",
   "metadata": {},
   "source": [
    "We have an effective potential"
   ]
  },
  {
   "cell_type": "markdown",
   "metadata": {},
   "source": [
    "$$\n",
    "\\begin{eqnarray*}\n",
    "V_{\\rm eff}&=&\\frac{1}{2}kr^2+\\frac{L^2}{2mr^2}\n",
    "\\end{eqnarray*}\n",
    "$$"
   ]
  },
  {
   "cell_type": "markdown",
   "metadata": {},
   "source": [
    "The effective potential looks like that of a harmonic oscillator for\n",
    "large $r$, but for small $r$, the centrifugal potential repels the\n",
    "particle from the origin. The combination of the two potentials has a\n",
    "minimum for at some radius $r_{\\rm min}$."
   ]
  },
  {
   "cell_type": "markdown",
   "metadata": {},
   "source": [
    "$$\n",
    "\\begin{eqnarray*}\n",
    "0&=&kr_{\\rm min}-\\frac{L^2}{mr_{\\rm min}^3},\\\\\n",
    "r_{\\rm min}&=&\\left(\\frac{L^2}{mk}\\right)^{1/4},\\\\\n",
    "\\dot{\\theta}&=&\\frac{L}{mr_{\\rm min}^2}=\\sqrt{k/m}.\n",
    "\\end{eqnarray*}\n",
    "$$"
   ]
  },
  {
   "cell_type": "markdown",
   "metadata": {},
   "source": [
    "For particles at $r_{\\rm min}$ with $\\dot{r}=0$, the particle does not\n",
    "accelerate and $r$ stays constant, i.e. a circular orbit. The radius\n",
    "of the circular orbit can be adjusted by changing the angular momentum\n",
    "$L$.\n",
    "\n",
    "For the above parameters this minimum is at $r_{\\rm min}=1$.\n",
    "\n",
    "\n",
    "\n",
    "Now consider small vibrations about $r_{\\rm min}$. The effective spring constant is the curvature of the effective potential.  Use the curvature at $r_{\\rm min}$ to find the effective spring constant (hint, look at  exercise 4 in homework 6) $k_{\\mathrm{eff}}$. Show also that $\\omega=\\sqrt{k_{\\mathrm{eff}}/m}=2\\dot{\\phi}$"
   ]
  },
  {
   "cell_type": "markdown",
   "metadata": {},
   "source": [
    "$$\n",
    "\\begin{eqnarray*}\n",
    "k_{\\rm eff}&=&\\left.\\frac{d^2}{dr^2}V_{\\rm eff}(r)\\right|_{r=r_{\\rm min}}=k+\\frac{3L^2}{mr_{\\rm min}^4}\\\\\n",
    "&=&4k,\\\\\n",
    "\\omega&=&\\sqrt{k_{\\rm eff}/m}=2\\sqrt{k/m}=2\\dot{\\theta}.\n",
    "\\end{eqnarray*}\n",
    "$$"
   ]
  },
  {
   "cell_type": "markdown",
   "metadata": {},
   "source": [
    "Because the radius oscillates with twice the angular frequency,\n",
    "the orbit has two places where $r$ reaches a minimum in one\n",
    "cycle. This differs from the inverse-square force where there is one\n",
    "minimum in an orbit. One can show that the orbit for the harmonic\n",
    "oscillator is also elliptical, but in this case the center of the\n",
    "potential is at the center of the ellipse, not at one of the foci.\n",
    "\n",
    "\n",
    "\n",
    "\n",
    "The solution to the equations of motion in Cartesian coordinates is simple. The $x$ and $y$ equations of motion separate, and we have $\\ddot{x}=-kx/m$ and $\\ddot{y}=-ky/m$. The harmonic oscillator is indeed a system where the degrees of freedom separate and we can find analytical solutions. Define a natural frequency $\\omega_0=\\sqrt{k/m}$ and show that (where $A$, $B$, $C$ and $D$ are arbitrary constants defined by the initial conditions)"
   ]
  },
  {
   "cell_type": "markdown",
   "metadata": {},
   "source": [
    "$$\n",
    "\\begin{eqnarray*}\n",
    "x&=&A\\cos\\omega_0 t+B\\sin\\omega_0 t,\\\\\n",
    "y&=&C\\cos\\omega_0 t+D\\sin\\omega_0 t.\n",
    "\\end{eqnarray*}\n",
    "$$"
   ]
  },
  {
   "cell_type": "markdown",
   "metadata": {},
   "source": [
    "The solution is also simple to write down exactly in Cartesian coordinates. The $x$ and $y$ equations of motion separate,"
   ]
  },
  {
   "cell_type": "markdown",
   "metadata": {},
   "source": [
    "$$\n",
    "\\begin{eqnarray*}\n",
    "\\ddot{x}&=&-kx,\\\\\n",
    "\\ddot{y}&=&-ky.\n",
    "\\end{eqnarray*}\n",
    "$$"
   ]
  },
  {
   "cell_type": "markdown",
   "metadata": {},
   "source": [
    "We know from our studies of the harmonic oscillator that the general solution can be expressed as"
   ]
  },
  {
   "cell_type": "markdown",
   "metadata": {},
   "source": [
    "$$\n",
    "\\begin{eqnarray*}\n",
    "x&=&A\\cos\\omega_0 t+B\\sin\\omega_0 t,\\\\\n",
    "y&=&C\\cos\\omega_0 t+D\\sin\\omega_0 t.\n",
    "\\end{eqnarray*}\n",
    "$$"
   ]
  },
  {
   "cell_type": "markdown",
   "metadata": {},
   "source": [
    "With the solutions for $x$ and $y$, and $r^2=x^2+y^2$ and the definitions $\\alpha=\\frac{A^2+B^2+C^2+D^2}{2}$, $\\beta=\\frac{A^2-B^2+C^2-D^2}{2}$ and $\\gamma=AB+CD$, show that"
   ]
  },
  {
   "cell_type": "markdown",
   "metadata": {},
   "source": [
    "$$\n",
    "r^2=\\alpha+(\\beta^2+\\gamma^2)^{1/2}\\cos(2\\omega_0 t-\\delta),\n",
    "$$"
   ]
  },
  {
   "cell_type": "markdown",
   "metadata": {},
   "source": [
    "with"
   ]
  },
  {
   "cell_type": "markdown",
   "metadata": {},
   "source": [
    "$$\n",
    "\\delta=\\arctan(\\gamma/\\beta).\n",
    "$$"
   ]
  },
  {
   "cell_type": "markdown",
   "metadata": {},
   "source": [
    "We start with $r^2 & = x^2+y^2$ and square the above analytical solutions and   after some **exciting algebraic manipulations** we arrive at"
   ]
  },
  {
   "cell_type": "markdown",
   "metadata": {},
   "source": [
    "<!-- Equation labels as ordinary links -->\n",
    "<div id=\"_auto28\"></div>\n",
    "\n",
    "$$\n",
    "\\begin{equation}\n",
    "r^2  = x^2+y^2\n",
    "\\label{_auto28} \\tag{41}\n",
    "\\end{equation}\n",
    "$$"
   ]
  },
  {
   "cell_type": "markdown",
   "metadata": {},
   "source": [
    "<!-- Equation labels as ordinary links -->\n",
    "<div id=\"_auto29\"></div>\n",
    "\n",
    "$$\n",
    "\\begin{equation}  \n",
    " = \\left(  A\\cos\\omega_0 t+B\\sin\\omega_0 t\\right) ^2 + \\left(  C\\cos\\omega_0 t+D\\sin\\omega_0 t\\right) ^2\n",
    "\\label{_auto29} \\tag{42}\n",
    "\\end{equation}\n",
    "$$"
   ]
  },
  {
   "cell_type": "markdown",
   "metadata": {},
   "source": [
    "<!-- Equation labels as ordinary links -->\n",
    "<div id=\"_auto30\"></div>\n",
    "\n",
    "$$\n",
    "\\begin{equation}  \n",
    " = A^2\\cos^2\\omega_0 t+B^2\\sin^2\\omega_0 t + 2AB\\sin\\omega_0 t \\cos\\omega_0 t + C^2\\cos^2\\omega_0 t+D^2\\sin^2\\omega_0 t + 2CD\\sin\\omega_0 t \\cos\\omega_0 t\n",
    "\\label{_auto30} \\tag{43}\n",
    "\\end{equation}\n",
    "$$"
   ]
  },
  {
   "cell_type": "markdown",
   "metadata": {},
   "source": [
    "<!-- Equation labels as ordinary links -->\n",
    "<div id=\"_auto31\"></div>\n",
    "\n",
    "$$\n",
    "\\begin{equation} \n",
    " = (A^2+C^2)\\cos^2\\omega_0 t + (B^2+D^2)\\sin^2\\omega_0 t + 2(AC + BD)\\sin\\omega_0 t \\cos\\omega_0 t\n",
    "\\label{_auto31} \\tag{44}\n",
    "\\end{equation}\n",
    "$$"
   ]
  },
  {
   "cell_type": "markdown",
   "metadata": {},
   "source": [
    "<!-- Equation labels as ordinary links -->\n",
    "<div id=\"_auto32\"></div>\n",
    "\n",
    "$$\n",
    "\\begin{equation} \n",
    " = (B^2+D^2) + (A^2+C^2-B^2-D^2)\\cos^2\\omega_0 t + 2(AC + BD)2\\sin2\\omega_0 t\n",
    "\\label{_auto32} \\tag{45}\n",
    "\\end{equation}\n",
    "$$"
   ]
  },
  {
   "cell_type": "markdown",
   "metadata": {},
   "source": [
    "<!-- Equation labels as ordinary links -->\n",
    "<div id=\"_auto33\"></div>\n",
    "\n",
    "$$\n",
    "\\begin{equation} \n",
    " = (B^2+D^2) + (A^2+C^2-B^2-D^2)\\frac{1+\\cos{2\\omega_0 t}}{2} + 2(AC + BD)\\frac{1}{2}\\sin2\\omega_0 t\n",
    "\\label{_auto33} \\tag{46}\n",
    "\\end{equation}\n",
    "$$"
   ]
  },
  {
   "cell_type": "markdown",
   "metadata": {},
   "source": [
    "<!-- Equation labels as ordinary links -->\n",
    "<div id=\"_auto34\"></div>\n",
    "\n",
    "$$\n",
    "\\begin{equation} \n",
    " = \\frac{2B^2+2D^2+A^2+C^2-B^2-D^2}{2} + (A^2+C^2-B^2-D^2)\\frac{\\cos{2\\omega_0 t}}{2} + (AC + BD)\\sin2\\omega_0 t\n",
    "\\label{_auto34} \\tag{47}\n",
    "\\end{equation}\n",
    "$$"
   ]
  },
  {
   "cell_type": "markdown",
   "metadata": {},
   "source": [
    "<!-- Equation labels as ordinary links -->\n",
    "<div id=\"_auto35\"></div>\n",
    "\n",
    "$$\n",
    "\\begin{equation} \n",
    " = \\frac{B^2+D^2+A^2+C^2}{2} + \\frac{A^2+C^2-B^2-D^2}{2}\\cos{2\\omega_0 t} + (AC + BD)\\sin2\\omega_0 t\n",
    "\\label{_auto35} \\tag{48}\n",
    "\\end{equation}\n",
    "$$"
   ]
  },
  {
   "cell_type": "markdown",
   "metadata": {},
   "source": [
    "<!-- Equation labels as ordinary links -->\n",
    "<div id=\"_auto36\"></div>\n",
    "\n",
    "$$\n",
    "\\begin{equation} \n",
    " = \\alpha + \\beta\\cos{2\\omega_0 t} + \\gamma\\sin2\\omega_0 t\n",
    "\\label{_auto36} \\tag{49}\n",
    "\\end{equation}\n",
    "$$"
   ]
  },
  {
   "cell_type": "markdown",
   "metadata": {},
   "source": [
    "<!-- Equation labels as ordinary links -->\n",
    "<div id=\"_auto37\"></div>\n",
    "\n",
    "$$\n",
    "\\begin{equation} \n",
    " = \\alpha + \\sqrt{\\beta^2+\\gamma^2}\\left( \\frac{\\beta}{\\sqrt{\\beta^2+\\gamma^2}}\\cos{2\\omega_0 t} + \\frac{\\gamma}{\\sqrt{\\beta^2+\\gamma^2}}\\sin2\\omega_0 t\\right) \n",
    "\\label{_auto37} \\tag{50}\n",
    "\\end{equation}\n",
    "$$"
   ]
  },
  {
   "cell_type": "markdown",
   "metadata": {},
   "source": [
    "<!-- Equation labels as ordinary links -->\n",
    "<div id=\"_auto38\"></div>\n",
    "\n",
    "$$\n",
    "\\begin{equation} \n",
    " = \\alpha + \\sqrt{\\beta^2+\\gamma^2}\\left( \\cos{\\delta}\\cos{2\\omega_0 t} + \\sin{\\delta}\\sin2\\omega_0 t\\right) \n",
    "\\label{_auto38} \\tag{51}\n",
    "\\end{equation}\n",
    "$$"
   ]
  },
  {
   "cell_type": "markdown",
   "metadata": {},
   "source": [
    "<!-- Equation labels as ordinary links -->\n",
    "<div id=\"_auto39\"></div>\n",
    "\n",
    "$$\n",
    "\\begin{equation} \n",
    " = \\alpha + \\sqrt{\\beta^2+\\gamma^2}\\cos{\\left( 2\\omega_0 t - \\delta\\right) },\n",
    "\\label{_auto39} \\tag{52}\n",
    "\\end{equation}\n",
    "$$"
   ]
  },
  {
   "cell_type": "markdown",
   "metadata": {},
   "source": [
    "which is what we wanted to show.  \n",
    "\n",
    "\n",
    "\n",
    "\n",
    "\n",
    "\n",
    "\n",
    "### Exercise: Numerical Solution of the Harmonic Oscillator\n",
    "\n",
    "Using the code we developed in homeworks 5 and/or 6 for the Earth-Sun system, we can solve the above harmonic oscillator problem in two dimensions using our code from this homework. We need however to change the acceleration from the gravitational force to the one given by the harmonic oscillator potential.\n",
    "\n",
    "\n",
    "* 3a (20pt) Use for example the  code in the exercise set to set up the acceleration and use the initial conditions fixed by for example $r_{\\rm min}$ from exercise 2. Which value should the initial velocity take if you place yourself at $r_{\\rm min}$ and you require a circular motion? Hint: see the first midterm, part 2. There you used the centripetal acceleration.  \n",
    "\n",
    "Instead of solving the equations in the cartesian frame we will now rewrite the above code in terms of the radial degrees of freedom only. Our differential equation is now"
   ]
  },
  {
   "cell_type": "markdown",
   "metadata": {},
   "source": [
    "$$\n",
    "\\mu \\ddot{r}=-\\frac{dV(r)}{dr}+\\mu\\dot{\\phi}^2,\n",
    "$$"
   ]
  },
  {
   "cell_type": "markdown",
   "metadata": {},
   "source": [
    "and"
   ]
  },
  {
   "cell_type": "markdown",
   "metadata": {},
   "source": [
    "$$\n",
    "\\dot{\\phi}=\\frac{L}{\\mu r^2}.\n",
    "$$"
   ]
  },
  {
   "cell_type": "markdown",
   "metadata": {},
   "source": [
    "* 3b (20pt) We will use $r_{\\rm min}$ to fix a value of $L$, as seen in exercise 2. This fixes also $\\dot{\\phi}$. Write a code which now implements the radial equation for $r$ using the same $r_{\\rm min}$ as you did in 3a. Compare the results with those from 3a with the same initial conditions. Do they agree? Use only one set of initial conditions.\n",
    "\n",
    "The code here finds the solution for $x$ and $y$ using the code we\n",
    "developed in homework 5 and 6 and the midterm.  Note that this code is\n",
    "tailored to run in Cartesian coordinates. There is thus no angular\n",
    "momentum dependent term.\n",
    "\n",
    "Here we have chosen initial conditions that\n",
    "correspond to the minimum of the effective potential\n",
    "$r_{\\mathrm{min}}$. We have chosen $x_0=r_{\\mathrm{min}}$ and\n",
    "$y_0=0$. Similarly, we use the centripetal acceleration to determine\n",
    "the initial velocity so that we have a circular motion (see back to the\n",
    "last question of the midterm). This means that we set the centripetal\n",
    "acceleration $v^2/r$ equal to the force from the harmonic oscillator $-k\\boldsymbol{r}$. Taking the\n",
    "magnitude of $\\boldsymbol{r}$ we have then\n",
    "$v^2/r=k/mr$, which gives $v=\\pm\\omega_0r$. \n",
    "\n",
    "Since the code here solves the equations of motion in cartesian\n",
    "coordinates and the harmonic oscillator potential leads to forces in\n",
    "the $x$- and $y$-directions that are decoupled, we have to select the initial velocities and positions so that we don't get that for example $y(t)=0$.\n",
    "\n",
    "We set $x_0$ to be different from zero and $v_{y0}$ to be different from zero."
   ]
  },
  {
   "cell_type": "code",
   "execution_count": 19,
   "metadata": {
    "collapsed": false,
    "editable": true
   },
   "outputs": [
    {
     "data": {
      "image/png": "[encoded data removed]",
      "text/plain": [
       "<Figure size 432x288 with 3 Axes>"
      ]
     },
     "metadata": {
      "filenames": {
       "image/png": "/Users/mhjensen/Teaching/Physics321/doc/LectureNotes/_build/jupyter_execute/chapter6_458_0.png"
      },
      "needs_background": "light"
     },
     "output_type": "display_data"
    }
   ],
   "source": [
    "\n",
    "# Common imports\n",
    "import numpy as np\n",
    "import pandas as pd\n",
    "from math import *\n",
    "import matplotlib.pyplot as plt\n",
    "import os\n",
    "\n",
    "# Where to save the figures and data files\n",
    "PROJECT_ROOT_DIR = \"Results\"\n",
    "FIGURE_ID = \"Results/FigureFiles\"\n",
    "DATA_ID = \"DataFiles/\"\n",
    "\n",
    "if not os.path.exists(PROJECT_ROOT_DIR):\n",
    "    os.mkdir(PROJECT_ROOT_DIR)\n",
    "\n",
    "if not os.path.exists(FIGURE_ID):\n",
    "    os.makedirs(FIGURE_ID)\n",
    "\n",
    "if not os.path.exists(DATA_ID):\n",
    "    os.makedirs(DATA_ID)\n",
    "\n",
    "def image_path(fig_id):\n",
    "    return os.path.join(FIGURE_ID, fig_id)\n",
    "\n",
    "def data_path(dat_id):\n",
    "    return os.path.join(DATA_ID, dat_id)\n",
    "\n",
    "def save_fig(fig_id):\n",
    "    plt.savefig(image_path(fig_id) + \".png\", format='png')\n",
    "\n",
    "DeltaT = 0.001\n",
    "#set up arrays \n",
    "tfinal = 10.0\n",
    "n = ceil(tfinal/DeltaT)\n",
    "# set up arrays\n",
    "t = np.zeros(n)\n",
    "v = np.zeros((n,2))\n",
    "r = np.zeros((n,2))\n",
    "radius = np.zeros(n)\n",
    "# Constants of the model\n",
    "k = 1.0   # spring constant\n",
    "m = 1.0   # mass, you can change these\n",
    "omega02 = k/m  # Frequency\n",
    "AngMom = 1.0  #  The angular momentum\n",
    "# Potential minimum\n",
    "rmin = (AngMom*AngMom/k/m)**0.25\n",
    "# Initial conditions as compact 2-dimensional arrays, x0=rmin and y0 = 0\n",
    "x0 = rmin; y0= 0.0\n",
    "r0 = np.array([x0,y0])\n",
    "vy0 = sqrt(omega02)*rmin; vx0 = 0.0\n",
    "v0 = np.array([vx0,vy0])\n",
    "r[0] = r0\n",
    "v[0] = v0\n",
    "# Start integrating using the Velocity-Verlet  method\n",
    "for i in range(n-1):\n",
    "    # Set up the acceleration\n",
    "    a =  -r[i]*omega02  \n",
    "    # update velocity, time and position using the Velocity-Verlet method\n",
    "    r[i+1] = r[i] + DeltaT*v[i]+0.5*(DeltaT**2)*a\n",
    "    anew = -r[i+1]*omega02  \n",
    "    v[i+1] = v[i] + 0.5*DeltaT*(a+anew)\n",
    "    t[i+1] = t[i] + DeltaT\n",
    "# Plot position as function of time\n",
    "radius = np.sqrt(r[:,0]**2+r[:,1]**2)\n",
    "fig, ax = plt.subplots(3,1)\n",
    "ax[0].set_xlabel('time')\n",
    "ax[0].set_ylabel('radius squared')\n",
    "ax[0].plot(t,r[:,0]**2+r[:,1]**2)\n",
    "ax[1].set_xlabel('time')\n",
    "ax[1].set_ylabel('x position')\n",
    "ax[1].plot(t,r[:,0])\n",
    "ax[2].set_xlabel('time')\n",
    "ax[2].set_ylabel('y position')\n",
    "ax[2].plot(t,r[:,1])\n",
    "\n",
    "fig.tight_layout()\n",
    "save_fig(\"2DimHOVV\")\n",
    "plt.show()"
   ]
  },
  {
   "cell_type": "markdown",
   "metadata": {},
   "source": [
    "We see that the radius (to within a given error), we obtain a constant radius.\n",
    "\n",
    "\n",
    "The following code shows first how we can solve this problem using the radial degrees of freedom only.\n",
    "Here we need to add the explicit centrifugal barrier.  Note that the variable $r$ depends only on time. There is no $x$ and $y$ directions\n",
    "since we have transformed the equations to polar coordinates."
   ]
  },
  {
   "cell_type": "code",
   "execution_count": 20,
   "metadata": {
    "collapsed": false,
    "editable": true
   },
   "outputs": [
    {
     "data": {
      "image/png": "[encoded data removed]",
      "text/plain": [
       "<Figure size 432x288 with 2 Axes>"
      ]
     },
     "metadata": {
      "filenames": {
       "image/png": "/Users/mhjensen/Teaching/Physics321/doc/LectureNotes/_build/jupyter_execute/chapter6_460_0.png"
      },
      "needs_background": "light"
     },
     "output_type": "display_data"
    }
   ],
   "source": [
    "DeltaT = 0.01\n",
    "#set up arrays \n",
    "tfinal = 10.0\n",
    "n = ceil(tfinal/DeltaT)\n",
    "# set up arrays for t, v and r\n",
    "t = np.zeros(n)\n",
    "v = np.zeros(n)\n",
    "r = np.zeros(n)\n",
    "E = np.zeros(n)\n",
    "# Constants of the model\n",
    "AngMom = 1.0  #  The angular momentum\n",
    "m = 1.0\n",
    "k = 1.0\n",
    "omega02 = k/m\n",
    "c1 = AngMom*AngMom/(m*m)\n",
    "c2 = AngMom*AngMom/m\n",
    "rmin = (AngMom*AngMom/k/m)**0.25\n",
    "# Initial conditions\n",
    "r0 = rmin\n",
    "v0 = 0.0\n",
    "r[0] = r0\n",
    "v[0] = v0\n",
    "E[0] = 0.5*m*v0*v0+0.5*k*r0*r0+0.5*c2/(r0*r0)\n",
    "# Start integrating using the Velocity-Verlet  method\n",
    "for i in range(n-1):\n",
    "    # Set up acceleration\n",
    "    a = -r[i]*omega02+c1/(r[i]**3)    \n",
    "    # update velocity, time and position using the Velocity-Verlet method\n",
    "    r[i+1] = r[i] + DeltaT*v[i]+0.5*(DeltaT**2)*a\n",
    "    anew = -r[i+1]*omega02+c1/(r[i+1]**3)\n",
    "    v[i+1] = v[i] + 0.5*DeltaT*(a+anew)\n",
    "    t[i+1] = t[i] + DeltaT\n",
    "    E[i+1] = 0.5*m*v[i+1]*v[i+1]+0.5*k*r[i+1]*r[i+1]+0.5*c2/(r[i+1]*r[i+1])\n",
    "    # Plot position as function of time\n",
    "fig, ax = plt.subplots(2,1)\n",
    "ax[0].set_xlabel('time')\n",
    "ax[0].set_ylabel('radius')\n",
    "ax[0].plot(t,r)\n",
    "ax[1].set_xlabel('time')\n",
    "ax[1].set_ylabel('Energy')\n",
    "ax[1].plot(t,E)\n",
    "save_fig(\"RadialHOVV\")\n",
    "plt.show()"
   ]
  },
  {
   "cell_type": "markdown",
   "metadata": {},
   "source": [
    "### Exercise: Equations for an ellipse\n",
    "\n",
    "Consider an ellipse defined by the sum of the distances from the two foci being $2D$, which expressed in a Cartesian coordinates with the middle of the ellipse being at the origin becomes"
   ]
  },
  {
   "cell_type": "markdown",
   "metadata": {},
   "source": [
    "$$\n",
    "\\sqrt{(x-a)^2+y^2}+\\sqrt{(x+a)^2+y^2}=2D.\n",
    "$$"
   ]
  },
  {
   "cell_type": "markdown",
   "metadata": {},
   "source": [
    "Here the two foci are at $(a,0)$ and $(-a,0)$. Show that this form is can be written as"
   ]
  },
  {
   "cell_type": "markdown",
   "metadata": {},
   "source": [
    "$$\n",
    "\\frac{x^2}{D^2}+\\frac{y^2}{D^2-a^2}=1.\n",
    "$$"
   ]
  },
  {
   "cell_type": "markdown",
   "metadata": {},
   "source": [
    "We start by squaring the two sides and, again,  after some **exciting algebraic manipulations** we arrive at"
   ]
  },
  {
   "cell_type": "markdown",
   "metadata": {},
   "source": [
    "$$\n",
    "\\sqrt{(x-a)^2+y^2}+\\sqrt{(x+a)^2+y^2} =2D\n",
    "\\\\ (x-a)^2 + y^2 + (x+a)^2 + y^2 + 2\\sqrt{(x-a)^2 + y^2}\\sqrt{(x+a)^2+y^2}  = 4D^2\n",
    "\\\\ 2y^2 + 2x^2 + 2a^2 + 2\\sqrt{(x-a)^2(x+a)^2 + y^4 + y^2[(x-a)^2+(x+a)^2]}  = 4D^2\n",
    "\\\\ y^2 + x^2 + a^2 + \\sqrt{(x^2-a^2)^2 + y^4 + y^2(2x^2+2a^2)}  = 2D^2\n",
    "\\\\ \\sqrt{(x^2-a^2)^2 + y^4 + y^2(2x^2+2a^2)}  = 2D^2 -( y^2 + x^2 + a^2 )\n",
    "\\\\ (x^2-a^2)^2 + y^4 + y^2(2x^2+2a^2)  = 4D^4 + y^4 + x^4 + a^4 - 4D^2( y^2 + x^2 + a^2 ) + 2(y^2x^2+y^2a^2+x^2a^2)\n",
    "\\\\ x^4-2x^2a^2+a^4 + y^4 + 2y^2x^2+2y^2a^2  = 4D^4 + y^4 + x^4 + a^4 - 4D^2y^2 -4D^2 x^2 -4D^2 a^2 + 2y^2x^2+2y^2a^2+2x^2a^2\n",
    "\\\\ 4D^4 - 4D^2y^2 -4D^2 x^2 -4D^2 a^2 +4x^2a^2 = 0\n",
    "\\\\ D^4 - D^2y^2 -D^2 x^2 -D^2 a^2 +x^2a^2 = 0\n",
    "\\\\ D^2(D^2-a^2) - x^2(D^2-a^2) = D^2y^2\n",
    "\\\\ D^2 - x^2 = \\frac{D^2y^2}{D^2-a^2}\n",
    "\\\\ 1 - \\frac{x^2}{D^2} = \\frac{y^2}{D^2-a^2}\n",
    "\\\\ \\frac{x^2}{D^2} + \\frac{y^2}{D^2-a^2} = 1,\n",
    "$$"
   ]
  },
  {
   "cell_type": "markdown",
   "metadata": {},
   "source": [
    "where the last line is indeed the equation for an ellipse. \n",
    "\n",
    "\n",
    "\n",
    "### Exercise: Attractive Potential\n",
    "\n",
    "Consider a particle in an attractive potential"
   ]
  },
  {
   "cell_type": "markdown",
   "metadata": {},
   "source": [
    "$$\n",
    "U(r)=-\\alpha/r.\n",
    "$$"
   ]
  },
  {
   "cell_type": "markdown",
   "metadata": {},
   "source": [
    "The quantity $r$ is the absolute value of the relative position. We\n",
    "will use the reduced mass $\\mu$ and the angular momentum $L$, as\n",
    "discussed during the lectures. With the transformation of a two-body\n",
    "problem to the center-of-mass frame, the actual equations look like an\n",
    "*effective* one-body problem. The energy of the system is $E$ and the\n",
    "minimum of the effective potential is $r_{\\rm min}$.\n",
    "\n",
    "\n",
    "The analytical solution to the radial equation of motion is"
   ]
  },
  {
   "cell_type": "markdown",
   "metadata": {},
   "source": [
    "$$\n",
    "r(\\phi) = \\frac{1}{\\frac{\\mu\\alpha}{L^2}+A\\cos{(\\phi)}}.\n",
    "$$"
   ]
  },
  {
   "cell_type": "markdown",
   "metadata": {},
   "source": [
    "Find the value of $A$. Hint: Use the fact that at $r_{\\rm min}$\n",
    "there is no radial kinetic energy and $E=-\\alpha/r_{\\rm min}+L^2/2mr_{\\rm min}^2$.\n",
    "\n",
    "At  $r_{\\mathrm{min}}$  and $r_{\\mathrm{max}}$ , all the kinetic energy is stored in the velocity in the direction perpendicular to $r$  since the radial velocity is set to zero . We can calculate using angular momentum and from there, find  𝐴  in terms of the energy  $E$  which is constant. But first, we need to find $r_{\\mathrm{min}}$  from the conservation of energy (noting that the radial velocity $\\ddot{r}$ at the mininum is zero):"
   ]
  },
  {
   "cell_type": "markdown",
   "metadata": {},
   "source": [
    "$$\n",
    "E = U(r) + \\frac{1}{2} \\mu(\\ddot{r}^2 + (r\\ddot{\\phi})^2)\n",
    "\\\\\n",
    "E = \\frac{-\\alpha}{r_{\\min}} + \\frac{1}{2} \\mu\\left( \\frac{L}{\\mu r_{\\min}}\\right) ^2\n",
    "\\\\\n",
    "E r_{\\min}^2 - \\frac{1}{2}\\mu\\left( \\frac{L}{\\mu}\\right) ^2 + \\alpha r_{\\min} = 0\n",
    "\\\\\n",
    "r_{\\min}^2 + \\frac{\\alpha}{E} r_{\\min} - \\frac{L^2}{2E\\mu} = 0\n",
    "\\\\\n",
    "r_{\\min} = - \\frac{\\alpha}{2E} \\pm \\frac{1}{2} \\sqrt{\\frac{\\alpha^2}{E^2} + 2\\frac{L^2}{E\\mu}}\n",
    "$$"
   ]
  },
  {
   "cell_type": "markdown",
   "metadata": {},
   "source": [
    "Since we're looking for the minimum, the  ±  sign must be negative (then  𝑟min  will not be negative since  𝐸<0 ). Therefore, we have"
   ]
  },
  {
   "cell_type": "markdown",
   "metadata": {},
   "source": [
    "$$\n",
    "\\frac{1}{\\frac{\\mu\\alpha}{L^2}+A} = -\\frac{\\alpha}{2E} - \\frac{1}{2} \\sqrt{\\frac{\\alpha^2}{E^2} + 2\\frac{L^2}{E\\mu}}\n",
    "\\\\\n",
    "A = - \\frac{\\mu\\alpha}{L^2} - \\frac{2E}{\\alpha + \\sqrt{\\alpha^2 + 2\\frac{L^2E}{\\mu}}}\n",
    "$$"
   ]
  },
  {
   "cell_type": "markdown",
   "metadata": {},
   "source": [
    "### Exercise: Inverse-square force\n",
    "\n",
    "Consider again the same effective potential as in the previous exercise. This leads to an attractive inverse-square-law force, $F=-\\alpha/r^2$. Consider a particle of mass $m$ with angular momentum $L$. Taylor sections 8.4-8.7 are relevant background material.  See also the harmonic oscillator potential from hw8. The equation of motion for the radial degrees of freedom is (see also hw8) in the center-of-mass frame in two dimensions with $x=r\\cos{(\\phi)}$ and $y=r\\sin{(\\phi)}$ and\n",
    "$r\\in [0,\\infty)$, $\\phi\\in [0,2\\pi]$ and $r=\\sqrt{x^2+y^2}$ are given by"
   ]
  },
  {
   "cell_type": "markdown",
   "metadata": {},
   "source": [
    "$$\n",
    "\\ddot{r}=-\\frac{1}{m}\\frac{dV(r)}{dr}+r\\dot{\\phi}^2,\n",
    "$$"
   ]
  },
  {
   "cell_type": "markdown",
   "metadata": {},
   "source": [
    "and"
   ]
  },
  {
   "cell_type": "markdown",
   "metadata": {},
   "source": [
    "$$\n",
    "\\dot{\\phi}=\\frac{L}{m r^2}.\n",
    "$$"
   ]
  },
  {
   "cell_type": "markdown",
   "metadata": {},
   "source": [
    "Here $V(r)$ is any central force which depends only on the relative coordinate.\n",
    "\n",
    "\n",
    "Find the radius of a circular orbit by solving for the position of the minimum of the effective potential."
   ]
  },
  {
   "cell_type": "markdown",
   "metadata": {},
   "source": [
    "<!-- Equation labels as ordinary links -->\n",
    "<div id=\"_auto40\"></div>\n",
    "\n",
    "$$\n",
    "\\begin{equation}\n",
    "\\frac{1}{m}\\frac{dV(r)}{dr}  = r\\dot{\\phi}^2\n",
    "\\label{_auto40} \\tag{53}\n",
    "\\end{equation}\n",
    "$$"
   ]
  },
  {
   "cell_type": "markdown",
   "metadata": {},
   "source": [
    "<!-- Equation labels as ordinary links -->\n",
    "<div id=\"_auto41\"></div>\n",
    "\n",
    "$$\n",
    "\\begin{equation}  \\frac{1}{m}\\left( -\\frac{-\\alpha}{r^2}\\right)   = r \\frac{L^2}{m^2r^4}\n",
    "\\label{_auto41} \\tag{54}\n",
    "\\end{equation}\n",
    "$$"
   ]
  },
  {
   "cell_type": "markdown",
   "metadata": {},
   "source": [
    "<!-- Equation labels as ordinary links -->\n",
    "<div id=\"_auto42\"></div>\n",
    "\n",
    "$$\n",
    "\\begin{equation}  \\frac{\\alpha}{mr^2}  = \\frac{L^2}{m^2r^3}\n",
    "\\label{_auto42} \\tag{55}\n",
    "\\end{equation}\n",
    "$$"
   ]
  },
  {
   "cell_type": "markdown",
   "metadata": {},
   "source": [
    "<!-- Equation labels as ordinary links -->\n",
    "<div id=\"_auto43\"></div>\n",
    "\n",
    "$$\n",
    "\\begin{equation}  r  = \\frac{L^2}{m\\alpha}\n",
    "\\label{_auto43} \\tag{56}\n",
    "\\end{equation}\n",
    "$$"
   ]
  },
  {
   "cell_type": "markdown",
   "metadata": {},
   "source": [
    "At the minimum, the radial velocity is zero and it is only the [centripetal velocity](https://en.wikipedia.org/wiki/Centripetal_force) which is nonzero. This implies that $\\ddot{r}=0$.  What is the angular frequency, $\\dot{\\theta}$, of the orbit? Solve this by setting $\\ddot{r}=0=F/m+\\dot{\\theta}^2r$."
   ]
  },
  {
   "cell_type": "markdown",
   "metadata": {},
   "source": [
    "<!-- Equation labels as ordinary links -->\n",
    "<div id=\"_auto44\"></div>\n",
    "\n",
    "$$\n",
    "\\begin{equation}\n",
    "\\dot{\\theta}^2 r  = - \\frac{F}{m}\n",
    "\\label{_auto44} \\tag{57}\n",
    "\\end{equation}\n",
    "$$"
   ]
  },
  {
   "cell_type": "markdown",
   "metadata": {},
   "source": [
    "<!-- Equation labels as ordinary links -->\n",
    "<div id=\"_auto45\"></div>\n",
    "\n",
    "$$\n",
    "\\begin{equation}  \\dot{\\theta}^2 r  = - \\frac{-\\frac{\\alpha}{r^2}}{m}\n",
    "\\label{_auto45} \\tag{58}\n",
    "\\end{equation}\n",
    "$$"
   ]
  },
  {
   "cell_type": "markdown",
   "metadata": {},
   "source": [
    "<!-- Equation labels as ordinary links -->\n",
    "<div id=\"_auto46\"></div>\n",
    "\n",
    "$$\n",
    "\\begin{equation}  \\dot{\\theta}^2  = \\frac{\\alpha}{mr^3}\n",
    "\\label{_auto46} \\tag{59}\n",
    "\\end{equation}\n",
    "$$"
   ]
  },
  {
   "cell_type": "markdown",
   "metadata": {},
   "source": [
    "<!-- Equation labels as ordinary links -->\n",
    "<div id=\"_auto47\"></div>\n",
    "\n",
    "$$\n",
    "\\begin{equation}  \\dot{\\theta}  = \\pm \\sqrt{\\frac{\\alpha}{mr^3}}\n",
    "\\label{_auto47} \\tag{60}\n",
    "\\end{equation}\n",
    "$$"
   ]
  },
  {
   "cell_type": "markdown",
   "metadata": {},
   "source": [
    "<!-- Equation labels as ordinary links -->\n",
    "<div id=\"_auto48\"></div>\n",
    "\n",
    "$$\n",
    "\\begin{equation}  \\dot{\\theta}  = \\pm \\sqrt{\\frac{\\alpha}{m\\frac{L^6}{m^3\\alpha^3}}}\n",
    "\\label{_auto48} \\tag{61}\n",
    "\\end{equation}\n",
    "$$"
   ]
  },
  {
   "cell_type": "markdown",
   "metadata": {},
   "source": [
    "<!-- Equation labels as ordinary links -->\n",
    "<div id=\"_auto49\"></div>\n",
    "\n",
    "$$\n",
    "\\begin{equation}  \\dot{\\theta}  = \\pm \\sqrt{\\frac{\\alpha^4m^2}{L^6}}\n",
    "\\label{_auto49} \\tag{62}\n",
    "\\end{equation}\n",
    "$$"
   ]
  },
  {
   "cell_type": "markdown",
   "metadata": {},
   "source": [
    "<!-- Equation labels as ordinary links -->\n",
    "<div id=\"_auto50\"></div>\n",
    "\n",
    "$$\n",
    "\\begin{equation}  \\dot{\\theta}  = \\pm \\frac{\\alpha^2m}{L^3}\n",
    "\\label{_auto50} \\tag{63}\n",
    "\\end{equation}\n",
    "$$"
   ]
  },
  {
   "cell_type": "markdown",
   "metadata": {},
   "source": [
    "Find the effective spring constant for the particle at the minimum.\n",
    "\n",
    "We have shown in class that from the taylor expansion, we have"
   ]
  },
  {
   "cell_type": "markdown",
   "metadata": {},
   "source": [
    "$$\n",
    "k = \\frac{d^2V_{\\text{eff}}}{dr^2}\n",
    "$$"
   ]
  },
  {
   "cell_type": "markdown",
   "metadata": {},
   "source": [
    "Therefore, all we have to do is find the second derivative of $V_{\\text{eff}}$ around the minimum point of $V_{\\text{eff}}$ where $\\dot{r} = \\ddot{r} = 0$."
   ]
  },
  {
   "cell_type": "markdown",
   "metadata": {},
   "source": [
    "<!-- Equation labels as ordinary links -->\n",
    "<div id=\"_auto51\"></div>\n",
    "\n",
    "$$\n",
    "\\begin{equation}\n",
    "k  = \\frac{d^2V_{\\text{eff}}}{dr^2}\n",
    "\\label{_auto51} \\tag{64}\n",
    "\\end{equation}\n",
    "$$"
   ]
  },
  {
   "cell_type": "markdown",
   "metadata": {},
   "source": [
    "<!-- Equation labels as ordinary links -->\n",
    "<div id=\"_auto52\"></div>\n",
    "\n",
    "$$\n",
    "\\begin{equation}   = \\frac{d^2\\left( -\\frac{\\alpha}{r} + \\frac{1}{2} \\frac{L^2}{mr^2}\\right) }{dr^2}\n",
    "\\label{_auto52} \\tag{65}\n",
    "\\end{equation}\n",
    "$$"
   ]
  },
  {
   "cell_type": "markdown",
   "metadata": {},
   "source": [
    "<!-- Equation labels as ordinary links -->\n",
    "<div id=\"_auto53\"></div>\n",
    "\n",
    "$$\n",
    "\\begin{equation}   = -\\frac{2\\alpha}{r^3} + \\frac{3L^2}{mr^4}\n",
    "\\label{_auto53} \\tag{66}\n",
    "\\end{equation}\n",
    "$$"
   ]
  },
  {
   "cell_type": "markdown",
   "metadata": {},
   "source": [
    "<!-- Equation labels as ordinary links -->\n",
    "<div id=\"_auto54\"></div>\n",
    "\n",
    "$$\n",
    "\\begin{equation}   = -\\frac{2\\alpha}{\\frac{L^6}{m^3\\alpha^3}} + \\frac{3L^2}{m\\frac{L^8}{m^4\\alpha^4}}\n",
    "\\label{_auto54} \\tag{67}\n",
    "\\end{equation}\n",
    "$$"
   ]
  },
  {
   "cell_type": "markdown",
   "metadata": {},
   "source": [
    "<!-- Equation labels as ordinary links -->\n",
    "<div id=\"_auto55\"></div>\n",
    "\n",
    "$$\n",
    "\\begin{equation}   = -\\frac{2m^3\\alpha^4}{L^6} + \\frac{3m^3\\alpha^4}{L^6}\n",
    "\\label{_auto55} \\tag{68}\n",
    "\\end{equation}\n",
    "$$"
   ]
  },
  {
   "cell_type": "markdown",
   "metadata": {},
   "source": [
    "<!-- Equation labels as ordinary links -->\n",
    "<div id=\"_auto56\"></div>\n",
    "\n",
    "$$\n",
    "\\begin{equation}   = \\frac{m^3\\alpha^4}{L^6}\n",
    "\\label{_auto56} \\tag{69}\n",
    "\\end{equation}\n",
    "$$"
   ]
  },
  {
   "cell_type": "markdown",
   "metadata": {},
   "source": [
    "What is the angular frequency for small vibrations about the minimum? How does this compare with the answer to (3b)?\n",
    "\n",
    "For small deviations $\\delta r$ of $r$,"
   ]
  },
  {
   "cell_type": "markdown",
   "metadata": {},
   "source": [
    "$$\n",
    "m\\frac{d^2\\left(  \\delta r \\right) }{dt^2} = -k \\delta r\n",
    "$$"
   ]
  },
  {
   "cell_type": "markdown",
   "metadata": {},
   "source": [
    "The solution of this differential equation is of the form"
   ]
  },
  {
   "cell_type": "markdown",
   "metadata": {},
   "source": [
    "$$\n",
    "\\delta r = A \\cos(\\omega t + \\phi)\n",
    "$$"
   ]
  },
  {
   "cell_type": "markdown",
   "metadata": {},
   "source": [
    "where"
   ]
  },
  {
   "cell_type": "markdown",
   "metadata": {},
   "source": [
    "<!-- Equation labels as ordinary links -->\n",
    "<div id=\"_auto57\"></div>\n",
    "\n",
    "$$\n",
    "\\begin{equation}\n",
    "\\omega =  \\sqrt{\\frac{k}{m}}\n",
    "\\label{_auto57} \\tag{70}\n",
    "\\end{equation}\n",
    "$$"
   ]
  },
  {
   "cell_type": "markdown",
   "metadata": {},
   "source": [
    "<!-- Equation labels as ordinary links -->\n",
    "<div id=\"_auto58\"></div>\n",
    "\n",
    "$$\n",
    "\\begin{equation}   = \\sqrt{\\frac{m^2\\alpha^4}{L^6}} \n",
    "\\label{_auto58} \\tag{71}\n",
    "\\end{equation}\n",
    "$$"
   ]
  },
  {
   "cell_type": "markdown",
   "metadata": {},
   "source": [
    "<!-- Equation labels as ordinary links -->\n",
    "<div id=\"_auto59\"></div>\n",
    "\n",
    "$$\n",
    "\\begin{equation}   = \\frac{m\\alpha^2}{L^3}\n",
    "\\label{_auto59} \\tag{72}\n",
    "\\end{equation}\n",
    "$$"
   ]
  },
  {
   "cell_type": "markdown",
   "metadata": {},
   "source": [
    "This is in fact equal to the expression for $\\dot{\\theta}$. This means that small perturbations oscillate in sync with the orbit and this traces out an ellipse with a very small eccentricity, a very nice physical result.\n",
    "\n",
    "\n",
    "### Exercise: Inverse-square force again\n",
    "\n",
    "Consider again a  particle of mass $m$ in the same attractive potential, $U(r)=-\\alpha/r$, with angular momentum $L$ with just the right energy so that"
   ]
  },
  {
   "cell_type": "markdown",
   "metadata": {},
   "source": [
    "$$\n",
    "A=m\\alpha/L^2\n",
    "$$"
   ]
  },
  {
   "cell_type": "markdown",
   "metadata": {},
   "source": [
    "where $A$ comes from the expression"
   ]
  },
  {
   "cell_type": "markdown",
   "metadata": {},
   "source": [
    "$$\n",
    "r=\\frac{1}{(m\\alpha/L^2)+A\\cos{(\\phi)}}.\n",
    "$$"
   ]
  },
  {
   "cell_type": "markdown",
   "metadata": {},
   "source": [
    "The trajectory can then be rewritten as"
   ]
  },
  {
   "cell_type": "markdown",
   "metadata": {},
   "source": [
    "$$\n",
    "r=\\frac{2r_0}{1+\\cos\\theta},~~~r_0=\\frac{L^2}{2m\\alpha}.\n",
    "$$"
   ]
  },
  {
   "cell_type": "markdown",
   "metadata": {},
   "source": [
    "Show that for this case the total energy $E$ approaches zero."
   ]
  },
  {
   "cell_type": "markdown",
   "metadata": {},
   "source": [
    "<!-- Equation labels as ordinary links -->\n",
    "<div id=\"_auto60\"></div>\n",
    "\n",
    "$$\n",
    "\\begin{equation}\n",
    "E  = - \\frac{\\alpha}{r} + \\frac{1}{2} m \\left(  (\\dot{\\theta}r)^2+\\dot{r}^2\\right) \n",
    "\\label{_auto60} \\tag{73}\n",
    "\\end{equation}\n",
    "$$"
   ]
  },
  {
   "cell_type": "markdown",
   "metadata": {},
   "source": [
    "<!-- Equation labels as ordinary links -->\n",
    "<div id=\"_auto61\"></div>\n",
    "\n",
    "$$\n",
    "\\begin{equation}   = - \\frac{\\alpha}{r} + \\frac{1}{2} m \\left[  \\left( \\frac{L}{mr^2}r\\right) ^2+\\left( \\frac{dr}{d\\theta}\\dot{\\theta}\\right) ^2\\right] \n",
    "\\label{_auto61} \\tag{74}\n",
    "\\end{equation}\n",
    "$$"
   ]
  },
  {
   "cell_type": "markdown",
   "metadata": {},
   "source": [
    "<!-- Equation labels as ordinary links -->\n",
    "<div id=\"_auto62\"></div>\n",
    "\n",
    "$$\n",
    "\\begin{equation}   = - \\frac{\\alpha}{2r_0}(1+\\cos\\theta) + \\frac{1}{2} m \\left[  \\left( \\frac{L(1+\\cos\\theta)}{2mr_0}\\right) ^2+\\left( 2r_0\\frac{-1}{(1+\\cos\\theta)^2}(-\\sin\\theta)\\frac{L}{mr^2}\\right) ^2\\right] \n",
    "\\label{_auto62} \\tag{75}\n",
    "\\end{equation}\n",
    "$$"
   ]
  },
  {
   "cell_type": "markdown",
   "metadata": {},
   "source": [
    "<!-- Equation labels as ordinary links -->\n",
    "<div id=\"_auto63\"></div>\n",
    "\n",
    "$$\n",
    "\\begin{equation}   = - \\frac{\\alpha}{2r_0}(1+\\cos\\theta) + \\frac{1}{2} m \\left[  \\left( \\frac{L(1+\\cos\\theta)}{2mr_0}\\right) ^2+\\left( 2r_0\\frac{-1}{(1+\\cos\\theta)^2}(-\\sin\\theta)\\frac{L(1+\\cos\\theta)^2}{4mr_0^2}\\right) ^2\\right] \n",
    "\\label{_auto63} \\tag{76}\n",
    "\\end{equation}\n",
    "$$"
   ]
  },
  {
   "cell_type": "markdown",
   "metadata": {},
   "source": [
    "<!-- Equation labels as ordinary links -->\n",
    "<div id=\"_auto64\"></div>\n",
    "\n",
    "$$\n",
    "\\begin{equation}   = - \\frac{\\alpha}{2r_0}(1+\\cos\\theta) + \n",
    "\\frac{1}{2} m \\left[  \\left( \\frac{L(1+\\cos\\theta)}{2mr_0}\\right) ^2+\\left( \\sin\\theta\\frac{L}{2mr_0}\\right) ^2\\right] \n",
    "\\label{_auto64} \\tag{77}\n",
    "\\end{equation}\n",
    "$$"
   ]
  },
  {
   "cell_type": "markdown",
   "metadata": {},
   "source": [
    "<!-- Equation labels as ordinary links -->\n",
    "<div id=\"_auto65\"></div>\n",
    "\n",
    "$$\n",
    "\\begin{equation}   = - \\frac{\\alpha}{2r_0}(1+\\cos\\theta) + \n",
    "\\frac{1}{2} m \\left[  \\left( \\frac{L(1+\\cos\\theta)}{2mr_0}\\right) ^2+\\left( \\sin\\theta\\frac{L}{2mr_0}\\right) ^2\\right] \n",
    "\\label{_auto65} \\tag{78}\n",
    "\\end{equation}\n",
    "$$"
   ]
  },
  {
   "cell_type": "markdown",
   "metadata": {},
   "source": [
    "<!-- Equation labels as ordinary links -->\n",
    "<div id=\"_auto66\"></div>\n",
    "\n",
    "$$\n",
    "\\begin{equation}   = - \\frac{\\alpha}{2r_0}(1+\\cos\\theta) + \n",
    "\\frac{1}{2} m \\frac{L^2}{4m^2r_0^2} \\left[  \\left( 1+\\cos\\theta\\right) ^2+\\left( \\sin\\theta\\right) ^2\\right] \n",
    "\\label{_auto66} \\tag{79}\n",
    "\\end{equation}\n",
    "$$"
   ]
  },
  {
   "cell_type": "markdown",
   "metadata": {},
   "source": [
    "<!-- Equation labels as ordinary links -->\n",
    "<div id=\"_auto67\"></div>\n",
    "\n",
    "$$\n",
    "\\begin{equation}   = - \\frac{\\alpha}{2r_0}(1+\\cos\\theta) + \n",
    "\\frac{1}{2} \\frac{L^2}{4mr_0^2} \\left(  1 + \\cos^2\\theta + 2\\cos \\theta + \\sin^2\\theta\\right) \n",
    "\\label{_auto67} \\tag{80}\n",
    "\\end{equation}\n",
    "$$"
   ]
  },
  {
   "cell_type": "markdown",
   "metadata": {},
   "source": [
    "<!-- Equation labels as ordinary links -->\n",
    "<div id=\"_auto68\"></div>\n",
    "\n",
    "$$\n",
    "\\begin{equation}   = - \\frac{\\alpha}{2r_0}(1+\\cos\\theta) + \n",
    "\\frac{1}{2} \\frac{L^2}{4mr_0^2} \\left(  2 + 2\\cos \\theta \\right) \n",
    "\\label{_auto68} \\tag{81}\n",
    "\\end{equation}\n",
    "$$"
   ]
  },
  {
   "cell_type": "markdown",
   "metadata": {},
   "source": [
    "<!-- Equation labels as ordinary links -->\n",
    "<div id=\"_auto69\"></div>\n",
    "\n",
    "$$\n",
    "\\begin{equation}   = (1+\\cos\\theta) \\left( - \\frac{\\alpha}{2r_0} + \\frac{L^2}{4mr_0^2}\\right) \n",
    "\\label{_auto69} \\tag{82}\n",
    "\\end{equation}\n",
    "$$"
   ]
  },
  {
   "cell_type": "markdown",
   "metadata": {},
   "source": [
    "<!-- Equation labels as ordinary links -->\n",
    "<div id=\"_auto70\"></div>\n",
    "\n",
    "$$\n",
    "\\begin{equation}   = (1+\\cos\\theta) \\left( - \\frac{\\alpha}{2\\frac{L^2}{2m\\alpha}} + \\frac{L^2}{4m\\frac{L^4}{4m^2\\alpha^2}}\\right) \n",
    "\\label{_auto70} \\tag{83}\n",
    "\\end{equation}\n",
    "$$"
   ]
  },
  {
   "cell_type": "markdown",
   "metadata": {},
   "source": [
    "<!-- Equation labels as ordinary links -->\n",
    "<div id=\"_auto71\"></div>\n",
    "\n",
    "$$\n",
    "\\begin{equation}   = (1+\\cos\\theta) \\left( - \\frac{m\\alpha^2}{L^2} + \\frac{m\\alpha^2}{L^2}\\right) \n",
    "\\label{_auto71} \\tag{84}\n",
    "\\end{equation}\n",
    "$$"
   ]
  },
  {
   "cell_type": "markdown",
   "metadata": {},
   "source": [
    "<!-- Equation labels as ordinary links -->\n",
    "<div id=\"_auto72\"></div>\n",
    "\n",
    "$$\n",
    "\\begin{equation}   = 0\n",
    "\\label{_auto72} \\tag{85}\n",
    "\\end{equation}\n",
    "$$"
   ]
  },
  {
   "cell_type": "markdown",
   "metadata": {},
   "source": [
    "With zero energy $E=0$, write this trajectory in a more recognizable parabolic form, that is express $x_0$ and $R$ in terms of $r_0$ using"
   ]
  },
  {
   "cell_type": "markdown",
   "metadata": {},
   "source": [
    "$$\n",
    "x=x_0-\\frac{y^2}{R}.\n",
    "$$"
   ]
  },
  {
   "cell_type": "markdown",
   "metadata": {},
   "source": [
    "We have that"
   ]
  },
  {
   "cell_type": "markdown",
   "metadata": {},
   "source": [
    "<!-- Equation labels as ordinary links -->\n",
    "<div id=\"_auto73\"></div>\n",
    "\n",
    "$$\n",
    "\\begin{equation}\n",
    "x  = r \\cos\\theta\n",
    "\\label{_auto73} \\tag{86}\n",
    "\\end{equation}\n",
    "$$"
   ]
  },
  {
   "cell_type": "markdown",
   "metadata": {},
   "source": [
    "<!-- Equation labels as ordinary links -->\n",
    "<div id=\"_auto74\"></div>\n",
    "\n",
    "$$\n",
    "\\begin{equation} \n",
    "y  = r \\sin \\theta.\n",
    "\\label{_auto74} \\tag{87}\n",
    "\\end{equation}\n",
    "$$"
   ]
  },
  {
   "cell_type": "markdown",
   "metadata": {},
   "source": [
    "Using the general solution with eccintricity $\\epsilon=1$, we have"
   ]
  },
  {
   "cell_type": "markdown",
   "metadata": {},
   "source": [
    "$$\n",
    "r(\\theta)=\\frac{c}{1+\\cos\\theta},\n",
    "$$"
   ]
  },
  {
   "cell_type": "markdown",
   "metadata": {},
   "source": [
    "and multiplying both sides with $1+\\cos\\theta$ and using that $x=r\\cos\\theta$,"
   ]
  },
  {
   "cell_type": "markdown",
   "metadata": {},
   "source": [
    "$$\n",
    "r = c -x,\n",
    "$$"
   ]
  },
  {
   "cell_type": "markdown",
   "metadata": {},
   "source": [
    "and using that $r^2=x^2+y^2$, we square both sides"
   ]
  },
  {
   "cell_type": "markdown",
   "metadata": {},
   "source": [
    "$$\n",
    "r^2 = x^2+y^2=c^2 +x^2-2cx,\n",
    "$$"
   ]
  },
  {
   "cell_type": "markdown",
   "metadata": {},
   "source": [
    "leading to"
   ]
  },
  {
   "cell_type": "markdown",
   "metadata": {},
   "source": [
    "$$\n",
    "y^2=c^2-2cx,\n",
    "$$"
   ]
  },
  {
   "cell_type": "markdown",
   "metadata": {},
   "source": [
    "and using that we defined"
   ]
  },
  {
   "cell_type": "markdown",
   "metadata": {},
   "source": [
    "$$\n",
    "c=2r_0=\\frac{L^2}{m\\alpha},\n",
    "$$"
   ]
  },
  {
   "cell_type": "markdown",
   "metadata": {},
   "source": [
    "we divide by $2c$ \n",
    "and we get the final answer"
   ]
  },
  {
   "cell_type": "markdown",
   "metadata": {},
   "source": [
    "$$\n",
    "x = r_0 - \\frac{y^2}{4r_0}\n",
    "$$"
   ]
  },
  {
   "cell_type": "markdown",
   "metadata": {},
   "source": [
    "### Exercise: Parabolic and hyperbolic orbits\n",
    "\n",
    "The solution to the radial function for an inverse-square-law force, see for example Taylor equation (8.59) or the equation above, is"
   ]
  },
  {
   "cell_type": "markdown",
   "metadata": {},
   "source": [
    "$$\n",
    "r(\\phi) = \\frac{c}{1+\\epsilon\\cos{(\\phi)}}.\n",
    "$$"
   ]
  },
  {
   "cell_type": "markdown",
   "metadata": {},
   "source": [
    "For $\\epsilon=1$ (or the energy $E=0$) the orbit reduces to a parabola as we saw in the previous exercise,\n",
    "while for $\\epsilon > 1$ (or energy positive) the orbit becomes a hyperbola. The equation for a hyperbola in Cartesian coordinates is"
   ]
  },
  {
   "cell_type": "markdown",
   "metadata": {},
   "source": [
    "$$\n",
    "\\frac{(x-\\delta)^2}{\\alpha^2}-\\frac{y^2}{\\beta^2}=1.\n",
    "$$"
   ]
  },
  {
   "cell_type": "markdown",
   "metadata": {},
   "source": [
    "For a hyperbola, identify the constants $\\alpha$, $\\beta$ and $\\delta$ in terms of the constants $c$ and $\\epsilon$ for $r(\\phi)$."
   ]
  },
  {
   "cell_type": "markdown",
   "metadata": {},
   "source": [
    "<!-- Equation labels as ordinary links -->\n",
    "<div id=\"_auto75\"></div>\n",
    "\n",
    "$$\n",
    "\\begin{equation}\n",
    "x  = r\\cos\\phi\n",
    "\\label{_auto75} \\tag{88}\n",
    "\\end{equation}\n",
    "$$"
   ]
  },
  {
   "cell_type": "markdown",
   "metadata": {},
   "source": [
    "<!-- Equation labels as ordinary links -->\n",
    "<div id=\"_auto76\"></div>\n",
    "\n",
    "$$\n",
    "\\begin{equation}   = \\frac{c\\cos\\phi}{1+\\epsilon\\cos\\phi}\n",
    "\\label{_auto76} \\tag{89}\n",
    "\\end{equation}\n",
    "$$"
   ]
  },
  {
   "cell_type": "markdown",
   "metadata": {},
   "source": [
    "<!-- Equation labels as ordinary links -->\n",
    "<div id=\"_auto77\"></div>\n",
    "\n",
    "$$\n",
    "\\begin{equation}\n",
    "y  = r\\sin\\phi \n",
    "\\label{_auto77} \\tag{90}\n",
    "\\end{equation}\n",
    "$$"
   ]
  },
  {
   "cell_type": "markdown",
   "metadata": {},
   "source": [
    "<!-- Equation labels as ordinary links -->\n",
    "<div id=\"_auto78\"></div>\n",
    "\n",
    "$$\n",
    "\\begin{equation}   = \\frac{c\\sin\\phi}{1+\\epsilon\\cos\\phi}\n",
    "\\label{_auto78} \\tag{91}\n",
    "\\end{equation}\n",
    "$$"
   ]
  },
  {
   "cell_type": "markdown",
   "metadata": {},
   "source": [
    "Here $\\epsilon>1$.  We use our equation for $r$, multiply with the denominator $1+\\epsilon\\cos\\phi$ on both sides and have"
   ]
  },
  {
   "cell_type": "markdown",
   "metadata": {},
   "source": [
    "$$\n",
    "r(1+\\epsilon\\cos\\phi)=c,\n",
    "$$"
   ]
  },
  {
   "cell_type": "markdown",
   "metadata": {},
   "source": [
    "use $x=r\\cos\\phi$ and square and use that $r^2=x^2+y^2$ and we have"
   ]
  },
  {
   "cell_type": "markdown",
   "metadata": {},
   "source": [
    "$$\n",
    "r^2=x^2+y^2=c^2+\\epsilon^2x^2-2cx\\epsilon,\n",
    "$$"
   ]
  },
  {
   "cell_type": "markdown",
   "metadata": {},
   "source": [
    "and reorder"
   ]
  },
  {
   "cell_type": "markdown",
   "metadata": {},
   "source": [
    "$$\n",
    "x^2(\\epsilon^2-1)-y^2-2cx\\epsilon= -c^2.\n",
    "$$"
   ]
  },
  {
   "cell_type": "markdown",
   "metadata": {},
   "source": [
    "We complete the square in $x$ by adding and subtracting on both sides $\\epsilon^2c^2/(\\epsilon^2-1)$\n",
    "and we obtain"
   ]
  },
  {
   "cell_type": "markdown",
   "metadata": {},
   "source": [
    "$$\n",
    "(\\epsilon^2-1)(x-\\delta)^2-y^2= -c^2+\\frac{\\epsilon^2c^2}{\\epsilon^2-1}.\n",
    "$$"
   ]
  },
  {
   "cell_type": "markdown",
   "metadata": {},
   "source": [
    "Here we have defined"
   ]
  },
  {
   "cell_type": "markdown",
   "metadata": {},
   "source": [
    "$$\n",
    "\\delta = \\frac{c\\epsilon}{\\epsilon^2-1},\n",
    "$$"
   ]
  },
  {
   "cell_type": "markdown",
   "metadata": {},
   "source": [
    "and introducing the constants"
   ]
  },
  {
   "cell_type": "markdown",
   "metadata": {},
   "source": [
    "$$\n",
    "\\alpha = \\frac{c}{\\epsilon^2-1},\n",
    "$$"
   ]
  },
  {
   "cell_type": "markdown",
   "metadata": {},
   "source": [
    "and"
   ]
  },
  {
   "cell_type": "markdown",
   "metadata": {},
   "source": [
    "$$\n",
    "\\beta = \\frac{c}{\\sqrt{\\epsilon^2-1}},\n",
    "$$"
   ]
  },
  {
   "cell_type": "markdown",
   "metadata": {},
   "source": [
    "we can rewrite the above equation as"
   ]
  },
  {
   "cell_type": "markdown",
   "metadata": {},
   "source": [
    "$$\n",
    "\\frac{(x-\\delta)^2}{\\alpha^2}-\\frac{y^2}{\\beta^2}=1,\n",
    "$$"
   ]
  },
  {
   "cell_type": "markdown",
   "metadata": {},
   "source": [
    "which is nothing but the equation for a hyperbola.\n",
    "\n",
    "\n",
    "### Exercise: Testing orbit types\n",
    "\n",
    "In this exercise we can use the program for $r(\\phi)$ we developed in hw8. We will use an inverse-square-law force as in the previous four exercises. The aim is to see that the orbits we get for $E<0$ become ellipses (or circles), parabola for $E=0$ and hyperbola for $E>0$.  An example code is shown here.\n",
    "\n",
    "Here we have defined the constants $L=m=\\alpha=1$. Feel free to set new values. **You need also to set the initial conditions** in order to study the different types of orbits. It may be useful to plot the potential here and find the values for the initial conditions that fit $E<0$, $E=0$ and $E>0$."
   ]
  },
  {
   "cell_type": "code",
   "execution_count": 21,
   "metadata": {
    "collapsed": false,
    "editable": true
   },
   "outputs": [
    {
     "data": {
      "image/png": "[encoded data removed]",
      "text/plain": [
       "<Figure size 432x288 with 2 Axes>"
      ]
     },
     "metadata": {
      "filenames": {
       "image/png": "/Users/mhjensen/Teaching/Physics321/doc/LectureNotes/_build/jupyter_execute/chapter6_572_0.png"
      },
      "needs_background": "light"
     },
     "output_type": "display_data"
    }
   ],
   "source": [
    "# Common imports\n",
    "import numpy as np\n",
    "import pandas as pd\n",
    "from math import *\n",
    "import matplotlib.pyplot as plt\n",
    "# Simple Gravitational Force   -alpha/r\n",
    "    \n",
    "DeltaT = 0.01\n",
    "#set up arrays \n",
    "tfinal = 100.0\n",
    "n = ceil(tfinal/DeltaT)\n",
    "# set up arrays for t, v and r\n",
    "t = np.zeros(n)\n",
    "v = np.zeros(n)\n",
    "r = np.zeros(n)\n",
    "# Constants of the model, setting all variables to one for simplicity\n",
    "alpha = 1.0\n",
    "AngMom = 1.0  #  The angular momentum\n",
    "m = 1.0  # scale mass to one\n",
    "c1 = AngMom*AngMom/(m*m)\n",
    "c2 = AngMom*AngMom/m\n",
    "# You need to specify the initial conditions\n",
    "# Here we have chosen the conditions which lead to circular orbit and thereby a constant r\n",
    "r0 = (AngMom*AngMom/m/alpha)\n",
    "v0 = 0.0\n",
    "r[0] = r0\n",
    "v[0] = v0\n",
    "# Start integrating using the Velocity-Verlet  method\n",
    "for i in range(n-1):\n",
    "    # Set up acceleration\n",
    "    a = -alpha/(r[i]**2)+c1/(r[i]**3)\n",
    "    # update velocity, time and position using the Velocity-Verlet method\n",
    "    r[i+1] = r[i] + DeltaT*v[i]+0.5*(DeltaT**2)*a\n",
    "    anew = -alpha/(r[i+1]**2)+c1/(r[i+1]**3)\n",
    "    v[i+1] = v[i] + 0.5*DeltaT*(a+anew)\n",
    "    t[i+1] = t[i] + DeltaT\n",
    "    # Plot position as function of time\n",
    "fig, ax = plt.subplots(2,1)\n",
    "ax[0].set_xlabel('time')\n",
    "ax[0].set_ylabel('radius')\n",
    "ax[0].plot(t,r)\n",
    "ax[1].set_xlabel('time')\n",
    "ax[1].set_ylabel('Velocity')\n",
    "ax[1].plot(t,v)\n",
    "\n",
    "plt.show()"
   ]
  },
  {
   "cell_type": "markdown",
   "metadata": {},
   "source": [
    "Run your code and study and discuss the situations where you have\n",
    "elliptical, parabolic and hyperbolic orbits. Discuss the physics of\n",
    "these cases. The results from the four previous exercises 4 may be useful\n",
    "here.  In the code here we have chosen initial conditions which correspond to circular motion.\n",
    "This corresponds to"
   ]
  },
  {
   "cell_type": "markdown",
   "metadata": {},
   "source": [
    "$$\n",
    "r_{\\mathrm{min}} = \\frac{L^2}{m\\alpha}.\n",
    "$$"
   ]
  },
  {
   "cell_type": "markdown",
   "metadata": {},
   "source": [
    "Note well that the velocity is now the radial velocity. If we want to\n",
    "study the angular velocity we would need to add the equations for this\n",
    "quantity. The solution to exercises 1-4 give you the minimum $r$\n",
    "values needed to find the elliptical, parabolic and hyperbolic\n",
    "orbits. For elliptical orbits you should have $\\frac{L^2}{2m\\alpha} <\n",
    "r_{\\mathrm{min}} <\\frac{L^2}{m\\alpha}$. For parabolic orbits\n",
    "$r_{\\mathrm{min}} =\\frac{L^2}{m\\alpha}$ and for hyperbolic orbits we\n",
    "have $0<r_{\\mathrm{min}} <\\frac{L^2}{m\\alpha}$. Try out these\n",
    "different initial conditions in order to test these different types of\n",
    "motion.\n",
    "\n",
    "\n",
    "\n",
    "\n",
    "### Exercise: New reference frame\n",
    "\n",
    "Show that if one transforms to a reference frame where the total\n",
    "momentum is zero, $\\boldsymbol{p}_1=-\\boldsymbol{p}_2$, that the relative momentum\n",
    "$\\boldsymbol{q}$ corresponds to either $\\boldsymbol{p}_1$ or $-\\boldsymbol{p}_2$. This\n",
    "means that in this frame the magnitude of $\\boldsymbol{q}$ is one half the\n",
    "magnitude of $\\boldsymbol{p}_1-\\boldsymbol{p}_2$.\n",
    "\n",
    "### Exercise: Center of mass and relative coordinates\n",
    "\n",
    "Given the center of mass and relative coordinates $\\boldsymbol{R}$ and $\\boldsymbol{r}$, respectively, for\n",
    "particles of mass $m_1$ and $m_2$, find the coordinates $\\boldsymbol{r}_1$\n",
    "and $\\boldsymbol{r}_2$ in terms of the masses, $\\boldsymbol{R}$ and $\\boldsymbol{r}$.\n",
    "\n",
    "\n",
    "### Exercise: Two-body problems\n",
    "\n",
    "Consider a particle of mass $m$ moving in a potential"
   ]
  },
  {
   "cell_type": "markdown",
   "metadata": {},
   "source": [
    "$$\n",
    "V(r)=\\alpha\\ln(r/\\alpha),\n",
    "$$"
   ]
  },
  {
   "cell_type": "markdown",
   "metadata": {},
   "source": [
    "where $\\alpha$ is a constant.\n",
    "\n",
    "* (a) If the particle is moving in a circular orbit of radius $R$, find the angular frequency $\\dot{\\theta}$. Solve this by setting $F=-m\\dot{\\theta}^2r$ (force and acceleration point inward).\n",
    "\n",
    "* (b) Express the angular momentum $L$ in terms of the constant $\\alpha$, the mass $m$ and the radius $R$. Also express $R$ in terms of $L$, $\\alpha$ and $m$.\n",
    "\n",
    "* (c) Sketch the effective radial potential, $V_{\\rm eff}(r)$, for a particle with angular momentum $L$. (No longer necessarily moving in a circular orbit.)\n",
    "\n",
    "* (d) Find the position of the minimum of $V_{\\rm eff}$ in terms of $L$, $\\alpha$ and $m$, then compare to the result of (b).\n",
    "\n",
    "* (e)  What is the effective spring constant for a particle at the minimum of $V_{\\rm eff}$? Express your answer in terms of $L$, $m$ and $\\alpha$. \n",
    "\n",
    "* (f)   What is the angular frequency, $\\omega$, for small oscillations of $r$ about the $R_{\\rm min}$?  Express your answer in terms of $\\dot{\\theta}$ from part (3a)."
   ]
  }
 ],
 "metadata": {
  "language_info": {
   "codemirror_mode": {
    "name": "ipython",
    "version": 3
   },
   "file_extension": ".py",
   "mimetype": "text/x-python",
   "name": "python",
   "nbconvert_exporter": "python",
   "pygments_lexer": "ipython3",
   "version": "3.9.7"
  }
 },
 "nbformat": 4,
 "nbformat_minor": 4
}