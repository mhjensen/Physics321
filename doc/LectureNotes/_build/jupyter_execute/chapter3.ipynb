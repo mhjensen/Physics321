{
 "cells": [
  {
   "cell_type": "markdown",
   "metadata": {},
   "source": [
    "# Simple Motion problems and Reminder on Newton's Laws\n",
    "\n",
    "\n",
    "## Basic Steps of Scientific Investigations\n",
    "\n",
    "\n",
    "An overarching aim in this course is to give you a deeper\n",
    "understanding of the scientific method. The problems we study will all\n",
    "involve cases where we can apply classical mechanics. In our previous\n",
    "material we already assumed that we had a model for the motion of an\n",
    "object.  Alternatively we could have data from experiment (like Usain\n",
    "Bolt's 100m world record run in 2008).  Or we could have performed\n",
    "ourselves an experiment and we want to understand which forces are at\n",
    "play and whether these forces can be understood in terms of\n",
    "fundamental forces.\n",
    "\n",
    "Our first step consists in identifying the problem. What we sketch\n",
    "here may include a mix of experiment and theoretical simulations, or\n",
    "just experiment or only theory.\n",
    "\n",
    "\n",
    "### Identifying our System\n",
    "\n",
    "Here we can ask questions like\n",
    "1. What kind of object is moving\n",
    "\n",
    "2. What kind of data do we have\n",
    "\n",
    "3. How do we measure position, velocity, acceleration etc\n",
    "\n",
    "4. Which initial conditions influence our system\n",
    "\n",
    "5. Other aspects which allow us to identify the system\n",
    "\n",
    "### Defining a Model\n",
    "\n",
    "With our eventual data and observations we would now like to develop a\n",
    "model for the system. In the end we want obviously to be able to\n",
    "understand which forces are at play and how they influence our\n",
    "specific system. That is, can we extract some deeper insights about a\n",
    "system?\n",
    "\n",
    "We need then to\n",
    "1. Find the forces that act on our system\n",
    "\n",
    "2. Introduce models for the forces\n",
    "\n",
    "3. Identify the equations which can govern the system (Newton's second law for example)\n",
    "\n",
    "4. More elements we deem important for defining our model\n",
    "\n",
    "### Solving the Equations\n",
    "\n",
    "With the model at hand, we can then solve the equations. In classical mechanics we normally end up  with solving sets of coupled ordinary differential equations or partial differential equations.\n",
    "1. Using Newton's second law we have equations of the type $\\boldsymbol{F}=m\\boldsymbol{a}=md\\boldsymbol{v}/dt$\n",
    "\n",
    "2. We need to  define the initial conditions (typically the initial velocity and position as functions of time) and/or initial conditions and boundary conditions\n",
    "\n",
    "3. The solution of the equations give us then the position, the velocity and other time-dependent quantities which may specify the motion of a given object.\n",
    "\n",
    "We are not yet done. With our lovely solvers, we need to start thinking.\n",
    "\n",
    "\n",
    "### Analyze\n",
    "\n",
    "Now it is time to ask the big questions. What do our results mean? Can we give a simple interpretation in terms of fundamental laws?  What do our results mean? Are they correct?\n",
    "Thus, typical questions we may ask are\n",
    "1. Are our results for say $\\boldsymbol{r}(t)$ valid?  Do we trust what we did?  Can you validate and verify the correctness of your results?\n",
    "\n",
    "2. Evaluate the answers and their implications\n",
    "\n",
    "3. Compare with experimental data if possible. Does our model make sense?\n",
    "\n",
    "4. and obviously many other questions.\n",
    "\n",
    "The analysis stage feeds back to the first stage. It may happen that\n",
    "the data we had were not good enough, there could be large statistical\n",
    "uncertainties. We may need to collect more data or perhaps we did a\n",
    "sloppy job in identifying the degrees of freedom.\n",
    "\n",
    "All these steps are essential elements in a scientific\n",
    "enquiry. Hopefully, through a mix of numerical simulations, analytical\n",
    "calculations and experiments we may gain a deeper insight about the\n",
    "physics of a specific system.\n",
    "\n",
    "\n",
    "## Newton's Laws\n",
    "\n",
    "Let us now remind ourselves of Newton's laws, since these are the laws of motion we will study in this course.\n",
    "\n",
    "\n",
    "When analyzing a physical system we normally start with distinguishing between the object we are studying (we will label this in more general terms as our **system**) and how this system interacts with the environment (which often means everything else!)\n",
    "\n",
    "In our investigations we will thus analyze a specific physics problem in terms of the system and the environment.\n",
    "In doing so we need to identify the forces that act on the system and assume that the\n",
    "forces acting on the system must have a source, an identifiable cause in\n",
    "the environment.\n",
    "\n",
    "A force acting on for example a falling object must be related to an interaction with something in the environment.\n",
    "This also means that we do not consider internal forces. The latter are forces between\n",
    "one part of the object and another part. In this course we will mainly focus on external forces.\n",
    "\n",
    "Forces are either contact forces or long-range forces.\n",
    "\n",
    "Contact forces, as evident from the name, are forces that occur at the contact between\n",
    "the system and the environment. Well-known long-range forces are the gravitional force and the electromagnetic force.\n",
    "\n",
    "\n",
    "\n",
    "\n",
    "In order to set up the forces which act on an object, the following steps may be useful\n",
    "1. Divide the problem into system and environment.\n",
    "\n",
    "2. Draw a figure of the object and everything in contact with the object.\n",
    "\n",
    "3. Draw a closed curve around the system.\n",
    "\n",
    "4. Find contact points—these are the points where contact forces may act.\n",
    "\n",
    "5. Give names and symbols to all the contact forces.\n",
    "\n",
    "6. Identify the long-range forces.\n",
    "\n",
    "7. Make a drawing of the object. Draw the forces as arrows, vectors, starting from where the force is acting. The direction of the vector(s) indicates the (positive) direction of the force. Try to make the length of the arrow indicate the relative magnitude of the forces.\n",
    "\n",
    "8. Draw in the axes of the coordinate system. It is often convenient to make one axis parallel to the direction of motion. When you choose the direction of the axis you also choose the positive direction for the axis.\n",
    "\n",
    "Newton’s second law of motion: The force $\\boldsymbol{F}$ on an object of inertial mass $m$\n",
    "is related to the acceleration a of the object through"
   ]
  },
  {
   "cell_type": "markdown",
   "metadata": {},
   "source": [
    "$$\n",
    "\\boldsymbol{F} = m\\boldsymbol{a},\n",
    "$$"
   ]
  },
  {
   "cell_type": "markdown",
   "metadata": {},
   "source": [
    "where $\\boldsymbol{a}$ is the acceleration.\n",
    "\n",
    "Newton’s laws of motion are laws of nature that have been found by experimental\n",
    "investigations and have been shown to hold up to continued experimental investigations.\n",
    "Newton’s laws are valid over a wide range of length- and time-scales. We\n",
    "use Newton’s laws of motion to describe everything from the motion of atoms to the\n",
    "motion of galaxies.\n",
    "\n",
    "The second law is a vector equation with the acceleration having the same\n",
    "direction as the force. The acceleration is proportional to the force via the mass $m$ of the system under study.\n",
    "\n",
    "\n",
    "Newton’s second law introduces a new property of an object, the so-called \n",
    "inertial mass $m$. We determine the inertial mass of an object by measuring the\n",
    "acceleration for a given applied force.\n",
    "\n",
    "\n",
    "\n",
    "### Then the First Law\n",
    "\n",
    "What happens if the net external force on a body is zero? Applying Newton’s second\n",
    "law, we find:"
   ]
  },
  {
   "cell_type": "markdown",
   "metadata": {},
   "source": [
    "$$\n",
    "\\boldsymbol{F} = 0 = m\\boldsymbol{a},\n",
    "$$"
   ]
  },
  {
   "cell_type": "markdown",
   "metadata": {},
   "source": [
    "which gives using the definition of the acceleration"
   ]
  },
  {
   "cell_type": "markdown",
   "metadata": {},
   "source": [
    "$$\n",
    "\\boldsymbol{a} = \\frac{d\\boldsymbol{v}}{dt}=0.\n",
    "$$"
   ]
  },
  {
   "cell_type": "markdown",
   "metadata": {},
   "source": [
    "The acceleration is zero, which means that the velocity of the object is constant. This\n",
    "is often referred to as Newton’s first law. An object in a state of uniform motion tends to remain in\n",
    "that state unless an external force changes its state of motion.\n",
    "Why do we need a separate law for this? Is it not simply a special case of Newton’s\n",
    "second law? Yes, Newton’s first law can be deduced from the second law as we have\n",
    "illustrated. However, the first law is often used for a different purpose: Newton’s\n",
    "First Law tells us about the limit of applicability of Newton’s Second law. Newton’s\n",
    "Second law can only be used in reference systems where the First law is obeyed. But\n",
    "is not the First law always valid? No! The First law is only valid in reference systems\n",
    "that are not accelerated. If you observe the motion of a ball from an accelerating\n",
    "car, the ball will appear to accelerate even if there are no forces acting on it. We call\n",
    "systems that are not accelerating inertial systems, and Newton’s first law is often\n",
    "called the law of inertia. Newton’s first and second laws of motion are only valid in\n",
    "inertial systems. \n",
    "\n",
    "A system is an inertial system if it is not accelerated. It means that the reference system\n",
    "must not be accelerating linearly or rotating. Unfortunately, this means that most\n",
    "systems we know are not really inertial systems. For example, the surface of the\n",
    "Earth is clearly not an inertial system, because the Earth is rotating. The Earth is also\n",
    "not an inertial system, because it ismoving in a curved path around the Sun. However,\n",
    "even if the surface of the Earth is not strictly an inertial system, it may be considered\n",
    "to be approximately an inertial system for many laboratory-size experiments.\n",
    "\n",
    "\n",
    "### And finally the Third Law\n",
    "\n",
    "If there is a force from object A on object B, there is also a force from object B on object A.\n",
    "This fundamental principle of interactions is called Newton’s third law. We do not\n",
    "know of any force that do not obey this law: All forces appear in pairs. Newton’s\n",
    "third law is usually formulated as: For every action there is an equal and opposite\n",
    "reaction.\n",
    "\n",
    "\n",
    "\n",
    "\n",
    "\n",
    "\n",
    "\n",
    "## Falling baseball in one dimension\n",
    "\n",
    "We anticipate the mathematical model to come and assume that we have a\n",
    "model for the motion of a falling baseball without air resistance.\n",
    "Our system (the baseball) is at an initial height $y_0$ (which we will\n",
    "specify in the program below) at the initial time $t_0=0$. In our program example here we will plot the position in steps of $\\Delta t$ up to a final time $t_f$. \n",
    "The mathematical formula for the position $y(t)$ as function of time $t$ is"
   ]
  },
  {
   "cell_type": "markdown",
   "metadata": {},
   "source": [
    "$$\n",
    "y(t) = y_0-\\frac{1}{2}gt^2,\n",
    "$$"
   ]
  },
  {
   "cell_type": "markdown",
   "metadata": {},
   "source": [
    "where $g=9.80665=0.980655\\times 10^1$m/s$^2$ is a constant representing the standard acceleration due to gravity.\n",
    "We have here adopted the conventional standard value. This does not take into account other effects, such as buoyancy or drag.\n",
    "Furthermore, we stop when the ball hits the ground, which takes place at"
   ]
  },
  {
   "cell_type": "markdown",
   "metadata": {},
   "source": [
    "$$\n",
    "y(t) = 0= y_0-\\frac{1}{2}gt^2,\n",
    "$$"
   ]
  },
  {
   "cell_type": "markdown",
   "metadata": {},
   "source": [
    "which gives us a final time $t_f=\\sqrt{2y_0/g}$. \n",
    "\n",
    "As of now we simply assume that   we know the formula for the falling object. Afterwards, we will derive it.\n",
    "\n",
    "\n",
    "\n",
    "We start with preparing folders for storing our calculations, figures and if needed, specific data files we use as input or output files."
   ]
  },
  {
   "cell_type": "code",
   "execution_count": 1,
   "metadata": {
    "collapsed": false,
    "editable": true
   },
   "outputs": [],
   "source": [
    "%matplotlib inline\n",
    "\n",
    "# Common imports\n",
    "import numpy as np\n",
    "import pandas as pd\n",
    "import matplotlib.pyplot as plt\n",
    "import os\n",
    "\n",
    "# Where to save the figures and data files\n",
    "PROJECT_ROOT_DIR = \"Results\"\n",
    "FIGURE_ID = \"Results/FigureFiles\"\n",
    "DATA_ID = \"DataFiles/\"\n",
    "\n",
    "if not os.path.exists(PROJECT_ROOT_DIR):\n",
    "    os.mkdir(PROJECT_ROOT_DIR)\n",
    "\n",
    "if not os.path.exists(FIGURE_ID):\n",
    "    os.makedirs(FIGURE_ID)\n",
    "\n",
    "if not os.path.exists(DATA_ID):\n",
    "    os.makedirs(DATA_ID)\n",
    "\n",
    "def image_path(fig_id):\n",
    "    return os.path.join(FIGURE_ID, fig_id)\n",
    "\n",
    "def data_path(dat_id):\n",
    "    return os.path.join(DATA_ID, dat_id)\n",
    "\n",
    "def save_fig(fig_id):\n",
    "    plt.savefig(image_path(fig_id) + \".png\", format='png')\n",
    "\n",
    "#in case we have an input file we wish to read in\n",
    "#infile = open(data_path(\"MassEval2016.dat\"),'r')"
   ]
  },
  {
   "cell_type": "markdown",
   "metadata": {},
   "source": [
    "You could also define a function for making our plots. You\n",
    "can obviously avoid this and simply set up various **matplotlib**\n",
    "commands every time you need them. You may however find it convenient\n",
    "to collect all such commands in one function and simply call this\n",
    "function."
   ]
  },
  {
   "cell_type": "code",
   "execution_count": 2,
   "metadata": {
    "collapsed": false,
    "editable": true
   },
   "outputs": [],
   "source": [
    "from pylab import plt, mpl\n",
    "plt.style.use('seaborn')\n",
    "mpl.rcParams['font.family'] = 'serif'\n",
    "\n",
    "def MakePlot(x,y, styles, labels, axlabels):\n",
    "    plt.figure(figsize=(10,6))\n",
    "    for i in range(len(x)):\n",
    "        plt.plot(x[i], y[i], styles[i], label = labels[i])\n",
    "        plt.xlabel(axlabels[0])\n",
    "        plt.ylabel(axlabels[1])\n",
    "    plt.legend(loc=0)"
   ]
  },
  {
   "cell_type": "markdown",
   "metadata": {},
   "source": [
    "Thereafter we start setting up the code for the falling object."
   ]
  },
  {
   "cell_type": "code",
   "execution_count": 3,
   "metadata": {
    "collapsed": false,
    "editable": true
   },
   "outputs": [
    {
     "data": {
      "text/html": [
       "<div>\n",
       "<style scoped>\n",
       "    .dataframe tbody tr th:only-of-type {\n",
       "        vertical-align: middle;\n",
       "    }\n",
       "\n",
       "    .dataframe tbody tr th {\n",
       "        vertical-align: top;\n",
       "    }\n",
       "\n",
       "    .dataframe thead th {\n",
       "        text-align: right;\n",
       "    }\n",
       "</style>\n",
       "<table border=\"1\" class=\"dataframe\">\n",
       "  <thead>\n",
       "    <tr style=\"text-align: right;\">\n",
       "      <th></th>\n",
       "      <th>t[s]</th>\n",
       "      <th>y[m]</th>\n",
       "    </tr>\n",
       "  </thead>\n",
       "  <tbody>\n",
       "    <tr>\n",
       "      <th>0</th>\n",
       "      <td>0.0</td>\n",
       "      <td>10.000000</td>\n",
       "    </tr>\n",
       "    <tr>\n",
       "      <th>1</th>\n",
       "      <td>0.1</td>\n",
       "      <td>9.950967</td>\n",
       "    </tr>\n",
       "    <tr>\n",
       "      <th>2</th>\n",
       "      <td>0.2</td>\n",
       "      <td>9.803869</td>\n",
       "    </tr>\n",
       "    <tr>\n",
       "      <th>3</th>\n",
       "      <td>0.3</td>\n",
       "      <td>9.558705</td>\n",
       "    </tr>\n",
       "    <tr>\n",
       "      <th>4</th>\n",
       "      <td>0.4</td>\n",
       "      <td>9.215476</td>\n",
       "    </tr>\n",
       "    <tr>\n",
       "      <th>5</th>\n",
       "      <td>0.5</td>\n",
       "      <td>8.774181</td>\n",
       "    </tr>\n",
       "    <tr>\n",
       "      <th>6</th>\n",
       "      <td>0.6</td>\n",
       "      <td>8.234821</td>\n",
       "    </tr>\n",
       "    <tr>\n",
       "      <th>7</th>\n",
       "      <td>0.7</td>\n",
       "      <td>7.597395</td>\n",
       "    </tr>\n",
       "    <tr>\n",
       "      <th>8</th>\n",
       "      <td>0.8</td>\n",
       "      <td>6.861904</td>\n",
       "    </tr>\n",
       "    <tr>\n",
       "      <th>9</th>\n",
       "      <td>0.9</td>\n",
       "      <td>6.028347</td>\n",
       "    </tr>\n",
       "    <tr>\n",
       "      <th>10</th>\n",
       "      <td>1.0</td>\n",
       "      <td>5.096725</td>\n",
       "    </tr>\n",
       "    <tr>\n",
       "      <th>11</th>\n",
       "      <td>1.1</td>\n",
       "      <td>4.067037</td>\n",
       "    </tr>\n",
       "    <tr>\n",
       "      <th>12</th>\n",
       "      <td>1.2</td>\n",
       "      <td>2.939284</td>\n",
       "    </tr>\n",
       "    <tr>\n",
       "      <th>13</th>\n",
       "      <td>1.3</td>\n",
       "      <td>1.713465</td>\n",
       "    </tr>\n",
       "    <tr>\n",
       "      <th>14</th>\n",
       "      <td>1.4</td>\n",
       "      <td>0.389581</td>\n",
       "    </tr>\n",
       "  </tbody>\n",
       "</table>\n",
       "</div>"
      ],
      "text/plain": [
       "    t[s]       y[m]\n",
       "0    0.0  10.000000\n",
       "1    0.1   9.950967\n",
       "2    0.2   9.803869\n",
       "3    0.3   9.558705\n",
       "4    0.4   9.215476\n",
       "5    0.5   8.774181\n",
       "6    0.6   8.234821\n",
       "7    0.7   7.597395\n",
       "8    0.8   6.861904\n",
       "9    0.9   6.028347\n",
       "10   1.0   5.096725\n",
       "11   1.1   4.067037\n",
       "12   1.2   2.939284\n",
       "13   1.3   1.713465\n",
       "14   1.4   0.389581"
      ]
     },
     "metadata": {},
     "output_type": "display_data"
    },
    {
     "data": {
      "image/png": "[encoded data removed]",
      "text/plain": [
       "<Figure size 576x576 with 1 Axes>"
      ]
     },
     "metadata": {
      "filenames": {
       "image/png": "/Users/mhjensen/Teaching/Physics321/doc/LectureNotes/_build/jupyter_execute/chapter3_15_1.png"
      }
     },
     "output_type": "display_data"
    }
   ],
   "source": [
    "%matplotlib inline\n",
    "import matplotlib.patches as mpatches\n",
    "\n",
    "g = 9.80655 #m/s^2\n",
    "y_0 = 10.0 # initial position in meters\n",
    "DeltaT = 0.1  # time step\n",
    "# final time when y = 0, t = sqrt(2*10/g)\n",
    "tfinal = np.sqrt(2.0*y_0/g)\n",
    "#set up arrays \n",
    "t = np.arange(0,tfinal,DeltaT)\n",
    "y =y_0 -g*.5*t**2\n",
    "# Then make a nice printout in table form using Pandas\n",
    "import pandas as pd\n",
    "from IPython.display import display\n",
    "data = {'t[s]': t,\n",
    "        'y[m]': y\n",
    "        }\n",
    "RawData = pd.DataFrame(data)\n",
    "display(RawData)\n",
    "plt.style.use('ggplot')\n",
    "plt.figure(figsize=(8,8))\n",
    "plt.scatter(t, y, color = 'b')\n",
    "blue_patch = mpatches.Patch(color = 'b', label = 'Height y as function of  time t')\n",
    "plt.legend(handles=[blue_patch])\n",
    "plt.xlabel(\"t[s]\")\n",
    "plt.ylabel(\"y[m]\")\n",
    "save_fig(\"FallingBaseball\")\n",
    "plt.show()"
   ]
  },
  {
   "cell_type": "markdown",
   "metadata": {},
   "source": [
    "Here we used **pandas** (see below) to systemize the output of the position as function of time.\n",
    "\n",
    "\n",
    "\n",
    "We define now the average velocity as"
   ]
  },
  {
   "cell_type": "markdown",
   "metadata": {},
   "source": [
    "$$\n",
    "\\overline{v}(t) = \\frac{y(t+\\Delta t)-y(t)}{\\Delta t}.\n",
    "$$"
   ]
  },
  {
   "cell_type": "markdown",
   "metadata": {},
   "source": [
    "In the code we have set the time step $\\Delta t$ to a given value. We could define it in terms of the number of points $n$ as"
   ]
  },
  {
   "cell_type": "markdown",
   "metadata": {},
   "source": [
    "$$\n",
    "\\Delta t = \\frac{t_{\\mathrm{final}-}t_{\\mathrm{initial}}}{n+1}.\n",
    "$$"
   ]
  },
  {
   "cell_type": "markdown",
   "metadata": {},
   "source": [
    "Since we have discretized the variables, we introduce the counter $i$ and let $y(t)\\rightarrow y(t_i)=y_i$ and $t\\rightarrow t_i$\n",
    "with $i=0,1,\\dots, n$. This gives us the following shorthand notations that we will use for the rest of this course. We define"
   ]
  },
  {
   "cell_type": "markdown",
   "metadata": {},
   "source": [
    "$$\n",
    "y_i = y(t_i),\\hspace{0.2cm} i=0,1,2,\\dots,n.\n",
    "$$"
   ]
  },
  {
   "cell_type": "markdown",
   "metadata": {},
   "source": [
    "This applies to other variables which depend on say time. Examples are the velocities, accelerations, momenta etc.\n",
    "Furthermore we use the shorthand"
   ]
  },
  {
   "cell_type": "markdown",
   "metadata": {},
   "source": [
    "$$\n",
    "y_{i\\pm 1} = y(t_i\\pm \\Delta t),\\hspace{0.12cm} i=0,1,2,\\dots,n.\n",
    "$$"
   ]
  },
  {
   "cell_type": "markdown",
   "metadata": {},
   "source": [
    "### Compact equations\n",
    "\n",
    "We can then rewrite in a more compact form the average velocity as"
   ]
  },
  {
   "cell_type": "markdown",
   "metadata": {},
   "source": [
    "$$\n",
    "\\overline{v}_i = \\frac{y_{i+1}-y_{i}}{\\Delta t}.\n",
    "$$"
   ]
  },
  {
   "cell_type": "markdown",
   "metadata": {},
   "source": [
    "The velocity is defined as the change in position per unit time.\n",
    "In the limit $\\Delta t \\rightarrow 0$ this defines the instantaneous velocity, which is nothing but the slope of the position at a time $t$.\n",
    "We have thus"
   ]
  },
  {
   "cell_type": "markdown",
   "metadata": {},
   "source": [
    "$$\n",
    "v(t) = \\frac{dy}{dt}=\\lim_{\\Delta t \\rightarrow 0}\\frac{y(t+\\Delta t)-y(t)}{\\Delta t}.\n",
    "$$"
   ]
  },
  {
   "cell_type": "markdown",
   "metadata": {},
   "source": [
    "Similarly, we can define the average acceleration as the change in velocity per unit time as"
   ]
  },
  {
   "cell_type": "markdown",
   "metadata": {},
   "source": [
    "$$\n",
    "\\overline{a}_i = \\frac{v_{i+1}-v_{i}}{\\Delta t},\n",
    "$$"
   ]
  },
  {
   "cell_type": "markdown",
   "metadata": {},
   "source": [
    "resulting in the instantaneous acceleration"
   ]
  },
  {
   "cell_type": "markdown",
   "metadata": {},
   "source": [
    "$$\n",
    "a(t) = \\frac{dv}{dt}=\\lim_{\\Delta t\\rightarrow 0}\\frac{v(t+\\Delta t)-v(t)}{\\Delta t}.\n",
    "$$"
   ]
  },
  {
   "cell_type": "markdown",
   "metadata": {},
   "source": [
    "**A note on notations**: When writing for example the velocity as $v(t)$ we are then referring to the continuous and instantaneous value. A subscript like\n",
    "$v_i$ refers always to the discretized values.\n",
    "\n",
    "\n",
    "We can rewrite the instantaneous acceleration as"
   ]
  },
  {
   "cell_type": "markdown",
   "metadata": {},
   "source": [
    "$$\n",
    "a(t) = \\frac{dv}{dt}=\\frac{d}{dt}\\frac{dy}{dt}=\\frac{d^2y}{dt^2}.\n",
    "$$"
   ]
  },
  {
   "cell_type": "markdown",
   "metadata": {},
   "source": [
    "This forms the starting point for our definition of forces later. It is a famous second-order differential equation. If the acceleration is constant we can now recover the formula for the falling ball we started with.\n",
    "The acceleration can depend on the position and the velocity. To be more formal we should then write the above differential equation as"
   ]
  },
  {
   "cell_type": "markdown",
   "metadata": {},
   "source": [
    "$$\n",
    "\\frac{d^2y}{dt^2}=a(t,y(t),\\frac{dy}{dt}).\n",
    "$$"
   ]
  },
  {
   "cell_type": "markdown",
   "metadata": {},
   "source": [
    "With given initial conditions for $y(t_0)$ and $v(t_0)$ we can then\n",
    "integrate the above equation and find the velocities and positions at\n",
    "a given time $t$.\n",
    "\n",
    "If we multiply with mass, we have one of the famous expressions for Newton's second law,"
   ]
  },
  {
   "cell_type": "markdown",
   "metadata": {},
   "source": [
    "$$\n",
    "F(y,v,t)=m\\frac{d^2y}{dt^2}=ma(t,y(t),\\frac{dy}{dt}),\n",
    "$$"
   ]
  },
  {
   "cell_type": "markdown",
   "metadata": {},
   "source": [
    "where $F$ is the force acting on an object with mass $m$. We see that it also has the right dimension, mass times length divided by time squared.\n",
    "We will come back to this soon.\n",
    "\n",
    "\n",
    "### Integrating our equations\n",
    "\n",
    "Formally we can then, starting with the acceleration (suppose we have measured it, how could we do that?)\n",
    "compute say the height of a building.  To see this we perform the following integrations from an initial time $t_0$  to a given time $t$"
   ]
  },
  {
   "cell_type": "markdown",
   "metadata": {},
   "source": [
    "$$\n",
    "\\int_{t_0}^t dt a(t) = \\int_{t_0}^t dt \\frac{dv}{dt} = v(t)-v(t_0),\n",
    "$$"
   ]
  },
  {
   "cell_type": "markdown",
   "metadata": {},
   "source": [
    "or as"
   ]
  },
  {
   "cell_type": "markdown",
   "metadata": {},
   "source": [
    "$$\n",
    "v(t)=v(t_0)+\\int_{t_0}^t dt a(t).\n",
    "$$"
   ]
  },
  {
   "cell_type": "markdown",
   "metadata": {},
   "source": [
    "When we know the velocity as function of time, we can find the position as function of time starting from the defintion of velocity as the derivative with respect to time, that is we have"
   ]
  },
  {
   "cell_type": "markdown",
   "metadata": {},
   "source": [
    "$$\n",
    "\\int_{t_0}^t dt v(t) = \\int_{t_0}^t dt \\frac{dy}{dt} = y(t)-y(t_0),\n",
    "$$"
   ]
  },
  {
   "cell_type": "markdown",
   "metadata": {},
   "source": [
    "or as"
   ]
  },
  {
   "cell_type": "markdown",
   "metadata": {},
   "source": [
    "$$\n",
    "y(t)=y(t_0)+\\int_{t_0}^t dt v(t).\n",
    "$$"
   ]
  },
  {
   "cell_type": "markdown",
   "metadata": {},
   "source": [
    "These equations define what is called the integration method for\n",
    "finding the position and the velocity as functions of time. There is\n",
    "no loss of generality if we extend these equations to more than one\n",
    "spatial dimension.\n",
    "\n",
    "\n",
    "Let us compute the velocity using the constant value for the acceleration given by $-g$. We have"
   ]
  },
  {
   "cell_type": "markdown",
   "metadata": {},
   "source": [
    "$$\n",
    "v(t)=v(t_0)+\\int_{t_0}^t dt a(t)=v(t_0)+\\int_{t_0}^t dt (-g).\n",
    "$$"
   ]
  },
  {
   "cell_type": "markdown",
   "metadata": {},
   "source": [
    "Using our initial time as $t_0=0$s and setting the initial velocity $v(t_0)=v_0=0$m/s we get when integrating"
   ]
  },
  {
   "cell_type": "markdown",
   "metadata": {},
   "source": [
    "$$\n",
    "v(t)=-gt.\n",
    "$$"
   ]
  },
  {
   "cell_type": "markdown",
   "metadata": {},
   "source": [
    "The more general case is"
   ]
  },
  {
   "cell_type": "markdown",
   "metadata": {},
   "source": [
    "$$\n",
    "v(t)=v_0-g(t-t_0).\n",
    "$$"
   ]
  },
  {
   "cell_type": "markdown",
   "metadata": {},
   "source": [
    "We can then integrate the velocity and obtain the final formula for the position as function of time through"
   ]
  },
  {
   "cell_type": "markdown",
   "metadata": {},
   "source": [
    "$$\n",
    "y(t)=y(t_0)+\\int_{t_0}^t dt v(t)=y_0+\\int_{t_0}^t dt v(t)=y_0+\\int_{t_0}^t dt (-gt),\n",
    "$$"
   ]
  },
  {
   "cell_type": "markdown",
   "metadata": {},
   "source": [
    "With $y_0=10$m and $t_0=0$s, we obtain the equation we started with"
   ]
  },
  {
   "cell_type": "markdown",
   "metadata": {},
   "source": [
    "$$\n",
    "y(t)=10-\\frac{1}{2}gt^2.\n",
    "$$"
   ]
  },
  {
   "cell_type": "markdown",
   "metadata": {},
   "source": [
    "### Computing the averages\n",
    "\n",
    "After this mathematical background we are now ready to compute the mean velocity using our data."
   ]
  },
  {
   "cell_type": "code",
   "execution_count": 4,
   "metadata": {
    "collapsed": false,
    "editable": true
   },
   "outputs": [
    {
     "data": {
      "text/html": [
       "<div>\n",
       "<style scoped>\n",
       "    .dataframe tbody tr th:only-of-type {\n",
       "        vertical-align: middle;\n",
       "    }\n",
       "\n",
       "    .dataframe tbody tr th {\n",
       "        vertical-align: top;\n",
       "    }\n",
       "\n",
       "    .dataframe thead th {\n",
       "        text-align: right;\n",
       "    }\n",
       "</style>\n",
       "<table border=\"1\" class=\"dataframe\">\n",
       "  <thead>\n",
       "    <tr style=\"text-align: right;\">\n",
       "      <th></th>\n",
       "      <th>t[s]</th>\n",
       "      <th>y[m]</th>\n",
       "      <th>v[m/s]</th>\n",
       "      <th>a[m/s^2]</th>\n",
       "    </tr>\n",
       "  </thead>\n",
       "  <tbody>\n",
       "    <tr>\n",
       "      <th>0</th>\n",
       "      <td>0.0</td>\n",
       "      <td>10.000000</td>\n",
       "      <td>0.000000</td>\n",
       "      <td>-9.80655</td>\n",
       "    </tr>\n",
       "    <tr>\n",
       "      <th>1</th>\n",
       "      <td>0.1</td>\n",
       "      <td>9.950967</td>\n",
       "      <td>-1.470982</td>\n",
       "      <td>-9.80655</td>\n",
       "    </tr>\n",
       "    <tr>\n",
       "      <th>2</th>\n",
       "      <td>0.2</td>\n",
       "      <td>9.803869</td>\n",
       "      <td>-2.451638</td>\n",
       "      <td>-9.80655</td>\n",
       "    </tr>\n",
       "    <tr>\n",
       "      <th>3</th>\n",
       "      <td>0.3</td>\n",
       "      <td>9.558705</td>\n",
       "      <td>-3.432292</td>\n",
       "      <td>-9.80655</td>\n",
       "    </tr>\n",
       "    <tr>\n",
       "      <th>4</th>\n",
       "      <td>0.4</td>\n",
       "      <td>9.215476</td>\n",
       "      <td>-4.412948</td>\n",
       "      <td>-9.80655</td>\n",
       "    </tr>\n",
       "    <tr>\n",
       "      <th>5</th>\n",
       "      <td>0.5</td>\n",
       "      <td>8.774181</td>\n",
       "      <td>-5.393602</td>\n",
       "      <td>-9.80655</td>\n",
       "    </tr>\n",
       "    <tr>\n",
       "      <th>6</th>\n",
       "      <td>0.6</td>\n",
       "      <td>8.234821</td>\n",
       "      <td>-6.374258</td>\n",
       "      <td>-9.80655</td>\n",
       "    </tr>\n",
       "    <tr>\n",
       "      <th>7</th>\n",
       "      <td>0.7</td>\n",
       "      <td>7.597395</td>\n",
       "      <td>-7.354913</td>\n",
       "      <td>-9.80655</td>\n",
       "    </tr>\n",
       "    <tr>\n",
       "      <th>8</th>\n",
       "      <td>0.8</td>\n",
       "      <td>6.861904</td>\n",
       "      <td>-8.335567</td>\n",
       "      <td>-9.80655</td>\n",
       "    </tr>\n",
       "    <tr>\n",
       "      <th>9</th>\n",
       "      <td>0.9</td>\n",
       "      <td>6.028347</td>\n",
       "      <td>-9.316222</td>\n",
       "      <td>-9.80655</td>\n",
       "    </tr>\n",
       "    <tr>\n",
       "      <th>10</th>\n",
       "      <td>1.0</td>\n",
       "      <td>5.096725</td>\n",
       "      <td>-10.296878</td>\n",
       "      <td>-9.80655</td>\n",
       "    </tr>\n",
       "    <tr>\n",
       "      <th>11</th>\n",
       "      <td>1.1</td>\n",
       "      <td>4.067037</td>\n",
       "      <td>-11.277533</td>\n",
       "      <td>-9.80655</td>\n",
       "    </tr>\n",
       "    <tr>\n",
       "      <th>12</th>\n",
       "      <td>1.2</td>\n",
       "      <td>2.939284</td>\n",
       "      <td>-12.258187</td>\n",
       "      <td>-9.80655</td>\n",
       "    </tr>\n",
       "  </tbody>\n",
       "</table>\n",
       "</div>"
      ],
      "text/plain": [
       "    t[s]       y[m]     v[m/s]  a[m/s^2]\n",
       "0    0.0  10.000000   0.000000  -9.80655\n",
       "1    0.1   9.950967  -1.470982  -9.80655\n",
       "2    0.2   9.803869  -2.451638  -9.80655\n",
       "3    0.3   9.558705  -3.432292  -9.80655\n",
       "4    0.4   9.215476  -4.412948  -9.80655\n",
       "5    0.5   8.774181  -5.393602  -9.80655\n",
       "6    0.6   8.234821  -6.374258  -9.80655\n",
       "7    0.7   7.597395  -7.354913  -9.80655\n",
       "8    0.8   6.861904  -8.335567  -9.80655\n",
       "9    0.9   6.028347  -9.316222  -9.80655\n",
       "10   1.0   5.096725 -10.296878  -9.80655\n",
       "11   1.1   4.067037 -11.277533  -9.80655\n",
       "12   1.2   2.939284 -12.258187  -9.80655"
      ]
     },
     "metadata": {},
     "output_type": "display_data"
    }
   ],
   "source": [
    "# Now we can compute the mean velocity using our data\n",
    "# We define first an array Vaverage\n",
    "n = np.size(t)\n",
    "Vaverage = np.zeros(n)\n",
    "for i in range(1,n-1):\n",
    "    Vaverage[i] = (y[i+1]-y[i])/DeltaT\n",
    "# Now we can compute the mean accelearatio using our data\n",
    "# We define first an array Aaverage\n",
    "n = np.size(t)\n",
    "Aaverage = np.zeros(n)\n",
    "Aaverage[0] = -g\n",
    "for i in range(1,n-1):\n",
    "    Aaverage[i] = (Vaverage[i+1]-Vaverage[i])/DeltaT\n",
    "data = {'t[s]': t,\n",
    "        'y[m]': y,\n",
    "        'v[m/s]': Vaverage,\n",
    "        'a[m/s^2]': Aaverage\n",
    "        }\n",
    "NewData = pd.DataFrame(data)\n",
    "display(NewData[0:n-2])"
   ]
  },
  {
   "cell_type": "markdown",
   "metadata": {},
   "source": [
    "Note that we don't print the last values! \n",
    "\n",
    "\n",
    "\n",
    "\n",
    "## Including Air Resistance in our model\n",
    "\n",
    "In our discussions till now of the falling baseball, we have ignored\n",
    "air resistance and simply assumed that our system is only influenced\n",
    "by the gravitational force.  We will postpone the derivation of air\n",
    "resistance till later, after our discussion of Newton's laws and\n",
    "forces.\n",
    "\n",
    "For our discussions here it suffices to state that the accelerations is now modified to"
   ]
  },
  {
   "cell_type": "markdown",
   "metadata": {},
   "source": [
    "$$\n",
    "\\boldsymbol{a}(t) = -g +D\\boldsymbol{v}(t)\\vert v(t)\\vert,\n",
    "$$"
   ]
  },
  {
   "cell_type": "markdown",
   "metadata": {},
   "source": [
    "where $\\vert v(t)\\vert$ is the absolute value of the velocity and $D$ is a constant which pertains to the specific object we are studying.\n",
    "Since we are dealing with motion in one dimension, we can simplify the above to"
   ]
  },
  {
   "cell_type": "markdown",
   "metadata": {},
   "source": [
    "$$\n",
    "a(t) = -g +Dv^2(t).\n",
    "$$"
   ]
  },
  {
   "cell_type": "markdown",
   "metadata": {},
   "source": [
    "We can rewrite this as a differential equation"
   ]
  },
  {
   "cell_type": "markdown",
   "metadata": {},
   "source": [
    "$$\n",
    "a(t) = \\frac{dv}{dt}=\\frac{d^2y}{dt^2}= -g +Dv^2(t).\n",
    "$$"
   ]
  },
  {
   "cell_type": "markdown",
   "metadata": {},
   "source": [
    "Using the integral equations discussed above we can integrate twice\n",
    "and obtain first the velocity as function of time and thereafter the\n",
    "position as function of time.\n",
    "\n",
    "For this particular case, we can actually obtain an analytical\n",
    "solution for the velocity and for the position. Here we will first\n",
    "compute the solutions analytically, thereafter we will derive Euler's\n",
    "method for solving these differential equations numerically.\n",
    "\n",
    "\n",
    "\n",
    "For simplicity let us just write $v(t)$ as $v$. We have"
   ]
  },
  {
   "cell_type": "markdown",
   "metadata": {},
   "source": [
    "$$\n",
    "\\frac{dv}{dt}= -g +Dv^2(t).\n",
    "$$"
   ]
  },
  {
   "cell_type": "markdown",
   "metadata": {},
   "source": [
    "We can solve this using the technique of separation of variables. We\n",
    "isolate on the left all terms that involve $v$ and on the right all\n",
    "terms that involve time. We get then"
   ]
  },
  {
   "cell_type": "markdown",
   "metadata": {},
   "source": [
    "$$\n",
    "\\frac{dv}{g -Dv^2(t) }= -dt,\n",
    "$$"
   ]
  },
  {
   "cell_type": "markdown",
   "metadata": {},
   "source": [
    "We scale now the equation to the left by introducing a constant\n",
    "$v_T=\\sqrt{g/D}$. This constant has dimension length/time. Can you\n",
    "show this?\n",
    "\n",
    "Next we integrate the left-hand side (lhs) from $v_0=0$ m/s to $v$ and\n",
    "the right-hand side (rhs) from $t_0=0$ to $t$ and obtain"
   ]
  },
  {
   "cell_type": "markdown",
   "metadata": {},
   "source": [
    "$$\n",
    "\\int_{0}^v\\frac{dv}{g -Dv^2(t) }= \\frac{v_T}{g}\\mathrm{arctanh}(\\frac{v}{v_T})  =-\\int_0^tdt = -t.\n",
    "$$"
   ]
  },
  {
   "cell_type": "markdown",
   "metadata": {},
   "source": [
    "We can reorganize these equations as"
   ]
  },
  {
   "cell_type": "markdown",
   "metadata": {},
   "source": [
    "$$\n",
    "v_T\\mathrm{arctanh}(\\frac{v}{v_T})  =-gt,\n",
    "$$"
   ]
  },
  {
   "cell_type": "markdown",
   "metadata": {},
   "source": [
    "which gives us $v$ as function of time"
   ]
  },
  {
   "cell_type": "markdown",
   "metadata": {},
   "source": [
    "$$\n",
    "v(t)=v_T\\tanh{-(\\frac{gt}{v_T})}.\n",
    "$$"
   ]
  },
  {
   "cell_type": "markdown",
   "metadata": {},
   "source": [
    "With the velocity we can then find the height $y(t)$ by integrating yet another time, that is"
   ]
  },
  {
   "cell_type": "markdown",
   "metadata": {},
   "source": [
    "$$\n",
    "y(t)=y(t_0)+\\int_{t_0}^t dt v(t)=\\int_{0}^t dt[v_T\\tanh{-(\\frac{gt}{v_T})}].\n",
    "$$"
   ]
  },
  {
   "cell_type": "markdown",
   "metadata": {},
   "source": [
    "This integral is a little bit trickier but we can look it up in a table over \n",
    "known integrals and we get"
   ]
  },
  {
   "cell_type": "markdown",
   "metadata": {},
   "source": [
    "$$\n",
    "y(t)=y(t_0)-\\frac{v_T^2}{g}\\log{[\\cosh{(\\frac{gt}{v_T})}]}.\n",
    "$$"
   ]
  },
  {
   "cell_type": "markdown",
   "metadata": {},
   "source": [
    "Alternatively we could have used the symbolic Python package **Sympy**  (example will be inserted later). \n",
    "\n",
    "In most cases however, we need to revert to numerical solutions. \n",
    "\n",
    "\n",
    "\n",
    "## Our first attempt at solving differential equations\n",
    "\n",
    "Here we will try the simplest possible approach to solving the second-order differential \n",
    "equation"
   ]
  },
  {
   "cell_type": "markdown",
   "metadata": {},
   "source": [
    "$$\n",
    "a(t) =\\frac{d^2y}{dt^2}= -g +Dv^2(t).\n",
    "$$"
   ]
  },
  {
   "cell_type": "markdown",
   "metadata": {},
   "source": [
    "We rewrite it as two coupled first-order equations (this is a standard approach)"
   ]
  },
  {
   "cell_type": "markdown",
   "metadata": {},
   "source": [
    "$$\n",
    "\\frac{dy}{dt} = v(t),\n",
    "$$"
   ]
  },
  {
   "cell_type": "markdown",
   "metadata": {},
   "source": [
    "with initial condition $y(t_0)=y_0$ and"
   ]
  },
  {
   "cell_type": "markdown",
   "metadata": {},
   "source": [
    "$$\n",
    "a(t) =\\frac{dv}{dt}= -g +Dv^2(t),\n",
    "$$"
   ]
  },
  {
   "cell_type": "markdown",
   "metadata": {},
   "source": [
    "with initial condition $v(t_0)=v_0$.\n",
    "\n",
    "Many of the algorithms for solving differential equations start with simple Taylor equations.\n",
    "If we now Taylor expand $y$ and $v$ around a value $t+\\Delta t$ we have"
   ]
  },
  {
   "cell_type": "markdown",
   "metadata": {},
   "source": [
    "$$\n",
    "y(t+\\Delta t) = y(t)+\\Delta t \\frac{dy}{dt}+\\frac{\\Delta t^2}{2!} \\frac{d^2y}{dt^2}+O(\\Delta t^3),\n",
    "$$"
   ]
  },
  {
   "cell_type": "markdown",
   "metadata": {},
   "source": [
    "and"
   ]
  },
  {
   "cell_type": "markdown",
   "metadata": {},
   "source": [
    "$$\n",
    "v(t+\\Delta t) = v(t)+\\Delta t \\frac{dv}{dt}+\\frac{\\Delta t^2}{2!} \\frac{d^2v}{dt^2}+O(\\Delta t^3).\n",
    "$$"
   ]
  },
  {
   "cell_type": "markdown",
   "metadata": {},
   "source": [
    "Using the fact that $dy/dt = v$ and $dv/dt=a$ and keeping only terms up to $\\Delta t$ we have"
   ]
  },
  {
   "cell_type": "markdown",
   "metadata": {},
   "source": [
    "$$\n",
    "y(t+\\Delta t) = y(t)+\\Delta t v(t)+O(\\Delta t^2),\n",
    "$$"
   ]
  },
  {
   "cell_type": "markdown",
   "metadata": {},
   "source": [
    "and"
   ]
  },
  {
   "cell_type": "markdown",
   "metadata": {},
   "source": [
    "$$\n",
    "v(t+\\Delta t) = v(t)+\\Delta t a(t)+O(\\Delta t^2).\n",
    "$$"
   ]
  },
  {
   "cell_type": "markdown",
   "metadata": {},
   "source": [
    "### Discretizing our equations\n",
    "\n",
    "Using our discretized versions of the equations with for example\n",
    "$y_{i}=y(t_i)$ and $y_{i\\pm 1}=y(t_i+\\Delta t)$, we can rewrite the\n",
    "above equations as (and truncating at $\\Delta t$)"
   ]
  },
  {
   "cell_type": "markdown",
   "metadata": {},
   "source": [
    "$$\n",
    "y_{i+1} = y_i+\\Delta t v_i,\n",
    "$$"
   ]
  },
  {
   "cell_type": "markdown",
   "metadata": {},
   "source": [
    "and"
   ]
  },
  {
   "cell_type": "markdown",
   "metadata": {},
   "source": [
    "$$\n",
    "v_{i+1} = v_i+\\Delta t a_i.\n",
    "$$"
   ]
  },
  {
   "cell_type": "markdown",
   "metadata": {},
   "source": [
    "These are the famous Euler equations (forward Euler).\n",
    "\n",
    "To solve these equations numerically we start at a time $t_0$ and simply integrate up these equations to a final time $t_f$,\n",
    "The step size $\\Delta t$ is an input  parameter in our code.\n",
    "You can define it directly in the code below as"
   ]
  },
  {
   "cell_type": "code",
   "execution_count": 5,
   "metadata": {
    "collapsed": false,
    "editable": true
   },
   "outputs": [],
   "source": [
    "DeltaT = 0.1"
   ]
  },
  {
   "cell_type": "markdown",
   "metadata": {},
   "source": [
    "With a given final time **tfinal**  we can then find the number of integration points via the **ceil** function included in the **math** package of Python\n",
    "as"
   ]
  },
  {
   "cell_type": "code",
   "execution_count": 6,
   "metadata": {
    "collapsed": false,
    "editable": true
   },
   "outputs": [
    {
     "name": "stdout",
     "output_type": "stream",
     "text": [
      "5\n"
     ]
    }
   ],
   "source": [
    "#define final time, assuming that initial time is zero\n",
    "from math import ceil\n",
    "tfinal = 0.5\n",
    "n = ceil(tfinal/DeltaT)\n",
    "print(n)"
   ]
  },
  {
   "cell_type": "markdown",
   "metadata": {},
   "source": [
    "The **ceil** function returns the smallest integer not less than the input in say"
   ]
  },
  {
   "cell_type": "code",
   "execution_count": 7,
   "metadata": {
    "collapsed": false,
    "editable": true
   },
   "outputs": [
    {
     "name": "stdout",
     "output_type": "stream",
     "text": [
      "22\n"
     ]
    }
   ],
   "source": [
    "x = 21.15\n",
    "print(ceil(x))"
   ]
  },
  {
   "cell_type": "markdown",
   "metadata": {},
   "source": [
    "which in the case here is 22."
   ]
  },
  {
   "cell_type": "code",
   "execution_count": 8,
   "metadata": {
    "collapsed": false,
    "editable": true
   },
   "outputs": [
    {
     "name": "stdout",
     "output_type": "stream",
     "text": [
      "22\n"
     ]
    }
   ],
   "source": [
    "x = 21.75\n",
    "print(ceil(x))"
   ]
  },
  {
   "cell_type": "markdown",
   "metadata": {},
   "source": [
    "which also yields 22. The  **floor** function in the **math** package\n",
    "is used to return the closest integer value which is less than or equal to the specified expression or value.\n",
    "Compare the previous result to the usage of **floor**"
   ]
  },
  {
   "cell_type": "code",
   "execution_count": 9,
   "metadata": {
    "collapsed": false,
    "editable": true
   },
   "outputs": [
    {
     "name": "stdout",
     "output_type": "stream",
     "text": [
      "21\n"
     ]
    }
   ],
   "source": [
    "from math import floor\n",
    "x = 21.75\n",
    "print(floor(x))"
   ]
  },
  {
   "cell_type": "markdown",
   "metadata": {},
   "source": [
    "Alternatively, we can define ourselves the number of integration(mesh) points. In this case we could have"
   ]
  },
  {
   "cell_type": "code",
   "execution_count": 10,
   "metadata": {
    "collapsed": false,
    "editable": true
   },
   "outputs": [
    {
     "name": "stdout",
     "output_type": "stream",
     "text": [
      "0.05\n"
     ]
    }
   ],
   "source": [
    "n = 10\n",
    "tinitial = 0.0\n",
    "tfinal = 0.5\n",
    "DeltaT = (tfinal-tinitial)/(n)\n",
    "print(DeltaT)"
   ]
  },
  {
   "cell_type": "markdown",
   "metadata": {},
   "source": [
    "Since we will set up one-dimensional arrays that contain the values of\n",
    "various variables like time, position, velocity, acceleration etc, we\n",
    "need to know the value of $n$, the number of data points (or\n",
    "integration or mesh points).  With $n$ we can initialize a given array\n",
    "by setting all elelements to zero, as done here"
   ]
  },
  {
   "cell_type": "code",
   "execution_count": 11,
   "metadata": {
    "collapsed": false,
    "editable": true
   },
   "outputs": [
    {
     "name": "stdout",
     "output_type": "stream",
     "text": [
      "[0. 0. 0. 0. 0. 0. 0. 0. 0. 0.]\n"
     ]
    }
   ],
   "source": [
    "# define array a\n",
    "a = np.zeros(n)\n",
    "print(a)"
   ]
  },
  {
   "cell_type": "markdown",
   "metadata": {},
   "source": [
    "In the code here we implement this simple Eurler scheme choosing a value for $D=0.0245$ m/s."
   ]
  },
  {
   "cell_type": "code",
   "execution_count": 12,
   "metadata": {
    "collapsed": false,
    "editable": true
   },
   "outputs": [
    {
     "data": {
      "text/html": [
       "<div>\n",
       "<style scoped>\n",
       "    .dataframe tbody tr th:only-of-type {\n",
       "        vertical-align: middle;\n",
       "    }\n",
       "\n",
       "    .dataframe tbody tr th {\n",
       "        vertical-align: top;\n",
       "    }\n",
       "\n",
       "    .dataframe thead th {\n",
       "        text-align: right;\n",
       "    }\n",
       "</style>\n",
       "<table border=\"1\" class=\"dataframe\">\n",
       "  <thead>\n",
       "    <tr style=\"text-align: right;\">\n",
       "      <th></th>\n",
       "      <th>t[s]</th>\n",
       "      <th>y[m]</th>\n",
       "      <th>v[m/s]</th>\n",
       "      <th>a[m/s^2]</th>\n",
       "    </tr>\n",
       "  </thead>\n",
       "  <tbody>\n",
       "    <tr>\n",
       "      <th>0</th>\n",
       "      <td>0.0</td>\n",
       "      <td>0.000000</td>\n",
       "      <td>0.000000</td>\n",
       "      <td>-9.806550</td>\n",
       "    </tr>\n",
       "    <tr>\n",
       "      <th>1</th>\n",
       "      <td>0.1</td>\n",
       "      <td>0.049031</td>\n",
       "      <td>-0.980655</td>\n",
       "      <td>-9.804194</td>\n",
       "    </tr>\n",
       "    <tr>\n",
       "      <th>2</th>\n",
       "      <td>0.2</td>\n",
       "      <td>0.098034</td>\n",
       "      <td>-1.961074</td>\n",
       "      <td>-9.797128</td>\n",
       "    </tr>\n",
       "    <tr>\n",
       "      <th>3</th>\n",
       "      <td>0.3</td>\n",
       "      <td>0.146963</td>\n",
       "      <td>-2.940787</td>\n",
       "      <td>-9.785362</td>\n",
       "    </tr>\n",
       "    <tr>\n",
       "      <th>4</th>\n",
       "      <td>0.4</td>\n",
       "      <td>0.195770</td>\n",
       "      <td>-3.919323</td>\n",
       "      <td>-9.768915</td>\n",
       "    </tr>\n",
       "  </tbody>\n",
       "</table>\n",
       "</div>"
      ],
      "text/plain": [
       "   t[s]      y[m]    v[m/s]  a[m/s^2]\n",
       "0   0.0  0.000000  0.000000 -9.806550\n",
       "1   0.1  0.049031 -0.980655 -9.804194\n",
       "2   0.2  0.098034 -1.961074 -9.797128\n",
       "3   0.3  0.146963 -2.940787 -9.785362\n",
       "4   0.4  0.195770 -3.919323 -9.768915"
      ]
     },
     "metadata": {},
     "output_type": "display_data"
    },
    {
     "data": {
      "image/png": "[encoded data removed]",
      "text/plain": [
       "<Figure size 432x288 with 3 Axes>"
      ]
     },
     "metadata": {
      "filenames": {
       "image/png": "/Users/mhjensen/Teaching/Physics321/doc/LectureNotes/_build/jupyter_execute/chapter3_111_1.png"
      }
     },
     "output_type": "display_data"
    }
   ],
   "source": [
    "# Common imports\n",
    "import numpy as np\n",
    "import pandas as pd\n",
    "from math import *\n",
    "import matplotlib.pyplot as plt\n",
    "import os\n",
    "\n",
    "# Where to save the figures and data files\n",
    "PROJECT_ROOT_DIR = \"Results\"\n",
    "FIGURE_ID = \"Results/FigureFiles\"\n",
    "DATA_ID = \"DataFiles/\"\n",
    "\n",
    "if not os.path.exists(PROJECT_ROOT_DIR):\n",
    "    os.mkdir(PROJECT_ROOT_DIR)\n",
    "\n",
    "if not os.path.exists(FIGURE_ID):\n",
    "    os.makedirs(FIGURE_ID)\n",
    "\n",
    "if not os.path.exists(DATA_ID):\n",
    "    os.makedirs(DATA_ID)\n",
    "\n",
    "def image_path(fig_id):\n",
    "    return os.path.join(FIGURE_ID, fig_id)\n",
    "\n",
    "def data_path(dat_id):\n",
    "    return os.path.join(DATA_ID, dat_id)\n",
    "\n",
    "def save_fig(fig_id):\n",
    "    plt.savefig(image_path(fig_id) + \".png\", format='png')\n",
    "\n",
    "\n",
    "g = 9.80655 #m/s^2\n",
    "D = 0.00245 #m/s\n",
    "DeltaT = 0.1\n",
    "#set up arrays \n",
    "tfinal = 0.5\n",
    "n = ceil(tfinal/DeltaT)\n",
    "# define scaling constant vT\n",
    "vT = sqrt(g/D)\n",
    "# set up arrays for t, a, v, and y and we can compare our results with analytical ones\n",
    "t = np.zeros(n)\n",
    "a = np.zeros(n)\n",
    "v = np.zeros(n)\n",
    "y = np.zeros(n)\n",
    "yanalytic = np.zeros(n)\n",
    "# Initial conditions\n",
    "v[0] = 0.0  #m/s\n",
    "y[0] = 10.0 #m\n",
    "yanalytic[0] = y[0]\n",
    "# Start integrating using Euler's method\n",
    "for i in range(n-1):\n",
    "    # expression for acceleration\n",
    "    a[i] = -g + D*v[i]*v[i]\n",
    "    # update velocity and position\n",
    "    y[i+1] = y[i] + DeltaT*v[i]\n",
    "    v[i+1] = v[i] + DeltaT*a[i]\n",
    "    # update time to next time step and compute analytical answer\n",
    "    t[i+1] = t[i] + DeltaT\n",
    "    yanalytic[i+1] = y[0]-(vT*vT/g)*log(cosh(g*t[i+1]/vT))\n",
    "    if ( y[i+1] < 0.0):\n",
    "        break\n",
    "a[n-1] = -g + D*v[n-1]*v[n-1]\n",
    "data = {'t[s]': t,\n",
    "        'y[m]': y-yanalytic,\n",
    "        'v[m/s]': v,\n",
    "        'a[m/s^2]': a\n",
    "        }\n",
    "NewData = pd.DataFrame(data)\n",
    "display(NewData)\n",
    "#finally we plot the data\n",
    "fig, axs = plt.subplots(3, 1)\n",
    "axs[0].plot(t, y, t, yanalytic)\n",
    "axs[0].set_xlim(0, tfinal)\n",
    "axs[0].set_ylabel('y and exact')\n",
    "axs[1].plot(t, v)\n",
    "axs[1].set_ylabel('v[m/s]')\n",
    "axs[2].plot(t, a)\n",
    "axs[2].set_xlabel('time[s]')\n",
    "axs[2].set_ylabel('a[m/s^2]')\n",
    "fig.tight_layout()\n",
    "save_fig(\"EulerIntegration\")\n",
    "plt.show()"
   ]
  },
  {
   "cell_type": "markdown",
   "metadata": {},
   "source": [
    "Try different values for $\\Delta t$ and study the difference between the exact solution and the numerical solution.\n",
    "\n",
    "\n",
    "### Simple extension, the Euler-Cromer method\n",
    "\n",
    "The Euler-Cromer method is a simple variant of the standard Euler\n",
    "method. We use the newly updated velocity $v_{i+1}$ as an input to the\n",
    "new position, that is, instead of"
   ]
  },
  {
   "cell_type": "markdown",
   "metadata": {},
   "source": [
    "$$\n",
    "y_{i+1} = y_i+\\Delta t v_i,\n",
    "$$"
   ]
  },
  {
   "cell_type": "markdown",
   "metadata": {},
   "source": [
    "and"
   ]
  },
  {
   "cell_type": "markdown",
   "metadata": {},
   "source": [
    "$$\n",
    "v_{i+1} = v_i+\\Delta t a_i,\n",
    "$$"
   ]
  },
  {
   "cell_type": "markdown",
   "metadata": {},
   "source": [
    "we use now the newly calculate for $v_{i+1}$ as input to $y_{i+1}$, that is \n",
    "we compute first"
   ]
  },
  {
   "cell_type": "markdown",
   "metadata": {},
   "source": [
    "$$\n",
    "v_{i+1} = v_i+\\Delta t a_i,\n",
    "$$"
   ]
  },
  {
   "cell_type": "markdown",
   "metadata": {},
   "source": [
    "and then"
   ]
  },
  {
   "cell_type": "markdown",
   "metadata": {},
   "source": [
    "$$\n",
    "y_{i+1} = y_i+\\Delta t v_{i+1},\n",
    "$$"
   ]
  },
  {
   "cell_type": "markdown",
   "metadata": {},
   "source": [
    "Implementing the Euler-Cromer method yields a simple change to the previous code. We only need to change the following line in the loop over time\n",
    "steps"
   ]
  },
  {
   "cell_type": "code",
   "execution_count": 13,
   "metadata": {
    "collapsed": false,
    "editable": true
   },
   "outputs": [],
   "source": [
    "for i in range(n-1):\n",
    "    # more codes in between here\n",
    "    v[i+1] = v[i] + DeltaT*a[i]\n",
    "    y[i+1] = y[i] + DeltaT*v[i+1]\n",
    "    # more code"
   ]
  },
  {
   "cell_type": "markdown",
   "metadata": {},
   "source": [
    "## Air Resistance in One Dimension\n",
    "\n",
    "\n",
    "Here we look at both a quadratic in velocity resistance\n",
    "and linear in velocity.  But first we give a qualitative argument\n",
    "about the mathematical expression for the air resistance we used last\n",
    "Friday.\n",
    "\n",
    "\n",
    "Air resistance tends to scale as the square of the velocity. This is\n",
    "in contrast to many problems chosen for textbooks, where it is linear\n",
    "in the velocity. The choice of a linear dependence is motivated by\n",
    "mathematical simplicity (it keeps the differential equation linear)\n",
    "rather than by physics. One can see that the force should be quadratic\n",
    "in velocity by considering the momentum imparted on the air\n",
    "molecules. If an object sweeps through a volume $dV$ of air in time\n",
    "$dt$, the momentum imparted on the air is"
   ]
  },
  {
   "cell_type": "markdown",
   "metadata": {},
   "source": [
    "<!-- Equation labels as ordinary links -->\n",
    "<div id=\"_auto1\"></div>\n",
    "\n",
    "$$\n",
    "\\begin{equation}\n",
    "dP=\\rho_m dV v,\n",
    "\\label{_auto1} \\tag{1}\n",
    "\\end{equation}\n",
    "$$"
   ]
  },
  {
   "cell_type": "markdown",
   "metadata": {},
   "source": [
    "where $v$ is the velocity of the object and $\\rho_m$ is the mass\n",
    "density of the air. If the molecules bounce back as opposed to stop\n",
    "you would double the size of the term. The opposite value of the\n",
    "momentum is imparted onto the object itself. Geometrically, the\n",
    "differential volume is"
   ]
  },
  {
   "cell_type": "markdown",
   "metadata": {},
   "source": [
    "<!-- Equation labels as ordinary links -->\n",
    "<div id=\"_auto2\"></div>\n",
    "\n",
    "$$\n",
    "\\begin{equation}\n",
    "dV=Avdt,\n",
    "\\label{_auto2} \\tag{2}\n",
    "\\end{equation}\n",
    "$$"
   ]
  },
  {
   "cell_type": "markdown",
   "metadata": {},
   "source": [
    "where $A$ is the cross-sectional area and $vdt$ is the distance the\n",
    "object moved in time $dt$.\n",
    "\n",
    "\n",
    "Plugging this into the expression above,"
   ]
  },
  {
   "cell_type": "markdown",
   "metadata": {},
   "source": [
    "<!-- Equation labels as ordinary links -->\n",
    "<div id=\"_auto3\"></div>\n",
    "\n",
    "$$\n",
    "\\begin{equation}\n",
    "\\frac{dP}{dt}=-\\rho_m A v^2.\n",
    "\\label{_auto3} \\tag{3}\n",
    "\\end{equation}\n",
    "$$"
   ]
  },
  {
   "cell_type": "markdown",
   "metadata": {},
   "source": [
    "This is the force felt by the particle, and is opposite to its\n",
    "direction of motion. Now, because air doesn't stop when it hits an\n",
    "object, but flows around the best it can, the actual force is reduced\n",
    "by a dimensionless factor $c_W$, called the drag coefficient."
   ]
  },
  {
   "cell_type": "markdown",
   "metadata": {},
   "source": [
    "<!-- Equation labels as ordinary links -->\n",
    "<div id=\"_auto4\"></div>\n",
    "\n",
    "$$\n",
    "\\begin{equation}\n",
    "F_{\\rm drag}=-c_W\\rho_m Av^2,\n",
    "\\label{_auto4} \\tag{4}\n",
    "\\end{equation}\n",
    "$$"
   ]
  },
  {
   "cell_type": "markdown",
   "metadata": {},
   "source": [
    "and the acceleration is"
   ]
  },
  {
   "cell_type": "markdown",
   "metadata": {},
   "source": [
    "$$\n",
    "\\begin{eqnarray}\n",
    "\\frac{dv}{dt}=-\\frac{c_W\\rho_mA}{m}v^2.\n",
    "\\end{eqnarray}\n",
    "$$"
   ]
  },
  {
   "cell_type": "markdown",
   "metadata": {},
   "source": [
    "For a particle with initial velocity $v_0$, one can separate the $dt$\n",
    "to one side of the equation, and move everything with $v$s to the\n",
    "other side. We did this in our discussion of simple motion and will not repeat it here.\n",
    "\n",
    "On more general terms,\n",
    "for many systems, e.g. an automobile, there are multiple sources of\n",
    "resistance. In addition to wind resistance, where the force is\n",
    "proportional to $v^2$, there are dissipative effects of the tires on\n",
    "the pavement, and in the axel and drive train. These other forces can\n",
    "have components that scale proportional to $v$, and components that\n",
    "are independent of $v$. Those independent of $v$, e.g. the usual\n",
    "$f=\\mu_K N$ frictional force you consider in your first Physics courses, only set in\n",
    "once the object is actually moving. As speeds become higher, the $v^2$\n",
    "components begin to dominate relative to the others. For automobiles\n",
    "at freeway speeds, the $v^2$ terms are largely responsible for the\n",
    "loss of efficiency. To travel a distance $L$ at fixed speed $v$, the\n",
    "energy/work required to overcome the dissipative forces are $fL$,\n",
    "which for a force of the form $f=\\alpha v^n$ becomes"
   ]
  },
  {
   "cell_type": "markdown",
   "metadata": {},
   "source": [
    "$$\n",
    "\\begin{eqnarray}\n",
    "W=\\int dx~f=\\alpha v^n L.\n",
    "\\end{eqnarray}\n",
    "$$"
   ]
  },
  {
   "cell_type": "markdown",
   "metadata": {},
   "source": [
    "For $n=0$ the work is\n",
    "independent of speed, but for the wind resistance, where $n=2$,\n",
    "slowing down is essential if one wishes to reduce fuel consumption. It\n",
    "is also important to consider that engines are designed to be most\n",
    "efficient at a chosen range of power output. Thus, some cars will get\n",
    "better mileage at higher speeds (They perform better at 50 mph than at\n",
    "5 mph) despite the considerations mentioned above.\n",
    "\n",
    "\n",
    "\n",
    "As an example of Newton's Laws we consider projectile motion (or a\n",
    "falling raindrop or a ball we throw up in the air) with a drag force. Even though air resistance is\n",
    "largely proportional to the square of the velocity, we will consider\n",
    "the drag force to be linear to the velocity, $\\boldsymbol{F}=-m\\gamma\\boldsymbol{v}$,\n",
    "for the purposes of this exercise.\n",
    "\n",
    "Such a dependence can be extracted from experimental data for objects moving at low velocities, see for example Malthe-Sørenssen chapter 5.6.\n",
    "\n",
    "We will here focus on a two-dimensional problem.\n",
    "\n",
    "\n",
    "\n",
    "The acceleration for a projectile moving upwards,\n",
    "$\\boldsymbol{a}=\\boldsymbol{F}/m$, becomes"
   ]
  },
  {
   "cell_type": "markdown",
   "metadata": {},
   "source": [
    "$$\n",
    "\\begin{eqnarray}\n",
    "\\frac{dv_x}{dt}=-\\gamma v_x,\\\\\n",
    "\\nonumber\n",
    "\\frac{dv_y}{dt}=-\\gamma v_y-g,\n",
    "\\end{eqnarray}\n",
    "$$"
   ]
  },
  {
   "cell_type": "markdown",
   "metadata": {},
   "source": [
    "and $\\gamma$ has dimensions of inverse time. \n",
    "\n",
    "If you on the other hand have a falling raindrop, how do these equations change? See for example Figure 2.1 in Taylor.\n",
    "Let us stay with a ball which is thrown up in the air at $t=0$. \n",
    "\n",
    "## Ways of solving these equations\n",
    "\n",
    "We will go over two different ways to solve this equation. The first\n",
    "by direct integration, and the second as a differential equation. To\n",
    "do this by direct integration, one simply multiplies both sides of the\n",
    "equations above by $dt$, then divide by the appropriate factors so\n",
    "that the $v$s are all on one side of the equation and the $dt$ is on\n",
    "the other. For the $x$ motion one finds an easily integrable equation,"
   ]
  },
  {
   "cell_type": "markdown",
   "metadata": {},
   "source": [
    "$$\n",
    "\\begin{eqnarray}\n",
    "\\frac{dv_x}{v_x}&=&-\\gamma dt,\\\\\n",
    "\\nonumber\n",
    "\\int_{v_{0x}}^{v_{x}}\\frac{dv_x}{v_x}&=&-\\gamma\\int_0^{t}dt,\\\\\n",
    "\\nonumber\n",
    "\\ln\\left(\\frac{v_{x}}{v_{0x}}\\right)&=&-\\gamma t,\\\\\n",
    "\\nonumber\n",
    "v_{x}(t)&=&v_{0x}e^{-\\gamma t}.\n",
    "\\end{eqnarray}\n",
    "$$"
   ]
  },
  {
   "cell_type": "markdown",
   "metadata": {},
   "source": [
    "This is very much the result you would have written down\n",
    "by inspection. For the $y$-component of the velocity,"
   ]
  },
  {
   "cell_type": "markdown",
   "metadata": {},
   "source": [
    "$$\n",
    "\\begin{eqnarray}\n",
    "\\frac{dv_y}{v_y+g/\\gamma}&=&-\\gamma dt\\\\\n",
    "\\nonumber\n",
    "\\ln\\left(\\frac{v_{y}+g/\\gamma}{v_{0y}-g/\\gamma}\\right)&=&-\\gamma t_f,\\\\\n",
    "\\nonumber\n",
    "v_{fy}&=&-\\frac{g}{\\gamma}+\\left(v_{0y}+\\frac{g}{\\gamma}\\right)e^{-\\gamma t}.\n",
    "\\end{eqnarray}\n",
    "$$"
   ]
  },
  {
   "cell_type": "markdown",
   "metadata": {},
   "source": [
    "Whereas $v_x$ starts at some value and decays\n",
    "exponentially to zero, $v_y$ decays exponentially to the terminal\n",
    "velocity, $v_t=-g/\\gamma$.\n",
    "\n",
    "\n",
    "\n",
    "Although this direct integration is simpler than the method we invoke\n",
    "below, the method below will come in useful for some slightly more\n",
    "difficult differential equations in the future. The differential\n",
    "equation for $v_x$ is straight-forward to solve. Because it is first\n",
    "order there is one arbitrary constant, $A$, and by inspection the\n",
    "solution is"
   ]
  },
  {
   "cell_type": "markdown",
   "metadata": {},
   "source": [
    "<!-- Equation labels as ordinary links -->\n",
    "<div id=\"_auto5\"></div>\n",
    "\n",
    "$$\n",
    "\\begin{equation}\n",
    "v_x=Ae^{-\\gamma t}.\n",
    "\\label{_auto5} \\tag{5}\n",
    "\\end{equation}\n",
    "$$"
   ]
  },
  {
   "cell_type": "markdown",
   "metadata": {},
   "source": [
    "The arbitrary constants for equations of motion are usually determined\n",
    "by the initial conditions, or more generally boundary conditions. By\n",
    "inspection $A=v_{0x}$, the initial $x$ component of the velocity.\n",
    "\n",
    "\n",
    "## Differential Equations, contn\n",
    "The differential equation for $v_y$ is a bit more complicated due to\n",
    "the presence of $g$. Differential equations where all the terms are\n",
    "linearly proportional to a function, in this case $v_y$, or to\n",
    "derivatives of the function, e.g., $v_y$, $dv_y/dt$,\n",
    "$d^2v_y/dt^2\\cdots$, are called linear differential equations. If\n",
    "there are terms proportional to $v^2$, as would happen if the drag\n",
    "force were proportional to the square of the velocity, the\n",
    "differential equation is not longer linear. Because this expression\n",
    "has only one derivative in $v$ it is a first-order linear differential\n",
    "equation. If a term were added proportional to $d^2v/dt^2$ it would be\n",
    "a second-order differential equation.  In this case we have a term\n",
    "completely independent of $v$, the gravitational acceleration $g$, and\n",
    "the usual strategy is to first rewrite the equation with all the\n",
    "linear terms on one side of the equal sign,"
   ]
  },
  {
   "cell_type": "markdown",
   "metadata": {},
   "source": [
    "<!-- Equation labels as ordinary links -->\n",
    "<div id=\"_auto6\"></div>\n",
    "\n",
    "$$\n",
    "\\begin{equation}\n",
    "\\frac{dv_y}{dt}+\\gamma v_y=-g.\n",
    "\\label{_auto6} \\tag{6}\n",
    "\\end{equation}\n",
    "$$"
   ]
  },
  {
   "cell_type": "markdown",
   "metadata": {},
   "source": [
    "Now, the solution to the equation can be broken into two\n",
    "parts. Because this is a first-order differential equation we know\n",
    "that there will be one arbitrary constant. Physically, the arbitrary\n",
    "constant will be determined by setting the initial velocity, though it\n",
    "could be determined by setting the velocity at any given time. Like\n",
    "most differential equations, solutions are not \"solved\". Instead,\n",
    "one guesses at a form, then shows the guess is correct. For these\n",
    "types of equations, one first tries to find a single solution,\n",
    "i.e. one with no arbitrary constants. This is called the {\\it\n",
    "particular} solution, $y_p(t)$, though it should really be called\n",
    "\"a\" particular solution because there are an infinite number of such\n",
    "solutions. One then finds a solution to the {\\it homogenous} equation,\n",
    "which is the equation with zero on the right-hand side,"
   ]
  },
  {
   "cell_type": "markdown",
   "metadata": {},
   "source": [
    "<!-- Equation labels as ordinary links -->\n",
    "<div id=\"_auto7\"></div>\n",
    "\n",
    "$$\n",
    "\\begin{equation}\n",
    "\\frac{dv_{y,h}}{dt}+\\gamma v_{y,h}=0.\n",
    "\\label{_auto7} \\tag{7}\n",
    "\\end{equation}\n",
    "$$"
   ]
  },
  {
   "cell_type": "markdown",
   "metadata": {},
   "source": [
    "Homogenous solutions will have arbitrary constants. \n",
    "\n",
    "The particular solution will solve the same equation as the original\n",
    "general equation"
   ]
  },
  {
   "cell_type": "markdown",
   "metadata": {},
   "source": [
    "<!-- Equation labels as ordinary links -->\n",
    "<div id=\"_auto8\"></div>\n",
    "\n",
    "$$\n",
    "\\begin{equation}\n",
    "\\frac{dv_{y,p}}{dt}+\\gamma v_{y,p}=-g.\n",
    "\\label{_auto8} \\tag{8}\n",
    "\\end{equation}\n",
    "$$"
   ]
  },
  {
   "cell_type": "markdown",
   "metadata": {},
   "source": [
    "However, we don't need find one with arbitrary constants. Hence, it is\n",
    "called a **particular** solution.\n",
    "\n",
    "The sum of the two,"
   ]
  },
  {
   "cell_type": "markdown",
   "metadata": {},
   "source": [
    "<!-- Equation labels as ordinary links -->\n",
    "<div id=\"_auto9\"></div>\n",
    "\n",
    "$$\n",
    "\\begin{equation}\n",
    "v_y=v_{y,p}+v_{y,h},\n",
    "\\label{_auto9} \\tag{9}\n",
    "\\end{equation}\n",
    "$$"
   ]
  },
  {
   "cell_type": "markdown",
   "metadata": {},
   "source": [
    "is a solution of the total equation because of the linear nature of\n",
    "the differential equation. One has now found a *general* solution\n",
    "encompassing all solutions, because it both satisfies the general\n",
    "equation (like the particular solution), and has an arbitrary constant\n",
    "that can be adjusted to fit any initial condition (like the homogeneous\n",
    "solution). If the equations were not linear, that is if there were terms\n",
    "such as $v_y^2$ or $v_y\\dot{v}_y$, this technique would not work.\n",
    "\n",
    "\n",
    "\n",
    "Returning to the example above, the homogenous solution is the same as\n",
    "that for $v_x$, because there was no gravitational acceleration in\n",
    "that case,"
   ]
  },
  {
   "cell_type": "markdown",
   "metadata": {},
   "source": [
    "<!-- Equation labels as ordinary links -->\n",
    "<div id=\"_auto10\"></div>\n",
    "\n",
    "$$\n",
    "\\begin{equation}\n",
    "v_{y,h}=Be^{-\\gamma t}.\n",
    "\\label{_auto10} \\tag{10}\n",
    "\\end{equation}\n",
    "$$"
   ]
  },
  {
   "cell_type": "markdown",
   "metadata": {},
   "source": [
    "In this case a particular solution is one with constant velocity,"
   ]
  },
  {
   "cell_type": "markdown",
   "metadata": {},
   "source": [
    "<!-- Equation labels as ordinary links -->\n",
    "<div id=\"_auto11\"></div>\n",
    "\n",
    "$$\n",
    "\\begin{equation}\n",
    "v_{y,p}=-g/\\gamma.\n",
    "\\label{_auto11} \\tag{11}\n",
    "\\end{equation}\n",
    "$$"
   ]
  },
  {
   "cell_type": "markdown",
   "metadata": {},
   "source": [
    "Note that this is the terminal velocity of a particle falling from a\n",
    "great height. The general solution is thus,"
   ]
  },
  {
   "cell_type": "markdown",
   "metadata": {},
   "source": [
    "<!-- Equation labels as ordinary links -->\n",
    "<div id=\"_auto12\"></div>\n",
    "\n",
    "$$\n",
    "\\begin{equation}\n",
    "v_y=Be^{-\\gamma t}-g/\\gamma,\n",
    "\\label{_auto12} \\tag{12}\n",
    "\\end{equation}\n",
    "$$"
   ]
  },
  {
   "cell_type": "markdown",
   "metadata": {},
   "source": [
    "and one can find $B$ from the initial velocity,"
   ]
  },
  {
   "cell_type": "markdown",
   "metadata": {},
   "source": [
    "<!-- Equation labels as ordinary links -->\n",
    "<div id=\"_auto13\"></div>\n",
    "\n",
    "$$\n",
    "\\begin{equation}\n",
    "v_{0y}=B-g/\\gamma,~~~B=v_{0y}+g/\\gamma.\n",
    "\\label{_auto13} \\tag{13}\n",
    "\\end{equation}\n",
    "$$"
   ]
  },
  {
   "cell_type": "markdown",
   "metadata": {},
   "source": [
    "Plugging in the expression for $B$ gives the $y$ motion given the initial velocity,"
   ]
  },
  {
   "cell_type": "markdown",
   "metadata": {},
   "source": [
    "<!-- Equation labels as ordinary links -->\n",
    "<div id=\"_auto14\"></div>\n",
    "\n",
    "$$\n",
    "\\begin{equation}\n",
    "v_y=(v_{0y}+g/\\gamma)e^{-\\gamma t}-g/\\gamma.\n",
    "\\label{_auto14} \\tag{14}\n",
    "\\end{equation}\n",
    "$$"
   ]
  },
  {
   "cell_type": "markdown",
   "metadata": {},
   "source": [
    "It is easy to see that this solution has $v_y=v_{0y}$ when $t=0$ and\n",
    "$v_y=-g/\\gamma$ when $t\\rightarrow\\infty$.\n",
    "\n",
    "One can also integrate the two equations to find the coordinates $x$\n",
    "and $y$ as functions of $t$,"
   ]
  },
  {
   "cell_type": "markdown",
   "metadata": {},
   "source": [
    "$$\n",
    "\\begin{eqnarray}\n",
    "x&=&\\int_0^t dt'~v_{0x}(t')=\\frac{v_{0x}}{\\gamma}\\left(1-e^{-\\gamma t}\\right),\\\\\n",
    "\\nonumber\n",
    "y&=&\\int_0^t dt'~v_{0y}(t')=-\\frac{gt}{\\gamma}+\\frac{v_{0y}+g/\\gamma}{\\gamma}\\left(1-e^{-\\gamma t}\\right).\n",
    "\\end{eqnarray}\n",
    "$$"
   ]
  },
  {
   "cell_type": "markdown",
   "metadata": {},
   "source": [
    "If the question was to find the position at a time $t$, we would be\n",
    "finished. However, the more common goal in a projectile equation\n",
    "problem is to find the range, i.e. the distance $x$ at which $y$\n",
    "returns to zero. For the case without a drag force this was much\n",
    "simpler. The solution for the $y$ coordinate would have been\n",
    "$y=v_{0y}t-gt^2/2$. One would solve for $t$ to make $y=0$, which would\n",
    "be $t=2v_{0y}/g$, then plug that value for $t$ into $x=v_{0x}t$ to\n",
    "find $x=2v_{0x}v_{0y}/g=v_0\\sin(2\\theta_0)/g$. One follows the same\n",
    "steps here, except that the expression for $y(t)$ is more\n",
    "complicated. Searching for the time where $y=0$, and we get"
   ]
  },
  {
   "cell_type": "markdown",
   "metadata": {},
   "source": [
    "<!-- Equation labels as ordinary links -->\n",
    "<div id=\"_auto15\"></div>\n",
    "\n",
    "$$\n",
    "\\begin{equation}\n",
    "0=-\\frac{gt}{\\gamma}+\\frac{v_{0y}+g/\\gamma}{\\gamma}\\left(1-e^{-\\gamma t}\\right).\n",
    "\\label{_auto15} \\tag{15}\n",
    "\\end{equation}\n",
    "$$"
   ]
  },
  {
   "cell_type": "markdown",
   "metadata": {},
   "source": [
    "This cannot be inverted into a simple expression $t=\\cdots$. Such\n",
    "expressions are known as \"transcendental equations\", and are not the\n",
    "rare instance, but are the norm. In the days before computers, one\n",
    "might plot the right-hand side of the above graphically as\n",
    "a function of time, then find the point where it crosses zero.\n",
    "\n",
    "Now, the most common way to solve for an equation of the above type\n",
    "would be to apply Newton's method numerically. This involves the\n",
    "following algorithm for finding solutions of some equation $F(t)=0$.\n",
    "\n",
    "1. First guess a value for the time, $t_{\\rm guess}$.\n",
    "\n",
    "2. Calculate $F$ and its derivative, $F(t_{\\rm guess})$ and $F'(t_{\\rm guess})$. \n",
    "\n",
    "3. Unless you guessed perfectly, $F\\ne 0$, and assuming that $\\Delta F\\approx F'\\Delta t$, one would choose \n",
    "\n",
    "4. $\\Delta t=-F(t_{\\rm guess})/F'(t_{\\rm guess})$.\n",
    "\n",
    "5. Now repeat step 1, but with $t_{\\rm guess}\\rightarrow t_{\\rm guess}+\\Delta t$.\n",
    "\n",
    "If the $F(t)$ were perfectly linear in $t$, one would find $t$ in one\n",
    "step. Instead, one typically finds a value of $t$ that is closer to\n",
    "the final answer than $t_{\\rm guess}$. One breaks the loop once one\n",
    "finds $F$ within some acceptable tolerance of zero. A program to do\n",
    "this will be added shortly.\n",
    "\n",
    "## Motion in a Magnetic Field\n",
    "\n",
    "\n",
    "Another example of a velocity-dependent force is magnetism,"
   ]
  },
  {
   "cell_type": "markdown",
   "metadata": {},
   "source": [
    "$$\n",
    "\\begin{eqnarray}\n",
    "\\boldsymbol{F}&=&q\\boldsymbol{v}\\times\\boldsymbol{B},\\\\\n",
    "\\nonumber\n",
    "F_i&=&q\\sum_{jk}\\epsilon_{ijk}v_jB_k.\n",
    "\\end{eqnarray}\n",
    "$$"
   ]
  },
  {
   "cell_type": "markdown",
   "metadata": {},
   "source": [
    "For a uniform field in the $z$ direction $\\boldsymbol{B}=B\\hat{z}$, the force can only have $x$ and $y$ components,"
   ]
  },
  {
   "cell_type": "markdown",
   "metadata": {},
   "source": [
    "$$\n",
    "\\begin{eqnarray}\n",
    "F_x&=&qBv_y\\\\\n",
    "\\nonumber\n",
    "F_y&=&-qBv_x.\n",
    "\\end{eqnarray}\n",
    "$$"
   ]
  },
  {
   "cell_type": "markdown",
   "metadata": {},
   "source": [
    "The differential equations are"
   ]
  },
  {
   "cell_type": "markdown",
   "metadata": {},
   "source": [
    "$$\n",
    "\\begin{eqnarray}\n",
    "\\dot{v}_x&=&\\omega_c v_y,\\omega_c= qB/m\\\\\n",
    "\\nonumber\n",
    "\\dot{v}_y&=&-\\omega_c v_x.\n",
    "\\end{eqnarray}\n",
    "$$"
   ]
  },
  {
   "cell_type": "markdown",
   "metadata": {},
   "source": [
    "One can solve the equations by taking time derivatives of either equation, then substituting into the other equation,"
   ]
  },
  {
   "cell_type": "markdown",
   "metadata": {},
   "source": [
    "$$\n",
    "\\begin{eqnarray}\n",
    "\\ddot{v}_x=\\omega_c\\dot{v_y}=-\\omega_c^2v_x,\\\\\n",
    "\\nonumber\n",
    "\\ddot{v}_y&=&-\\omega_c\\dot{v}_x=-\\omega_cv_y.\n",
    "\\end{eqnarray}\n",
    "$$"
   ]
  },
  {
   "cell_type": "markdown",
   "metadata": {},
   "source": [
    "The solution to these equations can be seen by inspection,"
   ]
  },
  {
   "cell_type": "markdown",
   "metadata": {},
   "source": [
    "$$\n",
    "\\begin{eqnarray}\n",
    "v_x&=&A\\sin(\\omega_ct+\\phi),\\\\\n",
    "\\nonumber\n",
    "v_y&=&A\\cos(\\omega_ct+\\phi).\n",
    "\\end{eqnarray}\n",
    "$$"
   ]
  },
  {
   "cell_type": "markdown",
   "metadata": {},
   "source": [
    "One can integrate the equations to find the positions as a function of time,"
   ]
  },
  {
   "cell_type": "markdown",
   "metadata": {},
   "source": [
    "$$\n",
    "\\begin{eqnarray}\n",
    "x-x_0&=&\\int_{x_0}^x dx=\\int_0^t dt v(t)\\\\\n",
    "\\nonumber\n",
    "&=&\\frac{-A}{\\omega_c}\\cos(\\omega_ct+\\phi),\\\\\n",
    "\\nonumber\n",
    "y-y_0&=&\\frac{A}{\\omega_c}\\sin(\\omega_ct+\\phi).\n",
    "\\end{eqnarray}\n",
    "$$"
   ]
  },
  {
   "cell_type": "markdown",
   "metadata": {},
   "source": [
    "The trajectory is a circle centered at $x_0,y_0$ with amplitude $A$ rotating in the clockwise direction.\n",
    "\n",
    "The equations of motion for the $z$ motion are"
   ]
  },
  {
   "cell_type": "markdown",
   "metadata": {},
   "source": [
    "<!-- Equation labels as ordinary links -->\n",
    "<div id=\"_auto16\"></div>\n",
    "\n",
    "$$\n",
    "\\begin{equation}\n",
    "\\dot{v_z}=0,\n",
    "\\label{_auto16} \\tag{16}\n",
    "\\end{equation}\n",
    "$$"
   ]
  },
  {
   "cell_type": "markdown",
   "metadata": {},
   "source": [
    "which leads to"
   ]
  },
  {
   "cell_type": "markdown",
   "metadata": {},
   "source": [
    "<!-- Equation labels as ordinary links -->\n",
    "<div id=\"_auto17\"></div>\n",
    "\n",
    "$$\n",
    "\\begin{equation}\n",
    "z-z_0=V_zt.\n",
    "\\label{_auto17} \\tag{17}\n",
    "\\end{equation}\n",
    "$$"
   ]
  },
  {
   "cell_type": "markdown",
   "metadata": {},
   "source": [
    "Added onto the circle, the motion is helical.\n",
    "\n",
    "Note that the kinetic energy,"
   ]
  },
  {
   "cell_type": "markdown",
   "metadata": {},
   "source": [
    "<!-- Equation labels as ordinary links -->\n",
    "<div id=\"_auto18\"></div>\n",
    "\n",
    "$$\n",
    "\\begin{equation}\n",
    "T=\\frac{1}{2}m(v_x^2+v_y^2+v_z^2)=\\frac{1}{2}m(\\omega_c^2A^2+V_z^2),\n",
    "\\label{_auto18} \\tag{18}\n",
    "\\end{equation}\n",
    "$$"
   ]
  },
  {
   "cell_type": "markdown",
   "metadata": {},
   "source": [
    "is constant. This is because the force is perpendicular to the\n",
    "velocity, so that in any differential time element $dt$ the work done\n",
    "on the particle $\\boldsymbol{F}\\cdot{dr}=dt\\boldsymbol{F}\\cdot{v}=0$.\n",
    "\n",
    "One should think about the implications of a velocity dependent\n",
    "force. Suppose one had a constant magnetic field in deep space. If a\n",
    "particle came through with velocity $v_0$, it would undergo cyclotron\n",
    "motion with radius $R=v_0/\\omega_c$. However, if it were still its\n",
    "motion would remain fixed. Now, suppose an observer looked at the\n",
    "particle in one reference frame where the particle was moving, then\n",
    "changed their velocity so that the particle's velocity appeared to be\n",
    "zero. The motion would change from circular to fixed. Is this\n",
    "possible?\n",
    "\n",
    "The solution to the puzzle above relies on understanding\n",
    "relativity. Imagine that the first observer believes $\\boldsymbol{B}\\ne 0$ and\n",
    "that the electric field $\\boldsymbol{E}=0$. If the observer then changes\n",
    "reference frames by accelerating to a velocity $\\boldsymbol{v}$, in the new\n",
    "frame $\\boldsymbol{B}$ and $\\boldsymbol{E}$ both change. If the observer moved to the\n",
    "frame where the charge, originally moving with a small velocity $v$,\n",
    "is now at rest, the new electric field is indeed $\\boldsymbol{v}\\times\\boldsymbol{B}$,\n",
    "which then leads to the same acceleration as one had before. If the\n",
    "velocity is not small compared to the speed of light, additional\n",
    "$\\gamma$ factors come into play,\n",
    "$\\gamma=1/\\sqrt{1-(v/c)^2}$. Relativistic motion will not be\n",
    "considered in this course.\n",
    "\n",
    "\n",
    "\n",
    "## Summarizing the various motion problems\n",
    "\n",
    "The examples we have discussed above were included in order to\n",
    "illustrate various methods (which depend on the specific problem) to\n",
    "find the solutions of the equations of motion.\n",
    "We have solved the equations of motion in the following ways:\n",
    "\n",
    "**Solve the differential equations analytically.**\n",
    "\n",
    "We did this for example with the following object in one or two dimensions or the sliding block. \n",
    "Here we had for example an equation set like"
   ]
  },
  {
   "cell_type": "markdown",
   "metadata": {},
   "source": [
    "$$\n",
    "\\frac{dv_x}{dt}=-\\gamma v_x,\n",
    "$$"
   ]
  },
  {
   "cell_type": "markdown",
   "metadata": {},
   "source": [
    "and"
   ]
  },
  {
   "cell_type": "markdown",
   "metadata": {},
   "source": [
    "$$\n",
    "\\frac{dv_y}{dt}=-\\gamma v_y-g,\n",
    "$$"
   ]
  },
  {
   "cell_type": "markdown",
   "metadata": {},
   "source": [
    "and $\\gamma$ has dimension of inverse time.\n",
    "\n",
    "\n",
    "\n",
    "\n",
    "\n",
    "We could also in case we can separate the degrees of freedom integrate. Take for example one of the equations in the previous slide"
   ]
  },
  {
   "cell_type": "markdown",
   "metadata": {},
   "source": [
    "$$\n",
    "\\frac{dv_x}{dt}=-\\gamma v_x,\n",
    "$$"
   ]
  },
  {
   "cell_type": "markdown",
   "metadata": {},
   "source": [
    "which we can rewrite in terms of a left-hand side which depends only on the velocity and a right-hand side which depends only on time"
   ]
  },
  {
   "cell_type": "markdown",
   "metadata": {},
   "source": [
    "$$\n",
    "\\frac{dv_x}{v_x}=-\\gamma dt.\n",
    "$$"
   ]
  },
  {
   "cell_type": "markdown",
   "metadata": {},
   "source": [
    "Integrating we have (since we can separate $v_x$ and $t$)"
   ]
  },
  {
   "cell_type": "markdown",
   "metadata": {},
   "source": [
    "$$\n",
    "\\int_{v_0}^{v_t}\\frac{dv_x}{v_x}=-\\int_{t_0}^{t_f}\\gamma dt,\n",
    "$$"
   ]
  },
  {
   "cell_type": "markdown",
   "metadata": {},
   "source": [
    "where $v_f$ is the velocity at a final time and $t_f$ is the final time.\n",
    "In this case we found, after having integrated the above two sides that"
   ]
  },
  {
   "cell_type": "markdown",
   "metadata": {},
   "source": [
    "$$\n",
    "v_f(t)=v_0\\exp{-\\gamma t}.\n",
    "$$"
   ]
  },
  {
   "cell_type": "markdown",
   "metadata": {},
   "source": [
    "Finally, using for example Euler's method, we can solve the\n",
    "differential equations numerically. If we can compare our numerical\n",
    "solutions with analytical solutions, we have an extra check of our\n",
    "numerical approaches.\n",
    "\n",
    "## Exercises\n",
    "\n",
    "\n",
    "### Electron moving into an electric field\n",
    "\n",
    "An electron is sent through a varying electrical\n",
    "field. Initially, the electron is moving in the $x$-direction with a velocity\n",
    "$v_x = 100$ m/s. The electron enters the field when it passes the origin. The field\n",
    "varies with time, causing an acceleration of the electron that varies in time"
   ]
  },
  {
   "cell_type": "markdown",
   "metadata": {},
   "source": [
    "$$\n",
    "\\boldsymbol{a}(t)=\\left(−20 \\mathrm{m/s}^2 −10\\mathrm{m/s}^3t\\right) \\boldsymbol{e}_y,\n",
    "$$"
   ]
  },
  {
   "cell_type": "markdown",
   "metadata": {},
   "source": [
    "or if we replace $\\boldsymbol{e}_y$ with $\\boldsymbol{e}_2$ (the unit vectors in the $y$-direction) we have"
   ]
  },
  {
   "cell_type": "markdown",
   "metadata": {},
   "source": [
    "$$\n",
    "\\boldsymbol{a}(t)=\\left(−20 \\mathrm{m/s}^2 −10\\mathrm{m/s}^3t\\right) \\boldsymbol{e}_2.\n",
    "$$"
   ]
  },
  {
   "cell_type": "markdown",
   "metadata": {},
   "source": [
    "Note that the velocity in the $x$-direction is a constant and is not affected by the force which acts only in the $y$-direction.\n",
    "This means that we can decouple the two degrees of freedom and skip the vector symbols.\n",
    "We have then a constant velocity in the $x$-direction"
   ]
  },
  {
   "cell_type": "markdown",
   "metadata": {},
   "source": [
    "$$\n",
    "v_x(t) = 100\\mathrm{m/s},\n",
    "$$"
   ]
  },
  {
   "cell_type": "markdown",
   "metadata": {},
   "source": [
    "and integrating up the acceleration in the $y$-direction (and using that the initial time $t_0=0$) we get"
   ]
  },
  {
   "cell_type": "markdown",
   "metadata": {},
   "source": [
    "$$\n",
    "v_y(t) = -20\\mathrm{m/s^2}t-5\\mathrm{m/s^3}t^2.\n",
    "$$"
   ]
  },
  {
   "cell_type": "markdown",
   "metadata": {},
   "source": [
    "Find the position as a function of time for the electron.\n",
    "\n",
    "\n",
    "We integrate again in the $x$-direction"
   ]
  },
  {
   "cell_type": "markdown",
   "metadata": {},
   "source": [
    "$$\n",
    "x(t) = 100\\mathrm{m/s}t,\n",
    "$$"
   ]
  },
  {
   "cell_type": "markdown",
   "metadata": {},
   "source": [
    "and in the $y$-direction (remember that these two degrees of freedom don't depend on each other)\n",
    "we get"
   ]
  },
  {
   "cell_type": "markdown",
   "metadata": {},
   "source": [
    "$$\n",
    "y(t) = -10\\mathrm{m/s^2}t^2-\\frac{5}{3}\\mathrm{m/s^3}t^3.\n",
    "$$"
   ]
  },
  {
   "cell_type": "markdown",
   "metadata": {},
   "source": [
    "The field is only acting inside a box of length $L = 2m$.\n",
    "\n",
    "How long time is the electron inside the field?\n",
    "\n",
    "\n",
    "If we use the equation for the $x$-direction (the length of the box), we can then use the equation for $x(t) = 100\\mathrm{m/s}t$\n",
    "and simply set $x=2$m and we find"
   ]
  },
  {
   "cell_type": "markdown",
   "metadata": {},
   "source": [
    "$$\n",
    "t=\\frac{1}{50}\\mathrm{s}.\n",
    "$$"
   ]
  },
  {
   "cell_type": "markdown",
   "metadata": {},
   "source": [
    "What is the displacement in the $y$-direction when the electron leaves the box. (We call this the deflection of the electron).\n",
    "\n",
    "\n",
    "Here we simply use"
   ]
  },
  {
   "cell_type": "markdown",
   "metadata": {},
   "source": [
    "$$\n",
    "y(t) = -10\\mathrm{m/s^2}t^2-\\frac{5}{3}\\mathrm{m/s^3}t^3,\n",
    "$$"
   ]
  },
  {
   "cell_type": "markdown",
   "metadata": {},
   "source": [
    "and use $t=1/50$s and find that"
   ]
  },
  {
   "cell_type": "markdown",
   "metadata": {},
   "source": [
    "$$\n",
    "y = -0.004013 \\mathrm{m}.\n",
    "$$"
   ]
  },
  {
   "cell_type": "markdown",
   "metadata": {},
   "source": [
    "Find the angle the velocity vector forms with the horizontal axis as the electron leaves the box.\n",
    "\n",
    "\n",
    "Again, we use $t=1/50$s and calculate the velocities in the $x$- and the $y$-directions (the velocity in the $x$-direction is just a constant) and find the angle using"
   ]
  },
  {
   "cell_type": "markdown",
   "metadata": {},
   "source": [
    "$$\n",
    "\\tan{\\alpha} = \\frac{v_y(t=1/50)}{v_x(t=1/50)},\n",
    "$$"
   ]
  },
  {
   "cell_type": "markdown",
   "metadata": {},
   "source": [
    "which leads to"
   ]
  },
  {
   "cell_type": "markdown",
   "metadata": {},
   "source": [
    "$$\n",
    "\\alpha = -0.23,\n",
    "$$"
   ]
  },
  {
   "cell_type": "markdown",
   "metadata": {},
   "source": [
    "in degrees (not radians).\n",
    "\n",
    "### Drag force\n",
    "\n",
    "Using equations (2.84) and (2.82) in Taylor, we have that $f_{\\mathrm{quad}}/f_{\\mathrm{lin}}=(\\kappa\\rho Av^2)/(3\\pi\\eta Dv)$. With $\\kappa =1/4$ and $A=\\pi D^2/4$ we obtain $f_{\\mathrm{quad}}/f_{\\mathrm{lin}}=(\\rho Dv)/(48\\eta)$ or $R/48$ with $R$ given by equation (2.83) of Taylor.\n",
    "\n",
    "With these numbers $R=1.1\\times 10^{-2}$ and it is safe to neglect the quadratic drag.\n",
    "\n",
    "### Falling object\n",
    "\n",
    "If we insert Taylor series for $\\exp{-(t/\\tau)}$ into equation (2.33) of Taylor, we have"
   ]
  },
  {
   "cell_type": "markdown",
   "metadata": {},
   "source": [
    "$$\n",
    "v_y(t) = v_{\\mathrm{ter}}\\left[1-\\exp{-(t/\\tau)}\\right] = v_{\\mathrm{ter}}\\left[1-(1-\\frac{t}{\\tau}+\\frac{t^2}{2\\tau^2}+\\dots   )\\right].\n",
    "$$"
   ]
  },
  {
   "cell_type": "markdown",
   "metadata": {},
   "source": [
    "The first two terms on the right cancel and, if $t$ is sufficiently small, we can neglect terms with higher powers than two in $t$.  This gives us"
   ]
  },
  {
   "cell_type": "markdown",
   "metadata": {},
   "source": [
    "$$\n",
    "v_y(t) \\approx v_{\\mathrm{ter}}\\frac{t}{\\tau}=gt,\n",
    "$$"
   ]
  },
  {
   "cell_type": "markdown",
   "metadata": {},
   "source": [
    "where we used that $v_{\\mathrm{ter}}=g\\tau$ from equation (2.34) in Taylor. This means that for small velocities it is the gravitational force which dominates.\n",
    "\n",
    "Setting $v_y(t_0)=0$ in equation (2.35) of Taylor and using the Taylor series for the exponential we find that"
   ]
  },
  {
   "cell_type": "markdown",
   "metadata": {},
   "source": [
    "$$\n",
    "y(t) = v_{\\mathrm{ter}}t-v_{\\mathrm{ter}}\\tau\\left[1-\\exp{-(t/\\tau)}\\right] = v_{\\mathrm{ter}}t-v_{\\mathrm{ter}}\\tau\\left[1-(1-\\frac{t}{\\tau}+\\frac{t^2}{2\\tau^2}+\\dots   )\\right].\n",
    "$$"
   ]
  },
  {
   "cell_type": "markdown",
   "metadata": {},
   "source": [
    "On the rhs the second and third terms cancel, as do the first and fourth. If we neglect all terms beyond $t^2$, this leaves us with"
   ]
  },
  {
   "cell_type": "markdown",
   "metadata": {},
   "source": [
    "$$\n",
    "y(t) \\approx v_{\\mathrm{ter}}\\frac{t^2}{2\\tau}=\\frac{1}{2}gt^2.\n",
    "$$"
   ]
  },
  {
   "cell_type": "markdown",
   "metadata": {},
   "source": [
    "Again, for small times, as expected, the gravitational force plays the major role.\n",
    "\n",
    "### Motion of a cyclist\n",
    "\n",
    "Putting in the numbers for the characteristic time we find"
   ]
  },
  {
   "cell_type": "markdown",
   "metadata": {},
   "source": [
    "$$\n",
    "\\tau = \\frac{m}{Dv_0} = \\frac{80}{0.20\\times 20}=20\\mathrm{s}.\n",
    "$$"
   ]
  },
  {
   "cell_type": "markdown",
   "metadata": {},
   "source": [
    "From an initial velocity of 20m/s we will slow down to half the initial speed, 10m/s in 20s.  From Taylor equation (2.45) we have then that the time to slow down to any speed $v$ is"
   ]
  },
  {
   "cell_type": "markdown",
   "metadata": {},
   "source": [
    "$$\n",
    "t = \\frac{M}{D}\\left(\\frac{1}{v}-\\frac{1}{v_0}\\right).\n",
    "$$"
   ]
  },
  {
   "cell_type": "markdown",
   "metadata": {},
   "source": [
    "This gives a time of 6.7s for a velocity of 15m/s, 20s for a velocity of 10m/s and 60s for a velocity of 5m/s.  We see that this approximation leads to an infinite time before we come to rest. To ignore ordinary friction at low speeds is indeed a bad approximation.\n",
    "\n",
    "\n",
    "\n",
    "### Falling ball and preparing for the numerical exercise\n",
    "\n",
    "In this example we study the motion of an object subject to a constant force, a velocity dependent\n",
    "force, and for the numerical part a position-dependent force.\n",
    "Without the position dependent force, we can solve the problem analytically. This is what we will do in this exercise.\n",
    "The position dependent force requires numerical efforts (exercise 7).\n",
    "In addition to the  falling ball case, we will include the effect of the ball bouncing back from the floor in exercises 7.\n",
    "\n",
    "\n",
    "Here we limit ourselves to a ball that is thrown from a height $h$\n",
    "above the ground with an initial velocity\n",
    "$\\boldsymbol{v}_0$ at time $t=t_0$.\n",
    "We assume we have only a gravitational force and a force due to the air resistance.\n",
    "The position of the ball as function of time is  $\\boldsymbol{r}(t)$ where $t$ is time.\n",
    " The position is measured with respect to a coordinate system with origin at the floor.\n",
    "\n",
    "We assume we have an initial position $\\boldsymbol{r}(t_0)=h\\boldsymbol{e}_y$ and an initial velocity $\\boldsymbol{v}_0=v_{x,0}\\boldsymbol{e}_x+v_{y,0}\\boldsymbol{e}_y$.\n",
    "\n",
    "In this exercise we assume the system is influenced by the gravitational force"
   ]
  },
  {
   "cell_type": "markdown",
   "metadata": {},
   "source": [
    "$$\n",
    "\\boldsymbol{G}=-mg\\boldsymbol{e}_y\n",
    "$$"
   ]
  },
  {
   "cell_type": "markdown",
   "metadata": {},
   "source": [
    "and an air resistance given by a square law"
   ]
  },
  {
   "cell_type": "markdown",
   "metadata": {},
   "source": [
    "$$\n",
    "-Dv\\boldsymbol{v}.\n",
    "$$"
   ]
  },
  {
   "cell_type": "markdown",
   "metadata": {},
   "source": [
    "The analytical expressions for velocity and position as functions of\n",
    "time will be used to compare with the numerical results in exercise 6.\n",
    "\n",
    "Identify the forces acting on the ball and set up a diagram with the forces acting on the ball. Find the acceleration of the falling ball.\n",
    "\n",
    "The forces acting on the ball are the gravitational force $\\boldsymbol{G}=-mg\\boldsymbol{e}_y$ and the air resistance $\\boldsymbol{F}_D=-D\\boldsymbol{v}v$ with $v$ the absolute value of the velocity. The accelaration in the $x$-direction is"
   ]
  },
  {
   "cell_type": "markdown",
   "metadata": {},
   "source": [
    "$$\n",
    "a_x = -\\frac{Dv_x\\vert v\\vert}{m},\n",
    "$$"
   ]
  },
  {
   "cell_type": "markdown",
   "metadata": {},
   "source": [
    "and in the $y$-direction"
   ]
  },
  {
   "cell_type": "markdown",
   "metadata": {},
   "source": [
    "$$\n",
    "a_y = -g-\\frac{Dv_y\\vert v\\vert}{m},\n",
    "$$"
   ]
  },
  {
   "cell_type": "markdown",
   "metadata": {},
   "source": [
    "where $\\vert v\\vert=\\sqrt{v_x^2+v_y^2}$.  Note that due to the dependence on $v_x$ and $v_y$ in each equation, it means we may not be able find an analytical solution. In this case we cannot.\n",
    "In order to compare our code with analytical results, we will thus study the problem only in the $y$-direction.\n",
    "\n",
    "In the general code below we would write this as (pseudocode style)"
   ]
  },
  {
   "cell_type": "code",
   "execution_count": 14,
   "metadata": {
    "collapsed": false,
    "editable": true
   },
   "outputs": [
    {
     "ename": "NameError",
     "evalue": "name 'vx' is not defined",
     "output_type": "error",
     "traceback": [
      "\u001b[0;31m---------------------------------------------------------------------------\u001b[0m",
      "\u001b[0;31mNameError\u001b[0m                                 Traceback (most recent call last)",
      "\u001b[0;32m<ipython-input-14-847092aec374>\u001b[0m in \u001b[0;36m<module>\u001b[0;34m\u001b[0m\n\u001b[0;32m----> 1\u001b[0;31m \u001b[0max\u001b[0m \u001b[0;34m=\u001b[0m \u001b[0;34m-\u001b[0m\u001b[0mD\u001b[0m\u001b[0;34m*\u001b[0m\u001b[0mvx\u001b[0m\u001b[0;34m[\u001b[0m\u001b[0mi\u001b[0m\u001b[0;34m]\u001b[0m\u001b[0;34m*\u001b[0m\u001b[0mabs\u001b[0m\u001b[0;34m(\u001b[0m\u001b[0mv\u001b[0m\u001b[0;34m[\u001b[0m\u001b[0mi\u001b[0m\u001b[0;34m]\u001b[0m\u001b[0;34m)\u001b[0m\u001b[0;34m/\u001b[0m\u001b[0mm\u001b[0m\u001b[0;34m\u001b[0m\u001b[0;34m\u001b[0m\u001b[0m\n\u001b[0m\u001b[1;32m      2\u001b[0m \u001b[0may\u001b[0m \u001b[0;34m=\u001b[0m \u001b[0;34m-\u001b[0m\u001b[0mg\u001b[0m \u001b[0;34m-\u001b[0m \u001b[0mD\u001b[0m\u001b[0;34m*\u001b[0m\u001b[0mvy\u001b[0m\u001b[0;34m[\u001b[0m\u001b[0mi\u001b[0m\u001b[0;34m]\u001b[0m\u001b[0;34m*\u001b[0m\u001b[0mabs\u001b[0m\u001b[0;34m(\u001b[0m\u001b[0mv\u001b[0m\u001b[0;34m[\u001b[0m\u001b[0mi\u001b[0m\u001b[0;34m]\u001b[0m\u001b[0;34m)\u001b[0m\u001b[0;34m/\u001b[0m\u001b[0mm\u001b[0m\u001b[0;34m\u001b[0m\u001b[0;34m\u001b[0m\u001b[0m\n",
      "\u001b[0;31mNameError\u001b[0m: name 'vx' is not defined"
     ]
    }
   ],
   "source": [
    "    ax = -D*vx[i]*abs(v[i])/m\n",
    "    ay = -g - D*vy[i]*abs(v[i])/m"
   ]
  },
  {
   "cell_type": "markdown",
   "metadata": {},
   "source": [
    "Integrate the acceleration from an initial time $t_0$ to a final time $t$ and find the velocity.\n",
    "\n",
    "We reduce our problem to a one-dimensional in the $y$-direction only since for the two-dimensional motion we cannot find an analtical solution. For one dimension however, we have an analytical solution.\n",
    "We specialize our equations  for the $y$-direction only"
   ]
  },
  {
   "cell_type": "markdown",
   "metadata": {},
   "source": [
    "$$\n",
    "\\frac{dv_y}{dt}= -g +Dv_y^2(t).\n",
    "$$"
   ]
  },
  {
   "cell_type": "markdown",
   "metadata": {},
   "source": [
    "We can solve this using the technique of separation of variables. We\n",
    "isolate on the left all terms that involve $v$ and on the right all\n",
    "terms that involve time. We get then"
   ]
  },
  {
   "cell_type": "markdown",
   "metadata": {},
   "source": [
    "$$\n",
    "\\frac{dv_y}{g -Dv_y^2(t) }= -dt,\n",
    "$$"
   ]
  },
  {
   "cell_type": "markdown",
   "metadata": {},
   "source": [
    "We scale now the equation to the left by introducing a constant\n",
    "$v_T=\\sqrt{g/D}$. This constant has dimension length/time. \n",
    "\n",
    "Next we integrate the left-hand side (lhs) from $v_{y0}=0$ m/s to $v$ and\n",
    "the right-hand side (rhs) from $t_0=0$ to $t$ and obtain"
   ]
  },
  {
   "cell_type": "markdown",
   "metadata": {},
   "source": [
    "$$\n",
    "\\int_{0}^{v_y}\\frac{dv_y}{g -Dv_y^2(t) }= \\frac{v_T}{g}\\mathrm{arctanh}(\\frac{v_y}{v_T})  =-\\int_0^tdt = -t.\n",
    "$$"
   ]
  },
  {
   "cell_type": "markdown",
   "metadata": {},
   "source": [
    "We can reorganize these equations as"
   ]
  },
  {
   "cell_type": "markdown",
   "metadata": {},
   "source": [
    "$$\n",
    "v_T\\mathrm{arctanh}(\\frac{v_y}{v_T})  =-gt,\n",
    "$$"
   ]
  },
  {
   "cell_type": "markdown",
   "metadata": {},
   "source": [
    "which gives us $v_y$ as function of time"
   ]
  },
  {
   "cell_type": "markdown",
   "metadata": {},
   "source": [
    "$$\n",
    "v_y(t)=v_T\\tanh{-(\\frac{gt}{v_T})}.\n",
    "$$"
   ]
  },
  {
   "cell_type": "markdown",
   "metadata": {},
   "source": [
    "With a finite initial velocity we need simply to add $v_{y0}$.\n",
    "\n",
    "\n",
    "\n",
    "Find thereafter the position as function of time starting with an initial time $t_0$. Find the time it takes to hit the floor.  Here you will find it convenient to set the initial velocity in the $y$-direction to zero.\n",
    "\n",
    "\n",
    "With the velocity we can then find the height $y(t)$ by integrating yet another time, that is"
   ]
  },
  {
   "cell_type": "markdown",
   "metadata": {},
   "source": [
    "$$\n",
    "y(t)=y(t_0)+\\int_{t_0}^t dt v_y(t)=\\int_{0}^t dt[v_T\\tanh{-(\\frac{gt}{v_T})}].\n",
    "$$"
   ]
  },
  {
   "cell_type": "markdown",
   "metadata": {},
   "source": [
    "This integral is a little bit trickier but we can look it up in a table over \n",
    "known integrals and we get"
   ]
  },
  {
   "cell_type": "markdown",
   "metadata": {},
   "source": [
    "$$\n",
    "y(t)=y(t_0)-\\frac{v_T^2}{g}\\log{[\\cosh{(\\frac{gt}{v_T})}]}.\n",
    "$$"
   ]
  },
  {
   "cell_type": "markdown",
   "metadata": {},
   "source": [
    "Here we have assumed that we set the initial velocity in the $y$-direction to zero, that is $v_y(t_0)=0$m/s. Adding a non-zero velocity gives us an additional term of $v_{y0}t$.  \n",
    "Using a zero initial velocity and setting"
   ]
  },
  {
   "cell_type": "markdown",
   "metadata": {},
   "source": [
    "$$\n",
    "y(t)=0=y(t_0)-\\frac{v_T^2}{g}\\log{[\\cosh{(-\\frac{gt}{v_T})}]}=y(t_0)-\\frac{v_T^2}{g}\\log{[\\cosh{(\\frac{gt}{v_T})}]},\n",
    "$$"
   ]
  },
  {
   "cell_type": "markdown",
   "metadata": {},
   "source": [
    "(note that $\\cosh$ yields the same values for negative and positive arguments)\n",
    "allows us to find the final time by solving"
   ]
  },
  {
   "cell_type": "markdown",
   "metadata": {},
   "source": [
    "$$\n",
    "y(t_0)=\\frac{v_T^2}{g}\\log{[\\cosh{(\\frac{gt}{v_T})}]},\n",
    "$$"
   ]
  },
  {
   "cell_type": "markdown",
   "metadata": {},
   "source": [
    "which gives"
   ]
  },
  {
   "cell_type": "markdown",
   "metadata": {},
   "source": [
    "$$\n",
    "t = \\frac{v_T}{g}\\mathrm{arccosh}(\\exp{(gy_0/v_T^2)}).\n",
    "$$"
   ]
  },
  {
   "cell_type": "markdown",
   "metadata": {},
   "source": [
    "In the code below we would code these analytical expressions (with zero initial velocity in the $y$-direction) as"
   ]
  },
  {
   "cell_type": "code",
   "execution_count": null,
   "metadata": {
    "collapsed": false,
    "editable": true
   },
   "outputs": [],
   "source": [
    "    yanalytic[i+1] = y[0]-(vT*vT/g)*log(cosh(g*t[i+1]/vT))+vy[0]*t[i+1]"
   ]
  },
  {
   "cell_type": "markdown",
   "metadata": {},
   "source": [
    "We will use the above analytical results in our numerical calculations in the next exercise\n",
    "\n",
    "\n",
    "\n",
    "\n",
    "### Numerical elements, solving the previous exercise  numerically and adding the bouncing from the floor\n",
    "\n",
    "Here we will:\n",
    "1. Learn and utilize Euler's Method to find the position and the velocity\n",
    "\n",
    "2. Compare analytical and computational solutions \n",
    "\n",
    "3. Add additional forces to our model"
   ]
  },
  {
   "cell_type": "code",
   "execution_count": null,
   "metadata": {
    "collapsed": false,
    "editable": true
   },
   "outputs": [],
   "source": [
    "# let's start by importing useful packages we are familiar with\n",
    "import numpy as np\n",
    "import matplotlib.pyplot as plt\n",
    "%matplotlib inline"
   ]
  },
  {
   "cell_type": "markdown",
   "metadata": {},
   "source": [
    "We will choose the following values\n",
    "1. mass $m=0,2$ kg\n",
    "\n",
    "2. accelleration (gravity) $g=9.81$ m/s$^{2}$.\n",
    "\n",
    "3. initial position is the height $h=2$ m\n",
    "\n",
    "4. initial velocities $v_{x,0}=v_{y,0}=10$ m/s\n",
    "\n",
    "Can you find a reasonable value for the drag coefficient $D$?\n",
    "You need also to define an initial time and \n",
    "the step size $\\Delta t$. We can define the step size $\\Delta t$ as the difference between any\n",
    "two neighboring values in time (time steps) that we analyze within\n",
    "some range. It can be determined by dividing the interval we are\n",
    "analyzing, which in our case is time $t_{\\mathrm{final}}-t_0$, by the number of steps we\n",
    "are taking $(N)$. This gives us a step size $\\Delta t = \\dfrac{t_{\\mathrm{final}}-t_0}{N}$.\n",
    "\n",
    "With these preliminaries we are now ready to plot our results from exercise 5.\n",
    "\n",
    "Set up arrays for time, velocity, acceleration and positions for the results from exercise 5. Define an initial and final time. Choose the final time to be the time when the ball hits the ground for the first time. Make a plot of the position and velocity as functions of time.  Here you could set the initial velocity in the $y$-direction to zero and use the result from exercise 5. Else you need to try different initial times using the result from exercise 5 as a starting guess.  It is not critical if you don't reach the ground when the initial velocity in the $y$-direction is not zero.\n",
    "\n",
    "\n",
    "We move now to the numerical solution of the differential equations as discussed in the [lecture notes](https://mhjensen.github.io/Physics321/doc/pub/motion/html/motion.html) or Malthe-Sørenssen chapter 7.5.\n",
    "Let us remind ourselves about  Euler's Method.\n",
    "\n",
    "Suppose we know $f(t)$ and its derivative $f'(t)$. To find $f(t+\\Delta t)$ at the next step, $t+\\Delta t$,\n",
    "we can consider the Taylor expansion:\n",
    "\n",
    "$f(t+\\Delta t) = f(t) + \\dfrac{(\\Delta t)f'(t)}{1!} + \\dfrac{(\\Delta t)^2f''(t)}{2!} + ...$\n",
    "\n",
    "If we ignore the $f''$ term and higher derivatives, we obtain\n",
    "\n",
    "$f(t+\\Delta t) \\approx f(t) + (\\Delta t)f'(t)$.\n",
    "\n",
    "This approximation is the basis of Euler's method, and the Taylor\n",
    "expansion suggests that it will have errors of $O(\\Delta t^2)$.  Thus, one\n",
    "would expect it to work better, the smaller the step size $h$ that you\n",
    "use. In our case the step size is $\\Delta t$. \n",
    "\n",
    "In setting up our code we need to\n",
    "\n",
    "1. Define and obtain all initial values, constants, and time to be analyzed with step sizes as done above (you can use the same values)\n",
    "\n",
    "2. Calculate the velocity using $v_{i+1} = v_{i} + (\\Delta t)*a_{i}$\n",
    "\n",
    "3. Calculate the position using $pos_{i+1} = r_{i} + (\\Delta t)*v_{i}$\n",
    "\n",
    "4. Calculate the new acceleration $a_{i+1}$.\n",
    "\n",
    "5. Repeat steps 2-4 for all time steps within a loop.\n",
    "\n",
    "Write a code which implements Euler's method and compute numerically and plot the position and velocity as functions of time for various values of $\\Delta t$. Comment your results.\n",
    "\n",
    "Below you will find two codes, one which uses explicit expressions for the $x$- and $y$-directions and one which rewrites the expressions as compact vectors, as done in homework 2. Running the codes shows a sensitivity to the chosen step size $\\Delta t$. You will clearly notice that when comparing with the analytical results, that larger values of the step size in time result in a poorer agreement with the analytical solutions.\n",
    "\n",
    "* Compare your numerically obtained positions and velocities with the analytical results from exercise 5. Comment again your results.\n",
    "\n",
    "The codes follow here. Running them allows you to probe the various parameters and compare with analytical solutions as well. \n",
    "\n",
    "The analytical results are discussed in the lecture notes, see the slides of the week of January 25-29 <https://mhjensen.github.io/Physics321/doc/pub/week4/html/week4-bs.html>.\n",
    "\n",
    "\n",
    "The codes here show two different ways of solving the two-dimensional problem. The first one defines arrays for the $x$- and $y$-directions explicitely, while the second code uses a more\n",
    "compact (and thus closer to the mathmeatics) notation with a full two-dimensional vector.\n",
    "\n",
    "\n",
    "The initial conditions for the first example are set so that we only an object falling in the $y$-direction. Then it makes sense to compare with the analytical solution. If you change the initial conditions, this comparison is no longer correct."
   ]
  },
  {
   "cell_type": "code",
   "execution_count": null,
   "metadata": {
    "collapsed": false,
    "editable": true
   },
   "outputs": [],
   "source": [
    "# Exercise 6, hw3, brute force way with declaration of vx, vy, x and y\n",
    "# Common imports\n",
    "import numpy as np\n",
    "import pandas as pd\n",
    "from math import *\n",
    "import matplotlib.pyplot as plt\n",
    "import os\n",
    "\n",
    "# Where to save the figures and data files\n",
    "PROJECT_ROOT_DIR = \"Results\"\n",
    "FIGURE_ID = \"Results/FigureFiles\"\n",
    "DATA_ID = \"DataFiles/\"\n",
    "\n",
    "if not os.path.exists(PROJECT_ROOT_DIR):\n",
    "    os.mkdir(PROJECT_ROOT_DIR)\n",
    "\n",
    "if not os.path.exists(FIGURE_ID):\n",
    "    os.makedirs(FIGURE_ID)\n",
    "\n",
    "if not os.path.exists(DATA_ID):\n",
    "    os.makedirs(DATA_ID)\n",
    "\n",
    "def image_path(fig_id):\n",
    "    return os.path.join(FIGURE_ID, fig_id)\n",
    "\n",
    "def data_path(dat_id):\n",
    "    return os.path.join(DATA_ID, dat_id)\n",
    "\n",
    "def save_fig(fig_id):\n",
    "    plt.savefig(image_path(fig_id) + \".png\", format='png')\n",
    "\n",
    "# Output file\n",
    "outfile = open(data_path(\"Eulerresults.dat\"),'w')\n",
    "\n",
    "from pylab import plt, mpl\n",
    "plt.style.use('seaborn')\n",
    "mpl.rcParams['font.family'] = 'serif'\n",
    "\n",
    "\n",
    "g = 9.80655 #m/s^2\n",
    "# The mass and the drag constant D\n",
    "D = 0.00245 #mass/length   kg/m\n",
    "m = 0.2 #kg, mass of falling object\n",
    "DeltaT = 0.001\n",
    "#set up arrays \n",
    "tfinal = 1.4\n",
    "# set up number of points for all variables\n",
    "n = ceil(tfinal/DeltaT)\n",
    "# define scaling constant vT used in analytical solution\n",
    "vT = sqrt(m*g/D)\n",
    "# set up arrays for t, a, v, and y and arrays for analytical results\n",
    "#brute force setting up of arrays for x and y, vx, vy, ax and ay\n",
    "t = np.zeros(n)\n",
    "vy = np.zeros(n)\n",
    "y = np.zeros(n)\n",
    "vx = np.zeros(n)\n",
    "x = np.zeros(n)\n",
    "yanalytic = np.zeros(n)\n",
    "# Initial conditions, note that these correspond to an object falling in the y-direction only.\n",
    "vx[0] = 0.0 #m/s\n",
    "vy[0] = 0.0  #m/s\n",
    "y[0] = 10.0 #m\n",
    "x[0] = 0.0 #m\n",
    "yanalytic[0] = y[0]\n",
    "# Start integrating using Euler's method\n",
    "for i in range(n-1):\n",
    "    # expression for acceleration, note the absolute value and division by mass\n",
    "    ax = -D*vx[i]*sqrt(vx[i]**2+vy[i]**2)/m\n",
    "    ay = -g - D*vy[i]*sqrt(vx[i]**2+vy[i]**2)/m\n",
    "    # update velocity and position\n",
    "    vx[i+1] = vx[i] + DeltaT*ax\n",
    "    x[i+1] = x[i] + DeltaT*vx[i]\n",
    "    vy[i+1] = vy[i] + DeltaT*ay\n",
    "    y[i+1] = y[i] + DeltaT*vy[i]\n",
    "    # update time to next time step and compute analytical answer\n",
    "    t[i+1] = t[i] + DeltaT\n",
    "    yanalytic[i+1] = y[0]-(vT*vT/g)*log(cosh(g*t[i+1]/vT))+vy[0]*t[i+1]\n",
    "    if ( y[i+1] < 0.0):\n",
    "        break\n",
    "data = {'t[s]': t,\n",
    "        'Relative error in y': abs((y-yanalytic)/yanalytic),\n",
    "        'vy[m/s]': vy,\n",
    "        'x[m]': x,\n",
    "        'vx[m/s]': vx\n",
    "}\n",
    "NewData = pd.DataFrame(data)\n",
    "display(NewData)\n",
    "# save to file\n",
    "NewData.to_csv(outfile, index=False)\n",
    "#then plot\n",
    "fig, axs = plt.subplots(4, 1)\n",
    "axs[0].plot(t, y)\n",
    "axs[0].set_xlim(0, tfinal)\n",
    "axs[0].set_ylabel('y')\n",
    "axs[1].plot(t, vy)\n",
    "axs[1].set_ylabel('vy[m/s]')\n",
    "axs[1].set_xlabel('time[s]')\n",
    "axs[2].plot(t, x)\n",
    "axs[2].set_xlim(0, tfinal)\n",
    "axs[2].set_ylabel('x')\n",
    "axs[3].plot(t, vx)\n",
    "axs[3].set_ylabel('vx[m/s]')\n",
    "axs[3].set_xlabel('time[s]')\n",
    "fig.tight_layout()\n",
    "save_fig(\"EulerIntegration\")\n",
    "plt.show()"
   ]
  },
  {
   "cell_type": "markdown",
   "metadata": {},
   "source": [
    "We see a good agreement with the analytical solution. This agreement\n",
    "improves if we decrease $\\Delta t$. Furthermore, since we put the\n",
    "initial velocity and position in the $x$ direction to zero, \n",
    "the motion in the $x$-direction is\n",
    "zero, as expected."
   ]
  },
  {
   "cell_type": "code",
   "execution_count": null,
   "metadata": {
    "collapsed": false,
    "editable": true
   },
   "outputs": [],
   "source": [
    "# Smarter way with declaration of vx, vy, x and y\n",
    "# Common imports\n",
    "import numpy as np\n",
    "import pandas as pd\n",
    "from math import *\n",
    "import matplotlib.pyplot as plt\n",
    "import os\n",
    "\n",
    "# Where to save the figures and data files\n",
    "PROJECT_ROOT_DIR = \"Results\"\n",
    "FIGURE_ID = \"Results/FigureFiles\"\n",
    "DATA_ID = \"DataFiles/\"\n",
    "\n",
    "if not os.path.exists(PROJECT_ROOT_DIR):\n",
    "    os.mkdir(PROJECT_ROOT_DIR)\n",
    "\n",
    "if not os.path.exists(FIGURE_ID):\n",
    "    os.makedirs(FIGURE_ID)\n",
    "\n",
    "if not os.path.exists(DATA_ID):\n",
    "    os.makedirs(DATA_ID)\n",
    "\n",
    "def image_path(fig_id):\n",
    "    return os.path.join(FIGURE_ID, fig_id)\n",
    "\n",
    "def data_path(dat_id):\n",
    "    return os.path.join(DATA_ID, dat_id)\n",
    "\n",
    "def save_fig(fig_id):\n",
    "    plt.savefig(image_path(fig_id) + \".png\", format='png')\n",
    "\n",
    "\n",
    "from pylab import plt, mpl\n",
    "plt.style.use('seaborn')\n",
    "mpl.rcParams['font.family'] = 'serif'\n",
    "\n",
    "g = 9.80655 #m/s^2 g to 6 leading digits after decimal point\n",
    "D = 0.00245 #m/s\n",
    "m = 0.2 # kg\n",
    "# Define Gravitational force as a vector in x and y. It is a constant\n",
    "G = -m*g*np.array([0.0,1])\n",
    "DeltaT = 0.01\n",
    "#set up arrays \n",
    "tfinal = 1.3\n",
    "n = ceil(tfinal/DeltaT)\n",
    "# set up arrays for t, a, v, and x\n",
    "t = np.zeros(n)\n",
    "v = np.zeros((n,2))\n",
    "r = np.zeros((n,2))\n",
    "# Initial conditions as compact 2-dimensional arrays\n",
    "r0 = np.array([0.0,10.0])\n",
    "v0 = np.array([10.0,0.0])\n",
    "r[0] = r0\n",
    "v[0] = v0\n",
    "# Start integrating using Euler's method\n",
    "for i in range(n-1):\n",
    "    # Set up forces, air resistance FD, not now that we need the norm of the vector\n",
    "    # Here you could have defined your own function for this\n",
    "    vabs = sqrt(sum(v[i]*v[i]))\n",
    "    FD = -D*v[i]*vabs\n",
    "    # Final net forces acting on falling object\n",
    "    Fnet = FD+G\n",
    "    # The accelration at a given time t_i\n",
    "    a = Fnet/m\n",
    "    # update velocity, time and position using Euler's method\n",
    "    v[i+1] = v[i] + DeltaT*a\n",
    "    r[i+1] = r[i] + DeltaT*v[i]\n",
    "    t[i+1] = t[i] + DeltaT\n",
    "\n",
    "fig, axs = plt.subplots(4, 1)\n",
    "axs[0].plot(t, r[:,1])\n",
    "axs[0].set_xlim(0, tfinal)\n",
    "axs[0].set_ylabel('y')\n",
    "axs[1].plot(t, v[:,1])\n",
    "axs[1].set_ylabel('vy[m/s]')\n",
    "axs[1].set_xlabel('time[s]')\n",
    "axs[2].plot(t, r[:,0])\n",
    "axs[2].set_xlim(0, tfinal)\n",
    "axs[2].set_ylabel('x')\n",
    "axs[3].plot(t, v[:,0])\n",
    "axs[3].set_ylabel('vx[m/s]')\n",
    "axs[3].set_xlabel('time[s]')\n",
    "\n",
    "fig.tight_layout()\n",
    "save_fig(\"EulerIntegration\")\n",
    "plt.show()"
   ]
  },
  {
   "cell_type": "markdown",
   "metadata": {},
   "source": [
    "Till now we have only introduced gravity and air resistance and studied\n",
    "their effects via a constant acceleration due to gravity and the force\n",
    "arising from air resistance. But what happens when the ball hits the\n",
    "floor? What if we would like to simulate the normal force from the floor acting on the ball?\n",
    "\n",
    "We need then to include a force model for the normal force from\n",
    "the floor on the ball. The simplest approach to such a system is to introduce a contact force\n",
    "model represented by a spring model.  We model the interaction between the floor\n",
    "and the ball as a single spring. But the normal force is zero when\n",
    "there is no contact. Here  we define a simple model that allows us to include\n",
    "such effects in our models.\n",
    "\n",
    "The normal force from the floor on the ball is represented by a spring force. This\n",
    "is a strong simplification of the actual deformation process occurring at the contact\n",
    "between the ball and the floor due to the deformation of both the ball and the floor.\n",
    "\n",
    "The deformed region corresponds roughly to the region of **overlap** between the\n",
    "ball and the floor. The depth of this region is $\\Delta y = R − y(t)$, where $R$\n",
    "is the radius of the ball. This is supposed to represent the compression of the spring.\n",
    "Our model for the normal force acting on the ball is then"
   ]
  },
  {
   "cell_type": "markdown",
   "metadata": {},
   "source": [
    "$$\n",
    "\\boldsymbol{N} = −k (R − y(t)) \\boldsymbol{e}_y.\n",
    "$$"
   ]
  },
  {
   "cell_type": "markdown",
   "metadata": {},
   "source": [
    "The normal force must act upward when $y < R$,\n",
    "hence the sign must be negative.\n",
    "However, we must also ensure that the normal force only acts when the ball is in\n",
    "contact with the floor, otherwise the normal force is zero. The full formation of the\n",
    "normal force is therefore"
   ]
  },
  {
   "cell_type": "markdown",
   "metadata": {},
   "source": [
    "$$\n",
    "\\boldsymbol{N} = −k (R − y(t)) \\boldsymbol{e}_y,\n",
    "$$"
   ]
  },
  {
   "cell_type": "markdown",
   "metadata": {},
   "source": [
    "when $y(t) < R$ and zero when $y(t) \\le R$.\n",
    "In the numerical calculations you can choose $R=0.1$ m and the spring constant $k=1000$ N/m.\n",
    "\n",
    "* Identify the forces acting on the ball and set up a diagram with the forces acting on the ball. Find the acceleration of the falling ball now with the normal force as well.\n",
    "\n",
    "* Choose a large enough final time so you can study the ball bouncing up and down several times. Add the normal force and compute the height of the ball as function of time with and without air resistance. Comment your results.\n",
    "\n",
    "The following code shows how\n",
    "to set up the problem with gravitation, a drag force and a normal\n",
    "force from the ground. The normal force makes the ball bounce up\n",
    "again.\n",
    "\n",
    "\n",
    "The code here includes all forces. Commenting out the air resistance will result in a ball which bounces up and down to the same height.\n",
    "Furthermore, you will note that for larger values of $\\Delta t$ the results will not be physically meaningful. Can you figure out why?  Try also different values for the step size in order to see whether the final results agrees with what you expect."
   ]
  },
  {
   "cell_type": "code",
   "execution_count": null,
   "metadata": {
    "collapsed": false,
    "editable": true
   },
   "outputs": [],
   "source": [
    "# Smarter way with declaration of vx, vy, x and y\n",
    "# Here we have added a normal force from the ground\n",
    "# Common imports\n",
    "import numpy as np\n",
    "import pandas as pd\n",
    "from math import *\n",
    "import matplotlib.pyplot as plt\n",
    "import os\n",
    "\n",
    "# Where to save the figures and data files\n",
    "PROJECT_ROOT_DIR = \"Results\"\n",
    "FIGURE_ID = \"Results/FigureFiles\"\n",
    "DATA_ID = \"DataFiles/\"\n",
    "\n",
    "if not os.path.exists(PROJECT_ROOT_DIR):\n",
    "    os.mkdir(PROJECT_ROOT_DIR)\n",
    "\n",
    "if not os.path.exists(FIGURE_ID):\n",
    "    os.makedirs(FIGURE_ID)\n",
    "\n",
    "if not os.path.exists(DATA_ID):\n",
    "    os.makedirs(DATA_ID)\n",
    "\n",
    "def image_path(fig_id):\n",
    "    return os.path.join(FIGURE_ID, fig_id)\n",
    "\n",
    "def data_path(dat_id):\n",
    "    return os.path.join(DATA_ID, dat_id)\n",
    "\n",
    "def save_fig(fig_id):\n",
    "    plt.savefig(image_path(fig_id) + \".png\", format='png')\n",
    "\n",
    "\n",
    "from pylab import plt, mpl\n",
    "plt.style.use('seaborn')\n",
    "mpl.rcParams['font.family'] = 'serif'\n",
    "\n",
    "# Define constants\n",
    "g = 9.80655 #in m/s^2\n",
    "D = 0.0245 # in mass/length, kg/m\n",
    "m = 0.2 # in kg\n",
    "R = 0.1 # in meters\n",
    "k = 1000.0 # in mass/time^2\n",
    "# Define Gravitational force as a vector in x and y, zero x component\n",
    "G = -m*g*np.array([0.0,1])\n",
    "DeltaT = 0.001\n",
    "#set up arrays \n",
    "tfinal = 15.0\n",
    "n = ceil(tfinal/DeltaT)\n",
    "# set up arrays for t, v, and r, the latter contain the x and y comps\n",
    "t = np.zeros(n)\n",
    "v = np.zeros((n,2))\n",
    "r = np.zeros((n,2))\n",
    "# Initial conditions\n",
    "r0 = np.array([0.0,2.0])\n",
    "v0 = np.array([10.0,10.0])\n",
    "r[0] = r0\n",
    "v[0] = v0\n",
    "# Start integrating using Euler's method\n",
    "for i in range(n-1):\n",
    "    # Set up forces, air resistance FD\n",
    "    if ( r[i,1] < R):\n",
    "        N = k*(R-r[i,1])*np.array([0,1])\n",
    "    else:\n",
    "        N = np.array([0,0])\n",
    "    vabs = sqrt(sum(v[i]*v[i]))\n",
    "    FD = -D*v[i]*vabs\n",
    "    Fnet = FD+G+N\n",
    "    a = Fnet/m\n",
    "    # update velocity, time and position\n",
    "    v[i+1] = v[i] + DeltaT*a\n",
    "    r[i+1] = r[i] + DeltaT*v[i]\n",
    "    t[i+1] = t[i] + DeltaT\n",
    "\n",
    "fig, ax = plt.subplots()\n",
    "ax.set_xlim(0, tfinal)\n",
    "ax.set_ylabel('y[m]')\n",
    "ax.set_xlabel('x[m]')\n",
    "ax.plot(r[:,0], r[:,1])\n",
    "fig.tight_layout()\n",
    "save_fig(\"BouncingBallEuler\")\n",
    "plt.show()"
   ]
  }
 ],
 "metadata": {
  "language_info": {
   "codemirror_mode": {
    "name": "ipython",
    "version": 3
   },
   "file_extension": ".py",
   "mimetype": "text/x-python",
   "name": "python",
   "nbconvert_exporter": "python",
   "pygments_lexer": "ipython3",
   "version": "3.9.7"
  }
 },
 "nbformat": 4,
 "nbformat_minor": 4
}