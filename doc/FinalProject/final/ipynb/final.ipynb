{
 "cells": [
  {
   "cell_type": "markdown",
   "id": "5ea54822",
   "metadata": {
    "editable": true
   },
   "source": [
    "<!-- HTML file automatically generated from DocOnce source (https://github.com/doconce/doconce/)\n",
    "doconce format html final.do.txt --no_mako -->\n",
    "<!-- dom:TITLE: PHY321 Classical Mechanics 1 -->"
   ]
  },
  {
   "cell_type": "markdown",
   "id": "98097f5e",
   "metadata": {
    "editable": true
   },
   "source": [
    "# PHY321 Classical Mechanics 1\n",
    "**Final  project Spring semester 2023, due Friday May 5**, midnight (1159pm)\n",
    "\n",
    "Date: **April 26, 2023**"
   ]
  },
  {
   "cell_type": "markdown",
   "id": "07ab9f62",
   "metadata": {
    "editable": true
   },
   "source": [
    "## Practicalities about  homeworks and projects (midterms and final)\n",
    "\n",
    "1. You can work in groups (optimal groups are often 2-3 people) or by yourself. If you work as a group you can hand in one answer only if you wish. **Remember to write your name(s)**!\n",
    "\n",
    "2. How do I(we)  hand in?  Due to the extraordinary situation we are in now, the final projec should be handed in fully via D2L. You can scan your handwritten notes and upload to D2L or you can hand in everyhting (if you are ok with typing mathematical formulae using say Latex) as a jupyter notebook at D2L. The numerical part should always be handed in as a jupyter notebook."
   ]
  },
  {
   "cell_type": "markdown",
   "id": "16ce2dfc",
   "metadata": {
    "editable": true
   },
   "source": [
    "### Introduction to the final project, total score: 160  points\n",
    "\n",
    "The relevant reading background is\n",
    "1. Chapters 2-8 and 14 of Taylor\n",
    "\n",
    "2. Lecture notes throughout the semester and homework assignments and midterm projects."
   ]
  },
  {
   "cell_type": "markdown",
   "id": "c111de0f",
   "metadata": {
    "editable": true
   },
   "source": [
    "### Exercise 1, motion of a balloon (75pt)\n",
    "\n",
    "This exercise brings us back to the beginning of the semester and\n",
    "homework assignments 2 and 3, in particular exercises 5 and 6 of\n",
    "homework 3. The relevant chapter of Taylor's text is chapter 2 and\n",
    "partly chapter 3. The code you wrote for homework 3 may be useful.\n",
    "\n",
    "In this exercise we will develop a model to determine the motion of a\n",
    "weather balloon released from the ground. We start from a simplified\n",
    "model and gradually add features to make our model more realistic.\n",
    "\n",
    "After the balloon is released, it is driven by buoyancy. Initially, we will assume that the buoyancy force is given by a constant force, $\\boldsymbol{B}$.\n",
    "We assume that the motion is vertical only and label this in terms of the $z$-axis.  That is our system is one-dimensional only.\n",
    "The constant buoyancy force is then given by its $z$-component only, that is $\\boldsymbol{B}=B_z\\boldsymbol{k}$, where $\\boldsymbol{k}$ is the unit vector along the $z$-axis.\n",
    "* **1a (5pt)**: Draw a diagram of the balloon and identify and label the forces. \n",
    "\n",
    "* **1b (5pt)**: We neglect air resistance here. What is the acceleration of the balloon?\n",
    "\n",
    "* **1c (5pt)**: Find the position and velocity of the balloon as a function of time.\n",
    "\n",
    "Let us now introduce air resistance, using a quadratic law: $\\boldsymbol{F}_D\n",
    "= −D \\vert \\boldsymbol{v}\\vert \\boldsymbol{v}$, where $D$ is a constant and $\\boldsymbol{v}$\n",
    "is the velocity. We are still in one dimension but have introduced\n",
    "forces and velocities as vectors (boldfaced quantities).\n",
    "\n",
    "* **1d (5pt):** Show that the acceleration of the balloon in the upward $z$ direction is $a_z = (B_z/m)−g−(D/m)|v_z|v_z$,where $v_z$ is the velocity in the $z$-direction.\n",
    "\n",
    "* **1e (5pt):** Find the asymptotic (terminal) velocity of the balloon. Sketch the acceleration and velocity as a function of time for the model including air resistance and define the initial conditions.\n",
    "\n",
    "The balloon is released on a windy day, with a wind blowing with a velocity\n",
    "given by $\\boldsymbol{w} = w_x \\boldsymbol{i}$ along the horizontal $x$-axis.\n",
    "\n",
    "* **1f (5pt):** How does the wind modify the air resistance force $\\boldsymbol{F}_D$ on the balloon?\n",
    "\n",
    "* **1g (5pt):** Draw a diagram of the system (the balloon) in this case and identify and label the forces, as you did in **1a**.\n",
    "\n",
    "* **1h (5pt):** Find an expression for the acceleration $\\boldsymbol{a}$ of the balloon. Define the initial conditions for the motion of the balloon.\n",
    "\n",
    "* **1i (5pt):** Why do we call the motion in the $z$ and the $x$ directions as *coupled* in this case? Can you determine the motion of the balloon analytically?\n",
    "\n",
    "* **1j (20pt):** Use now your codes from homework 3 or similar and find the velocity and position of the balloon as functions of time. Plot the position and the velocity with chosen initial conditions and discuss the motion of the balloon. Find the asymptotic (terminal) velocity of the balloon.\n",
    "\n",
    "In a real situation, the wind velocity is smaller near the ground and\n",
    "increases gradually to the full velocity $w_0$ as the balloon moves\n",
    "upward. Typically, the velocity of the wind as function of the height $z$ can be described\n",
    "by"
   ]
  },
  {
   "cell_type": "markdown",
   "id": "cd6e1d06",
   "metadata": {
    "editable": true
   },
   "source": [
    "$$\n",
    "\\boldsymbol{w}(z) = w_0 (1−\\exp{(−z/d)}) \\boldsymbol{i},\n",
    "$$"
   ]
  },
  {
   "cell_type": "markdown",
   "id": "8e871f11",
   "metadata": {
    "editable": true
   },
   "source": [
    "where $d = 10$m is a length determining the change in height.\n",
    "\n",
    "* **1k (10pt):** Rewrite your program to include this effect and plot the velocity and position as functions of time. What is the terminal velocity of the balloon now?"
   ]
  },
  {
   "cell_type": "markdown",
   "id": "edaaaf00",
   "metadata": {
    "editable": true
   },
   "source": [
    "### Exercise 2: Mathematical pendulum (85pt)\n",
    "\n",
    "A mathematical pendulum consists of a point mass $m$ suspended by a\n",
    "massless thread/rod of length $l$ in a gravitational field, as shown\n",
    "in the figure here. The constraining force is labeled by $\\boldsymbol{T}$ and\n",
    "the gravitational force is labeled $\\boldsymbol{F}_g$.  Homework assignments 6 and 7 may be useful to study here. Taylor chapter 5 is the relevant reference for this exercise.\n",
    "\n",
    "<!-- dom:FIGURE: [figures/Simplependulum.png, width=600 frac=0.6]  -->\n",
    "<!-- begin figure -->\n",
    "\n",
    "<img src=\"figures/Simplependulum.png\" width=\"600\"><p style=\"font-size: 0.9em\"><i>Figure 1: </i></p>\n",
    "<!-- end figure -->\n",
    "\n",
    "We assume that the length $l$ is constant and we define the coordinates involved as"
   ]
  },
  {
   "cell_type": "markdown",
   "id": "8de1800d",
   "metadata": {
    "editable": true
   },
   "source": [
    "$$\n",
    "\\boldsymbol{r} = l\\sin(\\phi)\\boldsymbol{i}+l\\cos(\\phi)\\boldsymbol{j},\n",
    "$$"
   ]
  },
  {
   "cell_type": "markdown",
   "id": "c5870392",
   "metadata": {
    "editable": true
   },
   "source": [
    "where $\\boldsymbol{i}$ and $\\boldsymbol{j}$ are the unit vectors in the $x$ and $y$ directions, respectively.\n",
    "\n",
    "* **2a (10pt):** Set up the forces acting on the system and show that the equation of motion is $m\\ddot{\\boldsymbol{r}}=\\boldsymbol{F}_g+\\boldsymbol{T}$.\n",
    "\n",
    "Transforming to polar coordinates $r$ and $\\phi$, \n",
    "the equation for $\\phi$ is a second-order differential equation (you don't need to show this)"
   ]
  },
  {
   "cell_type": "markdown",
   "id": "79286738",
   "metadata": {
    "editable": true
   },
   "source": [
    "$$\n",
    "\\ddot{\\phi}(t)=-\\omega_0^2\\sin{(\\phi(t))}.\n",
    "$$"
   ]
  },
  {
   "cell_type": "markdown",
   "id": "514b6908",
   "metadata": {
    "editable": true
   },
   "source": [
    "This equation can be solved analytically if we assume that the angle $\\phi$ is very small. Then we can approximate our equation as"
   ]
  },
  {
   "cell_type": "markdown",
   "id": "aa2a72c3",
   "metadata": {
    "editable": true
   },
   "source": [
    "$$\n",
    "\\ddot{\\phi}(t)=-\\omega_0^2\\phi(t).\n",
    "$$"
   ]
  },
  {
   "cell_type": "markdown",
   "id": "92225117",
   "metadata": {
    "editable": true
   },
   "source": [
    "* **2b (10pt):** Find the analytical solution for the last equation. Hint, look back at the solutions for the simple harmonic oscillator problem in one dimension in for example homework 6 and chapter 5 of Taylor.\n",
    "\n",
    "For our numerical treatment of the full second-order differential  equation, we can proceed as we have done before and split the second-order differential in two first-order differential equations\n",
    "as shown here"
   ]
  },
  {
   "cell_type": "markdown",
   "id": "9f0cd15e",
   "metadata": {
    "editable": true
   },
   "source": [
    "$$\n",
    "\\frac{d\\dot{\\phi}}{dt}=-\\omega_0^2\\sin{(\\phi)}.\n",
    "$$"
   ]
  },
  {
   "cell_type": "markdown",
   "id": "d9d4498a",
   "metadata": {
    "editable": true
   },
   "source": [
    "and"
   ]
  },
  {
   "cell_type": "markdown",
   "id": "8ecd8959",
   "metadata": {
    "editable": true
   },
   "source": [
    "$$\n",
    "\\frac{d\\phi}{dt}=\\dot{\\phi}.\n",
    "$$"
   ]
  },
  {
   "cell_type": "markdown",
   "id": "2e1eb887",
   "metadata": {
    "editable": true
   },
   "source": [
    "* **2c (10pt):** Scale the equations in terms of a dimensionless time $\\hat{t}=\\omega_0t$. Choose between the Euler-Cromer, the Velocity-Verlet or the Runge-Kutta to fourth order and **write down** the algorithm for solving the last two equations numerically. Explain briefly your choice of numerical algorithm. Hint, look back at what you did in homework assignments 6 and 7 and the  midterms.\n",
    "\n",
    "* **2d (15pt):** Choose initial conditions and compare your numerical solution with the analytical one. For which range of angles $\\phi$ (determined by your initial conditions) are the analytical solutions comparable to your numerical results? Discuss the implications of your results.\n",
    "\n",
    "* **2e (20pt):** Find the expressions for the kinetic and potential energies in terms of the variables $r$ and $\\phi$. Remember that $r=l$ and is a constant throughout the calculations. In your code, check then whether energy is conserved by calculating the total energy, the kinetic and potential energies ad functions of time. Discuss your results. Do you expect energy to be conserved? \n",
    "\n",
    "* **2f (20pt):** With the potential $V$  and kinetic $T$ energy, define the Lagrangian for the mathematical pendulum discussed here. Add the constraint $r=l$ via a Lagrange multiplier $\\lambda$ and derive the equations of motion. Show that these result in  $\\ddot{\\phi}(t)=-\\omega_0^2\\sin{(\\phi(t))}$ with $\\omega_0^2=g/l$ and $\\lambda=ml\\dot{\\phi}^2+mg\\cos{(\\phi)}$.  How would you interpret $\\lambda$?"
   ]
  },
  {
   "cell_type": "markdown",
   "id": "3a4cbbbb",
   "metadata": {
    "editable": true
   },
   "source": [
    "### Classical Mechanics Extra Credit Assignment: Scientific Writing and attending Talks\n",
    "\n",
    "The following gives you an opportunity to earn **five extra credit\n",
    "points** on each of the remaining homeworks and **ten extra credit points**\n",
    "on the midterms and finals.  This assignment also covers an aspect of\n",
    "the scientific process that is not taught in most undergraduate\n",
    "programs: scientific writing.  Writing scientific reports is how\n",
    "scientist communicate their results to the rest of the field.  Knowing\n",
    "how to assemble a well written scientific report will greatly benefit\n",
    "you in you upper level classes, in graduate school, and in the work\n",
    "place.\n",
    "\n",
    "The full information on extra credits is found at <https://github.com/mhjensen/Physics321/blob/master/doc/Homeworks/ExtraCredits/>. There you will also find examples on how to write a scientific article. \n",
    "Below you can also find a description on how to gain extra credits by attending scientific talks.\n",
    "\n",
    "This assignment allows you to gain extra credit points by practicing\n",
    "your scientific writing.  For each of the remaining homeworks you can\n",
    "submit the specified section of a scientific report (written about the\n",
    "numerical aspect of the homework) for five extra credit points on the\n",
    "assignment.  For the two midterms and the final, submitting a full\n",
    "scientific report covering the numerical analysis problem will be\n",
    "worth ten extra points.  For credit the grader must be able to tell\n",
    "that you put effort into the assignment (i.e. well written, well\n",
    "formatted, etc.).  If you are unfamiliar with writing scientific\n",
    "reports, [see the information here](https://github.com/mhjensen/Physics321/blob/master/doc/Homeworks/ExtraCredits/IntroductionScientificWriting.md)\n",
    "\n",
    "The following table explains what aspect of a scientific report is due\n",
    "with which homework.  You can submit the assignment in any format you\n",
    "like, in the same document as your homework, or in a different one.\n",
    "Remember to cite any external references you use and include a\n",
    "reference list.  There are no length requirements, but make sure what\n",
    "you turn in is complete and through.  If you have any questions,\n",
    "please contact us.\n",
    "\n",
    "<table class=\"dotable\" border=\"1\">\n",
    "<thead>\n",
    "<tr><th align=\"center\">  HW/Project </th> <th align=\"center\">Due Date</th> <th align=\"center\">Extra Credit Assignment</th> </tr>\n",
    "</thead>\n",
    "<tbody>\n",
    "<tr><td align=\"center\">   HW 3             </td> <td align=\"center\">   2-8         </td> <td align=\"center\">   Abstract                   </td> </tr>\n",
    "<tr><td align=\"center\">   HW 4             </td> <td align=\"center\">   2-15        </td> <td align=\"center\">   Introduction               </td> </tr>\n",
    "<tr><td align=\"center\">   HW 5             </td> <td align=\"center\">   2-22        </td> <td align=\"center\">   Methods                    </td> </tr>\n",
    "<tr><td align=\"center\">   HW 6             </td> <td align=\"center\">   3-1         </td> <td align=\"center\">   Results and Discussion     </td> </tr>\n",
    "<tr><td align=\"center\">   **Midterm 1**    </td> <td align=\"center\">   **3-12**    </td> <td align=\"center\">   *Full Written Report*      </td> </tr>\n",
    "<tr><td align=\"center\">   HW 7             </td> <td align=\"center\">   3-22        </td> <td align=\"center\">   Abstract                   </td> </tr>\n",
    "<tr><td align=\"center\">   HW 8             </td> <td align=\"center\">   3-29        </td> <td align=\"center\">   Introduction               </td> </tr>\n",
    "<tr><td align=\"center\">   HW 9             </td> <td align=\"center\">   4-5         </td> <td align=\"center\">   Results and Discussion     </td> </tr>\n",
    "<tr><td align=\"center\">   **Midterm 2**    </td> <td align=\"center\">   **4-16**    </td> <td align=\"center\">   *Full Written Report*      </td> </tr>\n",
    "<tr><td align=\"center\">   HW 10            </td> <td align=\"center\">   4-26        </td> <td align=\"center\">   Abstract                   </td> </tr>\n",
    "<tr><td align=\"center\">   **Final**        </td> <td align=\"center\">   **4-30**    </td> <td align=\"center\">   *Full Written Report*      </td> </tr>\n",
    "</tbody>\n",
    "</table>\n",
    "\n",
    "You can also gain extra credits if you attend scientific talks.\n",
    "This is described here."
   ]
  },
  {
   "cell_type": "markdown",
   "id": "8a44a1d2",
   "metadata": {
    "editable": true
   },
   "source": [
    "### Integrating Classwork With Research\n",
    "\n",
    "This opportunity will allow you to earn up to 5 extra credit points on a Homework per week. These points can push you above 100% or help make up for missed exercises.\n",
    "In order to earn all points you must:\n",
    "\n",
    "1. Attend an MSU research talk (recommended research oriented Clubs is  provided below)\n",
    "\n",
    "2. Summarize the talk using at least 150 words\n",
    "\n",
    "3. Turn in the summary along with your Homework.\n",
    "\n",
    "Approved talks:\n",
    "Talks given by researchers through the following clubs:\n",
    "* Research and Idea Sharing Enterprise (RAISE)​: Meets Wednesday Nights Society for Physics Students (SPS)​: Meets Monday Nights\n",
    "\n",
    "* Astronomy Club​: Meets Monday Nights\n",
    "\n",
    "* Facility For Rare Isotope Beam (FRIB) Seminars: ​Occur multiple times a week\n",
    "\n",
    "All the material on extra credits is at <https://github.com/mhjensen/Physics321/blob/master/doc/Homeworks/ExtraCredits/>."
   ]
  }
 ],
 "metadata": {},
 "nbformat": 4,
 "nbformat_minor": 5
}
