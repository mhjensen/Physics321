{
 "cells": [
  {
   "cell_type": "markdown",
   "id": "238ee498",
   "metadata": {
    "editable": true
   },
   "source": [
    "<!-- HTML file automatically generated from DocOnce source (https://github.com/doconce/doconce/)\n",
    "doconce format html final.do.txt --no_mako -->\n",
    "<!-- dom:TITLE: PHY321 Classical Mechanics 1 -->"
   ]
  },
  {
   "cell_type": "markdown",
   "id": "82409032",
   "metadata": {
    "editable": true
   },
   "source": [
    "# PHY321 Classical Mechanics 1\n",
    "**Final project, due Friday May 6 midnight (1159pm)**\n",
    "\n",
    "Date: **Apr 29, 2022**"
   ]
  },
  {
   "cell_type": "markdown",
   "id": "cee28ee6",
   "metadata": {
    "editable": true
   },
   "source": [
    "## Practicalities about  homeworks and projects\n",
    "\n",
    "1. You can work in groups (optimal groups are often 2-3 people) or by yourself. If you work as a group you can hand in one answer only if you wish. **Remember to write your name(s)**!\n",
    "\n",
    "2. How do I(we)  hand in?  Due to the extraordinary situation we are in now, the final projec should be handed in fully via D2L. You can scan your handwritten notes and upload to D2L or you can hand in everyhting (if you are ok with typing mathematical formulae using say Latex) as a jupyter notebook at D2L. The numerical part should always be handed in as a jupyter notebook."
   ]
  },
  {
   "cell_type": "markdown",
   "id": "0cd08aaa",
   "metadata": {
    "editable": true
   },
   "source": [
    "### Introduction to the final project, total score: 110  points\n",
    "\n",
    "The relevant reading background is\n",
    "1. chapters 2-8 and 14 of Taylor\n",
    "\n",
    "2. lecture notes throughout the semester and previous homework and midterm projects.\n",
    "\n",
    "The final project aims at covering most of the topics we have\n",
    "discussed during the semester. You should feel free to use either\n",
    "paper and pencil and/or symbolic software (sympy, Mathematica or\n",
    "similar) for the non-computational exercises."
   ]
  },
  {
   "cell_type": "markdown",
   "id": "6b4ca958",
   "metadata": {
    "editable": true
   },
   "source": [
    "### Exercise 1, Two-body Problems and Conservative Forces (total 35pt)\n",
    "\n",
    "The relevant material can be found in Taylor chapters 4 and 8. Homework sets 5, 6-9 and the chapters on [forces](https://mhjensen.github.io/Physics321/doc/LectureNotes/_build/html/chapter4.html) and [two-body problems](https://mhjensen.github.io/Physics321/doc/LectureNotes/_build/html/chapter6.html) from the lecture notes may also be of use. \n",
    "\n",
    "This exercise and the next are  follow-ups of homework 6. There we studied the so-called\n",
    "[Lennard-Jones potential](https://en.wikipedia.org/wiki/Lennard-Jones_potential) which is widely used in molecular dynamics\n",
    "calculations and in the simulations of [quantum liquids](https://journals.aps.org/prb/abstract/10.1103/PhysRevB.40.11070). This potential is based on parametrizations from\n",
    "experiments. In [molecular dynamics calculations](https://en.wikipedia.org/wiki/Molecular_dynamics) the assumption is\n",
    "that atoms move according to the laws of Newton, given the correct\n",
    "model for interactions. We can say then that quantum-mechanical\n",
    "degrees of freedom stemming from complicated interactions between electrons\n",
    "and protons in an atom, are parametrized in terms of an effective\n",
    "potential.\n",
    "\n",
    "We will limit ourselves to a two-body problem.\n",
    "\n",
    "The goal of this exercise is to model a gas of argon atoms (here two\n",
    "atoms only interacting), where the atoms interact according to the\n",
    "famous Lennard-Jones potential,"
   ]
  },
  {
   "cell_type": "markdown",
   "id": "a87ae649",
   "metadata": {
    "editable": true
   },
   "source": [
    "<!-- Equation labels as ordinary links -->\n",
    "<div id=\"eq:lj\"></div>\n",
    "\n",
    "$$\n",
    "\\begin{equation}\n",
    "    V(r) = 4\\varepsilon\\left((\\frac{\\sigma}{r})^{12} - (\\frac{\\sigma}{r})^6\\right), \\label{eq:lj} \\tag{1}\n",
    "\\end{equation}\n",
    "$$"
   ]
  },
  {
   "cell_type": "markdown",
   "id": "38f1516e",
   "metadata": {
    "editable": true
   },
   "source": [
    "where $r$ is the distance between two atoms,\n",
    "$r=\\vert\\boldsymbol{r}_i-\\boldsymbol{r}_j\\vert$, that is the norm of the relative\n",
    "distance vector $\\boldsymbol{r}$. The quantities $\\sigma$ and $\\varepsilon$ are\n",
    "parameters which determine which chemical compound is modelled. This\n",
    "potential is a good approximation for noble gases like helium, neon, argon and other.\n",
    "\n",
    "We start first with a basic study of the potential\n",
    "\n",
    "* **1a (5pt):** Plot the potential as a function of $r$ with $\\varepsilon=1$ and $\\sigma=1$, for example for $r \\in [0.9,3]$.\n",
    "\n",
    "* **1b (5pt):** The behaviour of $V(r)$ is vastly different for $r < \\sigma$ and $r > \\sigma$. Which term in the potential, ([1](#eq:lj)), dominates in each case and what is the effect?\n",
    "\n",
    "* **1c (5pt):** Find and characterize the equilibrium points of the potential.\n",
    "\n",
    "* **1d (5pt):** Describe qualitatively the motion of two atoms which start at rest separated by a distance of ${1.5}\\sigma$. What if they start with a separation of ${0.95}\\sigma$?  (Hint: use the graph of the potential.)\n",
    "\n",
    "Then we switch our attention to the equations of motion.\n",
    "\n",
    "* **1e (5pt):** Find the force on atom $i$ at position $\\boldsymbol{r}_i$ from atom $j$ at position $\\boldsymbol{r}_j$. Is this a conservative force?\n",
    "\n",
    "* **1f (5pt):**  Are linear and angular momentum conserved? You need to show this by calculating the relevant quantities. Hint: see homework set 4 and exercise 2.\n",
    "\n",
    "* **1g (5pt):** Show that the equation of motion for atom $i$ is"
   ]
  },
  {
   "cell_type": "markdown",
   "id": "6172285a",
   "metadata": {
    "editable": true
   },
   "source": [
    "$$\n",
    "\\frac{d^2\\boldsymbol{r}_i}{dt^2} = \\frac{24\\varepsilon}{m} \\sum_{j \\neq i} \\left(2(\\frac{\\sigma}{\\vert\\boldsymbol{r}_i-\\boldsymbol{r}_j}\\vert)^{12}-(\\frac{\\sigma}{\\vert\\boldsymbol{r}_i-\\boldsymbol{r}_j}\\vert)^6\\right)\\frac{\\boldsymbol{r}_i-\\boldsymbol{r}_j}{\\vert\\boldsymbol{r}_i-\\boldsymbol{r}_j\\vert^2}.\n",
    "$$"
   ]
  },
  {
   "cell_type": "markdown",
   "id": "d39719fd",
   "metadata": {
    "editable": true
   },
   "source": [
    "### Exercise 2, Two-body Problems and Conservative Forces, Numerical Studies (50pt)\n",
    "\n",
    "In this exercise we will solve the previous equations of motion numerically and study the solutions.\n",
    "Here you can use the same codes you developed in homework sets 5-9 and the second midterm.\n",
    "\n",
    "Numerical accuracy is reduced when computing with values which are\n",
    "many orders of magnitude apart. This is often an issue in physics, and\n",
    "molecular dynamics is no exception. For example, the mass of argon is\n",
    "smaller than 10E-25kg, while typical length scales are\n",
    "on the order of nanometers, 10E-9m.\n",
    "\n",
    "The remedy is to change units so that most quantities are close to\n",
    "$1$. From ([1](#eq:lj)) it is clear that $\\sigma$ and $\\varepsilon$\n",
    "are the typical scales for length and energy.\n",
    "\n",
    "* **2a (5pt):** Introduce the scaled coordinates $\\boldsymbol{r}_i\\,'=\\boldsymbol{r}_i/\\sigma$ and show that the equation of motion can be rewritten in terms of these coordinates as (where $t'=t/\\tau$ for a suitable choice of $\\tau$.)"
   ]
  },
  {
   "cell_type": "markdown",
   "id": "0a0823e9",
   "metadata": {
    "editable": true
   },
   "source": [
    "<!-- Equation labels as ordinary links -->\n",
    "<div id=\"eq:undim\"></div>\n",
    "\n",
    "$$\n",
    "\\begin{equation}\n",
    "\\frac{d^2\\boldsymbol{r}_i\\,'}{{dt'^2}} = 24 \\sum_{j \\neq i} \\left(2\\vert\\boldsymbol{r}_i\\,'-\\boldsymbol{r}_j\\,'\\vert^{-12}-\\vert\\boldsymbol{r}_i\\,'-\\boldsymbol{r}_j\\,'\\vert^{-6}\\right)\\frac{\\boldsymbol{r}_i\\,'-\\boldsymbol{r}_j\\,'}{\\vert\\boldsymbol{r}_i\\,'-\\boldsymbol{r}_j\\,'\\vert^2}, \\label{eq:undim} \\tag{2}\n",
    "\\end{equation}\n",
    "$$"
   ]
  },
  {
   "cell_type": "markdown",
   "id": "0dda6c2b",
   "metadata": {
    "editable": true
   },
   "source": [
    "* **2b (5pt):** What is the characteristic time scale $\\tau$, and what is its value for argon, which has $\\sigma=3.405$Å (1Å=1E-10m), $m = 39.95u$ (with 1u=1.66E-27kg) and $\\varepsilon=1.0318$ E-2eV (1eV=1.602E-19J)?\n",
    "\n",
    "We switch now to a numerical procedure and study the simulation of two interacting atoms.\n",
    "* **2c (10pt):** Write a function which solves ([2](#eq:undim)) for two atoms and find the positions and velocities of the atoms as a function of time. Implement either the Euler-Cromer or the Velocity-Verlet methods to solve the equations of motion (you can reuse your codes from homework sets 5-9 or the second midterm).\n",
    "\n",
    "* **2d (5pt):** Simulate the motion of two atoms which start at rest separated by a distance of ${1.5}\\sigma$. Use $\\Delta t'={0.01}$, simulate until $t'=5$ and integrate with one of the above methods. Plot the distance between the atoms as a function of time. How does the motion fit with your expectations? What type of motion do you expect?\n",
    "\n",
    "* **2e (5pt):** Repeat the previous tasks, but now with an initial separation of $0.95\\sigma$. Explain your results. \n",
    "\n",
    "* **2f (10pt):** Compute and plot the kinetic, potential and total energy as a function of time for the time interval from exercise  2d and the initial conditions from 2d and 2e. Should the total energy be conserved? Why, or why not? Here you can use your codes from the second midterm for computing the energies.\n",
    "\n",
    "* **2g (10pt):** Is angular momentum conserved (see your answers to 1f). How would you show this numerically? Hint: see your answers to the second midterm, exercise 1c."
   ]
  },
  {
   "cell_type": "markdown",
   "id": "55970eed",
   "metadata": {
    "editable": true
   },
   "source": [
    "### Exercise 3, Lagrangian formalism and the Lennard-Jones potential (35pt)\n",
    "\n",
    "The relevant chapters from Taylor are chapters 6-7 and 8. In addition he lectures\n",
    "notes on the [Lagrangian Formalism and Calculus of\n",
    "Variations](https://mhjensen.github.io/Physics321/doc/LectureNotes/_build/html/chapter8.html) can be of use. You\n",
    "need also results from the two-body problem of chapter 8 of Taylor and\n",
    "the lecture notes [two-body\n",
    "problems](https://mhjensen.github.io/Physics321/doc/LectureNotes/_build/html/chapter6.html).\n",
    "\n",
    "We will stay with a two-body problem only with particles $1$ and $2$, as in the two previous exercises.  \n",
    "We introduce the relative mass $\\mu=m_1m_2/M$ where the total mass $M=m_1+m_2$, the sum of the masses $m_1$ and $m_2$.\n",
    "\n",
    "* **3a (5pt):** Define the center-of-mass position $\\boldsymbol{R}$ and the relative position $\\boldsymbol{r}$ in terms of the masses and the positions of particles one and two $\\boldsymbol{r}_1$ and $\\boldsymbol{r}_2$, respectively. Define then the center-of-mass frame by setting $\\boldsymbol{R}=0$. Show then that you can write the total angular momentum as $\\boldsymbol{L}=\\mu(\\boldsymbol{r}\\times \\ddot{\\boldsymbol{r}}$. Hint: See Taylor section 8.3. How do you interpret the angular momentum?  Why can we reduce the motion of two particles to a problem in two dimensions only?\n",
    "\n",
    "* **3b (10pt):** We introduce polar coordinates with $r\\in [0,\\infty)$ and $\\phi\\in[0,2\\pi]$. The quantity $r$ is the absolute value (magnitude) of the relative distance. Show that you can write the kinetic energy as $K=1/2\\mu(\\ddot{r}^2+r^2\\ddot{\\phi}^2)$.\n",
    "\n",
    "* **3c (5pt):** Include the potential energy for the Lennard-Jones potential and write out the Lagrangian using the coordinates $r$ and $\\phi$. Does the potential energy depend on $phi$?\n",
    "\n",
    "* **3d (10pt):** Use the Euler-Lagrange equations to find the equations of motion for $r$ and $\\phi$. Does the equation of motion for $r$ agree with what you derived in exercise 1? Comment your results.\n",
    "\n",
    "* **3e (5pt):** Use the equation of motion for $\\phi$ to show that angular momentum is conserved. Comment your results. Can you infer this from the form of the potential? Hint: see your answer to 3c."
   ]
  },
  {
   "cell_type": "markdown",
   "id": "8c8b3196",
   "metadata": {
    "editable": true
   },
   "source": [
    "### Classical Mechanics Extra Credit Assignment: Scientific Writing and attending Talks\n",
    "\n",
    "The following gives you an opportunity to earn **five extra credit\n",
    "points** on each of the remaining homeworks and **ten extra credit points**\n",
    "on the midterms and finals.  This assignment also covers an aspect of\n",
    "the scientific process that is not taught in most undergraduate\n",
    "programs: scientific writing.  Writing scientific reports is how\n",
    "scientist communicate their results to the rest of the field.  Knowing\n",
    "how to assemble a well written scientific report will greatly benefit\n",
    "you in you upper level classes, in graduate school, and in the work\n",
    "place.\n",
    "\n",
    "The full information on extra credits is found at <https://github.com/mhjensen/Physics321/blob/master/doc/Homeworks/ExtraCredits/>. There you will also find examples on how to write a scientific article. \n",
    "Below you can also find a description on how to gain extra credits by attending scientific talks.\n",
    "\n",
    "This assignment allows you to gain extra credit points by practicing\n",
    "your scientific writing.  For each of the remaining homeworks you can\n",
    "submit the specified section of a scientific report (written about the\n",
    "numerical aspect of the homework) for five extra credit points on the\n",
    "assignment.  For the two midterms and the final, submitting a full\n",
    "scientific report covering the numerical analysis problem will be\n",
    "worth ten extra points.  For credit the grader must be able to tell\n",
    "that you put effort into the assignment (i.e. well written, well\n",
    "formatted, etc.).  If you are unfamiliar with writing scientific\n",
    "reports, [see the information here](https://github.com/mhjensen/Physics321/blob/master/doc/Homeworks/ExtraCredits/IntroductionScientificWriting.md)\n",
    "\n",
    "The following table explains what aspect of a scientific report is due\n",
    "with which homework.  You can submit the assignment in any format you\n",
    "like, in the same document as your homework, or in a different one.\n",
    "Remember to cite any external references you use and include a\n",
    "reference list.  There are no length requirements, but make sure what\n",
    "you turn in is complete and through.  If you have any questions,\n",
    "please contact Julie Butler at butler@frib.msu.edu.\n",
    "\n",
    "<table class=\"dotable\" border=\"1\">\n",
    "<thead>\n",
    "<tr><th align=\"center\">  HW/Project </th> <th align=\"center\">Due Date</th> <th align=\"center\">Extra Credit Assignment</th> </tr>\n",
    "</thead>\n",
    "<tbody>\n",
    "<tr><td align=\"center\">   HW 3             </td> <td align=\"center\">   2-8         </td> <td align=\"center\">   Abstract                   </td> </tr>\n",
    "<tr><td align=\"center\">   HW 4             </td> <td align=\"center\">   2-15        </td> <td align=\"center\">   Introduction               </td> </tr>\n",
    "<tr><td align=\"center\">   HW 5             </td> <td align=\"center\">   2-22        </td> <td align=\"center\">   Methods                    </td> </tr>\n",
    "<tr><td align=\"center\">   HW 6             </td> <td align=\"center\">   3-1         </td> <td align=\"center\">   Results and Discussion     </td> </tr>\n",
    "<tr><td align=\"center\">   **Midterm 1**    </td> <td align=\"center\">   **3-12**    </td> <td align=\"center\">   *Full Written Report*      </td> </tr>\n",
    "<tr><td align=\"center\">   HW 7             </td> <td align=\"center\">   3-22        </td> <td align=\"center\">   Abstract                   </td> </tr>\n",
    "<tr><td align=\"center\">   HW 8             </td> <td align=\"center\">   3-29        </td> <td align=\"center\">   Introduction               </td> </tr>\n",
    "<tr><td align=\"center\">   HW 9             </td> <td align=\"center\">   4-5         </td> <td align=\"center\">   Results and Discussion     </td> </tr>\n",
    "<tr><td align=\"center\">   **Midterm 2**    </td> <td align=\"center\">   **4-16**    </td> <td align=\"center\">   *Full Written Report*      </td> </tr>\n",
    "<tr><td align=\"center\">   HW 10            </td> <td align=\"center\">   4-26        </td> <td align=\"center\">   Abstract                   </td> </tr>\n",
    "<tr><td align=\"center\">   **Final**        </td> <td align=\"center\">   **4-30**    </td> <td align=\"center\">   *Full Written Report*      </td> </tr>\n",
    "</tbody>\n",
    "</table>\n",
    "\n",
    "You can also gain extra credits if you attend scientific talks.\n",
    "This is described here."
   ]
  },
  {
   "cell_type": "markdown",
   "id": "a6afc699",
   "metadata": {
    "editable": true
   },
   "source": [
    "### Integrating Classwork With Research\n",
    "\n",
    "This opportunity will allow you to earn up to 5 extra credit points on a Homework per week. These points can push you above 100% or help make up for missed exercises.\n",
    "In order to earn all points you must:\n",
    "\n",
    "1. Attend an MSU research talk (recommended research oriented Clubs is  provided below)\n",
    "\n",
    "2. Summarize the talk using at least 150 words\n",
    "\n",
    "3. Turn in the summary along with your Homework.\n",
    "\n",
    "Approved talks:\n",
    "Talks given by researchers through the following clubs:\n",
    "* Research and Idea Sharing Enterprise (RAISE)​: Meets Wednesday Nights Society for Physics Students (SPS)​: Meets Monday Nights\n",
    "\n",
    "* Astronomy Club​: Meets Monday Nights\n",
    "\n",
    "* Facility For Rare Isotope Beam (FRIB) Seminars: ​Occur multiple times a week\n",
    "\n",
    "If you have any questions please write us.\n",
    "\n",
    "All the material on extra credits is at <https://github.com/mhjensen/Physics321/blob/master/doc/Homeworks/ExtraCredits/>."
   ]
  }
 ],
 "metadata": {},
 "nbformat": 4,
 "nbformat_minor": 5
}
