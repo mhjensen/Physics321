{
 "cells": [
  {
   "cell_type": "code",
   "execution_count": 1,
   "id": "e5de9ff0",
   "metadata": {},
   "outputs": [],
   "source": [
    "from ClassicalMechanicsSolvers import *"
   ]
  },
  {
   "cell_type": "code",
   "execution_count": 2,
   "id": "fbf140da",
   "metadata": {},
   "outputs": [
    {
     "data": {
      "text/html": [
       "<div>\n",
       "<style scoped>\n",
       "    .dataframe tbody tr th:only-of-type {\n",
       "        vertical-align: middle;\n",
       "    }\n",
       "\n",
       "    .dataframe tbody tr th {\n",
       "        vertical-align: top;\n",
       "    }\n",
       "\n",
       "    .dataframe thead th {\n",
       "        text-align: right;\n",
       "    }\n",
       "</style>\n",
       "<table border=\"1\" class=\"dataframe\">\n",
       "  <thead>\n",
       "    <tr style=\"text-align: right;\">\n",
       "      <th></th>\n",
       "      <th>t[s]</th>\n",
       "      <th>y[m]</th>\n",
       "      <th>v[m/s]</th>\n",
       "      <th>a[m/s^2]</th>\n",
       "    </tr>\n",
       "  </thead>\n",
       "  <tbody>\n",
       "    <tr>\n",
       "      <th>0</th>\n",
       "      <td>0.00</td>\n",
       "      <td>0.000000</td>\n",
       "      <td>10.000000</td>\n",
       "      <td>-9.80655</td>\n",
       "    </tr>\n",
       "    <tr>\n",
       "      <th>1</th>\n",
       "      <td>0.01</td>\n",
       "      <td>0.000490</td>\n",
       "      <td>9.901934</td>\n",
       "      <td>-9.80655</td>\n",
       "    </tr>\n",
       "    <tr>\n",
       "      <th>2</th>\n",
       "      <td>0.02</td>\n",
       "      <td>0.000981</td>\n",
       "      <td>9.803869</td>\n",
       "      <td>-9.80655</td>\n",
       "    </tr>\n",
       "    <tr>\n",
       "      <th>3</th>\n",
       "      <td>0.03</td>\n",
       "      <td>0.001471</td>\n",
       "      <td>9.705803</td>\n",
       "      <td>-9.80655</td>\n",
       "    </tr>\n",
       "    <tr>\n",
       "      <th>4</th>\n",
       "      <td>0.04</td>\n",
       "      <td>0.001961</td>\n",
       "      <td>9.607738</td>\n",
       "      <td>-9.80655</td>\n",
       "    </tr>\n",
       "  </tbody>\n",
       "</table>\n",
       "</div>"
      ],
      "text/plain": [
       "   t[s]      y[m]     v[m/s]  a[m/s^2]\n",
       "0  0.00  0.000000  10.000000  -9.80655\n",
       "1  0.01  0.000490   9.901934  -9.80655\n",
       "2  0.02  0.000981   9.803869  -9.80655\n",
       "3  0.03  0.001471   9.705803  -9.80655\n",
       "4  0.04  0.001961   9.607738  -9.80655"
      ]
     },
     "metadata": {},
     "output_type": "display_data"
    },
    {
     "data": {
      "image/png": "[encoded data removed]",
      "text/plain": [
       "<Figure size 432x288 with 3 Axes>"
      ]
     },
     "metadata": {
      "needs_background": "light"
     },
     "output_type": "display_data"
    }
   ],
   "source": [
    "g = 9.80655 #m/s^2\n",
    "D = 0.00245 #m/s\n",
    "DeltaT = 0.01\n",
    "tfinal = 100\n",
    "v_0 = 10\n",
    "y_0 = 0\n",
    "cm = ClassicalMechanicsSolvers(g, D, DeltaT, tfinal, v_0, y_0)\n",
    "cm.euler (min_position=0.0, acceleration_eq=freefall_no_drag_acceleration, yanalytic_eq=freefall_no_drag_yanalytic)\n",
    "cm.display_data()\n",
    "cm.graph_data()"
   ]
  },
  {
   "cell_type": "code",
   "execution_count": null,
   "id": "a0463811",
   "metadata": {},
   "outputs": [],
   "source": []
  }
 ],
 "metadata": {
  "kernelspec": {
   "display_name": "Python 3 (ipykernel)",
   "language": "python",
   "name": "python3"
  },
  "language_info": {
   "codemirror_mode": {
    "name": "ipython",
    "version": 3
   },
   "file_extension": ".py",
   "mimetype": "text/x-python",
   "name": "python",
   "nbconvert_exporter": "python",
   "pygments_lexer": "ipython3",
   "version": "3.9.10"
  }
 },
 "nbformat": 4,
 "nbformat_minor": 5
}
