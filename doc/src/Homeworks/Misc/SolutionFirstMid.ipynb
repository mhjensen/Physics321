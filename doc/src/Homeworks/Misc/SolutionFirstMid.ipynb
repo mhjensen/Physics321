{
 "cells": [
  {
   "cell_type": "markdown",
   "metadata": {},
   "source": [
    "<!-- dom:TITLE: PHY321: Classical Mechanics 1 -->\n",
    "# PHY321: Classical Mechanics 1\n",
    "<!-- dom:AUTHOR: First midterm project, due Wednesday March 12 -->\n",
    "<!-- Author: -->  \n",
    "**First midterm project, due Wednesday March 12**\n",
    "\n",
    "Date: **An attempt at a solution**\n",
    "\n",
    "### Part 1, Particle in a one-dimensional  potential\n",
    "\n",
    "We consider a particle (for example an atom) of mass $m$ moving in a one-dimensional potential,"
   ]
  },
  {
   "cell_type": "markdown",
   "metadata": {},
   "source": [
    "$$\n",
    "V(x)=\\frac{V_0}{d^4}\\left(x^4-2x^2d^2+d^4\\right).\n",
    "$$"
   ]
  },
  {
   "cell_type": "markdown",
   "metadata": {},
   "source": [
    "We will assume all other forces on the particle are small in\n",
    "comparison, and neglect them in our model.  The parameters $V_0$ and\n",
    "$d$ are known constants.\n",
    "\n",
    "1. (5pt) Plot the potential and find the  equilibrium points (stable and unstable) by requiring that the first derivative of the potential is zero. Make an energy diagram (see for example Malthe-Sørenssen chapter 11.3) and mark the equilibrium points on the diagram and characterize their stability. The position of the particle is $x$. \n",
    "\n",
    "We have chosen values $d=1$ and $V_0=4$. \n",
    "The following Python code gives a plot of potential"
   ]
  },
  {
   "cell_type": "code",
   "execution_count": null,
   "metadata": {},
   "outputs": [],
   "source": [
    "%matplotlib inline\n",
    "\n",
    "# Common imports\n",
    "import numpy as np\n",
    "from math import *\n",
    "import matplotlib.pyplot as plt\n",
    "\n",
    "Deltax = 0.01\n",
    "#set up arrays\n",
    "xinitial = -2.0\n",
    "xfinal = 2.0 \n",
    "n = ceil((xfinal-xinitial)/Deltax)\n",
    "x = np.zeros(n)\n",
    "for i in range(n):\n",
    "    x[i] = xinitial+i*Deltax\n",
    "V = np.zeros(n)\n",
    "# Initial conditions as compact 2-dimensional arrays\n",
    "d = 1.0\n",
    "V0 = 4.0\n",
    "V = (V0/d**4)*(x**4-2*x*x*d*d+d**4)\n",
    "# Plot potential as function of position    \n",
    "fig, ax = plt.subplots()\n",
    "#ax.set_xlim(0, tfinal)\n",
    "ax.set_xlabel('x')\n",
    "ax.set_ylabel('V')\n",
    "ax.plot(x, V)\n",
    "fig.tight_layout()\n",
    "plt.show()"
   ]
  },
  {
   "cell_type": "markdown",
   "metadata": {},
   "source": [
    "When we take the derivative of the potential we have"
   ]
  },
  {
   "cell_type": "markdown",
   "metadata": {},
   "source": [
    "$$\n",
    "\\frac{dV}{dx} = \\frac{V_0}{d^4}\\left(4x^3-4xd^2\\right).\n",
    "$$"
   ]
  },
  {
   "cell_type": "markdown",
   "metadata": {},
   "source": [
    "We see that we have minima or maxima when the derivative is zero. This leads to"
   ]
  },
  {
   "cell_type": "markdown",
   "metadata": {},
   "source": [
    "$$\n",
    "\\frac{V_0}{d^4}\\left(4x^3-4xd^2\\right)=0,\n",
    "$$"
   ]
  },
  {
   "cell_type": "markdown",
   "metadata": {},
   "source": [
    "which gives us as solutions $x=0$ and $x=\\pm d$.\n",
    "\n",
    "Taking the second derivative we have that"
   ]
  },
  {
   "cell_type": "markdown",
   "metadata": {},
   "source": [
    "$$\n",
    "\\frac{d^2V}{dx^2} = \\frac{V_0}{d^4}\\left(12x^2-4d^2\\right).\n",
    "$$"
   ]
  },
  {
   "cell_type": "markdown",
   "metadata": {},
   "source": [
    "If we use $x=\\pm d$ we find that the second derivative is given by"
   ]
  },
  {
   "cell_type": "markdown",
   "metadata": {},
   "source": [
    "$$\n",
    "\\frac{d^2V}{dx^2}\\vert_{x=\\pm d} = \\frac{8V_0}{d^2},\n",
    "$$"
   ]
  },
  {
   "cell_type": "markdown",
   "metadata": {},
   "source": [
    "and assuming $V_0 > 0$, these points corresponds to stable equilibrium\n",
    "points since the the second derivative is posit ive, meaning that\n",
    "$x=\\pm d$ are minima. For $x=0$ we get"
   ]
  },
  {
   "cell_type": "markdown",
   "metadata": {},
   "source": [
    "$$\n",
    "\\frac{d^2V}{dx^2}\\vert_{x=0} = -\\frac{4V_0}{d^2},\n",
    "$$"
   ]
  },
  {
   "cell_type": "markdown",
   "metadata": {},
   "source": [
    "and our point represents a maximum and we $x=0$ is an unstable point.\n",
    "\n",
    "\n",
    "1. (5pt) Choose two different energies that give two distinct types of motions, draw them into the energy diagram, and describe the motion in each case.\n",
    "\n",
    "We select an energy where the particle starts at a potential less then\n",
    "$V_0$. Therefore, it oscillates in its starting well.\n",
    "\n",
    "For the second energy, the particle starts at a potential greater than\n",
    "$V_0$. Therefore, it oscillates through one, goes over the hump at $x=0$\n",
    "and then oscillates the second well up to the same y-coordinate as\n",
    "the starting point. Then, it oscillates back to the original point.\n",
    "\n",
    "\n",
    "1. (5pt) If the particle  starts at rest at $x=2d$, what is the velocity of the particle at the point $x=d$?\n",
    "\n",
    "Below we show that the above potential fulfills the requirements about\n",
    "being an energy conserving potential. Since energy is conserved, we\n",
    "must have that the sum of potential and kinetic energies in the two\n",
    "positions has to be conserved. We have At $x=2d$ we have that the\n",
    "velocity $v_{2d}=0$ (we skip units) and at $x=d$ we have the unknown\n",
    "velocity $v_d$. Inserting the values for the kinetic and potential\n",
    "energies we get"
   ]
  },
  {
   "cell_type": "markdown",
   "metadata": {},
   "source": [
    "$$\n",
    "E_{2d}=0+V(x=2d)=9V_0=E_d=\\frac{1}{2}mv^2_d+V(x=d)=\\frac{1}{2}mv^2_d+0,\n",
    "$$"
   ]
  },
  {
   "cell_type": "markdown",
   "metadata": {},
   "source": [
    "which gives us"
   ]
  },
  {
   "cell_type": "markdown",
   "metadata": {},
   "source": [
    "$$\n",
    "v_d=\\pm 3\\sqrt{\\frac{2V_0}{m}}.\n",
    "$$"
   ]
  },
  {
   "cell_type": "markdown",
   "metadata": {},
   "source": [
    "1. (5pt) If the particle  starts at $x=d$ with velocity $v_0$, how large must $v_0$ be for the  particle to reach the point $x=−d$?\n",
    "\n",
    "At $x=d$ the potential energy is zero. In order to reach the othr side\n",
    "of the well, the particle must have a kinetic energy which can\n",
    "overcome the potential energy at the hump at $x=0$. There the\n",
    "potential is $V_0$. Assuming that the velocity is zero there,\n",
    "conservation of energy gives us"
   ]
  },
  {
   "cell_type": "markdown",
   "metadata": {},
   "source": [
    "$$\n",
    "E_{d}=\\frac{1}{2}mv^2_d+=E_0=0+V_0,\n",
    "$$"
   ]
  },
  {
   "cell_type": "markdown",
   "metadata": {},
   "source": [
    "meaning we have"
   ]
  },
  {
   "cell_type": "markdown",
   "metadata": {},
   "source": [
    "$$\n",
    "v_d=\\pm\\sqrt{\\frac{2V_0}{m}}.\n",
    "$$"
   ]
  },
  {
   "cell_type": "markdown",
   "metadata": {},
   "source": [
    "1. (5pt) Use the above potential to set up the total forces acting on the particle.  Find the acceleration acting on the particle. Is this a conservative force? Calculate also the **curl** of the force  $\\boldsymbol{\\nabla}\\times \\boldsymbol{F}$ in order to validate your conclusion. \n",
    "\n",
    "The potential depends only on position and the **curl** of the force is\n",
    "zero. The latter is easily seen since the components of the **curl** in\n",
    "the $x$-, $y$- and $z$-z directions are, respectively,"
   ]
  },
  {
   "cell_type": "markdown",
   "metadata": {},
   "source": [
    "$$\n",
    "\\frac{\\partial F_y}{\\partial z} -\\frac{\\partial F_z}{\\partial y} =0,\n",
    "$$"
   ]
  },
  {
   "cell_type": "markdown",
   "metadata": {},
   "source": [
    "and"
   ]
  },
  {
   "cell_type": "markdown",
   "metadata": {},
   "source": [
    "$$\n",
    "\\frac{\\partial F_x}{\\partial z} -\\frac{\\partial F_z}{\\partial x} =0,\n",
    "$$"
   ]
  },
  {
   "cell_type": "markdown",
   "metadata": {},
   "source": [
    "and"
   ]
  },
  {
   "cell_type": "markdown",
   "metadata": {},
   "source": [
    "$$\n",
    "\\frac{\\partial F_x}{\\partial y} -\\frac{\\partial F_y}{\\partial x} =0,\n",
    "$$"
   ]
  },
  {
   "cell_type": "markdown",
   "metadata": {},
   "source": [
    "which means the **curl** of the force is zero.\n",
    "\n",
    "\n",
    "1. (5pt) Are linear momentum and angular momentum conserved? You need to show this by calculating the quantities.\n",
    "\n",
    "Because there only exists an external force, linear momentum is not\n",
    "conserved.  The time-derivative of the momentum $\\boldsymbol{p}$ is given by"
   ]
  },
  {
   "cell_type": "markdown",
   "metadata": {},
   "source": [
    "$$\n",
    "\\frac{d\\boldsymbol{p}}{dt}=\\boldsymbol{F},\n",
    "$$"
   ]
  },
  {
   "cell_type": "markdown",
   "metadata": {},
   "source": [
    "and since the problem is a one-dimensional we have"
   ]
  },
  {
   "cell_type": "markdown",
   "metadata": {},
   "source": [
    "$$\n",
    "\\frac{dp}{dt}=F=-\\frac{dV(x)}{dx}=-\\frac{V_0}{d^4}\\left(12x^2-4d^2\\right).\n",
    "$$"
   ]
  },
  {
   "cell_type": "markdown",
   "metadata": {},
   "source": [
    "Linear momentum is thus not conserved. Angular momentum is defined as"
   ]
  },
  {
   "cell_type": "markdown",
   "metadata": {},
   "source": [
    "$$\n",
    "\\boldsymbol{l} = \\boldsymbol{r}\\times \\boldsymbol{p},\n",
    "$$"
   ]
  },
  {
   "cell_type": "markdown",
   "metadata": {},
   "source": [
    "and its time derivative is"
   ]
  },
  {
   "cell_type": "markdown",
   "metadata": {},
   "source": [
    "$$\n",
    "\\frac{d\\boldsymbol{l}}{dt} = \\boldsymbol{r}\\times \\frac{d\\boldsymbol{p}}{dt}=\\boldsymbol{r} \\times \\boldsymbol{F},\n",
    "$$"
   ]
  },
  {
   "cell_type": "markdown",
   "metadata": {},
   "source": [
    "which gives us the following $x$, $y$ and $z$ components of the derivative of angular momentum\n",
    "(and since we are in one dimension only we have $y=z=0$ and $F_y=F_z=0$)"
   ]
  },
  {
   "cell_type": "markdown",
   "metadata": {},
   "source": [
    "$$\n",
    "F_yz -F_zy =0,\n",
    "$$"
   ]
  },
  {
   "cell_type": "markdown",
   "metadata": {},
   "source": [
    "and"
   ]
  },
  {
   "cell_type": "markdown",
   "metadata": {},
   "source": [
    "$$\n",
    "F_xz -F_zx =0,\n",
    "$$"
   ]
  },
  {
   "cell_type": "markdown",
   "metadata": {},
   "source": [
    "and"
   ]
  },
  {
   "cell_type": "markdown",
   "metadata": {},
   "source": [
    "$$\n",
    "F_xy -F_yx =0.\n",
    "$$"
   ]
  },
  {
   "cell_type": "markdown",
   "metadata": {},
   "source": [
    "Angular momentum is thus conserved.\n",
    "\n",
    "\n",
    "1. (10pt) Write a numerical algorithm to find the position and velocity of the particle at a time $t+\\Delta t$ given the position and velocity at a time $t$. Here you can use either the standard forward Euler, or the Euler-Cromer or the Velocity Verlet algorithms.   You need to justify your choice here (hint: consider energy conservation).\n",
    "\n",
    "Since the force conserves energy, using either the Euler-Cromer or the\n",
    "Velocity Verlet method, preserves the energy as function of time. The\n",
    "Velocity Verlet method has also a better mathematical truncation error\n",
    "$O(\\Delta t^3)$, to be compared with $O(\\Delta t^2)$ in the\n",
    "Euler-Cromer method. The main difference is the new evaluation of the\n",
    "acceleration at a time $t+1$. Thus, the Velocity Verlet method is the\n",
    "preferred one here. The code examples in part 1 and part 2 focus on this latter method.\n",
    "\n",
    "Setting up such a code has been discussed during the lectures and we refer to the slides from week 7 and week 8 at\n",
    "<\" and URL:>\", respectively.\n",
    "\n",
    "1. (10pt) Use now your program to find the position of the particle as function of time from $t=0$ to $t=30$ s using a mass  $m=1.0$ kg, the parameter $V_0=1$ J and $d=0.1$ m. Make a plot of three distinct positions with initial conditions $x_0=d$ and $v_0=0.5$ m/s, $x_0=d$ and $v_0=1.5$ m/s, and $x_0=d$ and $v_0=2.5$ m/s. Plot also the velocity.  Perform calculations with and without the term $x^4$ in the potential. Do you see a difference? Compare and discuss the results obtained with the Velocity Verlet algorithm and the Euler-Cromer algorithm. \n",
    "\n",
    "2. (10pt) Describe the behavior of the particle for the three initial conditions  and sketch the motion in an energy diagram. Is energy conserved in your simulations?\n",
    "    We also see that the particle exhibits an oscillatory motion in all\n",
    "\n",
    "cases. In the first case $v_0=0.5$m/s, it oscillates around one\n",
    "potential well around a stable equilibrium point at $x=d$. For the\n",
    "other two cases ($v_0=$1.5m/s,2.5m/s), the particle exhibits an\n",
    "periodic oscillatory motion around the unstable equilbrium point and\n",
    "across both potential wells at $x=\\pm d$. And the energy is\n",
    "conserved in all three initial cases.\n",
    "\n",
    "\n",
    "### Part 2, two dimensions\n",
    "\n",
    "We move then to two dimensions. Our particle/object interacts with a surface potential given by"
   ]
  },
  {
   "cell_type": "markdown",
   "metadata": {},
   "source": [
    "$$\n",
    "V(r)=\\frac{V_0}{d^4}\\left(r^4-2r^2d^2+d^4\\right),\n",
    "$$"
   ]
  },
  {
   "cell_type": "markdown",
   "metadata": {},
   "source": [
    "where $r=\\sqrt{x^2+y^2}$ is the distance to the origin.\n",
    "\n",
    "1. (5pt) Show that the acceleration is now $\\boldsymbol{a}=-\\frac{4V_0}{md^4}\\left(r^3-rd^2\\right)\\frac{\\boldsymbol{r}}{r}$.\n",
    "\n",
    "We move then to two dimensions. Our particle/object interacts with a\n",
    "surface potential given by"
   ]
  },
  {
   "cell_type": "markdown",
   "metadata": {},
   "source": [
    "$$\n",
    "V(r)=\\frac{V_0}{d^4}\\left(r^4-2r^2d^2+d^4\\right),\n",
    "$$"
   ]
  },
  {
   "cell_type": "markdown",
   "metadata": {},
   "source": [
    "where $r=\\sqrt{x^2+y^2}$ is the distance to the origin.\n",
    "\n",
    "The gradient of $r$ is thus"
   ]
  },
  {
   "cell_type": "markdown",
   "metadata": {},
   "source": [
    "$$\n",
    "\\boldsymbol{\\nabla} r=\\frac{\\partial r}{\\partial x}\\boldsymbol{e}_1+\\frac{\\partial r}{\\partial y}\\boldsymbol{e}_2,\n",
    "$$"
   ]
  },
  {
   "cell_type": "markdown",
   "metadata": {},
   "source": [
    "which becomes"
   ]
  },
  {
   "cell_type": "markdown",
   "metadata": {},
   "source": [
    "$$\n",
    "\\boldsymbol{\\nabla} r=\\frac{x}{\\sqrt{x^2+y^2}}\\boldsymbol{e}_1+\\frac{y}{\\sqrt{x^2+y^2}}\\boldsymbol{e}_2,\n",
    "$$"
   ]
  },
  {
   "cell_type": "markdown",
   "metadata": {},
   "source": [
    "or"
   ]
  },
  {
   "cell_type": "markdown",
   "metadata": {},
   "source": [
    "$$\n",
    "\\boldsymbol{\\nabla} r=\\frac{\\boldsymbol{r}}{r}.\n",
    "$$"
   ]
  },
  {
   "cell_type": "markdown",
   "metadata": {},
   "source": [
    "The force is given by the negative gradient of the potential, that is"
   ]
  },
  {
   "cell_type": "markdown",
   "metadata": {},
   "source": [
    "$$\n",
    "\\boldsymbol{F}=-\\boldsymbol{\\nabla}V(\\boldsymbol{r})=-\\boldsymbol{\\nabla}\\left[\\frac{V_0}{d^4}\\left(r^4-2r^2d^2+d^4\\right)\\right],\n",
    "$$"
   ]
  },
  {
   "cell_type": "markdown",
   "metadata": {},
   "source": [
    "and using the chain rule and the above gradient of $r$, we have"
   ]
  },
  {
   "cell_type": "markdown",
   "metadata": {},
   "source": [
    "$$\n",
    "\\boldsymbol{F}=-\\frac{V_0}{d^4}\\left(4r^3-4rd^2\\right)\\frac{\\boldsymbol{r}}{r},\n",
    "$$"
   ]
  },
  {
   "cell_type": "markdown",
   "metadata": {},
   "source": [
    "and dividing by the mass $m$ we find the acceleration"
   ]
  },
  {
   "cell_type": "markdown",
   "metadata": {},
   "source": [
    "$$\n",
    "\\boldsymbol{a}=-\\frac{V_0}{md^4}\\left(4r^3-4rd^2\\right)\\frac{\\boldsymbol{r}}{r},\n",
    "$$"
   ]
  },
  {
   "cell_type": "markdown",
   "metadata": {},
   "source": [
    "1. (10pt) Rewrite your program to find the velocity and position of the atom using the new expression for the force $\\boldsymbol{F}$. Use vectorized expressions in your code as you did in homework 6 for the Earth-Sun system. See eventually the code from the [lectures](https://mhjensen.github.io/Physics321/doc/pub/energyconserv/html/energyconserv.html).  We recommend to revisit the Earth-Sun problem from homework 6 since it has several similarities with the problem here.\n",
    "\n",
    "2. (10pt) Plot the motion of a particle starting in $\\boldsymbol{r}_0=(d,0)$ from $t=0$ s to $t=20$ s for the initial velocities $\\boldsymbol{v}_0=(0,0.5)$ m/s, $\\boldsymbol{v}_0=(0,1)$ m/s, and $\\boldsymbol{v}_0=(0,1.5)$ m/s. The parameters $d$ and $V_0$ are as before.\n",
    "\n",
    "3. (5pt) Is energy conserved? \n",
    "\n",
    "4. (10pt) Can you choose initial conditions $r_0$ and $v_0$ in such a manner that the particle moves in a circular orbit with a constant radius? If so, what initial conditions are those? Plot the motion for these conditions.\n",
    "\n",
    "From the centripetal force, we have (for a velocity perpendicular to the\n",
    "radius vector)"
   ]
  },
  {
   "cell_type": "markdown",
   "metadata": {},
   "source": [
    "<!-- Equation labels as ordinary links -->\n",
    "<div id=\"_auto1\"></div>\n",
    "\n",
    "$$\n",
    "\\begin{equation}\n",
    "\\frac{v^2}{r}\\frac{\\boldsymbol{r}}{r}  = \\frac{4 V_0}{m d^4}(r^3 - r d^2) \\frac{\\boldsymbol{r}}{r}\n",
    "\\label{_auto1} \\tag{1}\n",
    "\\end{equation}\n",
    "$$"
   ]
  },
  {
   "cell_type": "markdown",
   "metadata": {},
   "source": [
    "<!-- Equation labels as ordinary links -->\n",
    "<div id=\"_auto2\"></div>\n",
    "\n",
    "$$\n",
    "\\begin{equation}  v^2  = \\frac{4 V_0}{m d^4}(r^4 - r^2d^2)\n",
    "\\label{_auto2} \\tag{2}\n",
    "\\end{equation}\n",
    "$$"
   ]
  },
  {
   "cell_type": "markdown",
   "metadata": {},
   "source": [
    "<!-- Equation labels as ordinary links -->\n",
    "<div id=\"_auto3\"></div>\n",
    "\n",
    "$$\n",
    "\\begin{equation}  v_0  = \\sqrt{\\frac{4 V_0}{m d^4}(r_0^4 - r_0^2d^2)} \\text{ for } r_0 \\neq d\n",
    "\\label{_auto3} \\tag{3}\n",
    "\\end{equation}\n",
    "$$"
   ]
  }
 ],
 "metadata": {
  "kernelspec": {
   "display_name": "Python 3",
   "language": "python",
   "name": "python3"
  },
  "language_info": {
   "codemirror_mode": {
    "name": "ipython",
    "version": 3
   },
   "file_extension": ".py",
   "mimetype": "text/x-python",
   "name": "python",
   "nbconvert_exporter": "python",
   "pygments_lexer": "ipython3",
   "version": "3.8.5"
  }
 },
 "nbformat": 4,
 "nbformat_minor": 4
}
