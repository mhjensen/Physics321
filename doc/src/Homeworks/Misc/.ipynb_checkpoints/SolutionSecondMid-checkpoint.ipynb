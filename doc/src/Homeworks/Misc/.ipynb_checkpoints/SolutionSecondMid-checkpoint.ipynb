{
 "cells": [
  {
   "cell_type": "markdown",
   "id": "4abee009",
   "metadata": {},
   "source": [
    "<!-- HTML file automatically generated from DocOnce source (https://github.com/doconce/doconce/)\n",
    "doconce format html SolutionSecondMid.do.txt  -->\n",
    "<!-- dom:TITLE: PHY321: Classical Mechanics 1 -->"
   ]
  },
  {
   "cell_type": "markdown",
   "id": "a2bd414c",
   "metadata": {},
   "source": [
    "# PHY321: Classical Mechanics 1\n",
    "**Second midterm project, due Friday April 15**\n",
    "\n",
    "Date: **An attempt at a solution**"
   ]
  },
  {
   "cell_type": "markdown",
   "id": "0a7593d1",
   "metadata": {},
   "source": [
    "### Part 1"
   ]
  },
  {
   "cell_type": "code",
   "execution_count": 4,
   "id": "9316d51a",
   "metadata": {},
   "outputs": [
    {
     "data": {
      "image/png": "[encoded data removed]",
      "text/plain": [
       "<Figure size 432x288 with 1 Axes>"
      ]
     },
     "metadata": {
      "needs_background": "light"
     },
     "output_type": "display_data"
    },
    {
     "data": {
      "image/png": "[encoded data removed]",
      "text/plain": [
       "<Figure size 432x288 with 1 Axes>"
      ]
     },
     "metadata": {
      "needs_background": "light"
     },
     "output_type": "display_data"
    }
   ],
   "source": [
    "%matplotlib inline\n",
    "\n",
    "# Common imports\n",
    "import numpy as np\n",
    "import pandas as pd\n",
    "from math import *\n",
    "import matplotlib.pyplot as plt\n",
    "import os\n",
    "\n",
    "# Where to save the figures and data files\n",
    "PROJECT_ROOT_DIR = \"Results\"\n",
    "FIGURE_ID = \"Results/FigureFiles\"\n",
    "DATA_ID = \"DataFiles/\"\n",
    "\n",
    "if not os.path.exists(PROJECT_ROOT_DIR):\n",
    "    os.mkdir(PROJECT_ROOT_DIR)\n",
    "\n",
    "if not os.path.exists(FIGURE_ID):\n",
    "    os.makedirs(FIGURE_ID)\n",
    "\n",
    "if not os.path.exists(DATA_ID):\n",
    "    os.makedirs(DATA_ID)\n",
    "\n",
    "def image_path(fig_id):\n",
    "    return os.path.join(FIGURE_ID, fig_id)\n",
    "\n",
    "def data_path(dat_id):\n",
    "    return os.path.join(DATA_ID, dat_id)\n",
    "\n",
    "def save_fig(fig_id):\n",
    "    plt.savefig(image_path(fig_id) + \".png\", format='png')\n",
    "\n",
    "def ForceGravity(v,r,t):\n",
    "    rabs = np.sqrt(sum(r*r))\n",
    "    return  -alpha*r/(rabs**3)/m\n",
    "\n",
    "def ForwardEulerCromer(v,r,t,n,Force):\n",
    "    for i in range(n-1):\n",
    "        a = Force(v[i],r[i],t[i])\n",
    "        v[i+1] = v[i] + DeltaT*a\n",
    "        r[i+1] = r[i] + DeltaT*v[i+1]\n",
    "        t[i+1] = t[i] + DeltaT\n",
    "\n",
    "def VelocityVerlet(v,r,t,n,Force):\n",
    "    for i in range(n-1):\n",
    "        a = Force(v[i],r[i],t[i])\n",
    "        r[i+1] = r[i] + DeltaT*v[i]+0.5*a*DeltaT*DeltaT\n",
    "        anew = Force(v[i],r[i+1],t[i+1])\n",
    "        v[i+1] = v[i] + 0.5*DeltaT*(a+anew)\n",
    "        t[i+1] = t[i] + DeltaT\n",
    "\n",
    "\n",
    "DeltaT = 0.001\n",
    "#set up arrays \n",
    "tfinal = 10  # in years\n",
    "n = ceil(tfinal/DeltaT)\n",
    "# set up arrays for t, a, v, and x\n",
    "t = np.zeros(n)\n",
    "v = np.zeros((n,2))\n",
    "r = np.zeros((n,2))\n",
    "# define constants\n",
    "alpha= -4*pi*pi\n",
    "m = 1.0   # scaled mass of the earth\n",
    "# Initial conditions as compact 2-dimensional arrays\n",
    "r0 = np.array([2.0,0.0])\n",
    "r[0] = r0\n",
    "r0abs = np.sqrt(sum(r[0]*r[0]))\n",
    "# circular motion velocity as initial velocity\n",
    "v0 = np.array([0.0,2*pi])\n",
    "v[0] = v0\n",
    "v0abs = np.sqrt(sum(v[0]*v[0]))\n",
    "\n",
    "# Start integrating using the Velocity-Verlet  method\n",
    "VelocityVerlet(v,r,t,n,ForceGravity)\n",
    "\n",
    "# Plot position as function of time    \n",
    "fig, ax = plt.subplots()\n",
    "ax.set_xlabel('x')\n",
    "ax.set_ylabel('y')\n",
    "ax.plot(r[:,0], r[:,1])\n",
    "fig.tight_layout()\n",
    "save_fig(\"Part1Secondmid\")\n",
    "plt.show()\n",
    "\n",
    "\n",
    "# Using the solutions we can now calculate the energies\n",
    "Ekin = np.zeros(n)\n",
    "Vpot = np.zeros(n)\n",
    "ETotal = np.zeros(n)\n",
    "\n",
    "#Ekin[0] = 0.5*m*v0abs*v0abs\n",
    "#Vpot[0] = -alpha/r0abs\n",
    "#ETotal[0]=Ekin[0]+Vpot[0]\n",
    "\n",
    "# Use r and v to set up the energies\n",
    "for i in range(n):\n",
    "    rabs = np.sqrt(sum(r[i]*r[i]))\n",
    "    vabs = np.sqrt(sum(v[i]*v[i]))\n",
    "    Ekin[i] = 0.5*m*vabs*vabs\n",
    "    Vpot[i] = -alpha/rabs\n",
    "    ETotal[i] = Ekin[i]+Vpot[i]\n",
    "\n",
    "fig, ax = plt.subplots()\n",
    "ax.set_xlabel('t')\n",
    "ax.set_ylabel('E')\n",
    "ax.plot(t, ETotal)\n",
    "fig.tight_layout()\n",
    "save_fig(\"EnergySecondmid\")\n",
    "plt.show()"
   ]
  },
  {
   "cell_type": "code",
   "execution_count": null,
   "id": "ea06efd9",
   "metadata": {},
   "outputs": [],
   "source": []
  }
 ],
 "metadata": {
  "kernelspec": {
   "display_name": "Python 3 (ipykernel)",
   "language": "python",
   "name": "python3"
  },
  "language_info": {
   "codemirror_mode": {
    "name": "ipython",
    "version": 3
   },
   "file_extension": ".py",
   "mimetype": "text/x-python",
   "name": "python",
   "nbconvert_exporter": "python",
   "pygments_lexer": "ipython3",
   "version": "3.9.12"
  }
 },
 "nbformat": 4,
 "nbformat_minor": 5
}
