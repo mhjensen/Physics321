{
 "cells": [
  {
   "cell_type": "markdown",
   "metadata": {},
   "source": [
    "<!-- dom:TITLE: PHY321: Classical Mechanics 1 -->\n",
    "# PHY321: Classical Mechanics 1\n",
    "<!-- dom:AUTHOR: Homework 4, due Monday  February 10 -->\n",
    "<!-- Author: -->  \n",
    "**Homework 4, due Monday  February 10**\n",
    "\n",
    "Date: **Feb 8, 2021**\n",
    "\n",
    "### Practicalities about  homeworks and projects\n",
    "\n",
    "1. You can work in groups (optimal groups are often 2-3 people) or by yourself. If you work as a group you can hand in one answer only if you wish. **Remember to write your name(s)**!\n",
    "\n",
    "2. Homeworks are available Wednesday/Thursday the week before the deadline. The deadline is at the Friday lecture.\n",
    "\n",
    "3. How do I(we)  hand in?  You can hand in the paper and pencil exercises as a hand-written document. For this homework this applies to exercises 1-5. Alternatively, you can hand in everyhting (if you are ok with typing mathematical formulae using say Latex) as a jupyter notebook at D2L. The numerical exercise(s) (exercise 6 here) should always be handed in as a jupyter notebook by the deadline at D2L. \n",
    "\n",
    "### Introduction to homework 4\n",
    "\n",
    "This week's sets of classical pen and paper and computational\n",
    "exercises deal with simple motion problems and conservation laws; energy, momentum and angular momentum. These conservation laws are central in Physics and understanding them properly lays the foundation for understanding and analyzing more complicated physics problems.\n",
    "The relevant reading background is\n",
    "1. chapters 3, 4.1, 4.2 and 4.3 of Taylor (there are many good examples there) and\n",
    "\n",
    "2. chapters 10-13 of Malthe-Sørenssen.\n",
    "\n",
    "In both textbooks there are many nice worked out examples. Malthe-Sørenssen's text contains also several coding examples you may find useful. \n",
    "\n",
    "The numerical homework focuses on another motion problem where you can\n",
    "use the code you developed in homework 3, almost entirely. Please take\n",
    "a look at the posted solution (jupyter-notebook) for homework 3. You\n",
    "need only to change the forces at play. The problem at hand is a\n",
    "classic, the gravitational force acting between the Sun and the\n",
    "Earth. Here you will notice also that the standard Euler-integration\n",
    "algorithm is not the best choice and we will introduce the so-called\n",
    "Euler-Cromer method and the Velocity-Verlet method. These methods will\n",
    "give much more stable numerical results with only few additions to\n",
    "your code.\n",
    "\n",
    "The code you develop here will also be reused when we analyze energy\n",
    "conservation in homework set 5. And for those of you doing the honors project, it serves as a starting point for the solar system variant.\n",
    "\n",
    "### Exercise 1 (10 pt), Conservation laws, Energy and momentum\n",
    "\n",
    "* 1a (2pt) How do we define a conservative force?\n",
    "\n",
    "A conservative force is a force whose property is that the total work\n",
    "done in moving an object between two points is independent of the\n",
    "taken path. This means that the work on an object under the influence\n",
    "of a conservative force, is independent on the path of the object. It\n",
    "depends only on the spatial degrees of freedom and it is possible to\n",
    "assign a numerical value for the potential at any point. It leads to\n",
    "conservation of energy. The gravitational force is an example of a\n",
    "conservative force.\n",
    "\n",
    "If you wish to read more about conservative forces or not, Feyman's lectures from 1963 are quite interesting.\n",
    "He states for example that **All fundamental forces in nature appear to be conservative**.\n",
    "This statement was made while developing his argument that *there are no nonconservative forces*.\n",
    "You may enjoy the link to [Feynman's lecture](http://www.feynmanlectures.caltech.edu/I_14.html).\n",
    "\n",
    "An important condition for the final work to be independent of the path is that the **curl** of the force is zero, that\n",
    "is"
   ]
  },
  {
   "cell_type": "markdown",
   "metadata": {},
   "source": [
    "$$\n",
    "\\boldsymbol{\\nabla} \\times \\boldsymbol{F}=0\n",
    "$$"
   ]
  },
  {
   "cell_type": "markdown",
   "metadata": {},
   "source": [
    "* 1b (4pt) Use the work-energy theorem to show that energy is conserved with a conservative force.\n",
    "\n",
    "The work-energy theorem states that the work done $W$ by a force $\\boldsymbol{F}$ that moves an object from a position $\\boldsymbol{r}_0$ to a new position $\\boldsymbol{r}_1$"
   ]
  },
  {
   "cell_type": "markdown",
   "metadata": {},
   "source": [
    "$$\n",
    "W=\\int_{\\boldsymbol{r}_0}^{\\boldsymbol{r}_1}\\boldsymbol{F}\\boldsymbol{dr}=\\frac{1}{2}mv_1^2-\\frac{1}{2}mv_0^2,\n",
    "$$"
   ]
  },
  {
   "cell_type": "markdown",
   "metadata": {},
   "source": [
    "where $v_1^2$ is the velocity squared at a time $t_1$ and $v_0^2$ the corresponding quantity at a time $t_0$.\n",
    "The work done is thus the difference in kinetic energies. We can rewrite the above equation as"
   ]
  },
  {
   "cell_type": "markdown",
   "metadata": {},
   "source": [
    "$$\n",
    "\\frac{1}{2}mv_1^2=\\int_{\\boldsymbol{r}_0}^{\\boldsymbol{r}_1}\\boldsymbol{F}\\boldsymbol{dr}+\\frac{1}{2}mv_0^2,\n",
    "$$"
   ]
  },
  {
   "cell_type": "markdown",
   "metadata": {},
   "source": [
    "that is the final kinetic energy is equal to the initial kinetic energy plus the work done by the force over a given path from a  position $\\boldsymbol{r}_0$ at time $t_0$ to a final position position $\\boldsymbol{r}_1$ at a later time $t_1$.\n",
    "\n",
    "\n",
    "\n",
    "* 1c (4pt) Assume that you have only internal two-body forces acting on $N$ objects in an isolated system. The force from object $i$ on object $j$ is $\\boldsymbol{f}_{ij}$. Show that the linear momentum is conserved.\n",
    "\n",
    "Here we use Newton's third law and assume that our system is only\n",
    "affected by so-called internal forces.  This means that the force\n",
    "$\\boldsymbol{f}_{ij}$ from object $i$ acting on object $j$ is equal to the\n",
    "force acting on object $j$ from object $i$ but with opposite sign,\n",
    "that is $\\boldsymbol{f}_{ij}=-\\boldsymbol{f}_{ji}$.\n",
    "\n",
    "The total linear momentum is defined as"
   ]
  },
  {
   "cell_type": "markdown",
   "metadata": {},
   "source": [
    "$$\n",
    "\\boldsymbol{P}=\\sum_{i=1}^N\\boldsymbol{p}_i=\\sum_{i=1}^Nm_i\\boldsymbol{v}_i,\n",
    "$$"
   ]
  },
  {
   "cell_type": "markdown",
   "metadata": {},
   "source": [
    "where $i$ runs over all objects, $m_i$ is the mass of object $i$ and $\\boldsymbol{v}_i$ its corresponding velocity.\n",
    "\n",
    "The force acting on object $i$ from all the other objects is (lower\n",
    "case letters for individual objects and upper case letters for total\n",
    "quantities)"
   ]
  },
  {
   "cell_type": "markdown",
   "metadata": {},
   "source": [
    "$$\n",
    "\\boldsymbol{f}_i=\\sum_{j=1}^N\\boldsymbol{f}_{ji}.\n",
    "$$"
   ]
  },
  {
   "cell_type": "markdown",
   "metadata": {},
   "source": [
    "Summing over all objects the net force is"
   ]
  },
  {
   "cell_type": "markdown",
   "metadata": {},
   "source": [
    "$$\n",
    "\\sum_{i=1}^N\\boldsymbol{f}_i=\\sum_{i=1}^N\\sum_{j=1;j\\ne i}^N\\boldsymbol{f}_{ji}.\n",
    "$$"
   ]
  },
  {
   "cell_type": "markdown",
   "metadata": {},
   "source": [
    "We are summing freely over all objects with the constraint that $i\\ne j$ (no self-interactions). \n",
    "We can now manipulate the double sum as"
   ]
  },
  {
   "cell_type": "markdown",
   "metadata": {},
   "source": [
    "$$\n",
    "\\sum_{i=1}^N\\sum_{j=1;j\\ne i}^N\\boldsymbol{f}_{ji}=\\sum_{i=1}^N\\sum_{j>i}^N(\\boldsymbol{f}_{ji}+\\boldsymbol{f}_{ij}).\n",
    "$$"
   ]
  },
  {
   "cell_type": "markdown",
   "metadata": {},
   "source": [
    "Convince yourself about this by setting $N=2$ and $N=3$. Nweton's third law says\n",
    "$\\boldsymbol{f}_{ij}=-\\boldsymbol{f}_{ji}$, which means we have"
   ]
  },
  {
   "cell_type": "markdown",
   "metadata": {},
   "source": [
    "$$\n",
    "\\sum_{i=1}^N\\sum_{j=1;j\\ne i}^N\\boldsymbol{f}_{ji}=\\sum_{i=1}^N\\sum_{j>i}^N(\\boldsymbol{f}_{ji}-\\boldsymbol{f}_{ji})=0.\n",
    "$$"
   ]
  },
  {
   "cell_type": "markdown",
   "metadata": {},
   "source": [
    "The total force due to internal degrees of freedom only is thus $0$.\n",
    "If we then use the definition that"
   ]
  },
  {
   "cell_type": "markdown",
   "metadata": {},
   "source": [
    "$$\n",
    "\\sum_{i=1}^N\\boldsymbol{f}_i=\\sum_{i=1}^Nm_i\\frac{d\\boldsymbol{v}_i}{dt}=\\sum_{i=1}^N\\frac{d\\boldsymbol{p}_i}{dt}=\\frac{d \\boldsymbol{P}}{dt}=0,\n",
    "$$"
   ]
  },
  {
   "cell_type": "markdown",
   "metadata": {},
   "source": [
    "where we assumed that $m_i$ is independent of time, we see that time derivative of the total momentum is zero.\n",
    "We say then that the linear momentum is a constant of the motion. It is conserved.\n",
    "\n",
    "\n",
    "\n",
    "\n",
    "\n",
    "\n",
    "### Exercise 2 (10 pt), Conservation of angular momentum\n",
    "\n",
    "* 2a (2pt) Define angular momentum and the torque for a single object with external forces only. \n",
    "\n",
    "The angular moment $\\boldsymbol{l}_i$ for a given object $i$ is defined as"
   ]
  },
  {
   "cell_type": "markdown",
   "metadata": {},
   "source": [
    "$$\n",
    "\\boldsymbol{l}_i = \\boldsymbol{r}_i \\times \\boldsymbol{p}_i,\n",
    "$$"
   ]
  },
  {
   "cell_type": "markdown",
   "metadata": {},
   "source": [
    "where $\\boldsymbol{p}_i=m_i\\boldsymbol{v}_i$. With external forces only defining the acceleration and the mass being time independent, the momentum is the integral over the external force as function of time, that is"
   ]
  },
  {
   "cell_type": "markdown",
   "metadata": {},
   "source": [
    "$$\n",
    "\\boldsymbol{p}_i(t)=\\boldsymbol{p}_i(t_0)+\\int_{t_0}^t \\boldsymbol{f}_i^{\\mathrm{ext}}(t')dt'.\n",
    "$$"
   ]
  },
  {
   "cell_type": "markdown",
   "metadata": {},
   "source": [
    "The torque for one object is"
   ]
  },
  {
   "cell_type": "markdown",
   "metadata": {},
   "source": [
    "$$\n",
    "\\boldsymbol{\\tau}_i=\\frac{d\\boldsymbol{l}_i}{dt} = \\frac{dt(\\boldsymbol{r}_i \\times \\boldsymbol{p}_i)}{dt}=\\boldsymbol{r}_i \\times \\frac{d\\boldsymbol{p}_i}{dt}=\\boldsymbol{r}_i \\times \\boldsymbol{f}_i,\n",
    "$$"
   ]
  },
  {
   "cell_type": "markdown",
   "metadata": {},
   "source": [
    "* 2b (4pt) Define angular momentum and the torque for a system with $N$ objects/particles  with external and internal forces. The force from object $i$ on object $j$ is $\\boldsymbol{F}_{ij}$.\n",
    "\n",
    "The total angular momentum $\\boldsymbol{L}$ is defined as"
   ]
  },
  {
   "cell_type": "markdown",
   "metadata": {},
   "source": [
    "$$\n",
    "\\boldsymbol{L}=\\sum_{i=1}^N\\boldsymbol{l}_i = \\sum_{i=1}^N\\boldsymbol{r}_i \\times \\boldsymbol{p}_i.\n",
    "$$"
   ]
  },
  {
   "cell_type": "markdown",
   "metadata": {},
   "source": [
    "and the total torque is (using the expression for one object from 2a)"
   ]
  },
  {
   "cell_type": "markdown",
   "metadata": {},
   "source": [
    "$$\n",
    "\\boldsymbol{\\tau}=\\sum_{i=1}^N\\frac{d\\boldsymbol{l}_i}{dt} = \\sum_{i=1}^N\\boldsymbol{r}_i \\times \\boldsymbol{f}_i.\n",
    "$$"
   ]
  },
  {
   "cell_type": "markdown",
   "metadata": {},
   "source": [
    "The force acting on one object is $\\boldsymbol{f}_i=\\boldsymbol{f}_i^{\\mathrm{ext}}+\\sum_{j=1}^N\\boldsymbol{f}_{ji}$.\n",
    "\n",
    "* 2c (4pt) With internal forces only, what is the mathematical form of the forces that allows for angular momentum to be conserved? \n",
    "\n",
    "Using the results from 1c, we can rewrite without external forces our torque as"
   ]
  },
  {
   "cell_type": "markdown",
   "metadata": {},
   "source": [
    "$$\n",
    "\\boldsymbol{\\tau}=\\sum_{i=1}^N\\frac{\\boldsymbol{l}_i}{dt} = \\sum_{i=1}^N\\boldsymbol{r}_i \\times \\boldsymbol{f}_i=\\sum_{i=1}^N(\\boldsymbol{r}_i \\times \\sum_{j=1}^N\\boldsymbol{f}_{ji}),\n",
    "$$"
   ]
  },
  {
   "cell_type": "markdown",
   "metadata": {},
   "source": [
    "which gives"
   ]
  },
  {
   "cell_type": "markdown",
   "metadata": {},
   "source": [
    "$$\n",
    "\\boldsymbol{\\tau}=\\sum_{i=1}^N\\sum_{j=1;j\\ne i}^N(\\boldsymbol{r}_i \\times \\boldsymbol{f}_{ji}).\n",
    "$$"
   ]
  },
  {
   "cell_type": "markdown",
   "metadata": {},
   "source": [
    "We can rewrite this as (convince yourself again about this)"
   ]
  },
  {
   "cell_type": "markdown",
   "metadata": {},
   "source": [
    "$$\n",
    "\\boldsymbol{\\tau}=\\sum_{i=1}^N\\sum_{j>i}^N(\\boldsymbol{r}_i \\times \\boldsymbol{f}_{ji}+\\boldsymbol{r}_j \\times \\boldsymbol{f}_{ij}),\n",
    "$$"
   ]
  },
  {
   "cell_type": "markdown",
   "metadata": {},
   "source": [
    "and using Newton's third law we have"
   ]
  },
  {
   "cell_type": "markdown",
   "metadata": {},
   "source": [
    "$$\n",
    "\\boldsymbol{\\tau}=\\sum_{i=1}^N\\sum_{j>i}^N(\\boldsymbol{r}_i -\\boldsymbol{r}_j) \\times \\boldsymbol{f}_{ji}.\n",
    "$$"
   ]
  },
  {
   "cell_type": "markdown",
   "metadata": {},
   "source": [
    "If the force is proportional to $\\boldsymbol{r}_i -\\boldsymbol{r}_j$ then angular momentum is conserved since the cross-product of a vector with itself is zero. We say thus that angular momentum is a constant of the motion.\n",
    "\n",
    "### Exsercise 3 (10pt), Example of potential\n",
    "\n",
    "Consider a particle of mass $m$ moving according to the potential"
   ]
  },
  {
   "cell_type": "markdown",
   "metadata": {},
   "source": [
    "$$\n",
    "V(x,y,z)=A\\exp\\left\\{-\\frac{x^2+z^2}{2a^2}\\right\\}.\n",
    "$$"
   ]
  },
  {
   "cell_type": "markdown",
   "metadata": {},
   "source": [
    "* 3a (2pt) Is energy conserved? If so, why? \n",
    "\n",
    "In this exercise $A$ and $a$ are constants. The force is given by the derivative of $V$ with respect to the spatial degrees of freedom and since the potential depends only of these degrees of freedom force is conservative and energy is conserved.\n",
    "\n",
    "* 3b (4pt) Which of  the quantities, $p_x,p_y,p_z$ are conserved?\n",
    "\n",
    "Taking the derivatives with respect to time shows that only $p_y$ is conserved.\n",
    "\n",
    "* 3c (4pt) Which of  the quantities, $L_x,L_y,L_z$ are conserved?\n",
    "\n",
    "Only $L_y$ is conserved. \n",
    "\n",
    "\n",
    "### Exercise 4 (10pt), Angular momentum case\n",
    "\n",
    "At $t=0$ we have a single object with position $\\boldsymbol{r}_0=x_0\\boldsymbol{e}_x+y_0\\boldsymbol{e}_y$. We add also a force in the $x$-direction at $t=0$. We assume that the object is at rest at $t=0$."
   ]
  },
  {
   "cell_type": "markdown",
   "metadata": {},
   "source": [
    "$$\n",
    "\\boldsymbol{F} = F\\boldsymbol{e}_x.\n",
    "$$"
   ]
  },
  {
   "cell_type": "markdown",
   "metadata": {},
   "source": [
    "* 4a (3pt) Find the velocity and momentum at a given time $t$ by integrating over time with the above initial conditions.\n",
    "\n",
    "There is no velocity in the $x$- and $y$-directions at $t=0$, thus $\\boldsymbol{v}_0=0$. The force is constant and acting only in the $x$-direction. We have then (dropping vector symbols and setting $t_0=0$)"
   ]
  },
  {
   "cell_type": "markdown",
   "metadata": {},
   "source": [
    "$$\n",
    "v_x(t) = \\int_0^t a(t')dt'=\\int_0^t\\frac{F}{m}dt'=\\frac{F}{m}t.\n",
    "$$"
   ]
  },
  {
   "cell_type": "markdown",
   "metadata": {},
   "source": [
    "* 4b (3pt) Find also the position at a time $t$.\n",
    "\n",
    "In the $x$-direction we have then"
   ]
  },
  {
   "cell_type": "markdown",
   "metadata": {},
   "source": [
    "$$\n",
    "x(t) = \\int_0^t v_x(t')dt'=x_0+\\frac{F}{2m}t^2,\n",
    "$$"
   ]
  },
  {
   "cell_type": "markdown",
   "metadata": {},
   "source": [
    "resulting in"
   ]
  },
  {
   "cell_type": "markdown",
   "metadata": {},
   "source": [
    "$$\n",
    "\\boldsymbol{r}(t)=(x_0+\\frac{F}{2m}t^2)\\boldsymbol{e}_x+y_0\\boldsymbol{e}_y.\n",
    "$$"
   ]
  },
  {
   "cell_type": "markdown",
   "metadata": {},
   "source": [
    "* 4c (4pt) Use the position and the momentum to find the angular momentum and the torque. Is angular momentum conserved?\n",
    "\n",
    "Velocity and position are defined in the $xy$-plane only which means that only angular momentum in the $z$-direction is non-zero. The angular momentum is"
   ]
  },
  {
   "cell_type": "markdown",
   "metadata": {},
   "source": [
    "$$\n",
    "\\boldsymbol{l} = (x(t)v_y(t)-y(t)v_x(t))\\boldsymbol{e}_z=-y_0\\frac{F}{m}t\\boldsymbol{e}_z,\n",
    "$$"
   ]
  },
  {
   "cell_type": "markdown",
   "metadata": {},
   "source": [
    "which results in a torque $\\boldsymbol{\\tau}=-y_0\\frac{F}{m}\\boldsymbol{e}_z$, which is not zero. Thus, angular momentum is not conserved.\n",
    "\n",
    "\n",
    "\n",
    "### Exercise 5 (10pt), forces  and potentials\n",
    "\n",
    "A particle of mass $m$ has velocity $v=\\alpha/x$, where $x$ is its displacement.\n",
    "\n",
    "* 5a (3pt) Find the force $F(x)$ responsible for the motion.\n",
    "\n",
    "Here, since the force is assumed to be conservative (only dependence on $x$), we can use energy conservation.\n",
    "Assuming that the total energy at $t=0$ is $E_0$, we have"
   ]
  },
  {
   "cell_type": "markdown",
   "metadata": {},
   "source": [
    "$$\n",
    "E_0=V(x)+\\frac{1}{2}mv^2=V(x)+\\frac{1}{2}m\\frac{\\alpha^2}{x^2}.\n",
    "$$"
   ]
  },
  {
   "cell_type": "markdown",
   "metadata": {},
   "source": [
    "Taking the derivative wrt $x$ we have"
   ]
  },
  {
   "cell_type": "markdown",
   "metadata": {},
   "source": [
    "$$\n",
    "\\frac{dV}{dx}-m\\frac{\\alpha^2}{x^3}=0,\n",
    "$$"
   ]
  },
  {
   "cell_type": "markdown",
   "metadata": {},
   "source": [
    "and since $F(x)=-dV/dx$ we have"
   ]
  },
  {
   "cell_type": "markdown",
   "metadata": {},
   "source": [
    "$$\n",
    "F(x)=-m\\frac{\\alpha^2}{x^3}.\n",
    "$$"
   ]
  },
  {
   "cell_type": "markdown",
   "metadata": {},
   "source": [
    "A particle is thereafter under the influence of a force $F=-kx+kx^3/\\alpha^2$, where $k$ and $\\alpha$ are constants and $k$ is positive.\n",
    "\n",
    "* 5b (3pt) Determine $V(x)$  and discuss the motion. It can be convenient here to make a sketch/plot of the potential as function of $x$.\n",
    "\n",
    "We assume that the potential is zero at say $x=0$. Integrating the force from zero to $x$ gives"
   ]
  },
  {
   "cell_type": "markdown",
   "metadata": {},
   "source": [
    "$$\n",
    "V(x) = \\int_0^x F(x')dx'=\\frac{kx^2}{2}-\\frac{kx^4}{4\\alpha^2}.\n",
    "$$"
   ]
  },
  {
   "cell_type": "markdown",
   "metadata": {},
   "source": [
    "The following code plots the potential. We have chosen values of $\\alpha=k=1.0$. Feel free to experiment with other values. We plot $V(x)$ for a domain of $x\\in [-2,2]$."
   ]
  },
  {
   "cell_type": "code",
   "execution_count": null,
   "metadata": {},
   "outputs": [],
   "source": [
    "%matplotlib inline\n",
    "\n",
    "import numpy as np\n",
    "import matplotlib.pyplot as plt\n",
    "import math\n",
    "\n",
    "x0= -2.0\n",
    "xn = 2.1\n",
    "Deltax = 0.1\n",
    "alpha = 1.0\n",
    "k = 1.0\n",
    "#set up arrays\n",
    "x = np.arange(x0,xn,Deltax)\n",
    "n = np.size(x)\n",
    "V = np.zeros(n)\n",
    "V = 0.5*k*x*x-0.25*k*(x**4)/(alpha*alpha)\n",
    "plt.plot(x, V)\n",
    "plt.xlabel(\"x\")\n",
    "plt.ylabel(\"V\")\n",
    "plt.show()"
   ]
  },
  {
   "cell_type": "markdown",
   "metadata": {},
   "source": [
    "From the plot here (with the chosen parameters) \n",
    "1. we see that with a given initial velocity we can overcome the potential energy barrier\n",
    "\n",
    "and leave the potential well for good.\n",
    "1. If the initial velocity is smaller (see next exercise) than a certain value, it will remain trapped in the potential well and oscillate back and forth around $x=0$. This is where the potential has its minimum value. \n",
    "\n",
    "2. If the kinetic energy at $x=0$ equals the maximum potential energy, the object will oscillate back and forth between the minimum potential energy at $x=0$ and the turning points where the kinetic energy turns zero. These are the so-called non-equilibrium points. \n",
    "\n",
    "* 5c (4pt)  What happens when the energy of the particle is $E=(1/4)k\\alpha^2$? Hint: what is the maximum value of the potential energy?\n",
    "\n",
    "From the figure we see that\n",
    "the potential has a minimum at at $x=0$ then rises until $x=\\alpha$ before falling off again. The maximum\n",
    "potential, $V(x\\pm \\alpha) = k\\alpha^2/4$. If the energy is higher, the particle cannot be contained in the\n",
    "well. The turning points are thus defined by $x=\\pm \\alpha$. And from the previous plot you can easily see that this is the case ($\\alpha=1$ in the abovementioned Python code). \n",
    "\n",
    "\n",
    "### Exercise 6 (10pt) and 7 (40pt)\n",
    "\n",
    "The aim of this exercise (as well as the next) is to study the motion\n",
    "of objects under the influence of the gravitational force.  We will\n",
    "limit ourselves to the Earth-Sun system. Here we will scale the\n",
    "equations and sketch our first algorithm for solving the equations,\n",
    "namely using Euler's method again, as we did in homework 3.  This part\n",
    "together with the numerical part forms also the entry point for the\n",
    "solar system honors project. Furthermore, we will reuse parts of these\n",
    "results when analyzing energy conservation in homework 5.\n",
    "\n",
    "We will limit ourselves (in order to test the algorithm) to a\n",
    "hypothetical solar system with the Earth only orbiting around the sun.\n",
    "The only force in the problem is gravity. Newton's law of gravitation\n",
    "is given by a force $F_G$"
   ]
  },
  {
   "cell_type": "markdown",
   "metadata": {},
   "source": [
    "$$\n",
    "F_G=\\frac{GM_{\\odot}M_{\\mathrm{Earth}}}{r^2},\n",
    "$$"
   ]
  },
  {
   "cell_type": "markdown",
   "metadata": {},
   "source": [
    "where $M_{\\odot}$ is the mass of the Sun and $M_{\\mathrm{Earth}}$ is\n",
    "the mass of the Earth. The gravitational constant is $G$ and $r$ is\n",
    "the distance between the Earth and the Sun.  The Sun\n",
    "has a mass which is much larger than that of the Earth. We can\n",
    "therefore safely neglect the motion of the Sun in this problem.\n",
    "\n",
    "\n",
    "We assume that the orbit of the Earth around the Sun \n",
    "is co-planar, and we take this to be the $xy$-plane.\n",
    "Using Newton's second law of motion we get the following equations"
   ]
  },
  {
   "cell_type": "markdown",
   "metadata": {},
   "source": [
    "$$\n",
    "\\frac{d^2x}{dt^2}=\\frac{F_{G,x}}{M_{\\mathrm{Earth}}},\n",
    "$$"
   ]
  },
  {
   "cell_type": "markdown",
   "metadata": {},
   "source": [
    "and"
   ]
  },
  {
   "cell_type": "markdown",
   "metadata": {},
   "source": [
    "$$\n",
    "\\frac{d^2y}{dt^2}=\\frac{F_{G,y}}{M_{\\mathrm{Earth}}},\n",
    "$$"
   ]
  },
  {
   "cell_type": "markdown",
   "metadata": {},
   "source": [
    "where $F_{G,x}$ and $F_{G,y}$ are the $x$ and $y$ components of the\n",
    "gravitational force.\n",
    "\n",
    "We will use so-called astronomical units when rewriting our equations.\n",
    "Using astronomical units (AU as abbreviation)it means that one\n",
    "astronomical unit of length, known as 1 AU, is the average distance\n",
    "between the Sun and Earth, that is $1$ AU = $1.5\\times 10^{11}$ m.  It\n",
    "can also be convenient to use years instead of seconds since years\n",
    "match better the time evolution of the solar system. The mass of the\n",
    "Sun is $M_{\\mathrm{sun}}=M_{\\odot}=2\\times 10^{30}$ kg. The masses of\n",
    "all relevant planets and their distances from the sun are listed in\n",
    "the table here in kg and AU.\n",
    "\n",
    "<table border=\"1\">\n",
    "<thead>\n",
    "<tr><th align=\"center\"> Planet</th> <th align=\"center\">                 Mass in kg                </th> <th align=\"center\">Distance to  sun in AU</th> </tr>\n",
    "</thead>\n",
    "<tbody>\n",
    "<tr><td align=\"center\">   Earth      </td> <td align=\"center\">   $M_{\\mathrm{Earth}}=6\\times 10^{24}$ kg        </td> <td align=\"center\">   1AU                       </td> </tr>\n",
    "<tr><td align=\"center\">   Jupiter    </td> <td align=\"center\">   $M_{\\mathrm{Jupiter}}=1.9\\times 10^{27}$ kg    </td> <td align=\"center\">   5.20 AU                   </td> </tr>\n",
    "<tr><td align=\"center\">   Mars       </td> <td align=\"center\">   $M_{\\mathrm{Mars}}=6.6\\times 10^{23}$ kg       </td> <td align=\"center\">   1.52 AU                   </td> </tr>\n",
    "<tr><td align=\"center\">   Venus      </td> <td align=\"center\">   $M_{\\mathrm{Venus}}=4.9\\times 10^{24}$ kg      </td> <td align=\"center\">   0.72 AU                   </td> </tr>\n",
    "<tr><td align=\"center\">   Saturn     </td> <td align=\"center\">   $M_{\\mathrm{Saturn}}=5.5\\times 10^{26}$ kg     </td> <td align=\"center\">   9.54 AU                   </td> </tr>\n",
    "<tr><td align=\"center\">   Mercury    </td> <td align=\"center\">   $M_{\\mathrm{Mercury}}=3.3\\times 10^{23}$ kg    </td> <td align=\"center\">   0.39 AU                   </td> </tr>\n",
    "<tr><td align=\"center\">   Uranus     </td> <td align=\"center\">   $M_{\\mathrm{Uranus}}=8.8\\times 10^{25}$ kg     </td> <td align=\"center\">   19.19 AU                  </td> </tr>\n",
    "<tr><td align=\"center\">   Neptun     </td> <td align=\"center\">   $M_{\\mathrm{Neptun}}=1.03\\times 10^{26}$ kg    </td> <td align=\"center\">   30.06 AU                  </td> </tr>\n",
    "<tr><td align=\"center\">   Pluto      </td> <td align=\"center\">   $M_{\\mathrm{Pluto}}=1.31\\times 10^{22}$ kg     </td> <td align=\"center\">   39.53 AU                  </td> </tr>\n",
    "</tbody>\n",
    "</table>\n",
    "\n",
    "In setting up the equations we limit ourselves to a co-planar\n",
    "motion and use only the $x$ and $y$ coordinates. But you should feel\n",
    "free to extend your equations to three dimensions, it is not very\n",
    "difficult and the data from NASA are all in three dimensions.\n",
    "\n",
    "[NASA](http://www.nasa.gov/index.html) has an excellent site at <http://ssd.jpl.nasa.gov/horizons.cgi#top>.\n",
    "From there you can extract initial conditions in order to start your differential equation solver.\n",
    "At the above website you need to change from **OBSERVER** to **VECTOR** and then write in the planet you are interested in.\n",
    "The generated data contain the $x$, $y$ and $z$ values as well as their corresponding velocities. The velocities are in units of AU per day.\n",
    "Alternatively they can be obtained in terms of km and km/s. \n",
    "\n",
    "For the system below involving only the Earth and the Sun, you\n",
    "could just initialize the position with say $x=1$ AU and $y=0$ AU.\n",
    "\n",
    "\n",
    "\n",
    "We assume that mass units can be obtained by using the fact that Earth's orbit is almost circular around the Sun.\n",
    "\n",
    "For circular motion we know that the force must obey the following relation"
   ]
  },
  {
   "cell_type": "markdown",
   "metadata": {},
   "source": [
    "$$\n",
    "F_G= \\frac{M_{\\mathrm{Earth}}v^2}{r}=\\frac{GM_{\\odot}M_{\\mathrm{Earth}}}{r^2},\n",
    "$$"
   ]
  },
  {
   "cell_type": "markdown",
   "metadata": {},
   "source": [
    "where $v$ is the velocity of Earth. \n",
    "The latter equation can be used to show that"
   ]
  },
  {
   "cell_type": "markdown",
   "metadata": {},
   "source": [
    "$$\n",
    "v^2r=GM_{\\odot}=4\\pi^2\\mathrm{AU}^3/\\mathrm{yr}^2.\n",
    "$$"
   ]
  },
  {
   "cell_type": "markdown",
   "metadata": {},
   "source": [
    "* 6a (5pt) Show how to derive the last equation and use this to scale the differential equations, getting thus rid of the constant $G$ and the two masses. Split the differential equations for the motion in the $x$ and $y$ directions in terms of four coupled differential equations.\n",
    "\n",
    "* 6b (5pt)  Discretize the above differential equations and set up an algorithm for solving these equations using Euler's forward algorithm and the so-called velocity Verlet method [discussed in the lecture notes](https://mhjensen.github.io/Physics321/doc/pub/energyconserv/html/energyconserv.html). Here you can reuse what you did in homework 3, exercises 6 and 7. \n",
    "\n",
    "### Exercise 7 (40pt), Numerical elements, solving exercise 6 numerically\n",
    "\n",
    "* 7a (20pt)  Write then a program which solves the above differential equations for the Earth-Sun system using Euler's  method and the velocity Verlet method.  Find out which initial value for the velocity that gives a circular orbit and test the stability of your algorithm as function of different time steps $\\Delta t$.  Make a plot of the results you obtain for the position of the Earth (plot the $x$ and $y$ values and/or if you prefer to use three dimensions the $z$-value as well) orbiting  the Sun. Discuss eventual differences between the Verlet algorithm and the Euler algorithm. \n",
    "\n",
    "* 7b (20pt) Consider then a planet which begins at a distance of 1 AU from the sun. Find out by trial and error what the initial velocity must be in order for the planet to escape from the sun.  Can you find an exact answer?  How does that match your numerical results?\n",
    "\n",
    "### Answers\n",
    "\n",
    "We start with a simpler case first, the Earth-Sun system  in two dimensions only.  The gravitational force $F_G$ on the earth from the sun is"
   ]
  },
  {
   "cell_type": "markdown",
   "metadata": {},
   "source": [
    "$$\n",
    "\\boldsymbol{F}_G=-\\frac{GM_{\\odot}M_E}{r^3}\\boldsymbol{r},\n",
    "$$"
   ]
  },
  {
   "cell_type": "markdown",
   "metadata": {},
   "source": [
    "where $G$ is the gravitational constant,"
   ]
  },
  {
   "cell_type": "markdown",
   "metadata": {},
   "source": [
    "$$\n",
    "M_E=6\\times 10^{24}\\mathrm{Kg},\n",
    "$$"
   ]
  },
  {
   "cell_type": "markdown",
   "metadata": {},
   "source": [
    "the mass of Earth,"
   ]
  },
  {
   "cell_type": "markdown",
   "metadata": {},
   "source": [
    "$$\n",
    "M_{\\odot}=2\\times 10^{30}\\mathrm{Kg},\n",
    "$$"
   ]
  },
  {
   "cell_type": "markdown",
   "metadata": {},
   "source": [
    "the mass of the Sun and"
   ]
  },
  {
   "cell_type": "markdown",
   "metadata": {},
   "source": [
    "$$\n",
    "r=1.5\\times 10^{11}\\mathrm{m},\n",
    "$$"
   ]
  },
  {
   "cell_type": "markdown",
   "metadata": {},
   "source": [
    "is the distance between Earth and the Sun. The latter defines what we call an astronomical unit **AU**.\n",
    "From Newton's second law we have then for the $x$ direction"
   ]
  },
  {
   "cell_type": "markdown",
   "metadata": {},
   "source": [
    "$$\n",
    "\\frac{d^2x}{dt^2}=-\\frac{F_{x}}{M_E},\n",
    "$$"
   ]
  },
  {
   "cell_type": "markdown",
   "metadata": {},
   "source": [
    "and"
   ]
  },
  {
   "cell_type": "markdown",
   "metadata": {},
   "source": [
    "$$\n",
    "\\frac{d^2y}{dt^2}=-\\frac{F_{y}}{M_E},\n",
    "$$"
   ]
  },
  {
   "cell_type": "markdown",
   "metadata": {},
   "source": [
    "for the $y$ direction.\n",
    "\n",
    "Here we will use  that  $x=r\\cos{(\\theta)}$, $y=r\\sin{(\\theta)}$ and"
   ]
  },
  {
   "cell_type": "markdown",
   "metadata": {},
   "source": [
    "$$\n",
    "r = \\sqrt{x^2+y^2}.\n",
    "$$"
   ]
  },
  {
   "cell_type": "markdown",
   "metadata": {},
   "source": [
    "We can rewrite"
   ]
  },
  {
   "cell_type": "markdown",
   "metadata": {},
   "source": [
    "$$\n",
    "F_{x}=-\\frac{GM_{\\odot}M_E}{r^2}\\cos{(\\theta)}=-\\frac{GM_{\\odot}M_E}{r^3}x,\n",
    "$$"
   ]
  },
  {
   "cell_type": "markdown",
   "metadata": {},
   "source": [
    "and"
   ]
  },
  {
   "cell_type": "markdown",
   "metadata": {},
   "source": [
    "$$\n",
    "F_{y}=-\\frac{GM_{\\odot}M_E}{r^2}\\sin{(\\theta)}=-\\frac{GM_{\\odot}M_E}{r^3}y,\n",
    "$$"
   ]
  },
  {
   "cell_type": "markdown",
   "metadata": {},
   "source": [
    "for the $y$ direction.\n",
    "\n",
    "\n",
    "We can rewrite these two equations"
   ]
  },
  {
   "cell_type": "markdown",
   "metadata": {},
   "source": [
    "$$\n",
    "F_{x}=-\\frac{GM_{\\odot}M_E}{r^2}\\cos{(\\theta)}=-\\frac{GM_{\\odot}M_E}{r^3}x,\n",
    "$$"
   ]
  },
  {
   "cell_type": "markdown",
   "metadata": {},
   "source": [
    "and"
   ]
  },
  {
   "cell_type": "markdown",
   "metadata": {},
   "source": [
    "$$\n",
    "F_{y}=-\\frac{GM_{\\odot}M_E}{r^2}\\sin{(\\theta)}=-\\frac{GM_{\\odot}M_E}{r^3}y,\n",
    "$$"
   ]
  },
  {
   "cell_type": "markdown",
   "metadata": {},
   "source": [
    "as four first-order coupled differential equations"
   ]
  },
  {
   "cell_type": "markdown",
   "metadata": {},
   "source": [
    "$$\n",
    "\\frac{dv_x}{dt}=-\\frac{GM_{\\odot}}{r^3}x,\n",
    "$$"
   ]
  },
  {
   "cell_type": "markdown",
   "metadata": {},
   "source": [
    "and"
   ]
  },
  {
   "cell_type": "markdown",
   "metadata": {},
   "source": [
    "$$\n",
    "\\frac{dx}{dt}=v_x,\n",
    "$$"
   ]
  },
  {
   "cell_type": "markdown",
   "metadata": {},
   "source": [
    "and"
   ]
  },
  {
   "cell_type": "markdown",
   "metadata": {},
   "source": [
    "$$\n",
    "\\frac{dv_y}{dt}=-\\frac{GM_{\\odot}}{r^3}y,\n",
    "$$"
   ]
  },
  {
   "cell_type": "markdown",
   "metadata": {},
   "source": [
    "and"
   ]
  },
  {
   "cell_type": "markdown",
   "metadata": {},
   "source": [
    "$$\n",
    "\\frac{dy}{dt}=v_y.\n",
    "$$"
   ]
  },
  {
   "cell_type": "markdown",
   "metadata": {},
   "source": [
    "The four coupled differential equations"
   ]
  },
  {
   "cell_type": "markdown",
   "metadata": {},
   "source": [
    "$$\n",
    "\\frac{dv_x}{dt}=-\\frac{GM_{\\odot}}{r^3}x,\n",
    "$$"
   ]
  },
  {
   "cell_type": "markdown",
   "metadata": {},
   "source": [
    "and"
   ]
  },
  {
   "cell_type": "markdown",
   "metadata": {},
   "source": [
    "$$\n",
    "\\frac{dx}{dt}=v_x,\n",
    "$$"
   ]
  },
  {
   "cell_type": "markdown",
   "metadata": {},
   "source": [
    "and"
   ]
  },
  {
   "cell_type": "markdown",
   "metadata": {},
   "source": [
    "$$\n",
    "\\frac{dv_y}{dt}=-\\frac{GM_{\\odot}}{r^3}y,\n",
    "$$"
   ]
  },
  {
   "cell_type": "markdown",
   "metadata": {},
   "source": [
    "and"
   ]
  },
  {
   "cell_type": "markdown",
   "metadata": {},
   "source": [
    "$$\n",
    "\\frac{dy}{dt}=v_y,\n",
    "$$"
   ]
  },
  {
   "cell_type": "markdown",
   "metadata": {},
   "source": [
    "can be turned into dimensionless equations or we can introduce astronomical units with $1$ AU = $1.5\\times 10^{11}$. \n",
    "\n",
    "Using the equations from circular motion (with $r =1\\mathrm{AU}$)"
   ]
  },
  {
   "cell_type": "markdown",
   "metadata": {},
   "source": [
    "$$\n",
    "\\frac{M_E v^2}{r} = F = \\frac{GM_{\\odot}M_E}{r^2},\n",
    "$$"
   ]
  },
  {
   "cell_type": "markdown",
   "metadata": {},
   "source": [
    "we have"
   ]
  },
  {
   "cell_type": "markdown",
   "metadata": {},
   "source": [
    "$$\n",
    "GM_{\\odot}=v^2r,\n",
    "$$"
   ]
  },
  {
   "cell_type": "markdown",
   "metadata": {},
   "source": [
    "and using that the velocity of Earth (assuming circular motion) is\n",
    "$v = 2\\pi r/\\mathrm{yr}=2\\pi\\mathrm{AU}/\\mathrm{yr}$, we have"
   ]
  },
  {
   "cell_type": "markdown",
   "metadata": {},
   "source": [
    "$$\n",
    "GM_{\\odot}= v^2r = 4\\pi^2 \\frac{(\\mathrm{AU})^3}{\\mathrm{yr}^2}.\n",
    "$$"
   ]
  },
  {
   "cell_type": "markdown",
   "metadata": {},
   "source": [
    "The four coupled differential equations can then be discretized using Euler's method as (with step length $h$)"
   ]
  },
  {
   "cell_type": "markdown",
   "metadata": {},
   "source": [
    "$$\n",
    "v_{x,i+1}=v_{x,i}-h\\frac{4\\pi^2}{r_i^3}x_i,\n",
    "$$"
   ]
  },
  {
   "cell_type": "markdown",
   "metadata": {},
   "source": [
    "and"
   ]
  },
  {
   "cell_type": "markdown",
   "metadata": {},
   "source": [
    "$$\n",
    "x_{i+1}=x_i+hv_{x,i},\n",
    "$$"
   ]
  },
  {
   "cell_type": "markdown",
   "metadata": {},
   "source": [
    "and"
   ]
  },
  {
   "cell_type": "markdown",
   "metadata": {},
   "source": [
    "$$\n",
    "v_{y,i+1}=v_{y,i}-h\\frac{4\\pi^2}{r_i^3}y_i,\n",
    "$$"
   ]
  },
  {
   "cell_type": "markdown",
   "metadata": {},
   "source": [
    "and"
   ]
  },
  {
   "cell_type": "markdown",
   "metadata": {},
   "source": [
    "$$\n",
    "y_{i+1}=y_i+hv_{y,i},\n",
    "$$"
   ]
  },
  {
   "cell_type": "markdown",
   "metadata": {},
   "source": [
    "The code here implements Euler's method for the Earth-Sun system using a more compact way of representing the vectors. Alternatively, you could have spelled out all the variables $v_x$, $v_y$, $x$ and $y$ as one-dimensional arrays."
   ]
  },
  {
   "cell_type": "code",
   "execution_count": null,
   "metadata": {},
   "outputs": [],
   "source": [
    "# Common imports\n",
    "import numpy as np\n",
    "import pandas as pd\n",
    "from math import *\n",
    "import matplotlib.pyplot as plt\n",
    "import os\n",
    "\n",
    "# Where to save the figures and data files\n",
    "PROJECT_ROOT_DIR = \"Results\"\n",
    "FIGURE_ID = \"Results/FigureFiles\"\n",
    "DATA_ID = \"DataFiles/\"\n",
    "\n",
    "if not os.path.exists(PROJECT_ROOT_DIR):\n",
    "    os.mkdir(PROJECT_ROOT_DIR)\n",
    "\n",
    "if not os.path.exists(FIGURE_ID):\n",
    "    os.makedirs(FIGURE_ID)\n",
    "\n",
    "if not os.path.exists(DATA_ID):\n",
    "    os.makedirs(DATA_ID)\n",
    "\n",
    "def image_path(fig_id):\n",
    "    return os.path.join(FIGURE_ID, fig_id)\n",
    "\n",
    "def data_path(dat_id):\n",
    "    return os.path.join(DATA_ID, dat_id)\n",
    "\n",
    "def save_fig(fig_id):\n",
    "    plt.savefig(image_path(fig_id) + \".png\", format='png')\n",
    "\n",
    "\n",
    "DeltaT = 0.01\n",
    "#set up arrays \n",
    "tfinal = 10 # in years\n",
    "n = ceil(tfinal/DeltaT)\n",
    "# set up arrays for t, a, v, and x\n",
    "t = np.zeros(n)\n",
    "v = np.zeros((n,2))\n",
    "r = np.zeros((n,2))\n",
    "# Initial conditions as compact 2-dimensional arrays\n",
    "r0 = np.array([1.0,0.0])\n",
    "v0 = np.array([0.0,2*pi])\n",
    "r[0] = r0\n",
    "v[0] = v0\n",
    "Fourpi2 = 4*pi*pi\n",
    "# Start integrating using Euler's method\n",
    "for i in range(n-1):\n",
    "    # Set up the acceleration\n",
    "    # Here you could have defined your own function for this\n",
    "    rabs = sqrt(sum(r[i]*r[i]))\n",
    "    a =  -Fourpi2*r[i]/(rabs**3)\n",
    "    # update velocity, time and position using Euler's forward method\n",
    "    v[i+1] = v[i] + DeltaT*a\n",
    "    r[i+1] = r[i] + DeltaT*v[i]\n",
    "    t[i+1] = t[i] + DeltaT\n",
    "# Plot position as function of time    \n",
    "fig, ax = plt.subplots()\n",
    "#ax.set_xlim(0, tfinal)\n",
    "ax.set_ylabel('x[m]')\n",
    "ax.set_xlabel('y[m]')\n",
    "ax.plot(r[:,0], r[:,1])\n",
    "fig.tight_layout()\n",
    "save_fig(\"EarthSunEuler\")\n",
    "plt.show()"
   ]
  },
  {
   "cell_type": "markdown",
   "metadata": {},
   "source": [
    "We notice here that Euler's method doesn't give a stable orbit with for example $\\Delta t =0.01$. It\n",
    "means that we cannot trust Euler's method. Euler's method does not conserve energy. It is an\n",
    "example of an integrator which is not\n",
    "[symplectic](https://en.wikipedia.org/wiki/Symplectic_integrator).\n",
    "\n",
    "Here we present thus two methods, which with simple changes allow us\n",
    "to avoid these pitfalls. The simplest possible extension is the\n",
    "so-called Euler-Cromer method.  The changes we need to make to our\n",
    "code are indeed marginal here.  We need simply to replace"
   ]
  },
  {
   "cell_type": "code",
   "execution_count": null,
   "metadata": {},
   "outputs": [],
   "source": [
    "    r[i+1] = r[i] + DeltaT*v[i]"
   ]
  },
  {
   "cell_type": "markdown",
   "metadata": {},
   "source": [
    "in the above code with the velocity at the new time $t_{i+1}$"
   ]
  },
  {
   "cell_type": "code",
   "execution_count": null,
   "metadata": {},
   "outputs": [],
   "source": [
    "    r[i+1] = r[i] + DeltaT*v[i+1]"
   ]
  },
  {
   "cell_type": "markdown",
   "metadata": {},
   "source": [
    "By this simple caveat we get stable orbits.  Below we derive the\n",
    "Euler-Cromer method as well as one of the most utlized algorithms for\n",
    "solving the above type of problems, the so-called Velocity-Verlet\n",
    "method.\n",
    "\n",
    "\n",
    "Let us repeat Euler's method.\n",
    "We have a differential equation"
   ]
  },
  {
   "cell_type": "markdown",
   "metadata": {},
   "source": [
    "<!-- Equation labels as ordinary links -->\n",
    "<div id=\"_auto1\"></div>\n",
    "\n",
    "$$\n",
    "\\begin{equation}\n",
    "  y'(t_i)=f(t_i,y_i)   \n",
    "\\label{_auto1} \\tag{1}\n",
    "\\end{equation}\n",
    "$$"
   ]
  },
  {
   "cell_type": "markdown",
   "metadata": {},
   "source": [
    "and if we truncate at the first derivative, we have from the Taylor expansion"
   ]
  },
  {
   "cell_type": "markdown",
   "metadata": {},
   "source": [
    "<!-- Equation labels as ordinary links -->\n",
    "<div id=\"eq:euler\"></div>\n",
    "\n",
    "$$\n",
    "\\begin{equation}\n",
    "   y_{i+1}=y(t_i) + (\\Delta t) f(t_i,y_i) + O(\\Delta t^2), \\label{eq:euler} \\tag{2}\n",
    "\\end{equation}\n",
    "$$"
   ]
  },
  {
   "cell_type": "markdown",
   "metadata": {},
   "source": [
    "which when complemented with $t_{i+1}=t_i+\\Delta t$ forms\n",
    "the algorithm for the well-known Euler method. \n",
    "Note that at every step we make an approximation error\n",
    "of the order of $O(\\Delta t^2)$, however the total error is the sum over all\n",
    "steps $N=(b-a)/(\\Delta t)$ for $t\\in [a,b]$, yielding thus a global error which goes like\n",
    "$NO(\\Delta t^2)\\approx O(\\Delta t)$. \n",
    "\n",
    "To make Euler's method more precise we can obviously\n",
    "decrease $\\Delta t$ (increase $N$), but this can lead to loss of numerical precision.\n",
    "Euler's method is not recommended for precision calculation,\n",
    "although it is handy to use in order to get a first\n",
    "view on how a solution may look like.\n",
    "\n",
    "Euler's method is asymmetric in time, since it uses information about the derivative at the beginning\n",
    "of the time interval. This means that we evaluate the position at $y_1$ using the velocity\n",
    "at $v_0$. A simple variation is to determine $x_{n+1}$ using the velocity at\n",
    "$v_{n+1}$, that is (in a slightly more generalized form)"
   ]
  },
  {
   "cell_type": "markdown",
   "metadata": {},
   "source": [
    "<!-- Equation labels as ordinary links -->\n",
    "<div id=\"_auto2\"></div>\n",
    "\n",
    "$$\n",
    "\\begin{equation} \n",
    "   y_{n+1}=y_{n}+ v_{n+1}+O(\\Delta t^2)\n",
    "\\label{_auto2} \\tag{3}\n",
    "\\end{equation}\n",
    "$$"
   ]
  },
  {
   "cell_type": "markdown",
   "metadata": {},
   "source": [
    "and"
   ]
  },
  {
   "cell_type": "markdown",
   "metadata": {},
   "source": [
    "<!-- Equation labels as ordinary links -->\n",
    "<div id=\"_auto3\"></div>\n",
    "\n",
    "$$\n",
    "\\begin{equation}\n",
    "   v_{n+1}=v_{n}+(\\Delta t) a_{n}+O(\\Delta t^2).\n",
    "\\label{_auto3} \\tag{4}\n",
    "\\end{equation}\n",
    "$$"
   ]
  },
  {
   "cell_type": "markdown",
   "metadata": {},
   "source": [
    "The acceleration $a_n$ is a function of $a_n(y_n, v_n, t_n)$ and needs to be evaluated\n",
    "as well. This is the Euler-Cromer method. It is easy to change the above code and see that with the same \n",
    "time step we get stable results.\n",
    "\n",
    "\n",
    "Let us stay with $x$ (position) and $v$ (velocity) as the quantities we are interested in.\n",
    "\n",
    "We have the Taylor expansion for the position given by"
   ]
  },
  {
   "cell_type": "markdown",
   "metadata": {},
   "source": [
    "$$\n",
    "x_{i+1} = x_i+(\\Delta t)v_i+\\frac{(\\Delta t)^2}{2}a_i+O((\\Delta t)^3).\n",
    "$$"
   ]
  },
  {
   "cell_type": "markdown",
   "metadata": {},
   "source": [
    "The corresponding expansion for the velocity is"
   ]
  },
  {
   "cell_type": "markdown",
   "metadata": {},
   "source": [
    "$$\n",
    "v_{i+1} = v_i+(\\Delta t)a_i+\\frac{(\\Delta t)^2}{2}v^{(2)}_i+O((\\Delta t)^3).\n",
    "$$"
   ]
  },
  {
   "cell_type": "markdown",
   "metadata": {},
   "source": [
    "Via Newton's second law we have normally an analytical expression for the derivative of the velocity, namely"
   ]
  },
  {
   "cell_type": "markdown",
   "metadata": {},
   "source": [
    "$$\n",
    "a_i= \\frac{d^2 x}{dt^2}\\vert_{i}=\\frac{d v}{dt}\\vert_{i}= \\frac{F(x_i,v_i,t_i)}{m}.\n",
    "$$"
   ]
  },
  {
   "cell_type": "markdown",
   "metadata": {},
   "source": [
    "If we add to this the corresponding expansion for the derivative of the velocity"
   ]
  },
  {
   "cell_type": "markdown",
   "metadata": {},
   "source": [
    "$$\n",
    "v^{(1)}_{i+1} = a_{i+1}= a_i+(\\Delta t)v^{(2)}_i+O((\\Delta t)^2)=a_i+(\\Delta t)v^{(2)}_i+O((\\Delta t)^2),\n",
    "$$"
   ]
  },
  {
   "cell_type": "markdown",
   "metadata": {},
   "source": [
    "and retain only terms up to the second derivative of the velocity since our error goes as $O(h^3)$, we have"
   ]
  },
  {
   "cell_type": "markdown",
   "metadata": {},
   "source": [
    "$$\n",
    "(\\Delta t)v^{(2)}_i\\approx a_{i+1}-a_i.\n",
    "$$"
   ]
  },
  {
   "cell_type": "markdown",
   "metadata": {},
   "source": [
    "We can then rewrite the Taylor expansion for the velocity as"
   ]
  },
  {
   "cell_type": "markdown",
   "metadata": {},
   "source": [
    "$$\n",
    "v_{i+1} = v_i+\\frac{(\\Delta t)}{2}\\left( a_{i+1}+a_{i}\\right)+O((\\Delta t)^3).\n",
    "$$"
   ]
  },
  {
   "cell_type": "markdown",
   "metadata": {},
   "source": [
    "Our final equations for the position and the velocity become then"
   ]
  },
  {
   "cell_type": "markdown",
   "metadata": {},
   "source": [
    "$$\n",
    "x_{i+1} = x_i+(\\Delta t)v_i+\\frac{(\\Delta t)^2}{2}a_{i}+O((\\Delta t)^3),\n",
    "$$"
   ]
  },
  {
   "cell_type": "markdown",
   "metadata": {},
   "source": [
    "and"
   ]
  },
  {
   "cell_type": "markdown",
   "metadata": {},
   "source": [
    "$$\n",
    "v_{i+1} = v_i+\\frac{(\\Delta t)}{2}\\left(a_{i+1}+a_{i}\\right)+O((\\Delta t)^3).\n",
    "$$"
   ]
  },
  {
   "cell_type": "markdown",
   "metadata": {},
   "source": [
    "Note well that the term $a_{i+1}$ depends on the position at $x_{i+1}$. This means that you need to calculate \n",
    "the position at the updated time $t_{i+1}$ before the computing the next velocity.  Note also that the derivative of the velocity at the time\n",
    "$t_i$ used in the updating of the position can be reused in the calculation of the velocity update as well. \n",
    "\n",
    "We can now easily add the Verlet method to our original code as"
   ]
  },
  {
   "cell_type": "code",
   "execution_count": null,
   "metadata": {},
   "outputs": [],
   "source": [
    "DeltaT = 0.01\n",
    "#set up arrays \n",
    "tfinal = 10\n",
    "n = ceil(tfinal/DeltaT)\n",
    "# set up arrays for t, a, v, and x\n",
    "t = np.zeros(n)\n",
    "v = np.zeros((n,2))\n",
    "r = np.zeros((n,2))\n",
    "# Initial conditions as compact 2-dimensional arrays\n",
    "r0 = np.array([1.0,0.0])\n",
    "v0 = np.array([0.0,2*pi])\n",
    "r[0] = r0\n",
    "v[0] = v0\n",
    "Fourpi2 = 4*pi*pi\n",
    "# Start integrating using the Velocity-Verlet  method\n",
    "for i in range(n-1):\n",
    "    # Set up forces, air resistance FD, note now that we need the norm of the vecto\n",
    "    # Here you could have defined your own function for this\n",
    "    rabs = sqrt(sum(r[i]*r[i]))\n",
    "    a =  -Fourpi2*r[i]/(rabs**3)\n",
    "    # update velocity, time and position using the Velocity-Verlet method\n",
    "    r[i+1] = r[i] + DeltaT*v[i]+0.5*(DeltaT**2)*a\n",
    "    rabs = sqrt(sum(r[i+1]*r[i+1]))\n",
    "    anew = -4*(pi**2)*r[i+1]/(rabs**3)\n",
    "    v[i+1] = v[i] + 0.5*DeltaT*(a+anew)\n",
    "    t[i+1] = t[i] + DeltaT\n",
    "# Plot position as function of time    \n",
    "fig, ax = plt.subplots()\n",
    "ax.set_ylabel('x[m]')\n",
    "ax.set_xlabel('y[m]')\n",
    "ax.plot(r[:,0], r[:,1])\n",
    "fig.tight_layout()\n",
    "save_fig(\"EarthSunVV\")\n",
    "plt.show()"
   ]
  },
  {
   "cell_type": "markdown",
   "metadata": {},
   "source": [
    "You can easily generalize the calculation of the forces by defining a function\n",
    "which takes in as input the various variables. We leave this as a challenge to you.\n",
    "\n",
    "Running the above code for various time steps we see that the Velocity-Verlet is fully stable for various time steps.\n",
    "\n",
    "We can also play around with different initial conditions in order to find the escape velocity from an orbit around the sun with distance one astronomical unit, 1 AU. The theoretical value for the escape velocity, is given by"
   ]
  },
  {
   "cell_type": "markdown",
   "metadata": {},
   "source": [
    "$$\n",
    "v = \\sqrt{8\\pi^2}{r},\n",
    "$$"
   ]
  },
  {
   "cell_type": "markdown",
   "metadata": {},
   "source": [
    "and with $r=1$ AU, this means that the escape velocity is $2\\pi\\sqrt{2}$ AU/yr. To obtain this we required that the kinetic energy of Earth equals the potential energy given by the gravitational force.\n",
    "\n",
    "Setting"
   ]
  },
  {
   "cell_type": "markdown",
   "metadata": {},
   "source": [
    "$$\n",
    "\\frac{1}{2}M_{\\mathrm{Earth}}v^2=\\frac{G\\M_{\\odot}}{r},\n",
    "$$"
   ]
  },
  {
   "cell_type": "markdown",
   "metadata": {},
   "source": [
    "and with $G\\M_{\\odot}=4\\pi^2$ we obtain the above relation for the velocity. Setting an initial velocity say equal to $9$ in the above code, yields a planet (Earth) which escapes a stable orbit around the sun, as seen by running the ode here."
   ]
  },
  {
   "cell_type": "code",
   "execution_count": null,
   "metadata": {},
   "outputs": [],
   "source": [
    "DeltaT = 0.01\n",
    "#set up arrays \n",
    "tfinal = 100\n",
    "n = ceil(tfinal/DeltaT)\n",
    "# set up arrays for t, a, v, and x\n",
    "t = np.zeros(n)\n",
    "v = np.zeros((n,2))\n",
    "r = np.zeros((n,2))\n",
    "# Initial conditions as compact 2-dimensional arrays\n",
    "r0 = np.array([1.0,0.0])\n",
    "# setting initial velocity larger than escape velocity\n",
    "v0 = np.array([0.0,9.0])\n",
    "r[0] = r0\n",
    "v[0] = v0\n",
    "Fourpi2 = 4*pi*pi\n",
    "# Start integrating using the Velocity-Verlet  method\n",
    "for i in range(n-1):\n",
    "    # Set up forces, air resistance FD, note now that we need the norm of the vecto\n",
    "    # Here you could have defined your own function for this\n",
    "    rabs = sqrt(sum(r[i]*r[i]))\n",
    "    a =  -Fourpi2*r[i]/(rabs**3)\n",
    "    # update velocity, time and position using the Velocity-Verlet method\n",
    "    r[i+1] = r[i] + DeltaT*v[i]+0.5*(DeltaT**2)*a\n",
    "    rabs = sqrt(sum(r[i+1]*r[i+1]))\n",
    "    anew = -4*(pi**2)*r[i+1]/(rabs**3)\n",
    "    v[i+1] = v[i] + 0.5*DeltaT*(a+anew)\n",
    "    t[i+1] = t[i] + DeltaT\n",
    "# Plot position as function of time    \n",
    "fig, ax = plt.subplots()\n",
    "ax.set_ylabel('x[m]')\n",
    "ax.set_xlabel('y[m]')\n",
    "ax.plot(r[:,0], r[:,1])\n",
    "fig.tight_layout()\n",
    "save_fig(\"EscapeEarthSunVV\")\n",
    "plt.show()"
   ]
  }
 ],
 "metadata": {
  "kernelspec": {
   "display_name": "Python 3",
   "language": "python",
   "name": "python3"
  },
  "language_info": {
   "codemirror_mode": {
    "name": "ipython",
    "version": 3
   },
   "file_extension": ".py",
   "mimetype": "text/x-python",
   "name": "python",
   "nbconvert_exporter": "python",
   "pygments_lexer": "ipython3",
   "version": "3.8.5"
  }
 },
 "nbformat": 4,
 "nbformat_minor": 4
}
