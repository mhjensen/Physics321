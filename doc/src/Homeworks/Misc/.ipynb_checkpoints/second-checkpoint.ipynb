{
 "cells": [
  {
   "cell_type": "markdown",
   "id": "23338c17",
   "metadata": {},
   "source": [
    "<!-- HTML file automatically generated from DocOnce source (https://github.com/doconce/doconce/)\n",
    "doconce format html second.do.txt  -->\n",
    "<!-- dom:TITLE: PHY321: Developing a code for the solar system -->"
   ]
  },
  {
   "cell_type": "markdown",
   "id": "7e5c41a6",
   "metadata": {},
   "source": [
    "# PHY321: Developing a code for the solar system\n",
    "**Second Midterm**\n",
    "\n",
    "Date: **Apr 16, 2022**"
   ]
  },
  {
   "cell_type": "markdown",
   "id": "35cd5d0c",
   "metadata": {},
   "source": [
    "## Building a code for the solar system, gravitational force and constants\n",
    "\n",
    "We start with a simpler case first, the Earth-Sun system  in two dimensions only.  The gravitational force $F_G$ is"
   ]
  },
  {
   "cell_type": "markdown",
   "id": "002c29a5",
   "metadata": {},
   "source": [
    "$$\n",
    "F=\\frac{GM_{\\odot}M_E}{r^2},\n",
    "$$"
   ]
  },
  {
   "cell_type": "markdown",
   "id": "c98d0a48",
   "metadata": {},
   "source": [
    "where $G$ is the gravitational constant,"
   ]
  },
  {
   "cell_type": "markdown",
   "id": "93483f87",
   "metadata": {},
   "source": [
    "$$\n",
    "M_E=6\\times 10^{24}\\mathrm{Kg},\n",
    "$$"
   ]
  },
  {
   "cell_type": "markdown",
   "id": "3c13cddc",
   "metadata": {},
   "source": [
    "the mass of Earth,"
   ]
  },
  {
   "cell_type": "markdown",
   "id": "6bcb7886",
   "metadata": {},
   "source": [
    "$$\n",
    "M_{\\odot}=2\\times 10^{30}\\mathrm{Kg},\n",
    "$$"
   ]
  },
  {
   "cell_type": "markdown",
   "id": "ebaf20c8",
   "metadata": {},
   "source": [
    "the mass of the Sun and"
   ]
  },
  {
   "cell_type": "markdown",
   "id": "0407723e",
   "metadata": {},
   "source": [
    "$$\n",
    "r=1.5\\times 10^{11}\\mathrm{m},\n",
    "$$"
   ]
  },
  {
   "cell_type": "markdown",
   "id": "e3aa167f",
   "metadata": {},
   "source": [
    "is the distance between Earth and the Sun. The latter defines what we call an astronomical unit **AU**.\n",
    "\n",
    "From Newton's second law we have then for the $x$ direction"
   ]
  },
  {
   "cell_type": "markdown",
   "id": "fc803907",
   "metadata": {},
   "source": [
    "$$\n",
    "\\frac{d^2x}{dt^2}=\\frac{F_{x}}{M_E},\n",
    "$$"
   ]
  },
  {
   "cell_type": "markdown",
   "id": "8949238d",
   "metadata": {},
   "source": [
    "and"
   ]
  },
  {
   "cell_type": "markdown",
   "id": "948c7dbc",
   "metadata": {},
   "source": [
    "$$\n",
    "\\frac{d^2y}{dt^2}=\\frac{F_{y}}{M_E},\n",
    "$$"
   ]
  },
  {
   "cell_type": "markdown",
   "id": "4aebe654",
   "metadata": {},
   "source": [
    "for the $y$ direction.\n",
    "\n",
    "Introducing $x=r\\cos{(\\theta)}$, $y=r\\sin{(\\theta)}$ and"
   ]
  },
  {
   "cell_type": "markdown",
   "id": "f5364ec8",
   "metadata": {},
   "source": [
    "$$\n",
    "r = \\sqrt{x^2+y^2},\n",
    "$$"
   ]
  },
  {
   "cell_type": "markdown",
   "id": "5f3f6267",
   "metadata": {},
   "source": [
    "we can rewrite"
   ]
  },
  {
   "cell_type": "markdown",
   "id": "a804c606",
   "metadata": {},
   "source": [
    "$$\n",
    "F_{x}=-\\frac{GM_{\\odot}M_E}{r^2}\\cos{(\\theta)}=-\\frac{GM_{\\odot}M_E}{r^3}x,\n",
    "$$"
   ]
  },
  {
   "cell_type": "markdown",
   "id": "945240b4",
   "metadata": {},
   "source": [
    "and"
   ]
  },
  {
   "cell_type": "markdown",
   "id": "0bb0a6ce",
   "metadata": {},
   "source": [
    "$$\n",
    "F_{y}=-\\frac{GM_{\\odot}M_E}{r^2}\\sin{(\\theta)}=-\\frac{GM_{\\odot}M_E}{r^3}y,\n",
    "$$"
   ]
  },
  {
   "cell_type": "markdown",
   "id": "fbd4c376",
   "metadata": {},
   "source": [
    "for the $y$ direction.\n",
    "\n",
    "We can rewrite these two equations"
   ]
  },
  {
   "cell_type": "markdown",
   "id": "0fb75dd8",
   "metadata": {},
   "source": [
    "$$\n",
    "F_{x}=-\\frac{GM_{\\odot}M_E}{r^2}\\cos{(\\theta)}=-\\frac{GM_{\\odot}M_E}{r^3}x,\n",
    "$$"
   ]
  },
  {
   "cell_type": "markdown",
   "id": "a10ee621",
   "metadata": {},
   "source": [
    "and"
   ]
  },
  {
   "cell_type": "markdown",
   "id": "2ca016b5",
   "metadata": {},
   "source": [
    "$$\n",
    "F_{y}=-\\frac{GM_{\\odot}M_E}{r^2}\\sin{(\\theta)}=-\\frac{GM_{\\odot}M_E}{r^3}y,\n",
    "$$"
   ]
  },
  {
   "cell_type": "markdown",
   "id": "6be3ed35",
   "metadata": {},
   "source": [
    "as four first-order coupled differential equations"
   ]
  },
  {
   "cell_type": "markdown",
   "id": "9d274a9d",
   "metadata": {},
   "source": [
    "$$\n",
    "\\frac{dv_x}{dt}=-\\frac{GM_{\\odot}}{r^3}x,\n",
    "$$"
   ]
  },
  {
   "cell_type": "markdown",
   "id": "eb74ee5a",
   "metadata": {},
   "source": [
    "$$\n",
    "\\frac{dx}{dt}=v_x,\n",
    "$$"
   ]
  },
  {
   "cell_type": "markdown",
   "id": "5711b1e6",
   "metadata": {},
   "source": [
    "$$\n",
    "\\frac{dv_y}{dt}=-\\frac{GM_{\\odot}}{r^3}y,\n",
    "$$"
   ]
  },
  {
   "cell_type": "markdown",
   "id": "a204a06d",
   "metadata": {},
   "source": [
    "$$\n",
    "\\frac{dy}{dt}=v_y.\n",
    "$$"
   ]
  },
  {
   "cell_type": "markdown",
   "id": "cb08dc6c",
   "metadata": {},
   "source": [
    "The four coupled differential equations"
   ]
  },
  {
   "cell_type": "markdown",
   "id": "ba51721a",
   "metadata": {},
   "source": [
    "$$\n",
    "\\frac{dv_x}{dt}=-\\frac{GM_{\\odot}}{r^3}x,\n",
    "$$"
   ]
  },
  {
   "cell_type": "markdown",
   "id": "2b2c06d3",
   "metadata": {},
   "source": [
    "$$\n",
    "\\frac{dx}{dt}=v_x,\n",
    "$$"
   ]
  },
  {
   "cell_type": "markdown",
   "id": "4d49daaa",
   "metadata": {},
   "source": [
    "$$\n",
    "\\frac{dv_y}{dt}=-\\frac{GM_{\\odot}}{r^3}y,\n",
    "$$"
   ]
  },
  {
   "cell_type": "markdown",
   "id": "8d8d6356",
   "metadata": {},
   "source": [
    "$$\n",
    "\\frac{dy}{dt}=v_y,\n",
    "$$"
   ]
  },
  {
   "cell_type": "markdown",
   "id": "4ad30117",
   "metadata": {},
   "source": [
    "can be turned into dimensionless equations (as we did in project 2) or we can introduce astronomical units with $1$ AU = $1.5\\times 10^{11}$. \n",
    "\n",
    "Using the equations from circular motion (with $r =1\\mathrm{AU}$)"
   ]
  },
  {
   "cell_type": "markdown",
   "id": "aca60cc3",
   "metadata": {},
   "source": [
    "$$\n",
    "\\frac{M_E v^2}{r} = F = \\frac{GM_{\\odot}M_E}{r^2},\n",
    "$$"
   ]
  },
  {
   "cell_type": "markdown",
   "id": "3ecb54cb",
   "metadata": {},
   "source": [
    "we have"
   ]
  },
  {
   "cell_type": "markdown",
   "id": "619645de",
   "metadata": {},
   "source": [
    "$$\n",
    "GM_{\\odot}=v^2r,\n",
    "$$"
   ]
  },
  {
   "cell_type": "markdown",
   "id": "8dc934de",
   "metadata": {},
   "source": [
    "and using that the velocity of Earth (assuming circular motion) is\n",
    "$v = 2\\pi r/\\mathrm{yr}=2\\pi\\mathrm{AU}/\\mathrm{yr}$, we have"
   ]
  },
  {
   "cell_type": "markdown",
   "id": "924c44d6",
   "metadata": {},
   "source": [
    "$$\n",
    "GM_{\\odot}= v^2r = 4\\pi^2 \\frac{(\\mathrm{AU})^3}{\\mathrm{yr}^2}.\n",
    "$$"
   ]
  },
  {
   "cell_type": "markdown",
   "id": "72cc085e",
   "metadata": {},
   "source": [
    "The four coupled differential equations can then be discretized using the Euler-Cromer method as (with step length $h$)"
   ]
  },
  {
   "cell_type": "markdown",
   "id": "5e73df56",
   "metadata": {},
   "source": [
    "$$\n",
    "v_{x,i+1}=v_{x,i}-h\\frac{4\\pi^2}{r_i^3}x_i,\n",
    "$$"
   ]
  },
  {
   "cell_type": "markdown",
   "id": "8e23aa2d",
   "metadata": {},
   "source": [
    "$$\n",
    "x_{i+1}=x_i+hv_{x,i+1},\n",
    "$$"
   ]
  },
  {
   "cell_type": "markdown",
   "id": "dc13392c",
   "metadata": {},
   "source": [
    "$$\n",
    "v_{y,i+1}=v_{y,i}-h\\frac{4\\pi^2}{r_i^3}y_i,\n",
    "$$"
   ]
  },
  {
   "cell_type": "markdown",
   "id": "1f8fecb4",
   "metadata": {},
   "source": [
    "$$\n",
    "y_{i+1}=y_i+hv_{y,i+1},\n",
    "$$"
   ]
  },
  {
   "cell_type": "markdown",
   "id": "ef83943c",
   "metadata": {},
   "source": [
    "If you wish to develop codes for a thtee-dimensional system it is rather straightforward to add the $z$-direction.\n",
    "In your codes this is done by simply redefining your positions and velocities as a matrix of dimension $n\\times 3$ instead of $n\\times 2$ Here $n$ is the number of time steps while the number $3$ or $2$ point to the dimension of your vectors."
   ]
  },
  {
   "cell_type": "markdown",
   "id": "c57cc5e3",
   "metadata": {},
   "source": [
    "## Building a code for the solar system, adding Jupiter\n",
    "\n",
    "It is rather straightforward to add a new planet, say Jupiter.\n",
    "Jupiter has mass"
   ]
  },
  {
   "cell_type": "markdown",
   "id": "203a7367",
   "metadata": {},
   "source": [
    "$$\n",
    "M_J=1.9\\times 10^{27}\\mathrm{kg},\n",
    "$$"
   ]
  },
  {
   "cell_type": "markdown",
   "id": "b7c742f3",
   "metadata": {},
   "source": [
    "and distance to the Sun of $5.2$ AU. \n",
    "The additional gravitational force the Earth feels from Jupiter in the $x$-direction is"
   ]
  },
  {
   "cell_type": "markdown",
   "id": "1e827461",
   "metadata": {},
   "source": [
    "$$\n",
    "F_{x}^{EJ}=-\\frac{GM_JM_E}{r_{EJ}^3}(x_E-x_J),\n",
    "$$"
   ]
  },
  {
   "cell_type": "markdown",
   "id": "0fa939ab",
   "metadata": {},
   "source": [
    "where $E$ stands for Earth, $J$ for Jupiter, $r_{EJ}$ is distance between Earth and Jupiter"
   ]
  },
  {
   "cell_type": "markdown",
   "id": "e98c4861",
   "metadata": {},
   "source": [
    "$$\n",
    "r_{EJ} = \\sqrt{(x_E-x_J)^2+(y_E-y_J)^2},\n",
    "$$"
   ]
  },
  {
   "cell_type": "markdown",
   "id": "652395da",
   "metadata": {},
   "source": [
    "and $x_E$ and $y_E$ are the $x$ and $y$ coordinates of Earth, respectively, and \n",
    "$x_J$ and $y_J$ are the $x$ and $y$ coordinates of Jupiter, respectively.\n",
    "The $x$-component of the velocity of Earth changes thus to"
   ]
  },
  {
   "cell_type": "markdown",
   "id": "8ae082de",
   "metadata": {},
   "source": [
    "$$\n",
    "\\frac{dv_x^E}{dt}=-\\frac{GM_{\\odot}}{r^3}x_E-\\frac{GM_J}{r_{EJ}^3}(x_E-x_J).\n",
    "$$"
   ]
  },
  {
   "cell_type": "markdown",
   "id": "9b14285d",
   "metadata": {},
   "source": [
    "We can rewrite"
   ]
  },
  {
   "cell_type": "markdown",
   "id": "201c94ee",
   "metadata": {},
   "source": [
    "$$\n",
    "\\frac{dv_x^E}{dt}=-\\frac{GM_{\\odot}}{r^3}x_E-\\frac{GM_J}{r_{EJ}^3}(x_E-x_J).\n",
    "$$"
   ]
  },
  {
   "cell_type": "markdown",
   "id": "8ca54423",
   "metadata": {},
   "source": [
    "to"
   ]
  },
  {
   "cell_type": "markdown",
   "id": "d416331b",
   "metadata": {},
   "source": [
    "$$\n",
    "\\frac{dv_x^E}{dt}=-\\frac{4\\pi^2}{r^3}x_E-\\frac{4\\pi^2M_J/M_{\\odot}}{r_{EJ}^3}(x_E-x_J),\n",
    "$$"
   ]
  },
  {
   "cell_type": "markdown",
   "id": "f9bfce5c",
   "metadata": {},
   "source": [
    "where we used"
   ]
  },
  {
   "cell_type": "markdown",
   "id": "05115909",
   "metadata": {},
   "source": [
    "$$\n",
    "GM_J = GM_{\\odot}\\left(\\frac{M_J}{M_{\\odot}}\\right)=4\\pi^2 \\frac{M_J}{M_{\\odot}}.\n",
    "$$"
   ]
  },
  {
   "cell_type": "markdown",
   "id": "942960de",
   "metadata": {},
   "source": [
    "Similarly, for the velocity in $y$-direction we have"
   ]
  },
  {
   "cell_type": "markdown",
   "id": "548d852b",
   "metadata": {},
   "source": [
    "$$\n",
    "\\frac{dv_y^E}{dt}=-\\frac{4\\pi^2}{r^3}y_E-\\frac{4\\pi^2M_J/M_{\\odot}}{r_{EJ}^3}(y_E-y_J).\n",
    "$$"
   ]
  },
  {
   "cell_type": "markdown",
   "id": "201daf34",
   "metadata": {},
   "source": [
    "Similar expressions apply for Jupiter. The equations for $x$ and $y$ \n",
    "derivatives are unchanged. This equations are similar for all other planets and as we will see later."
   ]
  },
  {
   "cell_type": "markdown",
   "id": "eafec8e4",
   "metadata": {},
   "source": [
    "## How can I get the initial velocities and positions of the planets\n",
    "[NASA](http://www.nasa.gov/index.html) has an excellent site at <http://ssd.jpl.nasa.gov/horizons.cgi#top>.\n",
    "From there you can extract initial conditions in order to start your differential equation solver.\n",
    "At the above website you need to change from **OBSERVER** to **VECTOR** and then write in the planet you are interested in.\n",
    "The generated data contain the $x$, $y$ and $z$ values as well as their corresponding velocities. The velocities are in units of AU per day.\n",
    "Alternatively they can be obtained in terms of km and km/s. \n",
    "\n",
    "For the first simple system involving the Earth and the Sun, you could just initialize the position with say $x=1$ AU\n",
    "and $y=0$ AU."
   ]
  },
  {
   "cell_type": "markdown",
   "id": "e062e8bb",
   "metadata": {},
   "source": [
    "## Code Example (two-dimensional vectors)\n",
    "\n",
    "Here we use the Velocity Verlet method."
   ]
  },
  {
   "cell_type": "code",
   "execution_count": 1,
   "id": "8d024c2b",
   "metadata": {},
   "outputs": [],
   "source": [
    "%matplotlib inline\n",
    "\n",
    "import matplotlib.pyplot as plt\n",
    "import numpy as np\n",
    "import math\n",
    "%matplotlib inline\n",
    "\n",
    "def solarsystem_j_scaled(f = 1, tf = 100, dt = .01):\n",
    "    m_j = 1.9 * 10**27 * f  # Jupiter\n",
    "    m_e = 6 * 10 ** 24      # Earth\n",
    "    m_s = 2 * 10 ** 30      # Sun\n",
    "\n",
    "    def get_accel(m1,m2,r1,r2):\n",
    "        '''\n",
    "        Given a masses and locations m1, m2, r1, r2\n",
    "        Returns the force between the two masses, \n",
    "        f = [fx, fy]\n",
    "        '''\n",
    "        dist = r1-r2\n",
    "        dist_sun = np.sqrt((r1[0])**2 + (r1[1])**2)\n",
    "        distance = np.sqrt((r1[0]-r2[0])**2 + (r1[1]-r2[1])**2)\n",
    "        a = -4*math.pi**2*r1/dist_sun**3-4*math.pi**2*dist*(m2/m_s)/distance**3\n",
    "        return a\n",
    "    \n",
    "    r_s = np.array([0,0])\n",
    "    n = math.ceil(tf/dt)\n",
    "    print('Integration points: ', n)\n",
    "    \n",
    "    # set up arrays for time t, velocity v, and position r\n",
    "    t = np.zeros(n)\n",
    "    v_j = np.zeros((n,2))\n",
    "    r_j = np.zeros((n,2))\n",
    "    r_j[0] = np.array([0, 5.2])\n",
    "    v_j[0] = np.array([-2.76, 0])\n",
    "    \n",
    "    v_e = np.zeros((n,2))\n",
    "    r_e = np.zeros((n,2))\n",
    "    r_e[0] = np.array([1, 0])\n",
    "    v_e[0] = np.array([0, 6.28])\n",
    "    \n",
    "    for i in range(n-1):\n",
    "        accel_earth = get_accel(m_e, m_j, r_e[i], r_j[i])\n",
    "        accel_jupyter = get_accel(m_j, m_e, r_j[i], r_e[i])\n",
    "        \n",
    "        r_e[i+1] = r_e[i] + dt*v_e[i]+.5*dt**2*accel_earth\n",
    "        r_j[i+1] = r_j[i] + dt*v_j[i]+.5*dt**2*accel_jupyter\n",
    "        \n",
    "        # Update forces, accel\n",
    "        accel_earth_2 = get_accel(m_e, m_j, r_e[i+1], r_j[i+1])\n",
    "        accel_jupyter_2 = get_accel(m_j, m_e, r_j[i+1], r_e[i+1])\n",
    "        \n",
    "        v_e[i+1] = v_e[i] + 1/2*dt*(accel_earth + accel_earth_2)\n",
    "        v_j[i+1] = v_j[i] + 1/2*dt*(accel_jupyter + accel_jupyter_2)\n",
    "        \n",
    "        t[i+1] = t[i] + dt\n",
    "    \n",
    "    plt.plot(r_e[:, 0], r_e[:, 1], color = 'green')\n",
    "    plt.plot(r_j[:, 0], r_j[:, 1], color = 'blue')\n",
    "    plt.scatter(0,0,color = 'red')"
   ]
  },
  {
   "cell_type": "markdown",
   "id": "c06bec4c",
   "metadata": {},
   "source": [
    "## Running the Code"
   ]
  },
  {
   "cell_type": "code",
   "execution_count": 2,
   "id": "69b1477e",
   "metadata": {},
   "outputs": [
    {
     "name": "stdout",
     "output_type": "stream",
     "text": [
      "Integration points:  20\n"
     ]
    },
    {
     "data": {
      "image/png": "[encoded data removed]",
      "text/plain": [
       "<Figure size 432x288 with 1 Axes>"
      ]
     },
     "metadata": {
      "needs_background": "light"
     },
     "output_type": "display_data"
    }
   ],
   "source": [
    "solarsystem_j_scaled(f = 1, tf = 20, dt = 1)"
   ]
  },
  {
   "cell_type": "code",
   "execution_count": 3,
   "id": "bfe793e6",
   "metadata": {},
   "outputs": [
    {
     "name": "stdout",
     "output_type": "stream",
     "text": [
      "Integration points:  3000\n"
     ]
    },
    {
     "data": {
      "image/png": "[encoded data removed]",
      "text/plain": [
       "<Figure size 432x288 with 1 Axes>"
      ]
     },
     "metadata": {
      "needs_background": "light"
     },
     "output_type": "display_data"
    }
   ],
   "source": [
    "solarsystem_j_scaled(f = 1, tf = 300, dt = .1)"
   ]
  },
  {
   "cell_type": "code",
   "execution_count": 4,
   "id": "9b68af57",
   "metadata": {},
   "outputs": [
    {
     "name": "stdout",
     "output_type": "stream",
     "text": [
      "Integration points:  300000\n"
     ]
    },
    {
     "data": {
      "image/png": "[encoded data removed]",
      "text/plain": [
       "<Figure size 432x288 with 1 Axes>"
      ]
     },
     "metadata": {
      "needs_background": "light"
     },
     "output_type": "display_data"
    }
   ],
   "source": [
    "solarsystem_j_scaled(f = 1, tf = 300, dt = .001)"
   ]
  },
  {
   "cell_type": "markdown",
   "id": "1219ebb0",
   "metadata": {},
   "source": [
    "Changing the mass factor"
   ]
  },
  {
   "cell_type": "code",
   "execution_count": 5,
   "id": "e8d63874",
   "metadata": {},
   "outputs": [
    {
     "name": "stdout",
     "output_type": "stream",
     "text": [
      "Integration points:  3000\n"
     ]
    },
    {
     "data": {
      "image/png": "[encoded data removed]",
      "text/plain": [
       "<Figure size 432x288 with 1 Axes>"
      ]
     },
     "metadata": {
      "needs_background": "light"
     },
     "output_type": "display_data"
    }
   ],
   "source": [
    "solarsystem_j_scaled(f = 1000, tf = 3, dt = .001)"
   ]
  },
  {
   "cell_type": "code",
   "execution_count": null,
   "id": "246ae19e",
   "metadata": {},
   "outputs": [],
   "source": []
  }
 ],
 "metadata": {
  "kernelspec": {
   "display_name": "Python 3 (ipykernel)",
   "language": "python",
   "name": "python3"
  },
  "language_info": {
   "codemirror_mode": {
    "name": "ipython",
    "version": 3
   },
   "file_extension": ".py",
   "mimetype": "text/x-python",
   "name": "python",
   "nbconvert_exporter": "python",
   "pygments_lexer": "ipython3",
   "version": "3.9.12"
  }
 },
 "nbformat": 4,
 "nbformat_minor": 5
}
