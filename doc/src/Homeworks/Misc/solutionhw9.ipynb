{
 "cells": [
  {
   "cell_type": "markdown",
   "id": "67aeec9d",
   "metadata": {},
   "source": [
    "<!-- HTML file automatically generated from DocOnce source (https://github.com/doconce/doconce/)\n",
    "doconce format html solutionhw9.do.txt  -->\n",
    "<!-- dom:TITLE: PHY321: Classical Mechanics 1 -->"
   ]
  },
  {
   "cell_type": "markdown",
   "id": "90e4b8b5",
   "metadata": {},
   "source": [
    "# PHY321: Classical Mechanics 1\n",
    "**Solution Homework 9, due Monday  April 5**\n",
    "\n",
    "Date: **Apr 26, 2022**"
   ]
  },
  {
   "cell_type": "markdown",
   "id": "5edcf2db",
   "metadata": {},
   "source": [
    "### Introduction to homework 9\n",
    "\n",
    "This week's exercises focus on solving\n",
    "two-body  problems with central forces. It is based on what you did in hw7 and hw8, see also their respective solutions."
   ]
  },
  {
   "cell_type": "markdown",
   "id": "c4538d4d",
   "metadata": {},
   "source": [
    "### Exercise 1: Attractive Potential (10pt)\n",
    "\n",
    "Consider a particle in an attractive potential"
   ]
  },
  {
   "cell_type": "markdown",
   "id": "c30771be",
   "metadata": {},
   "source": [
    "$$\n",
    "U(r)=-\\alpha/r.\n",
    "$$"
   ]
  },
  {
   "cell_type": "markdown",
   "id": "63c74aca",
   "metadata": {},
   "source": [
    "The quantity $r$ is the absolute value of the relative position. We\n",
    "will use the reduced mass $\\mu$ and the angular momentum $L$, as\n",
    "discussed during the lectures. With the transformation of a two-body\n",
    "problem to the center-of-mass frame, the actual equations look like an\n",
    "*effective* one-body problem. The energy of the system is $E$ and the\n",
    "minimum of the effective potential is $r_{\\rm min}$.\n",
    "\n",
    "The analytical solution to the radial equation of motion is"
   ]
  },
  {
   "cell_type": "markdown",
   "id": "ce234951",
   "metadata": {},
   "source": [
    "$$\n",
    "r(\\phi) = \\frac{1}{\\frac{\\mu\\alpha}{L^2}+A\\cos{(\\phi)}}.\n",
    "$$"
   ]
  },
  {
   "cell_type": "markdown",
   "id": "7901ac55",
   "metadata": {},
   "source": [
    "Find the value of $A$. Hint: Use the fact that at $r_{\\rm min}$\n",
    "there is no radial kinetic energy and $E=-\\alpha/r_{\\rm min}+L^2/2mr_{\\rm min}^2$.\n",
    "\n",
    "At  $r_{\\mathrm{min}}$  and $r_{\\mathrm{max}}$ , all the kinetic energy is stored in the velocity in the direction perpendicular to $r$  since the radial velocity is set to zero . We can calculate using angular momentum and from there, find  𝐴  in terms of the energy  $E$  which is constant. But first, we need to find $r_{\\mathrm{min}}$  from the conservation of energy (noting that the radial velocity $\\ddot{r}$ at the mininum is zero):"
   ]
  },
  {
   "cell_type": "markdown",
   "id": "a37c5d19",
   "metadata": {},
   "source": [
    "$$\n",
    "E = U(r) + \\frac{1}{2} \\mu(\\ddot{r}^2 + (r\\ddot{\\phi})^2)\n",
    "\\\\\n",
    "E = \\frac{-\\alpha}{r_{\\min}} + \\frac{1}{2} \\mu\\left( \\frac{L}{\\mu r_{\\min}}\\right) ^2\n",
    "\\\\\n",
    "E r_{\\min}^2 - \\frac{1}{2}\\mu\\left( \\frac{L}{\\mu}\\right) ^2 + \\alpha r_{\\min} = 0\n",
    "\\\\\n",
    "r_{\\min}^2 + \\frac{\\alpha}{E} r_{\\min} - \\frac{L^2}{2E\\mu} = 0\n",
    "\\\\\n",
    "r_{\\min} = - \\frac{\\alpha}{2E} \\pm \\frac{1}{2} \\sqrt{\\frac{\\alpha^2}{E^2} + 2\\frac{L^2}{E\\mu}}\n",
    "$$"
   ]
  },
  {
   "cell_type": "markdown",
   "id": "1a4431e9",
   "metadata": {},
   "source": [
    "Since we're looking for the minimum, the  ±  sign must be negative (then  𝑟min  will not be negative since  𝐸<0 ). Therefore, we have"
   ]
  },
  {
   "cell_type": "markdown",
   "id": "6870838c",
   "metadata": {},
   "source": [
    "$$\n",
    "\\frac{1}{\\frac{\\mu\\alpha}{L^2}+A} = -\\frac{\\alpha}{2E} - \\frac{1}{2} \\sqrt{\\frac{\\alpha^2}{E^2} + 2\\frac{L^2}{E\\mu}}\n",
    "\\\\\n",
    "A = - \\frac{\\mu\\alpha}{L^2} - \\frac{2E}{\\alpha + \\sqrt{\\alpha^2 + 2\\frac{L^2E}{\\mu}}}\n",
    "$$"
   ]
  },
  {
   "cell_type": "markdown",
   "id": "55049fbd",
   "metadata": {},
   "source": [
    "### Exercise 2 (20pt) Inverse-square force\n",
    "\n",
    "Consider again the same effective potential as in exercise 1. This leads to an attractive inverse-square-law force, $F=-\\alpha/r^2$. Consider a particle of mass $m$ with angular momentum $L$. Taylor sections 8.4-8.7 are relevant background material.  See also the harmonic oscillator potential from hw8. The equation of motion for the radial degrees of freedom is (see also hw8) in the center-of-mass frame in two dimensions with $x=r\\cos{(\\phi)}$ and $y=r\\sin{(\\phi)}$ and\n",
    "$r\\in [0,\\infty)$, $\\phi\\in [0,2\\pi]$ and $r=\\sqrt{x^2+y^2}$ are given by"
   ]
  },
  {
   "cell_type": "markdown",
   "id": "4d6ede4c",
   "metadata": {},
   "source": [
    "$$\n",
    "\\ddot{r}=-\\frac{1}{m}\\frac{dV(r)}{dr}+r\\dot{\\phi}^2,\n",
    "$$"
   ]
  },
  {
   "cell_type": "markdown",
   "id": "d97c0ccf",
   "metadata": {},
   "source": [
    "and"
   ]
  },
  {
   "cell_type": "markdown",
   "id": "f8b657fe",
   "metadata": {},
   "source": [
    "$$\n",
    "\\dot{\\phi}=\\frac{L}{m r^2}.\n",
    "$$"
   ]
  },
  {
   "cell_type": "markdown",
   "id": "85076585",
   "metadata": {},
   "source": [
    "Here $V(r)$ is any central force which depends only on the relative coordinate.\n",
    "\n",
    "* 2a (5pt)  Find the radius of a circular orbit by solving for the position of the minimum of the effective potential."
   ]
  },
  {
   "cell_type": "markdown",
   "id": "57960d58",
   "metadata": {},
   "source": [
    "<!-- Equation labels as ordinary links -->\n",
    "<div id=\"_auto1\"></div>\n",
    "\n",
    "$$\n",
    "\\begin{equation}\n",
    "\\frac{1}{m}\\frac{dV(r)}{dr}  = r\\dot{\\phi}^2\n",
    "\\label{_auto1} \\tag{1}\n",
    "\\end{equation}\n",
    "$$"
   ]
  },
  {
   "cell_type": "markdown",
   "id": "a0031627",
   "metadata": {},
   "source": [
    "<!-- Equation labels as ordinary links -->\n",
    "<div id=\"_auto2\"></div>\n",
    "\n",
    "$$\n",
    "\\begin{equation}  \\frac{1}{m}\\left( -\\frac{-\\alpha}{r^2}\\right)   = r \\frac{L^2}{m^2r^4}\n",
    "\\label{_auto2} \\tag{2}\n",
    "\\end{equation}\n",
    "$$"
   ]
  },
  {
   "cell_type": "markdown",
   "id": "8de9c30d",
   "metadata": {},
   "source": [
    "<!-- Equation labels as ordinary links -->\n",
    "<div id=\"_auto3\"></div>\n",
    "\n",
    "$$\n",
    "\\begin{equation}  \\frac{\\alpha}{mr^2}  = \\frac{L^2}{m^2r^3}\n",
    "\\label{_auto3} \\tag{3}\n",
    "\\end{equation}\n",
    "$$"
   ]
  },
  {
   "cell_type": "markdown",
   "id": "0372d71f",
   "metadata": {},
   "source": [
    "<!-- Equation labels as ordinary links -->\n",
    "<div id=\"_auto4\"></div>\n",
    "\n",
    "$$\n",
    "\\begin{equation}  r  = \\frac{L^2}{m\\alpha}\n",
    "\\label{_auto4} \\tag{4}\n",
    "\\end{equation}\n",
    "$$"
   ]
  },
  {
   "cell_type": "markdown",
   "id": "83c05cba",
   "metadata": {},
   "source": [
    "* 2b (5pt) At the minimum, the radial velocity is zero and it is only the [centripetal velocity](https://en.wikipedia.org/wiki/Centripetal_force) which is nonzero. This implies that $\\ddot{r}=0$.  What is the angular frequency, $\\dot{\\theta}$, of the orbit? Solve this by setting $\\ddot{r}=0=F/m+\\dot{\\theta}^2r$."
   ]
  },
  {
   "cell_type": "markdown",
   "id": "3f86f039",
   "metadata": {},
   "source": [
    "<!-- Equation labels as ordinary links -->\n",
    "<div id=\"_auto5\"></div>\n",
    "\n",
    "$$\n",
    "\\begin{equation}\n",
    "\\dot{\\theta}^2 r  = - \\frac{F}{m}\n",
    "\\label{_auto5} \\tag{5}\n",
    "\\end{equation}\n",
    "$$"
   ]
  },
  {
   "cell_type": "markdown",
   "id": "a3cf91c8",
   "metadata": {},
   "source": [
    "<!-- Equation labels as ordinary links -->\n",
    "<div id=\"_auto6\"></div>\n",
    "\n",
    "$$\n",
    "\\begin{equation}  \\dot{\\theta}^2 r  = - \\frac{-\\frac{\\alpha}{r^2}}{m}\n",
    "\\label{_auto6} \\tag{6}\n",
    "\\end{equation}\n",
    "$$"
   ]
  },
  {
   "cell_type": "markdown",
   "id": "13f9fc6c",
   "metadata": {},
   "source": [
    "<!-- Equation labels as ordinary links -->\n",
    "<div id=\"_auto7\"></div>\n",
    "\n",
    "$$\n",
    "\\begin{equation}  \\dot{\\theta}^2  = \\frac{\\alpha}{mr^3}\n",
    "\\label{_auto7} \\tag{7}\n",
    "\\end{equation}\n",
    "$$"
   ]
  },
  {
   "cell_type": "markdown",
   "id": "bc3cab04",
   "metadata": {},
   "source": [
    "<!-- Equation labels as ordinary links -->\n",
    "<div id=\"_auto8\"></div>\n",
    "\n",
    "$$\n",
    "\\begin{equation}  \\dot{\\theta}  = \\pm \\sqrt{\\frac{\\alpha}{mr^3}}\n",
    "\\label{_auto8} \\tag{8}\n",
    "\\end{equation}\n",
    "$$"
   ]
  },
  {
   "cell_type": "markdown",
   "id": "c28b4342",
   "metadata": {},
   "source": [
    "<!-- Equation labels as ordinary links -->\n",
    "<div id=\"_auto9\"></div>\n",
    "\n",
    "$$\n",
    "\\begin{equation}  \\dot{\\theta}  = \\pm \\sqrt{\\frac{\\alpha}{m\\frac{L^6}{m^3\\alpha^3}}}\n",
    "\\label{_auto9} \\tag{9}\n",
    "\\end{equation}\n",
    "$$"
   ]
  },
  {
   "cell_type": "markdown",
   "id": "96b446e7",
   "metadata": {},
   "source": [
    "<!-- Equation labels as ordinary links -->\n",
    "<div id=\"_auto10\"></div>\n",
    "\n",
    "$$\n",
    "\\begin{equation}  \\dot{\\theta}  = \\pm \\sqrt{\\frac{\\alpha^4m^2}{L^6}}\n",
    "\\label{_auto10} \\tag{10}\n",
    "\\end{equation}\n",
    "$$"
   ]
  },
  {
   "cell_type": "markdown",
   "id": "176db72e",
   "metadata": {},
   "source": [
    "<!-- Equation labels as ordinary links -->\n",
    "<div id=\"_auto11\"></div>\n",
    "\n",
    "$$\n",
    "\\begin{equation}  \\dot{\\theta}  = \\pm \\frac{\\alpha^2m}{L^3}\n",
    "\\label{_auto11} \\tag{11}\n",
    "\\end{equation}\n",
    "$$"
   ]
  },
  {
   "cell_type": "markdown",
   "id": "a802fe03",
   "metadata": {},
   "source": [
    "* 2c (5pt) Find the effective spring constant for the particle at the minimum.\n",
    "\n",
    "We have shown in class that from the taylor expansion, we have"
   ]
  },
  {
   "cell_type": "markdown",
   "id": "9603482c",
   "metadata": {},
   "source": [
    "$$\n",
    "k = \\frac{d^2V_{\\text{eff}}}{dr^2}\n",
    "$$"
   ]
  },
  {
   "cell_type": "markdown",
   "id": "38fc0bc2",
   "metadata": {},
   "source": [
    "Therefore, all we have to do is find the second derivative of $V_{\\text{eff}}$ around the minimum point of $V_{\\text{eff}}$ where $\\dot{r} = \\ddot{r} = 0$."
   ]
  },
  {
   "cell_type": "markdown",
   "id": "0b9ff402",
   "metadata": {},
   "source": [
    "<!-- Equation labels as ordinary links -->\n",
    "<div id=\"_auto12\"></div>\n",
    "\n",
    "$$\n",
    "\\begin{equation}\n",
    "k  = \\frac{d^2V_{\\text{eff}}}{dr^2}\n",
    "\\label{_auto12} \\tag{12}\n",
    "\\end{equation}\n",
    "$$"
   ]
  },
  {
   "cell_type": "markdown",
   "id": "2c9f44f7",
   "metadata": {},
   "source": [
    "<!-- Equation labels as ordinary links -->\n",
    "<div id=\"_auto13\"></div>\n",
    "\n",
    "$$\n",
    "\\begin{equation}   = \\frac{d^2\\left( -\\frac{\\alpha}{r} + \\frac{1}{2} \\frac{L^2}{mr^2}\\right) }{dr^2}\n",
    "\\label{_auto13} \\tag{13}\n",
    "\\end{equation}\n",
    "$$"
   ]
  },
  {
   "cell_type": "markdown",
   "id": "ba0ed78d",
   "metadata": {},
   "source": [
    "<!-- Equation labels as ordinary links -->\n",
    "<div id=\"_auto14\"></div>\n",
    "\n",
    "$$\n",
    "\\begin{equation}   = -\\frac{2\\alpha}{r^3} + \\frac{3L^2}{mr^4}\n",
    "\\label{_auto14} \\tag{14}\n",
    "\\end{equation}\n",
    "$$"
   ]
  },
  {
   "cell_type": "markdown",
   "id": "5d28facf",
   "metadata": {},
   "source": [
    "<!-- Equation labels as ordinary links -->\n",
    "<div id=\"_auto15\"></div>\n",
    "\n",
    "$$\n",
    "\\begin{equation}   = -\\frac{2\\alpha}{\\frac{L^6}{m^3\\alpha^3}} + \\frac{3L^2}{m\\frac{L^8}{m^4\\alpha^4}}\n",
    "\\label{_auto15} \\tag{15}\n",
    "\\end{equation}\n",
    "$$"
   ]
  },
  {
   "cell_type": "markdown",
   "id": "90aa9f03",
   "metadata": {},
   "source": [
    "<!-- Equation labels as ordinary links -->\n",
    "<div id=\"_auto16\"></div>\n",
    "\n",
    "$$\n",
    "\\begin{equation}   = -\\frac{2m^3\\alpha^4}{L^6} + \\frac{3m^3\\alpha^4}{L^6}\n",
    "\\label{_auto16} \\tag{16}\n",
    "\\end{equation}\n",
    "$$"
   ]
  },
  {
   "cell_type": "markdown",
   "id": "05650ddd",
   "metadata": {},
   "source": [
    "<!-- Equation labels as ordinary links -->\n",
    "<div id=\"_auto17\"></div>\n",
    "\n",
    "$$\n",
    "\\begin{equation}   = \\frac{m^3\\alpha^4}{L^6}\n",
    "\\label{_auto17} \\tag{17}\n",
    "\\end{equation}\n",
    "$$"
   ]
  },
  {
   "cell_type": "markdown",
   "id": "2e4e2384",
   "metadata": {},
   "source": [
    "* 2d (5pt) What is the angular frequency for small vibrations about the minimum? How does this compare with the answer to (3b)?\n",
    "\n",
    "For small deviations $\\delta r$ of $r$,"
   ]
  },
  {
   "cell_type": "markdown",
   "id": "a443ad38",
   "metadata": {},
   "source": [
    "$$\n",
    "m\\frac{d^2\\left(  \\delta r \\right) }{dt^2} = -k \\delta r\n",
    "$$"
   ]
  },
  {
   "cell_type": "markdown",
   "id": "6e172ab7",
   "metadata": {},
   "source": [
    "The solution of this differential equation is of the form"
   ]
  },
  {
   "cell_type": "markdown",
   "id": "d4099358",
   "metadata": {},
   "source": [
    "$$\n",
    "\\delta r = A \\cos(\\omega t + \\phi)\n",
    "$$"
   ]
  },
  {
   "cell_type": "markdown",
   "id": "c166689e",
   "metadata": {},
   "source": [
    "where"
   ]
  },
  {
   "cell_type": "markdown",
   "id": "62c45c39",
   "metadata": {},
   "source": [
    "<!-- Equation labels as ordinary links -->\n",
    "<div id=\"_auto18\"></div>\n",
    "\n",
    "$$\n",
    "\\begin{equation}\n",
    "\\omega =  \\sqrt{\\frac{k}{m}}\n",
    "\\label{_auto18} \\tag{18}\n",
    "\\end{equation}\n",
    "$$"
   ]
  },
  {
   "cell_type": "markdown",
   "id": "b5727fae",
   "metadata": {},
   "source": [
    "<!-- Equation labels as ordinary links -->\n",
    "<div id=\"_auto19\"></div>\n",
    "\n",
    "$$\n",
    "\\begin{equation}   = \\sqrt{\\frac{m^2\\alpha^4}{L^6}} \n",
    "\\label{_auto19} \\tag{19}\n",
    "\\end{equation}\n",
    "$$"
   ]
  },
  {
   "cell_type": "markdown",
   "id": "262b27aa",
   "metadata": {},
   "source": [
    "<!-- Equation labels as ordinary links -->\n",
    "<div id=\"_auto20\"></div>\n",
    "\n",
    "$$\n",
    "\\begin{equation}   = \\frac{m\\alpha^2}{L^3}\n",
    "\\label{_auto20} \\tag{20}\n",
    "\\end{equation}\n",
    "$$"
   ]
  },
  {
   "cell_type": "markdown",
   "id": "b9e5b902",
   "metadata": {},
   "source": [
    "This is in fact equal to the expression for $\\dot{\\theta}$. This means that small perturbations oscillate in sync with the orbit and this traces out an ellipse with a very small eccentricity, a very nice physical result."
   ]
  },
  {
   "cell_type": "markdown",
   "id": "ab446c7e",
   "metadata": {},
   "source": [
    "### Exercise 3, Inverse-square force again (10pt)\n",
    "\n",
    "Consider again a  particle of mass $m$ in the same attractive potential, $U(r)=-\\alpha/r$, with angular momentum $L$ with just the right energy so that"
   ]
  },
  {
   "cell_type": "markdown",
   "id": "c2878e6a",
   "metadata": {},
   "source": [
    "$$\n",
    "A=m\\alpha/L^2\n",
    "$$"
   ]
  },
  {
   "cell_type": "markdown",
   "id": "7e4317bb",
   "metadata": {},
   "source": [
    "where $A$ comes from the expression"
   ]
  },
  {
   "cell_type": "markdown",
   "id": "1a4128c7",
   "metadata": {},
   "source": [
    "$$\n",
    "r=\\frac{1}{(m\\alpha/L^2)+A\\cos{(\\phi)}}.\n",
    "$$"
   ]
  },
  {
   "cell_type": "markdown",
   "id": "3bb800f5",
   "metadata": {},
   "source": [
    "The trajectory can then be rewritten as"
   ]
  },
  {
   "cell_type": "markdown",
   "id": "f36ef164",
   "metadata": {},
   "source": [
    "$$\n",
    "r=\\frac{2r_0}{1+\\cos\\theta},~~~r_0=\\frac{L^2}{2m\\alpha}.\n",
    "$$"
   ]
  },
  {
   "cell_type": "markdown",
   "id": "7a000659",
   "metadata": {},
   "source": [
    "* 3a (5pt) Show that for this case the total energy $E$ approaches zero."
   ]
  },
  {
   "cell_type": "markdown",
   "id": "0dc58f51",
   "metadata": {},
   "source": [
    "<!-- Equation labels as ordinary links -->\n",
    "<div id=\"_auto21\"></div>\n",
    "\n",
    "$$\n",
    "\\begin{equation}\n",
    "E  = - \\frac{\\alpha}{r} + \\frac{1}{2} m \\left(  (\\dot{\\theta}r)^2+\\dot{r}^2\\right) \n",
    "\\label{_auto21} \\tag{21}\n",
    "\\end{equation}\n",
    "$$"
   ]
  },
  {
   "cell_type": "markdown",
   "id": "3cc9f839",
   "metadata": {},
   "source": [
    "<!-- Equation labels as ordinary links -->\n",
    "<div id=\"_auto22\"></div>\n",
    "\n",
    "$$\n",
    "\\begin{equation}   = - \\frac{\\alpha}{r} + \\frac{1}{2} m \\left[  \\left( \\frac{L}{mr^2}r\\right) ^2+\\left( \\frac{dr}{d\\theta}\\dot{\\theta}\\right) ^2\\right] \n",
    "\\label{_auto22} \\tag{22}\n",
    "\\end{equation}\n",
    "$$"
   ]
  },
  {
   "cell_type": "markdown",
   "id": "b01b9934",
   "metadata": {},
   "source": [
    "<!-- Equation labels as ordinary links -->\n",
    "<div id=\"_auto23\"></div>\n",
    "\n",
    "$$\n",
    "\\begin{equation}   = - \\frac{\\alpha}{2r_0}(1+\\cos\\theta) + \\frac{1}{2} m \\left[  \\left( \\frac{L(1+\\cos\\theta)}{2mr_0}\\right) ^2+\\left( 2r_0\\frac{-1}{(1+\\cos\\theta)^2}(-\\sin\\theta)\\frac{L}{mr^2}\\right) ^2\\right] \n",
    "\\label{_auto23} \\tag{23}\n",
    "\\end{equation}\n",
    "$$"
   ]
  },
  {
   "cell_type": "markdown",
   "id": "ce5a8699",
   "metadata": {},
   "source": [
    "<!-- Equation labels as ordinary links -->\n",
    "<div id=\"_auto24\"></div>\n",
    "\n",
    "$$\n",
    "\\begin{equation}   = - \\frac{\\alpha}{2r_0}(1+\\cos\\theta) + \\frac{1}{2} m \\left[  \\left( \\frac{L(1+\\cos\\theta)}{2mr_0}\\right) ^2+\\left( 2r_0\\frac{-1}{(1+\\cos\\theta)^2}(-\\sin\\theta)\\frac{L(1+\\cos\\theta)^2}{4mr_0^2}\\right) ^2\\right] \n",
    "\\label{_auto24} \\tag{24}\n",
    "\\end{equation}\n",
    "$$"
   ]
  },
  {
   "cell_type": "markdown",
   "id": "80ac8e6e",
   "metadata": {},
   "source": [
    "<!-- Equation labels as ordinary links -->\n",
    "<div id=\"_auto25\"></div>\n",
    "\n",
    "$$\n",
    "\\begin{equation}   = - \\frac{\\alpha}{2r_0}(1+\\cos\\theta) + \n",
    "\\frac{1}{2} m \\left[  \\left( \\frac{L(1+\\cos\\theta)}{2mr_0}\\right) ^2+\\left( \\sin\\theta\\frac{L}{2mr_0}\\right) ^2\\right] \n",
    "\\label{_auto25} \\tag{25}\n",
    "\\end{equation}\n",
    "$$"
   ]
  },
  {
   "cell_type": "markdown",
   "id": "4d2ddbd3",
   "metadata": {},
   "source": [
    "<!-- Equation labels as ordinary links -->\n",
    "<div id=\"_auto26\"></div>\n",
    "\n",
    "$$\n",
    "\\begin{equation}   = - \\frac{\\alpha}{2r_0}(1+\\cos\\theta) + \n",
    "\\frac{1}{2} m \\left[  \\left( \\frac{L(1+\\cos\\theta)}{2mr_0}\\right) ^2+\\left( \\sin\\theta\\frac{L}{2mr_0}\\right) ^2\\right] \n",
    "\\label{_auto26} \\tag{26}\n",
    "\\end{equation}\n",
    "$$"
   ]
  },
  {
   "cell_type": "markdown",
   "id": "96a03fd7",
   "metadata": {},
   "source": [
    "<!-- Equation labels as ordinary links -->\n",
    "<div id=\"_auto27\"></div>\n",
    "\n",
    "$$\n",
    "\\begin{equation}   = - \\frac{\\alpha}{2r_0}(1+\\cos\\theta) + \n",
    "\\frac{1}{2} m \\frac{L^2}{4m^2r_0^2} \\left[  \\left( 1+\\cos\\theta\\right) ^2+\\left( \\sin\\theta\\right) ^2\\right] \n",
    "\\label{_auto27} \\tag{27}\n",
    "\\end{equation}\n",
    "$$"
   ]
  },
  {
   "cell_type": "markdown",
   "id": "83af72f2",
   "metadata": {},
   "source": [
    "<!-- Equation labels as ordinary links -->\n",
    "<div id=\"_auto28\"></div>\n",
    "\n",
    "$$\n",
    "\\begin{equation}   = - \\frac{\\alpha}{2r_0}(1+\\cos\\theta) + \n",
    "\\frac{1}{2} \\frac{L^2}{4mr_0^2} \\left(  1 + \\cos^2\\theta + 2\\cos \\theta + \\sin^2\\theta\\right) \n",
    "\\label{_auto28} \\tag{28}\n",
    "\\end{equation}\n",
    "$$"
   ]
  },
  {
   "cell_type": "markdown",
   "id": "255af518",
   "metadata": {},
   "source": [
    "<!-- Equation labels as ordinary links -->\n",
    "<div id=\"_auto29\"></div>\n",
    "\n",
    "$$\n",
    "\\begin{equation}   = - \\frac{\\alpha}{2r_0}(1+\\cos\\theta) + \n",
    "\\frac{1}{2} \\frac{L^2}{4mr_0^2} \\left(  2 + 2\\cos \\theta \\right) \n",
    "\\label{_auto29} \\tag{29}\n",
    "\\end{equation}\n",
    "$$"
   ]
  },
  {
   "cell_type": "markdown",
   "id": "b63b18f4",
   "metadata": {},
   "source": [
    "<!-- Equation labels as ordinary links -->\n",
    "<div id=\"_auto30\"></div>\n",
    "\n",
    "$$\n",
    "\\begin{equation}   = (1+\\cos\\theta) \\left( - \\frac{\\alpha}{2r_0} + \\frac{L^2}{4mr_0^2}\\right) \n",
    "\\label{_auto30} \\tag{30}\n",
    "\\end{equation}\n",
    "$$"
   ]
  },
  {
   "cell_type": "markdown",
   "id": "939917c2",
   "metadata": {},
   "source": [
    "<!-- Equation labels as ordinary links -->\n",
    "<div id=\"_auto31\"></div>\n",
    "\n",
    "$$\n",
    "\\begin{equation}   = (1+\\cos\\theta) \\left( - \\frac{\\alpha}{2\\frac{L^2}{2m\\alpha}} + \\frac{L^2}{4m\\frac{L^4}{4m^2\\alpha^2}}\\right) \n",
    "\\label{_auto31} \\tag{31}\n",
    "\\end{equation}\n",
    "$$"
   ]
  },
  {
   "cell_type": "markdown",
   "id": "7df5c6cc",
   "metadata": {},
   "source": [
    "<!-- Equation labels as ordinary links -->\n",
    "<div id=\"_auto32\"></div>\n",
    "\n",
    "$$\n",
    "\\begin{equation}   = (1+\\cos\\theta) \\left( - \\frac{m\\alpha^2}{L^2} + \\frac{m\\alpha^2}{L^2}\\right) \n",
    "\\label{_auto32} \\tag{32}\n",
    "\\end{equation}\n",
    "$$"
   ]
  },
  {
   "cell_type": "markdown",
   "id": "5b3c9f05",
   "metadata": {},
   "source": [
    "<!-- Equation labels as ordinary links -->\n",
    "<div id=\"_auto33\"></div>\n",
    "\n",
    "$$\n",
    "\\begin{equation}   = 0\n",
    "\\label{_auto33} \\tag{33}\n",
    "\\end{equation}\n",
    "$$"
   ]
  },
  {
   "cell_type": "markdown",
   "id": "a5a5f63e",
   "metadata": {},
   "source": [
    "* 3b (5pt) With zero energy $E=0$, write this trajectory in a more recognizable parabolic form, that is express $x_0$ and $R$ in terms of $r_0$ using"
   ]
  },
  {
   "cell_type": "markdown",
   "id": "82ead387",
   "metadata": {},
   "source": [
    "$$\n",
    "x=x_0-\\frac{y^2}{R}.\n",
    "$$"
   ]
  },
  {
   "cell_type": "markdown",
   "id": "5c01e223",
   "metadata": {},
   "source": [
    "We have that"
   ]
  },
  {
   "cell_type": "markdown",
   "id": "ab842bda",
   "metadata": {},
   "source": [
    "<!-- Equation labels as ordinary links -->\n",
    "<div id=\"_auto34\"></div>\n",
    "\n",
    "$$\n",
    "\\begin{equation}\n",
    "x  = r \\cos\\theta\n",
    "\\label{_auto34} \\tag{34}\n",
    "\\end{equation}\n",
    "$$"
   ]
  },
  {
   "cell_type": "markdown",
   "id": "a6b1deca",
   "metadata": {},
   "source": [
    "<!-- Equation labels as ordinary links -->\n",
    "<div id=\"_auto35\"></div>\n",
    "\n",
    "$$\n",
    "\\begin{equation} \n",
    "y  = r \\sin \\theta.\n",
    "\\label{_auto35} \\tag{35}\n",
    "\\end{equation}\n",
    "$$"
   ]
  },
  {
   "cell_type": "markdown",
   "id": "be9f4647",
   "metadata": {},
   "source": [
    "Using the general solution with eccintricity $\\epsilon=1$, we have"
   ]
  },
  {
   "cell_type": "markdown",
   "id": "c5268c1f",
   "metadata": {},
   "source": [
    "$$\n",
    "r(\\theta)=\\frac{c}{1+\\cos\\theta},\n",
    "$$"
   ]
  },
  {
   "cell_type": "markdown",
   "id": "d3253bae",
   "metadata": {},
   "source": [
    "and multiplying both sides with $1+\\cos\\theta$ and using that $x=r\\cos\\theta$,"
   ]
  },
  {
   "cell_type": "markdown",
   "id": "c2ffd7e3",
   "metadata": {},
   "source": [
    "$$\n",
    "r = c -x,\n",
    "$$"
   ]
  },
  {
   "cell_type": "markdown",
   "id": "0a15376f",
   "metadata": {},
   "source": [
    "and using that $r^2=x^2+y^2$, we square both sides"
   ]
  },
  {
   "cell_type": "markdown",
   "id": "62a82cd0",
   "metadata": {},
   "source": [
    "$$\n",
    "r^2 = x^2+y^2=c^2 +x^2-2cx,\n",
    "$$"
   ]
  },
  {
   "cell_type": "markdown",
   "id": "4fc844b4",
   "metadata": {},
   "source": [
    "leading to"
   ]
  },
  {
   "cell_type": "markdown",
   "id": "4135c64a",
   "metadata": {},
   "source": [
    "$$\n",
    "y^2=c^2-2cx,\n",
    "$$"
   ]
  },
  {
   "cell_type": "markdown",
   "id": "7555ef8d",
   "metadata": {},
   "source": [
    "and using that we defined"
   ]
  },
  {
   "cell_type": "markdown",
   "id": "e3a8ae3d",
   "metadata": {},
   "source": [
    "$$\n",
    "c=2r_0=\\frac{L^2}{m\\alpha},\n",
    "$$"
   ]
  },
  {
   "cell_type": "markdown",
   "id": "aa8d3752",
   "metadata": {},
   "source": [
    "we divide by $2c$ \n",
    "and we get the final answer"
   ]
  },
  {
   "cell_type": "markdown",
   "id": "f1edd8c3",
   "metadata": {},
   "source": [
    "$$\n",
    "x = r_0 - \\frac{y^2}{4r_0}\n",
    "$$"
   ]
  },
  {
   "cell_type": "markdown",
   "id": "4cb1c85d",
   "metadata": {},
   "source": [
    "### Exercise 4, parabolic and hyperbolic orbits (10pt)\n",
    "\n",
    "The solution to the radial function for an inverse-square-law force, see for example Taylor equation (8.59) or the equation above, is"
   ]
  },
  {
   "cell_type": "markdown",
   "id": "119b6e75",
   "metadata": {},
   "source": [
    "$$\n",
    "r(\\phi) = \\frac{c}{1+\\epsilon\\cos{(\\phi)}}.\n",
    "$$"
   ]
  },
  {
   "cell_type": "markdown",
   "id": "b2d0f99b",
   "metadata": {},
   "source": [
    "For $\\epsilon=1$ (or the energy $E=0$) the orbit reduces to a parabola as we saw in the previous exercise,\n",
    "while for $\\epsilon > 1$ (or energy positive) the orbit becomes a hyperbola. The equation for a hyperbola in Cartesian coordinates is"
   ]
  },
  {
   "cell_type": "markdown",
   "id": "ea73f9d3",
   "metadata": {},
   "source": [
    "$$\n",
    "\\frac{(x-\\delta)^2}{\\alpha^2}-\\frac{y^2}{\\beta^2}=1.\n",
    "$$"
   ]
  },
  {
   "cell_type": "markdown",
   "id": "44ec487e",
   "metadata": {},
   "source": [
    "For a hyperbola, identify the constants $\\alpha$, $\\beta$ and $\\delta$ in terms of the constants $c$ and $\\epsilon$ for $r(\\phi)$."
   ]
  },
  {
   "cell_type": "markdown",
   "id": "c4bc5875",
   "metadata": {},
   "source": [
    "<!-- Equation labels as ordinary links -->\n",
    "<div id=\"_auto36\"></div>\n",
    "\n",
    "$$\n",
    "\\begin{equation}\n",
    "x  = r\\cos\\phi\n",
    "\\label{_auto36} \\tag{36}\n",
    "\\end{equation}\n",
    "$$"
   ]
  },
  {
   "cell_type": "markdown",
   "id": "20278516",
   "metadata": {},
   "source": [
    "<!-- Equation labels as ordinary links -->\n",
    "<div id=\"_auto37\"></div>\n",
    "\n",
    "$$\n",
    "\\begin{equation}   = \\frac{c\\cos\\phi}{1+\\epsilon\\cos\\phi}\n",
    "\\label{_auto37} \\tag{37}\n",
    "\\end{equation}\n",
    "$$"
   ]
  },
  {
   "cell_type": "markdown",
   "id": "5ae7bb81",
   "metadata": {},
   "source": [
    "<!-- Equation labels as ordinary links -->\n",
    "<div id=\"_auto38\"></div>\n",
    "\n",
    "$$\n",
    "\\begin{equation}\n",
    "y  = r\\sin\\phi \n",
    "\\label{_auto38} \\tag{38}\n",
    "\\end{equation}\n",
    "$$"
   ]
  },
  {
   "cell_type": "markdown",
   "id": "b490d005",
   "metadata": {},
   "source": [
    "<!-- Equation labels as ordinary links -->\n",
    "<div id=\"_auto39\"></div>\n",
    "\n",
    "$$\n",
    "\\begin{equation}   = \\frac{c\\sin\\phi}{1+\\epsilon\\cos\\phi}\n",
    "\\label{_auto39} \\tag{39}\n",
    "\\end{equation}\n",
    "$$"
   ]
  },
  {
   "cell_type": "markdown",
   "id": "ca9d2855",
   "metadata": {},
   "source": [
    "Here $\\epsilon>1$.  We use our equation for $r$, multiply with the denominator $1+\\epsilon\\cos\\phi$ on both sides and have"
   ]
  },
  {
   "cell_type": "markdown",
   "id": "9d26ead8",
   "metadata": {},
   "source": [
    "$$\n",
    "r(1+\\epsilon\\cos\\phi)=c,\n",
    "$$"
   ]
  },
  {
   "cell_type": "markdown",
   "id": "8ccf1441",
   "metadata": {},
   "source": [
    "use $x=r\\cos\\phi$ and square and use that $r^2=x^2+y^2$ and we have"
   ]
  },
  {
   "cell_type": "markdown",
   "id": "68a32914",
   "metadata": {},
   "source": [
    "$$\n",
    "r^2=x^2+y^2=c^2+\\epsilon^2x^2-2cx\\epsilon,\n",
    "$$"
   ]
  },
  {
   "cell_type": "markdown",
   "id": "705f6cbc",
   "metadata": {},
   "source": [
    "and reorder"
   ]
  },
  {
   "cell_type": "markdown",
   "id": "4b206828",
   "metadata": {},
   "source": [
    "$$\n",
    "x^2(\\epsilon^2-1)-y^2-2cx\\epsilon= -c^2.\n",
    "$$"
   ]
  },
  {
   "cell_type": "markdown",
   "id": "6b2679b4",
   "metadata": {},
   "source": [
    "We complete the square in $x$ by adding and subtracting on both sides $\\epsilon^2c^2/(\\epsilon^2-1)$\n",
    "and we obtain"
   ]
  },
  {
   "cell_type": "markdown",
   "id": "97fc0dff",
   "metadata": {},
   "source": [
    "$$\n",
    "(\\epsilon^2-1)(x-\\delta)^2-y^2= -c^2+\\frac{\\epsilon^2c^2}{\\epsilon^2-1}.\n",
    "$$"
   ]
  },
  {
   "cell_type": "markdown",
   "id": "12b6ee26",
   "metadata": {},
   "source": [
    "Here we have defined"
   ]
  },
  {
   "cell_type": "markdown",
   "id": "b78b3c09",
   "metadata": {},
   "source": [
    "$$\n",
    "\\delta = \\frac{c\\epsilon}{\\epsilon^2-1},\n",
    "$$"
   ]
  },
  {
   "cell_type": "markdown",
   "id": "68e1319e",
   "metadata": {},
   "source": [
    "and introducing the constants"
   ]
  },
  {
   "cell_type": "markdown",
   "id": "f67aa998",
   "metadata": {},
   "source": [
    "$$\n",
    "\\alpha = \\frac{c}{\\epsilon^2-1},\n",
    "$$"
   ]
  },
  {
   "cell_type": "markdown",
   "id": "df1e41b6",
   "metadata": {},
   "source": [
    "and"
   ]
  },
  {
   "cell_type": "markdown",
   "id": "e9f58786",
   "metadata": {},
   "source": [
    "$$\n",
    "\\beta = \\frac{c}{\\sqrt{\\epsilon^2-1}},\n",
    "$$"
   ]
  },
  {
   "cell_type": "markdown",
   "id": "b1c28ee5",
   "metadata": {},
   "source": [
    "we can rewrite the above equation as"
   ]
  },
  {
   "cell_type": "markdown",
   "id": "3f286be7",
   "metadata": {},
   "source": [
    "$$\n",
    "\\frac{(x-\\delta)^2}{\\alpha^2}-\\frac{y^2}{\\beta^2}=1,\n",
    "$$"
   ]
  },
  {
   "cell_type": "markdown",
   "id": "09d623ef",
   "metadata": {},
   "source": [
    "which is nothing but the equation for a hyperbola."
   ]
  },
  {
   "cell_type": "markdown",
   "id": "2635fa52",
   "metadata": {},
   "source": [
    "### Exercise 5, Testing orbit types (50 pt)\n",
    "\n",
    "In this exercise we can use the program for $r(\\phi)$ we developed in hw8. We will use an inverse-square-law force as in exercises 1, 2, 3 and 4. The aim is to see that the orbits we get for $E<0$ become ellipses (or circles), parabola for $E=0$ and hyperbola for $E>0$.  An example code is shown here.\n",
    "\n",
    "Here we have defined the constants $L=m=\\alpha=1$. Feel free to set new values. **You need also to set the initial conditions** in order to study the different types of orbits. It may be useful to plot the potential here and find the values for the initial conditions that fit $E<0$, $E=0$ and $E>0$."
   ]
  },
  {
   "cell_type": "code",
   "execution_count": 1,
   "id": "f6c5639c",
   "metadata": {},
   "outputs": [],
   "source": [
    "%matplotlib inline\n",
    "\n",
    "# Common imports\n",
    "import numpy as np\n",
    "import pandas as pd\n",
    "from math import *\n",
    "import matplotlib.pyplot as plt\n",
    "# Simple Gravitational Force   -alpha/r\n",
    "    \n",
    "DeltaT = 0.01\n",
    "#set up arrays \n",
    "tfinal = 100.0\n",
    "n = ceil(tfinal/DeltaT)\n",
    "# set up arrays for t, v and r\n",
    "t = np.zeros(n)\n",
    "v = np.zeros(n)\n",
    "r = np.zeros(n)\n",
    "# Constants of the model, setting all variables to one for simplicity\n",
    "alpha = 1.0\n",
    "AngMom = 1.0  #  The angular momentum\n",
    "m = 1.0  # scale mass to one\n",
    "c1 = AngMom*AngMom/(m*m)\n",
    "c2 = AngMom*AngMom/m\n",
    "# You need to specify the initial conditions\n",
    "# Here we have chosen the conditions which lead to circular orbit and thereby a constant r\n",
    "r0 = (AngMom*AngMom/m/alpha)\n",
    "v0 = 0.0\n",
    "r[0] = r0\n",
    "v[0] = v0\n",
    "# Start integrating using the Velocity-Verlet  method\n",
    "for i in range(n-1):\n",
    "    # Set up acceleration\n",
    "    a = -alpha/(r[i]**2)+c1/(r[i]**3)\n",
    "    # update velocity, time and position using the Velocity-Verlet method\n",
    "    r[i+1] = r[i] + DeltaT*v[i]+0.5*(DeltaT**2)*a\n",
    "    anew = -alpha/(r[i+1]**2)+c1/(r[i+1]**3)\n",
    "    v[i+1] = v[i] + 0.5*DeltaT*(a+anew)\n",
    "    t[i+1] = t[i] + DeltaT\n",
    "    # Plot position as function of time\n",
    "fig, ax = plt.subplots(2,1)\n",
    "ax[0].set_xlabel('time')\n",
    "ax[0].set_ylabel('radius')\n",
    "ax[0].plot(t,r)\n",
    "ax[1].set_xlabel('time')\n",
    "ax[1].set_ylabel('Velocity')\n",
    "ax[1].plot(t,v)\n",
    "\n",
    "plt.show()"
   ]
  },
  {
   "cell_type": "markdown",
   "id": "3a330086",
   "metadata": {},
   "source": [
    "Run your code and study and discuss the situations where you have\n",
    "elliptical, parabolic and hyperbolic orbits. Discuss the physics of\n",
    "these cases. The results from exercises 1, 2, 3 and 4 may be useful\n",
    "here.  In the code here we have chosen initial conditions which correspond to circular motion.\n",
    "This corresponds to"
   ]
  },
  {
   "cell_type": "markdown",
   "id": "8479ccd2",
   "metadata": {},
   "source": [
    "$$\n",
    "r_{\\mathrm{min}} = \\frac{L^2}{m\\alpha}.\n",
    "$$"
   ]
  },
  {
   "cell_type": "markdown",
   "id": "02336be5",
   "metadata": {},
   "source": [
    "Note well that the velocity is now the radial velocity. If we want to study the angular velocity we would need to add the equations for this quantity. The solution to exercises 1-4 give you the minimum $r$ values needed to find the elliptical, parabolic and hyperbolic orbits. For elliptical orbits you should have  $\\frac{L^2}{2m\\alpha} < r_{\\mathrm{min}} <\\frac{L^2}{m\\alpha}$. For parabolic orbits $r_{\\mathrm{min}} =\\frac{L^2}{m\\alpha}$ and for hyperbolic orbits we have $0<r_{\\mathrm{min}} <\\frac{L^2}{m\\alpha}$. Try out these different initial conditions in order to test these different types of motion."
   ]
  },
  {
   "cell_type": "markdown",
   "id": "e8e9bd4f",
   "metadata": {},
   "source": [
    "### Additional Bonus Exercise (10pt)\n",
    "\n",
    "You don't need to do this exercise, but it gives you a bonus score of 10 points.\n",
    "\n",
    "This time the additional bonus exercise is a simple survey. We are now moving\n",
    "into our last month  and we would very much have your feedback on how\n",
    "things are functioning so that we can improve and correct. \n",
    "\n",
    "* Is the weekly load with paper and pencil exercises and the numerical exercises reasonable?\n",
    "\n",
    "* Is there enough material (lectures and lecture material) to get you started with the exercises?  We are thinking of both the paper and pencil and the numerical exercises?\n",
    "\n",
    "* Is the pace during the lectures reasonable? And do the lectures link well with the exercises?\n",
    "\n",
    "* In the beginning there will always be some elements of repetition of material many of you have seen before. Do you find the choice of material the first 4 weeks adequate? Too easy? Too difficult?\n",
    "\n",
    "* For those of you who have taken CMSE 201 Introduction to Computational Modeling, do you feel the material taught there links well with the exercises you have done in this course? Is there is something we are missing?\n",
    "\n",
    "* Any other topic you would like to comment on?"
   ]
  },
  {
   "cell_type": "markdown",
   "id": "e147267a",
   "metadata": {},
   "source": [
    "### Classical Mechanics Extra Credit Assignment: Scientific Writing and attending Talks\n",
    "\n",
    "The following gives you an opportunity to earn **five extra credit\n",
    "points** on each of the remaining homeworks and **ten extra credit points**\n",
    "on the midterms and finals.  This assignment also covers an aspect of\n",
    "the scientific process that is not taught in most undergraduate\n",
    "programs: scientific writing.  Writing scientific reports is how\n",
    "scientist communicate their results to the rest of the field.  Knowing\n",
    "how to assemble a well written scientific report will greatly benefit\n",
    "you in you upper level classes, in graduate school, and in the work\n",
    "place.\n",
    "\n",
    "The full information on extra credits is found at <https://github.com/mhjensen/Physics321/blob/master/doc/Homeworks/ExtraCredits/>. There you will also find examples on how to write a scientific article. \n",
    "Below you can also find a description on how to gain extra credits by attending scientific talks.\n",
    "\n",
    "This assignment allows you to gain extra credit points by practicing\n",
    "your scientific writing.  For each of the remaining homeworks you can\n",
    "submit the specified section of a scientific report (written about the\n",
    "numerical aspect of the homework) for five extra credit points on the\n",
    "assignment.  For the two midterms and the final, submitting a full\n",
    "scientific report covering the numerical analysis problem will be\n",
    "worth ten extra points.  For credit the grader must be able to tell\n",
    "that you put effort into the assignment (i.e. well written, well\n",
    "formatted, etc.).  If you are unfamiliar with writing scientific\n",
    "reports, [see the information here](https://github.com/mhjensen/Physics321/blob/master/doc/Homeworks/ExtraCredits/IntroductionScientificWriting.md)\n",
    "\n",
    "The following table explains what aspect of a scientific report is due\n",
    "with which homework.  You can submit the assignment in any format you\n",
    "like, in the same document as your homework, or in a different one.\n",
    "Remember to cite any external references you use and include a\n",
    "reference list.  There are no length requirements, but make sure what\n",
    "you turn in is complete and through.  If you have any questions,\n",
    "please contact Julie Butler at butler@frib.msu.edu.\n",
    "\n",
    "<table class=\"dotable\" border=\"1\">\n",
    "<thead>\n",
    "<tr><th align=\"center\">  HW/Project </th> <th align=\"center\">Due Date</th> <th align=\"center\">Extra Credit Assignment</th> </tr>\n",
    "</thead>\n",
    "<tbody>\n",
    "<tr><td align=\"center\">   HW 3             </td> <td align=\"center\">   2-8         </td> <td align=\"center\">   Abstract                   </td> </tr>\n",
    "<tr><td align=\"center\">   HW 4             </td> <td align=\"center\">   2-15        </td> <td align=\"center\">   Introduction               </td> </tr>\n",
    "<tr><td align=\"center\">   HW 5             </td> <td align=\"center\">   2-22        </td> <td align=\"center\">   Methods                    </td> </tr>\n",
    "<tr><td align=\"center\">   HW 6             </td> <td align=\"center\">   3-1         </td> <td align=\"center\">   Results and Discussion     </td> </tr>\n",
    "<tr><td align=\"center\">   **Midterm 1**    </td> <td align=\"center\">   **3-12**    </td> <td align=\"center\">   *Full Written Report*      </td> </tr>\n",
    "<tr><td align=\"center\">   HW 7             </td> <td align=\"center\">   3-22        </td> <td align=\"center\">   Abstract                   </td> </tr>\n",
    "<tr><td align=\"center\">   HW 8             </td> <td align=\"center\">   3-29        </td> <td align=\"center\">   Introduction               </td> </tr>\n",
    "<tr><td align=\"center\">   HW 9             </td> <td align=\"center\">   4-5         </td> <td align=\"center\">   Results and Discussion     </td> </tr>\n",
    "<tr><td align=\"center\">   **Midterm 2**    </td> <td align=\"center\">   **4-16**    </td> <td align=\"center\">   *Full Written Report*      </td> </tr>\n",
    "<tr><td align=\"center\">   HW 10            </td> <td align=\"center\">   4-26        </td> <td align=\"center\">   Abstract                   </td> </tr>\n",
    "<tr><td align=\"center\">   **Final**        </td> <td align=\"center\">   **4-30**    </td> <td align=\"center\">   *Full Written Report*      </td> </tr>\n",
    "</tbody>\n",
    "</table>\n",
    "\n",
    "You can also gain extra credits if you attend scientific talks.\n",
    "This is described here."
   ]
  },
  {
   "cell_type": "markdown",
   "id": "b38726f9",
   "metadata": {},
   "source": [
    "### Integrating Classwork With Research\n",
    "\n",
    "This opportunity will allow you to earn up to 5 extra credit points on a Homework per week. These points can push you above 100% or help make up for missed exercises.\n",
    "In order to earn all points you must:\n",
    "\n",
    "1. Attend an MSU research talk (recommended research oriented Clubs is  provided below)\n",
    "\n",
    "2. Summarize the talk using at least 150 words\n",
    "\n",
    "3. Turn in the summary along with your Homework.\n",
    "\n",
    "Approved talks:\n",
    "Talks given by researchers through the following clubs:\n",
    "* Research and Idea Sharing Enterprise (RAISE)​: Meets Wednesday Nights Society for Physics Students (SPS)​: Meets Monday Nights\n",
    "\n",
    "* Astronomy Club​: Meets Monday Nights\n",
    "\n",
    "* Facility For Rare Isotope Beam (FRIB) Seminars: ​Occur multiple times a week\n",
    "\n",
    "If you have any questions please consult Jeremy Rebenstock, rebensto@msu.edu.\n",
    "\n",
    "All the material on extra credits is at <https://github.com/mhjensen/Physics321/blob/master/doc/Homeworks/ExtraCredits/>."
   ]
  }
 ],
 "metadata": {
  "kernelspec": {
   "display_name": "Python 3 (ipykernel)",
   "language": "python",
   "name": "python3"
  },
  "language_info": {
   "codemirror_mode": {
    "name": "ipython",
    "version": 3
   },
   "file_extension": ".py",
   "mimetype": "text/x-python",
   "name": "python",
   "nbconvert_exporter": "python",
   "pygments_lexer": "ipython3",
   "version": "3.9.12"
  }
 },
 "nbformat": 4,
 "nbformat_minor": 5
}
