{
 "cells": [
  {
   "cell_type": "markdown",
   "metadata": {},
   "source": [
    "<!-- dom:TITLE: PHY321: Classical Mechanics 1 -->\n",
    "# PHY321: Classical Mechanics 1\n",
    "<!-- dom:AUTHOR: Homework 3, Solution -->\n",
    "<!-- Author: -->  \n",
    "**Homework 3, Solution**\n",
    "\n",
    "Date: **Feb 10, 2021**\n",
    "\n",
    "### Practicalities about  homeworks and projects\n",
    "\n",
    "1. You can work in groups (optimal groups are often 2-3 people) or by yourself. If you work as a group you can hand in one answer only if you wish. **Remember to write your name(s)**!\n",
    "\n",
    "2. Homeworks are available Wednesday/Thursday the week before the deadline. The deadline is at the Friday lecture.\n",
    "\n",
    "3. How do I(we)  hand in?  You can hand in the paper and pencil exercises as a hand-written document. For this homework this applies to exercises 1-5. Alternatively, you can hand in everyhting (if you are ok with typing mathematical formulae using say Latex) as a jupyter notebook at D2L. The numerical exercise(s) (exercise 6 here) should always be handed in as a jupyter notebook by the deadline at D2L. \n",
    "\n",
    "### Introduction to homework 3\n",
    "\n",
    "This week's sets of classical pen and paper and computational\n",
    "exercises deal with the motion of different objects under the\n",
    "influence of various forces. The relevant reading background is\n",
    "1. chapter 2 of Taylor (there are many good examples there) and\n",
    "\n",
    "2. chapters 5-7 of Malthe-Sørenssen.\n",
    "\n",
    "In both textbooks there are many nice worked out examples. Malthe-Sørenssen's text contains also several coding examples you may find useful. \n",
    "\n",
    "There are several pedagogical aims we have in mind with these exercises:\n",
    "1. Get practice in setting up and analyzing a physical problem, finding the forces and the relevant equations to solve;\n",
    "\n",
    "2. Analyze the results and ask yourself whether they make sense or not;\n",
    "\n",
    "3. Finding analytical solutions to problems if possible and compare these with numerical results. This teaches us also how to understand errors in numerical calculations;\n",
    "\n",
    "4. Being able to solve (in mechanics these are the most common types of equations) numerically ordinary differential equations and compare the solutions where possible with analytical solutions;\n",
    "\n",
    "5. Getting used to studying physical problems using all possible tools, from paper and pencil to numerical solutions;\n",
    "\n",
    "6. Then analyze the results and ask yourself whether they make sense or not.\n",
    "\n",
    "The above steps outline important elements of our understanding of the\n",
    "scientific method. Furthermore, there are also explicit coding skills\n",
    "we aim at such as setting up arrays, solving differential equations\n",
    "numerically and plotting your results.  Coding practice is also an\n",
    "important aspect. The more we practice the better we get (hopefully).\n",
    "From a numerical mathematics point of view, we will solve the differential\n",
    "equations using Euler's method (forward Euler).\n",
    "\n",
    "The code we will develop can be reused as a basis for coming homeworks. We can\n",
    "also extend the numerical solver we write here to include other methods (later) like\n",
    "the modified Euler method (Euler-Cromer, midpoint Euler) and more\n",
    "advanced methods like the family of Runge-Kutta methods and the Velocity-Verlet method.\n",
    "\n",
    "At the end of this course, we will thus have developed a larger code\n",
    "(or set of codes) which will allow us to study different numerical\n",
    "methods (integration and differential equations) as well as being able\n",
    "to study different physical systems. Combined with analytical skills,\n",
    "the hope is that this can allow us to explore interesting and\n",
    "realistic physics problems. By doing so, the hope is that can lead to\n",
    "deeper insights about the laws of motion which govern a system.\n",
    "\n",
    "And hopefully you can reuse many of the above solvers in other courses (our ideal).\n",
    "\n",
    "Enough talk!  Here we go and best wishes.\n",
    "\n",
    "### Exercise 1 (20 pt), Electron moving into an electric field\n",
    "\n",
    "An electron is sent through a varying electrical\n",
    "field. Initially, the electron is moving in the $x$-direction with a velocity\n",
    "$v_x = 100$ m/s. The electron enters the field when it passes the origin. The field\n",
    "varies with time, causing an acceleration of the electron that varies in time"
   ]
  },
  {
   "cell_type": "markdown",
   "metadata": {},
   "source": [
    "$$\n",
    "\\boldsymbol{a}(t)=\\left(−20 \\mathrm{m/s}^2 −10\\mathrm{m/s}^3t\\right) \\boldsymbol{e}_y,\n",
    "$$"
   ]
  },
  {
   "cell_type": "markdown",
   "metadata": {},
   "source": [
    "or if we replace $\\boldsymbol{e}_y$ with $\\boldsymbol{e}_2$ (the unit vectors in the $y$-direction) we have"
   ]
  },
  {
   "cell_type": "markdown",
   "metadata": {},
   "source": [
    "$$\n",
    "\\boldsymbol{a}(t)=\\left(−20 \\mathrm{m/s}^2 −10\\mathrm{m/s}^3t\\right) \\boldsymbol{e}_2.\n",
    "$$"
   ]
  },
  {
   "cell_type": "markdown",
   "metadata": {},
   "source": [
    "* 1a (4pt) Find the velocity as a function of time for the electron.\n",
    "\n",
    "**Answer 1a:**\n",
    "\n",
    "Note that the velocity in the $x$-direction is a constant and is not affected by the force which acts only in the $y$-direction.\n",
    "This means that we can decouple the two degrees of freedom and skip the vector symbols.\n",
    "We have then a constant velocity in the $x$-direction"
   ]
  },
  {
   "cell_type": "markdown",
   "metadata": {},
   "source": [
    "$$\n",
    "v_x(t) = 100\\mathrm{m/s},\n",
    "$$"
   ]
  },
  {
   "cell_type": "markdown",
   "metadata": {},
   "source": [
    "and integrating up the acceleration in the $y$-direction (and using that the initial time $t_0=0$) we get"
   ]
  },
  {
   "cell_type": "markdown",
   "metadata": {},
   "source": [
    "$$\n",
    "v_y(t) = -20\\mathrm{m/s^2}t-5\\mathrm{m/s^3}t^2.\n",
    "$$"
   ]
  },
  {
   "cell_type": "markdown",
   "metadata": {},
   "source": [
    "* 1b (4pt)  Find the position as a function of time for the electron.\n",
    "\n",
    "**Answer 1b:**\n",
    "We integrate again in the $x$-direction"
   ]
  },
  {
   "cell_type": "markdown",
   "metadata": {},
   "source": [
    "$$\n",
    "x(t) = 100\\mathrm{m/s}t,\n",
    "$$"
   ]
  },
  {
   "cell_type": "markdown",
   "metadata": {},
   "source": [
    "and in the $y$-direction (remember that these two degrees of freedom don't depend on each other)\n",
    "we get"
   ]
  },
  {
   "cell_type": "markdown",
   "metadata": {},
   "source": [
    "$$\n",
    "y(t) = -10\\mathrm{m/s^2}t^2-\\frac{5}{3}\\mathrm{m/s^3}t^3.\n",
    "$$"
   ]
  },
  {
   "cell_type": "markdown",
   "metadata": {},
   "source": [
    "The field is only acting inside a box of length $L = 2m$.\n",
    "* 1c (4pt)  How long time is the electron inside the field?\n",
    "\n",
    "**Answer 1c:**\n",
    "If we use the equation for the $x$-direction (the length of the box), we can then use the equation for $x(t) = 100\\mathrm{m/s}t$\n",
    "and simply set $x=2$m and we find"
   ]
  },
  {
   "cell_type": "markdown",
   "metadata": {},
   "source": [
    "$$\n",
    "t=\\frac{1}{50}\\mathrm{s}.\n",
    "$$"
   ]
  },
  {
   "cell_type": "markdown",
   "metadata": {},
   "source": [
    "* 1d (4pt)  What is the displacement in the $y$-direction when the electron leaves the box. (We call this the deflection of the electron).\n",
    "\n",
    "**Answer 1d:**\n",
    "Here we simply use"
   ]
  },
  {
   "cell_type": "markdown",
   "metadata": {},
   "source": [
    "$$\n",
    "y(t) = -10\\mathrm{m/s^2}t^2-\\frac{5}{3}\\mathrm{m/s^3}t^3,\n",
    "$$"
   ]
  },
  {
   "cell_type": "markdown",
   "metadata": {},
   "source": [
    "and use $t=1/50$s and find that"
   ]
  },
  {
   "cell_type": "markdown",
   "metadata": {},
   "source": [
    "$$\n",
    "y = -0.004013 \\mathrm{m}.\n",
    "$$"
   ]
  },
  {
   "cell_type": "markdown",
   "metadata": {},
   "source": [
    "* 1e (4pt)  Find the angle the velocity vector forms with the horizontal axis as the electron leaves the box.\n",
    "\n",
    "**Answer 1e:**\n",
    "Again, we use $t=1/50$s and calculate the velocities in the $x$- and the $y$-directions (the velocity in the $x$-direction is just a constant) and find the angle using"
   ]
  },
  {
   "cell_type": "markdown",
   "metadata": {},
   "source": [
    "$$\n",
    "\\tan{\\alpha} = \\frac{v_y(t=1/50)}{v_x(t=1/50)},\n",
    "$$"
   ]
  },
  {
   "cell_type": "markdown",
   "metadata": {},
   "source": [
    "which leads to"
   ]
  },
  {
   "cell_type": "markdown",
   "metadata": {},
   "source": [
    "$$\n",
    "\\alpha = -0.23,\n",
    "$$"
   ]
  },
  {
   "cell_type": "markdown",
   "metadata": {},
   "source": [
    "in degrees (not radians).\n",
    "\n",
    "### Exercise 2 (10 pt), Drag force, Taylor exercise 2.3\n",
    "\n",
    "* 2a (5pt) Using equations (2.84) and (2.82) in Taylor, we have that $f_{\\mathrm{quad}}/f_{\\mathrm{lin}}=(\\kappa\\rho Av^2)/(3\\pi\\eta Dv)$. With $\\kappa =1/4$ and $A=\\pi D^2/4$ we obtain $f_{\\mathrm{quad}}/f_{\\mathrm{lin}}=(\\rho Dv)/(48\\eta)$ or $R/48$ with $R$ given by equation (2.83) of Taylor.\n",
    "\n",
    "* 2b (5pt) With these numbers $R=1.1\\times 10^{-2}$ and it is safe to neglect the quadratic drag.\n",
    "\n",
    "### Exercise 3 (10 pt), Falling object, Taylor exercise 2.6\n",
    "\n",
    "* 3a (5pt) If we insert Taylor series for $\\exp{-(t/\\tau)}$ into equation (2.33) of Taylor, we have"
   ]
  },
  {
   "cell_type": "markdown",
   "metadata": {},
   "source": [
    "$$\n",
    "v_y(t) = v_{\\mathrm{ter}}\\left[1-\\exp{-(t/\\tau)}\\right] = v_{\\mathrm{ter}}\\left[1-(1-\\frac{t}{\\tau}+\\frac{t^2}{2\\tau^2}+\\dots   )\\right].\n",
    "$$"
   ]
  },
  {
   "cell_type": "markdown",
   "metadata": {},
   "source": [
    "The first two terms on the right cancel and, if $t$ is sufficiently small, we can neglect terms with higher powers than two in $t$.  This gives us"
   ]
  },
  {
   "cell_type": "markdown",
   "metadata": {},
   "source": [
    "$$\n",
    "v_y(t) \\approx v_{\\mathrm{ter}}\\frac{t}{\\tau}=gt,\n",
    "$$"
   ]
  },
  {
   "cell_type": "markdown",
   "metadata": {},
   "source": [
    "where we used that $v_{\\mathrm{ter}}=g\\tau$ from equation (2.34) in Taylor. This means that for small velocities it is the gravitational force which dominates.\n",
    "* 3b (5pt) Setting $v_y(t_0)=0$ in equation (2.35) of Taylor and using the Taylor series for the exponential we find that"
   ]
  },
  {
   "cell_type": "markdown",
   "metadata": {},
   "source": [
    "$$\n",
    "y(t) = v_{\\mathrm{ter}}t-v_{\\mathrm{ter}}\\tau\\left[1-\\exp{-(t/\\tau)}\\right] = v_{\\mathrm{ter}}t-v_{\\mathrm{ter}}\\tau\\left[1-(1-\\frac{t}{\\tau}+\\frac{t^2}{2\\tau^2}+\\dots   )\\right].\n",
    "$$"
   ]
  },
  {
   "cell_type": "markdown",
   "metadata": {},
   "source": [
    "On the rhs the second and third terms cancel, as do the first and fourth. If we neglect all terms beyond $t^2$, this leaves us with"
   ]
  },
  {
   "cell_type": "markdown",
   "metadata": {},
   "source": [
    "$$\n",
    "y(t) \\approx v_{\\mathrm{ter}}\\frac{t^2}{2\\tau}=\\frac{1}{2}gt^2.\n",
    "$$"
   ]
  },
  {
   "cell_type": "markdown",
   "metadata": {},
   "source": [
    "Again, for small times, as expected, the gravitational force plays the major role.\n",
    "\n",
    "### Exercise 4 (10 pt), and then a cyclist, Taylor exercise 2.26\n",
    "\n",
    "Putting in the numbers for the characteristic time we find"
   ]
  },
  {
   "cell_type": "markdown",
   "metadata": {},
   "source": [
    "$$\n",
    "\\tau = \\frac{m}{Dv_0} = \\frac{80}{0.20\\times 20}=20\\mathrm{s}.\n",
    "$$"
   ]
  },
  {
   "cell_type": "markdown",
   "metadata": {},
   "source": [
    "From an initial velocity of 20m/s we will slow down to half the initial speed, 10m/s in 20s.  From Taylor equation (2.45) we have then that the time to slow down to any speed $v$ is"
   ]
  },
  {
   "cell_type": "markdown",
   "metadata": {},
   "source": [
    "$$\n",
    "t = \\frac{M}{D}\\left(\\frac{1}{v}-\\frac{1}{v_0}\\right).\n",
    "$$"
   ]
  },
  {
   "cell_type": "markdown",
   "metadata": {},
   "source": [
    "This gives a time of 6.7s for a velocity of 15m/s, 20s for a velocity of 10m/s and 60s for a velocity of 5m/s.  We see that this approximation leads to an infinite time before we come to rest. To ignore ordinary friction at low speeds is indeed a bad approximation.\n",
    "\n",
    "\n",
    "\n",
    "### Exercise 5 (10 pt), back to a falling ball and preparing for the numerical exercise\n",
    "\n",
    "**Useful material: Malthe-Sørenssen chapter 7.5 and Taylor chapter 2.4.**\n",
    "\n",
    "In this example we study the motion of an object subject to a constant force, a velocity dependent\n",
    "force, and for the numerical part a position-dependent force.\n",
    "Without the position dependent force, we can solve the problem analytically. This is what we will do in this exercise.\n",
    "The position dependent force requires numerical efforts (exercise 7).\n",
    "In addition to the  falling ball case, we will include the effect of the ball bouncing back from the floor in exercises 7.\n",
    "\n",
    "\n",
    "Here we limit ourselves to a ball that is thrown from a height $h$\n",
    "above the ground with an initial velocity\n",
    "$\\boldsymbol{v}_0$ at time $t=t_0$.\n",
    "We assume we have only a gravitational force and a force due to the air resistance.\n",
    "The position of the ball as function of time is  $\\boldsymbol{r}(t)$ where $t$ is time.\n",
    " The position is measured with respect to a coordinate system with origin at the floor.\n",
    "\n",
    "We assume we have an initial position $\\boldsymbol{r}(t_0)=h\\boldsymbol{e}_y$ and an initial velocity $\\boldsymbol{v}_0=v_{x,0}\\boldsymbol{e}_x+v_{y,0}\\boldsymbol{e}_y$.\n",
    "\n",
    "In this exercise we assume the system is influenced by the gravitational force"
   ]
  },
  {
   "cell_type": "markdown",
   "metadata": {},
   "source": [
    "$$\n",
    "\\boldsymbol{G}=-mg\\boldsymbol{e}_y\n",
    "$$"
   ]
  },
  {
   "cell_type": "markdown",
   "metadata": {},
   "source": [
    "and an air resistance given by a square law"
   ]
  },
  {
   "cell_type": "markdown",
   "metadata": {},
   "source": [
    "$$\n",
    "-Dv\\boldsymbol{v}.\n",
    "$$"
   ]
  },
  {
   "cell_type": "markdown",
   "metadata": {},
   "source": [
    "The analytical expressions for velocity and position as functions of\n",
    "time will be used to compare with the numerical results in exercise 6.\n",
    "\n",
    "* 5a (3pt) Identify the forces acting on the ball and set up a diagram with the forces acting on the ball. Find the acceleration of the falling ball.\n",
    "\n",
    "The forces acting on the ball are the gravitational force $\\boldsymbol{G}=-mg\\boldsymbol{e}_y$ and the air resistance $\\boldsymbol{F}_D=-D\\boldsymbol{v}v$ with $v$ the absolute value of the velocity. The accelaration in the $x$-direction is"
   ]
  },
  {
   "cell_type": "markdown",
   "metadata": {},
   "source": [
    "$$\n",
    "a_x = -\\frac{Dv_x\\vert v\\vert}{m},\n",
    "$$"
   ]
  },
  {
   "cell_type": "markdown",
   "metadata": {},
   "source": [
    "and in the $y$-direction"
   ]
  },
  {
   "cell_type": "markdown",
   "metadata": {},
   "source": [
    "$$\n",
    "a_y = -g-\\frac{Dv_y\\vert v\\vert}{m},\n",
    "$$"
   ]
  },
  {
   "cell_type": "markdown",
   "metadata": {},
   "source": [
    "where $\\vert v\\vert=\\sqrt{v_x^2+v_y^2}$.  Note that due to the dependence on $v_x$ and $v_y$ in each equation, it means we may not be able find an analytical solution. In this case we cannot.\n",
    "In order to compare our code with analytical results, we will thus study the problem only in the $y$-direction.\n",
    "\n",
    "In the general code below we would write this as (pseudocode style)"
   ]
  },
  {
   "cell_type": "code",
   "execution_count": null,
   "metadata": {},
   "outputs": [],
   "source": [
    "    ax = -D*vx[i]*abs(v[i])/m\n",
    "    ay = -g - D*vy[i]*abs(v[i])/m"
   ]
  },
  {
   "cell_type": "markdown",
   "metadata": {},
   "source": [
    "* 5b (4pt) Integrate the acceleration from an initial time $t_0$ to a final time $t$ and find the velocity.\n",
    "\n",
    "We reduce our problem to a one-dimensional in the $y$-direction only since for the two-dimensional motion we cannot find an analtical solution. For one dimension however, we have an analytical solution.\n",
    "We specialize our equations  for the $y$-direction only"
   ]
  },
  {
   "cell_type": "markdown",
   "metadata": {},
   "source": [
    "$$\n",
    "\\frac{dv_y}{dt}= -g +Dv_y^2(t).\n",
    "$$"
   ]
  },
  {
   "cell_type": "markdown",
   "metadata": {},
   "source": [
    "We can solve this using the technique of separation of variables. We\n",
    "isolate on the left all terms that involve $v$ and on the right all\n",
    "terms that involve time. We get then"
   ]
  },
  {
   "cell_type": "markdown",
   "metadata": {},
   "source": [
    "$$\n",
    "\\frac{dv_y}{g -Dv_y^2(t) }= -dt,\n",
    "$$"
   ]
  },
  {
   "cell_type": "markdown",
   "metadata": {},
   "source": [
    "We scale now the equation to the left by introducing a constant\n",
    "$v_T=\\sqrt{g/D}$. This constant has dimension length/time. \n",
    "\n",
    "Next we integrate the left-hand side (lhs) from $v_{y0}=0$ m/s to $v$ and\n",
    "the right-hand side (rhs) from $t_0=0$ to $t$ and obtain"
   ]
  },
  {
   "cell_type": "markdown",
   "metadata": {},
   "source": [
    "$$\n",
    "\\int_{0}^{v_y}\\frac{dv_y}{g -Dv_y^2(t) }= \\frac{v_T}{g}\\mathrm{arctanh}(\\frac{v_y}{v_T})  =-\\int_0^tdt = -t.\n",
    "$$"
   ]
  },
  {
   "cell_type": "markdown",
   "metadata": {},
   "source": [
    "We can reorganize these equations as"
   ]
  },
  {
   "cell_type": "markdown",
   "metadata": {},
   "source": [
    "$$\n",
    "v_T\\mathrm{arctanh}(\\frac{v_y}{v_T})  =-gt,\n",
    "$$"
   ]
  },
  {
   "cell_type": "markdown",
   "metadata": {},
   "source": [
    "which gives us $v_y$ as function of time"
   ]
  },
  {
   "cell_type": "markdown",
   "metadata": {},
   "source": [
    "$$\n",
    "v_y(t)=v_T\\tanh{-(\\frac{gt}{v_T})}.\n",
    "$$"
   ]
  },
  {
   "cell_type": "markdown",
   "metadata": {},
   "source": [
    "With a finite initial velocity we need simply to add $v_{y0}$.\n",
    "\n",
    "\n",
    "\n",
    "* 5c (4pt) Find thereafter the position as function of time starting with an initial time $t_0$. Find the time it takes to hit the floor.  Here you will find it convenient to set the initial velocity in the $y$-direction to zero.\n",
    "\n",
    "With the velocity we can then find the height $y(t)$ by integrating yet another time, that is"
   ]
  },
  {
   "cell_type": "markdown",
   "metadata": {},
   "source": [
    "$$\n",
    "y(t)=y(t_0)+\\int_{t_0}^t dt v_y(t)=\\int_{0}^t dt[v_T\\tanh{-(\\frac{gt}{v_T})}].\n",
    "$$"
   ]
  },
  {
   "cell_type": "markdown",
   "metadata": {},
   "source": [
    "This integral is a little bit trickier but we can look it up in a table over \n",
    "known integrals and we get"
   ]
  },
  {
   "cell_type": "markdown",
   "metadata": {},
   "source": [
    "$$\n",
    "y(t)=y(t_0)-\\frac{v_T^2}{g}\\log{[\\cosh{(\\frac{gt}{v_T})}]}.\n",
    "$$"
   ]
  },
  {
   "cell_type": "markdown",
   "metadata": {},
   "source": [
    "Here we have assumed that we set the initial velocity in the $y$-direction to zero, that is $v_y(t_0)=0$m/s. Adding a non-zero velocity gives us an additional term of $v_{y0}t$.  \n",
    "Using a zero initial velocity and setting"
   ]
  },
  {
   "cell_type": "markdown",
   "metadata": {},
   "source": [
    "$$\n",
    "y(t)=0=y(t_0)-\\frac{v_T^2}{g}\\log{[\\cosh{(-\\frac{gt}{v_T})}]}=y(t_0)-\\frac{v_T^2}{g}\\log{[\\cosh{(\\frac{gt}{v_T})}]},\n",
    "$$"
   ]
  },
  {
   "cell_type": "markdown",
   "metadata": {},
   "source": [
    "(note that $\\cosh$ yields the same values for negative and positive arguments)\n",
    "allows us to find the final time by solving"
   ]
  },
  {
   "cell_type": "markdown",
   "metadata": {},
   "source": [
    "$$\n",
    "y(t_0)=\\frac{v_T^2}{g}\\log{[\\cosh{(\\frac{gt}{v_T})}]},\n",
    "$$"
   ]
  },
  {
   "cell_type": "markdown",
   "metadata": {},
   "source": [
    "which gives"
   ]
  },
  {
   "cell_type": "markdown",
   "metadata": {},
   "source": [
    "$$\n",
    "t = \\frac{v_T}{g}\\mathrm{arccosh}(\\exp{(gy_0/v_T^2)}).\n",
    "$$"
   ]
  },
  {
   "cell_type": "markdown",
   "metadata": {},
   "source": [
    "In the code below we would code these analytical expressions (with zero initial velocity in the $y$-direction) as"
   ]
  },
  {
   "cell_type": "code",
   "execution_count": null,
   "metadata": {},
   "outputs": [],
   "source": [
    "    yanalytic[i+1] = y[0]-(vT*vT/g)*log(cosh(g*t[i+1]/vT))+vy[0]*t[i+1]"
   ]
  },
  {
   "cell_type": "markdown",
   "metadata": {},
   "source": [
    "We will use the above analytical results in our numerical calculations in exercise 6.\n",
    "\n",
    "\n",
    "\n",
    "\n",
    "### Exercise 6 (40pt), Numerical elements, solving exercise 5 numerically and adding the bouncing from the floor\n",
    "\n",
    "**This exercise should be handed in as a jupyter-notebook** at D2L. Remember to write your name(s). \n",
    "\n",
    "Last week we:\n",
    "1. Gained more practice with plotting in Python\n",
    "\n",
    "2. Became familiar with arrays and representing vectors with such objects\n",
    "\n",
    "This week we will:\n",
    "1. Learn and utilize Euler's Method to find the position and the velocity\n",
    "\n",
    "2. Compare analytical and computational solutions \n",
    "\n",
    "3. Add additional forces to our model"
   ]
  },
  {
   "cell_type": "code",
   "execution_count": 1,
   "metadata": {},
   "outputs": [],
   "source": [
    "%matplotlib inline\n",
    "\n",
    "# let's start by importing useful packages we are familiar with\n",
    "import numpy as np\n",
    "import matplotlib.pyplot as plt\n",
    "%matplotlib inline"
   ]
  },
  {
   "cell_type": "markdown",
   "metadata": {},
   "source": [
    "We will choose the following values\n",
    "1. mass $m=0,2$ kg\n",
    "\n",
    "2. accelleration (gravity) $g=9.81$ m/s$^{2}$.\n",
    "\n",
    "3. initial position is the height $h=2$ m\n",
    "\n",
    "4. initial velocities $v_{x,0}=v_{y,0}=10$ m/s\n",
    "\n",
    "Can you find a reasonable value for the drag coefficient $D$?\n",
    "You need also to define an initial time and \n",
    "the step size $\\Delta t$. We can define the step size $\\Delta t$ as the difference between any\n",
    "two neighboring values in time (time steps) that we analyze within\n",
    "some range. It can be determined by dividing the interval we are\n",
    "analyzing, which in our case is time $t_{\\mathrm{final}}-t_0$, by the number of steps we\n",
    "are taking $(N)$. This gives us a step size $\\Delta t = \\dfrac{t_{\\mathrm{final}}-t_0}{N}$.\n",
    "\n",
    "With these preliminaries we are now ready to plot our results from exercise 5.\n",
    "\n",
    "* 6a (10pt) Set up arrays for time, velocity, acceleration and positions for the results from exercise 5. Define an initial and final time. Choose the final time to be the time when the ball hits the ground for the first time. Make a plot of the position and velocity as functions of time.  Here you could set the initial velocity in the $y$-direction to zero and use the result from exercise 5. Else you need to try different initial times using the result from exercise 5 as a starting guess.  It is not critical if you don't reach the ground when the initial velocity in the $y$-direction is not zero.\n",
    "\n",
    "We move now to the numerical solution of the differential equations as discussed in the [lecture notes](https://mhjensen.github.io/Physics321/doc/pub/motion/html/motion.html) or Malthe-Sørenssen chapter 7.5.\n",
    "Let us remind ourselves about  Euler's Method.\n",
    "\n",
    "Suppose we know $f(t)$ and its derivative $f'(t)$. To find $f(t+\\Delta t)$ at the next step, $t+\\Delta t$,\n",
    "we can consider the Taylor expansion:\n",
    "\n",
    "$f(t+\\Delta t) = f(t) + \\dfrac{(\\Delta t)f'(t)}{1!} + \\dfrac{(\\Delta t)^2f''(t)}{2!} + ...$\n",
    "\n",
    "If we ignore the $f''$ term and higher derivatives, we obtain\n",
    "\n",
    "$f(t+\\Delta t) \\approx f(t) + (\\Delta t)f'(t)$.\n",
    "\n",
    "This approximation is the basis of Euler's method, and the Taylor\n",
    "expansion suggests that it will have errors of $O(\\Delta t^2)$.  Thus, one\n",
    "would expect it to work better, the smaller the step size $h$ that you\n",
    "use. In our case the step size is $\\Delta t$. \n",
    "\n",
    "In setting up our code we need to\n",
    "\n",
    "1. Define and obtain all initial values, constants, and time to be analyzed with step sizes as done above (you can use the same values)\n",
    "\n",
    "2. Calculate the velocity using $v_{i+1} = v_{i} + (\\Delta t)*a_{i}$\n",
    "\n",
    "3. Calculate the position using $pos_{i+1} = r_{i} + (\\Delta t)*v_{i}$\n",
    "\n",
    "4. Calculate the new acceleration $a_{i+1}$.\n",
    "\n",
    "5. Repeat steps 2-4 for all time steps within a loop.\n",
    "\n",
    "\n",
    "* 6b (20 pt) Write a code which implements Euler's method and compute numerically and plot the position and velocity as functions of time for various values of $\\Delta t$. Comment your results.\n",
    "\n",
    "Below you will find two codes, one which uses explicit expressions for the $x$- and $y$-directions and one which rewrites the expressions as compact vectors, as done in homework 2. Running the codes shows a sensitivity to the chosen step size $\\Delta t$. You will clearly notice that when comparing with the analytical results, that larger values of the step size in time result in a poorer agreement with the analytical solutions.\n",
    "\n",
    "* 6c (10pt) Compare your numerically obtained positions and velocities with the analytical results from exercise 5. Comment again your results.\n",
    "\n",
    "**Answers 6a, 6b and 6c:**\n",
    "\n",
    "The codes follow here. Running them allows you to probe the various parameters and compare with analytical solutions as well. \n",
    "\n",
    "The analytical results are discussed in the lecture notes, see the slides of the week of January 25-29 <https://mhjensen.github.io/Physics321/doc/pub/week4/html/week4-bs.html>.\n",
    "\n",
    "\n",
    "The codes here show two different ways of solving the two-dimensional problem. The first one defines arrays for the $x$- and $y$-directions explicitely, while the second code uses a more\n",
    "compact (and thus closer to the mathmeatics) notation with a full two-dimensional vector.\n",
    "\n",
    "\n",
    "The initial conditions for the first example are set so that we only an object falling in the $y$-direction. Then it makes sense to compare with the analytical solution. If you change the initial conditions, this comparison is no longer correct."
   ]
  },
  {
   "cell_type": "code",
   "execution_count": 4,
   "metadata": {},
   "outputs": [
    {
     "data": {
      "text/html": [
       "<div>\n",
       "<style scoped>\n",
       "    .dataframe tbody tr th:only-of-type {\n",
       "        vertical-align: middle;\n",
       "    }\n",
       "\n",
       "    .dataframe tbody tr th {\n",
       "        vertical-align: top;\n",
       "    }\n",
       "\n",
       "    .dataframe thead th {\n",
       "        text-align: right;\n",
       "    }\n",
       "</style>\n",
       "<table border=\"1\" class=\"dataframe\">\n",
       "  <thead>\n",
       "    <tr style=\"text-align: right;\">\n",
       "      <th></th>\n",
       "      <th>t[s]</th>\n",
       "      <th>Relative error in y</th>\n",
       "      <th>vy[m/s]</th>\n",
       "      <th>x[m]</th>\n",
       "      <th>ay[m/s]</th>\n",
       "    </tr>\n",
       "  </thead>\n",
       "  <tbody>\n",
       "    <tr>\n",
       "      <th>0</th>\n",
       "      <td>0.000</td>\n",
       "      <td>0.000000e+00</td>\n",
       "      <td>0.000000</td>\n",
       "      <td>0.0</td>\n",
       "      <td>-9.806550</td>\n",
       "    </tr>\n",
       "    <tr>\n",
       "      <th>1</th>\n",
       "      <td>0.001</td>\n",
       "      <td>4.903277e-07</td>\n",
       "      <td>-0.009807</td>\n",
       "      <td>0.0</td>\n",
       "      <td>-9.806549</td>\n",
       "    </tr>\n",
       "    <tr>\n",
       "      <th>2</th>\n",
       "      <td>0.002</td>\n",
       "      <td>9.806568e-07</td>\n",
       "      <td>-0.019613</td>\n",
       "      <td>0.0</td>\n",
       "      <td>-9.806545</td>\n",
       "    </tr>\n",
       "    <tr>\n",
       "      <th>3</th>\n",
       "      <td>0.003</td>\n",
       "      <td>1.470988e-06</td>\n",
       "      <td>-0.029420</td>\n",
       "      <td>0.0</td>\n",
       "      <td>-9.806539</td>\n",
       "    </tr>\n",
       "    <tr>\n",
       "      <th>4</th>\n",
       "      <td>0.004</td>\n",
       "      <td>1.961324e-06</td>\n",
       "      <td>-0.039226</td>\n",
       "      <td>0.0</td>\n",
       "      <td>-9.806531</td>\n",
       "    </tr>\n",
       "    <tr>\n",
       "      <th>...</th>\n",
       "      <td>...</td>\n",
       "      <td>...</td>\n",
       "      <td>...</td>\n",
       "      <td>...</td>\n",
       "      <td>...</td>\n",
       "    </tr>\n",
       "    <tr>\n",
       "      <th>1395</th>\n",
       "      <td>1.395</td>\n",
       "      <td>7.296969e-03</td>\n",
       "      <td>-12.706056</td>\n",
       "      <td>0.0</td>\n",
       "      <td>-7.828863</td>\n",
       "    </tr>\n",
       "    <tr>\n",
       "      <th>1396</th>\n",
       "      <td>1.396</td>\n",
       "      <td>7.417356e-03</td>\n",
       "      <td>-12.713885</td>\n",
       "      <td>0.0</td>\n",
       "      <td>-7.826425</td>\n",
       "    </tr>\n",
       "    <tr>\n",
       "      <th>1397</th>\n",
       "      <td>1.397</td>\n",
       "      <td>7.541724e-03</td>\n",
       "      <td>-12.721712</td>\n",
       "      <td>0.0</td>\n",
       "      <td>-7.823986</td>\n",
       "    </tr>\n",
       "    <tr>\n",
       "      <th>1398</th>\n",
       "      <td>1.398</td>\n",
       "      <td>7.670274e-03</td>\n",
       "      <td>-12.729536</td>\n",
       "      <td>0.0</td>\n",
       "      <td>-7.821547</td>\n",
       "    </tr>\n",
       "    <tr>\n",
       "      <th>1399</th>\n",
       "      <td>1.399</td>\n",
       "      <td>7.803222e-03</td>\n",
       "      <td>-12.737357</td>\n",
       "      <td>0.0</td>\n",
       "      <td>0.000000</td>\n",
       "    </tr>\n",
       "  </tbody>\n",
       "</table>\n",
       "<p>1400 rows × 5 columns</p>\n",
       "</div>"
      ],
      "text/plain": [
       "       t[s]  Relative error in y    vy[m/s]  x[m]   ay[m/s]\n",
       "0     0.000         0.000000e+00   0.000000   0.0 -9.806550\n",
       "1     0.001         4.903277e-07  -0.009807   0.0 -9.806549\n",
       "2     0.002         9.806568e-07  -0.019613   0.0 -9.806545\n",
       "3     0.003         1.470988e-06  -0.029420   0.0 -9.806539\n",
       "4     0.004         1.961324e-06  -0.039226   0.0 -9.806531\n",
       "...     ...                  ...        ...   ...       ...\n",
       "1395  1.395         7.296969e-03 -12.706056   0.0 -7.828863\n",
       "1396  1.396         7.417356e-03 -12.713885   0.0 -7.826425\n",
       "1397  1.397         7.541724e-03 -12.721712   0.0 -7.823986\n",
       "1398  1.398         7.670274e-03 -12.729536   0.0 -7.821547\n",
       "1399  1.399         7.803222e-03 -12.737357   0.0  0.000000\n",
       "\n",
       "[1400 rows x 5 columns]"
      ]
     },
     "metadata": {},
     "output_type": "display_data"
    },
    {
     "data": {
      "image/png": "[encoded data removed]",
      "text/plain": [
       "<Figure size 576x396 with 6 Axes>"
      ]
     },
     "metadata": {},
     "output_type": "display_data"
    }
   ],
   "source": [
    "# Exercise 6, hw3, brute force way with declaration of vx, vy, x and y\n",
    "# Common imports\n",
    "import numpy as np\n",
    "import pandas as pd\n",
    "from math import *\n",
    "import matplotlib.pyplot as plt\n",
    "import os\n",
    "\n",
    "# Where to save the figures and data files\n",
    "PROJECT_ROOT_DIR = \"Results\"\n",
    "FIGURE_ID = \"Results/FigureFiles\"\n",
    "DATA_ID = \"DataFiles/\"\n",
    "\n",
    "if not os.path.exists(PROJECT_ROOT_DIR):\n",
    "    os.mkdir(PROJECT_ROOT_DIR)\n",
    "\n",
    "if not os.path.exists(FIGURE_ID):\n",
    "    os.makedirs(FIGURE_ID)\n",
    "\n",
    "if not os.path.exists(DATA_ID):\n",
    "    os.makedirs(DATA_ID)\n",
    "\n",
    "def image_path(fig_id):\n",
    "    return os.path.join(FIGURE_ID, fig_id)\n",
    "\n",
    "def data_path(dat_id):\n",
    "    return os.path.join(DATA_ID, dat_id)\n",
    "\n",
    "def save_fig(fig_id):\n",
    "    plt.savefig(image_path(fig_id) + \".png\", format='png')\n",
    "\n",
    "# Output file\n",
    "outfile = open(data_path(\"Eulerresults.dat\"),'w')\n",
    "\n",
    "from pylab import plt, mpl\n",
    "plt.style.use('seaborn')\n",
    "mpl.rcParams['font.family'] = 'serif'\n",
    "\n",
    "\n",
    "g = 9.80655 #m/s^2\n",
    "# The mass and the drag constant D\n",
    "D = 0.00245 #mass/length   kg/m\n",
    "m = 0.2 #kg, mass of falling object\n",
    "DeltaT = 0.001\n",
    "#set up arrays \n",
    "tfinal = 1.4\n",
    "# set up number of points for all variables\n",
    "n = ceil(tfinal/DeltaT)\n",
    "# define scaling constant vT used in analytical solution\n",
    "vT = sqrt(m*g/D)\n",
    "# set up arrays for t, a, v, and y and arrays for analytical results\n",
    "#brute force setting up of arrays for x and y, vx, vy, ax and ay\n",
    "t = np.zeros(n)\n",
    "vy = np.zeros(n)\n",
    "y = np.zeros(n)\n",
    "vx = np.zeros(n)\n",
    "x = np.zeros(n)\n",
    "ax = np.zeros(n)\n",
    "ay = np.zeros(n)\n",
    "yanalytic = np.zeros(n)\n",
    "# Initial conditions, note that these correspond to an object falling in the y-direction only.\n",
    "vx[0] = 0.0 #m/s\n",
    "vy[0] = 0.0  #m/s\n",
    "y[0] = 10.0 #m\n",
    "x[0] = 0.0 #m\n",
    "yanalytic[0] = y[0]\n",
    "# Start integrating using Euler's method\n",
    "for i in range(n-1):\n",
    "    # expression for acceleration, note the absolute value and division by mass\n",
    "    ax[i] = -D*vx[i]*sqrt(vx[i]**2+vy[i]**2)/m\n",
    "    ay[i] = -g - D*vy[i]*sqrt(vx[i]**2+vy[i]**2)/m\n",
    "    # update velocity and position\n",
    "    vx[i+1] = vx[i] + DeltaT*ax[i]\n",
    "    x[i+1] = x[i] + DeltaT*vx[i]\n",
    "    vy[i+1] = vy[i] + DeltaT*ay[i]\n",
    "    y[i+1] = y[i] + DeltaT*vy[i]\n",
    "    # update time to next time step and compute analytical answer\n",
    "    t[i+1] = t[i] + DeltaT\n",
    "    yanalytic[i+1] = y[0]-(vT*vT/g)*log(cosh(g*t[i+1]/vT))+vy[0]*t[i+1]\n",
    "    if ( y[i+1] < 0.0):\n",
    "        break\n",
    "data = {'t[s]': t,\n",
    "        'Relative error in y': abs((y-yanalytic)/yanalytic),\n",
    "        'vy[m/s]': vy,\n",
    "        'x[m]': x,\n",
    "        'ay[m/s]': ay\n",
    "}\n",
    "NewData = pd.DataFrame(data)\n",
    "display(NewData)\n",
    "# save to file\n",
    "NewData.to_csv(outfile, index=False)\n",
    "#then plot\n",
    "fig, axs = plt.subplots(6, 1)\n",
    "axs[0].plot(t, y)\n",
    "axs[0].set_xlim(0, tfinal)\n",
    "axs[0].set_ylabel('y')\n",
    "axs[1].plot(t, vy)\n",
    "axs[1].set_ylabel('vy[m/s]')\n",
    "axs[1].set_xlabel('time[s]')\n",
    "axs[2].plot(t, x)\n",
    "axs[2].set_xlim(0, tfinal)\n",
    "axs[2].set_ylabel('x')\n",
    "axs[3].plot(t, vx)\n",
    "axs[3].set_ylabel('vx[m/s]')\n",
    "axs[3].set_xlabel('time[s]')\n",
    "axs[4].plot(t, ax)\n",
    "axs[4].set_xlim(0, tfinal)\n",
    "axs[4].set_ylabel('ax')\n",
    "axs[5].plot(t, ay)\n",
    "axs[5].set_ylabel('ay[m/s^2]')\n",
    "axs[5].set_xlabel('time[s]')\n",
    "fig.tight_layout()\n",
    "save_fig(\"EulerIntegration\")\n",
    "plt.show()"
   ]
  },
  {
   "cell_type": "markdown",
   "metadata": {},
   "source": [
    "We see a good agreement with the analytical solution. This agreement\n",
    "improves if we decrease $\\Delta t$. Furthermore, since we put the\n",
    "initial velocity and position in the $x$ direction to zero, \n",
    "the motion in the $x$-direction is\n",
    "zero, as expected."
   ]
  },
  {
   "cell_type": "code",
   "execution_count": 2,
   "metadata": {},
   "outputs": [
    {
     "data": {
      "image/png": "[encoded data removed]",
      "text/plain": [
       "<Figure size 576x396 with 4 Axes>"
      ]
     },
     "metadata": {},
     "output_type": "display_data"
    }
   ],
   "source": [
    "# Exercise 6, hw3, smarter way with declaration of vx, vy, x and y\n",
    "# Common imports\n",
    "import numpy as np\n",
    "import pandas as pd\n",
    "from math import *\n",
    "import matplotlib.pyplot as plt\n",
    "import os\n",
    "\n",
    "# Where to save the figures and data files\n",
    "PROJECT_ROOT_DIR = \"Results\"\n",
    "FIGURE_ID = \"Results/FigureFiles\"\n",
    "DATA_ID = \"DataFiles/\"\n",
    "\n",
    "if not os.path.exists(PROJECT_ROOT_DIR):\n",
    "    os.mkdir(PROJECT_ROOT_DIR)\n",
    "\n",
    "if not os.path.exists(FIGURE_ID):\n",
    "    os.makedirs(FIGURE_ID)\n",
    "\n",
    "if not os.path.exists(DATA_ID):\n",
    "    os.makedirs(DATA_ID)\n",
    "\n",
    "def image_path(fig_id):\n",
    "    return os.path.join(FIGURE_ID, fig_id)\n",
    "\n",
    "def data_path(dat_id):\n",
    "    return os.path.join(DATA_ID, dat_id)\n",
    "\n",
    "def save_fig(fig_id):\n",
    "    plt.savefig(image_path(fig_id) + \".png\", format='png')\n",
    "\n",
    "\n",
    "from pylab import plt, mpl\n",
    "plt.style.use('seaborn')\n",
    "mpl.rcParams['font.family'] = 'serif'\n",
    "\n",
    "g = 9.80655 #m/s^2 g to 6 leading digits after decimal point\n",
    "D = 0.00245 #m/s\n",
    "m = 0.2 # kg\n",
    "# Define Gravitational force as a vector in x and y. It is a constant\n",
    "G = -m*g*np.array([0.0,1])  #  -mg e_2  , -m g e_y  -mg j\n",
    "DeltaT = 0.01\n",
    "#set up arrays \n",
    "tfinal = 1.3\n",
    "n = ceil(tfinal/DeltaT)\n",
    "# set up arrays for t, a, v, and x\n",
    "t = np.zeros(n)\n",
    "v = np.zeros((n,2))\n",
    "r = np.zeros((n,2))\n",
    "# Initial conditions as compact 2-dimensional arrays\n",
    "r0 = np.array([0.0,10.0])\n",
    "v0 = np.array([10.0,0.0])\n",
    "r[0] = r0\n",
    "v[0] = v0\n",
    "# Start integrating using Euler's method\n",
    "for i in range(n-1):\n",
    "    # Set up forces, air resistance FD, not now that we need the norm of the vector\n",
    "    # Here you could have defined your own function for this\n",
    "    vabs = sqrt(sum(v[i]*v[i]))\n",
    "    FD = -D*v[i]*vabs\n",
    "    # Final net forces acting on falling object\n",
    "    Fnet = FD+G\n",
    "    # The accelration at a given time t_i\n",
    "    a = Fnet/m\n",
    "    # update velocity, time and position using Euler's method\n",
    "    v[i+1] = v[i] + DeltaT*a\n",
    "    r[i+1] = r[i] + DeltaT*v[i]\n",
    "    t[i+1] = t[i] + DeltaT\n",
    "\n",
    "fig, axs = plt.subplots(4, 1)\n",
    "axs[0].plot(t, r[:,1])\n",
    "axs[0].set_xlim(0, tfinal)\n",
    "axs[0].set_ylabel('y')\n",
    "axs[1].plot(t, v[:,1])\n",
    "axs[1].set_ylabel('vy[m/s]')\n",
    "axs[1].set_xlabel('time[s]')\n",
    "axs[2].plot(t, r[:,0])\n",
    "axs[2].set_xlim(0, tfinal)\n",
    "axs[2].set_ylabel('x')\n",
    "axs[3].plot(t, v[:,0])\n",
    "axs[3].set_ylabel('vx[m/s]')\n",
    "axs[3].set_xlabel('time[s]')\n",
    "\n",
    "fig.tight_layout()\n",
    "save_fig(\"EulerIntegration\")\n",
    "plt.show()"
   ]
  },
  {
   "cell_type": "code",
   "execution_count": null,
   "metadata": {},
   "outputs": [],
   "source": []
  }
 ],
 "metadata": {
  "kernelspec": {
   "display_name": "Python 3",
   "language": "python",
   "name": "python3"
  },
  "language_info": {
   "codemirror_mode": {
    "name": "ipython",
    "version": 3
   },
   "file_extension": ".py",
   "mimetype": "text/x-python",
   "name": "python",
   "nbconvert_exporter": "python",
   "pygments_lexer": "ipython3",
   "version": "3.6.8"
  }
 },
 "nbformat": 4,
 "nbformat_minor": 4
}
