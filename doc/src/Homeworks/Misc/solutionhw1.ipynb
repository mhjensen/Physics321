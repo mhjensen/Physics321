{
 "cells": [
  {
   "cell_type": "markdown",
   "metadata": {},
   "source": [
    "<!-- dom:TITLE: PHY321: Classical Mechanics 1 -->\n",
    "# PHY321: Classical Mechanics 1\n",
    "<!-- dom:AUTHOR: Solution Homework 1, Spring 2021 -->\n",
    "<!-- Author: -->  \n",
    "**Solution Homework 1, Spring 2021**\n",
    "\n",
    "Date: **Jan 27, 2021**\n",
    "\n",
    "There is also a set of videos with the solutions, [see Julie Butler's videos](https://www.youtube.com/playlist?list=PLq9LZ5390Us41TX42XzOPIEPcbHaqX8Hx).\n",
    "\n",
    "## Exercise 1 (10 pt), math reminder, properties of exponential function\n",
    "\n",
    "The first exercise is meant to remind ourselves about properties of\n",
    "the exponential function and imaginary numbers. This is highly\n",
    "relevant later in this course when we start analyzing oscillatory\n",
    "motion and some wave mechanics. As physicists we should thus feel comfortable with expressions that\n",
    "include $\\exp{(\\imath\\omega t)}$. Here $t$ could be interpreted as time and $\\omega$ as a frequency and $\\imath$ is the imaginary unit number.\n",
    "\n",
    "### 1a (2pt), solution:\n",
    "\n",
    "Perform Taylor expansions in powers of $\\omega t$ of the functions\n",
    "$\\cos{(\\omega t)}$ and $\\sin{(\\omega t)}$.\n",
    "We have"
   ]
  },
  {
   "cell_type": "markdown",
   "metadata": {},
   "source": [
    "$$\n",
    "\\cos{(\\omega t)} = \\sum_{n=0}^{\\infty}\\left(-1\\right)^n \\frac{(\\omega t)^{2n}}{(2n)!}=1-\\frac{(\\omega t)^{2}}{2!}+\\frac{(\\omega t)^{4}}{4!}-\\dots,\n",
    "$$"
   ]
  },
  {
   "cell_type": "markdown",
   "metadata": {},
   "source": [
    "and"
   ]
  },
  {
   "cell_type": "markdown",
   "metadata": {},
   "source": [
    "$$\n",
    "\\sin{(\\omega t)} = \\sum_{n=0}^{\\infty}\\left(-1\\right)^n \\frac{(\\omega t)^{2n+1}}{(2n+1)!}=\\omega t-\\frac{(\\omega t)^{3}}{3!}+\\frac{(\\omega t)^{5}}{5!}-\\dots,\n",
    "$$"
   ]
  },
  {
   "cell_type": "markdown",
   "metadata": {},
   "source": [
    "### 1b (2pt), solution:\n",
    "\n",
    "Perform a Taylor expansion of $\\exp{(\\imath\\omega t)}$.\n",
    "We have then"
   ]
  },
  {
   "cell_type": "markdown",
   "metadata": {},
   "source": [
    "$$\n",
    "\\exp{(\\imath\\omega t)} = \\sum_{n=0}^{\\infty}\\frac{(\\imath\\omega t)^{n}}{(n)!}=1+\\omega t+\\frac{(\\imath\\omega t)^{2}}{2!}+\\frac{(\\imath\\omega t)^{3}}{3!}+\\frac{(\\imath\\omega t)^{4}}{4!}+\\frac{(\\imath\\omega t)^{5}}{5!}+\\dots.\n",
    "$$"
   ]
  },
  {
   "cell_type": "markdown",
   "metadata": {},
   "source": [
    "### 1c (3pt), solution:\n",
    "\n",
    "Using parts (a) and (b) here, show that $\\exp{(\\imath\\omega t)}=\\cos{(\\omega t)}+\\imath\\sin{(\\omega t)}$.\n",
    "\n",
    "Using $\\imath^2=-1$ we can rewrite the last results as"
   ]
  },
  {
   "cell_type": "markdown",
   "metadata": {},
   "source": [
    "$$\n",
    "\\begin{align*}\n",
    "\\exp{(\\omega t)} = & \\sum_{n=0}^{\\infty}\\frac{(\\omega t)^{n}}{(n)!}=1+\\omega t\\frac{(\\omega t)^{2}}{2!}+\\frac{(\\omega t)^{3}}{3!}+\\frac{(\\omega t)^{4}}{4!}+\\frac{(\\omega t)^{5}}{5!}+\\dots\\\\\n",
    "=& \\left(1-\\frac{(\\omega t)^{2}}{2!}+\\frac{(\\omega t)^{4}}{4!}-\\dots\\right)+\\left(\\omega t-\\frac{(\\omega t)^{3}}{3!}+\\frac{(\\omega t)^{5}}{5!}-\\dots\\right)\\\\\n",
    "= & \\cos{(\\omega t)}+\\imath\\sin{(\\omega t)}.\n",
    "\\end{align*}\n",
    "$$"
   ]
  },
  {
   "cell_type": "markdown",
   "metadata": {},
   "source": [
    "### 1d (3pt), solution:\n",
    "\n",
    "Show that $\\ln{(−1)} = \\imath\\pi$.\n",
    "\n",
    "Let $\\omega t = \\pi$, we get"
   ]
  },
  {
   "cell_type": "markdown",
   "metadata": {},
   "source": [
    "$$\n",
    "\\exp{(\\imath\\pi)}=\\cos{(\\pi)}+\\imath\\sin{(\\pi)}=-1.\n",
    "$$"
   ]
  },
  {
   "cell_type": "markdown",
   "metadata": {},
   "source": [
    "## Exercise 2 (10 pt), Vector algebra\n",
    "\n",
    "### 2a (4pt), solution\n",
    "\n",
    "One of the many uses of the scalar product is to find the angle\n",
    "between two given vectors. Find the angle between the vectors\n",
    "$\\boldsymbol{a}=(1,2,4)$ and $\\boldsymbol{b}=(4,2,1)$ by evaluating their scalar\n",
    "product.\n",
    "\n",
    "The vector product is given by"
   ]
  },
  {
   "cell_type": "markdown",
   "metadata": {},
   "source": [
    "$$\n",
    "\\boldsymbol{a}\\boldsymbol{b} = \\vert \\boldsymbol{a} \\vert \\vert \\boldsymbol{b} \\vert \\cos{\\theta_{ab}}.\n",
    "$$"
   ]
  },
  {
   "cell_type": "markdown",
   "metadata": {},
   "source": [
    "We have"
   ]
  },
  {
   "cell_type": "markdown",
   "metadata": {},
   "source": [
    "$$\n",
    "\\boldsymbol{a}^T\\boldsymbol{b} = 1\\dot 4 \\boldsymbol{e}_1\\boldsymbol{e}_1+ 2\\dot 2\\boldsymbol{e}_2\\boldsymbol{e}_2+ 4\\dot 1\\boldsymbol{e}_3\\boldsymbol{e}_3= 4+4+4=12,\n",
    "$$"
   ]
  },
  {
   "cell_type": "markdown",
   "metadata": {},
   "source": [
    "since $\\boldsymbol{e}_i\\boldsymbol{e}_i=1$ for our unit vectors, with $i=1,2,3$. Note also that the unit vectors are orthogonal, that is $\\boldsymbol{e}_i\\boldsymbol{e}_j=0$ if $i\\ne j$.\n",
    "The norm of $\\vert \\boldsymbol{a}\\vert^2 = 1+4+ 16=21$. The norm of $\\vert \\boldsymbol{b}\\vert^2 = 16+4+ 1=21$. This means we have"
   ]
  },
  {
   "cell_type": "markdown",
   "metadata": {},
   "source": [
    "$$\n",
    "12 = 21 \\cos{\\theta_{ab}},\n",
    "$$"
   ]
  },
  {
   "cell_type": "markdown",
   "metadata": {},
   "source": [
    "leading to $\\cos{\\theta_{ab}}=12/21$ and $\\theta_{ab}=0.9625$ rad, with $1$ rad being equal to $180/pi$. Thus we have   $\\theta_{ab}=55.15$ degrees.\n",
    "\n",
    "A small digression on linear algebra useful for python programming of vectors.\n",
    "We define the vectors as one-dimensional arrays meaning that we write\n",
    "$\\boldsymbol{a}^T=\\begin{bmatrix} 1 & 2 & 4\\end{bmatrix}$ and  $\\boldsymbol{b}^T=\\begin{bmatrix} 4 & 2 & 1\\end{bmatrix}$, where we use $T$ to indicate the transpose of a vector.\n",
    "\n",
    "We would then write the dot product as"
   ]
  },
  {
   "cell_type": "markdown",
   "metadata": {},
   "source": [
    "$$\n",
    "\\boldsymbol{a}^T\\boldsymbol{b}=\\begin{bmatrix} 1 & 2 & 4\\end{bmatrix}\\begin{bmatrix} 4 \\\\ 2 \\\\ 1\\end{bmatrix}=12.\n",
    "$$"
   ]
  },
  {
   "cell_type": "markdown",
   "metadata": {},
   "source": [
    "In Python we would code this as"
   ]
  },
  {
   "cell_type": "code",
   "execution_count": null,
   "metadata": {},
   "outputs": [],
   "source": [
    "# we import numpy and math functions\n",
    "import numpy as np\n",
    "from math import acos, sqrt, pi\n",
    "# Define a\n",
    "a =np.array([1,2,4])\n",
    "# Define b \n",
    "b =np.array([4,2,1])\n",
    "# to compute the dot products we use the dot function or the multiplication sign @\n",
    "norm_a = sqrt(np.dot(a,a))  # we could write it as a.T @ a or just a @ a\n",
    "# We will stick with the @ operator hereafter when we multiply vector or matrices\n",
    "norm_b = sqrt(b.T @ b)\n",
    "dot_ab = a.T @ b\n",
    "theta_ab = acos(dot_ab/(norm_a*norm_b))\n",
    "# convert to degrees\n",
    "print(theta_ab*180/pi)"
   ]
  },
  {
   "cell_type": "markdown",
   "metadata": {},
   "source": [
    "### 2b (6pt), solution\n",
    "\n",
    "For a cube with sides of length 1, one vertex at the origin, and sides\n",
    "along the $x$, $y$, and $z$ axes, the vector of the body diagonal from\n",
    "the origin can be written $\\boldsymbol{a}=(1, 1, 1)$ and the vector of the\n",
    "face diagonal in the $xy$ plane from the origin is\n",
    "$\\boldsymbol{b}=(1,1,0)$. Find first the lengths of the body diagonal and the\n",
    "face diagonal. Use then part (2a) to find the angle between the body\n",
    "diagonal and the face diagonal.\n",
    "\n",
    "The length of the body diagonal $\\vert\\boldsymbol{b}\\vert=\\sqrt{3}$ and the length of the face diagonal is $\\vert \\boldsymbol{f}\\vert = \\sqrt{2}$. From this we find"
   ]
  },
  {
   "cell_type": "markdown",
   "metadata": {},
   "source": [
    "$$\n",
    "\\boldsymbol{b}^T\\boldsymbol{f}=2=\\sqrt{2}\\sqrt{3}\\cos{\\theta_{bf}},\n",
    "$$"
   ]
  },
  {
   "cell_type": "markdown",
   "metadata": {},
   "source": [
    "leading to $\\cos{\\theta_{bf}}=\\sqrt{2}/\\sqrt{3}$ and $\\theta_{bf}=0.615$ rad or\n",
    "$\\theta_{bf}=35.3$ degrees.\n",
    "\n",
    "\n",
    "\n",
    "## Exercise 3 (10 pt), More vector mathematics\n",
    "\n",
    "### 3a (5pt), solution\n",
    "\n",
    "Show (using the fact that multiplication of reals is distributive)\n",
    "that $\\boldsymbol{a}(\\boldsymbol{b}+\\boldsymbol{c})=\\boldsymbol{a}\\boldsymbol{b}+\\boldsymbol{a}\\boldsymbol{c}$.\n",
    "\n",
    "Writing out the equations and keeping in mind that the norm of unit vectors is one, we have"
   ]
  },
  {
   "cell_type": "markdown",
   "metadata": {},
   "source": [
    "$$\n",
    "\\begin{align*}\n",
    "\\boldsymbol{a}(\\boldsymbol{b}+\\boldsymbol{c})=& a_1(b_1+c_1)+a_2(b_2+c_2)+a_3(b_3+c_3)\\\\\n",
    "=& (a_1b_1+a_1c_1)+(a_2b_2+a_2c_2)+(a_3b_3+a_3c_3)\\\\\n",
    "= & (a_1b_1+a_2b_2+a_3b_3)+(a_1c_1+a_2c_2+a_3c_3)\\\\\n",
    "= & \\boldsymbol{a}\\boldsymbol{b}+\\boldsymbol{a}\\boldsymbol{c}. \n",
    "\\end{align*}\n",
    "$$"
   ]
  },
  {
   "cell_type": "markdown",
   "metadata": {},
   "source": [
    "### 3b (5pt), solution\n",
    "\n",
    "Show that (using product rule for differentiating reals)\n",
    "$\\frac{d}{dt}(\\boldsymbol{a}\\boldsymbol{b})=\\boldsymbol{a}\\frac{d\\boldsymbol{b}}{dt}+\\boldsymbol{b}\\frac{d\\boldsymbol{a}}{dt}$."
   ]
  },
  {
   "cell_type": "markdown",
   "metadata": {},
   "source": [
    "$$\n",
    "\\begin{align*}\n",
    "\\frac{d}{dt}(\\boldsymbol{a}\\boldsymbol{b})=& \\frac{d}{dt}(a_1b_1+a_2b_2+a_3b_3)\\\\\n",
    "=& \\left(a_1\\frac{db_1}{dt}+\\frac{da_1}{dt}b_1\\right)+\\left(a_2\\frac{db_2}{dt}+\\frac{da_2}{dt}b_2\\right)+\\left(a_3\\frac{db_3}{dt}+\\frac{da_3}{dt}b_3\\right)\\\\\n",
    "= & \\left(a_1\\frac{db_1}{dt}+a_2\\frac{db_2}{dt}+a_3\\frac{db_3}{dt}\\right)+\\left(\\frac{da_1}{dt}b_1+\\frac{da_2}{dt}b_2+\\frac{da_3}{dt}b_3\\right)\\\\\n",
    "= & \\boldsymbol{a}\\frac{d\\boldsymbol{b}}{dt}+\\frac{d\\boldsymbol{a}}{dt}\\boldsymbol{c}. \n",
    "\\end{align*}\n",
    "$$"
   ]
  },
  {
   "cell_type": "markdown",
   "metadata": {},
   "source": [
    "## Exercise 4 (10 pt), Algebra of cross products\n",
    "\n",
    "[See the video made by Julie Butler](https://www.youtube.com/playlist?list=PLq9LZ5390Us41TX42XzOPIEPcbHaqX8Hx) for the solution of these two exercises.  A typed version here will be added asap.\n",
    "\n",
    "### 4a (5pt), solution\n",
    "\n",
    "Show that the cross products are distribuitive\n",
    "$\\boldsymbol{a}\\times(\\boldsymbol{b}+\\boldsymbol{c})=\\boldsymbol{a}\\times\\boldsymbol{b}+\\boldsymbol{a}\\times\\boldsymbol{c}$.\n",
    "\n",
    "### 4b (5pt), solution\n",
    "\n",
    "Show that\n",
    "$\\frac{d}{dt}(\\boldsymbol{a}\\times\\boldsymbol{b})=\\boldsymbol{a}\\times\\frac{d\\boldsymbol{b}}{dt}+\\boldsymbol{b}\\times\\frac{d\\boldsymbol{a}}{dt}$. Be\n",
    "careful with the order of factors\n",
    "\n",
    "\n",
    "## Exercise 5 (10 pt), Area of triangle and law of sines\n",
    "\n",
    "Exercise 1.18 in the textbook of Taylor, Classical Mechanics. Part\n",
    "(1.18a) gives 5pt and part (1.18b) gives also 5pt.\n",
    "\n",
    "### 5a (5pt), solution\n",
    "\n",
    "If we place the vertex $A$ at the origin and side $b$ along the $x$-axis, then the magnitude\n",
    "of the cross product $\\boldsymbol{b}\\times \\boldsymbol{c}$ gives"
   ]
  },
  {
   "cell_type": "markdown",
   "metadata": {},
   "source": [
    "$$\n",
    "\\vert \\boldsymbol{b}\\times \\boldsymbol{c}\\vert = \\vert b_xc_y-b_yc_x\\vert =\\vert b_xc_y-0\\dots c_x\\vert =b_xc_y,\n",
    "$$"
   ]
  },
  {
   "cell_type": "markdown",
   "metadata": {},
   "source": [
    "which is nothing but the magnitude of the base multiplied with the magnitude of the height.\n",
    "We recognize that $c_y$ is the height of the vertx $B$ above the $x$-axis. From this we get that the area is"
   ]
  },
  {
   "cell_type": "markdown",
   "metadata": {},
   "source": [
    "$$\n",
    "\\mathrm{area}=\\frac{1}{2}(\\mathrm{base})\\dot(\\mathrm{height})=\\frac{1}{2}\\vert \\boldsymbol{b}\\times \\boldsymbol{c}\\vert,\n",
    "$$"
   ]
  },
  {
   "cell_type": "markdown",
   "metadata": {},
   "source": [
    "which we were supposed to show.\n",
    "\n",
    "\n",
    "### 5b (5pt), solution\n",
    "\n",
    "From part 5a, using the formula for the magnitude of the cross product we have"
   ]
  },
  {
   "cell_type": "markdown",
   "metadata": {},
   "source": [
    "$$\n",
    "\\mathrm{area}=\\frac{1}{2}ab\\sin{\\gamma}=\\frac{1}{2}bc\\sin{\\alpha}=\\frac{1}{2}ca\\sin{\\beta},\n",
    "$$"
   ]
  },
  {
   "cell_type": "markdown",
   "metadata": {},
   "source": [
    "which leads to"
   ]
  },
  {
   "cell_type": "markdown",
   "metadata": {},
   "source": [
    "$$\n",
    "\\frac{abc}{2\\mathrm{area}}=    \\frac{c}{\\sin{\\gamma}}=\\frac{a}{\\sin{\\alpha}}=\\frac{b}{\\sin{\\beta}}.\n",
    "$$"
   ]
  },
  {
   "cell_type": "markdown",
   "metadata": {},
   "source": [
    "## Exercise 6 (10pt), Matrices and rotations in the $xy$ plane\n",
    "\n",
    "The rotation of a three-dimensional vector $\\boldsymbol{a}=(a_x,a_y,a_z)$ in\n",
    "the $xy$ plane around an angle $\\phi$ results in a new vector\n",
    "$\\boldsymbol{b}=(b_x,b_y,b_z)$.  This operation can be expressed in terms of\n",
    "linear algebra as a matrix (the rotation matrix) multiplied with a\n",
    "vector. We can write this as"
   ]
  },
  {
   "cell_type": "markdown",
   "metadata": {},
   "source": [
    "$$\n",
    "\\begin{bmatrix} b_x \\\\ b_y \\\\ b_z \\end{bmatrix} = \\begin{bmatrix} \\cos{\\phi} & \\sin{\\phi} & 0 \\\\ -\\sin{\\phi} & \\cos{\\phi} & 0 \\\\ 0 & 0 & 1\\end{bmatrix}\\begin{bmatrix} a_x \\\\ a_y \\\\ a_z \\end{bmatrix}.\n",
    "$$"
   ]
  },
  {
   "cell_type": "markdown",
   "metadata": {},
   "source": [
    "We can write this in a more compact form as $\\boldsymbol{b} = \\boldsymbol{R}\\boldsymbol{a}$,\n",
    "where the rotation matrix is defined as"
   ]
  },
  {
   "cell_type": "markdown",
   "metadata": {},
   "source": [
    "$$\n",
    "\\boldsymbol{R} = \\begin{bmatrix} \\cos{\\phi} & \\sin{\\phi} & 0 \\\\ -\\sin{\\phi} & \\cos{\\phi} & 0 \\\\ 0 & 0 & 1\\end{bmatrix}.\n",
    "$$"
   ]
  },
  {
   "cell_type": "markdown",
   "metadata": {},
   "source": [
    "### 6a (4pt), solution\n",
    "\n",
    "Find the transpose of the matrix $\\boldsymbol{R}$. We label this as $\\boldsymbol{R}^T$."
   ]
  },
  {
   "cell_type": "markdown",
   "metadata": {},
   "source": [
    "$$\n",
    "\\boldsymbol{R}^T=\\begin{bmatrix} \\cos{\\phi} & -\\sin{\\phi} & 0 \\\\ \\sin{\\phi} & \\cos{\\phi} & 0 \\\\ 0 & 0 & 1\\end{bmatrix}.\n",
    "$$"
   ]
  },
  {
   "cell_type": "markdown",
   "metadata": {},
   "source": [
    "### 6b (4pt), solution\n",
    "\n",
    "This matrix is a so-called unitary/orthogonal matrix.  Show that $\\boldsymbol{R}^T\\boldsymbol{R}= \\boldsymbol{I}$ where $\\boldsymbol{I}$ is the so-called identity matrix with ones only along the diagonal. How would you interpret this result? For example, are scalar products changed under this transformations?"
   ]
  },
  {
   "cell_type": "markdown",
   "metadata": {},
   "source": [
    "$$\n",
    "\\boldsymbol{R}^T\\boldsymbol{R}=\\begin{bmatrix} \\cos^2{\\phi}+\\sin^2{\\phi} & 0 & 0 \\\\ 0 & \\cos^2{\\phi}+\\sin^2{\\phi} & 0 \\\\ 0 & 0 & 1\\end{bmatrix}=\\begin{bmatrix} 1 & 0 & 0 \\\\ 0 & 1 & 0 \\\\ 0 & 0 & 1\\end{bmatrix}.\n",
    "$$"
   ]
  },
  {
   "cell_type": "markdown",
   "metadata": {},
   "source": [
    "This means that the dot product of a vector is unchanged under such a transformation. To see this consider a rotation"
   ]
  },
  {
   "cell_type": "markdown",
   "metadata": {},
   "source": [
    "$$\n",
    "\\boldsymbol{b}=\\boldsymbol{R}\\boldsymbol{a},\n",
    "$$"
   ]
  },
  {
   "cell_type": "markdown",
   "metadata": {},
   "source": [
    "and we have the dot product for any such vector given by"
   ]
  },
  {
   "cell_type": "markdown",
   "metadata": {},
   "source": [
    "$$\n",
    "\\boldsymbol{a}\\boldsymbol{a}=\\boldsymbol{a}^T\\boldsymbol{a}.\n",
    "$$"
   ]
  },
  {
   "cell_type": "markdown",
   "metadata": {},
   "source": [
    "Under such an orthorgonal transformation we have"
   ]
  },
  {
   "cell_type": "markdown",
   "metadata": {},
   "source": [
    "$$\n",
    "\\boldsymbol{b}^T\\boldsymbol{b}=(\\boldsymbol{R}\\boldsymbol{a})^T\\boldsymbol{R}\\boldsymbol{a}=\\boldsymbol{a}^T\\boldsymbol{R}^T\\boldsymbol{R}\\boldsymbol{a}=\\boldsymbol{a}^T\\boldsymbol{I}\\boldsymbol{a}=\\boldsymbol{a}^T\\boldsymbol{a}.\n",
    "$$"
   ]
  },
  {
   "cell_type": "markdown",
   "metadata": {},
   "source": [
    "The norm is conserved. Here the matrix $\\boldsymbol{I}$ is the identity matrix with only ones along the diagonal and zero else. \n",
    "\n",
    "### 6c (2pt), solution\n",
    "\n",
    "Find the matrix for rotating a coordinate system by $90$ degrees about the $x$-axis.\n",
    "\n",
    "The $x$-axis is now fixed, like the $z$-axis was held fixed in part\n",
    "6a. We are now rotating in the $yz$-plane and the matrix becomes"
   ]
  },
  {
   "cell_type": "markdown",
   "metadata": {},
   "source": [
    "$$\n",
    "\\boldsymbol{R} = \\begin{bmatrix}1 & 0 & \\\\ 0&  \\cos{\\phi} & \\sin{\\phi} \\\\ 0& -\\sin{\\phi} & \\cos{\\phi}\\end{bmatrix}.\n",
    "$$"
   ]
  },
  {
   "cell_type": "markdown",
   "metadata": {},
   "source": [
    "Inserting the value for the angle gives us"
   ]
  },
  {
   "cell_type": "markdown",
   "metadata": {},
   "source": [
    "$$\n",
    "\\boldsymbol{R} = \\begin{bmatrix}1 & 0 & \\\\ 0&  0 & 1 \\\\ 0& -1 & 0\\end{bmatrix}.\n",
    "$$"
   ]
  },
  {
   "cell_type": "markdown",
   "metadata": {},
   "source": [
    "## Exercise 7 (40pt), Numerical elements, getting started with some simple data\n",
    "\n",
    "\n",
    "Our first numerical attempt will involve reading data from file or\n",
    "just setting up two vectors, one for position and one for time. Our data are from \n",
    "[Usain Bolt's world record 100m during the olympic games in Beijing in\n",
    "2008](https://www.youtube.com/watch?v=93dC0o2aHto). The data show the time used in units of 10m (see below). Before we however\n",
    "venture into this, we need to repeat some basic Python syntax with an\n",
    "emphasis on\n",
    "\n",
    "* basic Python syntax for arrays\n",
    "\n",
    "* define and operate on vectors and matrices in Python\n",
    "\n",
    "* create plots for motion in 1D space\n",
    "\n",
    "For more information, see the [introductory slides](https://mhjensen.github.io/Physics321/doc/pub/week3/html/week3.html).\n",
    "Here are some of the basic packages we will be using this week"
   ]
  },
  {
   "cell_type": "code",
   "execution_count": 4,
   "metadata": {},
   "outputs": [],
   "source": [
    "%matplotlib inline\n",
    "\n",
    "import numpy as np \n",
    "import matplotlib.pyplot as plt\n",
    "%matplotlib inline"
   ]
  },
  {
   "cell_type": "markdown",
   "metadata": {},
   "source": [
    "The first exercise here deals with simply getting familiar with vectors and matrices.\n",
    "\n",
    "We will be working with vectors and matrices to get you familiar with them\n",
    "\n",
    "1. Initalize two three-dimensional $xyz$ vectors in the below cell using np.array([x,y,z]). Vectors are represented through arrays in python\n",
    "\n",
    "2. V1 should have x1=1, y1 =2, and z1=3. \n",
    "\n",
    "3. Vector 2 should have x2=4, y2=5,  and z2=6. \n",
    "\n",
    "4. Print both vectors to make sure your code is working properly."
   ]
  },
  {
   "cell_type": "code",
   "execution_count": 5,
   "metadata": {},
   "outputs": [
    {
     "name": "stdout",
     "output_type": "stream",
     "text": [
      "V1:  [1 2 3]\n",
      "V2:  [4 5 6]\n"
     ]
    }
   ],
   "source": [
    "V1 = np.array([1,2,3])\n",
    "V2 = np.array([4,5,6])\n",
    "print(\"V1: \", V1)\n",
    "print(\"V2: \", V2)"
   ]
  },
  {
   "cell_type": "markdown",
   "metadata": {},
   "source": [
    "If this is not too familiar, here's a useful link for creating vectors in python <https://docs.scipy.org/doc/numpy-1.13.0/user/basics.creation.html>. Alternatively, look up the [introductory slides](https://mhjensen.github.io/Physics321/doc/pub/Introduction/html/Introduction.html).\n",
    "\n",
    "Now lets do some basic mathematics with vectors.\n",
    "\n",
    "\n",
    "Compute and print the following, and double check with hand calculations:\n",
    "\n",
    "* 7a (2pt)  Calculate $\\boldsymbol{V}_1-\\boldsymbol{V}_2$.\n",
    "\n",
    "* 7b (2pt)  Calculate $\\boldsymbol{V}_2-\\boldsymbol{V}_1$.\n",
    "\n",
    "* 7c (2pt) Calculate the dot product $\\boldsymbol{V}_1\\boldsymbol{V}_2$.\n",
    "\n",
    "* 7d (2pt) Calculate the cross product $\\boldsymbol{V}_1\\times\\boldsymbol{V}_2$.\n",
    "\n",
    "Here is some useful explanation on numpy array operations if you feel a bit confused by what is happening, see <https://www.pluralsight.com/guides/overview-basic-numpy-operations>\n",
    "\n",
    "### 7a-7d, solutions\n",
    "\n",
    "The following code prints the first two exercises"
   ]
  },
  {
   "cell_type": "code",
   "execution_count": 6,
   "metadata": {},
   "outputs": [
    {
     "name": "stdout",
     "output_type": "stream",
     "text": [
      "[-3 -3 -3]\n",
      "[3 3 3]\n"
     ]
    }
   ],
   "source": [
    "print(V1-V2)\n",
    "print(V2-V1)"
   ]
  },
  {
   "cell_type": "markdown",
   "metadata": {},
   "source": [
    "For the dot product of V1 and V2 below we can use the **dot** function of **numpy** as follows"
   ]
  },
  {
   "cell_type": "code",
   "execution_count": 7,
   "metadata": {},
   "outputs": [
    {
     "name": "stdout",
     "output_type": "stream",
     "text": [
      "32\n"
     ]
    }
   ],
   "source": [
    "print(V1.dot(V2))"
   ]
  },
  {
   "cell_type": "markdown",
   "metadata": {},
   "source": [
    "Alternatively, and this is the way it is normally written in Python now, we have"
   ]
  },
  {
   "cell_type": "code",
   "execution_count": 8,
   "metadata": {},
   "outputs": [
    {
     "name": "stdout",
     "output_type": "stream",
     "text": [
      "32\n"
     ]
    }
   ],
   "source": [
    "print(V1 @ V2)"
   ]
  },
  {
   "cell_type": "markdown",
   "metadata": {},
   "source": [
    "A personal remark: I am not too fond of this notation!\n",
    "\n",
    "\n",
    "As a small challenge try to write your own function for the **dot** product of two vectors.\n",
    "\n",
    "Matrices can be created in a similar fashion in python.  In this\n",
    "language we can work with them through the package numpy (which we\n",
    "have already imported)"
   ]
  },
  {
   "cell_type": "code",
   "execution_count": 9,
   "metadata": {},
   "outputs": [],
   "source": [
    "M1 = np.matrix([[1,2,3],\n",
    "             [4,5,6],\n",
    "             [7,8,9]])\n",
    "M2 = np.matrix([[1,2],\n",
    "             [3,4],\n",
    "             [5,6]])\n",
    "M3 = np.matrix([[9,8,7],\n",
    "             [4,5,6],\n",
    "             [7,6,9]])"
   ]
  },
  {
   "cell_type": "markdown",
   "metadata": {},
   "source": [
    "Matrices can be added in the same way vectors are added in python as shown here"
   ]
  },
  {
   "cell_type": "code",
   "execution_count": 10,
   "metadata": {},
   "outputs": [
    {
     "name": "stdout",
     "output_type": "stream",
     "text": [
      "M1+M3:  [[10 10 10]\n",
      " [ 8 10 12]\n",
      " [14 14 18]]\n"
     ]
    }
   ],
   "source": [
    "print(\"M1+M3: \", M1+M3)"
   ]
  },
  {
   "cell_type": "markdown",
   "metadata": {},
   "source": [
    "What happens if we try to do $M1+M2$?\n",
    "\n",
    "### 7e (4pt), solution\n",
    "\n",
    "Let us go back to exercise 6. Define a vector $\\boldsymbol{a}=(1,0,0)$ and set\n",
    "the angle $\\phi$ in the rotation matrix (rotation in the $xy$ plane)\n",
    "to $45$ degrees. Set up the matrix $\\boldsymbol{R}$ and find the vector\n",
    "$\\boldsymbol{b}=\\boldsymbol{R}\\boldsymbol{a}$.\n",
    "\n",
    "\n",
    "\n",
    "To perform a matrix-vector multiplication of the above type, the following python code may be of use. Here we just define a random vector and a random $3\\times 3$ matrix"
   ]
  },
  {
   "cell_type": "code",
   "execution_count": 11,
   "metadata": {},
   "outputs": [
    {
     "name": "stdout",
     "output_type": "stream",
     "text": [
      "[0.81867824 0.28406944 0.45437467]\n",
      "[[0.22288246 0.19426914 0.10417717]\n",
      " [0.73292833 0.96080465 0.7557775 ]\n",
      " [0.54605804 0.14185577 0.4685337 ]]\n",
      "[0.28499041 1.21637386 0.70023257]\n"
     ]
    }
   ],
   "source": [
    "import numpy as np\n",
    "#We define a  3 dimensional vector with random numbers\n",
    "n = 3\n",
    "a = np.random.rand(n)\n",
    "# define a matrix of dimension 3 x 3 and set all elements to random numbers with x \\in [0, 1]\n",
    "R = np.random.rand(n, n)\n",
    "#print the vector and the matrix\n",
    "print(a)\n",
    "print(R)\n",
    "# perform a matrix-vector multiplication. Note that we need to transpose the vector and the odd way to indicate a multiplication with @\n",
    "b = R @ a.T\n",
    "print(b)"
   ]
  },
  {
   "cell_type": "markdown",
   "metadata": {},
   "source": [
    "The code which solves the problem of 7e can be written as"
   ]
  },
  {
   "cell_type": "code",
   "execution_count": 12,
   "metadata": {},
   "outputs": [
    {
     "name": "stdout",
     "output_type": "stream",
     "text": [
      "[1 0 0]\n",
      "[[ 0.70710678  0.70710678  0.        ]\n",
      " [-0.70710678  0.70710678  0.        ]\n",
      " [ 0.          0.          1.        ]]\n",
      "[ 0.70710678 -0.70710678  0.        ]\n"
     ]
    }
   ],
   "source": [
    "import numpy as np\n",
    "from math import sin, cos, pi\n",
    "#We define a  the vector a (3-dim)\n",
    "a = np.array([1,0,0])\n",
    "# define the angle in Radians\n",
    "phi = 45*pi/180.\n",
    "#define cos and sin\n",
    "c = cos(phi)\n",
    "s = sin(phi)\n",
    "# define a matrix of dimension 3 x 3 and set the elements\n",
    "R = np.array([[c, s, 0], [-s,c,0],[0,0,1]])\n",
    "#print the vector and the matrix\n",
    "print(a)\n",
    "print(R)\n",
    "# perform a matrix-vector multiplication. Note that we need to transpose the vector and the odd way to indicate a multiplication with @\n",
    "b = R @ a.T\n",
    "print(b)"
   ]
  },
  {
   "cell_type": "markdown",
   "metadata": {},
   "source": [
    "That's enough vectors and matrices for now. Let's move on to some physics problems! Yes, the actual subject we are studying for. \n",
    "\n",
    "We can opt for two different ways of handling the data. The data is listed in the table here and represents the total time Usain Bolt used in steps of  10 meters of distance. The label $i$ is just a counter and we start from zero since Python arrays are by default set from zero. The variable $t$ is time in seconds and $x$ is the position in meters.\n",
    "\n",
    "<table border=\"1\">\n",
    "<thead>\n",
    "<tr><th align=\"center\"> i  </th> <th align=\"center\"> 0  </th> <th align=\"center\"> 1  </th> <th align=\"center\"> 2  </th> <th align=\"center\"> 3  </th> <th align=\"center\"> 4  </th> <th align=\"center\"> 5  </th> <th align=\"center\"> 6  </th> <th align=\"center\"> 7  </th> <th align=\"center\"> 8  </th> <th align=\"center\"> 9  </th> </tr>\n",
    "</thead>\n",
    "<tbody>\n",
    "<tr><td align=\"center\">   x[m]    </td> <td align=\"center\">   10      </td> <td align=\"center\">   20      </td> <td align=\"center\">   30      </td> <td align=\"center\">   40      </td> <td align=\"center\">   50      </td> <td align=\"center\">   60      </td> <td align=\"center\">   70      </td> <td align=\"center\">   80      </td> <td align=\"center\">   90      </td> <td align=\"center\">   100     </td> </tr>\n",
    "<tr><td align=\"center\">   t[s]    </td> <td align=\"center\">   1.85    </td> <td align=\"center\">   2.87    </td> <td align=\"center\">   3.78    </td> <td align=\"center\">   4.65    </td> <td align=\"center\">   5.50    </td> <td align=\"center\">   6.32    </td> <td align=\"center\">   7.14    </td> <td align=\"center\">   7.96    </td> <td align=\"center\">   8.79    </td> <td align=\"center\">   9.69    </td> </tr>\n",
    "</tbody>\n",
    "</table>\n",
    "### 7f-7g (4pt)+(4pt), solution\n",
    "\n",
    "You can here make a file with the above data and read them in and set\n",
    "up two vectors, one for time and one for position. Alternatively, you\n",
    "can just set up these two vectors directly and define two vectors in\n",
    "your Python code.\n",
    "**Note** we add by hand the initial conditions with position and time set to zero!\n",
    "\n",
    "The following example code may help here. It plots the solution as well."
   ]
  },
  {
   "cell_type": "code",
   "execution_count": 13,
   "metadata": {},
   "outputs": [
    {
     "data": {
      "image/png": "[encoded data removed]",
      "text/plain": [
       "<Figure size 432x288 with 1 Axes>"
      ]
     },
     "metadata": {
      "needs_background": "light"
     },
     "output_type": "display_data"
    }
   ],
   "source": [
    "# we just initialize time and position\n",
    "x = np.array([0.0, 10.0, 20.0, 30.0, 40.0, 50.0, 60.0, 70.0, 80.0, 90.0, 100.0])\n",
    "t = np.array([0.0,1.85, 2.87, 3.78, 4.65, 5.50, 6.32, 7.14, 7.96, 8.79, 9.69])\n",
    "plt.plot(t,x, color='black')\n",
    "plt.xlabel(\"Time t[s]\")\n",
    "plt.ylabel(\"Position x[m]\")\n",
    "plt.title(\"Usain Bolt's world record run\")\n",
    "plt.show()"
   ]
  },
  {
   "cell_type": "markdown",
   "metadata": {},
   "source": [
    "### 7h (10pt), solution\n",
    "\n",
    "Compute thereafter the mean velocity for every interval $i$ and the total velocity (from $i=0$ to the given interval $i$) for each interval and plot these two quantities as function of time. Comment your results."
   ]
  },
  {
   "cell_type": "code",
   "execution_count": 23,
   "metadata": {},
   "outputs": [],
   "source": [
    "# Now we can compute the mean velocity using our data\n",
    "# We define first an array Vaverage\n",
    "n = np.size(t)\n",
    "Vaverage = np.zeros(n)\n",
    "TotalVaverage = np.zeros(n)\n",
    "for i in range(1,n):\n",
    "    Vaverage[i] = (x[i]-x[i-1])/(t[i]-t[i-1])\n",
    "    TotalVaverage[i] = (x[i]-x[0])/(t[i]-t[0])"
   ]
  },
  {
   "cell_type": "markdown",
   "metadata": {},
   "source": [
    "### 7i (10pt), solution\n",
    "\n",
    "Finally, compute and print and plot the mean velocities, total average velocity, acceleration for each interval and the total acceleration."
   ]
  },
  {
   "cell_type": "code",
   "execution_count": 24,
   "metadata": {},
   "outputs": [
    {
     "data": {
      "text/html": [
       "<div>\n",
       "<style scoped>\n",
       "    .dataframe tbody tr th:only-of-type {\n",
       "        vertical-align: middle;\n",
       "    }\n",
       "\n",
       "    .dataframe tbody tr th {\n",
       "        vertical-align: top;\n",
       "    }\n",
       "\n",
       "    .dataframe thead th {\n",
       "        text-align: right;\n",
       "    }\n",
       "</style>\n",
       "<table border=\"1\" class=\"dataframe\">\n",
       "  <thead>\n",
       "    <tr style=\"text-align: right;\">\n",
       "      <th></th>\n",
       "      <th>t[s]</th>\n",
       "      <th>x[m]</th>\n",
       "      <th>v[m/s]</th>\n",
       "      <th>Totvaver[m/s]</th>\n",
       "      <th>a[m/s^2]</th>\n",
       "      <th>TotAaver[m/s]</th>\n",
       "    </tr>\n",
       "  </thead>\n",
       "  <tbody>\n",
       "    <tr>\n",
       "      <th>0</th>\n",
       "      <td>0.00</td>\n",
       "      <td>0.0</td>\n",
       "      <td>0.000000</td>\n",
       "      <td>0.000000</td>\n",
       "      <td>0.000000e+00</td>\n",
       "      <td>0.000000</td>\n",
       "    </tr>\n",
       "    <tr>\n",
       "      <th>1</th>\n",
       "      <td>1.85</td>\n",
       "      <td>10.0</td>\n",
       "      <td>5.405405</td>\n",
       "      <td>5.405405</td>\n",
       "      <td>2.921841e+00</td>\n",
       "      <td>2.921841</td>\n",
       "    </tr>\n",
       "    <tr>\n",
       "      <th>2</th>\n",
       "      <td>2.87</td>\n",
       "      <td>20.0</td>\n",
       "      <td>9.803922</td>\n",
       "      <td>6.968641</td>\n",
       "      <td>4.312271e+00</td>\n",
       "      <td>3.416001</td>\n",
       "    </tr>\n",
       "    <tr>\n",
       "      <th>3</th>\n",
       "      <td>3.78</td>\n",
       "      <td>30.0</td>\n",
       "      <td>10.989011</td>\n",
       "      <td>7.936508</td>\n",
       "      <td>1.302296e+00</td>\n",
       "      <td>2.907146</td>\n",
       "    </tr>\n",
       "    <tr>\n",
       "      <th>4</th>\n",
       "      <td>4.65</td>\n",
       "      <td>40.0</td>\n",
       "      <td>11.494253</td>\n",
       "      <td>8.602151</td>\n",
       "      <td>5.807378e-01</td>\n",
       "      <td>2.471882</td>\n",
       "    </tr>\n",
       "    <tr>\n",
       "      <th>5</th>\n",
       "      <td>5.50</td>\n",
       "      <td>50.0</td>\n",
       "      <td>11.764706</td>\n",
       "      <td>9.090909</td>\n",
       "      <td>3.181800e-01</td>\n",
       "      <td>2.139037</td>\n",
       "    </tr>\n",
       "    <tr>\n",
       "      <th>6</th>\n",
       "      <td>6.32</td>\n",
       "      <td>60.0</td>\n",
       "      <td>12.195122</td>\n",
       "      <td>9.493671</td>\n",
       "      <td>5.248976e-01</td>\n",
       "      <td>1.929608</td>\n",
       "    </tr>\n",
       "    <tr>\n",
       "      <th>7</th>\n",
       "      <td>7.14</td>\n",
       "      <td>70.0</td>\n",
       "      <td>12.195122</td>\n",
       "      <td>9.803922</td>\n",
       "      <td>1.516402e-14</td>\n",
       "      <td>1.708000</td>\n",
       "    </tr>\n",
       "    <tr>\n",
       "      <th>8</th>\n",
       "      <td>7.96</td>\n",
       "      <td>80.0</td>\n",
       "      <td>12.195122</td>\n",
       "      <td>10.050251</td>\n",
       "      <td>-1.516402e-14</td>\n",
       "      <td>1.532050</td>\n",
       "    </tr>\n",
       "    <tr>\n",
       "      <th>9</th>\n",
       "      <td>8.79</td>\n",
       "      <td>90.0</td>\n",
       "      <td>12.048193</td>\n",
       "      <td>10.238908</td>\n",
       "      <td>-1.770231e-01</td>\n",
       "      <td>1.370670</td>\n",
       "    </tr>\n",
       "    <tr>\n",
       "      <th>10</th>\n",
       "      <td>9.69</td>\n",
       "      <td>100.0</td>\n",
       "      <td>11.111111</td>\n",
       "      <td>10.319917</td>\n",
       "      <td>-1.041202e+00</td>\n",
       "      <td>1.146657</td>\n",
       "    </tr>\n",
       "  </tbody>\n",
       "</table>\n",
       "</div>"
      ],
      "text/plain": [
       "    t[s]   x[m]     v[m/s]  Totvaver[m/s]      a[m/s^2]  TotAaver[m/s]\n",
       "0   0.00    0.0   0.000000       0.000000  0.000000e+00       0.000000\n",
       "1   1.85   10.0   5.405405       5.405405  2.921841e+00       2.921841\n",
       "2   2.87   20.0   9.803922       6.968641  4.312271e+00       3.416001\n",
       "3   3.78   30.0  10.989011       7.936508  1.302296e+00       2.907146\n",
       "4   4.65   40.0  11.494253       8.602151  5.807378e-01       2.471882\n",
       "5   5.50   50.0  11.764706       9.090909  3.181800e-01       2.139037\n",
       "6   6.32   60.0  12.195122       9.493671  5.248976e-01       1.929608\n",
       "7   7.14   70.0  12.195122       9.803922  1.516402e-14       1.708000\n",
       "8   7.96   80.0  12.195122      10.050251 -1.516402e-14       1.532050\n",
       "9   8.79   90.0  12.048193      10.238908 -1.770231e-01       1.370670\n",
       "10  9.69  100.0  11.111111      10.319917 -1.041202e+00       1.146657"
      ]
     },
     "metadata": {},
     "output_type": "display_data"
    }
   ],
   "source": [
    "import pandas as pd\n",
    "#Now we can compute the mean acceleration using our data\n",
    "# We define first an array Aaverage\n",
    "n = np.size(t)\n",
    "Aaverage = np.zeros(n)\n",
    "Aaverage[0] = 0\n",
    "TotalAaverage = np.zeros(n)\n",
    "for i in range(1,n):\n",
    "    Aaverage[i] = (Vaverage[i]-Vaverage[i-1])/(t[i]-t[i-1])\n",
    "    TotalAaverage[i] = (Vaverage[i]-Vaverage[0])/(t[i]-t[0])\n",
    "data = {'t[s]': t,\n",
    "        'x[m]': x,\n",
    "        'v[m/s]': Vaverage,\n",
    "\t   'Totvaver[m/s]': TotalVaverage,\n",
    "        'a[m/s^2]': Aaverage,\n",
    "\t   'TotAaver[m/s]': TotalAaverage\n",
    "        }\n",
    "NewData = pd.DataFrame(data)\n",
    "display(NewData[0:n])"
   ]
  },
  {
   "cell_type": "markdown",
   "metadata": {},
   "source": [
    "We see clearly from this table that the average velocity increases\n",
    "till approximately 60m. Then it is constant for another 20 meters\n",
    "before it starts to decrease. The average accelaration increases till\n",
    "he has reached the first 20 meters, then it starts decreasing. After 80\n",
    "meters we see clearly that he starts to slow down since the acceleration\n",
    "becomes negative.\n",
    "\n",
    "After $100$m we note also that the total average velocity is\n",
    "approximately 10.32 m/s and the total average acceleration is\n",
    "decreasing from its peak around 20m.\n",
    "\n",
    "The interesting question is how quickly Usain Bolt\n",
    "could have run if he had not slowed down during the last 20 meters. Can you find this\n",
    "based on the present analysis, that is the above table? Assume he kept\n",
    "a constant velocity like the one he had from 60m to 80m. How fast\n",
    "could he have run if he had kept the same velocity till he reached\n",
    "100m?"
   ]
  }
 ],
 "metadata": {
  "kernelspec": {
   "display_name": "Python 3",
   "language": "python",
   "name": "python3"
  },
  "language_info": {
   "codemirror_mode": {
    "name": "ipython",
    "version": 3
   },
   "file_extension": ".py",
   "mimetype": "text/x-python",
   "name": "python",
   "nbconvert_exporter": "python",
   "pygments_lexer": "ipython3",
   "version": "3.6.8"
  }
 },
 "nbformat": 4,
 "nbformat_minor": 4
}
