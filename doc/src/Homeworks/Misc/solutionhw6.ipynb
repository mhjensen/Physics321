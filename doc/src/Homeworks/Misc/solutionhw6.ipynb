{
 "cells": [
  {
   "cell_type": "markdown",
   "metadata": {},
   "source": [
    "<!-- dom:TITLE: PHY321: Classical Mechanics 1 -->\n",
    "# PHY321: Classical Mechanics 1\n",
    "<!-- dom:AUTHOR: Solution Homework 6, due March 1 -->\n",
    "<!-- Author: -->  \n",
    "**Solution Homework 6, due March 1**\n",
    "\n",
    "Date: **Mar 3, 2021**\n",
    "\n",
    "### Exercise 1 (40pt) Summary of course\n",
    "\n",
    "This was meant as your personal summary of what we have done till now.\n",
    "One possible solution is the illustration made by Julie, also at the\n",
    "end of every chapter of Taylor's textbook, you will find excellent\n",
    "summaries of what we have covered till now.\n",
    "\n",
    "\n",
    "\n",
    "\n",
    "\n",
    "### Exercise 2 (10 pt), Conservative forces\n",
    "\n",
    "Which of the following force are conservative?  All three forces depend only on $\\boldsymbol{r}$ and satisfy the first condition for being conservative.\n",
    "* 2a (2pt) $\\boldsymbol{F}=k(x\\boldsymbol{i}+2y\\boldsymbol{j}+3z\\boldsymbol{k})$ where $k$ is a constant.\n",
    "\n",
    "The **curl** is zero and the force is conservative.  The potential energy is upon integration $V(x)=-k(1/2x^2+y^2+3/2z^2)$. Taking the derivative shows that this is indeed the case since it gives back the force.\n",
    "* 2b (2pt) $\\boldsymbol{F}=y\\boldsymbol{i}+x\\boldsymbol{j}+0\\boldsymbol{k}$. \n",
    "\n",
    "This force is also conservative since it depends only on the coordinates and its curl is zero. To find the potential energy, since the integral is path independent, we can choose to integrate along any direction. The simplest is start from $x=0$ as origin and follow a path along the $x$-axis (which gives zero) and then parallel to the $y$-axis, which results in $V(x,y) = -xy$. Taking the derivative with respect to $x$ and $y$ gives us back the expression for the force.\n",
    "\n",
    "* 2c (2pt) $\\boldsymbol{F}=k(-y\\boldsymbol{i}+x\\boldsymbol{j}+0\\boldsymbol{k})$ where $k$ is a constant.\n",
    "\n",
    "Here the **curl** is $(0,0,2)$ and the force is not conservative.\n",
    "\n",
    "* 2d (4pt) For those which are conservative, find the corresponding potential energy $V$ and verify that direct differentiation that $\\boldsymbol{F}=-\\boldsymbol{\\nabla} V$.\n",
    "\n",
    "See the answers to each exercise above.\n",
    "\n",
    "### Exercise 3 (10 pt), The Lennard-Jones potential\n",
    "\n",
    "[The Lennard-Jones potential](https://en.wikipedia.org/wiki/Lennard-Jones_potential) is often used to describe\n",
    "the interaction between two atoms or ions or molecules. If you end up doing materals science and molecular dynamics calculations, it is very likely that you will encounter this potential model.\n",
    "The expression for the potential energy is"
   ]
  },
  {
   "cell_type": "markdown",
   "metadata": {},
   "source": [
    "$$\n",
    "V(r) = V_0\\left((\\frac{a}{r})^{12}-(\\frac{b}{r})^{6}\\right),\n",
    "$$"
   ]
  },
  {
   "cell_type": "markdown",
   "metadata": {},
   "source": [
    "where $V_0$, $a$ and $b$ are constants and the potential depends only on the relative distance between two objects\n",
    "$i$ and $j$, that is $r=\\vert\\vert\\boldsymbol{r}_i-\\boldsymbol{r}_j\\vert\\vert=\\sqrt{(x_i-x_j)^2+(y_i-y_j)^2+(z_i-z_j)^2}$.\n",
    "\n",
    "* 3a (3pt) Sketch/plot the potential (choose some values for the constants in doing so).\n",
    "\n",
    "The following Python code plots the potential"
   ]
  },
  {
   "cell_type": "code",
   "execution_count": null,
   "metadata": {},
   "outputs": [],
   "source": [
    "%matplotlib inline\n",
    "\n",
    "# Common imports\n",
    "import numpy as np\n",
    "from math import *\n",
    "import matplotlib.pyplot as plt\n",
    "\n",
    "Deltar = 0.01\n",
    "#set up arrays\n",
    "rinitial = 1.8\n",
    "rfinal = 3.\n",
    "n = ceil((rfinal-rinitial)/Deltar)\n",
    "r = np.zeros(n)\n",
    "for i in range(n):\n",
    "    r[i] = rinitial+i*Deltar\n",
    "V = np.zeros(n)\n",
    "# Initial conditions as compact 2-dimensional arrays\n",
    "a = 2.0\n",
    "b = 2.0\n",
    "V0 = 10.0\n",
    "V = V0*((a/r)**(12)-(b/r)**6)\n",
    "# Plot position as function of time    \n",
    "fig, ax = plt.subplots()\n",
    "#ax.set_xlim(0, tfinal)\n",
    "ax.set_ylabel('V')\n",
    "ax.set_xlabel('r')\n",
    "ax.plot(r, V)\n",
    "fig.tight_layout()\n",
    "plt.show()"
   ]
  },
  {
   "cell_type": "markdown",
   "metadata": {},
   "source": [
    "* 3b (3pt) Find and classify the equilibrium points.\n",
    "\n",
    "Here there is  only one equilibrium point when we take the derivative of the potential with respect to the relative distance.\n",
    "\n",
    "The derivative with respect to $r$, the relative distance, is"
   ]
  },
  {
   "cell_type": "markdown",
   "metadata": {},
   "source": [
    "$$\n",
    "\\frac{dV}{dr} = -6V_0\\left(2\\frac{a^{12}}{r^{13}}-\\frac{b^6}{r^7}\\right),\n",
    "$$"
   ]
  },
  {
   "cell_type": "markdown",
   "metadata": {},
   "source": [
    "and this is zero when"
   ]
  },
  {
   "cell_type": "markdown",
   "metadata": {},
   "source": [
    "$$\n",
    "r = 2^{1/6}\\frac{a^2}{b}.\n",
    "$$"
   ]
  },
  {
   "cell_type": "markdown",
   "metadata": {},
   "source": [
    "If we choose $a=2$ and $b=2$ then $r=2\\times 2^{1/6}$. Since the second derivative is positive for all $r$ for our choices of $a$ and $b$  (convince yourself about  this), then this value of $r$ has to correspond to a minimum of the potential. This agrees with our graph from the figure above (run the code to produce the figure). \n",
    "\n",
    "* 3c (4pt) What is the force acting on one of the objects (an atom for example) from the other object? Is this a conservative force?\n",
    "\n",
    "From the previous exercise we have"
   ]
  },
  {
   "cell_type": "markdown",
   "metadata": {},
   "source": [
    "$$\n",
    "\\frac{dV}{dr} = -6V_0\\left(2\\frac{a^{12}}{r^{13}}-\\frac{b^6}{r^7}\\right).\n",
    "$$"
   ]
  },
  {
   "cell_type": "markdown",
   "metadata": {},
   "source": [
    "We need the gradient and since the force on particle $i$ is given by $\\boldsymbol{F}_i=\\boldsymbol{\\nabla}_i V(\\boldsymbol{r}_i-\\boldsymbol{r}_j)$, we obtain"
   ]
  },
  {
   "cell_type": "markdown",
   "metadata": {},
   "source": [
    "$$\n",
    "\\boldsymbol{F}_i=6V_0\\left(2(\\frac{a}{\\vert\\vert\\boldsymbol{r}_i-\\boldsymbol{r}_j\\vert\\vert})^{12}-(\\frac{b}{\\vert\\vert\\boldsymbol{r}_i-\\boldsymbol{r}_j\\vert\\vert})^6\\right)\\frac{\\boldsymbol{r}_i-\\boldsymbol{r}_j}{\\vert\\vert\\boldsymbol{r}_i-\\boldsymbol{r}_j\\vert\\vert^2}.\n",
    "$$"
   ]
  },
  {
   "cell_type": "markdown",
   "metadata": {},
   "source": [
    "Here $r = \\vert\\vert \\boldsymbol{r}_i-\\boldsymbol{r}_j\\vert \\vert$.\n",
    "If we have more than two particles, we need to sum over all other particles $j$. We have thus to introduce a sum over all particles $N$. \n",
    "The force on particle $i$ at position $\\boldsymbol{r}_i$ from all particles  $j$ at their positions $\\boldsymbol{r}_j$ results in the equation of motion (note that we have divided by the mass $m$ here)"
   ]
  },
  {
   "cell_type": "markdown",
   "metadata": {},
   "source": [
    "$$\n",
    "\\boldsymbol{a}_i=\\frac{d^2\\boldsymbol{r}_i}{dt^2} = \\frac{6V_0}{m} \\sum_{j \\neq i}^{N}\\left(2(\\frac{a}{\\vert\\vert\\boldsymbol{r}_i-\\boldsymbol{r}_j\\vert\\vert})^{12}-(\\frac{b}{\\vert\\vert\\boldsymbol{r}_i-\\boldsymbol{r}_j\\vert\\vert})^6\\right)\\frac{\\boldsymbol{r}_i-\\boldsymbol{r}_j}{\\vert\\vert\\boldsymbol{r}_i-\\boldsymbol{r}_j\\vert\\vert^2}.\n",
    "$$"
   ]
  },
  {
   "cell_type": "markdown",
   "metadata": {},
   "source": [
    "This is also a conservative force, with zero **curl** as well. \n",
    "\n",
    "### Exercise 4 (10 pt), particle in a new potential\n",
    "\n",
    "Relevant reading here is Taylor chapter 5 and the lecture notes on oscillations. Similalry, Taylor section 4.8 and Malthe-Sørenssen section 11.3 on the potential surfaces are of relevance here.\n",
    "\n",
    "Consider a particle of mass $m$ moving in a one-dimensional potential,"
   ]
  },
  {
   "cell_type": "markdown",
   "metadata": {},
   "source": [
    "$$\n",
    "V(x)=-\\alpha\\frac{x^2}{2}+\\beta\\frac{x^4}{4}.\n",
    "$$"
   ]
  },
  {
   "cell_type": "markdown",
   "metadata": {},
   "source": [
    "* 4a (3pt) Plot the potential and discuss eventual equilibrium points. Is this a conservative force?\n",
    "\n",
    "The following Python code gives a plot of potential"
   ]
  },
  {
   "cell_type": "code",
   "execution_count": null,
   "metadata": {},
   "outputs": [],
   "source": [
    "# Common imports\n",
    "import numpy as np\n",
    "from math import *\n",
    "import matplotlib.pyplot as plt\n",
    "\n",
    "Deltax = 0.01\n",
    "#set up arrays\n",
    "xinitial = -2.0\n",
    "xfinal = 2.0 \n",
    "n = ceil((xfinal-xinitial)/Deltax)\n",
    "x = np.zeros(n)\n",
    "for i in range(n):\n",
    "    x[i] = xinitial+i*Deltax\n",
    "V = np.zeros(n)\n",
    "# Initial conditions as compact 2-dimensional arrays\n",
    "alpha = 0.81\n",
    "beta = 0.5\n",
    "print(sqrt(alpha/beta))\n",
    "V = -alpha*x*x*0.5 + beta*(x**4)*0.25\n",
    "# Plot position as function of time    \n",
    "fig, ax = plt.subplots()\n",
    "#ax.set_xlim(0, tfinal)\n",
    "ax.set_xlabel('x')\n",
    "ax.set_ylabel('V[s]')\n",
    "ax.plot(x, V)\n",
    "fig.tight_layout()\n",
    "plt.show()"
   ]
  },
  {
   "cell_type": "markdown",
   "metadata": {},
   "source": [
    "Here we have chosen $\\alpha=0.81$ and $\\beta=0.5$. Taking the derivative of $V$ with respect to $x$ gives two minima (and it is easy to see here that the second derivative is positive) at $x\\pm\\sqrt{\\alpha/\\beta}$ and a maximum at $x=0$. The derivative is"
   ]
  },
  {
   "cell_type": "markdown",
   "metadata": {},
   "source": [
    "$$\n",
    "\\frac{dV}{dx} = -\\alpha x + \\beta x^3,\n",
    "$$"
   ]
  },
  {
   "cell_type": "markdown",
   "metadata": {},
   "source": [
    "which gives when we require that it should equal zero the above values. As we can see from the plot (run the above Python code), we have two so-called stable equilibrium points (where the potential has its minima) and an unstable equilibrium point.\n",
    "\n",
    "The force is conservative since it depends only on $x$ and has a **curl** which is zero.\n",
    "\n",
    "* 4b (3pt) Compute the second derivative of the potential and find its miminum position(s). Using the Taylor expansion of the potential around its minimum (see Taylor section 5.1) to define a spring constant $k$. Use the spring constant to find the natural (angular) frequency $\\omega_0=\\sqrt{k/m}$. We call the new spring constant for  an effective spring constant.\n",
    "\n",
    "In the solution to the previous exercise we listed the values where the derivatives of the potential are zero.\n",
    "Taking the second derivatives we have that"
   ]
  },
  {
   "cell_type": "markdown",
   "metadata": {},
   "source": [
    "$$\n",
    "\\frac{d^2V}{dx^2} = -\\alpha  + 3\\beta x^2,\n",
    "$$"
   ]
  },
  {
   "cell_type": "markdown",
   "metadata": {},
   "source": [
    "and for $\\alpha,\\beta > 0$ (we assume they are positive constants) we see that when $x=0$ that the \n",
    "the second derivative is negative, which means this is a maximum. For $x=\\pm\\sqrt{\\alpha/\\beta}$ we see that the second derivative is positive. Thus these points correspond to two minima.\n",
    "\n",
    "Assume now we Taylor-expand the potential around one of these minima, say $x_{\\mathrm{min}}=\\sqrt{\\alpha/\\beta}$. We have thus"
   ]
  },
  {
   "cell_type": "markdown",
   "metadata": {},
   "source": [
    "$$\n",
    "V(x) = V(x_{\\mathrm{min}})+(x-x_{\\mathrm{min}})\\frac{dV}{dx}\\vert_{x_{\\mathrm{min}}}+\\frac{1}{2}(x-x_{\\mathrm{min}})^2\\frac{d^2V}{dx^2}\\vert_{x_{\\mathrm{min}}}+\\dots\n",
    "$$"
   ]
  },
  {
   "cell_type": "markdown",
   "metadata": {},
   "source": [
    "Since we are at point where the first derivative is zero and inserting the value for the second derivative of $V$, keeping only terms up to the second derivative and finally taking the derivative with respect to $x$, we find the expression for the force"
   ]
  },
  {
   "cell_type": "markdown",
   "metadata": {},
   "source": [
    "$$\n",
    "F(x) = -(x-x_{\\mathrm{min}})\\frac{d^2V}{dx^2}\\vert_{x_{\\mathrm{min}}},\n",
    "$$"
   ]
  },
  {
   "cell_type": "markdown",
   "metadata": {},
   "source": [
    "and setting in the expression for the second derivative at the minimum we find"
   ]
  },
  {
   "cell_type": "markdown",
   "metadata": {},
   "source": [
    "$$\n",
    "F(x) = -2\\alpha(x-\\sqrt{\\frac{\\alpha}{\\beta}}).\n",
    "$$"
   ]
  },
  {
   "cell_type": "markdown",
   "metadata": {},
   "source": [
    "Thus our effective spring constant $k=2\\alpha$.\n",
    "\n",
    "* 4c (4pt) We ignore the second term in the potential energy and keep only the term proportional to the effective spring constant, that is a force $F\\propto kx$. Find the acceleration and set up the differential equation.  Find the general analytical solution for these harmonic oscillations.  You don't need to find the constants in the general solution.\n",
    "\n",
    "Here we simplify our force by rescaling our zeroth point so that we have a force (setting $x_{\\mathrm{min}}=0$)"
   ]
  },
  {
   "cell_type": "markdown",
   "metadata": {},
   "source": [
    "$$\n",
    "F(x) = -kx,\n",
    "$$"
   ]
  },
  {
   "cell_type": "markdown",
   "metadata": {},
   "source": [
    "with $k=2\\alpha$. Defining a natural frequency $\\omega_0 = \\sqrt{k/m}$, where $m$ is the mass of our particle, we have the following equation of motion"
   ]
  },
  {
   "cell_type": "markdown",
   "metadata": {},
   "source": [
    "$$\n",
    "\\frac{d^2x}{dt^2}=-\\omega_0^2x,\n",
    "$$"
   ]
  },
  {
   "cell_type": "markdown",
   "metadata": {},
   "source": [
    "which has as analytical solution $x(t)=A\\cos{(\\omega_0t)}+B\\sin{(\\omega_0t)}$ and velocity\n",
    "$x(t)=-\\omega_0A\\sin{(\\omega_0t)}+\\omega_0B\\cos{(\\omega_0t)}$. The initial conditions are used to define $A$ and $B$.\n",
    "\n",
    "\n",
    "\n",
    "\n",
    "\n",
    "### Exercise 5 (40pt), Testing Energy conservation\n",
    "\n",
    "* 5a, See Taylor chapter 4.4\n",
    "\n",
    "## Code Example with Euler's Method\n",
    "\n",
    "The code here implements Euler's method for the Earth-Sun system using\n",
    "a more compact way of representing the vectors. Alternatively, you\n",
    "could have spelled out all the variables $v_x$, $v_y$, $x$ and $y$ as\n",
    "one-dimensional arrays.  It tests conservation of potential and\n",
    "kinetic energy as functions of time, in addition to the total energy,\n",
    "again as function of time\n",
    "\n",
    "**Note**: in all codes we have used scaled equations so that the gravitational constant times the mass of the sum is given by $4\\pi^2$ and the mass of the earth is set to **one** in the calculations of kinetic and potential energies. Else, we would get very large results."
   ]
  },
  {
   "cell_type": "code",
   "execution_count": 1,
   "metadata": {},
   "outputs": [
    {
     "data": {
      "image/png": "[encoded data removed]",
      "text/plain": [
       "<Figure size 432x288 with 3 Axes>"
      ]
     },
     "metadata": {
      "needs_background": "light"
     },
     "output_type": "display_data"
    }
   ],
   "source": [
    "# Common imports\n",
    "import numpy as np\n",
    "import pandas as pd\n",
    "from math import *\n",
    "import matplotlib.pyplot as plt\n",
    "import os\n",
    "\n",
    "# Where to save the figures and data files\n",
    "PROJECT_ROOT_DIR = \"Results\"\n",
    "FIGURE_ID = \"Results/FigureFiles\"\n",
    "DATA_ID = \"DataFiles/\"\n",
    "\n",
    "if not os.path.exists(PROJECT_ROOT_DIR):\n",
    "    os.mkdir(PROJECT_ROOT_DIR)\n",
    "\n",
    "if not os.path.exists(FIGURE_ID):\n",
    "    os.makedirs(FIGURE_ID)\n",
    "\n",
    "if not os.path.exists(DATA_ID):\n",
    "    os.makedirs(DATA_ID)\n",
    "\n",
    "def image_path(fig_id):\n",
    "    return os.path.join(FIGURE_ID, fig_id)\n",
    "\n",
    "def data_path(dat_id):\n",
    "    return os.path.join(DATA_ID, dat_id)\n",
    "\n",
    "def save_fig(fig_id):\n",
    "    plt.savefig(image_path(fig_id) + \".png\", format='png')\n",
    "\n",
    "# Initial values, time step, positions and velocites\n",
    "\n",
    "DeltaT = 0.0001\n",
    "#set up arrays \n",
    "tfinal = 100 # in years\n",
    "n = ceil(tfinal/DeltaT)\n",
    "# set up arrays for t, a, v, and x\n",
    "t = np.zeros(n)\n",
    "v = np.zeros((n,2))\n",
    "r = np.zeros((n,2))\n",
    "\n",
    "# setting up the kinetic, potential and total energy, note only functions of time\n",
    "EKinetic = np.zeros(n)\n",
    "EPotential = np.zeros(n)\n",
    "ETotal = np.zeros(n)\n",
    "\n",
    "# Initial conditions as compact 2-dimensional arrays\n",
    "\n",
    "\n",
    "r0 = np.array([1.0,0.0])\n",
    "v0 = np.array([0.0,2*pi])\n",
    "r[0] = r0\n",
    "v[0] = v0\n",
    "Fourpi2 = 4*pi*pi\n",
    "# Setting up variables for the calculation of energies\n",
    "#  distance that defines rabs in potential energy\n",
    "rabs0 = sqrt(sum(r[0]*r[0]))\n",
    "#  Initial kinetic energy. Note that we skip the mass of the Earth here, that is MassEarth=1 in all codes\n",
    "EKinetic[0] = 0.5*sum(v0*v0)\n",
    "#  Initial potential energy  (note negative sign, why?)\n",
    "EPotential[0] = -4*pi*pi/rabs0\n",
    "#  Initial total energy \n",
    "ETotal[0] = EPotential[0]+EKinetic[0]\n",
    "# Start integrating using Euler's method\n",
    "for i in range(n-1):\n",
    "    # Set up the acceleration\n",
    "    # Here you could have defined your own function for this\n",
    "    rabs = sqrt(sum(r[i]*r[i]))\n",
    "    a =  -Fourpi2*r[i]/(rabs**3)\n",
    "    # update Energies, velocity, time and position using Euler's forward method\n",
    "    v[i+1] = v[i] + DeltaT*a\n",
    "    r[i+1] = r[i] + DeltaT*v[i]\n",
    "    t[i+1] = t[i] + DeltaT\n",
    "    EKinetic[i+1] = 0.5*sum(v[i+1]*v[i+1])\n",
    "    EPotential[i+1] = -4*pi*pi/sqrt(sum(r[i+1]*r[i+1]))\n",
    "    ETotal[i+1] = EPotential[i+1]+EKinetic[i+1]\n",
    "# Plot energies as functions of time    \n",
    "\n",
    "fig, axs = plt.subplots(3, 1)\n",
    "axs[0].plot(t, EKinetic)\n",
    "axs[0].set_xlim(0, tfinal)\n",
    "axs[0].set_ylabel('Kinetic energy')\n",
    "axs[1].plot(t, EPotential)\n",
    "axs[1].set_ylabel('Potential Energy')\n",
    "axs[2].plot(t, ETotal)\n",
    "axs[2].set_xlabel('Time [yr]')\n",
    "axs[2].set_ylabel('Total Energy')\n",
    "fig.tight_layout()\n",
    "save_fig(\"EarthSunEuler\")\n",
    "plt.show()"
   ]
  },
  {
   "cell_type": "markdown",
   "metadata": {},
   "source": [
    "We see very clearly that Euler's method does not conserve energy!! Try to reduce the time step $\\Delta t$. What do you see?\n",
    "\n",
    "## Adding the Euler-Cromer Method\n",
    "\n",
    "With the Euler-Cromer method, the only thing we need is to update the\n",
    "position at a time $t+1$ with the update velocity from the same\n",
    "time. Thus, the change in the code is extremely simply, and **energy is\n",
    "suddenly conserved**. Note that the error runs like $O(\\Delta t)$ and\n",
    "this is why we see the larger oscillations. But within this\n",
    "oscillating energy envelope, we see that the energies swing between a\n",
    "max and a min value and never exceed these values."
   ]
  },
  {
   "cell_type": "code",
   "execution_count": null,
   "metadata": {},
   "outputs": [],
   "source": [
    "# Common imports\n",
    "import numpy as np\n",
    "import pandas as pd\n",
    "from math import *\n",
    "import matplotlib.pyplot as plt\n",
    "import os\n",
    "\n",
    "# Where to save the figures and data files\n",
    "PROJECT_ROOT_DIR = \"Results\"\n",
    "FIGURE_ID = \"Results/FigureFiles\"\n",
    "DATA_ID = \"DataFiles/\"\n",
    "\n",
    "if not os.path.exists(PROJECT_ROOT_DIR):\n",
    "    os.mkdir(PROJECT_ROOT_DIR)\n",
    "\n",
    "if not os.path.exists(FIGURE_ID):\n",
    "    os.makedirs(FIGURE_ID)\n",
    "\n",
    "if not os.path.exists(DATA_ID):\n",
    "    os.makedirs(DATA_ID)\n",
    "\n",
    "def image_path(fig_id):\n",
    "    return os.path.join(FIGURE_ID, fig_id)\n",
    "\n",
    "def data_path(dat_id):\n",
    "    return os.path.join(DATA_ID, dat_id)\n",
    "\n",
    "def save_fig(fig_id):\n",
    "    plt.savefig(image_path(fig_id) + \".png\", format='png')\n",
    "\n",
    "# Initial values, time step, positions and velocites\n",
    "\n",
    "DeltaT = 0.0001\n",
    "#set up arrays \n",
    "tfinal = 100 # in years\n",
    "n = ceil(tfinal/DeltaT)\n",
    "# set up arrays for t, a, v, and x\n",
    "t = np.zeros(n)\n",
    "v = np.zeros((n,2))\n",
    "r = np.zeros((n,2))\n",
    "\n",
    "# setting up the kinetic, potential and total energy, note only functions of time\n",
    "EKinetic = np.zeros(n)\n",
    "EPotential = np.zeros(n)\n",
    "ETotal = np.zeros(n)\n",
    "\n",
    "# Initial conditions as compact 2-dimensional arrays\n",
    "\n",
    "\n",
    "r0 = np.array([1.0,0.0])\n",
    "v0 = np.array([0.0,2*pi])\n",
    "r[0] = r0\n",
    "v[0] = v0\n",
    "Fourpi2 = 4*pi*pi\n",
    "# Setting up variables for the calculation of energies\n",
    "#  distance that defines rabs in potential energy\n",
    "rabs0 = sqrt(sum(r[0]*r[0]))\n",
    "#  Initial kinetic energy. Note that we skip the mass of the Earth here, that is MassEarth=1 in all codes\n",
    "EKinetic[0] = 0.5*sum(v0*v0)\n",
    "#  Initial potential energy \n",
    "EPotential[0] = -4*pi*pi/rabs0\n",
    "#  Initial total energy \n",
    "ETotal[0] = EPotential[0]+EKinetic[0]\n",
    "# Start integrating using Euler's method\n",
    "for i in range(n-1):\n",
    "    # Set up the acceleration\n",
    "    # Here you could have defined your own function for this\n",
    "    rabs = sqrt(sum(r[i]*r[i]))\n",
    "    a =  -Fourpi2*r[i]/(rabs**3)\n",
    "    # update velocity, time and position using Euler's forward method\n",
    "    v[i+1] = v[i] + DeltaT*a\n",
    "#   Only change when we add the Euler-Cromer method    \n",
    "    r[i+1] = r[i] + DeltaT*v[i+1]\n",
    "    t[i+1] = t[i] + DeltaT\n",
    "    EKinetic[i+1] = 0.5*sum(v[i+1]*v[i+1])\n",
    "    EPotential[i+1] = -4*pi*pi/sqrt(sum(r[i+1]*r[i+1]))\n",
    "    ETotal[i+1] = EPotential[i+1]+EKinetic[i+1]\n",
    "# Plot energies as functions of time    \n",
    "\n",
    "fig, axs = plt.subplots(3, 1)\n",
    "axs[0].plot(t, EKinetic)\n",
    "axs[0].set_xlim(0, tfinal)\n",
    "axs[0].set_ylabel('Kinetic energy')\n",
    "axs[1].plot(t, EPotential)\n",
    "axs[1].set_ylabel('Potential Energy')\n",
    "axs[2].plot(t, ETotal)\n",
    "axs[2].set_xlabel('Time [yr]')\n",
    "axs[2].set_ylabel('Total Energy')\n",
    "fig.tight_layout()\n",
    "save_fig(\"EarthSunEulerCromer\")\n",
    "plt.show()"
   ]
  },
  {
   "cell_type": "markdown",
   "metadata": {},
   "source": [
    "## The velocity Verlet method\n",
    "\n",
    "Our final equations for the position and the velocity become then"
   ]
  },
  {
   "cell_type": "markdown",
   "metadata": {},
   "source": [
    "$$\n",
    "x_{i+1} = x_i+(\\Delta t)v_i+\\frac{(\\Delta t)^2}{2}a_{i}+O((\\Delta t)^3),\n",
    "$$"
   ]
  },
  {
   "cell_type": "markdown",
   "metadata": {},
   "source": [
    "and"
   ]
  },
  {
   "cell_type": "markdown",
   "metadata": {},
   "source": [
    "$$\n",
    "v_{i+1} = v_i+\\frac{(\\Delta t)}{2}\\left(a_{i+1}+a_{i}\\right)+O((\\Delta t)^3).\n",
    "$$"
   ]
  },
  {
   "cell_type": "markdown",
   "metadata": {},
   "source": [
    "Note well that the term $a_{i+1}$ depends on the position at $x_{i+1}$. This means that you need to calculate \n",
    "the position at the updated time $t_{i+1}$ before the computing the next velocity.  Note also that the derivative of the velocity at the time\n",
    "$t_i$ used in the updating of the position can be reused in the calculation of the velocity update as well. \n",
    "\n",
    "\n",
    "## Adding the Velocity-Verlet Method\n",
    "\n",
    "We can now easily add the Verlet method to our original code as"
   ]
  },
  {
   "cell_type": "code",
   "execution_count": null,
   "metadata": {},
   "outputs": [],
   "source": [
    "DeltaT = 0.001\n",
    "#set up arrays \n",
    "tfinal = 100\n",
    "n = ceil(tfinal/DeltaT)\n",
    "# set up arrays for t, a, v, and x\n",
    "t = np.zeros(n)\n",
    "v = np.zeros((n,2))\n",
    "r = np.zeros((n,2))\n",
    "# Initial conditions as compact 2-dimensional arrays\n",
    "r0 = np.array([1.0,0.0])\n",
    "v0 = np.array([0.0,2*pi])\n",
    "r[0] = r0\n",
    "v[0] = v0\n",
    "Fourpi2 = 4*pi*pi\n",
    "\n",
    "# setting up the kinetic, potential and total energy, note only functions of time\n",
    "EKinetic = np.zeros(n)\n",
    "EPotential = np.zeros(n)\n",
    "ETotal = np.zeros(n)\n",
    "\n",
    "# Setting up variables for the calculation of energies\n",
    "#  distance that defines rabs in potential energy\n",
    "rabs0 = sqrt(sum(r[0]*r[0]))\n",
    "#  Initial kinetic energy. Note that we skip the mass of the Earth here, that is MassEarth=1 in all codes\n",
    "EKinetic[0] = 0.5*sum(v0*v0)\n",
    "#  Initial potential energy \n",
    "EPotential[0] = -4*pi*pi/rabs0\n",
    "#  Initial total energy \n",
    "ETotal[0] = EPotential[0]+EKinetic[0]\n",
    "\n",
    "# Start integrating using the Velocity-Verlet  method\n",
    "for i in range(n-1):\n",
    "    # Set up forces, air resistance FD, note now that we need the norm of the vecto\n",
    "    # Here you could have defined your own function for this\n",
    "    rabs = sqrt(sum(r[i]*r[i]))\n",
    "    a =  -Fourpi2*r[i]/(rabs**3)\n",
    "    # update velocity, time and position using the Velocity-Verlet method\n",
    "    r[i+1] = r[i] + DeltaT*v[i]+0.5*(DeltaT**2)*a\n",
    "    rabs = sqrt(sum(r[i+1]*r[i+1]))\n",
    "    anew = -4*(pi**2)*r[i+1]/(rabs**3)\n",
    "    v[i+1] = v[i] + 0.5*DeltaT*(a+anew)\n",
    "    t[i+1] = t[i] + DeltaT\n",
    "    EKinetic[i+1] = 0.5*sum(v[i+1]*v[i+1])\n",
    "    EPotential[i+1] = -4*pi*pi/sqrt(sum(r[i+1]*r[i+1]))\n",
    "    ETotal[i+1] = EPotential[i+1]+EKinetic[i+1]\n",
    "# Plot energies as functions of time    \n",
    "\n",
    "fig, axs = plt.subplots(3, 1)\n",
    "axs[0].plot(t, EKinetic)\n",
    "axs[0].set_xlim(0, tfinal)\n",
    "axs[0].set_ylabel('Kinetic energy')\n",
    "axs[1].plot(t, EPotential)\n",
    "axs[1].set_ylabel('Potential Energy')\n",
    "axs[2].plot(t, ETotal)\n",
    "axs[2].set_xlabel('Time [yr]')\n",
    "axs[2].set_ylabel('Total Energy')\n",
    "fig.tight_layout()\n",
    "save_fig(\"EarthSunVelocityVerlet\")\n",
    "plt.show()"
   ]
  },
  {
   "cell_type": "markdown",
   "metadata": {},
   "source": [
    "And we see that due to the smaller truncation error that energy conservation is improved as a function of time.\n",
    "Try out different time steps $\\Delta t$ and see if the results improve or worsen."
   ]
  }
 ],
 "metadata": {
  "kernelspec": {
   "display_name": "Python 3",
   "language": "python",
   "name": "python3"
  },
  "language_info": {
   "codemirror_mode": {
    "name": "ipython",
    "version": 3
   },
   "file_extension": ".py",
   "mimetype": "text/x-python",
   "name": "python",
   "nbconvert_exporter": "python",
   "pygments_lexer": "ipython3",
   "version": "3.8.5"
  }
 },
 "nbformat": 4,
 "nbformat_minor": 4
}
