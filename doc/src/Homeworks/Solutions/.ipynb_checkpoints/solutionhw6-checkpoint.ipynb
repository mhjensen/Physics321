{
 "cells": [
  {
   "cell_type": "markdown",
   "metadata": {},
   "source": [
    "<!-- dom:TITLE: PHY321: Classical Mechanics 1 -->\n",
    "# PHY321: Classical Mechanics 1\n",
    "<!-- dom:AUTHOR: Solution Homework 6, due Monday  February 24 -->\n",
    "<!-- Author: -->  \n",
    "**Solution Homework 6, due Monday  February 24**\n",
    "\n",
    "Date: **Feb 25, 2021**\n",
    "\n",
    "### Exercise 2 (10 pt), Conservative forces\n",
    "\n",
    "Which of the following force are conservative?  All three forces depend only on $\\boldsymbol{r}$ and satisfy the first condition for being conservative.\n",
    "* 2a (2pt) $\\boldsymbol{F}=k(x\\boldsymbol{i}+2y\\boldsymbol{j}+3z\\boldsymbol{k})$ where $k$ is a constant.\n",
    "\n",
    "The **curl** is zero and the force is conservative.  The potential energy is upon integration $V(x)=-k(1/2x^2+y^2+3/2z^2)$. Taking the derivative shows that this is indeed the case since it gives back the force.\n",
    "* 2b (2pt) $\\boldsymbol{F}=y\\boldsymbol{i}+x\\boldsymbol{j}+0\\boldsymbol{k}$. \n",
    "\n",
    "This force is also conservative since it depends only on the coordinates and its curl is zero. To find the potential energy, since the integral is path independent, we can choose to integrate along any direction. The simplest is start from $x=0$ as origin and follow a path along the $x$-axis (which gives zero) and then parallel to the $y$-axis, which results in $V(x,y) = -xy$. Taking the derivative with respect to $x$ and $y$ gives us back the expression for the force.\n",
    "\n",
    "* 2c (2pt) $\\boldsymbol{F}=k(-y\\boldsymbol{i}+x\\boldsymbol{j}+0\\boldsymbol{k})$ where $k$ is a constant.\n",
    "\n",
    "Here the **curl** is $(0,0,2)$ and the force is not conservative.\n",
    "\n",
    "* 2d (4pt) For those which are conservative, find the corresponding potential energy $V$ and verify that direct differentiation that $\\boldsymbol{F}=-\\boldsymbol{\\nabla} V$.\n",
    "\n",
    "See the answers to each exercise above.\n",
    "\n",
    "### Exercise 3 (10 pt), The Lennard-Jones potential\n",
    "\n",
    "[The Lennard-Jones potential](https://en.wikipedia.org/wiki/Lennard-Jones_potential) is often used to describe\n",
    "the interaction between two atoms or ions or molecules. If you end up doing materals science and molecular dynamics calculations, it is very likely that you will encounter this potential model.\n",
    "The expression for the potential energy is"
   ]
  },
  {
   "cell_type": "markdown",
   "metadata": {},
   "source": [
    "$$\n",
    "V(r) = V_0\\left((\\frac{a}{r})^{12}-(\\frac{b}{r})^{6}\\right),\n",
    "$$"
   ]
  },
  {
   "cell_type": "markdown",
   "metadata": {},
   "source": [
    "where $V_0$, $a$ and $b$ are constants and the potential depends only on the relative distance between two objects\n",
    "$i$ and $j$, that is $r=\\vert\\vert\\boldsymbol{r}_i-\\boldsymbol{r}_j\\vert\\vert=\\sqrt{(x_i-x_j)^2+(y_i-y_j)^2+(z_i-z_j)^2}$.\n",
    "\n",
    "* 3a (3pt) Sketch/plot the potential (choose some values for the constants in doing so).\n",
    "\n",
    "The following Python code plots the potential"
   ]
  },
  {
   "cell_type": "code",
   "execution_count": null,
   "metadata": {},
   "outputs": [],
   "source": [
    "%matplotlib inline\n",
    "\n",
    "# Common imports\n",
    "import numpy as np\n",
    "from math import *\n",
    "import matplotlib.pyplot as plt\n",
    "\n",
    "Deltar = 0.01\n",
    "#set up arrays\n",
    "rinitial = 1.8\n",
    "rfinal = 3.\n",
    "n = ceil((rfinal-rinitial)/Deltar)\n",
    "r = np.zeros(n)\n",
    "for i in range(n):\n",
    "    r[i] = rinitial+i*Deltar\n",
    "V = np.zeros(n)\n",
    "# Initial conditions as compact 2-dimensional arrays\n",
    "a = 2.0\n",
    "b = 2.0\n",
    "V0 = 10.0\n",
    "V = V0*((a/r)**(12)-(b/r)**6)\n",
    "# Plot position as function of time    \n",
    "fig, ax = plt.subplots()\n",
    "#ax.set_xlim(0, tfinal)\n",
    "ax.set_ylabel('r')\n",
    "ax.set_xlabel('V')\n",
    "ax.plot(r, V)\n",
    "fig.tight_layout()\n",
    "plt.show()"
   ]
  },
  {
   "cell_type": "markdown",
   "metadata": {},
   "source": [
    "* 3b (3pt) Find and classify the equilibrium points.\n",
    "\n",
    "Here there is  only one equilibrium point when we take the derivative of the potential with respect to the relative distance.\n",
    "\n",
    "The derivative with respect to $r$, the relative distance, is"
   ]
  },
  {
   "cell_type": "markdown",
   "metadata": {},
   "source": [
    "$$\n",
    "\\frac{dV}{dr} = -6V_0\\left(2\\frac{a^{12}}{r^{13}}-\\frac{b^6}{r^7}\\right),\n",
    "$$"
   ]
  },
  {
   "cell_type": "markdown",
   "metadata": {},
   "source": [
    "and this is zero when"
   ]
  },
  {
   "cell_type": "markdown",
   "metadata": {},
   "source": [
    "$$\n",
    "r = 2^{1/6}\\frac{a^2}{b}.\n",
    "$$"
   ]
  },
  {
   "cell_type": "markdown",
   "metadata": {},
   "source": [
    "If we choose $a=2$ and $b=2$ then $r=2\\times 2^{1/6}$. Since the second derivative is positive for all $r$ for our choices of $a$ and $b$  (convince yourself about  this), then this value of $r$ has to correspond to a minimum of the potential. This agrees with our graph from the figure above (run the code to produce the figure). \n",
    "\n",
    "* 3c (4pt) What is the force acting on one of the objects (an atom for example) from the other object? Is this a conservative force?\n",
    "\n",
    "From the previous exercise we have"
   ]
  },
  {
   "cell_type": "markdown",
   "metadata": {},
   "source": [
    "$$\n",
    "\\frac{dV}{dr} = -6V_0\\left(2\\frac{a^{12}}{r^{13}}-\\frac{b^6}{r^7}\\right).\n",
    "$$"
   ]
  },
  {
   "cell_type": "markdown",
   "metadata": {},
   "source": [
    "We need the gradient and since the force on particle $i$ is given by $\\boldsymbol{F}_i=\\boldsymbol{\\nabla}_i V(\\boldsymbol{r}_i-\\boldsymbol{r}_j)$, we obtain"
   ]
  },
  {
   "cell_type": "markdown",
   "metadata": {},
   "source": [
    "$$\n",
    "\\boldsymbol{F}_i=6V_0\\left(2(\\frac{a}{\\vert\\vert\\boldsymbol{r}_i-\\boldsymbol{r}_j\\vert\\vert})^{12}-(\\frac{b}{\\vert\\vert\\boldsymbol{r}_i-\\boldsymbol{r}_j\\vert\\vert})^6\\right)\\frac{\\boldsymbol{r}_i-\\boldsymbol{r}_j}{\\vert\\vert\\boldsymbol{r}_i-\\boldsymbol{r}_j\\vert\\vert^2}.\n",
    "$$"
   ]
  },
  {
   "cell_type": "markdown",
   "metadata": {},
   "source": [
    "Here $r = \\vert\\vert \\boldsymbol{r}_i-\\boldsymbol{r}_j\\vert \\vert$.\n",
    "If we have more than two particles, we need to sum over all other particles $j$. We have thus to introduce a sum over all particles $N$. \n",
    "The force on particle $i$ at position $\\boldsymbol{r}_i$ from all particles  $j$ at their positions $\\boldsymbol{r}_j$ results in the equation of motion (note that we have divided by the mass $m$ here)"
   ]
  },
  {
   "cell_type": "markdown",
   "metadata": {},
   "source": [
    "$$\n",
    "\\boldsymbol{a}_i=\\frac{d^2\\boldsymbol{r}_i}{dt^2} = \\frac{6V_0}{m} \\sum_{j \\neq i}^{N}\\left(2(\\frac{a}{\\vert\\vert\\boldsymbol{r}_i-\\boldsymbol{r}_j\\vert\\vert})^{12}-(\\frac{b}{\\vert\\vert\\boldsymbol{r}_i-\\boldsymbol{r}_j\\vert\\vert})^6\\right)\\frac{\\boldsymbol{r}_i-\\boldsymbol{r}_j}{\\vert\\vert\\boldsymbol{r}_i-\\boldsymbol{r}_j\\vert\\vert^2}.\n",
    "$$"
   ]
  },
  {
   "cell_type": "markdown",
   "metadata": {},
   "source": [
    "This is also a conservative force, with zero **curl** as well. \n",
    "\n",
    "### Exercise 4 (10 pt), particle in a new potential\n",
    "\n",
    "Relevant reading here is Taylor chapter 5 and the lecture notes on oscilaltions. In particular, you will find useful  sections 5.1, 5.2, 5.4-5.6. They contain all material needed to solve this exercise.\n",
    "\n",
    "Consider a particle of mass $m$ moving in a one-dimensional potential,"
   ]
  },
  {
   "cell_type": "markdown",
   "metadata": {},
   "source": [
    "$$\n",
    "V(x)=-\\alpha\\frac{x^2}{2}+\\beta\\frac{x^4}{4}.\n",
    "$$"
   ]
  },
  {
   "cell_type": "markdown",
   "metadata": {},
   "source": [
    "* 4a (3pt) Plot the potential and discuss eventual equilibrium points. Is this a conservative force?\n",
    "\n",
    "The following Python code gives a plot of potential"
   ]
  },
  {
   "cell_type": "code",
   "execution_count": null,
   "metadata": {},
   "outputs": [],
   "source": [
    "# Common imports\n",
    "import numpy as np\n",
    "from math import *\n",
    "import matplotlib.pyplot as plt\n",
    "\n",
    "Deltax = 0.01\n",
    "#set up arrays\n",
    "xinitial = -2.0\n",
    "xfinal = 2.0 \n",
    "n = ceil((xfinal-xinitial)/Deltax)\n",
    "x = np.zeros(n)\n",
    "for i in range(n):\n",
    "    x[i] = xinitial+i*Deltax\n",
    "V = np.zeros(n)\n",
    "# Initial conditions as compact 2-dimensional arrays\n",
    "alpha = 0.81\n",
    "beta = 0.5\n",
    "print(sqrt(alpha/beta))\n",
    "V = -alpha*x*x*0.5 + beta*(x**4)*0.25\n",
    "# Plot position as function of time    \n",
    "fig, ax = plt.subplots()\n",
    "#ax.set_xlim(0, tfinal)\n",
    "ax.set_ylabel('x[m]')\n",
    "ax.set_xlabel('V[s]')\n",
    "ax.plot(x, V)\n",
    "fig.tight_layout()\n",
    "plt.show()"
   ]
  },
  {
   "cell_type": "markdown",
   "metadata": {},
   "source": [
    "Here we have chosen $\\alpha=0.81$ and $\\beta=0.5$. Taking the derivative of $V$ with respect to $x$ gives two minima (and it is easy to see here that the second derivative is positive) at $x\\pm\\sqrt{\\alpha/\\beta}$ and a maximum at $x=0$. The derivative is"
   ]
  },
  {
   "cell_type": "markdown",
   "metadata": {},
   "source": [
    "$$\n",
    "\\frac{dV}{dx} = -\\alpha x + \\beta x^3,\n",
    "$$"
   ]
  },
  {
   "cell_type": "markdown",
   "metadata": {},
   "source": [
    "which gives when we require that it should equal zero the above values. As we can see from the plot (run the above Python code), we have two so-called stable equilibrium points (where the potential has its minima) and an unstable equilibrium point.\n",
    "\n",
    "The force is conservative since it depends only on $x$ and has a **curl** which is zero.\n",
    "\n",
    "* 4b (3pt) Compute the second derivative of the potential and find its miminum position(s). Using the Taylor expansion of the potential around its minimum (see Taylor section 5.1) to define a spring constant $k$. Use the spring constant to find the natural (angular) frequency $\\omega_0=\\sqrt{k/m}$. We call the new spring constant for  an effective spring constant.\n",
    "\n",
    "In the solution to the previous exercise we listed the values where the derivatives of the potential are zero.\n",
    "Taking the second derivatives we have that"
   ]
  },
  {
   "cell_type": "markdown",
   "metadata": {},
   "source": [
    "$$\n",
    "\\frac{d^2V}{dx^2} = -\\alpha  + 3\\beta x^2,\n",
    "$$"
   ]
  },
  {
   "cell_type": "markdown",
   "metadata": {},
   "source": [
    "and for $\\alpha,\\beta \\le 0$ (we assume they are positive constants) we see that when $x=0$ that the \n",
    "the second derivative is negative, which means this is a maximum. For $x=\\pm\\sqrt{\\alpha/\\beta}$ we see that the second derivative is positive. Thus these points correspond to two minima.\n",
    "\n",
    "Assume now we Taylor expand the potential around one of these minima, say $x_{\\mathrm{min}}=\\sqrt{\\alpha/\\beta}$. We have thus"
   ]
  },
  {
   "cell_type": "markdown",
   "metadata": {},
   "source": [
    "$$\n",
    "V(x) = V(x_{\\mathrm{min}})+(x-x_{\\mathrm{min}})\\frac{dV}{dx}\\vert_{x_{\\mathrm{min}}}+\\frac{1}{2}(x-x_{\\mathrm{min}})^2\\frac{d^2V}{dx^2}\\vert_{x_{\\mathrm{min}}}+\\dots\n",
    "$$"
   ]
  },
  {
   "cell_type": "markdown",
   "metadata": {},
   "source": [
    "Since we are at point where the first derivative is zero and inserting the value for the second derivative of $V$, keeping only terms up to the second derivative and finally taking the derivative with respect to $x$, we find the expression for the force"
   ]
  },
  {
   "cell_type": "markdown",
   "metadata": {},
   "source": [
    "$$\n",
    "F(x) = -(x-x_{\\mathrm{min}})\\frac{d^2V}{dx^2}\\vert_{x_{\\mathrm{min}}},\n",
    "$$"
   ]
  },
  {
   "cell_type": "markdown",
   "metadata": {},
   "source": [
    "and setting in the expression for the second derivative at the minimum we find"
   ]
  },
  {
   "cell_type": "markdown",
   "metadata": {},
   "source": [
    "$$\n",
    "F(x) = -2\\alpha(x-\\sqrt{\\frac{\\alpha}{\\beta}}).\n",
    "$$"
   ]
  },
  {
   "cell_type": "markdown",
   "metadata": {},
   "source": [
    "Thus our effective spring constant $k=2\\alpha$.\n",
    "\n",
    "* 4c (4pt) We ignore the second term in the potential energy and keep only the term proportional to the effective spring constant, that is a force $F\\propto kx$. Find the acceleration and set up the differential equation.  Find the general analytical solution for these harmonic oscillations.  You don't need to find the constants in the general solution.\n",
    "\n",
    "Here we simplify our force by rescaling our zeroth point so that we have a force (setting $x_{\\mathrm{min}}=0$)"
   ]
  },
  {
   "cell_type": "markdown",
   "metadata": {},
   "source": [
    "$$\n",
    "F(x) = -kx,\n",
    "$$"
   ]
  },
  {
   "cell_type": "markdown",
   "metadata": {},
   "source": [
    "with $k=2\\alpha$. Defining a natural frequency $\\omega_0 = \\sqrt{k/m}$, where $m$ is the mass of our particle, we have the following equation of motion"
   ]
  },
  {
   "cell_type": "markdown",
   "metadata": {},
   "source": [
    "$$\n",
    "\\frac{d^2x}{dt^2}=-\\omega_0^2x,\n",
    "$$"
   ]
  },
  {
   "cell_type": "markdown",
   "metadata": {},
   "source": [
    "which has as analytical solution $x(t)=A\\cos{(\\omega_0t)}+B\\sin{(\\omega_0t)}$ and velocity\n",
    "$x(t)=-\\omega_0A\\sin{(\\omega_0t)}+\\omega_0B\\cos{(\\omega_0t)}$. The initial conditions are used to define $A$ and $B$.\n",
    "\n",
    "\n",
    "\n",
    "\n",
    "\n",
    "### Exercise 5 (40pt), Testing Energy conservation\n",
    "\n",
    "* 5a, See Taylor chapter 4.4\n",
    "\n",
    "* 5b, to be added"
   ]
  }
 ],
 "metadata": {
  "kernelspec": {
   "display_name": "Python 3",
   "language": "python",
   "name": "python3"
  },
  "language_info": {
   "codemirror_mode": {
    "name": "ipython",
    "version": 3
   },
   "file_extension": ".py",
   "mimetype": "text/x-python",
   "name": "python",
   "nbconvert_exporter": "python",
   "pygments_lexer": "ipython3",
   "version": "3.8.5"
  }
 },
 "nbformat": 4,
 "nbformat_minor": 4
}
