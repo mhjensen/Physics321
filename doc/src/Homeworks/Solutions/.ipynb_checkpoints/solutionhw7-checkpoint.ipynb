{
 "cells": [
  {
   "cell_type": "markdown",
   "metadata": {},
   "source": [
    "<!-- dom:TITLE: PHY321: Classical Mechanics 1 -->\n",
    "# PHY321: Classical Mechanics 1\n",
    "<!-- dom:AUTHOR: Solution Homework 7, due to March 22 -->\n",
    "<!-- Author: -->  \n",
    "**Solution Homework 7, due to March 22**\n",
    "\n",
    "Date: **Mar 24, 2021**\n",
    "\n",
    "### Introduction to homework 7\n",
    "\n",
    "In this week's homework we will apply our insights about harmonic\n",
    "oscillations and link this with our activity from the lecture on\n",
    "Friday March 12. The relevant material to survey is chapter 5 of Taylor.\n",
    "\n",
    "We have also added an exercise (exercise 2) related to our discussion of two-body problems. \n",
    "The relevant reading background for exercise 2 is sections 8.1-8.2 of Taylor.\n",
    "\n",
    "\n",
    "\n",
    "### Exercise 1 (80 pt), particle/object in a harmonic oscillator  potential\n",
    "\n",
    "In the midterm and in exercise 4 of homework 6, we looked at an\n",
    "object/particle moving in a potential which resulted in harmonic\n",
    "oscillations.  The aim here is to summarize in more detail the\n",
    "material from harmonic oscillations. See also the bonus exercise below\n",
    "here (from the discussions of Friday March 12).\n",
    "\n",
    "\n",
    "Relevant reading here is Taylor chapter 5 and the lecture notes on oscillations. \n",
    "\n",
    "We will consider a particle of mass $m$ moving in a one-dimensional potential,"
   ]
  },
  {
   "cell_type": "markdown",
   "metadata": {},
   "source": [
    "$$\n",
    "V(x)=k\\frac{x^2}{2},\n",
    "$$"
   ]
  },
  {
   "cell_type": "markdown",
   "metadata": {},
   "source": [
    "where $k$ is a parameter.\n",
    "\n",
    "We will limit ourselves to a one-dimensional system. You will need to select values for the initial conditions and the various parameters $k$, $m$, $b$, $\\omega$ and $F_0$ discussed here.\n",
    "\n",
    "* 1a (20pt)  Assume no driving force first and add a drag force $-bv$, where $v$ is the velocity. Find the forces acting on the object. Find the analytical solutions to the equations of motion. Discuss the three cases: **underdamping**, **critical damping** and **overdamping**.\n",
    "\n",
    "The text here is taken from the lecture notes of week 9. We have made this text more extensive than needed. This is done for the sake of completeness.\n",
    "\n",
    "We consider only the case where the damping force is proportional to\n",
    "the velocity. This is counter to dragging friction, where the force is\n",
    "proportional in strength to the normal force and independent of\n",
    "velocity, and is also inconsistent with wind resistance, where the\n",
    "magnitude of the drag force is proportional the square of the\n",
    "velocity. Rolling resistance does seem to be mainly proportional to\n",
    "the velocity. However, the main motivation for considering damping\n",
    "forces proportional to the velocity is that the math is more\n",
    "friendly. This is because the differential equation is linear,\n",
    "i.e. each term is of order $x$, $\\dot{x}$, $\\ddot{x}\\cdots$, or even\n",
    "terms with no mention of $x$, and there are no terms such as $x^2$ or\n",
    "$x\\ddot{x}$. The equations of motion for a spring with damping force\n",
    "$-b\\dot{x}$ are"
   ]
  },
  {
   "cell_type": "markdown",
   "metadata": {},
   "source": [
    "<!-- Equation labels as ordinary links -->\n",
    "<div id=\"_auto1\"></div>\n",
    "\n",
    "$$\n",
    "\\begin{equation}\n",
    "m\\ddot{x}+b\\dot{x}+kx=0.\n",
    "\\label{_auto1} \\tag{1}\n",
    "\\end{equation}\n",
    "$$"
   ]
  },
  {
   "cell_type": "markdown",
   "metadata": {},
   "source": [
    "Just to make the solution a bit less messy, we rewrite this equation as"
   ]
  },
  {
   "cell_type": "markdown",
   "metadata": {},
   "source": [
    "<!-- Equation labels as ordinary links -->\n",
    "<div id=\"eq:dampeddiffyq\"></div>\n",
    "\n",
    "$$\n",
    "\\begin{equation}\n",
    "\\label{eq:dampeddiffyq} \\tag{2}\n",
    "\\ddot{x}+2\\beta\\dot{x}+\\omega_0^2x=0,~~~~\\beta\\equiv b/2m,~\\omega_0\\equiv\\sqrt{k/m}.\n",
    "\\end{equation}\n",
    "$$"
   ]
  },
  {
   "cell_type": "markdown",
   "metadata": {},
   "source": [
    "Both $\\beta$ and $\\omega$ have dimensions of inverse time. To find solutions (see appendix C in the text) you must make an educated guess at the form of the solution. To do this, first realize that the solution will need an arbitrary normalization $A$ because the equation is linear. Secondly, realize that if the form is"
   ]
  },
  {
   "cell_type": "markdown",
   "metadata": {},
   "source": [
    "<!-- Equation labels as ordinary links -->\n",
    "<div id=\"_auto2\"></div>\n",
    "\n",
    "$$\n",
    "\\begin{equation}\n",
    "x=Ae^{rt}\n",
    "\\label{_auto2} \\tag{3}\n",
    "\\end{equation}\n",
    "$$"
   ]
  },
  {
   "cell_type": "markdown",
   "metadata": {},
   "source": [
    "that each derivative simply brings out an extra power of $r$. This\n",
    "means that the $Ae^{rt}$ factors out and one can simply solve for an\n",
    "equation for $r$. Plugging this form into Eq. ([2](#eq:dampeddiffyq)),"
   ]
  },
  {
   "cell_type": "markdown",
   "metadata": {},
   "source": [
    "<!-- Equation labels as ordinary links -->\n",
    "<div id=\"_auto3\"></div>\n",
    "\n",
    "$$\n",
    "\\begin{equation}\n",
    "r^2+2\\beta r+\\omega_0^2=0.\n",
    "\\label{_auto3} \\tag{4}\n",
    "\\end{equation}\n",
    "$$"
   ]
  },
  {
   "cell_type": "markdown",
   "metadata": {},
   "source": [
    "Because this is a quadratic equation there will be two solutions,"
   ]
  },
  {
   "cell_type": "markdown",
   "metadata": {},
   "source": [
    "<!-- Equation labels as ordinary links -->\n",
    "<div id=\"_auto4\"></div>\n",
    "\n",
    "$$\n",
    "\\begin{equation}\n",
    "r=-\\beta\\pm\\sqrt{\\beta^2-\\omega_0^2}.\n",
    "\\label{_auto4} \\tag{5}\n",
    "\\end{equation}\n",
    "$$"
   ]
  },
  {
   "cell_type": "markdown",
   "metadata": {},
   "source": [
    "We refer to the two solutions as $r_1$ and $r_2$ corresponding to the\n",
    "$+$ and $-$ roots. As expected, there should be two arbitrary\n",
    "constants involved in the solution,"
   ]
  },
  {
   "cell_type": "markdown",
   "metadata": {},
   "source": [
    "<!-- Equation labels as ordinary links -->\n",
    "<div id=\"_auto5\"></div>\n",
    "\n",
    "$$\n",
    "\\begin{equation}\n",
    "x=A_1e^{r_1t}+A_2e^{r_2t},\n",
    "\\label{_auto5} \\tag{6}\n",
    "\\end{equation}\n",
    "$$"
   ]
  },
  {
   "cell_type": "markdown",
   "metadata": {},
   "source": [
    "where the coefficients $A_1$ and $A_2$ are determined by initial\n",
    "conditions.\n",
    "\n",
    "The roots listed above, $\\sqrt{\\omega_0^2-\\beta_0^2}$, will be\n",
    "imaginary if the damping is small and $\\beta<\\omega_0$. In that case,\n",
    "$r$ is complex and the factor $\\exp{(rt)}$ will have some oscillatory\n",
    "behavior. If the roots are real, there will only be exponentially\n",
    "decaying solutions. There are three cases:\n",
    "\n",
    "\n",
    "\n",
    "### Underdamped: $\\beta<\\omega_0$"
   ]
  },
  {
   "cell_type": "markdown",
   "metadata": {},
   "source": [
    "$$\n",
    "\\begin{eqnarray}\n",
    "x&=&A_1e^{-\\beta t}e^{i\\omega't}+A_2e^{-\\beta t}e^{-i\\omega't},~~\\omega'\\equiv\\sqrt{\\omega_0^2-\\beta^2}\\\\\n",
    "\\nonumber\n",
    "&=&(A_1+A_2)e^{-\\beta t}\\cos\\omega't+i(A_1-A_2)e^{-\\beta t}\\sin\\omega't.\n",
    "\\end{eqnarray}\n",
    "$$"
   ]
  },
  {
   "cell_type": "markdown",
   "metadata": {},
   "source": [
    "Here we have made use of the identity\n",
    "$e^{i\\omega't}=\\cos\\omega't+i\\sin\\omega't$. Because the constants are\n",
    "arbitrary, and because the real and imaginary parts are both solutions\n",
    "individually, we can simply consider the real part of the solution\n",
    "alone:"
   ]
  },
  {
   "cell_type": "markdown",
   "metadata": {},
   "source": [
    "<!-- Equation labels as ordinary links -->\n",
    "<div id=\"eq:homogsolution\"></div>\n",
    "\n",
    "$$\n",
    "\\begin{eqnarray}\n",
    "\\label{eq:homogsolution} \\tag{7}\n",
    "x&=&B_1e^{-\\beta t}\\cos\\omega't+B_2e^{-\\beta t}\\sin\\omega't,\\\\\n",
    "\\nonumber \n",
    "\\omega'&\\equiv&\\sqrt{\\omega_0^2-\\beta^2}.\n",
    "\\end{eqnarray}\n",
    "$$"
   ]
  },
  {
   "cell_type": "markdown",
   "metadata": {},
   "source": [
    "### Critical dampling: $\\beta=\\omega_0$\n",
    "\n",
    "In this case the two terms involving $r_1$ and $r_2$ are identical\n",
    "because $\\omega'=0$. Because we need to arbitrary constants, there\n",
    "needs to be another solution. This is found by simply guessing, or by\n",
    "taking the limit of $\\omega'\\rightarrow 0$ from the underdamped\n",
    "solution. The solution is then"
   ]
  },
  {
   "cell_type": "markdown",
   "metadata": {},
   "source": [
    "<!-- Equation labels as ordinary links -->\n",
    "<div id=\"eq:criticallydamped\"></div>\n",
    "\n",
    "$$\n",
    "\\begin{equation}\n",
    "\\label{eq:criticallydamped} \\tag{8}\n",
    "x=Ae^{-\\beta t}+Bte^{-\\beta t}.\n",
    "\\end{equation}\n",
    "$$"
   ]
  },
  {
   "cell_type": "markdown",
   "metadata": {},
   "source": [
    "The critically damped solution is interesting because the solution\n",
    "approaches zero quickly, but does not oscillate. For a problem with\n",
    "zero initial velocity, the solution never crosses zero. This is a good\n",
    "choice for designing shock absorbers or swinging doors.\n",
    "\n",
    "\n",
    "### Overdamped: $\\beta>\\omega_0$"
   ]
  },
  {
   "cell_type": "markdown",
   "metadata": {},
   "source": [
    "$$\n",
    "\\begin{eqnarray}\n",
    "x&=&A_1\\exp{-(\\beta+\\sqrt{\\beta^2-\\omega_0^2})t}+A_2\\exp{-(\\beta-\\sqrt{\\beta^2-\\omega_0^2})t}\n",
    "\\end{eqnarray}\n",
    "$$"
   ]
  },
  {
   "cell_type": "markdown",
   "metadata": {},
   "source": [
    "This solution will also never pass the origin more than once, and then\n",
    "only if the initial velocity is strong and initially toward zero.\n",
    "\n",
    "\n",
    "\n",
    "\n",
    "Given $b$, $m$ and $\\omega_0$, find $x(t)$ for a particle whose\n",
    "initial position is $x=0$ and has initial velocity $v_0$ (assuming an\n",
    "underdamped solution).\n",
    "\n",
    "The solution is of the form,"
   ]
  },
  {
   "cell_type": "markdown",
   "metadata": {},
   "source": [
    "$$\n",
    "\\begin{eqnarray*}\n",
    "x&=&e^{-\\beta t}\\left[A_1\\cos(\\omega' t)+A_2\\sin\\omega't\\right],\\\\\n",
    "\\dot{x}&=&-\\beta x+\\omega'e^{-\\beta t}\\left[-A_1\\sin\\omega't+A_2\\cos\\omega't\\right].\\\\\n",
    "\\omega'&\\equiv&\\sqrt{\\omega_0^2-\\beta^2},~~~\\beta\\equiv b/2m.\n",
    "\\end{eqnarray*}\n",
    "$$"
   ]
  },
  {
   "cell_type": "markdown",
   "metadata": {},
   "source": [
    "From the initial conditions, $A_1=0$ because $x(0)=0$ and $\\omega'A_2=v_0$. So"
   ]
  },
  {
   "cell_type": "markdown",
   "metadata": {},
   "source": [
    "$$\n",
    "x=\\frac{v_0}{\\omega'}e^{-\\beta t}\\sin\\omega't.\n",
    "$$"
   ]
  },
  {
   "cell_type": "markdown",
   "metadata": {},
   "source": [
    "* 1b (5pt) Scale your equations of motion in terms of a dimensionless time $\\tau = \\omega_0 t$, where $t$ is time and $\\omega_0^2=k/m$ is the so-called natural frequency. \n",
    "\n",
    "To scale the equations we start again with the full equation"
   ]
  },
  {
   "cell_type": "markdown",
   "metadata": {},
   "source": [
    "<!-- Equation labels as ordinary links -->\n",
    "<div id=\"_auto6\"></div>\n",
    "\n",
    "$$\n",
    "\\begin{equation}\n",
    "m\\ddot{x}+b\\dot{x}+kx=0.\n",
    "\\label{_auto6} \\tag{9}\n",
    "\\end{equation}\n",
    "$$"
   ]
  },
  {
   "cell_type": "markdown",
   "metadata": {},
   "source": [
    "We divide by $m$ and get"
   ]
  },
  {
   "cell_type": "markdown",
   "metadata": {},
   "source": [
    "<!-- Equation labels as ordinary links -->\n",
    "<div id=\"_auto7\"></div>\n",
    "\n",
    "$$\n",
    "\\begin{equation}\n",
    "\\ddot{x}+\\frac{b}{m}\\dot{x}+\\frac{k}{m}x=0.\n",
    "\\label{_auto7} \\tag{10}\n",
    "\\end{equation}\n",
    "$$"
   ]
  },
  {
   "cell_type": "markdown",
   "metadata": {},
   "source": [
    "Defining the natural frequency $\\omega_0^2=k/m$   we introduce a dimensionless time $\\tau = \\omega_0 t$ and replace $t$ with $\\tau$.\n",
    "This leads to us rewriting"
   ]
  },
  {
   "cell_type": "markdown",
   "metadata": {},
   "source": [
    "<!-- Equation labels as ordinary links -->\n",
    "<div id=\"_auto8\"></div>\n",
    "\n",
    "$$\n",
    "\\begin{equation}\n",
    "\\frac{d^2 x}{dt^2}+\\frac{b}{m}\\frac{dx}{dt}+\\frac{k}{m}x=0,\n",
    "\\label{_auto8} \\tag{11}\n",
    "\\end{equation}\n",
    "$$"
   ]
  },
  {
   "cell_type": "markdown",
   "metadata": {},
   "source": [
    "as"
   ]
  },
  {
   "cell_type": "markdown",
   "metadata": {},
   "source": [
    "<!-- Equation labels as ordinary links -->\n",
    "<div id=\"_auto9\"></div>\n",
    "\n",
    "$$\n",
    "\\begin{equation}\n",
    "\\omega_0^2\\frac{d^2 x}{d\\tau^2}+\\frac{\\omega_0b}{m}\\frac{dx}{d\\tau}+\\omega_0^2x=0,\n",
    "\\label{_auto9} \\tag{12}\n",
    "\\end{equation}\n",
    "$$"
   ]
  },
  {
   "cell_type": "markdown",
   "metadata": {},
   "source": [
    "and dividing by $\\omega_0^2$ and defining $\\gamma = b/(2m\\omega_0)$ we have the final scaled equation"
   ]
  },
  {
   "cell_type": "markdown",
   "metadata": {},
   "source": [
    "<!-- Equation labels as ordinary links -->\n",
    "<div id=\"_auto10\"></div>\n",
    "\n",
    "$$\n",
    "\\begin{equation}\n",
    "\\frac{d^2 x}{d\\tau^2}+2\\gamma\\frac{dx}{d\\tau}+x=0.\n",
    "\\label{_auto10} \\tag{13}\n",
    "\\end{equation}\n",
    "$$"
   ]
  },
  {
   "cell_type": "markdown",
   "metadata": {},
   "source": [
    "This equation has dimension length only and time $\\tau$ is dimensionless.  It means also that our solutions become now\n",
    "\n",
    "In this case the variable $r$ becomes"
   ]
  },
  {
   "cell_type": "markdown",
   "metadata": {},
   "source": [
    "<!-- Equation labels as ordinary links -->\n",
    "<div id=\"_auto11\"></div>\n",
    "\n",
    "$$\n",
    "\\begin{equation}\n",
    "r=-\\gamma\\pm\\sqrt{\\gamma^2-1}.\n",
    "\\label{_auto11} \\tag{14}\n",
    "\\end{equation}\n",
    "$$"
   ]
  },
  {
   "cell_type": "markdown",
   "metadata": {},
   "source": [
    "We refer to the two solutions as $r_1$ and $r_2$ corresponding to the\n",
    "$+$ and $-$ roots. As expected, there should be two arbitrary\n",
    "constants involved in the solution,"
   ]
  },
  {
   "cell_type": "markdown",
   "metadata": {},
   "source": [
    "<!-- Equation labels as ordinary links -->\n",
    "<div id=\"_auto12\"></div>\n",
    "\n",
    "$$\n",
    "\\begin{equation}\n",
    "x=A_1e^{r_1\\tau}+A_2e^{r_2\\tau},\n",
    "\\label{_auto12} \\tag{15}\n",
    "\\end{equation}\n",
    "$$"
   ]
  },
  {
   "cell_type": "markdown",
   "metadata": {},
   "source": [
    "where the coefficients $A_1$ and $A_2$ are determined by initial\n",
    "conditions.\n",
    "\n",
    "For the roots listed above, $\\sqrt{\\gamma^2-1}$, will be\n",
    "imaginary if the damping is small and $\\gamma < 1$. In that case,\n",
    "$r$ is complex and the factor $\\exp{(rt)}$ will have some oscillatory\n",
    "behavior. If the roots are real, there will only be exponentially\n",
    "decaying solutions. For $\\gamma =1$, we have what we labeled as critical damping while for $\\gamma > 1$, we have over-critical damping.\n",
    "\n",
    "In the codes below, we have implemented the dimensionless  equations.\n",
    "\n",
    "\n",
    "\n",
    "* 1c (25pt) You can use your codes from either the first midterm or from homeworks 5 and/or 6.  Study numerically the three cases from 1a, that is the underdamped motion, the critically damped one and finally the overdamped one. Compare your numerical results with the analytical ones from 1a. Discuss your results. You can use the Euler-Cromer method, or the Velocity-Verlet method or the Runge-Kutta methods discussed during the lectures, see for example <https://mhjensen.github.io/Physics321/doc/pub/week10/html/week10.html>. Alternatively, you could use the **odeint** solvers included functionality in Python, see <https://docs.scipy.org/doc/scipy/reference/generated/scipy.integrate.odeint.html>. Give a short argument about the numerical algorithm you ended up using.  \n",
    "\n",
    "We have chosen to implement the Runge-Kutta4 method since this has a truncation error in terms of the step size $\\Delta t$ to the power of five. The codes are included after part 1d. \n",
    "\n",
    "\n",
    "\n",
    "* 1d (30pt) We add now a driving force $F=F_0\\cos{(\\omega t}$. Find the particular solution and its analytical solution. Include this force in your code (remember to scale the equations) and compare your numerical results with the analytical results. Discuss your results. How does the system evolve over time with a given frequency $\\omega$ for the driving force?   Is energy conserved? If not, why? \n",
    "\n",
    "To find a particular solution, one first guesses at the form,"
   ]
  },
  {
   "cell_type": "markdown",
   "metadata": {},
   "source": [
    "<!-- Equation labels as ordinary links -->\n",
    "<div id=\"eq:partform\"></div>\n",
    "\n",
    "$$\n",
    "\\begin{equation}\n",
    "\\label{eq:partform} \\tag{16}\n",
    "x_p(t)=D\\cos(\\omega t-\\delta),\n",
    "\\end{equation}\n",
    "$$"
   ]
  },
  {
   "cell_type": "markdown",
   "metadata": {},
   "source": [
    "and rewrite the differential equation as"
   ]
  },
  {
   "cell_type": "markdown",
   "metadata": {},
   "source": [
    "<!-- Equation labels as ordinary links -->\n",
    "<div id=\"_auto13\"></div>\n",
    "\n",
    "$$\n",
    "\\begin{equation}\n",
    "D\\left\\{-\\omega^2\\cos(\\omega t-\\delta)-2\\beta\\omega\\sin(\\omega t-\\delta)+\\omega_0^2\\cos(\\omega t-\\delta)\\right\\}=\\frac{F_0}{m}\\cos(\\omega t).\n",
    "\\label{_auto13} \\tag{17}\n",
    "\\end{equation}\n",
    "$$"
   ]
  },
  {
   "cell_type": "markdown",
   "metadata": {},
   "source": [
    "One can now use angle addition formulas to get"
   ]
  },
  {
   "cell_type": "markdown",
   "metadata": {},
   "source": [
    "$$\n",
    "\\begin{eqnarray}\n",
    "D\\left\\{(-\\omega^2\\cos\\delta+2\\beta\\omega\\sin\\delta+\\omega_0^2\\cos\\delta)\\cos(\\omega t)\\right.&&\\\\\n",
    "\\nonumber\n",
    "\\left.+(-\\omega^2\\sin\\delta-2\\beta\\omega\\cos\\delta+\\omega_0^2\\sin\\delta)\\sin(\\omega t)\\right\\}\n",
    "&=&\\frac{F_0}{m}\\cos(\\omega t).\n",
    "\\end{eqnarray}\n",
    "$$"
   ]
  },
  {
   "cell_type": "markdown",
   "metadata": {},
   "source": [
    "Both the $\\cos$ and $\\sin$ terms need to equate if the expression is to hold at all times. Thus, this becomes two equations"
   ]
  },
  {
   "cell_type": "markdown",
   "metadata": {},
   "source": [
    "$$\n",
    "\\begin{eqnarray}\n",
    "D\\left\\{-\\omega^2\\cos\\delta+2\\beta\\omega\\sin\\delta+\\omega_0^2\\cos\\delta\\right\\}&=&\\frac{F_0}{m}\\\\\n",
    "\\nonumber\n",
    "-\\omega^2\\sin\\delta-2\\beta\\omega\\cos\\delta+\\omega_0^2\\sin\\delta&=&0.\n",
    "\\end{eqnarray}\n",
    "$$"
   ]
  },
  {
   "cell_type": "markdown",
   "metadata": {},
   "source": [
    "After dividing by $\\cos\\delta$, the lower expression leads to"
   ]
  },
  {
   "cell_type": "markdown",
   "metadata": {},
   "source": [
    "<!-- Equation labels as ordinary links -->\n",
    "<div id=\"_auto14\"></div>\n",
    "\n",
    "$$\n",
    "\\begin{equation}\n",
    "\\tan\\delta=\\frac{2\\beta\\omega}{\\omega_0^2-\\omega^2}.\n",
    "\\label{_auto14} \\tag{18}\n",
    "\\end{equation}\n",
    "$$"
   ]
  },
  {
   "cell_type": "markdown",
   "metadata": {},
   "source": [
    "Using the identities $\\tan^2+1=\\csc^2$ and $\\sin^2+\\cos^2=1$, one can also express $\\sin\\delta$ and $\\cos\\delta$,"
   ]
  },
  {
   "cell_type": "markdown",
   "metadata": {},
   "source": [
    "$$\n",
    "\\begin{eqnarray}\n",
    "\\sin\\delta&=&\\frac{2\\beta\\omega}{\\sqrt{(\\omega_0^2-\\omega^2)^2+4\\omega^2\\beta^2}},\\\\\n",
    "\\nonumber\n",
    "\\cos\\delta&=&\\frac{(\\omega_0^2-\\omega^2)}{\\sqrt{(\\omega_0^2-\\omega^2)^2+4\\omega^2\\beta^2}}\n",
    "\\end{eqnarray}\n",
    "$$"
   ]
  },
  {
   "cell_type": "markdown",
   "metadata": {},
   "source": [
    "Inserting the expressions for $\\cos\\delta$ and $\\sin\\delta$ into the expression for $D$,"
   ]
  },
  {
   "cell_type": "markdown",
   "metadata": {},
   "source": [
    "<!-- Equation labels as ordinary links -->\n",
    "<div id=\"eq:Ddrive\"></div>\n",
    "\n",
    "$$\n",
    "\\begin{equation}\n",
    "\\label{eq:Ddrive} \\tag{19}\n",
    "D=\\frac{F_0/m}{\\sqrt{(\\omega_0^2-\\omega^2)^2+4\\omega^2\\beta^2}}.\n",
    "\\end{equation}\n",
    "$$"
   ]
  },
  {
   "cell_type": "markdown",
   "metadata": {},
   "source": [
    "For a given initial condition, e.g. initial displacement and velocity,\n",
    "one must add the homogenous solution then solve for the two arbitrary\n",
    "constants. However, because the homogenous solutions decay with time\n",
    "as $e^{-\\beta t}$, the particular solution is all that remains at\n",
    "large times, and is therefore the steady state solution. Because the\n",
    "arbitrary constants are all in the homogenous solution, all memory of\n",
    "the initial conditions are lost at large times, $t>>1/\\beta$.\n",
    "\n",
    "The amplitude of the motion, $D$, is linearly proportional to the\n",
    "driving force ($F_0/m$), but also depends on the driving frequency\n",
    "$\\omega$. For small $\\beta$ the maximum will occur at\n",
    "$\\omega=\\omega_0$. This is referred to as a resonance. In the limit\n",
    "$\\beta\\rightarrow 0$ the amplitude at resonance approaches infinity.\n",
    "\n",
    "\n",
    "\n",
    "\n",
    "Let us now for simplicty assume that our external force is given by"
   ]
  },
  {
   "cell_type": "markdown",
   "metadata": {},
   "source": [
    "$$\n",
    "F_{\\mathrm{ext}}(t) = F_0\\cos{(\\omega t)},\n",
    "$$"
   ]
  },
  {
   "cell_type": "markdown",
   "metadata": {},
   "source": [
    "where $F_0$ is a constant (what is its dimension?) and $\\omega$ is the frequency of the applied external driving force.\n",
    "**Small question:** would you expect energy to be conserved now?\n",
    "\n",
    "\n",
    "Introducing the external force into our lovely differential equation\n",
    "and dividing by $m$ and introducing $\\omega_0^2=\\sqrt{k/m}$ we have"
   ]
  },
  {
   "cell_type": "markdown",
   "metadata": {},
   "source": [
    "$$\n",
    "\\frac{d^2x}{dt^2} + \\frac{b}{m}\\frac{dx}{dt}+\\omega_0^2x(t) =\\frac{F_0}{m}\\cos{(\\omega t)},\n",
    "$$"
   ]
  },
  {
   "cell_type": "markdown",
   "metadata": {},
   "source": [
    "Thereafter we introduce a dimensionless time $\\tau = t\\omega_0$\n",
    "and a dimensionless frequency $\\tilde{\\omega}=\\omega/\\omega_0$. We have then"
   ]
  },
  {
   "cell_type": "markdown",
   "metadata": {},
   "source": [
    "$$\n",
    "\\frac{d^2x}{d\\tau^2} + \\frac{b}{m\\omega_0}\\frac{dx}{d\\tau}+x(\\tau) =\\frac{F_0}{m\\omega_0^2}\\cos{(\\tilde{\\omega}\\tau)},\n",
    "$$"
   ]
  },
  {
   "cell_type": "markdown",
   "metadata": {},
   "source": [
    "Introducing a new amplitude $\\tilde{F} =F_0/(m\\omega_0^2)$ (check dimensionality again) we have"
   ]
  },
  {
   "cell_type": "markdown",
   "metadata": {},
   "source": [
    "$$\n",
    "\\frac{d^2x}{d\\tau^2} + \\frac{b}{m\\omega_0}\\frac{dx}{d\\tau}+x(\\tau) =\\tilde{F}\\cos{(\\tilde{\\omega}\\tau)}.\n",
    "$$"
   ]
  },
  {
   "cell_type": "markdown",
   "metadata": {},
   "source": [
    "Our final step, as we did in the case of various types of damping, is\n",
    "to define $\\gamma = b/(2m\\omega_0)$ and rewrite our equations as"
   ]
  },
  {
   "cell_type": "markdown",
   "metadata": {},
   "source": [
    "$$\n",
    "\\frac{d^2x}{d\\tau^2} + 2\\gamma\\frac{dx}{d\\tau}+x(\\tau) =\\tilde{F}\\cos{(\\tilde{\\omega}\\tau)}.\n",
    "$$"
   ]
  },
  {
   "cell_type": "markdown",
   "metadata": {},
   "source": [
    "Eenergy is not conserved since we have a time and velocity dependent total net force acting on the system.\n",
    "\n",
    "Note that here the forward Euler method does not know the specific force function to be called.\n",
    "It receives just an input the name. We can easily change the force by adding another function."
   ]
  },
  {
   "cell_type": "code",
   "execution_count": 1,
   "metadata": {},
   "outputs": [],
   "source": [
    "def ForwardEuler(v,x,t,n,Force):\n",
    "    for i in range(n-1):\n",
    "        v[i+1] = v[i] + DeltaT*Force(v[i],x[i],t[i])\n",
    "        x[i+1] = x[i] + DeltaT*v[i]\n",
    "        t[i+1] = t[i] + DeltaT"
   ]
  },
  {
   "cell_type": "code",
   "execution_count": 2,
   "metadata": {},
   "outputs": [],
   "source": [
    "def SpringForce(v,x,t):\n",
    "#   note here that we have divided by mass and we return the acceleration\n",
    "    return  -2*gamma*v-x+Ftilde*cos(t*Omegatilde)"
   ]
  },
  {
   "cell_type": "markdown",
   "metadata": {},
   "source": [
    "It is easy to add a new method like the Euler-Cromer"
   ]
  },
  {
   "cell_type": "code",
   "execution_count": 3,
   "metadata": {},
   "outputs": [],
   "source": [
    "def ForwardEulerCromer(v,x,t,n,Force):\n",
    "    for i in range(n-1):\n",
    "        a = Force(v[i],x[i],t[i])\n",
    "        v[i+1] = v[i] + DeltaT*a\n",
    "        x[i+1] = x[i] + DeltaT*v[i+1]\n",
    "        t[i+1] = t[i] + DeltaT"
   ]
  },
  {
   "cell_type": "markdown",
   "metadata": {},
   "source": [
    "and the Velocity Verlet method (be careful with time-dependence here, it is not an ideal method for non-conservative forces))"
   ]
  },
  {
   "cell_type": "code",
   "execution_count": 4,
   "metadata": {},
   "outputs": [],
   "source": [
    "def VelocityVerlet(v,x,t,n,Force):\n",
    "    for i in range(n-1):\n",
    "        a = Force(v[i],x[i],t[i])\n",
    "        x[i+1] = x[i] + DeltaT*v[i]+0.5*a*DeltaT*DeltaT\n",
    "        anew = Force(v[i],x[i+1],t[i+1])\n",
    "        v[i+1] = v[i] + 0.5*DeltaT*(a+anew)\n",
    "        t[i+1] = t[i] + DeltaT"
   ]
  },
  {
   "cell_type": "markdown",
   "metadata": {},
   "source": [
    "Finally, we can now add the Runge-Kutta2 method via a new function"
   ]
  },
  {
   "cell_type": "code",
   "execution_count": 6,
   "metadata": {},
   "outputs": [
    {
     "ename": "TabError",
     "evalue": "inconsistent use of tabs and spaces in indentation (<ipython-input-6-34091078a258>, line 14)",
     "output_type": "error",
     "traceback": [
      "\u001b[0;36m  File \u001b[0;32m\"<ipython-input-6-34091078a258>\"\u001b[0;36m, line \u001b[0;32m14\u001b[0m\n\u001b[0;31m    t[i+1] = t[i]+DeltaT\u001b[0m\n\u001b[0m                        ^\u001b[0m\n\u001b[0;31mTabError\u001b[0m\u001b[0;31m:\u001b[0m inconsistent use of tabs and spaces in indentation\n"
     ]
    }
   ],
   "source": [
    "def RK2(v,x,t,n,Force):\n",
    "    for i in range(n-1):\n",
    "# Setting up k1\n",
    "        k1x = DeltaT*v[i]\n",
    "        k1v = DeltaT*Force(v[i],x[i],t[i])\n",
    "# Setting up k2\n",
    "        vv = v[i]+k1v*0.5\n",
    "        xx = x[i]+k1x*0.5\n",
    "        k2x = DeltaT*vv\n",
    "        k2v = DeltaT*Force(vv,xx,t[i]+DeltaT*0.5)\n",
    "# Final result\n",
    "        x[i+1] = x[i]+k2x\n",
    "        v[i+1] = v[i]+k2v\n",
    "\t    t[i+1] = t[i]+DeltaT"
   ]
  },
  {
   "cell_type": "markdown",
   "metadata": {},
   "source": [
    "Finally, we can now add the Runge-Kutta2 method via a new function"
   ]
  },
  {
   "cell_type": "code",
   "execution_count": 7,
   "metadata": {},
   "outputs": [],
   "source": [
    "def RK4(v,x,t,n,Force):\n",
    "    for i in range(n-1):\n",
    "# Setting up k1\n",
    "        k1x = DeltaT*v[i]\n",
    "        k1v = DeltaT*Force(v[i],x[i],t[i])\n",
    "# Setting up k2\n",
    "        vv = v[i]+k1v*0.5\n",
    "        xx = x[i]+k1x*0.5\n",
    "        k2x = DeltaT*vv\n",
    "        k2v = DeltaT*Force(vv,xx,t[i]+DeltaT*0.5)\n",
    "# Setting up k3\n",
    "        vv = v[i]+k2v*0.5\n",
    "        xx = x[i]+k2x*0.5\n",
    "        k3x = DeltaT*vv\n",
    "        k3v = DeltaT*Force(vv,xx,t[i]+DeltaT*0.5)\n",
    "# Setting up k4\n",
    "        vv = v[i]+k3v\n",
    "        xx = x[i]+k3x\n",
    "        k4x = DeltaT*vv\n",
    "        k4v = DeltaT*Force(vv,xx,t[i]+DeltaT)\n",
    "# Final result\n",
    "        x[i+1] = x[i]+(k1x+2*k2x+2*k3x+k4x)/6.\n",
    "        v[i+1] = v[i]+(k1v+2*k2v+2*k3v+k4v)/6.\n",
    "        t[i+1] = t[i] + DeltaT"
   ]
  },
  {
   "cell_type": "markdown",
   "metadata": {},
   "source": [
    "The code below uses the Runge-Kutta4 methods."
   ]
  },
  {
   "cell_type": "code",
   "execution_count": 8,
   "metadata": {},
   "outputs": [
    {
     "data": {
      "image/png": "[encoded data removed]",
      "text/plain": [
       "<Figure size 432x288 with 1 Axes>"
      ]
     },
     "metadata": {
      "needs_background": "light"
     },
     "output_type": "display_data"
    }
   ],
   "source": [
    "%matplotlib inline\n",
    "\n",
    "# Common imports\n",
    "import numpy as np\n",
    "import pandas as pd\n",
    "from math import *\n",
    "import matplotlib.pyplot as plt\n",
    "import os\n",
    "\n",
    "# Where to save the figures and data files\n",
    "PROJECT_ROOT_DIR = \"Results\"\n",
    "FIGURE_ID = \"Results/FigureFiles\"\n",
    "DATA_ID = \"DataFiles/\"\n",
    "\n",
    "if not os.path.exists(PROJECT_ROOT_DIR):\n",
    "    os.mkdir(PROJECT_ROOT_DIR)\n",
    "\n",
    "if not os.path.exists(FIGURE_ID):\n",
    "    os.makedirs(FIGURE_ID)\n",
    "\n",
    "if not os.path.exists(DATA_ID):\n",
    "    os.makedirs(DATA_ID)\n",
    "\n",
    "def image_path(fig_id):\n",
    "    return os.path.join(FIGURE_ID, fig_id)\n",
    "\n",
    "def data_path(dat_id):\n",
    "    return os.path.join(DATA_ID, dat_id)\n",
    "\n",
    "def save_fig(fig_id):\n",
    "    plt.savefig(image_path(fig_id) + \".png\", format='png')\n",
    "\n",
    "\n",
    "DeltaT = 0.001\n",
    "#set up arrays \n",
    "tfinal = 20 # in dimensionless time\n",
    "n = ceil(tfinal/DeltaT)\n",
    "# set up arrays for t, v, and x\n",
    "t = np.zeros(n)\n",
    "v = np.zeros(n)\n",
    "x = np.zeros(n)\n",
    "# Initial conditions (can change to more than one dim)\n",
    "x0 =  1.0 \n",
    "v0 = 0.0\n",
    "x[0] = x0\n",
    "v[0] = v0\n",
    "gamma = 0.2\n",
    "Omegatilde = 0.5\n",
    "Ftilde = 1.0\n",
    "# Start integrating using Euler's method\n",
    "# Note that we define the force function as a SpringForce\n",
    "RK4(v,x,t,n,SpringForce)\n",
    "\n",
    "# Plot position as function of time    \n",
    "fig, ax = plt.subplots()\n",
    "ax.set_ylabel('x[m]')\n",
    "ax.set_xlabel('t[s]')\n",
    "ax.plot(t, x)\n",
    "fig.tight_layout()\n",
    "save_fig(\"ForcedBlockRK4\")\n",
    "plt.show()"
   ]
  },
  {
   "cell_type": "markdown",
   "metadata": {},
   "source": [
    "### Exercise 2 (20pt), Center-of-Mass and Relative Coordinates and Reference Frames\n",
    "\n",
    "We define the two-body center-of-mass coordinate and relative coordinate by expressing the trajectories for\n",
    "$\\boldsymbol{r}_1$ and $\\boldsymbol{r}_2$ into the center-of-mass coordinate\n",
    "$\\boldsymbol{R}_{\\rm cm}$"
   ]
  },
  {
   "cell_type": "markdown",
   "metadata": {},
   "source": [
    "$$\n",
    "\\boldsymbol{R}_{\\rm cm}\\equiv\\frac{m_1\\boldsymbol{r}_1+m_2\\boldsymbol{r}_2}{m_1+m_2},\n",
    "$$"
   ]
  },
  {
   "cell_type": "markdown",
   "metadata": {},
   "source": [
    "and the relative coordinate"
   ]
  },
  {
   "cell_type": "markdown",
   "metadata": {},
   "source": [
    "$$\n",
    "\\boldsymbol{r}\\equiv\\boldsymbol{r}_1-\\boldsymbol{r_2}.\n",
    "$$"
   ]
  },
  {
   "cell_type": "markdown",
   "metadata": {},
   "source": [
    "Here, we assume the two particles interact only with one another, so $\\boldsymbol{F}_{12}=-\\boldsymbol{F}_{21}$ (where $\\boldsymbol{F}_{ij}$ is the force on $i$ due to $j$.\n",
    "\n",
    "* 2a (5pt) Show that the equations of motion then become $\\ddot{\\boldsymbol{R}}_{\\rm cm}=0$ and $\\mu\\ddot{\\boldsymbol{r}}=\\boldsymbol{F}_{12}$, with the reduced mass $\\mu=m_1m_2/(m_1+m_2)$.\n",
    "\n",
    "The first expression simply states that the center of mass coordinate $\\boldsymbol{R}_{\\rm cm}$ moves at a fixed velocity. The second expression can be rewritten in terms of the reduced mass $\\mu$.\n",
    "\n",
    "* 2b (5pt) Show that the linear momenta for the center-of-mass $\\boldsymbol{P}$ motion and the relative motion $\\boldsymbol{q}$ are given by $\\boldsymbol{P}=M\\dot{\\boldsymbol{R}}_{\\rm cm}$ with $M=m_1+m_2$ and $\\boldsymbol{q}=\\mu\\dot{\\boldsymbol{r}}$.  The linear momentum of the relative motion is defined $\\boldsymbol{q} = (m_2\\boldsymbol{p}_1-m_1\\boldsymbol{p}_2)/(m_1+m_2)$.\n",
    "\n",
    "* 2c (5pt) Show then that the  kinetic energy for two objects can then be written as"
   ]
  },
  {
   "cell_type": "markdown",
   "metadata": {},
   "source": [
    "$$\n",
    "K=\\frac{P^2}{2M}+\\frac{q^2}{2\\mu}.\n",
    "$$"
   ]
  },
  {
   "cell_type": "markdown",
   "metadata": {},
   "source": [
    "* 2d (5pt) Show that the total angular momentum for two-particles in the center-of-mass frame $\\boldsymbol{R}=0$, is given by"
   ]
  },
  {
   "cell_type": "markdown",
   "metadata": {},
   "source": [
    "$$\n",
    "\\boldsymbol{L}=\\boldsymbol{r}\\times \\mu\\dot{\\boldsymbol{r}}.\n",
    "$$"
   ]
  }
 ],
 "metadata": {
  "kernelspec": {
   "display_name": "Python 3",
   "language": "python",
   "name": "python3"
  },
  "language_info": {
   "codemirror_mode": {
    "name": "ipython",
    "version": 3
   },
   "file_extension": ".py",
   "mimetype": "text/x-python",
   "name": "python",
   "nbconvert_exporter": "python",
   "pygments_lexer": "ipython3",
   "version": "3.8.5"
  }
 },
 "nbformat": 4,
 "nbformat_minor": 4
}
