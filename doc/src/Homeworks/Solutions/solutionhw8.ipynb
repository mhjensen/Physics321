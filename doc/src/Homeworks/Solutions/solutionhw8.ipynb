{
 "cells": [
  {
   "cell_type": "markdown",
   "metadata": {},
   "source": [
    "<!-- dom:TITLE: PHY321: Classical Mechanics 1 -->\n",
    "# PHY321: Classical Mechanics 1\n",
    "<!-- dom:AUTHOR: Solution Homework 8, due Monday  March 29 -->\n",
    "<!-- Author: -->  \n",
    "**Solution Homework 8, due Monday  March 29**\n",
    "\n",
    "Date: **Mar 30, 2021**\n",
    "\n",
    "### Introduction to homework 8\n",
    "\n",
    "This week's sets of classical pen and paper and computational\n",
    "exercises are tailored to the topic of two-body problems and central\n",
    "forces. It follows what was discussed during the lectures during week\n",
    "12 (March 15-19) and week 12 (March 22-26).\n",
    "\n",
    "The relevant reading background is\n",
    "1. Sections 8.1-8.7 of Taylor.\n",
    "\n",
    "2. Lecture notes on two-body problems, central forces and gravity.\n",
    "\n",
    "### Exercise 1 (10pt), Conservation of Energy\n",
    "\n",
    "The equations of motion in the center-of-mass frame in two dimensions with $x=r\\cos{(\\phi)}$ and $y=r\\sin{(\\phi)}$ and\n",
    "$r\\in [0,\\infty)$, $\\phi\\in [0,2\\pi]$ and $r=\\sqrt{x^2+y^2}$ are given by"
   ]
  },
  {
   "cell_type": "markdown",
   "metadata": {},
   "source": [
    "$$\n",
    "\\mu \\ddot{r}=-\\frac{dV(r)}{dr}+\\mu r\\dot{\\phi}^2,\n",
    "$$"
   ]
  },
  {
   "cell_type": "markdown",
   "metadata": {},
   "source": [
    "and"
   ]
  },
  {
   "cell_type": "markdown",
   "metadata": {},
   "source": [
    "$$\n",
    "\\dot{\\phi}=\\frac{L}{\\mu r^2}.\n",
    "$$"
   ]
  },
  {
   "cell_type": "markdown",
   "metadata": {},
   "source": [
    "Here $V(r)$ is any central force which depends only on the relative coordinate.\n",
    "* 1a (5pt) Show that you can rewrite the radial equation in terms of an effective potential $V_{\\mathrm{eff}}(r)=V(r)+L^2/(2\\mu r^2)$. \n",
    "\n",
    "Here we use that"
   ]
  },
  {
   "cell_type": "markdown",
   "metadata": {},
   "source": [
    "$$\n",
    "\\dot{\\phi}=\\frac{L}{\\mu r^2}.\n",
    "$$"
   ]
  },
  {
   "cell_type": "markdown",
   "metadata": {},
   "source": [
    "and rewrite the above equation of motion as"
   ]
  },
  {
   "cell_type": "markdown",
   "metadata": {},
   "source": [
    "$$\n",
    "\\mu \\ddot{r}=-\\frac{dV(r)}{dr}+\\frac{L^2}{\\mu r^3}.\n",
    "$$"
   ]
  },
  {
   "cell_type": "markdown",
   "metadata": {},
   "source": [
    "If we now define an effective potential"
   ]
  },
  {
   "cell_type": "markdown",
   "metadata": {},
   "source": [
    "$$\n",
    "V_{\\mathrm{eff}}=V(r)+\\frac{L^2}{2\\mu r^2},\n",
    "$$"
   ]
  },
  {
   "cell_type": "markdown",
   "metadata": {},
   "source": [
    "we can rewrite our equation of motion in terms of"
   ]
  },
  {
   "cell_type": "markdown",
   "metadata": {},
   "source": [
    "$$\n",
    "\\mu \\ddot{r}=-\\frac{dV_{\\mathrm{eff}}(r)}{dr}=-\\frac{dV(r)}{dr}+\\frac{L^2}{\\mu r^3}.\n",
    "$$"
   ]
  },
  {
   "cell_type": "markdown",
   "metadata": {},
   "source": [
    "The addition due to the angular momentum comes from the kinetic energy\n",
    "when we rewrote it in terms of polar coordinates. It introduces a\n",
    "so-called centrifugal barrier due to the angular momentum. This\n",
    "centrifugal barrier pushes the object farther away from the origin.\n",
    "\n",
    "Alternatively,"
   ]
  },
  {
   "cell_type": "markdown",
   "metadata": {},
   "source": [
    "<!-- Equation labels as ordinary links -->\n",
    "<div id=\"_auto1\"></div>\n",
    "\n",
    "$$\n",
    "\\begin{equation}\n",
    "-\\frac{dV_{\\text{eff}}(r)}{dr} = \\mu \\ddot{r}  =-\\frac{dV(r)}{dr}+\\mu\\dot{\\phi}^2r\n",
    "\\label{_auto1} \\tag{1}\n",
    "\\end{equation}\n",
    "$$"
   ]
  },
  {
   "cell_type": "markdown",
   "metadata": {},
   "source": [
    "<!-- Equation labels as ordinary links -->\n",
    "<div id=\"_auto2\"></div>\n",
    "\n",
    "$$\n",
    "\\begin{equation} \n",
    "-\\frac{dV_{\\text{eff}}(r)}{dr}  = -\\frac{dV(r)}{dr}+\\mu\\left( \\frac{L}{\\mu r^2}\\right) ^2r\n",
    "\\label{_auto2} \\tag{2}\n",
    "\\end{equation}\n",
    "$$"
   ]
  },
  {
   "cell_type": "markdown",
   "metadata": {},
   "source": [
    "<!-- Equation labels as ordinary links -->\n",
    "<div id=\"_auto3\"></div>\n",
    "\n",
    "$$\n",
    "\\begin{equation} \n",
    " = -\\frac{dV(r)}{dr}+\\mu\\frac{L^2}{\\mu}r^{-3}\n",
    "\\label{_auto3} \\tag{3}\n",
    "\\end{equation}\n",
    "$$"
   ]
  },
  {
   "cell_type": "markdown",
   "metadata": {},
   "source": [
    "<!-- Equation labels as ordinary links -->\n",
    "<div id=\"_auto4\"></div>\n",
    "\n",
    "$$\n",
    "\\begin{equation} \n",
    " = -\\frac{d\\left(  V(r)+\\frac{1}{2} \\frac{L^2}{\\mu r^2}\\right) }{dr}.\n",
    "\\label{_auto4} \\tag{4}\n",
    "\\end{equation}\n",
    "$$"
   ]
  },
  {
   "cell_type": "markdown",
   "metadata": {},
   "source": [
    "Integrating we obtain"
   ]
  },
  {
   "cell_type": "markdown",
   "metadata": {},
   "source": [
    "<!-- Equation labels as ordinary links -->\n",
    "<div id=\"_auto5\"></div>\n",
    "\n",
    "$$\n",
    "\\begin{equation}\n",
    "V_{\\text{eff}}(r) = V(r) + \\frac{L^2}{2\\mu r^2} + C\n",
    "\\label{_auto5} \\tag{5}\n",
    "\\end{equation}\n",
    "$$"
   ]
  },
  {
   "cell_type": "markdown",
   "metadata": {},
   "source": [
    "Imposing  the extra condition that $V_{\\text{eff}}(r\\rightarrow \\infty) = V(r\\rightarrow \\infty)$,"
   ]
  },
  {
   "cell_type": "markdown",
   "metadata": {},
   "source": [
    "<!-- Equation labels as ordinary links -->\n",
    "<div id=\"_auto6\"></div>\n",
    "\n",
    "$$\n",
    "\\begin{equation}\n",
    "V_{\\text{eff}}(r) = V(r) + \\frac{L^2}{2\\mu r^2}\n",
    "\\label{_auto6} \\tag{6}\n",
    "\\end{equation}\n",
    "$$"
   ]
  },
  {
   "cell_type": "markdown",
   "metadata": {},
   "source": [
    "* 1b (5pt) Write out the final differential equation for the radial degrees of freedom when we specify that $V(r)=-\\alpha/r$.  Plot the effective potential. You can choose values for $\\alpha$ and $L$ and discuss (see Taylor section 8.4 and example 8.2) the physics of the system for two energies, one larger than zero and one smaller than zero. This is similar to what you did in the first midterm, except that the potential is different.\n",
    "\n",
    "We insert now the explicit potential form $V(r)=-\\alpha/r$. This gives us the following equation of motion"
   ]
  },
  {
   "cell_type": "markdown",
   "metadata": {},
   "source": [
    "$$\n",
    "\\mu \\ddot{r}=-\\frac{dV_{\\mathrm{eff}}(r)}{dr}=-\\frac{d(-\\alpha/r)}{dr}+\\frac{L^2}{\\mu r^3}=-\\frac{\\alpha}{r^2}+\\frac{L^2}{\\mu r^3}.\n",
    "$$"
   ]
  },
  {
   "cell_type": "markdown",
   "metadata": {},
   "source": [
    "The following code plots this effective potential for a simple choice of parameters, with a standard gravitational potential $-\\alpha/r$. Here we have chosen $L=m=\\alpha=1$."
   ]
  },
  {
   "cell_type": "code",
   "execution_count": 8,
   "metadata": {},
   "outputs": [
    {
     "data": {
      "image/png": "[encoded data removed]",
      "text/plain": [
       "<Figure size 432x288 with 1 Axes>"
      ]
     },
     "metadata": {
      "needs_background": "light"
     },
     "output_type": "display_data"
    }
   ],
   "source": [
    "%matplotlib inline\n",
    "\n",
    "# Common imports\n",
    "import numpy as np\n",
    "from math import *\n",
    "import matplotlib.pyplot as plt\n",
    "\n",
    "Deltax = 0.01\n",
    "#set up arrays\n",
    "xinitial = 0.3\n",
    "xfinal = 5.0\n",
    "alpha = 0.2  # spring constant\n",
    "m = 1.0   # mass, you can change these\n",
    "AngMom = 1.0  #  The angular momentum\n",
    "n = ceil((xfinal-xinitial)/Deltax)\n",
    "x = np.zeros(n)\n",
    "for i in range(n):\n",
    "    x[i] = xinitial+i*Deltax\n",
    "V = np.zeros(n)\n",
    "V = -alpha/x**2+0.5*AngMom*AngMom/(m*x*x)\n",
    "# Plot potential\n",
    "fig, ax = plt.subplots()\n",
    "ax.set_xlabel('r[m]')\n",
    "ax.set_ylabel('V[J]')\n",
    "ax.plot(x, V)\n",
    "fig.tight_layout()\n",
    "plt.show()"
   ]
  },
  {
   "cell_type": "markdown",
   "metadata": {},
   "source": [
    "If we select a potential energy below zero (and not necessarily one\n",
    "which corresponds to the minimum point), the object will oscillate\n",
    "between two values of $r$, a value $r_{\\mathrm{min}}$ and a value\n",
    "$r_{\\mathrm{max}}$. We can assume that for example the kinetic energy\n",
    "is zero at these two points. The object will thus oscillate back and\n",
    "forth between these two points. As we will see in connection with the\n",
    "solution of the equations of motion, this case corresponds to\n",
    "elliptical orbits. If we select $r$ equal to the minimum of the\n",
    "potential and use initial conditions for the velocity that correspond\n",
    "to circular motion, the object will have a constant value of $r$ given\n",
    "by the value at the minimum and the orbit is a circle.\n",
    "\n",
    "If we select a potential energy larger than zero, then, since the\n",
    "kinetic energy is always larger or equal to zero, the object will move\n",
    "away from the origin. See also the discussion in Taylor, sections 8.4-8.6.\n",
    "\n",
    "### Exercise 2 (40pt), Harmonic oscillator again\n",
    "\n",
    "Consider a particle of mass $m$ in a $2$-dimensional harmonic oscillator with potential"
   ]
  },
  {
   "cell_type": "markdown",
   "metadata": {},
   "source": [
    "$$\n",
    "V(r)=\\frac{1}{2}kr^2=\\frac{1}{2}k(x^2+y^2).\n",
    "$$"
   ]
  },
  {
   "cell_type": "markdown",
   "metadata": {},
   "source": [
    "We assume the orbit has a final non-zero angular momentum $L$.  The\n",
    "effective potential looks like that of a harmonic oscillator for large\n",
    "$r$, but for small $r$, the centrifugal potential repels the particle\n",
    "from the origin. The combination of the two potentials has a minimum\n",
    "for at some radius $r_{\\rm min}$.\n",
    "\n",
    "\n",
    "* 2a (10pt) Set up the effective potential and plot it. Find $r_{\\rm min}$ and $\\dot{\\phi}$. Show that the latter is given by $\\dot{\\phi}=\\sqrt{k/m}$.  At $r_{\\rm min}$ the particle does not accelerate and $r$ stays constant and the motion is circular. With fixed $k$ and $m$, which parameter can we adjust to change the value of $r$ at $r_{\\rm min}$?\n",
    "\n",
    "We consider the effective potential. The radius of a circular orbit is at the minimum of the potential (where the effective force is zero).\n",
    "The potential is plotted here with the parameters $k=m=1.0$ and $L=1.0$."
   ]
  },
  {
   "cell_type": "code",
   "execution_count": 4,
   "metadata": {},
   "outputs": [
    {
     "data": {
      "image/png": "[encoded data removed]",
      "text/plain": [
       "<Figure size 432x288 with 1 Axes>"
      ]
     },
     "metadata": {
      "needs_background": "light"
     },
     "output_type": "display_data"
    }
   ],
   "source": [
    "# Common imports\n",
    "import numpy as np\n",
    "from math import *\n",
    "import matplotlib.pyplot as plt\n",
    "\n",
    "Deltax = 0.01\n",
    "#set up arrays\n",
    "xinitial = 0.5\n",
    "xfinal = 3.0\n",
    "k = 1.0   # spring constant\n",
    "m = 1.0   # mass, you can change these\n",
    "AngMom = 1.0  #  The angular momentum\n",
    "n = ceil((xfinal-xinitial)/Deltax)\n",
    "x = np.zeros(n)\n",
    "for i in range(n):\n",
    "    x[i] = xinitial+i*Deltax\n",
    "V = np.zeros(n)\n",
    "V = 0.5*k*x*x+0.5*AngMom*AngMom/(m*x*x)\n",
    "# Plot potential\n",
    "fig, ax = plt.subplots()\n",
    "ax.set_xlabel('r[m]')\n",
    "ax.set_ylabel('V[J]')\n",
    "ax.plot(x, V)\n",
    "fig.tight_layout()\n",
    "plt.show()"
   ]
  },
  {
   "cell_type": "markdown",
   "metadata": {},
   "source": [
    "We have an effective potential"
   ]
  },
  {
   "cell_type": "markdown",
   "metadata": {},
   "source": [
    "$$\n",
    "\\begin{eqnarray*}\n",
    "V_{\\rm eff}&=&\\frac{1}{2}kr^2+\\frac{L^2}{2mr^2}\n",
    "\\end{eqnarray*}\n",
    "$$"
   ]
  },
  {
   "cell_type": "markdown",
   "metadata": {},
   "source": [
    "The effective potential looks like that of a harmonic oscillator for\n",
    "large $r$, but for small $r$, the centrifugal potential repels the\n",
    "particle from the origin. The combination of the two potentials has a\n",
    "minimum for at some radius $r_{\\rm min}$."
   ]
  },
  {
   "cell_type": "markdown",
   "metadata": {},
   "source": [
    "$$\n",
    "\\begin{eqnarray*}\n",
    "0&=&kr_{\\rm min}-\\frac{L^2}{mr_{\\rm min}^3},\\\\\n",
    "r_{\\rm min}&=&\\left(\\frac{L^2}{mk}\\right)^{1/4},\\\\\n",
    "\\dot{\\theta}&=&\\frac{L}{mr_{\\rm min}^2}=\\sqrt{k/m}.\n",
    "\\end{eqnarray*}\n",
    "$$"
   ]
  },
  {
   "cell_type": "markdown",
   "metadata": {},
   "source": [
    "For particles at $r_{\\rm min}$ with $\\dot{r}=0$, the particle does not\n",
    "accelerate and $r$ stays constant, i.e. a circular orbit. The radius\n",
    "of the circular orbit can be adjusted by changing the angular momentum\n",
    "$L$.\n",
    "\n",
    "For the above parameters this minimum is at $r_{\\rm min}=1$.\n",
    "\n",
    "\n",
    "\n",
    "* 2b (10pt) Now consider small vibrations about $r_{\\rm min}$. The effective spring constant is the curvature of the effective potential.  Use the curvature at $r_{\\rm min}$ to find the effective spring constant (hint, look at  exercise 4 in homework 6) $k_{\\mathrm{eff}}$. Show also that $\\omega=\\sqrt{k_{\\mathrm{eff}}/m}=2\\dot{\\phi}$"
   ]
  },
  {
   "cell_type": "markdown",
   "metadata": {},
   "source": [
    "$$\n",
    "\\begin{eqnarray*}\n",
    "k_{\\rm eff}&=&\\left.\\frac{d^2}{dr^2}V_{\\rm eff}(r)\\right|_{r=r_{\\rm min}}=k+\\frac{3L^2}{mr_{\\rm min}^4}\\\\\n",
    "&=&4k,\\\\\n",
    "\\omega&=&\\sqrt{k_{\\rm eff}/m}=2\\sqrt{k/m}=2\\dot{\\theta}.\n",
    "\\end{eqnarray*}\n",
    "$$"
   ]
  },
  {
   "cell_type": "markdown",
   "metadata": {},
   "source": [
    "Because the radius oscillates with twice the angular frequency,\n",
    "the orbit has two places where $r$ reaches a minimum in one\n",
    "cycle. This differs from the inverse-square force where there is one\n",
    "minimum in an orbit. One can show that the orbit for the harmonic\n",
    "oscillator is also elliptical, but in this case the center of the\n",
    "potential is at the center of the ellipse, not at one of the foci.\n",
    "\n",
    "\n",
    "\n",
    "\n",
    "* 2c (10pt) The solution to the equations of motion in Cartesian coordinates is simple. The $x$ and $y$ equations of motion separate, and we have $\\ddot{x}=-kx/m$ and $\\ddot{y}=-ky/m$. The harmonic oscillator is indeed a system where the degrees of freedom separate and we can find analytical solutions. Define a natural frequency $\\omega_0=\\sqrt{k/m}$ and show that (where $A$, $B$, $C$ and $D$ are arbitrary constants defined by the initial conditions)"
   ]
  },
  {
   "cell_type": "markdown",
   "metadata": {},
   "source": [
    "$$\n",
    "\\begin{eqnarray*}\n",
    "x&=&A\\cos\\omega_0 t+B\\sin\\omega_0 t,\\\\\n",
    "y&=&C\\cos\\omega_0 t+D\\sin\\omega_0 t.\n",
    "\\end{eqnarray*}\n",
    "$$"
   ]
  },
  {
   "cell_type": "markdown",
   "metadata": {},
   "source": [
    "The solution is also simple to write down exactly in Cartesian coordinates. The $x$ and $y$ equations of motion separate,"
   ]
  },
  {
   "cell_type": "markdown",
   "metadata": {},
   "source": [
    "$$\n",
    "\\begin{eqnarray*}\n",
    "\\ddot{x}&=&-kx,\\\\\n",
    "\\ddot{y}&=&-ky.\n",
    "\\end{eqnarray*}\n",
    "$$"
   ]
  },
  {
   "cell_type": "markdown",
   "metadata": {},
   "source": [
    "We know from our studies of the harmonic oscillator that the general solution can be expressed as"
   ]
  },
  {
   "cell_type": "markdown",
   "metadata": {},
   "source": [
    "$$\n",
    "\\begin{eqnarray*}\n",
    "x&=&A\\cos\\omega_0 t+B\\sin\\omega_0 t,\\\\\n",
    "y&=&C\\cos\\omega_0 t+D\\sin\\omega_0 t.\n",
    "\\end{eqnarray*}\n",
    "$$"
   ]
  },
  {
   "cell_type": "markdown",
   "metadata": {},
   "source": [
    "* 2d (10pt) With the solutions for $x$ and $y$, and $r^2=x^2+y^2$ and the definitions $\\alpha=\\frac{A^2+B^2+C^2+D^2}{2}$, $\\beta=\\frac{A^2-B^2+C^2-D^2}{2}$ and $\\gamma=AB+CD$, show that"
   ]
  },
  {
   "cell_type": "markdown",
   "metadata": {},
   "source": [
    "$$\n",
    "r^2=\\alpha+(\\beta^2+\\gamma^2)^{1/2}\\cos(2\\omega_0 t-\\delta),\n",
    "$$"
   ]
  },
  {
   "cell_type": "markdown",
   "metadata": {},
   "source": [
    "with"
   ]
  },
  {
   "cell_type": "markdown",
   "metadata": {},
   "source": [
    "$$\n",
    "\\delta=\\arctan(\\gamma/\\beta).\n",
    "$$"
   ]
  },
  {
   "cell_type": "markdown",
   "metadata": {},
   "source": [
    "We start with $r^2 & = x^2+y^2$ and square the above analytical solutions and   after some **exciting algebraic manipulations** we arrive at"
   ]
  },
  {
   "cell_type": "markdown",
   "metadata": {},
   "source": [
    "<!-- Equation labels as ordinary links -->\n",
    "<div id=\"_auto7\"></div>\n",
    "\n",
    "$$\n",
    "\\begin{equation}\n",
    "r^2  = x^2+y^2\n",
    "\\label{_auto7} \\tag{7}\n",
    "\\end{equation}\n",
    "$$"
   ]
  },
  {
   "cell_type": "markdown",
   "metadata": {},
   "source": [
    "<!-- Equation labels as ordinary links -->\n",
    "<div id=\"_auto8\"></div>\n",
    "\n",
    "$$\n",
    "\\begin{equation}  \n",
    " = \\left(  A\\cos\\omega_0 t+B\\sin\\omega_0 t\\right) ^2 + \\left(  C\\cos\\omega_0 t+D\\sin\\omega_0 t\\right) ^2\n",
    "\\label{_auto8} \\tag{8}\n",
    "\\end{equation}\n",
    "$$"
   ]
  },
  {
   "cell_type": "markdown",
   "metadata": {},
   "source": [
    "<!-- Equation labels as ordinary links -->\n",
    "<div id=\"_auto9\"></div>\n",
    "\n",
    "$$\n",
    "\\begin{equation}  \n",
    " = A^2\\cos^2\\omega_0 t+B^2\\sin^2\\omega_0 t + 2AB\\sin\\omega_0 t \\cos\\omega_0 t + C^2\\cos^2\\omega_0 t+D^2\\sin^2\\omega_0 t + 2CD\\sin\\omega_0 t \\cos\\omega_0 t\n",
    "\\label{_auto9} \\tag{9}\n",
    "\\end{equation}\n",
    "$$"
   ]
  },
  {
   "cell_type": "markdown",
   "metadata": {},
   "source": [
    "<!-- Equation labels as ordinary links -->\n",
    "<div id=\"_auto10\"></div>\n",
    "\n",
    "$$\n",
    "\\begin{equation} \n",
    " = (A^2+C^2)\\cos^2\\omega_0 t + (B^2+D^2)\\sin^2\\omega_0 t + 2(AC + BD)\\sin\\omega_0 t \\cos\\omega_0 t\n",
    "\\label{_auto10} \\tag{10}\n",
    "\\end{equation}\n",
    "$$"
   ]
  },
  {
   "cell_type": "markdown",
   "metadata": {},
   "source": [
    "<!-- Equation labels as ordinary links -->\n",
    "<div id=\"_auto11\"></div>\n",
    "\n",
    "$$\n",
    "\\begin{equation} \n",
    " = (B^2+D^2) + (A^2+C^2-B^2-D^2)\\cos^2\\omega_0 t + 2(AC + BD)2\\sin2\\omega_0 t\n",
    "\\label{_auto11} \\tag{11}\n",
    "\\end{equation}\n",
    "$$"
   ]
  },
  {
   "cell_type": "markdown",
   "metadata": {},
   "source": [
    "<!-- Equation labels as ordinary links -->\n",
    "<div id=\"_auto12\"></div>\n",
    "\n",
    "$$\n",
    "\\begin{equation} \n",
    " = (B^2+D^2) + (A^2+C^2-B^2-D^2)\\frac{1+\\cos{2\\omega_0 t}}{2} + 2(AC + BD)\\frac{1}{2}\\sin2\\omega_0 t\n",
    "\\label{_auto12} \\tag{12}\n",
    "\\end{equation}\n",
    "$$"
   ]
  },
  {
   "cell_type": "markdown",
   "metadata": {},
   "source": [
    "<!-- Equation labels as ordinary links -->\n",
    "<div id=\"_auto13\"></div>\n",
    "\n",
    "$$\n",
    "\\begin{equation} \n",
    " = \\frac{2B^2+2D^2+A^2+C^2-B^2-D^2}{2} + (A^2+C^2-B^2-D^2)\\frac{\\cos{2\\omega_0 t}}{2} + (AC + BD)\\sin2\\omega_0 t\n",
    "\\label{_auto13} \\tag{13}\n",
    "\\end{equation}\n",
    "$$"
   ]
  },
  {
   "cell_type": "markdown",
   "metadata": {},
   "source": [
    "<!-- Equation labels as ordinary links -->\n",
    "<div id=\"_auto14\"></div>\n",
    "\n",
    "$$\n",
    "\\begin{equation} \n",
    " = \\frac{B^2+D^2+A^2+C^2}{2} + \\frac{A^2+C^2-B^2-D^2}{2}\\cos{2\\omega_0 t} + (AC + BD)\\sin2\\omega_0 t\n",
    "\\label{_auto14} \\tag{14}\n",
    "\\end{equation}\n",
    "$$"
   ]
  },
  {
   "cell_type": "markdown",
   "metadata": {},
   "source": [
    "<!-- Equation labels as ordinary links -->\n",
    "<div id=\"_auto15\"></div>\n",
    "\n",
    "$$\n",
    "\\begin{equation} \n",
    " = \\alpha + \\beta\\cos{2\\omega_0 t} + \\gamma\\sin2\\omega_0 t\n",
    "\\label{_auto15} \\tag{15}\n",
    "\\end{equation}\n",
    "$$"
   ]
  },
  {
   "cell_type": "markdown",
   "metadata": {},
   "source": [
    "<!-- Equation labels as ordinary links -->\n",
    "<div id=\"_auto16\"></div>\n",
    "\n",
    "$$\n",
    "\\begin{equation} \n",
    " = \\alpha + \\sqrt{\\beta^2+\\gamma^2}\\left( \\frac{\\beta}{\\sqrt{\\beta^2+\\gamma^2}}\\cos{2\\omega_0 t} + \\frac{\\gamma}{\\sqrt{\\beta^2+\\gamma^2}}\\sin2\\omega_0 t\\right) \n",
    "\\label{_auto16} \\tag{16}\n",
    "\\end{equation}\n",
    "$$"
   ]
  },
  {
   "cell_type": "markdown",
   "metadata": {},
   "source": [
    "<!-- Equation labels as ordinary links -->\n",
    "<div id=\"_auto17\"></div>\n",
    "\n",
    "$$\n",
    "\\begin{equation} \n",
    " = \\alpha + \\sqrt{\\beta^2+\\gamma^2}\\left( \\cos{\\delta}\\cos{2\\omega_0 t} + \\sin{\\delta}\\sin2\\omega_0 t\\right) \n",
    "\\label{_auto17} \\tag{17}\n",
    "\\end{equation}\n",
    "$$"
   ]
  },
  {
   "cell_type": "markdown",
   "metadata": {},
   "source": [
    "<!-- Equation labels as ordinary links -->\n",
    "<div id=\"_auto18\"></div>\n",
    "\n",
    "$$\n",
    "\\begin{equation} \n",
    " = \\alpha + \\sqrt{\\beta^2+\\gamma^2}\\cos{\\left( 2\\omega_0 t - \\delta\\right) },\n",
    "\\label{_auto18} \\tag{18}\n",
    "\\end{equation}\n",
    "$$"
   ]
  },
  {
   "cell_type": "markdown",
   "metadata": {},
   "source": [
    "which is what we wanted to show.  \n",
    "\n",
    "\n",
    "\n",
    "\n",
    "\n",
    "\n",
    "\n",
    "### Exercise 3 (40pt), Numerical Solution of the Harmonic Oscillator\n",
    "\n",
    "Using the code we developed in homeworks 5 and/or 6 for the Earth-Sun system, we can solve the above harmonic oscillator problem in two dimensions using our code from this homework. We need however to change the acceleration from the gravitational force to the one given by the harmonic oscillator potential.\n",
    "\n",
    "\n",
    "* 3a (20pt) Use for example the  code in the exercise set to set up the acceleration and use the initial conditions fixed by for example $r_{\\rm min}$ from exercise 2. Which value should the initial velocity take if you place yourself at $r_{\\rm min}$ and you require a circular motion? Hint: see the first midterm, part 2. There you used the centripetal acceleration.  \n",
    "\n",
    "Instead of solving the equations in the cartesian frame we will now rewrite the above code in terms of the radial degrees of freedom only. Our differential equation is now"
   ]
  },
  {
   "cell_type": "markdown",
   "metadata": {},
   "source": [
    "$$\n",
    "\\mu \\ddot{r}=-\\frac{dV(r)}{dr}+\\mu\\dot{\\phi}^2,\n",
    "$$"
   ]
  },
  {
   "cell_type": "markdown",
   "metadata": {},
   "source": [
    "and"
   ]
  },
  {
   "cell_type": "markdown",
   "metadata": {},
   "source": [
    "$$\n",
    "\\dot{\\phi}=\\frac{L}{\\mu r^2}.\n",
    "$$"
   ]
  },
  {
   "cell_type": "markdown",
   "metadata": {},
   "source": [
    "* 3b (20pt) We will use $r_{\\rm min}$ to fix a value of $L$, as seen in exercise 2. This fixes also $\\dot{\\phi}$. Write a code which now implements the radial equation for $r$ using the same $r_{\\rm min}$ as you did in 3a. Compare the results with those from 3a with the same initial conditions. Do they agree? Use only one set of initial conditions.\n",
    "\n",
    "The code here finds the solution for $x$ and $y$ using the code we\n",
    "developed in homework 5 and 6 and the midterm.  Note that this code is\n",
    "tailored to run in Cartesian coordinates. There is thus no angular\n",
    "momentum dependent term.\n",
    "\n",
    "Here we have chosen initial conditions that\n",
    "correspond to the minimum of the effective potential\n",
    "$r_{\\mathrm{min}}$. We have chosen $x_0=r_{\\mathrm{min}}$ and\n",
    "$y_0=0$. Similarly, we use the centripetal acceleration to determine\n",
    "the initial velocity so that we have a circular motion (see back to the\n",
    "last question of the midterm). This means that we set the centripetal\n",
    "acceleration $v^2/r$ equal to the force from the harmonic oscillator $-k\\boldsymbol{r}$. Taking the\n",
    "magnitude of $\\boldsymbol{r}$ we have then\n",
    "$v^2/r=k/mr$, which gives $v=\\pm\\omega_0r$. \n",
    "\n",
    "Since the code here solves the equations of motion in cartesian\n",
    "coordinates and the harmonic oscillator potential leads to forces in\n",
    "the $x$- and $y$-directions that are decoupled, we have to select the initial velocities and positions so that we don't get that for example $y(t)=0$.\n",
    "\n",
    "We set $x_0$ to be different from zero and $v_{y0}$ to be different from zero."
   ]
  },
  {
   "cell_type": "code",
   "execution_count": 10,
   "metadata": {},
   "outputs": [
    {
     "data": {
      "image/png": "[encoded data removed]",
      "text/plain": [
       "<Figure size 432x288 with 3 Axes>"
      ]
     },
     "metadata": {
      "needs_background": "light"
     },
     "output_type": "display_data"
    }
   ],
   "source": [
    "\n",
    "# Common imports\n",
    "import numpy as np\n",
    "import pandas as pd\n",
    "from math import *\n",
    "import matplotlib.pyplot as plt\n",
    "import os\n",
    "\n",
    "# Where to save the figures and data files\n",
    "PROJECT_ROOT_DIR = \"Results\"\n",
    "FIGURE_ID = \"Results/FigureFiles\"\n",
    "DATA_ID = \"DataFiles/\"\n",
    "\n",
    "if not os.path.exists(PROJECT_ROOT_DIR):\n",
    "    os.mkdir(PROJECT_ROOT_DIR)\n",
    "\n",
    "if not os.path.exists(FIGURE_ID):\n",
    "    os.makedirs(FIGURE_ID)\n",
    "\n",
    "if not os.path.exists(DATA_ID):\n",
    "    os.makedirs(DATA_ID)\n",
    "\n",
    "def image_path(fig_id):\n",
    "    return os.path.join(FIGURE_ID, fig_id)\n",
    "\n",
    "def data_path(dat_id):\n",
    "    return os.path.join(DATA_ID, dat_id)\n",
    "\n",
    "def save_fig(fig_id):\n",
    "    plt.savefig(image_path(fig_id) + \".png\", format='png')\n",
    "\n",
    "DeltaT = 0.001\n",
    "#set up arrays \n",
    "tfinal = 10.0\n",
    "n = ceil(tfinal/DeltaT)\n",
    "# set up arrays\n",
    "t = np.zeros(n)\n",
    "v = np.zeros((n,2))\n",
    "r = np.zeros((n,2))\n",
    "radius = np.zeros(n)\n",
    "# Constants of the model\n",
    "k = 1.0   # spring constant\n",
    "m = 1.0   # mass, you can change these\n",
    "omega02 = k/m  # Frequency\n",
    "AngMom = 1.0  #  The angular momentum\n",
    "# Potential minimum\n",
    "rmin = (AngMom*AngMom/k/m)**0.25\n",
    "# Initial conditions as compact 2-dimensional arrays, x0=rmin and y0 = 0\n",
    "# r^2 = x^2+y^2.  r0 = rmin  = sqrt(x0^2+y0^2)\n",
    "x0 = rmin; y0= 0.0\n",
    "r0 = np.array([x0,y0])\n",
    "vy0 = sqrt(omega02)*rmin; vx0 = 0.0\n",
    "v0 = np.array([vx0,vy0])\n",
    "r[0] = r0\n",
    "v[0] = v0\n",
    "# Start integrating using the Velocity-Verlet  method\n",
    "for i in range(n-1):\n",
    "    # Set up the acceleration\n",
    "    a =  -r[i]*omega02  \n",
    "    # update velocity, time and position using the Velocity-Verlet method\n",
    "    r[i+1] = r[i] + DeltaT*v[i]+0.5*(DeltaT**2)*a\n",
    "    anew = -r[i+1]*omega02  \n",
    "    v[i+1] = v[i] + 0.5*DeltaT*(a+anew)\n",
    "    t[i+1] = t[i] + DeltaT\n",
    "# Plot position as function of time\n",
    "radius = np.sqrt(r[:,0]**2+r[:,1]**2)\n",
    "fig, ax = plt.subplots(3,1)\n",
    "ax[0].set_xlabel('time')\n",
    "ax[0].set_ylabel('radius squared')\n",
    "ax[0].plot(t,r[:,0]**2+r[:,1]**2)\n",
    "ax[1].set_xlabel('time')\n",
    "ax[1].set_ylabel('x position')\n",
    "ax[1].plot(t,r[:,0])\n",
    "ax[2].set_xlabel('time')\n",
    "ax[2].set_ylabel('y position')\n",
    "ax[2].plot(r[:,0],r[:,1])\n",
    "\n",
    "fig.tight_layout()\n",
    "save_fig(\"2DimHOVV\")\n",
    "plt.show()"
   ]
  },
  {
   "cell_type": "markdown",
   "metadata": {},
   "source": [
    "We see that the radius (to within a given error), we obtain a constant radius.\n",
    "\n",
    "\n",
    "The following code shows first how we can solve this problem using the radial degrees of freedom only.\n",
    "Here we need to add the explicit centrifugal barrier.  Note that the variable $r$ depends only on time. There is no $x$ and $y$ directions\n",
    "since we have transformed the equations to polar coordinates."
   ]
  },
  {
   "cell_type": "code",
   "execution_count": 39,
   "metadata": {},
   "outputs": [
    {
     "data": {
      "image/png": "[encoded data removed]",
      "text/plain": [
       "<Figure size 432x288 with 1 Axes>"
      ]
     },
     "metadata": {
      "needs_background": "light"
     },
     "output_type": "display_data"
    }
   ],
   "source": [
    "DeltaT = 0.00001\n",
    "#set up arrays \n",
    "tfinal = 5.0\n",
    "n = ceil(tfinal/DeltaT)\n",
    "# set up arrays for t, v and r\n",
    "t = np.zeros(n)\n",
    "v = np.zeros(n)\n",
    "r = np.zeros(n)\n",
    "E = np.zeros(n)\n",
    "# Constants of the model\n",
    "AngMom = 1.0  #  The angular momentum\n",
    "m = 1.0\n",
    "k = 1.0\n",
    "omega02 = k/m\n",
    "alpha = 5\n",
    "c1 = AngMom*AngMom/(m*m)\n",
    "c2 = AngMom*AngMom/m\n",
    "rmin = 1.0# (AngMom*AngMom/k/m)**0.25\n",
    "# Initial conditions\n",
    "r0 = rmin\n",
    "v0 = 0.0\n",
    "r[0] = r0\n",
    "v[0] = v0\n",
    "E[0] = 0.5*m*v0*v0-0.5*alpha/(r0**2)+0.5*c2/(r0*r0)\n",
    "# Start integrating using the Velocity-Verlet  method\n",
    "for i in range(n-1):\n",
    "    # Set up acceleration\n",
    "    a = -alpha/(r[i]**3)+c1/(r[i]**3)    \n",
    "    # update velocity, time and position using the Velocity-Verlet method\n",
    "    r[i+1] = r[i] + DeltaT*v[i]+0.5*(DeltaT**2)*a\n",
    "    anew = -alpha/(r[i+1]**3)+c1/(r[i+1]**3)\n",
    "    v[i+1] = v[i] + 0.5*DeltaT*(a+anew)\n",
    "    t[i+1] = t[i] + DeltaT\n",
    "    E[i+1] = 0.5*m*v[i+1]*v[i+1]-0.5*alpha/(r[i+1]**2)+0.5*c2/(r[i+1]*r[i+1])\n",
    "    # Plot position as function of time\n",
    "#fig, ax = plt.subplots(2,1)\n",
    "#ax[0].set_xlabel('time')\n",
    "#ax[0].set_ylabel('radius')\n",
    "#ax[0].plot(t,r)\n",
    "#plt.set_xlabel('time')\n",
    "#plt.set_ylabel('Energy')\n",
    "plt.plot(t,E)\n",
    "save_fig(\"RadialHOVV\")\n",
    "plt.show()"
   ]
  },
  {
   "cell_type": "markdown",
   "metadata": {},
   "source": [
    "### Exercise 4, equations for an ellipse (10pt)\n",
    "\n",
    "Consider an ellipse defined by the sum of the distances from the two foci being $2D$, which expressed in a Cartesian coordinates with the middle of the ellipse being at the origin becomes"
   ]
  },
  {
   "cell_type": "markdown",
   "metadata": {},
   "source": [
    "$$\n",
    "\\sqrt{(x-a)^2+y^2}+\\sqrt{(x+a)^2+y^2}=2D.\n",
    "$$"
   ]
  },
  {
   "cell_type": "markdown",
   "metadata": {},
   "source": [
    "Here the two foci are at $(a,0)$ and $(-a,0)$. Show that this form is can be written as"
   ]
  },
  {
   "cell_type": "markdown",
   "metadata": {},
   "source": [
    "$$\n",
    "\\frac{x^2}{D^2}+\\frac{y^2}{D^2-a^2}=1.\n",
    "$$"
   ]
  },
  {
   "cell_type": "markdown",
   "metadata": {},
   "source": [
    "We start by squaring the two sides and, again,  after some **exciting algebraic manipulations** we arrive at"
   ]
  },
  {
   "cell_type": "markdown",
   "metadata": {},
   "source": [
    "$$\n",
    "\\sqrt{(x-a)^2+y^2}+\\sqrt{(x+a)^2+y^2} =2D\n",
    "\\\\ (x-a)^2 + y^2 + (x+a)^2 + y^2 + 2\\sqrt{(x-a)^2 + y^2}\\sqrt{(x+a)^2+y^2}  = 4D^2\n",
    "\\\\ 2y^2 + 2x^2 + 2a^2 + 2\\sqrt{(x-a)^2(x+a)^2 + y^4 + y^2[(x-a)^2+(x+a)^2]}  = 4D^2\n",
    "\\\\ y^2 + x^2 + a^2 + \\sqrt{(x^2-a^2)^2 + y^4 + y^2(2x^2+2a^2)}  = 2D^2\n",
    "\\\\ \\sqrt{(x^2-a^2)^2 + y^4 + y^2(2x^2+2a^2)}  = 2D^2 -( y^2 + x^2 + a^2 )\n",
    "\\\\ (x^2-a^2)^2 + y^4 + y^2(2x^2+2a^2)  = 4D^4 + y^4 + x^4 + a^4 - 4D^2( y^2 + x^2 + a^2 ) + 2(y^2x^2+y^2a^2+x^2a^2)\n",
    "\\\\ x^4-2x^2a^2+a^4 + y^4 + 2y^2x^2+2y^2a^2  = 4D^4 + y^4 + x^4 + a^4 - 4D^2y^2 -4D^2 x^2 -4D^2 a^2 + 2y^2x^2+2y^2a^2+2x^2a^2\n",
    "\\\\ 4D^4 - 4D^2y^2 -4D^2 x^2 -4D^2 a^2 +4x^2a^2 = 0\n",
    "\\\\ D^4 - D^2y^2 -D^2 x^2 -D^2 a^2 +x^2a^2 = 0\n",
    "\\\\ D^2(D^2-a^2) - x^2(D^2-a^2) = D^2y^2\n",
    "\\\\ D^2 - x^2 = \\frac{D^2y^2}{D^2-a^2}\n",
    "\\\\ 1 - \\frac{x^2}{D^2} = \\frac{y^2}{D^2-a^2}\n",
    "\\\\ \\frac{x^2}{D^2} + \\frac{y^2}{D^2-a^2} = 1,\n",
    "$$"
   ]
  },
  {
   "cell_type": "markdown",
   "metadata": {},
   "source": [
    "where the last line is indeed the equation for an ellipse."
   ]
  }
 ],
 "metadata": {
  "kernelspec": {
   "display_name": "Python 3",
   "language": "python",
   "name": "python3"
  },
  "language_info": {
   "codemirror_mode": {
    "name": "ipython",
    "version": 3
   },
   "file_extension": ".py",
   "mimetype": "text/x-python",
   "name": "python",
   "nbconvert_exporter": "python",
   "pygments_lexer": "ipython3",
   "version": "3.8.5"
  }
 },
 "nbformat": 4,
 "nbformat_minor": 4
}
